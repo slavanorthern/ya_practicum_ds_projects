{
 "cells": [
  {
   "cell_type": "markdown",
   "metadata": {},
   "source": [
    "# Определение стоимости автомобилей"
   ]
  },
  {
   "cell_type": "markdown",
   "metadata": {},
   "source": [
    "Сервис по продаже автомобилей с пробегом «Не бит, не крашен» разрабатывает приложение для привлечения новых клиентов. В нём можно быстро узнать рыночную стоимость своего автомобиля. В вашем распоряжении исторические данные: технические характеристики, комплектации и цены автомобилей. Вам нужно построить модель для определения стоимости. \n",
    "\n",
    "Заказчику важны:\n",
    "\n",
    "- качество предсказания;\n",
    "- скорость предсказания;\n",
    "- время обучения."
   ]
  },
  {
   "cell_type": "markdown",
   "metadata": {},
   "source": [
    "Признаки:\n",
    "\n",
    "1. DateCrawled — дата скачивания анкеты из базы\n",
    "2. VehicleType — тип автомобильного кузова\n",
    "3. RegistrationYear — год регистрации автомобиля\n",
    "4. Gearbox — тип коробки передач\n",
    "5. Power — мощность (л. с.)\n",
    "6. Model — модель автомобиля\n",
    "7. Kilometer — пробег (км)\n",
    "8. RegistrationMonth — месяц регистрации автомобиля\n",
    "9. FuelType — тип топлива\n",
    "10. Brand — марка автомобиля\n",
    "11. Repaired — была машина в ремонте или нет\n",
    "12. DateCreated — дата создания анкеты\n",
    "13. NumberOfPictures — количество фотографий автомобиля\n",
    "14. PostalCode — почтовый индекс владельца анкеты (пользователя)\n",
    "15. LastSeen — дата последней активности пользователя\n",
    "\n",
    "Целевой признак:\n",
    "\n",
    "Price — цена (евро)\n"
   ]
  },
  {
   "cell_type": "markdown",
   "metadata": {},
   "source": [
    "## Подготовка данных"
   ]
  },
  {
   "cell_type": "markdown",
   "metadata": {},
   "source": [
    "Импортируем необходимые библиотеки, модели, метрики:"
   ]
  },
  {
   "cell_type": "code",
   "execution_count": 1,
   "metadata": {},
   "outputs": [],
   "source": [
    "import pandas as pd\n",
    "import numpy as np\n",
    "import matplotlib.pyplot as plt\n",
    "import seaborn as sns\n",
    "import re\n",
    "\n",
    "\n",
    "from sklearn.model_selection import train_test_split, cross_val_score\n",
    "from sklearn.metrics import mean_squared_error\n",
    "from sklearn.preprocessing import LabelEncoder, StandardScaler, OrdinalEncoder\n",
    "\n",
    "from sklearn.linear_model import LinearRegression\n",
    "from sklearn.tree import DecisionTreeRegressor\n",
    "from catboost import CatBoostRegressor\n",
    "import lightgbm as lgb\n",
    "from lightgbm import LGBMRegressor\n",
    "\n",
    "\n",
    "from sklearn import preprocessing\n",
    "from sklearn.model_selection import RandomizedSearchCV\n",
    "\n",
    "import time\n",
    "\n",
    "import warnings\n",
    "warnings.filterwarnings(\"ignore\")"
   ]
  },
  {
   "cell_type": "markdown",
   "metadata": {},
   "source": [
    "**Рассмотрим данные:**"
   ]
  },
  {
   "cell_type": "code",
   "execution_count": 2,
   "metadata": {},
   "outputs": [],
   "source": [
    "data = pd.read_csv('/datasets/autos.csv')\n",
    "original_data = data.copy()"
   ]
  },
  {
   "cell_type": "code",
   "execution_count": 3,
   "metadata": {},
   "outputs": [
    {
     "name": "stdout",
     "output_type": "stream",
     "text": [
      "<class 'pandas.core.frame.DataFrame'>\n",
      "RangeIndex: 354369 entries, 0 to 354368\n",
      "Data columns (total 16 columns):\n",
      " #   Column             Non-Null Count   Dtype \n",
      "---  ------             --------------   ----- \n",
      " 0   DateCrawled        354369 non-null  object\n",
      " 1   Price              354369 non-null  int64 \n",
      " 2   VehicleType        316879 non-null  object\n",
      " 3   RegistrationYear   354369 non-null  int64 \n",
      " 4   Gearbox            334536 non-null  object\n",
      " 5   Power              354369 non-null  int64 \n",
      " 6   Model              334664 non-null  object\n",
      " 7   Kilometer          354369 non-null  int64 \n",
      " 8   RegistrationMonth  354369 non-null  int64 \n",
      " 9   FuelType           321474 non-null  object\n",
      " 10  Brand              354369 non-null  object\n",
      " 11  Repaired           283215 non-null  object\n",
      " 12  DateCreated        354369 non-null  object\n",
      " 13  NumberOfPictures   354369 non-null  int64 \n",
      " 14  PostalCode         354369 non-null  int64 \n",
      " 15  LastSeen           354369 non-null  object\n",
      "dtypes: int64(7), object(9)\n",
      "memory usage: 43.3+ MB\n"
     ]
    }
   ],
   "source": [
    "data.info()"
   ]
  },
  {
   "cell_type": "code",
   "execution_count": 4,
   "metadata": {},
   "outputs": [
    {
     "data": {
      "text/html": [
       "<div>\n",
       "<style scoped>\n",
       "    .dataframe tbody tr th:only-of-type {\n",
       "        vertical-align: middle;\n",
       "    }\n",
       "\n",
       "    .dataframe tbody tr th {\n",
       "        vertical-align: top;\n",
       "    }\n",
       "\n",
       "    .dataframe thead th {\n",
       "        text-align: right;\n",
       "    }\n",
       "</style>\n",
       "<table border=\"1\" class=\"dataframe\">\n",
       "  <thead>\n",
       "    <tr style=\"text-align: right;\">\n",
       "      <th></th>\n",
       "      <th>DateCrawled</th>\n",
       "      <th>Price</th>\n",
       "      <th>VehicleType</th>\n",
       "      <th>RegistrationYear</th>\n",
       "      <th>Gearbox</th>\n",
       "      <th>Power</th>\n",
       "      <th>Model</th>\n",
       "      <th>Kilometer</th>\n",
       "      <th>RegistrationMonth</th>\n",
       "      <th>FuelType</th>\n",
       "      <th>Brand</th>\n",
       "      <th>Repaired</th>\n",
       "      <th>DateCreated</th>\n",
       "      <th>NumberOfPictures</th>\n",
       "      <th>PostalCode</th>\n",
       "      <th>LastSeen</th>\n",
       "    </tr>\n",
       "  </thead>\n",
       "  <tbody>\n",
       "    <tr>\n",
       "      <th>0</th>\n",
       "      <td>2016-03-24 11:52:17</td>\n",
       "      <td>480</td>\n",
       "      <td>NaN</td>\n",
       "      <td>1993</td>\n",
       "      <td>manual</td>\n",
       "      <td>0</td>\n",
       "      <td>golf</td>\n",
       "      <td>150000</td>\n",
       "      <td>0</td>\n",
       "      <td>petrol</td>\n",
       "      <td>volkswagen</td>\n",
       "      <td>NaN</td>\n",
       "      <td>2016-03-24 00:00:00</td>\n",
       "      <td>0</td>\n",
       "      <td>70435</td>\n",
       "      <td>2016-04-07 03:16:57</td>\n",
       "    </tr>\n",
       "    <tr>\n",
       "      <th>1</th>\n",
       "      <td>2016-03-24 10:58:45</td>\n",
       "      <td>18300</td>\n",
       "      <td>coupe</td>\n",
       "      <td>2011</td>\n",
       "      <td>manual</td>\n",
       "      <td>190</td>\n",
       "      <td>NaN</td>\n",
       "      <td>125000</td>\n",
       "      <td>5</td>\n",
       "      <td>gasoline</td>\n",
       "      <td>audi</td>\n",
       "      <td>yes</td>\n",
       "      <td>2016-03-24 00:00:00</td>\n",
       "      <td>0</td>\n",
       "      <td>66954</td>\n",
       "      <td>2016-04-07 01:46:50</td>\n",
       "    </tr>\n",
       "    <tr>\n",
       "      <th>2</th>\n",
       "      <td>2016-03-14 12:52:21</td>\n",
       "      <td>9800</td>\n",
       "      <td>suv</td>\n",
       "      <td>2004</td>\n",
       "      <td>auto</td>\n",
       "      <td>163</td>\n",
       "      <td>grand</td>\n",
       "      <td>125000</td>\n",
       "      <td>8</td>\n",
       "      <td>gasoline</td>\n",
       "      <td>jeep</td>\n",
       "      <td>NaN</td>\n",
       "      <td>2016-03-14 00:00:00</td>\n",
       "      <td>0</td>\n",
       "      <td>90480</td>\n",
       "      <td>2016-04-05 12:47:46</td>\n",
       "    </tr>\n",
       "    <tr>\n",
       "      <th>3</th>\n",
       "      <td>2016-03-17 16:54:04</td>\n",
       "      <td>1500</td>\n",
       "      <td>small</td>\n",
       "      <td>2001</td>\n",
       "      <td>manual</td>\n",
       "      <td>75</td>\n",
       "      <td>golf</td>\n",
       "      <td>150000</td>\n",
       "      <td>6</td>\n",
       "      <td>petrol</td>\n",
       "      <td>volkswagen</td>\n",
       "      <td>no</td>\n",
       "      <td>2016-03-17 00:00:00</td>\n",
       "      <td>0</td>\n",
       "      <td>91074</td>\n",
       "      <td>2016-03-17 17:40:17</td>\n",
       "    </tr>\n",
       "    <tr>\n",
       "      <th>4</th>\n",
       "      <td>2016-03-31 17:25:20</td>\n",
       "      <td>3600</td>\n",
       "      <td>small</td>\n",
       "      <td>2008</td>\n",
       "      <td>manual</td>\n",
       "      <td>69</td>\n",
       "      <td>fabia</td>\n",
       "      <td>90000</td>\n",
       "      <td>7</td>\n",
       "      <td>gasoline</td>\n",
       "      <td>skoda</td>\n",
       "      <td>no</td>\n",
       "      <td>2016-03-31 00:00:00</td>\n",
       "      <td>0</td>\n",
       "      <td>60437</td>\n",
       "      <td>2016-04-06 10:17:21</td>\n",
       "    </tr>\n",
       "  </tbody>\n",
       "</table>\n",
       "</div>"
      ],
      "text/plain": [
       "           DateCrawled  Price VehicleType  RegistrationYear Gearbox  Power  \\\n",
       "0  2016-03-24 11:52:17    480         NaN              1993  manual      0   \n",
       "1  2016-03-24 10:58:45  18300       coupe              2011  manual    190   \n",
       "2  2016-03-14 12:52:21   9800         suv              2004    auto    163   \n",
       "3  2016-03-17 16:54:04   1500       small              2001  manual     75   \n",
       "4  2016-03-31 17:25:20   3600       small              2008  manual     69   \n",
       "\n",
       "   Model  Kilometer  RegistrationMonth  FuelType       Brand Repaired  \\\n",
       "0   golf     150000                  0    petrol  volkswagen      NaN   \n",
       "1    NaN     125000                  5  gasoline        audi      yes   \n",
       "2  grand     125000                  8  gasoline        jeep      NaN   \n",
       "3   golf     150000                  6    petrol  volkswagen       no   \n",
       "4  fabia      90000                  7  gasoline       skoda       no   \n",
       "\n",
       "           DateCreated  NumberOfPictures  PostalCode             LastSeen  \n",
       "0  2016-03-24 00:00:00                 0       70435  2016-04-07 03:16:57  \n",
       "1  2016-03-24 00:00:00                 0       66954  2016-04-07 01:46:50  \n",
       "2  2016-03-14 00:00:00                 0       90480  2016-04-05 12:47:46  \n",
       "3  2016-03-17 00:00:00                 0       91074  2016-03-17 17:40:17  \n",
       "4  2016-03-31 00:00:00                 0       60437  2016-04-06 10:17:21  "
      ]
     },
     "execution_count": 4,
     "metadata": {},
     "output_type": "execute_result"
    }
   ],
   "source": [
    "data.head()"
   ]
  },
  {
   "cell_type": "markdown",
   "metadata": {},
   "source": [
    "Дубликаты и пропуски:"
   ]
  },
  {
   "cell_type": "code",
   "execution_count": 5,
   "metadata": {},
   "outputs": [
    {
     "data": {
      "text/plain": [
       "4"
      ]
     },
     "execution_count": 5,
     "metadata": {},
     "output_type": "execute_result"
    }
   ],
   "source": [
    "data.duplicated().sum()"
   ]
  },
  {
   "cell_type": "code",
   "execution_count": 6,
   "metadata": {},
   "outputs": [
    {
     "data": {
      "text/plain": [
       "DateCrawled              0\n",
       "Price                    0\n",
       "VehicleType          37490\n",
       "RegistrationYear         0\n",
       "Gearbox              19833\n",
       "Power                    0\n",
       "Model                19705\n",
       "Kilometer                0\n",
       "RegistrationMonth        0\n",
       "FuelType             32895\n",
       "Brand                    0\n",
       "Repaired             71154\n",
       "DateCreated              0\n",
       "NumberOfPictures         0\n",
       "PostalCode               0\n",
       "LastSeen                 0\n",
       "dtype: int64"
      ]
     },
     "execution_count": 6,
     "metadata": {},
     "output_type": "execute_result"
    }
   ],
   "source": [
    "data.isna().sum()"
   ]
  },
  {
   "cell_type": "code",
   "execution_count": 7,
   "metadata": {},
   "outputs": [
    {
     "data": {
      "text/html": [
       "<div>\n",
       "<style scoped>\n",
       "    .dataframe tbody tr th:only-of-type {\n",
       "        vertical-align: middle;\n",
       "    }\n",
       "\n",
       "    .dataframe tbody tr th {\n",
       "        vertical-align: top;\n",
       "    }\n",
       "\n",
       "    .dataframe thead th {\n",
       "        text-align: right;\n",
       "    }\n",
       "</style>\n",
       "<table border=\"1\" class=\"dataframe\">\n",
       "  <thead>\n",
       "    <tr style=\"text-align: right;\">\n",
       "      <th></th>\n",
       "      <th>Price</th>\n",
       "      <th>RegistrationYear</th>\n",
       "      <th>Power</th>\n",
       "      <th>Kilometer</th>\n",
       "      <th>RegistrationMonth</th>\n",
       "      <th>NumberOfPictures</th>\n",
       "      <th>PostalCode</th>\n",
       "    </tr>\n",
       "  </thead>\n",
       "  <tbody>\n",
       "    <tr>\n",
       "      <th>count</th>\n",
       "      <td>354369.000000</td>\n",
       "      <td>354369.000000</td>\n",
       "      <td>354369.000000</td>\n",
       "      <td>354369.000000</td>\n",
       "      <td>354369.000000</td>\n",
       "      <td>354369.0</td>\n",
       "      <td>354369.000000</td>\n",
       "    </tr>\n",
       "    <tr>\n",
       "      <th>mean</th>\n",
       "      <td>4416.656776</td>\n",
       "      <td>2004.234448</td>\n",
       "      <td>110.094337</td>\n",
       "      <td>128211.172535</td>\n",
       "      <td>5.714645</td>\n",
       "      <td>0.0</td>\n",
       "      <td>50508.689087</td>\n",
       "    </tr>\n",
       "    <tr>\n",
       "      <th>std</th>\n",
       "      <td>4514.158514</td>\n",
       "      <td>90.227958</td>\n",
       "      <td>189.850405</td>\n",
       "      <td>37905.341530</td>\n",
       "      <td>3.726421</td>\n",
       "      <td>0.0</td>\n",
       "      <td>25783.096248</td>\n",
       "    </tr>\n",
       "    <tr>\n",
       "      <th>min</th>\n",
       "      <td>0.000000</td>\n",
       "      <td>1000.000000</td>\n",
       "      <td>0.000000</td>\n",
       "      <td>5000.000000</td>\n",
       "      <td>0.000000</td>\n",
       "      <td>0.0</td>\n",
       "      <td>1067.000000</td>\n",
       "    </tr>\n",
       "    <tr>\n",
       "      <th>25%</th>\n",
       "      <td>1050.000000</td>\n",
       "      <td>1999.000000</td>\n",
       "      <td>69.000000</td>\n",
       "      <td>125000.000000</td>\n",
       "      <td>3.000000</td>\n",
       "      <td>0.0</td>\n",
       "      <td>30165.000000</td>\n",
       "    </tr>\n",
       "    <tr>\n",
       "      <th>50%</th>\n",
       "      <td>2700.000000</td>\n",
       "      <td>2003.000000</td>\n",
       "      <td>105.000000</td>\n",
       "      <td>150000.000000</td>\n",
       "      <td>6.000000</td>\n",
       "      <td>0.0</td>\n",
       "      <td>49413.000000</td>\n",
       "    </tr>\n",
       "    <tr>\n",
       "      <th>75%</th>\n",
       "      <td>6400.000000</td>\n",
       "      <td>2008.000000</td>\n",
       "      <td>143.000000</td>\n",
       "      <td>150000.000000</td>\n",
       "      <td>9.000000</td>\n",
       "      <td>0.0</td>\n",
       "      <td>71083.000000</td>\n",
       "    </tr>\n",
       "    <tr>\n",
       "      <th>max</th>\n",
       "      <td>20000.000000</td>\n",
       "      <td>9999.000000</td>\n",
       "      <td>20000.000000</td>\n",
       "      <td>150000.000000</td>\n",
       "      <td>12.000000</td>\n",
       "      <td>0.0</td>\n",
       "      <td>99998.000000</td>\n",
       "    </tr>\n",
       "  </tbody>\n",
       "</table>\n",
       "</div>"
      ],
      "text/plain": [
       "               Price  RegistrationYear          Power      Kilometer  \\\n",
       "count  354369.000000     354369.000000  354369.000000  354369.000000   \n",
       "mean     4416.656776       2004.234448     110.094337  128211.172535   \n",
       "std      4514.158514         90.227958     189.850405   37905.341530   \n",
       "min         0.000000       1000.000000       0.000000    5000.000000   \n",
       "25%      1050.000000       1999.000000      69.000000  125000.000000   \n",
       "50%      2700.000000       2003.000000     105.000000  150000.000000   \n",
       "75%      6400.000000       2008.000000     143.000000  150000.000000   \n",
       "max     20000.000000       9999.000000   20000.000000  150000.000000   \n",
       "\n",
       "       RegistrationMonth  NumberOfPictures     PostalCode  \n",
       "count      354369.000000          354369.0  354369.000000  \n",
       "mean            5.714645               0.0   50508.689087  \n",
       "std             3.726421               0.0   25783.096248  \n",
       "min             0.000000               0.0    1067.000000  \n",
       "25%             3.000000               0.0   30165.000000  \n",
       "50%             6.000000               0.0   49413.000000  \n",
       "75%             9.000000               0.0   71083.000000  \n",
       "max            12.000000               0.0   99998.000000  "
      ]
     },
     "execution_count": 7,
     "metadata": {},
     "output_type": "execute_result"
    }
   ],
   "source": [
    "data.describe()"
   ]
  },
  {
   "cell_type": "markdown",
   "metadata": {},
   "source": [
    "**Подытог:**\n",
    "\n",
    "В данных неправильный регистр, присутствуют дубликаты, пропуски, а также аномальные значения и выбросы. Также в данных лишние колонки, которые не пригодятся в дальнейшем исследовании. "
   ]
  },
  {
   "cell_type": "markdown",
   "metadata": {},
   "source": [
    "<div class='alert alert-success'> ✔️Отлично, первичный анализ проведен с применением диагностических инструментов Pandas, найдены особенности в данных и намечена тактика дальнейших действий.\n",
    "</div>"
   ]
  },
  {
   "cell_type": "markdown",
   "metadata": {},
   "source": [
    "**Проведем предобработку** \n",
    "\n",
    "Переведем названия столбцов в змеиный регистр: "
   ]
  },
  {
   "cell_type": "code",
   "execution_count": 8,
   "metadata": {},
   "outputs": [
    {
     "data": {
      "text/plain": [
       "Index(['date_crawled', 'price', 'vehicle_type', 'registration_year', 'gearbox',\n",
       "       'power', 'model', 'kilometer', 'registration_month', 'fuel_type',\n",
       "       'brand', 'repaired', 'date_created', 'number_of_pictures',\n",
       "       'postal_code', 'last_seen'],\n",
       "      dtype='object')"
      ]
     },
     "execution_count": 8,
     "metadata": {},
     "output_type": "execute_result"
    }
   ],
   "source": [
    "data.columns = [re.sub(r'(?<!^)(?=[A-Z])', '_', i).lower()for i in data.columns]\n",
    "data.columns"
   ]
  },
  {
   "cell_type": "markdown",
   "metadata": {},
   "source": [
    "Уберем дубликаты, лишние колонки:"
   ]
  },
  {
   "cell_type": "code",
   "execution_count": 9,
   "metadata": {},
   "outputs": [],
   "source": [
    "data = data.drop_duplicates()"
   ]
  },
  {
   "cell_type": "markdown",
   "metadata": {},
   "source": [
    "<div class='alert alert-success'> ✔️ Хорошо, явные дубликаты удалили. Обрати внимание, что практика удаления дубликатов до фильтрации неинформативных колонок (например, DateCrawled и LastSeen) оставляет неявные дубли. Хотел подчеркнуть, что, возможно, следует дубликаты определять после удаления таких колонок, чтобы и явные, и неявные найти сразу.\n",
    "</div>"
   ]
  },
  {
   "cell_type": "code",
   "execution_count": 10,
   "metadata": {},
   "outputs": [
    {
     "data": {
      "text/plain": [
       "Index(['price', 'vehicle_type', 'registration_year', 'gearbox', 'power',\n",
       "       'model', 'kilometer', 'fuel_type', 'brand', 'repaired'],\n",
       "      dtype='object')"
      ]
     },
     "execution_count": 10,
     "metadata": {},
     "output_type": "execute_result"
    }
   ],
   "source": [
    "data = data.drop(['date_crawled', 'registration_month', 'date_created', 'number_of_pictures', 'postal_code', 'last_seen'], axis='columns') \n",
    "data.columns"
   ]
  },
  {
   "cell_type": "markdown",
   "metadata": {},
   "source": [
    "Изучим распределение данных, аномальные значения. Исправим:"
   ]
  },
  {
   "cell_type": "code",
   "execution_count": 11,
   "metadata": {},
   "outputs": [
    {
     "data": {
      "text/plain": [
       "<AxesSubplot:>"
      ]
     },
     "execution_count": 11,
     "metadata": {},
     "output_type": "execute_result"
    },
    {
     "data": {
      "image/png": "[encoded data removed]",
      "text/plain": [
       "<Figure size 432x288 with 1 Axes>"
      ]
     },
     "metadata": {
      "needs_background": "light"
     },
     "output_type": "display_data"
    }
   ],
   "source": [
    "data.boxplot()"
   ]
  },
  {
   "cell_type": "code",
   "execution_count": 12,
   "metadata": {},
   "outputs": [
    {
     "data": {
      "text/plain": [
       "0        10772\n",
       "500       5670\n",
       "1500      5394\n",
       "1000      4648\n",
       "1200      4594\n",
       "         ...  \n",
       "13180        1\n",
       "10879        1\n",
       "2683         1\n",
       "634          1\n",
       "8188         1\n",
       "Name: price, Length: 3731, dtype: int64"
      ]
     },
     "execution_count": 12,
     "metadata": {},
     "output_type": "execute_result"
    }
   ],
   "source": [
    "data['price'].value_counts()"
   ]
  },
  {
   "cell_type": "code",
   "execution_count": 13,
   "metadata": {},
   "outputs": [
    {
     "data": {
      "text/plain": [
       "2000    24490\n",
       "1999    22727\n",
       "2005    22109\n",
       "2001    20123\n",
       "2006    19900\n",
       "        ...  \n",
       "4100        1\n",
       "1200        1\n",
       "5300        1\n",
       "8888        1\n",
       "2290        1\n",
       "Name: registration_year, Length: 151, dtype: int64"
      ]
     },
     "execution_count": 13,
     "metadata": {},
     "output_type": "execute_result"
    }
   ],
   "source": [
    "data['registration_year'].value_counts()"
   ]
  },
  {
   "cell_type": "code",
   "execution_count": 14,
   "metadata": {},
   "outputs": [
    {
     "data": {
      "text/plain": [
       "0        40225\n",
       "75       24023\n",
       "60       15897\n",
       "150      14590\n",
       "101      13298\n",
       "         ...  \n",
       "323          1\n",
       "3454         1\n",
       "1056         1\n",
       "13636        1\n",
       "1158         1\n",
       "Name: power, Length: 712, dtype: int64"
      ]
     },
     "execution_count": 14,
     "metadata": {},
     "output_type": "execute_result"
    }
   ],
   "source": [
    "data['power'].value_counts()"
   ]
  },
  {
   "cell_type": "code",
   "execution_count": 15,
   "metadata": {},
   "outputs": [
    {
     "data": {
      "text/plain": [
       "150000    238207\n",
       "125000     36453\n",
       "100000     14882\n",
       "90000      11567\n",
       "80000      10047\n",
       "70000       8593\n",
       "60000       7444\n",
       "5000        6397\n",
       "50000       6232\n",
       "40000       4911\n",
       "30000       4436\n",
       "20000       3974\n",
       "10000       1222\n",
       "Name: kilometer, dtype: int64"
      ]
     },
     "execution_count": 15,
     "metadata": {},
     "output_type": "execute_result"
    }
   ],
   "source": [
    "data['kilometer'].value_counts()"
   ]
  },
  {
   "cell_type": "markdown",
   "metadata": {},
   "source": [
    "У признаков видны выбросы. Визуализируем и избавимся от аномалий:"
   ]
  },
  {
   "cell_type": "code",
   "execution_count": 16,
   "metadata": {
    "scrolled": false
   },
   "outputs": [],
   "source": [
    "def graf(data, x, x_label, y_label, title, bins):\n",
    "    plt.figure(figsize=(13, 10))\n",
    "    sns.histplot(data=data, color=\"g\", x=x, kde=True, bins=bins)\n",
    "    plt.title(title)\n",
    "    plt.xlabel(x_label)\n",
    "    plt.ylabel(y_label)\n",
    "    plt.show()\n",
    "\n",
    "    plt.figure(figsize=(13, 10))\n",
    "    sns.boxplot(data=data, x=x)\n",
    "    plt.title(title)\n",
    "    plt.xlabel(x_label)\n",
    "    plt.show()"
   ]
  },
  {
   "cell_type": "code",
   "execution_count": 17,
   "metadata": {
    "scrolled": true
   },
   "outputs": [
    {
     "data": {
      "image/png": "[encoded data removed]",
      "text/plain": [
       "<Figure size 936x720 with 1 Axes>"
      ]
     },
     "metadata": {
      "needs_background": "light"
     },
     "output_type": "display_data"
    },
    {
     "data": {
      "image/png": "[encoded data removed]",
      "text/plain": [
       "<Figure size 936x720 with 1 Axes>"
      ]
     },
     "metadata": {
      "needs_background": "light"
     },
     "output_type": "display_data"
    }
   ],
   "source": [
    "graf(data, 'price', 'Цена', 'Количество', 'Распределение цен на автомобили', 100)"
   ]
  },
  {
   "cell_type": "markdown",
   "metadata": {},
   "source": [
    "Виден типичный правый длинный хвост. Однако много значений вокруг 0, поскольку автомобили не могут быть без цены - избавимся от этой аномалии:"
   ]
  },
  {
   "cell_type": "code",
   "execution_count": 18,
   "metadata": {},
   "outputs": [],
   "source": [
    "data = data.query('price > 500')"
   ]
  },
  {
   "cell_type": "markdown",
   "metadata": {},
   "source": [
    "<div class='alert alert-success'> ✔️ОК, аномалии в цене отфильтрованы\n",
    "</div>"
   ]
  },
  {
   "cell_type": "code",
   "execution_count": 19,
   "metadata": {
    "scrolled": true
   },
   "outputs": [
    {
     "data": {
      "image/png": "[encoded data removed]",
      "text/plain": [
       "<Figure size 936x720 with 1 Axes>"
      ]
     },
     "metadata": {
      "needs_background": "light"
     },
     "output_type": "display_data"
    },
    {
     "data": {
      "image/png": "[encoded data removed]",
      "text/plain": [
       "<Figure size 936x720 with 1 Axes>"
      ]
     },
     "metadata": {
      "needs_background": "light"
     },
     "output_type": "display_data"
    }
   ],
   "source": [
    "graf(data, 'registration_year', 'Год', 'Количество', 'Год регистрации автомобиля', 100)"
   ]
  },
  {
   "cell_type": "markdown",
   "metadata": {},
   "source": [
    "Сильный разброс данных, а также явные ошибки. Необходимо учесть, что данные за 2016 год, то есть выше 2016 - аномалии. За нижний порог возмем тот год, который уже не включает раритетные и антикварные автомобили, которые могут повлиять на качество исследования. Ограничимся одним процентом: "
   ]
  },
  {
   "cell_type": "code",
   "execution_count": 20,
   "metadata": {},
   "outputs": [
    {
     "data": {
      "text/plain": [
       "1980.0"
      ]
     },
     "execution_count": 20,
     "metadata": {},
     "output_type": "execute_result"
    }
   ],
   "source": [
    "lower_limit_year = data['registration_year'].quantile(0.01)\n",
    "lower_limit_year"
   ]
  },
  {
   "cell_type": "code",
   "execution_count": 21,
   "metadata": {},
   "outputs": [],
   "source": [
    "data = data.query('registration_year > 1980 and registration_year < 2016')"
   ]
  },
  {
   "cell_type": "markdown",
   "metadata": {},
   "source": [
    "<div class='alert alert-success'> ✔️Отличные пределы для года регистрации\n",
    "</div>"
   ]
  },
  {
   "cell_type": "markdown",
   "metadata": {},
   "source": [
    "Рассмотрим мощность:"
   ]
  },
  {
   "cell_type": "code",
   "execution_count": 22,
   "metadata": {
    "scrolled": true
   },
   "outputs": [
    {
     "data": {
      "image/png": "[encoded data removed]",
      "text/plain": [
       "<Figure size 936x720 with 1 Axes>"
      ]
     },
     "metadata": {
      "needs_background": "light"
     },
     "output_type": "display_data"
    },
    {
     "data": {
      "image/png": "[encoded data removed]",
      "text/plain": [
       "<Figure size 936x720 with 1 Axes>"
      ]
     },
     "metadata": {
      "needs_background": "light"
     },
     "output_type": "display_data"
    }
   ],
   "source": [
    "graf(data, 'power', 'Мощность', 'Количество', 'Мощность автомобиля', 100)"
   ]
  },
  {
   "cell_type": "markdown",
   "metadata": {},
   "source": [
    "Сильный разброс, усечем выбросы больше 600 л.с., а также уберем  меньше 50 л.с. - максимальное и минимальное для автомобиля \"на ходу\"."
   ]
  },
  {
   "cell_type": "code",
   "execution_count": 23,
   "metadata": {},
   "outputs": [],
   "source": [
    "data = data.query('power > 50 and power < 600')"
   ]
  },
  {
   "cell_type": "code",
   "execution_count": 24,
   "metadata": {
    "scrolled": true
   },
   "outputs": [
    {
     "data": {
      "image/png": "[encoded data removed]",
      "text/plain": [
       "<Figure size 936x720 with 1 Axes>"
      ]
     },
     "metadata": {
      "needs_background": "light"
     },
     "output_type": "display_data"
    },
    {
     "data": {
      "image/png": "[encoded data removed]",
      "text/plain": [
       "<Figure size 936x720 with 1 Axes>"
      ]
     },
     "metadata": {
      "needs_background": "light"
     },
     "output_type": "display_data"
    }
   ],
   "source": [
    "graf(data, 'kilometer', 'Км', 'Количество', 'Пробег автомобиля', 100)"
   ]
  },
  {
   "cell_type": "markdown",
   "metadata": {},
   "source": [
    "Практически все значения лежат вокруг 150 тыс. км. Возможно при публиковании был установлен данный ограничитель.\n",
    "\n",
    "Подробнее рассмотрим пропуски в данных и исправим:"
   ]
  },
  {
   "cell_type": "code",
   "execution_count": 25,
   "metadata": {},
   "outputs": [
    {
     "data": {
      "text/plain": [
       "price                    0\n",
       "vehicle_type          3196\n",
       "registration_year        0\n",
       "gearbox               3642\n",
       "power                    0\n",
       "model                 8014\n",
       "kilometer                0\n",
       "fuel_type             9788\n",
       "brand                    0\n",
       "repaired             32222\n",
       "dtype: int64"
      ]
     },
     "execution_count": 25,
     "metadata": {},
     "output_type": "execute_result"
    }
   ],
   "source": [
    "data.isna().sum()"
   ]
  },
  {
   "cell_type": "code",
   "execution_count": 26,
   "metadata": {},
   "outputs": [
    {
     "data": {
      "text/plain": [
       "price                0.000000\n",
       "vehicle_type         0.012225\n",
       "registration_year    0.000000\n",
       "gearbox              0.013931\n",
       "power                0.000000\n",
       "model                0.030654\n",
       "kilometer            0.000000\n",
       "fuel_type            0.037440\n",
       "brand                0.000000\n",
       "repaired             0.123251\n",
       "dtype: float64"
      ]
     },
     "execution_count": 26,
     "metadata": {},
     "output_type": "execute_result"
    }
   ],
   "source": [
    "data.isna().mean()"
   ]
  },
  {
   "cell_type": "code",
   "execution_count": 27,
   "metadata": {},
   "outputs": [
    {
     "name": "stdout",
     "output_type": "stream",
     "text": [
      "<class 'pandas.core.frame.DataFrame'>\n",
      "Int64Index: 261433 entries, 1 to 354368\n",
      "Data columns (total 10 columns):\n",
      " #   Column             Non-Null Count   Dtype \n",
      "---  ------             --------------   ----- \n",
      " 0   price              261433 non-null  int64 \n",
      " 1   vehicle_type       258237 non-null  object\n",
      " 2   registration_year  261433 non-null  int64 \n",
      " 3   gearbox            257791 non-null  object\n",
      " 4   power              261433 non-null  int64 \n",
      " 5   model              253419 non-null  object\n",
      " 6   kilometer          261433 non-null  int64 \n",
      " 7   fuel_type          251645 non-null  object\n",
      " 8   brand              261433 non-null  object\n",
      " 9   repaired           229211 non-null  object\n",
      "dtypes: int64(4), object(6)\n",
      "memory usage: 21.9+ MB\n"
     ]
    }
   ],
   "source": [
    "data.info()"
   ]
  },
  {
   "cell_type": "markdown",
   "metadata": {},
   "source": [
    "Большинство пропусков составляет меньше 3%, можно считать незначительным, уберем их, кроме столбца repaired."
   ]
  },
  {
   "cell_type": "code",
   "execution_count": 28,
   "metadata": {},
   "outputs": [
    {
     "data": {
      "text/plain": [
       "no     0.910785\n",
       "yes    0.089215\n",
       "Name: repaired, dtype: float64"
      ]
     },
     "execution_count": 28,
     "metadata": {},
     "output_type": "execute_result"
    }
   ],
   "source": [
    "data.repaired.value_counts(normalize=True)"
   ]
  },
  {
   "cell_type": "markdown",
   "metadata": {},
   "source": [
    "Можно предположить, что пропуски возникли, потому что этот пункт пропускали из-за отсутвия ремонта. Заменим пропуски на no."
   ]
  },
  {
   "cell_type": "code",
   "execution_count": 29,
   "metadata": {},
   "outputs": [],
   "source": [
    "data['repaired'] = data['repaired'].fillna('no')"
   ]
  },
  {
   "cell_type": "code",
   "execution_count": 30,
   "metadata": {},
   "outputs": [
    {
     "data": {
      "text/plain": [
       "no     0.921781\n",
       "yes    0.078219\n",
       "Name: repaired, dtype: float64"
      ]
     },
     "execution_count": 30,
     "metadata": {},
     "output_type": "execute_result"
    }
   ],
   "source": [
    "data.repaired.value_counts(normalize=True)"
   ]
  },
  {
   "cell_type": "code",
   "execution_count": 31,
   "metadata": {},
   "outputs": [],
   "source": [
    "data = data.dropna()"
   ]
  },
  {
   "cell_type": "markdown",
   "metadata": {},
   "source": [
    "**Вывод:**\n",
    "\n",
    "1. Были рассмотрены данные, проведена их предобработка;\n",
    "2. Изменен регистр названия столбцов, обработаны пропуски, исключены аномальные и некорректные значения;\n",
    "3. Удалены столбцы, которые не будут использованы в дальнейшем исследовании.\n",
    "    "
   ]
  },
  {
   "cell_type": "markdown",
   "metadata": {},
   "source": [
    "<div class='alert alert-success'> ✔️Ок, после очистки можно посмотреть взаимосвязи, например, с таблицей корреляции.\n",
    "</div>\n"
   ]
  },
  {
   "cell_type": "markdown",
   "metadata": {},
   "source": [
    "## Обучение моделей"
   ]
  },
  {
   "cell_type": "markdown",
   "metadata": {},
   "source": [
    "Приведем категориальные признаки в номинальные, воспользовавшись техникой прямого кодирования"
   ]
  },
  {
   "cell_type": "code",
   "execution_count": 32,
   "metadata": {},
   "outputs": [],
   "source": [
    "le = LabelEncoder()\n",
    "con_columns = list(data.select_dtypes(include='object').columns)\n",
    "for c in con_columns:\n",
    "    le.fit(data[c].astype('str'))\n",
    "    data[c] = le.transform(data[c].astype('str'))"
   ]
  },
  {
   "cell_type": "markdown",
   "metadata": {},
   "source": [
    "Стандартизируем признаки:"
   ]
  },
  {
   "cell_type": "markdown",
   "metadata": {},
   "source": [
    "Переведем категориальные значения столбцов в количественные:"
   ]
  },
  {
   "cell_type": "code",
   "execution_count": 34,
   "metadata": {},
   "outputs": [],
   "source": [
    "data_ohe = pd.get_dummies(data, drop_first=True)"
   ]
  },
  {
   "cell_type": "markdown",
   "metadata": {},
   "source": [
    "Одной из моделей будет линейная регрессия, поэтому разобьем данные для нее:"
   ]
  },
  {
   "cell_type": "code",
   "execution_count": 35,
   "metadata": {},
   "outputs": [],
   "source": [
    "features_ohe = data_ohe.drop(['price'], axis = 1)\n",
    "target_ohe = data_ohe['price']\n",
    "features_, features_test_ohe, target_, target_test_ohe = train_test_split(features_ohe, target_ohe, test_size=0.2, random_state=12345)\n",
    "features_train_ohe, features_valid_ohe, target_train_ohe, target_valid_ohe = train_test_split(\n",
    "    features_, target_, test_size=.25, random_state=12345)\n"
   ]
  },
  {
   "cell_type": "markdown",
   "metadata": {},
   "source": [
    "Стандартизируем признаки:"
   ]
  },
  {
   "cell_type": "code",
   "execution_count": 36,
   "metadata": {},
   "outputs": [],
   "source": [
    "numeric = list(data_ohe)\n",
    "numeric.remove('price')"
   ]
  },
  {
   "cell_type": "code",
   "execution_count": 37,
   "metadata": {},
   "outputs": [],
   "source": [
    "scaler = StandardScaler()\n",
    "scaler.fit(features_train_ohe[numeric])\n",
    "features_train_ohe[numeric] = scaler.transform(features_train_ohe[numeric])\n",
    "features_test_ohe[numeric] = scaler.transform(features_test_ohe[numeric])"
   ]
  },
  {
   "cell_type": "markdown",
   "metadata": {},
   "source": [
    "Посмотрим на категориальные признаки и уникальные значения:"
   ]
  },
  {
   "cell_type": "code",
   "execution_count": 38,
   "metadata": {},
   "outputs": [
    {
     "data": {
      "text/plain": [
       "brand            39\n",
       "model           247\n",
       "vehicle_type      8\n",
       "gearbox           2\n",
       "fuel_type         7\n",
       "dtype: int64"
      ]
     },
     "execution_count": 38,
     "metadata": {},
     "output_type": "execute_result"
    }
   ],
   "source": [
    "categorical = ['brand','model','vehicle_type','gearbox','fuel_type']\n",
    "nume_names = data.select_dtypes(include=['int64'])\n",
    "data[categorical].nunique()"
   ]
  },
  {
   "cell_type": "code",
   "execution_count": 39,
   "metadata": {},
   "outputs": [],
   "source": [
    "data[categorical] = data[categorical].astype('category')"
   ]
  },
  {
   "cell_type": "markdown",
   "metadata": {},
   "source": [
    "Данные столбца repaired можно перевести в булев тип:"
   ]
  },
  {
   "cell_type": "code",
   "execution_count": 40,
   "metadata": {},
   "outputs": [],
   "source": [
    "data['repaired'] = data['repaired'].astype('bool')"
   ]
  },
  {
   "cell_type": "code",
   "execution_count": 41,
   "metadata": {},
   "outputs": [],
   "source": [
    "data.columns = data.columns.astype('category')"
   ]
  },
  {
   "cell_type": "code",
   "execution_count": 42,
   "metadata": {},
   "outputs": [
    {
     "name": "stdout",
     "output_type": "stream",
     "text": [
      "<class 'pandas.core.frame.DataFrame'>\n",
      "Int64Index: 241177 entries, 2 to 354368\n",
      "Data columns (total 10 columns):\n",
      " #   Column             Non-Null Count   Dtype   \n",
      "---  ------             --------------   -----   \n",
      " 0   price              241177 non-null  int64   \n",
      " 1   vehicle_type       241177 non-null  category\n",
      " 2   registration_year  241177 non-null  int64   \n",
      " 3   gearbox            241177 non-null  category\n",
      " 4   power              241177 non-null  int64   \n",
      " 5   model              241177 non-null  category\n",
      " 6   kilometer          241177 non-null  int64   \n",
      " 7   fuel_type          241177 non-null  category\n",
      " 8   brand              241177 non-null  category\n",
      " 9   repaired           241177 non-null  bool    \n",
      "dtypes: bool(1), category(5), int64(4)\n",
      "memory usage: 10.8 MB\n"
     ]
    }
   ],
   "source": [
    "data.info()"
   ]
  },
  {
   "cell_type": "markdown",
   "metadata": {},
   "source": [
    "Признаки для CatBoost и LightGBM:"
   ]
  },
  {
   "cell_type": "code",
   "execution_count": 43,
   "metadata": {},
   "outputs": [],
   "source": [
    "features = data.drop(['price'], axis = 1)\n",
    "target = data['price']"
   ]
  },
  {
   "cell_type": "markdown",
   "metadata": {},
   "source": [
    "Разобьем выборки на обучающие и тестовые отдельно для линейной регрессии, отдельно для catboost и lightGBM:"
   ]
  },
  {
   "cell_type": "code",
   "execution_count": 44,
   "metadata": {},
   "outputs": [],
   "source": [
    "features_df, features_test, target_df, target_test = train_test_split(\n",
    "    features, target, test_size=.2, random_state=12345)\n",
    "features_train, features_valid, target_train, target_valid = train_test_split(\n",
    "    features_df, target_df, test_size=.25, random_state=12345)"
   ]
  },
  {
   "cell_type": "markdown",
   "metadata": {},
   "source": [
    "Начнем с **линейной регрессии**:"
   ]
  },
  {
   "cell_type": "code",
   "execution_count": 45,
   "metadata": {},
   "outputs": [],
   "source": [
    "lr_model = LinearRegression()"
   ]
  },
  {
   "cell_type": "code",
   "execution_count": 46,
   "metadata": {},
   "outputs": [
    {
     "name": "stdout",
     "output_type": "stream",
     "text": [
      "RMSE модели равно: 176008204.58038142\n",
      "CPU times: user 34.6 ms, sys: 16.2 ms, total: 50.8 ms\n",
      "Wall time: 70.4 ms\n"
     ]
    }
   ],
   "source": [
    "%%time\n",
    "\n",
    "lr_model.fit(features_train_ohe, target_train_ohe)\n",
    "predictions_valid_ohe = lr_model.predict(features_valid_ohe)\n",
    "\n",
    "print('RMSE модели равно:', mean_squared_error(target_valid_ohe, predictions_valid_ohe)**0.5)\n"
   ]
  },
  {
   "cell_type": "code",
   "execution_count": 47,
   "metadata": {},
   "outputs": [
    {
     "name": "stdout",
     "output_type": "stream",
     "text": [
      "RMSE модели равно: 2730.92793418845\n",
      "CPU times: user 162 ms, sys: 47 ms, total: 209 ms\n",
      "Wall time: 201 ms\n"
     ]
    }
   ],
   "source": [
    "%%time\n",
    "\n",
    "lr_model.fit(features_train, target_train)\n",
    "predictions_valid = lr_model.predict(features_valid)\n",
    "\n",
    "print('RMSE модели равно:', mean_squared_error(target_valid, predictions_valid)**0.5)"
   ]
  },
  {
   "cell_type": "markdown",
   "metadata": {},
   "source": [
    "Масштабирование ухудшает модель."
   ]
  },
  {
   "cell_type": "markdown",
   "metadata": {},
   "source": [
    "**CatBoost.**\n",
    "\n",
    "Подберем оптимальное значение RMSE и глубину в цикле"
   ]
  },
  {
   "cell_type": "code",
   "execution_count": 48,
   "metadata": {
    "scrolled": false
   },
   "outputs": [
    {
     "name": "stdout",
     "output_type": "stream",
     "text": [
      "0:\tlearn: 3602.3432381\ttotal: 78.6ms\tremaining: 2.28s\n",
      "5:\tlearn: 2801.9909587\ttotal: 183ms\tremaining: 733ms\n",
      "10:\tlearn: 2557.6838830\ttotal: 293ms\tremaining: 507ms\n",
      "15:\tlearn: 2381.5100194\ttotal: 392ms\tremaining: 343ms\n",
      "20:\tlearn: 2305.8825644\ttotal: 498ms\tremaining: 213ms\n",
      "25:\tlearn: 2269.0495130\ttotal: 607ms\tremaining: 93.4ms\n",
      "29:\tlearn: 2248.7384203\ttotal: 684ms\tremaining: 0us\n",
      "0:\tlearn: 2515.2838877\ttotal: 49.4ms\tremaining: 1.43s\n",
      "5:\tlearn: 1936.6686790\ttotal: 293ms\tremaining: 1.17s\n",
      "10:\tlearn: 1801.7300269\ttotal: 521ms\tremaining: 900ms\n",
      "15:\tlearn: 1745.5028565\ttotal: 736ms\tremaining: 644ms\n",
      "20:\tlearn: 1699.8454941\ttotal: 963ms\tremaining: 413ms\n",
      "25:\tlearn: 1680.2675370\ttotal: 1.19s\tremaining: 182ms\n",
      "29:\tlearn: 1664.6226012\ttotal: 1.36s\tremaining: 0us\n",
      "0:\tlearn: 2311.7693227\ttotal: 104ms\tremaining: 3.01s\n",
      "5:\tlearn: 1724.5752073\ttotal: 581ms\tremaining: 2.32s\n",
      "10:\tlearn: 1613.1862602\ttotal: 1.05s\tremaining: 1.81s\n",
      "15:\tlearn: 1560.4720681\ttotal: 1.5s\tremaining: 1.31s\n",
      "20:\tlearn: 1507.3916782\ttotal: 1.97s\tremaining: 843ms\n",
      "25:\tlearn: 1472.0017037\ttotal: 2.42s\tremaining: 372ms\n",
      "29:\tlearn: 1454.0053880\ttotal: 2.77s\tremaining: 0us\n",
      "0:\tlearn: 2244.4662902\ttotal: 855ms\tremaining: 24.8s\n",
      "5:\tlearn: 1561.2336847\ttotal: 5.55s\tremaining: 22.2s\n",
      "10:\tlearn: 1447.0468518\ttotal: 9.14s\tremaining: 15.8s\n",
      "15:\tlearn: 1358.8539919\ttotal: 13.6s\tremaining: 11.9s\n",
      "20:\tlearn: 1310.3349190\ttotal: 18s\tremaining: 7.72s\n",
      "25:\tlearn: 1274.4138583\ttotal: 22.5s\tremaining: 3.47s\n",
      "29:\tlearn: 1237.7540276\ttotal: 26.1s\tremaining: 0us\n",
      "RMSE модели равно: 1596.5140642905994    Глубина: 16\n",
      "CPU times: user 26.1 s, sys: 5.99 s, total: 32.1 s\n",
      "Wall time: 34.5 s\n"
     ]
    }
   ],
   "source": [
    "%%time\n",
    "\n",
    "best_result = 2500\n",
    "depth = 0\n",
    "depths = []\n",
    "results = []\n",
    "\n",
    "for depth in range(1, 21, 5):\n",
    "    cb_model = CatBoostRegressor(iterations=30, learning_rate=1, max_depth=depth, random_state=12345, verbose=5)\n",
    "    cb_model.fit(features_train, target_train, cat_features=categorical)\n",
    "    predictions_valid = cb_model.predict(features_valid)\n",
    "    result = mean_squared_error(target_valid, predictions_valid) ** .5\n",
    "    depths.append(depth)\n",
    "    results.append(result)\n",
    "            \n",
    "    if result < best_result:\n",
    "        best_depth = depth\n",
    "        best_result = result\n",
    "\n",
    "\n",
    "print('RMSE модели равно:', best_result, '   Глубина:', best_depth)"
   ]
  },
  {
   "cell_type": "markdown",
   "metadata": {},
   "source": [
    "**Дерево решений**.\n",
    "\n",
    "Также создадим цикл, с помощью которого подберем дерево с минимальным RMSE:"
   ]
  },
  {
   "cell_type": "code",
   "execution_count": 49,
   "metadata": {},
   "outputs": [
    {
     "name": "stdout",
     "output_type": "stream",
     "text": [
      "RMSE модели равно: 1775.5258896156238    Глубина: 16\n",
      "CPU times: user 2.34 s, sys: 0 ns, total: 2.34 s\n",
      "Wall time: 2.34 s\n"
     ]
    }
   ],
   "source": [
    "%%time\n",
    "best_result = 5000\n",
    "depth = 0\n",
    "depths = []\n",
    "results = []\n",
    "\n",
    "for depth in range(1, 21, 3):\n",
    "    dt_model = DecisionTreeRegressor(random_state=12345, max_depth=depth)\n",
    "    dt_model.fit(features_train, target_train)\n",
    "    predictions_valid = dt_model.predict(features_valid)\n",
    "    result = mean_squared_error(target_valid, predictions_valid) ** .5\n",
    "    depths.append(depth)\n",
    "    results.append(result)\n",
    "        \n",
    "            \n",
    "    if result < best_result:\n",
    "        best_depth = depth\n",
    "        best_result = result\n",
    "\n",
    "        \n",
    "print('RMSE модели равно:', best_result, '   Глубина:', best_depth)       "
   ]
  },
  {
   "cell_type": "code",
   "execution_count": 50,
   "metadata": {},
   "outputs": [
    {
     "name": "stdout",
     "output_type": "stream",
     "text": [
      "RMSE модели равно: 1775.5258896156238\n",
      "CPU times: user 458 ms, sys: 2.4 ms, total: 460 ms\n",
      "Wall time: 468 ms\n"
     ]
    }
   ],
   "source": [
    "%%time\n",
    "\n",
    "dt_model = DecisionTreeRegressor(random_state=12345, max_depth=16)\n",
    "dt_model.fit(features_train, target_train)\n",
    "dt_predictions_valid = dt_model.predict(features_valid)\n",
    "print('RMSE модели равно:', mean_squared_error(target_valid, dt_predictions_valid) ** .5)"
   ]
  },
  {
   "cell_type": "markdown",
   "metadata": {},
   "source": [
    "Установим параметры  и обучим **LightGBM**, :"
   ]
  },
  {
   "cell_type": "code",
   "execution_count": 51,
   "metadata": {},
   "outputs": [],
   "source": [
    "params = {\"iterations\": 20,\n",
    "          \"learning_rate\": 1,\n",
    "          \"max_depth\": None,\n",
    "          \"loss_function\": \"RMSE\",\n",
    "          \"random_state\": 12345,\n",
    "          \"bootstrap_type\": 'gbdt',\n",
    "          \"min_data_in_leaf\": 1\n",
    "          }\n",
    "\n",
    "lgb_train_data = lgb.Dataset(features_train, label=target_train)\n",
    "\n",
    "arguments = {'learning_rate': 1,\n",
    "         'metric': 'rmse',\n",
    "         'seed': 12345,\n",
    "         'objective': 'regression',\n",
    "         'verbosity': -1,\n",
    "        }\n",
    "\n",
    "max_depth = [1, 6, 11]"
   ]
  },
  {
   "cell_type": "code",
   "execution_count": 52,
   "metadata": {},
   "outputs": [],
   "source": [
    "best_score = 2500\n",
    "for depth in max_depth:\n",
    "    arguments['max_depth'] = depth\n",
    "    score = lgb.cv(arguments, lgb_train_data, nfold=3, categorical_feature=categorical)\n",
    "    score = pd.DataFrame(score).iloc[-1]['rmse-mean']\n",
    "    if score < best_score:\n",
    "        best_score = score\n",
    "        best_depth = depth\n",
    "params['max_depth'] = best_depth"
   ]
  },
  {
   "cell_type": "code",
   "execution_count": 53,
   "metadata": {},
   "outputs": [
    {
     "name": "stdout",
     "output_type": "stream",
     "text": [
      "RMSE модели равно: 1628.6547296462213    Глубина: 6\n",
      "CPU times: user 10.8 s, sys: 0 ns, total: 10.8 s\n",
      "Wall time: 10.8 s\n"
     ]
    }
   ],
   "source": [
    "%%time\n",
    "\n",
    "params['max_depth'] = best_depth\n",
    "lgb_model = lgb.train(arguments, lgb_train_data, categorical_feature=categorical, num_boost_round=400)\n",
    "\n",
    "print('RMSE модели равно:', best_score, '   Глубина:', best_depth) "
   ]
  },
  {
   "cell_type": "markdown",
   "metadata": {},
   "source": [
    "**Посмотрим на время время обучения и предсказания для каждой модели:**"
   ]
  },
  {
   "cell_type": "markdown",
   "metadata": {},
   "source": [
    "**Модель решающего дерева:**"
   ]
  },
  {
   "cell_type": "code",
   "execution_count": 54,
   "metadata": {},
   "outputs": [
    {
     "name": "stdout",
     "output_type": "stream",
     "text": [
      "CPU times: user 432 ms, sys: 0 ns, total: 432 ms\n",
      "Wall time: 436 ms\n"
     ]
    },
    {
     "data": {
      "text/plain": [
       "DecisionTreeRegressor(max_depth=16, random_state=12345)"
      ]
     },
     "execution_count": 54,
     "metadata": {},
     "output_type": "execute_result"
    }
   ],
   "source": [
    "%%time\n",
    "# найдем время обучения модели решающего дерева\n",
    "dt_model = DecisionTreeRegressor(random_state=12345, max_depth=16)\n",
    "dt_model.fit(features_train, target_train)"
   ]
  },
  {
   "cell_type": "code",
   "execution_count": 55,
   "metadata": {},
   "outputs": [
    {
     "name": "stdout",
     "output_type": "stream",
     "text": [
      "CPU times: user 34.7 ms, sys: 0 ns, total: 34.7 ms\n",
      "Wall time: 32.9 ms\n"
     ]
    }
   ],
   "source": [
    "%%time\n",
    "#построим предсказания на тренировочной выборке и найдем скорость\n",
    "predictions_valid = dt_model.predict(features_valid)"
   ]
  },
  {
   "cell_type": "markdown",
   "metadata": {},
   "source": [
    "**Линейная регрессия:**"
   ]
  },
  {
   "cell_type": "code",
   "execution_count": 56,
   "metadata": {},
   "outputs": [
    {
     "name": "stdout",
     "output_type": "stream",
     "text": [
      "CPU times: user 102 ms, sys: 0 ns, total: 102 ms\n",
      "Wall time: 117 ms\n"
     ]
    },
    {
     "data": {
      "text/plain": [
       "LinearRegression()"
      ]
     },
     "execution_count": 56,
     "metadata": {},
     "output_type": "execute_result"
    }
   ],
   "source": [
    "%%time\n",
    "\n",
    "lr_model = LinearRegression()\n",
    "lr_model.fit(features_train, target_train)"
   ]
  },
  {
   "cell_type": "code",
   "execution_count": 57,
   "metadata": {},
   "outputs": [
    {
     "name": "stdout",
     "output_type": "stream",
     "text": [
      "CPU times: user 52.8 ms, sys: 0 ns, total: 52.8 ms\n",
      "Wall time: 25.1 ms\n"
     ]
    }
   ],
   "source": [
    "%%time\n",
    "\n",
    "predictions_valid = lr_model.predict(features_valid)"
   ]
  },
  {
   "cell_type": "markdown",
   "metadata": {},
   "source": [
    "**Catboost**"
   ]
  },
  {
   "cell_type": "code",
   "execution_count": 58,
   "metadata": {},
   "outputs": [
    {
     "name": "stdout",
     "output_type": "stream",
     "text": [
      "0:\tlearn: 2244.4662902\ttotal: 783ms\tremaining: 22.7s\n",
      "5:\tlearn: 1561.2336847\ttotal: 5.32s\tremaining: 21.3s\n",
      "10:\tlearn: 1447.0468518\ttotal: 8.93s\tremaining: 15.4s\n",
      "15:\tlearn: 1358.8539919\ttotal: 13.4s\tremaining: 11.7s\n",
      "20:\tlearn: 1310.3349190\ttotal: 18.1s\tremaining: 7.75s\n",
      "25:\tlearn: 1274.4138583\ttotal: 22.6s\tremaining: 3.48s\n",
      "29:\tlearn: 1237.7540276\ttotal: 26.3s\tremaining: 0us\n",
      "CPU times: user 20.9 s, sys: 5.57 s, total: 26.4 s\n",
      "Wall time: 27.1 s\n"
     ]
    },
    {
     "data": {
      "text/plain": [
       "<catboost.core.CatBoostRegressor at 0x7fb27351e940>"
      ]
     },
     "execution_count": 58,
     "metadata": {},
     "output_type": "execute_result"
    }
   ],
   "source": [
    "%%time\n",
    "\n",
    "cb_model = CatBoostRegressor(iterations=30, learning_rate=1, max_depth=16, random_state=12345, verbose=5)\n",
    "cb_model.fit(features_train, target_train, cat_features=categorical)"
   ]
  },
  {
   "cell_type": "code",
   "execution_count": 59,
   "metadata": {},
   "outputs": [
    {
     "name": "stdout",
     "output_type": "stream",
     "text": [
      "CPU times: user 46.3 ms, sys: 6.65 ms, total: 52.9 ms\n",
      "Wall time: 53.2 ms\n"
     ]
    }
   ],
   "source": [
    "%%time\n",
    "\n",
    "predictions_valid = cb_model.predict(features_valid)"
   ]
  },
  {
   "cell_type": "markdown",
   "metadata": {},
   "source": [
    "**LightGBM**"
   ]
  },
  {
   "cell_type": "code",
   "execution_count": 60,
   "metadata": {},
   "outputs": [
    {
     "name": "stdout",
     "output_type": "stream",
     "text": [
      "CPU times: user 3.13 s, sys: 0 ns, total: 3.13 s\n",
      "Wall time: 3.08 s\n"
     ]
    },
    {
     "data": {
      "text/plain": [
       "LGBMRegressor(learning_rate=1, max_depth=6, random_state=12345)"
      ]
     },
     "execution_count": 60,
     "metadata": {},
     "output_type": "execute_result"
    }
   ],
   "source": [
    "%%time\n",
    "\n",
    "model = lgb.LGBMRegressor(random_state=12345, max_depth = 6, learning_rate = 1)\n",
    "model.fit(features_train, target_train)"
   ]
  },
  {
   "cell_type": "code",
   "execution_count": 61,
   "metadata": {},
   "outputs": [
    {
     "name": "stdout",
     "output_type": "stream",
     "text": [
      "CPU times: user 441 ms, sys: 0 ns, total: 441 ms\n",
      "Wall time: 407 ms\n"
     ]
    }
   ],
   "source": [
    "%%time\n",
    "\n",
    "predictions_valid = model.predict(features_valid)"
   ]
  },
  {
   "cell_type": "markdown",
   "metadata": {},
   "source": [
    "## Анализ моделей"
   ]
  },
  {
   "cell_type": "markdown",
   "metadata": {},
   "source": [
    "Сведем полученные данные в таблицу и проанализируем результаты:"
   ]
  },
  {
   "cell_type": "code",
   "execution_count": 63,
   "metadata": {},
   "outputs": [
    {
     "name": "stdout",
     "output_type": "stream",
     "text": [
      "               Модель    RMSE  Время обучения , sec  Время предсказания , sec\n",
      "0  Линейная регрессия  2730.0                  0.11                      0.02\n",
      "1            CatBoost  1596.5                 27.00                      0.05\n",
      "2      Дерево решений  1775.5                  0.52                      0.03\n",
      "3            LightGBM  1628.6                  3.08                      0.40\n"
     ]
    }
   ],
   "source": [
    "results = {\n",
    "    'Модель' : ['Линейная регрессия', 'CatBoost', 'Дерево решений', 'LightGBM'],\n",
    "    'RMSE' :pd.Series([2730, 1596.5, 1775.5, 1628.6]),\n",
    "    'Время обучения , sec': pd.Series([0.11, 27, 0.52, 3.08]),\n",
    "    'Время предсказания , sec': pd.Series([0.02, 0.05, 0.03, 0.4])\n",
    "}\n",
    "print(pd.DataFrame(results))"
   ]
  },
  {
   "cell_type": "markdown",
   "metadata": {},
   "source": [
    "Лучшие RMSE у CatBoost, проверим на тестовой выборке:"
   ]
  },
  {
   "cell_type": "code",
   "execution_count": 64,
   "metadata": {},
   "outputs": [
    {
     "name": "stdout",
     "output_type": "stream",
     "text": [
      "0:\tlearn: 2194.5593320\ttotal: 1.04s\tremaining: 30.3s\n",
      "5:\tlearn: 1568.5049255\ttotal: 5.68s\tremaining: 22.7s\n",
      "10:\tlearn: 1433.3673318\ttotal: 10.4s\tremaining: 18s\n",
      "15:\tlearn: 1359.0592738\ttotal: 15.1s\tremaining: 13.2s\n",
      "20:\tlearn: 1310.2943612\ttotal: 19.7s\tremaining: 8.45s\n",
      "25:\tlearn: 1269.1214031\ttotal: 24.4s\tremaining: 3.75s\n",
      "29:\tlearn: 1242.9920367\ttotal: 28.1s\tremaining: 0us\n",
      "RMSE на тестовой выборке:  1571.6587930368432\n",
      "CPU times: user 22.6 s, sys: 5.92 s, total: 28.5 s\n",
      "Wall time: 28.9 s\n"
     ]
    }
   ],
   "source": [
    "%%time\n",
    "\n",
    "cb_model = CatBoostRegressor(iterations=30, learning_rate=1, max_depth=16, random_state=12345, verbose=5)\n",
    "cb_model.fit(features_df, target_df, cat_features=categorical)\n",
    "cb_predictions_test= cb_model.predict(features_test)\n",
    "print('RMSE на тестовой выборке: ', mean_squared_error(target_test, cb_predictions_test) ** .5)"
   ]
  },
  {
   "cell_type": "markdown",
   "metadata": {},
   "source": [
    "**Вывод:**\n",
    "1. Самое высокое качество предсказания у модели CatBoost, которой лишь немного уступает LightGBM;\n",
    "2. По времени предсказаний лидирует модель LinearRegression, но модель показала себя слабо из-за низкого RMSE;\n",
    "3. Время предсказаний у моделей LightGBM и Catboost примерно одинаково. Хоть и модели CatBoost времени обучения выше, чем у LightGBM, первая обладает большими перспективами при подборе гиперпараметров.\n",
    "\n",
    "\n"
   ]
  }
 ],
 "metadata": {
  "ExecuteTimeLog": [
   {
    "duration": 1752,
    "start_time": "2023-02-10T06:08:03.622Z"
   },
   {
    "duration": 3174,
    "start_time": "2023-02-10T06:08:05.382Z"
   },
   {
    "duration": 153,
    "start_time": "2023-02-10T06:08:08.558Z"
   },
   {
    "duration": 16,
    "start_time": "2023-02-10T06:08:08.713Z"
   },
   {
    "duration": 461,
    "start_time": "2023-02-10T06:09:07.921Z"
   },
   {
    "duration": 1480,
    "start_time": "2023-02-10T06:10:10.881Z"
   },
   {
    "duration": 839,
    "start_time": "2023-02-10T06:10:12.363Z"
   },
   {
    "duration": 146,
    "start_time": "2023-02-10T06:10:13.203Z"
   },
   {
    "duration": 33,
    "start_time": "2023-02-10T06:10:13.351Z"
   },
   {
    "duration": 493,
    "start_time": "2023-02-10T06:10:13.386Z"
   },
   {
    "duration": 500,
    "start_time": "2023-02-10T06:10:13.884Z"
   },
   {
    "duration": 132,
    "start_time": "2023-02-10T06:10:14.385Z"
   },
   {
    "duration": 131,
    "start_time": "2023-02-10T06:13:31.784Z"
   },
   {
    "duration": 1558,
    "start_time": "2023-02-10T06:13:40.485Z"
   },
   {
    "duration": 860,
    "start_time": "2023-02-10T06:13:42.044Z"
   },
   {
    "duration": 176,
    "start_time": "2023-02-10T06:13:42.906Z"
   },
   {
    "duration": 20,
    "start_time": "2023-02-10T06:13:43.085Z"
   },
   {
    "duration": 493,
    "start_time": "2023-02-10T06:13:43.107Z"
   },
   {
    "duration": 530,
    "start_time": "2023-02-10T06:13:43.602Z"
   },
   {
    "duration": 152,
    "start_time": "2023-02-10T06:13:44.134Z"
   },
   {
    "duration": 128,
    "start_time": "2023-02-10T06:13:44.288Z"
   },
   {
    "duration": 1632,
    "start_time": "2023-02-10T06:14:02.457Z"
   },
   {
    "duration": 865,
    "start_time": "2023-02-10T06:14:04.092Z"
   },
   {
    "duration": 216,
    "start_time": "2023-02-10T06:14:04.959Z"
   },
   {
    "duration": 22,
    "start_time": "2023-02-10T06:14:05.186Z"
   },
   {
    "duration": 592,
    "start_time": "2023-02-10T06:14:05.210Z"
   },
   {
    "duration": 513,
    "start_time": "2023-02-10T06:14:05.803Z"
   },
   {
    "duration": 137,
    "start_time": "2023-02-10T06:14:06.317Z"
   },
   {
    "duration": 7,
    "start_time": "2023-02-10T06:14:06.468Z"
   },
   {
    "duration": 1573,
    "start_time": "2023-02-10T06:19:54.621Z"
   },
   {
    "duration": 813,
    "start_time": "2023-02-10T06:19:56.196Z"
   },
   {
    "duration": 159,
    "start_time": "2023-02-10T06:19:57.011Z"
   },
   {
    "duration": 20,
    "start_time": "2023-02-10T06:19:57.175Z"
   },
   {
    "duration": 479,
    "start_time": "2023-02-10T06:19:57.196Z"
   },
   {
    "duration": 148,
    "start_time": "2023-02-10T06:19:57.680Z"
   },
   {
    "duration": 5,
    "start_time": "2023-02-10T06:19:57.829Z"
   },
   {
    "duration": 72,
    "start_time": "2023-02-10T06:19:57.836Z"
   },
   {
    "duration": 0,
    "start_time": "2023-02-10T06:19:57.910Z"
   },
   {
    "duration": 101,
    "start_time": "2023-02-10T06:20:20.781Z"
   },
   {
    "duration": 7,
    "start_time": "2023-02-10T06:20:35.965Z"
   },
   {
    "duration": 89,
    "start_time": "2023-02-10T06:20:36.504Z"
   },
   {
    "duration": 118,
    "start_time": "2023-02-10T06:21:19.684Z"
   },
   {
    "duration": 1457,
    "start_time": "2023-02-10T06:21:23.936Z"
   },
   {
    "duration": 756,
    "start_time": "2023-02-10T06:21:25.395Z"
   },
   {
    "duration": 148,
    "start_time": "2023-02-10T06:21:26.152Z"
   },
   {
    "duration": 15,
    "start_time": "2023-02-10T06:21:26.302Z"
   },
   {
    "duration": 463,
    "start_time": "2023-02-10T06:21:26.319Z"
   },
   {
    "duration": 149,
    "start_time": "2023-02-10T06:21:26.784Z"
   },
   {
    "duration": 5,
    "start_time": "2023-02-10T06:21:26.934Z"
   },
   {
    "duration": 489,
    "start_time": "2023-02-10T06:21:26.940Z"
   },
   {
    "duration": 117,
    "start_time": "2023-02-10T06:21:27.430Z"
   },
   {
    "duration": 1568,
    "start_time": "2023-02-10T06:22:34.280Z"
   },
   {
    "duration": 834,
    "start_time": "2023-02-10T06:22:35.850Z"
   },
   {
    "duration": 206,
    "start_time": "2023-02-10T06:22:36.686Z"
   },
   {
    "duration": 18,
    "start_time": "2023-02-10T06:22:36.894Z"
   },
   {
    "duration": 521,
    "start_time": "2023-02-10T06:22:36.914Z"
   },
   {
    "duration": 147,
    "start_time": "2023-02-10T06:22:37.437Z"
   },
   {
    "duration": 5,
    "start_time": "2023-02-10T06:22:37.585Z"
   },
   {
    "duration": 489,
    "start_time": "2023-02-10T06:22:37.592Z"
   },
   {
    "duration": 141,
    "start_time": "2023-02-10T06:22:38.084Z"
   },
   {
    "duration": 15,
    "start_time": "2023-02-10T06:22:49.589Z"
   },
   {
    "duration": 15,
    "start_time": "2023-02-10T06:23:00.088Z"
   },
   {
    "duration": 1582,
    "start_time": "2023-02-10T06:23:04.591Z"
   },
   {
    "duration": 904,
    "start_time": "2023-02-10T06:23:06.184Z"
   },
   {
    "duration": 154,
    "start_time": "2023-02-10T06:23:07.090Z"
   },
   {
    "duration": 28,
    "start_time": "2023-02-10T06:23:07.246Z"
   },
   {
    "duration": 474,
    "start_time": "2023-02-10T06:23:07.276Z"
   },
   {
    "duration": 159,
    "start_time": "2023-02-10T06:23:07.752Z"
   },
   {
    "duration": 5,
    "start_time": "2023-02-10T06:23:07.913Z"
   },
   {
    "duration": 523,
    "start_time": "2023-02-10T06:23:07.920Z"
   },
   {
    "duration": 43,
    "start_time": "2023-02-10T06:23:08.445Z"
   },
   {
    "duration": 77,
    "start_time": "2023-02-10T06:27:05.407Z"
   },
   {
    "duration": 1292,
    "start_time": "2023-02-10T06:27:12.215Z"
   },
   {
    "duration": 761,
    "start_time": "2023-02-10T06:27:13.509Z"
   },
   {
    "duration": 142,
    "start_time": "2023-02-10T06:27:14.272Z"
   },
   {
    "duration": 15,
    "start_time": "2023-02-10T06:27:14.416Z"
   },
   {
    "duration": 477,
    "start_time": "2023-02-10T06:27:14.433Z"
   },
   {
    "duration": 164,
    "start_time": "2023-02-10T06:27:14.912Z"
   },
   {
    "duration": 10,
    "start_time": "2023-02-10T06:27:15.079Z"
   },
   {
    "duration": 485,
    "start_time": "2023-02-10T06:27:15.090Z"
   },
   {
    "duration": 33,
    "start_time": "2023-02-10T06:27:15.577Z"
   },
   {
    "duration": 82,
    "start_time": "2023-02-10T06:27:34.330Z"
   },
   {
    "duration": 80,
    "start_time": "2023-02-10T06:28:24.745Z"
   },
   {
    "duration": 1464,
    "start_time": "2023-02-10T06:28:30.386Z"
   },
   {
    "duration": 759,
    "start_time": "2023-02-10T06:28:31.852Z"
   },
   {
    "duration": 139,
    "start_time": "2023-02-10T06:28:32.612Z"
   },
   {
    "duration": 22,
    "start_time": "2023-02-10T06:28:32.753Z"
   },
   {
    "duration": 480,
    "start_time": "2023-02-10T06:28:32.777Z"
   },
   {
    "duration": 131,
    "start_time": "2023-02-10T06:28:33.259Z"
   },
   {
    "duration": 98,
    "start_time": "2023-02-10T06:28:33.392Z"
   },
   {
    "duration": 4,
    "start_time": "2023-02-10T06:28:33.492Z"
   },
   {
    "duration": 549,
    "start_time": "2023-02-10T06:28:33.498Z"
   },
   {
    "duration": 42,
    "start_time": "2023-02-10T06:28:34.050Z"
   },
   {
    "duration": 95,
    "start_time": "2023-02-10T06:40:14.709Z"
   },
   {
    "duration": 1548,
    "start_time": "2023-02-10T07:17:05.837Z"
   },
   {
    "duration": 781,
    "start_time": "2023-02-10T07:17:07.388Z"
   },
   {
    "duration": 128,
    "start_time": "2023-02-10T07:17:08.171Z"
   },
   {
    "duration": 15,
    "start_time": "2023-02-10T07:17:08.301Z"
   },
   {
    "duration": 453,
    "start_time": "2023-02-10T07:17:08.317Z"
   },
   {
    "duration": 145,
    "start_time": "2023-02-10T07:17:08.773Z"
   },
   {
    "duration": 112,
    "start_time": "2023-02-10T07:17:08.920Z"
   },
   {
    "duration": 6,
    "start_time": "2023-02-10T07:17:09.033Z"
   },
   {
    "duration": 494,
    "start_time": "2023-02-10T07:17:09.041Z"
   },
   {
    "duration": 39,
    "start_time": "2023-02-10T07:17:09.538Z"
   },
   {
    "duration": 9,
    "start_time": "2023-02-10T07:19:01.826Z"
   },
   {
    "duration": 29,
    "start_time": "2023-02-10T07:20:39.320Z"
   },
   {
    "duration": 1561,
    "start_time": "2023-02-10T07:20:43.910Z"
   },
   {
    "duration": 832,
    "start_time": "2023-02-10T07:20:45.472Z"
   },
   {
    "duration": 156,
    "start_time": "2023-02-10T07:20:46.305Z"
   },
   {
    "duration": 16,
    "start_time": "2023-02-10T07:20:46.467Z"
   },
   {
    "duration": 530,
    "start_time": "2023-02-10T07:20:46.486Z"
   },
   {
    "duration": 272,
    "start_time": "2023-02-10T07:20:47.019Z"
   },
   {
    "duration": 135,
    "start_time": "2023-02-10T07:20:47.293Z"
   },
   {
    "duration": 5,
    "start_time": "2023-02-10T07:20:47.430Z"
   },
   {
    "duration": 539,
    "start_time": "2023-02-10T07:20:47.438Z"
   },
   {
    "duration": 37,
    "start_time": "2023-02-10T07:20:47.979Z"
   },
   {
    "duration": 18,
    "start_time": "2023-02-10T07:20:48.018Z"
   },
   {
    "duration": 48,
    "start_time": "2023-02-10T07:20:48.039Z"
   },
   {
    "duration": 299,
    "start_time": "2023-02-10T07:22:32.405Z"
   },
   {
    "duration": 1168,
    "start_time": "2023-02-10T07:26:42.904Z"
   },
   {
    "duration": 1387,
    "start_time": "2023-02-10T07:27:21.931Z"
   },
   {
    "duration": 755,
    "start_time": "2023-02-10T07:27:23.320Z"
   },
   {
    "duration": 143,
    "start_time": "2023-02-10T07:27:24.077Z"
   },
   {
    "duration": 13,
    "start_time": "2023-02-10T07:27:24.222Z"
   },
   {
    "duration": 432,
    "start_time": "2023-02-10T07:27:24.237Z"
   },
   {
    "duration": 123,
    "start_time": "2023-02-10T07:27:24.670Z"
   },
   {
    "duration": 2101,
    "start_time": "2023-02-10T07:27:24.795Z"
   },
   {
    "duration": 91,
    "start_time": "2023-02-10T07:27:26.897Z"
   },
   {
    "duration": 4,
    "start_time": "2023-02-10T07:27:26.990Z"
   },
   {
    "duration": 435,
    "start_time": "2023-02-10T07:27:26.997Z"
   },
   {
    "duration": 34,
    "start_time": "2023-02-10T07:27:27.434Z"
   },
   {
    "duration": 10,
    "start_time": "2023-02-10T07:27:27.470Z"
   },
   {
    "duration": 274,
    "start_time": "2023-02-10T07:27:27.482Z"
   },
   {
    "duration": 27,
    "start_time": "2023-02-10T07:27:27.766Z"
   },
   {
    "duration": 1189,
    "start_time": "2023-02-10T07:27:27.794Z"
   },
   {
    "duration": 1451,
    "start_time": "2023-02-10T07:28:04.784Z"
   },
   {
    "duration": 757,
    "start_time": "2023-02-10T07:28:06.237Z"
   },
   {
    "duration": 153,
    "start_time": "2023-02-10T07:28:06.996Z"
   },
   {
    "duration": 23,
    "start_time": "2023-02-10T07:28:07.151Z"
   },
   {
    "duration": 420,
    "start_time": "2023-02-10T07:28:07.175Z"
   },
   {
    "duration": 121,
    "start_time": "2023-02-10T07:28:07.597Z"
   },
   {
    "duration": 95,
    "start_time": "2023-02-10T07:28:07.719Z"
   },
   {
    "duration": 4,
    "start_time": "2023-02-10T07:28:07.816Z"
   },
   {
    "duration": 473,
    "start_time": "2023-02-10T07:28:07.822Z"
   },
   {
    "duration": 37,
    "start_time": "2023-02-10T07:28:08.297Z"
   },
   {
    "duration": 1224,
    "start_time": "2023-02-10T07:28:08.337Z"
   },
   {
    "duration": 12,
    "start_time": "2023-02-10T07:28:09.563Z"
   },
   {
    "duration": 277,
    "start_time": "2023-02-10T07:28:09.576Z"
   },
   {
    "duration": 34,
    "start_time": "2023-02-10T07:28:09.855Z"
   },
   {
    "duration": 1138,
    "start_time": "2023-02-10T07:28:09.891Z"
   },
   {
    "duration": 8,
    "start_time": "2023-02-10T07:28:56.050Z"
   },
   {
    "duration": 1443,
    "start_time": "2023-02-10T07:29:14.160Z"
   },
   {
    "duration": 767,
    "start_time": "2023-02-10T07:29:15.605Z"
   },
   {
    "duration": 129,
    "start_time": "2023-02-10T07:29:16.373Z"
   },
   {
    "duration": 14,
    "start_time": "2023-02-10T07:29:16.505Z"
   },
   {
    "duration": 473,
    "start_time": "2023-02-10T07:29:16.521Z"
   },
   {
    "duration": 138,
    "start_time": "2023-02-10T07:29:16.996Z"
   },
   {
    "duration": 93,
    "start_time": "2023-02-10T07:29:17.136Z"
   },
   {
    "duration": 4,
    "start_time": "2023-02-10T07:29:17.231Z"
   },
   {
    "duration": 491,
    "start_time": "2023-02-10T07:29:17.236Z"
   },
   {
    "duration": 31,
    "start_time": "2023-02-10T07:29:17.729Z"
   },
   {
    "duration": 1382,
    "start_time": "2023-02-10T07:29:17.761Z"
   },
   {
    "duration": 23,
    "start_time": "2023-02-10T07:29:19.145Z"
   },
   {
    "duration": 280,
    "start_time": "2023-02-10T07:29:19.169Z"
   },
   {
    "duration": 43,
    "start_time": "2023-02-10T07:29:19.451Z"
   },
   {
    "duration": 1198,
    "start_time": "2023-02-10T07:29:19.495Z"
   },
   {
    "duration": 8,
    "start_time": "2023-02-10T07:30:40.327Z"
   },
   {
    "duration": 10,
    "start_time": "2023-02-10T07:31:01.476Z"
   },
   {
    "duration": 8,
    "start_time": "2023-02-10T07:31:48.997Z"
   },
   {
    "duration": 1459,
    "start_time": "2023-02-10T07:33:36.270Z"
   },
   {
    "duration": 756,
    "start_time": "2023-02-10T07:33:37.730Z"
   },
   {
    "duration": 125,
    "start_time": "2023-02-10T07:33:38.488Z"
   },
   {
    "duration": 15,
    "start_time": "2023-02-10T07:33:38.614Z"
   },
   {
    "duration": 459,
    "start_time": "2023-02-10T07:33:38.630Z"
   },
   {
    "duration": 120,
    "start_time": "2023-02-10T07:33:39.090Z"
   },
   {
    "duration": 96,
    "start_time": "2023-02-10T07:33:39.212Z"
   },
   {
    "duration": 4,
    "start_time": "2023-02-10T07:33:39.309Z"
   },
   {
    "duration": 469,
    "start_time": "2023-02-10T07:33:39.315Z"
   },
   {
    "duration": 34,
    "start_time": "2023-02-10T07:33:39.786Z"
   },
   {
    "duration": 71,
    "start_time": "2023-02-10T07:33:39.821Z"
   },
   {
    "duration": 0,
    "start_time": "2023-02-10T07:33:39.894Z"
   },
   {
    "duration": 0,
    "start_time": "2023-02-10T07:33:39.895Z"
   },
   {
    "duration": 0,
    "start_time": "2023-02-10T07:33:39.896Z"
   },
   {
    "duration": 0,
    "start_time": "2023-02-10T07:33:39.896Z"
   },
   {
    "duration": 0,
    "start_time": "2023-02-10T07:33:39.897Z"
   },
   {
    "duration": 0,
    "start_time": "2023-02-10T07:33:39.898Z"
   },
   {
    "duration": 0,
    "start_time": "2023-02-10T07:33:39.899Z"
   },
   {
    "duration": 0,
    "start_time": "2023-02-10T07:33:39.900Z"
   },
   {
    "duration": 1270,
    "start_time": "2023-02-10T07:33:44.965Z"
   },
   {
    "duration": 8,
    "start_time": "2023-02-10T07:33:46.237Z"
   },
   {
    "duration": 23,
    "start_time": "2023-02-10T07:33:46.246Z"
   },
   {
    "duration": 7,
    "start_time": "2023-02-10T07:33:46.271Z"
   },
   {
    "duration": 7,
    "start_time": "2023-02-10T07:33:46.279Z"
   },
   {
    "duration": 264,
    "start_time": "2023-02-10T07:33:46.303Z"
   },
   {
    "duration": 31,
    "start_time": "2023-02-10T07:33:46.672Z"
   },
   {
    "duration": 1434,
    "start_time": "2023-02-10T07:34:44.927Z"
   },
   {
    "duration": 835,
    "start_time": "2023-02-10T07:34:46.363Z"
   },
   {
    "duration": 130,
    "start_time": "2023-02-10T07:34:47.200Z"
   },
   {
    "duration": 16,
    "start_time": "2023-02-10T07:34:47.332Z"
   },
   {
    "duration": 474,
    "start_time": "2023-02-10T07:34:47.349Z"
   },
   {
    "duration": 127,
    "start_time": "2023-02-10T07:34:47.825Z"
   },
   {
    "duration": 96,
    "start_time": "2023-02-10T07:34:47.953Z"
   },
   {
    "duration": 4,
    "start_time": "2023-02-10T07:34:48.050Z"
   },
   {
    "duration": 490,
    "start_time": "2023-02-10T07:34:48.067Z"
   },
   {
    "duration": 36,
    "start_time": "2023-02-10T07:34:48.560Z"
   },
   {
    "duration": 1373,
    "start_time": "2023-02-10T07:34:48.597Z"
   },
   {
    "duration": 308,
    "start_time": "2023-02-10T07:34:49.971Z"
   },
   {
    "duration": 32,
    "start_time": "2023-02-10T07:34:50.280Z"
   },
   {
    "duration": 1316,
    "start_time": "2023-02-10T07:34:50.314Z"
   },
   {
    "duration": 1382,
    "start_time": "2023-02-10T07:36:45.700Z"
   },
   {
    "duration": 814,
    "start_time": "2023-02-10T07:36:47.084Z"
   },
   {
    "duration": 137,
    "start_time": "2023-02-10T07:36:47.900Z"
   },
   {
    "duration": 29,
    "start_time": "2023-02-10T07:36:48.039Z"
   },
   {
    "duration": 480,
    "start_time": "2023-02-10T07:36:48.069Z"
   },
   {
    "duration": 131,
    "start_time": "2023-02-10T07:36:48.551Z"
   },
   {
    "duration": 102,
    "start_time": "2023-02-10T07:36:48.683Z"
   },
   {
    "duration": 5,
    "start_time": "2023-02-10T07:36:48.787Z"
   },
   {
    "duration": 499,
    "start_time": "2023-02-10T07:36:48.793Z"
   },
   {
    "duration": 37,
    "start_time": "2023-02-10T07:36:49.295Z"
   },
   {
    "duration": 1312,
    "start_time": "2023-02-10T07:36:49.333Z"
   },
   {
    "duration": 74,
    "start_time": "2023-02-10T07:36:50.647Z"
   },
   {
    "duration": 0,
    "start_time": "2023-02-10T07:36:50.722Z"
   },
   {
    "duration": 0,
    "start_time": "2023-02-10T07:36:50.723Z"
   },
   {
    "duration": 0,
    "start_time": "2023-02-10T07:36:50.724Z"
   },
   {
    "duration": 0,
    "start_time": "2023-02-10T07:36:50.725Z"
   },
   {
    "duration": 4,
    "start_time": "2023-02-10T07:36:55.825Z"
   },
   {
    "duration": 122,
    "start_time": "2023-02-10T07:37:23.176Z"
   },
   {
    "duration": 1368,
    "start_time": "2023-02-10T07:37:28.204Z"
   },
   {
    "duration": 844,
    "start_time": "2023-02-10T07:37:29.575Z"
   },
   {
    "duration": 145,
    "start_time": "2023-02-10T07:37:30.420Z"
   },
   {
    "duration": 49,
    "start_time": "2023-02-10T07:37:30.566Z"
   },
   {
    "duration": 535,
    "start_time": "2023-02-10T07:37:30.617Z"
   },
   {
    "duration": 144,
    "start_time": "2023-02-10T07:37:31.154Z"
   },
   {
    "duration": 116,
    "start_time": "2023-02-10T07:37:31.300Z"
   },
   {
    "duration": 5,
    "start_time": "2023-02-10T07:37:31.419Z"
   },
   {
    "duration": 512,
    "start_time": "2023-02-10T07:37:31.426Z"
   },
   {
    "duration": 42,
    "start_time": "2023-02-10T07:37:31.940Z"
   },
   {
    "duration": 1373,
    "start_time": "2023-02-10T07:37:31.983Z"
   },
   {
    "duration": 10,
    "start_time": "2023-02-10T07:37:33.357Z"
   },
   {
    "duration": 158,
    "start_time": "2023-02-10T07:37:33.369Z"
   },
   {
    "duration": 0,
    "start_time": "2023-02-10T07:37:33.528Z"
   },
   {
    "duration": 0,
    "start_time": "2023-02-10T07:37:33.530Z"
   },
   {
    "duration": 0,
    "start_time": "2023-02-10T07:37:33.531Z"
   },
   {
    "duration": 1877,
    "start_time": "2023-02-10T07:37:41.456Z"
   },
   {
    "duration": 9,
    "start_time": "2023-02-10T07:39:16.032Z"
   },
   {
    "duration": 1391,
    "start_time": "2023-02-10T07:42:29.618Z"
   },
   {
    "duration": 781,
    "start_time": "2023-02-10T07:42:31.011Z"
   },
   {
    "duration": 136,
    "start_time": "2023-02-10T07:42:31.794Z"
   },
   {
    "duration": 15,
    "start_time": "2023-02-10T07:42:31.933Z"
   },
   {
    "duration": 461,
    "start_time": "2023-02-10T07:42:31.949Z"
   },
   {
    "duration": 121,
    "start_time": "2023-02-10T07:42:32.412Z"
   },
   {
    "duration": 96,
    "start_time": "2023-02-10T07:42:32.535Z"
   },
   {
    "duration": 4,
    "start_time": "2023-02-10T07:42:32.633Z"
   },
   {
    "duration": 506,
    "start_time": "2023-02-10T07:42:32.639Z"
   },
   {
    "duration": 37,
    "start_time": "2023-02-10T07:42:33.147Z"
   },
   {
    "duration": 1325,
    "start_time": "2023-02-10T07:42:33.187Z"
   },
   {
    "duration": 3,
    "start_time": "2023-02-10T07:42:34.513Z"
   },
   {
    "duration": 76,
    "start_time": "2023-02-10T07:42:34.518Z"
   },
   {
    "duration": 0,
    "start_time": "2023-02-10T07:42:34.596Z"
   },
   {
    "duration": 0,
    "start_time": "2023-02-10T07:42:34.597Z"
   },
   {
    "duration": 0,
    "start_time": "2023-02-10T07:42:34.598Z"
   },
   {
    "duration": 72,
    "start_time": "2023-02-10T07:42:50.364Z"
   },
   {
    "duration": 1895,
    "start_time": "2023-02-10T07:42:56.982Z"
   },
   {
    "duration": 1676,
    "start_time": "2023-02-10T07:43:18.343Z"
   },
   {
    "duration": 30,
    "start_time": "2023-02-10T07:48:21.216Z"
   },
   {
    "duration": 10,
    "start_time": "2023-02-10T07:48:34.444Z"
   },
   {
    "duration": 10,
    "start_time": "2023-02-10T07:48:52.987Z"
   },
   {
    "duration": 1428,
    "start_time": "2023-02-10T07:48:58.810Z"
   },
   {
    "duration": 865,
    "start_time": "2023-02-10T07:49:00.241Z"
   },
   {
    "duration": 142,
    "start_time": "2023-02-10T07:49:01.107Z"
   },
   {
    "duration": 25,
    "start_time": "2023-02-10T07:49:01.252Z"
   },
   {
    "duration": 462,
    "start_time": "2023-02-10T07:49:01.279Z"
   },
   {
    "duration": 136,
    "start_time": "2023-02-10T07:49:01.743Z"
   },
   {
    "duration": 101,
    "start_time": "2023-02-10T07:49:01.880Z"
   },
   {
    "duration": 7,
    "start_time": "2023-02-10T07:49:01.983Z"
   },
   {
    "duration": 652,
    "start_time": "2023-02-10T07:49:01.992Z"
   },
   {
    "duration": 44,
    "start_time": "2023-02-10T07:49:02.647Z"
   },
   {
    "duration": 1384,
    "start_time": "2023-02-10T07:49:02.693Z"
   },
   {
    "duration": 4,
    "start_time": "2023-02-10T07:49:04.079Z"
   },
   {
    "duration": 1940,
    "start_time": "2023-02-10T07:49:04.085Z"
   },
   {
    "duration": 8,
    "start_time": "2023-02-10T07:49:06.027Z"
   },
   {
    "duration": 38,
    "start_time": "2023-02-10T07:49:06.037Z"
   },
   {
    "duration": 9,
    "start_time": "2023-02-10T07:49:06.077Z"
   },
   {
    "duration": 1499,
    "start_time": "2023-02-10T07:50:50.443Z"
   },
   {
    "duration": 810,
    "start_time": "2023-02-10T07:50:51.944Z"
   },
   {
    "duration": 142,
    "start_time": "2023-02-10T07:50:52.756Z"
   },
   {
    "duration": 15,
    "start_time": "2023-02-10T07:50:52.900Z"
   },
   {
    "duration": 503,
    "start_time": "2023-02-10T07:50:52.917Z"
   },
   {
    "duration": 126,
    "start_time": "2023-02-10T07:50:53.422Z"
   },
   {
    "duration": 101,
    "start_time": "2023-02-10T07:50:53.550Z"
   },
   {
    "duration": 17,
    "start_time": "2023-02-10T07:50:53.652Z"
   },
   {
    "duration": 531,
    "start_time": "2023-02-10T07:50:53.670Z"
   },
   {
    "duration": 37,
    "start_time": "2023-02-10T07:50:54.203Z"
   },
   {
    "duration": 1508,
    "start_time": "2023-02-10T07:50:54.242Z"
   },
   {
    "duration": 18,
    "start_time": "2023-02-10T07:50:55.752Z"
   },
   {
    "duration": 9,
    "start_time": "2023-02-10T07:50:55.772Z"
   },
   {
    "duration": 8,
    "start_time": "2023-02-10T07:50:55.783Z"
   },
   {
    "duration": 8,
    "start_time": "2023-02-10T07:50:55.793Z"
   },
   {
    "duration": 4,
    "start_time": "2023-02-10T07:50:55.802Z"
   },
   {
    "duration": 1966,
    "start_time": "2023-02-10T07:50:55.808Z"
   },
   {
    "duration": 9,
    "start_time": "2023-02-10T07:50:57.776Z"
   },
   {
    "duration": 28,
    "start_time": "2023-02-10T07:50:57.787Z"
   },
   {
    "duration": 1427,
    "start_time": "2023-02-10T07:51:26.393Z"
   },
   {
    "duration": 798,
    "start_time": "2023-02-10T07:51:27.822Z"
   },
   {
    "duration": 135,
    "start_time": "2023-02-10T07:51:28.622Z"
   },
   {
    "duration": 20,
    "start_time": "2023-02-10T07:51:28.760Z"
   },
   {
    "duration": 506,
    "start_time": "2023-02-10T07:51:28.782Z"
   },
   {
    "duration": 129,
    "start_time": "2023-02-10T07:51:29.291Z"
   },
   {
    "duration": 104,
    "start_time": "2023-02-10T07:51:29.422Z"
   },
   {
    "duration": 5,
    "start_time": "2023-02-10T07:51:29.527Z"
   },
   {
    "duration": 516,
    "start_time": "2023-02-10T07:51:29.533Z"
   },
   {
    "duration": 42,
    "start_time": "2023-02-10T07:51:30.052Z"
   },
   {
    "duration": 1421,
    "start_time": "2023-02-10T07:51:30.096Z"
   },
   {
    "duration": 10,
    "start_time": "2023-02-10T07:51:31.518Z"
   },
   {
    "duration": 16,
    "start_time": "2023-02-10T07:51:31.529Z"
   },
   {
    "duration": 21,
    "start_time": "2023-02-10T07:51:31.547Z"
   },
   {
    "duration": 23,
    "start_time": "2023-02-10T07:51:31.569Z"
   },
   {
    "duration": 11,
    "start_time": "2023-02-10T07:51:31.594Z"
   },
   {
    "duration": 1828,
    "start_time": "2023-02-10T07:51:31.607Z"
   },
   {
    "duration": 9,
    "start_time": "2023-02-10T07:51:33.437Z"
   },
   {
    "duration": 37,
    "start_time": "2023-02-10T07:51:33.447Z"
   },
   {
    "duration": 1440,
    "start_time": "2023-02-10T07:51:54.527Z"
   },
   {
    "duration": 801,
    "start_time": "2023-02-10T07:51:55.969Z"
   },
   {
    "duration": 165,
    "start_time": "2023-02-10T07:51:56.772Z"
   },
   {
    "duration": 29,
    "start_time": "2023-02-10T07:51:56.939Z"
   },
   {
    "duration": 482,
    "start_time": "2023-02-10T07:51:56.970Z"
   },
   {
    "duration": 125,
    "start_time": "2023-02-10T07:51:57.454Z"
   },
   {
    "duration": 108,
    "start_time": "2023-02-10T07:51:57.581Z"
   },
   {
    "duration": 5,
    "start_time": "2023-02-10T07:51:57.691Z"
   },
   {
    "duration": 492,
    "start_time": "2023-02-10T07:51:57.698Z"
   },
   {
    "duration": 30,
    "start_time": "2023-02-10T07:51:58.193Z"
   },
   {
    "duration": 1323,
    "start_time": "2023-02-10T07:51:58.225Z"
   },
   {
    "duration": 22,
    "start_time": "2023-02-10T07:51:59.550Z"
   },
   {
    "duration": 8,
    "start_time": "2023-02-10T07:51:59.573Z"
   },
   {
    "duration": 8,
    "start_time": "2023-02-10T07:51:59.582Z"
   },
   {
    "duration": 7,
    "start_time": "2023-02-10T07:51:59.592Z"
   },
   {
    "duration": 5,
    "start_time": "2023-02-10T07:51:59.601Z"
   },
   {
    "duration": 1841,
    "start_time": "2023-02-10T07:51:59.608Z"
   },
   {
    "duration": 32,
    "start_time": "2023-02-10T07:52:01.451Z"
   },
   {
    "duration": 1593,
    "start_time": "2023-02-10T07:58:22.524Z"
   },
   {
    "duration": 1568,
    "start_time": "2023-02-10T07:59:06.833Z"
   },
   {
    "duration": 9,
    "start_time": "2023-02-10T08:04:13.486Z"
   },
   {
    "duration": 1335,
    "start_time": "2023-02-10T08:12:04.874Z"
   },
   {
    "duration": 795,
    "start_time": "2023-02-10T08:12:06.211Z"
   },
   {
    "duration": 159,
    "start_time": "2023-02-10T08:12:07.008Z"
   },
   {
    "duration": 18,
    "start_time": "2023-02-10T08:12:07.170Z"
   },
   {
    "duration": 476,
    "start_time": "2023-02-10T08:12:07.191Z"
   },
   {
    "duration": 113,
    "start_time": "2023-02-10T08:12:07.669Z"
   },
   {
    "duration": 98,
    "start_time": "2023-02-10T08:12:07.784Z"
   },
   {
    "duration": 4,
    "start_time": "2023-02-10T08:12:07.884Z"
   },
   {
    "duration": 488,
    "start_time": "2023-02-10T08:12:07.889Z"
   },
   {
    "duration": 36,
    "start_time": "2023-02-10T08:12:08.380Z"
   },
   {
    "duration": 1229,
    "start_time": "2023-02-10T08:12:08.418Z"
   },
   {
    "duration": 19,
    "start_time": "2023-02-10T08:12:09.649Z"
   },
   {
    "duration": 7,
    "start_time": "2023-02-10T08:12:09.669Z"
   },
   {
    "duration": 6,
    "start_time": "2023-02-10T08:12:09.677Z"
   },
   {
    "duration": 7,
    "start_time": "2023-02-10T08:12:09.685Z"
   },
   {
    "duration": 3,
    "start_time": "2023-02-10T08:12:09.694Z"
   },
   {
    "duration": 1782,
    "start_time": "2023-02-10T08:12:09.699Z"
   },
   {
    "duration": 29,
    "start_time": "2023-02-10T08:12:11.483Z"
   },
   {
    "duration": 1448,
    "start_time": "2023-02-10T08:12:11.514Z"
   },
   {
    "duration": 95,
    "start_time": "2023-02-10T08:12:12.967Z"
   },
   {
    "duration": 0,
    "start_time": "2023-02-10T08:12:13.064Z"
   },
   {
    "duration": 0,
    "start_time": "2023-02-10T08:12:13.065Z"
   },
   {
    "duration": 9,
    "start_time": "2023-02-10T08:12:23.693Z"
   },
   {
    "duration": 28,
    "start_time": "2023-02-10T08:12:24.717Z"
   },
   {
    "duration": 1410,
    "start_time": "2023-02-10T08:12:25.237Z"
   },
   {
    "duration": 1463,
    "start_time": "2023-02-10T08:19:55.199Z"
   },
   {
    "duration": 1429,
    "start_time": "2023-02-10T08:23:39.133Z"
   },
   {
    "duration": 792,
    "start_time": "2023-02-10T08:23:40.566Z"
   },
   {
    "duration": 142,
    "start_time": "2023-02-10T08:23:41.360Z"
   },
   {
    "duration": 16,
    "start_time": "2023-02-10T08:23:41.504Z"
   },
   {
    "duration": 474,
    "start_time": "2023-02-10T08:23:41.522Z"
   },
   {
    "duration": 125,
    "start_time": "2023-02-10T08:23:41.998Z"
   },
   {
    "duration": 96,
    "start_time": "2023-02-10T08:23:42.125Z"
   },
   {
    "duration": 4,
    "start_time": "2023-02-10T08:23:42.222Z"
   },
   {
    "duration": 505,
    "start_time": "2023-02-10T08:23:42.228Z"
   },
   {
    "duration": 40,
    "start_time": "2023-02-10T08:23:42.735Z"
   },
   {
    "duration": 1412,
    "start_time": "2023-02-10T08:23:42.777Z"
   },
   {
    "duration": 9,
    "start_time": "2023-02-10T08:23:44.190Z"
   },
   {
    "duration": 11,
    "start_time": "2023-02-10T08:23:44.200Z"
   },
   {
    "duration": 7,
    "start_time": "2023-02-10T08:23:44.213Z"
   },
   {
    "duration": 6,
    "start_time": "2023-02-10T08:23:44.221Z"
   },
   {
    "duration": 4,
    "start_time": "2023-02-10T08:23:44.228Z"
   },
   {
    "duration": 1934,
    "start_time": "2023-02-10T08:23:44.234Z"
   },
   {
    "duration": 29,
    "start_time": "2023-02-10T08:23:46.170Z"
   },
   {
    "duration": 1554,
    "start_time": "2023-02-10T08:23:46.201Z"
   },
   {
    "duration": 13,
    "start_time": "2023-02-10T08:23:47.757Z"
   },
   {
    "duration": 25,
    "start_time": "2023-02-10T08:23:47.772Z"
   },
   {
    "duration": 1477,
    "start_time": "2023-02-10T08:23:47.800Z"
   },
   {
    "duration": 139,
    "start_time": "2023-02-10T08:23:49.280Z"
   },
   {
    "duration": 22,
    "start_time": "2023-02-10T08:23:56.626Z"
   },
   {
    "duration": 1563,
    "start_time": "2023-02-10T08:24:02.888Z"
   },
   {
    "duration": 8,
    "start_time": "2023-02-10T08:25:15.477Z"
   },
   {
    "duration": 8,
    "start_time": "2023-02-10T08:25:22.678Z"
   },
   {
    "duration": 1517,
    "start_time": "2023-02-10T08:27:14.628Z"
   },
   {
    "duration": 799,
    "start_time": "2023-02-10T08:27:16.147Z"
   },
   {
    "duration": 162,
    "start_time": "2023-02-10T08:27:16.948Z"
   },
   {
    "duration": 16,
    "start_time": "2023-02-10T08:27:17.112Z"
   },
   {
    "duration": 467,
    "start_time": "2023-02-10T08:27:17.130Z"
   },
   {
    "duration": 122,
    "start_time": "2023-02-10T08:27:17.599Z"
   },
   {
    "duration": 93,
    "start_time": "2023-02-10T08:27:17.723Z"
   },
   {
    "duration": 4,
    "start_time": "2023-02-10T08:27:17.818Z"
   },
   {
    "duration": 474,
    "start_time": "2023-02-10T08:27:17.824Z"
   },
   {
    "duration": 28,
    "start_time": "2023-02-10T08:27:18.301Z"
   },
   {
    "duration": 1329,
    "start_time": "2023-02-10T08:27:18.331Z"
   },
   {
    "duration": 13,
    "start_time": "2023-02-10T08:27:19.661Z"
   },
   {
    "duration": 8,
    "start_time": "2023-02-10T08:27:19.675Z"
   },
   {
    "duration": 8,
    "start_time": "2023-02-10T08:27:19.684Z"
   },
   {
    "duration": 7,
    "start_time": "2023-02-10T08:27:19.693Z"
   },
   {
    "duration": 4,
    "start_time": "2023-02-10T08:27:19.702Z"
   },
   {
    "duration": 1789,
    "start_time": "2023-02-10T08:27:19.707Z"
   },
   {
    "duration": 23,
    "start_time": "2023-02-10T08:27:21.498Z"
   },
   {
    "duration": 1585,
    "start_time": "2023-02-10T08:27:21.523Z"
   },
   {
    "duration": 10,
    "start_time": "2023-02-10T08:27:23.110Z"
   },
   {
    "duration": 61,
    "start_time": "2023-02-10T08:27:23.121Z"
   },
   {
    "duration": 1690,
    "start_time": "2023-02-10T08:27:23.184Z"
   },
   {
    "duration": 1672,
    "start_time": "2023-02-10T08:27:24.876Z"
   },
   {
    "duration": 31,
    "start_time": "2023-02-10T08:27:26.550Z"
   },
   {
    "duration": 1541,
    "start_time": "2023-02-10T08:27:26.583Z"
   },
   {
    "duration": 7,
    "start_time": "2023-02-10T08:27:28.126Z"
   },
   {
    "duration": 1324,
    "start_time": "2023-02-10T08:28:48.693Z"
   },
   {
    "duration": 789,
    "start_time": "2023-02-10T08:28:50.019Z"
   },
   {
    "duration": 140,
    "start_time": "2023-02-10T08:28:50.809Z"
   },
   {
    "duration": 21,
    "start_time": "2023-02-10T08:28:50.952Z"
   },
   {
    "duration": 458,
    "start_time": "2023-02-10T08:28:50.975Z"
   },
   {
    "duration": 125,
    "start_time": "2023-02-10T08:28:51.435Z"
   },
   {
    "duration": 88,
    "start_time": "2023-02-10T08:28:51.561Z"
   },
   {
    "duration": 16,
    "start_time": "2023-02-10T08:28:51.651Z"
   },
   {
    "duration": 487,
    "start_time": "2023-02-10T08:28:51.669Z"
   },
   {
    "duration": 41,
    "start_time": "2023-02-10T08:28:52.158Z"
   },
   {
    "duration": 1239,
    "start_time": "2023-02-10T08:28:52.201Z"
   },
   {
    "duration": 10,
    "start_time": "2023-02-10T08:28:53.442Z"
   },
   {
    "duration": 20,
    "start_time": "2023-02-10T08:28:53.453Z"
   },
   {
    "duration": 8,
    "start_time": "2023-02-10T08:28:53.475Z"
   },
   {
    "duration": 7,
    "start_time": "2023-02-10T08:28:53.484Z"
   },
   {
    "duration": 5,
    "start_time": "2023-02-10T08:28:53.493Z"
   },
   {
    "duration": 1843,
    "start_time": "2023-02-10T08:28:53.499Z"
   },
   {
    "duration": 34,
    "start_time": "2023-02-10T08:28:55.343Z"
   },
   {
    "duration": 1452,
    "start_time": "2023-02-10T08:28:55.379Z"
   },
   {
    "duration": 9,
    "start_time": "2023-02-10T08:28:56.832Z"
   },
   {
    "duration": 35,
    "start_time": "2023-02-10T08:28:56.843Z"
   },
   {
    "duration": 1508,
    "start_time": "2023-02-10T08:28:56.879Z"
   },
   {
    "duration": 1479,
    "start_time": "2023-02-10T08:28:58.389Z"
   },
   {
    "duration": 25,
    "start_time": "2023-02-10T08:28:59.870Z"
   },
   {
    "duration": 1537,
    "start_time": "2023-02-10T08:28:59.897Z"
   },
   {
    "duration": 6,
    "start_time": "2023-02-10T08:29:01.436Z"
   },
   {
    "duration": 22,
    "start_time": "2023-02-10T08:29:16.050Z"
   },
   {
    "duration": 1490,
    "start_time": "2023-02-10T08:29:18.277Z"
   },
   {
    "duration": 23,
    "start_time": "2023-02-10T08:29:25.371Z"
   },
   {
    "duration": 1486,
    "start_time": "2023-02-10T08:29:26.477Z"
   },
   {
    "duration": 1477,
    "start_time": "2023-02-10T08:30:33.389Z"
   },
   {
    "duration": 878,
    "start_time": "2023-02-10T08:30:34.868Z"
   },
   {
    "duration": 146,
    "start_time": "2023-02-10T08:30:35.748Z"
   },
   {
    "duration": 16,
    "start_time": "2023-02-10T08:30:35.895Z"
   },
   {
    "duration": 516,
    "start_time": "2023-02-10T08:30:35.913Z"
   },
   {
    "duration": 143,
    "start_time": "2023-02-10T08:30:36.431Z"
   },
   {
    "duration": 113,
    "start_time": "2023-02-10T08:30:36.576Z"
   },
   {
    "duration": 5,
    "start_time": "2023-02-10T08:30:36.690Z"
   },
   {
    "duration": 606,
    "start_time": "2023-02-10T08:30:36.697Z"
   },
   {
    "duration": 41,
    "start_time": "2023-02-10T08:30:37.304Z"
   },
   {
    "duration": 1373,
    "start_time": "2023-02-10T08:30:37.347Z"
   },
   {
    "duration": 10,
    "start_time": "2023-02-10T08:30:38.721Z"
   },
   {
    "duration": 8,
    "start_time": "2023-02-10T08:30:38.732Z"
   },
   {
    "duration": 28,
    "start_time": "2023-02-10T08:30:38.742Z"
   },
   {
    "duration": 7,
    "start_time": "2023-02-10T08:30:38.771Z"
   },
   {
    "duration": 4,
    "start_time": "2023-02-10T08:30:38.780Z"
   },
   {
    "duration": 1790,
    "start_time": "2023-02-10T08:30:38.785Z"
   },
   {
    "duration": 28,
    "start_time": "2023-02-10T08:30:40.576Z"
   },
   {
    "duration": 1444,
    "start_time": "2023-02-10T08:30:40.606Z"
   },
   {
    "duration": 20,
    "start_time": "2023-02-10T08:30:42.051Z"
   },
   {
    "duration": 22,
    "start_time": "2023-02-10T08:30:42.073Z"
   },
   {
    "duration": 1423,
    "start_time": "2023-02-10T08:30:42.097Z"
   },
   {
    "duration": 24,
    "start_time": "2023-02-10T08:30:43.522Z"
   },
   {
    "duration": 1606,
    "start_time": "2023-02-10T08:30:43.548Z"
   },
   {
    "duration": 16,
    "start_time": "2023-02-10T08:30:45.156Z"
   },
   {
    "duration": 29,
    "start_time": "2023-02-10T08:32:05.590Z"
   },
   {
    "duration": 1666,
    "start_time": "2023-02-10T08:32:06.823Z"
   },
   {
    "duration": 1542,
    "start_time": "2023-02-10T08:38:41.194Z"
   },
   {
    "duration": 841,
    "start_time": "2023-02-10T08:38:42.738Z"
   },
   {
    "duration": 148,
    "start_time": "2023-02-10T08:38:43.581Z"
   },
   {
    "duration": 17,
    "start_time": "2023-02-10T08:38:43.731Z"
   },
   {
    "duration": 482,
    "start_time": "2023-02-10T08:38:43.749Z"
   },
   {
    "duration": 125,
    "start_time": "2023-02-10T08:38:44.233Z"
   },
   {
    "duration": 89,
    "start_time": "2023-02-10T08:38:44.359Z"
   },
   {
    "duration": 5,
    "start_time": "2023-02-10T08:38:44.449Z"
   },
   {
    "duration": 510,
    "start_time": "2023-02-10T08:38:44.468Z"
   },
   {
    "duration": 37,
    "start_time": "2023-02-10T08:38:44.982Z"
   },
   {
    "duration": 1296,
    "start_time": "2023-02-10T08:38:45.021Z"
   },
   {
    "duration": 12,
    "start_time": "2023-02-10T08:38:46.318Z"
   },
   {
    "duration": 9,
    "start_time": "2023-02-10T08:38:46.331Z"
   },
   {
    "duration": 29,
    "start_time": "2023-02-10T08:38:46.342Z"
   },
   {
    "duration": 9,
    "start_time": "2023-02-10T08:38:46.372Z"
   },
   {
    "duration": 16,
    "start_time": "2023-02-10T08:38:46.383Z"
   },
   {
    "duration": 1869,
    "start_time": "2023-02-10T08:38:46.400Z"
   },
   {
    "duration": 25,
    "start_time": "2023-02-10T08:38:48.270Z"
   },
   {
    "duration": 1447,
    "start_time": "2023-02-10T08:38:48.297Z"
   },
   {
    "duration": 9,
    "start_time": "2023-02-10T08:38:49.745Z"
   },
   {
    "duration": 34,
    "start_time": "2023-02-10T08:38:49.756Z"
   },
   {
    "duration": 1437,
    "start_time": "2023-02-10T08:38:49.791Z"
   },
   {
    "duration": 28,
    "start_time": "2023-02-10T08:38:51.230Z"
   },
   {
    "duration": 1404,
    "start_time": "2023-02-10T08:38:51.260Z"
   },
   {
    "duration": 9,
    "start_time": "2023-02-10T08:38:52.668Z"
   },
   {
    "duration": 1610,
    "start_time": "2023-02-10T08:39:42.462Z"
   },
   {
    "duration": 20,
    "start_time": "2023-02-10T08:41:37.373Z"
   },
   {
    "duration": 1348,
    "start_time": "2023-02-10T08:41:38.487Z"
   },
   {
    "duration": 1511,
    "start_time": "2023-02-10T08:45:13.177Z"
   },
   {
    "duration": 1375,
    "start_time": "2023-02-10T08:45:28.285Z"
   },
   {
    "duration": 1447,
    "start_time": "2023-02-10T08:49:50.059Z"
   },
   {
    "duration": 775,
    "start_time": "2023-02-10T08:49:51.508Z"
   },
   {
    "duration": 133,
    "start_time": "2023-02-10T08:49:52.285Z"
   },
   {
    "duration": 16,
    "start_time": "2023-02-10T08:49:52.419Z"
   },
   {
    "duration": 464,
    "start_time": "2023-02-10T08:49:52.437Z"
   },
   {
    "duration": 125,
    "start_time": "2023-02-10T08:49:52.902Z"
   },
   {
    "duration": 98,
    "start_time": "2023-02-10T08:49:53.029Z"
   },
   {
    "duration": 5,
    "start_time": "2023-02-10T08:49:53.129Z"
   },
   {
    "duration": 485,
    "start_time": "2023-02-10T08:49:53.135Z"
   },
   {
    "duration": 34,
    "start_time": "2023-02-10T08:49:53.622Z"
   },
   {
    "duration": 1310,
    "start_time": "2023-02-10T08:49:53.657Z"
   },
   {
    "duration": 11,
    "start_time": "2023-02-10T08:49:54.969Z"
   },
   {
    "duration": 9,
    "start_time": "2023-02-10T08:49:54.982Z"
   },
   {
    "duration": 9,
    "start_time": "2023-02-10T08:49:54.995Z"
   },
   {
    "duration": 55,
    "start_time": "2023-02-10T08:49:55.006Z"
   },
   {
    "duration": 28,
    "start_time": "2023-02-10T08:49:55.063Z"
   },
   {
    "duration": 1921,
    "start_time": "2023-02-10T08:49:55.092Z"
   },
   {
    "duration": 34,
    "start_time": "2023-02-10T08:49:57.014Z"
   },
   {
    "duration": 1519,
    "start_time": "2023-02-10T08:49:57.050Z"
   },
   {
    "duration": 8,
    "start_time": "2023-02-10T08:49:58.570Z"
   },
   {
    "duration": 40,
    "start_time": "2023-02-10T08:49:58.580Z"
   },
   {
    "duration": 1408,
    "start_time": "2023-02-10T08:49:58.621Z"
   },
   {
    "duration": 26,
    "start_time": "2023-02-10T08:50:00.030Z"
   },
   {
    "duration": 1441,
    "start_time": "2023-02-10T08:50:00.058Z"
   },
   {
    "duration": 70,
    "start_time": "2023-02-10T08:50:01.500Z"
   },
   {
    "duration": 57,
    "start_time": "2023-02-10T08:51:01.528Z"
   },
   {
    "duration": 60,
    "start_time": "2023-02-10T08:52:15.272Z"
   },
   {
    "duration": 4,
    "start_time": "2023-02-10T08:53:34.194Z"
   },
   {
    "duration": 1353,
    "start_time": "2023-02-10T08:58:11.276Z"
   },
   {
    "duration": 845,
    "start_time": "2023-02-10T08:58:12.630Z"
   },
   {
    "duration": 133,
    "start_time": "2023-02-10T08:58:13.477Z"
   },
   {
    "duration": 15,
    "start_time": "2023-02-10T08:58:13.612Z"
   },
   {
    "duration": 493,
    "start_time": "2023-02-10T08:58:13.628Z"
   },
   {
    "duration": 122,
    "start_time": "2023-02-10T08:58:14.123Z"
   },
   {
    "duration": 93,
    "start_time": "2023-02-10T08:58:14.246Z"
   },
   {
    "duration": 4,
    "start_time": "2023-02-10T08:58:14.340Z"
   },
   {
    "duration": 579,
    "start_time": "2023-02-10T08:58:14.346Z"
   },
   {
    "duration": 39,
    "start_time": "2023-02-10T08:58:14.928Z"
   },
   {
    "duration": 1280,
    "start_time": "2023-02-10T08:58:14.972Z"
   },
   {
    "duration": 16,
    "start_time": "2023-02-10T08:58:16.253Z"
   },
   {
    "duration": 7,
    "start_time": "2023-02-10T08:58:16.271Z"
   },
   {
    "duration": 7,
    "start_time": "2023-02-10T08:58:16.279Z"
   },
   {
    "duration": 7,
    "start_time": "2023-02-10T08:58:16.287Z"
   },
   {
    "duration": 20,
    "start_time": "2023-02-10T08:58:16.295Z"
   },
   {
    "duration": 1798,
    "start_time": "2023-02-10T08:58:16.316Z"
   },
   {
    "duration": 25,
    "start_time": "2023-02-10T08:58:18.115Z"
   },
   {
    "duration": 1520,
    "start_time": "2023-02-10T08:58:18.141Z"
   },
   {
    "duration": 8,
    "start_time": "2023-02-10T08:58:19.666Z"
   },
   {
    "duration": 26,
    "start_time": "2023-02-10T08:58:19.676Z"
   },
   {
    "duration": 1411,
    "start_time": "2023-02-10T08:58:19.704Z"
   },
   {
    "duration": 20,
    "start_time": "2023-02-10T08:58:21.117Z"
   },
   {
    "duration": 1466,
    "start_time": "2023-02-10T08:58:21.138Z"
   },
   {
    "duration": 63,
    "start_time": "2023-02-10T08:58:22.606Z"
   },
   {
    "duration": 58,
    "start_time": "2023-02-10T08:58:22.671Z"
   },
   {
    "duration": 3,
    "start_time": "2023-02-10T08:58:22.731Z"
   },
   {
    "duration": 1475,
    "start_time": "2023-02-10T08:59:35.037Z"
   },
   {
    "duration": 982,
    "start_time": "2023-02-10T08:59:36.513Z"
   },
   {
    "duration": 153,
    "start_time": "2023-02-10T08:59:37.497Z"
   },
   {
    "duration": 21,
    "start_time": "2023-02-10T08:59:37.652Z"
   },
   {
    "duration": 480,
    "start_time": "2023-02-10T08:59:37.675Z"
   },
   {
    "duration": 122,
    "start_time": "2023-02-10T08:59:38.157Z"
   },
   {
    "duration": 92,
    "start_time": "2023-02-10T08:59:38.280Z"
   },
   {
    "duration": 4,
    "start_time": "2023-02-10T08:59:38.374Z"
   },
   {
    "duration": 445,
    "start_time": "2023-02-10T08:59:38.380Z"
   },
   {
    "duration": 27,
    "start_time": "2023-02-10T08:59:38.828Z"
   },
   {
    "duration": 1216,
    "start_time": "2023-02-10T08:59:38.866Z"
   },
   {
    "duration": 9,
    "start_time": "2023-02-10T08:59:40.083Z"
   },
   {
    "duration": 7,
    "start_time": "2023-02-10T08:59:40.093Z"
   },
   {
    "duration": 6,
    "start_time": "2023-02-10T08:59:40.101Z"
   },
   {
    "duration": 8,
    "start_time": "2023-02-10T08:59:40.108Z"
   },
   {
    "duration": 4,
    "start_time": "2023-02-10T08:59:40.117Z"
   },
   {
    "duration": 1850,
    "start_time": "2023-02-10T08:59:40.122Z"
   },
   {
    "duration": 25,
    "start_time": "2023-02-10T08:59:41.974Z"
   },
   {
    "duration": 1570,
    "start_time": "2023-02-10T08:59:42.000Z"
   },
   {
    "duration": 8,
    "start_time": "2023-02-10T08:59:43.572Z"
   },
   {
    "duration": 28,
    "start_time": "2023-02-10T08:59:43.582Z"
   },
   {
    "duration": 1437,
    "start_time": "2023-02-10T08:59:43.613Z"
   },
   {
    "duration": 35,
    "start_time": "2023-02-10T08:59:45.051Z"
   },
   {
    "duration": 1475,
    "start_time": "2023-02-10T08:59:45.088Z"
   },
   {
    "duration": 58,
    "start_time": "2023-02-10T08:59:46.566Z"
   },
   {
    "duration": 65,
    "start_time": "2023-02-10T08:59:46.626Z"
   },
   {
    "duration": 82,
    "start_time": "2023-02-10T08:59:46.693Z"
   },
   {
    "duration": 5,
    "start_time": "2023-02-10T08:59:46.778Z"
   },
   {
    "duration": 31,
    "start_time": "2023-02-10T09:03:51.566Z"
   },
   {
    "duration": 1548,
    "start_time": "2023-02-10T09:05:59.231Z"
   },
   {
    "duration": 918,
    "start_time": "2023-02-10T09:06:00.780Z"
   },
   {
    "duration": 136,
    "start_time": "2023-02-10T09:06:01.699Z"
   },
   {
    "duration": 27,
    "start_time": "2023-02-10T09:06:01.837Z"
   },
   {
    "duration": 476,
    "start_time": "2023-02-10T09:06:01.866Z"
   },
   {
    "duration": 132,
    "start_time": "2023-02-10T09:06:02.344Z"
   },
   {
    "duration": 102,
    "start_time": "2023-02-10T09:06:02.478Z"
   },
   {
    "duration": 6,
    "start_time": "2023-02-10T09:06:02.582Z"
   },
   {
    "duration": 530,
    "start_time": "2023-02-10T09:06:02.590Z"
   },
   {
    "duration": 44,
    "start_time": "2023-02-10T09:06:03.123Z"
   },
   {
    "duration": 1406,
    "start_time": "2023-02-10T09:06:03.168Z"
   },
   {
    "duration": 10,
    "start_time": "2023-02-10T09:06:04.576Z"
   },
   {
    "duration": 8,
    "start_time": "2023-02-10T09:06:04.587Z"
   },
   {
    "duration": 9,
    "start_time": "2023-02-10T09:06:04.597Z"
   },
   {
    "duration": 8,
    "start_time": "2023-02-10T09:06:04.607Z"
   },
   {
    "duration": 5,
    "start_time": "2023-02-10T09:06:04.616Z"
   },
   {
    "duration": 2040,
    "start_time": "2023-02-10T09:06:04.622Z"
   },
   {
    "duration": 27,
    "start_time": "2023-02-10T09:06:06.666Z"
   },
   {
    "duration": 1540,
    "start_time": "2023-02-10T09:06:06.695Z"
   },
   {
    "duration": 10,
    "start_time": "2023-02-10T09:06:08.238Z"
   },
   {
    "duration": 47,
    "start_time": "2023-02-10T09:06:08.250Z"
   },
   {
    "duration": 1597,
    "start_time": "2023-02-10T09:06:08.299Z"
   },
   {
    "duration": 21,
    "start_time": "2023-02-10T09:06:09.898Z"
   },
   {
    "duration": 1588,
    "start_time": "2023-02-10T09:06:09.921Z"
   },
   {
    "duration": 69,
    "start_time": "2023-02-10T09:06:11.511Z"
   },
   {
    "duration": 64,
    "start_time": "2023-02-10T09:06:11.582Z"
   },
   {
    "duration": 80,
    "start_time": "2023-02-10T09:06:11.647Z"
   },
   {
    "duration": 38,
    "start_time": "2023-02-10T09:06:11.730Z"
   },
   {
    "duration": 17,
    "start_time": "2023-02-10T09:06:11.770Z"
   },
   {
    "duration": 16,
    "start_time": "2023-02-10T09:06:32.831Z"
   },
   {
    "duration": 26,
    "start_time": "2023-02-10T09:06:39.064Z"
   },
   {
    "duration": 1526,
    "start_time": "2023-02-10T09:06:45.041Z"
   },
   {
    "duration": 918,
    "start_time": "2023-02-10T09:06:46.569Z"
   },
   {
    "duration": 143,
    "start_time": "2023-02-10T09:06:47.488Z"
   },
   {
    "duration": 15,
    "start_time": "2023-02-10T09:06:47.633Z"
   },
   {
    "duration": 508,
    "start_time": "2023-02-10T09:06:47.650Z"
   },
   {
    "duration": 130,
    "start_time": "2023-02-10T09:06:48.160Z"
   },
   {
    "duration": 101,
    "start_time": "2023-02-10T09:06:48.291Z"
   },
   {
    "duration": 5,
    "start_time": "2023-02-10T09:06:48.393Z"
   },
   {
    "duration": 488,
    "start_time": "2023-02-10T09:06:48.399Z"
   },
   {
    "duration": 36,
    "start_time": "2023-02-10T09:06:48.889Z"
   },
   {
    "duration": 1308,
    "start_time": "2023-02-10T09:06:48.927Z"
   },
   {
    "duration": 9,
    "start_time": "2023-02-10T09:06:50.236Z"
   },
   {
    "duration": 23,
    "start_time": "2023-02-10T09:06:50.247Z"
   },
   {
    "duration": 12,
    "start_time": "2023-02-10T09:06:50.272Z"
   },
   {
    "duration": 20,
    "start_time": "2023-02-10T09:06:50.285Z"
   },
   {
    "duration": 33,
    "start_time": "2023-02-10T09:06:50.306Z"
   },
   {
    "duration": 1972,
    "start_time": "2023-02-10T09:06:50.341Z"
   },
   {
    "duration": 27,
    "start_time": "2023-02-10T09:06:52.315Z"
   },
   {
    "duration": 1504,
    "start_time": "2023-02-10T09:06:52.344Z"
   },
   {
    "duration": 18,
    "start_time": "2023-02-10T09:06:53.850Z"
   },
   {
    "duration": 24,
    "start_time": "2023-02-10T09:06:53.869Z"
   },
   {
    "duration": 1516,
    "start_time": "2023-02-10T09:06:53.895Z"
   },
   {
    "duration": 20,
    "start_time": "2023-02-10T09:06:55.413Z"
   },
   {
    "duration": 1475,
    "start_time": "2023-02-10T09:06:55.435Z"
   },
   {
    "duration": 64,
    "start_time": "2023-02-10T09:06:56.912Z"
   },
   {
    "duration": 64,
    "start_time": "2023-02-10T09:06:56.978Z"
   },
   {
    "duration": 81,
    "start_time": "2023-02-10T09:06:57.044Z"
   },
   {
    "duration": 25,
    "start_time": "2023-02-10T09:06:57.126Z"
   },
   {
    "duration": 27,
    "start_time": "2023-02-10T09:06:57.153Z"
   },
   {
    "duration": 24,
    "start_time": "2023-02-10T09:06:57.182Z"
   },
   {
    "duration": 1385,
    "start_time": "2023-02-10T09:07:27.977Z"
   },
   {
    "duration": 838,
    "start_time": "2023-02-10T09:07:29.364Z"
   },
   {
    "duration": 147,
    "start_time": "2023-02-10T09:07:30.203Z"
   },
   {
    "duration": 30,
    "start_time": "2023-02-10T09:07:30.352Z"
   },
   {
    "duration": 519,
    "start_time": "2023-02-10T09:07:30.383Z"
   },
   {
    "duration": 126,
    "start_time": "2023-02-10T09:07:30.904Z"
   },
   {
    "duration": 123,
    "start_time": "2023-02-10T09:07:31.032Z"
   },
   {
    "duration": 10,
    "start_time": "2023-02-10T09:07:31.157Z"
   },
   {
    "duration": 565,
    "start_time": "2023-02-10T09:07:31.168Z"
   },
   {
    "duration": 47,
    "start_time": "2023-02-10T09:07:31.736Z"
   },
   {
    "duration": 1270,
    "start_time": "2023-02-10T09:07:31.784Z"
   },
   {
    "duration": 17,
    "start_time": "2023-02-10T09:07:33.055Z"
   },
   {
    "duration": 6,
    "start_time": "2023-02-10T09:07:33.073Z"
   },
   {
    "duration": 17,
    "start_time": "2023-02-10T09:07:33.081Z"
   },
   {
    "duration": 18,
    "start_time": "2023-02-10T09:07:33.099Z"
   },
   {
    "duration": 5,
    "start_time": "2023-02-10T09:07:33.119Z"
   },
   {
    "duration": 1989,
    "start_time": "2023-02-10T09:07:33.126Z"
   },
   {
    "duration": 29,
    "start_time": "2023-02-10T09:07:35.117Z"
   },
   {
    "duration": 1528,
    "start_time": "2023-02-10T09:07:35.148Z"
   },
   {
    "duration": 9,
    "start_time": "2023-02-10T09:07:36.678Z"
   },
   {
    "duration": 27,
    "start_time": "2023-02-10T09:07:36.688Z"
   },
   {
    "duration": 1497,
    "start_time": "2023-02-10T09:07:36.717Z"
   },
   {
    "duration": 24,
    "start_time": "2023-02-10T09:07:38.216Z"
   },
   {
    "duration": 1565,
    "start_time": "2023-02-10T09:07:38.242Z"
   },
   {
    "duration": 65,
    "start_time": "2023-02-10T09:07:39.808Z"
   },
   {
    "duration": 61,
    "start_time": "2023-02-10T09:07:39.875Z"
   },
   {
    "duration": 87,
    "start_time": "2023-02-10T09:07:39.937Z"
   },
   {
    "duration": 27,
    "start_time": "2023-02-10T09:07:40.027Z"
   },
   {
    "duration": 24,
    "start_time": "2023-02-10T09:07:40.056Z"
   },
   {
    "duration": 29,
    "start_time": "2023-02-10T09:07:40.081Z"
   },
   {
    "duration": 94,
    "start_time": "2023-02-10T09:07:40.111Z"
   },
   {
    "duration": 54,
    "start_time": "2023-02-10T09:07:57.116Z"
   },
   {
    "duration": 332,
    "start_time": "2023-02-10T09:12:11.170Z"
   },
   {
    "duration": 1519,
    "start_time": "2023-02-10T13:06:34.245Z"
   },
   {
    "duration": 2824,
    "start_time": "2023-02-10T13:06:35.765Z"
   },
   {
    "duration": 131,
    "start_time": "2023-02-10T13:06:38.591Z"
   },
   {
    "duration": 14,
    "start_time": "2023-02-10T13:06:38.725Z"
   },
   {
    "duration": 449,
    "start_time": "2023-02-10T13:06:38.740Z"
   },
   {
    "duration": 120,
    "start_time": "2023-02-10T13:06:39.191Z"
   },
   {
    "duration": 97,
    "start_time": "2023-02-10T13:06:39.313Z"
   },
   {
    "duration": 4,
    "start_time": "2023-02-10T13:06:39.412Z"
   },
   {
    "duration": 440,
    "start_time": "2023-02-10T13:06:39.418Z"
   },
   {
    "duration": 27,
    "start_time": "2023-02-10T13:06:39.860Z"
   },
   {
    "duration": 1224,
    "start_time": "2023-02-10T13:06:39.891Z"
   },
   {
    "duration": 9,
    "start_time": "2023-02-10T13:06:41.118Z"
   },
   {
    "duration": 8,
    "start_time": "2023-02-10T13:06:41.129Z"
   },
   {
    "duration": 7,
    "start_time": "2023-02-10T13:06:41.138Z"
   },
   {
    "duration": 13,
    "start_time": "2023-02-10T13:06:41.147Z"
   },
   {
    "duration": 5,
    "start_time": "2023-02-10T13:06:41.162Z"
   },
   {
    "duration": 1838,
    "start_time": "2023-02-10T13:06:41.169Z"
   },
   {
    "duration": 24,
    "start_time": "2023-02-10T13:06:43.009Z"
   },
   {
    "duration": 1433,
    "start_time": "2023-02-10T13:06:43.035Z"
   },
   {
    "duration": 7,
    "start_time": "2023-02-10T13:06:44.470Z"
   },
   {
    "duration": 40,
    "start_time": "2023-02-10T13:06:44.478Z"
   },
   {
    "duration": 1449,
    "start_time": "2023-02-10T13:06:44.519Z"
   },
   {
    "duration": 20,
    "start_time": "2023-02-10T13:06:45.969Z"
   },
   {
    "duration": 1528,
    "start_time": "2023-02-10T13:06:45.990Z"
   },
   {
    "duration": 60,
    "start_time": "2023-02-10T13:06:47.519Z"
   },
   {
    "duration": 73,
    "start_time": "2023-02-10T13:06:47.581Z"
   },
   {
    "duration": 71,
    "start_time": "2023-02-10T13:06:47.656Z"
   },
   {
    "duration": 24,
    "start_time": "2023-02-10T13:06:47.730Z"
   },
   {
    "duration": 17,
    "start_time": "2023-02-10T13:06:47.756Z"
   },
   {
    "duration": 41,
    "start_time": "2023-02-10T13:06:47.775Z"
   },
   {
    "duration": 86,
    "start_time": "2023-02-10T13:06:47.818Z"
   },
   {
    "duration": 1367,
    "start_time": "2023-02-10T13:44:03.939Z"
   },
   {
    "duration": 852,
    "start_time": "2023-02-10T13:44:05.308Z"
   },
   {
    "duration": 129,
    "start_time": "2023-02-10T13:44:06.161Z"
   },
   {
    "duration": 23,
    "start_time": "2023-02-10T13:44:06.292Z"
   },
   {
    "duration": 490,
    "start_time": "2023-02-10T13:44:06.317Z"
   },
   {
    "duration": 127,
    "start_time": "2023-02-10T13:44:06.809Z"
   },
   {
    "duration": 100,
    "start_time": "2023-02-10T13:44:06.940Z"
   },
   {
    "duration": 4,
    "start_time": "2023-02-10T13:44:07.042Z"
   },
   {
    "duration": 494,
    "start_time": "2023-02-10T13:44:07.048Z"
   },
   {
    "duration": 34,
    "start_time": "2023-02-10T13:44:07.544Z"
   },
   {
    "duration": 1295,
    "start_time": "2023-02-10T13:44:07.580Z"
   },
   {
    "duration": 10,
    "start_time": "2023-02-10T13:44:08.877Z"
   },
   {
    "duration": 24,
    "start_time": "2023-02-10T13:44:08.888Z"
   },
   {
    "duration": 28,
    "start_time": "2023-02-10T13:44:08.914Z"
   },
   {
    "duration": 24,
    "start_time": "2023-02-10T13:44:08.943Z"
   },
   {
    "duration": 15,
    "start_time": "2023-02-10T13:44:08.969Z"
   },
   {
    "duration": 1950,
    "start_time": "2023-02-10T13:44:08.985Z"
   },
   {
    "duration": 25,
    "start_time": "2023-02-10T13:44:10.937Z"
   },
   {
    "duration": 1522,
    "start_time": "2023-02-10T13:44:10.964Z"
   },
   {
    "duration": 17,
    "start_time": "2023-02-10T13:44:12.487Z"
   },
   {
    "duration": 27,
    "start_time": "2023-02-10T13:44:12.506Z"
   },
   {
    "duration": 1472,
    "start_time": "2023-02-10T13:44:12.535Z"
   },
   {
    "duration": 21,
    "start_time": "2023-02-10T13:44:14.009Z"
   },
   {
    "duration": 1566,
    "start_time": "2023-02-10T13:44:14.032Z"
   },
   {
    "duration": 59,
    "start_time": "2023-02-10T13:44:15.604Z"
   },
   {
    "duration": 72,
    "start_time": "2023-02-10T13:44:15.664Z"
   },
   {
    "duration": 75,
    "start_time": "2023-02-10T13:44:15.737Z"
   },
   {
    "duration": 24,
    "start_time": "2023-02-10T13:44:15.815Z"
   },
   {
    "duration": 16,
    "start_time": "2023-02-10T13:44:15.841Z"
   },
   {
    "duration": 47,
    "start_time": "2023-02-10T13:44:15.858Z"
   },
   {
    "duration": 78,
    "start_time": "2023-02-10T13:44:15.906Z"
   },
   {
    "duration": 121,
    "start_time": "2023-02-10T13:44:15.986Z"
   },
   {
    "duration": 0,
    "start_time": "2023-02-10T13:44:16.109Z"
   },
   {
    "duration": 19,
    "start_time": "2023-02-10T13:44:26.032Z"
   },
   {
    "duration": 312,
    "start_time": "2023-02-10T13:44:35.567Z"
   },
   {
    "duration": 11,
    "start_time": "2023-02-10T13:44:37.611Z"
   },
   {
    "duration": 1367,
    "start_time": "2023-02-10T13:47:06.916Z"
   },
   {
    "duration": 800,
    "start_time": "2023-02-10T13:47:08.285Z"
   },
   {
    "duration": 132,
    "start_time": "2023-02-10T13:47:09.087Z"
   },
   {
    "duration": 16,
    "start_time": "2023-02-10T13:47:09.221Z"
   },
   {
    "duration": 437,
    "start_time": "2023-02-10T13:47:09.238Z"
   },
   {
    "duration": 119,
    "start_time": "2023-02-10T13:47:09.677Z"
   },
   {
    "duration": 93,
    "start_time": "2023-02-10T13:47:09.797Z"
   },
   {
    "duration": 13,
    "start_time": "2023-02-10T13:47:09.892Z"
   },
   {
    "duration": 466,
    "start_time": "2023-02-10T13:47:09.906Z"
   },
   {
    "duration": 35,
    "start_time": "2023-02-10T13:47:10.375Z"
   },
   {
    "duration": 1253,
    "start_time": "2023-02-10T13:47:10.412Z"
   },
   {
    "duration": 9,
    "start_time": "2023-02-10T13:47:11.667Z"
   },
   {
    "duration": 7,
    "start_time": "2023-02-10T13:47:11.678Z"
   },
   {
    "duration": 22,
    "start_time": "2023-02-10T13:47:11.686Z"
   },
   {
    "duration": 10,
    "start_time": "2023-02-10T13:47:11.709Z"
   },
   {
    "duration": 3,
    "start_time": "2023-02-10T13:47:11.721Z"
   },
   {
    "duration": 1835,
    "start_time": "2023-02-10T13:47:11.726Z"
   },
   {
    "duration": 27,
    "start_time": "2023-02-10T13:47:13.563Z"
   },
   {
    "duration": 1518,
    "start_time": "2023-02-10T13:47:13.591Z"
   },
   {
    "duration": 8,
    "start_time": "2023-02-10T13:47:15.111Z"
   },
   {
    "duration": 22,
    "start_time": "2023-02-10T13:47:15.121Z"
   },
   {
    "duration": 1390,
    "start_time": "2023-02-10T13:47:15.145Z"
   },
   {
    "duration": 22,
    "start_time": "2023-02-10T13:47:16.537Z"
   },
   {
    "duration": 1490,
    "start_time": "2023-02-10T13:47:16.560Z"
   },
   {
    "duration": 65,
    "start_time": "2023-02-10T13:47:18.052Z"
   },
   {
    "duration": 62,
    "start_time": "2023-02-10T13:47:18.119Z"
   },
   {
    "duration": 79,
    "start_time": "2023-02-10T13:47:18.183Z"
   },
   {
    "duration": 39,
    "start_time": "2023-02-10T13:47:18.265Z"
   },
   {
    "duration": 19,
    "start_time": "2023-02-10T13:47:18.306Z"
   },
   {
    "duration": 33,
    "start_time": "2023-02-10T13:47:18.327Z"
   },
   {
    "duration": 85,
    "start_time": "2023-02-10T13:47:18.362Z"
   },
   {
    "duration": 316,
    "start_time": "2023-02-10T13:47:18.449Z"
   },
   {
    "duration": 11,
    "start_time": "2023-02-10T13:47:18.767Z"
   },
   {
    "duration": 129,
    "start_time": "2023-02-10T13:47:18.780Z"
   },
   {
    "duration": 17,
    "start_time": "2023-02-10T13:47:18.910Z"
   },
   {
    "duration": 1364,
    "start_time": "2023-02-10T13:52:47.478Z"
   },
   {
    "duration": 799,
    "start_time": "2023-02-10T13:52:48.844Z"
   },
   {
    "duration": 141,
    "start_time": "2023-02-10T13:52:49.645Z"
   },
   {
    "duration": 24,
    "start_time": "2023-02-10T13:52:49.788Z"
   },
   {
    "duration": 438,
    "start_time": "2023-02-10T13:52:49.813Z"
   },
   {
    "duration": 127,
    "start_time": "2023-02-10T13:52:50.253Z"
   },
   {
    "duration": 94,
    "start_time": "2023-02-10T13:52:50.381Z"
   },
   {
    "duration": 5,
    "start_time": "2023-02-10T13:52:50.476Z"
   },
   {
    "duration": 470,
    "start_time": "2023-02-10T13:52:50.482Z"
   },
   {
    "duration": 36,
    "start_time": "2023-02-10T13:52:50.955Z"
   },
   {
    "duration": 1278,
    "start_time": "2023-02-10T13:52:50.992Z"
   },
   {
    "duration": 9,
    "start_time": "2023-02-10T13:52:52.272Z"
   },
   {
    "duration": 21,
    "start_time": "2023-02-10T13:52:52.283Z"
   },
   {
    "duration": 8,
    "start_time": "2023-02-10T13:52:52.306Z"
   },
   {
    "duration": 7,
    "start_time": "2023-02-10T13:52:52.316Z"
   },
   {
    "duration": 4,
    "start_time": "2023-02-10T13:52:52.324Z"
   },
   {
    "duration": 1824,
    "start_time": "2023-02-10T13:52:52.330Z"
   },
   {
    "duration": 28,
    "start_time": "2023-02-10T13:52:54.156Z"
   },
   {
    "duration": 1423,
    "start_time": "2023-02-10T13:52:54.185Z"
   },
   {
    "duration": 8,
    "start_time": "2023-02-10T13:52:55.610Z"
   },
   {
    "duration": 21,
    "start_time": "2023-02-10T13:52:55.619Z"
   },
   {
    "duration": 1393,
    "start_time": "2023-02-10T13:52:55.642Z"
   },
   {
    "duration": 22,
    "start_time": "2023-02-10T13:52:57.037Z"
   },
   {
    "duration": 1448,
    "start_time": "2023-02-10T13:52:57.060Z"
   },
   {
    "duration": 59,
    "start_time": "2023-02-10T13:52:58.509Z"
   },
   {
    "duration": 68,
    "start_time": "2023-02-10T13:52:58.569Z"
   },
   {
    "duration": 75,
    "start_time": "2023-02-10T13:52:58.639Z"
   },
   {
    "duration": 24,
    "start_time": "2023-02-10T13:52:58.718Z"
   },
   {
    "duration": 16,
    "start_time": "2023-02-10T13:52:58.743Z"
   },
   {
    "duration": 24,
    "start_time": "2023-02-10T13:52:58.761Z"
   },
   {
    "duration": 75,
    "start_time": "2023-02-10T13:52:58.804Z"
   },
   {
    "duration": 309,
    "start_time": "2023-02-10T13:52:58.881Z"
   },
   {
    "duration": 16,
    "start_time": "2023-02-10T13:52:59.192Z"
   },
   {
    "duration": 120,
    "start_time": "2023-02-10T13:52:59.209Z"
   },
   {
    "duration": 16,
    "start_time": "2023-02-10T13:52:59.331Z"
   },
   {
    "duration": 74,
    "start_time": "2023-02-10T13:52:59.348Z"
   },
   {
    "duration": 0,
    "start_time": "2023-02-10T13:52:59.424Z"
   },
   {
    "duration": 1413,
    "start_time": "2023-02-10T14:15:06.367Z"
   },
   {
    "duration": 825,
    "start_time": "2023-02-10T14:15:07.782Z"
   },
   {
    "duration": 135,
    "start_time": "2023-02-10T14:15:08.609Z"
   },
   {
    "duration": 15,
    "start_time": "2023-02-10T14:15:08.745Z"
   },
   {
    "duration": 473,
    "start_time": "2023-02-10T14:15:08.762Z"
   },
   {
    "duration": 120,
    "start_time": "2023-02-10T14:15:09.237Z"
   },
   {
    "duration": 118,
    "start_time": "2023-02-10T14:15:09.359Z"
   },
   {
    "duration": 5,
    "start_time": "2023-02-10T14:15:09.479Z"
   },
   {
    "duration": 532,
    "start_time": "2023-02-10T14:15:09.485Z"
   },
   {
    "duration": 40,
    "start_time": "2023-02-10T14:15:10.020Z"
   },
   {
    "duration": 1330,
    "start_time": "2023-02-10T14:15:10.062Z"
   },
   {
    "duration": 14,
    "start_time": "2023-02-10T14:15:11.394Z"
   },
   {
    "duration": 8,
    "start_time": "2023-02-10T14:15:11.409Z"
   },
   {
    "duration": 9,
    "start_time": "2023-02-10T14:15:11.418Z"
   },
   {
    "duration": 8,
    "start_time": "2023-02-10T14:15:11.429Z"
   },
   {
    "duration": 4,
    "start_time": "2023-02-10T14:15:11.439Z"
   },
   {
    "duration": 1981,
    "start_time": "2023-02-10T14:15:11.445Z"
   },
   {
    "duration": 30,
    "start_time": "2023-02-10T14:15:13.428Z"
   },
   {
    "duration": 1482,
    "start_time": "2023-02-10T14:15:13.460Z"
   },
   {
    "duration": 9,
    "start_time": "2023-02-10T14:15:14.943Z"
   },
   {
    "duration": 23,
    "start_time": "2023-02-10T14:15:14.954Z"
   },
   {
    "duration": 1540,
    "start_time": "2023-02-10T14:15:14.979Z"
   },
   {
    "duration": 24,
    "start_time": "2023-02-10T14:15:16.520Z"
   },
   {
    "duration": 1515,
    "start_time": "2023-02-10T14:15:16.545Z"
   },
   {
    "duration": 64,
    "start_time": "2023-02-10T14:15:18.061Z"
   },
   {
    "duration": 59,
    "start_time": "2023-02-10T14:15:18.127Z"
   },
   {
    "duration": 78,
    "start_time": "2023-02-10T14:15:18.187Z"
   },
   {
    "duration": 36,
    "start_time": "2023-02-10T14:15:18.268Z"
   },
   {
    "duration": 17,
    "start_time": "2023-02-10T14:15:18.306Z"
   },
   {
    "duration": 26,
    "start_time": "2023-02-10T14:15:18.324Z"
   },
   {
    "duration": 96,
    "start_time": "2023-02-10T14:15:18.351Z"
   },
   {
    "duration": 315,
    "start_time": "2023-02-10T14:15:18.448Z"
   },
   {
    "duration": 11,
    "start_time": "2023-02-10T14:15:18.764Z"
   },
   {
    "duration": 127,
    "start_time": "2023-02-10T14:15:18.777Z"
   },
   {
    "duration": 19,
    "start_time": "2023-02-10T14:15:18.905Z"
   },
   {
    "duration": 21,
    "start_time": "2023-02-10T14:15:18.925Z"
   },
   {
    "duration": 29,
    "start_time": "2023-02-10T14:21:53.968Z"
   },
   {
    "duration": 7,
    "start_time": "2023-02-10T14:22:27.089Z"
   },
   {
    "duration": 14,
    "start_time": "2023-02-10T14:22:38.742Z"
   },
   {
    "duration": 3,
    "start_time": "2023-02-10T14:23:50.700Z"
   },
   {
    "duration": 5,
    "start_time": "2023-02-10T14:23:51.118Z"
   },
   {
    "duration": 16,
    "start_time": "2023-02-10T14:23:51.598Z"
   },
   {
    "duration": 106,
    "start_time": "2023-02-10T14:24:17.643Z"
   },
   {
    "duration": 9,
    "start_time": "2023-02-10T14:24:45.524Z"
   },
   {
    "duration": 1293,
    "start_time": "2023-02-10T14:32:50.462Z"
   },
   {
    "duration": 825,
    "start_time": "2023-02-10T14:32:51.757Z"
   },
   {
    "duration": 131,
    "start_time": "2023-02-10T14:32:52.583Z"
   },
   {
    "duration": 16,
    "start_time": "2023-02-10T14:32:52.716Z"
   },
   {
    "duration": 457,
    "start_time": "2023-02-10T14:32:52.733Z"
   },
   {
    "duration": 130,
    "start_time": "2023-02-10T14:32:53.192Z"
   },
   {
    "duration": 99,
    "start_time": "2023-02-10T14:32:53.323Z"
   },
   {
    "duration": 5,
    "start_time": "2023-02-10T14:32:53.424Z"
   },
   {
    "duration": 499,
    "start_time": "2023-02-10T14:32:53.430Z"
   },
   {
    "duration": 39,
    "start_time": "2023-02-10T14:32:53.931Z"
   },
   {
    "duration": 1274,
    "start_time": "2023-02-10T14:32:53.972Z"
   },
   {
    "duration": 11,
    "start_time": "2023-02-10T14:32:55.248Z"
   },
   {
    "duration": 9,
    "start_time": "2023-02-10T14:32:55.261Z"
   },
   {
    "duration": 37,
    "start_time": "2023-02-10T14:32:55.271Z"
   },
   {
    "duration": 8,
    "start_time": "2023-02-10T14:32:55.309Z"
   },
   {
    "duration": 5,
    "start_time": "2023-02-10T14:32:55.318Z"
   },
   {
    "duration": 1846,
    "start_time": "2023-02-10T14:32:55.324Z"
   },
   {
    "duration": 32,
    "start_time": "2023-02-10T14:32:57.172Z"
   },
   {
    "duration": 1460,
    "start_time": "2023-02-10T14:32:57.206Z"
   },
   {
    "duration": 8,
    "start_time": "2023-02-10T14:32:58.668Z"
   },
   {
    "duration": 31,
    "start_time": "2023-02-10T14:32:58.678Z"
   },
   {
    "duration": 1425,
    "start_time": "2023-02-10T14:32:58.711Z"
   },
   {
    "duration": 24,
    "start_time": "2023-02-10T14:33:00.137Z"
   },
   {
    "duration": 1478,
    "start_time": "2023-02-10T14:33:00.162Z"
   },
   {
    "duration": 65,
    "start_time": "2023-02-10T14:33:01.641Z"
   },
   {
    "duration": 78,
    "start_time": "2023-02-10T14:33:01.707Z"
   },
   {
    "duration": 79,
    "start_time": "2023-02-10T14:33:01.786Z"
   },
   {
    "duration": 29,
    "start_time": "2023-02-10T14:33:01.868Z"
   },
   {
    "duration": 24,
    "start_time": "2023-02-10T14:33:01.899Z"
   },
   {
    "duration": 34,
    "start_time": "2023-02-10T14:33:01.925Z"
   },
   {
    "duration": 96,
    "start_time": "2023-02-10T14:33:01.960Z"
   },
   {
    "duration": 328,
    "start_time": "2023-02-10T14:33:02.058Z"
   },
   {
    "duration": 18,
    "start_time": "2023-02-10T14:33:02.388Z"
   },
   {
    "duration": 139,
    "start_time": "2023-02-10T14:33:02.408Z"
   },
   {
    "duration": 19,
    "start_time": "2023-02-10T14:33:02.549Z"
   },
   {
    "duration": 35,
    "start_time": "2023-02-10T14:33:02.570Z"
   },
   {
    "duration": 31,
    "start_time": "2023-02-10T14:33:02.607Z"
   },
   {
    "duration": 27,
    "start_time": "2023-02-10T14:33:02.639Z"
   },
   {
    "duration": 27,
    "start_time": "2023-02-10T14:33:02.668Z"
   },
   {
    "duration": 20,
    "start_time": "2023-02-10T14:33:02.697Z"
   },
   {
    "duration": 12,
    "start_time": "2023-02-10T14:33:02.719Z"
   },
   {
    "duration": 36,
    "start_time": "2023-02-10T14:33:02.733Z"
   },
   {
    "duration": 53,
    "start_time": "2023-02-10T14:33:02.771Z"
   },
   {
    "duration": 4,
    "start_time": "2023-02-10T14:33:56.575Z"
   },
   {
    "duration": 2,
    "start_time": "2023-02-10T14:34:52.442Z"
   },
   {
    "duration": 1394,
    "start_time": "2023-02-10T14:34:56.267Z"
   },
   {
    "duration": 824,
    "start_time": "2023-02-10T14:34:57.663Z"
   },
   {
    "duration": 137,
    "start_time": "2023-02-10T14:34:58.489Z"
   },
   {
    "duration": 14,
    "start_time": "2023-02-10T14:34:58.628Z"
   },
   {
    "duration": 460,
    "start_time": "2023-02-10T14:34:58.644Z"
   },
   {
    "duration": 124,
    "start_time": "2023-02-10T14:34:59.105Z"
   },
   {
    "duration": 94,
    "start_time": "2023-02-10T14:34:59.231Z"
   },
   {
    "duration": 4,
    "start_time": "2023-02-10T14:34:59.327Z"
   },
   {
    "duration": 506,
    "start_time": "2023-02-10T14:34:59.333Z"
   },
   {
    "duration": 38,
    "start_time": "2023-02-10T14:34:59.841Z"
   },
   {
    "duration": 1306,
    "start_time": "2023-02-10T14:34:59.881Z"
   },
   {
    "duration": 15,
    "start_time": "2023-02-10T14:35:01.189Z"
   },
   {
    "duration": 13,
    "start_time": "2023-02-10T14:35:01.206Z"
   },
   {
    "duration": 29,
    "start_time": "2023-02-10T14:35:01.220Z"
   },
   {
    "duration": 17,
    "start_time": "2023-02-10T14:35:01.250Z"
   },
   {
    "duration": 6,
    "start_time": "2023-02-10T14:35:01.269Z"
   },
   {
    "duration": 1867,
    "start_time": "2023-02-10T14:35:01.277Z"
   },
   {
    "duration": 28,
    "start_time": "2023-02-10T14:35:03.146Z"
   },
   {
    "duration": 1422,
    "start_time": "2023-02-10T14:35:03.175Z"
   },
   {
    "duration": 11,
    "start_time": "2023-02-10T14:35:04.598Z"
   },
   {
    "duration": 38,
    "start_time": "2023-02-10T14:35:04.611Z"
   },
   {
    "duration": 1428,
    "start_time": "2023-02-10T14:35:04.651Z"
   },
   {
    "duration": 32,
    "start_time": "2023-02-10T14:35:06.081Z"
   },
   {
    "duration": 1588,
    "start_time": "2023-02-10T14:35:06.115Z"
   },
   {
    "duration": 60,
    "start_time": "2023-02-10T14:35:07.705Z"
   },
   {
    "duration": 69,
    "start_time": "2023-02-10T14:35:07.767Z"
   },
   {
    "duration": 75,
    "start_time": "2023-02-10T14:35:07.838Z"
   },
   {
    "duration": 24,
    "start_time": "2023-02-10T14:35:07.917Z"
   },
   {
    "duration": 23,
    "start_time": "2023-02-10T14:35:07.943Z"
   },
   {
    "duration": 36,
    "start_time": "2023-02-10T14:35:07.968Z"
   },
   {
    "duration": 81,
    "start_time": "2023-02-10T14:35:08.005Z"
   },
   {
    "duration": 321,
    "start_time": "2023-02-10T14:35:08.087Z"
   },
   {
    "duration": 11,
    "start_time": "2023-02-10T14:35:08.410Z"
   },
   {
    "duration": 127,
    "start_time": "2023-02-10T14:35:08.422Z"
   },
   {
    "duration": 16,
    "start_time": "2023-02-10T14:35:08.550Z"
   },
   {
    "duration": 20,
    "start_time": "2023-02-10T14:35:08.567Z"
   },
   {
    "duration": 41,
    "start_time": "2023-02-10T14:35:08.588Z"
   },
   {
    "duration": 7,
    "start_time": "2023-02-10T14:35:08.630Z"
   },
   {
    "duration": 5,
    "start_time": "2023-02-10T14:35:08.638Z"
   },
   {
    "duration": 17,
    "start_time": "2023-02-10T14:35:08.644Z"
   },
   {
    "duration": 9,
    "start_time": "2023-02-10T14:35:08.662Z"
   },
   {
    "duration": 58,
    "start_time": "2023-02-10T14:35:08.672Z"
   },
   {
    "duration": 37,
    "start_time": "2023-02-10T14:35:08.732Z"
   },
   {
    "duration": 3,
    "start_time": "2023-02-10T14:35:08.771Z"
   },
   {
    "duration": 1341,
    "start_time": "2023-02-10T14:35:24.321Z"
   },
   {
    "duration": 838,
    "start_time": "2023-02-10T14:35:25.664Z"
   },
   {
    "duration": 135,
    "start_time": "2023-02-10T14:35:26.504Z"
   },
   {
    "duration": 15,
    "start_time": "2023-02-10T14:35:26.641Z"
   },
   {
    "duration": 474,
    "start_time": "2023-02-10T14:35:26.659Z"
   },
   {
    "duration": 134,
    "start_time": "2023-02-10T14:35:27.134Z"
   },
   {
    "duration": 95,
    "start_time": "2023-02-10T14:35:27.270Z"
   },
   {
    "duration": 5,
    "start_time": "2023-02-10T14:35:27.367Z"
   },
   {
    "duration": 495,
    "start_time": "2023-02-10T14:35:27.373Z"
   },
   {
    "duration": 40,
    "start_time": "2023-02-10T14:35:27.870Z"
   },
   {
    "duration": 1243,
    "start_time": "2023-02-10T14:35:27.911Z"
   },
   {
    "duration": 8,
    "start_time": "2023-02-10T14:35:29.156Z"
   },
   {
    "duration": 8,
    "start_time": "2023-02-10T14:35:29.165Z"
   },
   {
    "duration": 32,
    "start_time": "2023-02-10T14:35:29.175Z"
   },
   {
    "duration": 8,
    "start_time": "2023-02-10T14:35:29.209Z"
   },
   {
    "duration": 5,
    "start_time": "2023-02-10T14:35:29.218Z"
   },
   {
    "duration": 1835,
    "start_time": "2023-02-10T14:35:29.224Z"
   },
   {
    "duration": 28,
    "start_time": "2023-02-10T14:35:31.061Z"
   },
   {
    "duration": 1528,
    "start_time": "2023-02-10T14:35:31.091Z"
   },
   {
    "duration": 8,
    "start_time": "2023-02-10T14:35:32.621Z"
   },
   {
    "duration": 22,
    "start_time": "2023-02-10T14:35:32.631Z"
   },
   {
    "duration": 1412,
    "start_time": "2023-02-10T14:35:32.655Z"
   },
   {
    "duration": 23,
    "start_time": "2023-02-10T14:35:34.068Z"
   },
   {
    "duration": 1522,
    "start_time": "2023-02-10T14:35:34.103Z"
   },
   {
    "duration": 60,
    "start_time": "2023-02-10T14:35:35.627Z"
   },
   {
    "duration": 72,
    "start_time": "2023-02-10T14:35:35.688Z"
   },
   {
    "duration": 77,
    "start_time": "2023-02-10T14:35:35.761Z"
   },
   {
    "duration": 25,
    "start_time": "2023-02-10T14:35:35.839Z"
   },
   {
    "duration": 20,
    "start_time": "2023-02-10T14:35:35.866Z"
   },
   {
    "duration": 36,
    "start_time": "2023-02-10T14:35:35.887Z"
   },
   {
    "duration": 85,
    "start_time": "2023-02-10T14:35:35.924Z"
   },
   {
    "duration": 346,
    "start_time": "2023-02-10T14:35:36.010Z"
   },
   {
    "duration": 12,
    "start_time": "2023-02-10T14:35:36.358Z"
   },
   {
    "duration": 138,
    "start_time": "2023-02-10T14:35:36.371Z"
   },
   {
    "duration": 18,
    "start_time": "2023-02-10T14:35:36.510Z"
   },
   {
    "duration": 20,
    "start_time": "2023-02-10T14:35:36.530Z"
   },
   {
    "duration": 28,
    "start_time": "2023-02-10T14:35:36.552Z"
   },
   {
    "duration": 23,
    "start_time": "2023-02-10T14:35:36.581Z"
   },
   {
    "duration": 7,
    "start_time": "2023-02-10T14:35:36.606Z"
   },
   {
    "duration": 17,
    "start_time": "2023-02-10T14:35:36.615Z"
   },
   {
    "duration": 9,
    "start_time": "2023-02-10T14:35:36.636Z"
   },
   {
    "duration": 36,
    "start_time": "2023-02-10T14:35:36.647Z"
   },
   {
    "duration": 65,
    "start_time": "2023-02-10T14:35:36.685Z"
   },
   {
    "duration": 3,
    "start_time": "2023-02-10T14:35:36.753Z"
   },
   {
    "duration": 1380,
    "start_time": "2023-02-10T14:48:27.279Z"
   },
   {
    "duration": 819,
    "start_time": "2023-02-10T14:48:28.661Z"
   },
   {
    "duration": 132,
    "start_time": "2023-02-10T14:48:29.482Z"
   },
   {
    "duration": 15,
    "start_time": "2023-02-10T14:48:29.616Z"
   },
   {
    "duration": 458,
    "start_time": "2023-02-10T14:48:29.632Z"
   },
   {
    "duration": 133,
    "start_time": "2023-02-10T14:48:30.092Z"
   },
   {
    "duration": 102,
    "start_time": "2023-02-10T14:48:30.226Z"
   },
   {
    "duration": 4,
    "start_time": "2023-02-10T14:48:30.330Z"
   },
   {
    "duration": 488,
    "start_time": "2023-02-10T14:48:30.335Z"
   },
   {
    "duration": 35,
    "start_time": "2023-02-10T14:48:30.826Z"
   },
   {
    "duration": 1292,
    "start_time": "2023-02-10T14:48:30.863Z"
   },
   {
    "duration": 9,
    "start_time": "2023-02-10T14:48:32.156Z"
   },
   {
    "duration": 21,
    "start_time": "2023-02-10T14:48:32.166Z"
   },
   {
    "duration": 21,
    "start_time": "2023-02-10T14:48:32.188Z"
   },
   {
    "duration": 11,
    "start_time": "2023-02-10T14:48:32.211Z"
   },
   {
    "duration": 4,
    "start_time": "2023-02-10T14:48:32.223Z"
   },
   {
    "duration": 1807,
    "start_time": "2023-02-10T14:48:32.228Z"
   },
   {
    "duration": 29,
    "start_time": "2023-02-10T14:48:34.037Z"
   },
   {
    "duration": 1456,
    "start_time": "2023-02-10T14:48:34.067Z"
   },
   {
    "duration": 8,
    "start_time": "2023-02-10T14:48:35.525Z"
   },
   {
    "duration": 23,
    "start_time": "2023-02-10T14:48:35.535Z"
   },
   {
    "duration": 1428,
    "start_time": "2023-02-10T14:48:35.560Z"
   },
   {
    "duration": 28,
    "start_time": "2023-02-10T14:48:36.989Z"
   },
   {
    "duration": 1523,
    "start_time": "2023-02-10T14:48:37.019Z"
   },
   {
    "duration": 63,
    "start_time": "2023-02-10T14:48:38.544Z"
   },
   {
    "duration": 59,
    "start_time": "2023-02-10T14:48:38.609Z"
   },
   {
    "duration": 77,
    "start_time": "2023-02-10T14:48:38.670Z"
   },
   {
    "duration": 24,
    "start_time": "2023-02-10T14:48:38.751Z"
   },
   {
    "duration": 31,
    "start_time": "2023-02-10T14:48:38.777Z"
   },
   {
    "duration": 28,
    "start_time": "2023-02-10T14:48:38.810Z"
   },
   {
    "duration": 92,
    "start_time": "2023-02-10T14:48:38.840Z"
   },
   {
    "duration": 309,
    "start_time": "2023-02-10T14:48:38.934Z"
   },
   {
    "duration": 11,
    "start_time": "2023-02-10T14:48:39.244Z"
   },
   {
    "duration": 128,
    "start_time": "2023-02-10T14:48:39.256Z"
   },
   {
    "duration": 22,
    "start_time": "2023-02-10T14:48:39.385Z"
   },
   {
    "duration": 20,
    "start_time": "2023-02-10T14:48:39.408Z"
   },
   {
    "duration": 29,
    "start_time": "2023-02-10T14:48:39.430Z"
   },
   {
    "duration": 7,
    "start_time": "2023-02-10T14:48:39.460Z"
   },
   {
    "duration": 10,
    "start_time": "2023-02-10T14:48:39.469Z"
   },
   {
    "duration": 30,
    "start_time": "2023-02-10T14:48:39.481Z"
   },
   {
    "duration": 9,
    "start_time": "2023-02-10T14:48:39.513Z"
   },
   {
    "duration": 39,
    "start_time": "2023-02-10T14:48:39.524Z"
   },
   {
    "duration": 62,
    "start_time": "2023-02-10T14:48:39.564Z"
   },
   {
    "duration": 4,
    "start_time": "2023-02-10T14:48:39.628Z"
   },
   {
    "duration": 5,
    "start_time": "2023-02-10T14:48:39.634Z"
   },
   {
    "duration": 65,
    "start_time": "2023-02-10T14:48:39.640Z"
   },
   {
    "duration": 277,
    "start_time": "2023-02-10T14:49:42.628Z"
   },
   {
    "duration": 51,
    "start_time": "2023-02-10T14:51:55.155Z"
   },
   {
    "duration": 1475,
    "start_time": "2023-02-10T14:52:10.211Z"
   },
   {
    "duration": 877,
    "start_time": "2023-02-10T14:52:11.688Z"
   },
   {
    "duration": 139,
    "start_time": "2023-02-10T14:52:12.567Z"
   },
   {
    "duration": 17,
    "start_time": "2023-02-10T14:52:12.709Z"
   },
   {
    "duration": 487,
    "start_time": "2023-02-10T14:52:12.729Z"
   },
   {
    "duration": 138,
    "start_time": "2023-02-10T14:52:13.219Z"
   },
   {
    "duration": 117,
    "start_time": "2023-02-10T14:52:13.359Z"
   },
   {
    "duration": 6,
    "start_time": "2023-02-10T14:52:13.478Z"
   },
   {
    "duration": 509,
    "start_time": "2023-02-10T14:52:13.485Z"
   },
   {
    "duration": 38,
    "start_time": "2023-02-10T14:52:13.996Z"
   },
   {
    "duration": 1323,
    "start_time": "2023-02-10T14:52:14.035Z"
   },
   {
    "duration": 10,
    "start_time": "2023-02-10T14:52:15.359Z"
   },
   {
    "duration": 8,
    "start_time": "2023-02-10T14:52:15.371Z"
   },
   {
    "duration": 24,
    "start_time": "2023-02-10T14:52:15.382Z"
   },
   {
    "duration": 18,
    "start_time": "2023-02-10T14:52:15.408Z"
   },
   {
    "duration": 7,
    "start_time": "2023-02-10T14:52:15.428Z"
   },
   {
    "duration": 1944,
    "start_time": "2023-02-10T14:52:15.437Z"
   },
   {
    "duration": 36,
    "start_time": "2023-02-10T14:52:17.383Z"
   },
   {
    "duration": 1500,
    "start_time": "2023-02-10T14:52:17.421Z"
   },
   {
    "duration": 8,
    "start_time": "2023-02-10T14:52:18.923Z"
   },
   {
    "duration": 31,
    "start_time": "2023-02-10T14:52:18.933Z"
   },
   {
    "duration": 1412,
    "start_time": "2023-02-10T14:52:18.966Z"
   },
   {
    "duration": 30,
    "start_time": "2023-02-10T14:52:20.380Z"
   },
   {
    "duration": 1553,
    "start_time": "2023-02-10T14:52:20.412Z"
   },
   {
    "duration": 71,
    "start_time": "2023-02-10T14:52:21.967Z"
   },
   {
    "duration": 71,
    "start_time": "2023-02-10T14:52:22.040Z"
   },
   {
    "duration": 69,
    "start_time": "2023-02-10T14:52:22.112Z"
   },
   {
    "duration": 43,
    "start_time": "2023-02-10T14:52:22.183Z"
   },
   {
    "duration": 19,
    "start_time": "2023-02-10T14:52:22.227Z"
   },
   {
    "duration": 29,
    "start_time": "2023-02-10T14:52:22.248Z"
   },
   {
    "duration": 105,
    "start_time": "2023-02-10T14:52:22.278Z"
   },
   {
    "duration": 328,
    "start_time": "2023-02-10T14:52:22.384Z"
   },
   {
    "duration": 13,
    "start_time": "2023-02-10T14:52:22.714Z"
   },
   {
    "duration": 142,
    "start_time": "2023-02-10T14:52:22.729Z"
   },
   {
    "duration": 18,
    "start_time": "2023-02-10T14:52:22.872Z"
   },
   {
    "duration": 27,
    "start_time": "2023-02-10T14:52:22.892Z"
   },
   {
    "duration": 26,
    "start_time": "2023-02-10T14:52:22.921Z"
   },
   {
    "duration": 11,
    "start_time": "2023-02-10T14:52:22.948Z"
   },
   {
    "duration": 4,
    "start_time": "2023-02-10T14:52:22.960Z"
   },
   {
    "duration": 41,
    "start_time": "2023-02-10T14:52:22.965Z"
   },
   {
    "duration": 10,
    "start_time": "2023-02-10T14:52:23.009Z"
   },
   {
    "duration": 38,
    "start_time": "2023-02-10T14:52:23.020Z"
   },
   {
    "duration": 58,
    "start_time": "2023-02-10T14:52:23.060Z"
   },
   {
    "duration": 2,
    "start_time": "2023-02-10T14:52:23.120Z"
   },
   {
    "duration": 12,
    "start_time": "2023-02-10T14:52:23.124Z"
   },
   {
    "duration": 50,
    "start_time": "2023-02-10T14:52:23.138Z"
   },
   {
    "duration": 300,
    "start_time": "2023-02-10T14:52:23.204Z"
   },
   {
    "duration": 15,
    "start_time": "2023-02-10T14:53:31.465Z"
   },
   {
    "duration": 14,
    "start_time": "2023-02-10T14:53:53.067Z"
   },
   {
    "duration": 1338,
    "start_time": "2023-02-10T15:05:12.645Z"
   },
   {
    "duration": 818,
    "start_time": "2023-02-10T15:05:13.985Z"
   },
   {
    "duration": 129,
    "start_time": "2023-02-10T15:05:14.805Z"
   },
   {
    "duration": 15,
    "start_time": "2023-02-10T15:05:14.936Z"
   },
   {
    "duration": 488,
    "start_time": "2023-02-10T15:05:14.953Z"
   },
   {
    "duration": 121,
    "start_time": "2023-02-10T15:05:15.443Z"
   },
   {
    "duration": 99,
    "start_time": "2023-02-10T15:05:15.566Z"
   },
   {
    "duration": 4,
    "start_time": "2023-02-10T15:05:15.667Z"
   },
   {
    "duration": 495,
    "start_time": "2023-02-10T15:05:15.672Z"
   },
   {
    "duration": 36,
    "start_time": "2023-02-10T15:05:16.169Z"
   },
   {
    "duration": 1299,
    "start_time": "2023-02-10T15:05:16.207Z"
   },
   {
    "duration": 9,
    "start_time": "2023-02-10T15:05:17.508Z"
   },
   {
    "duration": 7,
    "start_time": "2023-02-10T15:05:17.518Z"
   },
   {
    "duration": 7,
    "start_time": "2023-02-10T15:05:17.526Z"
   },
   {
    "duration": 17,
    "start_time": "2023-02-10T15:05:17.535Z"
   },
   {
    "duration": 3,
    "start_time": "2023-02-10T15:05:17.553Z"
   },
   {
    "duration": 1864,
    "start_time": "2023-02-10T15:05:17.558Z"
   },
   {
    "duration": 26,
    "start_time": "2023-02-10T15:05:19.424Z"
   },
   {
    "duration": 1485,
    "start_time": "2023-02-10T15:05:19.452Z"
   },
   {
    "duration": 8,
    "start_time": "2023-02-10T15:05:20.938Z"
   },
   {
    "duration": 28,
    "start_time": "2023-02-10T15:05:20.948Z"
   },
   {
    "duration": 1441,
    "start_time": "2023-02-10T15:05:20.978Z"
   },
   {
    "duration": 21,
    "start_time": "2023-02-10T15:05:22.421Z"
   },
   {
    "duration": 1458,
    "start_time": "2023-02-10T15:05:22.444Z"
   },
   {
    "duration": 59,
    "start_time": "2023-02-10T15:05:23.904Z"
   },
   {
    "duration": 69,
    "start_time": "2023-02-10T15:05:23.964Z"
   },
   {
    "duration": 73,
    "start_time": "2023-02-10T15:05:24.034Z"
   },
   {
    "duration": 24,
    "start_time": "2023-02-10T15:05:24.110Z"
   },
   {
    "duration": 18,
    "start_time": "2023-02-10T15:05:24.136Z"
   },
   {
    "duration": 26,
    "start_time": "2023-02-10T15:05:24.156Z"
   },
   {
    "duration": 87,
    "start_time": "2023-02-10T15:05:24.183Z"
   },
   {
    "duration": 310,
    "start_time": "2023-02-10T15:05:24.272Z"
   },
   {
    "duration": 11,
    "start_time": "2023-02-10T15:05:24.584Z"
   },
   {
    "duration": 128,
    "start_time": "2023-02-10T15:05:24.603Z"
   },
   {
    "duration": 17,
    "start_time": "2023-02-10T15:05:24.733Z"
   },
   {
    "duration": 18,
    "start_time": "2023-02-10T15:05:24.752Z"
   },
   {
    "duration": 41,
    "start_time": "2023-02-10T15:05:24.772Z"
   },
   {
    "duration": 30,
    "start_time": "2023-02-10T15:05:24.815Z"
   },
   {
    "duration": 3,
    "start_time": "2023-02-10T15:05:24.847Z"
   },
   {
    "duration": 4,
    "start_time": "2023-02-10T15:05:24.852Z"
   },
   {
    "duration": 24,
    "start_time": "2023-02-10T15:05:24.858Z"
   },
   {
    "duration": 24,
    "start_time": "2023-02-10T15:05:24.883Z"
   },
   {
    "duration": 27,
    "start_time": "2023-02-10T15:05:24.909Z"
   },
   {
    "duration": 32,
    "start_time": "2023-02-10T15:05:24.938Z"
   },
   {
    "duration": 3,
    "start_time": "2023-02-10T15:05:24.972Z"
   },
   {
    "duration": 7,
    "start_time": "2023-02-10T15:05:24.976Z"
   },
   {
    "duration": 47,
    "start_time": "2023-02-10T15:05:25.004Z"
   },
   {
    "duration": 63,
    "start_time": "2023-02-10T15:05:25.052Z"
   },
   {
    "duration": 92,
    "start_time": "2023-02-10T15:05:25.117Z"
   },
   {
    "duration": 1430,
    "start_time": "2023-02-10T15:07:00.924Z"
   },
   {
    "duration": 837,
    "start_time": "2023-02-10T15:07:02.355Z"
   },
   {
    "duration": 132,
    "start_time": "2023-02-10T15:07:03.194Z"
   },
   {
    "duration": 15,
    "start_time": "2023-02-10T15:07:03.328Z"
   },
   {
    "duration": 479,
    "start_time": "2023-02-10T15:07:03.344Z"
   },
   {
    "duration": 127,
    "start_time": "2023-02-10T15:07:03.825Z"
   },
   {
    "duration": 97,
    "start_time": "2023-02-10T15:07:03.953Z"
   },
   {
    "duration": 5,
    "start_time": "2023-02-10T15:07:04.052Z"
   },
   {
    "duration": 487,
    "start_time": "2023-02-10T15:07:04.058Z"
   },
   {
    "duration": 36,
    "start_time": "2023-02-10T15:07:04.547Z"
   },
   {
    "duration": 1284,
    "start_time": "2023-02-10T15:07:04.585Z"
   },
   {
    "duration": 8,
    "start_time": "2023-02-10T15:07:05.871Z"
   },
   {
    "duration": 17,
    "start_time": "2023-02-10T15:07:05.881Z"
   },
   {
    "duration": 8,
    "start_time": "2023-02-10T15:07:05.904Z"
   },
   {
    "duration": 11,
    "start_time": "2023-02-10T15:07:05.914Z"
   },
   {
    "duration": 4,
    "start_time": "2023-02-10T15:07:05.926Z"
   },
   {
    "duration": 1848,
    "start_time": "2023-02-10T15:07:05.931Z"
   },
   {
    "duration": 31,
    "start_time": "2023-02-10T15:07:07.780Z"
   },
   {
    "duration": 1465,
    "start_time": "2023-02-10T15:07:07.813Z"
   },
   {
    "duration": 8,
    "start_time": "2023-02-10T15:07:09.280Z"
   },
   {
    "duration": 41,
    "start_time": "2023-02-10T15:07:09.289Z"
   },
   {
    "duration": 1480,
    "start_time": "2023-02-10T15:07:09.332Z"
   },
   {
    "duration": 21,
    "start_time": "2023-02-10T15:07:10.814Z"
   },
   {
    "duration": 1554,
    "start_time": "2023-02-10T15:07:10.837Z"
   },
   {
    "duration": 64,
    "start_time": "2023-02-10T15:07:12.392Z"
   },
   {
    "duration": 71,
    "start_time": "2023-02-10T15:07:12.458Z"
   },
   {
    "duration": 81,
    "start_time": "2023-02-10T15:07:12.531Z"
   },
   {
    "duration": 26,
    "start_time": "2023-02-10T15:07:12.616Z"
   },
   {
    "duration": 17,
    "start_time": "2023-02-10T15:07:12.644Z"
   },
   {
    "duration": 46,
    "start_time": "2023-02-10T15:07:12.663Z"
   },
   {
    "duration": 78,
    "start_time": "2023-02-10T15:07:12.710Z"
   },
   {
    "duration": 334,
    "start_time": "2023-02-10T15:07:12.803Z"
   },
   {
    "duration": 12,
    "start_time": "2023-02-10T15:07:13.138Z"
   },
   {
    "duration": 138,
    "start_time": "2023-02-10T15:07:13.151Z"
   },
   {
    "duration": 23,
    "start_time": "2023-02-10T15:07:13.291Z"
   },
   {
    "duration": 20,
    "start_time": "2023-02-10T15:07:13.315Z"
   },
   {
    "duration": 29,
    "start_time": "2023-02-10T15:07:13.337Z"
   },
   {
    "duration": 56,
    "start_time": "2023-02-10T15:07:13.368Z"
   },
   {
    "duration": 4,
    "start_time": "2023-02-10T15:07:13.426Z"
   },
   {
    "duration": 5,
    "start_time": "2023-02-10T15:07:13.432Z"
   },
   {
    "duration": 27,
    "start_time": "2023-02-10T15:07:13.439Z"
   },
   {
    "duration": 9,
    "start_time": "2023-02-10T15:07:13.467Z"
   },
   {
    "duration": 50,
    "start_time": "2023-02-10T15:07:13.477Z"
   },
   {
    "duration": 32,
    "start_time": "2023-02-10T15:07:13.529Z"
   },
   {
    "duration": 3,
    "start_time": "2023-02-10T15:07:13.562Z"
   },
   {
    "duration": 14,
    "start_time": "2023-02-10T15:07:13.567Z"
   },
   {
    "duration": 53,
    "start_time": "2023-02-10T15:07:13.582Z"
   },
   {
    "duration": 168,
    "start_time": "2023-02-10T15:07:13.636Z"
   },
   {
    "duration": 3,
    "start_time": "2023-02-10T15:07:13.806Z"
   },
   {
    "duration": 134322,
    "start_time": "2023-02-10T15:07:13.811Z"
   },
   {
    "duration": 98,
    "start_time": "2023-02-10T15:10:12.133Z"
   },
   {
    "duration": 108,
    "start_time": "2023-02-10T15:10:17.768Z"
   },
   {
    "duration": 4,
    "start_time": "2023-02-10T15:10:41.666Z"
   },
   {
    "duration": 132702,
    "start_time": "2023-02-10T15:10:42.365Z"
   },
   {
    "duration": 10,
    "start_time": "2023-02-10T15:12:55.069Z"
   },
   {
    "duration": 358,
    "start_time": "2023-02-10T15:13:16.809Z"
   },
   {
    "duration": 360,
    "start_time": "2023-02-10T15:15:54.824Z"
   },
   {
    "duration": 3,
    "start_time": "2023-02-10T15:22:41.467Z"
   },
   {
    "duration": 8,
    "start_time": "2023-02-10T15:22:42.222Z"
   },
   {
    "duration": 4,
    "start_time": "2023-02-10T15:23:21.028Z"
   },
   {
    "duration": 3,
    "start_time": "2023-02-10T15:23:23.468Z"
   },
   {
    "duration": 12,
    "start_time": "2023-02-10T15:23:24.212Z"
   },
   {
    "duration": 4,
    "start_time": "2023-02-10T15:23:55.071Z"
   },
   {
    "duration": 355,
    "start_time": "2023-02-10T15:24:03.260Z"
   },
   {
    "duration": 4,
    "start_time": "2023-02-10T15:24:04.214Z"
   },
   {
    "duration": 3,
    "start_time": "2023-02-10T15:24:04.912Z"
   },
   {
    "duration": 11,
    "start_time": "2023-02-10T15:24:06.066Z"
   },
   {
    "duration": 3,
    "start_time": "2023-02-10T15:30:16.364Z"
   },
   {
    "duration": 120384,
    "start_time": "2023-02-10T15:30:40.631Z"
   },
   {
    "duration": 3,
    "start_time": "2023-02-10T15:32:58.929Z"
   },
   {
    "duration": 1290,
    "start_time": "2023-02-10T15:34:58.452Z"
   },
   {
    "duration": 866,
    "start_time": "2023-02-10T15:34:59.744Z"
   },
   {
    "duration": 166,
    "start_time": "2023-02-10T15:35:00.611Z"
   },
   {
    "duration": 16,
    "start_time": "2023-02-10T15:35:00.778Z"
   },
   {
    "duration": 490,
    "start_time": "2023-02-10T15:35:00.803Z"
   },
   {
    "duration": 153,
    "start_time": "2023-02-10T15:35:01.294Z"
   },
   {
    "duration": 103,
    "start_time": "2023-02-10T15:35:01.449Z"
   },
   {
    "duration": 5,
    "start_time": "2023-02-10T15:35:01.554Z"
   },
   {
    "duration": 521,
    "start_time": "2023-02-10T15:35:01.560Z"
   },
   {
    "duration": 38,
    "start_time": "2023-02-10T15:35:02.082Z"
   },
   {
    "duration": 1288,
    "start_time": "2023-02-10T15:35:02.121Z"
   },
   {
    "duration": 9,
    "start_time": "2023-02-10T15:35:03.410Z"
   },
   {
    "duration": 7,
    "start_time": "2023-02-10T15:35:03.421Z"
   },
   {
    "duration": 8,
    "start_time": "2023-02-10T15:35:03.430Z"
   },
   {
    "duration": 6,
    "start_time": "2023-02-10T15:35:03.439Z"
   },
   {
    "duration": 4,
    "start_time": "2023-02-10T15:35:03.446Z"
   },
   {
    "duration": 1907,
    "start_time": "2023-02-10T15:35:03.452Z"
   },
   {
    "duration": 32,
    "start_time": "2023-02-10T15:35:05.361Z"
   },
   {
    "duration": 1538,
    "start_time": "2023-02-10T15:35:05.404Z"
   },
   {
    "duration": 9,
    "start_time": "2023-02-10T15:35:06.943Z"
   },
   {
    "duration": 25,
    "start_time": "2023-02-10T15:35:06.953Z"
   },
   {
    "duration": 1550,
    "start_time": "2023-02-10T15:35:06.980Z"
   },
   {
    "duration": 23,
    "start_time": "2023-02-10T15:35:08.532Z"
   },
   {
    "duration": 1499,
    "start_time": "2023-02-10T15:35:08.557Z"
   },
   {
    "duration": 76,
    "start_time": "2023-02-10T15:35:10.058Z"
   },
   {
    "duration": 86,
    "start_time": "2023-02-10T15:35:10.136Z"
   },
   {
    "duration": 98,
    "start_time": "2023-02-10T15:35:10.224Z"
   },
   {
    "duration": 29,
    "start_time": "2023-02-10T15:35:10.323Z"
   },
   {
    "duration": 22,
    "start_time": "2023-02-10T15:35:10.354Z"
   },
   {
    "duration": 47,
    "start_time": "2023-02-10T15:35:10.377Z"
   },
   {
    "duration": 103,
    "start_time": "2023-02-10T15:35:10.425Z"
   },
   {
    "duration": 319,
    "start_time": "2023-02-10T15:35:10.529Z"
   },
   {
    "duration": 12,
    "start_time": "2023-02-10T15:35:10.849Z"
   },
   {
    "duration": 141,
    "start_time": "2023-02-10T15:35:10.863Z"
   },
   {
    "duration": 19,
    "start_time": "2023-02-10T15:35:11.005Z"
   },
   {
    "duration": 21,
    "start_time": "2023-02-10T15:35:11.025Z"
   },
   {
    "duration": 29,
    "start_time": "2023-02-10T15:35:11.048Z"
   },
   {
    "duration": 59,
    "start_time": "2023-02-10T15:35:11.078Z"
   },
   {
    "duration": 4,
    "start_time": "2023-02-10T15:35:11.138Z"
   },
   {
    "duration": 12,
    "start_time": "2023-02-10T15:35:11.144Z"
   },
   {
    "duration": 26,
    "start_time": "2023-02-10T15:35:11.160Z"
   },
   {
    "duration": 8,
    "start_time": "2023-02-10T15:35:11.204Z"
   },
   {
    "duration": 27,
    "start_time": "2023-02-10T15:35:11.214Z"
   },
   {
    "duration": 33,
    "start_time": "2023-02-10T15:35:11.242Z"
   },
   {
    "duration": 3,
    "start_time": "2023-02-10T15:35:11.277Z"
   },
   {
    "duration": 25,
    "start_time": "2023-02-10T15:35:11.281Z"
   },
   {
    "duration": 48,
    "start_time": "2023-02-10T15:35:11.307Z"
   },
   {
    "duration": 146,
    "start_time": "2023-02-10T15:35:11.357Z"
   },
   {
    "duration": 2,
    "start_time": "2023-02-10T15:35:11.506Z"
   },
   {
    "duration": 134610,
    "start_time": "2023-02-10T15:35:11.510Z"
   },
   {
    "duration": 347,
    "start_time": "2023-02-10T15:37:26.122Z"
   },
   {
    "duration": 3,
    "start_time": "2023-02-10T15:37:26.471Z"
   },
   {
    "duration": 862,
    "start_time": "2023-02-10T15:37:26.476Z"
   },
   {
    "duration": 3,
    "start_time": "2023-02-10T15:40:35.511Z"
   },
   {
    "duration": 783,
    "start_time": "2023-02-10T15:40:36.389Z"
   },
   {
    "duration": 3,
    "start_time": "2023-02-10T15:40:54.458Z"
   },
   {
    "duration": 99590,
    "start_time": "2023-02-10T15:40:55.229Z"
   },
   {
    "duration": 4,
    "start_time": "2023-02-10T15:42:43.169Z"
   },
   {
    "duration": 14850,
    "start_time": "2023-02-10T15:42:43.952Z"
   },
   {
    "duration": 3,
    "start_time": "2023-02-10T15:43:09.018Z"
   },
   {
    "duration": 1360,
    "start_time": "2023-02-10T15:44:07.467Z"
   },
   {
    "duration": 834,
    "start_time": "2023-02-10T15:44:08.829Z"
   },
   {
    "duration": 148,
    "start_time": "2023-02-10T15:44:09.665Z"
   },
   {
    "duration": 16,
    "start_time": "2023-02-10T15:44:09.815Z"
   },
   {
    "duration": 477,
    "start_time": "2023-02-10T15:44:09.833Z"
   },
   {
    "duration": 126,
    "start_time": "2023-02-10T15:44:10.312Z"
   },
   {
    "duration": 98,
    "start_time": "2023-02-10T15:44:10.440Z"
   },
   {
    "duration": 5,
    "start_time": "2023-02-10T15:44:10.539Z"
   },
   {
    "duration": 486,
    "start_time": "2023-02-10T15:44:10.546Z"
   },
   {
    "duration": 38,
    "start_time": "2023-02-10T15:44:11.034Z"
   },
   {
    "duration": 1304,
    "start_time": "2023-02-10T15:44:11.073Z"
   },
   {
    "duration": 10,
    "start_time": "2023-02-10T15:44:12.379Z"
   },
   {
    "duration": 20,
    "start_time": "2023-02-10T15:44:12.390Z"
   },
   {
    "duration": 13,
    "start_time": "2023-02-10T15:44:12.413Z"
   },
   {
    "duration": 9,
    "start_time": "2023-02-10T15:44:12.427Z"
   },
   {
    "duration": 10,
    "start_time": "2023-02-10T15:44:12.438Z"
   },
   {
    "duration": 1791,
    "start_time": "2023-02-10T15:44:12.450Z"
   },
   {
    "duration": 26,
    "start_time": "2023-02-10T15:44:14.243Z"
   },
   {
    "duration": 1440,
    "start_time": "2023-02-10T15:44:14.271Z"
   },
   {
    "duration": 8,
    "start_time": "2023-02-10T15:44:15.713Z"
   },
   {
    "duration": 30,
    "start_time": "2023-02-10T15:44:15.723Z"
   },
   {
    "duration": 1434,
    "start_time": "2023-02-10T15:44:15.755Z"
   },
   {
    "duration": 25,
    "start_time": "2023-02-10T15:44:17.191Z"
   },
   {
    "duration": 1480,
    "start_time": "2023-02-10T15:44:17.218Z"
   },
   {
    "duration": 61,
    "start_time": "2023-02-10T15:44:18.699Z"
   },
   {
    "duration": 68,
    "start_time": "2023-02-10T15:44:18.761Z"
   },
   {
    "duration": 76,
    "start_time": "2023-02-10T15:44:18.831Z"
   },
   {
    "duration": 31,
    "start_time": "2023-02-10T15:44:18.909Z"
   },
   {
    "duration": 20,
    "start_time": "2023-02-10T15:44:18.942Z"
   },
   {
    "duration": 25,
    "start_time": "2023-02-10T15:44:18.963Z"
   },
   {
    "duration": 84,
    "start_time": "2023-02-10T15:44:18.990Z"
   },
   {
    "duration": 319,
    "start_time": "2023-02-10T15:44:19.075Z"
   },
   {
    "duration": 14,
    "start_time": "2023-02-10T15:44:19.395Z"
   },
   {
    "duration": 129,
    "start_time": "2023-02-10T15:44:19.410Z"
   },
   {
    "duration": 17,
    "start_time": "2023-02-10T15:44:19.540Z"
   },
   {
    "duration": 19,
    "start_time": "2023-02-10T15:44:19.559Z"
   },
   {
    "duration": 40,
    "start_time": "2023-02-10T15:44:19.579Z"
   },
   {
    "duration": 29,
    "start_time": "2023-02-10T15:44:19.621Z"
   },
   {
    "duration": 4,
    "start_time": "2023-02-10T15:44:19.651Z"
   },
   {
    "duration": 4,
    "start_time": "2023-02-10T15:44:19.657Z"
   },
   {
    "duration": 41,
    "start_time": "2023-02-10T15:44:19.665Z"
   },
   {
    "duration": 7,
    "start_time": "2023-02-10T15:44:19.708Z"
   },
   {
    "duration": 32,
    "start_time": "2023-02-10T15:44:19.717Z"
   },
   {
    "duration": 30,
    "start_time": "2023-02-10T15:44:19.751Z"
   },
   {
    "duration": 3,
    "start_time": "2023-02-10T15:44:19.783Z"
   },
   {
    "duration": 4,
    "start_time": "2023-02-10T15:44:19.805Z"
   },
   {
    "duration": 46,
    "start_time": "2023-02-10T15:44:19.811Z"
   },
   {
    "duration": 54,
    "start_time": "2023-02-10T15:44:19.859Z"
   },
   {
    "duration": 3,
    "start_time": "2023-02-10T15:44:20.004Z"
   },
   {
    "duration": 133527,
    "start_time": "2023-02-10T15:44:20.008Z"
   },
   {
    "duration": 343,
    "start_time": "2023-02-10T15:46:33.538Z"
   },
   {
    "duration": 4,
    "start_time": "2023-02-10T15:46:33.883Z"
   },
   {
    "duration": 7639,
    "start_time": "2023-02-10T15:46:33.889Z"
   },
   {
    "duration": 69,
    "start_time": "2023-02-10T15:54:03.536Z"
   },
   {
    "duration": 101,
    "start_time": "2023-02-10T15:54:04.580Z"
   },
   {
    "duration": 4,
    "start_time": "2023-02-10T15:54:14.654Z"
   },
   {
    "duration": 4,
    "start_time": "2023-02-10T15:54:32.480Z"
   },
   {
    "duration": 83686,
    "start_time": "2023-02-10T15:54:41.752Z"
   },
   {
    "duration": 3,
    "start_time": "2023-02-10T15:56:24.107Z"
   },
   {
    "duration": 23842,
    "start_time": "2023-02-10T15:56:25.163Z"
   },
   {
    "duration": 84,
    "start_time": "2023-02-10T15:56:52.938Z"
   },
   {
    "duration": 5,
    "start_time": "2023-02-10T15:56:53.694Z"
   },
   {
    "duration": 10,
    "start_time": "2023-02-10T16:01:01.766Z"
   },
   {
    "duration": 10,
    "start_time": "2023-02-10T16:01:26.516Z"
   },
   {
    "duration": 4,
    "start_time": "2023-02-10T16:01:53.461Z"
   },
   {
    "duration": 3,
    "start_time": "2023-02-10T16:02:06.287Z"
   },
   {
    "duration": 3,
    "start_time": "2023-02-10T16:02:40.850Z"
   },
   {
    "duration": 4627,
    "start_time": "2023-02-10T16:02:41.583Z"
   },
   {
    "duration": 5,
    "start_time": "2023-02-10T16:03:20.358Z"
   },
   {
    "duration": 3,
    "start_time": "2023-02-10T16:03:25.510Z"
   },
   {
    "duration": 4336,
    "start_time": "2023-02-10T16:03:26.073Z"
   },
   {
    "duration": 10,
    "start_time": "2023-02-10T16:05:40.893Z"
   },
   {
    "duration": 330,
    "start_time": "2023-02-10T16:05:57.588Z"
   },
   {
    "duration": 3,
    "start_time": "2023-02-10T16:08:35.076Z"
   },
   {
    "duration": 7,
    "start_time": "2023-02-10T16:08:36.174Z"
   },
   {
    "duration": 4,
    "start_time": "2023-02-10T16:09:57.188Z"
   },
   {
    "duration": 8,
    "start_time": "2023-02-10T16:09:57.785Z"
   },
   {
    "duration": 3,
    "start_time": "2023-02-10T16:10:16.358Z"
   },
   {
    "duration": 7,
    "start_time": "2023-02-10T16:10:16.859Z"
   },
   {
    "duration": 4,
    "start_time": "2023-02-10T16:11:11.889Z"
   },
   {
    "duration": 8,
    "start_time": "2023-02-10T16:11:12.800Z"
   },
   {
    "duration": 1360,
    "start_time": "2023-02-10T16:23:50.212Z"
   },
   {
    "duration": 829,
    "start_time": "2023-02-10T16:23:51.574Z"
   },
   {
    "duration": 127,
    "start_time": "2023-02-10T16:23:52.404Z"
   },
   {
    "duration": 15,
    "start_time": "2023-02-10T16:23:52.534Z"
   },
   {
    "duration": 473,
    "start_time": "2023-02-10T16:23:52.550Z"
   },
   {
    "duration": 132,
    "start_time": "2023-02-10T16:23:53.025Z"
   },
   {
    "duration": 90,
    "start_time": "2023-02-10T16:23:53.158Z"
   },
   {
    "duration": 4,
    "start_time": "2023-02-10T16:23:53.250Z"
   },
   {
    "duration": 474,
    "start_time": "2023-02-10T16:23:53.255Z"
   },
   {
    "duration": 37,
    "start_time": "2023-02-10T16:23:53.731Z"
   },
   {
    "duration": 1259,
    "start_time": "2023-02-10T16:23:53.770Z"
   },
   {
    "duration": 8,
    "start_time": "2023-02-10T16:23:55.031Z"
   },
   {
    "duration": 10,
    "start_time": "2023-02-10T16:23:55.041Z"
   },
   {
    "duration": 18,
    "start_time": "2023-02-10T16:23:55.052Z"
   },
   {
    "duration": 7,
    "start_time": "2023-02-10T16:23:55.072Z"
   },
   {
    "duration": 5,
    "start_time": "2023-02-10T16:23:55.080Z"
   },
   {
    "duration": 1893,
    "start_time": "2023-02-10T16:23:55.086Z"
   },
   {
    "duration": 35,
    "start_time": "2023-02-10T16:23:56.981Z"
   },
   {
    "duration": 1474,
    "start_time": "2023-02-10T16:23:57.018Z"
   },
   {
    "duration": 17,
    "start_time": "2023-02-10T16:23:58.493Z"
   },
   {
    "duration": 26,
    "start_time": "2023-02-10T16:23:58.511Z"
   },
   {
    "duration": 1400,
    "start_time": "2023-02-10T16:23:58.539Z"
   },
   {
    "duration": 21,
    "start_time": "2023-02-10T16:23:59.941Z"
   },
   {
    "duration": 1505,
    "start_time": "2023-02-10T16:23:59.964Z"
   },
   {
    "duration": 63,
    "start_time": "2023-02-10T16:24:01.470Z"
   },
   {
    "duration": 69,
    "start_time": "2023-02-10T16:24:01.535Z"
   },
   {
    "duration": 62,
    "start_time": "2023-02-10T16:24:01.605Z"
   },
   {
    "duration": 39,
    "start_time": "2023-02-10T16:24:01.670Z"
   },
   {
    "duration": 18,
    "start_time": "2023-02-10T16:24:01.710Z"
   },
   {
    "duration": 24,
    "start_time": "2023-02-10T16:24:01.730Z"
   },
   {
    "duration": 89,
    "start_time": "2023-02-10T16:24:01.755Z"
   },
   {
    "duration": 321,
    "start_time": "2023-02-10T16:24:01.846Z"
   },
   {
    "duration": 14,
    "start_time": "2023-02-10T16:24:02.168Z"
   },
   {
    "duration": 137,
    "start_time": "2023-02-10T16:24:02.184Z"
   },
   {
    "duration": 17,
    "start_time": "2023-02-10T16:24:02.322Z"
   },
   {
    "duration": 19,
    "start_time": "2023-02-10T16:24:02.341Z"
   },
   {
    "duration": 45,
    "start_time": "2023-02-10T16:24:02.362Z"
   },
   {
    "duration": 29,
    "start_time": "2023-02-10T16:24:02.409Z"
   },
   {
    "duration": 3,
    "start_time": "2023-02-10T16:24:02.440Z"
   },
   {
    "duration": 26,
    "start_time": "2023-02-10T16:24:02.445Z"
   },
   {
    "duration": 30,
    "start_time": "2023-02-10T16:24:02.473Z"
   },
   {
    "duration": 7,
    "start_time": "2023-02-10T16:24:02.505Z"
   },
   {
    "duration": 34,
    "start_time": "2023-02-10T16:24:02.514Z"
   },
   {
    "duration": 31,
    "start_time": "2023-02-10T16:24:02.550Z"
   },
   {
    "duration": 2,
    "start_time": "2023-02-10T16:24:02.583Z"
   },
   {
    "duration": 16,
    "start_time": "2023-02-10T16:24:02.587Z"
   },
   {
    "duration": 47,
    "start_time": "2023-02-10T16:24:02.605Z"
   },
   {
    "duration": 150,
    "start_time": "2023-02-10T16:24:02.654Z"
   },
   {
    "duration": 8,
    "start_time": "2023-02-10T16:24:02.806Z"
   },
   {
    "duration": 134729,
    "start_time": "2023-02-10T16:24:02.815Z"
   },
   {
    "duration": 338,
    "start_time": "2023-02-10T16:26:17.546Z"
   },
   {
    "duration": 5,
    "start_time": "2023-02-10T16:26:17.886Z"
   },
   {
    "duration": 23900,
    "start_time": "2023-02-10T16:26:17.893Z"
   },
   {
    "duration": 77,
    "start_time": "2023-02-10T16:26:41.795Z"
   },
   {
    "duration": 4,
    "start_time": "2023-02-10T16:26:41.874Z"
   },
   {
    "duration": 3,
    "start_time": "2023-02-10T16:26:41.879Z"
   },
   {
    "duration": 4632,
    "start_time": "2023-02-10T16:26:41.883Z"
   },
   {
    "duration": 491,
    "start_time": "2023-02-10T16:26:46.517Z"
   },
   {
    "duration": 4,
    "start_time": "2023-02-10T16:26:47.010Z"
   },
   {
    "duration": 12,
    "start_time": "2023-02-10T16:26:47.015Z"
   },
   {
    "duration": 1842,
    "start_time": "2023-02-11T14:29:29.146Z"
   },
   {
    "duration": 4171,
    "start_time": "2023-02-11T14:29:30.990Z"
   },
   {
    "duration": 175,
    "start_time": "2023-02-11T14:29:35.163Z"
   },
   {
    "duration": 16,
    "start_time": "2023-02-11T14:29:35.340Z"
   },
   {
    "duration": 551,
    "start_time": "2023-02-11T14:29:35.373Z"
   },
   {
    "duration": 180,
    "start_time": "2023-02-11T14:29:35.926Z"
   },
   {
    "duration": 97,
    "start_time": "2023-02-11T14:29:39.704Z"
   },
   {
    "duration": 5,
    "start_time": "2023-02-11T14:30:16.367Z"
   },
   {
    "duration": 551,
    "start_time": "2023-02-11T14:30:23.174Z"
   },
   {
    "duration": 39,
    "start_time": "2023-02-11T14:30:36.344Z"
   },
   {
    "duration": 1505,
    "start_time": "2023-02-11T14:31:02.918Z"
   },
   {
    "duration": 10,
    "start_time": "2023-02-11T14:31:10.280Z"
   },
   {
    "duration": 8,
    "start_time": "2023-02-11T14:31:13.578Z"
   },
   {
    "duration": 14,
    "start_time": "2023-02-11T14:31:13.818Z"
   },
   {
    "duration": 8,
    "start_time": "2023-02-11T14:31:16.548Z"
   },
   {
    "duration": 4,
    "start_time": "2023-02-11T14:31:29.654Z"
   },
   {
    "duration": 2248,
    "start_time": "2023-02-11T14:31:41.645Z"
   },
   {
    "duration": 28,
    "start_time": "2023-02-11T14:31:48.826Z"
   },
   {
    "duration": 1852,
    "start_time": "2023-02-11T14:32:19.473Z"
   },
   {
    "duration": 10,
    "start_time": "2023-02-11T14:32:33.821Z"
   },
   {
    "duration": 27,
    "start_time": "2023-02-11T14:32:35.315Z"
   },
   {
    "duration": 1657,
    "start_time": "2023-02-11T14:32:59.085Z"
   },
   {
    "duration": 23,
    "start_time": "2023-02-11T14:33:05.023Z"
   },
   {
    "duration": 1768,
    "start_time": "2023-02-11T14:33:21.192Z"
   },
   {
    "duration": 106,
    "start_time": "2023-02-11T14:33:26.222Z"
   },
   {
    "duration": 123,
    "start_time": "2023-02-11T14:33:26.932Z"
   },
   {
    "duration": 73,
    "start_time": "2023-02-11T14:33:30.012Z"
   },
   {
    "duration": 37,
    "start_time": "2023-02-11T14:33:31.839Z"
   },
   {
    "duration": 17,
    "start_time": "2023-02-11T14:33:37.143Z"
   },
   {
    "duration": 28,
    "start_time": "2023-02-11T14:33:38.541Z"
   },
   {
    "duration": 96,
    "start_time": "2023-02-11T14:33:43.044Z"
   },
   {
    "duration": 379,
    "start_time": "2023-02-11T14:34:57.056Z"
   },
   {
    "duration": 11,
    "start_time": "2023-02-11T14:36:46.859Z"
   },
   {
    "duration": 137,
    "start_time": "2023-02-11T14:37:01.926Z"
   },
   {
    "duration": 113,
    "start_time": "2023-02-11T14:37:33.580Z"
   },
   {
    "duration": 15,
    "start_time": "2023-02-11T14:38:28.269Z"
   },
   {
    "duration": 22,
    "start_time": "2023-02-11T14:39:54.334Z"
   },
   {
    "duration": 115,
    "start_time": "2023-02-11T14:39:59.446Z"
   },
   {
    "duration": 32,
    "start_time": "2023-02-11T14:40:32.023Z"
   },
   {
    "duration": 39,
    "start_time": "2023-02-11T14:40:36.010Z"
   },
   {
    "duration": 4,
    "start_time": "2023-02-11T14:40:39.935Z"
   },
   {
    "duration": 3,
    "start_time": "2023-02-11T14:40:40.942Z"
   },
   {
    "duration": 22,
    "start_time": "2023-02-11T14:40:41.958Z"
   },
   {
    "duration": 12,
    "start_time": "2023-02-11T14:40:46.116Z"
   },
   {
    "duration": 40,
    "start_time": "2023-02-11T14:40:54.853Z"
   },
   {
    "duration": 44,
    "start_time": "2023-02-11T14:41:05.145Z"
   },
   {
    "duration": 3,
    "start_time": "2023-02-11T14:41:45.657Z"
   },
   {
    "duration": 1567,
    "start_time": "2023-02-13T06:51:22.482Z"
   },
   {
    "duration": 1047,
    "start_time": "2023-02-13T06:51:24.051Z"
   },
   {
    "duration": 120,
    "start_time": "2023-02-13T06:51:25.099Z"
   },
   {
    "duration": 15,
    "start_time": "2023-02-13T06:51:25.222Z"
   },
   {
    "duration": 419,
    "start_time": "2023-02-13T06:51:25.239Z"
   },
   {
    "duration": 111,
    "start_time": "2023-02-13T06:51:25.660Z"
   },
   {
    "duration": 99,
    "start_time": "2023-02-13T06:51:25.772Z"
   },
   {
    "duration": 5,
    "start_time": "2023-02-13T06:51:25.873Z"
   },
   {
    "duration": 451,
    "start_time": "2023-02-13T06:51:25.880Z"
   },
   {
    "duration": 36,
    "start_time": "2023-02-13T06:51:26.334Z"
   },
   {
    "duration": 1424,
    "start_time": "2023-02-13T06:51:26.372Z"
   },
   {
    "duration": 20,
    "start_time": "2023-02-13T06:51:27.798Z"
   },
   {
    "duration": 12,
    "start_time": "2023-02-13T06:51:27.820Z"
   },
   {
    "duration": 9,
    "start_time": "2023-02-13T06:51:27.834Z"
   },
   {
    "duration": 7,
    "start_time": "2023-02-13T06:51:27.845Z"
   },
   {
    "duration": 6,
    "start_time": "2023-02-13T06:51:27.854Z"
   },
   {
    "duration": 2116,
    "start_time": "2023-02-13T06:51:27.861Z"
   },
   {
    "duration": 33,
    "start_time": "2023-02-13T06:51:29.979Z"
   },
   {
    "duration": 1643,
    "start_time": "2023-02-13T06:51:30.014Z"
   },
   {
    "duration": 9,
    "start_time": "2023-02-13T06:51:31.659Z"
   },
   {
    "duration": 47,
    "start_time": "2023-02-13T06:51:31.669Z"
   },
   {
    "duration": 1536,
    "start_time": "2023-02-13T06:51:31.717Z"
   },
   {
    "duration": 26,
    "start_time": "2023-02-13T06:51:33.255Z"
   },
   {
    "duration": 1587,
    "start_time": "2023-02-13T06:51:33.283Z"
   },
   {
    "duration": 58,
    "start_time": "2023-02-13T06:51:34.872Z"
   },
   {
    "duration": 62,
    "start_time": "2023-02-13T06:51:34.932Z"
   },
   {
    "duration": 68,
    "start_time": "2023-02-13T06:51:34.996Z"
   },
   {
    "duration": 36,
    "start_time": "2023-02-13T06:51:35.068Z"
   },
   {
    "duration": 20,
    "start_time": "2023-02-13T06:51:35.109Z"
   },
   {
    "duration": 25,
    "start_time": "2023-02-13T06:51:35.130Z"
   },
   {
    "duration": 85,
    "start_time": "2023-02-13T06:51:35.156Z"
   },
   {
    "duration": 3,
    "start_time": "2023-02-13T06:51:35.242Z"
   },
   {
    "duration": 21,
    "start_time": "2023-02-13T06:51:35.247Z"
   },
   {
    "duration": 8,
    "start_time": "2023-02-13T06:51:35.270Z"
   },
   {
    "duration": 365,
    "start_time": "2023-02-13T06:51:35.280Z"
   },
   {
    "duration": 115,
    "start_time": "2023-02-13T06:51:35.646Z"
   },
   {
    "duration": 135,
    "start_time": "2023-02-13T06:51:35.763Z"
   },
   {
    "duration": 117,
    "start_time": "2023-02-13T06:51:35.900Z"
   },
   {
    "duration": 10,
    "start_time": "2023-02-13T06:51:36.018Z"
   },
   {
    "duration": 23,
    "start_time": "2023-02-13T06:51:36.030Z"
   },
   {
    "duration": 40,
    "start_time": "2023-02-13T06:51:36.054Z"
   },
   {
    "duration": 8,
    "start_time": "2023-02-13T06:51:36.096Z"
   },
   {
    "duration": 26,
    "start_time": "2023-02-13T06:51:36.105Z"
   },
   {
    "duration": 158,
    "start_time": "2023-02-13T06:51:36.133Z"
   },
   {
    "duration": 3,
    "start_time": "2023-02-13T06:51:36.292Z"
   },
   {
    "duration": 13,
    "start_time": "2023-02-13T06:51:36.297Z"
   },
   {
    "duration": 19602,
    "start_time": "2023-02-13T06:51:36.312Z"
   },
   {
    "duration": 596,
    "start_time": "2023-02-13T06:51:55.916Z"
   },
   {
    "duration": 5,
    "start_time": "2023-02-13T06:51:56.514Z"
   },
   {
    "duration": 156294,
    "start_time": "2023-02-13T06:51:56.521Z"
   },
   {
    "duration": 416,
    "start_time": "2023-02-13T06:54:32.817Z"
   },
   {
    "duration": 4,
    "start_time": "2023-02-13T06:54:33.235Z"
   },
   {
    "duration": 24079,
    "start_time": "2023-02-13T06:54:33.241Z"
   },
   {
    "duration": 88,
    "start_time": "2023-02-13T06:54:57.322Z"
   },
   {
    "duration": 7,
    "start_time": "2023-02-13T06:54:57.411Z"
   },
   {
    "duration": 8,
    "start_time": "2023-02-13T06:54:57.419Z"
   },
   {
    "duration": 1316,
    "start_time": "2023-02-13T07:04:12.054Z"
   },
   {
    "duration": 798,
    "start_time": "2023-02-13T07:04:13.372Z"
   },
   {
    "duration": 121,
    "start_time": "2023-02-13T07:04:14.172Z"
   },
   {
    "duration": 21,
    "start_time": "2023-02-13T07:04:14.295Z"
   },
   {
    "duration": 421,
    "start_time": "2023-02-13T07:04:14.317Z"
   },
   {
    "duration": 125,
    "start_time": "2023-02-13T07:04:14.740Z"
   },
   {
    "duration": 107,
    "start_time": "2023-02-13T07:04:14.867Z"
   },
   {
    "duration": 5,
    "start_time": "2023-02-13T07:04:14.976Z"
   },
   {
    "duration": 449,
    "start_time": "2023-02-13T07:04:14.983Z"
   },
   {
    "duration": 34,
    "start_time": "2023-02-13T07:04:15.435Z"
   },
   {
    "duration": 1223,
    "start_time": "2023-02-13T07:04:15.471Z"
   },
   {
    "duration": 14,
    "start_time": "2023-02-13T07:04:16.697Z"
   },
   {
    "duration": 18,
    "start_time": "2023-02-13T07:04:16.713Z"
   },
   {
    "duration": 32,
    "start_time": "2023-02-13T07:04:16.732Z"
   },
   {
    "duration": 9,
    "start_time": "2023-02-13T07:04:16.765Z"
   },
   {
    "duration": 15,
    "start_time": "2023-02-13T07:04:16.776Z"
   },
   {
    "duration": 1998,
    "start_time": "2023-02-13T07:04:16.793Z"
   },
   {
    "duration": 34,
    "start_time": "2023-02-13T07:04:18.793Z"
   },
   {
    "duration": 1547,
    "start_time": "2023-02-13T07:04:18.829Z"
   },
   {
    "duration": 10,
    "start_time": "2023-02-13T07:04:20.378Z"
   },
   {
    "duration": 41,
    "start_time": "2023-02-13T07:04:20.390Z"
   },
   {
    "duration": 1484,
    "start_time": "2023-02-13T07:04:20.433Z"
   },
   {
    "duration": 22,
    "start_time": "2023-02-13T07:04:21.919Z"
   },
   {
    "duration": 1578,
    "start_time": "2023-02-13T07:04:21.942Z"
   },
   {
    "duration": 52,
    "start_time": "2023-02-13T07:04:23.522Z"
   },
   {
    "duration": 67,
    "start_time": "2023-02-13T07:04:23.576Z"
   },
   {
    "duration": 68,
    "start_time": "2023-02-13T07:04:23.644Z"
   },
   {
    "duration": 23,
    "start_time": "2023-02-13T07:04:23.715Z"
   },
   {
    "duration": 15,
    "start_time": "2023-02-13T07:04:23.740Z"
   },
   {
    "duration": 24,
    "start_time": "2023-02-13T07:04:23.757Z"
   },
   {
    "duration": 89,
    "start_time": "2023-02-13T07:04:23.782Z"
   },
   {
    "duration": 335,
    "start_time": "2023-02-13T07:04:23.872Z"
   },
   {
    "duration": 12,
    "start_time": "2023-02-13T07:04:24.210Z"
   },
   {
    "duration": 6,
    "start_time": "2023-02-13T07:04:24.224Z"
   },
   {
    "duration": 36,
    "start_time": "2023-02-13T07:04:24.232Z"
   },
   {
    "duration": 6,
    "start_time": "2023-02-13T07:04:24.270Z"
   },
   {
    "duration": 39,
    "start_time": "2023-02-13T07:04:24.278Z"
   },
   {
    "duration": 30,
    "start_time": "2023-02-13T07:04:24.319Z"
   },
   {
    "duration": 5,
    "start_time": "2023-02-13T07:04:24.351Z"
   },
   {
    "duration": 8,
    "start_time": "2023-02-13T07:04:24.358Z"
   },
   {
    "duration": 46,
    "start_time": "2023-02-13T07:04:24.368Z"
   },
   {
    "duration": 10,
    "start_time": "2023-02-13T07:04:24.416Z"
   },
   {
    "duration": 35,
    "start_time": "2023-02-13T07:04:24.428Z"
   },
   {
    "duration": 48,
    "start_time": "2023-02-13T07:04:24.465Z"
   },
   {
    "duration": 3,
    "start_time": "2023-02-13T07:04:24.515Z"
   },
   {
    "duration": 81,
    "start_time": "2023-02-13T07:04:24.520Z"
   },
   {
    "duration": 0,
    "start_time": "2023-02-13T07:04:24.602Z"
   },
   {
    "duration": 0,
    "start_time": "2023-02-13T07:04:24.603Z"
   },
   {
    "duration": 0,
    "start_time": "2023-02-13T07:04:24.604Z"
   },
   {
    "duration": 0,
    "start_time": "2023-02-13T07:04:24.605Z"
   },
   {
    "duration": 0,
    "start_time": "2023-02-13T07:04:24.606Z"
   },
   {
    "duration": 0,
    "start_time": "2023-02-13T07:04:24.608Z"
   },
   {
    "duration": 0,
    "start_time": "2023-02-13T07:04:24.609Z"
   },
   {
    "duration": 0,
    "start_time": "2023-02-13T07:04:24.610Z"
   },
   {
    "duration": 0,
    "start_time": "2023-02-13T07:04:24.612Z"
   },
   {
    "duration": 0,
    "start_time": "2023-02-13T07:04:24.613Z"
   },
   {
    "duration": 0,
    "start_time": "2023-02-13T07:04:24.614Z"
   },
   {
    "duration": 0,
    "start_time": "2023-02-13T07:04:24.615Z"
   },
   {
    "duration": 0,
    "start_time": "2023-02-13T07:04:24.615Z"
   },
   {
    "duration": 0,
    "start_time": "2023-02-13T07:04:24.616Z"
   },
   {
    "duration": 4,
    "start_time": "2023-02-13T07:05:07.766Z"
   },
   {
    "duration": 4,
    "start_time": "2023-02-13T07:11:58.104Z"
   },
   {
    "duration": 1431,
    "start_time": "2023-02-13T07:12:11.281Z"
   },
   {
    "duration": 851,
    "start_time": "2023-02-13T07:12:12.714Z"
   },
   {
    "duration": 146,
    "start_time": "2023-02-13T07:12:13.567Z"
   },
   {
    "duration": 16,
    "start_time": "2023-02-13T07:12:13.715Z"
   },
   {
    "duration": 405,
    "start_time": "2023-02-13T07:12:13.733Z"
   },
   {
    "duration": 119,
    "start_time": "2023-02-13T07:12:14.139Z"
   },
   {
    "duration": 102,
    "start_time": "2023-02-13T07:12:14.260Z"
   },
   {
    "duration": 5,
    "start_time": "2023-02-13T07:12:14.364Z"
   },
   {
    "duration": 440,
    "start_time": "2023-02-13T07:12:14.371Z"
   },
   {
    "duration": 32,
    "start_time": "2023-02-13T07:12:14.814Z"
   },
   {
    "duration": 1214,
    "start_time": "2023-02-13T07:12:14.848Z"
   },
   {
    "duration": 14,
    "start_time": "2023-02-13T07:12:16.063Z"
   },
   {
    "duration": 15,
    "start_time": "2023-02-13T07:12:16.079Z"
   },
   {
    "duration": 21,
    "start_time": "2023-02-13T07:12:16.095Z"
   },
   {
    "duration": 10,
    "start_time": "2023-02-13T07:12:16.118Z"
   },
   {
    "duration": 5,
    "start_time": "2023-02-13T07:12:16.130Z"
   },
   {
    "duration": 2078,
    "start_time": "2023-02-13T07:12:16.137Z"
   },
   {
    "duration": 32,
    "start_time": "2023-02-13T07:12:18.217Z"
   },
   {
    "duration": 1551,
    "start_time": "2023-02-13T07:12:18.251Z"
   },
   {
    "duration": 10,
    "start_time": "2023-02-13T07:12:19.810Z"
   },
   {
    "duration": 27,
    "start_time": "2023-02-13T07:12:19.821Z"
   },
   {
    "duration": 1511,
    "start_time": "2023-02-13T07:12:19.850Z"
   },
   {
    "duration": 22,
    "start_time": "2023-02-13T07:12:21.363Z"
   },
   {
    "duration": 1545,
    "start_time": "2023-02-13T07:12:21.386Z"
   },
   {
    "duration": 65,
    "start_time": "2023-02-13T07:12:22.933Z"
   },
   {
    "duration": 73,
    "start_time": "2023-02-13T07:12:23.011Z"
   },
   {
    "duration": 77,
    "start_time": "2023-02-13T07:12:23.086Z"
   },
   {
    "duration": 29,
    "start_time": "2023-02-13T07:12:23.168Z"
   },
   {
    "duration": 24,
    "start_time": "2023-02-13T07:12:23.209Z"
   },
   {
    "duration": 45,
    "start_time": "2023-02-13T07:12:23.235Z"
   },
   {
    "duration": 89,
    "start_time": "2023-02-13T07:12:23.281Z"
   },
   {
    "duration": 329,
    "start_time": "2023-02-13T07:12:23.371Z"
   },
   {
    "duration": 8,
    "start_time": "2023-02-13T07:12:23.702Z"
   },
   {
    "duration": 31,
    "start_time": "2023-02-13T07:12:23.712Z"
   },
   {
    "duration": 138,
    "start_time": "2023-02-13T07:12:23.745Z"
   },
   {
    "duration": 0,
    "start_time": "2023-02-13T07:12:23.884Z"
   },
   {
    "duration": 0,
    "start_time": "2023-02-13T07:12:23.885Z"
   },
   {
    "duration": 0,
    "start_time": "2023-02-13T07:12:23.887Z"
   },
   {
    "duration": 0,
    "start_time": "2023-02-13T07:12:23.888Z"
   },
   {
    "duration": 0,
    "start_time": "2023-02-13T07:12:23.889Z"
   },
   {
    "duration": 0,
    "start_time": "2023-02-13T07:12:23.890Z"
   },
   {
    "duration": 0,
    "start_time": "2023-02-13T07:12:23.891Z"
   },
   {
    "duration": 0,
    "start_time": "2023-02-13T07:12:23.892Z"
   },
   {
    "duration": 0,
    "start_time": "2023-02-13T07:12:23.910Z"
   },
   {
    "duration": 0,
    "start_time": "2023-02-13T07:12:23.912Z"
   },
   {
    "duration": 0,
    "start_time": "2023-02-13T07:12:23.913Z"
   },
   {
    "duration": 0,
    "start_time": "2023-02-13T07:12:23.914Z"
   },
   {
    "duration": 0,
    "start_time": "2023-02-13T07:12:23.915Z"
   },
   {
    "duration": 0,
    "start_time": "2023-02-13T07:12:23.916Z"
   },
   {
    "duration": 0,
    "start_time": "2023-02-13T07:12:23.917Z"
   },
   {
    "duration": 0,
    "start_time": "2023-02-13T07:12:23.918Z"
   },
   {
    "duration": 0,
    "start_time": "2023-02-13T07:12:23.919Z"
   },
   {
    "duration": 0,
    "start_time": "2023-02-13T07:12:23.920Z"
   },
   {
    "duration": 0,
    "start_time": "2023-02-13T07:12:23.921Z"
   },
   {
    "duration": 0,
    "start_time": "2023-02-13T07:12:23.922Z"
   },
   {
    "duration": 0,
    "start_time": "2023-02-13T07:12:23.924Z"
   },
   {
    "duration": 0,
    "start_time": "2023-02-13T07:12:23.925Z"
   },
   {
    "duration": 0,
    "start_time": "2023-02-13T07:12:23.926Z"
   },
   {
    "duration": 0,
    "start_time": "2023-02-13T07:12:23.927Z"
   },
   {
    "duration": 0,
    "start_time": "2023-02-13T07:12:23.929Z"
   },
   {
    "duration": 1423,
    "start_time": "2023-02-13T07:12:43.231Z"
   },
   {
    "duration": 838,
    "start_time": "2023-02-13T07:12:44.655Z"
   },
   {
    "duration": 123,
    "start_time": "2023-02-13T07:12:45.495Z"
   },
   {
    "duration": 19,
    "start_time": "2023-02-13T07:12:45.620Z"
   },
   {
    "duration": 464,
    "start_time": "2023-02-13T07:12:45.641Z"
   },
   {
    "duration": 121,
    "start_time": "2023-02-13T07:12:46.110Z"
   },
   {
    "duration": 97,
    "start_time": "2023-02-13T07:12:46.233Z"
   },
   {
    "duration": 5,
    "start_time": "2023-02-13T07:12:46.332Z"
   },
   {
    "duration": 462,
    "start_time": "2023-02-13T07:12:46.338Z"
   },
   {
    "duration": 39,
    "start_time": "2023-02-13T07:12:46.810Z"
   },
   {
    "duration": 1216,
    "start_time": "2023-02-13T07:12:46.851Z"
   },
   {
    "duration": 12,
    "start_time": "2023-02-13T07:12:48.069Z"
   },
   {
    "duration": 10,
    "start_time": "2023-02-13T07:12:48.083Z"
   },
   {
    "duration": 10,
    "start_time": "2023-02-13T07:12:48.110Z"
   },
   {
    "duration": 11,
    "start_time": "2023-02-13T07:12:48.122Z"
   },
   {
    "duration": 5,
    "start_time": "2023-02-13T07:12:48.135Z"
   },
   {
    "duration": 1863,
    "start_time": "2023-02-13T07:12:48.141Z"
   },
   {
    "duration": 32,
    "start_time": "2023-02-13T07:12:50.005Z"
   },
   {
    "duration": 1513,
    "start_time": "2023-02-13T07:12:50.039Z"
   },
   {
    "duration": 9,
    "start_time": "2023-02-13T07:12:51.553Z"
   },
   {
    "duration": 23,
    "start_time": "2023-02-13T07:12:51.563Z"
   },
   {
    "duration": 1543,
    "start_time": "2023-02-13T07:12:51.588Z"
   },
   {
    "duration": 21,
    "start_time": "2023-02-13T07:12:53.133Z"
   },
   {
    "duration": 1491,
    "start_time": "2023-02-13T07:12:53.156Z"
   },
   {
    "duration": 53,
    "start_time": "2023-02-13T07:12:54.648Z"
   },
   {
    "duration": 52,
    "start_time": "2023-02-13T07:12:54.710Z"
   },
   {
    "duration": 65,
    "start_time": "2023-02-13T07:12:54.763Z"
   },
   {
    "duration": 23,
    "start_time": "2023-02-13T07:12:54.832Z"
   },
   {
    "duration": 16,
    "start_time": "2023-02-13T07:12:54.856Z"
   },
   {
    "duration": 45,
    "start_time": "2023-02-13T07:12:54.874Z"
   },
   {
    "duration": 68,
    "start_time": "2023-02-13T07:12:54.920Z"
   },
   {
    "duration": 361,
    "start_time": "2023-02-13T07:12:54.990Z"
   },
   {
    "duration": 2,
    "start_time": "2023-02-13T07:12:55.353Z"
   },
   {
    "duration": 29,
    "start_time": "2023-02-13T07:12:55.356Z"
   },
   {
    "duration": 40,
    "start_time": "2023-02-13T07:12:55.387Z"
   },
   {
    "duration": 3,
    "start_time": "2023-02-13T07:12:55.429Z"
   },
   {
    "duration": 73,
    "start_time": "2023-02-13T07:12:55.433Z"
   },
   {
    "duration": 0,
    "start_time": "2023-02-13T07:12:55.508Z"
   },
   {
    "duration": 0,
    "start_time": "2023-02-13T07:12:55.510Z"
   },
   {
    "duration": 0,
    "start_time": "2023-02-13T07:12:55.511Z"
   },
   {
    "duration": 0,
    "start_time": "2023-02-13T07:12:55.512Z"
   },
   {
    "duration": 0,
    "start_time": "2023-02-13T07:12:55.512Z"
   },
   {
    "duration": 0,
    "start_time": "2023-02-13T07:12:55.513Z"
   },
   {
    "duration": 0,
    "start_time": "2023-02-13T07:12:55.514Z"
   },
   {
    "duration": 0,
    "start_time": "2023-02-13T07:12:55.515Z"
   },
   {
    "duration": 0,
    "start_time": "2023-02-13T07:12:55.516Z"
   },
   {
    "duration": 0,
    "start_time": "2023-02-13T07:12:55.517Z"
   },
   {
    "duration": 0,
    "start_time": "2023-02-13T07:12:55.519Z"
   },
   {
    "duration": 0,
    "start_time": "2023-02-13T07:12:55.520Z"
   },
   {
    "duration": 0,
    "start_time": "2023-02-13T07:12:55.521Z"
   },
   {
    "duration": 0,
    "start_time": "2023-02-13T07:12:55.522Z"
   },
   {
    "duration": 0,
    "start_time": "2023-02-13T07:12:55.523Z"
   },
   {
    "duration": 0,
    "start_time": "2023-02-13T07:12:55.524Z"
   },
   {
    "duration": 0,
    "start_time": "2023-02-13T07:12:55.525Z"
   },
   {
    "duration": 0,
    "start_time": "2023-02-13T07:12:55.526Z"
   },
   {
    "duration": 0,
    "start_time": "2023-02-13T07:12:55.527Z"
   },
   {
    "duration": 0,
    "start_time": "2023-02-13T07:12:55.528Z"
   },
   {
    "duration": 0,
    "start_time": "2023-02-13T07:12:55.529Z"
   },
   {
    "duration": 0,
    "start_time": "2023-02-13T07:12:55.530Z"
   },
   {
    "duration": 0,
    "start_time": "2023-02-13T07:12:55.531Z"
   },
   {
    "duration": 1379,
    "start_time": "2023-02-13T07:13:09.684Z"
   },
   {
    "duration": 794,
    "start_time": "2023-02-13T07:13:11.065Z"
   },
   {
    "duration": 125,
    "start_time": "2023-02-13T07:13:11.861Z"
   },
   {
    "duration": 22,
    "start_time": "2023-02-13T07:13:11.988Z"
   },
   {
    "duration": 393,
    "start_time": "2023-02-13T07:13:12.012Z"
   },
   {
    "duration": 109,
    "start_time": "2023-02-13T07:13:12.409Z"
   },
   {
    "duration": 101,
    "start_time": "2023-02-13T07:13:12.520Z"
   },
   {
    "duration": 5,
    "start_time": "2023-02-13T07:13:12.623Z"
   },
   {
    "duration": 466,
    "start_time": "2023-02-13T07:13:12.629Z"
   },
   {
    "duration": 36,
    "start_time": "2023-02-13T07:13:13.098Z"
   },
   {
    "duration": 1267,
    "start_time": "2023-02-13T07:13:13.135Z"
   },
   {
    "duration": 12,
    "start_time": "2023-02-13T07:13:14.403Z"
   },
   {
    "duration": 8,
    "start_time": "2023-02-13T07:13:14.416Z"
   },
   {
    "duration": 8,
    "start_time": "2023-02-13T07:13:14.425Z"
   },
   {
    "duration": 7,
    "start_time": "2023-02-13T07:13:14.434Z"
   },
   {
    "duration": 5,
    "start_time": "2023-02-13T07:13:14.443Z"
   },
   {
    "duration": 1836,
    "start_time": "2023-02-13T07:13:14.449Z"
   },
   {
    "duration": 37,
    "start_time": "2023-02-13T07:13:16.287Z"
   },
   {
    "duration": 1514,
    "start_time": "2023-02-13T07:13:16.326Z"
   },
   {
    "duration": 9,
    "start_time": "2023-02-13T07:13:17.841Z"
   },
   {
    "duration": 27,
    "start_time": "2023-02-13T07:13:17.851Z"
   },
   {
    "duration": 1409,
    "start_time": "2023-02-13T07:13:17.880Z"
   },
   {
    "duration": 27,
    "start_time": "2023-02-13T07:13:19.291Z"
   },
   {
    "duration": 1452,
    "start_time": "2023-02-13T07:13:19.320Z"
   },
   {
    "duration": 57,
    "start_time": "2023-02-13T07:13:20.773Z"
   },
   {
    "duration": 60,
    "start_time": "2023-02-13T07:13:20.831Z"
   },
   {
    "duration": 72,
    "start_time": "2023-02-13T07:13:20.893Z"
   },
   {
    "duration": 24,
    "start_time": "2023-02-13T07:13:20.969Z"
   },
   {
    "duration": 30,
    "start_time": "2023-02-13T07:13:20.994Z"
   },
   {
    "duration": 27,
    "start_time": "2023-02-13T07:13:21.026Z"
   },
   {
    "duration": 81,
    "start_time": "2023-02-13T07:13:21.054Z"
   },
   {
    "duration": 2,
    "start_time": "2023-02-13T07:13:21.137Z"
   },
   {
    "duration": 17,
    "start_time": "2023-02-13T07:13:21.141Z"
   },
   {
    "duration": 349,
    "start_time": "2023-02-13T07:13:21.159Z"
   },
   {
    "duration": 258,
    "start_time": "2023-02-13T07:13:21.510Z"
   },
   {
    "duration": 6,
    "start_time": "2023-02-13T07:13:21.770Z"
   },
   {
    "duration": 50,
    "start_time": "2023-02-13T07:13:21.778Z"
   },
   {
    "duration": 0,
    "start_time": "2023-02-13T07:13:21.830Z"
   },
   {
    "duration": 0,
    "start_time": "2023-02-13T07:13:21.830Z"
   },
   {
    "duration": 0,
    "start_time": "2023-02-13T07:13:21.832Z"
   },
   {
    "duration": 0,
    "start_time": "2023-02-13T07:13:21.832Z"
   },
   {
    "duration": 0,
    "start_time": "2023-02-13T07:13:21.833Z"
   },
   {
    "duration": 0,
    "start_time": "2023-02-13T07:13:21.834Z"
   },
   {
    "duration": 0,
    "start_time": "2023-02-13T07:13:21.835Z"
   },
   {
    "duration": 0,
    "start_time": "2023-02-13T07:13:21.836Z"
   },
   {
    "duration": 0,
    "start_time": "2023-02-13T07:13:21.837Z"
   },
   {
    "duration": 0,
    "start_time": "2023-02-13T07:13:21.838Z"
   },
   {
    "duration": 0,
    "start_time": "2023-02-13T07:13:21.838Z"
   },
   {
    "duration": 0,
    "start_time": "2023-02-13T07:13:21.839Z"
   },
   {
    "duration": 0,
    "start_time": "2023-02-13T07:13:21.841Z"
   },
   {
    "duration": 0,
    "start_time": "2023-02-13T07:13:21.842Z"
   },
   {
    "duration": 0,
    "start_time": "2023-02-13T07:13:21.842Z"
   },
   {
    "duration": 0,
    "start_time": "2023-02-13T07:13:21.843Z"
   },
   {
    "duration": 0,
    "start_time": "2023-02-13T07:13:21.844Z"
   },
   {
    "duration": 0,
    "start_time": "2023-02-13T07:13:21.845Z"
   },
   {
    "duration": 0,
    "start_time": "2023-02-13T07:13:21.845Z"
   },
   {
    "duration": 0,
    "start_time": "2023-02-13T07:13:21.846Z"
   },
   {
    "duration": 0,
    "start_time": "2023-02-13T07:13:21.847Z"
   },
   {
    "duration": 0,
    "start_time": "2023-02-13T07:13:21.848Z"
   },
   {
    "duration": 0,
    "start_time": "2023-02-13T07:13:21.848Z"
   },
   {
    "duration": 256,
    "start_time": "2023-02-13T07:29:46.549Z"
   },
   {
    "duration": 121,
    "start_time": "2023-02-13T07:30:00.807Z"
   },
   {
    "duration": 3,
    "start_time": "2023-02-13T07:30:27.095Z"
   },
   {
    "duration": 1455,
    "start_time": "2023-02-13T07:30:40.868Z"
   },
   {
    "duration": 837,
    "start_time": "2023-02-13T07:30:42.325Z"
   },
   {
    "duration": 119,
    "start_time": "2023-02-13T07:30:43.164Z"
   },
   {
    "duration": 34,
    "start_time": "2023-02-13T07:30:43.285Z"
   },
   {
    "duration": 525,
    "start_time": "2023-02-13T07:30:43.321Z"
   },
   {
    "duration": 113,
    "start_time": "2023-02-13T07:30:43.848Z"
   },
   {
    "duration": 101,
    "start_time": "2023-02-13T07:30:43.963Z"
   },
   {
    "duration": 5,
    "start_time": "2023-02-13T07:30:44.066Z"
   },
   {
    "duration": 454,
    "start_time": "2023-02-13T07:30:44.073Z"
   },
   {
    "duration": 35,
    "start_time": "2023-02-13T07:30:44.530Z"
   },
   {
    "duration": 1217,
    "start_time": "2023-02-13T07:30:44.567Z"
   },
   {
    "duration": 8,
    "start_time": "2023-02-13T07:30:45.786Z"
   },
   {
    "duration": 15,
    "start_time": "2023-02-13T07:30:45.796Z"
   },
   {
    "duration": 10,
    "start_time": "2023-02-13T07:30:45.813Z"
   },
   {
    "duration": 7,
    "start_time": "2023-02-13T07:30:45.825Z"
   },
   {
    "duration": 4,
    "start_time": "2023-02-13T07:30:45.833Z"
   },
   {
    "duration": 1900,
    "start_time": "2023-02-13T07:30:45.839Z"
   },
   {
    "duration": 29,
    "start_time": "2023-02-13T07:30:47.741Z"
   },
   {
    "duration": 1473,
    "start_time": "2023-02-13T07:30:47.772Z"
   },
   {
    "duration": 9,
    "start_time": "2023-02-13T07:30:49.247Z"
   },
   {
    "duration": 23,
    "start_time": "2023-02-13T07:30:49.258Z"
   },
   {
    "duration": 1455,
    "start_time": "2023-02-13T07:30:49.282Z"
   },
   {
    "duration": 23,
    "start_time": "2023-02-13T07:30:50.738Z"
   },
   {
    "duration": 1532,
    "start_time": "2023-02-13T07:30:50.762Z"
   },
   {
    "duration": 56,
    "start_time": "2023-02-13T07:30:52.295Z"
   },
   {
    "duration": 65,
    "start_time": "2023-02-13T07:30:52.353Z"
   },
   {
    "duration": 59,
    "start_time": "2023-02-13T07:30:52.420Z"
   },
   {
    "duration": 39,
    "start_time": "2023-02-13T07:30:52.482Z"
   },
   {
    "duration": 26,
    "start_time": "2023-02-13T07:30:52.523Z"
   },
   {
    "duration": 33,
    "start_time": "2023-02-13T07:30:52.551Z"
   },
   {
    "duration": 90,
    "start_time": "2023-02-13T07:30:52.585Z"
   },
   {
    "duration": 2,
    "start_time": "2023-02-13T07:30:52.677Z"
   },
   {
    "duration": 5,
    "start_time": "2023-02-13T07:30:52.681Z"
   },
   {
    "duration": 365,
    "start_time": "2023-02-13T07:30:52.687Z"
   },
   {
    "duration": 270,
    "start_time": "2023-02-13T07:30:53.054Z"
   },
   {
    "duration": 3,
    "start_time": "2023-02-13T07:30:53.325Z"
   },
   {
    "duration": 13157,
    "start_time": "2023-02-13T07:30:53.331Z"
   },
   {
    "duration": 53,
    "start_time": "2023-02-13T07:31:06.490Z"
   },
   {
    "duration": 0,
    "start_time": "2023-02-13T07:31:06.544Z"
   },
   {
    "duration": 0,
    "start_time": "2023-02-13T07:31:06.545Z"
   },
   {
    "duration": 0,
    "start_time": "2023-02-13T07:31:06.548Z"
   },
   {
    "duration": 0,
    "start_time": "2023-02-13T07:31:06.549Z"
   },
   {
    "duration": 0,
    "start_time": "2023-02-13T07:31:06.550Z"
   },
   {
    "duration": 0,
    "start_time": "2023-02-13T07:31:06.552Z"
   },
   {
    "duration": 0,
    "start_time": "2023-02-13T07:31:06.552Z"
   },
   {
    "duration": 0,
    "start_time": "2023-02-13T07:31:06.554Z"
   },
   {
    "duration": 0,
    "start_time": "2023-02-13T07:31:06.555Z"
   },
   {
    "duration": 0,
    "start_time": "2023-02-13T07:31:06.556Z"
   },
   {
    "duration": 0,
    "start_time": "2023-02-13T07:31:06.557Z"
   },
   {
    "duration": 0,
    "start_time": "2023-02-13T07:31:06.558Z"
   },
   {
    "duration": 0,
    "start_time": "2023-02-13T07:31:06.559Z"
   },
   {
    "duration": 0,
    "start_time": "2023-02-13T07:31:06.560Z"
   },
   {
    "duration": 0,
    "start_time": "2023-02-13T07:31:06.561Z"
   },
   {
    "duration": 0,
    "start_time": "2023-02-13T07:31:06.562Z"
   },
   {
    "duration": 0,
    "start_time": "2023-02-13T07:31:06.563Z"
   },
   {
    "duration": 0,
    "start_time": "2023-02-13T07:31:06.564Z"
   },
   {
    "duration": 0,
    "start_time": "2023-02-13T07:31:06.565Z"
   },
   {
    "duration": 0,
    "start_time": "2023-02-13T07:31:06.566Z"
   },
   {
    "duration": 0,
    "start_time": "2023-02-13T07:31:06.567Z"
   },
   {
    "duration": 0,
    "start_time": "2023-02-13T07:31:06.568Z"
   },
   {
    "duration": 0,
    "start_time": "2023-02-13T07:31:06.569Z"
   },
   {
    "duration": 23,
    "start_time": "2023-02-13T07:34:00.175Z"
   },
   {
    "duration": 330,
    "start_time": "2023-02-13T08:01:17.811Z"
   },
   {
    "duration": 1454,
    "start_time": "2023-02-13T08:01:22.316Z"
   },
   {
    "duration": 815,
    "start_time": "2023-02-13T08:01:23.772Z"
   },
   {
    "duration": 121,
    "start_time": "2023-02-13T08:01:24.589Z"
   },
   {
    "duration": 15,
    "start_time": "2023-02-13T08:01:24.712Z"
   },
   {
    "duration": 439,
    "start_time": "2023-02-13T08:01:24.728Z"
   },
   {
    "duration": 115,
    "start_time": "2023-02-13T08:01:25.168Z"
   },
   {
    "duration": 103,
    "start_time": "2023-02-13T08:01:25.284Z"
   },
   {
    "duration": 5,
    "start_time": "2023-02-13T08:01:25.388Z"
   },
   {
    "duration": 445,
    "start_time": "2023-02-13T08:01:25.394Z"
   },
   {
    "duration": 34,
    "start_time": "2023-02-13T08:01:25.842Z"
   },
   {
    "duration": 1301,
    "start_time": "2023-02-13T08:01:25.878Z"
   },
   {
    "duration": 9,
    "start_time": "2023-02-13T08:01:27.181Z"
   },
   {
    "duration": 22,
    "start_time": "2023-02-13T08:01:27.192Z"
   },
   {
    "duration": 8,
    "start_time": "2023-02-13T08:01:27.215Z"
   },
   {
    "duration": 11,
    "start_time": "2023-02-13T08:01:27.224Z"
   },
   {
    "duration": 4,
    "start_time": "2023-02-13T08:01:27.237Z"
   },
   {
    "duration": 1842,
    "start_time": "2023-02-13T08:01:27.242Z"
   },
   {
    "duration": 35,
    "start_time": "2023-02-13T08:01:29.086Z"
   },
   {
    "duration": 1509,
    "start_time": "2023-02-13T08:01:29.123Z"
   },
   {
    "duration": 9,
    "start_time": "2023-02-13T08:01:30.634Z"
   },
   {
    "duration": 58,
    "start_time": "2023-02-13T08:01:30.645Z"
   },
   {
    "duration": 1416,
    "start_time": "2023-02-13T08:01:30.705Z"
   },
   {
    "duration": 23,
    "start_time": "2023-02-13T08:01:32.123Z"
   },
   {
    "duration": 1550,
    "start_time": "2023-02-13T08:01:32.147Z"
   },
   {
    "duration": 65,
    "start_time": "2023-02-13T08:01:33.699Z"
   },
   {
    "duration": 58,
    "start_time": "2023-02-13T08:01:33.766Z"
   },
   {
    "duration": 60,
    "start_time": "2023-02-13T08:01:33.826Z"
   },
   {
    "duration": 34,
    "start_time": "2023-02-13T08:01:33.889Z"
   },
   {
    "duration": 24,
    "start_time": "2023-02-13T08:01:33.924Z"
   },
   {
    "duration": 23,
    "start_time": "2023-02-13T08:01:33.950Z"
   },
   {
    "duration": 80,
    "start_time": "2023-02-13T08:01:33.974Z"
   },
   {
    "duration": 2,
    "start_time": "2023-02-13T08:01:34.055Z"
   },
   {
    "duration": 4,
    "start_time": "2023-02-13T08:01:34.059Z"
   },
   {
    "duration": 348,
    "start_time": "2023-02-13T08:01:34.065Z"
   },
   {
    "duration": 377,
    "start_time": "2023-02-13T08:01:34.415Z"
   },
   {
    "duration": 3,
    "start_time": "2023-02-13T08:01:34.794Z"
   },
   {
    "duration": 138,
    "start_time": "2023-02-13T08:01:34.799Z"
   },
   {
    "duration": 0,
    "start_time": "2023-02-13T08:01:34.939Z"
   },
   {
    "duration": 0,
    "start_time": "2023-02-13T08:01:34.940Z"
   },
   {
    "duration": 0,
    "start_time": "2023-02-13T08:01:34.941Z"
   },
   {
    "duration": 0,
    "start_time": "2023-02-13T08:01:34.942Z"
   },
   {
    "duration": 0,
    "start_time": "2023-02-13T08:01:34.943Z"
   },
   {
    "duration": 0,
    "start_time": "2023-02-13T08:01:34.944Z"
   },
   {
    "duration": 0,
    "start_time": "2023-02-13T08:01:34.945Z"
   },
   {
    "duration": 0,
    "start_time": "2023-02-13T08:01:34.946Z"
   },
   {
    "duration": 0,
    "start_time": "2023-02-13T08:01:34.947Z"
   },
   {
    "duration": 0,
    "start_time": "2023-02-13T08:01:34.948Z"
   },
   {
    "duration": 0,
    "start_time": "2023-02-13T08:01:34.949Z"
   },
   {
    "duration": 0,
    "start_time": "2023-02-13T08:01:34.950Z"
   },
   {
    "duration": 0,
    "start_time": "2023-02-13T08:01:34.951Z"
   },
   {
    "duration": 0,
    "start_time": "2023-02-13T08:01:34.952Z"
   },
   {
    "duration": 0,
    "start_time": "2023-02-13T08:01:34.953Z"
   },
   {
    "duration": 0,
    "start_time": "2023-02-13T08:01:34.954Z"
   },
   {
    "duration": 0,
    "start_time": "2023-02-13T08:01:34.955Z"
   },
   {
    "duration": 0,
    "start_time": "2023-02-13T08:01:34.955Z"
   },
   {
    "duration": 0,
    "start_time": "2023-02-13T08:01:34.956Z"
   },
   {
    "duration": 0,
    "start_time": "2023-02-13T08:01:34.957Z"
   },
   {
    "duration": 0,
    "start_time": "2023-02-13T08:01:34.958Z"
   },
   {
    "duration": 0,
    "start_time": "2023-02-13T08:01:34.959Z"
   },
   {
    "duration": 0,
    "start_time": "2023-02-13T08:01:34.960Z"
   },
   {
    "duration": 0,
    "start_time": "2023-02-13T08:01:34.961Z"
   },
   {
    "duration": 1346,
    "start_time": "2023-02-13T08:02:53.904Z"
   },
   {
    "duration": 793,
    "start_time": "2023-02-13T08:02:55.252Z"
   },
   {
    "duration": 117,
    "start_time": "2023-02-13T08:02:56.047Z"
   },
   {
    "duration": 15,
    "start_time": "2023-02-13T08:02:56.166Z"
   },
   {
    "duration": 422,
    "start_time": "2023-02-13T08:02:56.183Z"
   },
   {
    "duration": 112,
    "start_time": "2023-02-13T08:02:56.607Z"
   },
   {
    "duration": 95,
    "start_time": "2023-02-13T08:02:56.720Z"
   },
   {
    "duration": 5,
    "start_time": "2023-02-13T08:02:56.817Z"
   },
   {
    "duration": 480,
    "start_time": "2023-02-13T08:02:56.824Z"
   },
   {
    "duration": 40,
    "start_time": "2023-02-13T08:02:57.306Z"
   },
   {
    "duration": 1205,
    "start_time": "2023-02-13T08:02:57.348Z"
   },
   {
    "duration": 9,
    "start_time": "2023-02-13T08:02:58.554Z"
   },
   {
    "duration": 9,
    "start_time": "2023-02-13T08:02:58.564Z"
   },
   {
    "duration": 8,
    "start_time": "2023-02-13T08:02:58.575Z"
   },
   {
    "duration": 29,
    "start_time": "2023-02-13T08:02:58.585Z"
   },
   {
    "duration": 4,
    "start_time": "2023-02-13T08:02:58.616Z"
   },
   {
    "duration": 1866,
    "start_time": "2023-02-13T08:02:58.622Z"
   },
   {
    "duration": 35,
    "start_time": "2023-02-13T08:03:00.489Z"
   },
   {
    "duration": 1526,
    "start_time": "2023-02-13T08:03:00.526Z"
   },
   {
    "duration": 8,
    "start_time": "2023-02-13T08:03:02.054Z"
   },
   {
    "duration": 60,
    "start_time": "2023-02-13T08:03:02.063Z"
   },
   {
    "duration": 1429,
    "start_time": "2023-02-13T08:03:02.124Z"
   },
   {
    "duration": 22,
    "start_time": "2023-02-13T08:03:03.555Z"
   },
   {
    "duration": 1484,
    "start_time": "2023-02-13T08:03:03.578Z"
   },
   {
    "duration": 61,
    "start_time": "2023-02-13T08:03:05.063Z"
   },
   {
    "duration": 53,
    "start_time": "2023-02-13T08:03:05.125Z"
   },
   {
    "duration": 72,
    "start_time": "2023-02-13T08:03:05.180Z"
   },
   {
    "duration": 24,
    "start_time": "2023-02-13T08:03:05.256Z"
   },
   {
    "duration": 35,
    "start_time": "2023-02-13T08:03:05.282Z"
   },
   {
    "duration": 28,
    "start_time": "2023-02-13T08:03:05.319Z"
   },
   {
    "duration": 84,
    "start_time": "2023-02-13T08:03:05.348Z"
   },
   {
    "duration": 334,
    "start_time": "2023-02-13T08:03:05.434Z"
   },
   {
    "duration": 2,
    "start_time": "2023-02-13T08:03:05.770Z"
   },
   {
    "duration": 36,
    "start_time": "2023-02-13T08:03:05.774Z"
   },
   {
    "duration": 48,
    "start_time": "2023-02-13T08:03:05.811Z"
   },
   {
    "duration": 2,
    "start_time": "2023-02-13T08:03:05.861Z"
   },
   {
    "duration": 232,
    "start_time": "2023-02-13T08:03:05.864Z"
   },
   {
    "duration": 12,
    "start_time": "2023-02-13T08:03:06.098Z"
   },
   {
    "duration": 60,
    "start_time": "2023-02-13T08:03:06.112Z"
   },
   {
    "duration": 0,
    "start_time": "2023-02-13T08:03:06.174Z"
   },
   {
    "duration": 0,
    "start_time": "2023-02-13T08:03:06.175Z"
   },
   {
    "duration": 0,
    "start_time": "2023-02-13T08:03:06.176Z"
   },
   {
    "duration": 0,
    "start_time": "2023-02-13T08:03:06.177Z"
   },
   {
    "duration": 0,
    "start_time": "2023-02-13T08:03:06.178Z"
   },
   {
    "duration": 0,
    "start_time": "2023-02-13T08:03:06.179Z"
   },
   {
    "duration": 0,
    "start_time": "2023-02-13T08:03:06.180Z"
   },
   {
    "duration": 0,
    "start_time": "2023-02-13T08:03:06.181Z"
   },
   {
    "duration": 0,
    "start_time": "2023-02-13T08:03:06.181Z"
   },
   {
    "duration": 0,
    "start_time": "2023-02-13T08:03:06.182Z"
   },
   {
    "duration": 0,
    "start_time": "2023-02-13T08:03:06.183Z"
   },
   {
    "duration": 0,
    "start_time": "2023-02-13T08:03:06.184Z"
   },
   {
    "duration": 0,
    "start_time": "2023-02-13T08:03:06.185Z"
   },
   {
    "duration": 0,
    "start_time": "2023-02-13T08:03:06.186Z"
   },
   {
    "duration": 0,
    "start_time": "2023-02-13T08:03:06.186Z"
   },
   {
    "duration": 0,
    "start_time": "2023-02-13T08:03:06.187Z"
   },
   {
    "duration": 0,
    "start_time": "2023-02-13T08:03:06.188Z"
   },
   {
    "duration": 0,
    "start_time": "2023-02-13T08:03:06.189Z"
   },
   {
    "duration": 0,
    "start_time": "2023-02-13T08:03:06.190Z"
   },
   {
    "duration": 0,
    "start_time": "2023-02-13T08:03:06.191Z"
   },
   {
    "duration": 0,
    "start_time": "2023-02-13T08:03:06.192Z"
   },
   {
    "duration": 0,
    "start_time": "2023-02-13T08:03:06.193Z"
   },
   {
    "duration": 34,
    "start_time": "2023-02-13T08:03:33.307Z"
   },
   {
    "duration": 30,
    "start_time": "2023-02-13T08:03:34.077Z"
   },
   {
    "duration": 65,
    "start_time": "2023-02-13T08:04:21.192Z"
   },
   {
    "duration": 1462,
    "start_time": "2023-02-13T08:05:02.389Z"
   },
   {
    "duration": 818,
    "start_time": "2023-02-13T08:05:03.853Z"
   },
   {
    "duration": 114,
    "start_time": "2023-02-13T08:05:04.673Z"
   },
   {
    "duration": 27,
    "start_time": "2023-02-13T08:05:04.789Z"
   },
   {
    "duration": 419,
    "start_time": "2023-02-13T08:05:04.818Z"
   },
   {
    "duration": 127,
    "start_time": "2023-02-13T08:05:05.238Z"
   },
   {
    "duration": 98,
    "start_time": "2023-02-13T08:05:05.366Z"
   },
   {
    "duration": 5,
    "start_time": "2023-02-13T08:05:05.465Z"
   },
   {
    "duration": 434,
    "start_time": "2023-02-13T08:05:05.471Z"
   },
   {
    "duration": 35,
    "start_time": "2023-02-13T08:05:05.909Z"
   },
   {
    "duration": 1234,
    "start_time": "2023-02-13T08:05:05.946Z"
   },
   {
    "duration": 10,
    "start_time": "2023-02-13T08:05:07.182Z"
   },
   {
    "duration": 22,
    "start_time": "2023-02-13T08:05:07.194Z"
   },
   {
    "duration": 9,
    "start_time": "2023-02-13T08:05:07.218Z"
   },
   {
    "duration": 9,
    "start_time": "2023-02-13T08:05:07.228Z"
   },
   {
    "duration": 5,
    "start_time": "2023-02-13T08:05:07.238Z"
   },
   {
    "duration": 1852,
    "start_time": "2023-02-13T08:05:07.244Z"
   },
   {
    "duration": 35,
    "start_time": "2023-02-13T08:05:09.098Z"
   },
   {
    "duration": 1480,
    "start_time": "2023-02-13T08:05:09.135Z"
   },
   {
    "duration": 10,
    "start_time": "2023-02-13T08:05:10.616Z"
   },
   {
    "duration": 27,
    "start_time": "2023-02-13T08:05:10.627Z"
   },
   {
    "duration": 1438,
    "start_time": "2023-02-13T08:05:10.656Z"
   },
   {
    "duration": 29,
    "start_time": "2023-02-13T08:05:12.095Z"
   },
   {
    "duration": 1472,
    "start_time": "2023-02-13T08:05:12.125Z"
   },
   {
    "duration": 54,
    "start_time": "2023-02-13T08:05:13.598Z"
   },
   {
    "duration": 66,
    "start_time": "2023-02-13T08:05:13.653Z"
   },
   {
    "duration": 56,
    "start_time": "2023-02-13T08:05:13.721Z"
   },
   {
    "duration": 33,
    "start_time": "2023-02-13T08:05:13.780Z"
   },
   {
    "duration": 19,
    "start_time": "2023-02-13T08:05:13.815Z"
   },
   {
    "duration": 23,
    "start_time": "2023-02-13T08:05:13.835Z"
   },
   {
    "duration": 82,
    "start_time": "2023-02-13T08:05:13.860Z"
   },
   {
    "duration": 320,
    "start_time": "2023-02-13T08:05:13.943Z"
   },
   {
    "duration": 3,
    "start_time": "2023-02-13T08:05:14.264Z"
   },
   {
    "duration": 31,
    "start_time": "2023-02-13T08:05:14.269Z"
   },
   {
    "duration": 48,
    "start_time": "2023-02-13T08:05:14.309Z"
   },
   {
    "duration": 4,
    "start_time": "2023-02-13T08:05:14.358Z"
   },
   {
    "duration": 235,
    "start_time": "2023-02-13T08:05:14.364Z"
   },
   {
    "duration": 31,
    "start_time": "2023-02-13T08:05:14.600Z"
   },
   {
    "duration": 29,
    "start_time": "2023-02-13T08:05:14.633Z"
   },
   {
    "duration": 4,
    "start_time": "2023-02-13T08:05:14.664Z"
   },
   {
    "duration": 9,
    "start_time": "2023-02-13T08:05:14.670Z"
   },
   {
    "duration": 42,
    "start_time": "2023-02-13T08:05:14.680Z"
   },
   {
    "duration": 9,
    "start_time": "2023-02-13T08:05:14.724Z"
   },
   {
    "duration": 42,
    "start_time": "2023-02-13T08:05:14.734Z"
   },
   {
    "duration": 3,
    "start_time": "2023-02-13T08:05:14.778Z"
   },
   {
    "duration": 46,
    "start_time": "2023-02-13T08:05:14.783Z"
   },
   {
    "duration": 0,
    "start_time": "2023-02-13T08:05:14.831Z"
   },
   {
    "duration": 0,
    "start_time": "2023-02-13T08:05:14.833Z"
   },
   {
    "duration": 0,
    "start_time": "2023-02-13T08:05:14.834Z"
   },
   {
    "duration": 0,
    "start_time": "2023-02-13T08:05:14.836Z"
   },
   {
    "duration": 0,
    "start_time": "2023-02-13T08:05:14.837Z"
   },
   {
    "duration": 0,
    "start_time": "2023-02-13T08:05:14.838Z"
   },
   {
    "duration": 0,
    "start_time": "2023-02-13T08:05:14.839Z"
   },
   {
    "duration": 0,
    "start_time": "2023-02-13T08:05:14.840Z"
   },
   {
    "duration": 0,
    "start_time": "2023-02-13T08:05:14.841Z"
   },
   {
    "duration": 0,
    "start_time": "2023-02-13T08:05:14.842Z"
   },
   {
    "duration": 0,
    "start_time": "2023-02-13T08:05:14.843Z"
   },
   {
    "duration": 0,
    "start_time": "2023-02-13T08:05:14.844Z"
   },
   {
    "duration": 0,
    "start_time": "2023-02-13T08:05:14.845Z"
   },
   {
    "duration": 0,
    "start_time": "2023-02-13T08:05:14.846Z"
   },
   {
    "duration": 4,
    "start_time": "2023-02-13T08:05:50.473Z"
   },
   {
    "duration": 1471,
    "start_time": "2023-02-13T08:06:06.297Z"
   },
   {
    "duration": 818,
    "start_time": "2023-02-13T08:06:07.770Z"
   },
   {
    "duration": 125,
    "start_time": "2023-02-13T08:06:08.590Z"
   },
   {
    "duration": 15,
    "start_time": "2023-02-13T08:06:08.717Z"
   },
   {
    "duration": 429,
    "start_time": "2023-02-13T08:06:08.734Z"
   },
   {
    "duration": 108,
    "start_time": "2023-02-13T08:06:09.164Z"
   },
   {
    "duration": 115,
    "start_time": "2023-02-13T08:06:09.274Z"
   },
   {
    "duration": 5,
    "start_time": "2023-02-13T08:06:09.390Z"
   },
   {
    "duration": 467,
    "start_time": "2023-02-13T08:06:09.396Z"
   },
   {
    "duration": 45,
    "start_time": "2023-02-13T08:06:09.866Z"
   },
   {
    "duration": 1260,
    "start_time": "2023-02-13T08:06:09.913Z"
   },
   {
    "duration": 9,
    "start_time": "2023-02-13T08:06:11.174Z"
   },
   {
    "duration": 9,
    "start_time": "2023-02-13T08:06:11.185Z"
   },
   {
    "duration": 9,
    "start_time": "2023-02-13T08:06:11.210Z"
   },
   {
    "duration": 8,
    "start_time": "2023-02-13T08:06:11.221Z"
   },
   {
    "duration": 4,
    "start_time": "2023-02-13T08:06:11.231Z"
   },
   {
    "duration": 1979,
    "start_time": "2023-02-13T08:06:11.236Z"
   },
   {
    "duration": 36,
    "start_time": "2023-02-13T08:06:13.217Z"
   },
   {
    "duration": 1616,
    "start_time": "2023-02-13T08:06:13.255Z"
   },
   {
    "duration": 10,
    "start_time": "2023-02-13T08:06:14.873Z"
   },
   {
    "duration": 47,
    "start_time": "2023-02-13T08:06:14.885Z"
   },
   {
    "duration": 1602,
    "start_time": "2023-02-13T08:06:14.933Z"
   },
   {
    "duration": 34,
    "start_time": "2023-02-13T08:06:16.537Z"
   },
   {
    "duration": 1626,
    "start_time": "2023-02-13T08:06:16.573Z"
   },
   {
    "duration": 58,
    "start_time": "2023-02-13T08:06:18.200Z"
   },
   {
    "duration": 68,
    "start_time": "2023-02-13T08:06:18.259Z"
   },
   {
    "duration": 77,
    "start_time": "2023-02-13T08:06:18.328Z"
   },
   {
    "duration": 23,
    "start_time": "2023-02-13T08:06:18.409Z"
   },
   {
    "duration": 20,
    "start_time": "2023-02-13T08:06:18.434Z"
   },
   {
    "duration": 54,
    "start_time": "2023-02-13T08:06:18.457Z"
   },
   {
    "duration": 106,
    "start_time": "2023-02-13T08:06:18.513Z"
   },
   {
    "duration": 323,
    "start_time": "2023-02-13T08:06:18.621Z"
   },
   {
    "duration": 2,
    "start_time": "2023-02-13T08:06:18.946Z"
   },
   {
    "duration": 28,
    "start_time": "2023-02-13T08:06:18.950Z"
   },
   {
    "duration": 64,
    "start_time": "2023-02-13T08:06:18.980Z"
   },
   {
    "duration": 4,
    "start_time": "2023-02-13T08:06:19.046Z"
   },
   {
    "duration": 5,
    "start_time": "2023-02-13T08:06:19.052Z"
   },
   {
    "duration": 263,
    "start_time": "2023-02-13T08:06:19.058Z"
   },
   {
    "duration": 29,
    "start_time": "2023-02-13T08:06:19.323Z"
   },
   {
    "duration": 59,
    "start_time": "2023-02-13T08:06:19.354Z"
   },
   {
    "duration": 5,
    "start_time": "2023-02-13T08:06:19.415Z"
   },
   {
    "duration": 7,
    "start_time": "2023-02-13T08:06:19.421Z"
   },
   {
    "duration": 27,
    "start_time": "2023-02-13T08:06:19.430Z"
   },
   {
    "duration": 7,
    "start_time": "2023-02-13T08:06:19.459Z"
   },
   {
    "duration": 64,
    "start_time": "2023-02-13T08:06:19.468Z"
   },
   {
    "duration": 3,
    "start_time": "2023-02-13T08:06:19.533Z"
   },
   {
    "duration": 49,
    "start_time": "2023-02-13T08:06:19.537Z"
   },
   {
    "duration": 0,
    "start_time": "2023-02-13T08:06:19.588Z"
   },
   {
    "duration": 0,
    "start_time": "2023-02-13T08:06:19.589Z"
   },
   {
    "duration": 0,
    "start_time": "2023-02-13T08:06:19.590Z"
   },
   {
    "duration": 0,
    "start_time": "2023-02-13T08:06:19.591Z"
   },
   {
    "duration": 0,
    "start_time": "2023-02-13T08:06:19.592Z"
   },
   {
    "duration": 0,
    "start_time": "2023-02-13T08:06:19.593Z"
   },
   {
    "duration": 0,
    "start_time": "2023-02-13T08:06:19.594Z"
   },
   {
    "duration": 0,
    "start_time": "2023-02-13T08:06:19.596Z"
   },
   {
    "duration": 0,
    "start_time": "2023-02-13T08:06:19.597Z"
   },
   {
    "duration": 0,
    "start_time": "2023-02-13T08:06:19.599Z"
   },
   {
    "duration": 1,
    "start_time": "2023-02-13T08:06:19.600Z"
   },
   {
    "duration": 0,
    "start_time": "2023-02-13T08:06:19.602Z"
   },
   {
    "duration": 0,
    "start_time": "2023-02-13T08:06:19.603Z"
   },
   {
    "duration": 0,
    "start_time": "2023-02-13T08:06:19.604Z"
   },
   {
    "duration": 1373,
    "start_time": "2023-02-13T08:08:17.469Z"
   },
   {
    "duration": 833,
    "start_time": "2023-02-13T08:08:18.844Z"
   },
   {
    "duration": 127,
    "start_time": "2023-02-13T08:08:19.678Z"
   },
   {
    "duration": 15,
    "start_time": "2023-02-13T08:08:19.807Z"
   },
   {
    "duration": 438,
    "start_time": "2023-02-13T08:08:19.823Z"
   },
   {
    "duration": 110,
    "start_time": "2023-02-13T08:08:20.262Z"
   },
   {
    "duration": 98,
    "start_time": "2023-02-13T08:08:20.373Z"
   },
   {
    "duration": 5,
    "start_time": "2023-02-13T08:08:20.472Z"
   },
   {
    "duration": 457,
    "start_time": "2023-02-13T08:08:20.479Z"
   },
   {
    "duration": 37,
    "start_time": "2023-02-13T08:08:20.938Z"
   },
   {
    "duration": 1239,
    "start_time": "2023-02-13T08:08:20.976Z"
   },
   {
    "duration": 9,
    "start_time": "2023-02-13T08:08:22.216Z"
   },
   {
    "duration": 7,
    "start_time": "2023-02-13T08:08:22.227Z"
   },
   {
    "duration": 8,
    "start_time": "2023-02-13T08:08:22.235Z"
   },
   {
    "duration": 7,
    "start_time": "2023-02-13T08:08:22.244Z"
   },
   {
    "duration": 4,
    "start_time": "2023-02-13T08:08:22.252Z"
   },
   {
    "duration": 1878,
    "start_time": "2023-02-13T08:08:22.258Z"
   },
   {
    "duration": 28,
    "start_time": "2023-02-13T08:08:24.137Z"
   },
   {
    "duration": 1505,
    "start_time": "2023-02-13T08:08:24.167Z"
   },
   {
    "duration": 9,
    "start_time": "2023-02-13T08:08:25.674Z"
   },
   {
    "duration": 44,
    "start_time": "2023-02-13T08:08:25.685Z"
   },
   {
    "duration": 1574,
    "start_time": "2023-02-13T08:08:25.730Z"
   },
   {
    "duration": 29,
    "start_time": "2023-02-13T08:08:27.305Z"
   },
   {
    "duration": 1539,
    "start_time": "2023-02-13T08:08:27.335Z"
   },
   {
    "duration": 55,
    "start_time": "2023-02-13T08:08:28.877Z"
   },
   {
    "duration": 54,
    "start_time": "2023-02-13T08:08:28.934Z"
   },
   {
    "duration": 67,
    "start_time": "2023-02-13T08:08:28.990Z"
   },
   {
    "duration": 23,
    "start_time": "2023-02-13T08:08:29.061Z"
   },
   {
    "duration": 36,
    "start_time": "2023-02-13T08:08:29.085Z"
   },
   {
    "duration": 24,
    "start_time": "2023-02-13T08:08:29.123Z"
   },
   {
    "duration": 90,
    "start_time": "2023-02-13T08:08:29.148Z"
   },
   {
    "duration": 343,
    "start_time": "2023-02-13T08:08:29.239Z"
   },
   {
    "duration": 2,
    "start_time": "2023-02-13T08:08:29.584Z"
   },
   {
    "duration": 31,
    "start_time": "2023-02-13T08:08:29.587Z"
   },
   {
    "duration": 47,
    "start_time": "2023-02-13T08:08:29.619Z"
   },
   {
    "duration": 2,
    "start_time": "2023-02-13T08:08:29.668Z"
   },
   {
    "duration": 273,
    "start_time": "2023-02-13T08:08:29.672Z"
   },
   {
    "duration": 28,
    "start_time": "2023-02-13T08:08:29.946Z"
   },
   {
    "duration": 36,
    "start_time": "2023-02-13T08:08:29.976Z"
   },
   {
    "duration": 5,
    "start_time": "2023-02-13T08:08:30.013Z"
   },
   {
    "duration": 23,
    "start_time": "2023-02-13T08:08:30.019Z"
   },
   {
    "duration": 26,
    "start_time": "2023-02-13T08:08:30.043Z"
   },
   {
    "duration": 56,
    "start_time": "2023-02-13T08:08:30.071Z"
   },
   {
    "duration": 104,
    "start_time": "2023-02-13T08:08:30.128Z"
   },
   {
    "duration": 3,
    "start_time": "2023-02-13T08:08:30.233Z"
   },
   {
    "duration": 56,
    "start_time": "2023-02-13T08:08:30.237Z"
   },
   {
    "duration": 52,
    "start_time": "2023-02-13T08:08:30.295Z"
   },
   {
    "duration": 69,
    "start_time": "2023-02-13T08:08:30.349Z"
   },
   {
    "duration": 114,
    "start_time": "2023-02-13T08:08:30.420Z"
   },
   {
    "duration": 0,
    "start_time": "2023-02-13T08:08:30.535Z"
   },
   {
    "duration": 0,
    "start_time": "2023-02-13T08:08:30.536Z"
   },
   {
    "duration": 0,
    "start_time": "2023-02-13T08:08:30.538Z"
   },
   {
    "duration": 0,
    "start_time": "2023-02-13T08:08:30.539Z"
   },
   {
    "duration": 0,
    "start_time": "2023-02-13T08:08:30.540Z"
   },
   {
    "duration": 0,
    "start_time": "2023-02-13T08:08:30.541Z"
   },
   {
    "duration": 0,
    "start_time": "2023-02-13T08:08:30.541Z"
   },
   {
    "duration": 0,
    "start_time": "2023-02-13T08:08:30.542Z"
   },
   {
    "duration": 0,
    "start_time": "2023-02-13T08:08:30.543Z"
   },
   {
    "duration": 0,
    "start_time": "2023-02-13T08:08:30.544Z"
   },
   {
    "duration": 0,
    "start_time": "2023-02-13T08:08:30.545Z"
   },
   {
    "duration": 27,
    "start_time": "2023-02-13T08:09:07.272Z"
   },
   {
    "duration": 3,
    "start_time": "2023-02-13T08:09:11.545Z"
   },
   {
    "duration": 25,
    "start_time": "2023-02-13T08:09:12.165Z"
   },
   {
    "duration": 1473,
    "start_time": "2023-02-13T08:09:15.982Z"
   },
   {
    "duration": 815,
    "start_time": "2023-02-13T08:09:17.456Z"
   },
   {
    "duration": 118,
    "start_time": "2023-02-13T08:09:18.272Z"
   },
   {
    "duration": 26,
    "start_time": "2023-02-13T08:09:18.392Z"
   },
   {
    "duration": 411,
    "start_time": "2023-02-13T08:09:18.420Z"
   },
   {
    "duration": 114,
    "start_time": "2023-02-13T08:09:18.832Z"
   },
   {
    "duration": 97,
    "start_time": "2023-02-13T08:09:18.947Z"
   },
   {
    "duration": 5,
    "start_time": "2023-02-13T08:09:19.045Z"
   },
   {
    "duration": 468,
    "start_time": "2023-02-13T08:09:19.051Z"
   },
   {
    "duration": 38,
    "start_time": "2023-02-13T08:09:19.521Z"
   },
   {
    "duration": 1225,
    "start_time": "2023-02-13T08:09:19.561Z"
   },
   {
    "duration": 9,
    "start_time": "2023-02-13T08:09:20.788Z"
   },
   {
    "duration": 19,
    "start_time": "2023-02-13T08:09:20.798Z"
   },
   {
    "duration": 9,
    "start_time": "2023-02-13T08:09:20.818Z"
   },
   {
    "duration": 9,
    "start_time": "2023-02-13T08:09:20.828Z"
   },
   {
    "duration": 4,
    "start_time": "2023-02-13T08:09:20.838Z"
   },
   {
    "duration": 1823,
    "start_time": "2023-02-13T08:09:20.843Z"
   },
   {
    "duration": 28,
    "start_time": "2023-02-13T08:09:22.667Z"
   },
   {
    "duration": 1462,
    "start_time": "2023-02-13T08:09:22.696Z"
   },
   {
    "duration": 9,
    "start_time": "2023-02-13T08:09:24.160Z"
   },
   {
    "duration": 39,
    "start_time": "2023-02-13T08:09:24.171Z"
   },
   {
    "duration": 1408,
    "start_time": "2023-02-13T08:09:24.211Z"
   },
   {
    "duration": 23,
    "start_time": "2023-02-13T08:09:25.621Z"
   },
   {
    "duration": 1605,
    "start_time": "2023-02-13T08:09:25.646Z"
   },
   {
    "duration": 66,
    "start_time": "2023-02-13T08:09:27.252Z"
   },
   {
    "duration": 54,
    "start_time": "2023-02-13T08:09:27.320Z"
   },
   {
    "duration": 71,
    "start_time": "2023-02-13T08:09:27.375Z"
   },
   {
    "duration": 22,
    "start_time": "2023-02-13T08:09:27.450Z"
   },
   {
    "duration": 22,
    "start_time": "2023-02-13T08:09:27.474Z"
   },
   {
    "duration": 37,
    "start_time": "2023-02-13T08:09:27.498Z"
   },
   {
    "duration": 76,
    "start_time": "2023-02-13T08:09:27.536Z"
   },
   {
    "duration": 325,
    "start_time": "2023-02-13T08:09:27.614Z"
   },
   {
    "duration": 2,
    "start_time": "2023-02-13T08:09:27.940Z"
   },
   {
    "duration": 28,
    "start_time": "2023-02-13T08:09:27.944Z"
   },
   {
    "duration": 61,
    "start_time": "2023-02-13T08:09:27.973Z"
   },
   {
    "duration": 3,
    "start_time": "2023-02-13T08:09:28.036Z"
   },
   {
    "duration": 226,
    "start_time": "2023-02-13T08:09:28.040Z"
   },
   {
    "duration": 27,
    "start_time": "2023-02-13T08:09:28.268Z"
   },
   {
    "duration": 45,
    "start_time": "2023-02-13T08:09:28.297Z"
   },
   {
    "duration": 5,
    "start_time": "2023-02-13T08:09:28.344Z"
   },
   {
    "duration": 4,
    "start_time": "2023-02-13T08:09:28.350Z"
   },
   {
    "duration": 25,
    "start_time": "2023-02-13T08:09:28.356Z"
   },
   {
    "duration": 28,
    "start_time": "2023-02-13T08:09:28.382Z"
   },
   {
    "duration": 45,
    "start_time": "2023-02-13T08:09:28.412Z"
   },
   {
    "duration": 3,
    "start_time": "2023-02-13T08:09:28.459Z"
   },
   {
    "duration": 15,
    "start_time": "2023-02-13T08:09:28.464Z"
   },
   {
    "duration": 299,
    "start_time": "2023-02-13T08:09:28.481Z"
   },
   {
    "duration": 32,
    "start_time": "2023-02-13T08:09:28.781Z"
   },
   {
    "duration": 0,
    "start_time": "2023-02-13T08:09:28.814Z"
   },
   {
    "duration": 0,
    "start_time": "2023-02-13T08:09:28.817Z"
   },
   {
    "duration": 0,
    "start_time": "2023-02-13T08:09:28.817Z"
   },
   {
    "duration": 0,
    "start_time": "2023-02-13T08:09:28.818Z"
   },
   {
    "duration": 0,
    "start_time": "2023-02-13T08:09:28.819Z"
   },
   {
    "duration": 0,
    "start_time": "2023-02-13T08:09:28.820Z"
   },
   {
    "duration": 0,
    "start_time": "2023-02-13T08:09:28.910Z"
   },
   {
    "duration": 0,
    "start_time": "2023-02-13T08:09:28.913Z"
   },
   {
    "duration": 0,
    "start_time": "2023-02-13T08:09:28.914Z"
   },
   {
    "duration": 0,
    "start_time": "2023-02-13T08:09:28.915Z"
   },
   {
    "duration": 0,
    "start_time": "2023-02-13T08:09:28.916Z"
   },
   {
    "duration": 0,
    "start_time": "2023-02-13T08:09:28.918Z"
   },
   {
    "duration": 31,
    "start_time": "2023-02-13T08:09:37.171Z"
   },
   {
    "duration": 58,
    "start_time": "2023-02-13T08:12:36.909Z"
   },
   {
    "duration": 1381,
    "start_time": "2023-02-13T08:12:53.993Z"
   },
   {
    "duration": 806,
    "start_time": "2023-02-13T08:12:55.375Z"
   },
   {
    "duration": 127,
    "start_time": "2023-02-13T08:12:56.183Z"
   },
   {
    "duration": 16,
    "start_time": "2023-02-13T08:12:56.311Z"
   },
   {
    "duration": 424,
    "start_time": "2023-02-13T08:12:56.328Z"
   },
   {
    "duration": 129,
    "start_time": "2023-02-13T08:12:56.754Z"
   },
   {
    "duration": 125,
    "start_time": "2023-02-13T08:12:56.885Z"
   },
   {
    "duration": 5,
    "start_time": "2023-02-13T08:12:57.012Z"
   },
   {
    "duration": 485,
    "start_time": "2023-02-13T08:12:57.019Z"
   },
   {
    "duration": 38,
    "start_time": "2023-02-13T08:12:57.507Z"
   },
   {
    "duration": 1228,
    "start_time": "2023-02-13T08:12:57.546Z"
   },
   {
    "duration": 10,
    "start_time": "2023-02-13T08:12:58.775Z"
   },
   {
    "duration": 7,
    "start_time": "2023-02-13T08:12:58.787Z"
   },
   {
    "duration": 21,
    "start_time": "2023-02-13T08:12:58.795Z"
   },
   {
    "duration": 7,
    "start_time": "2023-02-13T08:12:58.817Z"
   },
   {
    "duration": 4,
    "start_time": "2023-02-13T08:12:58.825Z"
   },
   {
    "duration": 1885,
    "start_time": "2023-02-13T08:12:58.831Z"
   },
   {
    "duration": 27,
    "start_time": "2023-02-13T08:13:00.717Z"
   },
   {
    "duration": 1513,
    "start_time": "2023-02-13T08:13:00.746Z"
   },
   {
    "duration": 8,
    "start_time": "2023-02-13T08:13:02.261Z"
   },
   {
    "duration": 59,
    "start_time": "2023-02-13T08:13:02.270Z"
   },
   {
    "duration": 1503,
    "start_time": "2023-02-13T08:13:02.331Z"
   },
   {
    "duration": 23,
    "start_time": "2023-02-13T08:13:03.835Z"
   },
   {
    "duration": 1532,
    "start_time": "2023-02-13T08:13:03.860Z"
   },
   {
    "duration": 55,
    "start_time": "2023-02-13T08:13:05.393Z"
   },
   {
    "duration": 62,
    "start_time": "2023-02-13T08:13:05.449Z"
   },
   {
    "duration": 57,
    "start_time": "2023-02-13T08:13:05.512Z"
   },
   {
    "duration": 38,
    "start_time": "2023-02-13T08:13:05.573Z"
   },
   {
    "duration": 20,
    "start_time": "2023-02-13T08:13:05.613Z"
   },
   {
    "duration": 24,
    "start_time": "2023-02-13T08:13:05.635Z"
   },
   {
    "duration": 85,
    "start_time": "2023-02-13T08:13:05.661Z"
   },
   {
    "duration": 337,
    "start_time": "2023-02-13T08:13:05.748Z"
   },
   {
    "duration": 2,
    "start_time": "2023-02-13T08:13:06.087Z"
   },
   {
    "duration": 39,
    "start_time": "2023-02-13T08:13:06.090Z"
   },
   {
    "duration": 48,
    "start_time": "2023-02-13T08:13:06.131Z"
   },
   {
    "duration": 2,
    "start_time": "2023-02-13T08:13:06.181Z"
   },
   {
    "duration": 236,
    "start_time": "2023-02-13T08:13:06.185Z"
   },
   {
    "duration": 27,
    "start_time": "2023-02-13T08:13:06.423Z"
   },
   {
    "duration": 29,
    "start_time": "2023-02-13T08:13:06.451Z"
   },
   {
    "duration": 4,
    "start_time": "2023-02-13T08:13:06.481Z"
   },
   {
    "duration": 24,
    "start_time": "2023-02-13T08:13:06.486Z"
   },
   {
    "duration": 21,
    "start_time": "2023-02-13T08:13:06.511Z"
   },
   {
    "duration": 9,
    "start_time": "2023-02-13T08:13:06.533Z"
   },
   {
    "duration": 39,
    "start_time": "2023-02-13T08:13:06.544Z"
   },
   {
    "duration": 3,
    "start_time": "2023-02-13T08:13:06.584Z"
   },
   {
    "duration": 3,
    "start_time": "2023-02-13T08:13:06.609Z"
   },
   {
    "duration": 186,
    "start_time": "2023-02-13T08:13:06.613Z"
   },
   {
    "duration": 17,
    "start_time": "2023-02-13T08:13:06.800Z"
   },
   {
    "duration": 0,
    "start_time": "2023-02-13T08:13:06.819Z"
   },
   {
    "duration": 0,
    "start_time": "2023-02-13T08:13:06.820Z"
   },
   {
    "duration": 0,
    "start_time": "2023-02-13T08:13:06.822Z"
   },
   {
    "duration": 0,
    "start_time": "2023-02-13T08:13:06.824Z"
   },
   {
    "duration": 0,
    "start_time": "2023-02-13T08:13:06.826Z"
   },
   {
    "duration": 0,
    "start_time": "2023-02-13T08:13:06.827Z"
   },
   {
    "duration": 0,
    "start_time": "2023-02-13T08:13:06.829Z"
   },
   {
    "duration": 0,
    "start_time": "2023-02-13T08:13:06.830Z"
   },
   {
    "duration": 0,
    "start_time": "2023-02-13T08:13:06.832Z"
   },
   {
    "duration": 0,
    "start_time": "2023-02-13T08:13:06.833Z"
   },
   {
    "duration": 0,
    "start_time": "2023-02-13T08:13:06.835Z"
   },
   {
    "duration": 0,
    "start_time": "2023-02-13T08:13:06.836Z"
   },
   {
    "duration": 261,
    "start_time": "2023-02-13T08:13:25.079Z"
   },
   {
    "duration": 80,
    "start_time": "2023-02-13T08:13:41.235Z"
   },
   {
    "duration": 58,
    "start_time": "2023-02-13T08:14:00.032Z"
   },
   {
    "duration": 1543,
    "start_time": "2023-02-13T08:14:53.516Z"
   },
   {
    "duration": 832,
    "start_time": "2023-02-13T08:14:55.061Z"
   },
   {
    "duration": 119,
    "start_time": "2023-02-13T08:14:55.895Z"
   },
   {
    "duration": 18,
    "start_time": "2023-02-13T08:14:56.017Z"
   },
   {
    "duration": 427,
    "start_time": "2023-02-13T08:14:56.036Z"
   },
   {
    "duration": 113,
    "start_time": "2023-02-13T08:14:56.465Z"
   },
   {
    "duration": 123,
    "start_time": "2023-02-13T08:14:56.580Z"
   },
   {
    "duration": 6,
    "start_time": "2023-02-13T08:14:56.709Z"
   },
   {
    "duration": 498,
    "start_time": "2023-02-13T08:14:56.717Z"
   },
   {
    "duration": 39,
    "start_time": "2023-02-13T08:14:57.218Z"
   },
   {
    "duration": 1327,
    "start_time": "2023-02-13T08:14:57.258Z"
   },
   {
    "duration": 9,
    "start_time": "2023-02-13T08:14:58.587Z"
   },
   {
    "duration": 14,
    "start_time": "2023-02-13T08:14:58.598Z"
   },
   {
    "duration": 12,
    "start_time": "2023-02-13T08:14:58.614Z"
   },
   {
    "duration": 8,
    "start_time": "2023-02-13T08:14:58.628Z"
   },
   {
    "duration": 8,
    "start_time": "2023-02-13T08:14:58.638Z"
   },
   {
    "duration": 2018,
    "start_time": "2023-02-13T08:14:58.647Z"
   },
   {
    "duration": 26,
    "start_time": "2023-02-13T08:15:00.667Z"
   },
   {
    "duration": 1535,
    "start_time": "2023-02-13T08:15:00.695Z"
   },
   {
    "duration": 10,
    "start_time": "2023-02-13T08:15:02.232Z"
   },
   {
    "duration": 56,
    "start_time": "2023-02-13T08:15:02.244Z"
   },
   {
    "duration": 1436,
    "start_time": "2023-02-13T08:15:02.302Z"
   },
   {
    "duration": 21,
    "start_time": "2023-02-13T08:15:03.740Z"
   },
   {
    "duration": 1645,
    "start_time": "2023-02-13T08:15:03.762Z"
   },
   {
    "duration": 54,
    "start_time": "2023-02-13T08:15:05.409Z"
   },
   {
    "duration": 63,
    "start_time": "2023-02-13T08:15:05.465Z"
   },
   {
    "duration": 71,
    "start_time": "2023-02-13T08:15:05.529Z"
   },
   {
    "duration": 33,
    "start_time": "2023-02-13T08:15:05.604Z"
   },
   {
    "duration": 24,
    "start_time": "2023-02-13T08:15:05.639Z"
   },
   {
    "duration": 22,
    "start_time": "2023-02-13T08:15:05.665Z"
   },
   {
    "duration": 76,
    "start_time": "2023-02-13T08:15:05.689Z"
   },
   {
    "duration": 330,
    "start_time": "2023-02-13T08:15:05.766Z"
   },
   {
    "duration": 3,
    "start_time": "2023-02-13T08:15:06.097Z"
   },
   {
    "duration": 29,
    "start_time": "2023-02-13T08:15:06.101Z"
   },
   {
    "duration": 51,
    "start_time": "2023-02-13T08:15:06.132Z"
   },
   {
    "duration": 3,
    "start_time": "2023-02-13T08:15:06.184Z"
   },
   {
    "duration": 260,
    "start_time": "2023-02-13T08:15:06.189Z"
   },
   {
    "duration": 27,
    "start_time": "2023-02-13T08:15:06.450Z"
   },
   {
    "duration": 39,
    "start_time": "2023-02-13T08:15:06.478Z"
   },
   {
    "duration": 4,
    "start_time": "2023-02-13T08:15:06.519Z"
   },
   {
    "duration": 10,
    "start_time": "2023-02-13T08:15:06.525Z"
   },
   {
    "duration": 23,
    "start_time": "2023-02-13T08:15:06.537Z"
   },
   {
    "duration": 7,
    "start_time": "2023-02-13T08:15:06.562Z"
   },
   {
    "duration": 65,
    "start_time": "2023-02-13T08:15:06.570Z"
   },
   {
    "duration": 3,
    "start_time": "2023-02-13T08:15:06.637Z"
   },
   {
    "duration": 5,
    "start_time": "2023-02-13T08:15:06.641Z"
   },
   {
    "duration": 33,
    "start_time": "2023-02-13T08:15:06.647Z"
   },
   {
    "duration": 0,
    "start_time": "2023-02-13T08:15:06.682Z"
   },
   {
    "duration": 0,
    "start_time": "2023-02-13T08:15:06.683Z"
   },
   {
    "duration": 0,
    "start_time": "2023-02-13T08:15:06.684Z"
   },
   {
    "duration": 0,
    "start_time": "2023-02-13T08:15:06.685Z"
   },
   {
    "duration": 0,
    "start_time": "2023-02-13T08:15:06.685Z"
   },
   {
    "duration": 0,
    "start_time": "2023-02-13T08:15:06.686Z"
   },
   {
    "duration": 0,
    "start_time": "2023-02-13T08:15:06.687Z"
   },
   {
    "duration": 0,
    "start_time": "2023-02-13T08:15:06.688Z"
   },
   {
    "duration": 0,
    "start_time": "2023-02-13T08:15:06.689Z"
   },
   {
    "duration": 0,
    "start_time": "2023-02-13T08:15:06.690Z"
   },
   {
    "duration": 0,
    "start_time": "2023-02-13T08:15:06.690Z"
   },
   {
    "duration": 0,
    "start_time": "2023-02-13T08:15:06.691Z"
   },
   {
    "duration": 0,
    "start_time": "2023-02-13T08:15:06.693Z"
   },
   {
    "duration": 83,
    "start_time": "2023-02-13T08:16:11.934Z"
   },
   {
    "duration": 364,
    "start_time": "2023-02-13T08:18:18.600Z"
   },
   {
    "duration": 33,
    "start_time": "2023-02-13T08:18:52.617Z"
   },
   {
    "duration": 172,
    "start_time": "2023-02-13T08:20:47.146Z"
   },
   {
    "duration": 42,
    "start_time": "2023-02-13T08:21:54.430Z"
   },
   {
    "duration": 95,
    "start_time": "2023-02-13T08:23:30.816Z"
   },
   {
    "duration": 40,
    "start_time": "2023-02-13T08:25:49.776Z"
   },
   {
    "duration": 320,
    "start_time": "2023-02-13T08:28:00.694Z"
   },
   {
    "duration": 143,
    "start_time": "2023-02-13T08:28:06.996Z"
   },
   {
    "duration": 49,
    "start_time": "2023-02-13T08:30:55.117Z"
   },
   {
    "duration": 17,
    "start_time": "2023-02-13T08:38:40.277Z"
   },
   {
    "duration": 34405,
    "start_time": "2023-02-13T08:39:57.916Z"
   },
   {
    "duration": 49,
    "start_time": "2023-02-13T08:40:38.820Z"
   },
   {
    "duration": 32471,
    "start_time": "2023-02-13T08:40:42.846Z"
   },
   {
    "duration": 34912,
    "start_time": "2023-02-13T08:42:23.743Z"
   },
   {
    "duration": 34023,
    "start_time": "2023-02-13T08:46:06.319Z"
   },
   {
    "duration": 33640,
    "start_time": "2023-02-13T08:47:36.866Z"
   },
   {
    "duration": 35427,
    "start_time": "2023-02-13T08:48:22.732Z"
   },
   {
    "duration": 48,
    "start_time": "2023-02-13T08:57:18.390Z"
   },
   {
    "duration": 1395,
    "start_time": "2023-02-13T08:58:52.315Z"
   },
   {
    "duration": 818,
    "start_time": "2023-02-13T08:58:53.711Z"
   },
   {
    "duration": 124,
    "start_time": "2023-02-13T08:58:54.530Z"
   },
   {
    "duration": 15,
    "start_time": "2023-02-13T08:58:54.656Z"
   },
   {
    "duration": 440,
    "start_time": "2023-02-13T08:58:54.672Z"
   },
   {
    "duration": 113,
    "start_time": "2023-02-13T08:58:55.114Z"
   },
   {
    "duration": 107,
    "start_time": "2023-02-13T08:58:55.229Z"
   },
   {
    "duration": 5,
    "start_time": "2023-02-13T08:58:55.337Z"
   },
   {
    "duration": 450,
    "start_time": "2023-02-13T08:58:55.343Z"
   },
   {
    "duration": 38,
    "start_time": "2023-02-13T08:58:55.795Z"
   },
   {
    "duration": 1295,
    "start_time": "2023-02-13T08:58:55.834Z"
   },
   {
    "duration": 10,
    "start_time": "2023-02-13T08:58:57.130Z"
   },
   {
    "duration": 11,
    "start_time": "2023-02-13T08:58:57.142Z"
   },
   {
    "duration": 9,
    "start_time": "2023-02-13T08:58:57.155Z"
   },
   {
    "duration": 15,
    "start_time": "2023-02-13T08:58:57.165Z"
   },
   {
    "duration": 28,
    "start_time": "2023-02-13T08:58:57.182Z"
   },
   {
    "duration": 1861,
    "start_time": "2023-02-13T08:58:57.212Z"
   },
   {
    "duration": 36,
    "start_time": "2023-02-13T08:58:59.074Z"
   },
   {
    "duration": 1431,
    "start_time": "2023-02-13T08:58:59.111Z"
   },
   {
    "duration": 8,
    "start_time": "2023-02-13T08:59:00.544Z"
   },
   {
    "duration": 48,
    "start_time": "2023-02-13T08:59:00.553Z"
   },
   {
    "duration": 1416,
    "start_time": "2023-02-13T08:59:00.603Z"
   },
   {
    "duration": 24,
    "start_time": "2023-02-13T08:59:02.021Z"
   },
   {
    "duration": 1543,
    "start_time": "2023-02-13T08:59:02.047Z"
   },
   {
    "duration": 57,
    "start_time": "2023-02-13T08:59:03.592Z"
   },
   {
    "duration": 52,
    "start_time": "2023-02-13T08:59:03.650Z"
   },
   {
    "duration": 57,
    "start_time": "2023-02-13T08:59:03.710Z"
   },
   {
    "duration": 24,
    "start_time": "2023-02-13T08:59:03.770Z"
   },
   {
    "duration": 29,
    "start_time": "2023-02-13T08:59:03.795Z"
   },
   {
    "duration": 24,
    "start_time": "2023-02-13T08:59:03.825Z"
   },
   {
    "duration": 90,
    "start_time": "2023-02-13T08:59:03.851Z"
   },
   {
    "duration": 334,
    "start_time": "2023-02-13T08:59:03.942Z"
   },
   {
    "duration": 3,
    "start_time": "2023-02-13T08:59:04.277Z"
   },
   {
    "duration": 38,
    "start_time": "2023-02-13T08:59:04.281Z"
   },
   {
    "duration": 50,
    "start_time": "2023-02-13T08:59:04.321Z"
   },
   {
    "duration": 2,
    "start_time": "2023-02-13T08:59:04.373Z"
   },
   {
    "duration": 242,
    "start_time": "2023-02-13T08:59:04.377Z"
   },
   {
    "duration": 29,
    "start_time": "2023-02-13T08:59:04.620Z"
   },
   {
    "duration": 30,
    "start_time": "2023-02-13T08:59:04.650Z"
   },
   {
    "duration": 4,
    "start_time": "2023-02-13T08:59:04.682Z"
   },
   {
    "duration": 4,
    "start_time": "2023-02-13T08:59:04.710Z"
   },
   {
    "duration": 26,
    "start_time": "2023-02-13T08:59:04.715Z"
   },
   {
    "duration": 7,
    "start_time": "2023-02-13T08:59:04.743Z"
   },
   {
    "duration": 41,
    "start_time": "2023-02-13T08:59:04.751Z"
   },
   {
    "duration": 17,
    "start_time": "2023-02-13T08:59:04.793Z"
   },
   {
    "duration": 101,
    "start_time": "2023-02-13T08:59:04.812Z"
   },
   {
    "duration": 222,
    "start_time": "2023-02-13T08:59:04.915Z"
   },
   {
    "duration": 33665,
    "start_time": "2023-02-13T08:59:05.139Z"
   },
   {
    "duration": 2323,
    "start_time": "2023-02-13T08:59:38.806Z"
   },
   {
    "duration": 129,
    "start_time": "2023-02-13T08:59:41.131Z"
   },
   {
    "duration": 0,
    "start_time": "2023-02-13T08:59:41.261Z"
   },
   {
    "duration": 0,
    "start_time": "2023-02-13T08:59:41.263Z"
   },
   {
    "duration": 0,
    "start_time": "2023-02-13T08:59:41.264Z"
   },
   {
    "duration": 0,
    "start_time": "2023-02-13T08:59:41.265Z"
   },
   {
    "duration": 0,
    "start_time": "2023-02-13T08:59:41.266Z"
   },
   {
    "duration": 0,
    "start_time": "2023-02-13T08:59:41.267Z"
   },
   {
    "duration": 0,
    "start_time": "2023-02-13T08:59:41.268Z"
   },
   {
    "duration": 0,
    "start_time": "2023-02-13T08:59:41.269Z"
   },
   {
    "duration": 0,
    "start_time": "2023-02-13T08:59:41.270Z"
   },
   {
    "duration": 11,
    "start_time": "2023-02-13T09:03:19.640Z"
   },
   {
    "duration": 4,
    "start_time": "2023-02-13T09:04:17.468Z"
   },
   {
    "duration": 12,
    "start_time": "2023-02-13T09:04:51.891Z"
   },
   {
    "duration": 25599,
    "start_time": "2023-02-13T09:05:07.012Z"
   },
   {
    "duration": 40373,
    "start_time": "2023-02-13T09:06:20.947Z"
   },
   {
    "duration": 12795,
    "start_time": "2023-02-13T09:07:01.322Z"
   },
   {
    "duration": 10824,
    "start_time": "2023-02-13T09:08:42.989Z"
   },
   {
    "duration": 4,
    "start_time": "2023-02-13T09:08:53.815Z"
   },
   {
    "duration": 1328,
    "start_time": "2023-02-13T09:09:07.549Z"
   },
   {
    "duration": 801,
    "start_time": "2023-02-13T09:09:08.879Z"
   },
   {
    "duration": 121,
    "start_time": "2023-02-13T09:09:09.681Z"
   },
   {
    "duration": 16,
    "start_time": "2023-02-13T09:09:09.811Z"
   },
   {
    "duration": 426,
    "start_time": "2023-02-13T09:09:09.828Z"
   },
   {
    "duration": 113,
    "start_time": "2023-02-13T09:09:10.256Z"
   },
   {
    "duration": 93,
    "start_time": "2023-02-13T09:09:10.370Z"
   },
   {
    "duration": 5,
    "start_time": "2023-02-13T09:09:10.465Z"
   },
   {
    "duration": 444,
    "start_time": "2023-02-13T09:09:10.471Z"
   },
   {
    "duration": 36,
    "start_time": "2023-02-13T09:09:10.917Z"
   },
   {
    "duration": 1210,
    "start_time": "2023-02-13T09:09:10.955Z"
   },
   {
    "duration": 9,
    "start_time": "2023-02-13T09:09:12.166Z"
   },
   {
    "duration": 7,
    "start_time": "2023-02-13T09:09:12.177Z"
   },
   {
    "duration": 26,
    "start_time": "2023-02-13T09:09:12.185Z"
   },
   {
    "duration": 9,
    "start_time": "2023-02-13T09:09:12.212Z"
   },
   {
    "duration": 4,
    "start_time": "2023-02-13T09:09:12.223Z"
   },
   {
    "duration": 1857,
    "start_time": "2023-02-13T09:09:12.229Z"
   },
   {
    "duration": 35,
    "start_time": "2023-02-13T09:09:14.088Z"
   },
   {
    "duration": 1508,
    "start_time": "2023-02-13T09:09:14.125Z"
   },
   {
    "duration": 9,
    "start_time": "2023-02-13T09:09:15.634Z"
   },
   {
    "duration": 29,
    "start_time": "2023-02-13T09:09:15.644Z"
   },
   {
    "duration": 1500,
    "start_time": "2023-02-13T09:09:15.675Z"
   },
   {
    "duration": 23,
    "start_time": "2023-02-13T09:09:17.176Z"
   },
   {
    "duration": 1478,
    "start_time": "2023-02-13T09:09:17.200Z"
   },
   {
    "duration": 58,
    "start_time": "2023-02-13T09:09:18.680Z"
   },
   {
    "duration": 62,
    "start_time": "2023-02-13T09:09:18.739Z"
   },
   {
    "duration": 62,
    "start_time": "2023-02-13T09:09:18.803Z"
   },
   {
    "duration": 23,
    "start_time": "2023-02-13T09:09:18.868Z"
   },
   {
    "duration": 27,
    "start_time": "2023-02-13T09:09:18.892Z"
   },
   {
    "duration": 24,
    "start_time": "2023-02-13T09:09:18.920Z"
   },
   {
    "duration": 83,
    "start_time": "2023-02-13T09:09:18.945Z"
   },
   {
    "duration": 334,
    "start_time": "2023-02-13T09:09:19.030Z"
   },
   {
    "duration": 3,
    "start_time": "2023-02-13T09:09:19.365Z"
   },
   {
    "duration": 27,
    "start_time": "2023-02-13T09:09:19.369Z"
   },
   {
    "duration": 62,
    "start_time": "2023-02-13T09:09:19.397Z"
   },
   {
    "duration": 3,
    "start_time": "2023-02-13T09:09:19.461Z"
   },
   {
    "duration": 232,
    "start_time": "2023-02-13T09:09:19.465Z"
   },
   {
    "duration": 27,
    "start_time": "2023-02-13T09:09:19.699Z"
   },
   {
    "duration": 29,
    "start_time": "2023-02-13T09:09:19.728Z"
   },
   {
    "duration": 3,
    "start_time": "2023-02-13T09:09:19.759Z"
   },
   {
    "duration": 4,
    "start_time": "2023-02-13T09:09:19.764Z"
   },
   {
    "duration": 21,
    "start_time": "2023-02-13T09:09:19.770Z"
   },
   {
    "duration": 22,
    "start_time": "2023-02-13T09:09:19.792Z"
   },
   {
    "duration": 37,
    "start_time": "2023-02-13T09:09:19.816Z"
   },
   {
    "duration": 2,
    "start_time": "2023-02-13T09:09:19.855Z"
   },
   {
    "duration": 64,
    "start_time": "2023-02-13T09:09:19.858Z"
   },
   {
    "duration": 304,
    "start_time": "2023-02-13T09:09:19.924Z"
   },
   {
    "duration": 33006,
    "start_time": "2023-02-13T09:09:20.310Z"
   },
   {
    "duration": 2359,
    "start_time": "2023-02-13T09:09:53.317Z"
   },
   {
    "duration": 4,
    "start_time": "2023-02-13T09:09:55.677Z"
   },
   {
    "duration": 27633,
    "start_time": "2023-02-13T09:09:55.683Z"
   },
   {
    "duration": 12701,
    "start_time": "2023-02-13T09:10:23.318Z"
   },
   {
    "duration": 215,
    "start_time": "2023-02-13T09:10:36.021Z"
   },
   {
    "duration": 0,
    "start_time": "2023-02-13T09:10:36.238Z"
   },
   {
    "duration": 10543,
    "start_time": "2023-02-13T09:18:07.975Z"
   },
   {
    "duration": 1387,
    "start_time": "2023-02-13T09:19:48.985Z"
   },
   {
    "duration": 815,
    "start_time": "2023-02-13T09:19:50.373Z"
   },
   {
    "duration": 123,
    "start_time": "2023-02-13T09:19:51.190Z"
   },
   {
    "duration": 15,
    "start_time": "2023-02-13T09:19:51.316Z"
   },
   {
    "duration": 426,
    "start_time": "2023-02-13T09:19:51.333Z"
   },
   {
    "duration": 122,
    "start_time": "2023-02-13T09:19:51.761Z"
   },
   {
    "duration": 105,
    "start_time": "2023-02-13T09:19:51.885Z"
   },
   {
    "duration": 6,
    "start_time": "2023-02-13T09:19:51.992Z"
   },
   {
    "duration": 452,
    "start_time": "2023-02-13T09:19:52.010Z"
   },
   {
    "duration": 36,
    "start_time": "2023-02-13T09:19:52.465Z"
   },
   {
    "duration": 1289,
    "start_time": "2023-02-13T09:19:52.510Z"
   },
   {
    "duration": 13,
    "start_time": "2023-02-13T09:19:53.801Z"
   },
   {
    "duration": 9,
    "start_time": "2023-02-13T09:19:53.816Z"
   },
   {
    "duration": 8,
    "start_time": "2023-02-13T09:19:53.826Z"
   },
   {
    "duration": 16,
    "start_time": "2023-02-13T09:19:53.835Z"
   },
   {
    "duration": 4,
    "start_time": "2023-02-13T09:19:53.853Z"
   },
   {
    "duration": 1803,
    "start_time": "2023-02-13T09:19:53.858Z"
   },
   {
    "duration": 28,
    "start_time": "2023-02-13T09:19:55.663Z"
   },
   {
    "duration": 1489,
    "start_time": "2023-02-13T09:19:55.693Z"
   },
   {
    "duration": 10,
    "start_time": "2023-02-13T09:19:57.186Z"
   },
   {
    "duration": 29,
    "start_time": "2023-02-13T09:19:57.209Z"
   },
   {
    "duration": 1440,
    "start_time": "2023-02-13T09:19:57.240Z"
   },
   {
    "duration": 29,
    "start_time": "2023-02-13T09:19:58.681Z"
   },
   {
    "duration": 1463,
    "start_time": "2023-02-13T09:19:58.711Z"
   },
   {
    "duration": 56,
    "start_time": "2023-02-13T09:20:00.176Z"
   },
   {
    "duration": 66,
    "start_time": "2023-02-13T09:20:00.234Z"
   },
   {
    "duration": 76,
    "start_time": "2023-02-13T09:20:00.302Z"
   },
   {
    "duration": 46,
    "start_time": "2023-02-13T09:20:00.381Z"
   },
   {
    "duration": 37,
    "start_time": "2023-02-13T09:20:00.429Z"
   },
   {
    "duration": 36,
    "start_time": "2023-02-13T09:20:00.468Z"
   },
   {
    "duration": 86,
    "start_time": "2023-02-13T09:20:00.505Z"
   },
   {
    "duration": 333,
    "start_time": "2023-02-13T09:20:00.593Z"
   },
   {
    "duration": 3,
    "start_time": "2023-02-13T09:20:00.928Z"
   },
   {
    "duration": 43,
    "start_time": "2023-02-13T09:20:00.932Z"
   },
   {
    "duration": 55,
    "start_time": "2023-02-13T09:20:00.977Z"
   },
   {
    "duration": 2,
    "start_time": "2023-02-13T09:20:01.034Z"
   },
   {
    "duration": 263,
    "start_time": "2023-02-13T09:20:01.038Z"
   },
   {
    "duration": 29,
    "start_time": "2023-02-13T09:20:01.302Z"
   },
   {
    "duration": 37,
    "start_time": "2023-02-13T09:20:01.332Z"
   },
   {
    "duration": 5,
    "start_time": "2023-02-13T09:20:01.370Z"
   },
   {
    "duration": 22,
    "start_time": "2023-02-13T09:20:01.376Z"
   },
   {
    "duration": 21,
    "start_time": "2023-02-13T09:20:01.399Z"
   },
   {
    "duration": 17,
    "start_time": "2023-02-13T09:20:01.422Z"
   },
   {
    "duration": 56,
    "start_time": "2023-02-13T09:20:01.440Z"
   },
   {
    "duration": 2,
    "start_time": "2023-02-13T09:20:01.498Z"
   },
   {
    "duration": 113,
    "start_time": "2023-02-13T09:20:01.502Z"
   },
   {
    "duration": 294,
    "start_time": "2023-02-13T09:20:01.617Z"
   },
   {
    "duration": 32880,
    "start_time": "2023-02-13T09:20:01.913Z"
   },
   {
    "duration": 2360,
    "start_time": "2023-02-13T09:20:34.794Z"
   },
   {
    "duration": 4,
    "start_time": "2023-02-13T09:20:37.155Z"
   },
   {
    "duration": 27150,
    "start_time": "2023-02-13T09:20:37.160Z"
   },
   {
    "duration": 30502,
    "start_time": "2023-02-13T09:21:04.311Z"
   },
   {
    "duration": 150,
    "start_time": "2023-02-13T09:21:34.814Z"
   },
   {
    "duration": 0,
    "start_time": "2023-02-13T09:21:34.966Z"
   },
   {
    "duration": 52,
    "start_time": "2023-02-13T09:44:43.002Z"
   },
   {
    "duration": 12,
    "start_time": "2023-02-13T09:44:49.345Z"
   },
   {
    "duration": 461,
    "start_time": "2023-02-13T09:45:27.677Z"
   },
   {
    "duration": 6449,
    "start_time": "2023-02-13T10:14:41.080Z"
   },
   {
    "duration": 7,
    "start_time": "2023-02-13T10:21:54.185Z"
   },
   {
    "duration": 4,
    "start_time": "2023-02-13T10:22:16.173Z"
   },
   {
    "duration": 7,
    "start_time": "2023-02-13T10:22:16.831Z"
   },
   {
    "duration": 7,
    "start_time": "2023-02-13T10:22:30.534Z"
   },
   {
    "duration": 60,
    "start_time": "2023-02-13T10:28:28.190Z"
   },
   {
    "duration": 729,
    "start_time": "2023-02-13T10:28:36.824Z"
   },
   {
    "duration": 680,
    "start_time": "2023-02-13T10:29:02.235Z"
   },
   {
    "duration": 1300,
    "start_time": "2023-02-13T10:32:53.749Z"
   },
   {
    "duration": 792,
    "start_time": "2023-02-13T10:32:55.051Z"
   },
   {
    "duration": 123,
    "start_time": "2023-02-13T10:32:55.845Z"
   },
   {
    "duration": 14,
    "start_time": "2023-02-13T10:32:55.970Z"
   },
   {
    "duration": 411,
    "start_time": "2023-02-13T10:32:55.986Z"
   },
   {
    "duration": 112,
    "start_time": "2023-02-13T10:32:56.398Z"
   },
   {
    "duration": 85,
    "start_time": "2023-02-13T10:32:56.512Z"
   },
   {
    "duration": 15,
    "start_time": "2023-02-13T10:32:56.598Z"
   },
   {
    "duration": 472,
    "start_time": "2023-02-13T10:32:56.615Z"
   },
   {
    "duration": 40,
    "start_time": "2023-02-13T10:32:57.089Z"
   },
   {
    "duration": 1211,
    "start_time": "2023-02-13T10:32:57.131Z"
   },
   {
    "duration": 9,
    "start_time": "2023-02-13T10:32:58.343Z"
   },
   {
    "duration": 7,
    "start_time": "2023-02-13T10:32:58.354Z"
   },
   {
    "duration": 7,
    "start_time": "2023-02-13T10:32:58.363Z"
   },
   {
    "duration": 7,
    "start_time": "2023-02-13T10:32:58.371Z"
   },
   {
    "duration": 30,
    "start_time": "2023-02-13T10:32:58.380Z"
   },
   {
    "duration": 1858,
    "start_time": "2023-02-13T10:32:58.411Z"
   },
   {
    "duration": 28,
    "start_time": "2023-02-13T10:33:00.271Z"
   },
   {
    "duration": 1496,
    "start_time": "2023-02-13T10:33:00.300Z"
   },
   {
    "duration": 19,
    "start_time": "2023-02-13T10:33:01.797Z"
   },
   {
    "duration": 42,
    "start_time": "2023-02-13T10:33:01.818Z"
   },
   {
    "duration": 1462,
    "start_time": "2023-02-13T10:33:01.861Z"
   },
   {
    "duration": 23,
    "start_time": "2023-02-13T10:33:03.325Z"
   },
   {
    "duration": 1485,
    "start_time": "2023-02-13T10:33:03.350Z"
   },
   {
    "duration": 52,
    "start_time": "2023-02-13T10:33:04.837Z"
   },
   {
    "duration": 62,
    "start_time": "2023-02-13T10:33:04.891Z"
   },
   {
    "duration": 65,
    "start_time": "2023-02-13T10:33:04.955Z"
   },
   {
    "duration": 27,
    "start_time": "2023-02-13T10:33:05.024Z"
   },
   {
    "duration": 26,
    "start_time": "2023-02-13T10:33:05.052Z"
   },
   {
    "duration": 44,
    "start_time": "2023-02-13T10:33:05.081Z"
   },
   {
    "duration": 95,
    "start_time": "2023-02-13T10:33:05.126Z"
   },
   {
    "duration": 336,
    "start_time": "2023-02-13T10:33:05.223Z"
   },
   {
    "duration": 2,
    "start_time": "2023-02-13T10:33:05.561Z"
   },
   {
    "duration": 33,
    "start_time": "2023-02-13T10:33:05.564Z"
   },
   {
    "duration": 52,
    "start_time": "2023-02-13T10:33:05.599Z"
   },
   {
    "duration": 2,
    "start_time": "2023-02-13T10:33:05.653Z"
   },
   {
    "duration": 252,
    "start_time": "2023-02-13T10:33:05.657Z"
   },
   {
    "duration": 27,
    "start_time": "2023-02-13T10:33:05.911Z"
   },
   {
    "duration": 32,
    "start_time": "2023-02-13T10:33:05.940Z"
   },
   {
    "duration": 4,
    "start_time": "2023-02-13T10:33:05.974Z"
   },
   {
    "duration": 10,
    "start_time": "2023-02-13T10:33:05.980Z"
   },
   {
    "duration": 36,
    "start_time": "2023-02-13T10:33:05.991Z"
   },
   {
    "duration": 8,
    "start_time": "2023-02-13T10:33:06.029Z"
   },
   {
    "duration": 44,
    "start_time": "2023-02-13T10:33:06.039Z"
   },
   {
    "duration": 3,
    "start_time": "2023-02-13T10:33:06.085Z"
   },
   {
    "duration": 123,
    "start_time": "2023-02-13T10:33:06.089Z"
   },
   {
    "duration": 221,
    "start_time": "2023-02-13T10:33:06.214Z"
   },
   {
    "duration": 33312,
    "start_time": "2023-02-13T10:33:06.510Z"
   },
   {
    "duration": 2331,
    "start_time": "2023-02-13T10:33:39.823Z"
   },
   {
    "duration": 481,
    "start_time": "2023-02-13T10:33:42.155Z"
   },
   {
    "duration": 4,
    "start_time": "2023-02-13T10:33:42.638Z"
   },
   {
    "duration": 308,
    "start_time": "2023-02-13T11:48:37.588Z"
   },
   {
    "duration": 82,
    "start_time": "2023-02-13T11:48:42.414Z"
   },
   {
    "duration": 1379,
    "start_time": "2023-02-13T11:52:30.608Z"
   },
   {
    "duration": 812,
    "start_time": "2023-02-13T11:52:31.990Z"
   },
   {
    "duration": 123,
    "start_time": "2023-02-13T11:52:32.804Z"
   },
   {
    "duration": 15,
    "start_time": "2023-02-13T11:52:32.930Z"
   },
   {
    "duration": 459,
    "start_time": "2023-02-13T11:52:32.947Z"
   },
   {
    "duration": 107,
    "start_time": "2023-02-13T11:52:33.407Z"
   },
   {
    "duration": 103,
    "start_time": "2023-02-13T11:52:33.515Z"
   },
   {
    "duration": 5,
    "start_time": "2023-02-13T11:52:33.619Z"
   },
   {
    "duration": 490,
    "start_time": "2023-02-13T11:52:33.625Z"
   },
   {
    "duration": 39,
    "start_time": "2023-02-13T11:52:34.118Z"
   },
   {
    "duration": 1300,
    "start_time": "2023-02-13T11:52:34.159Z"
   },
   {
    "duration": 10,
    "start_time": "2023-02-13T11:52:35.461Z"
   },
   {
    "duration": 38,
    "start_time": "2023-02-13T11:52:35.472Z"
   },
   {
    "duration": 9,
    "start_time": "2023-02-13T11:52:35.512Z"
   },
   {
    "duration": 42,
    "start_time": "2023-02-13T11:52:35.523Z"
   },
   {
    "duration": 56,
    "start_time": "2023-02-13T11:52:35.567Z"
   },
   {
    "duration": 1942,
    "start_time": "2023-02-13T11:52:35.625Z"
   },
   {
    "duration": 30,
    "start_time": "2023-02-13T11:52:37.569Z"
   },
   {
    "duration": 1464,
    "start_time": "2023-02-13T11:52:37.600Z"
   },
   {
    "duration": 9,
    "start_time": "2023-02-13T11:52:39.066Z"
   },
   {
    "duration": 38,
    "start_time": "2023-02-13T11:52:39.076Z"
   },
   {
    "duration": 1479,
    "start_time": "2023-02-13T11:52:39.116Z"
   },
   {
    "duration": 30,
    "start_time": "2023-02-13T11:52:40.596Z"
   },
   {
    "duration": 1476,
    "start_time": "2023-02-13T11:52:40.627Z"
   },
   {
    "duration": 56,
    "start_time": "2023-02-13T11:52:42.104Z"
   },
   {
    "duration": 61,
    "start_time": "2023-02-13T11:52:42.162Z"
   },
   {
    "duration": 59,
    "start_time": "2023-02-13T11:52:42.225Z"
   },
   {
    "duration": 37,
    "start_time": "2023-02-13T11:52:42.288Z"
   },
   {
    "duration": 21,
    "start_time": "2023-02-13T11:52:42.327Z"
   },
   {
    "duration": 24,
    "start_time": "2023-02-13T11:52:42.349Z"
   },
   {
    "duration": 94,
    "start_time": "2023-02-13T11:52:42.375Z"
   },
   {
    "duration": 331,
    "start_time": "2023-02-13T11:52:42.471Z"
   },
   {
    "duration": 2,
    "start_time": "2023-02-13T11:52:42.804Z"
   },
   {
    "duration": 28,
    "start_time": "2023-02-13T11:52:42.809Z"
   },
   {
    "duration": 51,
    "start_time": "2023-02-13T11:52:42.838Z"
   },
   {
    "duration": 2,
    "start_time": "2023-02-13T11:52:42.891Z"
   },
   {
    "duration": 276,
    "start_time": "2023-02-13T11:52:42.895Z"
   },
   {
    "duration": 38,
    "start_time": "2023-02-13T11:52:43.172Z"
   },
   {
    "duration": 32,
    "start_time": "2023-02-13T11:52:43.212Z"
   },
   {
    "duration": 5,
    "start_time": "2023-02-13T11:52:43.246Z"
   },
   {
    "duration": 5,
    "start_time": "2023-02-13T11:52:43.253Z"
   },
   {
    "duration": 23,
    "start_time": "2023-02-13T11:52:43.260Z"
   },
   {
    "duration": 31,
    "start_time": "2023-02-13T11:52:43.285Z"
   },
   {
    "duration": 44,
    "start_time": "2023-02-13T11:52:43.318Z"
   },
   {
    "duration": 2,
    "start_time": "2023-02-13T11:52:43.364Z"
   },
   {
    "duration": 55,
    "start_time": "2023-02-13T11:52:43.368Z"
   },
   {
    "duration": 303,
    "start_time": "2023-02-13T11:52:43.426Z"
   },
   {
    "duration": 33736,
    "start_time": "2023-02-13T11:52:43.730Z"
   },
   {
    "duration": 2361,
    "start_time": "2023-02-13T11:53:17.468Z"
   },
   {
    "duration": 490,
    "start_time": "2023-02-13T11:53:19.831Z"
   },
   {
    "duration": 4,
    "start_time": "2023-02-13T11:53:20.323Z"
   },
   {
    "duration": 89187,
    "start_time": "2023-02-13T11:53:20.328Z"
   },
   {
    "duration": 11101,
    "start_time": "2023-02-13T11:54:49.517Z"
   },
   {
    "duration": 521,
    "start_time": "2023-02-13T11:55:00.619Z"
   },
   {
    "duration": 39,
    "start_time": "2023-02-13T11:55:01.141Z"
   },
   {
    "duration": 8,
    "start_time": "2023-02-13T11:55:01.182Z"
   },
   {
    "duration": 29003,
    "start_time": "2023-02-13T11:55:01.210Z"
   },
   {
    "duration": 36,
    "start_time": "2023-02-13T11:56:13.917Z"
   },
   {
    "duration": 94,
    "start_time": "2023-02-13T11:56:15.664Z"
   },
   {
    "duration": 34,
    "start_time": "2023-02-13T11:56:24.567Z"
   },
   {
    "duration": 100,
    "start_time": "2023-02-13T11:56:35.649Z"
   },
   {
    "duration": 90,
    "start_time": "2023-02-13T11:56:36.721Z"
   },
   {
    "duration": 26504,
    "start_time": "2023-02-13T11:56:38.778Z"
   },
   {
    "duration": 57,
    "start_time": "2023-02-13T11:58:07.865Z"
   },
   {
    "duration": 3393,
    "start_time": "2023-02-13T12:00:46.624Z"
   },
   {
    "duration": 3413,
    "start_time": "2023-02-13T12:01:22.098Z"
   },
   {
    "duration": 498,
    "start_time": "2023-02-13T12:01:25.513Z"
   },
   {
    "duration": 3298,
    "start_time": "2023-02-13T12:01:45.920Z"
   },
   {
    "duration": 591,
    "start_time": "2023-02-13T12:01:49.220Z"
   },
   {
    "duration": 3257,
    "start_time": "2023-02-13T12:02:09.353Z"
   },
   {
    "duration": 4141,
    "start_time": "2023-02-13T12:02:18.376Z"
   },
   {
    "duration": 371,
    "start_time": "2023-02-13T12:02:30.549Z"
   },
   {
    "duration": 1374,
    "start_time": "2023-02-13T12:10:13.928Z"
   },
   {
    "duration": 796,
    "start_time": "2023-02-13T12:10:15.304Z"
   },
   {
    "duration": 111,
    "start_time": "2023-02-13T12:10:16.102Z"
   },
   {
    "duration": 15,
    "start_time": "2023-02-13T12:10:16.215Z"
   },
   {
    "duration": 430,
    "start_time": "2023-02-13T12:10:16.231Z"
   },
   {
    "duration": 114,
    "start_time": "2023-02-13T12:10:16.663Z"
   },
   {
    "duration": 102,
    "start_time": "2023-02-13T12:10:16.779Z"
   },
   {
    "duration": 5,
    "start_time": "2023-02-13T12:10:16.883Z"
   },
   {
    "duration": 456,
    "start_time": "2023-02-13T12:10:16.891Z"
   },
   {
    "duration": 48,
    "start_time": "2023-02-13T12:10:17.351Z"
   },
   {
    "duration": 1311,
    "start_time": "2023-02-13T12:10:17.401Z"
   },
   {
    "duration": 10,
    "start_time": "2023-02-13T12:10:18.714Z"
   },
   {
    "duration": 10,
    "start_time": "2023-02-13T12:10:18.725Z"
   },
   {
    "duration": 10,
    "start_time": "2023-02-13T12:10:18.736Z"
   },
   {
    "duration": 9,
    "start_time": "2023-02-13T12:10:18.748Z"
   },
   {
    "duration": 7,
    "start_time": "2023-02-13T12:10:18.759Z"
   },
   {
    "duration": 1885,
    "start_time": "2023-02-13T12:10:18.768Z"
   },
   {
    "duration": 28,
    "start_time": "2023-02-13T12:10:20.654Z"
   },
   {
    "duration": 1486,
    "start_time": "2023-02-13T12:10:20.683Z"
   },
   {
    "duration": 8,
    "start_time": "2023-02-13T12:10:22.171Z"
   },
   {
    "duration": 38,
    "start_time": "2023-02-13T12:10:22.181Z"
   },
   {
    "duration": 1503,
    "start_time": "2023-02-13T12:10:22.221Z"
   },
   {
    "duration": 22,
    "start_time": "2023-02-13T12:10:23.726Z"
   },
   {
    "duration": 1543,
    "start_time": "2023-02-13T12:10:23.750Z"
   },
   {
    "duration": 63,
    "start_time": "2023-02-13T12:10:25.296Z"
   },
   {
    "duration": 60,
    "start_time": "2023-02-13T12:10:25.360Z"
   },
   {
    "duration": 60,
    "start_time": "2023-02-13T12:10:25.421Z"
   },
   {
    "duration": 42,
    "start_time": "2023-02-13T12:10:25.485Z"
   },
   {
    "duration": 36,
    "start_time": "2023-02-13T12:10:25.530Z"
   },
   {
    "duration": 26,
    "start_time": "2023-02-13T12:10:25.568Z"
   },
   {
    "duration": 76,
    "start_time": "2023-02-13T12:10:25.595Z"
   },
   {
    "duration": 326,
    "start_time": "2023-02-13T12:10:25.673Z"
   },
   {
    "duration": 2,
    "start_time": "2023-02-13T12:10:26.001Z"
   },
   {
    "duration": 23,
    "start_time": "2023-02-13T12:10:26.010Z"
   },
   {
    "duration": 51,
    "start_time": "2023-02-13T12:10:26.034Z"
   },
   {
    "duration": 3,
    "start_time": "2023-02-13T12:10:26.086Z"
   },
   {
    "duration": 235,
    "start_time": "2023-02-13T12:10:26.109Z"
   },
   {
    "duration": 27,
    "start_time": "2023-02-13T12:10:26.345Z"
   },
   {
    "duration": 46,
    "start_time": "2023-02-13T12:10:26.374Z"
   },
   {
    "duration": 5,
    "start_time": "2023-02-13T12:10:26.422Z"
   },
   {
    "duration": 5,
    "start_time": "2023-02-13T12:10:26.428Z"
   },
   {
    "duration": 23,
    "start_time": "2023-02-13T12:10:26.434Z"
   },
   {
    "duration": 7,
    "start_time": "2023-02-13T12:10:26.459Z"
   },
   {
    "duration": 60,
    "start_time": "2023-02-13T12:10:26.467Z"
   },
   {
    "duration": 3,
    "start_time": "2023-02-13T12:10:26.529Z"
   },
   {
    "duration": 84,
    "start_time": "2023-02-13T12:10:26.534Z"
   },
   {
    "duration": 294,
    "start_time": "2023-02-13T12:10:26.620Z"
   },
   {
    "duration": 34541,
    "start_time": "2023-02-13T12:10:26.915Z"
   },
   {
    "duration": 2341,
    "start_time": "2023-02-13T12:11:01.458Z"
   },
   {
    "duration": 471,
    "start_time": "2023-02-13T12:11:03.801Z"
   },
   {
    "duration": 4,
    "start_time": "2023-02-13T12:11:04.273Z"
   },
   {
    "duration": 26037,
    "start_time": "2023-02-13T12:11:04.279Z"
   },
   {
    "duration": 10805,
    "start_time": "2023-02-13T12:11:30.318Z"
   },
   {
    "duration": 442,
    "start_time": "2023-02-13T12:11:41.210Z"
   },
   {
    "duration": 36,
    "start_time": "2023-02-13T12:11:41.653Z"
   },
   {
    "duration": 122,
    "start_time": "2023-02-13T12:11:41.691Z"
   },
   {
    "duration": 96,
    "start_time": "2023-02-13T12:11:41.815Z"
   },
   {
    "duration": 27061,
    "start_time": "2023-02-13T12:11:41.916Z"
   },
   {
    "duration": 57,
    "start_time": "2023-02-13T12:12:08.978Z"
   },
   {
    "duration": 3175,
    "start_time": "2023-02-13T12:12:09.036Z"
   },
   {
    "duration": 497,
    "start_time": "2023-02-13T12:12:12.213Z"
   },
   {
    "duration": 4,
    "start_time": "2023-02-13T12:12:12.712Z"
   },
   {
    "duration": 0,
    "start_time": "2023-02-13T12:12:12.717Z"
   },
   {
    "duration": 9,
    "start_time": "2023-02-13T12:14:22.002Z"
   },
   {
    "duration": 28899,
    "start_time": "2023-02-13T12:14:28.470Z"
   }
  ],
  "kernelspec": {
   "display_name": "Python 3 (ipykernel)",
   "language": "python",
   "name": "python3"
  },
  "language_info": {
   "codemirror_mode": {
    "name": "ipython",
    "version": 3
   },
   "file_extension": ".py",
   "mimetype": "text/x-python",
   "name": "python",
   "nbconvert_exporter": "python",
   "pygments_lexer": "ipython3",
   "version": "3.9.12"
  },
  "toc": {
   "base_numbering": 1,
   "nav_menu": {},
   "number_sections": true,
   "sideBar": true,
   "skip_h1_title": true,
   "title_cell": "Table of Contents",
   "title_sidebar": "Contents",
   "toc_cell": false,
   "toc_position": {},
   "toc_section_display": true,
   "toc_window_display": true
  }
 },
 "nbformat": 4,
 "nbformat_minor": 2
}
