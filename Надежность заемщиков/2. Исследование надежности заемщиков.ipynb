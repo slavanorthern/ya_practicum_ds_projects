{
 "cells": [
  {
   "cell_type": "markdown",
   "id": "e1320780",
   "metadata": {
    "deletable": false,
    "editable": false,
    "id": "c81daeeb"
   },
   "source": [
    "# Исследование надежности заемщиков\n"
   ]
  },
  {
   "cell_type": "markdown",
   "id": "cd5d9702",
   "metadata": {
    "deletable": false,
    "editable": false,
    "id": "827c20bf"
   },
   "source": [
    "Во второй части проекта вы выполните шаги 3 и 4. Их вручную проверит ревьюер.\n",
    "Чтобы вам не пришлось писать код заново для шагов 1 и 2, мы добавили авторские решения в ячейки с кодом. \n",
    "\n"
   ]
  },
  {
   "cell_type": "markdown",
   "id": "97141f75",
   "metadata": {
    "deletable": false,
    "editable": false,
    "id": "744d7639"
   },
   "source": [
    "## Откройте таблицу и изучите общую информацию о данных"
   ]
  },
  {
   "cell_type": "markdown",
   "id": "8e395193",
   "metadata": {
    "deletable": false,
    "editable": false,
    "id": "e7a14c31"
   },
   "source": [
    "**Задание 1. Импортируйте библиотеку pandas. Считайте данные из csv-файла в датафрейм и сохраните в переменную `data`. Путь к файлу:**\n",
    "\n",
    "`/datasets/data.csv`"
   ]
  },
  {
   "cell_type": "code",
   "execution_count": 1,
   "id": "28412a7a",
   "metadata": {
    "deletable": false,
    "id": "7bcf75c9"
   },
   "outputs": [],
   "source": [
    "import pandas as pd\n",
    "\n",
    "try:\n",
    "    data = pd.read_csv('/datasets/data.csv')\n",
    "except:\n",
    "    data = pd.read_csv('https://code.s3.yandex.net/datasets/data.csv')"
   ]
  },
  {
   "cell_type": "markdown",
   "id": "f4a21b15",
   "metadata": {
    "deletable": false,
    "editable": false,
    "id": "b8038fe3"
   },
   "source": [
    "**Задание 2. Выведите первые 20 строчек датафрейма `data` на экран.**"
   ]
  },
  {
   "cell_type": "code",
   "execution_count": 2,
   "id": "303a6d49",
   "metadata": {
    "deletable": false,
    "id": "2a7cab99",
    "outputId": "1a8f3ef2-d323-4ec2-ddf7-89670b5944c4"
   },
   "outputs": [
    {
     "data": {
      "text/html": [
       "<div>\n",
       "<style scoped>\n",
       "    .dataframe tbody tr th:only-of-type {\n",
       "        vertical-align: middle;\n",
       "    }\n",
       "\n",
       "    .dataframe tbody tr th {\n",
       "        vertical-align: top;\n",
       "    }\n",
       "\n",
       "    .dataframe thead th {\n",
       "        text-align: right;\n",
       "    }\n",
       "</style>\n",
       "<table border=\"1\" class=\"dataframe\">\n",
       "  <thead>\n",
       "    <tr style=\"text-align: right;\">\n",
       "      <th></th>\n",
       "      <th>children</th>\n",
       "      <th>days_employed</th>\n",
       "      <th>dob_years</th>\n",
       "      <th>education</th>\n",
       "      <th>education_id</th>\n",
       "      <th>family_status</th>\n",
       "      <th>family_status_id</th>\n",
       "      <th>gender</th>\n",
       "      <th>income_type</th>\n",
       "      <th>debt</th>\n",
       "      <th>total_income</th>\n",
       "      <th>purpose</th>\n",
       "    </tr>\n",
       "  </thead>\n",
       "  <tbody>\n",
       "    <tr>\n",
       "      <th>0</th>\n",
       "      <td>1</td>\n",
       "      <td>-8437.673028</td>\n",
       "      <td>42</td>\n",
       "      <td>высшее</td>\n",
       "      <td>0</td>\n",
       "      <td>женат / замужем</td>\n",
       "      <td>0</td>\n",
       "      <td>F</td>\n",
       "      <td>сотрудник</td>\n",
       "      <td>0</td>\n",
       "      <td>253875.639453</td>\n",
       "      <td>покупка жилья</td>\n",
       "    </tr>\n",
       "    <tr>\n",
       "      <th>1</th>\n",
       "      <td>1</td>\n",
       "      <td>-4024.803754</td>\n",
       "      <td>36</td>\n",
       "      <td>среднее</td>\n",
       "      <td>1</td>\n",
       "      <td>женат / замужем</td>\n",
       "      <td>0</td>\n",
       "      <td>F</td>\n",
       "      <td>сотрудник</td>\n",
       "      <td>0</td>\n",
       "      <td>112080.014102</td>\n",
       "      <td>приобретение автомобиля</td>\n",
       "    </tr>\n",
       "    <tr>\n",
       "      <th>2</th>\n",
       "      <td>0</td>\n",
       "      <td>-5623.422610</td>\n",
       "      <td>33</td>\n",
       "      <td>Среднее</td>\n",
       "      <td>1</td>\n",
       "      <td>женат / замужем</td>\n",
       "      <td>0</td>\n",
       "      <td>M</td>\n",
       "      <td>сотрудник</td>\n",
       "      <td>0</td>\n",
       "      <td>145885.952297</td>\n",
       "      <td>покупка жилья</td>\n",
       "    </tr>\n",
       "    <tr>\n",
       "      <th>3</th>\n",
       "      <td>3</td>\n",
       "      <td>-4124.747207</td>\n",
       "      <td>32</td>\n",
       "      <td>среднее</td>\n",
       "      <td>1</td>\n",
       "      <td>женат / замужем</td>\n",
       "      <td>0</td>\n",
       "      <td>M</td>\n",
       "      <td>сотрудник</td>\n",
       "      <td>0</td>\n",
       "      <td>267628.550329</td>\n",
       "      <td>дополнительное образование</td>\n",
       "    </tr>\n",
       "    <tr>\n",
       "      <th>4</th>\n",
       "      <td>0</td>\n",
       "      <td>340266.072047</td>\n",
       "      <td>53</td>\n",
       "      <td>среднее</td>\n",
       "      <td>1</td>\n",
       "      <td>гражданский брак</td>\n",
       "      <td>1</td>\n",
       "      <td>F</td>\n",
       "      <td>пенсионер</td>\n",
       "      <td>0</td>\n",
       "      <td>158616.077870</td>\n",
       "      <td>сыграть свадьбу</td>\n",
       "    </tr>\n",
       "    <tr>\n",
       "      <th>5</th>\n",
       "      <td>0</td>\n",
       "      <td>-926.185831</td>\n",
       "      <td>27</td>\n",
       "      <td>высшее</td>\n",
       "      <td>0</td>\n",
       "      <td>гражданский брак</td>\n",
       "      <td>1</td>\n",
       "      <td>M</td>\n",
       "      <td>компаньон</td>\n",
       "      <td>0</td>\n",
       "      <td>255763.565419</td>\n",
       "      <td>покупка жилья</td>\n",
       "    </tr>\n",
       "    <tr>\n",
       "      <th>6</th>\n",
       "      <td>0</td>\n",
       "      <td>-2879.202052</td>\n",
       "      <td>43</td>\n",
       "      <td>высшее</td>\n",
       "      <td>0</td>\n",
       "      <td>женат / замужем</td>\n",
       "      <td>0</td>\n",
       "      <td>F</td>\n",
       "      <td>компаньон</td>\n",
       "      <td>0</td>\n",
       "      <td>240525.971920</td>\n",
       "      <td>операции с жильем</td>\n",
       "    </tr>\n",
       "    <tr>\n",
       "      <th>7</th>\n",
       "      <td>0</td>\n",
       "      <td>-152.779569</td>\n",
       "      <td>50</td>\n",
       "      <td>СРЕДНЕЕ</td>\n",
       "      <td>1</td>\n",
       "      <td>женат / замужем</td>\n",
       "      <td>0</td>\n",
       "      <td>M</td>\n",
       "      <td>сотрудник</td>\n",
       "      <td>0</td>\n",
       "      <td>135823.934197</td>\n",
       "      <td>образование</td>\n",
       "    </tr>\n",
       "    <tr>\n",
       "      <th>8</th>\n",
       "      <td>2</td>\n",
       "      <td>-6929.865299</td>\n",
       "      <td>35</td>\n",
       "      <td>ВЫСШЕЕ</td>\n",
       "      <td>0</td>\n",
       "      <td>гражданский брак</td>\n",
       "      <td>1</td>\n",
       "      <td>F</td>\n",
       "      <td>сотрудник</td>\n",
       "      <td>0</td>\n",
       "      <td>95856.832424</td>\n",
       "      <td>на проведение свадьбы</td>\n",
       "    </tr>\n",
       "    <tr>\n",
       "      <th>9</th>\n",
       "      <td>0</td>\n",
       "      <td>-2188.756445</td>\n",
       "      <td>41</td>\n",
       "      <td>среднее</td>\n",
       "      <td>1</td>\n",
       "      <td>женат / замужем</td>\n",
       "      <td>0</td>\n",
       "      <td>M</td>\n",
       "      <td>сотрудник</td>\n",
       "      <td>0</td>\n",
       "      <td>144425.938277</td>\n",
       "      <td>покупка жилья для семьи</td>\n",
       "    </tr>\n",
       "    <tr>\n",
       "      <th>10</th>\n",
       "      <td>2</td>\n",
       "      <td>-4171.483647</td>\n",
       "      <td>36</td>\n",
       "      <td>высшее</td>\n",
       "      <td>0</td>\n",
       "      <td>женат / замужем</td>\n",
       "      <td>0</td>\n",
       "      <td>M</td>\n",
       "      <td>компаньон</td>\n",
       "      <td>0</td>\n",
       "      <td>113943.491460</td>\n",
       "      <td>покупка недвижимости</td>\n",
       "    </tr>\n",
       "    <tr>\n",
       "      <th>11</th>\n",
       "      <td>0</td>\n",
       "      <td>-792.701887</td>\n",
       "      <td>40</td>\n",
       "      <td>среднее</td>\n",
       "      <td>1</td>\n",
       "      <td>женат / замужем</td>\n",
       "      <td>0</td>\n",
       "      <td>F</td>\n",
       "      <td>сотрудник</td>\n",
       "      <td>0</td>\n",
       "      <td>77069.234271</td>\n",
       "      <td>покупка коммерческой недвижимости</td>\n",
       "    </tr>\n",
       "    <tr>\n",
       "      <th>12</th>\n",
       "      <td>0</td>\n",
       "      <td>NaN</td>\n",
       "      <td>65</td>\n",
       "      <td>среднее</td>\n",
       "      <td>1</td>\n",
       "      <td>гражданский брак</td>\n",
       "      <td>1</td>\n",
       "      <td>M</td>\n",
       "      <td>пенсионер</td>\n",
       "      <td>0</td>\n",
       "      <td>NaN</td>\n",
       "      <td>сыграть свадьбу</td>\n",
       "    </tr>\n",
       "    <tr>\n",
       "      <th>13</th>\n",
       "      <td>0</td>\n",
       "      <td>-1846.641941</td>\n",
       "      <td>54</td>\n",
       "      <td>неоконченное высшее</td>\n",
       "      <td>2</td>\n",
       "      <td>женат / замужем</td>\n",
       "      <td>0</td>\n",
       "      <td>F</td>\n",
       "      <td>сотрудник</td>\n",
       "      <td>0</td>\n",
       "      <td>130458.228857</td>\n",
       "      <td>приобретение автомобиля</td>\n",
       "    </tr>\n",
       "    <tr>\n",
       "      <th>14</th>\n",
       "      <td>0</td>\n",
       "      <td>-1844.956182</td>\n",
       "      <td>56</td>\n",
       "      <td>высшее</td>\n",
       "      <td>0</td>\n",
       "      <td>гражданский брак</td>\n",
       "      <td>1</td>\n",
       "      <td>F</td>\n",
       "      <td>компаньон</td>\n",
       "      <td>1</td>\n",
       "      <td>165127.911772</td>\n",
       "      <td>покупка жилой недвижимости</td>\n",
       "    </tr>\n",
       "    <tr>\n",
       "      <th>15</th>\n",
       "      <td>1</td>\n",
       "      <td>-972.364419</td>\n",
       "      <td>26</td>\n",
       "      <td>среднее</td>\n",
       "      <td>1</td>\n",
       "      <td>женат / замужем</td>\n",
       "      <td>0</td>\n",
       "      <td>F</td>\n",
       "      <td>сотрудник</td>\n",
       "      <td>0</td>\n",
       "      <td>116820.904450</td>\n",
       "      <td>строительство собственной недвижимости</td>\n",
       "    </tr>\n",
       "    <tr>\n",
       "      <th>16</th>\n",
       "      <td>0</td>\n",
       "      <td>-1719.934226</td>\n",
       "      <td>35</td>\n",
       "      <td>среднее</td>\n",
       "      <td>1</td>\n",
       "      <td>женат / замужем</td>\n",
       "      <td>0</td>\n",
       "      <td>F</td>\n",
       "      <td>сотрудник</td>\n",
       "      <td>0</td>\n",
       "      <td>289202.704229</td>\n",
       "      <td>недвижимость</td>\n",
       "    </tr>\n",
       "    <tr>\n",
       "      <th>17</th>\n",
       "      <td>0</td>\n",
       "      <td>-2369.999720</td>\n",
       "      <td>33</td>\n",
       "      <td>высшее</td>\n",
       "      <td>0</td>\n",
       "      <td>гражданский брак</td>\n",
       "      <td>1</td>\n",
       "      <td>M</td>\n",
       "      <td>сотрудник</td>\n",
       "      <td>0</td>\n",
       "      <td>90410.586745</td>\n",
       "      <td>строительство недвижимости</td>\n",
       "    </tr>\n",
       "    <tr>\n",
       "      <th>18</th>\n",
       "      <td>0</td>\n",
       "      <td>400281.136913</td>\n",
       "      <td>53</td>\n",
       "      <td>среднее</td>\n",
       "      <td>1</td>\n",
       "      <td>вдовец / вдова</td>\n",
       "      <td>2</td>\n",
       "      <td>F</td>\n",
       "      <td>пенсионер</td>\n",
       "      <td>0</td>\n",
       "      <td>56823.777243</td>\n",
       "      <td>на покупку подержанного автомобиля</td>\n",
       "    </tr>\n",
       "    <tr>\n",
       "      <th>19</th>\n",
       "      <td>0</td>\n",
       "      <td>-10038.818549</td>\n",
       "      <td>48</td>\n",
       "      <td>СРЕДНЕЕ</td>\n",
       "      <td>1</td>\n",
       "      <td>в разводе</td>\n",
       "      <td>3</td>\n",
       "      <td>F</td>\n",
       "      <td>сотрудник</td>\n",
       "      <td>0</td>\n",
       "      <td>242831.107982</td>\n",
       "      <td>на покупку своего автомобиля</td>\n",
       "    </tr>\n",
       "  </tbody>\n",
       "</table>\n",
       "</div>"
      ],
      "text/plain": [
       "    children  days_employed  dob_years            education  education_id  \\\n",
       "0          1   -8437.673028         42               высшее             0   \n",
       "1          1   -4024.803754         36              среднее             1   \n",
       "2          0   -5623.422610         33              Среднее             1   \n",
       "3          3   -4124.747207         32              среднее             1   \n",
       "4          0  340266.072047         53              среднее             1   \n",
       "5          0    -926.185831         27               высшее             0   \n",
       "6          0   -2879.202052         43               высшее             0   \n",
       "7          0    -152.779569         50              СРЕДНЕЕ             1   \n",
       "8          2   -6929.865299         35               ВЫСШЕЕ             0   \n",
       "9          0   -2188.756445         41              среднее             1   \n",
       "10         2   -4171.483647         36               высшее             0   \n",
       "11         0    -792.701887         40              среднее             1   \n",
       "12         0            NaN         65              среднее             1   \n",
       "13         0   -1846.641941         54  неоконченное высшее             2   \n",
       "14         0   -1844.956182         56               высшее             0   \n",
       "15         1    -972.364419         26              среднее             1   \n",
       "16         0   -1719.934226         35              среднее             1   \n",
       "17         0   -2369.999720         33               высшее             0   \n",
       "18         0  400281.136913         53              среднее             1   \n",
       "19         0  -10038.818549         48              СРЕДНЕЕ             1   \n",
       "\n",
       "       family_status  family_status_id gender income_type  debt  \\\n",
       "0    женат / замужем                 0      F   сотрудник     0   \n",
       "1    женат / замужем                 0      F   сотрудник     0   \n",
       "2    женат / замужем                 0      M   сотрудник     0   \n",
       "3    женат / замужем                 0      M   сотрудник     0   \n",
       "4   гражданский брак                 1      F   пенсионер     0   \n",
       "5   гражданский брак                 1      M   компаньон     0   \n",
       "6    женат / замужем                 0      F   компаньон     0   \n",
       "7    женат / замужем                 0      M   сотрудник     0   \n",
       "8   гражданский брак                 1      F   сотрудник     0   \n",
       "9    женат / замужем                 0      M   сотрудник     0   \n",
       "10   женат / замужем                 0      M   компаньон     0   \n",
       "11   женат / замужем                 0      F   сотрудник     0   \n",
       "12  гражданский брак                 1      M   пенсионер     0   \n",
       "13   женат / замужем                 0      F   сотрудник     0   \n",
       "14  гражданский брак                 1      F   компаньон     1   \n",
       "15   женат / замужем                 0      F   сотрудник     0   \n",
       "16   женат / замужем                 0      F   сотрудник     0   \n",
       "17  гражданский брак                 1      M   сотрудник     0   \n",
       "18    вдовец / вдова                 2      F   пенсионер     0   \n",
       "19         в разводе                 3      F   сотрудник     0   \n",
       "\n",
       "     total_income                                 purpose  \n",
       "0   253875.639453                           покупка жилья  \n",
       "1   112080.014102                 приобретение автомобиля  \n",
       "2   145885.952297                           покупка жилья  \n",
       "3   267628.550329              дополнительное образование  \n",
       "4   158616.077870                         сыграть свадьбу  \n",
       "5   255763.565419                           покупка жилья  \n",
       "6   240525.971920                       операции с жильем  \n",
       "7   135823.934197                             образование  \n",
       "8    95856.832424                   на проведение свадьбы  \n",
       "9   144425.938277                 покупка жилья для семьи  \n",
       "10  113943.491460                    покупка недвижимости  \n",
       "11   77069.234271       покупка коммерческой недвижимости  \n",
       "12            NaN                         сыграть свадьбу  \n",
       "13  130458.228857                 приобретение автомобиля  \n",
       "14  165127.911772              покупка жилой недвижимости  \n",
       "15  116820.904450  строительство собственной недвижимости  \n",
       "16  289202.704229                            недвижимость  \n",
       "17   90410.586745              строительство недвижимости  \n",
       "18   56823.777243      на покупку подержанного автомобиля  \n",
       "19  242831.107982            на покупку своего автомобиля  "
      ]
     },
     "execution_count": 2,
     "metadata": {},
     "output_type": "execute_result"
    }
   ],
   "source": [
    "data.head(20)"
   ]
  },
  {
   "cell_type": "markdown",
   "id": "7ae0c9ee",
   "metadata": {
    "deletable": false,
    "editable": false,
    "id": "1c12e233"
   },
   "source": [
    "**Задание 3. Выведите основную информацию о датафрейме с помощью метода `info()`.**"
   ]
  },
  {
   "cell_type": "code",
   "execution_count": 3,
   "id": "81d9e796",
   "metadata": {
    "deletable": false,
    "id": "2b757bca",
    "outputId": "15376089-8dad-46c9-b520-c05248d43158"
   },
   "outputs": [
    {
     "name": "stdout",
     "output_type": "stream",
     "text": [
      "<class 'pandas.core.frame.DataFrame'>\n",
      "RangeIndex: 21525 entries, 0 to 21524\n",
      "Data columns (total 12 columns):\n",
      " #   Column            Non-Null Count  Dtype  \n",
      "---  ------            --------------  -----  \n",
      " 0   children          21525 non-null  int64  \n",
      " 1   days_employed     19351 non-null  float64\n",
      " 2   dob_years         21525 non-null  int64  \n",
      " 3   education         21525 non-null  object \n",
      " 4   education_id      21525 non-null  int64  \n",
      " 5   family_status     21525 non-null  object \n",
      " 6   family_status_id  21525 non-null  int64  \n",
      " 7   gender            21525 non-null  object \n",
      " 8   income_type       21525 non-null  object \n",
      " 9   debt              21525 non-null  int64  \n",
      " 10  total_income      19351 non-null  float64\n",
      " 11  purpose           21525 non-null  object \n",
      "dtypes: float64(2), int64(5), object(5)\n",
      "memory usage: 2.0+ MB\n"
     ]
    }
   ],
   "source": [
    "data.info()"
   ]
  },
  {
   "cell_type": "markdown",
   "id": "f59618f1",
   "metadata": {
    "deletable": false,
    "editable": false,
    "id": "333ec665"
   },
   "source": [
    "## Предобработка данных"
   ]
  },
  {
   "cell_type": "markdown",
   "id": "96f8bf24",
   "metadata": {
    "deletable": false,
    "editable": false,
    "id": "02d92d53"
   },
   "source": [
    "### Удаление пропусков"
   ]
  },
  {
   "cell_type": "markdown",
   "id": "e0aecd9e",
   "metadata": {
    "deletable": false,
    "editable": false,
    "id": "cd84967c"
   },
   "source": [
    "**Задание 4. Выведите количество пропущенных значений для каждого столбца. Используйте комбинацию двух методов.**"
   ]
  },
  {
   "cell_type": "code",
   "execution_count": 4,
   "id": "3f4b1c91",
   "metadata": {
    "deletable": false,
    "id": "7f9b2309",
    "outputId": "81f4d817-781c-465c-ed15-91ce4446810d"
   },
   "outputs": [
    {
     "data": {
      "text/plain": [
       "children               0\n",
       "days_employed       2174\n",
       "dob_years              0\n",
       "education              0\n",
       "education_id           0\n",
       "family_status          0\n",
       "family_status_id       0\n",
       "gender                 0\n",
       "income_type            0\n",
       "debt                   0\n",
       "total_income        2174\n",
       "purpose                0\n",
       "dtype: int64"
      ]
     },
     "execution_count": 4,
     "metadata": {},
     "output_type": "execute_result"
    }
   ],
   "source": [
    "data.isna().sum()"
   ]
  },
  {
   "cell_type": "markdown",
   "id": "4e49b73b",
   "metadata": {
    "deletable": false,
    "editable": false,
    "id": "db86e27b"
   },
   "source": [
    "**Задание 5. В двух столбцах есть пропущенные значения. Один из них — `days_employed`. Пропуски в этом столбце вы обработаете на следующем этапе. Другой столбец с пропущенными значениями — `total_income` — хранит данные о доходах. На сумму дохода сильнее всего влияет тип занятости, поэтому заполнить пропуски в этом столбце нужно медианным значением по каждому типу из столбца `income_type`. Например, у человека с типом занятости `сотрудник` пропуск в столбце `total_income` должен быть заполнен медианным доходом среди всех записей с тем же типом.**"
   ]
  },
  {
   "cell_type": "code",
   "execution_count": 5,
   "id": "59efc98d",
   "metadata": {
    "deletable": false,
    "id": "42006a93"
   },
   "outputs": [],
   "source": [
    "for t in data['income_type'].unique():\n",
    "    data.loc[(data['income_type'] == t) & (data['total_income'].isna()), 'total_income'] = \\\n",
    "    data.loc[(data['income_type'] == t), 'total_income'].median()"
   ]
  },
  {
   "cell_type": "markdown",
   "id": "b13dd35c",
   "metadata": {
    "deletable": false,
    "editable": false,
    "id": "89da5ece"
   },
   "source": [
    "### Обработка аномальных значений"
   ]
  },
  {
   "cell_type": "markdown",
   "id": "770b143d",
   "metadata": {
    "deletable": false,
    "editable": false,
    "id": "57964554"
   },
   "source": [
    "**Задание 6. В данных могут встречаться артефакты (аномалии) — значения, которые не отражают действительность и появились по какой-то ошибке. таким артефактом будет отрицательное количество дней трудового стажа в столбце `days_employed`. Для реальных данных это нормально. Обработайте значения в этом столбце: замените все отрицательные значения положительными с помощью метода `abs()`.**"
   ]
  },
  {
   "cell_type": "code",
   "execution_count": 6,
   "id": "116ccfce",
   "metadata": {
    "deletable": false,
    "id": "f6f055bf"
   },
   "outputs": [],
   "source": [
    "data['days_employed'] = data['days_employed'].abs()"
   ]
  },
  {
   "cell_type": "markdown",
   "id": "3596043f",
   "metadata": {
    "deletable": false,
    "editable": false,
    "id": "6107dd2f"
   },
   "source": [
    "**Задание 7. Для каждого типа занятости выведите медианное значение трудового стажа `days_employed` в днях.**"
   ]
  },
  {
   "cell_type": "code",
   "execution_count": 7,
   "id": "799fd8eb",
   "metadata": {
    "deletable": false,
    "id": "85a5faf6",
    "outputId": "801ef80e-522b-4668-f34e-565af7432bcf"
   },
   "outputs": [
    {
     "data": {
      "text/plain": [
       "income_type\n",
       "безработный        366413.652744\n",
       "в декрете            3296.759962\n",
       "госслужащий          2689.368353\n",
       "компаньон            1547.382223\n",
       "пенсионер          365213.306266\n",
       "предприниматель       520.848083\n",
       "сотрудник            1574.202821\n",
       "студент               578.751554\n",
       "Name: days_employed, dtype: float64"
      ]
     },
     "execution_count": 7,
     "metadata": {},
     "output_type": "execute_result"
    }
   ],
   "source": [
    "data.groupby('income_type')['days_employed'].agg('median')"
   ]
  },
  {
   "cell_type": "markdown",
   "id": "975d0b51",
   "metadata": {
    "deletable": false,
    "editable": false,
    "id": "38d1a030"
   },
   "source": [
    "У двух типов (безработные и пенсионеры) получатся аномально большие значения. Исправить такие значения сложно, поэтому оставьте их как есть. Тем более этот столбец не понадобится вам для исследования."
   ]
  },
  {
   "cell_type": "markdown",
   "id": "5f8975e6",
   "metadata": {
    "deletable": false,
    "editable": false,
    "id": "d8a9f147"
   },
   "source": [
    "**Задание 8. Выведите перечень уникальных значений столбца `children`.**"
   ]
  },
  {
   "cell_type": "code",
   "execution_count": 8,
   "id": "4dc1b667",
   "metadata": {
    "deletable": false,
    "id": "ef5056eb",
    "outputId": "6975b15c-7f95-4697-d16d-a0c79b657b03"
   },
   "outputs": [
    {
     "data": {
      "text/plain": [
       "array([ 1,  0,  3,  2, -1,  4, 20,  5])"
      ]
     },
     "execution_count": 8,
     "metadata": {},
     "output_type": "execute_result"
    }
   ],
   "source": [
    "data['children'].unique()"
   ]
  },
  {
   "cell_type": "markdown",
   "id": "346203dc",
   "metadata": {
    "deletable": false,
    "editable": false,
    "id": "40b9ebf2"
   },
   "source": [
    "**Задание 9. В столбце `children` есть два аномальных значения. Удалите строки, в которых встречаются такие аномальные значения из датафрейма `data`.**"
   ]
  },
  {
   "cell_type": "code",
   "execution_count": 9,
   "id": "a3b13e7f",
   "metadata": {
    "deletable": false,
    "id": "3ff9801d"
   },
   "outputs": [],
   "source": [
    "data = data[(data['children'] != -1) & (data['children'] != 20)]"
   ]
  },
  {
   "cell_type": "markdown",
   "id": "98d84494",
   "metadata": {
    "deletable": false,
    "editable": false,
    "id": "bbc4d0ce"
   },
   "source": [
    "**Задание 10. Ещё раз выведите перечень уникальных значений столбца `children`, чтобы убедиться, что артефакты удалены.**"
   ]
  },
  {
   "cell_type": "code",
   "execution_count": 10,
   "id": "6a68affc",
   "metadata": {
    "deletable": false,
    "id": "ad4fa8b7",
    "outputId": "b2097101-d49d-44d9-901b-32a65c9463d1"
   },
   "outputs": [
    {
     "data": {
      "text/plain": [
       "array([1, 0, 3, 2, 4, 5])"
      ]
     },
     "execution_count": 10,
     "metadata": {},
     "output_type": "execute_result"
    }
   ],
   "source": [
    "data['children'].unique()"
   ]
  },
  {
   "cell_type": "markdown",
   "id": "9c86fc80",
   "metadata": {
    "deletable": false,
    "editable": false,
    "id": "75440b63"
   },
   "source": [
    "### Удаление пропусков (продолжение)"
   ]
  },
  {
   "cell_type": "markdown",
   "id": "85557450",
   "metadata": {
    "deletable": false,
    "editable": false,
    "id": "f4ea573f"
   },
   "source": [
    "**Задание 11. Заполните пропуски в столбце `days_employed` медианными значениями по каждого типа занятости `income_type`.**"
   ]
  },
  {
   "cell_type": "code",
   "execution_count": 11,
   "id": "71f38d81",
   "metadata": {
    "deletable": false,
    "id": "af6b1a7e"
   },
   "outputs": [],
   "source": [
    "for t in data['income_type'].unique():\n",
    "    data.loc[(data['income_type'] == t) & (data['days_employed'].isna()), 'days_employed'] = \\\n",
    "    data.loc[(data['income_type'] == t), 'days_employed'].median()"
   ]
  },
  {
   "cell_type": "markdown",
   "id": "adb3ffe5",
   "metadata": {
    "deletable": false,
    "editable": false,
    "id": "2753f40d"
   },
   "source": [
    "**Задание 12. Убедитесь, что все пропуски заполнены. Проверьте себя и ещё раз выведите количество пропущенных значений для каждого столбца с помощью двух методов.**"
   ]
  },
  {
   "cell_type": "code",
   "execution_count": 12,
   "id": "0476421b",
   "metadata": {
    "deletable": false,
    "id": "55f78bc2",
    "outputId": "8da1e4e1-358e-4e87-98c9-f261bce0a7b2"
   },
   "outputs": [
    {
     "data": {
      "text/plain": [
       "children            0\n",
       "days_employed       0\n",
       "dob_years           0\n",
       "education           0\n",
       "education_id        0\n",
       "family_status       0\n",
       "family_status_id    0\n",
       "gender              0\n",
       "income_type         0\n",
       "debt                0\n",
       "total_income        0\n",
       "purpose             0\n",
       "dtype: int64"
      ]
     },
     "execution_count": 12,
     "metadata": {},
     "output_type": "execute_result"
    }
   ],
   "source": [
    "data.isna().sum()"
   ]
  },
  {
   "cell_type": "markdown",
   "id": "86416021",
   "metadata": {
    "deletable": false,
    "editable": false,
    "id": "ddc81e43"
   },
   "source": [
    "### Изменение типов данных"
   ]
  },
  {
   "cell_type": "markdown",
   "id": "c0c9bae8",
   "metadata": {
    "deletable": false,
    "editable": false,
    "id": "42d19d24"
   },
   "source": [
    "**Задание 13. Замените вещественный тип данных в столбце `total_income` на целочисленный с помощью метода `astype()`.**"
   ]
  },
  {
   "cell_type": "code",
   "execution_count": 13,
   "id": "a599c33c",
   "metadata": {
    "deletable": false,
    "id": "920b65ad"
   },
   "outputs": [],
   "source": [
    "data['total_income'] = data['total_income'].astype(int)"
   ]
  },
  {
   "cell_type": "markdown",
   "id": "dec143a7",
   "metadata": {
    "deletable": false,
    "editable": false,
    "id": "80c420ba"
   },
   "source": [
    "### Обработка дубликатов"
   ]
  },
  {
   "cell_type": "markdown",
   "id": "c2c85462",
   "metadata": {
    "deletable": false,
    "editable": false
   },
   "source": [
    "**Задание 14. Обработайте неявные дубликаты в столбце `education`. В этом столбце есть одни и те же значения, но записанные по-разному: с использованием заглавных и строчных букв. Приведите их к нижнему регистру. Проверьте остальные столбцы.**"
   ]
  },
  {
   "cell_type": "code",
   "execution_count": 14,
   "id": "ae7e0616",
   "metadata": {
    "deletable": false
   },
   "outputs": [],
   "source": [
    "data['education'] = data['education'].str.lower()"
   ]
  },
  {
   "cell_type": "markdown",
   "id": "b0e04fe3",
   "metadata": {
    "deletable": false,
    "editable": false,
    "id": "dc587695"
   },
   "source": [
    "**Задание 15. Выведите на экран количество строк-дубликатов в данных. Если такие строки присутствуют, удалите их.**"
   ]
  },
  {
   "cell_type": "code",
   "execution_count": 15,
   "id": "495d3966",
   "metadata": {
    "deletable": false,
    "id": "3ee445e4",
    "outputId": "9684deba-1934-42d1-99e1-cda61740f822"
   },
   "outputs": [
    {
     "data": {
      "text/plain": [
       "71"
      ]
     },
     "execution_count": 15,
     "metadata": {},
     "output_type": "execute_result"
    }
   ],
   "source": [
    "data.duplicated().sum()"
   ]
  },
  {
   "cell_type": "code",
   "execution_count": 16,
   "id": "1c3810a2",
   "metadata": {
    "deletable": false,
    "id": "8575fe05"
   },
   "outputs": [],
   "source": [
    "data = data.drop_duplicates()"
   ]
  },
  {
   "cell_type": "markdown",
   "id": "9ea55b3c",
   "metadata": {
    "deletable": false,
    "editable": false,
    "id": "9904cf55"
   },
   "source": [
    "### Категоризация данных"
   ]
  },
  {
   "cell_type": "markdown",
   "id": "9cc807f1",
   "metadata": {
    "deletable": false,
    "editable": false,
    "id": "72fcc8a2"
   },
   "source": [
    "**Задание 16. На основании диапазонов, указанных ниже, создайте в датафрейме `data` столбец `total_income_category` с категориями:**\n",
    "\n",
    "- 0–30000 — `'E'`;\n",
    "- 30001–50000 — `'D'`;\n",
    "- 50001–200000 — `'C'`;\n",
    "- 200001–1000000 — `'B'`;\n",
    "- 1000001 и выше — `'A'`.\n",
    "\n",
    "\n",
    "**Например, кредитополучателю с доходом 25000 нужно назначить категорию `'E'`, а клиенту, получающему 235000, — `'B'`. Используйте собственную функцию с именем `categorize_income()` и метод `apply()`.**"
   ]
  },
  {
   "cell_type": "code",
   "execution_count": 17,
   "id": "31945fea",
   "metadata": {
    "deletable": false,
    "id": "e1771346"
   },
   "outputs": [],
   "source": [
    "def categorize_income(income):\n",
    "    try:\n",
    "        if 0 <= income <= 30000:\n",
    "            return 'E'\n",
    "        elif 30001 <= income <= 50000:\n",
    "            return 'D'\n",
    "        elif 50001 <= income <= 200000:\n",
    "            return 'C'\n",
    "        elif 200001 <= income <= 1000000:\n",
    "            return 'B'\n",
    "        elif income >= 1000001:\n",
    "            return 'A'\n",
    "    except:\n",
    "        pass"
   ]
  },
  {
   "cell_type": "code",
   "execution_count": 18,
   "id": "14a74d9b",
   "metadata": {
    "deletable": false,
    "id": "d5f3586d"
   },
   "outputs": [],
   "source": [
    "data['total_income_category'] = data['total_income'].apply(categorize_income)"
   ]
  },
  {
   "cell_type": "markdown",
   "id": "9d0f2838",
   "metadata": {
    "deletable": false,
    "editable": false,
    "id": "dde49b5c"
   },
   "source": [
    "**Задание 17. Выведите на экран перечень уникальных целей взятия кредита из столбца `purpose`.**"
   ]
  },
  {
   "cell_type": "code",
   "execution_count": 19,
   "id": "1b6bc29b",
   "metadata": {
    "deletable": false,
    "id": "f67ce9b3",
    "outputId": "673c12d9-7d7e-4ae0-9812-c622c89dd244"
   },
   "outputs": [
    {
     "data": {
      "text/plain": [
       "array(['покупка жилья', 'приобретение автомобиля',\n",
       "       'дополнительное образование', 'сыграть свадьбу',\n",
       "       'операции с жильем', 'образование', 'на проведение свадьбы',\n",
       "       'покупка жилья для семьи', 'покупка недвижимости',\n",
       "       'покупка коммерческой недвижимости', 'покупка жилой недвижимости',\n",
       "       'строительство собственной недвижимости', 'недвижимость',\n",
       "       'строительство недвижимости', 'на покупку подержанного автомобиля',\n",
       "       'на покупку своего автомобиля',\n",
       "       'операции с коммерческой недвижимостью',\n",
       "       'строительство жилой недвижимости', 'жилье',\n",
       "       'операции со своей недвижимостью', 'автомобили',\n",
       "       'заняться образованием', 'сделка с подержанным автомобилем',\n",
       "       'получение образования', 'автомобиль', 'свадьба',\n",
       "       'получение дополнительного образования', 'покупка своего жилья',\n",
       "       'операции с недвижимостью', 'получение высшего образования',\n",
       "       'свой автомобиль', 'сделка с автомобилем',\n",
       "       'профильное образование', 'высшее образование',\n",
       "       'покупка жилья для сдачи', 'на покупку автомобиля', 'ремонт жилью',\n",
       "       'заняться высшим образованием'], dtype=object)"
      ]
     },
     "execution_count": 19,
     "metadata": {},
     "output_type": "execute_result"
    }
   ],
   "source": [
    "data['purpose'].unique()"
   ]
  },
  {
   "cell_type": "markdown",
   "id": "657956d1",
   "metadata": {
    "deletable": false,
    "editable": false,
    "id": "85d0aef0"
   },
   "source": [
    "**Задание 18. Создайте функцию, которая на основании данных из столбца `purpose` сформирует новый столбец `purpose_category`, в который войдут следующие категории:**\n",
    "\n",
    "- `'операции с автомобилем'`,\n",
    "- `'операции с недвижимостью'`,\n",
    "- `'проведение свадьбы'`,\n",
    "- `'получение образования'`.\n",
    "\n",
    "**Например, если в столбце `purpose` находится подстрока `'на покупку автомобиля'`, то в столбце `purpose_category` должна появиться строка `'операции с автомобилем'`.**\n",
    "\n",
    "**Используйте собственную функцию с именем `categorize_purpose()` и метод `apply()`. Изучите данные в столбце `purpose` и определите, какие подстроки помогут вам правильно определить категорию.**"
   ]
  },
  {
   "cell_type": "code",
   "execution_count": 20,
   "id": "af61a1d5",
   "metadata": {
    "deletable": false,
    "id": "e149fab4"
   },
   "outputs": [],
   "source": [
    "def categorize_purpose(row):\n",
    "    try:\n",
    "        if 'автом' in row:\n",
    "            return 'операции с автомобилем'\n",
    "        elif 'жил' in row or 'недвиж' in row:\n",
    "            return 'операции с недвижимостью'\n",
    "        elif 'свад' in row:\n",
    "            return 'проведение свадьбы'\n",
    "        elif 'образов' in row:\n",
    "            return 'получение образования'\n",
    "    except:\n",
    "        return 'нет категории'"
   ]
  },
  {
   "cell_type": "code",
   "execution_count": 21,
   "id": "a90f7455",
   "metadata": {
    "deletable": false,
    "id": "bf36e69b"
   },
   "outputs": [],
   "source": [
    "data['purpose_category'] = data['purpose'].apply(categorize_purpose)"
   ]
  },
  {
   "cell_type": "markdown",
   "id": "1b4c53d2",
   "metadata": {
    "deletable": false,
    "editable": false,
    "id": "09b242bf"
   },
   "source": [
    "### Шаг 3. Исследуйте данные и ответьте на вопросы"
   ]
  },
  {
   "cell_type": "markdown",
   "id": "94df733a",
   "metadata": {
    "deletable": false,
    "editable": false,
    "id": "c5d66278"
   },
   "source": [
    "#### 3.1 Есть ли зависимость между количеством детей и возвратом кредита в срок?"
   ]
  },
  {
   "cell_type": "code",
   "execution_count": 22,
   "id": "a94fc431",
   "metadata": {
    "deletable": false,
    "id": "2cacfc4a"
   },
   "outputs": [
    {
     "data": {
      "text/html": [
       "<div>\n",
       "<style scoped>\n",
       "    .dataframe tbody tr th:only-of-type {\n",
       "        vertical-align: middle;\n",
       "    }\n",
       "\n",
       "    .dataframe tbody tr th {\n",
       "        vertical-align: top;\n",
       "    }\n",
       "\n",
       "    .dataframe thead th {\n",
       "        text-align: right;\n",
       "    }\n",
       "</style>\n",
       "<table border=\"1\" class=\"dataframe\">\n",
       "  <thead>\n",
       "    <tr style=\"text-align: right;\">\n",
       "      <th></th>\n",
       "      <th>amount_children</th>\n",
       "      <th>amount_debt</th>\n",
       "      <th>ratio</th>\n",
       "    </tr>\n",
       "    <tr>\n",
       "      <th>children</th>\n",
       "      <th></th>\n",
       "      <th></th>\n",
       "      <th></th>\n",
       "    </tr>\n",
       "  </thead>\n",
       "  <tbody>\n",
       "    <tr>\n",
       "      <th>0</th>\n",
       "      <td>14091</td>\n",
       "      <td>1063</td>\n",
       "      <td>7.54%</td>\n",
       "    </tr>\n",
       "    <tr>\n",
       "      <th>1</th>\n",
       "      <td>4808</td>\n",
       "      <td>444</td>\n",
       "      <td>9.23%</td>\n",
       "    </tr>\n",
       "    <tr>\n",
       "      <th>2</th>\n",
       "      <td>2052</td>\n",
       "      <td>194</td>\n",
       "      <td>9.45%</td>\n",
       "    </tr>\n",
       "    <tr>\n",
       "      <th>3</th>\n",
       "      <td>330</td>\n",
       "      <td>27</td>\n",
       "      <td>8.18%</td>\n",
       "    </tr>\n",
       "    <tr>\n",
       "      <th>4</th>\n",
       "      <td>41</td>\n",
       "      <td>4</td>\n",
       "      <td>9.76%</td>\n",
       "    </tr>\n",
       "    <tr>\n",
       "      <th>5</th>\n",
       "      <td>9</td>\n",
       "      <td>0</td>\n",
       "      <td>0.00%</td>\n",
       "    </tr>\n",
       "  </tbody>\n",
       "</table>\n",
       "</div>"
      ],
      "text/plain": [
       "          amount_children  amount_debt  ratio\n",
       "children                                     \n",
       "0                   14091         1063  7.54%\n",
       "1                    4808          444  9.23%\n",
       "2                    2052          194  9.45%\n",
       "3                     330           27  8.18%\n",
       "4                      41            4  9.76%\n",
       "5                       9            0  0.00%"
      ]
     },
     "execution_count": 22,
     "metadata": {},
     "output_type": "execute_result"
    }
   ],
   "source": [
    " # Ваш код будет здесь. Вы можете создавать новые ячейки.\n",
    "children_debt = data.pivot_table(index = ['children'], values='debt', aggfunc = ['count', 'sum', 'mean'])\n",
    "children_debt.columns = ['amount_children', 'amount_debt', 'ratio']\n",
    "children_debt['ratio'] = children_debt['ratio'].apply(lambda x:f'{x:.2%}')\n",
    "children_debt\n"
   ]
  },
  {
   "cell_type": "markdown",
   "id": "9385e0b4",
   "metadata": {
    "deletable": false,
    "id": "3a6b99ec"
   },
   "source": [
    "**Вывод:** Под данным таблицы наиболее ответственно к выплате кредита в срок относятся клиенты без детей и клиенты с пятью детьми, затем клиенты с тремя детьми , далее - клиенты с одним, двумя и четыремя детьми.\n",
    "\n",
    "1. Можно предположить, что клиенты без детей выплачивают кредит без задержек из-за слабой финанской нагрузки и для фомирования кредитной истории;\n",
    "\n",
    "2. Клиентам же с пятью детьми труднее взять кредит из-за больших требований со стороны банка, необходима кредитная история. Чем больше детей, тем меньше одобрений со стороны банка;\n",
    "\n",
    "3. Аналогичная ситуация для клиентов с тремя детьми - наличие кредитной истории и требования со стороны банка;\n",
    "\n",
    "4. Клиенты с одним и двумя детьми, возможно, обладают также слабой финансовой нагрузкой и с кредитной историей, но из-за наличия детей и\\или количества кредитов менее ориентируются на точные сроки выплаты. \n"
   ]
  },
  {
   "cell_type": "markdown",
   "id": "47aaa71e",
   "metadata": {
    "deletable": false,
    "editable": false,
    "id": "97be82ca"
   },
   "source": [
    "#### 3.2 Есть ли зависимость между семейным положением и возвратом кредита в срок?"
   ]
  },
  {
   "cell_type": "code",
   "execution_count": 23,
   "id": "95fc7916",
   "metadata": {
    "deletable": false,
    "id": "dc3f7ee8"
   },
   "outputs": [
    {
     "data": {
      "text/html": [
       "<div>\n",
       "<style scoped>\n",
       "    .dataframe tbody tr th:only-of-type {\n",
       "        vertical-align: middle;\n",
       "    }\n",
       "\n",
       "    .dataframe tbody tr th {\n",
       "        vertical-align: top;\n",
       "    }\n",
       "\n",
       "    .dataframe thead th {\n",
       "        text-align: right;\n",
       "    }\n",
       "</style>\n",
       "<table border=\"1\" class=\"dataframe\">\n",
       "  <thead>\n",
       "    <tr style=\"text-align: right;\">\n",
       "      <th></th>\n",
       "      <th>amount_family_status</th>\n",
       "      <th>amount_debt</th>\n",
       "      <th>ratio</th>\n",
       "    </tr>\n",
       "    <tr>\n",
       "      <th>family_status</th>\n",
       "      <th></th>\n",
       "      <th></th>\n",
       "      <th></th>\n",
       "    </tr>\n",
       "  </thead>\n",
       "  <tbody>\n",
       "    <tr>\n",
       "      <th>Не женат / не замужем</th>\n",
       "      <td>2796</td>\n",
       "      <td>273</td>\n",
       "      <td>9.76%</td>\n",
       "    </tr>\n",
       "    <tr>\n",
       "      <th>в разводе</th>\n",
       "      <td>1189</td>\n",
       "      <td>84</td>\n",
       "      <td>7.06%</td>\n",
       "    </tr>\n",
       "    <tr>\n",
       "      <th>вдовец / вдова</th>\n",
       "      <td>951</td>\n",
       "      <td>63</td>\n",
       "      <td>6.62%</td>\n",
       "    </tr>\n",
       "    <tr>\n",
       "      <th>гражданский брак</th>\n",
       "      <td>4134</td>\n",
       "      <td>385</td>\n",
       "      <td>9.31%</td>\n",
       "    </tr>\n",
       "    <tr>\n",
       "      <th>женат / замужем</th>\n",
       "      <td>12261</td>\n",
       "      <td>927</td>\n",
       "      <td>7.56%</td>\n",
       "    </tr>\n",
       "  </tbody>\n",
       "</table>\n",
       "</div>"
      ],
      "text/plain": [
       "                       amount_family_status  amount_debt  ratio\n",
       "family_status                                                  \n",
       "Не женат / не замужем                  2796          273  9.76%\n",
       "в разводе                              1189           84  7.06%\n",
       "вдовец / вдова                          951           63  6.62%\n",
       "гражданский брак                       4134          385  9.31%\n",
       "женат / замужем                       12261          927  7.56%"
      ]
     },
     "execution_count": 23,
     "metadata": {},
     "output_type": "execute_result"
    }
   ],
   "source": [
    "# Ваш код будет здесь. Вы можете создавать новые ячейки.\n",
    "fstatus_debt = data.pivot_table(index = ['family_status'], values='debt', aggfunc = ['count', 'sum', 'mean'])\n",
    "fstatus_debt.columns = ['amount_family_status', 'amount_debt', 'ratio']\n",
    "fstatus_debt['ratio'] = fstatus_debt['ratio'].apply(lambda x:f'{x:.2%}')\n",
    "\n",
    "fstatus_debt\n",
    "\n"
   ]
  },
  {
   "cell_type": "markdown",
   "id": "4851f256",
   "metadata": {
    "deletable": false,
    "id": "1cef7837"
   },
   "source": [
    "**Вывод:** Согласно таблице лучшие показатели у вдовцов/вдов и разведенных, но их также и меньше всего. Менее ответственно - люди, которые не состоят в браке."
   ]
  },
  {
   "cell_type": "markdown",
   "id": "d6fee4fe",
   "metadata": {},
   "source": [
    "<div class=\"alert alert-success\">\n",
    "    \n",
    "<b> Комментарий от ревьюера ✔️</b>\n",
    "    \n",
    "Все верно \n",
    "</div>"
   ]
  },
  {
   "cell_type": "markdown",
   "id": "03b86c5d",
   "metadata": {
    "deletable": false,
    "editable": false,
    "id": "1e8b2fca"
   },
   "source": [
    "#### 3.3 Есть ли зависимость между уровнем дохода и возвратом кредита в срок?"
   ]
  },
  {
   "cell_type": "code",
   "execution_count": 24,
   "id": "c7ce8e6e",
   "metadata": {
    "deletable": false,
    "id": "cd7e3720"
   },
   "outputs": [
    {
     "data": {
      "text/html": [
       "<div>\n",
       "<style scoped>\n",
       "    .dataframe tbody tr th:only-of-type {\n",
       "        vertical-align: middle;\n",
       "    }\n",
       "\n",
       "    .dataframe tbody tr th {\n",
       "        vertical-align: top;\n",
       "    }\n",
       "\n",
       "    .dataframe thead th {\n",
       "        text-align: right;\n",
       "    }\n",
       "</style>\n",
       "<table border=\"1\" class=\"dataframe\">\n",
       "  <thead>\n",
       "    <tr style=\"text-align: right;\">\n",
       "      <th></th>\n",
       "      <th>amount_total_income_category</th>\n",
       "      <th>amount_debt</th>\n",
       "      <th>ratio</th>\n",
       "    </tr>\n",
       "    <tr>\n",
       "      <th>total_income_category</th>\n",
       "      <th></th>\n",
       "      <th></th>\n",
       "      <th></th>\n",
       "    </tr>\n",
       "  </thead>\n",
       "  <tbody>\n",
       "    <tr>\n",
       "      <th>A</th>\n",
       "      <td>25</td>\n",
       "      <td>2</td>\n",
       "      <td>8.00%</td>\n",
       "    </tr>\n",
       "    <tr>\n",
       "      <th>B</th>\n",
       "      <td>5014</td>\n",
       "      <td>354</td>\n",
       "      <td>7.06%</td>\n",
       "    </tr>\n",
       "    <tr>\n",
       "      <th>C</th>\n",
       "      <td>15921</td>\n",
       "      <td>1353</td>\n",
       "      <td>8.50%</td>\n",
       "    </tr>\n",
       "    <tr>\n",
       "      <th>D</th>\n",
       "      <td>349</td>\n",
       "      <td>21</td>\n",
       "      <td>6.02%</td>\n",
       "    </tr>\n",
       "    <tr>\n",
       "      <th>E</th>\n",
       "      <td>22</td>\n",
       "      <td>2</td>\n",
       "      <td>9.09%</td>\n",
       "    </tr>\n",
       "  </tbody>\n",
       "</table>\n",
       "</div>"
      ],
      "text/plain": [
       "                       amount_total_income_category  amount_debt  ratio\n",
       "total_income_category                                                  \n",
       "A                                                25            2  8.00%\n",
       "B                                              5014          354  7.06%\n",
       "C                                             15921         1353  8.50%\n",
       "D                                               349           21  6.02%\n",
       "E                                                22            2  9.09%"
      ]
     },
     "execution_count": 24,
     "metadata": {},
     "output_type": "execute_result"
    }
   ],
   "source": [
    "# Ваш код будет здесь. Вы можете создавать новые ячейки.\n",
    "income_debt = data.pivot_table(index = ['total_income_category'], values='debt', aggfunc = ['count', 'sum', 'mean'])\n",
    "income_debt.columns = ['amount_total_income_category', 'amount_debt', 'ratio']\n",
    "income_debt['ratio'] = income_debt['ratio'].apply(lambda x:f'{x:.2%}')\n",
    "\n",
    "income_debt"
   ]
  },
  {
   "cell_type": "markdown",
   "id": "56105325",
   "metadata": {
    "deletable": false,
    "id": "e8593def"
   },
   "source": [
    "**Вывод:** Лучший показатель у клиентов категории D и B. Худший - клиенты категории Е. Можно предположить, что клиенты с самым низким доходом не имеют достаточно средств для погашения кредита, на это также и указывает малое количество данных клиентов по сравнению с другими категориями."
   ]
  },
  {
   "cell_type": "markdown",
   "id": "e147de70",
   "metadata": {
    "deletable": false,
    "editable": false,
    "id": "99ecbd1f"
   },
   "source": [
    "#### 3.4 Как разные цели кредита влияют на его возврат в срок?"
   ]
  },
  {
   "cell_type": "code",
   "execution_count": 25,
   "id": "97bd26a5",
   "metadata": {
    "deletable": false,
    "id": "2b687290"
   },
   "outputs": [
    {
     "data": {
      "text/html": [
       "<div>\n",
       "<style scoped>\n",
       "    .dataframe tbody tr th:only-of-type {\n",
       "        vertical-align: middle;\n",
       "    }\n",
       "\n",
       "    .dataframe tbody tr th {\n",
       "        vertical-align: top;\n",
       "    }\n",
       "\n",
       "    .dataframe thead th {\n",
       "        text-align: right;\n",
       "    }\n",
       "</style>\n",
       "<table border=\"1\" class=\"dataframe\">\n",
       "  <thead>\n",
       "    <tr style=\"text-align: right;\">\n",
       "      <th></th>\n",
       "      <th>amount_purpose_category</th>\n",
       "      <th>amount_debt</th>\n",
       "      <th>ratio</th>\n",
       "    </tr>\n",
       "    <tr>\n",
       "      <th>purpose_category</th>\n",
       "      <th></th>\n",
       "      <th></th>\n",
       "      <th></th>\n",
       "    </tr>\n",
       "  </thead>\n",
       "  <tbody>\n",
       "    <tr>\n",
       "      <th>операции с автомобилем</th>\n",
       "      <td>4279</td>\n",
       "      <td>400</td>\n",
       "      <td>9.35%</td>\n",
       "    </tr>\n",
       "    <tr>\n",
       "      <th>операции с недвижимостью</th>\n",
       "      <td>10751</td>\n",
       "      <td>780</td>\n",
       "      <td>7.26%</td>\n",
       "    </tr>\n",
       "    <tr>\n",
       "      <th>получение образования</th>\n",
       "      <td>3988</td>\n",
       "      <td>369</td>\n",
       "      <td>9.25%</td>\n",
       "    </tr>\n",
       "    <tr>\n",
       "      <th>проведение свадьбы</th>\n",
       "      <td>2313</td>\n",
       "      <td>183</td>\n",
       "      <td>7.91%</td>\n",
       "    </tr>\n",
       "  </tbody>\n",
       "</table>\n",
       "</div>"
      ],
      "text/plain": [
       "                          amount_purpose_category  amount_debt  ratio\n",
       "purpose_category                                                     \n",
       "операции с автомобилем                       4279          400  9.35%\n",
       "операции с недвижимостью                    10751          780  7.26%\n",
       "получение образования                        3988          369  9.25%\n",
       "проведение свадьбы                           2313          183  7.91%"
      ]
     },
     "execution_count": 25,
     "metadata": {},
     "output_type": "execute_result"
    }
   ],
   "source": [
    "# Ваш код будет здесь. Вы можете создавать новые ячейки.\n",
    "\n",
    "purpose_debt = data.pivot_table(index = ['purpose_category'], values='debt', aggfunc = ['count', 'sum', 'mean'])\n",
    "purpose_debt.columns = ['amount_purpose_category', 'amount_debt', 'ratio']\n",
    "purpose_debt['ratio'] = purpose_debt['ratio'].apply(lambda x:f'{x:.2%}')\n",
    "\n",
    "purpose_debt"
   ]
  },
  {
   "cell_type": "markdown",
   "id": "8fb4d3a7",
   "metadata": {
    "deletable": false,
    "id": "b4bb2ce6"
   },
   "source": [
    "**Вывод:** Лучшие показатели по выплате у клиентов, цель кредита которых - недвижимость. Это можно обьяснить большим количеством подтверждающих документов, требуемых клиентам для данной операции (доход, первоначальный взнос, кредитная история).\n",
    "\n",
    "Худшие показатели - получение образования и операции с автомобилем. \n"
   ]
  },
  {
   "cell_type": "markdown",
   "id": "acc52802",
   "metadata": {},
   "source": [
    "<div class=\"alert alert-success\">\n",
    "    \n",
    "<b> Комментарий от ревьюера ✔️</b>\n",
    "    \n",
    "Ты хорошо справился с анализом данных\n",
    "</div>"
   ]
  },
  {
   "cell_type": "markdown",
   "id": "1e9b38a4",
   "metadata": {
    "deletable": false,
    "editable": false,
    "id": "09c3ac4c"
   },
   "source": [
    "#### 3.5 Приведите возможные причины появления пропусков в исходных данных."
   ]
  },
  {
   "cell_type": "markdown",
   "id": "43202b98",
   "metadata": {
    "deletable": false,
    "id": "9da2ceda"
   },
   "source": [
    "*Ответ:*  Отсутствие документально подтвержденных данных (справки о доходе, выписки из трудовой)."
   ]
  },
  {
   "cell_type": "markdown",
   "id": "8857b74b",
   "metadata": {},
   "source": [
    "<div class=\"alert alert-success\">\n",
    "    \n",
    "<b> Комментарий от ревьюера ✔️</b>\n",
    "    \n",
    "Да, клиенты могли не предоставить часть информации о себе, но не стоит забывать о возможных технических ошибках (например, при выгрузке данных) или ошибках сотрудников банка при заполнении/выгрузке данных.\n",
    "</div>"
   ]
  },
  {
   "cell_type": "markdown",
   "id": "9a709661",
   "metadata": {
    "deletable": false,
    "editable": false,
    "id": "7b0487d6"
   },
   "source": [
    "#### 3.6 Объясните, почему заполнить пропуски медианным значением — лучшее решение для количественных переменных."
   ]
  },
  {
   "cell_type": "markdown",
   "id": "80d2a381",
   "metadata": {
    "deletable": false,
    "id": "7ecf2b8e"
   },
   "source": [
    "*Ответ:* Медианные значения игнорируют разброс данных, придерживаются \"середине\" данных."
   ]
  },
  {
   "cell_type": "markdown",
   "id": "18eef55a",
   "metadata": {},
   "source": [
    "<div class=\"alert alert-success\">\n",
    "    \n",
    "<b> Комментарий от ревьюера ✔️</b>\n",
    "    \n",
    "Действительно, медиана не зависит от выбросов\n",
    "</div>"
   ]
  },
  {
   "cell_type": "markdown",
   "id": "fca71093",
   "metadata": {
    "deletable": false,
    "editable": false,
    "id": "6db5255a"
   },
   "source": [
    "### Шаг 4: общий вывод."
   ]
  },
  {
   "cell_type": "markdown",
   "id": "e259ae5e",
   "metadata": {
    "deletable": false,
    "id": "bad65432"
   },
   "source": [
    "Таким образом, такие показатели, как наличие детей, семейный статус и цели кредита влияют на выплату кредита срок. Наиболее ответсвенно к обязательствам относятся клиенты, не имеющие детей, либо с 2-3 детьми. Данные коррелируется с целью кредита и высокими требованиями со стороны банка для его приобретения (например, недвижимость)."
   ]
  }
 ],
 "metadata": {
  "ExecuteTimeLog": [
   {
    "duration": 561,
    "start_time": "2022-10-05T06:51:12.091Z"
   },
   {
    "duration": 25,
    "start_time": "2022-10-05T06:51:12.653Z"
   },
   {
    "duration": 16,
    "start_time": "2022-10-05T06:51:12.679Z"
   },
   {
    "duration": 10,
    "start_time": "2022-10-05T06:51:12.697Z"
   },
   {
    "duration": 39,
    "start_time": "2022-10-05T06:51:12.708Z"
   },
   {
    "duration": 3,
    "start_time": "2022-10-05T06:51:12.749Z"
   },
   {
    "duration": 10,
    "start_time": "2022-10-05T06:51:12.754Z"
   },
   {
    "duration": 25,
    "start_time": "2022-10-05T06:51:12.765Z"
   },
   {
    "duration": 10,
    "start_time": "2022-10-05T06:51:12.791Z"
   },
   {
    "duration": 4,
    "start_time": "2022-10-05T06:51:12.803Z"
   },
   {
    "duration": 37,
    "start_time": "2022-10-05T06:51:12.809Z"
   },
   {
    "duration": 12,
    "start_time": "2022-10-05T06:51:12.848Z"
   },
   {
    "duration": 30,
    "start_time": "2022-10-05T06:51:12.861Z"
   },
   {
    "duration": 14,
    "start_time": "2022-10-05T06:51:12.892Z"
   },
   {
    "duration": 22,
    "start_time": "2022-10-05T06:51:12.907Z"
   },
   {
    "duration": 20,
    "start_time": "2022-10-05T06:51:12.931Z"
   },
   {
    "duration": 4,
    "start_time": "2022-10-05T06:51:12.953Z"
   },
   {
    "duration": 13,
    "start_time": "2022-10-05T06:51:12.988Z"
   },
   {
    "duration": 9,
    "start_time": "2022-10-05T06:51:13.002Z"
   },
   {
    "duration": 5,
    "start_time": "2022-10-05T06:51:13.013Z"
   },
   {
    "duration": 43,
    "start_time": "2022-10-05T06:51:13.019Z"
   },
   {
    "duration": 10,
    "start_time": "2022-10-05T06:51:13.064Z"
   },
   {
    "duration": 26,
    "start_time": "2022-10-05T06:51:13.076Z"
   },
   {
    "duration": 14,
    "start_time": "2022-10-05T06:51:13.104Z"
   },
   {
    "duration": 11,
    "start_time": "2022-10-05T06:51:13.120Z"
   },
   {
    "duration": 81,
    "start_time": "2022-10-05T07:26:48.254Z"
   },
   {
    "duration": 47,
    "start_time": "2022-10-05T07:27:27.721Z"
   },
   {
    "duration": 452,
    "start_time": "2022-10-05T07:27:56.626Z"
   },
   {
    "duration": 22,
    "start_time": "2022-10-05T07:27:57.080Z"
   },
   {
    "duration": 15,
    "start_time": "2022-10-05T07:27:57.103Z"
   },
   {
    "duration": 10,
    "start_time": "2022-10-05T07:27:57.120Z"
   },
   {
    "duration": 34,
    "start_time": "2022-10-05T07:27:57.131Z"
   },
   {
    "duration": 3,
    "start_time": "2022-10-05T07:27:57.167Z"
   },
   {
    "duration": 8,
    "start_time": "2022-10-05T07:27:57.189Z"
   },
   {
    "duration": 5,
    "start_time": "2022-10-05T07:27:57.198Z"
   },
   {
    "duration": 7,
    "start_time": "2022-10-05T07:27:57.205Z"
   },
   {
    "duration": 4,
    "start_time": "2022-10-05T07:27:57.215Z"
   },
   {
    "duration": 34,
    "start_time": "2022-10-05T07:27:57.221Z"
   },
   {
    "duration": 39,
    "start_time": "2022-10-05T07:27:57.257Z"
   },
   {
    "duration": 4,
    "start_time": "2022-10-05T07:27:57.298Z"
   },
   {
    "duration": 13,
    "start_time": "2022-10-05T07:27:57.303Z"
   },
   {
    "duration": 21,
    "start_time": "2022-10-05T07:27:57.317Z"
   },
   {
    "duration": 18,
    "start_time": "2022-10-05T07:27:57.340Z"
   },
   {
    "duration": 30,
    "start_time": "2022-10-05T07:27:57.359Z"
   },
   {
    "duration": 13,
    "start_time": "2022-10-05T07:27:57.391Z"
   },
   {
    "duration": 8,
    "start_time": "2022-10-05T07:27:57.406Z"
   },
   {
    "duration": 5,
    "start_time": "2022-10-05T07:27:57.415Z"
   },
   {
    "duration": 10,
    "start_time": "2022-10-05T07:27:57.421Z"
   },
   {
    "duration": 110,
    "start_time": "2022-10-05T07:27:57.433Z"
   },
   {
    "duration": 0,
    "start_time": "2022-10-05T07:27:57.545Z"
   },
   {
    "duration": 0,
    "start_time": "2022-10-05T07:27:57.546Z"
   },
   {
    "duration": 0,
    "start_time": "2022-10-05T07:27:57.547Z"
   },
   {
    "duration": 16,
    "start_time": "2022-10-05T07:29:11.592Z"
   },
   {
    "duration": 477,
    "start_time": "2022-10-05T07:29:42.917Z"
   },
   {
    "duration": 24,
    "start_time": "2022-10-05T07:29:43.397Z"
   },
   {
    "duration": 17,
    "start_time": "2022-10-05T07:29:43.423Z"
   },
   {
    "duration": 10,
    "start_time": "2022-10-05T07:29:43.442Z"
   },
   {
    "duration": 62,
    "start_time": "2022-10-05T07:29:43.454Z"
   },
   {
    "duration": 4,
    "start_time": "2022-10-05T07:29:43.517Z"
   },
   {
    "duration": 16,
    "start_time": "2022-10-05T07:29:43.522Z"
   },
   {
    "duration": 4,
    "start_time": "2022-10-05T07:29:43.540Z"
   },
   {
    "duration": 10,
    "start_time": "2022-10-05T07:29:43.546Z"
   },
   {
    "duration": 31,
    "start_time": "2022-10-05T07:29:43.560Z"
   },
   {
    "duration": 43,
    "start_time": "2022-10-05T07:29:43.593Z"
   },
   {
    "duration": 11,
    "start_time": "2022-10-05T07:29:43.638Z"
   },
   {
    "duration": 18,
    "start_time": "2022-10-05T07:29:43.651Z"
   },
   {
    "duration": 21,
    "start_time": "2022-10-05T07:29:43.671Z"
   },
   {
    "duration": 26,
    "start_time": "2022-10-05T07:29:43.694Z"
   },
   {
    "duration": 20,
    "start_time": "2022-10-05T07:29:43.722Z"
   },
   {
    "duration": 4,
    "start_time": "2022-10-05T07:29:43.744Z"
   },
   {
    "duration": 49,
    "start_time": "2022-10-05T07:29:43.750Z"
   },
   {
    "duration": 7,
    "start_time": "2022-10-05T07:29:43.801Z"
   },
   {
    "duration": 5,
    "start_time": "2022-10-05T07:29:43.810Z"
   },
   {
    "duration": 16,
    "start_time": "2022-10-05T07:29:43.817Z"
   },
   {
    "duration": 26,
    "start_time": "2022-10-05T07:29:43.836Z"
   },
   {
    "duration": 24,
    "start_time": "2022-10-05T07:29:43.865Z"
   },
   {
    "duration": 2,
    "start_time": "2022-10-05T07:29:43.891Z"
   },
   {
    "duration": 5,
    "start_time": "2022-10-05T07:29:43.895Z"
   },
   {
    "duration": 506,
    "start_time": "2022-10-05T07:31:34.696Z"
   },
   {
    "duration": 25,
    "start_time": "2022-10-05T07:31:35.204Z"
   },
   {
    "duration": 16,
    "start_time": "2022-10-05T07:31:35.231Z"
   },
   {
    "duration": 12,
    "start_time": "2022-10-05T07:31:35.249Z"
   },
   {
    "duration": 61,
    "start_time": "2022-10-05T07:31:35.263Z"
   },
   {
    "duration": 3,
    "start_time": "2022-10-05T07:31:35.326Z"
   },
   {
    "duration": 13,
    "start_time": "2022-10-05T07:31:35.331Z"
   },
   {
    "duration": 5,
    "start_time": "2022-10-05T07:31:35.346Z"
   },
   {
    "duration": 36,
    "start_time": "2022-10-05T07:31:35.353Z"
   },
   {
    "duration": 6,
    "start_time": "2022-10-05T07:31:35.393Z"
   },
   {
    "duration": 64,
    "start_time": "2022-10-05T07:31:35.401Z"
   },
   {
    "duration": 23,
    "start_time": "2022-10-05T07:31:35.467Z"
   },
   {
    "duration": 4,
    "start_time": "2022-10-05T07:31:35.492Z"
   },
   {
    "duration": 17,
    "start_time": "2022-10-05T07:31:35.498Z"
   },
   {
    "duration": 21,
    "start_time": "2022-10-05T07:31:35.517Z"
   },
   {
    "duration": 18,
    "start_time": "2022-10-05T07:31:35.539Z"
   },
   {
    "duration": 3,
    "start_time": "2022-10-05T07:31:35.559Z"
   },
   {
    "duration": 11,
    "start_time": "2022-10-05T07:31:35.589Z"
   },
   {
    "duration": 10,
    "start_time": "2022-10-05T07:31:35.602Z"
   },
   {
    "duration": 6,
    "start_time": "2022-10-05T07:31:35.614Z"
   },
   {
    "duration": 24,
    "start_time": "2022-10-05T07:31:35.621Z"
   },
   {
    "duration": 93,
    "start_time": "2022-10-05T07:31:35.647Z"
   },
   {
    "duration": 0,
    "start_time": "2022-10-05T07:31:35.742Z"
   },
   {
    "duration": 0,
    "start_time": "2022-10-05T07:31:35.743Z"
   },
   {
    "duration": 0,
    "start_time": "2022-10-05T07:31:35.744Z"
   },
   {
    "duration": 516,
    "start_time": "2022-10-05T07:31:45.113Z"
   },
   {
    "duration": 26,
    "start_time": "2022-10-05T07:31:45.631Z"
   },
   {
    "duration": 32,
    "start_time": "2022-10-05T07:31:45.659Z"
   },
   {
    "duration": 12,
    "start_time": "2022-10-05T07:31:45.693Z"
   },
   {
    "duration": 48,
    "start_time": "2022-10-05T07:31:45.707Z"
   },
   {
    "duration": 5,
    "start_time": "2022-10-05T07:31:45.756Z"
   },
   {
    "duration": 34,
    "start_time": "2022-10-05T07:31:45.762Z"
   },
   {
    "duration": 4,
    "start_time": "2022-10-05T07:31:45.798Z"
   },
   {
    "duration": 13,
    "start_time": "2022-10-05T07:31:45.804Z"
   },
   {
    "duration": 5,
    "start_time": "2022-10-05T07:31:45.819Z"
   },
   {
    "duration": 64,
    "start_time": "2022-10-05T07:31:45.826Z"
   },
   {
    "duration": 11,
    "start_time": "2022-10-05T07:31:45.891Z"
   },
   {
    "duration": 5,
    "start_time": "2022-10-05T07:31:45.904Z"
   },
   {
    "duration": 20,
    "start_time": "2022-10-05T07:31:45.911Z"
   },
   {
    "duration": 25,
    "start_time": "2022-10-05T07:31:45.932Z"
   },
   {
    "duration": 45,
    "start_time": "2022-10-05T07:31:45.959Z"
   },
   {
    "duration": 5,
    "start_time": "2022-10-05T07:31:46.006Z"
   },
   {
    "duration": 13,
    "start_time": "2022-10-05T07:31:46.013Z"
   },
   {
    "duration": 8,
    "start_time": "2022-10-05T07:31:46.028Z"
   },
   {
    "duration": 4,
    "start_time": "2022-10-05T07:31:46.038Z"
   },
   {
    "duration": 13,
    "start_time": "2022-10-05T07:31:46.044Z"
   },
   {
    "duration": 50,
    "start_time": "2022-10-05T07:31:46.059Z"
   },
   {
    "duration": 2,
    "start_time": "2022-10-05T07:31:46.111Z"
   },
   {
    "duration": 5,
    "start_time": "2022-10-05T07:31:46.115Z"
   },
   {
    "duration": 5,
    "start_time": "2022-10-05T07:31:46.121Z"
   },
   {
    "duration": 507,
    "start_time": "2022-10-05T07:34:59.564Z"
   },
   {
    "duration": 24,
    "start_time": "2022-10-05T07:35:00.073Z"
   },
   {
    "duration": 18,
    "start_time": "2022-10-05T07:35:00.098Z"
   },
   {
    "duration": 11,
    "start_time": "2022-10-05T07:35:00.118Z"
   },
   {
    "duration": 58,
    "start_time": "2022-10-05T07:35:00.131Z"
   },
   {
    "duration": 4,
    "start_time": "2022-10-05T07:35:00.191Z"
   },
   {
    "duration": 18,
    "start_time": "2022-10-05T07:35:00.197Z"
   },
   {
    "duration": 5,
    "start_time": "2022-10-05T07:35:00.217Z"
   },
   {
    "duration": 14,
    "start_time": "2022-10-05T07:35:00.223Z"
   },
   {
    "duration": 14,
    "start_time": "2022-10-05T07:35:00.240Z"
   },
   {
    "duration": 54,
    "start_time": "2022-10-05T07:35:00.256Z"
   },
   {
    "duration": 12,
    "start_time": "2022-10-05T07:35:00.312Z"
   },
   {
    "duration": 11,
    "start_time": "2022-10-05T07:35:00.326Z"
   },
   {
    "duration": 19,
    "start_time": "2022-10-05T07:35:00.339Z"
   },
   {
    "duration": 43,
    "start_time": "2022-10-05T07:35:00.360Z"
   },
   {
    "duration": 19,
    "start_time": "2022-10-05T07:35:00.405Z"
   },
   {
    "duration": 3,
    "start_time": "2022-10-05T07:35:00.426Z"
   },
   {
    "duration": 31,
    "start_time": "2022-10-05T07:35:00.431Z"
   },
   {
    "duration": 20,
    "start_time": "2022-10-05T07:35:00.464Z"
   },
   {
    "duration": 17,
    "start_time": "2022-10-05T07:35:00.486Z"
   },
   {
    "duration": 23,
    "start_time": "2022-10-05T07:35:00.505Z"
   },
   {
    "duration": 37,
    "start_time": "2022-10-05T07:35:00.530Z"
   },
   {
    "duration": 5,
    "start_time": "2022-10-05T07:35:00.569Z"
   },
   {
    "duration": 26,
    "start_time": "2022-10-05T07:35:00.575Z"
   },
   {
    "duration": 26,
    "start_time": "2022-10-05T07:35:00.603Z"
   },
   {
    "duration": 504,
    "start_time": "2022-10-05T07:41:59.329Z"
   },
   {
    "duration": 23,
    "start_time": "2022-10-05T07:41:59.835Z"
   },
   {
    "duration": 23,
    "start_time": "2022-10-05T07:41:59.860Z"
   },
   {
    "duration": 15,
    "start_time": "2022-10-05T07:41:59.889Z"
   },
   {
    "duration": 41,
    "start_time": "2022-10-05T07:41:59.906Z"
   },
   {
    "duration": 3,
    "start_time": "2022-10-05T07:41:59.949Z"
   },
   {
    "duration": 21,
    "start_time": "2022-10-05T07:41:59.954Z"
   },
   {
    "duration": 18,
    "start_time": "2022-10-05T07:41:59.978Z"
   },
   {
    "duration": 34,
    "start_time": "2022-10-05T07:41:59.998Z"
   },
   {
    "duration": 31,
    "start_time": "2022-10-05T07:42:00.037Z"
   },
   {
    "duration": 61,
    "start_time": "2022-10-05T07:42:00.070Z"
   },
   {
    "duration": 12,
    "start_time": "2022-10-05T07:42:00.133Z"
   },
   {
    "duration": 13,
    "start_time": "2022-10-05T07:42:00.147Z"
   },
   {
    "duration": 28,
    "start_time": "2022-10-05T07:42:00.162Z"
   },
   {
    "duration": 30,
    "start_time": "2022-10-05T07:42:00.192Z"
   },
   {
    "duration": 58,
    "start_time": "2022-10-05T07:42:00.224Z"
   },
   {
    "duration": 32,
    "start_time": "2022-10-05T07:42:00.284Z"
   },
   {
    "duration": 43,
    "start_time": "2022-10-05T07:42:00.318Z"
   },
   {
    "duration": 33,
    "start_time": "2022-10-05T07:42:00.363Z"
   },
   {
    "duration": 22,
    "start_time": "2022-10-05T07:42:00.398Z"
   },
   {
    "duration": 51,
    "start_time": "2022-10-05T07:42:00.422Z"
   },
   {
    "duration": 1366,
    "start_time": "2022-10-05T07:42:00.475Z"
   },
   {
    "duration": 0,
    "start_time": "2022-10-05T07:42:01.844Z"
   },
   {
    "duration": 0,
    "start_time": "2022-10-05T07:42:01.846Z"
   },
   {
    "duration": 0,
    "start_time": "2022-10-05T07:42:01.848Z"
   },
   {
    "duration": 521,
    "start_time": "2022-10-05T07:42:18.274Z"
   },
   {
    "duration": 24,
    "start_time": "2022-10-05T07:42:18.797Z"
   },
   {
    "duration": 26,
    "start_time": "2022-10-05T07:42:18.822Z"
   },
   {
    "duration": 17,
    "start_time": "2022-10-05T07:42:18.850Z"
   },
   {
    "duration": 50,
    "start_time": "2022-10-05T07:42:18.868Z"
   },
   {
    "duration": 3,
    "start_time": "2022-10-05T07:42:18.920Z"
   },
   {
    "duration": 24,
    "start_time": "2022-10-05T07:42:18.924Z"
   },
   {
    "duration": 27,
    "start_time": "2022-10-05T07:42:18.950Z"
   },
   {
    "duration": 16,
    "start_time": "2022-10-05T07:42:18.979Z"
   },
   {
    "duration": 9,
    "start_time": "2022-10-05T07:42:18.997Z"
   },
   {
    "duration": 53,
    "start_time": "2022-10-05T07:42:19.008Z"
   },
   {
    "duration": 10,
    "start_time": "2022-10-05T07:42:19.063Z"
   },
   {
    "duration": 21,
    "start_time": "2022-10-05T07:42:19.074Z"
   },
   {
    "duration": 31,
    "start_time": "2022-10-05T07:42:19.097Z"
   },
   {
    "duration": 29,
    "start_time": "2022-10-05T07:42:19.130Z"
   },
   {
    "duration": 19,
    "start_time": "2022-10-05T07:42:19.161Z"
   },
   {
    "duration": 15,
    "start_time": "2022-10-05T07:42:19.182Z"
   },
   {
    "duration": 25,
    "start_time": "2022-10-05T07:42:19.198Z"
   },
   {
    "duration": 19,
    "start_time": "2022-10-05T07:42:19.225Z"
   },
   {
    "duration": 25,
    "start_time": "2022-10-05T07:42:19.246Z"
   },
   {
    "duration": 39,
    "start_time": "2022-10-05T07:42:19.274Z"
   },
   {
    "duration": 54,
    "start_time": "2022-10-05T07:42:19.315Z"
   },
   {
    "duration": 31,
    "start_time": "2022-10-05T07:42:19.370Z"
   },
   {
    "duration": 2,
    "start_time": "2022-10-05T07:42:19.403Z"
   },
   {
    "duration": 20,
    "start_time": "2022-10-05T07:42:19.407Z"
   },
   {
    "duration": 469,
    "start_time": "2022-10-05T07:46:19.924Z"
   },
   {
    "duration": 24,
    "start_time": "2022-10-05T07:46:20.395Z"
   },
   {
    "duration": 18,
    "start_time": "2022-10-05T07:46:20.421Z"
   },
   {
    "duration": 11,
    "start_time": "2022-10-05T07:46:20.441Z"
   },
   {
    "duration": 62,
    "start_time": "2022-10-05T07:46:20.454Z"
   },
   {
    "duration": 4,
    "start_time": "2022-10-05T07:46:20.518Z"
   },
   {
    "duration": 10,
    "start_time": "2022-10-05T07:46:20.524Z"
   },
   {
    "duration": 6,
    "start_time": "2022-10-05T07:46:20.536Z"
   },
   {
    "duration": 9,
    "start_time": "2022-10-05T07:46:20.543Z"
   },
   {
    "duration": 4,
    "start_time": "2022-10-05T07:46:20.555Z"
   },
   {
    "duration": 36,
    "start_time": "2022-10-05T07:46:20.589Z"
   },
   {
    "duration": 11,
    "start_time": "2022-10-05T07:46:20.627Z"
   },
   {
    "duration": 17,
    "start_time": "2022-10-05T07:46:20.640Z"
   },
   {
    "duration": 30,
    "start_time": "2022-10-05T07:46:20.659Z"
   },
   {
    "duration": 22,
    "start_time": "2022-10-05T07:46:20.691Z"
   },
   {
    "duration": 19,
    "start_time": "2022-10-05T07:46:20.715Z"
   },
   {
    "duration": 4,
    "start_time": "2022-10-05T07:46:20.736Z"
   },
   {
    "duration": 34,
    "start_time": "2022-10-05T07:46:20.742Z"
   },
   {
    "duration": 13,
    "start_time": "2022-10-05T07:46:20.778Z"
   },
   {
    "duration": 4,
    "start_time": "2022-10-05T07:46:20.793Z"
   },
   {
    "duration": 19,
    "start_time": "2022-10-05T07:46:20.799Z"
   },
   {
    "duration": 32,
    "start_time": "2022-10-05T07:46:20.820Z"
   },
   {
    "duration": 2,
    "start_time": "2022-10-05T07:46:20.854Z"
   },
   {
    "duration": 5,
    "start_time": "2022-10-05T07:46:20.858Z"
   },
   {
    "duration": 8,
    "start_time": "2022-10-05T07:46:20.864Z"
   },
   {
    "duration": 508,
    "start_time": "2022-10-05T07:47:58.795Z"
   },
   {
    "duration": 24,
    "start_time": "2022-10-05T07:47:59.305Z"
   },
   {
    "duration": 19,
    "start_time": "2022-10-05T07:47:59.332Z"
   },
   {
    "duration": 11,
    "start_time": "2022-10-05T07:47:59.354Z"
   },
   {
    "duration": 51,
    "start_time": "2022-10-05T07:47:59.388Z"
   },
   {
    "duration": 3,
    "start_time": "2022-10-05T07:47:59.442Z"
   },
   {
    "duration": 13,
    "start_time": "2022-10-05T07:47:59.447Z"
   },
   {
    "duration": 4,
    "start_time": "2022-10-05T07:47:59.462Z"
   },
   {
    "duration": 27,
    "start_time": "2022-10-05T07:47:59.468Z"
   },
   {
    "duration": 5,
    "start_time": "2022-10-05T07:47:59.498Z"
   },
   {
    "duration": 37,
    "start_time": "2022-10-05T07:47:59.505Z"
   },
   {
    "duration": 11,
    "start_time": "2022-10-05T07:47:59.544Z"
   },
   {
    "duration": 4,
    "start_time": "2022-10-05T07:47:59.556Z"
   },
   {
    "duration": 40,
    "start_time": "2022-10-05T07:47:59.562Z"
   },
   {
    "duration": 22,
    "start_time": "2022-10-05T07:47:59.604Z"
   },
   {
    "duration": 19,
    "start_time": "2022-10-05T07:47:59.630Z"
   },
   {
    "duration": 3,
    "start_time": "2022-10-05T07:47:59.651Z"
   },
   {
    "duration": 36,
    "start_time": "2022-10-05T07:47:59.656Z"
   },
   {
    "duration": 10,
    "start_time": "2022-10-05T07:47:59.693Z"
   },
   {
    "duration": 5,
    "start_time": "2022-10-05T07:47:59.704Z"
   },
   {
    "duration": 11,
    "start_time": "2022-10-05T07:47:59.711Z"
   },
   {
    "duration": 31,
    "start_time": "2022-10-05T07:47:59.724Z"
   },
   {
    "duration": 47,
    "start_time": "2022-10-05T07:47:59.757Z"
   },
   {
    "duration": 3,
    "start_time": "2022-10-05T07:47:59.806Z"
   },
   {
    "duration": 6,
    "start_time": "2022-10-05T07:47:59.810Z"
   },
   {
    "duration": 482,
    "start_time": "2022-10-05T07:49:12.596Z"
   },
   {
    "duration": 23,
    "start_time": "2022-10-05T07:49:13.080Z"
   },
   {
    "duration": 19,
    "start_time": "2022-10-05T07:49:13.105Z"
   },
   {
    "duration": 12,
    "start_time": "2022-10-05T07:49:13.126Z"
   },
   {
    "duration": 56,
    "start_time": "2022-10-05T07:49:13.140Z"
   },
   {
    "duration": 3,
    "start_time": "2022-10-05T07:49:13.198Z"
   },
   {
    "duration": 21,
    "start_time": "2022-10-05T07:49:13.204Z"
   },
   {
    "duration": 12,
    "start_time": "2022-10-05T07:49:13.227Z"
   },
   {
    "duration": 29,
    "start_time": "2022-10-05T07:49:13.241Z"
   },
   {
    "duration": 24,
    "start_time": "2022-10-05T07:49:13.273Z"
   },
   {
    "duration": 60,
    "start_time": "2022-10-05T07:49:13.299Z"
   },
   {
    "duration": 11,
    "start_time": "2022-10-05T07:49:13.361Z"
   },
   {
    "duration": 16,
    "start_time": "2022-10-05T07:49:13.374Z"
   },
   {
    "duration": 31,
    "start_time": "2022-10-05T07:49:13.393Z"
   },
   {
    "duration": 31,
    "start_time": "2022-10-05T07:49:13.426Z"
   },
   {
    "duration": 18,
    "start_time": "2022-10-05T07:49:13.459Z"
   },
   {
    "duration": 4,
    "start_time": "2022-10-05T07:49:13.479Z"
   },
   {
    "duration": 30,
    "start_time": "2022-10-05T07:49:13.485Z"
   },
   {
    "duration": 18,
    "start_time": "2022-10-05T07:49:13.517Z"
   },
   {
    "duration": 6,
    "start_time": "2022-10-05T07:49:13.537Z"
   },
   {
    "duration": 25,
    "start_time": "2022-10-05T07:49:13.545Z"
   },
   {
    "duration": 41,
    "start_time": "2022-10-05T07:49:13.572Z"
   },
   {
    "duration": 30,
    "start_time": "2022-10-05T07:49:13.615Z"
   },
   {
    "duration": 2,
    "start_time": "2022-10-05T07:49:13.647Z"
   },
   {
    "duration": 17,
    "start_time": "2022-10-05T07:49:13.650Z"
   },
   {
    "duration": 396,
    "start_time": "2022-10-05T07:51:01.329Z"
   },
   {
    "duration": 53,
    "start_time": "2022-10-05T07:51:10.989Z"
   },
   {
    "duration": 490,
    "start_time": "2022-10-05T07:55:48.495Z"
   },
   {
    "duration": 23,
    "start_time": "2022-10-05T07:55:48.987Z"
   },
   {
    "duration": 17,
    "start_time": "2022-10-05T07:55:49.012Z"
   },
   {
    "duration": 11,
    "start_time": "2022-10-05T07:55:49.031Z"
   },
   {
    "duration": 55,
    "start_time": "2022-10-05T07:55:49.044Z"
   },
   {
    "duration": 4,
    "start_time": "2022-10-05T07:55:49.100Z"
   },
   {
    "duration": 14,
    "start_time": "2022-10-05T07:55:49.105Z"
   },
   {
    "duration": 9,
    "start_time": "2022-10-05T07:55:49.120Z"
   },
   {
    "duration": 13,
    "start_time": "2022-10-05T07:55:49.130Z"
   },
   {
    "duration": 11,
    "start_time": "2022-10-05T07:55:49.146Z"
   },
   {
    "duration": 51,
    "start_time": "2022-10-05T07:55:49.159Z"
   },
   {
    "duration": 10,
    "start_time": "2022-10-05T07:55:49.212Z"
   },
   {
    "duration": 6,
    "start_time": "2022-10-05T07:55:49.224Z"
   },
   {
    "duration": 13,
    "start_time": "2022-10-05T07:55:49.232Z"
   },
   {
    "duration": 44,
    "start_time": "2022-10-05T07:55:49.246Z"
   },
   {
    "duration": 20,
    "start_time": "2022-10-05T07:55:49.292Z"
   },
   {
    "duration": 5,
    "start_time": "2022-10-05T07:55:49.313Z"
   },
   {
    "duration": 30,
    "start_time": "2022-10-05T07:55:49.319Z"
   },
   {
    "duration": 8,
    "start_time": "2022-10-05T07:55:49.352Z"
   },
   {
    "duration": 10,
    "start_time": "2022-10-05T07:55:49.362Z"
   },
   {
    "duration": 17,
    "start_time": "2022-10-05T07:55:49.374Z"
   },
   {
    "duration": 35,
    "start_time": "2022-10-05T07:55:49.393Z"
   },
   {
    "duration": 30,
    "start_time": "2022-10-05T07:55:49.430Z"
   },
   {
    "duration": 42,
    "start_time": "2022-10-05T07:55:49.461Z"
   },
   {
    "duration": 2,
    "start_time": "2022-10-05T07:55:49.504Z"
   },
   {
    "duration": 450,
    "start_time": "2022-10-05T08:20:39.139Z"
   },
   {
    "duration": 22,
    "start_time": "2022-10-05T08:20:39.591Z"
   },
   {
    "duration": 15,
    "start_time": "2022-10-05T08:20:39.614Z"
   },
   {
    "duration": 10,
    "start_time": "2022-10-05T08:20:39.631Z"
   },
   {
    "duration": 60,
    "start_time": "2022-10-05T08:20:39.643Z"
   },
   {
    "duration": 3,
    "start_time": "2022-10-05T08:20:39.705Z"
   },
   {
    "duration": 10,
    "start_time": "2022-10-05T08:20:39.709Z"
   },
   {
    "duration": 7,
    "start_time": "2022-10-05T08:20:39.721Z"
   },
   {
    "duration": 8,
    "start_time": "2022-10-05T08:20:39.729Z"
   },
   {
    "duration": 6,
    "start_time": "2022-10-05T08:20:39.740Z"
   },
   {
    "duration": 67,
    "start_time": "2022-10-05T08:20:39.748Z"
   },
   {
    "duration": 11,
    "start_time": "2022-10-05T08:20:39.817Z"
   },
   {
    "duration": 7,
    "start_time": "2022-10-05T08:20:39.830Z"
   },
   {
    "duration": 12,
    "start_time": "2022-10-05T08:20:39.838Z"
   },
   {
    "duration": 40,
    "start_time": "2022-10-05T08:20:39.852Z"
   },
   {
    "duration": 17,
    "start_time": "2022-10-05T08:20:39.894Z"
   },
   {
    "duration": 3,
    "start_time": "2022-10-05T08:20:39.913Z"
   },
   {
    "duration": 15,
    "start_time": "2022-10-05T08:20:39.918Z"
   },
   {
    "duration": 6,
    "start_time": "2022-10-05T08:20:39.934Z"
   },
   {
    "duration": 5,
    "start_time": "2022-10-05T08:20:39.942Z"
   },
   {
    "duration": 14,
    "start_time": "2022-10-05T08:20:39.948Z"
   },
   {
    "duration": 51,
    "start_time": "2022-10-05T08:20:39.964Z"
   },
   {
    "duration": 32,
    "start_time": "2022-10-05T08:20:40.017Z"
   },
   {
    "duration": 52,
    "start_time": "2022-10-05T08:20:40.051Z"
   },
   {
    "duration": 544,
    "start_time": "2022-10-05T08:20:40.104Z"
   },
   {
    "duration": 477,
    "start_time": "2022-10-05T08:21:07.230Z"
   },
   {
    "duration": 24,
    "start_time": "2022-10-05T08:21:07.709Z"
   },
   {
    "duration": 18,
    "start_time": "2022-10-05T08:21:07.734Z"
   },
   {
    "duration": 14,
    "start_time": "2022-10-05T08:21:07.754Z"
   },
   {
    "duration": 35,
    "start_time": "2022-10-05T08:21:07.790Z"
   },
   {
    "duration": 3,
    "start_time": "2022-10-05T08:21:07.827Z"
   },
   {
    "duration": 13,
    "start_time": "2022-10-05T08:21:07.832Z"
   },
   {
    "duration": 11,
    "start_time": "2022-10-05T08:21:07.847Z"
   },
   {
    "duration": 37,
    "start_time": "2022-10-05T08:21:07.860Z"
   },
   {
    "duration": 5,
    "start_time": "2022-10-05T08:21:07.901Z"
   },
   {
    "duration": 42,
    "start_time": "2022-10-05T08:21:07.908Z"
   },
   {
    "duration": 10,
    "start_time": "2022-10-05T08:21:07.952Z"
   },
   {
    "duration": 11,
    "start_time": "2022-10-05T08:21:07.963Z"
   },
   {
    "duration": 24,
    "start_time": "2022-10-05T08:21:07.976Z"
   },
   {
    "duration": 19,
    "start_time": "2022-10-05T08:21:08.002Z"
   },
   {
    "duration": 18,
    "start_time": "2022-10-05T08:21:08.022Z"
   },
   {
    "duration": 4,
    "start_time": "2022-10-05T08:21:08.041Z"
   },
   {
    "duration": 12,
    "start_time": "2022-10-05T08:21:08.047Z"
   },
   {
    "duration": 31,
    "start_time": "2022-10-05T08:21:08.061Z"
   },
   {
    "duration": 5,
    "start_time": "2022-10-05T08:21:08.093Z"
   },
   {
    "duration": 17,
    "start_time": "2022-10-05T08:21:08.100Z"
   },
   {
    "duration": 29,
    "start_time": "2022-10-05T08:21:08.118Z"
   },
   {
    "duration": 47,
    "start_time": "2022-10-05T08:21:08.148Z"
   },
   {
    "duration": 30,
    "start_time": "2022-10-05T08:21:08.197Z"
   },
   {
    "duration": 34,
    "start_time": "2022-10-05T08:21:08.228Z"
   },
   {
    "duration": 502,
    "start_time": "2022-10-05T08:37:08.394Z"
   },
   {
    "duration": 24,
    "start_time": "2022-10-05T08:37:08.898Z"
   },
   {
    "duration": 18,
    "start_time": "2022-10-05T08:37:08.924Z"
   },
   {
    "duration": 12,
    "start_time": "2022-10-05T08:37:08.944Z"
   },
   {
    "duration": 65,
    "start_time": "2022-10-05T08:37:08.957Z"
   },
   {
    "duration": 4,
    "start_time": "2022-10-05T08:37:09.024Z"
   },
   {
    "duration": 14,
    "start_time": "2022-10-05T08:37:09.030Z"
   },
   {
    "duration": 5,
    "start_time": "2022-10-05T08:37:09.045Z"
   },
   {
    "duration": 13,
    "start_time": "2022-10-05T08:37:09.052Z"
   },
   {
    "duration": 4,
    "start_time": "2022-10-05T08:37:09.090Z"
   },
   {
    "duration": 54,
    "start_time": "2022-10-05T08:37:09.096Z"
   },
   {
    "duration": 10,
    "start_time": "2022-10-05T08:37:09.152Z"
   },
   {
    "duration": 10,
    "start_time": "2022-10-05T08:37:09.164Z"
   },
   {
    "duration": 22,
    "start_time": "2022-10-05T08:37:09.176Z"
   },
   {
    "duration": 25,
    "start_time": "2022-10-05T08:37:09.200Z"
   },
   {
    "duration": 20,
    "start_time": "2022-10-05T08:37:09.227Z"
   },
   {
    "duration": 4,
    "start_time": "2022-10-05T08:37:09.249Z"
   },
   {
    "duration": 34,
    "start_time": "2022-10-05T08:37:09.255Z"
   },
   {
    "duration": 9,
    "start_time": "2022-10-05T08:37:09.291Z"
   },
   {
    "duration": 9,
    "start_time": "2022-10-05T08:37:09.301Z"
   },
   {
    "duration": 15,
    "start_time": "2022-10-05T08:37:09.312Z"
   },
   {
    "duration": 36,
    "start_time": "2022-10-05T08:37:09.329Z"
   },
   {
    "duration": 50,
    "start_time": "2022-10-05T08:37:09.367Z"
   },
   {
    "duration": 30,
    "start_time": "2022-10-05T08:37:09.419Z"
   },
   {
    "duration": 56,
    "start_time": "2022-10-05T08:37:09.451Z"
   },
   {
    "duration": 692,
    "start_time": "2022-10-06T14:22:02.986Z"
   },
   {
    "duration": 23,
    "start_time": "2022-10-06T14:22:03.680Z"
   },
   {
    "duration": 15,
    "start_time": "2022-10-06T14:22:03.704Z"
   },
   {
    "duration": 9,
    "start_time": "2022-10-06T14:22:03.721Z"
   },
   {
    "duration": 49,
    "start_time": "2022-10-06T14:22:03.731Z"
   },
   {
    "duration": 4,
    "start_time": "2022-10-06T14:22:03.782Z"
   },
   {
    "duration": 10,
    "start_time": "2022-10-06T14:22:03.788Z"
   },
   {
    "duration": 5,
    "start_time": "2022-10-06T14:22:03.800Z"
   },
   {
    "duration": 9,
    "start_time": "2022-10-06T14:22:03.807Z"
   },
   {
    "duration": 4,
    "start_time": "2022-10-06T14:22:03.820Z"
   },
   {
    "duration": 70,
    "start_time": "2022-10-06T14:22:03.826Z"
   },
   {
    "duration": 9,
    "start_time": "2022-10-06T14:22:03.897Z"
   },
   {
    "duration": 9,
    "start_time": "2022-10-06T14:22:03.908Z"
   },
   {
    "duration": 18,
    "start_time": "2022-10-06T14:22:03.918Z"
   },
   {
    "duration": 27,
    "start_time": "2022-10-06T14:22:03.938Z"
   },
   {
    "duration": 18,
    "start_time": "2022-10-06T14:22:03.966Z"
   },
   {
    "duration": 3,
    "start_time": "2022-10-06T14:22:03.986Z"
   },
   {
    "duration": 16,
    "start_time": "2022-10-06T14:22:03.991Z"
   },
   {
    "duration": 13,
    "start_time": "2022-10-06T14:22:04.009Z"
   },
   {
    "duration": 4,
    "start_time": "2022-10-06T14:22:04.024Z"
   },
   {
    "duration": 28,
    "start_time": "2022-10-06T14:22:04.029Z"
   },
   {
    "duration": 33,
    "start_time": "2022-10-06T14:22:04.058Z"
   },
   {
    "duration": 29,
    "start_time": "2022-10-06T14:22:04.092Z"
   },
   {
    "duration": 46,
    "start_time": "2022-10-06T14:22:04.123Z"
   },
   {
    "duration": 29,
    "start_time": "2022-10-06T14:22:04.170Z"
   },
   {
    "duration": 513,
    "start_time": "2022-10-06T18:56:43.628Z"
   },
   {
    "duration": 23,
    "start_time": "2022-10-06T18:56:44.143Z"
   },
   {
    "duration": 23,
    "start_time": "2022-10-06T18:56:44.168Z"
   },
   {
    "duration": 11,
    "start_time": "2022-10-06T18:56:44.193Z"
   },
   {
    "duration": 45,
    "start_time": "2022-10-06T18:56:44.206Z"
   },
   {
    "duration": 3,
    "start_time": "2022-10-06T18:56:44.253Z"
   },
   {
    "duration": 15,
    "start_time": "2022-10-06T18:56:44.258Z"
   },
   {
    "duration": 6,
    "start_time": "2022-10-06T18:56:44.289Z"
   },
   {
    "duration": 12,
    "start_time": "2022-10-06T18:56:44.297Z"
   },
   {
    "duration": 6,
    "start_time": "2022-10-06T18:56:44.311Z"
   },
   {
    "duration": 39,
    "start_time": "2022-10-06T18:56:44.318Z"
   },
   {
    "duration": 32,
    "start_time": "2022-10-06T18:56:44.359Z"
   },
   {
    "duration": 5,
    "start_time": "2022-10-06T18:56:44.392Z"
   },
   {
    "duration": 15,
    "start_time": "2022-10-06T18:56:44.399Z"
   },
   {
    "duration": 22,
    "start_time": "2022-10-06T18:56:44.416Z"
   },
   {
    "duration": 17,
    "start_time": "2022-10-06T18:56:44.440Z"
   },
   {
    "duration": 31,
    "start_time": "2022-10-06T18:56:44.459Z"
   },
   {
    "duration": 11,
    "start_time": "2022-10-06T18:56:44.492Z"
   },
   {
    "duration": 9,
    "start_time": "2022-10-06T18:56:44.506Z"
   },
   {
    "duration": 5,
    "start_time": "2022-10-06T18:56:44.516Z"
   },
   {
    "duration": 12,
    "start_time": "2022-10-06T18:56:44.523Z"
   },
   {
    "duration": 57,
    "start_time": "2022-10-06T18:56:44.537Z"
   },
   {
    "duration": 35,
    "start_time": "2022-10-06T18:56:44.596Z"
   },
   {
    "duration": 33,
    "start_time": "2022-10-06T18:56:44.633Z"
   },
   {
    "duration": 56,
    "start_time": "2022-10-06T18:56:44.667Z"
   }
  ],
  "colab": {
   "name": "dpp_template_part2.ipynb",
   "provenance": []
  },
  "kernelspec": {
   "display_name": "Python 3 (ipykernel)",
   "language": "python",
   "name": "python3"
  },
  "language_info": {
   "codemirror_mode": {
    "name": "ipython",
    "version": 3
   },
   "file_extension": ".py",
   "mimetype": "text/x-python",
   "name": "python",
   "nbconvert_exporter": "python",
   "pygments_lexer": "ipython3",
   "version": "3.9.12"
  },
  "toc": {
   "base_numbering": 1,
   "nav_menu": {},
   "number_sections": true,
   "sideBar": true,
   "skip_h1_title": true,
   "title_cell": "Table of Contents",
   "title_sidebar": "Contents",
   "toc_cell": false,
   "toc_position": {},
   "toc_section_display": true,
   "toc_window_display": false
  }
 },
 "nbformat": 4,
 "nbformat_minor": 5
}
