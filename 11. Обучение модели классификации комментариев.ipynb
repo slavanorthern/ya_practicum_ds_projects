{
 "cells": [
  {
   "cell_type": "markdown",
   "metadata": {
    "toc": true
   },
   "source": [
    "<h1>Содержание<span class=\"tocSkip\"></span></h1>\n",
    "<div class=\"toc\"><ul class=\"toc-item\"><li><span><a href=\"#Подготовка\" data-toc-modified-id=\"Подготовка-1\"><span class=\"toc-item-num\">1&nbsp;&nbsp;</span>Подготовка</a></span></li><li><span><a href=\"#Обучение\" data-toc-modified-id=\"Обучение-2\"><span class=\"toc-item-num\">2&nbsp;&nbsp;</span>Обучение</a></span></li><li><span><a href=\"#Выводы\" data-toc-modified-id=\"Выводы-3\"><span class=\"toc-item-num\">3&nbsp;&nbsp;</span>Выводы</a></span></li><li><span><a href=\"#Чек-лист-проверки\" data-toc-modified-id=\"Чек-лист-проверки-4\"><span class=\"toc-item-num\">4&nbsp;&nbsp;</span>Чек-лист проверки</a></span></li></ul></div>"
   ]
  },
  {
   "cell_type": "markdown",
   "metadata": {},
   "source": [
    "# Проект для «Викишоп»"
   ]
  },
  {
   "cell_type": "markdown",
   "metadata": {},
   "source": [
    "Интернет-магазин «Викишоп» запускает новый сервис. Теперь пользователи могут редактировать и дополнять описания товаров, как в вики-сообществах. То есть клиенты предлагают свои правки и комментируют изменения других. Магазину нужен инструмент, который будет искать токсичные комментарии и отправлять их на модерацию. \n",
    "\n",
    "Обучите модель классифицировать комментарии на позитивные и негативные. В вашем распоряжении набор данных с разметкой о токсичности правок.\n",
    "\n",
    "Постройте модель со значением метрики качества *F1* не меньше 0.75. \n",
    "\n",
    "**Инструкция по выполнению проекта**\n",
    "\n",
    "1. Загрузите и подготовьте данные.\n",
    "2. Обучите разные модели. \n",
    "3. Сделайте выводы.\n",
    "\n",
    "Для выполнения проекта применять *BERT* необязательно, но вы можете попробовать.\n",
    "\n",
    "**Описание данных**\n",
    "\n",
    "Данные находятся в файле `toxic_comments.csv`. Столбец *text* в нём содержит текст комментария, а *toxic* — целевой признак."
   ]
  },
  {
   "cell_type": "markdown",
   "metadata": {},
   "source": [
    "## Подготовка"
   ]
  },
  {
   "cell_type": "markdown",
   "metadata": {},
   "source": [
    "Импортируем необходимые библиотеки, модели, метрики:"
   ]
  },
  {
   "cell_type": "code",
   "execution_count": 1,
   "metadata": {},
   "outputs": [
    {
     "name": "stderr",
     "output_type": "stream",
     "text": [
      "[nltk_data] Downloading package stopwords to /home/jovyan/nltk_data...\n",
      "[nltk_data]   Package stopwords is already up-to-date!\n",
      "[nltk_data] Downloading package wordnet to /home/jovyan/nltk_data...\n",
      "[nltk_data]   Package wordnet is already up-to-date!\n",
      "[nltk_data] Downloading package punkt to /home/jovyan/nltk_data...\n",
      "[nltk_data]   Package punkt is already up-to-date!\n"
     ]
    }
   ],
   "source": [
    "import numpy as np\n",
    "import pandas as pd\n",
    "import matplotlib.pyplot as plt\n",
    "import re\n",
    "import nltk\n",
    "\n",
    "from nltk.stem import WordNetLemmatizer\n",
    "from nltk.corpus import wordnet\n",
    "from nltk.corpus import stopwords as nltk_stopwords\n",
    "nltk.download('stopwords')\n",
    "nltk.download('wordnet')\n",
    "nltk.download('punkt')\n",
    "\n",
    "from sklearn.feature_extraction.text import CountVectorizer, TfidfVectorizer\n",
    "from sklearn.model_selection import train_test_split, cross_val_score, GridSearchCV\n",
    "\n",
    "from sklearn.linear_model import LogisticRegression\n",
    "from sklearn.ensemble import RandomForestClassifier\n",
    "from sklearn.tree import DecisionTreeClassifier\n",
    "from catboost import CatBoostClassifier\n",
    "from sklearn.metrics import f1_score\n",
    "from sklearn.utils import shuffle\n",
    "\n",
    "import warnings\n",
    "warnings.filterwarnings('ignore')"
   ]
  },
  {
   "cell_type": "markdown",
   "metadata": {},
   "source": [
    "Рассмотрим данные:"
   ]
  },
  {
   "cell_type": "code",
   "execution_count": 2,
   "metadata": {},
   "outputs": [],
   "source": [
    "original_data = pd.read_csv('/datasets/toxic_comments.csv', index_col=[0], parse_dates=[0])"
   ]
  },
  {
   "cell_type": "code",
   "execution_count": 3,
   "metadata": {},
   "outputs": [
    {
     "name": "stdout",
     "output_type": "stream",
     "text": [
      "<class 'pandas.core.frame.DataFrame'>\n",
      "Int64Index: 159292 entries, 0 to 159450\n",
      "Data columns (total 2 columns):\n",
      " #   Column  Non-Null Count   Dtype \n",
      "---  ------  --------------   ----- \n",
      " 0   text    159292 non-null  object\n",
      " 1   toxic   159292 non-null  int64 \n",
      "dtypes: int64(1), object(1)\n",
      "memory usage: 3.6+ MB\n"
     ]
    }
   ],
   "source": [
    "original_data.info()"
   ]
  },
  {
   "cell_type": "code",
   "execution_count": 4,
   "metadata": {},
   "outputs": [
    {
     "data": {
      "text/html": [
       "<div>\n",
       "<style scoped>\n",
       "    .dataframe tbody tr th:only-of-type {\n",
       "        vertical-align: middle;\n",
       "    }\n",
       "\n",
       "    .dataframe tbody tr th {\n",
       "        vertical-align: top;\n",
       "    }\n",
       "\n",
       "    .dataframe thead th {\n",
       "        text-align: right;\n",
       "    }\n",
       "</style>\n",
       "<table border=\"1\" class=\"dataframe\">\n",
       "  <thead>\n",
       "    <tr style=\"text-align: right;\">\n",
       "      <th></th>\n",
       "      <th>text</th>\n",
       "      <th>toxic</th>\n",
       "    </tr>\n",
       "  </thead>\n",
       "  <tbody>\n",
       "    <tr>\n",
       "      <th>0</th>\n",
       "      <td>Explanation\\nWhy the edits made under my usern...</td>\n",
       "      <td>0</td>\n",
       "    </tr>\n",
       "    <tr>\n",
       "      <th>1</th>\n",
       "      <td>D'aww! He matches this background colour I'm s...</td>\n",
       "      <td>0</td>\n",
       "    </tr>\n",
       "    <tr>\n",
       "      <th>2</th>\n",
       "      <td>Hey man, I'm really not trying to edit war. It...</td>\n",
       "      <td>0</td>\n",
       "    </tr>\n",
       "    <tr>\n",
       "      <th>3</th>\n",
       "      <td>\"\\nMore\\nI can't make any real suggestions on ...</td>\n",
       "      <td>0</td>\n",
       "    </tr>\n",
       "    <tr>\n",
       "      <th>4</th>\n",
       "      <td>You, sir, are my hero. Any chance you remember...</td>\n",
       "      <td>0</td>\n",
       "    </tr>\n",
       "  </tbody>\n",
       "</table>\n",
       "</div>"
      ],
      "text/plain": [
       "                                                text  toxic\n",
       "0  Explanation\\nWhy the edits made under my usern...      0\n",
       "1  D'aww! He matches this background colour I'm s...      0\n",
       "2  Hey man, I'm really not trying to edit war. It...      0\n",
       "3  \"\\nMore\\nI can't make any real suggestions on ...      0\n",
       "4  You, sir, are my hero. Any chance you remember...      0"
      ]
     },
     "execution_count": 4,
     "metadata": {},
     "output_type": "execute_result"
    }
   ],
   "source": [
    "original_data.head()"
   ]
  },
  {
   "cell_type": "code",
   "execution_count": 5,
   "metadata": {},
   "outputs": [
    {
     "data": {
      "text/plain": [
       "0"
      ]
     },
     "execution_count": 5,
     "metadata": {},
     "output_type": "execute_result"
    }
   ],
   "source": [
    "original_data.duplicated().sum()"
   ]
  },
  {
   "cell_type": "code",
   "execution_count": 6,
   "metadata": {},
   "outputs": [
    {
     "data": {
      "text/plain": [
       "text     0\n",
       "toxic    0\n",
       "dtype: int64"
      ]
     },
     "execution_count": 6,
     "metadata": {},
     "output_type": "execute_result"
    }
   ],
   "source": [
    "original_data.isna().sum()"
   ]
  },
  {
   "cell_type": "code",
   "execution_count": 7,
   "metadata": {},
   "outputs": [
    {
     "data": {
      "text/html": [
       "<div>\n",
       "<style scoped>\n",
       "    .dataframe tbody tr th:only-of-type {\n",
       "        vertical-align: middle;\n",
       "    }\n",
       "\n",
       "    .dataframe tbody tr th {\n",
       "        vertical-align: top;\n",
       "    }\n",
       "\n",
       "    .dataframe thead th {\n",
       "        text-align: right;\n",
       "    }\n",
       "</style>\n",
       "<table border=\"1\" class=\"dataframe\">\n",
       "  <thead>\n",
       "    <tr style=\"text-align: right;\">\n",
       "      <th></th>\n",
       "      <th>toxic</th>\n",
       "    </tr>\n",
       "  </thead>\n",
       "  <tbody>\n",
       "    <tr>\n",
       "      <th>count</th>\n",
       "      <td>159292.000000</td>\n",
       "    </tr>\n",
       "    <tr>\n",
       "      <th>mean</th>\n",
       "      <td>0.101612</td>\n",
       "    </tr>\n",
       "    <tr>\n",
       "      <th>std</th>\n",
       "      <td>0.302139</td>\n",
       "    </tr>\n",
       "    <tr>\n",
       "      <th>min</th>\n",
       "      <td>0.000000</td>\n",
       "    </tr>\n",
       "    <tr>\n",
       "      <th>25%</th>\n",
       "      <td>0.000000</td>\n",
       "    </tr>\n",
       "    <tr>\n",
       "      <th>50%</th>\n",
       "      <td>0.000000</td>\n",
       "    </tr>\n",
       "    <tr>\n",
       "      <th>75%</th>\n",
       "      <td>0.000000</td>\n",
       "    </tr>\n",
       "    <tr>\n",
       "      <th>max</th>\n",
       "      <td>1.000000</td>\n",
       "    </tr>\n",
       "  </tbody>\n",
       "</table>\n",
       "</div>"
      ],
      "text/plain": [
       "               toxic\n",
       "count  159292.000000\n",
       "mean        0.101612\n",
       "std         0.302139\n",
       "min         0.000000\n",
       "25%         0.000000\n",
       "50%         0.000000\n",
       "75%         0.000000\n",
       "max         1.000000"
      ]
     },
     "execution_count": 7,
     "metadata": {},
     "output_type": "execute_result"
    }
   ],
   "source": [
    "original_data.describe()"
   ]
  },
  {
   "cell_type": "markdown",
   "metadata": {},
   "source": [
    "Дубликаты и пропуски отсутствуют. Необходимо привести данные к нижнему регистру. Рассмотрим также  целевой признак."
   ]
  },
  {
   "cell_type": "code",
   "execution_count": 8,
   "metadata": {},
   "outputs": [],
   "source": [
    "data = pd.DataFrame(original_data)"
   ]
  },
  {
   "cell_type": "code",
   "execution_count": 9,
   "metadata": {},
   "outputs": [],
   "source": [
    "data['text'] = data['text'].str.lower()"
   ]
  },
  {
   "cell_type": "code",
   "execution_count": 10,
   "metadata": {},
   "outputs": [
    {
     "data": {
      "text/plain": [
       "0    143106\n",
       "1     16186\n",
       "Name: toxic, dtype: int64"
      ]
     },
     "execution_count": 10,
     "metadata": {},
     "output_type": "execute_result"
    }
   ],
   "source": [
    "data.toxic.value_counts()"
   ]
  },
  {
   "cell_type": "code",
   "execution_count": 11,
   "metadata": {},
   "outputs": [
    {
     "data": {
      "image/png": "[encoded data removed]",
      "text/plain": [
       "<Figure size 432x288 with 1 Axes>"
      ]
     },
     "metadata": {
      "needs_background": "light"
     },
     "output_type": "display_data"
    }
   ],
   "source": [
    "data['toxic'].hist()\n",
    "plt.title('Баланс целевого признака')\n",
    "plt.ylabel('Количество сообщений')\n",
    "\n",
    "plt.show()"
   ]
  },
  {
   "cell_type": "markdown",
   "metadata": {},
   "source": [
    "Наблюдается сильный дисбаланс целевого признака, необходимо учесть в дальнейшем. Напишем функцию для лемматизации. Язык текста - английский.   \n"
   ]
  },
  {
   "cell_type": "markdown",
   "metadata": {},
   "source": [
    "<div class=\"alert alert-success\">\n",
    "<b>1 Комментарий ревьюера ✔️:</b> Верно!"
   ]
  },
  {
   "cell_type": "code",
   "execution_count": 12,
   "metadata": {},
   "outputs": [],
   "source": [
    "lemmatizer = WordNetLemmatizer()\n",
    "\n",
    "def clean_text(text):\n",
    "    clean = \" \".join(re.sub(r'[^a-zA-z]', ' ', text).lower().split())\n",
    "    word_list = nltk.word_tokenize(clean)\n",
    "    lemmatized_output = ' '.join([lemmatizer.lemmatize(w) for w in word_list])    \n",
    "    return lemmatized_output"
   ]
  },
  {
   "cell_type": "markdown",
   "metadata": {},
   "source": [
    "\n",
    "<div class=\"alert alert-success\">\n",
    "<b>1 Комментарий ревьюера ✔️:</b> \n",
    "    \n",
    "Есть лемматизация и очистка\n",
    "    \n",
    "https://webdevblog.ru/podhody-lemmatizacii-s-primerami-v-python/ - интересная статья по лемматизаторам"
   ]
  },
  {
   "cell_type": "markdown",
   "metadata": {},
   "source": [
    "Применим функцию с столбцу с комментариями. "
   ]
  },
  {
   "cell_type": "code",
   "execution_count": 13,
   "metadata": {},
   "outputs": [],
   "source": [
    "data['text'] = data['text'].apply(clean_text)"
   ]
  },
  {
   "cell_type": "code",
   "execution_count": 14,
   "metadata": {},
   "outputs": [
    {
     "data": {
      "text/html": [
       "<div>\n",
       "<style scoped>\n",
       "    .dataframe tbody tr th:only-of-type {\n",
       "        vertical-align: middle;\n",
       "    }\n",
       "\n",
       "    .dataframe tbody tr th {\n",
       "        vertical-align: top;\n",
       "    }\n",
       "\n",
       "    .dataframe thead th {\n",
       "        text-align: right;\n",
       "    }\n",
       "</style>\n",
       "<table border=\"1\" class=\"dataframe\">\n",
       "  <thead>\n",
       "    <tr style=\"text-align: right;\">\n",
       "      <th></th>\n",
       "      <th>text</th>\n",
       "      <th>toxic</th>\n",
       "    </tr>\n",
       "  </thead>\n",
       "  <tbody>\n",
       "    <tr>\n",
       "      <th>0</th>\n",
       "      <td>explanation why the edits made under my userna...</td>\n",
       "      <td>0</td>\n",
       "    </tr>\n",
       "    <tr>\n",
       "      <th>1</th>\n",
       "      <td>d aww he match this background colour i m seem...</td>\n",
       "      <td>0</td>\n",
       "    </tr>\n",
       "    <tr>\n",
       "      <th>2</th>\n",
       "      <td>hey man i m really not trying to edit war it s...</td>\n",
       "      <td>0</td>\n",
       "    </tr>\n",
       "    <tr>\n",
       "      <th>3</th>\n",
       "      <td>more i can t make any real suggestion on impro...</td>\n",
       "      <td>0</td>\n",
       "    </tr>\n",
       "    <tr>\n",
       "      <th>4</th>\n",
       "      <td>you sir are my hero any chance you remember wh...</td>\n",
       "      <td>0</td>\n",
       "    </tr>\n",
       "  </tbody>\n",
       "</table>\n",
       "</div>"
      ],
      "text/plain": [
       "                                                text  toxic\n",
       "0  explanation why the edits made under my userna...      0\n",
       "1  d aww he match this background colour i m seem...      0\n",
       "2  hey man i m really not trying to edit war it s...      0\n",
       "3  more i can t make any real suggestion on impro...      0\n",
       "4  you sir are my hero any chance you remember wh...      0"
      ]
     },
     "execution_count": 14,
     "metadata": {},
     "output_type": "execute_result"
    }
   ],
   "source": [
    "data.head()"
   ]
  },
  {
   "cell_type": "markdown",
   "metadata": {},
   "source": [
    "Построим мешок слов, чтобы определить характерные слова для каждого класса (токсичные и нетоксичные). Чтобы почистить мешок, нужно найти топ слова. Также посмотрим на наиболее употребимые.\n",
    "\n",
    "Начнем с токсичных."
   ]
  },
  {
   "cell_type": "code",
   "execution_count": 15,
   "metadata": {},
   "outputs": [],
   "source": [
    "stop_words = set(nltk_stopwords.words('english'))"
   ]
  },
  {
   "cell_type": "code",
   "execution_count": 16,
   "metadata": {},
   "outputs": [],
   "source": [
    "toxic_lem = data[data['toxic'] ==1]\n",
    "corpus = list(toxic_lem['text'])\n",
    "count_vect = CountVectorizer(max_features=20, stop_words=stop_words)\n",
    "bow = count_vect.fit_transform(corpus)"
   ]
  },
  {
   "cell_type": "code",
   "execution_count": 17,
   "metadata": {},
   "outputs": [
    {
     "data": {
      "text/plain": [
       "['article',\n",
       " 'bitch',\n",
       " 'die',\n",
       " 'faggot',\n",
       " 'fat',\n",
       " 'fuck',\n",
       " 'fucking',\n",
       " 'gay',\n",
       " 'get',\n",
       " 'go',\n",
       " 'hate',\n",
       " 'know',\n",
       " 'like',\n",
       " 'nigger',\n",
       " 'page',\n",
       " 'people',\n",
       " 'shit',\n",
       " 'suck',\n",
       " 'wa',\n",
       " 'wikipedia']"
      ]
     },
     "execution_count": 17,
     "metadata": {},
     "output_type": "execute_result"
    }
   ],
   "source": [
    "count_vect.get_feature_names() "
   ]
  },
  {
   "cell_type": "markdown",
   "metadata": {},
   "source": [
    "Аналогично сделаем для нетоксичных:"
   ]
  },
  {
   "cell_type": "code",
   "execution_count": 18,
   "metadata": {},
   "outputs": [],
   "source": [
    "nontoxic_lem = data[data['toxic'] == 0]\n",
    "corpus = list(nontoxic_lem['text'])\n",
    "count_vect = CountVectorizer(max_features=20, stop_words=stop_words)\n",
    "bow = count_vect.fit_transform(corpus)"
   ]
  },
  {
   "cell_type": "code",
   "execution_count": 19,
   "metadata": {
    "scrolled": true
   },
   "outputs": [
    {
     "data": {
      "text/plain": [
       "['also',\n",
       " 'article',\n",
       " 'edit',\n",
       " 'ha',\n",
       " 'know',\n",
       " 'like',\n",
       " 'one',\n",
       " 'page',\n",
       " 'people',\n",
       " 'please',\n",
       " 'see',\n",
       " 'source',\n",
       " 'talk',\n",
       " 'think',\n",
       " 'time',\n",
       " 'use',\n",
       " 'user',\n",
       " 'wa',\n",
       " 'wikipedia',\n",
       " 'would']"
      ]
     },
     "execution_count": 19,
     "metadata": {},
     "output_type": "execute_result"
    }
   ],
   "source": [
    "count_vect.get_feature_names() "
   ]
  },
  {
   "cell_type": "markdown",
   "metadata": {},
   "source": [
    "<div class=\"alert alert-success\">\n",
    "<b>1 Комментарий ревьюера ✔️:</b> \n",
    "    \n",
    "Интересный анализ!\n",
    "\n",
    "Советую попробовать [LDA](https://habr.com/ru/post/417167/)"
   ]
  },
  {
   "cell_type": "markdown",
   "metadata": {},
   "source": [
    "Данные показатели постараемся учесть в дальнейшем для анализа данных и создания признаков. "
   ]
  },
  {
   "cell_type": "markdown",
   "metadata": {},
   "source": [
    "Разобьем выборку по отношению 60/20/20. Выделим признаки:"
   ]
  },
  {
   "cell_type": "code",
   "execution_count": 20,
   "metadata": {},
   "outputs": [],
   "source": [
    "features = data['text']\n",
    "target = data['toxic']"
   ]
  },
  {
   "cell_type": "code",
   "execution_count": 21,
   "metadata": {},
   "outputs": [],
   "source": [
    "features_df, features_test, target_df, target_test = train_test_split(\n",
    "    features, target, test_size=.4, random_state=12345, stratify= target)\n",
    "features_train, features_valid, target_train, target_valid = train_test_split(\n",
    "    features_df, target_df, test_size=.5, random_state=12345, stratify= target_df)"
   ]
  },
  {
   "cell_type": "code",
   "execution_count": 22,
   "metadata": {},
   "outputs": [
    {
     "name": "stdout",
     "output_type": "stream",
     "text": [
      "(63717,)\n",
      "(47787,)\n",
      "(47788,)\n",
      "(63717,)\n",
      "(47787,)\n",
      "(47788,)\n"
     ]
    }
   ],
   "source": [
    "print(features_test.shape)\n",
    "print(features_train.shape)\n",
    "print(features_valid.shape)\n",
    "\n",
    "print(target_test.shape)\n",
    "print(target_train.shape)\n",
    "print(target_valid.shape)"
   ]
  },
  {
   "cell_type": "code",
   "execution_count": 23,
   "metadata": {},
   "outputs": [
    {
     "name": "stdout",
     "output_type": "stream",
     "text": [
      "0    89.8%\n",
      "1    10.2%\n",
      "Name: toxic, dtype: object\n",
      "0    89.8%\n",
      "1    10.2%\n",
      "Name: toxic, dtype: object\n",
      "0    89.8%\n",
      "1    10.2%\n",
      "Name: toxic, dtype: object\n"
     ]
    }
   ],
   "source": [
    "print(target_train.value_counts(\n",
    "    normalize=True).mul(100).round(1).astype(str) + '%')\n",
    "print(target_valid.value_counts(\n",
    "    normalize=True).mul(100).round(1).astype(str) + '%')\n",
    "print(target_test.value_counts(\n",
    "    normalize=True).mul(100).round(1).astype(str) + '%')"
   ]
  },
  {
   "cell_type": "markdown",
   "metadata": {},
   "source": [
    "Переведем слова в векторы и посчитаем tf_idf:"
   ]
  },
  {
   "cell_type": "code",
   "execution_count": 24,
   "metadata": {},
   "outputs": [],
   "source": [
    "stopwords = set(nltk_stopwords.words('english'))\n",
    "count_tf_idf = TfidfVectorizer(stop_words=stopwords)"
   ]
  },
  {
   "cell_type": "code",
   "execution_count": 26,
   "metadata": {},
   "outputs": [],
   "source": [
    "train_tf_idf = count_tf_idf.fit_transform(features_train)\n",
    "valid_tf_idf = count_tf_idf.transform(features_valid)\n",
    "test_tf_idf = count_tf_idf.transform(features_test)"
   ]
  },
  {
   "cell_type": "code",
   "execution_count": 27,
   "metadata": {
    "scrolled": true
   },
   "outputs": [
    {
     "name": "stdout",
     "output_type": "stream",
     "text": [
      "Размер матрицы: (47787, 79135)\n",
      "Размер матрицы: (47788, 79135)\n",
      "Размер матрицы: (63717, 79135)\n"
     ]
    }
   ],
   "source": [
    "print('Размер матрицы:', train_tf_idf.shape)\n",
    "print('Размер матрицы:', valid_tf_idf.shape)\n",
    "print('Размер матрицы:', test_tf_idf.shape)"
   ]
  },
  {
   "cell_type": "markdown",
   "metadata": {},
   "source": [
    "<div class=\"alert alert-success\">\n",
    "<b>1 Комментарий ревьюера ✔️:</b> \n",
    "    \n",
    "Нет утечки тестовых данных!"
   ]
  },
  {
   "cell_type": "markdown",
   "metadata": {},
   "source": [
    "**Вывод:**\n",
    "1. Изучили данные, проверили данные на наличие пропусков, дубликатов. Исправлен регистр;\n",
    "2. Очистили данные, лемматизировали данные в столбце text;\n",
    "3. Построили мешок слов по классам, показали наиболее употребляемые для каждого класса;\n",
    "4. Получили признаки, а также разбили данные на обучающую, валидационную и тестовую выборки;\n",
    "5. Отметили наличие бисбаланса классов в целевом признаки; \n",
    "6. Необходимо решить задачу классификации."
   ]
  },
  {
   "cell_type": "markdown",
   "metadata": {},
   "source": [
    "<div class=\"alert alert-success\">\n",
    "<b>1 Комментарий ревьюера ✔️:</b> \n",
    "    \n",
    "Промежуточный вывод верно описывает проделанную работу"
   ]
  },
  {
   "cell_type": "markdown",
   "metadata": {},
   "source": [
    "## Обучение"
   ]
  },
  {
   "cell_type": "markdown",
   "metadata": {},
   "source": [
    "Начнем обучение с **LogisticRegression:**"
   ]
  },
  {
   "cell_type": "code",
   "execution_count": 28,
   "metadata": {
    "scrolled": true
   },
   "outputs": [
    {
     "name": "stdout",
     "output_type": "stream",
     "text": [
      "Значение С равно: 1\n",
      "Значение F1_score равно: 0.7385014836795253\n",
      "Значение С равно: 2\n",
      "Значение F1_score равно: 0.7470588235294118\n",
      "Значение С равно: 3\n",
      "Значение F1_score равно: 0.7508879715849093\n",
      "Значение С равно: 4\n",
      "Значение F1_score равно: 0.7524483661398236\n",
      "Значение С равно: 5\n",
      "Значение F1_score равно: 0.7545880515423663\n",
      "Значение С равно: 6\n",
      "Значение F1_score равно: 0.7562364957768613\n",
      "Значение С равно: 7\n",
      "Значение F1_score равно: 0.7555205047318612\n",
      "Значение С равно: 8\n",
      "Значение F1_score равно: 0.7560830860534125\n",
      "Значение С равно: 9\n",
      "Значение F1_score равно: 0.7556525188417295\n",
      "\n",
      "CPU times: user 2min 22s, sys: 3min 13s, total: 5min 35s\n",
      "Wall time: 5min 36s\n"
     ]
    }
   ],
   "source": [
    "%%time\n",
    "\n",
    "best_result = 7.5\n",
    "results = []\n",
    "\n",
    "for c in range(1, 10):\n",
    "    model = LogisticRegression(class_weight='balanced', \n",
    "                          random_state=12345, \n",
    "                          max_iter=1000, \n",
    "                          solver='lbfgs', \n",
    "                               C=c)\n",
    "    model.fit(train_tf_idf, target_train)\n",
    "    predicted_valid = model.predict(valid_tf_idf)\n",
    "    \n",
    "    print ('Значение С равно:', c)\n",
    "    print('Значение F1_score равно:', f1_score(target_valid, predicted_valid))\n",
    "print()  "
   ]
  },
  {
   "cell_type": "markdown",
   "metadata": {},
   "source": [
    "Для LogisticRegression лучший F1 равен 0.756 при C = 6"
   ]
  },
  {
   "cell_type": "markdown",
   "metadata": {},
   "source": [
    "<div class=\"alert alert-success\">\n",
    "<b>1 Комментарий ревьюера ✔️:</b> \n",
    "    \n",
    "Круто, что ты используешь валидационную выборку для предотвращения утечки тестовых данных"
   ]
  },
  {
   "cell_type": "markdown",
   "metadata": {},
   "source": [
    "Для **DecisionTreeClassifier**:"
   ]
  },
  {
   "cell_type": "code",
   "execution_count": 29,
   "metadata": {},
   "outputs": [
    {
     "name": "stdout",
     "output_type": "stream",
     "text": [
      "Значение F1_score равно: 0.6338441473752853    Глубина: 45\n",
      "CPU times: user 43.8 s, sys: 128 ms, total: 43.9 s\n",
      "Wall time: 44.1 s\n"
     ]
    }
   ],
   "source": [
    "%%time\n",
    "\n",
    "best_result = 0.1\n",
    "depth = 0\n",
    "depths = []\n",
    "results = []\n",
    "\n",
    "for depth in range(30, 50, 5):\n",
    "    model = DecisionTreeClassifier(random_state=12345, \n",
    "                                  max_depth=depth,\n",
    "                                  class_weight='balanced')\n",
    "    model.fit(train_tf_idf, target_train)\n",
    "    predicted_valid = model.predict(valid_tf_idf)\n",
    "    result = f1_score(target_valid, predicted_valid)\n",
    "    depths.append(depth)\n",
    "    results.append(result)\n",
    "                \n",
    "    if result > best_result:\n",
    "        best_depth = depth\n",
    "        best_result = result\n",
    "\n",
    "        \n",
    "print('Значение F1_score равно:', best_result, '   Глубина:', best_depth)   "
   ]
  },
  {
   "cell_type": "markdown",
   "metadata": {},
   "source": [
    "Для **RandomForestClassifier:**"
   ]
  },
  {
   "cell_type": "code",
   "execution_count": 30,
   "metadata": {},
   "outputs": [
    {
     "name": "stdout",
     "output_type": "stream",
     "text": [
      "Значение F1_score равно: 0.40621804049907956    Глубина: 19\n",
      "CPU times: user 25 s, sys: 119 ms, total: 25.2 s\n",
      "Wall time: 25.3 s\n"
     ]
    }
   ],
   "source": [
    " %%time\n",
    "    \n",
    "best_result = 0.1\n",
    "depth = 0\n",
    "depths = []\n",
    "results = []\n",
    "    \n",
    "for depth in range(3, 20, 2):\n",
    "    model = RandomForestClassifier(random_state=12345, \n",
    "                                   max_depth = depth, \n",
    "                                   class_weight='balanced')\n",
    "    model.fit(train_tf_idf, target_train)\n",
    "    predicted_valid = model.predict(valid_tf_idf)\n",
    "    result = f1_score(target_valid, predicted_valid)\n",
    "    depths.append(depth)\n",
    "    results.append(result)\n",
    "                \n",
    "    if result > best_result:\n",
    "        best_depth = depth\n",
    "        best_result = result\n",
    "\n",
    "        \n",
    "print('Значение F1_score равно:', best_result, '   Глубина:', best_depth)   "
   ]
  },
  {
   "cell_type": "markdown",
   "metadata": {},
   "source": [
    "Лучшее количество деревьев:"
   ]
  },
  {
   "cell_type": "code",
   "execution_count": 31,
   "metadata": {},
   "outputs": [
    {
     "name": "stdout",
     "output_type": "stream",
     "text": [
      "Значение F1_score равно: 0.4355628058727569    Количество деревьев: 500\n",
      "CPU times: user 1min 11s, sys: 287 ms, total: 1min 12s\n",
      "Wall time: 1min 12s\n"
     ]
    }
   ],
   "source": [
    "%%time\n",
    "\n",
    "best_result = 0.4\n",
    "est = 0\n",
    "ests = []\n",
    "results = []\n",
    "\n",
    "for est in [100, 500, 1000]:\n",
    "    model = RandomForestClassifier(random_state=12345, \n",
    "                                   n_estimators=est, \n",
    "                                   max_depth=19,\n",
    "                                   class_weight='balanced')\n",
    "    model.fit(train_tf_idf, target_train)\n",
    "    predicted_valid = model.predict(valid_tf_idf)\n",
    "    result = f1_score(target_valid, predicted_valid)\n",
    "    depths.append(depth)\n",
    "    results.append(result)\n",
    "                \n",
    "    if result > best_result:\n",
    "        best_est = est\n",
    "        best_result = result\n",
    "\n",
    "print('Значение F1_score равно:', best_result, '   Количество деревьев:', best_est)  "
   ]
  },
  {
   "cell_type": "markdown",
   "metadata": {},
   "source": [
    "Для **CatBoostClassifier:**"
   ]
  },
  {
   "cell_type": "code",
   "execution_count": 32,
   "metadata": {
    "scrolled": true
   },
   "outputs": [
    {
     "name": "stdout",
     "output_type": "stream",
     "text": [
      "Learning rate set to 0.443608\n",
      "0:\tlearn: 0.4121447\ttotal: 1.56s\tremaining: 2m 35s\n",
      "1:\tlearn: 0.5276583\ttotal: 2.63s\tremaining: 2m 8s\n",
      "2:\tlearn: 0.4716893\ttotal: 3.72s\tremaining: 2m\n",
      "3:\tlearn: 0.5539620\ttotal: 5s\tremaining: 2m\n",
      "4:\tlearn: 0.5585507\ttotal: 6.09s\tremaining: 1m 55s\n",
      "5:\tlearn: 0.5790900\ttotal: 7.18s\tremaining: 1m 52s\n",
      "6:\tlearn: 0.5930840\ttotal: 8.24s\tremaining: 1m 49s\n",
      "7:\tlearn: 0.6132889\ttotal: 9.28s\tremaining: 1m 46s\n",
      "8:\tlearn: 0.6148508\ttotal: 10.3s\tremaining: 1m 44s\n",
      "9:\tlearn: 0.6347518\ttotal: 11.3s\tremaining: 1m 42s\n",
      "10:\tlearn: 0.6322986\ttotal: 12.4s\tremaining: 1m 40s\n",
      "11:\tlearn: 0.6356568\ttotal: 13.4s\tremaining: 1m 38s\n",
      "12:\tlearn: 0.6454398\ttotal: 14.4s\tremaining: 1m 36s\n",
      "13:\tlearn: 0.6486559\ttotal: 15.5s\tremaining: 1m 35s\n",
      "14:\tlearn: 0.6515558\ttotal: 16.5s\tremaining: 1m 33s\n",
      "15:\tlearn: 0.6567842\ttotal: 17.5s\tremaining: 1m 31s\n",
      "16:\tlearn: 0.6589457\ttotal: 18.4s\tremaining: 1m 30s\n",
      "17:\tlearn: 0.6661365\ttotal: 19.5s\tremaining: 1m 28s\n",
      "18:\tlearn: 0.6687797\ttotal: 20.5s\tremaining: 1m 27s\n",
      "19:\tlearn: 0.6723820\ttotal: 21.6s\tremaining: 1m 26s\n",
      "20:\tlearn: 0.6766562\ttotal: 22.7s\tremaining: 1m 25s\n",
      "21:\tlearn: 0.6827992\ttotal: 23.7s\tremaining: 1m 23s\n",
      "22:\tlearn: 0.6855502\ttotal: 24.7s\tremaining: 1m 22s\n",
      "23:\tlearn: 0.6875326\ttotal: 25.7s\tremaining: 1m 21s\n",
      "24:\tlearn: 0.6921278\ttotal: 26.7s\tremaining: 1m 20s\n",
      "25:\tlearn: 0.6959223\ttotal: 27.8s\tremaining: 1m 19s\n",
      "26:\tlearn: 0.6984496\ttotal: 28.7s\tremaining: 1m 17s\n",
      "27:\tlearn: 0.7003871\ttotal: 29.8s\tremaining: 1m 16s\n",
      "28:\tlearn: 0.6998578\ttotal: 30.8s\tremaining: 1m 15s\n",
      "29:\tlearn: 0.7036560\ttotal: 32s\tremaining: 1m 14s\n",
      "30:\tlearn: 0.7048232\ttotal: 33s\tremaining: 1m 13s\n",
      "31:\tlearn: 0.7058824\ttotal: 34s\tremaining: 1m 12s\n",
      "32:\tlearn: 0.7112019\ttotal: 35.1s\tremaining: 1m 11s\n",
      "33:\tlearn: 0.7129748\ttotal: 36.2s\tremaining: 1m 10s\n",
      "34:\tlearn: 0.7162471\ttotal: 37.2s\tremaining: 1m 9s\n",
      "35:\tlearn: 0.7138305\ttotal: 38.3s\tremaining: 1m 8s\n",
      "36:\tlearn: 0.7123707\ttotal: 39.2s\tremaining: 1m 6s\n",
      "37:\tlearn: 0.7150681\ttotal: 40.3s\tremaining: 1m 5s\n",
      "38:\tlearn: 0.7153229\ttotal: 41.3s\tremaining: 1m 4s\n",
      "39:\tlearn: 0.7154140\ttotal: 42.4s\tremaining: 1m 3s\n",
      "40:\tlearn: 0.7155776\ttotal: 43.5s\tremaining: 1m 2s\n",
      "41:\tlearn: 0.7171203\ttotal: 44.6s\tremaining: 1m 1s\n",
      "42:\tlearn: 0.7184244\ttotal: 45.6s\tremaining: 1m\n",
      "43:\tlearn: 0.7201625\ttotal: 46.6s\tremaining: 59.3s\n",
      "44:\tlearn: 0.7251580\ttotal: 47.7s\tremaining: 58.3s\n",
      "45:\tlearn: 0.7307209\ttotal: 48.7s\tremaining: 57.2s\n",
      "46:\tlearn: 0.7286685\ttotal: 49.8s\tremaining: 56.2s\n",
      "47:\tlearn: 0.7299912\ttotal: 50.9s\tremaining: 55.1s\n",
      "48:\tlearn: 0.7307209\ttotal: 52s\tremaining: 54.1s\n",
      "49:\tlearn: 0.7311315\ttotal: 53s\tremaining: 53s\n",
      "50:\tlearn: 0.7327900\ttotal: 54s\tremaining: 51.8s\n",
      "51:\tlearn: 0.7340852\ttotal: 55s\tremaining: 50.7s\n",
      "52:\tlearn: 0.7387455\ttotal: 56s\tremaining: 49.7s\n",
      "53:\tlearn: 0.7411003\ttotal: 57s\tremaining: 48.6s\n",
      "54:\tlearn: 0.7430063\ttotal: 58.1s\tremaining: 47.5s\n",
      "55:\tlearn: 0.7447865\ttotal: 59.1s\tremaining: 46.4s\n",
      "56:\tlearn: 0.7461243\ttotal: 1m\tremaining: 45.3s\n",
      "57:\tlearn: 0.7485149\ttotal: 1m 1s\tremaining: 44.2s\n",
      "58:\tlearn: 0.7507411\ttotal: 1m 2s\tremaining: 43.2s\n",
      "59:\tlearn: 0.7508954\ttotal: 1m 3s\tremaining: 42.1s\n",
      "60:\tlearn: 0.7519131\ttotal: 1m 4s\tremaining: 41s\n",
      "61:\tlearn: 0.7539692\ttotal: 1m 5s\tremaining: 40s\n",
      "62:\tlearn: 0.7540620\ttotal: 1m 6s\tremaining: 38.9s\n",
      "63:\tlearn: 0.7581972\ttotal: 1m 7s\tremaining: 37.9s\n",
      "64:\tlearn: 0.7581972\ttotal: 1m 8s\tremaining: 36.8s\n",
      "65:\tlearn: 0.7580447\ttotal: 1m 9s\tremaining: 35.7s\n",
      "66:\tlearn: 0.7586546\ttotal: 1m 10s\tremaining: 34.7s\n",
      "67:\tlearn: 0.7589001\ttotal: 1m 11s\tremaining: 33.6s\n",
      "68:\tlearn: 0.7596614\ttotal: 1m 12s\tremaining: 32.6s\n",
      "69:\tlearn: 0.7595092\ttotal: 1m 13s\tremaining: 31.5s\n",
      "70:\tlearn: 0.7595092\ttotal: 1m 14s\tremaining: 30.5s\n",
      "71:\tlearn: 0.7593570\ttotal: 1m 15s\tremaining: 29.4s\n",
      "72:\tlearn: 0.7599068\ttotal: 1m 16s\tremaining: 28.3s\n",
      "73:\tlearn: 0.7622309\ttotal: 1m 17s\tremaining: 27.3s\n",
      "74:\tlearn: 0.7640669\ttotal: 1m 18s\tremaining: 26.2s\n",
      "75:\tlearn: 0.7646126\ttotal: 1m 19s\tremaining: 25.1s\n",
      "76:\tlearn: 0.7663620\ttotal: 1m 20s\tremaining: 24.1s\n",
      "77:\tlearn: 0.7672634\ttotal: 1m 21s\tremaining: 23.1s\n",
      "78:\tlearn: 0.7692121\ttotal: 1m 22s\tremaining: 22s\n",
      "79:\tlearn: 0.7709497\ttotal: 1m 23s\tremaining: 21s\n",
      "80:\tlearn: 0.7710434\ttotal: 1m 25s\tremaining: 19.9s\n",
      "81:\tlearn: 0.7711370\ttotal: 1m 26s\tremaining: 18.9s\n",
      "82:\tlearn: 0.7716956\ttotal: 1m 27s\tremaining: 17.8s\n",
      "83:\tlearn: 0.7719724\ttotal: 1m 28s\tremaining: 16.8s\n",
      "84:\tlearn: 0.7724188\ttotal: 1m 29s\tremaining: 15.7s\n",
      "85:\tlearn: 0.7728649\ttotal: 1m 30s\tremaining: 14.7s\n",
      "86:\tlearn: 0.7730136\ttotal: 1m 31s\tremaining: 13.6s\n",
      "87:\tlearn: 0.7728649\ttotal: 1m 32s\tremaining: 12.6s\n",
      "88:\tlearn: 0.7734044\ttotal: 1m 33s\tremaining: 11.5s\n",
      "89:\tlearn: 0.7763682\ttotal: 1m 34s\tremaining: 10.5s\n",
      "90:\tlearn: 0.7738182\ttotal: 1m 35s\tremaining: 9.41s\n",
      "91:\tlearn: 0.7740997\ttotal: 1m 36s\tremaining: 8.36s\n",
      "92:\tlearn: 0.7746940\ttotal: 1m 37s\tremaining: 7.31s\n",
      "93:\tlearn: 0.7770115\ttotal: 1m 38s\tremaining: 6.26s\n",
      "94:\tlearn: 0.7795627\ttotal: 1m 39s\tremaining: 5.22s\n",
      "95:\tlearn: 0.7806350\ttotal: 1m 40s\tremaining: 4.18s\n",
      "96:\tlearn: 0.7802344\ttotal: 1m 41s\tremaining: 3.13s\n",
      "97:\tlearn: 0.7819694\ttotal: 1m 42s\tremaining: 2.09s\n",
      "98:\tlearn: 0.7827030\ttotal: 1m 43s\tremaining: 1.04s\n",
      "99:\tlearn: 0.7831848\ttotal: 1m 44s\tremaining: 0us\n",
      "Значение F1_score равно: 0.7271835132482826\n",
      "CPU times: user 1min 51s, sys: 1.41 s, total: 1min 53s\n",
      "Wall time: 1min 54s\n"
     ]
    }
   ],
   "source": [
    "%%time\n",
    "\n",
    "model = CatBoostClassifier(eval_metric = 'F1', random_state=12345, iterations=100)\n",
    "model.fit(train_tf_idf, target_train)\n",
    "predicted_valid = model.predict(valid_tf_idf)\n",
    "\n",
    "print('Значение F1_score равно:', f1_score(target_valid, predicted_valid))"
   ]
  },
  {
   "cell_type": "markdown",
   "metadata": {},
   "source": [
    "**Итого:** Лучшие показатель у LogisticRegression F1 = 0.756 при C = 6, ее и будем тестировать.\n",
    "\n",
    "Объеденим тренировочную и валидационную выборки, "
   ]
  },
  {
   "cell_type": "code",
   "execution_count": 35,
   "metadata": {},
   "outputs": [
    {
     "name": "stdout",
     "output_type": "stream",
     "text": [
      "F1_score: 0.7576997630842128\n"
     ]
    }
   ],
   "source": [
    "model = LogisticRegression(class_weight='balanced', \n",
    "                          random_state=12345, \n",
    "                          max_iter=1000, \n",
    "                          solver='lbfgs',\n",
    "                          C=6)\n",
    "\n",
    "features_train_lr = pd.concat([features_train, features_valid])\n",
    "target_train_lr = pd.concat([target_train, target_valid])\n",
    "features_train_tf_idf = count_tf_idf.fit_transform(features_train_lr)\n",
    "features_test_tf_idf = count_tf_idf.transform(features_test)\n",
    "\n",
    "model.fit(features_train_tf_idf, target_train_lr)\n",
    "predicted_test = model.predict(features_test_tf_idf)\n",
    "\n",
    "\n",
    "print('Значение F1_score равно:', f1_score(target_test, predicted_test))"
   ]
  },
  {
   "cell_type": "markdown",
   "metadata": {},
   "source": [
    "<div class=\"alert alert-success\">\n",
    "<b>1 Комментарий ревьюера ✔️:</b> \n",
    "    \n",
    "Порог пройден!"
   ]
  },
  {
   "cell_type": "markdown",
   "metadata": {},
   "source": [
    "## Выводы"
   ]
  },
  {
   "cell_type": "markdown",
   "metadata": {},
   "source": [
    "1. В ходе исследования были загружены и изучены данные, проводена их предобработка;\n",
    "3. Для исследования данные были разбиты на три выборки;\n",
    "4. Для обучения были использованы модели: LogisticRegression, RandomForestClassifier, DecisionTreeClassifier, CatBoostClassifier. Лучшие показатели F1_score у LogisticRegression;\n",
    "5. Модель LogisticRegression на итоговой тестовой выборке показала хороший результат F1_score = 0.757, что соответствует поставленному условию;\n",
    "6. Для дальнейшего использования рекомендована модель LogisticRegression."
   ]
  },
  {
   "cell_type": "markdown",
   "metadata": {},
   "source": [
    "<div class=\"alert alert-success\">\n",
    "<b>1 Комментарий ревьюера ✔️:</b> \n",
    "    \n",
    "Отлично! Работа завершена успешно!"
   ]
  }
 ],
 "metadata": {
  "ExecuteTimeLog": [
   {
    "duration": 78,
    "start_time": "2023-03-01T06:31:59.792Z"
   },
   {
    "duration": 2543,
    "start_time": "2023-03-01T06:32:06.237Z"
   },
   {
    "duration": 2436,
    "start_time": "2023-03-01T06:32:40.811Z"
   },
   {
    "duration": 935,
    "start_time": "2023-03-01T06:32:44.290Z"
   },
   {
    "duration": 1757,
    "start_time": "2023-03-01T06:33:15.124Z"
   },
   {
    "duration": 802,
    "start_time": "2023-03-01T06:33:16.883Z"
   },
   {
    "duration": 41,
    "start_time": "2023-03-01T06:33:17.687Z"
   },
   {
    "duration": 12,
    "start_time": "2023-03-01T06:33:17.730Z"
   },
   {
    "duration": 256,
    "start_time": "2023-03-01T06:33:17.745Z"
   },
   {
    "duration": 33,
    "start_time": "2023-03-01T06:33:18.003Z"
   },
   {
    "duration": 21,
    "start_time": "2023-03-01T06:33:18.037Z"
   },
   {
    "duration": 1724,
    "start_time": "2023-03-01T06:34:38.608Z"
   },
   {
    "duration": 986,
    "start_time": "2023-03-01T06:34:40.334Z"
   },
   {
    "duration": 34,
    "start_time": "2023-03-01T06:34:41.321Z"
   },
   {
    "duration": 11,
    "start_time": "2023-03-01T06:34:41.357Z"
   },
   {
    "duration": 257,
    "start_time": "2023-03-01T06:34:41.370Z"
   },
   {
    "duration": 30,
    "start_time": "2023-03-01T06:34:41.629Z"
   },
   {
    "duration": 16,
    "start_time": "2023-03-01T06:34:41.660Z"
   },
   {
    "duration": 20,
    "start_time": "2023-03-01T06:37:36.566Z"
   },
   {
    "duration": 6,
    "start_time": "2023-03-01T06:37:38.618Z"
   },
   {
    "duration": 170,
    "start_time": "2023-03-01T06:38:07.250Z"
   },
   {
    "duration": 1730,
    "start_time": "2023-03-01T06:41:44.968Z"
   },
   {
    "duration": 1030,
    "start_time": "2023-03-01T06:41:46.701Z"
   },
   {
    "duration": 41,
    "start_time": "2023-03-01T06:41:47.733Z"
   },
   {
    "duration": 11,
    "start_time": "2023-03-01T06:41:47.776Z"
   },
   {
    "duration": 263,
    "start_time": "2023-03-01T06:41:47.790Z"
   },
   {
    "duration": 28,
    "start_time": "2023-03-01T06:41:48.055Z"
   },
   {
    "duration": 18,
    "start_time": "2023-03-01T06:41:48.085Z"
   },
   {
    "duration": 22,
    "start_time": "2023-03-01T06:41:48.105Z"
   },
   {
    "duration": 4,
    "start_time": "2023-03-01T06:41:48.128Z"
   },
   {
    "duration": 153,
    "start_time": "2023-03-01T06:41:48.135Z"
   },
   {
    "duration": 38,
    "start_time": "2023-03-01T06:42:00.298Z"
   },
   {
    "duration": 3,
    "start_time": "2023-03-01T06:44:03.635Z"
   },
   {
    "duration": 40,
    "start_time": "2023-03-01T06:44:04.329Z"
   },
   {
    "duration": 271,
    "start_time": "2023-03-01T06:44:51.009Z"
   },
   {
    "duration": 10,
    "start_time": "2023-03-01T06:44:57.547Z"
   },
   {
    "duration": 8,
    "start_time": "2023-03-01T06:45:02.893Z"
   },
   {
    "duration": 1779,
    "start_time": "2023-03-01T07:03:27.202Z"
   },
   {
    "duration": 955,
    "start_time": "2023-03-01T07:03:28.983Z"
   },
   {
    "duration": 32,
    "start_time": "2023-03-01T07:03:29.940Z"
   },
   {
    "duration": 12,
    "start_time": "2023-03-01T07:03:29.975Z"
   },
   {
    "duration": 238,
    "start_time": "2023-03-01T07:03:29.989Z"
   },
   {
    "duration": 28,
    "start_time": "2023-03-01T07:03:30.229Z"
   },
   {
    "duration": 49,
    "start_time": "2023-03-01T07:03:30.259Z"
   },
   {
    "duration": 23,
    "start_time": "2023-03-01T07:03:30.310Z"
   },
   {
    "duration": 25,
    "start_time": "2023-03-01T07:03:30.336Z"
   },
   {
    "duration": 383,
    "start_time": "2023-03-01T07:03:30.364Z"
   },
   {
    "duration": 8,
    "start_time": "2023-03-01T07:03:30.749Z"
   },
   {
    "duration": 3,
    "start_time": "2023-03-01T07:05:30.633Z"
   },
   {
    "duration": 11,
    "start_time": "2023-03-01T07:05:31.185Z"
   },
   {
    "duration": 3,
    "start_time": "2023-03-01T07:05:53.961Z"
   },
   {
    "duration": 372,
    "start_time": "2023-03-01T07:05:54.553Z"
   },
   {
    "duration": 6,
    "start_time": "2023-03-01T07:05:55.110Z"
   },
   {
    "duration": 139,
    "start_time": "2023-03-01T07:16:17.689Z"
   },
   {
    "duration": 196,
    "start_time": "2023-03-01T07:16:25.732Z"
   },
   {
    "duration": 4,
    "start_time": "2023-03-01T07:17:34.658Z"
   },
   {
    "duration": 359,
    "start_time": "2023-03-01T07:17:35.080Z"
   },
   {
    "duration": 7,
    "start_time": "2023-03-01T07:17:35.571Z"
   },
   {
    "duration": 19,
    "start_time": "2023-03-01T07:17:36.874Z"
   },
   {
    "duration": 18,
    "start_time": "2023-03-01T07:17:45.013Z"
   },
   {
    "duration": 4,
    "start_time": "2023-03-01T07:19:30.307Z"
   },
   {
    "duration": 281,
    "start_time": "2023-03-01T07:19:30.725Z"
   },
   {
    "duration": 7,
    "start_time": "2023-03-01T07:19:31.145Z"
   },
   {
    "duration": 16,
    "start_time": "2023-03-01T07:19:31.855Z"
   },
   {
    "duration": 187,
    "start_time": "2023-03-01T07:19:36.052Z"
   },
   {
    "duration": 200,
    "start_time": "2023-03-01T07:21:08.900Z"
   },
   {
    "duration": 13,
    "start_time": "2023-03-01T07:44:43.158Z"
   },
   {
    "duration": 1757,
    "start_time": "2023-03-01T07:44:52.352Z"
   },
   {
    "duration": 1116,
    "start_time": "2023-03-01T07:44:54.111Z"
   },
   {
    "duration": 43,
    "start_time": "2023-03-01T07:44:55.229Z"
   },
   {
    "duration": 22,
    "start_time": "2023-03-01T07:44:55.274Z"
   },
   {
    "duration": 275,
    "start_time": "2023-03-01T07:44:55.299Z"
   },
   {
    "duration": 28,
    "start_time": "2023-03-01T07:44:55.576Z"
   },
   {
    "duration": 40,
    "start_time": "2023-03-01T07:44:55.606Z"
   },
   {
    "duration": 6,
    "start_time": "2023-03-01T07:44:55.648Z"
   },
   {
    "duration": 364,
    "start_time": "2023-03-01T07:44:55.657Z"
   },
   {
    "duration": 8,
    "start_time": "2023-03-01T07:44:56.024Z"
   },
   {
    "duration": 189,
    "start_time": "2023-03-01T07:44:56.033Z"
   },
   {
    "duration": 155,
    "start_time": "2023-03-01T07:44:56.224Z"
   },
   {
    "duration": 565,
    "start_time": "2023-03-01T07:45:47.870Z"
   },
   {
    "duration": 1845,
    "start_time": "2023-03-01T07:45:58.051Z"
   },
   {
    "duration": 940,
    "start_time": "2023-03-01T07:45:59.898Z"
   },
   {
    "duration": 40,
    "start_time": "2023-03-01T07:46:00.841Z"
   },
   {
    "duration": 40,
    "start_time": "2023-03-01T07:46:00.884Z"
   },
   {
    "duration": 233,
    "start_time": "2023-03-01T07:46:00.926Z"
   },
   {
    "duration": 27,
    "start_time": "2023-03-01T07:46:01.161Z"
   },
   {
    "duration": 38,
    "start_time": "2023-03-01T07:46:01.190Z"
   },
   {
    "duration": 10,
    "start_time": "2023-03-01T07:46:01.231Z"
   },
   {
    "duration": 316,
    "start_time": "2023-03-01T07:46:01.243Z"
   },
   {
    "duration": 6,
    "start_time": "2023-03-01T07:46:01.561Z"
   },
   {
    "duration": 177,
    "start_time": "2023-03-01T07:46:01.569Z"
   },
   {
    "duration": 9,
    "start_time": "2023-03-01T07:46:01.748Z"
   },
   {
    "duration": 122,
    "start_time": "2023-03-01T07:47:40.678Z"
   },
   {
    "duration": 13,
    "start_time": "2023-03-01T07:47:53.551Z"
   },
   {
    "duration": 1900,
    "start_time": "2023-03-01T07:48:26.875Z"
   },
   {
    "duration": 942,
    "start_time": "2023-03-01T07:48:28.777Z"
   },
   {
    "duration": 32,
    "start_time": "2023-03-01T07:48:29.720Z"
   },
   {
    "duration": 14,
    "start_time": "2023-03-01T07:48:29.755Z"
   },
   {
    "duration": 260,
    "start_time": "2023-03-01T07:48:29.772Z"
   },
   {
    "duration": 27,
    "start_time": "2023-03-01T07:48:30.033Z"
   },
   {
    "duration": 54,
    "start_time": "2023-03-01T07:48:30.061Z"
   },
   {
    "duration": 3,
    "start_time": "2023-03-01T07:48:30.117Z"
   },
   {
    "duration": 286,
    "start_time": "2023-03-01T07:48:30.122Z"
   },
   {
    "duration": 10,
    "start_time": "2023-03-01T07:48:30.420Z"
   },
   {
    "duration": 207,
    "start_time": "2023-03-01T07:48:30.432Z"
   },
   {
    "duration": 7,
    "start_time": "2023-03-01T07:48:30.642Z"
   },
   {
    "duration": 2090,
    "start_time": "2023-03-01T07:49:47.892Z"
   },
   {
    "duration": 968,
    "start_time": "2023-03-01T07:49:49.984Z"
   },
   {
    "duration": 35,
    "start_time": "2023-03-01T07:49:50.953Z"
   },
   {
    "duration": 14,
    "start_time": "2023-03-01T07:49:50.990Z"
   },
   {
    "duration": 255,
    "start_time": "2023-03-01T07:49:51.020Z"
   },
   {
    "duration": 28,
    "start_time": "2023-03-01T07:49:51.277Z"
   },
   {
    "duration": 43,
    "start_time": "2023-03-01T07:49:51.307Z"
   },
   {
    "duration": 17,
    "start_time": "2023-03-01T07:49:51.352Z"
   },
   {
    "duration": 307,
    "start_time": "2023-03-01T07:49:51.370Z"
   },
   {
    "duration": 6,
    "start_time": "2023-03-01T07:49:51.679Z"
   },
   {
    "duration": 178,
    "start_time": "2023-03-01T07:49:51.687Z"
   },
   {
    "duration": 7,
    "start_time": "2023-03-01T07:49:51.867Z"
   },
   {
    "duration": 87299,
    "start_time": "2023-03-01T07:49:51.875Z"
   },
   {
    "duration": 8,
    "start_time": "2023-03-01T07:51:19.175Z"
   },
   {
    "duration": 1967,
    "start_time": "2023-03-01T08:01:38.094Z"
   },
   {
    "duration": 948,
    "start_time": "2023-03-01T08:01:40.063Z"
   },
   {
    "duration": 33,
    "start_time": "2023-03-01T08:01:41.013Z"
   },
   {
    "duration": 11,
    "start_time": "2023-03-01T08:01:41.048Z"
   },
   {
    "duration": 238,
    "start_time": "2023-03-01T08:01:41.060Z"
   },
   {
    "duration": 40,
    "start_time": "2023-03-01T08:01:41.300Z"
   },
   {
    "duration": 16,
    "start_time": "2023-03-01T08:01:41.342Z"
   },
   {
    "duration": 6,
    "start_time": "2023-03-01T08:01:41.360Z"
   },
   {
    "duration": 312,
    "start_time": "2023-03-01T08:01:41.368Z"
   },
   {
    "duration": 6,
    "start_time": "2023-03-01T08:01:41.683Z"
   },
   {
    "duration": 181,
    "start_time": "2023-03-01T08:01:41.691Z"
   },
   {
    "duration": 85242,
    "start_time": "2023-03-01T08:01:41.874Z"
   },
   {
    "duration": 132,
    "start_time": "2023-03-01T08:03:07.118Z"
   },
   {
    "duration": 0,
    "start_time": "2023-03-01T08:03:07.252Z"
   },
   {
    "duration": 84212,
    "start_time": "2023-03-01T08:03:14.460Z"
   },
   {
    "duration": 9,
    "start_time": "2023-03-01T08:04:38.674Z"
   },
   {
    "duration": 2100,
    "start_time": "2023-03-01T08:08:46.491Z"
   },
   {
    "duration": 1103,
    "start_time": "2023-03-01T08:08:48.593Z"
   },
   {
    "duration": 38,
    "start_time": "2023-03-01T08:08:49.699Z"
   },
   {
    "duration": 11,
    "start_time": "2023-03-01T08:08:49.739Z"
   },
   {
    "duration": 270,
    "start_time": "2023-03-01T08:08:49.753Z"
   },
   {
    "duration": 37,
    "start_time": "2023-03-01T08:08:50.025Z"
   },
   {
    "duration": 22,
    "start_time": "2023-03-01T08:08:50.064Z"
   },
   {
    "duration": 2,
    "start_time": "2023-03-01T08:08:50.088Z"
   },
   {
    "duration": 342,
    "start_time": "2023-03-01T08:08:50.092Z"
   },
   {
    "duration": 6,
    "start_time": "2023-03-01T08:08:50.436Z"
   },
   {
    "duration": 185,
    "start_time": "2023-03-01T08:08:50.444Z"
   },
   {
    "duration": 4,
    "start_time": "2023-03-01T08:08:50.630Z"
   },
   {
    "duration": 95260,
    "start_time": "2023-03-01T08:08:50.636Z"
   },
   {
    "duration": 9,
    "start_time": "2023-03-01T08:10:25.899Z"
   },
   {
    "duration": 2068,
    "start_time": "2023-03-01T09:23:15.922Z"
   },
   {
    "duration": 977,
    "start_time": "2023-03-01T09:23:17.992Z"
   },
   {
    "duration": 34,
    "start_time": "2023-03-01T09:23:18.971Z"
   },
   {
    "duration": 22,
    "start_time": "2023-03-01T09:23:19.006Z"
   },
   {
    "duration": 242,
    "start_time": "2023-03-01T09:23:19.031Z"
   },
   {
    "duration": 30,
    "start_time": "2023-03-01T09:23:19.275Z"
   },
   {
    "duration": 28,
    "start_time": "2023-03-01T09:23:19.307Z"
   },
   {
    "duration": 3,
    "start_time": "2023-03-01T09:23:19.337Z"
   },
   {
    "duration": 344,
    "start_time": "2023-03-01T09:23:19.341Z"
   },
   {
    "duration": 6,
    "start_time": "2023-03-01T09:23:19.688Z"
   },
   {
    "duration": 175,
    "start_time": "2023-03-01T09:23:19.696Z"
   },
   {
    "duration": 3,
    "start_time": "2023-03-01T09:23:19.873Z"
   },
   {
    "duration": 86720,
    "start_time": "2023-03-01T09:23:19.877Z"
   },
   {
    "duration": 6,
    "start_time": "2023-03-01T09:24:46.600Z"
   },
   {
    "duration": 12,
    "start_time": "2023-03-01T10:38:30.923Z"
   },
   {
    "duration": 32,
    "start_time": "2023-03-01T10:38:31.719Z"
   },
   {
    "duration": 11,
    "start_time": "2023-03-01T10:38:36.185Z"
   },
   {
    "duration": 5,
    "start_time": "2023-03-01T10:41:37.028Z"
   },
   {
    "duration": 6,
    "start_time": "2023-03-01T10:42:27.673Z"
   },
   {
    "duration": 14,
    "start_time": "2023-03-01T10:46:56.218Z"
   },
   {
    "duration": 70,
    "start_time": "2023-03-01T10:46:56.813Z"
   },
   {
    "duration": 76,
    "start_time": "2023-03-01T10:47:10.471Z"
   },
   {
    "duration": 16,
    "start_time": "2023-03-01T10:47:14.926Z"
   },
   {
    "duration": 74,
    "start_time": "2023-03-01T10:47:15.541Z"
   },
   {
    "duration": 2175,
    "start_time": "2023-03-01T10:47:33.832Z"
   },
   {
    "duration": 1059,
    "start_time": "2023-03-01T10:47:36.009Z"
   },
   {
    "duration": 39,
    "start_time": "2023-03-01T10:47:37.070Z"
   },
   {
    "duration": 29,
    "start_time": "2023-03-01T10:47:37.111Z"
   },
   {
    "duration": 244,
    "start_time": "2023-03-01T10:47:37.143Z"
   },
   {
    "duration": 34,
    "start_time": "2023-03-01T10:47:37.389Z"
   },
   {
    "duration": 19,
    "start_time": "2023-03-01T10:47:37.425Z"
   },
   {
    "duration": 3,
    "start_time": "2023-03-01T10:47:37.446Z"
   },
   {
    "duration": 344,
    "start_time": "2023-03-01T10:47:37.452Z"
   },
   {
    "duration": 10,
    "start_time": "2023-03-01T10:47:37.799Z"
   },
   {
    "duration": 212,
    "start_time": "2023-03-01T10:47:37.811Z"
   },
   {
    "duration": 4,
    "start_time": "2023-03-01T10:47:38.026Z"
   },
   {
    "duration": 89858,
    "start_time": "2023-03-01T10:47:38.032Z"
   },
   {
    "duration": 10,
    "start_time": "2023-03-01T10:49:07.894Z"
   },
   {
    "duration": 31,
    "start_time": "2023-03-01T10:49:07.906Z"
   },
   {
    "duration": 91,
    "start_time": "2023-03-01T10:49:07.939Z"
   },
   {
    "duration": 0,
    "start_time": "2023-03-01T10:49:08.032Z"
   },
   {
    "duration": 191,
    "start_time": "2023-03-01T10:49:52.689Z"
   },
   {
    "duration": 20,
    "start_time": "2023-03-01T10:50:10.654Z"
   },
   {
    "duration": 119,
    "start_time": "2023-03-01T10:50:11.543Z"
   },
   {
    "duration": 101,
    "start_time": "2023-03-01T10:50:43.395Z"
   },
   {
    "duration": 17,
    "start_time": "2023-03-01T10:50:45.801Z"
   },
   {
    "duration": 353,
    "start_time": "2023-03-01T10:50:46.456Z"
   },
   {
    "duration": 34,
    "start_time": "2023-03-01T10:51:16.424Z"
   },
   {
    "duration": 91,
    "start_time": "2023-03-01T10:51:43.057Z"
   },
   {
    "duration": 17,
    "start_time": "2023-03-01T10:51:48.217Z"
   },
   {
    "duration": 103,
    "start_time": "2023-03-01T10:51:49.084Z"
   },
   {
    "duration": 5,
    "start_time": "2023-03-01T10:51:51.161Z"
   },
   {
    "duration": 92,
    "start_time": "2023-03-01T10:53:25.724Z"
   },
   {
    "duration": 87,
    "start_time": "2023-03-01T10:53:40.594Z"
   },
   {
    "duration": 4,
    "start_time": "2023-03-01T10:54:10.243Z"
   },
   {
    "duration": 102,
    "start_time": "2023-03-01T10:54:27.004Z"
   },
   {
    "duration": 8,
    "start_time": "2023-03-01T10:55:46.666Z"
   },
   {
    "duration": 25,
    "start_time": "2023-03-01T10:56:53.793Z"
   },
   {
    "duration": 113,
    "start_time": "2023-03-01T10:56:54.661Z"
   },
   {
    "duration": 91,
    "start_time": "2023-03-01T10:57:30.500Z"
   },
   {
    "duration": 2021,
    "start_time": "2023-03-01T10:57:59.523Z"
   },
   {
    "duration": 1059,
    "start_time": "2023-03-01T10:58:01.546Z"
   },
   {
    "duration": 40,
    "start_time": "2023-03-01T10:58:02.606Z"
   },
   {
    "duration": 22,
    "start_time": "2023-03-01T10:58:02.649Z"
   },
   {
    "duration": 242,
    "start_time": "2023-03-01T10:58:02.673Z"
   },
   {
    "duration": 34,
    "start_time": "2023-03-01T10:58:02.922Z"
   },
   {
    "duration": 26,
    "start_time": "2023-03-01T10:58:02.958Z"
   },
   {
    "duration": 4,
    "start_time": "2023-03-01T10:58:02.987Z"
   },
   {
    "duration": 461,
    "start_time": "2023-03-01T10:58:02.993Z"
   },
   {
    "duration": 5,
    "start_time": "2023-03-01T10:58:03.457Z"
   },
   {
    "duration": 187,
    "start_time": "2023-03-01T10:58:03.464Z"
   },
   {
    "duration": 4,
    "start_time": "2023-03-01T10:58:03.653Z"
   },
   {
    "duration": 97369,
    "start_time": "2023-03-01T10:58:03.659Z"
   },
   {
    "duration": 10,
    "start_time": "2023-03-01T10:59:41.032Z"
   },
   {
    "duration": 16,
    "start_time": "2023-03-01T10:59:41.044Z"
   },
   {
    "duration": 196,
    "start_time": "2023-03-01T10:59:41.062Z"
   },
   {
    "duration": 0,
    "start_time": "2023-03-01T10:59:41.260Z"
   },
   {
    "duration": 8,
    "start_time": "2023-03-01T11:04:18.970Z"
   },
   {
    "duration": 8,
    "start_time": "2023-03-01T11:04:24.939Z"
   },
   {
    "duration": 10,
    "start_time": "2023-03-01T11:07:22.066Z"
   },
   {
    "duration": 17,
    "start_time": "2023-03-01T11:07:29.873Z"
   },
   {
    "duration": 9,
    "start_time": "2023-03-01T11:07:56.178Z"
   },
   {
    "duration": 4,
    "start_time": "2023-03-01T11:08:06.009Z"
   },
   {
    "duration": 8,
    "start_time": "2023-03-01T11:08:07.369Z"
   },
   {
    "duration": 26,
    "start_time": "2023-03-01T11:08:58.557Z"
   },
   {
    "duration": 8,
    "start_time": "2023-03-01T11:10:10.313Z"
   },
   {
    "duration": 11,
    "start_time": "2023-03-01T11:10:15.084Z"
   },
   {
    "duration": 984,
    "start_time": "2023-03-01T11:10:15.701Z"
   },
   {
    "duration": 9,
    "start_time": "2023-03-01T11:10:32.790Z"
   },
   {
    "duration": 16,
    "start_time": "2023-03-01T11:12:45.194Z"
   },
   {
    "duration": 6882,
    "start_time": "2023-03-01T11:12:58.076Z"
   },
   {
    "duration": 7,
    "start_time": "2023-03-01T11:13:11.124Z"
   },
   {
    "duration": 16,
    "start_time": "2023-03-01T11:13:56.194Z"
   },
   {
    "duration": 94,
    "start_time": "2023-03-01T11:13:57.027Z"
   },
   {
    "duration": 18,
    "start_time": "2023-03-01T11:14:23.923Z"
   },
   {
    "duration": 1229,
    "start_time": "2023-03-01T11:14:43.255Z"
   },
   {
    "duration": 10,
    "start_time": "2023-03-01T11:14:51.327Z"
   },
   {
    "duration": 106,
    "start_time": "2023-03-01T11:14:54.272Z"
   },
   {
    "duration": 2092,
    "start_time": "2023-03-01T11:15:06.401Z"
   },
   {
    "duration": 1011,
    "start_time": "2023-03-01T11:15:08.495Z"
   },
   {
    "duration": 41,
    "start_time": "2023-03-01T11:15:09.508Z"
   },
   {
    "duration": 11,
    "start_time": "2023-03-01T11:15:09.552Z"
   },
   {
    "duration": 256,
    "start_time": "2023-03-01T11:15:09.565Z"
   },
   {
    "duration": 31,
    "start_time": "2023-03-01T11:15:09.823Z"
   },
   {
    "duration": 18,
    "start_time": "2023-03-01T11:15:09.856Z"
   },
   {
    "duration": 3,
    "start_time": "2023-03-01T11:15:09.876Z"
   },
   {
    "duration": 335,
    "start_time": "2023-03-01T11:15:09.881Z"
   },
   {
    "duration": 9,
    "start_time": "2023-03-01T11:15:10.222Z"
   },
   {
    "duration": 204,
    "start_time": "2023-03-01T11:15:10.233Z"
   },
   {
    "duration": 5,
    "start_time": "2023-03-01T11:15:10.438Z"
   },
   {
    "duration": 86720,
    "start_time": "2023-03-01T11:15:10.445Z"
   },
   {
    "duration": 6,
    "start_time": "2023-03-01T11:16:37.167Z"
   },
   {
    "duration": 10,
    "start_time": "2023-03-01T11:16:37.175Z"
   },
   {
    "duration": 593,
    "start_time": "2023-03-01T11:16:37.187Z"
   },
   {
    "duration": 4,
    "start_time": "2023-03-01T11:16:37.782Z"
   },
   {
    "duration": 6671,
    "start_time": "2023-03-01T11:16:37.788Z"
   },
   {
    "duration": 7,
    "start_time": "2023-03-01T11:16:44.462Z"
   },
   {
    "duration": 9,
    "start_time": "2023-03-01T11:16:44.471Z"
   },
   {
    "duration": 375,
    "start_time": "2023-03-01T11:16:44.482Z"
   },
   {
    "duration": 0,
    "start_time": "2023-03-01T11:16:44.860Z"
   },
   {
    "duration": 332,
    "start_time": "2023-03-01T11:18:11.247Z"
   },
   {
    "duration": 61,
    "start_time": "2023-03-01T11:19:08.454Z"
   },
   {
    "duration": 9,
    "start_time": "2023-03-01T11:19:27.723Z"
   },
   {
    "duration": 5,
    "start_time": "2023-03-01T11:22:08.286Z"
   },
   {
    "duration": 621,
    "start_time": "2023-03-01T11:22:08.839Z"
   },
   {
    "duration": 5,
    "start_time": "2023-03-01T11:22:10.311Z"
   },
   {
    "duration": 7242,
    "start_time": "2023-03-01T11:22:16.737Z"
   },
   {
    "duration": 6,
    "start_time": "2023-03-01T11:22:23.981Z"
   },
   {
    "duration": 12,
    "start_time": "2023-03-01T11:35:17.637Z"
   },
   {
    "duration": 123,
    "start_time": "2023-03-01T11:37:38.150Z"
   },
   {
    "duration": 5,
    "start_time": "2023-03-01T11:37:39.576Z"
   },
   {
    "duration": 79,
    "start_time": "2023-03-01T11:38:20.280Z"
   },
   {
    "duration": 17,
    "start_time": "2023-03-01T11:38:25.814Z"
   },
   {
    "duration": 161,
    "start_time": "2023-03-01T11:38:26.648Z"
   },
   {
    "duration": 7,
    "start_time": "2023-03-01T11:38:27.489Z"
   },
   {
    "duration": 11,
    "start_time": "2023-03-01T11:39:55.602Z"
   },
   {
    "duration": 126,
    "start_time": "2023-03-01T11:39:56.321Z"
   },
   {
    "duration": 5,
    "start_time": "2023-03-01T11:39:57.039Z"
   },
   {
    "duration": 115,
    "start_time": "2023-03-01T11:40:23.873Z"
   },
   {
    "duration": 6,
    "start_time": "2023-03-01T11:40:24.696Z"
   },
   {
    "duration": 133,
    "start_time": "2023-03-01T11:41:26.234Z"
   },
   {
    "duration": 6,
    "start_time": "2023-03-01T11:41:26.775Z"
   },
   {
    "duration": 13,
    "start_time": "2023-03-01T11:43:46.963Z"
   },
   {
    "duration": 14,
    "start_time": "2023-03-01T11:45:30.758Z"
   },
   {
    "duration": 50,
    "start_time": "2023-03-01T11:45:59.579Z"
   },
   {
    "duration": 49,
    "start_time": "2023-03-01T11:46:07.286Z"
   },
   {
    "duration": 32,
    "start_time": "2023-03-01T11:46:31.181Z"
   },
   {
    "duration": 48,
    "start_time": "2023-03-01T11:46:46.738Z"
   },
   {
    "duration": 31,
    "start_time": "2023-03-01T11:46:59.771Z"
   },
   {
    "duration": 4,
    "start_time": "2023-03-01T11:48:31.503Z"
   },
   {
    "duration": 10,
    "start_time": "2023-03-01T11:48:47.308Z"
   },
   {
    "duration": 5,
    "start_time": "2023-03-01T11:48:54.993Z"
   },
   {
    "duration": 2086,
    "start_time": "2023-03-01T11:49:10.923Z"
   },
   {
    "duration": 1011,
    "start_time": "2023-03-01T11:49:13.011Z"
   },
   {
    "duration": 36,
    "start_time": "2023-03-01T11:49:14.030Z"
   },
   {
    "duration": 13,
    "start_time": "2023-03-01T11:49:14.068Z"
   },
   {
    "duration": 268,
    "start_time": "2023-03-01T11:49:14.083Z"
   },
   {
    "duration": 31,
    "start_time": "2023-03-01T11:49:14.354Z"
   },
   {
    "duration": 20,
    "start_time": "2023-03-01T11:49:14.387Z"
   },
   {
    "duration": 3,
    "start_time": "2023-03-01T11:49:14.411Z"
   },
   {
    "duration": 372,
    "start_time": "2023-03-01T11:49:14.425Z"
   },
   {
    "duration": 10,
    "start_time": "2023-03-01T11:49:14.798Z"
   },
   {
    "duration": 176,
    "start_time": "2023-03-01T11:49:14.809Z"
   },
   {
    "duration": 6,
    "start_time": "2023-03-01T11:49:14.988Z"
   },
   {
    "duration": 96188,
    "start_time": "2023-03-01T11:49:14.996Z"
   },
   {
    "duration": 11,
    "start_time": "2023-03-01T11:50:51.188Z"
   },
   {
    "duration": 21,
    "start_time": "2023-03-01T11:50:51.203Z"
   },
   {
    "duration": 675,
    "start_time": "2023-03-01T11:50:51.230Z"
   },
   {
    "duration": 8,
    "start_time": "2023-03-01T11:50:51.906Z"
   },
   {
    "duration": 7960,
    "start_time": "2023-03-01T11:50:51.916Z"
   },
   {
    "duration": 5,
    "start_time": "2023-03-01T11:50:59.878Z"
   },
   {
    "duration": 21,
    "start_time": "2023-03-01T11:50:59.885Z"
   },
   {
    "duration": 135,
    "start_time": "2023-03-01T11:50:59.908Z"
   },
   {
    "duration": 5,
    "start_time": "2023-03-01T11:51:00.046Z"
   },
   {
    "duration": 22,
    "start_time": "2023-03-01T11:51:00.053Z"
   },
   {
    "duration": 26,
    "start_time": "2023-03-01T11:51:00.077Z"
   },
   {
    "duration": 73,
    "start_time": "2023-03-01T11:51:00.106Z"
   },
   {
    "duration": 4,
    "start_time": "2023-03-01T11:54:45.531Z"
   },
   {
    "duration": 9,
    "start_time": "2023-03-01T11:54:46.735Z"
   },
   {
    "duration": 6,
    "start_time": "2023-03-01T11:54:47.827Z"
   },
   {
    "duration": 12,
    "start_time": "2023-03-01T11:55:05.342Z"
   },
   {
    "duration": 4,
    "start_time": "2023-03-01T11:55:10.290Z"
   },
   {
    "duration": 9,
    "start_time": "2023-03-01T11:55:11.035Z"
   },
   {
    "duration": 5,
    "start_time": "2023-03-01T11:55:12.405Z"
   },
   {
    "duration": 14,
    "start_time": "2023-03-01T11:56:15.577Z"
   },
   {
    "duration": 119,
    "start_time": "2023-03-01T11:56:16.239Z"
   },
   {
    "duration": 4,
    "start_time": "2023-03-01T11:56:17.031Z"
   },
   {
    "duration": 10,
    "start_time": "2023-03-01T11:56:17.784Z"
   },
   {
    "duration": 4,
    "start_time": "2023-03-01T11:56:19.178Z"
   },
   {
    "duration": 7,
    "start_time": "2023-03-01T11:56:19.783Z"
   },
   {
    "duration": 5,
    "start_time": "2023-03-01T11:56:21.172Z"
   },
   {
    "duration": 4,
    "start_time": "2023-03-01T11:57:29.839Z"
   },
   {
    "duration": 7,
    "start_time": "2023-03-01T11:58:15.096Z"
   },
   {
    "duration": 7492,
    "start_time": "2023-03-01T11:58:15.762Z"
   },
   {
    "duration": 4,
    "start_time": "2023-03-01T11:58:23.257Z"
   },
   {
    "duration": 5,
    "start_time": "2023-03-01T11:59:11.948Z"
   },
   {
    "duration": 155,
    "start_time": "2023-03-01T12:00:12.342Z"
   },
   {
    "duration": 3,
    "start_time": "2023-03-01T12:00:15.904Z"
   },
   {
    "duration": 16,
    "start_time": "2023-03-01T12:00:16.696Z"
   },
   {
    "duration": 39,
    "start_time": "2023-03-01T12:00:46.894Z"
   },
   {
    "duration": 385062,
    "start_time": "2023-03-01T13:14:08.984Z"
   },
   {
    "duration": 48,
    "start_time": "2023-03-01T13:22:17.748Z"
   },
   {
    "duration": 44,
    "start_time": "2023-03-01T13:23:18.497Z"
   },
   {
    "duration": 29039,
    "start_time": "2023-03-01T13:24:31.704Z"
   },
   {
    "duration": 30822,
    "start_time": "2023-03-01T13:26:29.565Z"
   },
   {
    "duration": 29375,
    "start_time": "2023-03-01T13:29:17.944Z"
   },
   {
    "duration": 31220,
    "start_time": "2023-03-01T13:30:03.360Z"
   },
   {
    "duration": 30892,
    "start_time": "2023-03-01T13:32:02.647Z"
   },
   {
    "duration": 369760,
    "start_time": "2023-03-01T13:32:54.565Z"
   },
   {
    "duration": 335996,
    "start_time": "2023-03-01T13:44:45.733Z"
   },
   {
    "duration": 78,
    "start_time": "2023-03-01T13:50:21.731Z"
   },
   {
    "duration": 88,
    "start_time": "2023-03-01T13:51:53.061Z"
   },
   {
    "duration": 124,
    "start_time": "2023-03-01T13:52:22.385Z"
   },
   {
    "duration": 97,
    "start_time": "2023-03-01T13:52:31.216Z"
   },
   {
    "duration": 28286,
    "start_time": "2023-03-01T13:53:01.055Z"
   },
   {
    "duration": 22191,
    "start_time": "2023-03-01T13:54:23.857Z"
   },
   {
    "duration": 46752,
    "start_time": "2023-03-01T13:54:57.698Z"
   },
   {
    "duration": 123968,
    "start_time": "2023-03-01T13:56:13.681Z"
   },
   {
    "duration": 8014,
    "start_time": "2023-03-01T14:05:07.286Z"
   },
   {
    "duration": 14791,
    "start_time": "2023-03-01T14:05:30.185Z"
   },
   {
    "duration": 65071,
    "start_time": "2023-03-01T14:05:50.508Z"
   },
   {
    "duration": 127300,
    "start_time": "2023-03-01T14:10:40.571Z"
   },
   {
    "duration": 38692,
    "start_time": "2023-03-01T14:12:59.557Z"
   },
   {
    "duration": 22132,
    "start_time": "2023-03-01T14:15:15.983Z"
   },
   {
    "duration": 9667,
    "start_time": "2023-03-01T14:15:49.135Z"
   },
   {
    "duration": 59804,
    "start_time": "2023-03-01T14:16:07.635Z"
   },
   {
    "duration": 127803,
    "start_time": "2023-03-01T14:17:12.702Z"
   },
   {
    "duration": 35548,
    "start_time": "2023-03-01T14:19:53.453Z"
   },
   {
    "duration": 46567,
    "start_time": "2023-03-01T14:21:51.614Z"
   },
   {
    "duration": 26008,
    "start_time": "2023-03-01T14:24:07.300Z"
   },
   {
    "duration": 15608,
    "start_time": "2023-03-01T14:26:28.139Z"
   },
   {
    "duration": 159084,
    "start_time": "2023-03-01T14:27:27.320Z"
   },
   {
    "duration": 57804,
    "start_time": "2023-03-01T14:30:51.977Z"
   },
   {
    "duration": 45523,
    "start_time": "2023-03-01T14:35:04.387Z"
   },
   {
    "duration": 25967,
    "start_time": "2023-03-01T14:37:22.774Z"
   },
   {
    "duration": 72522,
    "start_time": "2023-03-01T14:40:06.852Z"
   },
   {
    "duration": 4,
    "start_time": "2023-03-01T14:53:16.406Z"
   },
   {
    "duration": 89,
    "start_time": "2023-03-01T14:53:17.008Z"
   },
   {
    "duration": 177354,
    "start_time": "2023-03-01T14:53:33.415Z"
   },
   {
    "duration": 28,
    "start_time": "2023-03-01T14:56:30.772Z"
   },
   {
    "duration": 92,
    "start_time": "2023-03-01T14:56:54.470Z"
   },
   {
    "duration": 0,
    "start_time": "2023-03-01T14:58:30.202Z"
   },
   {
    "duration": 0,
    "start_time": "2023-03-01T14:58:30.203Z"
   },
   {
    "duration": 123447,
    "start_time": "2023-03-01T15:00:21.344Z"
   },
   {
    "duration": 45,
    "start_time": "2023-03-01T15:05:06.781Z"
   },
   {
    "duration": 27,
    "start_time": "2023-03-01T15:05:53.039Z"
   },
   {
    "duration": 26,
    "start_time": "2023-03-01T15:07:24.604Z"
   },
   {
    "duration": 3,
    "start_time": "2023-03-01T15:11:05.514Z"
   },
   {
    "duration": 11,
    "start_time": "2023-03-01T15:11:25.440Z"
   },
   {
    "duration": 28,
    "start_time": "2023-03-01T15:14:23.031Z"
   },
   {
    "duration": 28,
    "start_time": "2023-03-01T15:14:58.199Z"
   },
   {
    "duration": 4270,
    "start_time": "2023-03-01T15:17:35.621Z"
   },
   {
    "duration": 92978,
    "start_time": "2023-03-01T15:18:55.053Z"
   },
   {
    "duration": 92624,
    "start_time": "2023-03-01T15:22:29.897Z"
   },
   {
    "duration": 4,
    "start_time": "2023-03-01T15:32:19.845Z"
   },
   {
    "duration": 14,
    "start_time": "2023-03-01T15:32:20.890Z"
   },
   {
    "duration": 13,
    "start_time": "2023-03-01T15:32:48.890Z"
   },
   {
    "duration": 15,
    "start_time": "2023-03-01T15:33:14.839Z"
   },
   {
    "duration": 11,
    "start_time": "2023-03-01T15:33:28.666Z"
   },
   {
    "duration": 37,
    "start_time": "2023-03-01T15:35:06.623Z"
   },
   {
    "duration": 1870,
    "start_time": "2023-03-01T15:36:16.079Z"
   },
   {
    "duration": 996,
    "start_time": "2023-03-01T15:36:17.951Z"
   },
   {
    "duration": 34,
    "start_time": "2023-03-01T15:36:18.949Z"
   },
   {
    "duration": 11,
    "start_time": "2023-03-01T15:36:18.985Z"
   },
   {
    "duration": 239,
    "start_time": "2023-03-01T15:36:18.997Z"
   },
   {
    "duration": 30,
    "start_time": "2023-03-01T15:36:19.238Z"
   },
   {
    "duration": 16,
    "start_time": "2023-03-01T15:36:19.269Z"
   },
   {
    "duration": 2,
    "start_time": "2023-03-01T15:36:19.287Z"
   },
   {
    "duration": 324,
    "start_time": "2023-03-01T15:36:19.291Z"
   },
   {
    "duration": 6,
    "start_time": "2023-03-01T15:36:19.618Z"
   },
   {
    "duration": 172,
    "start_time": "2023-03-01T15:36:19.626Z"
   },
   {
    "duration": 4,
    "start_time": "2023-03-01T15:36:19.800Z"
   },
   {
    "duration": 83864,
    "start_time": "2023-03-01T15:36:19.805Z"
   },
   {
    "duration": 8,
    "start_time": "2023-03-01T15:37:43.671Z"
   },
   {
    "duration": 5,
    "start_time": "2023-03-01T15:37:43.681Z"
   },
   {
    "duration": 538,
    "start_time": "2023-03-01T15:37:43.688Z"
   },
   {
    "duration": 5,
    "start_time": "2023-03-01T15:37:44.228Z"
   },
   {
    "duration": 6169,
    "start_time": "2023-03-01T15:37:44.234Z"
   },
   {
    "duration": 5,
    "start_time": "2023-03-01T15:37:50.405Z"
   },
   {
    "duration": 10,
    "start_time": "2023-03-01T15:37:50.412Z"
   },
   {
    "duration": 115,
    "start_time": "2023-03-01T15:37:50.424Z"
   },
   {
    "duration": 5,
    "start_time": "2023-03-01T15:37:50.541Z"
   },
   {
    "duration": 14,
    "start_time": "2023-03-01T15:37:50.547Z"
   },
   {
    "duration": 144,
    "start_time": "2023-03-01T15:37:50.562Z"
   },
   {
    "duration": 0,
    "start_time": "2023-03-01T15:37:50.707Z"
   },
   {
    "duration": 0,
    "start_time": "2023-03-01T15:37:50.709Z"
   },
   {
    "duration": 0,
    "start_time": "2023-03-01T15:37:50.710Z"
   },
   {
    "duration": 0,
    "start_time": "2023-03-01T15:37:50.712Z"
   },
   {
    "duration": 0,
    "start_time": "2023-03-01T15:37:50.721Z"
   },
   {
    "duration": 0,
    "start_time": "2023-03-01T15:37:50.722Z"
   },
   {
    "duration": 0,
    "start_time": "2023-03-01T15:37:50.723Z"
   },
   {
    "duration": 0,
    "start_time": "2023-03-01T15:37:50.725Z"
   },
   {
    "duration": 0,
    "start_time": "2023-03-01T15:37:50.726Z"
   },
   {
    "duration": 4,
    "start_time": "2023-03-01T15:39:51.421Z"
   },
   {
    "duration": 915,
    "start_time": "2023-03-01T15:39:52.756Z"
   },
   {
    "duration": 0,
    "start_time": "2023-03-01T15:39:53.672Z"
   },
   {
    "duration": 81,
    "start_time": "2023-03-01T15:39:54.288Z"
   },
   {
    "duration": 3,
    "start_time": "2023-03-01T15:40:18.420Z"
   },
   {
    "duration": 3,
    "start_time": "2023-03-01T15:40:22.229Z"
   },
   {
    "duration": 4,
    "start_time": "2023-03-01T15:40:40.901Z"
   },
   {
    "duration": 884,
    "start_time": "2023-03-01T15:40:41.978Z"
   },
   {
    "duration": 912,
    "start_time": "2023-03-01T15:40:51.171Z"
   },
   {
    "duration": 11,
    "start_time": "2023-03-01T15:40:57.523Z"
   },
   {
    "duration": 2015,
    "start_time": "2023-03-01T15:41:23.240Z"
   },
   {
    "duration": 991,
    "start_time": "2023-03-01T15:41:25.257Z"
   },
   {
    "duration": 33,
    "start_time": "2023-03-01T15:41:26.250Z"
   },
   {
    "duration": 10,
    "start_time": "2023-03-01T15:41:26.284Z"
   },
   {
    "duration": 255,
    "start_time": "2023-03-01T15:41:26.296Z"
   },
   {
    "duration": 28,
    "start_time": "2023-03-01T15:41:26.552Z"
   },
   {
    "duration": 18,
    "start_time": "2023-03-01T15:41:26.582Z"
   },
   {
    "duration": 2,
    "start_time": "2023-03-01T15:41:26.602Z"
   },
   {
    "duration": 314,
    "start_time": "2023-03-01T15:41:26.621Z"
   },
   {
    "duration": 7,
    "start_time": "2023-03-01T15:41:26.938Z"
   },
   {
    "duration": 187,
    "start_time": "2023-03-01T15:41:26.947Z"
   },
   {
    "duration": 5,
    "start_time": "2023-03-01T15:41:27.135Z"
   },
   {
    "duration": 81945,
    "start_time": "2023-03-01T15:41:27.142Z"
   },
   {
    "duration": 8,
    "start_time": "2023-03-01T15:42:49.091Z"
   },
   {
    "duration": 8,
    "start_time": "2023-03-01T15:42:49.101Z"
   },
   {
    "duration": 528,
    "start_time": "2023-03-01T15:42:49.122Z"
   },
   {
    "duration": 4,
    "start_time": "2023-03-01T15:42:49.652Z"
   },
   {
    "duration": 6043,
    "start_time": "2023-03-01T15:42:49.657Z"
   },
   {
    "duration": 5,
    "start_time": "2023-03-01T15:42:55.702Z"
   },
   {
    "duration": 3,
    "start_time": "2023-03-01T15:42:55.709Z"
   },
   {
    "duration": 123,
    "start_time": "2023-03-01T15:42:55.722Z"
   },
   {
    "duration": 5,
    "start_time": "2023-03-01T15:42:55.846Z"
   },
   {
    "duration": 13,
    "start_time": "2023-03-01T15:42:55.853Z"
   },
   {
    "duration": 3,
    "start_time": "2023-03-01T15:42:55.867Z"
   },
   {
    "duration": 1044,
    "start_time": "2023-03-01T15:42:55.872Z"
   },
   {
    "duration": 0,
    "start_time": "2023-03-01T15:42:56.918Z"
   },
   {
    "duration": 0,
    "start_time": "2023-03-01T15:42:56.919Z"
   },
   {
    "duration": 0,
    "start_time": "2023-03-01T15:42:56.921Z"
   },
   {
    "duration": 0,
    "start_time": "2023-03-01T15:42:56.922Z"
   },
   {
    "duration": 0,
    "start_time": "2023-03-01T15:42:56.924Z"
   },
   {
    "duration": 0,
    "start_time": "2023-03-01T15:42:56.925Z"
   },
   {
    "duration": 0,
    "start_time": "2023-03-01T15:42:56.926Z"
   },
   {
    "duration": 0,
    "start_time": "2023-03-01T15:42:56.928Z"
   },
   {
    "duration": 6542,
    "start_time": "2023-03-01T15:43:29.687Z"
   },
   {
    "duration": 3,
    "start_time": "2023-03-01T15:43:36.232Z"
   },
   {
    "duration": 336388,
    "start_time": "2023-03-01T15:43:36.237Z"
   },
   {
    "duration": 44056,
    "start_time": "2023-03-01T15:49:12.627Z"
   },
   {
    "duration": 25257,
    "start_time": "2023-03-01T15:49:56.685Z"
   },
   {
    "duration": 72161,
    "start_time": "2023-03-01T15:50:21.945Z"
   },
   {
    "duration": 114369,
    "start_time": "2023-03-01T15:51:34.109Z"
   },
   {
    "duration": 1385,
    "start_time": "2023-03-01T15:53:28.480Z"
   },
   {
    "duration": 0,
    "start_time": "2023-03-01T15:53:29.867Z"
   },
   {
    "duration": 3,
    "start_time": "2023-03-01T15:53:56.175Z"
   },
   {
    "duration": 102231,
    "start_time": "2023-03-01T15:53:57.715Z"
   }
  ],
  "kernelspec": {
   "display_name": "Python 3 (ipykernel)",
   "language": "python",
   "name": "python3"
  },
  "language_info": {
   "codemirror_mode": {
    "name": "ipython",
    "version": 3
   },
   "file_extension": ".py",
   "mimetype": "text/x-python",
   "name": "python",
   "nbconvert_exporter": "python",
   "pygments_lexer": "ipython3",
   "version": "3.9.12"
  },
  "toc": {
   "base_numbering": 1,
   "nav_menu": {},
   "number_sections": true,
   "sideBar": true,
   "skip_h1_title": true,
   "title_cell": "Содержание",
   "title_sidebar": "Contents",
   "toc_cell": true,
   "toc_position": {
    "height": "calc(100% - 180px)",
    "left": "10px",
    "top": "150px",
    "width": "302.391px"
   },
   "toc_section_display": true,
   "toc_window_display": false
  }
 },
 "nbformat": 4,
 "nbformat_minor": 2
}
