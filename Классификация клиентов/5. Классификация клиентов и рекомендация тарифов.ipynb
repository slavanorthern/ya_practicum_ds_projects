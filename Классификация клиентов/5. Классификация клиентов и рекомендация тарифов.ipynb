{
 "cells": [
  {
   "cell_type": "markdown",
   "metadata": {},
   "source": [
    "# Рекомендация тарифов"
   ]
  },
  {
   "cell_type": "markdown",
   "metadata": {},
   "source": [
    "В вашем распоряжении данные о поведении клиентов, которые уже перешли на эти тарифы (из проекта курса «Статистический анализ данных»). Нужно построить модель для задачи классификации, которая выберет подходящий тариф. Предобработка данных не понадобится — вы её уже сделали.\n",
    "\n",
    "Постройте модель с максимально большим значением *accuracy*. Чтобы сдать проект успешно, нужно довести долю правильных ответов по крайней мере до 0.75. Проверьте *accuracy* на тестовой выборке самостоятельно.\n",
    "\n"
   ]
  },
  {
   "cell_type": "markdown",
   "metadata": {},
   "source": []
  },
  {
   "cell_type": "markdown",
   "metadata": {},
   "source": [
    "## Откройте и изучите файл\n"
   ]
  },
  {
   "cell_type": "code",
   "execution_count": 1,
   "metadata": {},
   "outputs": [],
   "source": [
    "import pandas as pd\n",
    "import random\n",
    "\n",
    "from sklearn.model_selection import train_test_split\n",
    "from sklearn.metrics import accuracy_score\n",
    "\n",
    "\n",
    "from sklearn.tree import DecisionTreeClassifier\n",
    "from sklearn.ensemble import RandomForestClassifier\n",
    "from sklearn.linear_model import LogisticRegression\n"
   ]
  },
  {
   "cell_type": "code",
   "execution_count": 2,
   "metadata": {},
   "outputs": [],
   "source": [
    "df = pd.read_csv('/datasets/users_behavior.csv')"
   ]
  },
  {
   "cell_type": "code",
   "execution_count": 3,
   "metadata": {},
   "outputs": [
    {
     "data": {
      "text/html": [
       "<div>\n",
       "<style scoped>\n",
       "    .dataframe tbody tr th:only-of-type {\n",
       "        vertical-align: middle;\n",
       "    }\n",
       "\n",
       "    .dataframe tbody tr th {\n",
       "        vertical-align: top;\n",
       "    }\n",
       "\n",
       "    .dataframe thead th {\n",
       "        text-align: right;\n",
       "    }\n",
       "</style>\n",
       "<table border=\"1\" class=\"dataframe\">\n",
       "  <thead>\n",
       "    <tr style=\"text-align: right;\">\n",
       "      <th></th>\n",
       "      <th>calls</th>\n",
       "      <th>minutes</th>\n",
       "      <th>messages</th>\n",
       "      <th>mb_used</th>\n",
       "      <th>is_ultra</th>\n",
       "    </tr>\n",
       "  </thead>\n",
       "  <tbody>\n",
       "    <tr>\n",
       "      <th>0</th>\n",
       "      <td>40.0</td>\n",
       "      <td>311.90</td>\n",
       "      <td>83.0</td>\n",
       "      <td>19915.42</td>\n",
       "      <td>0</td>\n",
       "    </tr>\n",
       "    <tr>\n",
       "      <th>1</th>\n",
       "      <td>85.0</td>\n",
       "      <td>516.75</td>\n",
       "      <td>56.0</td>\n",
       "      <td>22696.96</td>\n",
       "      <td>0</td>\n",
       "    </tr>\n",
       "    <tr>\n",
       "      <th>2</th>\n",
       "      <td>77.0</td>\n",
       "      <td>467.66</td>\n",
       "      <td>86.0</td>\n",
       "      <td>21060.45</td>\n",
       "      <td>0</td>\n",
       "    </tr>\n",
       "    <tr>\n",
       "      <th>3</th>\n",
       "      <td>106.0</td>\n",
       "      <td>745.53</td>\n",
       "      <td>81.0</td>\n",
       "      <td>8437.39</td>\n",
       "      <td>1</td>\n",
       "    </tr>\n",
       "    <tr>\n",
       "      <th>4</th>\n",
       "      <td>66.0</td>\n",
       "      <td>418.74</td>\n",
       "      <td>1.0</td>\n",
       "      <td>14502.75</td>\n",
       "      <td>0</td>\n",
       "    </tr>\n",
       "  </tbody>\n",
       "</table>\n",
       "</div>"
      ],
      "text/plain": [
       "   calls  minutes  messages   mb_used  is_ultra\n",
       "0   40.0   311.90      83.0  19915.42         0\n",
       "1   85.0   516.75      56.0  22696.96         0\n",
       "2   77.0   467.66      86.0  21060.45         0\n",
       "3  106.0   745.53      81.0   8437.39         1\n",
       "4   66.0   418.74       1.0  14502.75         0"
      ]
     },
     "execution_count": 3,
     "metadata": {},
     "output_type": "execute_result"
    }
   ],
   "source": [
    "df.head()"
   ]
  },
  {
   "cell_type": "code",
   "execution_count": 4,
   "metadata": {},
   "outputs": [
    {
     "name": "stdout",
     "output_type": "stream",
     "text": [
      "<class 'pandas.core.frame.DataFrame'>\n",
      "RangeIndex: 3214 entries, 0 to 3213\n",
      "Data columns (total 5 columns):\n",
      " #   Column    Non-Null Count  Dtype  \n",
      "---  ------    --------------  -----  \n",
      " 0   calls     3214 non-null   float64\n",
      " 1   minutes   3214 non-null   float64\n",
      " 2   messages  3214 non-null   float64\n",
      " 3   mb_used   3214 non-null   float64\n",
      " 4   is_ultra  3214 non-null   int64  \n",
      "dtypes: float64(4), int64(1)\n",
      "memory usage: 125.7 KB\n"
     ]
    }
   ],
   "source": [
    "df.info()"
   ]
  },
  {
   "cell_type": "code",
   "execution_count": 5,
   "metadata": {},
   "outputs": [
    {
     "data": {
      "text/html": [
       "<div>\n",
       "<style scoped>\n",
       "    .dataframe tbody tr th:only-of-type {\n",
       "        vertical-align: middle;\n",
       "    }\n",
       "\n",
       "    .dataframe tbody tr th {\n",
       "        vertical-align: top;\n",
       "    }\n",
       "\n",
       "    .dataframe thead th {\n",
       "        text-align: right;\n",
       "    }\n",
       "</style>\n",
       "<table border=\"1\" class=\"dataframe\">\n",
       "  <thead>\n",
       "    <tr style=\"text-align: right;\">\n",
       "      <th></th>\n",
       "      <th>calls</th>\n",
       "      <th>minutes</th>\n",
       "      <th>messages</th>\n",
       "      <th>mb_used</th>\n",
       "      <th>is_ultra</th>\n",
       "    </tr>\n",
       "  </thead>\n",
       "  <tbody>\n",
       "    <tr>\n",
       "      <th>count</th>\n",
       "      <td>3214.000000</td>\n",
       "      <td>3214.000000</td>\n",
       "      <td>3214.000000</td>\n",
       "      <td>3214.000000</td>\n",
       "      <td>3214.000000</td>\n",
       "    </tr>\n",
       "    <tr>\n",
       "      <th>mean</th>\n",
       "      <td>63.038892</td>\n",
       "      <td>438.208787</td>\n",
       "      <td>38.281269</td>\n",
       "      <td>17207.673836</td>\n",
       "      <td>0.306472</td>\n",
       "    </tr>\n",
       "    <tr>\n",
       "      <th>std</th>\n",
       "      <td>33.236368</td>\n",
       "      <td>234.569872</td>\n",
       "      <td>36.148326</td>\n",
       "      <td>7570.968246</td>\n",
       "      <td>0.461100</td>\n",
       "    </tr>\n",
       "    <tr>\n",
       "      <th>min</th>\n",
       "      <td>0.000000</td>\n",
       "      <td>0.000000</td>\n",
       "      <td>0.000000</td>\n",
       "      <td>0.000000</td>\n",
       "      <td>0.000000</td>\n",
       "    </tr>\n",
       "    <tr>\n",
       "      <th>25%</th>\n",
       "      <td>40.000000</td>\n",
       "      <td>274.575000</td>\n",
       "      <td>9.000000</td>\n",
       "      <td>12491.902500</td>\n",
       "      <td>0.000000</td>\n",
       "    </tr>\n",
       "    <tr>\n",
       "      <th>50%</th>\n",
       "      <td>62.000000</td>\n",
       "      <td>430.600000</td>\n",
       "      <td>30.000000</td>\n",
       "      <td>16943.235000</td>\n",
       "      <td>0.000000</td>\n",
       "    </tr>\n",
       "    <tr>\n",
       "      <th>75%</th>\n",
       "      <td>82.000000</td>\n",
       "      <td>571.927500</td>\n",
       "      <td>57.000000</td>\n",
       "      <td>21424.700000</td>\n",
       "      <td>1.000000</td>\n",
       "    </tr>\n",
       "    <tr>\n",
       "      <th>max</th>\n",
       "      <td>244.000000</td>\n",
       "      <td>1632.060000</td>\n",
       "      <td>224.000000</td>\n",
       "      <td>49745.730000</td>\n",
       "      <td>1.000000</td>\n",
       "    </tr>\n",
       "  </tbody>\n",
       "</table>\n",
       "</div>"
      ],
      "text/plain": [
       "             calls      minutes     messages       mb_used     is_ultra\n",
       "count  3214.000000  3214.000000  3214.000000   3214.000000  3214.000000\n",
       "mean     63.038892   438.208787    38.281269  17207.673836     0.306472\n",
       "std      33.236368   234.569872    36.148326   7570.968246     0.461100\n",
       "min       0.000000     0.000000     0.000000      0.000000     0.000000\n",
       "25%      40.000000   274.575000     9.000000  12491.902500     0.000000\n",
       "50%      62.000000   430.600000    30.000000  16943.235000     0.000000\n",
       "75%      82.000000   571.927500    57.000000  21424.700000     1.000000\n",
       "max     244.000000  1632.060000   224.000000  49745.730000     1.000000"
      ]
     },
     "execution_count": 5,
     "metadata": {},
     "output_type": "execute_result"
    }
   ],
   "source": [
    "df.describe()"
   ]
  },
  {
   "cell_type": "markdown",
   "metadata": {},
   "source": [
    "Исправим тип данных для колонки messages на int, так как там должно быть целое число:"
   ]
  },
  {
   "cell_type": "code",
   "execution_count": 6,
   "metadata": {},
   "outputs": [],
   "source": [
    "df['messages']=df['messages'].astype('int')"
   ]
  },
  {
   "cell_type": "markdown",
   "metadata": {},
   "source": [
    "Посмотрим на соотношение тарифов, чтобы в дальнейшем можно было сопоставить с предсказанием тестовой модели:"
   ]
  },
  {
   "cell_type": "code",
   "execution_count": 7,
   "metadata": {},
   "outputs": [
    {
     "data": {
      "text/plain": [
       "0    0.693528\n",
       "1    0.306472\n",
       "Name: is_ultra, dtype: float64"
      ]
     },
     "execution_count": 7,
     "metadata": {},
     "output_type": "execute_result"
    }
   ],
   "source": [
    "df.is_ultra.value_counts(normalize=True)"
   ]
  },
  {
   "cell_type": "markdown",
   "metadata": {},
   "source": [
    "Также просмотрим пропуски и дубликаты:"
   ]
  },
  {
   "cell_type": "code",
   "execution_count": 8,
   "metadata": {},
   "outputs": [
    {
     "data": {
      "text/plain": [
       "calls       0\n",
       "minutes     0\n",
       "messages    0\n",
       "mb_used     0\n",
       "is_ultra    0\n",
       "dtype: int64"
      ]
     },
     "execution_count": 8,
     "metadata": {},
     "output_type": "execute_result"
    }
   ],
   "source": [
    "df.isna().sum()"
   ]
  },
  {
   "cell_type": "code",
   "execution_count": 9,
   "metadata": {},
   "outputs": [
    {
     "data": {
      "text/plain": [
       "0"
      ]
     },
     "execution_count": 9,
     "metadata": {},
     "output_type": "execute_result"
    }
   ],
   "source": [
    "df.duplicated().sum()"
   ]
  },
  {
   "cell_type": "markdown",
   "metadata": {},
   "source": [
    "**Вывод:**\n",
    "\n",
    "Пропуски и дубликаты отсутствуют, типы данных соответствуют колонкам. Наша тестовая модель не должна предсказывать с точностью 0.3 или 0.69. Можно приступить к исследованию."
   ]
  },
  {
   "cell_type": "markdown",
   "metadata": {},
   "source": [
    "## Разбейте данные на выборки"
   ]
  },
  {
   "cell_type": "markdown",
   "metadata": {},
   "source": [
    "Создадим переменные для признаков и извлечем целевой признак.\n",
    "\n",
    "Также разобьем данные в соотношении 60:20:20."
   ]
  },
  {
   "cell_type": "code",
   "execution_count": 10,
   "metadata": {},
   "outputs": [],
   "source": [
    "df_train, df_ch = train_test_split(df, test_size=0.40, random_state=12345)"
   ]
  },
  {
   "cell_type": "code",
   "execution_count": 11,
   "metadata": {},
   "outputs": [],
   "source": [
    "df_test, df_valid  = train_test_split(df_ch, test_size=0.50, random_state=12345)"
   ]
  },
  {
   "cell_type": "code",
   "execution_count": 12,
   "metadata": {},
   "outputs": [
    {
     "name": "stdout",
     "output_type": "stream",
     "text": [
      "Размер обучающей выборки составляет: 1928\n",
      "Размер тестовой выборки составляет: 643\n",
      "Размер валидационной выборки составляет: 643\n"
     ]
    }
   ],
   "source": [
    "print('Размер обучающей выборки составляет:', df_train.shape[0])\n",
    "print('Размер тестовой выборки составляет:', df_test.shape[0])\n",
    "print('Размер валидационной выборки составляет:', df_valid.shape[0] )"
   ]
  },
  {
   "cell_type": "markdown",
   "metadata": {},
   "source": [
    "Создадим переменные для признаков для каждой из выборок:\n",
    "    "
   ]
  },
  {
   "cell_type": "code",
   "execution_count": 13,
   "metadata": {},
   "outputs": [],
   "source": [
    "features_train = df_train.drop(['is_ultra'], axis=1)\n",
    "target_train = df_train['is_ultra']\n",
    "\n",
    "features_test = df_test.drop(['is_ultra'], axis=1)\n",
    "target_test = df_test['is_ultra']\n",
    "\n",
    "features_valid = df_valid.drop(['is_ultra'], axis=1)\n",
    "target_valid = df_valid['is_ultra']"
   ]
  },
  {
   "cell_type": "markdown",
   "metadata": {},
   "source": [
    "**Вывод:**\n",
    "\n",
    "1. Данные разбили на обучающую, тестовую и валидационную выборки в соотношении 60:20:20\n",
    "2. Целевой признак является категориальным (только два тарифа), то есть  в дальнейшим необходимо решить задачу классификации;\n",
    "3. Обучение будет производиться на df_train, валидация - на df_valid, для оценки качества модели - на df_test."
   ]
  },
  {
   "cell_type": "markdown",
   "metadata": {},
   "source": [
    "## Исследуйте модели"
   ]
  },
  {
   "cell_type": "markdown",
   "metadata": {},
   "source": [
    "Начнем исследование с **\"дерева решений\":**"
   ]
  },
  {
   "cell_type": "code",
   "execution_count": 14,
   "metadata": {},
   "outputs": [
    {
     "name": "stdout",
     "output_type": "stream",
     "text": [
      "Лучшая глубина дерева: 7    Лучшее качество: 0.7962674961119751\n"
     ]
    }
   ],
   "source": [
    "best_depth = 0\n",
    "best_accuracy = 0\n",
    "best_model = None\n",
    "\n",
    "\n",
    "for depth in range(1, 100):\n",
    "    model = DecisionTreeClassifier(random_state=23042020, max_depth=depth)\n",
    "    model.fit(features_train, target_train)\n",
    "    valid_predictions = model.predict(features_valid)\n",
    "    accuracy = accuracy_score(target_valid, valid_predictions)\n",
    "   \n",
    "    if accuracy > best_accuracy:\n",
    "        best_depth = depth\n",
    "        best_accuracy = accuracy\n",
    "\n",
    "print('Лучшая глубина дерева:', best_depth,'   Лучшее качество:', best_accuracy)  "
   ]
  },
  {
   "cell_type": "markdown",
   "metadata": {},
   "source": [
    "Также можно рассмотреть другие гиперпараметры, оставим лучшую глубину 7. Заменим гиперпараметр gini на entropy в  criterion, а  splitter вместо гиперпараметра best поставим  random: "
   ]
  },
  {
   "cell_type": "code",
   "execution_count": 15,
   "metadata": {},
   "outputs": [
    {
     "name": "stdout",
     "output_type": "stream",
     "text": [
      "Качество 0.7962674961119751\n"
     ]
    }
   ],
   "source": [
    "model = DecisionTreeClassifier(random_state=12345, max_depth=7,criterion='entropy')\n",
    "model.fit(features_train, target_train)\n",
    "valid_predictions = model.predict(features_valid)\n",
    "accuracy = accuracy_score(target_valid, valid_predictions)\n",
    "print('Качество',accuracy)"
   ]
  },
  {
   "cell_type": "code",
   "execution_count": 16,
   "metadata": {},
   "outputs": [
    {
     "name": "stdout",
     "output_type": "stream",
     "text": [
      "Качество 0.776049766718507\n"
     ]
    }
   ],
   "source": [
    "model = DecisionTreeClassifier(random_state=12345, max_depth=7, splitter='random')\n",
    "model.fit(features_train, target_train)\n",
    "valid_predictions = model.predict(features_valid)\n",
    "accuracy = accuracy_score(target_valid, valid_predictions)\n",
    "print('Качество',accuracy)"
   ]
  },
  {
   "cell_type": "code",
   "execution_count": 17,
   "metadata": {},
   "outputs": [
    {
     "name": "stdout",
     "output_type": "stream",
     "text": [
      "Качество 0.7900466562986003\n"
     ]
    }
   ],
   "source": [
    "model = DecisionTreeClassifier(random_state=12345, max_depth=7,criterion='entropy', splitter='random')\n",
    "model.fit(features_train, target_train)\n",
    "valid_predictions = model.predict(features_valid)\n",
    "accuracy = accuracy_score(target_valid, valid_predictions)\n",
    "print('Качество',accuracy)"
   ]
  },
  {
   "cell_type": "markdown",
   "metadata": {},
   "source": [
    "Гиперпараметр random показывает себя хуже, чем best; gini вместе с best - лучше, чем entropy и random."
   ]
  },
  {
   "cell_type": "markdown",
   "metadata": {},
   "source": [
    "**\"Случайный лес\":**\n"
   ]
  },
  {
   "cell_type": "code",
   "execution_count": 18,
   "metadata": {},
   "outputs": [
    {
     "name": "stdout",
     "output_type": "stream",
     "text": [
      "Лучшее количество деревьев: 48    Лучшее качество: 0.7962674961119751\n"
     ]
    }
   ],
   "source": [
    "best_est = 0\n",
    "best_accuracy = 0\n",
    "best_model = None\n",
    "\n",
    "for est in range(1, 100):\n",
    "    model = RandomForestClassifier(random_state=12345, n_estimators= est)\n",
    "    model.fit(features_train, target_train)\n",
    "    valid_predictions = model.predict(features_valid)\n",
    "    accuracy = accuracy_score(target_valid, valid_predictions)\n",
    "\n",
    "    if accuracy > best_accuracy:\n",
    "        best_est = est\n",
    "        best_accuracy = accuracy\n",
    "\n",
    "print('Лучшее количество деревьев:', best_est,'   Лучшее качество:', best_accuracy) "
   ]
  },
  {
   "cell_type": "markdown",
   "metadata": {},
   "source": [
    "Также посмотрим \"Случайный лес\" с такими гиперпараметрами, как bootstrap=False и warm_start=True:"
   ]
  },
  {
   "cell_type": "code",
   "execution_count": 19,
   "metadata": {},
   "outputs": [
    {
     "name": "stdout",
     "output_type": "stream",
     "text": [
      "Точность 0.7713841368584758\n"
     ]
    }
   ],
   "source": [
    "model = RandomForestClassifier(random_state=12345, n_estimators=48, bootstrap=False)\n",
    "model.fit(features_train, target_train)\n",
    "valid_predictions = model.predict(features_valid)\n",
    "accuracy = accuracy_score(target_valid, valid_predictions)\n",
    "print('Точность',accuracy)"
   ]
  },
  {
   "cell_type": "code",
   "execution_count": 20,
   "metadata": {},
   "outputs": [
    {
     "name": "stdout",
     "output_type": "stream",
     "text": [
      "Точность 0.7962674961119751\n"
     ]
    }
   ],
   "source": [
    "model = RandomForestClassifier(random_state=12345, n_estimators=48,  warm_start=True)\n",
    "model.fit(features_train, target_train)\n",
    "valid_predictions = model.predict(features_valid)\n",
    "accuracy = accuracy_score(target_valid, valid_predictions)\n",
    "print('Точность',accuracy)"
   ]
  },
  {
   "cell_type": "code",
   "execution_count": 21,
   "metadata": {},
   "outputs": [
    {
     "name": "stdout",
     "output_type": "stream",
     "text": [
      "Точность 0.7713841368584758\n"
     ]
    }
   ],
   "source": [
    "model = RandomForestClassifier(random_state=12345, n_estimators=48, bootstrap=False, warm_start=True)\n",
    "model.fit(features_train, target_train)\n",
    "valid_predictions = model.predict(features_valid)\n",
    "accuracy = accuracy_score(target_valid, valid_predictions)\n",
    "print('Точность',accuracy)"
   ]
  },
  {
   "cell_type": "markdown",
   "metadata": {},
   "source": [
    "**\"Логическая регрессия\":**"
   ]
  },
  {
   "cell_type": "code",
   "execution_count": 22,
   "metadata": {},
   "outputs": [
    {
     "name": "stdout",
     "output_type": "stream",
     "text": [
      "Лучшее количество итерраций: 21    Лучшее качество: 0.6982892690513219\n"
     ]
    }
   ],
   "source": [
    "import warnings\n",
    "warnings.filterwarnings('ignore')\n",
    "\n",
    "best_max_iteration = 0\n",
    "best_accuracy = 0\n",
    "best_model = None\n",
    "\n",
    "for max_it in range(1,100):\n",
    "    model = LogisticRegression(random_state=23042020, max_iter=max_it)\n",
    "    model.fit(features_train, target_train)\n",
    "    valid_predictions = model.predict(features_valid)\n",
    "    accuracy = accuracy_score(target_valid, valid_predictions)\n",
    "    \n",
    "    if accuracy > best_accuracy:\n",
    "        best_max_iteration = max_it\n",
    "        best_accuracy = accuracy\n",
    "\n",
    "print('Лучшее количество итерраций:', best_max_iteration,'   Лучшее качество:', best_accuracy) "
   ]
  },
  {
   "cell_type": "markdown",
   "metadata": {},
   "source": [
    "**Вывод**:\n",
    "1. \"Дерево решений\" (при лучшей глубине 7 и gini) и \"Случайный лес\" (при количестве деревьев 48) показывают лучший результат - по 79,6% правильных ответов;\n",
    "2. у модели \"Логическая регрессия\" - 69,8%;\n",
    "3. Изменение в гиперпараметрах для \"дерева решений\" не привело к увеличению правильных ответов.\n",
    "\n",
    "NB! Поскольку скорость обработки у \"дерева решений\" выше, чем у \"случайного леса\" при одинаковых показателях."
   ]
  },
  {
   "cell_type": "markdown",
   "metadata": {},
   "source": [
    "## Проверьте модель на тестовой выборке"
   ]
  },
  {
   "cell_type": "markdown",
   "metadata": {},
   "source": [
    "Поскольку показатели точности для моделей \"дерева решенией\" и \"случайного леса\" на валидационной выборке оказались идентичными, то проверку именно их модели будем проверять на тестовой выборке:"
   ]
  },
  {
   "cell_type": "code",
   "execution_count": 23,
   "metadata": {},
   "outputs": [
    {
     "name": "stdout",
     "output_type": "stream",
     "text": [
      "Качество дерева решений на тестовой выборке:  0.7822706065318819\n"
     ]
    }
   ],
   "source": [
    "tree_model = DecisionTreeClassifier(random_state=12345, max_depth=7,criterion='gini')\n",
    "tree_model.fit(features_train, target_train)\n",
    "test_predictions = tree_model.predict(features_test)\n",
    "accuracy = accuracy_score(target_test, test_predictions)\n",
    "print('Качество дерева решений на тестовой выборке: ',accuracy)"
   ]
  },
  {
   "cell_type": "code",
   "execution_count": 24,
   "metadata": {},
   "outputs": [
    {
     "name": "stdout",
     "output_type": "stream",
     "text": [
      "Качество случайного леса на тестовой выборке:  0.7916018662519441\n"
     ]
    }
   ],
   "source": [
    "forest_model = RandomForestClassifier(random_state=12345, n_estimators=48)\n",
    "forest_model.fit(features_train, target_train)\n",
    "test_predictions = forest_model.predict(features_test)\n",
    "accuracy = accuracy_score(target_test, test_predictions)\n",
    "print('Качество случайного леса на тестовой выборке: ',accuracy)"
   ]
  },
  {
   "cell_type": "markdown",
   "metadata": {},
   "source": [
    "**Вывод:**\n",
    "1. Точность лучшей тестовой модели - тестовая случайного леса - составила 79.2%;\n",
    "2. Также можно предположить, что тестовые модели (из-за схожести с моделями валидации) являются слабо переобученными."
   ]
  },
  {
   "cell_type": "markdown",
   "metadata": {},
   "source": [
    "## Общий вывод:\n",
    "1. Были изучены и скорректированы данные;\n",
    "2. Сделана разбивка на три выборки: обучающая, валидация и тестовая;\n",
    "3. Были рассмотрены три модели классификации (дерево решений, случайный лес и логическая регрессия), изменены гиперпараметры;\n",
    "4. Было выявлено, что наилучшей валидационной и тестовой моделью является случайный лес (79,2%), что выше, чем распределение тарифов в данных, то есть тестовая модель не предсказывает 0 или 1."
   ]
  },
  {
   "cell_type": "markdown",
   "metadata": {},
   "source": [
    "\n",
    "\n",
    "<div class=\"alert alert-success\">\n",
    "<font size=\"5\"><b>Комментарий ревьюера</b></font>\n",
    "\n",
    "Успех:\n",
    "\n",
    "\n",
    "Владислав, здорово что в конце расписаны все этапы работы. Это важно потому что когда проект захочет посмотреть будущий работодатель (или начальник), у него может не быть времени на подробный разбор кода. Вероятнее всего он бегло просмотрит код, а из общего вывода захочет получить представление о всей работе.\n",
    "\n",
    "\n",
    "\n",
    "</div>\n"
   ]
  },
  {
   "cell_type": "markdown",
   "metadata": {},
   "source": [
    "\n",
    "<div class=\"alert alert-info\">\n",
    "<font size=\"5\"><b>Комментарий ревьюера</b></font>\n",
    "\n",
    "\n",
    "\n",
    "\n",
    "Владислав, у тебя старательно выполненная работа, все четко, осмысленно. Вижу у тебя получается в ML,  дальше будет интересней )  \n",
    "\n",
    "\n",
    "\n",
    "Я оставил небольшие советы и вопросики (если есть время и желание можешь воспользоваться/ответить): \n",
    "\n",
    "\n",
    "\n",
    "\n",
    "\n",
    "- использовать stratify\n",
    "- добавить график метрики    \n",
    "- посоветовал посмотреть в сторону GridSearchCV\n",
    "- как можно улучшить результаты \n",
    "\n",
    "\n",
    "\n",
    "\n",
    "Замечания на будущее:\n",
    "    \n",
    "\n",
    "- Комментарии к коду отсутствуют - коллеги могут не понять хода твоих мыслей, пока вроде код простой, но стоит держать в голове что дальше код усложнится.  \n",
    "\n",
    "    \n",
    "\n",
    "Посылаю на вторую итерацию, чтобы посмотреть твое решение бонусного задания (если захочешь доделать) и ответить на вопросы если они появятся\n",
    "\n",
    "\n",
    "\n",
    "\n",
    "</div>"
   ]
  }
 ],
 "metadata": {
  "ExecuteTimeLog": [
   {
    "duration": 1383,
    "start_time": "2022-11-22T06:16:49.982Z"
   },
   {
    "duration": 115,
    "start_time": "2022-11-22T06:16:51.367Z"
   },
   {
    "duration": 12,
    "start_time": "2022-11-22T06:16:51.484Z"
   },
   {
    "duration": 10,
    "start_time": "2022-11-22T06:16:51.498Z"
   },
   {
    "duration": 20,
    "start_time": "2022-11-22T06:16:51.510Z"
   },
   {
    "duration": 6,
    "start_time": "2022-11-22T06:17:30.829Z"
   },
   {
    "duration": 110,
    "start_time": "2022-11-22T06:27:27.729Z"
   },
   {
    "duration": 11,
    "start_time": "2022-11-22T06:27:45.083Z"
   },
   {
    "duration": 1263,
    "start_time": "2022-11-22T06:27:51.194Z"
   },
   {
    "duration": 30,
    "start_time": "2022-11-22T06:27:52.459Z"
   },
   {
    "duration": 13,
    "start_time": "2022-11-22T06:27:52.490Z"
   },
   {
    "duration": 10,
    "start_time": "2022-11-22T06:27:52.504Z"
   },
   {
    "duration": 26,
    "start_time": "2022-11-22T06:27:52.515Z"
   },
   {
    "duration": 5,
    "start_time": "2022-11-22T06:27:52.543Z"
   },
   {
    "duration": 10,
    "start_time": "2022-11-22T06:27:52.550Z"
   },
   {
    "duration": 10,
    "start_time": "2022-11-22T06:28:51.314Z"
   },
   {
    "duration": 107,
    "start_time": "2022-11-22T06:41:14.143Z"
   },
   {
    "duration": 1340,
    "start_time": "2022-11-22T06:41:20.416Z"
   },
   {
    "duration": 29,
    "start_time": "2022-11-22T06:41:21.758Z"
   },
   {
    "duration": 14,
    "start_time": "2022-11-22T06:41:21.788Z"
   },
   {
    "duration": 40,
    "start_time": "2022-11-22T06:41:21.804Z"
   },
   {
    "duration": 28,
    "start_time": "2022-11-22T06:41:21.845Z"
   },
   {
    "duration": 13,
    "start_time": "2022-11-22T06:41:21.875Z"
   },
   {
    "duration": 121,
    "start_time": "2022-11-22T06:41:21.890Z"
   },
   {
    "duration": 8,
    "start_time": "2022-11-22T06:42:00.815Z"
   },
   {
    "duration": 7,
    "start_time": "2022-11-22T06:42:50.337Z"
   },
   {
    "duration": 15,
    "start_time": "2022-11-22T06:47:30.071Z"
   },
   {
    "duration": 10,
    "start_time": "2022-11-22T06:47:39.199Z"
   },
   {
    "duration": 55,
    "start_time": "2022-11-22T06:48:39.704Z"
   },
   {
    "duration": 8,
    "start_time": "2022-11-22T06:51:54.248Z"
   },
   {
    "duration": 1304,
    "start_time": "2022-11-22T06:52:05.638Z"
   },
   {
    "duration": 31,
    "start_time": "2022-11-22T06:52:06.944Z"
   },
   {
    "duration": 16,
    "start_time": "2022-11-22T06:52:06.977Z"
   },
   {
    "duration": 12,
    "start_time": "2022-11-22T06:52:06.995Z"
   },
   {
    "duration": 25,
    "start_time": "2022-11-22T06:52:07.008Z"
   },
   {
    "duration": 5,
    "start_time": "2022-11-22T06:52:07.035Z"
   },
   {
    "duration": 120,
    "start_time": "2022-11-22T06:52:07.042Z"
   },
   {
    "duration": 0,
    "start_time": "2022-11-22T06:52:07.164Z"
   },
   {
    "duration": 15,
    "start_time": "2022-11-22T06:52:39.042Z"
   },
   {
    "duration": 6,
    "start_time": "2022-11-22T06:53:02.607Z"
   },
   {
    "duration": 6,
    "start_time": "2022-11-22T06:53:06.086Z"
   },
   {
    "duration": 3,
    "start_time": "2022-11-22T06:53:06.638Z"
   },
   {
    "duration": 15,
    "start_time": "2022-11-22T06:54:51.119Z"
   },
   {
    "duration": 18,
    "start_time": "2022-11-22T06:55:00.808Z"
   },
   {
    "duration": 17,
    "start_time": "2022-11-22T06:55:25.118Z"
   },
   {
    "duration": 3,
    "start_time": "2022-11-22T06:55:25.979Z"
   },
   {
    "duration": 1227,
    "start_time": "2022-11-22T06:55:30.225Z"
   },
   {
    "duration": 29,
    "start_time": "2022-11-22T06:55:31.454Z"
   },
   {
    "duration": 11,
    "start_time": "2022-11-22T06:55:31.485Z"
   },
   {
    "duration": 24,
    "start_time": "2022-11-22T06:55:31.498Z"
   },
   {
    "duration": 50,
    "start_time": "2022-11-22T06:55:31.523Z"
   },
   {
    "duration": 12,
    "start_time": "2022-11-22T06:55:31.574Z"
   },
   {
    "duration": 117,
    "start_time": "2022-11-22T06:55:31.588Z"
   },
   {
    "duration": 0,
    "start_time": "2022-11-22T06:55:31.707Z"
   },
   {
    "duration": 11,
    "start_time": "2022-11-22T06:56:23.925Z"
   },
   {
    "duration": 10,
    "start_time": "2022-11-22T06:56:42.618Z"
   },
   {
    "duration": 11,
    "start_time": "2022-11-22T06:56:45.068Z"
   },
   {
    "duration": 4,
    "start_time": "2022-11-22T06:57:39.757Z"
   },
   {
    "duration": 1297,
    "start_time": "2022-11-22T06:57:52.268Z"
   },
   {
    "duration": 31,
    "start_time": "2022-11-22T06:57:53.566Z"
   },
   {
    "duration": 13,
    "start_time": "2022-11-22T06:57:53.598Z"
   },
   {
    "duration": 10,
    "start_time": "2022-11-22T06:57:53.613Z"
   },
   {
    "duration": 26,
    "start_time": "2022-11-22T06:57:53.625Z"
   },
   {
    "duration": 6,
    "start_time": "2022-11-22T06:57:53.652Z"
   },
   {
    "duration": 16,
    "start_time": "2022-11-22T06:57:53.660Z"
   },
   {
    "duration": 127,
    "start_time": "2022-11-22T06:57:53.677Z"
   },
   {
    "duration": 10,
    "start_time": "2022-11-22T06:59:03.030Z"
   },
   {
    "duration": 9,
    "start_time": "2022-11-22T07:02:51.306Z"
   },
   {
    "duration": 1248,
    "start_time": "2022-11-22T07:03:02.940Z"
   },
   {
    "duration": 29,
    "start_time": "2022-11-22T07:03:04.190Z"
   },
   {
    "duration": 16,
    "start_time": "2022-11-22T07:03:04.221Z"
   },
   {
    "duration": 38,
    "start_time": "2022-11-22T07:03:04.239Z"
   },
   {
    "duration": 30,
    "start_time": "2022-11-22T07:03:04.278Z"
   },
   {
    "duration": 41,
    "start_time": "2022-11-22T07:03:04.309Z"
   },
   {
    "duration": 122,
    "start_time": "2022-11-22T07:03:04.351Z"
   },
   {
    "duration": 0,
    "start_time": "2022-11-22T07:03:04.474Z"
   },
   {
    "duration": 22,
    "start_time": "2022-11-22T07:03:54.549Z"
   },
   {
    "duration": 11,
    "start_time": "2022-11-22T07:03:55.636Z"
   },
   {
    "duration": 7,
    "start_time": "2022-11-22T07:04:15.337Z"
   },
   {
    "duration": 4,
    "start_time": "2022-11-22T07:04:16.969Z"
   },
   {
    "duration": 8,
    "start_time": "2022-11-22T07:04:27.208Z"
   },
   {
    "duration": 4,
    "start_time": "2022-11-22T07:04:27.721Z"
   },
   {
    "duration": 6,
    "start_time": "2022-11-22T07:06:56.315Z"
   },
   {
    "duration": 1261,
    "start_time": "2022-11-22T07:07:05.526Z"
   },
   {
    "duration": 30,
    "start_time": "2022-11-22T07:07:06.789Z"
   },
   {
    "duration": 13,
    "start_time": "2022-11-22T07:07:06.821Z"
   },
   {
    "duration": 10,
    "start_time": "2022-11-22T07:07:06.836Z"
   },
   {
    "duration": 20,
    "start_time": "2022-11-22T07:07:06.848Z"
   },
   {
    "duration": 7,
    "start_time": "2022-11-22T07:07:06.869Z"
   },
   {
    "duration": 24,
    "start_time": "2022-11-22T07:07:06.877Z"
   },
   {
    "duration": 12,
    "start_time": "2022-11-22T07:07:06.902Z"
   },
   {
    "duration": 8,
    "start_time": "2022-11-22T07:07:06.915Z"
   },
   {
    "duration": 8,
    "start_time": "2022-11-22T07:10:21.781Z"
   },
   {
    "duration": 3,
    "start_time": "2022-11-22T07:10:22.192Z"
   },
   {
    "duration": 6,
    "start_time": "2022-11-22T07:10:23.327Z"
   },
   {
    "duration": 7,
    "start_time": "2022-11-22T07:10:46.538Z"
   },
   {
    "duration": 3,
    "start_time": "2022-11-22T07:10:46.704Z"
   },
   {
    "duration": 5,
    "start_time": "2022-11-22T07:10:47.459Z"
   },
   {
    "duration": 98,
    "start_time": "2022-11-22T07:56:08.481Z"
   },
   {
    "duration": 19,
    "start_time": "2022-11-22T07:56:19.807Z"
   },
   {
    "duration": 1304,
    "start_time": "2022-11-22T07:56:50.981Z"
   },
   {
    "duration": 30,
    "start_time": "2022-11-22T07:56:52.286Z"
   },
   {
    "duration": 12,
    "start_time": "2022-11-22T07:56:52.318Z"
   },
   {
    "duration": 10,
    "start_time": "2022-11-22T07:56:52.331Z"
   },
   {
    "duration": 29,
    "start_time": "2022-11-22T07:56:52.343Z"
   },
   {
    "duration": 5,
    "start_time": "2022-11-22T07:56:52.373Z"
   },
   {
    "duration": 19,
    "start_time": "2022-11-22T07:56:52.380Z"
   },
   {
    "duration": 5,
    "start_time": "2022-11-22T07:56:52.401Z"
   },
   {
    "duration": 14,
    "start_time": "2022-11-22T07:56:52.418Z"
   },
   {
    "duration": 116,
    "start_time": "2022-11-22T07:56:52.434Z"
   },
   {
    "duration": 13,
    "start_time": "2022-11-22T07:59:20.310Z"
   },
   {
    "duration": 1299,
    "start_time": "2022-11-22T08:02:01.380Z"
   },
   {
    "duration": 32,
    "start_time": "2022-11-22T08:02:02.681Z"
   },
   {
    "duration": 12,
    "start_time": "2022-11-22T08:02:02.715Z"
   },
   {
    "duration": 12,
    "start_time": "2022-11-22T08:02:02.729Z"
   },
   {
    "duration": 30,
    "start_time": "2022-11-22T08:02:02.744Z"
   },
   {
    "duration": 6,
    "start_time": "2022-11-22T08:02:02.776Z"
   },
   {
    "duration": 24,
    "start_time": "2022-11-22T08:02:02.783Z"
   },
   {
    "duration": 9,
    "start_time": "2022-11-22T08:02:02.809Z"
   },
   {
    "duration": 9,
    "start_time": "2022-11-22T08:02:02.820Z"
   },
   {
    "duration": 116,
    "start_time": "2022-11-22T08:02:02.831Z"
   },
   {
    "duration": 10,
    "start_time": "2022-11-22T08:03:52.908Z"
   },
   {
    "duration": 19,
    "start_time": "2022-11-22T08:04:04.466Z"
   },
   {
    "duration": 19,
    "start_time": "2022-11-22T08:04:17.867Z"
   },
   {
    "duration": 7,
    "start_time": "2022-11-22T08:08:35.593Z"
   },
   {
    "duration": 18,
    "start_time": "2022-11-22T08:09:52.637Z"
   },
   {
    "duration": 16,
    "start_time": "2022-11-22T08:09:55.460Z"
   },
   {
    "duration": 17,
    "start_time": "2022-11-22T08:10:17.210Z"
   },
   {
    "duration": 82,
    "start_time": "2022-11-22T08:13:15.826Z"
   },
   {
    "duration": 50,
    "start_time": "2022-11-22T08:13:22.413Z"
   },
   {
    "duration": 18,
    "start_time": "2022-11-22T08:13:32.148Z"
   },
   {
    "duration": 17,
    "start_time": "2022-11-22T08:17:12.184Z"
   },
   {
    "duration": 1134,
    "start_time": "2022-11-22T08:17:19.552Z"
   },
   {
    "duration": 30,
    "start_time": "2022-11-22T08:17:20.687Z"
   },
   {
    "duration": 17,
    "start_time": "2022-11-22T08:17:20.719Z"
   },
   {
    "duration": 11,
    "start_time": "2022-11-22T08:17:20.738Z"
   },
   {
    "duration": 23,
    "start_time": "2022-11-22T08:17:20.751Z"
   },
   {
    "duration": 24,
    "start_time": "2022-11-22T08:17:20.776Z"
   },
   {
    "duration": 22,
    "start_time": "2022-11-22T08:17:20.802Z"
   },
   {
    "duration": 10,
    "start_time": "2022-11-22T08:17:20.826Z"
   },
   {
    "duration": 6,
    "start_time": "2022-11-22T08:17:20.838Z"
   },
   {
    "duration": 17,
    "start_time": "2022-11-22T08:17:20.846Z"
   },
   {
    "duration": 121,
    "start_time": "2022-11-22T08:17:20.864Z"
   },
   {
    "duration": 20,
    "start_time": "2022-11-22T08:17:37.931Z"
   },
   {
    "duration": 17,
    "start_time": "2022-11-22T08:18:03.617Z"
   },
   {
    "duration": 1071,
    "start_time": "2022-11-22T08:22:49.333Z"
   },
   {
    "duration": 31,
    "start_time": "2022-11-22T08:22:50.406Z"
   },
   {
    "duration": 15,
    "start_time": "2022-11-22T08:22:50.439Z"
   },
   {
    "duration": 10,
    "start_time": "2022-11-22T08:22:50.456Z"
   },
   {
    "duration": 7,
    "start_time": "2022-11-22T08:22:50.468Z"
   },
   {
    "duration": 29,
    "start_time": "2022-11-22T08:22:50.477Z"
   },
   {
    "duration": 5,
    "start_time": "2022-11-22T08:22:50.508Z"
   },
   {
    "duration": 11,
    "start_time": "2022-11-22T08:22:50.514Z"
   },
   {
    "duration": 6,
    "start_time": "2022-11-22T08:22:50.526Z"
   },
   {
    "duration": 4,
    "start_time": "2022-11-22T08:22:50.534Z"
   },
   {
    "duration": 11,
    "start_time": "2022-11-22T08:22:50.540Z"
   },
   {
    "duration": 111,
    "start_time": "2022-11-22T08:22:50.552Z"
   },
   {
    "duration": 26,
    "start_time": "2022-11-22T08:23:00.086Z"
   },
   {
    "duration": 13,
    "start_time": "2022-11-22T08:29:25.051Z"
   },
   {
    "duration": 27,
    "start_time": "2022-11-22T08:29:32.589Z"
   },
   {
    "duration": 19,
    "start_time": "2022-11-22T08:29:43.524Z"
   },
   {
    "duration": 1059,
    "start_time": "2022-11-23T02:36:49.495Z"
   },
   {
    "duration": 172,
    "start_time": "2022-11-23T02:36:50.556Z"
   },
   {
    "duration": 19,
    "start_time": "2022-11-23T02:36:50.730Z"
   },
   {
    "duration": 27,
    "start_time": "2022-11-23T02:36:50.750Z"
   },
   {
    "duration": 14,
    "start_time": "2022-11-23T02:36:50.778Z"
   },
   {
    "duration": 30,
    "start_time": "2022-11-23T02:36:50.794Z"
   },
   {
    "duration": 6,
    "start_time": "2022-11-23T02:36:50.826Z"
   },
   {
    "duration": 22,
    "start_time": "2022-11-23T02:36:50.834Z"
   },
   {
    "duration": 20,
    "start_time": "2022-11-23T02:36:50.858Z"
   },
   {
    "duration": 11,
    "start_time": "2022-11-23T02:36:50.880Z"
   },
   {
    "duration": 10,
    "start_time": "2022-11-23T02:36:50.892Z"
   },
   {
    "duration": 119,
    "start_time": "2022-11-23T02:36:50.903Z"
   },
   {
    "duration": 23,
    "start_time": "2022-11-23T02:37:12.549Z"
   },
   {
    "duration": 1102,
    "start_time": "2022-11-23T02:38:00.127Z"
   },
   {
    "duration": 37,
    "start_time": "2022-11-23T02:38:01.231Z"
   },
   {
    "duration": 14,
    "start_time": "2022-11-23T02:38:01.270Z"
   },
   {
    "duration": 23,
    "start_time": "2022-11-23T02:38:01.286Z"
   },
   {
    "duration": 35,
    "start_time": "2022-11-23T02:38:01.311Z"
   },
   {
    "duration": 35,
    "start_time": "2022-11-23T02:38:01.347Z"
   },
   {
    "duration": 27,
    "start_time": "2022-11-23T02:38:01.383Z"
   },
   {
    "duration": 40,
    "start_time": "2022-11-23T02:38:01.411Z"
   },
   {
    "duration": 13,
    "start_time": "2022-11-23T02:38:01.453Z"
   },
   {
    "duration": 32,
    "start_time": "2022-11-23T02:38:01.468Z"
   },
   {
    "duration": 38,
    "start_time": "2022-11-23T02:38:01.501Z"
   },
   {
    "duration": 132,
    "start_time": "2022-11-23T02:38:01.543Z"
   },
   {
    "duration": 19,
    "start_time": "2022-11-23T02:40:21.949Z"
   },
   {
    "duration": 17,
    "start_time": "2022-11-23T02:51:29.893Z"
   },
   {
    "duration": 20,
    "start_time": "2022-11-23T02:52:04.905Z"
   },
   {
    "duration": 18,
    "start_time": "2022-11-23T02:54:35.851Z"
   },
   {
    "duration": 1087,
    "start_time": "2022-11-23T02:54:45.138Z"
   },
   {
    "duration": 38,
    "start_time": "2022-11-23T02:54:46.227Z"
   },
   {
    "duration": 16,
    "start_time": "2022-11-23T02:54:46.267Z"
   },
   {
    "duration": 22,
    "start_time": "2022-11-23T02:54:46.286Z"
   },
   {
    "duration": 26,
    "start_time": "2022-11-23T02:54:46.310Z"
   },
   {
    "duration": 46,
    "start_time": "2022-11-23T02:54:46.338Z"
   },
   {
    "duration": 28,
    "start_time": "2022-11-23T02:54:46.386Z"
   },
   {
    "duration": 17,
    "start_time": "2022-11-23T02:54:46.416Z"
   },
   {
    "duration": 15,
    "start_time": "2022-11-23T02:54:46.435Z"
   },
   {
    "duration": 12,
    "start_time": "2022-11-23T02:54:46.452Z"
   },
   {
    "duration": 26,
    "start_time": "2022-11-23T02:54:46.466Z"
   },
   {
    "duration": 122,
    "start_time": "2022-11-23T02:54:46.494Z"
   },
   {
    "duration": 1465,
    "start_time": "2022-11-23T02:55:34.373Z"
   },
   {
    "duration": 31,
    "start_time": "2022-11-23T02:55:35.840Z"
   },
   {
    "duration": 14,
    "start_time": "2022-11-23T02:55:35.873Z"
   },
   {
    "duration": 16,
    "start_time": "2022-11-23T02:55:35.889Z"
   },
   {
    "duration": 14,
    "start_time": "2022-11-23T02:55:35.907Z"
   },
   {
    "duration": 37,
    "start_time": "2022-11-23T02:55:35.923Z"
   },
   {
    "duration": 6,
    "start_time": "2022-11-23T02:55:35.962Z"
   },
   {
    "duration": 15,
    "start_time": "2022-11-23T02:55:35.969Z"
   },
   {
    "duration": 25,
    "start_time": "2022-11-23T02:55:35.986Z"
   },
   {
    "duration": 10,
    "start_time": "2022-11-23T02:55:36.014Z"
   },
   {
    "duration": 16,
    "start_time": "2022-11-23T02:55:36.026Z"
   },
   {
    "duration": 133,
    "start_time": "2022-11-23T02:55:36.044Z"
   },
   {
    "duration": 1355,
    "start_time": "2022-11-23T02:56:14.816Z"
   },
   {
    "duration": 32,
    "start_time": "2022-11-23T02:56:16.173Z"
   },
   {
    "duration": 13,
    "start_time": "2022-11-23T02:56:16.206Z"
   },
   {
    "duration": 11,
    "start_time": "2022-11-23T02:56:16.220Z"
   },
   {
    "duration": 15,
    "start_time": "2022-11-23T02:56:16.233Z"
   },
   {
    "duration": 38,
    "start_time": "2022-11-23T02:56:16.250Z"
   },
   {
    "duration": 5,
    "start_time": "2022-11-23T02:56:16.289Z"
   },
   {
    "duration": 19,
    "start_time": "2022-11-23T02:56:16.296Z"
   },
   {
    "duration": 18,
    "start_time": "2022-11-23T02:56:16.316Z"
   },
   {
    "duration": 7,
    "start_time": "2022-11-23T02:56:16.336Z"
   },
   {
    "duration": 17,
    "start_time": "2022-11-23T02:56:16.345Z"
   },
   {
    "duration": 133,
    "start_time": "2022-11-23T02:56:16.364Z"
   },
   {
    "duration": 1310,
    "start_time": "2022-11-23T02:56:50.355Z"
   },
   {
    "duration": 29,
    "start_time": "2022-11-23T02:56:51.668Z"
   },
   {
    "duration": 13,
    "start_time": "2022-11-23T02:56:51.699Z"
   },
   {
    "duration": 32,
    "start_time": "2022-11-23T02:56:51.714Z"
   },
   {
    "duration": 6,
    "start_time": "2022-11-23T02:56:51.748Z"
   },
   {
    "duration": 26,
    "start_time": "2022-11-23T02:56:51.756Z"
   },
   {
    "duration": 5,
    "start_time": "2022-11-23T02:56:51.784Z"
   },
   {
    "duration": 12,
    "start_time": "2022-11-23T02:56:51.791Z"
   },
   {
    "duration": 11,
    "start_time": "2022-11-23T02:56:51.805Z"
   },
   {
    "duration": 7,
    "start_time": "2022-11-23T02:56:51.818Z"
   },
   {
    "duration": 17,
    "start_time": "2022-11-23T02:56:51.826Z"
   },
   {
    "duration": 10,
    "start_time": "2022-11-23T02:56:51.844Z"
   },
   {
    "duration": 118,
    "start_time": "2022-11-23T02:56:51.856Z"
   },
   {
    "duration": 4,
    "start_time": "2022-11-23T02:57:28.581Z"
   },
   {
    "duration": 1336,
    "start_time": "2022-11-23T02:58:57.019Z"
   },
   {
    "duration": 30,
    "start_time": "2022-11-23T02:58:58.357Z"
   },
   {
    "duration": 13,
    "start_time": "2022-11-23T02:58:58.389Z"
   },
   {
    "duration": 11,
    "start_time": "2022-11-23T02:58:58.404Z"
   },
   {
    "duration": 14,
    "start_time": "2022-11-23T02:58:58.416Z"
   },
   {
    "duration": 14,
    "start_time": "2022-11-23T02:58:58.432Z"
   },
   {
    "duration": 37,
    "start_time": "2022-11-23T02:58:58.448Z"
   },
   {
    "duration": 5,
    "start_time": "2022-11-23T02:58:58.486Z"
   },
   {
    "duration": 9,
    "start_time": "2022-11-23T02:58:58.493Z"
   },
   {
    "duration": 4,
    "start_time": "2022-11-23T02:58:58.504Z"
   },
   {
    "duration": 8,
    "start_time": "2022-11-23T02:58:58.509Z"
   },
   {
    "duration": 6,
    "start_time": "2022-11-23T02:58:58.518Z"
   },
   {
    "duration": 8,
    "start_time": "2022-11-23T02:58:58.526Z"
   },
   {
    "duration": 14,
    "start_time": "2022-11-23T02:58:58.536Z"
   },
   {
    "duration": 119,
    "start_time": "2022-11-23T02:58:58.551Z"
   },
   {
    "duration": 1113,
    "start_time": "2022-11-23T03:00:41.877Z"
   },
   {
    "duration": 30,
    "start_time": "2022-11-23T03:00:42.992Z"
   },
   {
    "duration": 16,
    "start_time": "2022-11-23T03:00:43.023Z"
   },
   {
    "duration": 27,
    "start_time": "2022-11-23T03:00:43.040Z"
   },
   {
    "duration": 19,
    "start_time": "2022-11-23T03:00:43.069Z"
   },
   {
    "duration": 36,
    "start_time": "2022-11-23T03:00:43.089Z"
   },
   {
    "duration": 5,
    "start_time": "2022-11-23T03:00:43.127Z"
   },
   {
    "duration": 15,
    "start_time": "2022-11-23T03:00:43.134Z"
   },
   {
    "duration": 8,
    "start_time": "2022-11-23T03:00:43.150Z"
   },
   {
    "duration": 21,
    "start_time": "2022-11-23T03:00:43.160Z"
   },
   {
    "duration": 9,
    "start_time": "2022-11-23T03:00:43.183Z"
   },
   {
    "duration": 6,
    "start_time": "2022-11-23T03:00:43.194Z"
   },
   {
    "duration": 16,
    "start_time": "2022-11-23T03:00:43.201Z"
   },
   {
    "duration": 112,
    "start_time": "2022-11-23T03:00:43.219Z"
   },
   {
    "duration": 1130,
    "start_time": "2022-11-23T03:03:08.610Z"
   },
   {
    "duration": 30,
    "start_time": "2022-11-23T03:03:09.742Z"
   },
   {
    "duration": 16,
    "start_time": "2022-11-23T03:03:09.774Z"
   },
   {
    "duration": 12,
    "start_time": "2022-11-23T03:03:09.792Z"
   },
   {
    "duration": 4,
    "start_time": "2022-11-23T03:03:09.805Z"
   },
   {
    "duration": 33,
    "start_time": "2022-11-23T03:03:09.811Z"
   },
   {
    "duration": 7,
    "start_time": "2022-11-23T03:03:09.846Z"
   },
   {
    "duration": 12,
    "start_time": "2022-11-23T03:03:09.854Z"
   },
   {
    "duration": 9,
    "start_time": "2022-11-23T03:03:09.868Z"
   },
   {
    "duration": 109,
    "start_time": "2022-11-23T03:03:09.878Z"
   },
   {
    "duration": 0,
    "start_time": "2022-11-23T03:03:09.989Z"
   },
   {
    "duration": 0,
    "start_time": "2022-11-23T03:03:09.991Z"
   },
   {
    "duration": 0,
    "start_time": "2022-11-23T03:03:09.993Z"
   },
   {
    "duration": 0,
    "start_time": "2022-11-23T03:03:09.994Z"
   },
   {
    "duration": 1036,
    "start_time": "2022-11-23T03:03:48.869Z"
   },
   {
    "duration": 30,
    "start_time": "2022-11-23T03:03:49.907Z"
   },
   {
    "duration": 16,
    "start_time": "2022-11-23T03:03:49.938Z"
   },
   {
    "duration": 12,
    "start_time": "2022-11-23T03:03:49.956Z"
   },
   {
    "duration": 6,
    "start_time": "2022-11-23T03:03:49.969Z"
   },
   {
    "duration": 25,
    "start_time": "2022-11-23T03:03:49.976Z"
   },
   {
    "duration": 32,
    "start_time": "2022-11-23T03:03:50.003Z"
   },
   {
    "duration": 6,
    "start_time": "2022-11-23T03:03:50.037Z"
   },
   {
    "duration": 6,
    "start_time": "2022-11-23T03:03:50.044Z"
   },
   {
    "duration": 8,
    "start_time": "2022-11-23T03:03:50.052Z"
   },
   {
    "duration": 9,
    "start_time": "2022-11-23T03:03:50.061Z"
   },
   {
    "duration": 13,
    "start_time": "2022-11-23T03:03:50.071Z"
   },
   {
    "duration": 7,
    "start_time": "2022-11-23T03:03:50.086Z"
   },
   {
    "duration": 115,
    "start_time": "2022-11-23T03:03:50.095Z"
   },
   {
    "duration": 1097,
    "start_time": "2022-11-23T03:04:31.861Z"
   },
   {
    "duration": 29,
    "start_time": "2022-11-23T03:04:32.960Z"
   },
   {
    "duration": 14,
    "start_time": "2022-11-23T03:04:32.991Z"
   },
   {
    "duration": 12,
    "start_time": "2022-11-23T03:04:33.006Z"
   },
   {
    "duration": 12,
    "start_time": "2022-11-23T03:04:33.020Z"
   },
   {
    "duration": 30,
    "start_time": "2022-11-23T03:04:33.033Z"
   },
   {
    "duration": 5,
    "start_time": "2022-11-23T03:04:33.065Z"
   },
   {
    "duration": 11,
    "start_time": "2022-11-23T03:04:33.071Z"
   },
   {
    "duration": 17,
    "start_time": "2022-11-23T03:04:33.083Z"
   },
   {
    "duration": 28,
    "start_time": "2022-11-23T03:04:33.102Z"
   },
   {
    "duration": 20,
    "start_time": "2022-11-23T03:04:33.131Z"
   },
   {
    "duration": 38,
    "start_time": "2022-11-23T03:04:33.153Z"
   },
   {
    "duration": 27,
    "start_time": "2022-11-23T03:04:33.193Z"
   },
   {
    "duration": 111,
    "start_time": "2022-11-23T03:04:33.222Z"
   },
   {
    "duration": 1096,
    "start_time": "2022-11-23T03:06:06.223Z"
   },
   {
    "duration": 32,
    "start_time": "2022-11-23T03:06:07.321Z"
   },
   {
    "duration": 16,
    "start_time": "2022-11-23T03:06:07.354Z"
   },
   {
    "duration": 17,
    "start_time": "2022-11-23T03:06:07.372Z"
   },
   {
    "duration": 6,
    "start_time": "2022-11-23T03:06:07.391Z"
   },
   {
    "duration": 28,
    "start_time": "2022-11-23T03:06:07.399Z"
   },
   {
    "duration": 8,
    "start_time": "2022-11-23T03:06:07.429Z"
   },
   {
    "duration": 23,
    "start_time": "2022-11-23T03:06:07.439Z"
   },
   {
    "duration": 12,
    "start_time": "2022-11-23T03:06:07.464Z"
   },
   {
    "duration": 43,
    "start_time": "2022-11-23T03:06:07.478Z"
   },
   {
    "duration": 0,
    "start_time": "2022-11-23T03:06:07.523Z"
   },
   {
    "duration": 0,
    "start_time": "2022-11-23T03:06:07.524Z"
   },
   {
    "duration": 0,
    "start_time": "2022-11-23T03:06:07.525Z"
   },
   {
    "duration": 0,
    "start_time": "2022-11-23T03:06:07.526Z"
   },
   {
    "duration": 1131,
    "start_time": "2022-11-23T03:06:20.307Z"
   },
   {
    "duration": 30,
    "start_time": "2022-11-23T03:06:21.440Z"
   },
   {
    "duration": 16,
    "start_time": "2022-11-23T03:06:21.472Z"
   },
   {
    "duration": 12,
    "start_time": "2022-11-23T03:06:21.490Z"
   },
   {
    "duration": 9,
    "start_time": "2022-11-23T03:06:21.503Z"
   },
   {
    "duration": 28,
    "start_time": "2022-11-23T03:06:21.513Z"
   },
   {
    "duration": 5,
    "start_time": "2022-11-23T03:06:21.543Z"
   },
   {
    "duration": 14,
    "start_time": "2022-11-23T03:06:21.550Z"
   },
   {
    "duration": 14,
    "start_time": "2022-11-23T03:06:21.565Z"
   },
   {
    "duration": 17,
    "start_time": "2022-11-23T03:06:21.581Z"
   },
   {
    "duration": 10,
    "start_time": "2022-11-23T03:06:21.599Z"
   },
   {
    "duration": 9,
    "start_time": "2022-11-23T03:06:21.610Z"
   },
   {
    "duration": 8,
    "start_time": "2022-11-23T03:06:21.620Z"
   },
   {
    "duration": 130,
    "start_time": "2022-11-23T03:06:21.629Z"
   },
   {
    "duration": 1059,
    "start_time": "2022-11-23T03:07:18.579Z"
   },
   {
    "duration": 30,
    "start_time": "2022-11-23T03:07:19.640Z"
   },
   {
    "duration": 16,
    "start_time": "2022-11-23T03:07:19.671Z"
   },
   {
    "duration": 22,
    "start_time": "2022-11-23T03:07:19.689Z"
   },
   {
    "duration": 14,
    "start_time": "2022-11-23T03:07:19.712Z"
   },
   {
    "duration": 31,
    "start_time": "2022-11-23T03:07:19.728Z"
   },
   {
    "duration": 5,
    "start_time": "2022-11-23T03:07:19.761Z"
   },
   {
    "duration": 16,
    "start_time": "2022-11-23T03:07:19.768Z"
   },
   {
    "duration": 10,
    "start_time": "2022-11-23T03:07:19.786Z"
   },
   {
    "duration": 19,
    "start_time": "2022-11-23T03:07:19.798Z"
   },
   {
    "duration": 8,
    "start_time": "2022-11-23T03:07:19.818Z"
   },
   {
    "duration": 11,
    "start_time": "2022-11-23T03:07:19.827Z"
   },
   {
    "duration": 16,
    "start_time": "2022-11-23T03:07:19.839Z"
   },
   {
    "duration": 114,
    "start_time": "2022-11-23T03:07:19.857Z"
   },
   {
    "duration": 1025,
    "start_time": "2022-11-23T03:07:36.795Z"
   },
   {
    "duration": 30,
    "start_time": "2022-11-23T03:07:37.822Z"
   },
   {
    "duration": 15,
    "start_time": "2022-11-23T03:07:37.854Z"
   },
   {
    "duration": 30,
    "start_time": "2022-11-23T03:07:37.871Z"
   },
   {
    "duration": 30,
    "start_time": "2022-11-23T03:07:37.903Z"
   },
   {
    "duration": 38,
    "start_time": "2022-11-23T03:07:37.935Z"
   },
   {
    "duration": 10,
    "start_time": "2022-11-23T03:07:37.975Z"
   },
   {
    "duration": 21,
    "start_time": "2022-11-23T03:07:37.987Z"
   },
   {
    "duration": 26,
    "start_time": "2022-11-23T03:07:38.010Z"
   },
   {
    "duration": 21,
    "start_time": "2022-11-23T03:07:38.038Z"
   },
   {
    "duration": 15,
    "start_time": "2022-11-23T03:07:38.061Z"
   },
   {
    "duration": 28,
    "start_time": "2022-11-23T03:07:38.078Z"
   },
   {
    "duration": 121,
    "start_time": "2022-11-23T03:07:38.108Z"
   },
   {
    "duration": 1053,
    "start_time": "2022-11-23T03:08:13.354Z"
   },
   {
    "duration": 29,
    "start_time": "2022-11-23T03:08:14.409Z"
   },
   {
    "duration": 15,
    "start_time": "2022-11-23T03:08:14.440Z"
   },
   {
    "duration": 20,
    "start_time": "2022-11-23T03:08:14.457Z"
   },
   {
    "duration": 8,
    "start_time": "2022-11-23T03:08:14.478Z"
   },
   {
    "duration": 31,
    "start_time": "2022-11-23T03:08:14.487Z"
   },
   {
    "duration": 7,
    "start_time": "2022-11-23T03:08:14.520Z"
   },
   {
    "duration": 9,
    "start_time": "2022-11-23T03:08:14.530Z"
   },
   {
    "duration": 9,
    "start_time": "2022-11-23T03:08:14.541Z"
   },
   {
    "duration": 11,
    "start_time": "2022-11-23T03:08:14.553Z"
   },
   {
    "duration": 21,
    "start_time": "2022-11-23T03:08:14.566Z"
   },
   {
    "duration": 135,
    "start_time": "2022-11-23T03:08:14.588Z"
   },
   {
    "duration": 0,
    "start_time": "2022-11-23T03:08:14.725Z"
   },
   {
    "duration": 6,
    "start_time": "2022-11-23T03:08:43.690Z"
   },
   {
    "duration": 1053,
    "start_time": "2022-11-23T03:09:51.350Z"
   },
   {
    "duration": 33,
    "start_time": "2022-11-23T03:09:52.406Z"
   },
   {
    "duration": 40,
    "start_time": "2022-11-23T03:09:52.442Z"
   },
   {
    "duration": 34,
    "start_time": "2022-11-23T03:09:52.485Z"
   },
   {
    "duration": 15,
    "start_time": "2022-11-23T03:09:52.521Z"
   },
   {
    "duration": 43,
    "start_time": "2022-11-23T03:09:52.538Z"
   },
   {
    "duration": 7,
    "start_time": "2022-11-23T03:09:52.583Z"
   },
   {
    "duration": 18,
    "start_time": "2022-11-23T03:09:52.592Z"
   },
   {
    "duration": 21,
    "start_time": "2022-11-23T03:09:52.612Z"
   },
   {
    "duration": 11,
    "start_time": "2022-11-23T03:09:52.636Z"
   },
   {
    "duration": 17,
    "start_time": "2022-11-23T03:09:52.649Z"
   },
   {
    "duration": 13,
    "start_time": "2022-11-23T03:09:52.667Z"
   },
   {
    "duration": 108,
    "start_time": "2022-11-23T03:09:52.682Z"
   },
   {
    "duration": 1055,
    "start_time": "2022-11-23T03:12:07.881Z"
   },
   {
    "duration": 30,
    "start_time": "2022-11-23T03:12:08.937Z"
   },
   {
    "duration": 16,
    "start_time": "2022-11-23T03:12:08.969Z"
   },
   {
    "duration": 41,
    "start_time": "2022-11-23T03:12:08.987Z"
   },
   {
    "duration": 34,
    "start_time": "2022-11-23T03:12:09.030Z"
   },
   {
    "duration": 38,
    "start_time": "2022-11-23T03:12:09.066Z"
   },
   {
    "duration": 10,
    "start_time": "2022-11-23T03:12:09.106Z"
   },
   {
    "duration": 35,
    "start_time": "2022-11-23T03:12:09.117Z"
   },
   {
    "duration": 19,
    "start_time": "2022-11-23T03:12:09.153Z"
   },
   {
    "duration": 65,
    "start_time": "2022-11-23T03:12:09.174Z"
   },
   {
    "duration": 32,
    "start_time": "2022-11-23T03:12:09.240Z"
   },
   {
    "duration": 57,
    "start_time": "2022-11-23T03:12:09.274Z"
   },
   {
    "duration": 156,
    "start_time": "2022-11-23T03:12:09.333Z"
   },
   {
    "duration": 54,
    "start_time": "2022-11-23T03:14:22.476Z"
   },
   {
    "duration": 4,
    "start_time": "2022-11-23T03:14:49.485Z"
   },
   {
    "duration": 5,
    "start_time": "2022-11-23T03:15:47.188Z"
   },
   {
    "duration": 1072,
    "start_time": "2022-11-23T03:16:47.204Z"
   },
   {
    "duration": 30,
    "start_time": "2022-11-23T03:16:48.278Z"
   },
   {
    "duration": 16,
    "start_time": "2022-11-23T03:16:48.310Z"
   },
   {
    "duration": 13,
    "start_time": "2022-11-23T03:16:48.327Z"
   },
   {
    "duration": 14,
    "start_time": "2022-11-23T03:16:48.343Z"
   },
   {
    "duration": 32,
    "start_time": "2022-11-23T03:16:48.359Z"
   },
   {
    "duration": 5,
    "start_time": "2022-11-23T03:16:48.392Z"
   },
   {
    "duration": 14,
    "start_time": "2022-11-23T03:16:48.399Z"
   },
   {
    "duration": 7,
    "start_time": "2022-11-23T03:16:48.414Z"
   },
   {
    "duration": 7,
    "start_time": "2022-11-23T03:16:48.422Z"
   },
   {
    "duration": 11,
    "start_time": "2022-11-23T03:16:48.430Z"
   },
   {
    "duration": 10,
    "start_time": "2022-11-23T03:16:48.442Z"
   },
   {
    "duration": 211,
    "start_time": "2022-11-23T03:16:48.454Z"
   },
   {
    "duration": 9,
    "start_time": "2022-11-23T03:37:11.120Z"
   },
   {
    "duration": 182,
    "start_time": "2022-11-23T03:38:49.957Z"
   },
   {
    "duration": 160,
    "start_time": "2022-11-23T03:39:51.817Z"
   },
   {
    "duration": 208,
    "start_time": "2022-11-23T03:42:02.620Z"
   },
   {
    "duration": 1016,
    "start_time": "2022-11-23T03:42:15.302Z"
   },
   {
    "duration": 10901,
    "start_time": "2022-11-23T03:42:26.110Z"
   },
   {
    "duration": 1162,
    "start_time": "2022-11-23T03:42:50.962Z"
   },
   {
    "duration": 45,
    "start_time": "2022-11-23T03:42:52.128Z"
   },
   {
    "duration": 24,
    "start_time": "2022-11-23T03:42:52.175Z"
   },
   {
    "duration": 31,
    "start_time": "2022-11-23T03:42:52.202Z"
   },
   {
    "duration": 41,
    "start_time": "2022-11-23T03:42:52.236Z"
   },
   {
    "duration": 67,
    "start_time": "2022-11-23T03:42:52.278Z"
   },
   {
    "duration": 13,
    "start_time": "2022-11-23T03:42:52.348Z"
   },
   {
    "duration": 28,
    "start_time": "2022-11-23T03:42:52.362Z"
   },
   {
    "duration": 17,
    "start_time": "2022-11-23T03:42:52.393Z"
   },
   {
    "duration": 52,
    "start_time": "2022-11-23T03:42:52.413Z"
   },
   {
    "duration": 41,
    "start_time": "2022-11-23T03:42:52.467Z"
   },
   {
    "duration": 16,
    "start_time": "2022-11-23T03:42:52.510Z"
   },
   {
    "duration": 267,
    "start_time": "2022-11-23T03:42:52.528Z"
   },
   {
    "duration": 189,
    "start_time": "2022-11-23T03:44:29.579Z"
   },
   {
    "duration": 67,
    "start_time": "2022-11-23T03:44:37.107Z"
   },
   {
    "duration": 196,
    "start_time": "2022-11-23T03:44:46.264Z"
   },
   {
    "duration": 1195,
    "start_time": "2022-11-23T03:47:30.410Z"
   },
   {
    "duration": 39,
    "start_time": "2022-11-23T03:47:31.607Z"
   },
   {
    "duration": 23,
    "start_time": "2022-11-23T03:47:31.648Z"
   },
   {
    "duration": 11,
    "start_time": "2022-11-23T03:47:31.673Z"
   },
   {
    "duration": 13,
    "start_time": "2022-11-23T03:47:31.686Z"
   },
   {
    "duration": 33,
    "start_time": "2022-11-23T03:47:31.701Z"
   },
   {
    "duration": 9,
    "start_time": "2022-11-23T03:47:31.740Z"
   },
   {
    "duration": 30,
    "start_time": "2022-11-23T03:47:31.751Z"
   },
   {
    "duration": 6,
    "start_time": "2022-11-23T03:47:31.783Z"
   },
   {
    "duration": 16,
    "start_time": "2022-11-23T03:47:31.791Z"
   },
   {
    "duration": 11,
    "start_time": "2022-11-23T03:47:31.808Z"
   },
   {
    "duration": 8,
    "start_time": "2022-11-23T03:47:31.821Z"
   },
   {
    "duration": 216,
    "start_time": "2022-11-23T03:47:31.831Z"
   },
   {
    "duration": 217,
    "start_time": "2022-11-23T03:50:35.616Z"
   },
   {
    "duration": 190,
    "start_time": "2022-11-23T03:52:27.402Z"
   },
   {
    "duration": 1167,
    "start_time": "2022-11-23T03:52:37.205Z"
   },
   {
    "duration": 29,
    "start_time": "2022-11-23T03:52:38.374Z"
   },
   {
    "duration": 16,
    "start_time": "2022-11-23T03:52:38.405Z"
   },
   {
    "duration": 15,
    "start_time": "2022-11-23T03:52:38.424Z"
   },
   {
    "duration": 20,
    "start_time": "2022-11-23T03:52:38.443Z"
   },
   {
    "duration": 25,
    "start_time": "2022-11-23T03:52:38.464Z"
   },
   {
    "duration": 7,
    "start_time": "2022-11-23T03:52:38.491Z"
   },
   {
    "duration": 17,
    "start_time": "2022-11-23T03:52:38.500Z"
   },
   {
    "duration": 8,
    "start_time": "2022-11-23T03:52:38.519Z"
   },
   {
    "duration": 24,
    "start_time": "2022-11-23T03:52:38.530Z"
   },
   {
    "duration": 9,
    "start_time": "2022-11-23T03:52:38.556Z"
   },
   {
    "duration": 10,
    "start_time": "2022-11-23T03:52:38.566Z"
   },
   {
    "duration": 212,
    "start_time": "2022-11-23T03:52:38.578Z"
   },
   {
    "duration": 167,
    "start_time": "2022-11-23T03:53:10.351Z"
   },
   {
    "duration": 126,
    "start_time": "2022-11-23T03:54:34.251Z"
   },
   {
    "duration": 18,
    "start_time": "2022-11-23T03:55:31.402Z"
   },
   {
    "duration": 17,
    "start_time": "2022-11-23T03:55:51.022Z"
   },
   {
    "duration": 1066,
    "start_time": "2022-11-23T03:58:08.635Z"
   },
   {
    "duration": 999,
    "start_time": "2022-11-23T03:58:29.188Z"
   },
   {
    "duration": 21825,
    "start_time": "2022-11-23T03:59:45.259Z"
   },
   {
    "duration": 24,
    "start_time": "2022-11-23T04:01:25.184Z"
   },
   {
    "duration": 517,
    "start_time": "2022-11-23T04:01:36.861Z"
   },
   {
    "duration": 1141,
    "start_time": "2022-11-23T04:03:17.050Z"
   },
   {
    "duration": 31,
    "start_time": "2022-11-23T04:03:18.193Z"
   },
   {
    "duration": 27,
    "start_time": "2022-11-23T04:03:18.225Z"
   },
   {
    "duration": 17,
    "start_time": "2022-11-23T04:03:18.255Z"
   },
   {
    "duration": 15,
    "start_time": "2022-11-23T04:03:18.273Z"
   },
   {
    "duration": 36,
    "start_time": "2022-11-23T04:03:18.290Z"
   },
   {
    "duration": 10,
    "start_time": "2022-11-23T04:03:18.328Z"
   },
   {
    "duration": 19,
    "start_time": "2022-11-23T04:03:18.343Z"
   },
   {
    "duration": 32,
    "start_time": "2022-11-23T04:03:18.364Z"
   },
   {
    "duration": 20,
    "start_time": "2022-11-23T04:03:18.399Z"
   },
   {
    "duration": 29,
    "start_time": "2022-11-23T04:03:18.421Z"
   },
   {
    "duration": 9,
    "start_time": "2022-11-23T04:03:18.452Z"
   },
   {
    "duration": 1098,
    "start_time": "2022-11-23T04:03:18.463Z"
   },
   {
    "duration": 1003,
    "start_time": "2022-11-23T04:03:19.562Z"
   },
   {
    "duration": 20032,
    "start_time": "2022-11-23T04:03:37.429Z"
   },
   {
    "duration": 20745,
    "start_time": "2022-11-23T04:05:19.412Z"
   },
   {
    "duration": 185,
    "start_time": "2022-11-23T04:07:56.913Z"
   },
   {
    "duration": 1256,
    "start_time": "2022-11-23T04:08:15.757Z"
   },
   {
    "duration": 1267,
    "start_time": "2022-11-23T04:08:46.694Z"
   },
   {
    "duration": 1111,
    "start_time": "2022-11-23T04:09:02.951Z"
   },
   {
    "duration": 1099,
    "start_time": "2022-11-23T04:09:24.699Z"
   },
   {
    "duration": 1012,
    "start_time": "2022-11-23T04:09:53.217Z"
   },
   {
    "duration": 19784,
    "start_time": "2022-11-23T04:10:24.254Z"
   },
   {
    "duration": 17,
    "start_time": "2022-11-23T04:14:48.464Z"
   },
   {
    "duration": 18,
    "start_time": "2022-11-23T04:15:01.647Z"
   },
   {
    "duration": 21,
    "start_time": "2022-11-23T04:15:19.120Z"
   },
   {
    "duration": 1778,
    "start_time": "2022-11-23T04:16:45.915Z"
   },
   {
    "duration": 1738,
    "start_time": "2022-11-23T04:17:12.249Z"
   },
   {
    "duration": 1602,
    "start_time": "2022-11-23T04:18:19.490Z"
   },
   {
    "duration": 14,
    "start_time": "2022-11-23T04:26:38.547Z"
   },
   {
    "duration": 10,
    "start_time": "2022-11-23T04:26:47.853Z"
   },
   {
    "duration": 15,
    "start_time": "2022-11-23T04:27:19.380Z"
   },
   {
    "duration": 8,
    "start_time": "2022-11-23T04:27:31.123Z"
   },
   {
    "duration": 9,
    "start_time": "2022-11-23T04:27:48.234Z"
   },
   {
    "duration": 8,
    "start_time": "2022-11-23T04:27:49.797Z"
   },
   {
    "duration": 1102,
    "start_time": "2022-11-23T04:27:54.022Z"
   },
   {
    "duration": 30,
    "start_time": "2022-11-23T04:27:55.126Z"
   },
   {
    "duration": 42,
    "start_time": "2022-11-23T04:27:55.157Z"
   },
   {
    "duration": 11,
    "start_time": "2022-11-23T04:27:55.201Z"
   },
   {
    "duration": 7,
    "start_time": "2022-11-23T04:27:55.214Z"
   },
   {
    "duration": 30,
    "start_time": "2022-11-23T04:27:55.222Z"
   },
   {
    "duration": 5,
    "start_time": "2022-11-23T04:27:55.254Z"
   },
   {
    "duration": 13,
    "start_time": "2022-11-23T04:27:55.261Z"
   },
   {
    "duration": 6,
    "start_time": "2022-11-23T04:27:55.276Z"
   },
   {
    "duration": 22,
    "start_time": "2022-11-23T04:27:55.284Z"
   },
   {
    "duration": 18,
    "start_time": "2022-11-23T04:27:55.307Z"
   },
   {
    "duration": 10,
    "start_time": "2022-11-23T04:27:55.327Z"
   },
   {
    "duration": 996,
    "start_time": "2022-11-23T04:27:55.339Z"
   },
   {
    "duration": 15,
    "start_time": "2022-11-23T04:27:56.337Z"
   },
   {
    "duration": 9,
    "start_time": "2022-11-23T04:27:56.354Z"
   },
   {
    "duration": 22,
    "start_time": "2022-11-23T04:27:56.365Z"
   },
   {
    "duration": 18809,
    "start_time": "2022-11-23T04:27:56.389Z"
   },
   {
    "duration": 1679,
    "start_time": "2022-11-23T04:28:15.199Z"
   },
   {
    "duration": 1114,
    "start_time": "2022-11-23T04:33:18.547Z"
   },
   {
    "duration": 30,
    "start_time": "2022-11-23T04:33:19.663Z"
   },
   {
    "duration": 17,
    "start_time": "2022-11-23T04:33:19.695Z"
   },
   {
    "duration": 12,
    "start_time": "2022-11-23T04:33:19.715Z"
   },
   {
    "duration": 8,
    "start_time": "2022-11-23T04:33:19.729Z"
   },
   {
    "duration": 36,
    "start_time": "2022-11-23T04:33:19.739Z"
   },
   {
    "duration": 5,
    "start_time": "2022-11-23T04:33:19.777Z"
   },
   {
    "duration": 12,
    "start_time": "2022-11-23T04:33:19.784Z"
   },
   {
    "duration": 8,
    "start_time": "2022-11-23T04:33:19.797Z"
   },
   {
    "duration": 6,
    "start_time": "2022-11-23T04:33:19.807Z"
   },
   {
    "duration": 6,
    "start_time": "2022-11-23T04:33:19.815Z"
   },
   {
    "duration": 18,
    "start_time": "2022-11-23T04:33:19.823Z"
   },
   {
    "duration": 1136,
    "start_time": "2022-11-23T04:33:19.843Z"
   },
   {
    "duration": 14,
    "start_time": "2022-11-23T04:33:20.980Z"
   },
   {
    "duration": 8,
    "start_time": "2022-11-23T04:33:20.995Z"
   },
   {
    "duration": 7,
    "start_time": "2022-11-23T04:33:21.005Z"
   },
   {
    "duration": 20235,
    "start_time": "2022-11-23T04:33:21.014Z"
   },
   {
    "duration": 1820,
    "start_time": "2022-11-23T04:33:41.251Z"
   },
   {
    "duration": 1121,
    "start_time": "2022-11-23T05:12:54.250Z"
   },
   {
    "duration": 31,
    "start_time": "2022-11-23T05:12:55.373Z"
   },
   {
    "duration": 45,
    "start_time": "2022-11-23T05:12:55.406Z"
   },
   {
    "duration": 43,
    "start_time": "2022-11-23T05:12:55.453Z"
   },
   {
    "duration": 34,
    "start_time": "2022-11-23T05:12:55.498Z"
   },
   {
    "duration": 39,
    "start_time": "2022-11-23T05:12:55.533Z"
   },
   {
    "duration": 11,
    "start_time": "2022-11-23T05:12:55.574Z"
   },
   {
    "duration": 27,
    "start_time": "2022-11-23T05:12:55.586Z"
   },
   {
    "duration": 21,
    "start_time": "2022-11-23T05:12:55.615Z"
   },
   {
    "duration": 42,
    "start_time": "2022-11-23T05:12:55.638Z"
   },
   {
    "duration": 40,
    "start_time": "2022-11-23T05:12:55.682Z"
   },
   {
    "duration": 1004,
    "start_time": "2022-11-23T05:12:55.724Z"
   },
   {
    "duration": 20,
    "start_time": "2022-11-23T05:12:56.730Z"
   },
   {
    "duration": 18,
    "start_time": "2022-11-23T05:12:56.753Z"
   },
   {
    "duration": 25,
    "start_time": "2022-11-23T05:12:56.773Z"
   },
   {
    "duration": 19382,
    "start_time": "2022-11-23T05:12:56.800Z"
   },
   {
    "duration": 1599,
    "start_time": "2022-11-23T05:13:16.184Z"
   },
   {
    "duration": 1105,
    "start_time": "2022-11-23T05:14:08.133Z"
   },
   {
    "duration": 31,
    "start_time": "2022-11-23T05:14:09.241Z"
   },
   {
    "duration": 16,
    "start_time": "2022-11-23T05:14:09.274Z"
   },
   {
    "duration": 10,
    "start_time": "2022-11-23T05:14:09.292Z"
   },
   {
    "duration": 5,
    "start_time": "2022-11-23T05:14:09.303Z"
   },
   {
    "duration": 23,
    "start_time": "2022-11-23T05:14:09.309Z"
   },
   {
    "duration": 16,
    "start_time": "2022-11-23T05:14:09.336Z"
   },
   {
    "duration": 8,
    "start_time": "2022-11-23T05:14:09.353Z"
   },
   {
    "duration": 5,
    "start_time": "2022-11-23T05:14:09.363Z"
   },
   {
    "duration": 5,
    "start_time": "2022-11-23T05:14:09.371Z"
   },
   {
    "duration": 5,
    "start_time": "2022-11-23T05:14:09.377Z"
   },
   {
    "duration": 11,
    "start_time": "2022-11-23T05:14:09.384Z"
   },
   {
    "duration": 1015,
    "start_time": "2022-11-23T05:14:09.396Z"
   },
   {
    "duration": 22,
    "start_time": "2022-11-23T05:14:10.413Z"
   },
   {
    "duration": 11,
    "start_time": "2022-11-23T05:14:10.437Z"
   },
   {
    "duration": 12,
    "start_time": "2022-11-23T05:14:10.449Z"
   },
   {
    "duration": 20256,
    "start_time": "2022-11-23T05:14:10.463Z"
   },
   {
    "duration": 1720,
    "start_time": "2022-11-23T05:14:30.721Z"
   },
   {
    "duration": 13,
    "start_time": "2022-11-23T05:24:43.115Z"
   },
   {
    "duration": 9,
    "start_time": "2022-11-23T05:24:45.275Z"
   },
   {
    "duration": 9,
    "start_time": "2022-11-23T05:24:47.683Z"
   },
   {
    "duration": 9,
    "start_time": "2022-11-23T05:24:59.172Z"
   },
   {
    "duration": 14,
    "start_time": "2022-11-23T05:25:12.231Z"
   },
   {
    "duration": 1146,
    "start_time": "2022-11-23T05:25:20.521Z"
   },
   {
    "duration": 30,
    "start_time": "2022-11-23T05:25:21.669Z"
   },
   {
    "duration": 18,
    "start_time": "2022-11-23T05:25:21.700Z"
   },
   {
    "duration": 11,
    "start_time": "2022-11-23T05:25:21.719Z"
   },
   {
    "duration": 32,
    "start_time": "2022-11-23T05:25:21.732Z"
   },
   {
    "duration": 33,
    "start_time": "2022-11-23T05:25:21.766Z"
   },
   {
    "duration": 6,
    "start_time": "2022-11-23T05:25:21.800Z"
   },
   {
    "duration": 6,
    "start_time": "2022-11-23T05:25:21.807Z"
   },
   {
    "duration": 4,
    "start_time": "2022-11-23T05:25:21.815Z"
   },
   {
    "duration": 14,
    "start_time": "2022-11-23T05:25:21.820Z"
   },
   {
    "duration": 15,
    "start_time": "2022-11-23T05:25:21.839Z"
   },
   {
    "duration": 21,
    "start_time": "2022-11-23T05:25:21.856Z"
   },
   {
    "duration": 1071,
    "start_time": "2022-11-23T05:25:21.879Z"
   },
   {
    "duration": 12,
    "start_time": "2022-11-23T05:25:22.953Z"
   },
   {
    "duration": 10,
    "start_time": "2022-11-23T05:25:22.966Z"
   },
   {
    "duration": 8,
    "start_time": "2022-11-23T05:25:22.978Z"
   },
   {
    "duration": 20338,
    "start_time": "2022-11-23T05:25:22.988Z"
   },
   {
    "duration": 1650,
    "start_time": "2022-11-23T05:25:43.327Z"
   },
   {
    "duration": 113,
    "start_time": "2022-11-23T05:25:44.979Z"
   },
   {
    "duration": 5174,
    "start_time": "2022-11-23T05:25:59.697Z"
   },
   {
    "duration": 1541,
    "start_time": "2022-11-23T05:26:09.482Z"
   },
   {
    "duration": 9,
    "start_time": "2022-11-23T05:26:12.184Z"
   },
   {
    "duration": 13,
    "start_time": "2022-11-23T05:28:17.477Z"
   },
   {
    "duration": 8,
    "start_time": "2022-11-23T05:28:18.488Z"
   },
   {
    "duration": 12,
    "start_time": "2022-11-23T05:28:19.794Z"
   },
   {
    "duration": 9,
    "start_time": "2022-11-23T05:28:43.224Z"
   },
   {
    "duration": 13,
    "start_time": "2022-11-23T05:29:15.944Z"
   },
   {
    "duration": 13,
    "start_time": "2022-11-23T05:29:29.522Z"
   },
   {
    "duration": 1002,
    "start_time": "2022-11-23T05:30:08.161Z"
   },
   {
    "duration": 960,
    "start_time": "2022-11-23T05:30:13.065Z"
   },
   {
    "duration": 16,
    "start_time": "2022-11-23T05:30:16.372Z"
   },
   {
    "duration": 1041,
    "start_time": "2022-11-23T05:30:18.708Z"
   },
   {
    "duration": 13,
    "start_time": "2022-11-23T05:30:19.944Z"
   },
   {
    "duration": 988,
    "start_time": "2022-11-23T05:30:27.686Z"
   },
   {
    "duration": 13,
    "start_time": "2022-11-23T05:30:30.285Z"
   },
   {
    "duration": 22,
    "start_time": "2022-11-23T05:30:32.624Z"
   },
   {
    "duration": 11,
    "start_time": "2022-11-23T05:30:33.636Z"
   },
   {
    "duration": 10,
    "start_time": "2022-11-23T05:30:35.180Z"
   },
   {
    "duration": 10,
    "start_time": "2022-11-23T05:32:01.449Z"
   },
   {
    "duration": 15,
    "start_time": "2022-11-23T05:32:20.334Z"
   },
   {
    "duration": 12,
    "start_time": "2022-11-23T05:32:32.392Z"
   },
   {
    "duration": 20544,
    "start_time": "2022-11-23T05:32:44.082Z"
   },
   {
    "duration": 20442,
    "start_time": "2022-11-23T05:33:22.917Z"
   },
   {
    "duration": 997,
    "start_time": "2022-11-23T05:34:29.313Z"
   },
   {
    "duration": 13,
    "start_time": "2022-11-23T05:34:32.771Z"
   },
   {
    "duration": 13,
    "start_time": "2022-11-23T05:34:33.561Z"
   },
   {
    "duration": 9,
    "start_time": "2022-11-23T05:34:34.377Z"
   },
   {
    "duration": 9,
    "start_time": "2022-11-23T05:35:31.371Z"
   },
   {
    "duration": 25,
    "start_time": "2022-11-23T05:35:39.495Z"
   },
   {
    "duration": 13,
    "start_time": "2022-11-23T05:35:50.970Z"
   },
   {
    "duration": 15,
    "start_time": "2022-11-23T05:38:57.038Z"
   },
   {
    "duration": 10,
    "start_time": "2022-11-23T05:39:10.569Z"
   },
   {
    "duration": 14,
    "start_time": "2022-11-23T05:40:06.382Z"
   },
   {
    "duration": 9,
    "start_time": "2022-11-23T05:40:08.226Z"
   },
   {
    "duration": 15,
    "start_time": "2022-11-23T05:40:16.179Z"
   },
   {
    "duration": 9,
    "start_time": "2022-11-23T05:40:31.424Z"
   },
   {
    "duration": 12,
    "start_time": "2022-11-23T05:40:33.986Z"
   },
   {
    "duration": 1041,
    "start_time": "2022-11-23T05:43:29.178Z"
   },
   {
    "duration": 32,
    "start_time": "2022-11-23T05:43:30.221Z"
   },
   {
    "duration": 16,
    "start_time": "2022-11-23T05:43:30.254Z"
   },
   {
    "duration": 34,
    "start_time": "2022-11-23T05:43:30.272Z"
   },
   {
    "duration": 19,
    "start_time": "2022-11-23T05:43:30.309Z"
   },
   {
    "duration": 74,
    "start_time": "2022-11-23T05:43:30.330Z"
   },
   {
    "duration": 16,
    "start_time": "2022-11-23T05:43:30.406Z"
   },
   {
    "duration": 49,
    "start_time": "2022-11-23T05:43:30.424Z"
   },
   {
    "duration": 40,
    "start_time": "2022-11-23T05:43:30.475Z"
   },
   {
    "duration": 42,
    "start_time": "2022-11-23T05:43:30.517Z"
   },
   {
    "duration": 59,
    "start_time": "2022-11-23T05:43:30.560Z"
   },
   {
    "duration": 41,
    "start_time": "2022-11-23T05:43:30.620Z"
   },
   {
    "duration": 1046,
    "start_time": "2022-11-23T05:43:30.663Z"
   },
   {
    "duration": 24,
    "start_time": "2022-11-23T05:43:31.711Z"
   },
   {
    "duration": 8,
    "start_time": "2022-11-23T05:43:31.737Z"
   },
   {
    "duration": 9,
    "start_time": "2022-11-23T05:43:31.746Z"
   },
   {
    "duration": 19117,
    "start_time": "2022-11-23T05:43:31.756Z"
   },
   {
    "duration": 1726,
    "start_time": "2022-11-23T05:43:50.875Z"
   },
   {
    "duration": 3,
    "start_time": "2022-11-23T05:43:52.604Z"
   },
   {
    "duration": 195,
    "start_time": "2022-11-23T05:46:20.333Z"
   },
   {
    "duration": 85,
    "start_time": "2022-11-23T05:47:10.389Z"
   },
   {
    "duration": 111,
    "start_time": "2022-11-23T05:47:48.718Z"
   },
   {
    "duration": 1070,
    "start_time": "2022-11-23T05:48:48.321Z"
   },
   {
    "duration": 13,
    "start_time": "2022-11-23T05:48:51.402Z"
   },
   {
    "duration": 8,
    "start_time": "2022-11-23T05:48:52.213Z"
   },
   {
    "duration": 986,
    "start_time": "2022-11-23T05:49:58.520Z"
   },
   {
    "duration": 117,
    "start_time": "2022-11-23T05:50:21.268Z"
   },
   {
    "duration": 19050,
    "start_time": "2022-11-23T05:50:30.107Z"
   },
   {
    "duration": 90,
    "start_time": "2022-11-23T05:51:01.670Z"
   },
   {
    "duration": 101,
    "start_time": "2022-11-23T05:52:20.276Z"
   },
   {
    "duration": 104,
    "start_time": "2022-11-23T05:52:46.589Z"
   },
   {
    "duration": 80,
    "start_time": "2022-11-23T05:53:01.572Z"
   },
   {
    "duration": 105,
    "start_time": "2022-11-23T05:53:05.825Z"
   },
   {
    "duration": 257,
    "start_time": "2022-11-23T05:53:38.742Z"
   },
   {
    "duration": 189,
    "start_time": "2022-11-23T05:53:40.362Z"
   },
   {
    "duration": 248,
    "start_time": "2022-11-23T05:53:41.554Z"
   },
   {
    "duration": 3,
    "start_time": "2022-11-23T06:12:45.029Z"
   },
   {
    "duration": 19,
    "start_time": "2022-11-23T06:12:45.638Z"
   },
   {
    "duration": 3,
    "start_time": "2022-11-23T06:13:15.029Z"
   },
   {
    "duration": 11,
    "start_time": "2022-11-23T06:13:15.702Z"
   },
   {
    "duration": 12,
    "start_time": "2022-11-23T06:17:00.273Z"
   },
   {
    "duration": 9,
    "start_time": "2022-11-23T06:17:05.249Z"
   },
   {
    "duration": 14,
    "start_time": "2022-11-23T06:17:18.074Z"
   },
   {
    "duration": 13,
    "start_time": "2022-11-23T06:18:02.080Z"
   },
   {
    "duration": 184,
    "start_time": "2022-11-23T06:22:38.406Z"
   },
   {
    "duration": 12,
    "start_time": "2022-11-23T06:22:51.376Z"
   },
   {
    "duration": 178,
    "start_time": "2022-11-23T06:22:53.119Z"
   },
   {
    "duration": 1086,
    "start_time": "2022-11-23T06:30:22.359Z"
   },
   {
    "duration": 36,
    "start_time": "2022-11-23T06:30:23.447Z"
   },
   {
    "duration": 16,
    "start_time": "2022-11-23T06:30:23.485Z"
   },
   {
    "duration": 19,
    "start_time": "2022-11-23T06:30:23.503Z"
   },
   {
    "duration": 20,
    "start_time": "2022-11-23T06:30:23.524Z"
   },
   {
    "duration": 40,
    "start_time": "2022-11-23T06:30:23.546Z"
   },
   {
    "duration": 8,
    "start_time": "2022-11-23T06:30:23.588Z"
   },
   {
    "duration": 29,
    "start_time": "2022-11-23T06:30:23.597Z"
   },
   {
    "duration": 14,
    "start_time": "2022-11-23T06:30:23.627Z"
   },
   {
    "duration": 14,
    "start_time": "2022-11-23T06:30:23.643Z"
   },
   {
    "duration": 25,
    "start_time": "2022-11-23T06:30:23.659Z"
   },
   {
    "duration": 32,
    "start_time": "2022-11-23T06:30:23.686Z"
   },
   {
    "duration": 986,
    "start_time": "2022-11-23T06:30:23.720Z"
   },
   {
    "duration": 13,
    "start_time": "2022-11-23T06:30:24.709Z"
   },
   {
    "duration": 9,
    "start_time": "2022-11-23T06:30:24.735Z"
   },
   {
    "duration": 13,
    "start_time": "2022-11-23T06:30:24.746Z"
   },
   {
    "duration": 19078,
    "start_time": "2022-11-23T06:30:24.761Z"
   },
   {
    "duration": 252,
    "start_time": "2022-11-23T06:30:43.841Z"
   },
   {
    "duration": 188,
    "start_time": "2022-11-23T06:30:44.094Z"
   },
   {
    "duration": 257,
    "start_time": "2022-11-23T06:30:44.284Z"
   },
   {
    "duration": 1607,
    "start_time": "2022-11-23T06:30:44.543Z"
   },
   {
    "duration": 12,
    "start_time": "2022-11-23T06:30:46.152Z"
   },
   {
    "duration": 220,
    "start_time": "2022-11-23T06:30:46.166Z"
   },
   {
    "duration": 1046,
    "start_time": "2022-11-23T06:31:33.470Z"
   },
   {
    "duration": 32,
    "start_time": "2022-11-23T06:31:34.518Z"
   },
   {
    "duration": 16,
    "start_time": "2022-11-23T06:31:34.552Z"
   },
   {
    "duration": 22,
    "start_time": "2022-11-23T06:31:34.570Z"
   },
   {
    "duration": 10,
    "start_time": "2022-11-23T06:31:34.595Z"
   },
   {
    "duration": 33,
    "start_time": "2022-11-23T06:31:34.606Z"
   },
   {
    "duration": 5,
    "start_time": "2022-11-23T06:31:34.641Z"
   },
   {
    "duration": 14,
    "start_time": "2022-11-23T06:31:34.648Z"
   },
   {
    "duration": 8,
    "start_time": "2022-11-23T06:31:34.663Z"
   },
   {
    "duration": 11,
    "start_time": "2022-11-23T06:31:34.673Z"
   },
   {
    "duration": 9,
    "start_time": "2022-11-23T06:31:34.685Z"
   },
   {
    "duration": 15,
    "start_time": "2022-11-23T06:31:34.695Z"
   },
   {
    "duration": 994,
    "start_time": "2022-11-23T06:31:34.711Z"
   },
   {
    "duration": 13,
    "start_time": "2022-11-23T06:31:35.708Z"
   },
   {
    "duration": 24,
    "start_time": "2022-11-23T06:31:35.722Z"
   },
   {
    "duration": 8,
    "start_time": "2022-11-23T06:31:35.748Z"
   },
   {
    "duration": 19069,
    "start_time": "2022-11-23T06:31:35.757Z"
   },
   {
    "duration": 261,
    "start_time": "2022-11-23T06:31:54.828Z"
   },
   {
    "duration": 198,
    "start_time": "2022-11-23T06:31:55.091Z"
   },
   {
    "duration": 266,
    "start_time": "2022-11-23T06:31:55.290Z"
   },
   {
    "duration": 1669,
    "start_time": "2022-11-23T06:31:55.558Z"
   },
   {
    "duration": 12,
    "start_time": "2022-11-23T06:31:57.235Z"
   },
   {
    "duration": 203,
    "start_time": "2022-11-23T06:31:57.248Z"
   },
   {
    "duration": 8,
    "start_time": "2022-11-23T06:38:17.318Z"
   },
   {
    "duration": 27,
    "start_time": "2022-11-23T06:39:26.823Z"
   },
   {
    "duration": 4,
    "start_time": "2022-11-23T06:39:29.737Z"
   },
   {
    "duration": 43,
    "start_time": "2022-11-23T06:39:59.368Z"
   },
   {
    "duration": 1147,
    "start_time": "2022-11-23T06:40:13.342Z"
   },
   {
    "duration": 30,
    "start_time": "2022-11-23T06:40:14.490Z"
   },
   {
    "duration": 17,
    "start_time": "2022-11-23T06:40:14.522Z"
   },
   {
    "duration": 27,
    "start_time": "2022-11-23T06:40:14.542Z"
   },
   {
    "duration": 49,
    "start_time": "2022-11-23T06:40:14.571Z"
   },
   {
    "duration": 6,
    "start_time": "2022-11-23T06:40:14.622Z"
   },
   {
    "duration": 22,
    "start_time": "2022-11-23T06:40:14.630Z"
   },
   {
    "duration": 16,
    "start_time": "2022-11-23T06:40:14.654Z"
   },
   {
    "duration": 37,
    "start_time": "2022-11-23T06:40:14.672Z"
   },
   {
    "duration": 10,
    "start_time": "2022-11-23T06:40:14.713Z"
   },
   {
    "duration": 13,
    "start_time": "2022-11-23T06:40:14.725Z"
   },
   {
    "duration": 11,
    "start_time": "2022-11-23T06:40:14.740Z"
   },
   {
    "duration": 30,
    "start_time": "2022-11-23T06:40:14.752Z"
   },
   {
    "duration": 1016,
    "start_time": "2022-11-23T06:40:14.784Z"
   },
   {
    "duration": 17,
    "start_time": "2022-11-23T06:40:15.802Z"
   },
   {
    "duration": 22,
    "start_time": "2022-11-23T06:40:15.820Z"
   },
   {
    "duration": 17,
    "start_time": "2022-11-23T06:40:15.844Z"
   },
   {
    "duration": 19798,
    "start_time": "2022-11-23T06:40:15.863Z"
   },
   {
    "duration": 282,
    "start_time": "2022-11-23T06:40:35.663Z"
   },
   {
    "duration": 215,
    "start_time": "2022-11-23T06:40:35.947Z"
   },
   {
    "duration": 268,
    "start_time": "2022-11-23T06:40:36.164Z"
   },
   {
    "duration": 1723,
    "start_time": "2022-11-23T06:40:36.434Z"
   },
   {
    "duration": 14,
    "start_time": "2022-11-23T06:40:38.159Z"
   },
   {
    "duration": 249,
    "start_time": "2022-11-23T06:40:38.175Z"
   },
   {
    "duration": 1845,
    "start_time": "2022-11-23T07:18:59.440Z"
   },
   {
    "duration": 67,
    "start_time": "2022-11-23T07:19:01.286Z"
   },
   {
    "duration": 15,
    "start_time": "2022-11-23T07:19:01.355Z"
   },
   {
    "duration": 13,
    "start_time": "2022-11-23T07:19:01.372Z"
   },
   {
    "duration": 21,
    "start_time": "2022-11-23T07:19:01.386Z"
   },
   {
    "duration": 6,
    "start_time": "2022-11-23T07:19:01.409Z"
   },
   {
    "duration": 12,
    "start_time": "2022-11-23T07:19:01.425Z"
   },
   {
    "duration": 7,
    "start_time": "2022-11-23T07:19:01.438Z"
   },
   {
    "duration": 7,
    "start_time": "2022-11-23T07:19:01.446Z"
   },
   {
    "duration": 6,
    "start_time": "2022-11-23T07:19:01.455Z"
   },
   {
    "duration": 6,
    "start_time": "2022-11-23T07:19:01.463Z"
   },
   {
    "duration": 5,
    "start_time": "2022-11-23T07:19:01.470Z"
   },
   {
    "duration": 7,
    "start_time": "2022-11-23T07:19:01.477Z"
   },
   {
    "duration": 929,
    "start_time": "2022-11-23T07:19:01.486Z"
   },
   {
    "duration": 18,
    "start_time": "2022-11-23T07:19:02.416Z"
   },
   {
    "duration": 8,
    "start_time": "2022-11-23T07:19:02.435Z"
   },
   {
    "duration": 11,
    "start_time": "2022-11-23T07:19:02.444Z"
   },
   {
    "duration": 18470,
    "start_time": "2022-11-23T07:19:02.457Z"
   },
   {
    "duration": 247,
    "start_time": "2022-11-23T07:19:20.929Z"
   },
   {
    "duration": 189,
    "start_time": "2022-11-23T07:19:21.178Z"
   },
   {
    "duration": 242,
    "start_time": "2022-11-23T07:19:21.369Z"
   },
   {
    "duration": 1575,
    "start_time": "2022-11-23T07:19:21.614Z"
   },
   {
    "duration": 11,
    "start_time": "2022-11-23T07:19:23.191Z"
   },
   {
    "duration": 192,
    "start_time": "2022-11-23T07:19:23.203Z"
   }
  ],
  "kernelspec": {
   "display_name": "Python 3 (ipykernel)",
   "language": "python",
   "name": "python3"
  },
  "language_info": {
   "codemirror_mode": {
    "name": "ipython",
    "version": 3
   },
   "file_extension": ".py",
   "mimetype": "text/x-python",
   "name": "python",
   "nbconvert_exporter": "python",
   "pygments_lexer": "ipython3",
   "version": "3.9.12"
  },
  "toc": {
   "base_numbering": 1,
   "nav_menu": {},
   "number_sections": true,
   "sideBar": true,
   "skip_h1_title": true,
   "title_cell": "Table of Contents",
   "title_sidebar": "Contents",
   "toc_cell": false,
   "toc_position": {},
   "toc_section_display": true,
   "toc_window_display": false
  }
 },
 "nbformat": 4,
 "nbformat_minor": 2
}
