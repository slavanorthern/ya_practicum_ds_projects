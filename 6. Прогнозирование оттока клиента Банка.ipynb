{
 "cells": [
  {
   "cell_type": "markdown",
   "metadata": {
    "toc": true
   },
   "source": [
    "<h1>Содержание<span class=\"tocSkip\"></span></h1>\n",
    "<div class=\"toc\"><ul class=\"toc-item\"><li><span><a href=\"#Подготовка-данных\" data-toc-modified-id=\"Подготовка-данных-1\"><span class=\"toc-item-num\">1&nbsp;&nbsp;</span>Подготовка данных</a></span></li><li><span><a href=\"#Исследование-задачи\" data-toc-modified-id=\"Исследование-задачи-2\"><span class=\"toc-item-num\">2&nbsp;&nbsp;</span>Исследование задачи</a></span></li><li><span><a href=\"#Борьба-с-дисбалансом\" data-toc-modified-id=\"Борьба-с-дисбалансом-3\"><span class=\"toc-item-num\">3&nbsp;&nbsp;</span>Борьба с дисбалансом</a></span></li><li><span><a href=\"#Тестирование-модели\" data-toc-modified-id=\"Тестирование-модели-4\"><span class=\"toc-item-num\">4&nbsp;&nbsp;</span>Тестирование модели</a></span></li><li><span><a href=\"#Общий-вывод:\" data-toc-modified-id=\"Общий-вывод:-5\"><span class=\"toc-item-num\">5&nbsp;&nbsp;</span>Общий вывод:</a></span></li><li><span><a href=\"#Чек-лист-готовности-проекта\" data-toc-modified-id=\"Чек-лист-готовности-проекта-6\"><span class=\"toc-item-num\">6&nbsp;&nbsp;</span>Чек-лист готовности проекта</a></span></li></ul></div>"
   ]
  },
  {
   "cell_type": "markdown",
   "metadata": {},
   "source": [
    "# Отток клиентов"
   ]
  },
  {
   "cell_type": "markdown",
   "metadata": {},
   "source": [
    "Из «Бета-Банка» стали уходить клиенты. Каждый месяц. Немного, но заметно. Банковские маркетологи посчитали: сохранять текущих клиентов дешевле, чем привлекать новых.\n",
    "\n",
    "Нужно спрогнозировать, уйдёт клиент из банка в ближайшее время или нет. Вам предоставлены исторические данные о поведении клиентов и расторжении договоров с банком. \n",
    "\n",
    "Постройте модель с предельно большим значением *F1*-меры. Чтобы сдать проект успешно, нужно довести метрику до 0.59. Проверьте *F1*-меру на тестовой выборке самостоятельно.\n",
    "\n",
    "Дополнительно измеряйте *AUC-ROC*, сравнивайте её значение с *F1*-мерой.\n",
    "\n",
    "Источник данных: [https://www.kaggle.com/barelydedicated/bank-customer-churn-modeling](https://www.kaggle.com/barelydedicated/bank-customer-churn-modeling)\n",
    "\n",
    "\n",
    "\n",
    "**Описание данных**\n",
    "\n",
    "\n",
    "**Признаки:**\n",
    "\n",
    "RowNumber — индекс строки в данных\n",
    "\n",
    "CustomerId — уникальный идентификатор клиента\n",
    "\n",
    "Surname — фамилия\n",
    "\n",
    "CreditScore — кредитный рейтинг\n",
    "\n",
    "Geography — страна проживания\n",
    "\n",
    "Gender — пол\n",
    "\n",
    "Age — возраст\n",
    "\n",
    "Tenure — сколько лет человек является клиентом банка\n",
    "\n",
    "Balance — баланс на счёте\n",
    "\n",
    "NumOfProducts — количество продуктов банка, используемых клиентом\n",
    "\n",
    "HasCrCard — наличие кредитной карты\n",
    "\n",
    "IsActiveMember — активность клиента\n",
    "\n",
    "EstimatedSalary — предполагаемая зарплата\n",
    "\n",
    "**Целевой признак:**\n",
    "\n",
    "Exited — факт ухода клиента"
   ]
  },
  {
   "cell_type": "markdown",
   "metadata": {},
   "source": [
    "## Подготовка данных"
   ]
  },
  {
   "cell_type": "markdown",
   "metadata": {},
   "source": [
    "Импортируем необходимые библиотеки, модели, метрики и другое, что пригодится в исследовании:"
   ]
  },
  {
   "cell_type": "code",
   "execution_count": 1,
   "metadata": {},
   "outputs": [],
   "source": [
    "import pandas as pd\n",
    "import numpy as np\n",
    "import matplotlib.pyplot as plt\n",
    "\n",
    "\n",
    "from sklearn.linear_model import LogisticRegression\n",
    "from sklearn.tree import DecisionTreeClassifier\n",
    "from sklearn.ensemble import RandomForestClassifier\n",
    "from sklearn.dummy import DummyClassifier\n",
    "\n",
    "\n",
    "from sklearn.metrics import f1_score, precision_score, recall_score, accuracy_score, roc_auc_score, roc_curve\n",
    "from sklearn.utils import shuffle\n",
    "from sklearn.model_selection import train_test_split, cross_val_score, RandomizedSearchCV, GridSearchCV\n",
    "\n",
    "\n",
    "import warnings\n",
    "warnings.filterwarnings('ignore')"
   ]
  },
  {
   "cell_type": "markdown",
   "metadata": {},
   "source": [
    "<div class=\"alert alert-block alert-success\">\n",
    "<b>Успех:</b> Импорты на месте\n",
    "</div>\n"
   ]
  },
  {
   "cell_type": "markdown",
   "metadata": {},
   "source": [
    "Изучим данные на наличие дубликатов, пропусков, правильность отображения:"
   ]
  },
  {
   "cell_type": "code",
   "execution_count": 2,
   "metadata": {},
   "outputs": [
    {
     "name": "stdout",
     "output_type": "stream",
     "text": [
      "<class 'pandas.core.frame.DataFrame'>\n",
      "RangeIndex: 10000 entries, 0 to 9999\n",
      "Data columns (total 14 columns):\n",
      " #   Column           Non-Null Count  Dtype  \n",
      "---  ------           --------------  -----  \n",
      " 0   RowNumber        10000 non-null  int64  \n",
      " 1   CustomerId       10000 non-null  int64  \n",
      " 2   Surname          10000 non-null  object \n",
      " 3   CreditScore      10000 non-null  int64  \n",
      " 4   Geography        10000 non-null  object \n",
      " 5   Gender           10000 non-null  object \n",
      " 6   Age              10000 non-null  int64  \n",
      " 7   Tenure           9091 non-null   float64\n",
      " 8   Balance          10000 non-null  float64\n",
      " 9   NumOfProducts    10000 non-null  int64  \n",
      " 10  HasCrCard        10000 non-null  int64  \n",
      " 11  IsActiveMember   10000 non-null  int64  \n",
      " 12  EstimatedSalary  10000 non-null  float64\n",
      " 13  Exited           10000 non-null  int64  \n",
      "dtypes: float64(3), int64(8), object(3)\n",
      "memory usage: 1.1+ MB\n"
     ]
    }
   ],
   "source": [
    "data = pd.read_csv('/datasets/Churn.csv')\n",
    "data.info()"
   ]
  },
  {
   "cell_type": "code",
   "execution_count": 3,
   "metadata": {},
   "outputs": [
    {
     "data": {
      "text/html": [
       "<div>\n",
       "<style scoped>\n",
       "    .dataframe tbody tr th:only-of-type {\n",
       "        vertical-align: middle;\n",
       "    }\n",
       "\n",
       "    .dataframe tbody tr th {\n",
       "        vertical-align: top;\n",
       "    }\n",
       "\n",
       "    .dataframe thead th {\n",
       "        text-align: right;\n",
       "    }\n",
       "</style>\n",
       "<table border=\"1\" class=\"dataframe\">\n",
       "  <thead>\n",
       "    <tr style=\"text-align: right;\">\n",
       "      <th></th>\n",
       "      <th>RowNumber</th>\n",
       "      <th>CustomerId</th>\n",
       "      <th>CreditScore</th>\n",
       "      <th>Age</th>\n",
       "      <th>Tenure</th>\n",
       "      <th>Balance</th>\n",
       "      <th>NumOfProducts</th>\n",
       "      <th>HasCrCard</th>\n",
       "      <th>IsActiveMember</th>\n",
       "      <th>EstimatedSalary</th>\n",
       "      <th>Exited</th>\n",
       "    </tr>\n",
       "  </thead>\n",
       "  <tbody>\n",
       "    <tr>\n",
       "      <th>count</th>\n",
       "      <td>10000.00000</td>\n",
       "      <td>1.000000e+04</td>\n",
       "      <td>10000.000000</td>\n",
       "      <td>10000.000000</td>\n",
       "      <td>9091.000000</td>\n",
       "      <td>10000.000000</td>\n",
       "      <td>10000.000000</td>\n",
       "      <td>10000.00000</td>\n",
       "      <td>10000.000000</td>\n",
       "      <td>10000.000000</td>\n",
       "      <td>10000.000000</td>\n",
       "    </tr>\n",
       "    <tr>\n",
       "      <th>mean</th>\n",
       "      <td>5000.50000</td>\n",
       "      <td>1.569094e+07</td>\n",
       "      <td>650.528800</td>\n",
       "      <td>38.921800</td>\n",
       "      <td>4.997690</td>\n",
       "      <td>76485.889288</td>\n",
       "      <td>1.530200</td>\n",
       "      <td>0.70550</td>\n",
       "      <td>0.515100</td>\n",
       "      <td>100090.239881</td>\n",
       "      <td>0.203700</td>\n",
       "    </tr>\n",
       "    <tr>\n",
       "      <th>std</th>\n",
       "      <td>2886.89568</td>\n",
       "      <td>7.193619e+04</td>\n",
       "      <td>96.653299</td>\n",
       "      <td>10.487806</td>\n",
       "      <td>2.894723</td>\n",
       "      <td>62397.405202</td>\n",
       "      <td>0.581654</td>\n",
       "      <td>0.45584</td>\n",
       "      <td>0.499797</td>\n",
       "      <td>57510.492818</td>\n",
       "      <td>0.402769</td>\n",
       "    </tr>\n",
       "    <tr>\n",
       "      <th>min</th>\n",
       "      <td>1.00000</td>\n",
       "      <td>1.556570e+07</td>\n",
       "      <td>350.000000</td>\n",
       "      <td>18.000000</td>\n",
       "      <td>0.000000</td>\n",
       "      <td>0.000000</td>\n",
       "      <td>1.000000</td>\n",
       "      <td>0.00000</td>\n",
       "      <td>0.000000</td>\n",
       "      <td>11.580000</td>\n",
       "      <td>0.000000</td>\n",
       "    </tr>\n",
       "    <tr>\n",
       "      <th>25%</th>\n",
       "      <td>2500.75000</td>\n",
       "      <td>1.562853e+07</td>\n",
       "      <td>584.000000</td>\n",
       "      <td>32.000000</td>\n",
       "      <td>2.000000</td>\n",
       "      <td>0.000000</td>\n",
       "      <td>1.000000</td>\n",
       "      <td>0.00000</td>\n",
       "      <td>0.000000</td>\n",
       "      <td>51002.110000</td>\n",
       "      <td>0.000000</td>\n",
       "    </tr>\n",
       "    <tr>\n",
       "      <th>50%</th>\n",
       "      <td>5000.50000</td>\n",
       "      <td>1.569074e+07</td>\n",
       "      <td>652.000000</td>\n",
       "      <td>37.000000</td>\n",
       "      <td>5.000000</td>\n",
       "      <td>97198.540000</td>\n",
       "      <td>1.000000</td>\n",
       "      <td>1.00000</td>\n",
       "      <td>1.000000</td>\n",
       "      <td>100193.915000</td>\n",
       "      <td>0.000000</td>\n",
       "    </tr>\n",
       "    <tr>\n",
       "      <th>75%</th>\n",
       "      <td>7500.25000</td>\n",
       "      <td>1.575323e+07</td>\n",
       "      <td>718.000000</td>\n",
       "      <td>44.000000</td>\n",
       "      <td>7.000000</td>\n",
       "      <td>127644.240000</td>\n",
       "      <td>2.000000</td>\n",
       "      <td>1.00000</td>\n",
       "      <td>1.000000</td>\n",
       "      <td>149388.247500</td>\n",
       "      <td>0.000000</td>\n",
       "    </tr>\n",
       "    <tr>\n",
       "      <th>max</th>\n",
       "      <td>10000.00000</td>\n",
       "      <td>1.581569e+07</td>\n",
       "      <td>850.000000</td>\n",
       "      <td>92.000000</td>\n",
       "      <td>10.000000</td>\n",
       "      <td>250898.090000</td>\n",
       "      <td>4.000000</td>\n",
       "      <td>1.00000</td>\n",
       "      <td>1.000000</td>\n",
       "      <td>199992.480000</td>\n",
       "      <td>1.000000</td>\n",
       "    </tr>\n",
       "  </tbody>\n",
       "</table>\n",
       "</div>"
      ],
      "text/plain": [
       "         RowNumber    CustomerId   CreditScore           Age       Tenure  \\\n",
       "count  10000.00000  1.000000e+04  10000.000000  10000.000000  9091.000000   \n",
       "mean    5000.50000  1.569094e+07    650.528800     38.921800     4.997690   \n",
       "std     2886.89568  7.193619e+04     96.653299     10.487806     2.894723   \n",
       "min        1.00000  1.556570e+07    350.000000     18.000000     0.000000   \n",
       "25%     2500.75000  1.562853e+07    584.000000     32.000000     2.000000   \n",
       "50%     5000.50000  1.569074e+07    652.000000     37.000000     5.000000   \n",
       "75%     7500.25000  1.575323e+07    718.000000     44.000000     7.000000   \n",
       "max    10000.00000  1.581569e+07    850.000000     92.000000    10.000000   \n",
       "\n",
       "             Balance  NumOfProducts    HasCrCard  IsActiveMember  \\\n",
       "count   10000.000000   10000.000000  10000.00000    10000.000000   \n",
       "mean    76485.889288       1.530200      0.70550        0.515100   \n",
       "std     62397.405202       0.581654      0.45584        0.499797   \n",
       "min         0.000000       1.000000      0.00000        0.000000   \n",
       "25%         0.000000       1.000000      0.00000        0.000000   \n",
       "50%     97198.540000       1.000000      1.00000        1.000000   \n",
       "75%    127644.240000       2.000000      1.00000        1.000000   \n",
       "max    250898.090000       4.000000      1.00000        1.000000   \n",
       "\n",
       "       EstimatedSalary        Exited  \n",
       "count     10000.000000  10000.000000  \n",
       "mean     100090.239881      0.203700  \n",
       "std       57510.492818      0.402769  \n",
       "min          11.580000      0.000000  \n",
       "25%       51002.110000      0.000000  \n",
       "50%      100193.915000      0.000000  \n",
       "75%      149388.247500      0.000000  \n",
       "max      199992.480000      1.000000  "
      ]
     },
     "execution_count": 3,
     "metadata": {},
     "output_type": "execute_result"
    }
   ],
   "source": [
    "data.describe()"
   ]
  },
  {
   "cell_type": "code",
   "execution_count": 4,
   "metadata": {},
   "outputs": [
    {
     "data": {
      "text/html": [
       "<div>\n",
       "<style scoped>\n",
       "    .dataframe tbody tr th:only-of-type {\n",
       "        vertical-align: middle;\n",
       "    }\n",
       "\n",
       "    .dataframe tbody tr th {\n",
       "        vertical-align: top;\n",
       "    }\n",
       "\n",
       "    .dataframe thead th {\n",
       "        text-align: right;\n",
       "    }\n",
       "</style>\n",
       "<table border=\"1\" class=\"dataframe\">\n",
       "  <thead>\n",
       "    <tr style=\"text-align: right;\">\n",
       "      <th></th>\n",
       "      <th>RowNumber</th>\n",
       "      <th>CustomerId</th>\n",
       "      <th>Surname</th>\n",
       "      <th>CreditScore</th>\n",
       "      <th>Geography</th>\n",
       "      <th>Gender</th>\n",
       "      <th>Age</th>\n",
       "      <th>Tenure</th>\n",
       "      <th>Balance</th>\n",
       "      <th>NumOfProducts</th>\n",
       "      <th>HasCrCard</th>\n",
       "      <th>IsActiveMember</th>\n",
       "      <th>EstimatedSalary</th>\n",
       "      <th>Exited</th>\n",
       "    </tr>\n",
       "  </thead>\n",
       "  <tbody>\n",
       "    <tr>\n",
       "      <th>0</th>\n",
       "      <td>1</td>\n",
       "      <td>15634602</td>\n",
       "      <td>Hargrave</td>\n",
       "      <td>619</td>\n",
       "      <td>France</td>\n",
       "      <td>Female</td>\n",
       "      <td>42</td>\n",
       "      <td>2.0</td>\n",
       "      <td>0.00</td>\n",
       "      <td>1</td>\n",
       "      <td>1</td>\n",
       "      <td>1</td>\n",
       "      <td>101348.88</td>\n",
       "      <td>1</td>\n",
       "    </tr>\n",
       "    <tr>\n",
       "      <th>1</th>\n",
       "      <td>2</td>\n",
       "      <td>15647311</td>\n",
       "      <td>Hill</td>\n",
       "      <td>608</td>\n",
       "      <td>Spain</td>\n",
       "      <td>Female</td>\n",
       "      <td>41</td>\n",
       "      <td>1.0</td>\n",
       "      <td>83807.86</td>\n",
       "      <td>1</td>\n",
       "      <td>0</td>\n",
       "      <td>1</td>\n",
       "      <td>112542.58</td>\n",
       "      <td>0</td>\n",
       "    </tr>\n",
       "    <tr>\n",
       "      <th>2</th>\n",
       "      <td>3</td>\n",
       "      <td>15619304</td>\n",
       "      <td>Onio</td>\n",
       "      <td>502</td>\n",
       "      <td>France</td>\n",
       "      <td>Female</td>\n",
       "      <td>42</td>\n",
       "      <td>8.0</td>\n",
       "      <td>159660.80</td>\n",
       "      <td>3</td>\n",
       "      <td>1</td>\n",
       "      <td>0</td>\n",
       "      <td>113931.57</td>\n",
       "      <td>1</td>\n",
       "    </tr>\n",
       "    <tr>\n",
       "      <th>3</th>\n",
       "      <td>4</td>\n",
       "      <td>15701354</td>\n",
       "      <td>Boni</td>\n",
       "      <td>699</td>\n",
       "      <td>France</td>\n",
       "      <td>Female</td>\n",
       "      <td>39</td>\n",
       "      <td>1.0</td>\n",
       "      <td>0.00</td>\n",
       "      <td>2</td>\n",
       "      <td>0</td>\n",
       "      <td>0</td>\n",
       "      <td>93826.63</td>\n",
       "      <td>0</td>\n",
       "    </tr>\n",
       "    <tr>\n",
       "      <th>4</th>\n",
       "      <td>5</td>\n",
       "      <td>15737888</td>\n",
       "      <td>Mitchell</td>\n",
       "      <td>850</td>\n",
       "      <td>Spain</td>\n",
       "      <td>Female</td>\n",
       "      <td>43</td>\n",
       "      <td>2.0</td>\n",
       "      <td>125510.82</td>\n",
       "      <td>1</td>\n",
       "      <td>1</td>\n",
       "      <td>1</td>\n",
       "      <td>79084.10</td>\n",
       "      <td>0</td>\n",
       "    </tr>\n",
       "  </tbody>\n",
       "</table>\n",
       "</div>"
      ],
      "text/plain": [
       "   RowNumber  CustomerId   Surname  CreditScore Geography  Gender  Age  \\\n",
       "0          1    15634602  Hargrave          619    France  Female   42   \n",
       "1          2    15647311      Hill          608     Spain  Female   41   \n",
       "2          3    15619304      Onio          502    France  Female   42   \n",
       "3          4    15701354      Boni          699    France  Female   39   \n",
       "4          5    15737888  Mitchell          850     Spain  Female   43   \n",
       "\n",
       "   Tenure    Balance  NumOfProducts  HasCrCard  IsActiveMember  \\\n",
       "0     2.0       0.00              1          1               1   \n",
       "1     1.0   83807.86              1          0               1   \n",
       "2     8.0  159660.80              3          1               0   \n",
       "3     1.0       0.00              2          0               0   \n",
       "4     2.0  125510.82              1          1               1   \n",
       "\n",
       "   EstimatedSalary  Exited  \n",
       "0        101348.88       1  \n",
       "1        112542.58       0  \n",
       "2        113931.57       1  \n",
       "3         93826.63       0  \n",
       "4         79084.10       0  "
      ]
     },
     "execution_count": 4,
     "metadata": {},
     "output_type": "execute_result"
    }
   ],
   "source": [
    "data.head()"
   ]
  },
  {
   "cell_type": "code",
   "execution_count": 5,
   "metadata": {},
   "outputs": [
    {
     "data": {
      "text/html": [
       "<div>\n",
       "<style scoped>\n",
       "    .dataframe tbody tr th:only-of-type {\n",
       "        vertical-align: middle;\n",
       "    }\n",
       "\n",
       "    .dataframe tbody tr th {\n",
       "        vertical-align: top;\n",
       "    }\n",
       "\n",
       "    .dataframe thead th {\n",
       "        text-align: right;\n",
       "    }\n",
       "</style>\n",
       "<table border=\"1\" class=\"dataframe\">\n",
       "  <thead>\n",
       "    <tr style=\"text-align: right;\">\n",
       "      <th></th>\n",
       "      <th>RowNumber</th>\n",
       "      <th>CustomerId</th>\n",
       "      <th>Surname</th>\n",
       "      <th>CreditScore</th>\n",
       "      <th>Geography</th>\n",
       "      <th>Gender</th>\n",
       "      <th>Age</th>\n",
       "      <th>Tenure</th>\n",
       "      <th>Balance</th>\n",
       "      <th>NumOfProducts</th>\n",
       "      <th>HasCrCard</th>\n",
       "      <th>IsActiveMember</th>\n",
       "      <th>EstimatedSalary</th>\n",
       "      <th>Exited</th>\n",
       "    </tr>\n",
       "  </thead>\n",
       "  <tbody>\n",
       "    <tr>\n",
       "      <th>9995</th>\n",
       "      <td>9996</td>\n",
       "      <td>15606229</td>\n",
       "      <td>Obijiaku</td>\n",
       "      <td>771</td>\n",
       "      <td>France</td>\n",
       "      <td>Male</td>\n",
       "      <td>39</td>\n",
       "      <td>5.0</td>\n",
       "      <td>0.00</td>\n",
       "      <td>2</td>\n",
       "      <td>1</td>\n",
       "      <td>0</td>\n",
       "      <td>96270.64</td>\n",
       "      <td>0</td>\n",
       "    </tr>\n",
       "    <tr>\n",
       "      <th>9996</th>\n",
       "      <td>9997</td>\n",
       "      <td>15569892</td>\n",
       "      <td>Johnstone</td>\n",
       "      <td>516</td>\n",
       "      <td>France</td>\n",
       "      <td>Male</td>\n",
       "      <td>35</td>\n",
       "      <td>10.0</td>\n",
       "      <td>57369.61</td>\n",
       "      <td>1</td>\n",
       "      <td>1</td>\n",
       "      <td>1</td>\n",
       "      <td>101699.77</td>\n",
       "      <td>0</td>\n",
       "    </tr>\n",
       "    <tr>\n",
       "      <th>9997</th>\n",
       "      <td>9998</td>\n",
       "      <td>15584532</td>\n",
       "      <td>Liu</td>\n",
       "      <td>709</td>\n",
       "      <td>France</td>\n",
       "      <td>Female</td>\n",
       "      <td>36</td>\n",
       "      <td>7.0</td>\n",
       "      <td>0.00</td>\n",
       "      <td>1</td>\n",
       "      <td>0</td>\n",
       "      <td>1</td>\n",
       "      <td>42085.58</td>\n",
       "      <td>1</td>\n",
       "    </tr>\n",
       "    <tr>\n",
       "      <th>9998</th>\n",
       "      <td>9999</td>\n",
       "      <td>15682355</td>\n",
       "      <td>Sabbatini</td>\n",
       "      <td>772</td>\n",
       "      <td>Germany</td>\n",
       "      <td>Male</td>\n",
       "      <td>42</td>\n",
       "      <td>3.0</td>\n",
       "      <td>75075.31</td>\n",
       "      <td>2</td>\n",
       "      <td>1</td>\n",
       "      <td>0</td>\n",
       "      <td>92888.52</td>\n",
       "      <td>1</td>\n",
       "    </tr>\n",
       "    <tr>\n",
       "      <th>9999</th>\n",
       "      <td>10000</td>\n",
       "      <td>15628319</td>\n",
       "      <td>Walker</td>\n",
       "      <td>792</td>\n",
       "      <td>France</td>\n",
       "      <td>Female</td>\n",
       "      <td>28</td>\n",
       "      <td>NaN</td>\n",
       "      <td>130142.79</td>\n",
       "      <td>1</td>\n",
       "      <td>1</td>\n",
       "      <td>0</td>\n",
       "      <td>38190.78</td>\n",
       "      <td>0</td>\n",
       "    </tr>\n",
       "  </tbody>\n",
       "</table>\n",
       "</div>"
      ],
      "text/plain": [
       "      RowNumber  CustomerId    Surname  CreditScore Geography  Gender  Age  \\\n",
       "9995       9996    15606229   Obijiaku          771    France    Male   39   \n",
       "9996       9997    15569892  Johnstone          516    France    Male   35   \n",
       "9997       9998    15584532        Liu          709    France  Female   36   \n",
       "9998       9999    15682355  Sabbatini          772   Germany    Male   42   \n",
       "9999      10000    15628319     Walker          792    France  Female   28   \n",
       "\n",
       "      Tenure    Balance  NumOfProducts  HasCrCard  IsActiveMember  \\\n",
       "9995     5.0       0.00              2          1               0   \n",
       "9996    10.0   57369.61              1          1               1   \n",
       "9997     7.0       0.00              1          0               1   \n",
       "9998     3.0   75075.31              2          1               0   \n",
       "9999     NaN  130142.79              1          1               0   \n",
       "\n",
       "      EstimatedSalary  Exited  \n",
       "9995         96270.64       0  \n",
       "9996        101699.77       0  \n",
       "9997         42085.58       1  \n",
       "9998         92888.52       1  \n",
       "9999         38190.78       0  "
      ]
     },
     "execution_count": 5,
     "metadata": {},
     "output_type": "execute_result"
    }
   ],
   "source": [
    "data.tail()"
   ]
  },
  {
   "cell_type": "code",
   "execution_count": 6,
   "metadata": {},
   "outputs": [
    {
     "data": {
      "text/plain": [
       "0"
      ]
     },
     "execution_count": 6,
     "metadata": {},
     "output_type": "execute_result"
    }
   ],
   "source": [
    "data.duplicated().sum()"
   ]
  },
  {
   "cell_type": "code",
   "execution_count": 7,
   "metadata": {},
   "outputs": [
    {
     "data": {
      "text/plain": [
       "RowNumber            0\n",
       "CustomerId           0\n",
       "Surname              0\n",
       "CreditScore          0\n",
       "Geography            0\n",
       "Gender               0\n",
       "Age                  0\n",
       "Tenure             909\n",
       "Balance              0\n",
       "NumOfProducts        0\n",
       "HasCrCard            0\n",
       "IsActiveMember       0\n",
       "EstimatedSalary      0\n",
       "Exited               0\n",
       "dtype: int64"
      ]
     },
     "execution_count": 7,
     "metadata": {},
     "output_type": "execute_result"
    }
   ],
   "source": [
    "data.isna().sum()"
   ]
  },
  {
   "cell_type": "markdown",
   "metadata": {},
   "source": [
    "Дубликаты отсутствуют, подозрительные значения и выбросы не замечены. \n",
    "\n",
    "Необходимо изучить пропуски в столбце tenure (9% пропущено), убрать столбцы RowNumber,\tCustomerId,\tSurname (нет полезной информации для будущих моделей).\n",
    "\n",
    "Также привести название столбцов к змеиному регистру."
   ]
  },
  {
   "cell_type": "markdown",
   "metadata": {},
   "source": [
    "Начнем со столбцов:"
   ]
  },
  {
   "cell_type": "code",
   "execution_count": 8,
   "metadata": {},
   "outputs": [],
   "source": [
    "import re\n",
    "data.columns = [re.sub(r'(?<!^)(?=[A-Z])', '_', i).lower()for i in data.columns]"
   ]
  },
  {
   "cell_type": "markdown",
   "metadata": {},
   "source": [
    "Удаляем колонки:"
   ]
  },
  {
   "cell_type": "code",
   "execution_count": 9,
   "metadata": {},
   "outputs": [
    {
     "data": {
      "text/plain": [
       "Index(['credit_score', 'geography', 'gender', 'age', 'tenure', 'balance',\n",
       "       'num_of_products', 'has_cr_card', 'is_active_member',\n",
       "       'estimated_salary', 'exited'],\n",
       "      dtype='object')"
      ]
     },
     "execution_count": 9,
     "metadata": {},
     "output_type": "execute_result"
    }
   ],
   "source": [
    "data.drop(columns=['row_number', 'customer_id', 'surname'], inplace=True)\n",
    "data.columns\n"
   ]
  },
  {
   "cell_type": "markdown",
   "metadata": {},
   "source": [
    "<div class=\"alert alert-block alert-success\">\n",
    "<b>Успех:</b> Удалить неинформативные признаки - хорошее решение. \n",
    "</div>\n"
   ]
  },
  {
   "cell_type": "markdown",
   "metadata": {},
   "source": [
    "Рассмотрим столбец tenure. Вполне возможно, что если не указано сколько лет человек является клиентом, то клиент новый, т.е. меньше года. Поэтому можно заменить пропуски на 0."
   ]
  },
  {
   "cell_type": "code",
   "execution_count": 10,
   "metadata": {},
   "outputs": [],
   "source": [
    "data['tenure'] = data['tenure'].fillna(0)"
   ]
  },
  {
   "cell_type": "markdown",
   "metadata": {},
   "source": [
    "Рассмотрим также целевой признак:"
   ]
  },
  {
   "cell_type": "code",
   "execution_count": 11,
   "metadata": {
    "scrolled": true
   },
   "outputs": [
    {
     "data": {
      "text/plain": [
       "0    0.7963\n",
       "1    0.2037\n",
       "Name: exited, dtype: float64"
      ]
     },
     "execution_count": 11,
     "metadata": {},
     "output_type": "execute_result"
    }
   ],
   "source": [
    "data['exited'].value_counts(normalize=True)"
   ]
  },
  {
   "cell_type": "markdown",
   "metadata": {},
   "source": [
    "<div class=\"alert alert-block alert-success\">\n",
    "<b>Успех:</b> Дисбаланс обнаружен\n",
    "</div>\n"
   ]
  },
  {
   "cell_type": "markdown",
   "metadata": {},
   "source": [
    "Несбалансирован целевой категориальный признак, учтем в исследовании. Создадим датафрейм по методу прямого кодирования с защитой от дамми-ловушки:"
   ]
  },
  {
   "cell_type": "code",
   "execution_count": 12,
   "metadata": {},
   "outputs": [
    {
     "name": "stdout",
     "output_type": "stream",
     "text": [
      "<class 'pandas.core.frame.DataFrame'>\n",
      "RangeIndex: 10000 entries, 0 to 9999\n",
      "Data columns (total 12 columns):\n",
      " #   Column             Non-Null Count  Dtype  \n",
      "---  ------             --------------  -----  \n",
      " 0   credit_score       10000 non-null  int64  \n",
      " 1   age                10000 non-null  int64  \n",
      " 2   tenure             10000 non-null  float64\n",
      " 3   balance            10000 non-null  float64\n",
      " 4   num_of_products    10000 non-null  int64  \n",
      " 5   has_cr_card        10000 non-null  int64  \n",
      " 6   is_active_member   10000 non-null  int64  \n",
      " 7   estimated_salary   10000 non-null  float64\n",
      " 8   exited             10000 non-null  int64  \n",
      " 9   geography_Germany  10000 non-null  uint8  \n",
      " 10  geography_Spain    10000 non-null  uint8  \n",
      " 11  gender_Male        10000 non-null  uint8  \n",
      "dtypes: float64(3), int64(6), uint8(3)\n",
      "memory usage: 732.5 KB\n"
     ]
    }
   ],
   "source": [
    "ohe_data = pd.get_dummies(data, drop_first=True)\n",
    "ohe_data.info()"
   ]
  },
  {
   "cell_type": "markdown",
   "metadata": {},
   "source": [
    "<div class=\"alert alert-block alert-success\">\n",
    "<b>Успех:</b>  OHE - хороший выбор, применен корректно. Но лучше использовать инструмент OneHotEncoder от sklearn\n",
    "</div>\n"
   ]
  },
  {
   "cell_type": "markdown",
   "metadata": {},
   "source": [
    "**Вывод**:\n",
    "\n",
    "1. Изучены данные, названия столбцов преведены к змеиному регистру;\n",
    "2. Удалены столбцы, которые не повлияют на дальнейшее исследование;\n",
    "3. Выяснено, что данные несбалансированы (79,6% клиентов осталось, остальные - ушли из банка);\n",
    "4. Пропуски были расположены в столбце tenure. Было предположено, что пропуски - это клиенты на обслуживании банка меньше года, поэтому Nan заменили на 0.\n",
    "\n"
   ]
  },
  {
   "cell_type": "markdown",
   "metadata": {},
   "source": [
    "<div class=\"alert alert-block alert-success\">\n",
    "<b>Успех:</b>  В целом неплохая предобработка, идем дальше.\n",
    "</div>\n"
   ]
  },
  {
   "cell_type": "markdown",
   "metadata": {},
   "source": [
    "## Исследование задачи"
   ]
  },
  {
   "cell_type": "markdown",
   "metadata": {},
   "source": [
    "Для исследования будут использованы следующие модели:\n",
    "1. Логистическая регрессия;\n",
    "2. Случайный лес;\n",
    "3. Решающее дерево.\n",
    "\n",
    "Разобьем данные по принципу 60/20/20:"
   ]
  },
  {
   "cell_type": "code",
   "execution_count": 13,
   "metadata": {},
   "outputs": [],
   "source": [
    "target = ohe_data['exited']\n",
    "features = ohe_data.drop('exited', axis=1)\n",
    "\n",
    "features_train, features_valid, target_train, target_valid = train_test_split(features, target, test_size=0.4, \n",
    "                                                                              random_state=12345)\n",
    "features_valid, features_test, target_valid, target_test = train_test_split(features_valid, target_valid, test_size=0.5, \n",
    "                                                                              random_state=12345)\n"
   ]
  },
  {
   "cell_type": "markdown",
   "metadata": {},
   "source": [
    "<div class=\"alert alert-block alert-success\">\n",
    "<b>Успех:</b> С разбиением все ок\n",
    "</div>\n"
   ]
  },
  {
   "cell_type": "markdown",
   "metadata": {},
   "source": [
    "Выше отметили, что существует дисбаланс данных в целевом признаке. Изучим сначала модели без исправления дисбаланса.\n",
    "\n",
    "Начнем с **\"решающего дерева\":**"
   ]
  },
  {
   "cell_type": "code",
   "execution_count": 14,
   "metadata": {},
   "outputs": [
    {
     "name": "stdout",
     "output_type": "stream",
     "text": [
      "Лучшая глубина дерева: 9    Лучший F1-score: 0.5786516853932585\n",
      "CPU times: user 864 ms, sys: 7.36 ms, total: 871 ms\n",
      "Wall time: 870 ms\n"
     ]
    }
   ],
   "source": [
    "%%time\n",
    "best_depth = 0\n",
    "best_f1 = 0\n",
    "best_model = None\n",
    "\n",
    "for depth in range(1, 30):\n",
    "    model = DecisionTreeClassifier(random_state=12345, max_depth=depth)\n",
    "    model.fit(features_train, target_train)\n",
    "    predicted_valid = model.predict(features_valid)\n",
    "    f1 = f1_score(target_valid, predicted_valid)\n",
    "    \n",
    "    if f1 > best_f1:\n",
    "        best_f1 = f1\n",
    "        best_depth = depth\n",
    "print('Лучшая глубина дерева:', best_depth,\n",
    "      '   Лучший F1-score:', best_f1\n",
    "     )"
   ]
  },
  {
   "cell_type": "markdown",
   "metadata": {},
   "source": [
    "Также можно рассмотреть другие гиперпараметры, оставим лучшую глубину 9. Заменим гиперпараметр gini на entropy в criterion, а splitter вместо гиперпараметра best поставим random:"
   ]
  },
  {
   "cell_type": "code",
   "execution_count": 15,
   "metadata": {},
   "outputs": [
    {
     "name": "stdout",
     "output_type": "stream",
     "text": [
      "F1-score: 0.5443786982248522\n"
     ]
    }
   ],
   "source": [
    "model = DecisionTreeClassifier(random_state=12345, max_depth=9,criterion='entropy')\n",
    "model.fit(features_train, target_train)\n",
    "predicted_valid = model.predict(features_valid)\n",
    "f1 = f1_score(target_valid, predicted_valid)\n",
    "print('F1-score:', f1)"
   ]
  },
  {
   "cell_type": "code",
   "execution_count": 16,
   "metadata": {},
   "outputs": [
    {
     "name": "stdout",
     "output_type": "stream",
     "text": [
      "Лучший F1-score: 0.5786516853932585\n"
     ]
    }
   ],
   "source": [
    "model = DecisionTreeClassifier(random_state=12345, max_depth=9, splitter='random')\n",
    "model.fit(features_train, target_train)\n",
    "predicted_valid = model.predict(features_valid)\n",
    "f1 = f1_score(target_valid, predicted_valid)\n",
    "print('Лучший F1-score:', best_f1)"
   ]
  },
  {
   "cell_type": "code",
   "execution_count": 17,
   "metadata": {},
   "outputs": [
    {
     "name": "stdout",
     "output_type": "stream",
     "text": [
      "F1-score: 0.5306748466257668\n"
     ]
    }
   ],
   "source": [
    "model = DecisionTreeClassifier(random_state=12345, max_depth=9,criterion='entropy', splitter='random')\n",
    "model.fit(features_train, target_train)\n",
    "predicted_valid = model.predict(features_valid)\n",
    "f1 = f1_score(target_valid, predicted_valid)\n",
    "print('F1-score:', f1)"
   ]
  },
  {
   "cell_type": "markdown",
   "metadata": {},
   "source": [
    "Гиперпараметр random показывает себя хуже, чем best; gini вместе с best - лучше, чем entropy и random."
   ]
  },
  {
   "cell_type": "markdown",
   "metadata": {},
   "source": [
    "**\"Случайный лес\":**"
   ]
  },
  {
   "cell_type": "code",
   "execution_count": 18,
   "metadata": {},
   "outputs": [
    {
     "name": "stdout",
     "output_type": "stream",
     "text": [
      "Лучшее количество деревьев: 41    Лучший F1-score: 0.5950653120464442\n",
      "CPU times: user 10.3 s, sys: 48.5 ms, total: 10.4 s\n",
      "Wall time: 10.4 s\n"
     ]
    }
   ],
   "source": [
    "%%time\n",
    "best_est = 0\n",
    "best_f1 = 0\n",
    "best_model = None\n",
    "\n",
    "for est in range(1, 50):\n",
    "    model = RandomForestClassifier(random_state=12345, n_estimators= est)\n",
    "    model.fit(features_train, target_train)\n",
    "    predicted_valid = model.predict(features_valid)\n",
    "    f1 = f1_score(target_valid, predicted_valid)\n",
    "    \n",
    "    if f1 > best_f1:\n",
    "        best_f1 = f1\n",
    "        best_est = est\n",
    "print('Лучшее количество деревьев:', best_est,\n",
    "      '   Лучший F1-score:', best_f1\n",
    "     )"
   ]
  },
  {
   "cell_type": "markdown",
   "metadata": {},
   "source": [
    "Также посмотрим \"Случайный лес\" с такими гиперпараметрами, как bootstrap=False и warm_start=True:"
   ]
  },
  {
   "cell_type": "code",
   "execution_count": 19,
   "metadata": {},
   "outputs": [
    {
     "name": "stdout",
     "output_type": "stream",
     "text": [
      "F1-score: 0.5829725829725829\n"
     ]
    }
   ],
   "source": [
    "model = RandomForestClassifier(random_state=12345, n_estimators=41, bootstrap=False)\n",
    "model.fit(features_train, target_train)\n",
    "valid_predictions = model.predict(features_valid)\n",
    "predicted_valid = model.predict(features_valid)\n",
    "f1 = f1_score(target_valid, predicted_valid)\n",
    "print('F1-score:', f1)"
   ]
  },
  {
   "cell_type": "code",
   "execution_count": 20,
   "metadata": {},
   "outputs": [
    {
     "name": "stdout",
     "output_type": "stream",
     "text": [
      "F1-score: 0.5950653120464442\n"
     ]
    }
   ],
   "source": [
    "model = RandomForestClassifier(random_state=12345, n_estimators=41, warm_start=True)\n",
    "model.fit(features_train, target_train)\n",
    "valid_predictions = model.predict(features_valid)\n",
    "predicted_valid = model.predict(features_valid)\n",
    "f1 = f1_score(target_valid, predicted_valid)\n",
    "print('F1-score:', f1)"
   ]
  },
  {
   "cell_type": "code",
   "execution_count": 21,
   "metadata": {},
   "outputs": [
    {
     "name": "stdout",
     "output_type": "stream",
     "text": [
      "F1-score: 0.5829725829725829\n"
     ]
    }
   ],
   "source": [
    "model = RandomForestClassifier(random_state=12345, n_estimators=41, bootstrap=False, warm_start=True)\n",
    "model.fit(features_train, target_train)\n",
    "valid_predictions = model.predict(features_valid)\n",
    "predicted_valid = model.predict(features_valid)\n",
    "f1 = f1_score(target_valid, predicted_valid)\n",
    "print('F1-score:', f1)"
   ]
  },
  {
   "cell_type": "markdown",
   "metadata": {},
   "source": [
    "**\"Логическая регрессия:\"**"
   ]
  },
  {
   "cell_type": "code",
   "execution_count": 22,
   "metadata": {},
   "outputs": [
    {
     "name": "stdout",
     "output_type": "stream",
     "text": [
      "Лучшее количество итерраций: 15    Лучший F1-score: 0.08713692946058092\n",
      "CPU times: user 2.37 s, sys: 2.39 s, total: 4.76 s\n",
      "Wall time: 4.75 s\n"
     ]
    }
   ],
   "source": [
    "%%time\n",
    "best_max_iteration = 0\n",
    "best_f1 = 0\n",
    "best_model = None\n",
    "\n",
    "for max_it in range(1, 30):\n",
    "    model = LogisticRegression(random_state=12345, max_iter=max_it, solver='liblinear')\n",
    "    model.fit(features_train, target_train)\n",
    "    predicted_valid = model.predict(features_valid)\n",
    "    f1 = f1_score(target_valid, predicted_valid)\n",
    "    \n",
    "    if f1 > best_f1:\n",
    "        best_f1 = f1\n",
    "        best_max_iteration = max_it\n",
    "print('Лучшее количество итерраций:', best_max_iteration,\n",
    "      '   Лучший F1-score:', best_f1\n",
    "     )"
   ]
  },
  {
   "cell_type": "markdown",
   "metadata": {},
   "source": [
    "Лучший F1-score (равен 0.6) получен у модели \"Случайного леса\" при гиперпараметре n_estimators = 41; худший у логической регрессии. Необходимо также просмотреть accuracy, precision и recall:"
   ]
  },
  {
   "cell_type": "code",
   "execution_count": 23,
   "metadata": {},
   "outputs": [
    {
     "name": "stdout",
     "output_type": "stream",
     "text": [
      "Решающее дерево\n",
      "Качество 0.85\n",
      "Precision 0.7006802721088435\n",
      "Recall 0.49282296650717705\n",
      "F1-score 0.5786516853932585\n",
      "CPU times: user 67.7 ms, sys: 51.9 ms, total: 120 ms\n",
      "Wall time: 126 ms\n"
     ]
    }
   ],
   "source": [
    "%%time\n",
    "\n",
    "model = DecisionTreeClassifier(random_state=12345, max_depth=9)\n",
    "model.fit(features_train, target_train)\n",
    "predicted_valid = model.predict(features_valid)\n",
    "print('Решающее дерево')\n",
    "print('Качество', accuracy_score(target_valid, predicted_valid))\n",
    "print('Precision', precision_score(target_valid, predicted_valid))\n",
    "print('Recall', recall_score(target_valid, predicted_valid))\n",
    "print('F1-score', f1_score(target_valid, predicted_valid))\n"
   ]
  },
  {
   "cell_type": "code",
   "execution_count": 24,
   "metadata": {},
   "outputs": [
    {
     "name": "stdout",
     "output_type": "stream",
     "text": [
      "Случайный лес\n",
      "Качество 0.8605\n",
      "Precision 0.7564575645756457\n",
      "Recall 0.4904306220095694\n",
      "F1-score 0.5950653120464442\n",
      "CPU times: user 354 ms, sys: 204 µs, total: 355 ms\n",
      "Wall time: 369 ms\n"
     ]
    }
   ],
   "source": [
    "%%time\n",
    "model = RandomForestClassifier(random_state=12345, n_estimators=41)\n",
    "model.fit(features_train, target_train)\n",
    "predicted_valid = model.predict(features_valid)\n",
    "print('Случайный лес')\n",
    "print('Качество', accuracy_score(target_valid, predicted_valid))\n",
    "print('Precision', precision_score(target_valid, predicted_valid))\n",
    "print('Recall', recall_score(target_valid, predicted_valid))\n",
    "print('F1-score', f1_score(target_valid, predicted_valid))"
   ]
  },
  {
   "cell_type": "code",
   "execution_count": 25,
   "metadata": {},
   "outputs": [
    {
     "name": "stdout",
     "output_type": "stream",
     "text": [
      "Логистическая регрессия\n",
      "Качество 0.7815\n",
      "Precision 0.3389830508474576\n",
      "Recall 0.04784688995215311\n",
      "F1-score 0.08385744234800838\n",
      "CPU times: user 58.2 ms, sys: 33.7 ms, total: 91.9 ms\n",
      "Wall time: 91.2 ms\n"
     ]
    }
   ],
   "source": [
    "%%time\n",
    "model = LogisticRegression(random_state=12345, solver='liblinear')\n",
    "model.fit(features_train, target_train)\n",
    "predicted_valid = model.predict(features_valid)\n",
    "print('Логистическая регрессия')\n",
    "print('Качество', accuracy_score(target_valid, predicted_valid))\n",
    "print('Precision', precision_score(target_valid, predicted_valid))\n",
    "print('Recall', recall_score(target_valid, predicted_valid))\n",
    "print('F1-score', f1_score(target_valid, predicted_valid))"
   ]
  },
  {
   "cell_type": "markdown",
   "metadata": {},
   "source": [
    "Построим ROC-кривую для каждой модели. И выведем метрику AUC-ROC:"
   ]
  },
  {
   "cell_type": "code",
   "execution_count": 26,
   "metadata": {},
   "outputs": [
    {
     "name": "stdout",
     "output_type": "stream",
     "text": [
      "AUC-ROC Решаюшего дерева: 0.7899719632952051\n",
      "AUC-ROC Случайного леса: 0.8377258512330706\n",
      "AUC-ROC Логической регрессии: 0.6727584246214894\n"
     ]
    },
    {
     "data": {
      "image/png": "[encoded data removed]",
      "text/plain": [
       "<Figure size 864x648 with 1 Axes>"
      ]
     },
     "metadata": {
      "needs_background": "light"
     },
     "output_type": "display_data"
    }
   ],
   "source": [
    "plt.figure(figsize=[12,9])\n",
    "\n",
    "plt.plot([0, 1], [0, 1], linestyle='--', label='RandomModel')\n",
    "\n",
    "\n",
    "model = DecisionTreeClassifier(random_state=12345, max_depth=9)\n",
    "model.fit(features_train, target_train)\n",
    "probabilities_valid = model.predict_proba(features_valid)\n",
    "probabilities_one_valid = probabilities_valid[:, 1]\n",
    "fpr, tpr, thresholds = roc_curve(target_valid, probabilities_one_valid)\n",
    "auc_roc = roc_auc_score(target_valid, probabilities_one_valid)\n",
    "print('AUC-ROC Решаюшего дерева:',auc_roc)\n",
    "plt.plot(fpr, tpr, label='Решающее дерево')\n",
    "\n",
    "model = RandomForestClassifier(random_state=12345, n_estimators=41)\n",
    "model.fit(features_train, target_train)\n",
    "probabilities_valid = model.predict_proba(features_valid)\n",
    "probabilities_one_valid = probabilities_valid[:, 1]\n",
    "fpr, tpr, thresholds = roc_curve(target_valid, probabilities_one_valid)\n",
    "auc_roc = roc_auc_score(target_valid, probabilities_one_valid)\n",
    "print('AUC-ROC Случайного леса:',auc_roc)\n",
    "plt.plot(fpr, tpr, label='Случайный лес')\n",
    "\n",
    "model = LogisticRegression(random_state=12345, solver='liblinear')\n",
    "model.fit(features_train, target_train)\n",
    "probabilities_valid = model.predict_proba(features_valid)\n",
    "probabilities_one_valid = probabilities_valid[:, 1]\n",
    "fpr, tpr, thresholds = roc_curve(target_valid, probabilities_one_valid)\n",
    "auc_roc = roc_auc_score(target_valid, probabilities_one_valid)\n",
    "print('AUC-ROC Логической регрессии:',auc_roc)\n",
    "plt.plot(fpr, tpr, label='Логическая регрессия')\n",
    "\n",
    "\n",
    "\n",
    "plt.xlim([0,1])\n",
    "plt.ylim([0,1])\n",
    "\n",
    "plt.xlabel(\"False Positive Rate\")\n",
    "plt.ylabel(\"True Positive Rate\")\n",
    "\n",
    "plt.legend(loc='lower right', fontsize='x-large')\n",
    "\n",
    "plt.title(\"ROC-кривая\")\n",
    "plt.show()"
   ]
  },
  {
   "cell_type": "markdown",
   "metadata": {},
   "source": [
    "**Вывод:**\n",
    "1. Данные разбили на обучающую, тестовую и валидационную выборки в соотношении 60:20:20, целевой признак - категортиальный;\n",
    "2. В данных присутсвует дисбаланс в отношении 1:4. Сильнее всего страдает от дисбаланса модель логической регрессии;\n",
    "2. Лучшие показатели у случайного леса при n_estimators = 41: качество 0.86, precision 0.76, recall 0.49, f1 0.595, а также AUC-ROC= 0.84;\n",
    "3. Все модели имеют recall ниже, чем percision, что, возможно, также влияет на F1-меру."
   ]
  },
  {
   "cell_type": "markdown",
   "metadata": {},
   "source": [
    "<div class=\"alert alert-block alert-success\">\n",
    "<b>Успех:</b> Шаг проделан хорошо, идем дальше.\n",
    "</div>"
   ]
  },
  {
   "cell_type": "markdown",
   "metadata": {},
   "source": [
    "## Борьба с дисбалансом"
   ]
  },
  {
   "cell_type": "markdown",
   "metadata": {},
   "source": [
    "Для борьбы с дисбалансом выполним сравнение моделей:\n",
    "1. С взвешенными классами;\n",
    "2. С уменьшенной выборкой;\n",
    "3. С увеличенной выборкой;\n",
    "\n",
    "Изучим возможности моделей по взвешиванию классов:"
   ]
  },
  {
   "cell_type": "code",
   "execution_count": 27,
   "metadata": {},
   "outputs": [
    {
     "name": "stdout",
     "output_type": "stream",
     "text": [
      "Решающее дерево\n",
      "Качество 0.7625\n",
      "Precision 0.4525790349417637\n",
      "Recall 0.6507177033492823\n",
      "F1 0.5338567222767419\n",
      "CPU times: user 45.1 ms, sys: 342 µs, total: 45.5 ms\n",
      "Wall time: 51.2 ms\n"
     ]
    }
   ],
   "source": [
    "%%time\n",
    "\n",
    "model = DecisionTreeClassifier(random_state=12345, max_depth=9, class_weight='balanced')\n",
    "model.fit(features_train, target_train)\n",
    "predicted_valid = model.predict(features_valid)\n",
    "print('Решающее дерево')\n",
    "print('Качество', accuracy_score(target_valid, predicted_valid))\n",
    "print('Precision', precision_score(target_valid, predicted_valid))\n",
    "print('Recall', recall_score(target_valid, predicted_valid))\n",
    "print('F1', f1_score(target_valid, predicted_valid))\n"
   ]
  },
  {
   "cell_type": "code",
   "execution_count": 28,
   "metadata": {},
   "outputs": [
    {
     "name": "stdout",
     "output_type": "stream",
     "text": [
      "Случайный лес\n",
      "Качество 0.853\n",
      "Precision 0.6834319526627219\n",
      "Recall 0.5526315789473685\n",
      "F1 0.6111111111111113\n",
      "CPU times: user 354 ms, sys: 4.58 ms, total: 358 ms\n",
      "Wall time: 363 ms\n"
     ]
    }
   ],
   "source": [
    "%%time\n",
    "model = RandomForestClassifier(random_state=12345, n_estimators=41, max_depth=12, class_weight='balanced')\n",
    "model.fit(features_train, target_train)\n",
    "predicted_valid = model.predict(features_valid)\n",
    "print('Случайный лес')\n",
    "print('Качество', accuracy_score(target_valid, predicted_valid))\n",
    "print('Precision', precision_score(target_valid, predicted_valid))\n",
    "print('Recall', recall_score(target_valid, predicted_valid))\n",
    "print('F1', f1_score(target_valid, predicted_valid))"
   ]
  },
  {
   "cell_type": "code",
   "execution_count": 29,
   "metadata": {},
   "outputs": [
    {
     "name": "stdout",
     "output_type": "stream",
     "text": [
      "Логистическая регрессия\n",
      "Качество 0.6585\n",
      "Precision 0.33978234582829503\n",
      "Recall 0.6722488038277512\n",
      "F1 0.4514056224899599\n",
      "CPU times: user 99.1 ms, sys: 93.2 ms, total: 192 ms\n",
      "Wall time: 133 ms\n"
     ]
    }
   ],
   "source": [
    "%%time\n",
    "model = LogisticRegression(random_state=12345, solver='liblinear', class_weight='balanced')\n",
    "model.fit(features_train, target_train)\n",
    "predicted_valid = model.predict(features_valid)\n",
    "print('Логистическая регрессия')\n",
    "print('Качество', accuracy_score(target_valid, predicted_valid))\n",
    "print('Precision', precision_score(target_valid, predicted_valid))\n",
    "print('Recall', recall_score(target_valid, predicted_valid))\n",
    "print('F1', f1_score(target_valid, predicted_valid))"
   ]
  },
  {
   "cell_type": "markdown",
   "metadata": {},
   "source": [
    "F1-мера выросла у логической регрессии, а у дерева решений и случайного леса - упала. Также уменьшились у последних показатели precision, но увеличились показатели recall.\n",
    "\n",
    "Исследуем способ уменьшения значений класса 0 и посмотрим их на модели:"
   ]
  },
  {
   "cell_type": "code",
   "execution_count": 30,
   "metadata": {},
   "outputs": [
    {
     "name": "stdout",
     "output_type": "stream",
     "text": [
      "0    1201\n",
      "1    1196\n",
      "Name: exited, dtype: int64\n"
     ]
    }
   ],
   "source": [
    "def downsample(features, target, fraction):\n",
    "    features_zeros = features[target == 0]\n",
    "    features_ones = features[target == 1]\n",
    "    target_zeros = target[target == 0]\n",
    "    target_ones = target[target == 1]\n",
    "\n",
    "    features_downsampled = pd.concat(\n",
    "        [features_zeros.sample(frac=fraction, random_state=12345)] + [features_ones])\n",
    "    target_downsampled = pd.concat(\n",
    "        [target_zeros.sample(frac=fraction, random_state=12345)] + [target_ones])\n",
    "    \n",
    "    features_downsampled, target_downsampled = shuffle(\n",
    "        features_downsampled, target_downsampled, random_state=12345)\n",
    "    \n",
    "    return features_downsampled, target_downsampled\n",
    "\n",
    "features_downsampled, target_downsampled = downsample(features_train, target_train, 0.25)\n",
    "\n",
    "print(target_downsampled.value_counts())"
   ]
  },
  {
   "cell_type": "code",
   "execution_count": 31,
   "metadata": {},
   "outputs": [
    {
     "name": "stdout",
     "output_type": "stream",
     "text": [
      "Решающее дерево\n",
      "Качество 0.7365\n",
      "Precision 0.42158273381294964\n",
      "Recall 0.7009569377990431\n",
      "F1 0.5265049415992812\n",
      "\n",
      "Случайный лес\n",
      "Качество 0.784\n",
      "Precision 0.48919753086419754\n",
      "Recall 0.7583732057416268\n",
      "F1 0.5947467166979362\n",
      "\n",
      "Логистическая регрессия\n",
      "Качество 0.6595\n",
      "Precision 0.3413751507840772\n",
      "Recall 0.6770334928229665\n",
      "F1 0.45388933440256624\n",
      "CPU times: user 253 ms, sys: 40.1 ms, total: 293 ms\n",
      "Wall time: 255 ms\n"
     ]
    }
   ],
   "source": [
    "%%time\n",
    "\n",
    "model = DecisionTreeClassifier(random_state=12345, max_depth=9, class_weight='balanced')\n",
    "model.fit(features_downsampled, target_downsampled)\n",
    "predicted_valid = model.predict(features_valid)\n",
    "print('Решающее дерево')\n",
    "print('Качество', accuracy_score(target_valid, predicted_valid))\n",
    "print('Precision', precision_score(target_valid, predicted_valid))\n",
    "print('Recall', recall_score(target_valid, predicted_valid))\n",
    "print('F1', f1_score(target_valid, predicted_valid))\n",
    "print()\n",
    "\n",
    "model = RandomForestClassifier(random_state=12345, n_estimators=41, max_depth=12, class_weight='balanced')\n",
    "model.fit(features_downsampled, target_downsampled)\n",
    "predicted_valid = model.predict(features_valid)\n",
    "print('Случайный лес')\n",
    "print('Качество', accuracy_score(target_valid, predicted_valid))\n",
    "print('Precision', precision_score(target_valid, predicted_valid))\n",
    "print('Recall', recall_score(target_valid, predicted_valid))\n",
    "print('F1', f1_score(target_valid, predicted_valid))\n",
    "print()\n",
    "\n",
    "model = LogisticRegression(random_state=12345, solver='liblinear', class_weight='balanced')\n",
    "model.fit(features_downsampled, target_downsampled)\n",
    "predicted_valid = model.predict(features_valid)\n",
    "print('Логистическая регрессия')\n",
    "print('Качество', accuracy_score(target_valid, predicted_valid))\n",
    "print('Precision', precision_score(target_valid, predicted_valid))\n",
    "print('Recall', recall_score(target_valid, predicted_valid))\n",
    "print('F1', f1_score(target_valid, predicted_valid))"
   ]
  },
  {
   "cell_type": "markdown",
   "metadata": {},
   "source": [
    "Лучшие показатели у решающего дерева по сравнению с другими моделями. Показатели логической регрессии увеличились.\n",
    "\n",
    "Также посмотри на увеличение класса 1:"
   ]
  },
  {
   "cell_type": "code",
   "execution_count": 32,
   "metadata": {},
   "outputs": [
    {
     "name": "stdout",
     "output_type": "stream",
     "text": [
      "0    4804\n",
      "1    4784\n",
      "Name: exited, dtype: int64\n"
     ]
    }
   ],
   "source": [
    "def upsample(features, target, repeat):\n",
    "    features_zeros = features[target == 0]\n",
    "    features_ones = features[target == 1]\n",
    "    target_zeros = target[target == 0]\n",
    "    target_ones = target[target == 1]\n",
    "\n",
    "    features_upsampled = pd.concat([features_zeros] + [features_ones] * repeat)\n",
    "    target_upsampled = pd.concat([target_zeros] + [target_ones] * repeat)\n",
    "    \n",
    "    features_upsampled, target_upsampled = shuffle(\n",
    "        features_upsampled, target_upsampled, random_state=12345)\n",
    "    \n",
    "    return features_upsampled, target_upsampled\n",
    "\n",
    "features_upsampled, target_upsampled = upsample(features_train, target_train, 4)\n",
    "\n",
    "print(target_upsampled.value_counts())"
   ]
  },
  {
   "cell_type": "code",
   "execution_count": 33,
   "metadata": {},
   "outputs": [
    {
     "name": "stdout",
     "output_type": "stream",
     "text": [
      "Решающее дерево\n",
      "Качество 0.7365\n",
      "Precision 0.42158273381294964\n",
      "Recall 0.7009569377990431\n",
      "F1 0.5265049415992812\n",
      "\n",
      "Случайный лес\n",
      "Качество 0.784\n",
      "Precision 0.48919753086419754\n",
      "Recall 0.7583732057416268\n",
      "F1 0.5947467166979362\n",
      "\n",
      "Логистическая регрессия\n",
      "Качество 0.6595\n",
      "Precision 0.3413751507840772\n",
      "Recall 0.6770334928229665\n",
      "F1 0.45388933440256624\n",
      "CPU times: user 268 ms, sys: 25.7 ms, total: 294 ms\n",
      "Wall time: 276 ms\n"
     ]
    }
   ],
   "source": [
    "%%time\n",
    "\n",
    "model = DecisionTreeClassifier(random_state=12345, max_depth=9, class_weight='balanced')\n",
    "model.fit(features_downsampled, target_downsampled)\n",
    "predicted_valid = model.predict(features_valid)\n",
    "print('Решающее дерево')\n",
    "print('Качество', accuracy_score(target_valid, predicted_valid))\n",
    "print('Precision', precision_score(target_valid, predicted_valid))\n",
    "print('Recall', recall_score(target_valid, predicted_valid))\n",
    "print('F1', f1_score(target_valid, predicted_valid))\n",
    "print()\n",
    "\n",
    "model = RandomForestClassifier(random_state=12345, n_estimators=41, max_depth=12, class_weight='balanced')\n",
    "model.fit(features_downsampled, target_downsampled)\n",
    "predicted_valid = model.predict(features_valid)\n",
    "print('Случайный лес')\n",
    "print('Качество', accuracy_score(target_valid, predicted_valid))\n",
    "print('Precision', precision_score(target_valid, predicted_valid))\n",
    "print('Recall', recall_score(target_valid, predicted_valid))\n",
    "print('F1', f1_score(target_valid, predicted_valid))\n",
    "print()\n",
    "\n",
    "model = LogisticRegression(random_state=12345, solver='liblinear', class_weight='balanced')\n",
    "model.fit(features_downsampled, target_downsampled)\n",
    "predicted_valid = model.predict(features_valid)\n",
    "print('Логистическая регрессия')\n",
    "print('Качество', accuracy_score(target_valid, predicted_valid))\n",
    "print('Precision', precision_score(target_valid, predicted_valid))\n",
    "print('Recall', recall_score(target_valid, predicted_valid))\n",
    "print('F1', f1_score(target_valid, predicted_valid))"
   ]
  },
  {
   "cell_type": "markdown",
   "metadata": {},
   "source": [
    "Лучшей моделью оказался случайный лес, показатели улучшились по сравнению с дисбалансными даннымию Также посмотрим на ROC-кривую и AUC-ROC после изменений:"
   ]
  },
  {
   "cell_type": "code",
   "execution_count": 34,
   "metadata": {},
   "outputs": [
    {
     "name": "stdout",
     "output_type": "stream",
     "text": [
      "AUC-ROC Решаюшего дерева: 0.7601818302796411\n",
      "AUC-ROC Случайного леса: 0.8450662053363498\n",
      "AUC-ROC Логической регрессии: 0.719318408652363\n"
     ]
    },
    {
     "data": {
      "image/png": "[encoded data removed]",
      "text/plain": [
       "<Figure size 864x648 with 1 Axes>"
      ]
     },
     "metadata": {
      "needs_background": "light"
     },
     "output_type": "display_data"
    }
   ],
   "source": [
    "plt.figure(figsize=[12,9])\n",
    "\n",
    "plt.plot([0, 1], [0, 1], linestyle='--', label='RandomModel')\n",
    "\n",
    "\n",
    "model = DecisionTreeClassifier(random_state=12345, max_depth=9)\n",
    "model.fit(features_upsampled, target_upsampled)\n",
    "probabilities_valid = model.predict_proba(features_valid)\n",
    "probabilities_one_valid = probabilities_valid[:, 1]\n",
    "fpr, tpr, thresholds = roc_curve(target_valid, probabilities_one_valid)\n",
    "auc_roc = roc_auc_score(target_valid, probabilities_one_valid)\n",
    "print('AUC-ROC Решаюшего дерева:',auc_roc)\n",
    "plt.plot(fpr, tpr, label='Решающее дерево')\n",
    "\n",
    "model = RandomForestClassifier(random_state=12345, n_estimators=41, max_depth=12)\n",
    "model.fit(features_upsampled, target_upsampled)\n",
    "probabilities_valid = model.predict_proba(features_valid)\n",
    "probabilities_one_valid = probabilities_valid[:, 1]\n",
    "fpr, tpr, thresholds = roc_curve(target_valid, probabilities_one_valid)\n",
    "auc_roc = roc_auc_score(target_valid, probabilities_one_valid)\n",
    "print('AUC-ROC Случайного леса:',auc_roc)\n",
    "plt.plot(fpr, tpr, label='Случайный лес')\n",
    "\n",
    "model = LogisticRegression(random_state=20052020, solver='liblinear')\n",
    "model.fit(features_upsampled, target_upsampled)\n",
    "probabilities_valid = model.predict_proba(features_valid)\n",
    "probabilities_one_valid = probabilities_valid[:, 1]\n",
    "fpr, tpr, thresholds = roc_curve(target_valid, probabilities_one_valid)\n",
    "auc_roc = roc_auc_score(target_valid, probabilities_one_valid)\n",
    "print('AUC-ROC Логической регрессии:',auc_roc)\n",
    "plt.plot(fpr, tpr, label='Логическая регрессия')\n",
    "\n",
    "\n",
    "\n",
    "plt.xlim([0,1])\n",
    "plt.ylim([0,1])\n",
    "\n",
    "plt.xlabel(\"False Positive Rate\")\n",
    "plt.ylabel(\"True Positive Rate\")\n",
    "\n",
    "plt.legend(loc='lower right', fontsize='x-large')\n",
    "\n",
    "plt.title(\"ROC-кривая\")\n",
    "plt.show()"
   ]
  },
  {
   "cell_type": "markdown",
   "metadata": {},
   "source": [
    "**Вывод:**\n",
    "1. Лучшей моделью оказался случайный лес, решением - увеличение классов 0 в тренировочной выборке;\n",
    "2. Выравнивание классов привело к увеличению параметров recall, небольшое понижение precision; \n",
    "3. F1-мера для случайного леса превышает 0.59, а метрика AUC-ROC свыше 0.84.\n"
   ]
  },
  {
   "cell_type": "markdown",
   "metadata": {},
   "source": [
    "<div class=\"alert alert-block alert-success\">\n",
    "<b>Успех:</b> Хорошая работа с моделями машинного обучения.  Радует  достатчоное количество расмотренных методов для борьбы с дисбалансом.\n",
    "</div>\n"
   ]
  },
  {
   "cell_type": "markdown",
   "metadata": {},
   "source": [
    "## Тестирование модели"
   ]
  },
  {
   "cell_type": "markdown",
   "metadata": {},
   "source": [
    "Поскольку лучшие показатели были у **модели случайного леса**, то именно ее и возьмем для тестирования. Изучим гиперпараметры и постараемся улучшить F1-меру:"
   ]
  },
  {
   "cell_type": "code",
   "execution_count": 35,
   "metadata": {},
   "outputs": [
    {
     "name": "stdout",
     "output_type": "stream",
     "text": [
      "Лучшее количество деревьев: 401    F1-score: 0.6031746031746033\n",
      "CPU times: user 11.5 s, sys: 98.4 ms, total: 11.6 s\n",
      "Wall time: 11.6 s\n"
     ]
    }
   ],
   "source": [
    "%%time\n",
    "best_est = 0\n",
    "best_f1 = 0\n",
    "best_model = None\n",
    "\n",
    "for est in range(1, 500, 100):\n",
    "    model = RandomForestClassifier(random_state=12345, n_estimators= est)\n",
    "    model.fit(features_upsampled, target_upsampled)\n",
    "    predicted_valid = model.predict(features_valid)\n",
    "    f1 = f1_score(target_valid, predicted_valid)\n",
    "    \n",
    "    if f1 > best_f1:\n",
    "        best_f1 = f1\n",
    "        best_est = est\n",
    "print('Лучшее количество деревьев:', best_est,\n",
    "      '   F1:', best_f1\n",
    "     )"
   ]
  },
  {
   "cell_type": "code",
   "execution_count": 37,
   "metadata": {},
   "outputs": [
    {
     "name": "stdout",
     "output_type": "stream",
     "text": [
      "Лучшее количество деревьев: 355    F1: 0.6031746031746033\n",
      "CPU times: user 40.9 s, sys: 137 ms, total: 41.1 s\n",
      "Wall time: 41.1 s\n"
     ]
    }
   ],
   "source": [
    "%%time\n",
    "best_est = 0\n",
    "best_f1 = 0\n",
    "best_model = None\n",
    "\n",
    "for est in range(350, 400, 5):\n",
    "    model = RandomForestClassifier(random_state=12345, n_estimators= est)\n",
    "    model.fit(features_upsampled, target_upsampled)\n",
    "    predicted_valid = model.predict(features_valid)\n",
    "    f1 = f1_score(target_valid, predicted_valid)\n",
    "    \n",
    "    if f1 > best_f1:\n",
    "        best_f1 = f1\n",
    "        best_est = est\n",
    "print('Лучшее количество деревьев:', best_est,\n",
    "      '   F1:', best_f1\n",
    "     )"
   ]
  },
  {
   "cell_type": "markdown",
   "metadata": {},
   "source": [
    "Лучший F1 при n_estimators = 355. Изменим гиперпараметр min_samples_split:"
   ]
  },
  {
   "cell_type": "code",
   "execution_count": 42,
   "metadata": {},
   "outputs": [
    {
     "name": "stdout",
     "output_type": "stream",
     "text": [
      "Лучший min_samples_split: 10    F1: 0.6282208588957056\n",
      "CPU times: user 34.2 s, sys: 112 ms, total: 34.3 s\n",
      "Wall time: 34.3 s\n"
     ]
    }
   ],
   "source": [
    "%%time\n",
    "\n",
    "best_f1 = 0\n",
    "best_model = None\n",
    "best_sp = 0\n",
    "for samples_split in range(2, 11):\n",
    "    model =  RandomForestClassifier(random_state=12345, n_estimators=355, min_samples_split=samples_split)\n",
    "    model.fit(features_upsampled, target_upsampled)\n",
    "    predicted_valid = model.predict(features_valid)\n",
    "    f1 = f1_score(target_valid, predicted_valid)\n",
    "    \n",
    "    if f1 > best_f1:\n",
    "        best_f1 = f1\n",
    "        best_sp = samples_split\n",
    "print('Лучший min_samples_split:', best_sp,\n",
    "      '   F1:', best_f1\n",
    "     )"
   ]
  },
  {
   "cell_type": "markdown",
   "metadata": {},
   "source": [
    "Также поступим с min_samples_leaf:\n",
    "    "
   ]
  },
  {
   "cell_type": "code",
   "execution_count": 43,
   "metadata": {},
   "outputs": [
    {
     "name": "stdout",
     "output_type": "stream",
     "text": [
      "Лучший min_samples_leaf: 7    F1: 0.6357615894039735\n",
      "CPU times: user 33.5 s, sys: 180 ms, total: 33.7 s\n",
      "Wall time: 33.7 s\n"
     ]
    }
   ],
   "source": [
    "%%time\n",
    "\n",
    "best_f1 = 0\n",
    "best_model = None\n",
    "best_l = 0\n",
    "for samples_leaf in range(2, 11):\n",
    "    model =  RandomForestClassifier(random_state=12345, n_estimators=355, min_samples_split=10, min_samples_leaf= samples_leaf)\n",
    "    model.fit(features_upsampled, target_upsampled)\n",
    "    predicted_valid = model.predict(features_valid)\n",
    "    f1 = f1_score(target_valid, predicted_valid)\n",
    "    \n",
    "    if f1 > best_f1:\n",
    "        best_f1 = f1\n",
    "        best_l = samples_leaf\n",
    "print('Лучший min_samples_leaf:', best_l,\n",
    "      '   F1:', best_f1\n",
    "     )"
   ]
  },
  {
   "cell_type": "markdown",
   "metadata": {},
   "source": [
    "Таким образом, лучший показатель F1 при n_estimators = 355, min_samples_leaf= 7,  min_samples_split = 10. С данными гиперпараметрами модели случайный лес проверим на тестовой выборке. Рассмотрим данную модель на дисбалансированных и сбалансированных данных, а также рассмотрим AUC-ROC, построем ROC-кривую: "
   ]
  },
  {
   "cell_type": "code",
   "execution_count": 45,
   "metadata": {},
   "outputs": [
    {
     "name": "stdout",
     "output_type": "stream",
     "text": [
      "Модель при дисбалансе:\n",
      "Качество: 0.842\n",
      "Precision: 0.7511737089201878\n",
      "Recall: 0.37825059101654845\n",
      "F1: 0.5031446540880503\n",
      "\n",
      "Модель при взвешенных классах:\n",
      "Качество: 0.828\n",
      "Precision: 0.5860566448801743\n",
      "Recall: 0.6359338061465721\n",
      "F1: 0.6099773242630384\n",
      "\n",
      "Модель при уменьшенном количестве классов 0\n",
      "Качество: 0.778\n",
      "Precision: 0.4840182648401826\n",
      "Recall: 0.75177304964539\n",
      "F1: 0.5888888888888889\n",
      "\n",
      "Модель при увеличенном количестве классов 1:\n",
      "Качество: 0.8215\n",
      "Precision: 0.5679012345679012\n",
      "Recall: 0.6524822695035462\n",
      "F1: 0.6072607260726073\n",
      "\n"
     ]
    }
   ],
   "source": [
    "model = RandomForestClassifier(random_state=12345, n_estimators=355, min_samples_split=10,\n",
    "                                   min_samples_leaf=7)\n",
    "model.fit(features_train, target_train)\n",
    "predicted_test = model.predict(features_test)\n",
    "print('Модель при дисбалансе:')\n",
    "print('Качество:', accuracy_score(target_test, predicted_test))\n",
    "print('Precision:', precision_score(target_test, predicted_test))\n",
    "print('Recall:', recall_score(target_test, predicted_test))\n",
    "print('F1:', f1_score(target_test, predicted_test))\n",
    "print()\n",
    "\n",
    "model = RandomForestClassifier(random_state=12345, n_estimators=355, min_samples_split=10,\n",
    "                                   min_samples_leaf=7, class_weight='balanced')\n",
    "model.fit(features_train, target_train)\n",
    "predicted_test = model.predict(features_test)\n",
    "print('Модель при взвешенных классах:')\n",
    "print('Качество:', accuracy_score(target_test, predicted_test))\n",
    "print('Precision:', precision_score(target_test, predicted_test))\n",
    "print('Recall:', recall_score(target_test, predicted_test))\n",
    "print('F1:', f1_score(target_test, predicted_test))\n",
    "print()\n",
    "\n",
    "model = RandomForestClassifier(random_state=12345, n_estimators=355, min_samples_split=10,\n",
    "                                   min_samples_leaf=7)\n",
    "model.fit(features_downsampled, target_downsampled)\n",
    "predicted_test = model.predict(features_test)\n",
    "print('Модель при уменьшенном количестве классов 0:')\n",
    "print('Качество:', accuracy_score(target_test, predicted_test))\n",
    "print('Precision:', precision_score(target_test, predicted_test))\n",
    "print('Recall:', recall_score(target_test, predicted_test))\n",
    "print('F1:', f1_score(target_test, predicted_test))\n",
    "print()\n",
    "\n",
    "model = RandomForestClassifier(random_state=12345, n_estimators=355, min_samples_split=10,\n",
    "                                   min_samples_leaf=7)\n",
    "model.fit(features_upsampled, target_upsampled)\n",
    "predicted_test = model.predict(features_test)\n",
    "print('Модель при увеличенном количестве классов 1:')\n",
    "print('Качество:', accuracy_score(target_test, predicted_test))\n",
    "print('Precision:', precision_score(target_test, predicted_test))\n",
    "print('Recall:', recall_score(target_test, predicted_test))\n",
    "print('F1:', f1_score(target_test, predicted_test))\n",
    "print()"
   ]
  },
  {
   "cell_type": "code",
   "execution_count": 47,
   "metadata": {},
   "outputs": [
    {
     "name": "stdout",
     "output_type": "stream",
     "text": [
      "AUC-ROC модели случайного леса при дисбалансе: 0.8600388864153891\n",
      "AUC-ROC модели случайного леса при взвешенных классах: 0.8577572702156142\n",
      "AUC-ROC модели случайного леса  при уменьшенном количестве классов 0: 0.8500834244030995\n",
      "AUC-ROC модели случайного леса при увеличенном количестве классов 1: 0.8574634484185342\n"
     ]
    },
    {
     "data": {
      "image/png": "[encoded data removed]",
      "text/plain": [
       "<Figure size 864x648 with 1 Axes>"
      ]
     },
     "metadata": {
      "needs_background": "light"
     },
     "output_type": "display_data"
    }
   ],
   "source": [
    "plt.figure(figsize=[12,9])\n",
    "\n",
    "plt.plot([0, 1], [0, 1], linestyle='--', label='RandomModel')\n",
    "\n",
    "\n",
    "model = RandomForestClassifier(random_state=12345, n_estimators=355, min_samples_split=10,\n",
    "                                   min_samples_leaf=7)\n",
    "model.fit(features_train, target_train)\n",
    "predicted_test = model.predict(features_test)\n",
    "probabilities_test = model.predict_proba(features_test)\n",
    "probabilities_one_test = probabilities_test[:, 1]\n",
    "fpr, tpr, thresholds = roc_curve(target_test, probabilities_one_test)\n",
    "auc_roc = roc_auc_score(target_test, probabilities_one_test)\n",
    "print('AUC-ROC модели случайного леса при дисбалансе:',auc_roc)\n",
    "plt.plot(fpr, tpr, label='Модель случайного леса при дисбалансе')\n",
    "\n",
    "model = RandomForestClassifier(random_state=12345, n_estimators=355, min_samples_split=10,\n",
    "                                   min_samples_leaf=7, class_weight='balanced')\n",
    "model.fit(features_train, target_train)\n",
    "predicted_test = model.predict(features_test)\n",
    "probabilities_test = model.predict_proba(features_test)\n",
    "probabilities_one_test = probabilities_test[:, 1]\n",
    "fpr, tpr, thresholds = roc_curve(target_test, probabilities_one_test)\n",
    "auc_roc = roc_auc_score(target_test, probabilities_one_test)\n",
    "print('AUC-ROC модели случайного леса при взвешенных классах:',auc_roc)\n",
    "plt.plot(fpr, tpr, label='Модель случайного леса при взвешенных классах')\n",
    "\n",
    "model = RandomForestClassifier(random_state=12345, n_estimators=355, min_samples_split=10,\n",
    "                                   min_samples_leaf=7)\n",
    "model.fit(features_downsampled, target_downsampled)\n",
    "predicted_test = model.predict(features_test)\n",
    "probabilities_test = model.predict_proba(features_test)\n",
    "probabilities_one_test = probabilities_test[:, 1]\n",
    "fpr, tpr, thresholds = roc_curve(target_test, probabilities_one_test)\n",
    "auc_roc = roc_auc_score(target_test, probabilities_one_test)\n",
    "print('AUC-ROC модели случайного леса  при уменьшенном количестве классов 0:',auc_roc)\n",
    "plt.plot(fpr, tpr, label='Модель случайного леса  при уменьшенном количестве классов 0')\n",
    "\n",
    "model = RandomForestClassifier(random_state=12345, n_estimators=355, min_samples_split=10,\n",
    "                                   min_samples_leaf=7)\n",
    "model.fit(features_upsampled, target_upsampled)\n",
    "predicted_test = model.predict(features_test)\n",
    "probabilities_test = model.predict_proba(features_test)\n",
    "probabilities_one_test = probabilities_test[:, 1]\n",
    "fpr, tpr, thresholds = roc_curve(target_test, probabilities_one_test)\n",
    "auc_roc = roc_auc_score(target_test, probabilities_one_test)\n",
    "print('AUC-ROC модели случайного леса при увеличенном количестве классов 1:',auc_roc)\n",
    "plt.plot(fpr, tpr, label='Модель случайного леса при увеличенном количестве классов 1')\n",
    "\n",
    "plt.xlim([0,1])\n",
    "plt.ylim([0,1])\n",
    "\n",
    "plt.xlabel(\"False Positive Rate\")\n",
    "plt.ylabel(\"True Positive Rate\")\n",
    "\n",
    "plt.legend(loc='lower right', fontsize='x-large')\n",
    "\n",
    "plt.title(\"ROC-кривая\")\n",
    "plt.show()"
   ]
  },
  {
   "cell_type": "markdown",
   "metadata": {},
   "source": [
    "**Вывод:**\n",
    "1. Модель случайного леса при взвешенных классах и модель случайного леса при увеличенном количестве классов 1 превысили показатели f1-меры - около 0.61;\n",
    "2. Можно заметить, смотря на адекватность модели, AUC-ROC сбалансированных моделей примерно одинаково предсказывают вероятность ухода клиента;\n",
    "3. Из вышепроведенного исследования можно заключить, что лучшаяя модель по f1-мере и по AUC-ROC - Случайных лес при взвешенных классах."
   ]
  },
  {
   "cell_type": "markdown",
   "metadata": {},
   "source": [
    "<div class=\"alert alert-block alert-success\">\n",
    "<b>Успех:</b>  С тестированием все в порядке! Тебе удалось достичь хороших показателей метрик на тесте. \n",
    "</div> \n"
   ]
  },
  {
   "cell_type": "markdown",
   "metadata": {},
   "source": [
    "## Общий вывод:\n",
    "1. Были изучены и скорректированы данные;\n",
    "2. Сделана разбивка на три выборки: обучающая, валидация и тестовая;\n",
    "3. Были рассмотрены три модели классификации (дерево решений, случайный лес и логическая регрессия), изменены гиперпараметры на данных без изменений и на скорректированных;\n",
    "4. Также изучены балансы классов, изменены гиперпараметры для лучшей модели - Случайный лес;\n",
    "5. Проведено финальное тестирование. Установлено, что  Случайных лес при взвешенных классах имеет хорошую адекватность при AUC-ROC = 0.858, а также при f1-мере = 0.61, то есть предсказания неслучайны. "
   ]
  }
 ],
 "metadata": {
  "ExecuteTimeLog": [
   {
    "duration": 1619,
    "start_time": "2022-12-11T13:23:30.914Z"
   },
   {
    "duration": 178,
    "start_time": "2022-12-11T13:23:32.536Z"
   },
   {
    "duration": 52,
    "start_time": "2022-12-11T13:27:37.636Z"
   },
   {
    "duration": 13,
    "start_time": "2022-12-11T13:28:17.899Z"
   },
   {
    "duration": 14,
    "start_time": "2022-12-11T13:30:33.411Z"
   },
   {
    "duration": 18,
    "start_time": "2022-12-11T13:30:39.945Z"
   },
   {
    "duration": 7,
    "start_time": "2022-12-11T13:31:04.574Z"
   },
   {
    "duration": 1776,
    "start_time": "2022-12-13T05:22:49.192Z"
   },
   {
    "duration": 188,
    "start_time": "2022-12-13T05:22:50.971Z"
   },
   {
    "duration": 48,
    "start_time": "2022-12-13T05:22:51.161Z"
   },
   {
    "duration": 13,
    "start_time": "2022-12-13T05:22:51.211Z"
   },
   {
    "duration": 35,
    "start_time": "2022-12-13T05:22:51.226Z"
   },
   {
    "duration": 18,
    "start_time": "2022-12-13T05:22:51.263Z"
   },
   {
    "duration": 10,
    "start_time": "2022-12-13T05:22:51.283Z"
   },
   {
    "duration": 133,
    "start_time": "2022-12-13T05:22:51.295Z"
   },
   {
    "duration": 6,
    "start_time": "2022-12-13T05:23:22.165Z"
   },
   {
    "duration": 13,
    "start_time": "2022-12-13T05:23:31.108Z"
   },
   {
    "duration": 5,
    "start_time": "2022-12-13T05:25:19.853Z"
   },
   {
    "duration": 5,
    "start_time": "2022-12-13T05:25:25.679Z"
   },
   {
    "duration": 71,
    "start_time": "2022-12-13T05:27:51.163Z"
   },
   {
    "duration": 5,
    "start_time": "2022-12-13T05:29:34.066Z"
   },
   {
    "duration": 5,
    "start_time": "2022-12-13T05:29:47.609Z"
   },
   {
    "duration": 3,
    "start_time": "2022-12-13T05:29:54.764Z"
   },
   {
    "duration": 18,
    "start_time": "2022-12-13T05:29:56.329Z"
   },
   {
    "duration": 1457,
    "start_time": "2022-12-13T05:30:09.013Z"
   },
   {
    "duration": 50,
    "start_time": "2022-12-13T05:30:10.473Z"
   },
   {
    "duration": 46,
    "start_time": "2022-12-13T05:30:10.524Z"
   },
   {
    "duration": 12,
    "start_time": "2022-12-13T05:30:10.572Z"
   },
   {
    "duration": 20,
    "start_time": "2022-12-13T05:30:10.585Z"
   },
   {
    "duration": 19,
    "start_time": "2022-12-13T05:30:10.607Z"
   },
   {
    "duration": 7,
    "start_time": "2022-12-13T05:30:10.628Z"
   },
   {
    "duration": 4,
    "start_time": "2022-12-13T05:30:10.651Z"
   },
   {
    "duration": 9,
    "start_time": "2022-12-13T05:30:10.657Z"
   },
   {
    "duration": 1385,
    "start_time": "2022-12-13T05:30:22.875Z"
   },
   {
    "duration": 53,
    "start_time": "2022-12-13T05:30:24.262Z"
   },
   {
    "duration": 50,
    "start_time": "2022-12-13T05:30:24.317Z"
   },
   {
    "duration": 15,
    "start_time": "2022-12-13T05:30:24.369Z"
   },
   {
    "duration": 19,
    "start_time": "2022-12-13T05:30:24.386Z"
   },
   {
    "duration": 13,
    "start_time": "2022-12-13T05:30:24.406Z"
   },
   {
    "duration": 7,
    "start_time": "2022-12-13T05:30:24.421Z"
   },
   {
    "duration": 24,
    "start_time": "2022-12-13T05:30:24.429Z"
   },
   {
    "duration": 9,
    "start_time": "2022-12-13T05:30:24.454Z"
   },
   {
    "duration": 7,
    "start_time": "2022-12-13T05:40:06.685Z"
   },
   {
    "duration": 139,
    "start_time": "2022-12-13T05:43:33.331Z"
   },
   {
    "duration": 70,
    "start_time": "2022-12-13T05:43:42.219Z"
   },
   {
    "duration": 8,
    "start_time": "2022-12-13T05:43:48.070Z"
   },
   {
    "duration": 4,
    "start_time": "2022-12-13T05:44:27.939Z"
   },
   {
    "duration": 13,
    "start_time": "2022-12-13T05:44:42.014Z"
   },
   {
    "duration": 4,
    "start_time": "2022-12-13T05:48:12.594Z"
   },
   {
    "duration": 44,
    "start_time": "2022-12-13T08:38:54.802Z"
   },
   {
    "duration": 1547,
    "start_time": "2022-12-13T08:39:01.087Z"
   },
   {
    "duration": 102,
    "start_time": "2022-12-13T08:39:02.636Z"
   },
   {
    "duration": 43,
    "start_time": "2022-12-13T08:39:02.740Z"
   },
   {
    "duration": 12,
    "start_time": "2022-12-13T08:39:02.785Z"
   },
   {
    "duration": 19,
    "start_time": "2022-12-13T08:39:02.799Z"
   },
   {
    "duration": 17,
    "start_time": "2022-12-13T08:39:02.819Z"
   },
   {
    "duration": 11,
    "start_time": "2022-12-13T08:39:02.837Z"
   },
   {
    "duration": 14,
    "start_time": "2022-12-13T08:39:02.850Z"
   },
   {
    "duration": 23,
    "start_time": "2022-12-13T08:39:02.865Z"
   },
   {
    "duration": 27,
    "start_time": "2022-12-13T08:39:02.890Z"
   },
   {
    "duration": 14,
    "start_time": "2022-12-13T08:39:02.919Z"
   },
   {
    "duration": 1466,
    "start_time": "2022-12-13T08:47:27.108Z"
   },
   {
    "duration": 62,
    "start_time": "2022-12-13T08:47:28.575Z"
   },
   {
    "duration": 45,
    "start_time": "2022-12-13T08:47:28.638Z"
   },
   {
    "duration": 30,
    "start_time": "2022-12-13T08:47:28.685Z"
   },
   {
    "duration": 35,
    "start_time": "2022-12-13T08:47:28.717Z"
   },
   {
    "duration": 35,
    "start_time": "2022-12-13T08:47:28.754Z"
   },
   {
    "duration": 15,
    "start_time": "2022-12-13T08:47:28.792Z"
   },
   {
    "duration": 15,
    "start_time": "2022-12-13T08:47:28.809Z"
   },
   {
    "duration": 13,
    "start_time": "2022-12-13T08:47:28.826Z"
   },
   {
    "duration": 10,
    "start_time": "2022-12-13T08:47:28.841Z"
   },
   {
    "duration": 34,
    "start_time": "2022-12-13T08:47:28.852Z"
   },
   {
    "duration": 26,
    "start_time": "2022-12-13T08:47:28.888Z"
   },
   {
    "duration": 1323,
    "start_time": "2022-12-13T09:06:06.565Z"
   },
   {
    "duration": 49,
    "start_time": "2022-12-13T09:06:07.890Z"
   },
   {
    "duration": 51,
    "start_time": "2022-12-13T09:06:07.940Z"
   },
   {
    "duration": 11,
    "start_time": "2022-12-13T09:06:07.993Z"
   },
   {
    "duration": 22,
    "start_time": "2022-12-13T09:06:08.006Z"
   },
   {
    "duration": 27,
    "start_time": "2022-12-13T09:06:08.030Z"
   },
   {
    "duration": 14,
    "start_time": "2022-12-13T09:06:08.058Z"
   },
   {
    "duration": 17,
    "start_time": "2022-12-13T09:06:08.074Z"
   },
   {
    "duration": 12,
    "start_time": "2022-12-13T09:06:08.092Z"
   },
   {
    "duration": 15,
    "start_time": "2022-12-13T09:06:08.106Z"
   },
   {
    "duration": 21,
    "start_time": "2022-12-13T09:06:08.122Z"
   },
   {
    "duration": 34,
    "start_time": "2022-12-13T09:06:08.145Z"
   },
   {
    "duration": 110,
    "start_time": "2022-12-13T09:06:08.180Z"
   },
   {
    "duration": 13,
    "start_time": "2022-12-13T09:06:29.741Z"
   },
   {
    "duration": 8,
    "start_time": "2022-12-13T09:17:58.079Z"
   },
   {
    "duration": 84,
    "start_time": "2022-12-13T09:22:53.319Z"
   },
   {
    "duration": 1844,
    "start_time": "2022-12-13T09:23:26.279Z"
   },
   {
    "duration": 52,
    "start_time": "2022-12-13T09:23:28.125Z"
   },
   {
    "duration": 40,
    "start_time": "2022-12-13T09:23:28.179Z"
   },
   {
    "duration": 12,
    "start_time": "2022-12-13T09:23:28.221Z"
   },
   {
    "duration": 13,
    "start_time": "2022-12-13T09:23:28.235Z"
   },
   {
    "duration": 13,
    "start_time": "2022-12-13T09:23:28.250Z"
   },
   {
    "duration": 8,
    "start_time": "2022-12-13T09:23:28.265Z"
   },
   {
    "duration": 25,
    "start_time": "2022-12-13T09:23:28.274Z"
   },
   {
    "duration": 7,
    "start_time": "2022-12-13T09:23:28.301Z"
   },
   {
    "duration": 4,
    "start_time": "2022-12-13T09:23:28.311Z"
   },
   {
    "duration": 10,
    "start_time": "2022-12-13T09:23:28.316Z"
   },
   {
    "duration": 16,
    "start_time": "2022-12-13T09:23:28.328Z"
   },
   {
    "duration": 11,
    "start_time": "2022-12-13T09:23:28.346Z"
   },
   {
    "duration": 65,
    "start_time": "2022-12-13T09:23:28.358Z"
   },
   {
    "duration": 82,
    "start_time": "2022-12-13T09:24:30.721Z"
   },
   {
    "duration": 173,
    "start_time": "2022-12-13T09:27:19.894Z"
   },
   {
    "duration": 1440,
    "start_time": "2022-12-13T09:27:41.714Z"
   },
   {
    "duration": 57,
    "start_time": "2022-12-13T09:27:43.157Z"
   },
   {
    "duration": 45,
    "start_time": "2022-12-13T09:27:43.217Z"
   },
   {
    "duration": 12,
    "start_time": "2022-12-13T09:27:43.265Z"
   },
   {
    "duration": 33,
    "start_time": "2022-12-13T09:27:43.279Z"
   },
   {
    "duration": 18,
    "start_time": "2022-12-13T09:27:43.315Z"
   },
   {
    "duration": 9,
    "start_time": "2022-12-13T09:27:43.334Z"
   },
   {
    "duration": 6,
    "start_time": "2022-12-13T09:27:43.345Z"
   },
   {
    "duration": 11,
    "start_time": "2022-12-13T09:27:43.353Z"
   },
   {
    "duration": 5,
    "start_time": "2022-12-13T09:27:43.367Z"
   },
   {
    "duration": 17,
    "start_time": "2022-12-13T09:27:43.403Z"
   },
   {
    "duration": 26,
    "start_time": "2022-12-13T09:27:43.423Z"
   },
   {
    "duration": 10,
    "start_time": "2022-12-13T09:27:43.451Z"
   },
   {
    "duration": 155,
    "start_time": "2022-12-13T09:27:43.463Z"
   },
   {
    "duration": 89,
    "start_time": "2022-12-13T09:27:43.621Z"
   },
   {
    "duration": 118,
    "start_time": "2022-12-13T09:27:43.711Z"
   },
   {
    "duration": 142,
    "start_time": "2022-12-13T09:28:51.403Z"
   },
   {
    "duration": 36,
    "start_time": "2022-12-13T09:30:52.139Z"
   },
   {
    "duration": 1346,
    "start_time": "2022-12-13T09:30:56.724Z"
   },
   {
    "duration": 54,
    "start_time": "2022-12-13T09:30:58.072Z"
   },
   {
    "duration": 43,
    "start_time": "2022-12-13T09:30:58.128Z"
   },
   {
    "duration": 23,
    "start_time": "2022-12-13T09:30:58.174Z"
   },
   {
    "duration": 30,
    "start_time": "2022-12-13T09:30:58.200Z"
   },
   {
    "duration": 21,
    "start_time": "2022-12-13T09:30:58.231Z"
   },
   {
    "duration": 11,
    "start_time": "2022-12-13T09:30:58.253Z"
   },
   {
    "duration": 33,
    "start_time": "2022-12-13T09:30:58.265Z"
   },
   {
    "duration": 34,
    "start_time": "2022-12-13T09:30:58.300Z"
   },
   {
    "duration": 14,
    "start_time": "2022-12-13T09:30:58.337Z"
   },
   {
    "duration": 19,
    "start_time": "2022-12-13T09:30:58.352Z"
   },
   {
    "duration": 21,
    "start_time": "2022-12-13T09:30:58.372Z"
   },
   {
    "duration": 28,
    "start_time": "2022-12-13T09:30:58.394Z"
   },
   {
    "duration": 35,
    "start_time": "2022-12-13T09:30:58.424Z"
   },
   {
    "duration": 0,
    "start_time": "2022-12-13T09:30:58.460Z"
   },
   {
    "duration": 0,
    "start_time": "2022-12-13T09:30:58.462Z"
   },
   {
    "duration": 35,
    "start_time": "2022-12-13T09:31:04.915Z"
   },
   {
    "duration": 1384,
    "start_time": "2022-12-13T09:31:12.212Z"
   },
   {
    "duration": 50,
    "start_time": "2022-12-13T09:31:13.599Z"
   },
   {
    "duration": 65,
    "start_time": "2022-12-13T09:31:13.651Z"
   },
   {
    "duration": 13,
    "start_time": "2022-12-13T09:31:13.718Z"
   },
   {
    "duration": 14,
    "start_time": "2022-12-13T09:31:13.732Z"
   },
   {
    "duration": 15,
    "start_time": "2022-12-13T09:31:13.748Z"
   },
   {
    "duration": 23,
    "start_time": "2022-12-13T09:31:13.765Z"
   },
   {
    "duration": 4,
    "start_time": "2022-12-13T09:31:13.801Z"
   },
   {
    "duration": 18,
    "start_time": "2022-12-13T09:31:13.807Z"
   },
   {
    "duration": 5,
    "start_time": "2022-12-13T09:31:13.827Z"
   },
   {
    "duration": 9,
    "start_time": "2022-12-13T09:31:13.834Z"
   },
   {
    "duration": 17,
    "start_time": "2022-12-13T09:31:13.845Z"
   },
   {
    "duration": 8,
    "start_time": "2022-12-13T09:31:13.864Z"
   },
   {
    "duration": 28,
    "start_time": "2022-12-13T09:31:13.874Z"
   },
   {
    "duration": 0,
    "start_time": "2022-12-13T09:31:13.904Z"
   },
   {
    "duration": 0,
    "start_time": "2022-12-13T09:31:13.905Z"
   },
   {
    "duration": 162,
    "start_time": "2022-12-13T09:31:20.365Z"
   },
   {
    "duration": 149,
    "start_time": "2022-12-13T09:31:30.577Z"
   },
   {
    "duration": 16,
    "start_time": "2022-12-13T09:34:42.674Z"
   },
   {
    "duration": 1378,
    "start_time": "2022-12-13T09:34:49.708Z"
   },
   {
    "duration": 59,
    "start_time": "2022-12-13T09:34:51.087Z"
   },
   {
    "duration": 39,
    "start_time": "2022-12-13T09:34:51.147Z"
   },
   {
    "duration": 13,
    "start_time": "2022-12-13T09:34:51.188Z"
   },
   {
    "duration": 28,
    "start_time": "2022-12-13T09:34:51.204Z"
   },
   {
    "duration": 13,
    "start_time": "2022-12-13T09:34:51.234Z"
   },
   {
    "duration": 8,
    "start_time": "2022-12-13T09:34:51.248Z"
   },
   {
    "duration": 11,
    "start_time": "2022-12-13T09:34:51.258Z"
   },
   {
    "duration": 7,
    "start_time": "2022-12-13T09:34:51.270Z"
   },
   {
    "duration": 8,
    "start_time": "2022-12-13T09:34:51.280Z"
   },
   {
    "duration": 18,
    "start_time": "2022-12-13T09:34:51.290Z"
   },
   {
    "duration": 17,
    "start_time": "2022-12-13T09:34:51.310Z"
   },
   {
    "duration": 9,
    "start_time": "2022-12-13T09:34:51.328Z"
   },
   {
    "duration": 151,
    "start_time": "2022-12-13T09:34:51.339Z"
   },
   {
    "duration": 42,
    "start_time": "2022-12-13T09:34:51.491Z"
   },
   {
    "duration": 98,
    "start_time": "2022-12-13T09:34:51.602Z"
   },
   {
    "duration": 109,
    "start_time": "2022-12-13T09:36:47.933Z"
   },
   {
    "duration": 1299,
    "start_time": "2022-12-13T09:37:03.008Z"
   },
   {
    "duration": 50,
    "start_time": "2022-12-13T09:37:04.308Z"
   },
   {
    "duration": 39,
    "start_time": "2022-12-13T09:37:04.360Z"
   },
   {
    "duration": 11,
    "start_time": "2022-12-13T09:37:04.401Z"
   },
   {
    "duration": 27,
    "start_time": "2022-12-13T09:37:04.414Z"
   },
   {
    "duration": 19,
    "start_time": "2022-12-13T09:37:04.443Z"
   },
   {
    "duration": 10,
    "start_time": "2022-12-13T09:37:04.463Z"
   },
   {
    "duration": 15,
    "start_time": "2022-12-13T09:37:04.474Z"
   },
   {
    "duration": 18,
    "start_time": "2022-12-13T09:37:04.492Z"
   },
   {
    "duration": 26,
    "start_time": "2022-12-13T09:37:04.512Z"
   },
   {
    "duration": 25,
    "start_time": "2022-12-13T09:37:04.540Z"
   },
   {
    "duration": 33,
    "start_time": "2022-12-13T09:37:04.566Z"
   },
   {
    "duration": 14,
    "start_time": "2022-12-13T09:37:04.602Z"
   },
   {
    "duration": 136,
    "start_time": "2022-12-13T09:37:04.618Z"
   },
   {
    "duration": 0,
    "start_time": "2022-12-13T09:37:04.756Z"
   },
   {
    "duration": 0,
    "start_time": "2022-12-13T09:37:04.758Z"
   },
   {
    "duration": 46,
    "start_time": "2022-12-14T08:20:04.555Z"
   },
   {
    "duration": 1528,
    "start_time": "2022-12-14T08:20:09.691Z"
   },
   {
    "duration": 181,
    "start_time": "2022-12-14T08:20:11.221Z"
   },
   {
    "duration": 39,
    "start_time": "2022-12-14T08:20:11.404Z"
   },
   {
    "duration": 11,
    "start_time": "2022-12-14T08:20:11.445Z"
   },
   {
    "duration": 31,
    "start_time": "2022-12-14T08:20:11.457Z"
   },
   {
    "duration": 26,
    "start_time": "2022-12-14T08:20:11.490Z"
   },
   {
    "duration": 21,
    "start_time": "2022-12-14T08:20:11.518Z"
   },
   {
    "duration": 20,
    "start_time": "2022-12-14T08:20:11.541Z"
   },
   {
    "duration": 37,
    "start_time": "2022-12-14T08:20:11.563Z"
   },
   {
    "duration": 48,
    "start_time": "2022-12-14T08:20:11.603Z"
   },
   {
    "duration": 21,
    "start_time": "2022-12-14T08:20:11.653Z"
   },
   {
    "duration": 42,
    "start_time": "2022-12-14T08:20:11.676Z"
   },
   {
    "duration": 30,
    "start_time": "2022-12-14T08:20:11.720Z"
   },
   {
    "duration": 135,
    "start_time": "2022-12-14T08:20:11.752Z"
   },
   {
    "duration": 0,
    "start_time": "2022-12-14T08:20:11.888Z"
   },
   {
    "duration": 0,
    "start_time": "2022-12-14T08:20:11.889Z"
   },
   {
    "duration": 9,
    "start_time": "2022-12-14T08:20:27.273Z"
   },
   {
    "duration": 8,
    "start_time": "2022-12-14T08:20:42.656Z"
   },
   {
    "duration": 123,
    "start_time": "2022-12-14T08:22:59.614Z"
   },
   {
    "duration": 700,
    "start_time": "2022-12-14T08:23:16.479Z"
   },
   {
    "duration": 724,
    "start_time": "2022-12-14T08:23:28.695Z"
   },
   {
    "duration": 84,
    "start_time": "2022-12-14T08:27:27.708Z"
   },
   {
    "duration": 675,
    "start_time": "2022-12-14T08:27:34.502Z"
   },
   {
    "duration": 725,
    "start_time": "2022-12-14T08:28:24.675Z"
   },
   {
    "duration": 705,
    "start_time": "2022-12-14T08:28:56.744Z"
   },
   {
    "duration": 694,
    "start_time": "2022-12-14T08:30:00.485Z"
   },
   {
    "duration": 737,
    "start_time": "2022-12-14T08:31:02.368Z"
   },
   {
    "duration": 650,
    "start_time": "2022-12-14T08:33:38.177Z"
   },
   {
    "duration": 1274,
    "start_time": "2022-12-14T08:34:05.824Z"
   },
   {
    "duration": 77,
    "start_time": "2022-12-14T08:34:07.100Z"
   },
   {
    "duration": 39,
    "start_time": "2022-12-14T08:34:07.178Z"
   },
   {
    "duration": 12,
    "start_time": "2022-12-14T08:34:07.219Z"
   },
   {
    "duration": 34,
    "start_time": "2022-12-14T08:34:07.232Z"
   },
   {
    "duration": 13,
    "start_time": "2022-12-14T08:34:07.268Z"
   },
   {
    "duration": 6,
    "start_time": "2022-12-14T08:34:07.282Z"
   },
   {
    "duration": 7,
    "start_time": "2022-12-14T08:34:07.289Z"
   },
   {
    "duration": 11,
    "start_time": "2022-12-14T08:34:07.297Z"
   },
   {
    "duration": 17,
    "start_time": "2022-12-14T08:34:07.309Z"
   },
   {
    "duration": 11,
    "start_time": "2022-12-14T08:34:07.328Z"
   },
   {
    "duration": 16,
    "start_time": "2022-12-14T08:34:07.341Z"
   },
   {
    "duration": 8,
    "start_time": "2022-12-14T08:34:07.359Z"
   },
   {
    "duration": 188,
    "start_time": "2022-12-14T08:34:07.368Z"
   },
   {
    "duration": 70,
    "start_time": "2022-12-14T08:34:07.557Z"
   },
   {
    "duration": 132,
    "start_time": "2022-12-14T08:34:07.630Z"
   },
   {
    "duration": 90,
    "start_time": "2022-12-14T08:38:29.297Z"
   },
   {
    "duration": 1322,
    "start_time": "2022-12-14T08:38:36.802Z"
   },
   {
    "duration": 48,
    "start_time": "2022-12-14T08:38:38.127Z"
   },
   {
    "duration": 41,
    "start_time": "2022-12-14T08:38:38.176Z"
   },
   {
    "duration": 12,
    "start_time": "2022-12-14T08:38:38.219Z"
   },
   {
    "duration": 20,
    "start_time": "2022-12-14T08:38:38.232Z"
   },
   {
    "duration": 23,
    "start_time": "2022-12-14T08:38:38.253Z"
   },
   {
    "duration": 7,
    "start_time": "2022-12-14T08:38:38.278Z"
   },
   {
    "duration": 8,
    "start_time": "2022-12-14T08:38:38.287Z"
   },
   {
    "duration": 9,
    "start_time": "2022-12-14T08:38:38.296Z"
   },
   {
    "duration": 6,
    "start_time": "2022-12-14T08:38:38.307Z"
   },
   {
    "duration": 15,
    "start_time": "2022-12-14T08:38:38.314Z"
   },
   {
    "duration": 27,
    "start_time": "2022-12-14T08:38:38.332Z"
   },
   {
    "duration": 12,
    "start_time": "2022-12-14T08:38:38.361Z"
   },
   {
    "duration": 186,
    "start_time": "2022-12-14T08:38:38.375Z"
   },
   {
    "duration": 29,
    "start_time": "2022-12-14T08:38:38.563Z"
   },
   {
    "duration": 672,
    "start_time": "2022-12-14T08:39:14.397Z"
   },
   {
    "duration": 635,
    "start_time": "2022-12-14T08:44:43.101Z"
   },
   {
    "duration": 667,
    "start_time": "2022-12-14T08:45:32.592Z"
   },
   {
    "duration": 5154,
    "start_time": "2022-12-14T08:47:36.778Z"
   },
   {
    "duration": 5510,
    "start_time": "2022-12-14T08:48:08.920Z"
   },
   {
    "duration": 4195,
    "start_time": "2022-12-14T08:50:34.336Z"
   },
   {
    "duration": 658,
    "start_time": "2022-12-14T08:51:53.211Z"
   },
   {
    "duration": 8,
    "start_time": "2022-12-14T08:52:47.317Z"
   },
   {
    "duration": 28,
    "start_time": "2022-12-14T08:55:21.109Z"
   },
   {
    "duration": 13,
    "start_time": "2022-12-14T08:55:21.943Z"
   },
   {
    "duration": 4,
    "start_time": "2022-12-14T08:55:23.071Z"
   },
   {
    "duration": 1241,
    "start_time": "2022-12-14T08:55:38.673Z"
   },
   {
    "duration": 47,
    "start_time": "2022-12-14T08:55:39.916Z"
   },
   {
    "duration": 42,
    "start_time": "2022-12-14T08:55:39.965Z"
   },
   {
    "duration": 12,
    "start_time": "2022-12-14T08:55:40.009Z"
   },
   {
    "duration": 17,
    "start_time": "2022-12-14T08:55:40.023Z"
   },
   {
    "duration": 17,
    "start_time": "2022-12-14T08:55:40.041Z"
   },
   {
    "duration": 7,
    "start_time": "2022-12-14T08:55:40.059Z"
   },
   {
    "duration": 8,
    "start_time": "2022-12-14T08:55:40.068Z"
   },
   {
    "duration": 27,
    "start_time": "2022-12-14T08:55:40.077Z"
   },
   {
    "duration": 4,
    "start_time": "2022-12-14T08:55:40.107Z"
   },
   {
    "duration": 8,
    "start_time": "2022-12-14T08:55:40.113Z"
   },
   {
    "duration": 21,
    "start_time": "2022-12-14T08:55:40.122Z"
   },
   {
    "duration": 10,
    "start_time": "2022-12-14T08:55:40.144Z"
   },
   {
    "duration": 840,
    "start_time": "2022-12-14T08:55:40.155Z"
   },
   {
    "duration": 31,
    "start_time": "2022-12-14T08:55:40.997Z"
   },
   {
    "duration": 14,
    "start_time": "2022-12-14T08:55:41.030Z"
   },
   {
    "duration": 14,
    "start_time": "2022-12-14T08:55:41.045Z"
   },
   {
    "duration": 4870,
    "start_time": "2022-12-14T08:55:41.060Z"
   },
   {
    "duration": 652,
    "start_time": "2022-12-14T08:56:09.049Z"
   },
   {
    "duration": 28,
    "start_time": "2022-12-14T08:56:11.322Z"
   },
   {
    "duration": 13,
    "start_time": "2022-12-14T08:56:12.423Z"
   },
   {
    "duration": 13,
    "start_time": "2022-12-14T08:56:13.212Z"
   },
   {
    "duration": 707,
    "start_time": "2022-12-14T08:58:14.562Z"
   },
   {
    "duration": 4297,
    "start_time": "2022-12-14T08:58:27.741Z"
   },
   {
    "duration": 4487,
    "start_time": "2022-12-14T08:58:37.640Z"
   },
   {
    "duration": 31124,
    "start_time": "2022-12-14T09:01:27.574Z"
   },
   {
    "duration": 8087,
    "start_time": "2022-12-14T09:03:58.545Z"
   },
   {
    "duration": 7949,
    "start_time": "2022-12-14T09:04:27.267Z"
   },
   {
    "duration": 387,
    "start_time": "2022-12-14T09:05:54.344Z"
   },
   {
    "duration": 375,
    "start_time": "2022-12-14T09:06:40.098Z"
   },
   {
    "duration": 277,
    "start_time": "2022-12-14T09:06:41.221Z"
   },
   {
    "duration": 387,
    "start_time": "2022-12-14T09:06:42.559Z"
   },
   {
    "duration": 1341,
    "start_time": "2022-12-14T09:46:01.695Z"
   },
   {
    "duration": 48,
    "start_time": "2022-12-14T09:46:03.038Z"
   },
   {
    "duration": 40,
    "start_time": "2022-12-14T09:46:03.088Z"
   },
   {
    "duration": 11,
    "start_time": "2022-12-14T09:46:03.130Z"
   },
   {
    "duration": 26,
    "start_time": "2022-12-14T09:46:03.142Z"
   },
   {
    "duration": 20,
    "start_time": "2022-12-14T09:46:03.170Z"
   },
   {
    "duration": 10,
    "start_time": "2022-12-14T09:46:03.191Z"
   },
   {
    "duration": 18,
    "start_time": "2022-12-14T09:46:03.202Z"
   },
   {
    "duration": 16,
    "start_time": "2022-12-14T09:46:03.222Z"
   },
   {
    "duration": 25,
    "start_time": "2022-12-14T09:46:03.240Z"
   },
   {
    "duration": 19,
    "start_time": "2022-12-14T09:46:03.267Z"
   },
   {
    "duration": 30,
    "start_time": "2022-12-14T09:46:03.287Z"
   },
   {
    "duration": 31,
    "start_time": "2022-12-14T09:46:03.318Z"
   },
   {
    "duration": 690,
    "start_time": "2022-12-14T09:46:03.351Z"
   },
   {
    "duration": 30,
    "start_time": "2022-12-14T09:46:04.042Z"
   },
   {
    "duration": 13,
    "start_time": "2022-12-14T09:46:04.074Z"
   },
   {
    "duration": 26,
    "start_time": "2022-12-14T09:46:04.088Z"
   },
   {
    "duration": 8064,
    "start_time": "2022-12-14T09:46:04.115Z"
   },
   {
    "duration": 436,
    "start_time": "2022-12-14T09:46:12.181Z"
   },
   {
    "duration": 292,
    "start_time": "2022-12-14T09:46:12.619Z"
   },
   {
    "duration": 393,
    "start_time": "2022-12-14T09:46:12.913Z"
   },
   {
    "duration": 4330,
    "start_time": "2022-12-14T09:46:13.308Z"
   },
   {
    "duration": 201,
    "start_time": "2022-12-14T09:46:17.640Z"
   },
   {
    "duration": 290,
    "start_time": "2022-12-14T09:46:17.843Z"
   },
   {
    "duration": 102,
    "start_time": "2022-12-14T09:46:18.134Z"
   },
   {
    "duration": 88,
    "start_time": "2022-12-14T12:26:42.973Z"
   },
   {
    "duration": 60,
    "start_time": "2022-12-14T12:26:53.311Z"
   },
   {
    "duration": 1710,
    "start_time": "2022-12-14T12:27:00.966Z"
   },
   {
    "duration": 182,
    "start_time": "2022-12-14T12:27:02.678Z"
   },
   {
    "duration": 55,
    "start_time": "2022-12-14T12:27:02.862Z"
   },
   {
    "duration": 13,
    "start_time": "2022-12-14T12:27:02.919Z"
   },
   {
    "duration": 40,
    "start_time": "2022-12-14T12:27:02.934Z"
   },
   {
    "duration": 38,
    "start_time": "2022-12-14T12:27:02.977Z"
   },
   {
    "duration": 9,
    "start_time": "2022-12-14T12:27:03.017Z"
   },
   {
    "duration": 4,
    "start_time": "2022-12-14T12:27:03.027Z"
   },
   {
    "duration": 10,
    "start_time": "2022-12-14T12:27:03.033Z"
   },
   {
    "duration": 6,
    "start_time": "2022-12-14T12:27:03.045Z"
   },
   {
    "duration": 18,
    "start_time": "2022-12-14T12:27:03.053Z"
   },
   {
    "duration": 24,
    "start_time": "2022-12-14T12:27:03.073Z"
   },
   {
    "duration": 10,
    "start_time": "2022-12-14T12:27:03.099Z"
   },
   {
    "duration": 866,
    "start_time": "2022-12-14T12:27:03.111Z"
   },
   {
    "duration": 36,
    "start_time": "2022-12-14T12:27:03.979Z"
   },
   {
    "duration": 35,
    "start_time": "2022-12-14T12:27:04.017Z"
   },
   {
    "duration": 18,
    "start_time": "2022-12-14T12:27:04.055Z"
   },
   {
    "duration": 10207,
    "start_time": "2022-12-14T12:27:04.076Z"
   },
   {
    "duration": 494,
    "start_time": "2022-12-14T12:27:14.285Z"
   },
   {
    "duration": 355,
    "start_time": "2022-12-14T12:27:14.781Z"
   },
   {
    "duration": 500,
    "start_time": "2022-12-14T12:27:15.138Z"
   },
   {
    "duration": 4921,
    "start_time": "2022-12-14T12:27:15.639Z"
   },
   {
    "duration": 212,
    "start_time": "2022-12-14T12:27:20.563Z"
   },
   {
    "duration": 344,
    "start_time": "2022-12-14T12:27:20.778Z"
   },
   {
    "duration": 133,
    "start_time": "2022-12-14T12:27:21.124Z"
   },
   {
    "duration": 885,
    "start_time": "2022-12-14T12:27:21.259Z"
   },
   {
    "duration": 820,
    "start_time": "2022-12-14T12:27:54.624Z"
   },
   {
    "duration": 45,
    "start_time": "2022-12-14T13:14:04.159Z"
   },
   {
    "duration": 342,
    "start_time": "2022-12-14T13:14:11.590Z"
   },
   {
    "duration": 157,
    "start_time": "2022-12-14T13:14:13.299Z"
   },
   {
    "duration": 17,
    "start_time": "2022-12-14T13:19:03.461Z"
   },
   {
    "duration": 228,
    "start_time": "2022-12-14T13:43:14.538Z"
   },
   {
    "duration": 312,
    "start_time": "2022-12-14T13:43:26.650Z"
   },
   {
    "duration": 237,
    "start_time": "2022-12-14T13:43:44.225Z"
   },
   {
    "duration": 20,
    "start_time": "2022-12-14T13:45:29.887Z"
   },
   {
    "duration": 274,
    "start_time": "2022-12-14T13:45:45.684Z"
   },
   {
    "duration": 255,
    "start_time": "2022-12-14T13:48:07.666Z"
   },
   {
    "duration": 105,
    "start_time": "2022-12-14T13:48:16.434Z"
   },
   {
    "duration": 224,
    "start_time": "2022-12-14T13:48:31.252Z"
   },
   {
    "duration": 240,
    "start_time": "2022-12-14T13:48:40.926Z"
   },
   {
    "duration": 384,
    "start_time": "2022-12-14T13:48:51.366Z"
   },
   {
    "duration": 269,
    "start_time": "2022-12-14T13:48:56.689Z"
   },
   {
    "duration": 270,
    "start_time": "2022-12-14T13:49:02.384Z"
   },
   {
    "duration": 310,
    "start_time": "2022-12-14T13:49:09.152Z"
   },
   {
    "duration": 298,
    "start_time": "2022-12-14T13:49:17.163Z"
   },
   {
    "duration": 286,
    "start_time": "2022-12-14T13:49:24.070Z"
   },
   {
    "duration": 322,
    "start_time": "2022-12-14T13:49:29.842Z"
   },
   {
    "duration": 308,
    "start_time": "2022-12-14T13:49:36.354Z"
   },
   {
    "duration": 262,
    "start_time": "2022-12-14T13:49:43.600Z"
   },
   {
    "duration": 275,
    "start_time": "2022-12-14T13:49:48.482Z"
   },
   {
    "duration": 249,
    "start_time": "2022-12-14T13:49:53.704Z"
   },
   {
    "duration": 374,
    "start_time": "2022-12-14T13:49:59.283Z"
   },
   {
    "duration": 330,
    "start_time": "2022-12-14T13:50:04.424Z"
   },
   {
    "duration": 357,
    "start_time": "2022-12-14T13:50:09.105Z"
   },
   {
    "duration": 313,
    "start_time": "2022-12-14T13:50:13.844Z"
   },
   {
    "duration": 308,
    "start_time": "2022-12-14T13:50:33.248Z"
   },
   {
    "duration": 468,
    "start_time": "2022-12-14T13:51:01.361Z"
   },
   {
    "duration": 333,
    "start_time": "2022-12-14T13:51:15.177Z"
   },
   {
    "duration": 396,
    "start_time": "2022-12-14T13:51:20.430Z"
   },
   {
    "duration": 519,
    "start_time": "2022-12-14T13:51:22.591Z"
   },
   {
    "duration": 300,
    "start_time": "2022-12-14T13:51:39.240Z"
   },
   {
    "duration": 338,
    "start_time": "2022-12-14T13:51:47.116Z"
   },
   {
    "duration": 241,
    "start_time": "2022-12-14T13:52:36.741Z"
   },
   {
    "duration": 20,
    "start_time": "2022-12-14T13:53:09.591Z"
   },
   {
    "duration": 433,
    "start_time": "2022-12-14T13:53:10.322Z"
   },
   {
    "duration": 806,
    "start_time": "2022-12-14T13:59:05.025Z"
   },
   {
    "duration": 1569,
    "start_time": "2022-12-14T14:11:04.809Z"
   },
   {
    "duration": 51,
    "start_time": "2022-12-14T14:11:06.382Z"
   },
   {
    "duration": 47,
    "start_time": "2022-12-14T14:11:06.435Z"
   },
   {
    "duration": 14,
    "start_time": "2022-12-14T14:11:06.484Z"
   },
   {
    "duration": 16,
    "start_time": "2022-12-14T14:11:06.500Z"
   },
   {
    "duration": 33,
    "start_time": "2022-12-14T14:11:06.518Z"
   },
   {
    "duration": 10,
    "start_time": "2022-12-14T14:11:06.553Z"
   },
   {
    "duration": 13,
    "start_time": "2022-12-14T14:11:06.564Z"
   },
   {
    "duration": 17,
    "start_time": "2022-12-14T14:11:06.579Z"
   },
   {
    "duration": 6,
    "start_time": "2022-12-14T14:11:06.598Z"
   },
   {
    "duration": 14,
    "start_time": "2022-12-14T14:11:06.606Z"
   },
   {
    "duration": 33,
    "start_time": "2022-12-14T14:11:06.622Z"
   },
   {
    "duration": 10,
    "start_time": "2022-12-14T14:11:06.657Z"
   },
   {
    "duration": 835,
    "start_time": "2022-12-14T14:11:06.669Z"
   },
   {
    "duration": 52,
    "start_time": "2022-12-14T14:11:07.506Z"
   },
   {
    "duration": 18,
    "start_time": "2022-12-14T14:11:07.560Z"
   },
   {
    "duration": 21,
    "start_time": "2022-12-14T14:11:07.580Z"
   },
   {
    "duration": 10178,
    "start_time": "2022-12-14T14:11:07.604Z"
   },
   {
    "duration": 543,
    "start_time": "2022-12-14T14:11:17.784Z"
   },
   {
    "duration": 370,
    "start_time": "2022-12-14T14:11:18.329Z"
   },
   {
    "duration": 513,
    "start_time": "2022-12-14T14:11:18.701Z"
   },
   {
    "duration": 4652,
    "start_time": "2022-12-14T14:11:19.216Z"
   },
   {
    "duration": 121,
    "start_time": "2022-12-14T14:11:23.955Z"
   },
   {
    "duration": 350,
    "start_time": "2022-12-14T14:11:24.078Z"
   },
   {
    "duration": 124,
    "start_time": "2022-12-14T14:11:24.430Z"
   },
   {
    "duration": 876,
    "start_time": "2022-12-14T14:11:24.561Z"
   },
   {
    "duration": 47,
    "start_time": "2022-12-14T14:11:25.439Z"
   },
   {
    "duration": 316,
    "start_time": "2022-12-14T14:11:25.489Z"
   },
   {
    "duration": 48,
    "start_time": "2022-12-14T14:11:25.807Z"
   },
   {
    "duration": 105,
    "start_time": "2022-12-14T14:11:25.858Z"
   },
   {
    "duration": 388,
    "start_time": "2022-12-14T14:11:25.966Z"
   },
   {
    "duration": 102,
    "start_time": "2022-12-14T14:11:26.356Z"
   },
   {
    "duration": 297,
    "start_time": "2022-12-14T14:11:26.459Z"
   },
   {
    "duration": 1019,
    "start_time": "2022-12-14T14:11:26.763Z"
   },
   {
    "duration": 1566,
    "start_time": "2022-12-14T15:03:48.197Z"
   },
   {
    "duration": 60,
    "start_time": "2022-12-14T15:03:49.766Z"
   },
   {
    "duration": 63,
    "start_time": "2022-12-14T15:03:49.828Z"
   },
   {
    "duration": 16,
    "start_time": "2022-12-14T15:03:49.894Z"
   },
   {
    "duration": 17,
    "start_time": "2022-12-14T15:03:49.912Z"
   },
   {
    "duration": 31,
    "start_time": "2022-12-14T15:03:49.932Z"
   },
   {
    "duration": 11,
    "start_time": "2022-12-14T15:03:49.965Z"
   },
   {
    "duration": 7,
    "start_time": "2022-12-14T15:03:49.978Z"
   },
   {
    "duration": 10,
    "start_time": "2022-12-14T15:03:49.987Z"
   },
   {
    "duration": 7,
    "start_time": "2022-12-14T15:03:50.001Z"
   },
   {
    "duration": 11,
    "start_time": "2022-12-14T15:03:50.010Z"
   },
   {
    "duration": 49,
    "start_time": "2022-12-14T15:03:50.023Z"
   },
   {
    "duration": 11,
    "start_time": "2022-12-14T15:03:50.074Z"
   },
   {
    "duration": 865,
    "start_time": "2022-12-14T15:03:50.087Z"
   },
   {
    "duration": 37,
    "start_time": "2022-12-14T15:03:50.954Z"
   },
   {
    "duration": 19,
    "start_time": "2022-12-14T15:03:50.993Z"
   },
   {
    "duration": 45,
    "start_time": "2022-12-14T15:03:51.014Z"
   },
   {
    "duration": 9873,
    "start_time": "2022-12-14T15:03:51.062Z"
   },
   {
    "duration": 496,
    "start_time": "2022-12-14T15:04:00.937Z"
   },
   {
    "duration": 370,
    "start_time": "2022-12-14T15:04:01.435Z"
   },
   {
    "duration": 482,
    "start_time": "2022-12-14T15:04:01.807Z"
   },
   {
    "duration": 4571,
    "start_time": "2022-12-14T15:04:02.290Z"
   },
   {
    "duration": 199,
    "start_time": "2022-12-14T15:04:06.867Z"
   },
   {
    "duration": 342,
    "start_time": "2022-12-14T15:04:07.069Z"
   },
   {
    "duration": 49,
    "start_time": "2022-12-14T15:04:07.413Z"
   },
   {
    "duration": 945,
    "start_time": "2022-12-14T15:04:07.468Z"
   },
   {
    "duration": 44,
    "start_time": "2022-12-14T15:04:08.415Z"
   },
   {
    "duration": 316,
    "start_time": "2022-12-14T15:04:08.464Z"
   },
   {
    "duration": 76,
    "start_time": "2022-12-14T15:04:08.782Z"
   },
   {
    "duration": 100,
    "start_time": "2022-12-14T15:04:08.862Z"
   },
   {
    "duration": 289,
    "start_time": "2022-12-14T15:04:08.964Z"
   },
   {
    "duration": 104,
    "start_time": "2022-12-14T15:04:09.256Z"
   },
   {
    "duration": 290,
    "start_time": "2022-12-14T15:04:09.362Z"
   },
   {
    "duration": 997,
    "start_time": "2022-12-14T15:04:09.655Z"
   },
   {
    "duration": 546,
    "start_time": "2022-12-14T15:04:10.655Z"
   },
   {
    "duration": 4806,
    "start_time": "2022-12-14T15:04:34.578Z"
   },
   {
    "duration": 10301,
    "start_time": "2022-12-14T15:04:50.563Z"
   },
   {
    "duration": 10739,
    "start_time": "2022-12-14T15:05:01.051Z"
   },
   {
    "duration": 1602,
    "start_time": "2022-12-14T15:07:59.357Z"
   },
   {
    "duration": 58,
    "start_time": "2022-12-14T15:08:00.962Z"
   },
   {
    "duration": 49,
    "start_time": "2022-12-14T15:08:01.021Z"
   },
   {
    "duration": 16,
    "start_time": "2022-12-14T15:08:01.072Z"
   },
   {
    "duration": 24,
    "start_time": "2022-12-14T15:08:01.090Z"
   },
   {
    "duration": 17,
    "start_time": "2022-12-14T15:08:01.115Z"
   },
   {
    "duration": 22,
    "start_time": "2022-12-14T15:08:01.133Z"
   },
   {
    "duration": 17,
    "start_time": "2022-12-14T15:08:01.157Z"
   },
   {
    "duration": 19,
    "start_time": "2022-12-14T15:08:01.176Z"
   },
   {
    "duration": 9,
    "start_time": "2022-12-14T15:08:01.198Z"
   },
   {
    "duration": 38,
    "start_time": "2022-12-14T15:08:01.208Z"
   },
   {
    "duration": 30,
    "start_time": "2022-12-14T15:08:01.248Z"
   },
   {
    "duration": 27,
    "start_time": "2022-12-14T15:08:01.280Z"
   },
   {
    "duration": 832,
    "start_time": "2022-12-14T15:08:01.309Z"
   },
   {
    "duration": 42,
    "start_time": "2022-12-14T15:08:02.143Z"
   },
   {
    "duration": 18,
    "start_time": "2022-12-14T15:08:02.187Z"
   },
   {
    "duration": 41,
    "start_time": "2022-12-14T15:08:02.206Z"
   },
   {
    "duration": 9824,
    "start_time": "2022-12-14T15:08:02.248Z"
   },
   {
    "duration": 477,
    "start_time": "2022-12-14T15:08:12.074Z"
   },
   {
    "duration": 353,
    "start_time": "2022-12-14T15:08:12.554Z"
   },
   {
    "duration": 456,
    "start_time": "2022-12-14T15:08:12.909Z"
   },
   {
    "duration": 4901,
    "start_time": "2022-12-14T15:08:13.367Z"
   },
   {
    "duration": 209,
    "start_time": "2022-12-14T15:08:18.270Z"
   },
   {
    "duration": 337,
    "start_time": "2022-12-14T15:08:18.480Z"
   },
   {
    "duration": 135,
    "start_time": "2022-12-14T15:08:18.819Z"
   },
   {
    "duration": 952,
    "start_time": "2022-12-14T15:08:18.957Z"
   },
   {
    "duration": 46,
    "start_time": "2022-12-14T15:08:19.911Z"
   },
   {
    "duration": 320,
    "start_time": "2022-12-14T15:08:19.960Z"
   },
   {
    "duration": 76,
    "start_time": "2022-12-14T15:08:20.283Z"
   },
   {
    "duration": 100,
    "start_time": "2022-12-14T15:08:20.362Z"
   },
   {
    "duration": 299,
    "start_time": "2022-12-14T15:08:20.464Z"
   },
   {
    "duration": 99,
    "start_time": "2022-12-14T15:08:20.765Z"
   },
   {
    "duration": 287,
    "start_time": "2022-12-14T15:08:20.868Z"
   },
   {
    "duration": 987,
    "start_time": "2022-12-14T15:08:21.157Z"
   },
   {
    "duration": 10457,
    "start_time": "2022-12-14T15:08:22.146Z"
   },
   {
    "duration": 1626,
    "start_time": "2022-12-14T15:10:19.529Z"
   },
   {
    "duration": 54,
    "start_time": "2022-12-14T15:10:21.158Z"
   },
   {
    "duration": 46,
    "start_time": "2022-12-14T15:10:21.214Z"
   },
   {
    "duration": 20,
    "start_time": "2022-12-14T15:10:21.264Z"
   },
   {
    "duration": 22,
    "start_time": "2022-12-14T15:10:21.285Z"
   },
   {
    "duration": 18,
    "start_time": "2022-12-14T15:10:21.308Z"
   },
   {
    "duration": 8,
    "start_time": "2022-12-14T15:10:21.328Z"
   },
   {
    "duration": 4,
    "start_time": "2022-12-14T15:10:21.351Z"
   },
   {
    "duration": 11,
    "start_time": "2022-12-14T15:10:21.357Z"
   },
   {
    "duration": 11,
    "start_time": "2022-12-14T15:10:21.371Z"
   },
   {
    "duration": 15,
    "start_time": "2022-12-14T15:10:21.384Z"
   },
   {
    "duration": 25,
    "start_time": "2022-12-14T15:10:21.401Z"
   },
   {
    "duration": 26,
    "start_time": "2022-12-14T15:10:21.427Z"
   },
   {
    "duration": 859,
    "start_time": "2022-12-14T15:10:21.455Z"
   },
   {
    "duration": 45,
    "start_time": "2022-12-14T15:10:22.316Z"
   },
   {
    "duration": 19,
    "start_time": "2022-12-14T15:10:22.363Z"
   },
   {
    "duration": 23,
    "start_time": "2022-12-14T15:10:22.384Z"
   },
   {
    "duration": 9999,
    "start_time": "2022-12-14T15:10:22.409Z"
   },
   {
    "duration": 491,
    "start_time": "2022-12-14T15:10:32.410Z"
   },
   {
    "duration": 354,
    "start_time": "2022-12-14T15:10:32.903Z"
   },
   {
    "duration": 471,
    "start_time": "2022-12-14T15:10:33.260Z"
   },
   {
    "duration": 4428,
    "start_time": "2022-12-14T15:10:33.732Z"
   },
   {
    "duration": 207,
    "start_time": "2022-12-14T15:10:38.163Z"
   },
   {
    "duration": 344,
    "start_time": "2022-12-14T15:10:38.372Z"
   },
   {
    "duration": 57,
    "start_time": "2022-12-14T15:10:38.718Z"
   },
   {
    "duration": 936,
    "start_time": "2022-12-14T15:10:38.853Z"
   },
   {
    "duration": 42,
    "start_time": "2022-12-14T15:10:39.791Z"
   },
   {
    "duration": 358,
    "start_time": "2022-12-14T15:10:39.837Z"
   },
   {
    "duration": 62,
    "start_time": "2022-12-14T15:10:40.197Z"
   },
   {
    "duration": 101,
    "start_time": "2022-12-14T15:10:40.261Z"
   },
   {
    "duration": 305,
    "start_time": "2022-12-14T15:10:40.364Z"
   },
   {
    "duration": 19,
    "start_time": "2022-12-14T15:10:40.752Z"
   },
   {
    "duration": 291,
    "start_time": "2022-12-14T15:10:40.773Z"
   },
   {
    "duration": 1048,
    "start_time": "2022-12-14T15:10:41.067Z"
   },
   {
    "duration": 10892,
    "start_time": "2022-12-14T15:10:42.117Z"
   },
   {
    "duration": 1612,
    "start_time": "2022-12-14T15:14:27.843Z"
   },
   {
    "duration": 55,
    "start_time": "2022-12-14T15:14:29.460Z"
   },
   {
    "duration": 49,
    "start_time": "2022-12-14T15:14:29.517Z"
   },
   {
    "duration": 25,
    "start_time": "2022-12-14T15:14:29.570Z"
   },
   {
    "duration": 38,
    "start_time": "2022-12-14T15:14:29.598Z"
   },
   {
    "duration": 36,
    "start_time": "2022-12-14T15:14:29.639Z"
   },
   {
    "duration": 24,
    "start_time": "2022-12-14T15:14:29.677Z"
   },
   {
    "duration": 18,
    "start_time": "2022-12-14T15:14:29.704Z"
   },
   {
    "duration": 31,
    "start_time": "2022-12-14T15:14:29.724Z"
   },
   {
    "duration": 34,
    "start_time": "2022-12-14T15:14:29.759Z"
   },
   {
    "duration": 24,
    "start_time": "2022-12-14T15:14:29.795Z"
   },
   {
    "duration": 46,
    "start_time": "2022-12-14T15:14:29.821Z"
   },
   {
    "duration": 28,
    "start_time": "2022-12-14T15:14:29.870Z"
   },
   {
    "duration": 889,
    "start_time": "2022-12-14T15:14:29.900Z"
   },
   {
    "duration": 37,
    "start_time": "2022-12-14T15:14:30.791Z"
   },
   {
    "duration": 29,
    "start_time": "2022-12-14T15:14:30.830Z"
   },
   {
    "duration": 23,
    "start_time": "2022-12-14T15:14:30.861Z"
   },
   {
    "duration": 10394,
    "start_time": "2022-12-14T15:14:30.887Z"
   },
   {
    "duration": 527,
    "start_time": "2022-12-14T15:14:41.284Z"
   },
   {
    "duration": 388,
    "start_time": "2022-12-14T15:14:41.814Z"
   },
   {
    "duration": 513,
    "start_time": "2022-12-14T15:14:42.204Z"
   },
   {
    "duration": 4758,
    "start_time": "2022-12-14T15:14:42.719Z"
   },
   {
    "duration": 200,
    "start_time": "2022-12-14T15:14:47.480Z"
   },
   {
    "duration": 373,
    "start_time": "2022-12-14T15:14:47.683Z"
   },
   {
    "duration": 96,
    "start_time": "2022-12-14T15:14:48.058Z"
   },
   {
    "duration": 944,
    "start_time": "2022-12-14T15:14:48.157Z"
   },
   {
    "duration": 57,
    "start_time": "2022-12-14T15:14:49.104Z"
   },
   {
    "duration": 368,
    "start_time": "2022-12-14T15:14:49.166Z"
   },
   {
    "duration": 220,
    "start_time": "2022-12-14T15:14:49.536Z"
   },
   {
    "duration": 19,
    "start_time": "2022-12-14T15:14:49.759Z"
   },
   {
    "duration": 288,
    "start_time": "2022-12-14T15:14:49.780Z"
   },
   {
    "duration": 181,
    "start_time": "2022-12-14T15:14:50.071Z"
   },
   {
    "duration": 302,
    "start_time": "2022-12-14T15:14:50.255Z"
   },
   {
    "duration": 1003,
    "start_time": "2022-12-14T15:14:50.560Z"
   },
   {
    "duration": 11588,
    "start_time": "2022-12-14T15:14:51.565Z"
   },
   {
    "duration": 202076,
    "start_time": "2022-12-14T15:15:03.156Z"
   },
   {
    "duration": 41087,
    "start_time": "2022-12-14T15:19:40.635Z"
   },
   {
    "duration": 192,
    "start_time": "2022-12-14T15:26:24.617Z"
   },
   {
    "duration": 35109,
    "start_time": "2022-12-14T15:26:41.988Z"
   },
   {
    "duration": 198,
    "start_time": "2022-12-14T15:28:28.231Z"
   },
   {
    "duration": 33815,
    "start_time": "2022-12-14T15:28:41.734Z"
   },
   {
    "duration": 34351,
    "start_time": "2022-12-14T15:30:27.276Z"
   },
   {
    "duration": 33748,
    "start_time": "2022-12-14T15:32:33.052Z"
   },
   {
    "duration": 9959,
    "start_time": "2022-12-14T15:50:01.757Z"
   },
   {
    "duration": 10123,
    "start_time": "2022-12-14T15:53:39.788Z"
   },
   {
    "duration": 11470,
    "start_time": "2022-12-14T16:03:15.951Z"
   },
   {
    "duration": 10064,
    "start_time": "2022-12-14T16:05:01.693Z"
   }
  ],
  "kernelspec": {
   "display_name": "Python 3 (ipykernel)",
   "language": "python",
   "name": "python3"
  },
  "language_info": {
   "codemirror_mode": {
    "name": "ipython",
    "version": 3
   },
   "file_extension": ".py",
   "mimetype": "text/x-python",
   "name": "python",
   "nbconvert_exporter": "python",
   "pygments_lexer": "ipython3",
   "version": "3.9.12"
  },
  "toc": {
   "base_numbering": 1,
   "nav_menu": {},
   "number_sections": true,
   "sideBar": true,
   "skip_h1_title": true,
   "title_cell": "Содержание",
   "title_sidebar": "Contents",
   "toc_cell": true,
   "toc_position": {},
   "toc_section_display": true,
   "toc_window_display": false
  }
 },
 "nbformat": 4,
 "nbformat_minor": 2
}
