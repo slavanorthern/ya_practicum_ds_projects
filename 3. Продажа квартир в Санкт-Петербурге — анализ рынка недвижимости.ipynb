{
 "cells": [
  {
   "cell_type": "markdown",
   "metadata": {},
   "source": [
    "# Исследование объявлений о продаже квартир\n",
    "\n",
    "В вашем распоряжении данные сервиса Яндекс.Недвижимость — архив объявлений о продаже квартир в Санкт-Петербурге и соседних населённых пунктов за несколько лет. Нужно научиться определять рыночную стоимость объектов недвижимости. Ваша задача — установить параметры. Это позволит построить автоматизированную систему: она отследит аномалии и мошенническую деятельность. \n",
    "\n",
    "По каждой квартире на продажу доступны два вида данных. Первые вписаны пользователем, вторые — получены автоматически на основе картографических данных. Например, расстояние до центра, аэропорта, ближайшего парка и водоёма. "
   ]
  },
  {
   "cell_type": "markdown",
   "metadata": {},
   "source": [
    "### Откройте файл с данными и изучите общую информацию. "
   ]
  },
  {
   "cell_type": "code",
   "execution_count": 1,
   "metadata": {},
   "outputs": [],
   "source": [
    "import pandas as pd\n",
    "import matplotlib.pyplot as plt\n",
    "pd.set_option('display.max_columns', None)\n",
    "data = pd.read_csv('/datasets/real_estate_data.csv', sep='\\t')"
   ]
  },
  {
   "cell_type": "code",
   "execution_count": 2,
   "metadata": {},
   "outputs": [
    {
     "name": "stdout",
     "output_type": "stream",
     "text": [
      "<class 'pandas.core.frame.DataFrame'>\n",
      "RangeIndex: 23699 entries, 0 to 23698\n",
      "Data columns (total 22 columns):\n",
      " #   Column                Non-Null Count  Dtype  \n",
      "---  ------                --------------  -----  \n",
      " 0   total_images          23699 non-null  int64  \n",
      " 1   last_price            23699 non-null  float64\n",
      " 2   total_area            23699 non-null  float64\n",
      " 3   first_day_exposition  23699 non-null  object \n",
      " 4   rooms                 23699 non-null  int64  \n",
      " 5   ceiling_height        14504 non-null  float64\n",
      " 6   floors_total          23613 non-null  float64\n",
      " 7   living_area           21796 non-null  float64\n",
      " 8   floor                 23699 non-null  int64  \n",
      " 9   is_apartment          2775 non-null   object \n",
      " 10  studio                23699 non-null  bool   \n",
      " 11  open_plan             23699 non-null  bool   \n",
      " 12  kitchen_area          21421 non-null  float64\n",
      " 13  balcony               12180 non-null  float64\n",
      " 14  locality_name         23650 non-null  object \n",
      " 15  airports_nearest      18157 non-null  float64\n",
      " 16  cityCenters_nearest   18180 non-null  float64\n",
      " 17  parks_around3000      18181 non-null  float64\n",
      " 18  parks_nearest         8079 non-null   float64\n",
      " 19  ponds_around3000      18181 non-null  float64\n",
      " 20  ponds_nearest         9110 non-null   float64\n",
      " 21  days_exposition       20518 non-null  float64\n",
      "dtypes: bool(2), float64(14), int64(3), object(3)\n",
      "memory usage: 3.7+ MB\n"
     ]
    }
   ],
   "source": [
    "data.info()"
   ]
  },
  {
   "cell_type": "code",
   "execution_count": 3,
   "metadata": {},
   "outputs": [
    {
     "data": {
      "text/html": [
       "<div>\n",
       "<style scoped>\n",
       "    .dataframe tbody tr th:only-of-type {\n",
       "        vertical-align: middle;\n",
       "    }\n",
       "\n",
       "    .dataframe tbody tr th {\n",
       "        vertical-align: top;\n",
       "    }\n",
       "\n",
       "    .dataframe thead th {\n",
       "        text-align: right;\n",
       "    }\n",
       "</style>\n",
       "<table border=\"1\" class=\"dataframe\">\n",
       "  <thead>\n",
       "    <tr style=\"text-align: right;\">\n",
       "      <th></th>\n",
       "      <th>total_images</th>\n",
       "      <th>last_price</th>\n",
       "      <th>total_area</th>\n",
       "      <th>first_day_exposition</th>\n",
       "      <th>rooms</th>\n",
       "      <th>ceiling_height</th>\n",
       "      <th>floors_total</th>\n",
       "      <th>living_area</th>\n",
       "      <th>floor</th>\n",
       "      <th>is_apartment</th>\n",
       "      <th>studio</th>\n",
       "      <th>open_plan</th>\n",
       "      <th>kitchen_area</th>\n",
       "      <th>balcony</th>\n",
       "      <th>locality_name</th>\n",
       "      <th>airports_nearest</th>\n",
       "      <th>cityCenters_nearest</th>\n",
       "      <th>parks_around3000</th>\n",
       "      <th>parks_nearest</th>\n",
       "      <th>ponds_around3000</th>\n",
       "      <th>ponds_nearest</th>\n",
       "      <th>days_exposition</th>\n",
       "    </tr>\n",
       "  </thead>\n",
       "  <tbody>\n",
       "    <tr>\n",
       "      <th>0</th>\n",
       "      <td>20</td>\n",
       "      <td>13000000.0</td>\n",
       "      <td>108.00</td>\n",
       "      <td>2019-03-07T00:00:00</td>\n",
       "      <td>3</td>\n",
       "      <td>2.70</td>\n",
       "      <td>16.0</td>\n",
       "      <td>51.00</td>\n",
       "      <td>8</td>\n",
       "      <td>NaN</td>\n",
       "      <td>False</td>\n",
       "      <td>False</td>\n",
       "      <td>25.00</td>\n",
       "      <td>NaN</td>\n",
       "      <td>Санкт-Петербург</td>\n",
       "      <td>18863.0</td>\n",
       "      <td>16028.0</td>\n",
       "      <td>1.0</td>\n",
       "      <td>482.0</td>\n",
       "      <td>2.0</td>\n",
       "      <td>755.0</td>\n",
       "      <td>NaN</td>\n",
       "    </tr>\n",
       "    <tr>\n",
       "      <th>1</th>\n",
       "      <td>7</td>\n",
       "      <td>3350000.0</td>\n",
       "      <td>40.40</td>\n",
       "      <td>2018-12-04T00:00:00</td>\n",
       "      <td>1</td>\n",
       "      <td>NaN</td>\n",
       "      <td>11.0</td>\n",
       "      <td>18.60</td>\n",
       "      <td>1</td>\n",
       "      <td>NaN</td>\n",
       "      <td>False</td>\n",
       "      <td>False</td>\n",
       "      <td>11.00</td>\n",
       "      <td>2.0</td>\n",
       "      <td>посёлок Шушары</td>\n",
       "      <td>12817.0</td>\n",
       "      <td>18603.0</td>\n",
       "      <td>0.0</td>\n",
       "      <td>NaN</td>\n",
       "      <td>0.0</td>\n",
       "      <td>NaN</td>\n",
       "      <td>81.0</td>\n",
       "    </tr>\n",
       "    <tr>\n",
       "      <th>2</th>\n",
       "      <td>10</td>\n",
       "      <td>5196000.0</td>\n",
       "      <td>56.00</td>\n",
       "      <td>2015-08-20T00:00:00</td>\n",
       "      <td>2</td>\n",
       "      <td>NaN</td>\n",
       "      <td>5.0</td>\n",
       "      <td>34.30</td>\n",
       "      <td>4</td>\n",
       "      <td>NaN</td>\n",
       "      <td>False</td>\n",
       "      <td>False</td>\n",
       "      <td>8.30</td>\n",
       "      <td>0.0</td>\n",
       "      <td>Санкт-Петербург</td>\n",
       "      <td>21741.0</td>\n",
       "      <td>13933.0</td>\n",
       "      <td>1.0</td>\n",
       "      <td>90.0</td>\n",
       "      <td>2.0</td>\n",
       "      <td>574.0</td>\n",
       "      <td>558.0</td>\n",
       "    </tr>\n",
       "    <tr>\n",
       "      <th>3</th>\n",
       "      <td>0</td>\n",
       "      <td>64900000.0</td>\n",
       "      <td>159.00</td>\n",
       "      <td>2015-07-24T00:00:00</td>\n",
       "      <td>3</td>\n",
       "      <td>NaN</td>\n",
       "      <td>14.0</td>\n",
       "      <td>NaN</td>\n",
       "      <td>9</td>\n",
       "      <td>NaN</td>\n",
       "      <td>False</td>\n",
       "      <td>False</td>\n",
       "      <td>NaN</td>\n",
       "      <td>0.0</td>\n",
       "      <td>Санкт-Петербург</td>\n",
       "      <td>28098.0</td>\n",
       "      <td>6800.0</td>\n",
       "      <td>2.0</td>\n",
       "      <td>84.0</td>\n",
       "      <td>3.0</td>\n",
       "      <td>234.0</td>\n",
       "      <td>424.0</td>\n",
       "    </tr>\n",
       "    <tr>\n",
       "      <th>4</th>\n",
       "      <td>2</td>\n",
       "      <td>10000000.0</td>\n",
       "      <td>100.00</td>\n",
       "      <td>2018-06-19T00:00:00</td>\n",
       "      <td>2</td>\n",
       "      <td>3.03</td>\n",
       "      <td>14.0</td>\n",
       "      <td>32.00</td>\n",
       "      <td>13</td>\n",
       "      <td>NaN</td>\n",
       "      <td>False</td>\n",
       "      <td>False</td>\n",
       "      <td>41.00</td>\n",
       "      <td>NaN</td>\n",
       "      <td>Санкт-Петербург</td>\n",
       "      <td>31856.0</td>\n",
       "      <td>8098.0</td>\n",
       "      <td>2.0</td>\n",
       "      <td>112.0</td>\n",
       "      <td>1.0</td>\n",
       "      <td>48.0</td>\n",
       "      <td>121.0</td>\n",
       "    </tr>\n",
       "    <tr>\n",
       "      <th>5</th>\n",
       "      <td>10</td>\n",
       "      <td>2890000.0</td>\n",
       "      <td>30.40</td>\n",
       "      <td>2018-09-10T00:00:00</td>\n",
       "      <td>1</td>\n",
       "      <td>NaN</td>\n",
       "      <td>12.0</td>\n",
       "      <td>14.40</td>\n",
       "      <td>5</td>\n",
       "      <td>NaN</td>\n",
       "      <td>False</td>\n",
       "      <td>False</td>\n",
       "      <td>9.10</td>\n",
       "      <td>NaN</td>\n",
       "      <td>городской посёлок Янино-1</td>\n",
       "      <td>NaN</td>\n",
       "      <td>NaN</td>\n",
       "      <td>NaN</td>\n",
       "      <td>NaN</td>\n",
       "      <td>NaN</td>\n",
       "      <td>NaN</td>\n",
       "      <td>55.0</td>\n",
       "    </tr>\n",
       "    <tr>\n",
       "      <th>6</th>\n",
       "      <td>6</td>\n",
       "      <td>3700000.0</td>\n",
       "      <td>37.30</td>\n",
       "      <td>2017-11-02T00:00:00</td>\n",
       "      <td>1</td>\n",
       "      <td>NaN</td>\n",
       "      <td>26.0</td>\n",
       "      <td>10.60</td>\n",
       "      <td>6</td>\n",
       "      <td>NaN</td>\n",
       "      <td>False</td>\n",
       "      <td>False</td>\n",
       "      <td>14.40</td>\n",
       "      <td>1.0</td>\n",
       "      <td>посёлок Парголово</td>\n",
       "      <td>52996.0</td>\n",
       "      <td>19143.0</td>\n",
       "      <td>0.0</td>\n",
       "      <td>NaN</td>\n",
       "      <td>0.0</td>\n",
       "      <td>NaN</td>\n",
       "      <td>155.0</td>\n",
       "    </tr>\n",
       "    <tr>\n",
       "      <th>7</th>\n",
       "      <td>5</td>\n",
       "      <td>7915000.0</td>\n",
       "      <td>71.60</td>\n",
       "      <td>2019-04-18T00:00:00</td>\n",
       "      <td>2</td>\n",
       "      <td>NaN</td>\n",
       "      <td>24.0</td>\n",
       "      <td>NaN</td>\n",
       "      <td>22</td>\n",
       "      <td>NaN</td>\n",
       "      <td>False</td>\n",
       "      <td>False</td>\n",
       "      <td>18.90</td>\n",
       "      <td>2.0</td>\n",
       "      <td>Санкт-Петербург</td>\n",
       "      <td>23982.0</td>\n",
       "      <td>11634.0</td>\n",
       "      <td>0.0</td>\n",
       "      <td>NaN</td>\n",
       "      <td>0.0</td>\n",
       "      <td>NaN</td>\n",
       "      <td>NaN</td>\n",
       "    </tr>\n",
       "    <tr>\n",
       "      <th>8</th>\n",
       "      <td>20</td>\n",
       "      <td>2900000.0</td>\n",
       "      <td>33.16</td>\n",
       "      <td>2018-05-23T00:00:00</td>\n",
       "      <td>1</td>\n",
       "      <td>NaN</td>\n",
       "      <td>27.0</td>\n",
       "      <td>15.43</td>\n",
       "      <td>26</td>\n",
       "      <td>NaN</td>\n",
       "      <td>False</td>\n",
       "      <td>False</td>\n",
       "      <td>8.81</td>\n",
       "      <td>NaN</td>\n",
       "      <td>посёлок Мурино</td>\n",
       "      <td>NaN</td>\n",
       "      <td>NaN</td>\n",
       "      <td>NaN</td>\n",
       "      <td>NaN</td>\n",
       "      <td>NaN</td>\n",
       "      <td>NaN</td>\n",
       "      <td>189.0</td>\n",
       "    </tr>\n",
       "    <tr>\n",
       "      <th>9</th>\n",
       "      <td>18</td>\n",
       "      <td>5400000.0</td>\n",
       "      <td>61.00</td>\n",
       "      <td>2017-02-26T00:00:00</td>\n",
       "      <td>3</td>\n",
       "      <td>2.50</td>\n",
       "      <td>9.0</td>\n",
       "      <td>43.60</td>\n",
       "      <td>7</td>\n",
       "      <td>NaN</td>\n",
       "      <td>False</td>\n",
       "      <td>False</td>\n",
       "      <td>6.50</td>\n",
       "      <td>2.0</td>\n",
       "      <td>Санкт-Петербург</td>\n",
       "      <td>50898.0</td>\n",
       "      <td>15008.0</td>\n",
       "      <td>0.0</td>\n",
       "      <td>NaN</td>\n",
       "      <td>0.0</td>\n",
       "      <td>NaN</td>\n",
       "      <td>289.0</td>\n",
       "    </tr>\n",
       "  </tbody>\n",
       "</table>\n",
       "</div>"
      ],
      "text/plain": [
       "   total_images  last_price  total_area first_day_exposition  rooms  \\\n",
       "0            20  13000000.0      108.00  2019-03-07T00:00:00      3   \n",
       "1             7   3350000.0       40.40  2018-12-04T00:00:00      1   \n",
       "2            10   5196000.0       56.00  2015-08-20T00:00:00      2   \n",
       "3             0  64900000.0      159.00  2015-07-24T00:00:00      3   \n",
       "4             2  10000000.0      100.00  2018-06-19T00:00:00      2   \n",
       "5            10   2890000.0       30.40  2018-09-10T00:00:00      1   \n",
       "6             6   3700000.0       37.30  2017-11-02T00:00:00      1   \n",
       "7             5   7915000.0       71.60  2019-04-18T00:00:00      2   \n",
       "8            20   2900000.0       33.16  2018-05-23T00:00:00      1   \n",
       "9            18   5400000.0       61.00  2017-02-26T00:00:00      3   \n",
       "\n",
       "   ceiling_height  floors_total  living_area  floor is_apartment  studio  \\\n",
       "0            2.70          16.0        51.00      8          NaN   False   \n",
       "1             NaN          11.0        18.60      1          NaN   False   \n",
       "2             NaN           5.0        34.30      4          NaN   False   \n",
       "3             NaN          14.0          NaN      9          NaN   False   \n",
       "4            3.03          14.0        32.00     13          NaN   False   \n",
       "5             NaN          12.0        14.40      5          NaN   False   \n",
       "6             NaN          26.0        10.60      6          NaN   False   \n",
       "7             NaN          24.0          NaN     22          NaN   False   \n",
       "8             NaN          27.0        15.43     26          NaN   False   \n",
       "9            2.50           9.0        43.60      7          NaN   False   \n",
       "\n",
       "   open_plan  kitchen_area  balcony              locality_name  \\\n",
       "0      False         25.00      NaN            Санкт-Петербург   \n",
       "1      False         11.00      2.0             посёлок Шушары   \n",
       "2      False          8.30      0.0            Санкт-Петербург   \n",
       "3      False           NaN      0.0            Санкт-Петербург   \n",
       "4      False         41.00      NaN            Санкт-Петербург   \n",
       "5      False          9.10      NaN  городской посёлок Янино-1   \n",
       "6      False         14.40      1.0          посёлок Парголово   \n",
       "7      False         18.90      2.0            Санкт-Петербург   \n",
       "8      False          8.81      NaN             посёлок Мурино   \n",
       "9      False          6.50      2.0            Санкт-Петербург   \n",
       "\n",
       "   airports_nearest  cityCenters_nearest  parks_around3000  parks_nearest  \\\n",
       "0           18863.0              16028.0               1.0          482.0   \n",
       "1           12817.0              18603.0               0.0            NaN   \n",
       "2           21741.0              13933.0               1.0           90.0   \n",
       "3           28098.0               6800.0               2.0           84.0   \n",
       "4           31856.0               8098.0               2.0          112.0   \n",
       "5               NaN                  NaN               NaN            NaN   \n",
       "6           52996.0              19143.0               0.0            NaN   \n",
       "7           23982.0              11634.0               0.0            NaN   \n",
       "8               NaN                  NaN               NaN            NaN   \n",
       "9           50898.0              15008.0               0.0            NaN   \n",
       "\n",
       "   ponds_around3000  ponds_nearest  days_exposition  \n",
       "0               2.0          755.0              NaN  \n",
       "1               0.0            NaN             81.0  \n",
       "2               2.0          574.0            558.0  \n",
       "3               3.0          234.0            424.0  \n",
       "4               1.0           48.0            121.0  \n",
       "5               NaN            NaN             55.0  \n",
       "6               0.0            NaN            155.0  \n",
       "7               0.0            NaN              NaN  \n",
       "8               NaN            NaN            189.0  \n",
       "9               0.0            NaN            289.0  "
      ]
     },
     "execution_count": 3,
     "metadata": {},
     "output_type": "execute_result"
    }
   ],
   "source": [
    "data.head(10)"
   ]
  },
  {
   "cell_type": "markdown",
   "metadata": {},
   "source": [
    "<div class=\"alert alert-block alert-success\">\n",
    " \n",
    "### Комментарий ревьюера\n",
    "    \n",
    "#### Успех\n",
    "    \n",
    "Первичаня информация данных получена. \n",
    "</div "
   ]
  },
  {
   "cell_type": "code",
   "execution_count": 4,
   "metadata": {},
   "outputs": [
    {
     "data": {
      "image/png": "[encoded data removed]",
      "text/plain": [
       "<Figure size 1080x1440 with 20 Axes>"
      ]
     },
     "metadata": {
      "needs_background": "light"
     },
     "output_type": "display_data"
    }
   ],
   "source": [
    "\n",
    "data.hist(figsize=(15, 20))\n",
    "plt.show()"
   ]
  },
  {
   "cell_type": "markdown",
   "metadata": {},
   "source": [
    "<div class=\"alert alert-block alert-success\">\n",
    " \n",
    "### Комментарий ревьюера\n",
    "    \n",
    "#### Успех\n",
    "    \n",
    "Хороший график вышел. По нему мы видим распределение по столбцам таблиц. \n",
    "</div "
   ]
  },
  {
   "cell_type": "markdown",
   "metadata": {},
   "source": [
    " **Вывод**\n",
    " \n",
    " Таким образом, представлены данные по 23699 объявлениям. Присутствуют пропуски практически в каждом столбце, а также несоответствующие колонкам типы данных.\n"
   ]
  },
  {
   "cell_type": "markdown",
   "metadata": {},
   "source": [
    "<div class=\"alert alert-block alert-success\">\n",
    " \n",
    "### Комментарий ревьюера\n",
    "    \n",
    "#### Успех\n",
    "    \n",
    "Отлично. С информацией ознакомились и примерно прикинули дальнейший план действий. \n",
    "</div "
   ]
  },
  {
   "cell_type": "markdown",
   "metadata": {},
   "source": [
    "### Предобработка данных "
   ]
  },
  {
   "cell_type": "markdown",
   "metadata": {},
   "source": [
    "Проверяем пропуски, дубликаты и аномалии в данных:"
   ]
  },
  {
   "cell_type": "code",
   "execution_count": 5,
   "metadata": {},
   "outputs": [
    {
     "data": {
      "text/plain": [
       "total_images                0\n",
       "last_price                  0\n",
       "total_area                  0\n",
       "first_day_exposition        0\n",
       "rooms                       0\n",
       "ceiling_height           9195\n",
       "floors_total               86\n",
       "living_area              1903\n",
       "floor                       0\n",
       "is_apartment            20924\n",
       "studio                      0\n",
       "open_plan                   0\n",
       "kitchen_area             2278\n",
       "balcony                 11519\n",
       "locality_name              49\n",
       "airports_nearest         5542\n",
       "cityCenters_nearest      5519\n",
       "parks_around3000         5518\n",
       "parks_nearest           15620\n",
       "ponds_around3000         5518\n",
       "ponds_nearest           14589\n",
       "days_exposition          3181\n",
       "dtype: int64"
      ]
     },
     "execution_count": 5,
     "metadata": {},
     "output_type": "execute_result"
    }
   ],
   "source": [
    "data.isna().sum()"
   ]
  },
  {
   "cell_type": "code",
   "execution_count": 6,
   "metadata": {
    "scrolled": true
   },
   "outputs": [
    {
     "data": {
      "text/plain": [
       "0"
      ]
     },
     "execution_count": 6,
     "metadata": {},
     "output_type": "execute_result"
    }
   ],
   "source": [
    "data.duplicated().sum()"
   ]
  },
  {
   "cell_type": "code",
   "execution_count": 7,
   "metadata": {
    "scrolled": false
   },
   "outputs": [
    {
     "data": {
      "text/html": [
       "<div>\n",
       "<style scoped>\n",
       "    .dataframe tbody tr th:only-of-type {\n",
       "        vertical-align: middle;\n",
       "    }\n",
       "\n",
       "    .dataframe tbody tr th {\n",
       "        vertical-align: top;\n",
       "    }\n",
       "\n",
       "    .dataframe thead th {\n",
       "        text-align: right;\n",
       "    }\n",
       "</style>\n",
       "<table border=\"1\" class=\"dataframe\">\n",
       "  <thead>\n",
       "    <tr style=\"text-align: right;\">\n",
       "      <th></th>\n",
       "      <th>last_price</th>\n",
       "      <th>total_area</th>\n",
       "      <th>rooms</th>\n",
       "      <th>ceiling_height</th>\n",
       "      <th>floors_total</th>\n",
       "      <th>living_area</th>\n",
       "      <th>floor</th>\n",
       "      <th>kitchen_area</th>\n",
       "    </tr>\n",
       "  </thead>\n",
       "  <tbody>\n",
       "    <tr>\n",
       "      <th>count</th>\n",
       "      <td>2.369900e+04</td>\n",
       "      <td>23699.000000</td>\n",
       "      <td>23699.000000</td>\n",
       "      <td>14504.000000</td>\n",
       "      <td>23613.000000</td>\n",
       "      <td>21796.000000</td>\n",
       "      <td>23699.000000</td>\n",
       "      <td>21421.000000</td>\n",
       "    </tr>\n",
       "    <tr>\n",
       "      <th>mean</th>\n",
       "      <td>6.541549e+06</td>\n",
       "      <td>60.348651</td>\n",
       "      <td>2.070636</td>\n",
       "      <td>2.771499</td>\n",
       "      <td>10.673824</td>\n",
       "      <td>34.457852</td>\n",
       "      <td>5.892358</td>\n",
       "      <td>10.569807</td>\n",
       "    </tr>\n",
       "    <tr>\n",
       "      <th>std</th>\n",
       "      <td>1.088701e+07</td>\n",
       "      <td>35.654083</td>\n",
       "      <td>1.078405</td>\n",
       "      <td>1.261056</td>\n",
       "      <td>6.597173</td>\n",
       "      <td>22.030445</td>\n",
       "      <td>4.885249</td>\n",
       "      <td>5.905438</td>\n",
       "    </tr>\n",
       "    <tr>\n",
       "      <th>min</th>\n",
       "      <td>1.219000e+04</td>\n",
       "      <td>12.000000</td>\n",
       "      <td>0.000000</td>\n",
       "      <td>1.000000</td>\n",
       "      <td>1.000000</td>\n",
       "      <td>2.000000</td>\n",
       "      <td>1.000000</td>\n",
       "      <td>1.300000</td>\n",
       "    </tr>\n",
       "    <tr>\n",
       "      <th>25%</th>\n",
       "      <td>3.400000e+06</td>\n",
       "      <td>40.000000</td>\n",
       "      <td>1.000000</td>\n",
       "      <td>2.520000</td>\n",
       "      <td>5.000000</td>\n",
       "      <td>18.600000</td>\n",
       "      <td>2.000000</td>\n",
       "      <td>7.000000</td>\n",
       "    </tr>\n",
       "    <tr>\n",
       "      <th>50%</th>\n",
       "      <td>4.650000e+06</td>\n",
       "      <td>52.000000</td>\n",
       "      <td>2.000000</td>\n",
       "      <td>2.650000</td>\n",
       "      <td>9.000000</td>\n",
       "      <td>30.000000</td>\n",
       "      <td>4.000000</td>\n",
       "      <td>9.100000</td>\n",
       "    </tr>\n",
       "    <tr>\n",
       "      <th>75%</th>\n",
       "      <td>6.800000e+06</td>\n",
       "      <td>69.900000</td>\n",
       "      <td>3.000000</td>\n",
       "      <td>2.800000</td>\n",
       "      <td>16.000000</td>\n",
       "      <td>42.300000</td>\n",
       "      <td>8.000000</td>\n",
       "      <td>12.000000</td>\n",
       "    </tr>\n",
       "    <tr>\n",
       "      <th>max</th>\n",
       "      <td>7.630000e+08</td>\n",
       "      <td>900.000000</td>\n",
       "      <td>19.000000</td>\n",
       "      <td>100.000000</td>\n",
       "      <td>60.000000</td>\n",
       "      <td>409.700000</td>\n",
       "      <td>33.000000</td>\n",
       "      <td>112.000000</td>\n",
       "    </tr>\n",
       "  </tbody>\n",
       "</table>\n",
       "</div>"
      ],
      "text/plain": [
       "         last_price    total_area         rooms  ceiling_height  floors_total  \\\n",
       "count  2.369900e+04  23699.000000  23699.000000    14504.000000  23613.000000   \n",
       "mean   6.541549e+06     60.348651      2.070636        2.771499     10.673824   \n",
       "std    1.088701e+07     35.654083      1.078405        1.261056      6.597173   \n",
       "min    1.219000e+04     12.000000      0.000000        1.000000      1.000000   \n",
       "25%    3.400000e+06     40.000000      1.000000        2.520000      5.000000   \n",
       "50%    4.650000e+06     52.000000      2.000000        2.650000      9.000000   \n",
       "75%    6.800000e+06     69.900000      3.000000        2.800000     16.000000   \n",
       "max    7.630000e+08    900.000000     19.000000      100.000000     60.000000   \n",
       "\n",
       "        living_area         floor  kitchen_area  \n",
       "count  21796.000000  23699.000000  21421.000000  \n",
       "mean      34.457852      5.892358     10.569807  \n",
       "std       22.030445      4.885249      5.905438  \n",
       "min        2.000000      1.000000      1.300000  \n",
       "25%       18.600000      2.000000      7.000000  \n",
       "50%       30.000000      4.000000      9.100000  \n",
       "75%       42.300000      8.000000     12.000000  \n",
       "max      409.700000     33.000000    112.000000  "
      ]
     },
     "execution_count": 7,
     "metadata": {},
     "output_type": "execute_result"
    }
   ],
   "source": [
    "data[['last_price','total_area','rooms','ceiling_height','floors_total','living_area','floor','kitchen_area']].describe()"
   ]
  },
  {
   "cell_type": "code",
   "execution_count": null,
   "metadata": {},
   "outputs": [],
   "source": []
  },
  {
   "cell_type": "markdown",
   "metadata": {},
   "source": [
    "   **Необходимо проверить**:\n",
    "1. Наибольшие пропуски колонках: апартаменты, ближайшие парки, водоемы и балконы;\n",
    "2. Огромная площадь помещения (900 кв м) и присутствие помещения с 19 комнатами;\n",
    "3. Высота потолков в 1 и 100 м;\n",
    "4. Здание с 60-ю этажами."
   ]
  },
  {
   "cell_type": "markdown",
   "metadata": {},
   "source": [
    "Меняем тип данных для столбца с датами публикации на datetime:"
   ]
  },
  {
   "cell_type": "code",
   "execution_count": 8,
   "metadata": {},
   "outputs": [],
   "source": [
    "data['first_day_exposition'] = pd.to_datetime(data['first_day_exposition'])"
   ]
  },
  {
   "cell_type": "markdown",
   "metadata": {},
   "source": [
    "<div class=\"alert alert-block alert-success\">\n",
    " \n",
    "### Комментарий ревьюера\n",
    "    \n",
    "#### Успех\n",
    "    \n",
    "Перевод столбца в формат даты сделан верно. \n",
    "</div "
   ]
  },
  {
   "cell_type": "markdown",
   "metadata": {},
   "source": [
    "Округляем данные в столбцах с ценой, площадью, а также заменим пропуски в days_exposition на 0.\n",
    "Заменим тип данных чтобы удобнее было в дальнейшем работать с данными показателями:"
   ]
  },
  {
   "cell_type": "code",
   "execution_count": 9,
   "metadata": {},
   "outputs": [],
   "source": [
    "data['last_price'] = data['last_price'].astype('int')\n",
    "data['total_area'] = data['total_area'].astype('int')\n",
    "data['days_exposition'] = data['days_exposition'].fillna(0).astype('int')"
   ]
  },
  {
   "cell_type": "markdown",
   "metadata": {},
   "source": [
    "Убираем аномалии для высоты потолка в 1, 1.2, 1.75 и 100 метров. Также рассмотрим высоту потолков, которая превышает 5 метров. "
   ]
  },
  {
   "cell_type": "code",
   "execution_count": 10,
   "metadata": {
    "scrolled": true
   },
   "outputs": [
    {
     "data": {
      "text/html": [
       "<div>\n",
       "<style scoped>\n",
       "    .dataframe tbody tr th:only-of-type {\n",
       "        vertical-align: middle;\n",
       "    }\n",
       "\n",
       "    .dataframe tbody tr th {\n",
       "        vertical-align: top;\n",
       "    }\n",
       "\n",
       "    .dataframe thead th {\n",
       "        text-align: right;\n",
       "    }\n",
       "</style>\n",
       "<table border=\"1\" class=\"dataframe\">\n",
       "  <thead>\n",
       "    <tr style=\"text-align: right;\">\n",
       "      <th></th>\n",
       "      <th>total_images</th>\n",
       "      <th>last_price</th>\n",
       "      <th>total_area</th>\n",
       "      <th>first_day_exposition</th>\n",
       "      <th>rooms</th>\n",
       "      <th>ceiling_height</th>\n",
       "      <th>floors_total</th>\n",
       "      <th>living_area</th>\n",
       "      <th>floor</th>\n",
       "      <th>is_apartment</th>\n",
       "      <th>studio</th>\n",
       "      <th>open_plan</th>\n",
       "      <th>kitchen_area</th>\n",
       "      <th>balcony</th>\n",
       "      <th>locality_name</th>\n",
       "      <th>airports_nearest</th>\n",
       "      <th>cityCenters_nearest</th>\n",
       "      <th>parks_around3000</th>\n",
       "      <th>parks_nearest</th>\n",
       "      <th>ponds_around3000</th>\n",
       "      <th>ponds_nearest</th>\n",
       "      <th>days_exposition</th>\n",
       "    </tr>\n",
       "  </thead>\n",
       "  <tbody>\n",
       "    <tr>\n",
       "      <th>355</th>\n",
       "      <td>17</td>\n",
       "      <td>3600000</td>\n",
       "      <td>55</td>\n",
       "      <td>2018-07-12</td>\n",
       "      <td>2</td>\n",
       "      <td>25.0</td>\n",
       "      <td>5.0</td>\n",
       "      <td>32.0</td>\n",
       "      <td>2</td>\n",
       "      <td>False</td>\n",
       "      <td>False</td>\n",
       "      <td>False</td>\n",
       "      <td>NaN</td>\n",
       "      <td>2.0</td>\n",
       "      <td>Гатчина</td>\n",
       "      <td>NaN</td>\n",
       "      <td>NaN</td>\n",
       "      <td>NaN</td>\n",
       "      <td>NaN</td>\n",
       "      <td>NaN</td>\n",
       "      <td>NaN</td>\n",
       "      <td>259</td>\n",
       "    </tr>\n",
       "    <tr>\n",
       "      <th>3148</th>\n",
       "      <td>14</td>\n",
       "      <td>2900000</td>\n",
       "      <td>75</td>\n",
       "      <td>2018-11-12</td>\n",
       "      <td>3</td>\n",
       "      <td>32.0</td>\n",
       "      <td>3.0</td>\n",
       "      <td>53.0</td>\n",
       "      <td>2</td>\n",
       "      <td>NaN</td>\n",
       "      <td>False</td>\n",
       "      <td>False</td>\n",
       "      <td>8.0</td>\n",
       "      <td>NaN</td>\n",
       "      <td>Волхов</td>\n",
       "      <td>NaN</td>\n",
       "      <td>NaN</td>\n",
       "      <td>NaN</td>\n",
       "      <td>NaN</td>\n",
       "      <td>NaN</td>\n",
       "      <td>NaN</td>\n",
       "      <td>0</td>\n",
       "    </tr>\n",
       "    <tr>\n",
       "      <th>3474</th>\n",
       "      <td>3</td>\n",
       "      <td>1400000</td>\n",
       "      <td>30</td>\n",
       "      <td>2018-03-16</td>\n",
       "      <td>1</td>\n",
       "      <td>8.0</td>\n",
       "      <td>5.0</td>\n",
       "      <td>15.3</td>\n",
       "      <td>2</td>\n",
       "      <td>False</td>\n",
       "      <td>False</td>\n",
       "      <td>False</td>\n",
       "      <td>7.3</td>\n",
       "      <td>NaN</td>\n",
       "      <td>деревня Нурма</td>\n",
       "      <td>NaN</td>\n",
       "      <td>NaN</td>\n",
       "      <td>NaN</td>\n",
       "      <td>NaN</td>\n",
       "      <td>NaN</td>\n",
       "      <td>NaN</td>\n",
       "      <td>125</td>\n",
       "    </tr>\n",
       "    <tr>\n",
       "      <th>4643</th>\n",
       "      <td>0</td>\n",
       "      <td>4300000</td>\n",
       "      <td>45</td>\n",
       "      <td>2018-02-01</td>\n",
       "      <td>2</td>\n",
       "      <td>25.0</td>\n",
       "      <td>9.0</td>\n",
       "      <td>30.0</td>\n",
       "      <td>2</td>\n",
       "      <td>NaN</td>\n",
       "      <td>False</td>\n",
       "      <td>False</td>\n",
       "      <td>7.0</td>\n",
       "      <td>1.0</td>\n",
       "      <td>Санкт-Петербург</td>\n",
       "      <td>12016.0</td>\n",
       "      <td>13256.0</td>\n",
       "      <td>1.0</td>\n",
       "      <td>658.0</td>\n",
       "      <td>1.0</td>\n",
       "      <td>331.0</td>\n",
       "      <td>181</td>\n",
       "    </tr>\n",
       "    <tr>\n",
       "      <th>4876</th>\n",
       "      <td>7</td>\n",
       "      <td>3000000</td>\n",
       "      <td>25</td>\n",
       "      <td>2017-09-27</td>\n",
       "      <td>0</td>\n",
       "      <td>27.0</td>\n",
       "      <td>25.0</td>\n",
       "      <td>17.0</td>\n",
       "      <td>17</td>\n",
       "      <td>NaN</td>\n",
       "      <td>False</td>\n",
       "      <td>True</td>\n",
       "      <td>NaN</td>\n",
       "      <td>2.0</td>\n",
       "      <td>посёлок Мурино</td>\n",
       "      <td>NaN</td>\n",
       "      <td>NaN</td>\n",
       "      <td>NaN</td>\n",
       "      <td>NaN</td>\n",
       "      <td>NaN</td>\n",
       "      <td>NaN</td>\n",
       "      <td>28</td>\n",
       "    </tr>\n",
       "    <tr>\n",
       "      <th>5076</th>\n",
       "      <td>0</td>\n",
       "      <td>3850000</td>\n",
       "      <td>30</td>\n",
       "      <td>2018-10-03</td>\n",
       "      <td>1</td>\n",
       "      <td>24.0</td>\n",
       "      <td>5.0</td>\n",
       "      <td>19.5</td>\n",
       "      <td>1</td>\n",
       "      <td>True</td>\n",
       "      <td>False</td>\n",
       "      <td>False</td>\n",
       "      <td>5.5</td>\n",
       "      <td>NaN</td>\n",
       "      <td>Санкт-Петербург</td>\n",
       "      <td>29686.0</td>\n",
       "      <td>8389.0</td>\n",
       "      <td>3.0</td>\n",
       "      <td>397.0</td>\n",
       "      <td>1.0</td>\n",
       "      <td>578.0</td>\n",
       "      <td>7</td>\n",
       "    </tr>\n",
       "    <tr>\n",
       "      <th>5246</th>\n",
       "      <td>0</td>\n",
       "      <td>2500000</td>\n",
       "      <td>54</td>\n",
       "      <td>2017-10-13</td>\n",
       "      <td>2</td>\n",
       "      <td>27.0</td>\n",
       "      <td>5.0</td>\n",
       "      <td>30.0</td>\n",
       "      <td>3</td>\n",
       "      <td>NaN</td>\n",
       "      <td>False</td>\n",
       "      <td>False</td>\n",
       "      <td>9.0</td>\n",
       "      <td>2.0</td>\n",
       "      <td>деревня Мины</td>\n",
       "      <td>NaN</td>\n",
       "      <td>NaN</td>\n",
       "      <td>NaN</td>\n",
       "      <td>NaN</td>\n",
       "      <td>NaN</td>\n",
       "      <td>NaN</td>\n",
       "      <td>540</td>\n",
       "    </tr>\n",
       "    <tr>\n",
       "      <th>5669</th>\n",
       "      <td>4</td>\n",
       "      <td>4400000</td>\n",
       "      <td>50</td>\n",
       "      <td>2017-08-08</td>\n",
       "      <td>2</td>\n",
       "      <td>26.0</td>\n",
       "      <td>9.0</td>\n",
       "      <td>21.3</td>\n",
       "      <td>3</td>\n",
       "      <td>NaN</td>\n",
       "      <td>False</td>\n",
       "      <td>False</td>\n",
       "      <td>7.0</td>\n",
       "      <td>2.0</td>\n",
       "      <td>Санкт-Петербург</td>\n",
       "      <td>28981.0</td>\n",
       "      <td>10912.0</td>\n",
       "      <td>1.0</td>\n",
       "      <td>305.0</td>\n",
       "      <td>0.0</td>\n",
       "      <td>NaN</td>\n",
       "      <td>267</td>\n",
       "    </tr>\n",
       "    <tr>\n",
       "      <th>5807</th>\n",
       "      <td>17</td>\n",
       "      <td>8150000</td>\n",
       "      <td>80</td>\n",
       "      <td>2019-01-09</td>\n",
       "      <td>2</td>\n",
       "      <td>27.0</td>\n",
       "      <td>36.0</td>\n",
       "      <td>41.0</td>\n",
       "      <td>13</td>\n",
       "      <td>NaN</td>\n",
       "      <td>False</td>\n",
       "      <td>False</td>\n",
       "      <td>12.0</td>\n",
       "      <td>5.0</td>\n",
       "      <td>Санкт-Петербург</td>\n",
       "      <td>18732.0</td>\n",
       "      <td>20444.0</td>\n",
       "      <td>0.0</td>\n",
       "      <td>NaN</td>\n",
       "      <td>3.0</td>\n",
       "      <td>80.0</td>\n",
       "      <td>38</td>\n",
       "    </tr>\n",
       "    <tr>\n",
       "      <th>5863</th>\n",
       "      <td>20</td>\n",
       "      <td>5650000</td>\n",
       "      <td>45</td>\n",
       "      <td>2018-08-15</td>\n",
       "      <td>1</td>\n",
       "      <td>8.3</td>\n",
       "      <td>16.0</td>\n",
       "      <td>19.3</td>\n",
       "      <td>14</td>\n",
       "      <td>NaN</td>\n",
       "      <td>False</td>\n",
       "      <td>False</td>\n",
       "      <td>8.3</td>\n",
       "      <td>1.0</td>\n",
       "      <td>Санкт-Петербург</td>\n",
       "      <td>13069.0</td>\n",
       "      <td>10763.0</td>\n",
       "      <td>0.0</td>\n",
       "      <td>NaN</td>\n",
       "      <td>1.0</td>\n",
       "      <td>613.0</td>\n",
       "      <td>14</td>\n",
       "    </tr>\n",
       "    <tr>\n",
       "      <th>6246</th>\n",
       "      <td>6</td>\n",
       "      <td>3300000</td>\n",
       "      <td>44</td>\n",
       "      <td>2019-03-25</td>\n",
       "      <td>2</td>\n",
       "      <td>25.0</td>\n",
       "      <td>5.0</td>\n",
       "      <td>31.3</td>\n",
       "      <td>5</td>\n",
       "      <td>NaN</td>\n",
       "      <td>False</td>\n",
       "      <td>False</td>\n",
       "      <td>5.7</td>\n",
       "      <td>NaN</td>\n",
       "      <td>Кронштадт</td>\n",
       "      <td>68923.0</td>\n",
       "      <td>50649.0</td>\n",
       "      <td>1.0</td>\n",
       "      <td>417.0</td>\n",
       "      <td>2.0</td>\n",
       "      <td>73.0</td>\n",
       "      <td>0</td>\n",
       "    </tr>\n",
       "    <tr>\n",
       "      <th>9379</th>\n",
       "      <td>5</td>\n",
       "      <td>3950000</td>\n",
       "      <td>42</td>\n",
       "      <td>2017-03-26</td>\n",
       "      <td>3</td>\n",
       "      <td>25.0</td>\n",
       "      <td>5.0</td>\n",
       "      <td>30.0</td>\n",
       "      <td>2</td>\n",
       "      <td>NaN</td>\n",
       "      <td>False</td>\n",
       "      <td>False</td>\n",
       "      <td>5.2</td>\n",
       "      <td>NaN</td>\n",
       "      <td>Санкт-Петербург</td>\n",
       "      <td>11647.0</td>\n",
       "      <td>13581.0</td>\n",
       "      <td>0.0</td>\n",
       "      <td>NaN</td>\n",
       "      <td>0.0</td>\n",
       "      <td>NaN</td>\n",
       "      <td>0</td>\n",
       "    </tr>\n",
       "    <tr>\n",
       "      <th>10773</th>\n",
       "      <td>8</td>\n",
       "      <td>3800000</td>\n",
       "      <td>58</td>\n",
       "      <td>2017-10-13</td>\n",
       "      <td>2</td>\n",
       "      <td>27.0</td>\n",
       "      <td>10.0</td>\n",
       "      <td>30.1</td>\n",
       "      <td>3</td>\n",
       "      <td>False</td>\n",
       "      <td>False</td>\n",
       "      <td>False</td>\n",
       "      <td>8.1</td>\n",
       "      <td>2.0</td>\n",
       "      <td>посёлок Мурино</td>\n",
       "      <td>NaN</td>\n",
       "      <td>NaN</td>\n",
       "      <td>NaN</td>\n",
       "      <td>NaN</td>\n",
       "      <td>NaN</td>\n",
       "      <td>NaN</td>\n",
       "      <td>71</td>\n",
       "    </tr>\n",
       "    <tr>\n",
       "      <th>11285</th>\n",
       "      <td>0</td>\n",
       "      <td>1950000</td>\n",
       "      <td>37</td>\n",
       "      <td>2019-03-20</td>\n",
       "      <td>1</td>\n",
       "      <td>25.0</td>\n",
       "      <td>5.0</td>\n",
       "      <td>17.0</td>\n",
       "      <td>4</td>\n",
       "      <td>False</td>\n",
       "      <td>False</td>\n",
       "      <td>False</td>\n",
       "      <td>9.0</td>\n",
       "      <td>2.0</td>\n",
       "      <td>Луга</td>\n",
       "      <td>NaN</td>\n",
       "      <td>NaN</td>\n",
       "      <td>NaN</td>\n",
       "      <td>NaN</td>\n",
       "      <td>NaN</td>\n",
       "      <td>NaN</td>\n",
       "      <td>18</td>\n",
       "    </tr>\n",
       "    <tr>\n",
       "      <th>14382</th>\n",
       "      <td>9</td>\n",
       "      <td>1700000</td>\n",
       "      <td>35</td>\n",
       "      <td>2015-12-04</td>\n",
       "      <td>1</td>\n",
       "      <td>25.0</td>\n",
       "      <td>5.0</td>\n",
       "      <td>20.0</td>\n",
       "      <td>2</td>\n",
       "      <td>False</td>\n",
       "      <td>False</td>\n",
       "      <td>False</td>\n",
       "      <td>8.0</td>\n",
       "      <td>1.0</td>\n",
       "      <td>поселок Новый Свет</td>\n",
       "      <td>NaN</td>\n",
       "      <td>NaN</td>\n",
       "      <td>NaN</td>\n",
       "      <td>NaN</td>\n",
       "      <td>NaN</td>\n",
       "      <td>NaN</td>\n",
       "      <td>206</td>\n",
       "    </tr>\n",
       "    <tr>\n",
       "      <th>15061</th>\n",
       "      <td>19</td>\n",
       "      <td>5600000</td>\n",
       "      <td>56</td>\n",
       "      <td>2018-05-11</td>\n",
       "      <td>2</td>\n",
       "      <td>14.0</td>\n",
       "      <td>14.0</td>\n",
       "      <td>32.4</td>\n",
       "      <td>5</td>\n",
       "      <td>NaN</td>\n",
       "      <td>False</td>\n",
       "      <td>False</td>\n",
       "      <td>9.1</td>\n",
       "      <td>2.0</td>\n",
       "      <td>Санкт-Петербург</td>\n",
       "      <td>14814.0</td>\n",
       "      <td>13610.0</td>\n",
       "      <td>0.0</td>\n",
       "      <td>NaN</td>\n",
       "      <td>0.0</td>\n",
       "      <td>NaN</td>\n",
       "      <td>315</td>\n",
       "    </tr>\n",
       "    <tr>\n",
       "      <th>15743</th>\n",
       "      <td>14</td>\n",
       "      <td>5600000</td>\n",
       "      <td>67</td>\n",
       "      <td>2016-11-11</td>\n",
       "      <td>3</td>\n",
       "      <td>8.0</td>\n",
       "      <td>16.0</td>\n",
       "      <td>41.0</td>\n",
       "      <td>1</td>\n",
       "      <td>NaN</td>\n",
       "      <td>False</td>\n",
       "      <td>False</td>\n",
       "      <td>8.0</td>\n",
       "      <td>NaN</td>\n",
       "      <td>Санкт-Петербург</td>\n",
       "      <td>32691.0</td>\n",
       "      <td>11035.0</td>\n",
       "      <td>1.0</td>\n",
       "      <td>723.0</td>\n",
       "      <td>0.0</td>\n",
       "      <td>NaN</td>\n",
       "      <td>474</td>\n",
       "    </tr>\n",
       "    <tr>\n",
       "      <th>17442</th>\n",
       "      <td>0</td>\n",
       "      <td>5350000</td>\n",
       "      <td>54</td>\n",
       "      <td>2015-06-16</td>\n",
       "      <td>2</td>\n",
       "      <td>8.0</td>\n",
       "      <td>5.0</td>\n",
       "      <td>29.0</td>\n",
       "      <td>2</td>\n",
       "      <td>NaN</td>\n",
       "      <td>False</td>\n",
       "      <td>False</td>\n",
       "      <td>NaN</td>\n",
       "      <td>1.0</td>\n",
       "      <td>Красное Село</td>\n",
       "      <td>24638.0</td>\n",
       "      <td>28062.0</td>\n",
       "      <td>0.0</td>\n",
       "      <td>NaN</td>\n",
       "      <td>0.0</td>\n",
       "      <td>NaN</td>\n",
       "      <td>469</td>\n",
       "    </tr>\n",
       "    <tr>\n",
       "      <th>17496</th>\n",
       "      <td>15</td>\n",
       "      <td>6700000</td>\n",
       "      <td>92</td>\n",
       "      <td>2019-02-19</td>\n",
       "      <td>3</td>\n",
       "      <td>20.0</td>\n",
       "      <td>17.0</td>\n",
       "      <td>53.2</td>\n",
       "      <td>14</td>\n",
       "      <td>NaN</td>\n",
       "      <td>False</td>\n",
       "      <td>False</td>\n",
       "      <td>12.0</td>\n",
       "      <td>5.0</td>\n",
       "      <td>Санкт-Петербург</td>\n",
       "      <td>16295.0</td>\n",
       "      <td>15092.0</td>\n",
       "      <td>1.0</td>\n",
       "      <td>967.0</td>\n",
       "      <td>0.0</td>\n",
       "      <td>NaN</td>\n",
       "      <td>0</td>\n",
       "    </tr>\n",
       "    <tr>\n",
       "      <th>17857</th>\n",
       "      <td>1</td>\n",
       "      <td>3900000</td>\n",
       "      <td>56</td>\n",
       "      <td>2017-12-22</td>\n",
       "      <td>3</td>\n",
       "      <td>27.0</td>\n",
       "      <td>5.0</td>\n",
       "      <td>33.0</td>\n",
       "      <td>4</td>\n",
       "      <td>False</td>\n",
       "      <td>False</td>\n",
       "      <td>False</td>\n",
       "      <td>NaN</td>\n",
       "      <td>NaN</td>\n",
       "      <td>Санкт-Петербург</td>\n",
       "      <td>41030.0</td>\n",
       "      <td>15543.0</td>\n",
       "      <td>0.0</td>\n",
       "      <td>NaN</td>\n",
       "      <td>0.0</td>\n",
       "      <td>NaN</td>\n",
       "      <td>73</td>\n",
       "    </tr>\n",
       "    <tr>\n",
       "      <th>18545</th>\n",
       "      <td>6</td>\n",
       "      <td>3750000</td>\n",
       "      <td>43</td>\n",
       "      <td>2019-03-18</td>\n",
       "      <td>2</td>\n",
       "      <td>25.0</td>\n",
       "      <td>5.0</td>\n",
       "      <td>29.0</td>\n",
       "      <td>3</td>\n",
       "      <td>False</td>\n",
       "      <td>False</td>\n",
       "      <td>False</td>\n",
       "      <td>NaN</td>\n",
       "      <td>NaN</td>\n",
       "      <td>Санкт-Петербург</td>\n",
       "      <td>27054.0</td>\n",
       "      <td>8033.0</td>\n",
       "      <td>1.0</td>\n",
       "      <td>540.0</td>\n",
       "      <td>0.0</td>\n",
       "      <td>NaN</td>\n",
       "      <td>12</td>\n",
       "    </tr>\n",
       "    <tr>\n",
       "      <th>20478</th>\n",
       "      <td>11</td>\n",
       "      <td>8000000</td>\n",
       "      <td>45</td>\n",
       "      <td>2017-07-18</td>\n",
       "      <td>1</td>\n",
       "      <td>27.0</td>\n",
       "      <td>4.0</td>\n",
       "      <td>22.0</td>\n",
       "      <td>2</td>\n",
       "      <td>NaN</td>\n",
       "      <td>False</td>\n",
       "      <td>False</td>\n",
       "      <td>10.0</td>\n",
       "      <td>1.0</td>\n",
       "      <td>Санкт-Петербург</td>\n",
       "      <td>18975.0</td>\n",
       "      <td>3246.0</td>\n",
       "      <td>0.0</td>\n",
       "      <td>NaN</td>\n",
       "      <td>3.0</td>\n",
       "      <td>449.0</td>\n",
       "      <td>429</td>\n",
       "    </tr>\n",
       "    <tr>\n",
       "      <th>20507</th>\n",
       "      <td>12</td>\n",
       "      <td>5950000</td>\n",
       "      <td>60</td>\n",
       "      <td>2018-02-19</td>\n",
       "      <td>2</td>\n",
       "      <td>22.6</td>\n",
       "      <td>14.0</td>\n",
       "      <td>35.0</td>\n",
       "      <td>11</td>\n",
       "      <td>NaN</td>\n",
       "      <td>False</td>\n",
       "      <td>False</td>\n",
       "      <td>13.0</td>\n",
       "      <td>1.0</td>\n",
       "      <td>Санкт-Петербург</td>\n",
       "      <td>27028.0</td>\n",
       "      <td>12570.0</td>\n",
       "      <td>0.0</td>\n",
       "      <td>NaN</td>\n",
       "      <td>0.0</td>\n",
       "      <td>NaN</td>\n",
       "      <td>40</td>\n",
       "    </tr>\n",
       "    <tr>\n",
       "      <th>21377</th>\n",
       "      <td>19</td>\n",
       "      <td>4900000</td>\n",
       "      <td>42</td>\n",
       "      <td>2017-04-18</td>\n",
       "      <td>1</td>\n",
       "      <td>27.5</td>\n",
       "      <td>24.0</td>\n",
       "      <td>37.7</td>\n",
       "      <td>19</td>\n",
       "      <td>False</td>\n",
       "      <td>False</td>\n",
       "      <td>False</td>\n",
       "      <td>11.0</td>\n",
       "      <td>2.0</td>\n",
       "      <td>Санкт-Петербург</td>\n",
       "      <td>42742.0</td>\n",
       "      <td>9760.0</td>\n",
       "      <td>0.0</td>\n",
       "      <td>NaN</td>\n",
       "      <td>0.0</td>\n",
       "      <td>NaN</td>\n",
       "      <td>61</td>\n",
       "    </tr>\n",
       "    <tr>\n",
       "      <th>21824</th>\n",
       "      <td>20</td>\n",
       "      <td>2450000</td>\n",
       "      <td>44</td>\n",
       "      <td>2019-02-12</td>\n",
       "      <td>2</td>\n",
       "      <td>27.0</td>\n",
       "      <td>2.0</td>\n",
       "      <td>38.0</td>\n",
       "      <td>2</td>\n",
       "      <td>False</td>\n",
       "      <td>False</td>\n",
       "      <td>False</td>\n",
       "      <td>8.6</td>\n",
       "      <td>2.0</td>\n",
       "      <td>городской поселок Большая Ижора</td>\n",
       "      <td>NaN</td>\n",
       "      <td>NaN</td>\n",
       "      <td>NaN</td>\n",
       "      <td>NaN</td>\n",
       "      <td>NaN</td>\n",
       "      <td>NaN</td>\n",
       "      <td>0</td>\n",
       "    </tr>\n",
       "    <tr>\n",
       "      <th>22309</th>\n",
       "      <td>20</td>\n",
       "      <td>5300000</td>\n",
       "      <td>45</td>\n",
       "      <td>2017-09-30</td>\n",
       "      <td>1</td>\n",
       "      <td>10.3</td>\n",
       "      <td>16.0</td>\n",
       "      <td>15.5</td>\n",
       "      <td>15</td>\n",
       "      <td>NaN</td>\n",
       "      <td>False</td>\n",
       "      <td>False</td>\n",
       "      <td>NaN</td>\n",
       "      <td>NaN</td>\n",
       "      <td>Санкт-Петербург</td>\n",
       "      <td>36353.0</td>\n",
       "      <td>11936.0</td>\n",
       "      <td>2.0</td>\n",
       "      <td>440.0</td>\n",
       "      <td>2.0</td>\n",
       "      <td>450.0</td>\n",
       "      <td>136</td>\n",
       "    </tr>\n",
       "    <tr>\n",
       "      <th>22336</th>\n",
       "      <td>19</td>\n",
       "      <td>9999000</td>\n",
       "      <td>92</td>\n",
       "      <td>2019-04-05</td>\n",
       "      <td>2</td>\n",
       "      <td>32.0</td>\n",
       "      <td>6.0</td>\n",
       "      <td>55.5</td>\n",
       "      <td>5</td>\n",
       "      <td>False</td>\n",
       "      <td>False</td>\n",
       "      <td>False</td>\n",
       "      <td>16.5</td>\n",
       "      <td>4.0</td>\n",
       "      <td>Санкт-Петербург</td>\n",
       "      <td>18838.0</td>\n",
       "      <td>3506.0</td>\n",
       "      <td>0.0</td>\n",
       "      <td>NaN</td>\n",
       "      <td>3.0</td>\n",
       "      <td>511.0</td>\n",
       "      <td>0</td>\n",
       "    </tr>\n",
       "    <tr>\n",
       "      <th>22938</th>\n",
       "      <td>14</td>\n",
       "      <td>4000000</td>\n",
       "      <td>98</td>\n",
       "      <td>2018-03-15</td>\n",
       "      <td>4</td>\n",
       "      <td>27.0</td>\n",
       "      <td>2.0</td>\n",
       "      <td>73.0</td>\n",
       "      <td>2</td>\n",
       "      <td>True</td>\n",
       "      <td>False</td>\n",
       "      <td>False</td>\n",
       "      <td>9.0</td>\n",
       "      <td>1.0</td>\n",
       "      <td>деревня Нижняя</td>\n",
       "      <td>NaN</td>\n",
       "      <td>NaN</td>\n",
       "      <td>NaN</td>\n",
       "      <td>NaN</td>\n",
       "      <td>NaN</td>\n",
       "      <td>NaN</td>\n",
       "      <td>27</td>\n",
       "    </tr>\n",
       "  </tbody>\n",
       "</table>\n",
       "</div>"
      ],
      "text/plain": [
       "       total_images  last_price  total_area first_day_exposition  rooms  \\\n",
       "355              17     3600000          55           2018-07-12      2   \n",
       "3148             14     2900000          75           2018-11-12      3   \n",
       "3474              3     1400000          30           2018-03-16      1   \n",
       "4643              0     4300000          45           2018-02-01      2   \n",
       "4876              7     3000000          25           2017-09-27      0   \n",
       "5076              0     3850000          30           2018-10-03      1   \n",
       "5246              0     2500000          54           2017-10-13      2   \n",
       "5669              4     4400000          50           2017-08-08      2   \n",
       "5807             17     8150000          80           2019-01-09      2   \n",
       "5863             20     5650000          45           2018-08-15      1   \n",
       "6246              6     3300000          44           2019-03-25      2   \n",
       "9379              5     3950000          42           2017-03-26      3   \n",
       "10773             8     3800000          58           2017-10-13      2   \n",
       "11285             0     1950000          37           2019-03-20      1   \n",
       "14382             9     1700000          35           2015-12-04      1   \n",
       "15061            19     5600000          56           2018-05-11      2   \n",
       "15743            14     5600000          67           2016-11-11      3   \n",
       "17442             0     5350000          54           2015-06-16      2   \n",
       "17496            15     6700000          92           2019-02-19      3   \n",
       "17857             1     3900000          56           2017-12-22      3   \n",
       "18545             6     3750000          43           2019-03-18      2   \n",
       "20478            11     8000000          45           2017-07-18      1   \n",
       "20507            12     5950000          60           2018-02-19      2   \n",
       "21377            19     4900000          42           2017-04-18      1   \n",
       "21824            20     2450000          44           2019-02-12      2   \n",
       "22309            20     5300000          45           2017-09-30      1   \n",
       "22336            19     9999000          92           2019-04-05      2   \n",
       "22938            14     4000000          98           2018-03-15      4   \n",
       "\n",
       "       ceiling_height  floors_total  living_area  floor is_apartment  studio  \\\n",
       "355              25.0           5.0         32.0      2        False   False   \n",
       "3148             32.0           3.0         53.0      2          NaN   False   \n",
       "3474              8.0           5.0         15.3      2        False   False   \n",
       "4643             25.0           9.0         30.0      2          NaN   False   \n",
       "4876             27.0          25.0         17.0     17          NaN   False   \n",
       "5076             24.0           5.0         19.5      1         True   False   \n",
       "5246             27.0           5.0         30.0      3          NaN   False   \n",
       "5669             26.0           9.0         21.3      3          NaN   False   \n",
       "5807             27.0          36.0         41.0     13          NaN   False   \n",
       "5863              8.3          16.0         19.3     14          NaN   False   \n",
       "6246             25.0           5.0         31.3      5          NaN   False   \n",
       "9379             25.0           5.0         30.0      2          NaN   False   \n",
       "10773            27.0          10.0         30.1      3        False   False   \n",
       "11285            25.0           5.0         17.0      4        False   False   \n",
       "14382            25.0           5.0         20.0      2        False   False   \n",
       "15061            14.0          14.0         32.4      5          NaN   False   \n",
       "15743             8.0          16.0         41.0      1          NaN   False   \n",
       "17442             8.0           5.0         29.0      2          NaN   False   \n",
       "17496            20.0          17.0         53.2     14          NaN   False   \n",
       "17857            27.0           5.0         33.0      4        False   False   \n",
       "18545            25.0           5.0         29.0      3        False   False   \n",
       "20478            27.0           4.0         22.0      2          NaN   False   \n",
       "20507            22.6          14.0         35.0     11          NaN   False   \n",
       "21377            27.5          24.0         37.7     19        False   False   \n",
       "21824            27.0           2.0         38.0      2        False   False   \n",
       "22309            10.3          16.0         15.5     15          NaN   False   \n",
       "22336            32.0           6.0         55.5      5        False   False   \n",
       "22938            27.0           2.0         73.0      2         True   False   \n",
       "\n",
       "       open_plan  kitchen_area  balcony                    locality_name  \\\n",
       "355        False           NaN      2.0                          Гатчина   \n",
       "3148       False           8.0      NaN                           Волхов   \n",
       "3474       False           7.3      NaN                    деревня Нурма   \n",
       "4643       False           7.0      1.0                  Санкт-Петербург   \n",
       "4876        True           NaN      2.0                   посёлок Мурино   \n",
       "5076       False           5.5      NaN                  Санкт-Петербург   \n",
       "5246       False           9.0      2.0                     деревня Мины   \n",
       "5669       False           7.0      2.0                  Санкт-Петербург   \n",
       "5807       False          12.0      5.0                  Санкт-Петербург   \n",
       "5863       False           8.3      1.0                  Санкт-Петербург   \n",
       "6246       False           5.7      NaN                        Кронштадт   \n",
       "9379       False           5.2      NaN                  Санкт-Петербург   \n",
       "10773      False           8.1      2.0                   посёлок Мурино   \n",
       "11285      False           9.0      2.0                             Луга   \n",
       "14382      False           8.0      1.0               поселок Новый Свет   \n",
       "15061      False           9.1      2.0                  Санкт-Петербург   \n",
       "15743      False           8.0      NaN                  Санкт-Петербург   \n",
       "17442      False           NaN      1.0                     Красное Село   \n",
       "17496      False          12.0      5.0                  Санкт-Петербург   \n",
       "17857      False           NaN      NaN                  Санкт-Петербург   \n",
       "18545      False           NaN      NaN                  Санкт-Петербург   \n",
       "20478      False          10.0      1.0                  Санкт-Петербург   \n",
       "20507      False          13.0      1.0                  Санкт-Петербург   \n",
       "21377      False          11.0      2.0                  Санкт-Петербург   \n",
       "21824      False           8.6      2.0  городской поселок Большая Ижора   \n",
       "22309      False           NaN      NaN                  Санкт-Петербург   \n",
       "22336      False          16.5      4.0                  Санкт-Петербург   \n",
       "22938      False           9.0      1.0                   деревня Нижняя   \n",
       "\n",
       "       airports_nearest  cityCenters_nearest  parks_around3000  parks_nearest  \\\n",
       "355                 NaN                  NaN               NaN            NaN   \n",
       "3148                NaN                  NaN               NaN            NaN   \n",
       "3474                NaN                  NaN               NaN            NaN   \n",
       "4643            12016.0              13256.0               1.0          658.0   \n",
       "4876                NaN                  NaN               NaN            NaN   \n",
       "5076            29686.0               8389.0               3.0          397.0   \n",
       "5246                NaN                  NaN               NaN            NaN   \n",
       "5669            28981.0              10912.0               1.0          305.0   \n",
       "5807            18732.0              20444.0               0.0            NaN   \n",
       "5863            13069.0              10763.0               0.0            NaN   \n",
       "6246            68923.0              50649.0               1.0          417.0   \n",
       "9379            11647.0              13581.0               0.0            NaN   \n",
       "10773               NaN                  NaN               NaN            NaN   \n",
       "11285               NaN                  NaN               NaN            NaN   \n",
       "14382               NaN                  NaN               NaN            NaN   \n",
       "15061           14814.0              13610.0               0.0            NaN   \n",
       "15743           32691.0              11035.0               1.0          723.0   \n",
       "17442           24638.0              28062.0               0.0            NaN   \n",
       "17496           16295.0              15092.0               1.0          967.0   \n",
       "17857           41030.0              15543.0               0.0            NaN   \n",
       "18545           27054.0               8033.0               1.0          540.0   \n",
       "20478           18975.0               3246.0               0.0            NaN   \n",
       "20507           27028.0              12570.0               0.0            NaN   \n",
       "21377           42742.0               9760.0               0.0            NaN   \n",
       "21824               NaN                  NaN               NaN            NaN   \n",
       "22309           36353.0              11936.0               2.0          440.0   \n",
       "22336           18838.0               3506.0               0.0            NaN   \n",
       "22938               NaN                  NaN               NaN            NaN   \n",
       "\n",
       "       ponds_around3000  ponds_nearest  days_exposition  \n",
       "355                 NaN            NaN              259  \n",
       "3148                NaN            NaN                0  \n",
       "3474                NaN            NaN              125  \n",
       "4643                1.0          331.0              181  \n",
       "4876                NaN            NaN               28  \n",
       "5076                1.0          578.0                7  \n",
       "5246                NaN            NaN              540  \n",
       "5669                0.0            NaN              267  \n",
       "5807                3.0           80.0               38  \n",
       "5863                1.0          613.0               14  \n",
       "6246                2.0           73.0                0  \n",
       "9379                0.0            NaN                0  \n",
       "10773               NaN            NaN               71  \n",
       "11285               NaN            NaN               18  \n",
       "14382               NaN            NaN              206  \n",
       "15061               0.0            NaN              315  \n",
       "15743               0.0            NaN              474  \n",
       "17442               0.0            NaN              469  \n",
       "17496               0.0            NaN                0  \n",
       "17857               0.0            NaN               73  \n",
       "18545               0.0            NaN               12  \n",
       "20478               3.0          449.0              429  \n",
       "20507               0.0            NaN               40  \n",
       "21377               0.0            NaN               61  \n",
       "21824               NaN            NaN                0  \n",
       "22309               2.0          450.0              136  \n",
       "22336               3.0          511.0                0  \n",
       "22938               NaN            NaN               27  "
      ]
     },
     "execution_count": 10,
     "metadata": {},
     "output_type": "execute_result"
    }
   ],
   "source": [
    "data = data.query('ceiling_height != [1.2, 1.75, 1, 100]')\n",
    "data.query('ceiling_height > 6')"
   ]
  },
  {
   "cell_type": "markdown",
   "metadata": {},
   "source": [
    "Встречаются показатели 27, 29, 22, 35 метров. \n",
    " Скорее всего данные ошибки были совершены при заполнении, а именно упущены разделители между цифрами при заполнении. Это вполне реально, если учесть, что в типовых советских домах есть соответствующие показатели в 2.7, 2.9, 3.5 метров; \n",
    " Высота потолков 8 и 10 метров может подходить для двухуровневых квартир. Поэтому лучше заполнить высоту медианным значением."
   ]
  },
  {
   "cell_type": "code",
   "execution_count": 11,
   "metadata": {},
   "outputs": [
    {
     "data": {
      "text/plain": [
       "2.65"
      ]
     },
     "execution_count": 11,
     "metadata": {},
     "output_type": "execute_result"
    }
   ],
   "source": [
    "data.ceiling_height.median()"
   ]
  },
  {
   "cell_type": "code",
   "execution_count": 12,
   "metadata": {},
   "outputs": [],
   "source": [
    "data.loc[data['ceiling_height'] > 10, 'ceiling_height'] = 2.7"
   ]
  },
  {
   "cell_type": "code",
   "execution_count": 13,
   "metadata": {},
   "outputs": [],
   "source": [
    "data['ceiling_height'] = data['ceiling_height'].fillna(data['ceiling_height'].median())"
   ]
  },
  {
   "cell_type": "markdown",
   "metadata": {},
   "source": [
    "<div class=\"alert alert-block alert-success\">\n",
    " \n",
    "### Комментарий ревьюера\n",
    "    \n",
    "#### Успех\n",
    "    \n",
    "Логично, соглашусь. \n",
    "</div "
   ]
  },
  {
   "cell_type": "markdown",
   "metadata": {},
   "source": [
    "Посмотрим сколько представлено зданий выше 42 этажей. Это обясняется тем, что 2019 года самым высоким зданием Санкт-Петербурга и Ленинградской области был \"Лидер Тауэр\" с аналогичной этажностью."
   ]
  },
  {
   "cell_type": "code",
   "execution_count": 14,
   "metadata": {
    "scrolled": true
   },
   "outputs": [
    {
     "data": {
      "text/html": [
       "<div>\n",
       "<style scoped>\n",
       "    .dataframe tbody tr th:only-of-type {\n",
       "        vertical-align: middle;\n",
       "    }\n",
       "\n",
       "    .dataframe tbody tr th {\n",
       "        vertical-align: top;\n",
       "    }\n",
       "\n",
       "    .dataframe thead th {\n",
       "        text-align: right;\n",
       "    }\n",
       "</style>\n",
       "<table border=\"1\" class=\"dataframe\">\n",
       "  <thead>\n",
       "    <tr style=\"text-align: right;\">\n",
       "      <th></th>\n",
       "      <th>total_images</th>\n",
       "      <th>last_price</th>\n",
       "      <th>total_area</th>\n",
       "      <th>first_day_exposition</th>\n",
       "      <th>rooms</th>\n",
       "      <th>ceiling_height</th>\n",
       "      <th>floors_total</th>\n",
       "      <th>living_area</th>\n",
       "      <th>floor</th>\n",
       "      <th>is_apartment</th>\n",
       "      <th>studio</th>\n",
       "      <th>open_plan</th>\n",
       "      <th>kitchen_area</th>\n",
       "      <th>balcony</th>\n",
       "      <th>locality_name</th>\n",
       "      <th>airports_nearest</th>\n",
       "      <th>cityCenters_nearest</th>\n",
       "      <th>parks_around3000</th>\n",
       "      <th>parks_nearest</th>\n",
       "      <th>ponds_around3000</th>\n",
       "      <th>ponds_nearest</th>\n",
       "      <th>days_exposition</th>\n",
       "    </tr>\n",
       "  </thead>\n",
       "  <tbody>\n",
       "    <tr>\n",
       "      <th>2253</th>\n",
       "      <td>12</td>\n",
       "      <td>3800000</td>\n",
       "      <td>45</td>\n",
       "      <td>2018-06-28</td>\n",
       "      <td>2</td>\n",
       "      <td>2.88</td>\n",
       "      <td>60.0</td>\n",
       "      <td>27.4</td>\n",
       "      <td>4</td>\n",
       "      <td>NaN</td>\n",
       "      <td>False</td>\n",
       "      <td>False</td>\n",
       "      <td>7.4</td>\n",
       "      <td>NaN</td>\n",
       "      <td>Кронштадт</td>\n",
       "      <td>67763.0</td>\n",
       "      <td>49488.0</td>\n",
       "      <td>2.0</td>\n",
       "      <td>342.0</td>\n",
       "      <td>3.0</td>\n",
       "      <td>614.0</td>\n",
       "      <td>166</td>\n",
       "    </tr>\n",
       "    <tr>\n",
       "      <th>16731</th>\n",
       "      <td>9</td>\n",
       "      <td>3978000</td>\n",
       "      <td>40</td>\n",
       "      <td>2018-09-24</td>\n",
       "      <td>1</td>\n",
       "      <td>2.65</td>\n",
       "      <td>52.0</td>\n",
       "      <td>10.5</td>\n",
       "      <td>18</td>\n",
       "      <td>NaN</td>\n",
       "      <td>False</td>\n",
       "      <td>False</td>\n",
       "      <td>14.0</td>\n",
       "      <td>NaN</td>\n",
       "      <td>Санкт-Петербург</td>\n",
       "      <td>20728.0</td>\n",
       "      <td>12978.0</td>\n",
       "      <td>1.0</td>\n",
       "      <td>793.0</td>\n",
       "      <td>0.0</td>\n",
       "      <td>NaN</td>\n",
       "      <td>45</td>\n",
       "    </tr>\n",
       "  </tbody>\n",
       "</table>\n",
       "</div>"
      ],
      "text/plain": [
       "       total_images  last_price  total_area first_day_exposition  rooms  \\\n",
       "2253             12     3800000          45           2018-06-28      2   \n",
       "16731             9     3978000          40           2018-09-24      1   \n",
       "\n",
       "       ceiling_height  floors_total  living_area  floor is_apartment  studio  \\\n",
       "2253             2.88          60.0         27.4      4          NaN   False   \n",
       "16731            2.65          52.0         10.5     18          NaN   False   \n",
       "\n",
       "       open_plan  kitchen_area  balcony    locality_name  airports_nearest  \\\n",
       "2253       False           7.4      NaN        Кронштадт           67763.0   \n",
       "16731      False          14.0      NaN  Санкт-Петербург           20728.0   \n",
       "\n",
       "       cityCenters_nearest  parks_around3000  parks_nearest  ponds_around3000  \\\n",
       "2253               49488.0               2.0          342.0               3.0   \n",
       "16731              12978.0               1.0          793.0               0.0   \n",
       "\n",
       "       ponds_nearest  days_exposition  \n",
       "2253           614.0              166  \n",
       "16731            NaN               45  "
      ]
     },
     "execution_count": 14,
     "metadata": {},
     "output_type": "execute_result"
    }
   ],
   "source": [
    "data.query('floors_total > 42')"
   ]
  },
  {
   "cell_type": "markdown",
   "metadata": {},
   "source": [
    "Всего две записи с данной этажностью, можно исключить:"
   ]
  },
  {
   "cell_type": "code",
   "execution_count": 15,
   "metadata": {},
   "outputs": [],
   "source": [
    "data = data.query('floors_total != [52, 60]')"
   ]
  },
  {
   "cell_type": "markdown",
   "metadata": {},
   "source": [
    "Заполняем пропуски в столбце с балконами. Можно предположить, что владельцы не указывали число балконов и-за отсутствия таковых, поэтому пропуски заменяем на 0:"
   ]
  },
  {
   "cell_type": "code",
   "execution_count": 16,
   "metadata": {},
   "outputs": [],
   "source": [
    "data['balcony'] = data['balcony'].fillna(0).astype('int')"
   ]
  },
  {
   "cell_type": "markdown",
   "metadata": {},
   "source": [
    "<div class=\"alert alert-block alert-success\">\n",
    " \n",
    "### Комментарий ревьюера\n",
    "    \n",
    "#### Успех\n",
    "    \n",
    "И здесь все верно. \n",
    "</div "
   ]
  },
  {
   "cell_type": "markdown",
   "metadata": {},
   "source": [
    "Аналогичная ситуация с апартаментами, только пропуски заменяем на False, так как в столбце должны быть булевым тип данных:"
   ]
  },
  {
   "cell_type": "code",
   "execution_count": 17,
   "metadata": {},
   "outputs": [],
   "source": [
    "data['is_apartment'] = data['is_apartment'].fillna(False).astype('bool')\n"
   ]
  },
  {
   "cell_type": "markdown",
   "metadata": {},
   "source": [
    "Также заполним пропуски в площади кухни медианными значениями, а также поменяем тип данных:"
   ]
  },
  {
   "cell_type": "code",
   "execution_count": 18,
   "metadata": {},
   "outputs": [],
   "source": [
    "data['kitchen_area'] = data['kitchen_area'].fillna(data['kitchen_area'].median()).astype(int)\n"
   ]
  },
  {
   "cell_type": "markdown",
   "metadata": {},
   "source": [
    "Перед тем, как заполнить пропуски в столбце с жилой площадью, необходимо просмотреть корреляцию между числом комнат и жилой площадью:"
   ]
  },
  {
   "cell_type": "code",
   "execution_count": 19,
   "metadata": {},
   "outputs": [
    {
     "data": {
      "text/plain": [
       "0.845961187537528"
      ]
     },
     "execution_count": 19,
     "metadata": {},
     "output_type": "execute_result"
    }
   ],
   "source": [
    "data['living_area'].corr(data['rooms'])"
   ]
  },
  {
   "cell_type": "markdown",
   "metadata": {},
   "source": [
    "Прослеживается высокая корреляция. Создадим сводную таблицу с медианными значениями жилой площади от количества комнат, чтобы в дальнейшем заполнить пропуки в жилой площади:"
   ]
  },
  {
   "cell_type": "code",
   "execution_count": 20,
   "metadata": {},
   "outputs": [
    {
     "data": {
      "text/html": [
       "<div>\n",
       "<style scoped>\n",
       "    .dataframe tbody tr th:only-of-type {\n",
       "        vertical-align: middle;\n",
       "    }\n",
       "\n",
       "    .dataframe tbody tr th {\n",
       "        vertical-align: top;\n",
       "    }\n",
       "\n",
       "    .dataframe thead th {\n",
       "        text-align: right;\n",
       "    }\n",
       "</style>\n",
       "<table border=\"1\" class=\"dataframe\">\n",
       "  <thead>\n",
       "    <tr style=\"text-align: right;\">\n",
       "      <th></th>\n",
       "      <th>median</th>\n",
       "    </tr>\n",
       "    <tr>\n",
       "      <th>rooms</th>\n",
       "      <th></th>\n",
       "    </tr>\n",
       "  </thead>\n",
       "  <tbody>\n",
       "    <tr>\n",
       "      <th>0</th>\n",
       "      <td>18.000</td>\n",
       "    </tr>\n",
       "    <tr>\n",
       "      <th>1</th>\n",
       "      <td>17.600</td>\n",
       "    </tr>\n",
       "    <tr>\n",
       "      <th>2</th>\n",
       "      <td>30.500</td>\n",
       "    </tr>\n",
       "    <tr>\n",
       "      <th>3</th>\n",
       "      <td>45.000</td>\n",
       "    </tr>\n",
       "    <tr>\n",
       "      <th>4</th>\n",
       "      <td>63.600</td>\n",
       "    </tr>\n",
       "    <tr>\n",
       "      <th>5</th>\n",
       "      <td>91.785</td>\n",
       "    </tr>\n",
       "    <tr>\n",
       "      <th>6</th>\n",
       "      <td>123.900</td>\n",
       "    </tr>\n",
       "    <tr>\n",
       "      <th>7</th>\n",
       "      <td>145.000</td>\n",
       "    </tr>\n",
       "    <tr>\n",
       "      <th>8</th>\n",
       "      <td>161.000</td>\n",
       "    </tr>\n",
       "    <tr>\n",
       "      <th>9</th>\n",
       "      <td>179.200</td>\n",
       "    </tr>\n",
       "    <tr>\n",
       "      <th>10</th>\n",
       "      <td>161.400</td>\n",
       "    </tr>\n",
       "    <tr>\n",
       "      <th>11</th>\n",
       "      <td>133.900</td>\n",
       "    </tr>\n",
       "    <tr>\n",
       "      <th>12</th>\n",
       "      <td>409.700</td>\n",
       "    </tr>\n",
       "    <tr>\n",
       "      <th>14</th>\n",
       "      <td>195.150</td>\n",
       "    </tr>\n",
       "    <tr>\n",
       "      <th>15</th>\n",
       "      <td>409.000</td>\n",
       "    </tr>\n",
       "    <tr>\n",
       "      <th>16</th>\n",
       "      <td>180.000</td>\n",
       "    </tr>\n",
       "    <tr>\n",
       "      <th>19</th>\n",
       "      <td>264.500</td>\n",
       "    </tr>\n",
       "  </tbody>\n",
       "</table>\n",
       "</div>"
      ],
      "text/plain": [
       "        median\n",
       "rooms         \n",
       "0       18.000\n",
       "1       17.600\n",
       "2       30.500\n",
       "3       45.000\n",
       "4       63.600\n",
       "5       91.785\n",
       "6      123.900\n",
       "7      145.000\n",
       "8      161.000\n",
       "9      179.200\n",
       "10     161.400\n",
       "11     133.900\n",
       "12     409.700\n",
       "14     195.150\n",
       "15     409.000\n",
       "16     180.000\n",
       "19     264.500"
      ]
     },
     "execution_count": 20,
     "metadata": {},
     "output_type": "execute_result"
    }
   ],
   "source": [
    "room_area_pivot = data.pivot_table(index='rooms', values='living_area', aggfunc=['median'])\n",
    "room_area_pivot.columns = ['median']\n",
    "room_area_pivot"
   ]
  },
  {
   "cell_type": "markdown",
   "metadata": {},
   "source": [
    "Также создаем функцию, с помощью которой заменим пропуски в столбце с жилой площадью."
   ]
  },
  {
   "cell_type": "code",
   "execution_count": 21,
   "metadata": {},
   "outputs": [],
   "source": [
    "def living_area(new_data, room_area_pivot):\n",
    "    for r, m in room_area_pivot['median'].items(): \n",
    "        new_data.loc[(new_data.loc[:, 'rooms']== r) &(new_data.loc[:, 'living_area'].isnull()), 'living_area' ] = m\n",
    "living_area(data, room_area_pivot)        \n",
    "data['living_area'] = data['living_area'].astype(int)"
   ]
  },
  {
   "cell_type": "markdown",
   "metadata": {},
   "source": [
    "<div class=\"alert alert-block alert-success\">\n",
    " \n",
    "### Комментарий ревьюера\n",
    "    \n",
    "#### Успех\n",
    "    \n",
    "Вот, прям классно получилось. \n",
    "</div "
   ]
  },
  {
   "cell_type": "markdown",
   "metadata": {},
   "source": [
    "Удалим строки с пропусками с названиями населенного пункта и количество этажей в доме, поскольку данные пропуски проблематично заполнить."
   ]
  },
  {
   "cell_type": "code",
   "execution_count": 22,
   "metadata": {},
   "outputs": [],
   "source": [
    "data.dropna(subset=['floors_total'], inplace = True)\n",
    "data.dropna(subset=['locality_name'], inplace = True)"
   ]
  },
  {
   "cell_type": "markdown",
   "metadata": {},
   "source": [
    "Также просмотрим уникальные значения в столбце с названиями населенных пунктов:"
   ]
  },
  {
   "cell_type": "code",
   "execution_count": 23,
   "metadata": {},
   "outputs": [
    {
     "data": {
      "text/plain": [
       "array(['Санкт-Петербург', 'посёлок Шушары', 'городской посёлок Янино-1',\n",
       "       'посёлок Парголово', 'посёлок Мурино', 'Ломоносов', 'Сертолово',\n",
       "       'Петергоф', 'Пушкин', 'деревня Кудрово', 'Коммунар', 'Колпино',\n",
       "       'поселок городского типа Красный Бор', 'Гатчина', 'поселок Мурино',\n",
       "       'деревня Фёдоровское', 'Выборг', 'Кронштадт', 'Кировск',\n",
       "       'деревня Новое Девяткино', 'посёлок Металлострой',\n",
       "       'посёлок городского типа Лебяжье',\n",
       "       'посёлок городского типа Сиверский', 'поселок Молодцово',\n",
       "       'поселок городского типа Кузьмоловский',\n",
       "       'садовое товарищество Новая Ропша', 'Павловск',\n",
       "       'деревня Пикколово', 'Всеволожск', 'Волхов', 'Кингисепп',\n",
       "       'Приозерск', 'Сестрорецк', 'деревня Куттузи', 'посёлок Аннино',\n",
       "       'поселок городского типа Ефимовский', 'посёлок Плодовое',\n",
       "       'деревня Заклинье', 'поселок Торковичи', 'поселок Первомайское',\n",
       "       'Красное Село', 'посёлок Понтонный', 'Сясьстрой', 'деревня Старая',\n",
       "       'деревня Лесколово', 'посёлок Новый Свет', 'Сланцы',\n",
       "       'село Путилово', 'Ивангород', 'Мурино', 'Шлиссельбург',\n",
       "       'Никольское', 'Зеленогорск', 'Сосновый Бор', 'поселок Новый Свет',\n",
       "       'деревня Оржицы', 'деревня Кальтино', 'Кудрово',\n",
       "       'поселок Романовка', 'посёлок Бугры', 'поселок Бугры',\n",
       "       'поселок городского типа Рощино', 'Кириши', 'Луга', 'Волосово',\n",
       "       'Отрадное', 'село Павлово', 'поселок Оредеж', 'село Копорье',\n",
       "       'посёлок городского типа Красный Бор', 'посёлок Молодёжное',\n",
       "       'Тихвин', 'посёлок Победа', 'деревня Нурма',\n",
       "       'поселок городского типа Синявино', 'Тосно',\n",
       "       'посёлок городского типа Кузьмоловский', 'посёлок Стрельна',\n",
       "       'Бокситогорск', 'посёлок Александровская', 'деревня Лопухинка',\n",
       "       'Пикалёво', 'поселок Терволово',\n",
       "       'поселок городского типа Советский', 'Подпорожье',\n",
       "       'посёлок Петровское', 'посёлок городского типа Токсово',\n",
       "       'поселок Сельцо', 'посёлок городского типа Вырица',\n",
       "       'деревня Кипень', 'деревня Келози', 'деревня Вартемяги',\n",
       "       'посёлок Тельмана', 'поселок Севастьяново',\n",
       "       'городской поселок Большая Ижора', 'городской посёлок Павлово',\n",
       "       'деревня Агалатово', 'посёлок Новогорелово',\n",
       "       'городской посёлок Лесогорский', 'деревня Лаголово',\n",
       "       'поселок Цвелодубово', 'поселок городского типа Рахья',\n",
       "       'поселок городского типа Вырица', 'деревня Белогорка',\n",
       "       'поселок Заводской', 'городской посёлок Новоселье',\n",
       "       'деревня Большие Колпаны', 'деревня Горбунки', 'деревня Батово',\n",
       "       'деревня Заневка', 'деревня Иссад', 'Приморск',\n",
       "       'городской посёлок Фёдоровское', 'деревня Мистолово',\n",
       "       'Новая Ладога', 'поселок Зимитицы', 'поселок Барышево',\n",
       "       'деревня Разметелево', 'поселок городского типа имени Свердлова',\n",
       "       'деревня Пеники', 'поселок Рябово', 'деревня Пудомяги',\n",
       "       'поселок станции Корнево', 'деревня Низино', 'деревня Бегуницы',\n",
       "       'посёлок Поляны', 'городской посёлок Мга', 'поселок Елизаветино',\n",
       "       'посёлок городского типа Кузнечное', 'деревня Колтуши',\n",
       "       'поселок Запорожское', 'посёлок городского типа Рощино',\n",
       "       'деревня Гостилицы', 'деревня Малое Карлино',\n",
       "       'посёлок Мичуринское', 'посёлок городского типа имени Морозова',\n",
       "       'посёлок Песочный', 'посёлок Сосново', 'деревня Аро',\n",
       "       'поселок Ильичёво', 'посёлок городского типа Тайцы',\n",
       "       'деревня Малое Верево', 'деревня Извара', 'поселок станции Вещево',\n",
       "       'село Паша', 'деревня Калитино',\n",
       "       'посёлок городского типа Ульяновка', 'деревня Чудской Бор',\n",
       "       'поселок городского типа Дубровка', 'деревня Мины',\n",
       "       'поселок Войсковицы', 'посёлок городского типа имени Свердлова',\n",
       "       'деревня Коркино', 'посёлок Ропша',\n",
       "       'поселок городского типа Приладожский', 'посёлок Щеглово',\n",
       "       'посёлок Гаврилово', 'Лодейное Поле', 'деревня Рабитицы',\n",
       "       'поселок городского типа Никольский', 'деревня Кузьмолово',\n",
       "       'деревня Малые Колпаны', 'поселок Тельмана',\n",
       "       'посёлок Петро-Славянка', 'городской посёлок Назия',\n",
       "       'посёлок Репино', 'посёлок Ильичёво', 'поселок Углово',\n",
       "       'поселок Старая Малукса', 'садовое товарищество Рахья',\n",
       "       'поселок Аннино', 'поселок Победа', 'деревня Меньково',\n",
       "       'деревня Старые Бегуницы', 'посёлок Сапёрный', 'поселок Семрино',\n",
       "       'поселок Гаврилово', 'поселок Глажево', 'поселок Кобринское',\n",
       "       'деревня Гарболово', 'деревня Юкки',\n",
       "       'поселок станции Приветнинское', 'деревня Мануйлово',\n",
       "       'деревня Пчева', 'поселок Поляны', 'поселок Цвылёво',\n",
       "       'поселок Мельниково', 'посёлок Пудость', 'посёлок Усть-Луга',\n",
       "       'Светогорск', 'Любань', 'поселок Селезнёво',\n",
       "       'поселок городского типа Рябово', 'Каменногорск', 'деревня Кривко',\n",
       "       'поселок Глебычево', 'деревня Парицы', 'поселок Жилпосёлок',\n",
       "       'посёлок городского типа Мга', 'городской поселок Янино-1',\n",
       "       'посёлок Войскорово', 'село Никольское', 'посёлок Терволово',\n",
       "       'поселок Стеклянный', 'посёлок городского типа Важины',\n",
       "       'посёлок Мыза-Ивановка', 'село Русско-Высоцкое',\n",
       "       'поселок городского типа Лебяжье',\n",
       "       'поселок городского типа Форносово', 'село Старая Ладога',\n",
       "       'поселок Житково', 'городской посёлок Виллози', 'деревня Лампово',\n",
       "       'деревня Шпаньково', 'деревня Лаврики', 'посёлок Сумино',\n",
       "       'посёлок Возрождение', 'деревня Старосиверская',\n",
       "       'посёлок Кикерино', 'поселок Возрождение',\n",
       "       'деревня Старое Хинколово', 'посёлок Пригородный',\n",
       "       'посёлок Торфяное', 'городской посёлок Будогощь',\n",
       "       'поселок Суходолье', 'поселок Красная Долина', 'деревня Хапо-Ое',\n",
       "       'поселок городского типа Дружная Горка', 'поселок Лисий Нос',\n",
       "       'деревня Яльгелево', 'посёлок Стеклянный', 'село Рождествено',\n",
       "       'деревня Старополье', 'посёлок Левашово', 'деревня Сяськелево',\n",
       "       'деревня Камышовка',\n",
       "       'садоводческое некоммерческое товарищество Лесная Поляна',\n",
       "       'деревня Хязельки', 'поселок Жилгородок',\n",
       "       'посёлок городского типа Павлово', 'деревня Ялгино',\n",
       "       'поселок Новый Учхоз', 'городской посёлок Рощино',\n",
       "       'поселок Гончарово', 'поселок Почап', 'посёлок Сапёрное',\n",
       "       'посёлок Платформа 69-й километр', 'поселок Каложицы',\n",
       "       'деревня Фалилеево', 'деревня Пельгора',\n",
       "       'поселок городского типа Лесогорский', 'деревня Торошковичи',\n",
       "       'посёлок Белоостров', 'посёлок Алексеевка', 'поселок Серебрянский',\n",
       "       'поселок Лукаши', 'поселок Петровское', 'деревня Щеглово',\n",
       "       'поселок Мичуринское', 'деревня Тарасово', 'поселок Кингисеппский',\n",
       "       'посёлок при железнодорожной станции Вещево', 'поселок Ушаки',\n",
       "       'деревня Котлы', 'деревня Сижно', 'деревня Торосово',\n",
       "       'посёлок Форт Красная Горка', 'деревня Новолисино',\n",
       "       'посёлок станции Громово', 'деревня Глинка', 'посёлок Мельниково',\n",
       "       'поселок городского типа Назия', 'деревня Старая Пустошь',\n",
       "       'поселок Коммунары', 'поселок Починок',\n",
       "       'посёлок городского типа Вознесенье', 'деревня Разбегаево',\n",
       "       'посёлок городского типа Рябово', 'поселок Гладкое',\n",
       "       'посёлок при железнодорожной станции Приветнинское',\n",
       "       'поселок Тёсово-4', 'посёлок Жилгородок', 'деревня Бор',\n",
       "       'посёлок Коробицыно', 'деревня Большая Вруда', 'деревня Курковицы',\n",
       "       'посёлок Лисий Нос', 'городской посёлок Советский',\n",
       "       'посёлок Кобралово', 'деревня Суоранда', 'поселок Кобралово',\n",
       "       'поселок городского типа Кондратьево',\n",
       "       'коттеджный поселок Счастье', 'поселок Любань', 'деревня Реброво',\n",
       "       'деревня Зимитицы', 'деревня Тойворово', 'поселок Семиозерье',\n",
       "       'поселок Лесное', 'поселок Совхозный', 'поселок Усть-Луга',\n",
       "       'посёлок Ленинское', 'посёлок Суйда',\n",
       "       'посёлок городского типа Форносово', 'деревня Нижние Осельки',\n",
       "       'посёлок станции Свирь', 'поселок Перово', 'Высоцк',\n",
       "       'поселок Гарболово', 'село Шум', 'поселок Котельский',\n",
       "       'поселок станции Лужайка', 'деревня Большая Пустомержа',\n",
       "       'поселок Красносельское', 'деревня Вахнова Кара', 'деревня Пижма',\n",
       "       'коттеджный поселок Кивеннапа Север', 'поселок Коробицыно',\n",
       "       'поселок Ромашки', 'посёлок Перово', 'деревня Каськово',\n",
       "       'деревня Куровицы', 'посёлок Плоское', 'поселок Сумино',\n",
       "       'поселок городского типа Большая Ижора', 'поселок Кирпичное',\n",
       "       'деревня Ям-Тесово', 'деревня Раздолье', 'деревня Терпилицы',\n",
       "       'поселок городского типа Токсово', 'посёлок Шугозеро',\n",
       "       'деревня Ваганово', 'поселок Пушное', 'садовое товарищество Садко',\n",
       "       'посёлок Усть-Ижора', 'деревня Выскатка',\n",
       "       'городской посёлок Свирьстрой', 'поселок Громово',\n",
       "       'деревня Кисельня', 'посёлок Старая Малукса',\n",
       "       'деревня Трубников Бор', 'поселок Калитино',\n",
       "       'посёлок Высокоключевой', 'садовое товарищество Приладожский',\n",
       "       'посёлок Пансионат Зелёный Бор', 'деревня Ненимяки',\n",
       "       'поселок Пансионат Зелёный Бор', 'деревня Снегирёвка',\n",
       "       'деревня Рапполово', 'деревня Пустынка', 'поселок Рабитицы',\n",
       "       'деревня Большой Сабск', 'деревня Русско', 'деревня Лупполово',\n",
       "       'деревня Большое Рейзино', 'деревня Малая Романовка',\n",
       "       'поселок Дружноселье', 'поселок Пчевжа', 'поселок Володарское',\n",
       "       'деревня Нижняя', 'коттеджный посёлок Лесное', 'деревня Тихковицы',\n",
       "       'деревня Борисова Грива', 'посёлок Дзержинского'], dtype=object)"
      ]
     },
     "execution_count": 23,
     "metadata": {},
     "output_type": "execute_result"
    }
   ],
   "source": [
    "data['locality_name'].unique()  "
   ]
  },
  {
   "cell_type": "markdown",
   "metadata": {},
   "source": [
    "В представленном списке разное написание слова \"поселок\". Устраним:"
   ]
  },
  {
   "cell_type": "code",
   "execution_count": 24,
   "metadata": {},
   "outputs": [],
   "source": [
    "data['locality_name'] = data['locality_name'].replace('посёлок', 'поселок', regex=True)\n"
   ]
  },
  {
   "cell_type": "markdown",
   "metadata": {},
   "source": [
    "<div class=\"alert alert-block alert-success\">\n",
    " \n",
    "### Комментарий ревьюера\n",
    "    \n",
    "#### Успех\n",
    "    \n",
    "Достаточно простой и понятный метод замены. \n",
    "</div "
   ]
  },
  {
   "cell_type": "markdown",
   "metadata": {},
   "source": [
    "Также необходимо заменить тип данных в столбце с количеством этажей на int, так как представлены целые числа:"
   ]
  },
  {
   "cell_type": "code",
   "execution_count": 25,
   "metadata": {},
   "outputs": [],
   "source": [
    "data['floors_total'] = data['floors_total'].astype('int')"
   ]
  },
  {
   "cell_type": "markdown",
   "metadata": {},
   "source": [
    "Просмотрим исправленные данные:"
   ]
  },
  {
   "cell_type": "code",
   "execution_count": 26,
   "metadata": {},
   "outputs": [
    {
     "data": {
      "text/html": [
       "<div>\n",
       "<style scoped>\n",
       "    .dataframe tbody tr th:only-of-type {\n",
       "        vertical-align: middle;\n",
       "    }\n",
       "\n",
       "    .dataframe tbody tr th {\n",
       "        vertical-align: top;\n",
       "    }\n",
       "\n",
       "    .dataframe thead th {\n",
       "        text-align: right;\n",
       "    }\n",
       "</style>\n",
       "<table border=\"1\" class=\"dataframe\">\n",
       "  <thead>\n",
       "    <tr style=\"text-align: right;\">\n",
       "      <th></th>\n",
       "      <th>total_images</th>\n",
       "      <th>last_price</th>\n",
       "      <th>total_area</th>\n",
       "      <th>first_day_exposition</th>\n",
       "      <th>rooms</th>\n",
       "      <th>ceiling_height</th>\n",
       "      <th>floors_total</th>\n",
       "      <th>living_area</th>\n",
       "      <th>floor</th>\n",
       "      <th>is_apartment</th>\n",
       "      <th>studio</th>\n",
       "      <th>open_plan</th>\n",
       "      <th>kitchen_area</th>\n",
       "      <th>balcony</th>\n",
       "      <th>locality_name</th>\n",
       "      <th>airports_nearest</th>\n",
       "      <th>cityCenters_nearest</th>\n",
       "      <th>parks_around3000</th>\n",
       "      <th>parks_nearest</th>\n",
       "      <th>ponds_around3000</th>\n",
       "      <th>ponds_nearest</th>\n",
       "      <th>days_exposition</th>\n",
       "    </tr>\n",
       "  </thead>\n",
       "  <tbody>\n",
       "    <tr>\n",
       "      <th>0</th>\n",
       "      <td>20</td>\n",
       "      <td>13000000</td>\n",
       "      <td>108</td>\n",
       "      <td>2019-03-07</td>\n",
       "      <td>3</td>\n",
       "      <td>2.70</td>\n",
       "      <td>16</td>\n",
       "      <td>51</td>\n",
       "      <td>8</td>\n",
       "      <td>False</td>\n",
       "      <td>False</td>\n",
       "      <td>False</td>\n",
       "      <td>25</td>\n",
       "      <td>0</td>\n",
       "      <td>Санкт-Петербург</td>\n",
       "      <td>18863.0</td>\n",
       "      <td>16028.0</td>\n",
       "      <td>1.0</td>\n",
       "      <td>482.0</td>\n",
       "      <td>2.0</td>\n",
       "      <td>755.0</td>\n",
       "      <td>0</td>\n",
       "    </tr>\n",
       "    <tr>\n",
       "      <th>1</th>\n",
       "      <td>7</td>\n",
       "      <td>3350000</td>\n",
       "      <td>40</td>\n",
       "      <td>2018-12-04</td>\n",
       "      <td>1</td>\n",
       "      <td>2.65</td>\n",
       "      <td>11</td>\n",
       "      <td>18</td>\n",
       "      <td>1</td>\n",
       "      <td>False</td>\n",
       "      <td>False</td>\n",
       "      <td>False</td>\n",
       "      <td>11</td>\n",
       "      <td>2</td>\n",
       "      <td>поселок Шушары</td>\n",
       "      <td>12817.0</td>\n",
       "      <td>18603.0</td>\n",
       "      <td>0.0</td>\n",
       "      <td>NaN</td>\n",
       "      <td>0.0</td>\n",
       "      <td>NaN</td>\n",
       "      <td>81</td>\n",
       "    </tr>\n",
       "    <tr>\n",
       "      <th>2</th>\n",
       "      <td>10</td>\n",
       "      <td>5196000</td>\n",
       "      <td>56</td>\n",
       "      <td>2015-08-20</td>\n",
       "      <td>2</td>\n",
       "      <td>2.65</td>\n",
       "      <td>5</td>\n",
       "      <td>34</td>\n",
       "      <td>4</td>\n",
       "      <td>False</td>\n",
       "      <td>False</td>\n",
       "      <td>False</td>\n",
       "      <td>8</td>\n",
       "      <td>0</td>\n",
       "      <td>Санкт-Петербург</td>\n",
       "      <td>21741.0</td>\n",
       "      <td>13933.0</td>\n",
       "      <td>1.0</td>\n",
       "      <td>90.0</td>\n",
       "      <td>2.0</td>\n",
       "      <td>574.0</td>\n",
       "      <td>558</td>\n",
       "    </tr>\n",
       "    <tr>\n",
       "      <th>3</th>\n",
       "      <td>0</td>\n",
       "      <td>64900000</td>\n",
       "      <td>159</td>\n",
       "      <td>2015-07-24</td>\n",
       "      <td>3</td>\n",
       "      <td>2.65</td>\n",
       "      <td>14</td>\n",
       "      <td>45</td>\n",
       "      <td>9</td>\n",
       "      <td>False</td>\n",
       "      <td>False</td>\n",
       "      <td>False</td>\n",
       "      <td>9</td>\n",
       "      <td>0</td>\n",
       "      <td>Санкт-Петербург</td>\n",
       "      <td>28098.0</td>\n",
       "      <td>6800.0</td>\n",
       "      <td>2.0</td>\n",
       "      <td>84.0</td>\n",
       "      <td>3.0</td>\n",
       "      <td>234.0</td>\n",
       "      <td>424</td>\n",
       "    </tr>\n",
       "    <tr>\n",
       "      <th>4</th>\n",
       "      <td>2</td>\n",
       "      <td>10000000</td>\n",
       "      <td>100</td>\n",
       "      <td>2018-06-19</td>\n",
       "      <td>2</td>\n",
       "      <td>3.03</td>\n",
       "      <td>14</td>\n",
       "      <td>32</td>\n",
       "      <td>13</td>\n",
       "      <td>False</td>\n",
       "      <td>False</td>\n",
       "      <td>False</td>\n",
       "      <td>41</td>\n",
       "      <td>0</td>\n",
       "      <td>Санкт-Петербург</td>\n",
       "      <td>31856.0</td>\n",
       "      <td>8098.0</td>\n",
       "      <td>2.0</td>\n",
       "      <td>112.0</td>\n",
       "      <td>1.0</td>\n",
       "      <td>48.0</td>\n",
       "      <td>121</td>\n",
       "    </tr>\n",
       "    <tr>\n",
       "      <th>5</th>\n",
       "      <td>10</td>\n",
       "      <td>2890000</td>\n",
       "      <td>30</td>\n",
       "      <td>2018-09-10</td>\n",
       "      <td>1</td>\n",
       "      <td>2.65</td>\n",
       "      <td>12</td>\n",
       "      <td>14</td>\n",
       "      <td>5</td>\n",
       "      <td>False</td>\n",
       "      <td>False</td>\n",
       "      <td>False</td>\n",
       "      <td>9</td>\n",
       "      <td>0</td>\n",
       "      <td>городской поселок Янино-1</td>\n",
       "      <td>NaN</td>\n",
       "      <td>NaN</td>\n",
       "      <td>NaN</td>\n",
       "      <td>NaN</td>\n",
       "      <td>NaN</td>\n",
       "      <td>NaN</td>\n",
       "      <td>55</td>\n",
       "    </tr>\n",
       "    <tr>\n",
       "      <th>6</th>\n",
       "      <td>6</td>\n",
       "      <td>3700000</td>\n",
       "      <td>37</td>\n",
       "      <td>2017-11-02</td>\n",
       "      <td>1</td>\n",
       "      <td>2.65</td>\n",
       "      <td>26</td>\n",
       "      <td>10</td>\n",
       "      <td>6</td>\n",
       "      <td>False</td>\n",
       "      <td>False</td>\n",
       "      <td>False</td>\n",
       "      <td>14</td>\n",
       "      <td>1</td>\n",
       "      <td>поселок Парголово</td>\n",
       "      <td>52996.0</td>\n",
       "      <td>19143.0</td>\n",
       "      <td>0.0</td>\n",
       "      <td>NaN</td>\n",
       "      <td>0.0</td>\n",
       "      <td>NaN</td>\n",
       "      <td>155</td>\n",
       "    </tr>\n",
       "    <tr>\n",
       "      <th>7</th>\n",
       "      <td>5</td>\n",
       "      <td>7915000</td>\n",
       "      <td>71</td>\n",
       "      <td>2019-04-18</td>\n",
       "      <td>2</td>\n",
       "      <td>2.65</td>\n",
       "      <td>24</td>\n",
       "      <td>30</td>\n",
       "      <td>22</td>\n",
       "      <td>False</td>\n",
       "      <td>False</td>\n",
       "      <td>False</td>\n",
       "      <td>18</td>\n",
       "      <td>2</td>\n",
       "      <td>Санкт-Петербург</td>\n",
       "      <td>23982.0</td>\n",
       "      <td>11634.0</td>\n",
       "      <td>0.0</td>\n",
       "      <td>NaN</td>\n",
       "      <td>0.0</td>\n",
       "      <td>NaN</td>\n",
       "      <td>0</td>\n",
       "    </tr>\n",
       "    <tr>\n",
       "      <th>8</th>\n",
       "      <td>20</td>\n",
       "      <td>2900000</td>\n",
       "      <td>33</td>\n",
       "      <td>2018-05-23</td>\n",
       "      <td>1</td>\n",
       "      <td>2.65</td>\n",
       "      <td>27</td>\n",
       "      <td>15</td>\n",
       "      <td>26</td>\n",
       "      <td>False</td>\n",
       "      <td>False</td>\n",
       "      <td>False</td>\n",
       "      <td>8</td>\n",
       "      <td>0</td>\n",
       "      <td>поселок Мурино</td>\n",
       "      <td>NaN</td>\n",
       "      <td>NaN</td>\n",
       "      <td>NaN</td>\n",
       "      <td>NaN</td>\n",
       "      <td>NaN</td>\n",
       "      <td>NaN</td>\n",
       "      <td>189</td>\n",
       "    </tr>\n",
       "    <tr>\n",
       "      <th>9</th>\n",
       "      <td>18</td>\n",
       "      <td>5400000</td>\n",
       "      <td>61</td>\n",
       "      <td>2017-02-26</td>\n",
       "      <td>3</td>\n",
       "      <td>2.50</td>\n",
       "      <td>9</td>\n",
       "      <td>43</td>\n",
       "      <td>7</td>\n",
       "      <td>False</td>\n",
       "      <td>False</td>\n",
       "      <td>False</td>\n",
       "      <td>6</td>\n",
       "      <td>2</td>\n",
       "      <td>Санкт-Петербург</td>\n",
       "      <td>50898.0</td>\n",
       "      <td>15008.0</td>\n",
       "      <td>0.0</td>\n",
       "      <td>NaN</td>\n",
       "      <td>0.0</td>\n",
       "      <td>NaN</td>\n",
       "      <td>289</td>\n",
       "    </tr>\n",
       "  </tbody>\n",
       "</table>\n",
       "</div>"
      ],
      "text/plain": [
       "   total_images  last_price  total_area first_day_exposition  rooms  \\\n",
       "0            20    13000000         108           2019-03-07      3   \n",
       "1             7     3350000          40           2018-12-04      1   \n",
       "2            10     5196000          56           2015-08-20      2   \n",
       "3             0    64900000         159           2015-07-24      3   \n",
       "4             2    10000000         100           2018-06-19      2   \n",
       "5            10     2890000          30           2018-09-10      1   \n",
       "6             6     3700000          37           2017-11-02      1   \n",
       "7             5     7915000          71           2019-04-18      2   \n",
       "8            20     2900000          33           2018-05-23      1   \n",
       "9            18     5400000          61           2017-02-26      3   \n",
       "\n",
       "   ceiling_height  floors_total  living_area  floor  is_apartment  studio  \\\n",
       "0            2.70            16           51      8         False   False   \n",
       "1            2.65            11           18      1         False   False   \n",
       "2            2.65             5           34      4         False   False   \n",
       "3            2.65            14           45      9         False   False   \n",
       "4            3.03            14           32     13         False   False   \n",
       "5            2.65            12           14      5         False   False   \n",
       "6            2.65            26           10      6         False   False   \n",
       "7            2.65            24           30     22         False   False   \n",
       "8            2.65            27           15     26         False   False   \n",
       "9            2.50             9           43      7         False   False   \n",
       "\n",
       "   open_plan  kitchen_area  balcony              locality_name  \\\n",
       "0      False            25        0            Санкт-Петербург   \n",
       "1      False            11        2             поселок Шушары   \n",
       "2      False             8        0            Санкт-Петербург   \n",
       "3      False             9        0            Санкт-Петербург   \n",
       "4      False            41        0            Санкт-Петербург   \n",
       "5      False             9        0  городской поселок Янино-1   \n",
       "6      False            14        1          поселок Парголово   \n",
       "7      False            18        2            Санкт-Петербург   \n",
       "8      False             8        0             поселок Мурино   \n",
       "9      False             6        2            Санкт-Петербург   \n",
       "\n",
       "   airports_nearest  cityCenters_nearest  parks_around3000  parks_nearest  \\\n",
       "0           18863.0              16028.0               1.0          482.0   \n",
       "1           12817.0              18603.0               0.0            NaN   \n",
       "2           21741.0              13933.0               1.0           90.0   \n",
       "3           28098.0               6800.0               2.0           84.0   \n",
       "4           31856.0               8098.0               2.0          112.0   \n",
       "5               NaN                  NaN               NaN            NaN   \n",
       "6           52996.0              19143.0               0.0            NaN   \n",
       "7           23982.0              11634.0               0.0            NaN   \n",
       "8               NaN                  NaN               NaN            NaN   \n",
       "9           50898.0              15008.0               0.0            NaN   \n",
       "\n",
       "   ponds_around3000  ponds_nearest  days_exposition  \n",
       "0               2.0          755.0                0  \n",
       "1               0.0            NaN               81  \n",
       "2               2.0          574.0              558  \n",
       "3               3.0          234.0              424  \n",
       "4               1.0           48.0              121  \n",
       "5               NaN            NaN               55  \n",
       "6               0.0            NaN              155  \n",
       "7               0.0            NaN                0  \n",
       "8               NaN            NaN              189  \n",
       "9               0.0            NaN              289  "
      ]
     },
     "execution_count": 26,
     "metadata": {},
     "output_type": "execute_result"
    }
   ],
   "source": [
    "data.head(10)"
   ]
  },
  {
   "cell_type": "code",
   "execution_count": 27,
   "metadata": {},
   "outputs": [
    {
     "name": "stdout",
     "output_type": "stream",
     "text": [
      "<class 'pandas.core.frame.DataFrame'>\n",
      "Int64Index: 23559 entries, 0 to 23698\n",
      "Data columns (total 22 columns):\n",
      " #   Column                Non-Null Count  Dtype         \n",
      "---  ------                --------------  -----         \n",
      " 0   total_images          23559 non-null  int64         \n",
      " 1   last_price            23559 non-null  int64         \n",
      " 2   total_area            23559 non-null  int64         \n",
      " 3   first_day_exposition  23559 non-null  datetime64[ns]\n",
      " 4   rooms                 23559 non-null  int64         \n",
      " 5   ceiling_height        23559 non-null  float64       \n",
      " 6   floors_total          23559 non-null  int64         \n",
      " 7   living_area           23559 non-null  int64         \n",
      " 8   floor                 23559 non-null  int64         \n",
      " 9   is_apartment          23559 non-null  bool          \n",
      " 10  studio                23559 non-null  bool          \n",
      " 11  open_plan             23559 non-null  bool          \n",
      " 12  kitchen_area          23559 non-null  int64         \n",
      " 13  balcony               23559 non-null  int64         \n",
      " 14  locality_name         23559 non-null  object        \n",
      " 15  airports_nearest      18036 non-null  float64       \n",
      " 16  cityCenters_nearest   18059 non-null  float64       \n",
      " 17  parks_around3000      18060 non-null  float64       \n",
      " 18  parks_nearest         8026 non-null   float64       \n",
      " 19  ponds_around3000      18060 non-null  float64       \n",
      " 20  ponds_nearest         9032 non-null   float64       \n",
      " 21  days_exposition       23559 non-null  int64         \n",
      "dtypes: bool(3), datetime64[ns](1), float64(7), int64(10), object(1)\n",
      "memory usage: 3.7+ MB\n"
     ]
    }
   ],
   "source": [
    "data.info()"
   ]
  },
  {
   "cell_type": "markdown",
   "metadata": {},
   "source": [
    "**Вывод**\n",
    "1. Сделали столбец с датами читабельным, заменив тип данных;\n",
    "2. Округлили данные в столбцах с ценой, площадью;\n",
    "3. Убрали аномалии и пропуски в столбце с высотой потолка, заменив на медианные;\n",
    "4. Заполнили пропуски в жилой площади с учетом корреляции с количеством комнат;\n",
    "5. Заменили пропуски в столбце с балконами на 0, предположив, что владельцы не указали количество балконов из-за их отсутствия.\n",
    "Всего было удалено 140 строк, что составляет 0.5% от числа первоначальных данных, то есть не повлияет на ход исследования.\n",
    "\n",
    "NB! Часть пропусков не удалось устранить, в таких столбцах, как близость к центру, парку, водоему, поскольку нет возможности провести корреляцию и аналогичных показателей для устранения пропусков.\n",
    "Также пропуски не устранены в столбце с количеством дней размещения объявления, так как  нет информации о том, были ли сняты объявления на момент выгрузки данных. Скорее всего объявления были еще размещены.\n",
    "\n",
    "\n"
   ]
  },
  {
   "cell_type": "markdown",
   "metadata": {},
   "source": [
    "<div class=\"alert alert-block alert-success\">\n",
    " \n",
    "### Комментарий ревьюера\n",
    "    \n",
    "#### Успех\n",
    "    \n",
    "Очень хорошо, структурно и логично. \n",
    "</div "
   ]
  },
  {
   "cell_type": "markdown",
   "metadata": {},
   "source": [
    "### Посчитайте и добавьте в таблицу новые столбцы"
   ]
  },
  {
   "cell_type": "markdown",
   "metadata": {},
   "source": [
    "Добавим цену одного квадратного метра:"
   ]
  },
  {
   "cell_type": "code",
   "execution_count": 28,
   "metadata": {},
   "outputs": [],
   "source": [
    "data['price_per_square_meter'] = (data['last_price'] / data['total_area']).astype(int)\n"
   ]
  },
  {
   "cell_type": "markdown",
   "metadata": {},
   "source": [
    "Добавим день недели публикации объявления (0 — понедельник, 1 — вторник и так далее):"
   ]
  },
  {
   "cell_type": "code",
   "execution_count": 29,
   "metadata": {},
   "outputs": [],
   "source": [
    "data['weekday'] = data['first_day_exposition'].dt.weekday"
   ]
  },
  {
   "cell_type": "markdown",
   "metadata": {},
   "source": [
    "Добавим месяц публикации объявления:"
   ]
  },
  {
   "cell_type": "code",
   "execution_count": 30,
   "metadata": {},
   "outputs": [],
   "source": [
    "data['month'] = data['first_day_exposition'].dt.month"
   ]
  },
  {
   "cell_type": "markdown",
   "metadata": {},
   "source": [
    "Добавим год публикации объявления:"
   ]
  },
  {
   "cell_type": "code",
   "execution_count": 31,
   "metadata": {},
   "outputs": [],
   "source": [
    "data['year'] = data['first_day_exposition'].dt.year"
   ]
  },
  {
   "cell_type": "markdown",
   "metadata": {},
   "source": [
    "<div class=\"alert alert-block alert-success\">\n",
    " \n",
    "### Комментарий ревьюера\n",
    "    \n",
    "#### Успех\n",
    "    \n",
    "Верно выделены временные промежутки в данных. \n",
    "</div "
   ]
  },
  {
   "cell_type": "markdown",
   "metadata": {},
   "source": [
    "Добавим тип этажа квартиры (значения — «первый», «последний», «другой»):"
   ]
  },
  {
   "cell_type": "code",
   "execution_count": 32,
   "metadata": {},
   "outputs": [],
   "source": [
    "def floor_type(row):\n",
    "    floor = row['floor']\n",
    "    total_floors = row['floors_total']\n",
    "    if floor == 1:\n",
    "        return 'первый'\n",
    "    elif floor == total_floors:\n",
    "        return 'последний'\n",
    "    elif 1 < floor < total_floors:\n",
    "        return 'другой'\n",
    "\n",
    "data['floor_type'] = data.apply(floor_type, axis = 1)"
   ]
  },
  {
   "cell_type": "markdown",
   "metadata": {},
   "source": [
    "<div class=\"alert alert-block alert-success\">\n",
    " \n",
    "### Комментарий ревьюера\n",
    "    \n",
    "#### Успех\n",
    "    \n",
    "Простая, удобная и понятная функция. \n",
    "</div "
   ]
  },
  {
   "cell_type": "markdown",
   "metadata": {},
   "source": [
    "Добавим расстояние до центра города в километрах (переведем из м в км и округлим до целых значений). Поскольку в данном столбце присутствуют 5500 пропусков, то заменим их на символичные 777777, чтобы была возможность перевести данные для удобства в int:"
   ]
  },
  {
   "cell_type": "code",
   "execution_count": 33,
   "metadata": {},
   "outputs": [],
   "source": [
    "data['cityCenters_nearest_km'] = data['cityCenters_nearest']/1000"
   ]
  },
  {
   "cell_type": "code",
   "execution_count": 34,
   "metadata": {},
   "outputs": [],
   "source": [
    "data['cityCenters_nearest_km'] = data['cityCenters_nearest_km'].fillna(7777777)\n",
    "data['cityCenters_nearest_km'] = data['cityCenters_nearest_km'].astype('int')"
   ]
  },
  {
   "cell_type": "code",
   "execution_count": 35,
   "metadata": {},
   "outputs": [
    {
     "name": "stdout",
     "output_type": "stream",
     "text": [
      "<class 'pandas.core.frame.DataFrame'>\n",
      "Int64Index: 23559 entries, 0 to 23698\n",
      "Data columns (total 28 columns):\n",
      " #   Column                  Non-Null Count  Dtype         \n",
      "---  ------                  --------------  -----         \n",
      " 0   total_images            23559 non-null  int64         \n",
      " 1   last_price              23559 non-null  int64         \n",
      " 2   total_area              23559 non-null  int64         \n",
      " 3   first_day_exposition    23559 non-null  datetime64[ns]\n",
      " 4   rooms                   23559 non-null  int64         \n",
      " 5   ceiling_height          23559 non-null  float64       \n",
      " 6   floors_total            23559 non-null  int64         \n",
      " 7   living_area             23559 non-null  int64         \n",
      " 8   floor                   23559 non-null  int64         \n",
      " 9   is_apartment            23559 non-null  bool          \n",
      " 10  studio                  23559 non-null  bool          \n",
      " 11  open_plan               23559 non-null  bool          \n",
      " 12  kitchen_area            23559 non-null  int64         \n",
      " 13  balcony                 23559 non-null  int64         \n",
      " 14  locality_name           23559 non-null  object        \n",
      " 15  airports_nearest        18036 non-null  float64       \n",
      " 16  cityCenters_nearest     18059 non-null  float64       \n",
      " 17  parks_around3000        18060 non-null  float64       \n",
      " 18  parks_nearest           8026 non-null   float64       \n",
      " 19  ponds_around3000        18060 non-null  float64       \n",
      " 20  ponds_nearest           9032 non-null   float64       \n",
      " 21  days_exposition         23559 non-null  int64         \n",
      " 22  price_per_square_meter  23559 non-null  int64         \n",
      " 23  weekday                 23559 non-null  int64         \n",
      " 24  month                   23559 non-null  int64         \n",
      " 25  year                    23559 non-null  int64         \n",
      " 26  floor_type              23559 non-null  object        \n",
      " 27  cityCenters_nearest_km  23559 non-null  int64         \n",
      "dtypes: bool(3), datetime64[ns](1), float64(7), int64(15), object(2)\n",
      "memory usage: 4.7+ MB\n"
     ]
    }
   ],
   "source": [
    "data.info()"
   ]
  },
  {
   "cell_type": "markdown",
   "metadata": {},
   "source": [
    "<div class=\"alert alert-block alert-success\">\n",
    " \n",
    "### Комментарий ревьюера\n",
    "    \n",
    "#### Успех\n",
    "    \n",
    "Данные подготовлены и мы можем заниматься исследовательским анализом. \n",
    "</div "
   ]
  },
  {
   "cell_type": "markdown",
   "metadata": {},
   "source": [
    "### Проведите исследовательский анализ данных"
   ]
  },
  {
   "cell_type": "markdown",
   "metadata": {},
   "source": [
    "#### Изучим следующие параметры объектов: площадь, цена объекта, количество комнат; высота потолков.\n",
    "\n",
    "Построим отдельные гистограммы и применим describe для каждого из этих параметров.\n"
   ]
  },
  {
   "cell_type": "code",
   "execution_count": 36,
   "metadata": {},
   "outputs": [
    {
     "data": {
      "text/plain": [
       "count    23559.000000\n",
       "mean        60.100047\n",
       "std         35.671741\n",
       "min         12.000000\n",
       "25%         40.000000\n",
       "50%         52.000000\n",
       "75%         69.000000\n",
       "max        900.000000\n",
       "Name: total_area, dtype: float64"
      ]
     },
     "execution_count": 36,
     "metadata": {},
     "output_type": "execute_result"
    },
    {
     "data": {
      "image/png": "[encoded data removed]",
      "text/plain": [
       "<Figure size 576x360 with 1 Axes>"
      ]
     },
     "metadata": {
      "needs_background": "light"
     },
     "output_type": "display_data"
    }
   ],
   "source": [
    "hist_area = data.plot(y = 'total_area', kind = 'hist', bins = 100, grid=True, figsize = (8,5), range = (0,500))\n",
    "hist_area.set_xlabel('Площадь')\n",
    "hist_area.set_ylabel('Количество объявлений')\n",
    "data['total_area'].describe()"
   ]
  },
  {
   "cell_type": "code",
   "execution_count": 37,
   "metadata": {},
   "outputs": [
    {
     "data": {
      "text/plain": [
       "count    2.355900e+04\n",
       "mean     6.540265e+06\n",
       "std      1.091210e+07\n",
       "min      1.219000e+04\n",
       "25%      3.400000e+06\n",
       "50%      4.647000e+06\n",
       "75%      6.790000e+06\n",
       "max      7.630000e+08\n",
       "Name: last_price, dtype: float64"
      ]
     },
     "execution_count": 37,
     "metadata": {},
     "output_type": "execute_result"
    },
    {
     "data": {
      "image/png": "[encoded data removed]",
      "text/plain": [
       "<Figure size 576x360 with 1 Axes>"
      ]
     },
     "metadata": {
      "needs_background": "light"
     },
     "output_type": "display_data"
    }
   ],
   "source": [
    "hist_price = data.plot(y = 'last_price', kind = 'hist', bins = 50, grid=True, range = (0,15000000), figsize = (8,5))\n",
    "hist_price.set_xlabel('Цена')\n",
    "hist_price.set_ylabel('Количество объявлений')\n",
    "data['last_price'].describe()"
   ]
  },
  {
   "cell_type": "code",
   "execution_count": 38,
   "metadata": {},
   "outputs": [
    {
     "data": {
      "text/plain": [
       "count    23559.000000\n",
       "mean         2.070801\n",
       "std          1.078660\n",
       "min          0.000000\n",
       "25%          1.000000\n",
       "50%          2.000000\n",
       "75%          3.000000\n",
       "max         19.000000\n",
       "Name: rooms, dtype: float64"
      ]
     },
     "execution_count": 38,
     "metadata": {},
     "output_type": "execute_result"
    },
    {
     "data": {
      "image/png": "[encoded data removed]",
      "text/plain": [
       "<Figure size 576x360 with 1 Axes>"
      ]
     },
     "metadata": {
      "needs_background": "light"
     },
     "output_type": "display_data"
    }
   ],
   "source": [
    "hist_rooms  = data.plot(y = 'rooms', kind = 'hist', bins = 30, grid=True, figsize = (8,5))\n",
    "hist_rooms.set_xlabel('Количество комнат')\n",
    "hist_rooms.set_ylabel('Количество объявлений')\n",
    "data['rooms'].describe()"
   ]
  },
  {
   "cell_type": "code",
   "execution_count": 39,
   "metadata": {},
   "outputs": [
    {
     "data": {
      "text/plain": [
       "count    23559.000000\n",
       "mean         2.697885\n",
       "std          0.232127\n",
       "min          2.000000\n",
       "25%          2.600000\n",
       "50%          2.650000\n",
       "75%          2.700000\n",
       "max          8.300000\n",
       "Name: ceiling_height, dtype: float64"
      ]
     },
     "execution_count": 39,
     "metadata": {},
     "output_type": "execute_result"
    },
    {
     "data": {
      "image/png": "[encoded data removed]",
      "text/plain": [
       "<Figure size 576x360 with 1 Axes>"
      ]
     },
     "metadata": {
      "needs_background": "light"
     },
     "output_type": "display_data"
    }
   ],
   "source": [
    "hist_ceiling = data.plot(y = 'ceiling_height', kind = 'hist', bins = 30, range = (2,5), grid=True, figsize = (8,5))\n",
    "hist_ceiling.set_xlabel('Высота потолка')\n",
    "hist_ceiling.set_ylabel('Количество объявлений')\n",
    "data['ceiling_height'].describe()"
   ]
  },
  {
   "cell_type": "markdown",
   "metadata": {},
   "source": [
    "**Вывод**:\n",
    "1. Распределение данных нормальное, присутствуют несущественные выбросы и неадекватные значения, не влияющие на данные;\n",
    "2. У площади и цены - распределение данных Гаусса;\n",
    "3. Общая площадь колеблется от 12 до 900 кв.м., среднее значение - 60 кв.м., медиана - 52 кв.м. Преобладающее большинство недвижимости (межкартильный размах) между 40 и 69 кв.м.;\n",
    "4. Цены в среднем  - 6.5 млн.р., медиана цен - 4.6 млн.р. Большинство объявлений в ценовом диапазоне (межкартильный размах) от 3.4 до 6.8 млн. р.;\n",
    "5. Количество комнат от 1 до 19. Преобладают 1-о и 2-х комнатные квартиры;\n",
    "6. Средняя высота потолка - 2.7 м, медиана  - 2.65 м. В целом преобладающее большинство недвижимости (межкартильный размах) представлено от 2.6 до 2.7 м.\n"
   ]
  },
  {
   "cell_type": "markdown",
   "metadata": {},
   "source": [
    "<div class=\"alert alert-block alert-success\">\n",
    " \n",
    "### Комментарий ревьюера\n",
    "    \n",
    "#### Успех\n",
    "    \n",
    "Классно проработано. С выводами согласен и все по графику. \n",
    "</div "
   ]
  },
  {
   "cell_type": "markdown",
   "metadata": {},
   "source": [
    "#### Изучим, как быстро продавались квартиры\n",
    "Построим гистограмму, подсчитаем среднее и медиану.\n",
    "\n",
    "Необходимо отметить, что в столбце days_exposition представлены количества дней от публикации до снятия объявления, то есть не совсем ясны причины снятия обьявления. Они могут быть как и продажа, так и другие (отзыв объявления, автоматические ограничения по срокам и тд).\n",
    "\n",
    "Также избавимся от пустых и нулевых значений.\n"
   ]
  },
  {
   "cell_type": "code",
   "execution_count": 40,
   "metadata": {},
   "outputs": [],
   "source": [
    "good_data = data.query('days_exposition >= 1')\n"
   ]
  },
  {
   "cell_type": "code",
   "execution_count": 41,
   "metadata": {},
   "outputs": [
    {
     "data": {
      "text/plain": [
       "count    20388.000000\n",
       "mean       180.767020\n",
       "std        219.755123\n",
       "min          1.000000\n",
       "25%         45.000000\n",
       "50%         95.000000\n",
       "75%        231.000000\n",
       "max       1580.000000\n",
       "Name: days_exposition, dtype: float64"
      ]
     },
     "execution_count": 41,
     "metadata": {},
     "output_type": "execute_result"
    }
   ],
   "source": [
    "good_data['days_exposition'].describe()"
   ]
  },
  {
   "cell_type": "code",
   "execution_count": 42,
   "metadata": {
    "scrolled": true
   },
   "outputs": [
    {
     "data": {
      "text/plain": [
       "(1.0, 1600.0)"
      ]
     },
     "execution_count": 42,
     "metadata": {},
     "output_type": "execute_result"
    },
    {
     "data": {
      "image/png": "[encoded data removed]",
      "text/plain": [
       "<Figure size 432x288 with 1 Axes>"
      ]
     },
     "metadata": {
      "needs_background": "light"
     },
     "output_type": "display_data"
    }
   ],
   "source": [
    "good_data.boxplot('days_exposition')\n",
    "plt.ylim(1,1600)"
   ]
  },
  {
   "cell_type": "code",
   "execution_count": 43,
   "metadata": {},
   "outputs": [
    {
     "data": {
      "text/plain": [
       "<AxesSubplot:ylabel='Frequency'>"
      ]
     },
     "execution_count": 43,
     "metadata": {},
     "output_type": "execute_result"
    },
    {
     "data": {
      "image/png": "[encoded data removed]",
      "text/plain": [
       "<Figure size 576x360 with 1 Axes>"
      ]
     },
     "metadata": {
      "needs_background": "light"
     },
     "output_type": "display_data"
    }
   ],
   "source": [
    "good_data.plot(y='days_exposition', kind='hist', bins=400, grid=True, figsize=(8, 5))"
   ]
  },
  {
   "cell_type": "code",
   "execution_count": 44,
   "metadata": {
    "scrolled": true
   },
   "outputs": [
    {
     "data": {
      "text/plain": [
       "<AxesSubplot:ylabel='Frequency'>"
      ]
     },
     "execution_count": 44,
     "metadata": {},
     "output_type": "execute_result"
    },
    {
     "data": {
      "image/png": "[encoded data removed]",
      "text/plain": [
       "<Figure size 576x360 with 1 Axes>"
      ]
     },
     "metadata": {
      "needs_background": "light"
     },
     "output_type": "display_data"
    }
   ],
   "source": [
    "good_data.plot(y='days_exposition', kind='hist', bins=200, grid=True, range=(0, 100), figsize=(8, 5))\n"
   ]
  },
  {
   "cell_type": "markdown",
   "metadata": {},
   "source": [
    "Наблюдаются выбросы на 7, 30, 45, 60 и 90 дней, которые скорее всего зависят от правил размещения объявлений(бесплатный срок и др.). Необходимо удалить их, а также заново построить гистограммы:"
   ]
  },
  {
   "cell_type": "markdown",
   "metadata": {},
   "source": [
    "<div class=\"alert alert-block alert-success\">\n",
    " \n",
    "### Комментарий ревьюера\n",
    "    \n",
    "#### Успех\n",
    "    \n",
    "Очень хорошо, что заметил выбросы и сделал свои предположения по их поводу. \n",
    "</div "
   ]
  },
  {
   "cell_type": "code",
   "execution_count": 45,
   "metadata": {},
   "outputs": [],
   "source": [
    "good_data = good_data.query('days_exposition != 7 and days_exposition != 30 and days_exposition != 45 and days_exposition != 60 and days_exposition != 90')\n"
   ]
  },
  {
   "cell_type": "code",
   "execution_count": 46,
   "metadata": {},
   "outputs": [
    {
     "data": {
      "text/plain": [
       "count    18330.000000\n",
       "mean       195.734315\n",
       "std        226.817540\n",
       "min          1.000000\n",
       "25%         44.000000\n",
       "50%        114.000000\n",
       "75%        259.000000\n",
       "max       1580.000000\n",
       "Name: days_exposition, dtype: float64"
      ]
     },
     "execution_count": 46,
     "metadata": {},
     "output_type": "execute_result"
    }
   ],
   "source": [
    "good_data['days_exposition'].describe()"
   ]
  },
  {
   "cell_type": "code",
   "execution_count": 47,
   "metadata": {},
   "outputs": [
    {
     "data": {
      "text/plain": [
       "<AxesSubplot:ylabel='Frequency'>"
      ]
     },
     "execution_count": 47,
     "metadata": {},
     "output_type": "execute_result"
    },
    {
     "data": {
      "image/png": "[encoded data removed]",
      "text/plain": [
       "<Figure size 432x288 with 1 Axes>"
      ]
     },
     "metadata": {
      "needs_background": "light"
     },
     "output_type": "display_data"
    },
    {
     "data": {
      "image/png": "[encoded data removed]",
      "text/plain": [
       "<Figure size 576x360 with 1 Axes>"
      ]
     },
     "metadata": {
      "needs_background": "light"
     },
     "output_type": "display_data"
    },
    {
     "data": {
      "image/png": "[encoded data removed]",
      "text/plain": [
       "<Figure size 576x360 with 1 Axes>"
      ]
     },
     "metadata": {
      "needs_background": "light"
     },
     "output_type": "display_data"
    }
   ],
   "source": [
    "good_data.boxplot('days_exposition')\n",
    "plt.ylim(1,1600)\n",
    "good_data.plot(y='days_exposition', kind='hist', bins=200, grid=True, figsize=(8, 5), range = (1,1600))\n",
    "good_data.plot(y='days_exposition', kind='hist', bins=100, grid=True, figsize=(8, 5), range = (1,200))"
   ]
  },
  {
   "cell_type": "markdown",
   "metadata": {},
   "source": [
    "**Вывод:**\n",
    "1. Представлено распределение Пуассона;\n",
    "2. После удаления аномалий показатели по срокам продажи квартир: среднее - 198 дней, медиана - 114 дней, межквартильный размах - от 44 до 255 дней.\n"
   ]
  },
  {
   "cell_type": "markdown",
   "metadata": {},
   "source": [
    "<div class=\"alert alert-block alert-success\">\n",
    " \n",
    "### Комментарий ревьюера\n",
    "    \n",
    "#### Успех\n",
    "    \n",
    "Верно разобран график по дням в публикации. \n",
    "</div "
   ]
  },
  {
   "cell_type": "markdown",
   "metadata": {},
   "source": [
    "#### Изучим, какие факторы влияют на стоимость объекта\n",
    "Посмотрим корреляцию, построим сводные таблицы, графики, которые покажут зависимость цены от параметров: площадь, количество комнат, этаж и дата размещения (день недели, месяц, год)."
   ]
  },
  {
   "cell_type": "markdown",
   "metadata": {},
   "source": [
    "Сначала рассмотрим **зависимость квадратного метра от общей площади квартиры:**"
   ]
  },
  {
   "cell_type": "code",
   "execution_count": 48,
   "metadata": {},
   "outputs": [
    {
     "data": {
      "text/plain": [
       "0.31172148767105656"
      ]
     },
     "execution_count": 48,
     "metadata": {},
     "output_type": "execute_result"
    }
   ],
   "source": [
    "good_data['price_per_square_meter'].corr(good_data['total_area'])"
   ]
  },
  {
   "cell_type": "code",
   "execution_count": 49,
   "metadata": {},
   "outputs": [
    {
     "data": {
      "text/html": [
       "<div>\n",
       "<style scoped>\n",
       "    .dataframe tbody tr th:only-of-type {\n",
       "        vertical-align: middle;\n",
       "    }\n",
       "\n",
       "    .dataframe tbody tr th {\n",
       "        vertical-align: top;\n",
       "    }\n",
       "\n",
       "    .dataframe thead th {\n",
       "        text-align: right;\n",
       "    }\n",
       "</style>\n",
       "<table border=\"1\" class=\"dataframe\">\n",
       "  <thead>\n",
       "    <tr style=\"text-align: right;\">\n",
       "      <th></th>\n",
       "      <th>mean</th>\n",
       "      <th>count</th>\n",
       "      <th>median</th>\n",
       "    </tr>\n",
       "    <tr>\n",
       "      <th>total_area</th>\n",
       "      <th></th>\n",
       "      <th></th>\n",
       "      <th></th>\n",
       "    </tr>\n",
       "  </thead>\n",
       "  <tbody>\n",
       "    <tr>\n",
       "      <th>400</th>\n",
       "      <td>1907500.0</td>\n",
       "      <td>1</td>\n",
       "      <td>1907500.0</td>\n",
       "    </tr>\n",
       "    <tr>\n",
       "      <th>401</th>\n",
       "      <td>1000748.0</td>\n",
       "      <td>1</td>\n",
       "      <td>1000748.0</td>\n",
       "    </tr>\n",
       "    <tr>\n",
       "      <th>285</th>\n",
       "      <td>859649.0</td>\n",
       "      <td>1</td>\n",
       "      <td>859649.0</td>\n",
       "    </tr>\n",
       "    <tr>\n",
       "      <th>268</th>\n",
       "      <td>712201.0</td>\n",
       "      <td>1</td>\n",
       "      <td>712201.0</td>\n",
       "    </tr>\n",
       "    <tr>\n",
       "      <th>242</th>\n",
       "      <td>661090.0</td>\n",
       "      <td>1</td>\n",
       "      <td>661090.0</td>\n",
       "    </tr>\n",
       "    <tr>\n",
       "      <th>...</th>\n",
       "      <td>...</td>\n",
       "      <td>...</td>\n",
       "      <td>...</td>\n",
       "    </tr>\n",
       "    <tr>\n",
       "      <th>263</th>\n",
       "      <td>61114.0</td>\n",
       "      <td>1</td>\n",
       "      <td>61114.0</td>\n",
       "    </tr>\n",
       "    <tr>\n",
       "      <th>238</th>\n",
       "      <td>56911.0</td>\n",
       "      <td>1</td>\n",
       "      <td>56911.0</td>\n",
       "    </tr>\n",
       "    <tr>\n",
       "      <th>255</th>\n",
       "      <td>49019.0</td>\n",
       "      <td>1</td>\n",
       "      <td>49019.0</td>\n",
       "    </tr>\n",
       "    <tr>\n",
       "      <th>320</th>\n",
       "      <td>43750.0</td>\n",
       "      <td>1</td>\n",
       "      <td>43750.0</td>\n",
       "    </tr>\n",
       "    <tr>\n",
       "      <th>460</th>\n",
       "      <td>43478.0</td>\n",
       "      <td>1</td>\n",
       "      <td>43478.0</td>\n",
       "    </tr>\n",
       "  </tbody>\n",
       "</table>\n",
       "<p>295 rows × 3 columns</p>\n",
       "</div>"
      ],
      "text/plain": [
       "                 mean  count     median\n",
       "total_area                             \n",
       "400         1907500.0      1  1907500.0\n",
       "401         1000748.0      1  1000748.0\n",
       "285          859649.0      1   859649.0\n",
       "268          712201.0      1   712201.0\n",
       "242          661090.0      1   661090.0\n",
       "...               ...    ...        ...\n",
       "263           61114.0      1    61114.0\n",
       "238           56911.0      1    56911.0\n",
       "255           49019.0      1    49019.0\n",
       "320           43750.0      1    43750.0\n",
       "460           43478.0      1    43478.0\n",
       "\n",
       "[295 rows x 3 columns]"
      ]
     },
     "execution_count": 49,
     "metadata": {},
     "output_type": "execute_result"
    },
    {
     "data": {
      "image/png": "[encoded data removed]",
      "text/plain": [
       "<Figure size 432x288 with 1 Axes>"
      ]
     },
     "metadata": {
      "needs_background": "light"
     },
     "output_type": "display_data"
    }
   ],
   "source": [
    "pivot_area_meter = good_data.pivot_table(index = 'total_area', values = 'price_per_square_meter', aggfunc = ['mean', 'count', 'median'])\n",
    "pivot_area_meter.columns = ['mean', 'count', 'median']\n",
    "pivot_area_meter.plot(y = 'median', style = 'o')\n",
    "pivot_area_meter.sort_values('median', ascending = False)"
   ]
  },
  {
   "cell_type": "markdown",
   "metadata": {},
   "source": [
    "<div class=\"alert alert-block alert-success\">\n",
    " \n",
    "### Комментарий ревьюера\n",
    "    \n",
    "#### Успех\n",
    "    \n",
    "Здесь ты используешь верный способ для показания зависимости. \n",
    "</div "
   ]
  },
  {
   "cell_type": "markdown",
   "metadata": {},
   "source": [
    "**Вывод:**\n",
    "\n",
    "Корреляция между площадью квартиры и ценой за квадратный метр низкая - 0.3, но положительная, то есть чем больше площадь, тем чуть выше стоимость квадратного метра. "
   ]
  },
  {
   "cell_type": "markdown",
   "metadata": {},
   "source": [
    "Аналично проделаем с **ценой квадратного метра и количеством комнат:** "
   ]
  },
  {
   "cell_type": "code",
   "execution_count": 50,
   "metadata": {},
   "outputs": [
    {
     "data": {
      "text/plain": [
       "0.05484686690878373"
      ]
     },
     "execution_count": 50,
     "metadata": {},
     "output_type": "execute_result"
    }
   ],
   "source": [
    "good_data['rooms'].corr(good_data['price_per_square_meter'])"
   ]
  },
  {
   "cell_type": "code",
   "execution_count": 51,
   "metadata": {},
   "outputs": [
    {
     "data": {
      "text/html": [
       "<div>\n",
       "<style scoped>\n",
       "    .dataframe tbody tr th:only-of-type {\n",
       "        vertical-align: middle;\n",
       "    }\n",
       "\n",
       "    .dataframe tbody tr th {\n",
       "        vertical-align: top;\n",
       "    }\n",
       "\n",
       "    .dataframe thead th {\n",
       "        text-align: right;\n",
       "    }\n",
       "</style>\n",
       "<table border=\"1\" class=\"dataframe\">\n",
       "  <thead>\n",
       "    <tr style=\"text-align: right;\">\n",
       "      <th></th>\n",
       "      <th>mean</th>\n",
       "      <th>count</th>\n",
       "      <th>median</th>\n",
       "    </tr>\n",
       "    <tr>\n",
       "      <th>rooms</th>\n",
       "      <th></th>\n",
       "      <th></th>\n",
       "      <th></th>\n",
       "    </tr>\n",
       "  </thead>\n",
       "  <tbody>\n",
       "    <tr>\n",
       "      <th>7</th>\n",
       "      <td>163647.627119</td>\n",
       "      <td>59</td>\n",
       "      <td>108958.0</td>\n",
       "    </tr>\n",
       "    <tr>\n",
       "      <th>0</th>\n",
       "      <td>109334.726804</td>\n",
       "      <td>194</td>\n",
       "      <td>106828.5</td>\n",
       "    </tr>\n",
       "    <tr>\n",
       "      <th>1</th>\n",
       "      <td>101398.908136</td>\n",
       "      <td>8001</td>\n",
       "      <td>100555.0</td>\n",
       "    </tr>\n",
       "    <tr>\n",
       "      <th>6</th>\n",
       "      <td>140767.750000</td>\n",
       "      <td>104</td>\n",
       "      <td>99708.5</td>\n",
       "    </tr>\n",
       "    <tr>\n",
       "      <th>5</th>\n",
       "      <td>127024.781538</td>\n",
       "      <td>325</td>\n",
       "      <td>96902.0</td>\n",
       "    </tr>\n",
       "    <tr>\n",
       "      <th>2</th>\n",
       "      <td>95869.178617</td>\n",
       "      <td>7894</td>\n",
       "      <td>93181.0</td>\n",
       "    </tr>\n",
       "    <tr>\n",
       "      <th>4</th>\n",
       "      <td>110571.209898</td>\n",
       "      <td>1172</td>\n",
       "      <td>92763.5</td>\n",
       "    </tr>\n",
       "    <tr>\n",
       "      <th>3</th>\n",
       "      <td>97432.296418</td>\n",
       "      <td>5779</td>\n",
       "      <td>89333.0</td>\n",
       "    </tr>\n",
       "  </tbody>\n",
       "</table>\n",
       "</div>"
      ],
      "text/plain": [
       "                mean  count    median\n",
       "rooms                                \n",
       "7      163647.627119     59  108958.0\n",
       "0      109334.726804    194  106828.5\n",
       "1      101398.908136   8001  100555.0\n",
       "6      140767.750000    104   99708.5\n",
       "5      127024.781538    325   96902.0\n",
       "2       95869.178617   7894   93181.0\n",
       "4      110571.209898   1172   92763.5\n",
       "3       97432.296418   5779   89333.0"
      ]
     },
     "execution_count": 51,
     "metadata": {},
     "output_type": "execute_result"
    },
    {
     "data": {
      "image/png": "[encoded data removed]",
      "text/plain": [
       "<Figure size 432x288 with 1 Axes>"
      ]
     },
     "metadata": {
      "needs_background": "light"
     },
     "output_type": "display_data"
    }
   ],
   "source": [
    "pivot_rooms_meter = data.pivot_table(index = 'rooms', values = 'price_per_square_meter', aggfunc = ['mean', 'count', 'median'])\n",
    "pivot_rooms_meter.columns = ['mean', 'count', 'median']\n",
    "pivot_rooms_meter.query('count > 50').plot(y = 'median')\n",
    "\n",
    "pivot_rooms_meter.query('count > 50').sort_values('median', ascending = False)\n"
   ]
  },
  {
   "cell_type": "markdown",
   "metadata": {},
   "source": [
    "**Вывод:**\n",
    "1. Корреляция низкая;\n",
    "2. Стоимость квадратного метра уменьшается с увеличением количества комнат до 3, после - начинает расти."
   ]
  },
  {
   "cell_type": "markdown",
   "metadata": {},
   "source": [
    "<div class=\"alert alert-block alert-success\">\n",
    " \n",
    "### Комментарий ревьюера\n",
    "    \n",
    "#### Успех\n",
    "    \n",
    "И с этим не поспоришь \n",
    "</div "
   ]
  },
  {
   "cell_type": "markdown",
   "metadata": {},
   "source": [
    "**Цена квадратного метра и этаж**:"
   ]
  },
  {
   "cell_type": "code",
   "execution_count": 52,
   "metadata": {},
   "outputs": [
    {
     "data": {
      "text/html": [
       "<div>\n",
       "<style scoped>\n",
       "    .dataframe tbody tr th:only-of-type {\n",
       "        vertical-align: middle;\n",
       "    }\n",
       "\n",
       "    .dataframe tbody tr th {\n",
       "        vertical-align: top;\n",
       "    }\n",
       "\n",
       "    .dataframe thead th {\n",
       "        text-align: right;\n",
       "    }\n",
       "</style>\n",
       "<table border=\"1\" class=\"dataframe\">\n",
       "  <thead>\n",
       "    <tr style=\"text-align: right;\">\n",
       "      <th></th>\n",
       "      <th>mean</th>\n",
       "      <th>count</th>\n",
       "      <th>median</th>\n",
       "    </tr>\n",
       "    <tr>\n",
       "      <th>floor_type</th>\n",
       "      <th></th>\n",
       "      <th></th>\n",
       "      <th></th>\n",
       "    </tr>\n",
       "  </thead>\n",
       "  <tbody>\n",
       "    <tr>\n",
       "      <th>другой</th>\n",
       "      <td>102713.594115</td>\n",
       "      <td>13595</td>\n",
       "      <td>97619</td>\n",
       "    </tr>\n",
       "    <tr>\n",
       "      <th>первый</th>\n",
       "      <td>81418.282028</td>\n",
       "      <td>2209</td>\n",
       "      <td>81355</td>\n",
       "    </tr>\n",
       "    <tr>\n",
       "      <th>последний</th>\n",
       "      <td>93645.668250</td>\n",
       "      <td>2526</td>\n",
       "      <td>88706</td>\n",
       "    </tr>\n",
       "  </tbody>\n",
       "</table>\n",
       "</div>"
      ],
      "text/plain": [
       "                     mean  count  median\n",
       "floor_type                              \n",
       "другой      102713.594115  13595   97619\n",
       "первый       81418.282028   2209   81355\n",
       "последний    93645.668250   2526   88706"
      ]
     },
     "execution_count": 52,
     "metadata": {},
     "output_type": "execute_result"
    },
    {
     "data": {
      "image/png": "[encoded data removed]",
      "text/plain": [
       "<Figure size 432x288 with 1 Axes>"
      ]
     },
     "metadata": {
      "needs_background": "light"
     },
     "output_type": "display_data"
    }
   ],
   "source": [
    "pivot_floor_meter = good_data.pivot_table(index = 'floor_type', values = 'price_per_square_meter', aggfunc = ['mean', 'count', 'median'])\n",
    "pivot_floor_meter.columns = ['mean', 'count', 'median']\n",
    "pivot_floor_meter.plot(y = 'median')\n",
    "pivot_floor_meter"
   ]
  },
  {
   "cell_type": "markdown",
   "metadata": {},
   "source": [
    "**Вывод:**\n",
    "Самые дешевые квартиры на первом этаже, затем - на последнем, а в последнюю очередь на остальных этажах."
   ]
  },
  {
   "cell_type": "markdown",
   "metadata": {},
   "source": [
    "<div class=\"alert alert-block alert-success\">\n",
    " \n",
    "### Комментарий ревьюера\n",
    "    \n",
    "#### Успех\n",
    "    \n",
    "Квартиры на первом этаже пользуются наименьшим спросом. \n",
    "</div "
   ]
  },
  {
   "cell_type": "markdown",
   "metadata": {},
   "source": [
    "**Цена квадратного метра и день размещения:**"
   ]
  },
  {
   "cell_type": "code",
   "execution_count": 53,
   "metadata": {},
   "outputs": [
    {
     "data": {
      "text/html": [
       "<div>\n",
       "<style scoped>\n",
       "    .dataframe tbody tr th:only-of-type {\n",
       "        vertical-align: middle;\n",
       "    }\n",
       "\n",
       "    .dataframe tbody tr th {\n",
       "        vertical-align: top;\n",
       "    }\n",
       "\n",
       "    .dataframe thead th {\n",
       "        text-align: right;\n",
       "    }\n",
       "</style>\n",
       "<table border=\"1\" class=\"dataframe\">\n",
       "  <thead>\n",
       "    <tr style=\"text-align: right;\">\n",
       "      <th></th>\n",
       "      <th>mean</th>\n",
       "      <th>count</th>\n",
       "      <th>median</th>\n",
       "    </tr>\n",
       "    <tr>\n",
       "      <th>weekday</th>\n",
       "      <th></th>\n",
       "      <th></th>\n",
       "      <th></th>\n",
       "    </tr>\n",
       "  </thead>\n",
       "  <tbody>\n",
       "    <tr>\n",
       "      <th>2</th>\n",
       "      <td>99214.269104</td>\n",
       "      <td>3036</td>\n",
       "      <td>95238.0</td>\n",
       "    </tr>\n",
       "    <tr>\n",
       "      <th>3</th>\n",
       "      <td>99534.453369</td>\n",
       "      <td>3399</td>\n",
       "      <td>95000.0</td>\n",
       "    </tr>\n",
       "    <tr>\n",
       "      <th>1</th>\n",
       "      <td>98789.341667</td>\n",
       "      <td>3240</td>\n",
       "      <td>94962.0</td>\n",
       "    </tr>\n",
       "    <tr>\n",
       "      <th>0</th>\n",
       "      <td>98944.098648</td>\n",
       "      <td>2737</td>\n",
       "      <td>94883.0</td>\n",
       "    </tr>\n",
       "    <tr>\n",
       "      <th>4</th>\n",
       "      <td>98282.829987</td>\n",
       "      <td>3188</td>\n",
       "      <td>94285.0</td>\n",
       "    </tr>\n",
       "    <tr>\n",
       "      <th>6</th>\n",
       "      <td>97250.637224</td>\n",
       "      <td>1268</td>\n",
       "      <td>93732.0</td>\n",
       "    </tr>\n",
       "    <tr>\n",
       "      <th>5</th>\n",
       "      <td>99681.389877</td>\n",
       "      <td>1462</td>\n",
       "      <td>93568.5</td>\n",
       "    </tr>\n",
       "  </tbody>\n",
       "</table>\n",
       "</div>"
      ],
      "text/plain": [
       "                 mean  count   median\n",
       "weekday                              \n",
       "2        99214.269104   3036  95238.0\n",
       "3        99534.453369   3399  95000.0\n",
       "1        98789.341667   3240  94962.0\n",
       "0        98944.098648   2737  94883.0\n",
       "4        98282.829987   3188  94285.0\n",
       "6        97250.637224   1268  93732.0\n",
       "5        99681.389877   1462  93568.5"
      ]
     },
     "execution_count": 53,
     "metadata": {},
     "output_type": "execute_result"
    },
    {
     "data": {
      "image/png": "[encoded data removed]",
      "text/plain": [
       "<Figure size 432x288 with 1 Axes>"
      ]
     },
     "metadata": {
      "needs_background": "light"
     },
     "output_type": "display_data"
    }
   ],
   "source": [
    "pivot_weekday_meter = good_data.pivot_table(index = 'weekday', values = 'price_per_square_meter', aggfunc = ['mean', 'count', 'median'])\n",
    "pivot_weekday_meter.columns = ['mean', 'count', 'median']\n",
    "pivot_weekday_meter.plot(y = 'median')\n",
    "\n",
    "pivot_weekday_meter.sort_values('median', ascending = False)"
   ]
  },
  {
   "cell_type": "markdown",
   "metadata": {},
   "source": [
    "**Вывод:**\n",
    "1. Выставленные в среду квартиры дороже, но стоимость падает ближе к субботе, когда стоимость самая минимальная;\n",
    "2. Можно предположить, что уменьшение стоимости происходит из-за низкого спроса, то есть продавцы снижают стоимость квартир. А также это можно связать с тем, что размещение объявлений происходит в начале рабочей недели.\n"
   ]
  },
  {
   "cell_type": "markdown",
   "metadata": {},
   "source": [
    "<div class=\"alert alert-block alert-success\">\n",
    " \n",
    "### Комментарий ревьюера\n",
    "    \n",
    "#### Успех\n",
    "    \n",
    "Здесь заметно, что выходные являются причиной просадки публикуемых объявлений. \n",
    "</div "
   ]
  },
  {
   "cell_type": "markdown",
   "metadata": {},
   "source": [
    "**Цена квадратного метра и месяц размещения:**"
   ]
  },
  {
   "cell_type": "code",
   "execution_count": 54,
   "metadata": {},
   "outputs": [
    {
     "data": {
      "text/html": [
       "<div>\n",
       "<style scoped>\n",
       "    .dataframe tbody tr th:only-of-type {\n",
       "        vertical-align: middle;\n",
       "    }\n",
       "\n",
       "    .dataframe tbody tr th {\n",
       "        vertical-align: top;\n",
       "    }\n",
       "\n",
       "    .dataframe thead th {\n",
       "        text-align: right;\n",
       "    }\n",
       "</style>\n",
       "<table border=\"1\" class=\"dataframe\">\n",
       "  <thead>\n",
       "    <tr style=\"text-align: right;\">\n",
       "      <th></th>\n",
       "      <th>mean</th>\n",
       "      <th>count</th>\n",
       "      <th>median</th>\n",
       "    </tr>\n",
       "    <tr>\n",
       "      <th>month</th>\n",
       "      <th></th>\n",
       "      <th></th>\n",
       "      <th></th>\n",
       "    </tr>\n",
       "  </thead>\n",
       "  <tbody>\n",
       "    <tr>\n",
       "      <th>8</th>\n",
       "      <td>100190.839532</td>\n",
       "      <td>1452</td>\n",
       "      <td>96449.0</td>\n",
       "    </tr>\n",
       "    <tr>\n",
       "      <th>1</th>\n",
       "      <td>100402.349776</td>\n",
       "      <td>1115</td>\n",
       "      <td>96250.0</td>\n",
       "    </tr>\n",
       "    <tr>\n",
       "      <th>9</th>\n",
       "      <td>100846.250892</td>\n",
       "      <td>1682</td>\n",
       "      <td>96026.0</td>\n",
       "    </tr>\n",
       "    <tr>\n",
       "      <th>11</th>\n",
       "      <td>98501.477238</td>\n",
       "      <td>1955</td>\n",
       "      <td>95238.0</td>\n",
       "    </tr>\n",
       "    <tr>\n",
       "      <th>2</th>\n",
       "      <td>98495.981095</td>\n",
       "      <td>2010</td>\n",
       "      <td>94915.0</td>\n",
       "    </tr>\n",
       "    <tr>\n",
       "      <th>10</th>\n",
       "      <td>97198.874858</td>\n",
       "      <td>1766</td>\n",
       "      <td>94444.0</td>\n",
       "    </tr>\n",
       "    <tr>\n",
       "      <th>7</th>\n",
       "      <td>99573.352347</td>\n",
       "      <td>1385</td>\n",
       "      <td>94363.0</td>\n",
       "    </tr>\n",
       "    <tr>\n",
       "      <th>12</th>\n",
       "      <td>99011.583201</td>\n",
       "      <td>1262</td>\n",
       "      <td>93889.5</td>\n",
       "    </tr>\n",
       "    <tr>\n",
       "      <th>3</th>\n",
       "      <td>97088.642534</td>\n",
       "      <td>1768</td>\n",
       "      <td>93750.0</td>\n",
       "    </tr>\n",
       "    <tr>\n",
       "      <th>5</th>\n",
       "      <td>99102.185646</td>\n",
       "      <td>1045</td>\n",
       "      <td>93589.0</td>\n",
       "    </tr>\n",
       "    <tr>\n",
       "      <th>4</th>\n",
       "      <td>99551.721902</td>\n",
       "      <td>1388</td>\n",
       "      <td>93449.5</td>\n",
       "    </tr>\n",
       "    <tr>\n",
       "      <th>6</th>\n",
       "      <td>98062.326232</td>\n",
       "      <td>1502</td>\n",
       "      <td>93377.0</td>\n",
       "    </tr>\n",
       "  </tbody>\n",
       "</table>\n",
       "</div>"
      ],
      "text/plain": [
       "                mean  count   median\n",
       "month                               \n",
       "8      100190.839532   1452  96449.0\n",
       "1      100402.349776   1115  96250.0\n",
       "9      100846.250892   1682  96026.0\n",
       "11      98501.477238   1955  95238.0\n",
       "2       98495.981095   2010  94915.0\n",
       "10      97198.874858   1766  94444.0\n",
       "7       99573.352347   1385  94363.0\n",
       "12      99011.583201   1262  93889.5\n",
       "3       97088.642534   1768  93750.0\n",
       "5       99102.185646   1045  93589.0\n",
       "4       99551.721902   1388  93449.5\n",
       "6       98062.326232   1502  93377.0"
      ]
     },
     "execution_count": 54,
     "metadata": {},
     "output_type": "execute_result"
    },
    {
     "data": {
      "image/png": "[encoded data removed]",
      "text/plain": [
       "<Figure size 432x288 with 1 Axes>"
      ]
     },
     "metadata": {
      "needs_background": "light"
     },
     "output_type": "display_data"
    }
   ],
   "source": [
    "pivot_month_meter = good_data.pivot_table(index = 'month', values = 'price_per_square_meter', aggfunc = ['mean', 'count', 'median'])\n",
    "pivot_month_meter.columns = ['mean', 'count', 'median']\n",
    "pivot_month_meter.plot(y = 'median')\n",
    "\n",
    "pivot_month_meter.sort_values('median', ascending = False)"
   ]
  },
  {
   "cell_type": "markdown",
   "metadata": {},
   "source": [
    "**Вывод:**\n",
    "1. Самая низкая стоимость квартир приходится на апрель - июнь;\n",
    "2. Самая высокая стоимость в январе и августе, то есть невыгодные месяцы для покупки;\n",
    "3. Можно предположить, что цены зависят от сезона. Снижение цен на протяжении весны и к концу декабря может зависеть от: отпусков, решения людей к релокации (студенты, например) и др."
   ]
  },
  {
   "cell_type": "markdown",
   "metadata": {},
   "source": [
    "<div class=\"alert alert-block alert-success\">\n",
    " \n",
    "### Комментарий ревьюера\n",
    "    \n",
    "#### Успех\n",
    "    \n",
    "Месяцы с большим количеством праздников тоже влияют. \n",
    "</div "
   ]
  },
  {
   "cell_type": "markdown",
   "metadata": {},
   "source": [
    "**Цена квадратного метра и год размещения:**"
   ]
  },
  {
   "cell_type": "code",
   "execution_count": 55,
   "metadata": {},
   "outputs": [
    {
     "data": {
      "text/html": [
       "<div>\n",
       "<style scoped>\n",
       "    .dataframe tbody tr th:only-of-type {\n",
       "        vertical-align: middle;\n",
       "    }\n",
       "\n",
       "    .dataframe tbody tr th {\n",
       "        vertical-align: top;\n",
       "    }\n",
       "\n",
       "    .dataframe thead th {\n",
       "        text-align: right;\n",
       "    }\n",
       "</style>\n",
       "<table border=\"1\" class=\"dataframe\">\n",
       "  <thead>\n",
       "    <tr style=\"text-align: right;\">\n",
       "      <th></th>\n",
       "      <th>mean</th>\n",
       "      <th>count</th>\n",
       "      <th>median</th>\n",
       "    </tr>\n",
       "    <tr>\n",
       "      <th>year</th>\n",
       "      <th></th>\n",
       "      <th></th>\n",
       "      <th></th>\n",
       "    </tr>\n",
       "  </thead>\n",
       "  <tbody>\n",
       "    <tr>\n",
       "      <th>2014</th>\n",
       "      <td>120448.364407</td>\n",
       "      <td>118</td>\n",
       "      <td>105477.0</td>\n",
       "    </tr>\n",
       "    <tr>\n",
       "      <th>2019</th>\n",
       "      <td>107268.045210</td>\n",
       "      <td>929</td>\n",
       "      <td>105000.0</td>\n",
       "    </tr>\n",
       "    <tr>\n",
       "      <th>2018</th>\n",
       "      <td>98228.840304</td>\n",
       "      <td>6456</td>\n",
       "      <td>96296.0</td>\n",
       "    </tr>\n",
       "    <tr>\n",
       "      <th>2017</th>\n",
       "      <td>97639.292618</td>\n",
       "      <td>7180</td>\n",
       "      <td>93165.5</td>\n",
       "    </tr>\n",
       "    <tr>\n",
       "      <th>2015</th>\n",
       "      <td>102874.666058</td>\n",
       "      <td>1096</td>\n",
       "      <td>92821.0</td>\n",
       "    </tr>\n",
       "    <tr>\n",
       "      <th>2016</th>\n",
       "      <td>98377.963936</td>\n",
       "      <td>2551</td>\n",
       "      <td>92187.0</td>\n",
       "    </tr>\n",
       "  </tbody>\n",
       "</table>\n",
       "</div>"
      ],
      "text/plain": [
       "               mean  count    median\n",
       "year                                \n",
       "2014  120448.364407    118  105477.0\n",
       "2019  107268.045210    929  105000.0\n",
       "2018   98228.840304   6456   96296.0\n",
       "2017   97639.292618   7180   93165.5\n",
       "2015  102874.666058   1096   92821.0\n",
       "2016   98377.963936   2551   92187.0"
      ]
     },
     "execution_count": 55,
     "metadata": {},
     "output_type": "execute_result"
    },
    {
     "data": {
      "image/png": "[encoded data removed]",
      "text/plain": [
       "<Figure size 432x288 with 1 Axes>"
      ]
     },
     "metadata": {
      "needs_background": "light"
     },
     "output_type": "display_data"
    }
   ],
   "source": [
    "pivot_year_meter = good_data.pivot_table(index = 'year', values = 'price_per_square_meter', aggfunc = ['mean', 'count', 'median'])\n",
    "pivot_year_meter.columns = ['mean', 'count', 'median']\n",
    "pivot_year_meter.plot(y = 'median')\n",
    "\n",
    "pivot_year_meter.sort_values('median', ascending = False)"
   ]
  },
  {
   "cell_type": "markdown",
   "metadata": {},
   "source": [
    "**Вывод:**\n",
    "1. Цены в среднем падали на протяжении 2014 - 2016 гг., с 2016 по 2019 гг. заметен рост до прежних позиций;\n",
    "2. Можно  связать данное падение с валютным кризисом 2014 года, однако также необходимо отметить, что за 2014 год малое количество объявлений, то есть валидность выборки под сомнением. \n"
   ]
  },
  {
   "cell_type": "markdown",
   "metadata": {},
   "source": [
    "#### Посчитаем среднюю цену одного квадратного метра в 10 населённых пунктах с наибольшим числом объявлений. \n",
    "Выделим населённые пункты с самой высокой и низкой стоимостью квадратного метра."
   ]
  },
  {
   "cell_type": "code",
   "execution_count": 56,
   "metadata": {
    "scrolled": true
   },
   "outputs": [
    {
     "data": {
      "text/html": [
       "<div>\n",
       "<style scoped>\n",
       "    .dataframe tbody tr th:only-of-type {\n",
       "        vertical-align: middle;\n",
       "    }\n",
       "\n",
       "    .dataframe tbody tr th {\n",
       "        vertical-align: top;\n",
       "    }\n",
       "\n",
       "    .dataframe thead th {\n",
       "        text-align: right;\n",
       "    }\n",
       "</style>\n",
       "<table border=\"1\" class=\"dataframe\">\n",
       "  <thead>\n",
       "    <tr style=\"text-align: right;\">\n",
       "      <th></th>\n",
       "      <th>count</th>\n",
       "      <th>mean</th>\n",
       "    </tr>\n",
       "    <tr>\n",
       "      <th>locality_name</th>\n",
       "      <th></th>\n",
       "      <th></th>\n",
       "    </tr>\n",
       "  </thead>\n",
       "  <tbody>\n",
       "    <tr>\n",
       "      <th>Санкт-Петербург</th>\n",
       "      <td>12353</td>\n",
       "      <td>112822.285275</td>\n",
       "    </tr>\n",
       "    <tr>\n",
       "      <th>поселок Мурино</th>\n",
       "      <td>499</td>\n",
       "      <td>86150.563126</td>\n",
       "    </tr>\n",
       "    <tr>\n",
       "      <th>поселок Шушары</th>\n",
       "      <td>358</td>\n",
       "      <td>78418.555866</td>\n",
       "    </tr>\n",
       "    <tr>\n",
       "      <th>Всеволожск</th>\n",
       "      <td>305</td>\n",
       "      <td>68934.265574</td>\n",
       "    </tr>\n",
       "    <tr>\n",
       "      <th>Пушкин</th>\n",
       "      <td>283</td>\n",
       "      <td>103192.455830</td>\n",
       "    </tr>\n",
       "    <tr>\n",
       "      <th>Колпино</th>\n",
       "      <td>273</td>\n",
       "      <td>75466.509158</td>\n",
       "    </tr>\n",
       "    <tr>\n",
       "      <th>деревня Кудрово</th>\n",
       "      <td>265</td>\n",
       "      <td>92762.973585</td>\n",
       "    </tr>\n",
       "    <tr>\n",
       "      <th>поселок Парголово</th>\n",
       "      <td>261</td>\n",
       "      <td>90266.011494</td>\n",
       "    </tr>\n",
       "    <tr>\n",
       "      <th>Гатчина</th>\n",
       "      <td>241</td>\n",
       "      <td>67613.248963</td>\n",
       "    </tr>\n",
       "    <tr>\n",
       "      <th>Выборг</th>\n",
       "      <td>178</td>\n",
       "      <td>57124.056180</td>\n",
       "    </tr>\n",
       "  </tbody>\n",
       "</table>\n",
       "</div>"
      ],
      "text/plain": [
       "                   count           mean\n",
       "locality_name                          \n",
       "Санкт-Петербург    12353  112822.285275\n",
       "поселок Мурино       499   86150.563126\n",
       "поселок Шушары       358   78418.555866\n",
       "Всеволожск           305   68934.265574\n",
       "Пушкин               283  103192.455830\n",
       "Колпино              273   75466.509158\n",
       "деревня Кудрово      265   92762.973585\n",
       "поселок Парголово    261   90266.011494\n",
       "Гатчина              241   67613.248963\n",
       "Выборг               178   57124.056180"
      ]
     },
     "execution_count": 56,
     "metadata": {},
     "output_type": "execute_result"
    }
   ],
   "source": [
    "pivot_locality_meter = good_data.pivot_table(index = 'locality_name', values = 'price_per_square_meter', aggfunc=['count', 'mean'])\n",
    "pivot_locality_meter.columns = ['count', 'mean']\n",
    "pivot_locality_meter = pivot_locality_meter.sort_values('count', ascending = False).head(10)\n",
    "pivot_locality_meter"
   ]
  },
  {
   "cell_type": "markdown",
   "metadata": {},
   "source": [
    "<div class=\"alert alert-block alert-success\">\n",
    " \n",
    "### Комментарий ревьюера\n",
    "    \n",
    "#### Успех\n",
    "    \n",
    "Рейтинг топ-10 составлен. \n",
    "</div "
   ]
  },
  {
   "cell_type": "markdown",
   "metadata": {},
   "source": [
    "Населенный пункт с самой высокой стоимостью квадратного метра:"
   ]
  },
  {
   "cell_type": "code",
   "execution_count": 57,
   "metadata": {},
   "outputs": [
    {
     "data": {
      "text/html": [
       "<div>\n",
       "<style scoped>\n",
       "    .dataframe tbody tr th:only-of-type {\n",
       "        vertical-align: middle;\n",
       "    }\n",
       "\n",
       "    .dataframe tbody tr th {\n",
       "        vertical-align: top;\n",
       "    }\n",
       "\n",
       "    .dataframe thead th {\n",
       "        text-align: right;\n",
       "    }\n",
       "</style>\n",
       "<table border=\"1\" class=\"dataframe\">\n",
       "  <thead>\n",
       "    <tr style=\"text-align: right;\">\n",
       "      <th></th>\n",
       "      <th>count</th>\n",
       "      <th>mean</th>\n",
       "    </tr>\n",
       "    <tr>\n",
       "      <th>locality_name</th>\n",
       "      <th></th>\n",
       "      <th></th>\n",
       "    </tr>\n",
       "  </thead>\n",
       "  <tbody>\n",
       "    <tr>\n",
       "      <th>Санкт-Петербург</th>\n",
       "      <td>12353</td>\n",
       "      <td>112822.285275</td>\n",
       "    </tr>\n",
       "  </tbody>\n",
       "</table>\n",
       "</div>"
      ],
      "text/plain": [
       "                 count           mean\n",
       "locality_name                        \n",
       "Санкт-Петербург  12353  112822.285275"
      ]
     },
     "execution_count": 57,
     "metadata": {},
     "output_type": "execute_result"
    }
   ],
   "source": [
    "pivot_locality_meter[pivot_locality_meter['mean']==pivot_locality_meter['mean'].max()]"
   ]
  },
  {
   "cell_type": "markdown",
   "metadata": {},
   "source": [
    "Населенный пункт с самой низкой стоимостью квадратного метра:"
   ]
  },
  {
   "cell_type": "code",
   "execution_count": 58,
   "metadata": {},
   "outputs": [
    {
     "data": {
      "text/html": [
       "<div>\n",
       "<style scoped>\n",
       "    .dataframe tbody tr th:only-of-type {\n",
       "        vertical-align: middle;\n",
       "    }\n",
       "\n",
       "    .dataframe tbody tr th {\n",
       "        vertical-align: top;\n",
       "    }\n",
       "\n",
       "    .dataframe thead th {\n",
       "        text-align: right;\n",
       "    }\n",
       "</style>\n",
       "<table border=\"1\" class=\"dataframe\">\n",
       "  <thead>\n",
       "    <tr style=\"text-align: right;\">\n",
       "      <th></th>\n",
       "      <th>count</th>\n",
       "      <th>mean</th>\n",
       "    </tr>\n",
       "    <tr>\n",
       "      <th>locality_name</th>\n",
       "      <th></th>\n",
       "      <th></th>\n",
       "    </tr>\n",
       "  </thead>\n",
       "  <tbody>\n",
       "    <tr>\n",
       "      <th>Выборг</th>\n",
       "      <td>178</td>\n",
       "      <td>57124.05618</td>\n",
       "    </tr>\n",
       "  </tbody>\n",
       "</table>\n",
       "</div>"
      ],
      "text/plain": [
       "               count         mean\n",
       "locality_name                    \n",
       "Выборг           178  57124.05618"
      ]
     },
     "execution_count": 58,
     "metadata": {},
     "output_type": "execute_result"
    }
   ],
   "source": [
    "pivot_locality_meter[pivot_locality_meter['mean']==pivot_locality_meter['mean'].min()]"
   ]
  },
  {
   "cell_type": "markdown",
   "metadata": {},
   "source": [
    "**Вывод:**\n",
    "1. Самая высокая стоимость в Санкт-Петербурге, низкая - Выборг;\n",
    "2. Необходимо отметить, что в Санкт-Петербурге наибольшее количество объявлений (что не удивительно), в Выборге - наоборот."
   ]
  },
  {
   "cell_type": "markdown",
   "metadata": {},
   "source": [
    "#### Подсчитаем и опишем, как стоимость объектов в Санк-Петербурге зависит от расстояния до центра города.\n",
    "Необходимо выделить квартиры в Санкт-Петербурге с помощью столбца locality_name и вычислите среднюю цену каждого километра.\n",
    "Выше мы округляли до целых значений столбец cityCenters_nearest_km и заполняли пропуски символичными 7777777, поэтому последние не нужно использовать."
   ]
  },
  {
   "cell_type": "code",
   "execution_count": 59,
   "metadata": {
    "scrolled": true
   },
   "outputs": [
    {
     "data": {
      "text/html": [
       "<div>\n",
       "<style scoped>\n",
       "    .dataframe tbody tr th:only-of-type {\n",
       "        vertical-align: middle;\n",
       "    }\n",
       "\n",
       "    .dataframe tbody tr th {\n",
       "        vertical-align: top;\n",
       "    }\n",
       "\n",
       "    .dataframe thead th {\n",
       "        text-align: right;\n",
       "    }\n",
       "</style>\n",
       "<table border=\"1\" class=\"dataframe\">\n",
       "  <thead>\n",
       "    <tr style=\"text-align: right;\">\n",
       "      <th></th>\n",
       "      <th>price_per_square_meter</th>\n",
       "    </tr>\n",
       "    <tr>\n",
       "      <th>cityCenters_nearest_km</th>\n",
       "      <th></th>\n",
       "    </tr>\n",
       "  </thead>\n",
       "  <tbody>\n",
       "    <tr>\n",
       "      <th>0</th>\n",
       "      <td>187716.674419</td>\n",
       "    </tr>\n",
       "    <tr>\n",
       "      <th>1</th>\n",
       "      <td>166970.441667</td>\n",
       "    </tr>\n",
       "    <tr>\n",
       "      <th>2</th>\n",
       "      <td>147016.651466</td>\n",
       "    </tr>\n",
       "    <tr>\n",
       "      <th>3</th>\n",
       "      <td>129939.314885</td>\n",
       "    </tr>\n",
       "    <tr>\n",
       "      <th>4</th>\n",
       "      <td>137850.312292</td>\n",
       "    </tr>\n",
       "    <tr>\n",
       "      <th>5</th>\n",
       "      <td>147435.315104</td>\n",
       "    </tr>\n",
       "    <tr>\n",
       "      <th>6</th>\n",
       "      <td>152774.836170</td>\n",
       "    </tr>\n",
       "    <tr>\n",
       "      <th>7</th>\n",
       "      <td>141884.238329</td>\n",
       "    </tr>\n",
       "    <tr>\n",
       "      <th>8</th>\n",
       "      <td>120339.599099</td>\n",
       "    </tr>\n",
       "    <tr>\n",
       "      <th>9</th>\n",
       "      <td>110513.013081</td>\n",
       "    </tr>\n",
       "    <tr>\n",
       "      <th>10</th>\n",
       "      <td>112019.243392</td>\n",
       "    </tr>\n",
       "    <tr>\n",
       "      <th>11</th>\n",
       "      <td>107172.110874</td>\n",
       "    </tr>\n",
       "    <tr>\n",
       "      <th>12</th>\n",
       "      <td>108819.060265</td>\n",
       "    </tr>\n",
       "    <tr>\n",
       "      <th>13</th>\n",
       "      <td>107626.993548</td>\n",
       "    </tr>\n",
       "    <tr>\n",
       "      <th>14</th>\n",
       "      <td>105494.522289</td>\n",
       "    </tr>\n",
       "    <tr>\n",
       "      <th>15</th>\n",
       "      <td>102348.266764</td>\n",
       "    </tr>\n",
       "    <tr>\n",
       "      <th>16</th>\n",
       "      <td>100616.417195</td>\n",
       "    </tr>\n",
       "    <tr>\n",
       "      <th>17</th>\n",
       "      <td>95148.007678</td>\n",
       "    </tr>\n",
       "    <tr>\n",
       "      <th>18</th>\n",
       "      <td>95309.664740</td>\n",
       "    </tr>\n",
       "    <tr>\n",
       "      <th>19</th>\n",
       "      <td>96168.865854</td>\n",
       "    </tr>\n",
       "    <tr>\n",
       "      <th>20</th>\n",
       "      <td>107685.168675</td>\n",
       "    </tr>\n",
       "    <tr>\n",
       "      <th>21</th>\n",
       "      <td>91947.097436</td>\n",
       "    </tr>\n",
       "    <tr>\n",
       "      <th>22</th>\n",
       "      <td>89035.294964</td>\n",
       "    </tr>\n",
       "    <tr>\n",
       "      <th>23</th>\n",
       "      <td>93251.800000</td>\n",
       "    </tr>\n",
       "    <tr>\n",
       "      <th>24</th>\n",
       "      <td>83176.227273</td>\n",
       "    </tr>\n",
       "    <tr>\n",
       "      <th>25</th>\n",
       "      <td>91212.723077</td>\n",
       "    </tr>\n",
       "    <tr>\n",
       "      <th>26</th>\n",
       "      <td>75171.333333</td>\n",
       "    </tr>\n",
       "    <tr>\n",
       "      <th>27</th>\n",
       "      <td>132115.000000</td>\n",
       "    </tr>\n",
       "    <tr>\n",
       "      <th>28</th>\n",
       "      <td>81943.700000</td>\n",
       "    </tr>\n",
       "    <tr>\n",
       "      <th>29</th>\n",
       "      <td>63011.333333</td>\n",
       "    </tr>\n",
       "  </tbody>\n",
       "</table>\n",
       "</div>"
      ],
      "text/plain": [
       "                        price_per_square_meter\n",
       "cityCenters_nearest_km                        \n",
       "0                                187716.674419\n",
       "1                                166970.441667\n",
       "2                                147016.651466\n",
       "3                                129939.314885\n",
       "4                                137850.312292\n",
       "5                                147435.315104\n",
       "6                                152774.836170\n",
       "7                                141884.238329\n",
       "8                                120339.599099\n",
       "9                                110513.013081\n",
       "10                               112019.243392\n",
       "11                               107172.110874\n",
       "12                               108819.060265\n",
       "13                               107626.993548\n",
       "14                               105494.522289\n",
       "15                               102348.266764\n",
       "16                               100616.417195\n",
       "17                                95148.007678\n",
       "18                                95309.664740\n",
       "19                                96168.865854\n",
       "20                               107685.168675\n",
       "21                                91947.097436\n",
       "22                                89035.294964\n",
       "23                                93251.800000\n",
       "24                                83176.227273\n",
       "25                                91212.723077\n",
       "26                                75171.333333\n",
       "27                               132115.000000\n",
       "28                                81943.700000\n",
       "29                                63011.333333"
      ]
     },
     "execution_count": 59,
     "metadata": {},
     "output_type": "execute_result"
    }
   ],
   "source": [
    "pivot_km_spb = data.query('locality_name == \"Санкт-Петербург\" and cityCenters_nearest_km !=7777777').pivot_table(index = 'cityCenters_nearest_km', values = 'price_per_square_meter', aggfunc = 'mean')\n",
    "pivot_km_spb"
   ]
  },
  {
   "cell_type": "code",
   "execution_count": 60,
   "metadata": {},
   "outputs": [
    {
     "data": {
      "text/plain": [
       "<AxesSubplot:xlabel='cityCenters_nearest_km'>"
      ]
     },
     "execution_count": 60,
     "metadata": {},
     "output_type": "execute_result"
    },
    {
     "data": {
      "image/png": "[encoded data removed]",
      "text/plain": [
       "<Figure size 432x288 with 1 Axes>"
      ]
     },
     "metadata": {
      "needs_background": "light"
     },
     "output_type": "display_data"
    }
   ],
   "source": [
    "pivot_km_spb.plot()"
   ]
  },
  {
   "cell_type": "markdown",
   "metadata": {},
   "source": [
    "**Вывод:**\n",
    "1. Центром можно считать радиус в 6 км;\n",
    "2. Наблюдается просадка в цене на 3-ем км в указанном радиусе. Это можно объяснить расположенным на 3-м км от Дворцовой площади таких объектов, как кладбища, промзоны, порт (непривлекательное жилье);\n",
    "3. Стоимость квадратного метра жилья уменьшая с отдалением от центра города."
   ]
  },
  {
   "cell_type": "markdown",
   "metadata": {},
   "source": [
    "<div class=\"alert alert-block alert-success\">\n",
    " \n",
    "### Комментарий ревьюера\n",
    "    \n",
    "#### Успех\n",
    "    \n",
    "Очень хорошо и плотно ты разобрал и здесь. Есть ответ на вопрос проекта + высказал предположение о зоне центра. \n",
    "</div "
   ]
  },
  {
   "cell_type": "markdown",
   "metadata": {},
   "source": [
    "### Общий вывод\n",
    "1. Была сделана предобработка данных, заполнены пропуски  в зависимости от типов данных и их особенностей, удалены аномалии (например, автоматические снятия объявлений на 7, 45, 60 и др днях);\n",
    "2. Были использованы сводные таблицы, гистограммы, диаграммы и другие методы, которые позволили выявить закономерности;\n",
    "3. Установлено, что на стоимость квадратного метра влияют такие параметры, как количество комнат в квартире, этажность, близость к центру. Так, например, самая дорогая недвижимость в Санкт-Петербурге;\n",
    "4. Отмечено,что на цены на квадратный метр также влияют день, месяц и год объявления. Было предположено, что это зависит от того, в будние или в выходные дни было выставлено объявление, для месяца - сезонность, для года - экономические процессы в стране, а также особенности самих данных;\n",
    "5. Показано, что преобладающее большинство недвижимости представлено площадью между 40 и 69 кв.м., большим количеством 1-х и 2-х комнатных квартир;\n",
    "6. Продажа квартир занимает занимает около 114 дней.\n",
    "\n",
    "NB! Не производилась сегментация объявлений по классу квартир (эконом, комфорт, элит и тд), а также по износу жилого фонда из-за отсутвия данных показателей. Можно предположить, что с наличием данных показателей можно было бы объяснить дополнительно стоимость жилья, выбросы и зависимость жилья от месторасположения в Санкт Петербурге и области.\n",
    "\n"
   ]
  },
  {
   "cell_type": "markdown",
   "metadata": {},
   "source": [
    "<div class=\"alert alert-block alert-success\">\n",
    " \n",
    "### Комментарий ревьюера\n",
    "    \n",
    "#### Успех\n",
    "    \n",
    "Итоговый вывод стал идеальным дополнением проекта. Здесь очень подробно и последовательно было разобран рынок недвижимости. Теперь мы точно сможем составить антифрод-систему. \n",
    "</div "
   ]
  }
 ],
 "metadata": {
  "ExecuteTimeLog": [
   {
    "duration": 478,
    "start_time": "2022-10-16T06:43:49.076Z"
   },
   {
    "duration": 14,
    "start_time": "2022-10-16T06:46:41.392Z"
   },
   {
    "duration": 17,
    "start_time": "2022-10-16T06:55:32.839Z"
   },
   {
    "duration": 2139,
    "start_time": "2022-10-16T06:57:24.293Z"
   },
   {
    "duration": 682,
    "start_time": "2022-10-16T06:57:48.280Z"
   },
   {
    "duration": 15,
    "start_time": "2022-10-16T06:57:48.964Z"
   },
   {
    "duration": 1767,
    "start_time": "2022-10-16T06:57:48.981Z"
   },
   {
    "duration": 616,
    "start_time": "2022-10-16T06:59:04.868Z"
   },
   {
    "duration": 13,
    "start_time": "2022-10-16T06:59:05.485Z"
   },
   {
    "duration": 1764,
    "start_time": "2022-10-16T06:59:05.500Z"
   },
   {
    "duration": 765,
    "start_time": "2022-10-16T07:00:13.992Z"
   },
   {
    "duration": 15,
    "start_time": "2022-10-16T07:00:14.759Z"
   },
   {
    "duration": 13,
    "start_time": "2022-10-16T07:00:14.776Z"
   },
   {
    "duration": 1817,
    "start_time": "2022-10-16T07:00:14.791Z"
   },
   {
    "duration": 1784,
    "start_time": "2022-10-16T07:00:40.347Z"
   },
   {
    "duration": 476,
    "start_time": "2022-10-16T07:00:50.910Z"
   },
   {
    "duration": 15,
    "start_time": "2022-10-16T07:00:51.387Z"
   },
   {
    "duration": 14,
    "start_time": "2022-10-16T07:00:51.404Z"
   },
   {
    "duration": 1928,
    "start_time": "2022-10-16T07:00:51.420Z"
   },
   {
    "duration": 493,
    "start_time": "2022-10-16T07:01:04.052Z"
   },
   {
    "duration": 16,
    "start_time": "2022-10-16T07:01:04.548Z"
   },
   {
    "duration": 20,
    "start_time": "2022-10-16T07:01:04.566Z"
   },
   {
    "duration": 2008,
    "start_time": "2022-10-16T07:01:04.588Z"
   },
   {
    "duration": 12,
    "start_time": "2022-10-16T07:01:14.641Z"
   },
   {
    "duration": 479,
    "start_time": "2022-10-16T07:01:52.897Z"
   },
   {
    "duration": 14,
    "start_time": "2022-10-16T07:01:53.378Z"
   },
   {
    "duration": 34,
    "start_time": "2022-10-16T07:01:53.393Z"
   },
   {
    "duration": 1976,
    "start_time": "2022-10-16T07:01:53.428Z"
   },
   {
    "duration": 664,
    "start_time": "2022-10-16T07:02:13.769Z"
   },
   {
    "duration": 19,
    "start_time": "2022-10-16T07:02:14.435Z"
   },
   {
    "duration": 55,
    "start_time": "2022-10-16T07:02:14.457Z"
   },
   {
    "duration": 1858,
    "start_time": "2022-10-16T07:02:14.514Z"
   },
   {
    "duration": 698,
    "start_time": "2022-10-16T07:03:13.283Z"
   },
   {
    "duration": 14,
    "start_time": "2022-10-16T07:03:13.983Z"
   },
   {
    "duration": 26,
    "start_time": "2022-10-16T07:03:13.998Z"
   },
   {
    "duration": 1862,
    "start_time": "2022-10-16T07:03:14.026Z"
   },
   {
    "duration": 32,
    "start_time": "2022-10-16T07:10:05.422Z"
   },
   {
    "duration": 1801,
    "start_time": "2022-10-16T07:16:45.427Z"
   },
   {
    "duration": 2131,
    "start_time": "2022-10-16T07:16:58.367Z"
   },
   {
    "duration": 2736,
    "start_time": "2022-10-16T07:17:49.626Z"
   },
   {
    "duration": 1030,
    "start_time": "2022-10-16T07:18:01.326Z"
   },
   {
    "duration": 1636,
    "start_time": "2022-10-16T07:18:09.496Z"
   },
   {
    "duration": 1721,
    "start_time": "2022-10-16T07:19:20.777Z"
   },
   {
    "duration": 49,
    "start_time": "2022-10-17T17:27:17.772Z"
   },
   {
    "duration": 1027,
    "start_time": "2022-10-17T17:27:40.854Z"
   },
   {
    "duration": 15,
    "start_time": "2022-10-17T17:27:41.883Z"
   },
   {
    "duration": 56,
    "start_time": "2022-10-17T17:27:41.899Z"
   },
   {
    "duration": 1750,
    "start_time": "2022-10-17T17:27:41.957Z"
   },
   {
    "duration": 14,
    "start_time": "2022-10-17T17:27:43.709Z"
   },
   {
    "duration": 41,
    "start_time": "2022-10-17T17:30:11.906Z"
   },
   {
    "duration": 9,
    "start_time": "2022-10-17T17:31:44.924Z"
   },
   {
    "duration": 668,
    "start_time": "2022-10-17T17:33:35.331Z"
   },
   {
    "duration": 14,
    "start_time": "2022-10-17T17:33:36.001Z"
   },
   {
    "duration": 32,
    "start_time": "2022-10-17T17:33:36.017Z"
   },
   {
    "duration": 1949,
    "start_time": "2022-10-17T17:33:36.051Z"
   },
   {
    "duration": 12,
    "start_time": "2022-10-17T17:33:38.002Z"
   },
   {
    "duration": 65,
    "start_time": "2022-10-17T17:34:38.997Z"
   },
   {
    "duration": 23,
    "start_time": "2022-10-17T17:34:46.869Z"
   },
   {
    "duration": 655,
    "start_time": "2022-10-17T17:39:35.337Z"
   },
   {
    "duration": 13,
    "start_time": "2022-10-17T17:39:35.994Z"
   },
   {
    "duration": 31,
    "start_time": "2022-10-17T17:39:36.008Z"
   },
   {
    "duration": 1855,
    "start_time": "2022-10-17T17:39:36.041Z"
   },
   {
    "duration": 10,
    "start_time": "2022-10-17T17:39:37.897Z"
   },
   {
    "duration": 33,
    "start_time": "2022-10-17T17:39:37.909Z"
   },
   {
    "duration": 357,
    "start_time": "2022-10-17T17:39:37.944Z"
   },
   {
    "duration": 626,
    "start_time": "2022-10-17T17:39:59.443Z"
   },
   {
    "duration": 13,
    "start_time": "2022-10-17T17:40:00.072Z"
   },
   {
    "duration": 35,
    "start_time": "2022-10-17T17:40:00.087Z"
   },
   {
    "duration": 1711,
    "start_time": "2022-10-17T17:40:00.124Z"
   },
   {
    "duration": 8,
    "start_time": "2022-10-17T17:40:01.837Z"
   },
   {
    "duration": 24,
    "start_time": "2022-10-17T17:40:01.846Z"
   },
   {
    "duration": 30,
    "start_time": "2022-10-17T17:40:01.872Z"
   },
   {
    "duration": 649,
    "start_time": "2022-10-17T17:45:04.463Z"
   },
   {
    "duration": 21,
    "start_time": "2022-10-17T17:45:05.115Z"
   },
   {
    "duration": 26,
    "start_time": "2022-10-17T17:45:05.138Z"
   },
   {
    "duration": 1852,
    "start_time": "2022-10-17T17:45:05.167Z"
   },
   {
    "duration": 9,
    "start_time": "2022-10-17T17:45:07.021Z"
   },
   {
    "duration": 23,
    "start_time": "2022-10-17T17:45:07.031Z"
   },
   {
    "duration": 8,
    "start_time": "2022-10-17T17:45:07.056Z"
   },
   {
    "duration": 23,
    "start_time": "2022-10-17T17:49:07.777Z"
   },
   {
    "duration": 11,
    "start_time": "2022-10-17T17:49:14.883Z"
   },
   {
    "duration": 129,
    "start_time": "2022-10-19T09:56:25.340Z"
   },
   {
    "duration": 53,
    "start_time": "2022-10-19T09:56:48.169Z"
   },
   {
    "duration": 1073,
    "start_time": "2022-10-19T09:56:55.740Z"
   },
   {
    "duration": 17,
    "start_time": "2022-10-19T09:56:56.815Z"
   },
   {
    "duration": 33,
    "start_time": "2022-10-19T09:56:56.833Z"
   },
   {
    "duration": 2057,
    "start_time": "2022-10-19T09:56:56.868Z"
   },
   {
    "duration": 73,
    "start_time": "2022-10-19T09:56:58.927Z"
   },
   {
    "duration": 0,
    "start_time": "2022-10-19T09:56:59.001Z"
   },
   {
    "duration": 0,
    "start_time": "2022-10-19T09:56:59.002Z"
   },
   {
    "duration": 0,
    "start_time": "2022-10-19T09:56:59.003Z"
   },
   {
    "duration": 0,
    "start_time": "2022-10-19T09:56:59.005Z"
   },
   {
    "duration": 704,
    "start_time": "2022-10-19T09:57:41.906Z"
   },
   {
    "duration": 15,
    "start_time": "2022-10-19T09:57:42.612Z"
   },
   {
    "duration": 28,
    "start_time": "2022-10-19T09:57:42.628Z"
   },
   {
    "duration": 1999,
    "start_time": "2022-10-19T09:57:42.657Z"
   },
   {
    "duration": 112,
    "start_time": "2022-10-19T09:57:44.659Z"
   },
   {
    "duration": 0,
    "start_time": "2022-10-19T09:57:44.773Z"
   },
   {
    "duration": 0,
    "start_time": "2022-10-19T09:57:44.774Z"
   },
   {
    "duration": 0,
    "start_time": "2022-10-19T09:57:44.775Z"
   },
   {
    "duration": 0,
    "start_time": "2022-10-19T09:57:44.776Z"
   },
   {
    "duration": 0,
    "start_time": "2022-10-19T09:57:44.777Z"
   },
   {
    "duration": 3,
    "start_time": "2022-10-19T09:58:27.931Z"
   },
   {
    "duration": 729,
    "start_time": "2022-10-19T09:59:32.679Z"
   },
   {
    "duration": 15,
    "start_time": "2022-10-19T09:59:33.410Z"
   },
   {
    "duration": 32,
    "start_time": "2022-10-19T09:59:33.427Z"
   },
   {
    "duration": 2004,
    "start_time": "2022-10-19T09:59:33.461Z"
   },
   {
    "duration": 65,
    "start_time": "2022-10-19T09:59:35.467Z"
   },
   {
    "duration": 0,
    "start_time": "2022-10-19T09:59:35.535Z"
   },
   {
    "duration": 0,
    "start_time": "2022-10-19T09:59:35.536Z"
   },
   {
    "duration": 0,
    "start_time": "2022-10-19T09:59:35.538Z"
   },
   {
    "duration": 0,
    "start_time": "2022-10-19T09:59:35.540Z"
   },
   {
    "duration": 707,
    "start_time": "2022-10-19T10:02:08.080Z"
   },
   {
    "duration": 15,
    "start_time": "2022-10-19T10:02:08.789Z"
   },
   {
    "duration": 46,
    "start_time": "2022-10-19T10:02:08.806Z"
   },
   {
    "duration": 2026,
    "start_time": "2022-10-19T10:02:08.854Z"
   },
   {
    "duration": 9,
    "start_time": "2022-10-19T10:02:10.883Z"
   },
   {
    "duration": 29,
    "start_time": "2022-10-19T10:02:10.894Z"
   },
   {
    "duration": 50,
    "start_time": "2022-10-19T10:02:10.925Z"
   },
   {
    "duration": 24,
    "start_time": "2022-10-19T10:02:10.977Z"
   },
   {
    "duration": 756,
    "start_time": "2022-10-19T10:12:58.567Z"
   },
   {
    "duration": 17,
    "start_time": "2022-10-19T10:12:59.325Z"
   },
   {
    "duration": 31,
    "start_time": "2022-10-19T10:12:59.343Z"
   },
   {
    "duration": 1965,
    "start_time": "2022-10-19T10:12:59.376Z"
   },
   {
    "duration": 9,
    "start_time": "2022-10-19T10:13:01.343Z"
   },
   {
    "duration": 35,
    "start_time": "2022-10-19T10:13:01.354Z"
   },
   {
    "duration": 40,
    "start_time": "2022-10-19T10:13:01.391Z"
   },
   {
    "duration": 74,
    "start_time": "2022-10-19T10:13:01.433Z"
   },
   {
    "duration": 0,
    "start_time": "2022-10-19T10:13:01.509Z"
   },
   {
    "duration": 129,
    "start_time": "2022-10-19T10:13:15.776Z"
   },
   {
    "duration": 8,
    "start_time": "2022-10-19T10:25:06.826Z"
   },
   {
    "duration": 740,
    "start_time": "2022-10-19T10:25:59.668Z"
   },
   {
    "duration": 15,
    "start_time": "2022-10-19T10:26:00.410Z"
   },
   {
    "duration": 37,
    "start_time": "2022-10-19T10:26:00.427Z"
   },
   {
    "duration": 1991,
    "start_time": "2022-10-19T10:26:00.466Z"
   },
   {
    "duration": 9,
    "start_time": "2022-10-19T10:26:02.460Z"
   },
   {
    "duration": 27,
    "start_time": "2022-10-19T10:26:02.471Z"
   },
   {
    "duration": 38,
    "start_time": "2022-10-19T10:26:02.500Z"
   },
   {
    "duration": 7,
    "start_time": "2022-10-19T10:26:02.540Z"
   },
   {
    "duration": 11,
    "start_time": "2022-10-19T10:26:02.548Z"
   },
   {
    "duration": 94,
    "start_time": "2022-10-19T10:26:02.560Z"
   },
   {
    "duration": 713,
    "start_time": "2022-10-19T10:29:08.223Z"
   },
   {
    "duration": 15,
    "start_time": "2022-10-19T10:29:08.938Z"
   },
   {
    "duration": 29,
    "start_time": "2022-10-19T10:29:08.955Z"
   },
   {
    "duration": 1888,
    "start_time": "2022-10-19T10:29:08.996Z"
   },
   {
    "duration": 9,
    "start_time": "2022-10-19T10:29:10.886Z"
   },
   {
    "duration": 22,
    "start_time": "2022-10-19T10:29:10.897Z"
   },
   {
    "duration": 40,
    "start_time": "2022-10-19T10:29:10.921Z"
   },
   {
    "duration": 8,
    "start_time": "2022-10-19T10:29:10.963Z"
   },
   {
    "duration": 24,
    "start_time": "2022-10-19T10:29:10.972Z"
   },
   {
    "duration": 12,
    "start_time": "2022-10-19T10:29:10.997Z"
   },
   {
    "duration": 716,
    "start_time": "2022-10-19T10:36:39.900Z"
   },
   {
    "duration": 15,
    "start_time": "2022-10-19T10:36:40.618Z"
   },
   {
    "duration": 28,
    "start_time": "2022-10-19T10:36:40.635Z"
   },
   {
    "duration": 1960,
    "start_time": "2022-10-19T10:36:40.664Z"
   },
   {
    "duration": 9,
    "start_time": "2022-10-19T10:36:42.627Z"
   },
   {
    "duration": 27,
    "start_time": "2022-10-19T10:36:42.637Z"
   },
   {
    "duration": 37,
    "start_time": "2022-10-19T10:36:42.665Z"
   },
   {
    "duration": 6,
    "start_time": "2022-10-19T10:36:42.704Z"
   },
   {
    "duration": 8,
    "start_time": "2022-10-19T10:36:42.712Z"
   },
   {
    "duration": 13,
    "start_time": "2022-10-19T10:36:42.721Z"
   },
   {
    "duration": 4,
    "start_time": "2022-10-19T10:36:42.735Z"
   },
   {
    "duration": 91,
    "start_time": "2022-10-19T10:36:42.740Z"
   },
   {
    "duration": 0,
    "start_time": "2022-10-19T10:36:42.833Z"
   },
   {
    "duration": 698,
    "start_time": "2022-10-19T10:36:53.620Z"
   },
   {
    "duration": 15,
    "start_time": "2022-10-19T10:36:54.320Z"
   },
   {
    "duration": 28,
    "start_time": "2022-10-19T10:36:54.337Z"
   },
   {
    "duration": 1966,
    "start_time": "2022-10-19T10:36:54.367Z"
   },
   {
    "duration": 9,
    "start_time": "2022-10-19T10:36:56.335Z"
   },
   {
    "duration": 29,
    "start_time": "2022-10-19T10:36:56.345Z"
   },
   {
    "duration": 38,
    "start_time": "2022-10-19T10:36:56.376Z"
   },
   {
    "duration": 7,
    "start_time": "2022-10-19T10:36:56.416Z"
   },
   {
    "duration": 14,
    "start_time": "2022-10-19T10:36:56.424Z"
   },
   {
    "duration": 12,
    "start_time": "2022-10-19T10:36:56.440Z"
   },
   {
    "duration": 7,
    "start_time": "2022-10-19T10:36:56.454Z"
   },
   {
    "duration": 22,
    "start_time": "2022-10-19T10:36:56.463Z"
   },
   {
    "duration": 6,
    "start_time": "2022-10-19T10:40:40.155Z"
   },
   {
    "duration": 71,
    "start_time": "2022-10-19T10:40:57.955Z"
   },
   {
    "duration": 5,
    "start_time": "2022-10-19T10:41:33.205Z"
   },
   {
    "duration": 7,
    "start_time": "2022-10-19T10:43:38.480Z"
   },
   {
    "duration": 700,
    "start_time": "2022-10-19T10:43:50.350Z"
   },
   {
    "duration": 15,
    "start_time": "2022-10-19T10:43:51.052Z"
   },
   {
    "duration": 37,
    "start_time": "2022-10-19T10:43:51.069Z"
   },
   {
    "duration": 1892,
    "start_time": "2022-10-19T10:43:51.108Z"
   },
   {
    "duration": 10,
    "start_time": "2022-10-19T10:43:53.002Z"
   },
   {
    "duration": 26,
    "start_time": "2022-10-19T10:43:53.013Z"
   },
   {
    "duration": 56,
    "start_time": "2022-10-19T10:43:53.041Z"
   },
   {
    "duration": 8,
    "start_time": "2022-10-19T10:43:53.098Z"
   },
   {
    "duration": 9,
    "start_time": "2022-10-19T10:43:53.107Z"
   },
   {
    "duration": 12,
    "start_time": "2022-10-19T10:43:53.118Z"
   },
   {
    "duration": 5,
    "start_time": "2022-10-19T10:43:53.131Z"
   },
   {
    "duration": 5,
    "start_time": "2022-10-19T10:43:53.137Z"
   },
   {
    "duration": 59,
    "start_time": "2022-10-19T14:02:19.844Z"
   },
   {
    "duration": 933,
    "start_time": "2022-10-19T14:02:33.247Z"
   },
   {
    "duration": 18,
    "start_time": "2022-10-19T14:02:34.182Z"
   },
   {
    "duration": 32,
    "start_time": "2022-10-19T14:02:34.202Z"
   },
   {
    "duration": 2100,
    "start_time": "2022-10-19T14:02:34.235Z"
   },
   {
    "duration": 10,
    "start_time": "2022-10-19T14:02:36.338Z"
   },
   {
    "duration": 38,
    "start_time": "2022-10-19T14:02:36.350Z"
   },
   {
    "duration": 46,
    "start_time": "2022-10-19T14:02:36.390Z"
   },
   {
    "duration": 8,
    "start_time": "2022-10-19T14:02:36.439Z"
   },
   {
    "duration": 8,
    "start_time": "2022-10-19T14:02:36.450Z"
   },
   {
    "duration": 25,
    "start_time": "2022-10-19T14:02:36.461Z"
   },
   {
    "duration": 17,
    "start_time": "2022-10-19T14:02:36.489Z"
   },
   {
    "duration": 12,
    "start_time": "2022-10-19T14:02:36.508Z"
   },
   {
    "duration": 29,
    "start_time": "2022-10-19T14:02:36.522Z"
   },
   {
    "duration": 82,
    "start_time": "2022-10-19T14:02:36.554Z"
   },
   {
    "duration": 0,
    "start_time": "2022-10-19T14:02:36.638Z"
   },
   {
    "duration": 5,
    "start_time": "2022-10-19T14:14:08.443Z"
   },
   {
    "duration": 75,
    "start_time": "2022-10-19T14:16:25.088Z"
   },
   {
    "duration": 5,
    "start_time": "2022-10-19T14:16:32.897Z"
   },
   {
    "duration": 15,
    "start_time": "2022-10-19T14:18:14.460Z"
   },
   {
    "duration": 51,
    "start_time": "2022-10-19T14:18:22.199Z"
   },
   {
    "duration": 15,
    "start_time": "2022-10-19T14:18:39.629Z"
   },
   {
    "duration": 50,
    "start_time": "2022-10-19T14:18:45.311Z"
   },
   {
    "duration": 756,
    "start_time": "2022-10-19T14:29:49.392Z"
   },
   {
    "duration": 16,
    "start_time": "2022-10-19T14:29:50.150Z"
   },
   {
    "duration": 30,
    "start_time": "2022-10-19T14:29:50.167Z"
   },
   {
    "duration": 2116,
    "start_time": "2022-10-19T14:29:50.199Z"
   },
   {
    "duration": 9,
    "start_time": "2022-10-19T14:29:52.317Z"
   },
   {
    "duration": 45,
    "start_time": "2022-10-19T14:29:52.328Z"
   },
   {
    "duration": 42,
    "start_time": "2022-10-19T14:29:52.375Z"
   },
   {
    "duration": 9,
    "start_time": "2022-10-19T14:29:52.419Z"
   },
   {
    "duration": 30,
    "start_time": "2022-10-19T14:29:52.429Z"
   },
   {
    "duration": 52,
    "start_time": "2022-10-19T14:29:52.460Z"
   },
   {
    "duration": 53,
    "start_time": "2022-10-19T14:29:52.515Z"
   },
   {
    "duration": 0,
    "start_time": "2022-10-19T14:29:52.570Z"
   },
   {
    "duration": 0,
    "start_time": "2022-10-19T14:29:52.571Z"
   },
   {
    "duration": 0,
    "start_time": "2022-10-19T14:29:52.573Z"
   },
   {
    "duration": 0,
    "start_time": "2022-10-19T14:29:52.575Z"
   },
   {
    "duration": 6,
    "start_time": "2022-10-19T14:30:21.313Z"
   },
   {
    "duration": 65,
    "start_time": "2022-10-19T14:30:24.094Z"
   },
   {
    "duration": 5,
    "start_time": "2022-10-19T14:30:37.733Z"
   },
   {
    "duration": 6,
    "start_time": "2022-10-19T14:30:41.503Z"
   },
   {
    "duration": 678,
    "start_time": "2022-10-19T14:30:55.373Z"
   },
   {
    "duration": 17,
    "start_time": "2022-10-19T14:30:56.053Z"
   },
   {
    "duration": 33,
    "start_time": "2022-10-19T14:30:56.072Z"
   },
   {
    "duration": 2150,
    "start_time": "2022-10-19T14:30:56.121Z"
   },
   {
    "duration": 9,
    "start_time": "2022-10-19T14:30:58.273Z"
   },
   {
    "duration": 28,
    "start_time": "2022-10-19T14:30:58.283Z"
   },
   {
    "duration": 43,
    "start_time": "2022-10-19T14:30:58.313Z"
   },
   {
    "duration": 8,
    "start_time": "2022-10-19T14:30:58.358Z"
   },
   {
    "duration": 10,
    "start_time": "2022-10-19T14:30:58.367Z"
   },
   {
    "duration": 63,
    "start_time": "2022-10-19T14:30:58.379Z"
   },
   {
    "duration": 4,
    "start_time": "2022-10-19T14:30:58.444Z"
   },
   {
    "duration": 14,
    "start_time": "2022-10-19T14:30:58.450Z"
   },
   {
    "duration": 15,
    "start_time": "2022-10-19T14:30:58.466Z"
   },
   {
    "duration": 8,
    "start_time": "2022-10-19T14:30:58.484Z"
   },
   {
    "duration": 16,
    "start_time": "2022-10-19T14:30:58.494Z"
   },
   {
    "duration": 21,
    "start_time": "2022-10-19T14:30:58.512Z"
   },
   {
    "duration": 84,
    "start_time": "2022-10-19T14:31:55.310Z"
   },
   {
    "duration": 6,
    "start_time": "2022-10-19T14:32:03.230Z"
   },
   {
    "duration": 6,
    "start_time": "2022-10-19T14:33:58.193Z"
   },
   {
    "duration": 8,
    "start_time": "2022-10-19T14:34:24.265Z"
   },
   {
    "duration": 5,
    "start_time": "2022-10-19T14:43:26.777Z"
   },
   {
    "duration": 720,
    "start_time": "2022-10-19T14:48:34.868Z"
   },
   {
    "duration": 18,
    "start_time": "2022-10-19T14:48:35.590Z"
   },
   {
    "duration": 41,
    "start_time": "2022-10-19T14:48:35.610Z"
   },
   {
    "duration": 2150,
    "start_time": "2022-10-19T14:48:35.653Z"
   },
   {
    "duration": 13,
    "start_time": "2022-10-19T14:48:37.805Z"
   },
   {
    "duration": 44,
    "start_time": "2022-10-19T14:48:37.820Z"
   },
   {
    "duration": 46,
    "start_time": "2022-10-19T14:48:37.867Z"
   },
   {
    "duration": 9,
    "start_time": "2022-10-19T14:48:37.915Z"
   },
   {
    "duration": 37,
    "start_time": "2022-10-19T14:48:37.926Z"
   },
   {
    "duration": 63,
    "start_time": "2022-10-19T14:48:37.965Z"
   },
   {
    "duration": 5,
    "start_time": "2022-10-19T14:48:38.030Z"
   },
   {
    "duration": 22,
    "start_time": "2022-10-19T14:48:38.037Z"
   },
   {
    "duration": 27,
    "start_time": "2022-10-19T14:48:38.061Z"
   },
   {
    "duration": 24,
    "start_time": "2022-10-19T14:48:38.092Z"
   },
   {
    "duration": 30,
    "start_time": "2022-10-19T14:48:38.117Z"
   },
   {
    "duration": 26,
    "start_time": "2022-10-19T14:48:38.149Z"
   },
   {
    "duration": 44,
    "start_time": "2022-10-19T14:48:38.176Z"
   },
   {
    "duration": 0,
    "start_time": "2022-10-19T14:48:38.222Z"
   },
   {
    "duration": 0,
    "start_time": "2022-10-19T14:48:38.223Z"
   },
   {
    "duration": 750,
    "start_time": "2022-10-19T14:48:47.832Z"
   },
   {
    "duration": 17,
    "start_time": "2022-10-19T14:48:48.584Z"
   },
   {
    "duration": 51,
    "start_time": "2022-10-19T14:48:48.603Z"
   },
   {
    "duration": 2223,
    "start_time": "2022-10-19T14:48:48.656Z"
   },
   {
    "duration": 10,
    "start_time": "2022-10-19T14:48:50.882Z"
   },
   {
    "duration": 66,
    "start_time": "2022-10-19T14:48:50.894Z"
   },
   {
    "duration": 65,
    "start_time": "2022-10-19T14:48:50.962Z"
   },
   {
    "duration": 9,
    "start_time": "2022-10-19T14:48:51.029Z"
   },
   {
    "duration": 32,
    "start_time": "2022-10-19T14:48:51.040Z"
   },
   {
    "duration": 63,
    "start_time": "2022-10-19T14:48:51.074Z"
   },
   {
    "duration": 5,
    "start_time": "2022-10-19T14:48:51.139Z"
   },
   {
    "duration": 14,
    "start_time": "2022-10-19T14:48:51.146Z"
   },
   {
    "duration": 15,
    "start_time": "2022-10-19T14:48:51.162Z"
   },
   {
    "duration": 5,
    "start_time": "2022-10-19T14:48:51.180Z"
   },
   {
    "duration": 15,
    "start_time": "2022-10-19T14:48:51.186Z"
   },
   {
    "duration": 30,
    "start_time": "2022-10-19T14:48:51.202Z"
   },
   {
    "duration": 12,
    "start_time": "2022-10-19T14:48:51.235Z"
   },
   {
    "duration": 27,
    "start_time": "2022-10-19T14:48:51.249Z"
   },
   {
    "duration": 715,
    "start_time": "2022-10-19T15:55:55.415Z"
   },
   {
    "duration": 18,
    "start_time": "2022-10-19T15:55:56.132Z"
   },
   {
    "duration": 31,
    "start_time": "2022-10-19T15:55:56.152Z"
   },
   {
    "duration": 2118,
    "start_time": "2022-10-19T15:55:56.185Z"
   },
   {
    "duration": 10,
    "start_time": "2022-10-19T15:55:58.304Z"
   },
   {
    "duration": 32,
    "start_time": "2022-10-19T15:55:58.316Z"
   },
   {
    "duration": 43,
    "start_time": "2022-10-19T15:55:58.349Z"
   },
   {
    "duration": 7,
    "start_time": "2022-10-19T15:55:58.394Z"
   },
   {
    "duration": 18,
    "start_time": "2022-10-19T15:55:58.402Z"
   },
   {
    "duration": 53,
    "start_time": "2022-10-19T15:55:58.423Z"
   },
   {
    "duration": 6,
    "start_time": "2022-10-19T15:55:58.478Z"
   },
   {
    "duration": 8,
    "start_time": "2022-10-19T15:55:58.485Z"
   },
   {
    "duration": 7,
    "start_time": "2022-10-19T15:55:58.494Z"
   },
   {
    "duration": 21,
    "start_time": "2022-10-19T15:55:58.502Z"
   },
   {
    "duration": 7,
    "start_time": "2022-10-19T15:55:58.524Z"
   },
   {
    "duration": 16,
    "start_time": "2022-10-19T15:55:58.532Z"
   },
   {
    "duration": 16,
    "start_time": "2022-10-19T15:55:58.550Z"
   },
   {
    "duration": 13,
    "start_time": "2022-10-19T15:55:58.568Z"
   },
   {
    "duration": 17,
    "start_time": "2022-10-19T15:59:23.814Z"
   },
   {
    "duration": 28,
    "start_time": "2022-10-19T16:03:59.095Z"
   },
   {
    "duration": 8,
    "start_time": "2022-10-19T16:05:21.733Z"
   },
   {
    "duration": 745,
    "start_time": "2022-10-19T16:05:37.331Z"
   },
   {
    "duration": 17,
    "start_time": "2022-10-19T16:05:38.078Z"
   },
   {
    "duration": 42,
    "start_time": "2022-10-19T16:05:38.096Z"
   },
   {
    "duration": 2172,
    "start_time": "2022-10-19T16:05:38.139Z"
   },
   {
    "duration": 9,
    "start_time": "2022-10-19T16:05:40.314Z"
   },
   {
    "duration": 31,
    "start_time": "2022-10-19T16:05:40.325Z"
   },
   {
    "duration": 41,
    "start_time": "2022-10-19T16:05:40.357Z"
   },
   {
    "duration": 23,
    "start_time": "2022-10-19T16:05:40.400Z"
   },
   {
    "duration": 12,
    "start_time": "2022-10-19T16:05:40.424Z"
   },
   {
    "duration": 62,
    "start_time": "2022-10-19T16:05:40.438Z"
   },
   {
    "duration": 5,
    "start_time": "2022-10-19T16:05:40.502Z"
   },
   {
    "duration": 14,
    "start_time": "2022-10-19T16:05:40.509Z"
   },
   {
    "duration": 13,
    "start_time": "2022-10-19T16:05:40.524Z"
   },
   {
    "duration": 17,
    "start_time": "2022-10-19T16:05:40.539Z"
   },
   {
    "duration": 14,
    "start_time": "2022-10-19T16:05:40.558Z"
   },
   {
    "duration": 13,
    "start_time": "2022-10-19T16:05:40.574Z"
   },
   {
    "duration": 8,
    "start_time": "2022-10-19T16:05:40.589Z"
   },
   {
    "duration": 17,
    "start_time": "2022-10-19T16:05:40.599Z"
   },
   {
    "duration": 321,
    "start_time": "2022-10-19T16:05:40.620Z"
   },
   {
    "duration": 0,
    "start_time": "2022-10-19T16:05:40.942Z"
   },
   {
    "duration": 0,
    "start_time": "2022-10-19T16:05:40.944Z"
   },
   {
    "duration": 0,
    "start_time": "2022-10-19T16:05:40.945Z"
   },
   {
    "duration": 0,
    "start_time": "2022-10-19T16:05:40.946Z"
   },
   {
    "duration": 22,
    "start_time": "2022-10-19T16:10:19.714Z"
   },
   {
    "duration": 24,
    "start_time": "2022-10-19T16:12:15.653Z"
   },
   {
    "duration": 13,
    "start_time": "2022-10-19T16:12:17.452Z"
   },
   {
    "duration": 38,
    "start_time": "2022-10-19T16:12:17.932Z"
   },
   {
    "duration": 9,
    "start_time": "2022-10-19T16:12:24.359Z"
   },
   {
    "duration": 859,
    "start_time": "2022-10-19T16:17:18.345Z"
   },
   {
    "duration": 32,
    "start_time": "2022-10-19T16:17:19.208Z"
   },
   {
    "duration": 54,
    "start_time": "2022-10-19T16:17:19.243Z"
   },
   {
    "duration": 2180,
    "start_time": "2022-10-19T16:17:19.299Z"
   },
   {
    "duration": 10,
    "start_time": "2022-10-19T16:17:21.482Z"
   },
   {
    "duration": 44,
    "start_time": "2022-10-19T16:17:21.494Z"
   },
   {
    "duration": 43,
    "start_time": "2022-10-19T16:17:21.540Z"
   },
   {
    "duration": 9,
    "start_time": "2022-10-19T16:17:21.585Z"
   },
   {
    "duration": 30,
    "start_time": "2022-10-19T16:17:21.596Z"
   },
   {
    "duration": 73,
    "start_time": "2022-10-19T16:17:21.628Z"
   },
   {
    "duration": 6,
    "start_time": "2022-10-19T16:17:21.703Z"
   },
   {
    "duration": 15,
    "start_time": "2022-10-19T16:17:21.711Z"
   },
   {
    "duration": 40,
    "start_time": "2022-10-19T16:17:21.729Z"
   },
   {
    "duration": 93,
    "start_time": "2022-10-19T16:17:21.774Z"
   },
   {
    "duration": 0,
    "start_time": "2022-10-19T16:17:21.869Z"
   },
   {
    "duration": 0,
    "start_time": "2022-10-19T16:17:21.871Z"
   },
   {
    "duration": 0,
    "start_time": "2022-10-19T16:17:21.873Z"
   },
   {
    "duration": 0,
    "start_time": "2022-10-19T16:17:21.874Z"
   },
   {
    "duration": 0,
    "start_time": "2022-10-19T16:17:21.875Z"
   },
   {
    "duration": 0,
    "start_time": "2022-10-19T16:17:21.876Z"
   },
   {
    "duration": 0,
    "start_time": "2022-10-19T16:17:21.878Z"
   },
   {
    "duration": 0,
    "start_time": "2022-10-19T16:17:21.881Z"
   },
   {
    "duration": 1,
    "start_time": "2022-10-19T16:17:21.882Z"
   },
   {
    "duration": 12,
    "start_time": "2022-10-19T16:17:48.915Z"
   },
   {
    "duration": 13,
    "start_time": "2022-10-19T16:18:51.796Z"
   },
   {
    "duration": 12,
    "start_time": "2022-10-19T16:19:24.497Z"
   },
   {
    "duration": 710,
    "start_time": "2022-10-19T16:19:50.848Z"
   },
   {
    "duration": 17,
    "start_time": "2022-10-19T16:19:51.560Z"
   },
   {
    "duration": 42,
    "start_time": "2022-10-19T16:19:51.579Z"
   },
   {
    "duration": 2152,
    "start_time": "2022-10-19T16:19:51.623Z"
   },
   {
    "duration": 9,
    "start_time": "2022-10-19T16:19:53.778Z"
   },
   {
    "duration": 45,
    "start_time": "2022-10-19T16:19:53.788Z"
   },
   {
    "duration": 66,
    "start_time": "2022-10-19T16:19:53.834Z"
   },
   {
    "duration": 8,
    "start_time": "2022-10-19T16:19:53.901Z"
   },
   {
    "duration": 27,
    "start_time": "2022-10-19T16:19:53.911Z"
   },
   {
    "duration": 76,
    "start_time": "2022-10-19T16:19:53.941Z"
   },
   {
    "duration": 5,
    "start_time": "2022-10-19T16:19:54.019Z"
   },
   {
    "duration": 25,
    "start_time": "2022-10-19T16:19:54.026Z"
   },
   {
    "duration": 14,
    "start_time": "2022-10-19T16:19:54.053Z"
   },
   {
    "duration": 26,
    "start_time": "2022-10-19T16:19:54.070Z"
   },
   {
    "duration": 11,
    "start_time": "2022-10-19T16:19:54.098Z"
   },
   {
    "duration": 14,
    "start_time": "2022-10-19T16:19:54.111Z"
   },
   {
    "duration": 20,
    "start_time": "2022-10-19T16:19:54.127Z"
   },
   {
    "duration": 35,
    "start_time": "2022-10-19T16:19:54.149Z"
   },
   {
    "duration": 35,
    "start_time": "2022-10-19T16:19:54.186Z"
   },
   {
    "duration": 50,
    "start_time": "2022-10-19T16:19:54.223Z"
   },
   {
    "duration": 9,
    "start_time": "2022-10-19T16:19:54.275Z"
   },
   {
    "duration": 38,
    "start_time": "2022-10-19T16:19:54.286Z"
   },
   {
    "duration": 738,
    "start_time": "2022-10-19T16:30:29.021Z"
   },
   {
    "duration": 16,
    "start_time": "2022-10-19T16:30:29.761Z"
   },
   {
    "duration": 57,
    "start_time": "2022-10-19T16:30:29.779Z"
   },
   {
    "duration": 2076,
    "start_time": "2022-10-19T16:30:29.839Z"
   },
   {
    "duration": 11,
    "start_time": "2022-10-19T16:30:31.917Z"
   },
   {
    "duration": 58,
    "start_time": "2022-10-19T16:30:31.930Z"
   },
   {
    "duration": 41,
    "start_time": "2022-10-19T16:30:31.991Z"
   },
   {
    "duration": 9,
    "start_time": "2022-10-19T16:30:32.034Z"
   },
   {
    "duration": 21,
    "start_time": "2022-10-19T16:30:32.045Z"
   },
   {
    "duration": 66,
    "start_time": "2022-10-19T16:30:32.069Z"
   },
   {
    "duration": 5,
    "start_time": "2022-10-19T16:30:32.137Z"
   },
   {
    "duration": 35,
    "start_time": "2022-10-19T16:30:32.144Z"
   },
   {
    "duration": 28,
    "start_time": "2022-10-19T16:30:32.181Z"
   },
   {
    "duration": 31,
    "start_time": "2022-10-19T16:30:32.210Z"
   },
   {
    "duration": 28,
    "start_time": "2022-10-19T16:30:32.242Z"
   },
   {
    "duration": 28,
    "start_time": "2022-10-19T16:30:32.271Z"
   },
   {
    "duration": 21,
    "start_time": "2022-10-19T16:30:32.300Z"
   },
   {
    "duration": 21,
    "start_time": "2022-10-19T16:30:32.323Z"
   },
   {
    "duration": 22,
    "start_time": "2022-10-19T16:30:32.346Z"
   },
   {
    "duration": 11,
    "start_time": "2022-10-19T16:30:32.370Z"
   },
   {
    "duration": 16,
    "start_time": "2022-10-19T16:30:32.383Z"
   },
   {
    "duration": 41,
    "start_time": "2022-10-19T16:30:32.401Z"
   },
   {
    "duration": 50,
    "start_time": "2022-10-19T16:32:06.264Z"
   },
   {
    "duration": 728,
    "start_time": "2022-10-19T16:32:06.545Z"
   },
   {
    "duration": 18,
    "start_time": "2022-10-19T16:32:07.275Z"
   },
   {
    "duration": 51,
    "start_time": "2022-10-19T16:32:07.295Z"
   },
   {
    "duration": 2239,
    "start_time": "2022-10-19T16:32:07.348Z"
   },
   {
    "duration": 10,
    "start_time": "2022-10-19T16:32:09.589Z"
   },
   {
    "duration": 40,
    "start_time": "2022-10-19T16:32:09.600Z"
   },
   {
    "duration": 44,
    "start_time": "2022-10-19T16:32:09.642Z"
   },
   {
    "duration": 8,
    "start_time": "2022-10-19T16:32:09.688Z"
   },
   {
    "duration": 31,
    "start_time": "2022-10-19T16:32:09.698Z"
   },
   {
    "duration": 82,
    "start_time": "2022-10-19T16:32:09.731Z"
   },
   {
    "duration": 6,
    "start_time": "2022-10-19T16:32:09.815Z"
   },
   {
    "duration": 39,
    "start_time": "2022-10-19T16:32:09.823Z"
   },
   {
    "duration": 32,
    "start_time": "2022-10-19T16:32:09.864Z"
   },
   {
    "duration": 32,
    "start_time": "2022-10-19T16:32:09.898Z"
   },
   {
    "duration": 50,
    "start_time": "2022-10-19T16:32:09.932Z"
   },
   {
    "duration": 37,
    "start_time": "2022-10-19T16:32:09.984Z"
   },
   {
    "duration": 29,
    "start_time": "2022-10-19T16:32:10.023Z"
   },
   {
    "duration": 63,
    "start_time": "2022-10-19T16:32:10.054Z"
   },
   {
    "duration": 50,
    "start_time": "2022-10-19T16:32:10.119Z"
   },
   {
    "duration": 25,
    "start_time": "2022-10-19T16:32:10.171Z"
   },
   {
    "duration": 34,
    "start_time": "2022-10-19T16:32:10.198Z"
   },
   {
    "duration": 39,
    "start_time": "2022-10-19T16:32:10.234Z"
   },
   {
    "duration": 37,
    "start_time": "2022-10-19T16:32:10.275Z"
   },
   {
    "duration": 47,
    "start_time": "2022-10-19T16:32:10.314Z"
   },
   {
    "duration": 5,
    "start_time": "2022-10-19T16:33:20.394Z"
   },
   {
    "duration": 70,
    "start_time": "2022-10-19T16:34:46.368Z"
   },
   {
    "duration": 7,
    "start_time": "2022-10-19T16:34:51.500Z"
   },
   {
    "duration": 7,
    "start_time": "2022-10-19T16:34:55.489Z"
   },
   {
    "duration": 33,
    "start_time": "2022-10-19T16:35:13.358Z"
   },
   {
    "duration": 42,
    "start_time": "2022-10-19T16:35:37.793Z"
   },
   {
    "duration": 21,
    "start_time": "2022-10-19T16:35:48.299Z"
   },
   {
    "duration": 43,
    "start_time": "2022-10-19T16:36:19.618Z"
   },
   {
    "duration": 22,
    "start_time": "2022-10-19T16:36:39.988Z"
   },
   {
    "duration": 5,
    "start_time": "2022-10-19T16:38:15.592Z"
   },
   {
    "duration": 22,
    "start_time": "2022-10-19T16:44:02.698Z"
   },
   {
    "duration": 20,
    "start_time": "2022-10-19T16:46:51.486Z"
   },
   {
    "duration": 735,
    "start_time": "2022-10-19T16:48:24.347Z"
   },
   {
    "duration": 17,
    "start_time": "2022-10-19T16:48:25.084Z"
   },
   {
    "duration": 38,
    "start_time": "2022-10-19T16:48:25.102Z"
   },
   {
    "duration": 2061,
    "start_time": "2022-10-19T16:48:25.142Z"
   },
   {
    "duration": 9,
    "start_time": "2022-10-19T16:48:27.205Z"
   },
   {
    "duration": 28,
    "start_time": "2022-10-19T16:48:27.216Z"
   },
   {
    "duration": 43,
    "start_time": "2022-10-19T16:48:27.246Z"
   },
   {
    "duration": 8,
    "start_time": "2022-10-19T16:48:27.290Z"
   },
   {
    "duration": 10,
    "start_time": "2022-10-19T16:48:27.299Z"
   },
   {
    "duration": 60,
    "start_time": "2022-10-19T16:48:27.311Z"
   },
   {
    "duration": 5,
    "start_time": "2022-10-19T16:48:27.373Z"
   },
   {
    "duration": 4,
    "start_time": "2022-10-19T16:48:27.380Z"
   },
   {
    "duration": 12,
    "start_time": "2022-10-19T16:48:27.385Z"
   },
   {
    "duration": 127,
    "start_time": "2022-10-19T16:48:27.400Z"
   },
   {
    "duration": 0,
    "start_time": "2022-10-19T16:48:27.528Z"
   },
   {
    "duration": 0,
    "start_time": "2022-10-19T16:48:27.530Z"
   },
   {
    "duration": 0,
    "start_time": "2022-10-19T16:48:27.531Z"
   },
   {
    "duration": 0,
    "start_time": "2022-10-19T16:48:27.532Z"
   },
   {
    "duration": 0,
    "start_time": "2022-10-19T16:48:27.533Z"
   },
   {
    "duration": 0,
    "start_time": "2022-10-19T16:48:27.534Z"
   },
   {
    "duration": 0,
    "start_time": "2022-10-19T16:48:27.536Z"
   },
   {
    "duration": 0,
    "start_time": "2022-10-19T16:48:27.537Z"
   },
   {
    "duration": 0,
    "start_time": "2022-10-19T16:48:27.538Z"
   },
   {
    "duration": 0,
    "start_time": "2022-10-19T16:48:27.539Z"
   },
   {
    "duration": 0,
    "start_time": "2022-10-19T16:48:27.540Z"
   },
   {
    "duration": 0,
    "start_time": "2022-10-19T16:48:27.541Z"
   },
   {
    "duration": 0,
    "start_time": "2022-10-19T16:48:27.542Z"
   },
   {
    "duration": 725,
    "start_time": "2022-10-19T16:49:03.580Z"
   },
   {
    "duration": 17,
    "start_time": "2022-10-19T16:49:04.307Z"
   },
   {
    "duration": 31,
    "start_time": "2022-10-19T16:49:04.326Z"
   },
   {
    "duration": 2052,
    "start_time": "2022-10-19T16:49:04.359Z"
   },
   {
    "duration": 9,
    "start_time": "2022-10-19T16:49:06.413Z"
   },
   {
    "duration": 51,
    "start_time": "2022-10-19T16:49:06.424Z"
   },
   {
    "duration": 42,
    "start_time": "2022-10-19T16:49:06.477Z"
   },
   {
    "duration": 8,
    "start_time": "2022-10-19T16:49:06.520Z"
   },
   {
    "duration": 12,
    "start_time": "2022-10-19T16:49:06.529Z"
   },
   {
    "duration": 56,
    "start_time": "2022-10-19T16:49:06.543Z"
   },
   {
    "duration": 5,
    "start_time": "2022-10-19T16:49:06.601Z"
   },
   {
    "duration": 17,
    "start_time": "2022-10-19T16:49:06.607Z"
   },
   {
    "duration": 9,
    "start_time": "2022-10-19T16:49:06.627Z"
   },
   {
    "duration": 85,
    "start_time": "2022-10-19T16:49:06.640Z"
   },
   {
    "duration": 0,
    "start_time": "2022-10-19T16:49:06.727Z"
   },
   {
    "duration": 0,
    "start_time": "2022-10-19T16:49:06.728Z"
   },
   {
    "duration": 0,
    "start_time": "2022-10-19T16:49:06.730Z"
   },
   {
    "duration": 0,
    "start_time": "2022-10-19T16:49:06.732Z"
   },
   {
    "duration": 0,
    "start_time": "2022-10-19T16:49:06.733Z"
   },
   {
    "duration": 0,
    "start_time": "2022-10-19T16:49:06.735Z"
   },
   {
    "duration": 0,
    "start_time": "2022-10-19T16:49:06.736Z"
   },
   {
    "duration": 0,
    "start_time": "2022-10-19T16:49:06.738Z"
   },
   {
    "duration": 0,
    "start_time": "2022-10-19T16:49:06.739Z"
   },
   {
    "duration": 0,
    "start_time": "2022-10-19T16:49:06.741Z"
   },
   {
    "duration": 0,
    "start_time": "2022-10-19T16:49:06.743Z"
   },
   {
    "duration": 0,
    "start_time": "2022-10-19T16:49:06.744Z"
   },
   {
    "duration": 0,
    "start_time": "2022-10-19T16:49:06.746Z"
   },
   {
    "duration": 13,
    "start_time": "2022-10-19T16:49:54.508Z"
   },
   {
    "duration": 722,
    "start_time": "2022-10-19T16:50:05.041Z"
   },
   {
    "duration": 17,
    "start_time": "2022-10-19T16:50:05.765Z"
   },
   {
    "duration": 41,
    "start_time": "2022-10-19T16:50:05.783Z"
   },
   {
    "duration": 2074,
    "start_time": "2022-10-19T16:50:05.825Z"
   },
   {
    "duration": 11,
    "start_time": "2022-10-19T16:50:07.901Z"
   },
   {
    "duration": 34,
    "start_time": "2022-10-19T16:50:07.914Z"
   },
   {
    "duration": 43,
    "start_time": "2022-10-19T16:50:07.950Z"
   },
   {
    "duration": 8,
    "start_time": "2022-10-19T16:50:07.994Z"
   },
   {
    "duration": 18,
    "start_time": "2022-10-19T16:50:08.004Z"
   },
   {
    "duration": 56,
    "start_time": "2022-10-19T16:50:08.024Z"
   },
   {
    "duration": 6,
    "start_time": "2022-10-19T16:50:08.081Z"
   },
   {
    "duration": 16,
    "start_time": "2022-10-19T16:50:08.088Z"
   },
   {
    "duration": 16,
    "start_time": "2022-10-19T16:50:08.106Z"
   },
   {
    "duration": 92,
    "start_time": "2022-10-19T16:50:08.124Z"
   },
   {
    "duration": 0,
    "start_time": "2022-10-19T16:50:08.218Z"
   },
   {
    "duration": 0,
    "start_time": "2022-10-19T16:50:08.219Z"
   },
   {
    "duration": 0,
    "start_time": "2022-10-19T16:50:08.220Z"
   },
   {
    "duration": 0,
    "start_time": "2022-10-19T16:50:08.221Z"
   },
   {
    "duration": 0,
    "start_time": "2022-10-19T16:50:08.222Z"
   },
   {
    "duration": 0,
    "start_time": "2022-10-19T16:50:08.224Z"
   },
   {
    "duration": 0,
    "start_time": "2022-10-19T16:50:08.225Z"
   },
   {
    "duration": 0,
    "start_time": "2022-10-19T16:50:08.226Z"
   },
   {
    "duration": 0,
    "start_time": "2022-10-19T16:50:08.226Z"
   },
   {
    "duration": 0,
    "start_time": "2022-10-19T16:50:08.228Z"
   },
   {
    "duration": 0,
    "start_time": "2022-10-19T16:50:08.229Z"
   },
   {
    "duration": 0,
    "start_time": "2022-10-19T16:50:08.230Z"
   },
   {
    "duration": 0,
    "start_time": "2022-10-19T16:50:08.231Z"
   },
   {
    "duration": 754,
    "start_time": "2022-10-19T16:50:55.419Z"
   },
   {
    "duration": 16,
    "start_time": "2022-10-19T16:50:56.175Z"
   },
   {
    "duration": 37,
    "start_time": "2022-10-19T16:50:56.193Z"
   },
   {
    "duration": 2068,
    "start_time": "2022-10-19T16:50:56.231Z"
   },
   {
    "duration": 11,
    "start_time": "2022-10-19T16:50:58.301Z"
   },
   {
    "duration": 28,
    "start_time": "2022-10-19T16:50:58.314Z"
   },
   {
    "duration": 43,
    "start_time": "2022-10-19T16:50:58.343Z"
   },
   {
    "duration": 7,
    "start_time": "2022-10-19T16:50:58.388Z"
   },
   {
    "duration": 27,
    "start_time": "2022-10-19T16:50:58.397Z"
   },
   {
    "duration": 51,
    "start_time": "2022-10-19T16:50:58.426Z"
   },
   {
    "duration": 6,
    "start_time": "2022-10-19T16:50:58.479Z"
   },
   {
    "duration": 6,
    "start_time": "2022-10-19T16:50:58.486Z"
   },
   {
    "duration": 27,
    "start_time": "2022-10-19T16:50:58.493Z"
   },
   {
    "duration": 22,
    "start_time": "2022-10-19T16:50:58.523Z"
   },
   {
    "duration": 32,
    "start_time": "2022-10-19T16:50:58.547Z"
   },
   {
    "duration": 5,
    "start_time": "2022-10-19T16:50:58.581Z"
   },
   {
    "duration": 7,
    "start_time": "2022-10-19T16:50:58.587Z"
   },
   {
    "duration": 8,
    "start_time": "2022-10-19T16:50:58.596Z"
   },
   {
    "duration": 9,
    "start_time": "2022-10-19T16:50:58.606Z"
   },
   {
    "duration": 24,
    "start_time": "2022-10-19T16:50:58.621Z"
   },
   {
    "duration": 25,
    "start_time": "2022-10-19T16:50:58.647Z"
   },
   {
    "duration": 13,
    "start_time": "2022-10-19T16:50:58.673Z"
   },
   {
    "duration": 8,
    "start_time": "2022-10-19T16:50:58.687Z"
   },
   {
    "duration": 48,
    "start_time": "2022-10-19T16:50:58.696Z"
   },
   {
    "duration": 26,
    "start_time": "2022-10-19T16:50:58.746Z"
   },
   {
    "duration": 15,
    "start_time": "2022-10-19T16:50:58.774Z"
   },
   {
    "duration": 5,
    "start_time": "2022-10-19T16:55:11.355Z"
   },
   {
    "duration": 693,
    "start_time": "2022-10-19T16:55:17.974Z"
   },
   {
    "duration": 16,
    "start_time": "2022-10-19T16:55:18.669Z"
   },
   {
    "duration": 43,
    "start_time": "2022-10-19T16:55:18.687Z"
   },
   {
    "duration": 2123,
    "start_time": "2022-10-19T16:55:18.732Z"
   },
   {
    "duration": 10,
    "start_time": "2022-10-19T16:55:20.857Z"
   },
   {
    "duration": 34,
    "start_time": "2022-10-19T16:55:20.869Z"
   },
   {
    "duration": 49,
    "start_time": "2022-10-19T16:55:20.904Z"
   },
   {
    "duration": 8,
    "start_time": "2022-10-19T16:55:20.954Z"
   },
   {
    "duration": 28,
    "start_time": "2022-10-19T16:55:20.964Z"
   },
   {
    "duration": 83,
    "start_time": "2022-10-19T16:55:20.994Z"
   },
   {
    "duration": 5,
    "start_time": "2022-10-19T16:55:21.079Z"
   },
   {
    "duration": 20,
    "start_time": "2022-10-19T16:55:21.086Z"
   },
   {
    "duration": 26,
    "start_time": "2022-10-19T16:55:21.107Z"
   },
   {
    "duration": 44,
    "start_time": "2022-10-19T16:55:21.136Z"
   },
   {
    "duration": 20,
    "start_time": "2022-10-19T16:55:21.182Z"
   },
   {
    "duration": 29,
    "start_time": "2022-10-19T16:55:21.204Z"
   },
   {
    "duration": 40,
    "start_time": "2022-10-19T16:55:21.235Z"
   },
   {
    "duration": 26,
    "start_time": "2022-10-19T16:55:21.276Z"
   },
   {
    "duration": 20,
    "start_time": "2022-10-19T16:55:21.304Z"
   },
   {
    "duration": 46,
    "start_time": "2022-10-19T16:55:21.326Z"
   },
   {
    "duration": 28,
    "start_time": "2022-10-19T16:55:21.374Z"
   },
   {
    "duration": 25,
    "start_time": "2022-10-19T16:55:21.403Z"
   },
   {
    "duration": 36,
    "start_time": "2022-10-19T16:55:21.430Z"
   },
   {
    "duration": 27,
    "start_time": "2022-10-19T16:55:21.468Z"
   },
   {
    "duration": 23,
    "start_time": "2022-10-19T16:55:21.497Z"
   },
   {
    "duration": 41,
    "start_time": "2022-10-19T16:55:21.522Z"
   },
   {
    "duration": 33,
    "start_time": "2022-10-19T16:55:21.565Z"
   },
   {
    "duration": 717,
    "start_time": "2022-10-19T16:57:17.836Z"
   },
   {
    "duration": 15,
    "start_time": "2022-10-19T16:57:18.555Z"
   },
   {
    "duration": 40,
    "start_time": "2022-10-19T16:57:18.571Z"
   },
   {
    "duration": 2210,
    "start_time": "2022-10-19T16:57:18.613Z"
   },
   {
    "duration": 9,
    "start_time": "2022-10-19T16:57:20.826Z"
   },
   {
    "duration": 41,
    "start_time": "2022-10-19T16:57:20.836Z"
   },
   {
    "duration": 52,
    "start_time": "2022-10-19T16:57:20.879Z"
   },
   {
    "duration": 8,
    "start_time": "2022-10-19T16:57:20.933Z"
   },
   {
    "duration": 19,
    "start_time": "2022-10-19T16:57:20.942Z"
   },
   {
    "duration": 67,
    "start_time": "2022-10-19T16:57:20.963Z"
   },
   {
    "duration": 5,
    "start_time": "2022-10-19T16:57:21.032Z"
   },
   {
    "duration": 32,
    "start_time": "2022-10-19T16:57:21.039Z"
   },
   {
    "duration": 18,
    "start_time": "2022-10-19T16:57:21.073Z"
   },
   {
    "duration": 31,
    "start_time": "2022-10-19T16:57:21.093Z"
   },
   {
    "duration": 17,
    "start_time": "2022-10-19T16:57:21.126Z"
   },
   {
    "duration": 30,
    "start_time": "2022-10-19T16:57:21.145Z"
   },
   {
    "duration": 25,
    "start_time": "2022-10-19T16:57:21.177Z"
   },
   {
    "duration": 24,
    "start_time": "2022-10-19T16:57:21.205Z"
   },
   {
    "duration": 21,
    "start_time": "2022-10-19T16:57:21.231Z"
   },
   {
    "duration": 33,
    "start_time": "2022-10-19T16:57:21.254Z"
   },
   {
    "duration": 37,
    "start_time": "2022-10-19T16:57:21.290Z"
   },
   {
    "duration": 13,
    "start_time": "2022-10-19T16:57:21.329Z"
   },
   {
    "duration": 35,
    "start_time": "2022-10-19T16:57:21.344Z"
   },
   {
    "duration": 27,
    "start_time": "2022-10-19T16:57:21.381Z"
   },
   {
    "duration": 15,
    "start_time": "2022-10-19T16:57:21.410Z"
   },
   {
    "duration": 24,
    "start_time": "2022-10-19T16:57:21.427Z"
   },
   {
    "duration": 15,
    "start_time": "2022-10-19T16:57:21.454Z"
   },
   {
    "duration": 38,
    "start_time": "2022-10-19T16:57:49.295Z"
   },
   {
    "duration": 24,
    "start_time": "2022-10-19T16:58:21.871Z"
   },
   {
    "duration": 756,
    "start_time": "2022-10-19T17:00:03.788Z"
   },
   {
    "duration": 15,
    "start_time": "2022-10-19T17:00:04.546Z"
   },
   {
    "duration": 30,
    "start_time": "2022-10-19T17:00:04.563Z"
   },
   {
    "duration": 2100,
    "start_time": "2022-10-19T17:00:04.595Z"
   },
   {
    "duration": 11,
    "start_time": "2022-10-19T17:00:06.699Z"
   },
   {
    "duration": 54,
    "start_time": "2022-10-19T17:00:06.711Z"
   },
   {
    "duration": 44,
    "start_time": "2022-10-19T17:00:06.767Z"
   },
   {
    "duration": 8,
    "start_time": "2022-10-19T17:00:06.813Z"
   },
   {
    "duration": 30,
    "start_time": "2022-10-19T17:00:06.822Z"
   },
   {
    "duration": 75,
    "start_time": "2022-10-19T17:00:06.853Z"
   },
   {
    "duration": 5,
    "start_time": "2022-10-19T17:00:06.930Z"
   },
   {
    "duration": 46,
    "start_time": "2022-10-19T17:00:06.937Z"
   },
   {
    "duration": 48,
    "start_time": "2022-10-19T17:00:06.985Z"
   },
   {
    "duration": 43,
    "start_time": "2022-10-19T17:00:07.036Z"
   },
   {
    "duration": 34,
    "start_time": "2022-10-19T17:00:07.080Z"
   },
   {
    "duration": 17,
    "start_time": "2022-10-19T17:00:07.115Z"
   },
   {
    "duration": 34,
    "start_time": "2022-10-19T17:00:07.133Z"
   },
   {
    "duration": 94,
    "start_time": "2022-10-19T17:00:07.169Z"
   },
   {
    "duration": 23,
    "start_time": "2022-10-19T17:00:07.265Z"
   },
   {
    "duration": 36,
    "start_time": "2022-10-19T17:00:07.290Z"
   },
   {
    "duration": 23,
    "start_time": "2022-10-19T17:00:07.328Z"
   },
   {
    "duration": 12,
    "start_time": "2022-10-19T17:00:07.353Z"
   },
   {
    "duration": 11,
    "start_time": "2022-10-19T17:00:07.366Z"
   },
   {
    "duration": 51,
    "start_time": "2022-10-19T17:00:07.379Z"
   },
   {
    "duration": 12,
    "start_time": "2022-10-19T17:00:07.432Z"
   },
   {
    "duration": 47,
    "start_time": "2022-10-19T17:00:07.445Z"
   },
   {
    "duration": 30,
    "start_time": "2022-10-19T17:00:07.494Z"
   },
   {
    "duration": 754,
    "start_time": "2022-10-19T17:19:19.504Z"
   },
   {
    "duration": 16,
    "start_time": "2022-10-19T17:19:20.260Z"
   },
   {
    "duration": 43,
    "start_time": "2022-10-19T17:19:20.278Z"
   },
   {
    "duration": 2080,
    "start_time": "2022-10-19T17:19:20.323Z"
   },
   {
    "duration": 9,
    "start_time": "2022-10-19T17:19:22.405Z"
   },
   {
    "duration": 35,
    "start_time": "2022-10-19T17:19:22.416Z"
   },
   {
    "duration": 41,
    "start_time": "2022-10-19T17:19:22.452Z"
   },
   {
    "duration": 7,
    "start_time": "2022-10-19T17:19:22.496Z"
   },
   {
    "duration": 20,
    "start_time": "2022-10-19T17:19:22.505Z"
   },
   {
    "duration": 57,
    "start_time": "2022-10-19T17:19:22.527Z"
   },
   {
    "duration": 7,
    "start_time": "2022-10-19T17:19:22.586Z"
   },
   {
    "duration": 13,
    "start_time": "2022-10-19T17:19:22.594Z"
   },
   {
    "duration": 18,
    "start_time": "2022-10-19T17:19:22.609Z"
   },
   {
    "duration": 67,
    "start_time": "2022-10-19T17:19:22.630Z"
   },
   {
    "duration": 8,
    "start_time": "2022-10-19T17:19:22.699Z"
   },
   {
    "duration": 21,
    "start_time": "2022-10-19T17:19:22.708Z"
   },
   {
    "duration": 14,
    "start_time": "2022-10-19T17:19:22.731Z"
   },
   {
    "duration": 21,
    "start_time": "2022-10-19T17:19:22.746Z"
   },
   {
    "duration": 24,
    "start_time": "2022-10-19T17:19:22.769Z"
   },
   {
    "duration": 26,
    "start_time": "2022-10-19T17:19:22.795Z"
   },
   {
    "duration": 28,
    "start_time": "2022-10-19T17:19:22.822Z"
   },
   {
    "duration": 11,
    "start_time": "2022-10-19T17:19:22.852Z"
   },
   {
    "duration": 7,
    "start_time": "2022-10-19T17:19:22.865Z"
   },
   {
    "duration": 33,
    "start_time": "2022-10-19T17:19:22.874Z"
   },
   {
    "duration": 15,
    "start_time": "2022-10-19T17:19:22.909Z"
   },
   {
    "duration": 42,
    "start_time": "2022-10-19T17:19:22.926Z"
   },
   {
    "duration": 24,
    "start_time": "2022-10-19T17:19:22.971Z"
   },
   {
    "duration": 77,
    "start_time": "2022-10-19T18:30:30.902Z"
   },
   {
    "duration": 26,
    "start_time": "2022-10-19T18:30:38.387Z"
   },
   {
    "duration": 786,
    "start_time": "2022-10-19T18:33:22.441Z"
   },
   {
    "duration": 17,
    "start_time": "2022-10-19T18:33:23.230Z"
   },
   {
    "duration": 37,
    "start_time": "2022-10-19T18:33:23.249Z"
   },
   {
    "duration": 2140,
    "start_time": "2022-10-19T18:33:23.287Z"
   },
   {
    "duration": 11,
    "start_time": "2022-10-19T18:33:25.429Z"
   },
   {
    "duration": 34,
    "start_time": "2022-10-19T18:33:25.442Z"
   },
   {
    "duration": 59,
    "start_time": "2022-10-19T18:33:25.477Z"
   },
   {
    "duration": 9,
    "start_time": "2022-10-19T18:33:25.537Z"
   },
   {
    "duration": 33,
    "start_time": "2022-10-19T18:33:25.548Z"
   },
   {
    "duration": 81,
    "start_time": "2022-10-19T18:33:25.583Z"
   },
   {
    "duration": 6,
    "start_time": "2022-10-19T18:33:25.667Z"
   },
   {
    "duration": 23,
    "start_time": "2022-10-19T18:33:25.675Z"
   },
   {
    "duration": 17,
    "start_time": "2022-10-19T18:33:25.700Z"
   },
   {
    "duration": 54,
    "start_time": "2022-10-19T18:33:25.720Z"
   },
   {
    "duration": 14,
    "start_time": "2022-10-19T18:33:25.775Z"
   },
   {
    "duration": 45,
    "start_time": "2022-10-19T18:33:25.790Z"
   },
   {
    "duration": 37,
    "start_time": "2022-10-19T18:33:25.837Z"
   },
   {
    "duration": 13,
    "start_time": "2022-10-19T18:33:25.876Z"
   },
   {
    "duration": 37,
    "start_time": "2022-10-19T18:33:25.891Z"
   },
   {
    "duration": 48,
    "start_time": "2022-10-19T18:33:25.930Z"
   },
   {
    "duration": 32,
    "start_time": "2022-10-19T18:33:25.980Z"
   },
   {
    "duration": 25,
    "start_time": "2022-10-19T18:33:26.013Z"
   },
   {
    "duration": 27,
    "start_time": "2022-10-19T18:33:26.040Z"
   },
   {
    "duration": 44,
    "start_time": "2022-10-19T18:33:26.070Z"
   },
   {
    "duration": 12,
    "start_time": "2022-10-19T18:33:26.115Z"
   },
   {
    "duration": 28,
    "start_time": "2022-10-19T18:33:26.129Z"
   },
   {
    "duration": 34,
    "start_time": "2022-10-19T18:33:26.159Z"
   },
   {
    "duration": 19,
    "start_time": "2022-10-19T18:33:26.195Z"
   },
   {
    "duration": 34,
    "start_time": "2022-10-19T18:33:26.216Z"
   },
   {
    "duration": 45,
    "start_time": "2022-10-19T18:33:26.252Z"
   },
   {
    "duration": 0,
    "start_time": "2022-10-19T18:33:26.299Z"
   },
   {
    "duration": 0,
    "start_time": "2022-10-19T18:33:26.301Z"
   },
   {
    "duration": 0,
    "start_time": "2022-10-19T18:33:26.302Z"
   },
   {
    "duration": 0,
    "start_time": "2022-10-19T18:33:26.304Z"
   },
   {
    "duration": 0,
    "start_time": "2022-10-19T18:33:26.306Z"
   },
   {
    "duration": 753,
    "start_time": "2022-10-19T18:33:46.315Z"
   },
   {
    "duration": 17,
    "start_time": "2022-10-19T18:33:47.071Z"
   },
   {
    "duration": 46,
    "start_time": "2022-10-19T18:33:47.090Z"
   },
   {
    "duration": 2237,
    "start_time": "2022-10-19T18:33:47.138Z"
   },
   {
    "duration": 10,
    "start_time": "2022-10-19T18:33:49.377Z"
   },
   {
    "duration": 39,
    "start_time": "2022-10-19T18:33:49.388Z"
   },
   {
    "duration": 43,
    "start_time": "2022-10-19T18:33:49.428Z"
   },
   {
    "duration": 8,
    "start_time": "2022-10-19T18:33:49.473Z"
   },
   {
    "duration": 47,
    "start_time": "2022-10-19T18:33:49.483Z"
   },
   {
    "duration": 70,
    "start_time": "2022-10-19T18:33:49.533Z"
   },
   {
    "duration": 6,
    "start_time": "2022-10-19T18:33:49.605Z"
   },
   {
    "duration": 23,
    "start_time": "2022-10-19T18:33:49.613Z"
   },
   {
    "duration": 34,
    "start_time": "2022-10-19T18:33:49.638Z"
   },
   {
    "duration": 60,
    "start_time": "2022-10-19T18:33:49.674Z"
   },
   {
    "duration": 31,
    "start_time": "2022-10-19T18:33:49.736Z"
   },
   {
    "duration": 22,
    "start_time": "2022-10-19T18:33:49.768Z"
   },
   {
    "duration": 36,
    "start_time": "2022-10-19T18:33:49.792Z"
   },
   {
    "duration": 43,
    "start_time": "2022-10-19T18:33:49.831Z"
   },
   {
    "duration": 45,
    "start_time": "2022-10-19T18:33:49.876Z"
   },
   {
    "duration": 25,
    "start_time": "2022-10-19T18:33:49.923Z"
   },
   {
    "duration": 37,
    "start_time": "2022-10-19T18:33:49.951Z"
   },
   {
    "duration": 26,
    "start_time": "2022-10-19T18:33:49.990Z"
   },
   {
    "duration": 17,
    "start_time": "2022-10-19T18:33:50.019Z"
   },
   {
    "duration": 50,
    "start_time": "2022-10-19T18:33:50.038Z"
   },
   {
    "duration": 8,
    "start_time": "2022-10-19T18:33:50.089Z"
   },
   {
    "duration": 82,
    "start_time": "2022-10-19T18:33:50.098Z"
   },
   {
    "duration": 19,
    "start_time": "2022-10-19T18:33:50.182Z"
   },
   {
    "duration": 5,
    "start_time": "2022-10-19T18:33:50.204Z"
   },
   {
    "duration": 11,
    "start_time": "2022-10-19T18:33:50.211Z"
   },
   {
    "duration": 9,
    "start_time": "2022-10-19T18:33:50.223Z"
   },
   {
    "duration": 31,
    "start_time": "2022-10-19T18:33:50.234Z"
   },
   {
    "duration": 318,
    "start_time": "2022-10-19T18:39:31.719Z"
   },
   {
    "duration": 26,
    "start_time": "2022-10-19T18:39:44.571Z"
   },
   {
    "duration": 843,
    "start_time": "2022-10-19T18:40:28.438Z"
   },
   {
    "duration": 16,
    "start_time": "2022-10-19T18:40:29.283Z"
   },
   {
    "duration": 42,
    "start_time": "2022-10-19T18:40:29.301Z"
   },
   {
    "duration": 2141,
    "start_time": "2022-10-19T18:40:29.346Z"
   },
   {
    "duration": 9,
    "start_time": "2022-10-19T18:40:31.490Z"
   },
   {
    "duration": 33,
    "start_time": "2022-10-19T18:40:31.501Z"
   },
   {
    "duration": 43,
    "start_time": "2022-10-19T18:40:31.535Z"
   },
   {
    "duration": 8,
    "start_time": "2022-10-19T18:40:31.580Z"
   },
   {
    "duration": 31,
    "start_time": "2022-10-19T18:40:31.590Z"
   },
   {
    "duration": 58,
    "start_time": "2022-10-19T18:40:31.625Z"
   },
   {
    "duration": 6,
    "start_time": "2022-10-19T18:40:31.684Z"
   },
   {
    "duration": 31,
    "start_time": "2022-10-19T18:40:31.691Z"
   },
   {
    "duration": 21,
    "start_time": "2022-10-19T18:40:31.724Z"
   },
   {
    "duration": 24,
    "start_time": "2022-10-19T18:40:31.747Z"
   },
   {
    "duration": 15,
    "start_time": "2022-10-19T18:40:31.773Z"
   },
   {
    "duration": 6,
    "start_time": "2022-10-19T18:40:31.790Z"
   },
   {
    "duration": 8,
    "start_time": "2022-10-19T18:40:31.798Z"
   },
   {
    "duration": 34,
    "start_time": "2022-10-19T18:40:31.808Z"
   },
   {
    "duration": 43,
    "start_time": "2022-10-19T18:40:31.844Z"
   },
   {
    "duration": 49,
    "start_time": "2022-10-19T18:40:31.889Z"
   },
   {
    "duration": 21,
    "start_time": "2022-10-19T18:40:31.940Z"
   },
   {
    "duration": 12,
    "start_time": "2022-10-19T18:40:31.963Z"
   },
   {
    "duration": 27,
    "start_time": "2022-10-19T18:40:31.977Z"
   },
   {
    "duration": 70,
    "start_time": "2022-10-19T18:40:32.006Z"
   },
   {
    "duration": 14,
    "start_time": "2022-10-19T18:40:32.078Z"
   },
   {
    "duration": 63,
    "start_time": "2022-10-19T18:40:32.095Z"
   },
   {
    "duration": 45,
    "start_time": "2022-10-19T18:40:32.160Z"
   },
   {
    "duration": 12,
    "start_time": "2022-10-19T18:40:32.209Z"
   },
   {
    "duration": 41,
    "start_time": "2022-10-19T18:40:32.223Z"
   },
   {
    "duration": 29,
    "start_time": "2022-10-19T18:40:32.266Z"
   },
   {
    "duration": 18,
    "start_time": "2022-10-19T18:40:32.296Z"
   },
   {
    "duration": 306,
    "start_time": "2022-10-19T18:40:32.315Z"
   },
   {
    "duration": 6,
    "start_time": "2022-10-19T18:47:14.759Z"
   },
   {
    "duration": 5,
    "start_time": "2022-10-19T18:47:34.388Z"
   },
   {
    "duration": 4,
    "start_time": "2022-10-19T18:48:18.798Z"
   },
   {
    "duration": 16,
    "start_time": "2022-10-19T18:49:52.768Z"
   },
   {
    "duration": 781,
    "start_time": "2022-10-19T18:50:08.800Z"
   },
   {
    "duration": 15,
    "start_time": "2022-10-19T18:50:09.583Z"
   },
   {
    "duration": 49,
    "start_time": "2022-10-19T18:50:09.600Z"
   },
   {
    "duration": 2112,
    "start_time": "2022-10-19T18:50:09.651Z"
   },
   {
    "duration": 11,
    "start_time": "2022-10-19T18:50:11.767Z"
   },
   {
    "duration": 26,
    "start_time": "2022-10-19T18:50:11.780Z"
   },
   {
    "duration": 54,
    "start_time": "2022-10-19T18:50:11.808Z"
   },
   {
    "duration": 12,
    "start_time": "2022-10-19T18:50:11.863Z"
   },
   {
    "duration": 13,
    "start_time": "2022-10-19T18:50:11.877Z"
   },
   {
    "duration": 66,
    "start_time": "2022-10-19T18:50:11.892Z"
   },
   {
    "duration": 5,
    "start_time": "2022-10-19T18:50:11.961Z"
   },
   {
    "duration": 8,
    "start_time": "2022-10-19T18:50:11.969Z"
   },
   {
    "duration": 30,
    "start_time": "2022-10-19T18:50:11.979Z"
   },
   {
    "duration": 34,
    "start_time": "2022-10-19T18:50:12.012Z"
   },
   {
    "duration": 17,
    "start_time": "2022-10-19T18:50:12.048Z"
   },
   {
    "duration": 11,
    "start_time": "2022-10-19T18:50:12.066Z"
   },
   {
    "duration": 10,
    "start_time": "2022-10-19T18:50:12.079Z"
   },
   {
    "duration": 15,
    "start_time": "2022-10-19T18:50:12.091Z"
   },
   {
    "duration": 9,
    "start_time": "2022-10-19T18:50:12.108Z"
   },
   {
    "duration": 25,
    "start_time": "2022-10-19T18:50:12.119Z"
   },
   {
    "duration": 22,
    "start_time": "2022-10-19T18:50:12.146Z"
   },
   {
    "duration": 12,
    "start_time": "2022-10-19T18:50:12.170Z"
   },
   {
    "duration": 9,
    "start_time": "2022-10-19T18:50:12.184Z"
   },
   {
    "duration": 45,
    "start_time": "2022-10-19T18:50:12.195Z"
   },
   {
    "duration": 12,
    "start_time": "2022-10-19T18:50:12.242Z"
   },
   {
    "duration": 32,
    "start_time": "2022-10-19T18:50:12.256Z"
   },
   {
    "duration": 31,
    "start_time": "2022-10-19T18:50:12.290Z"
   },
   {
    "duration": 5,
    "start_time": "2022-10-19T18:50:12.322Z"
   },
   {
    "duration": 44,
    "start_time": "2022-10-19T18:50:12.329Z"
   },
   {
    "duration": 30,
    "start_time": "2022-10-19T18:50:12.375Z"
   },
   {
    "duration": 16,
    "start_time": "2022-10-19T18:50:12.407Z"
   },
   {
    "duration": 336,
    "start_time": "2022-10-19T18:50:12.425Z"
   },
   {
    "duration": 86,
    "start_time": "2022-10-19T18:50:12.762Z"
   },
   {
    "duration": 0,
    "start_time": "2022-10-19T18:50:12.849Z"
   },
   {
    "duration": 785,
    "start_time": "2022-10-19T18:50:48.628Z"
   },
   {
    "duration": 15,
    "start_time": "2022-10-19T18:50:49.415Z"
   },
   {
    "duration": 32,
    "start_time": "2022-10-19T18:50:49.432Z"
   },
   {
    "duration": 2234,
    "start_time": "2022-10-19T18:50:49.465Z"
   },
   {
    "duration": 10,
    "start_time": "2022-10-19T18:50:51.702Z"
   },
   {
    "duration": 31,
    "start_time": "2022-10-19T18:50:51.714Z"
   },
   {
    "duration": 47,
    "start_time": "2022-10-19T18:50:51.747Z"
   },
   {
    "duration": 8,
    "start_time": "2022-10-19T18:50:51.796Z"
   },
   {
    "duration": 7,
    "start_time": "2022-10-19T18:50:51.820Z"
   },
   {
    "duration": 104,
    "start_time": "2022-10-19T18:50:51.829Z"
   },
   {
    "duration": 6,
    "start_time": "2022-10-19T18:50:51.934Z"
   },
   {
    "duration": 24,
    "start_time": "2022-10-19T18:50:51.941Z"
   },
   {
    "duration": 16,
    "start_time": "2022-10-19T18:50:51.967Z"
   },
   {
    "duration": 26,
    "start_time": "2022-10-19T18:50:51.986Z"
   },
   {
    "duration": 16,
    "start_time": "2022-10-19T18:50:52.014Z"
   },
   {
    "duration": 9,
    "start_time": "2022-10-19T18:50:52.032Z"
   },
   {
    "duration": 9,
    "start_time": "2022-10-19T18:50:52.043Z"
   },
   {
    "duration": 10,
    "start_time": "2022-10-19T18:50:52.054Z"
   },
   {
    "duration": 12,
    "start_time": "2022-10-19T18:50:52.066Z"
   },
   {
    "duration": 20,
    "start_time": "2022-10-19T18:50:52.080Z"
   },
   {
    "duration": 38,
    "start_time": "2022-10-19T18:50:52.102Z"
   },
   {
    "duration": 29,
    "start_time": "2022-10-19T18:50:52.141Z"
   },
   {
    "duration": 10,
    "start_time": "2022-10-19T18:50:52.172Z"
   },
   {
    "duration": 38,
    "start_time": "2022-10-19T18:50:52.183Z"
   },
   {
    "duration": 5,
    "start_time": "2022-10-19T18:50:52.223Z"
   },
   {
    "duration": 27,
    "start_time": "2022-10-19T18:50:52.229Z"
   },
   {
    "duration": 17,
    "start_time": "2022-10-19T18:50:52.258Z"
   },
   {
    "duration": 5,
    "start_time": "2022-10-19T18:50:52.276Z"
   },
   {
    "duration": 27,
    "start_time": "2022-10-19T18:50:52.283Z"
   },
   {
    "duration": 10,
    "start_time": "2022-10-19T18:50:52.312Z"
   },
   {
    "duration": 6,
    "start_time": "2022-10-19T18:50:52.324Z"
   },
   {
    "duration": 301,
    "start_time": "2022-10-19T18:50:52.332Z"
   },
   {
    "duration": 4,
    "start_time": "2022-10-19T18:50:52.635Z"
   },
   {
    "duration": 135,
    "start_time": "2022-10-19T18:50:52.641Z"
   },
   {
    "duration": 0,
    "start_time": "2022-10-19T18:50:52.779Z"
   },
   {
    "duration": 764,
    "start_time": "2022-10-19T18:53:28.057Z"
   },
   {
    "duration": 19,
    "start_time": "2022-10-19T18:53:28.823Z"
   },
   {
    "duration": 42,
    "start_time": "2022-10-19T18:53:28.844Z"
   },
   {
    "duration": 2307,
    "start_time": "2022-10-19T18:53:28.888Z"
   },
   {
    "duration": 10,
    "start_time": "2022-10-19T18:53:31.198Z"
   },
   {
    "duration": 55,
    "start_time": "2022-10-19T18:53:31.211Z"
   },
   {
    "duration": 48,
    "start_time": "2022-10-19T18:53:31.267Z"
   },
   {
    "duration": 45,
    "start_time": "2022-10-19T18:53:31.318Z"
   },
   {
    "duration": 31,
    "start_time": "2022-10-19T18:53:31.365Z"
   },
   {
    "duration": 94,
    "start_time": "2022-10-19T18:53:31.399Z"
   },
   {
    "duration": 6,
    "start_time": "2022-10-19T18:53:31.495Z"
   },
   {
    "duration": 18,
    "start_time": "2022-10-19T18:53:31.503Z"
   },
   {
    "duration": 20,
    "start_time": "2022-10-19T18:53:31.523Z"
   },
   {
    "duration": 24,
    "start_time": "2022-10-19T18:53:31.545Z"
   },
   {
    "duration": 7,
    "start_time": "2022-10-19T18:53:31.571Z"
   },
   {
    "duration": 15,
    "start_time": "2022-10-19T18:53:31.580Z"
   },
   {
    "duration": 10,
    "start_time": "2022-10-19T18:53:31.596Z"
   },
   {
    "duration": 40,
    "start_time": "2022-10-19T18:53:31.608Z"
   },
   {
    "duration": 21,
    "start_time": "2022-10-19T18:53:31.650Z"
   },
   {
    "duration": 24,
    "start_time": "2022-10-19T18:53:31.673Z"
   },
   {
    "duration": 29,
    "start_time": "2022-10-19T18:53:31.699Z"
   },
   {
    "duration": 35,
    "start_time": "2022-10-19T18:53:31.730Z"
   },
   {
    "duration": 25,
    "start_time": "2022-10-19T18:53:31.767Z"
   },
   {
    "duration": 54,
    "start_time": "2022-10-19T18:53:31.795Z"
   },
   {
    "duration": 7,
    "start_time": "2022-10-19T18:53:31.851Z"
   },
   {
    "duration": 52,
    "start_time": "2022-10-19T18:53:31.860Z"
   },
   {
    "duration": 35,
    "start_time": "2022-10-19T18:53:31.914Z"
   },
   {
    "duration": 7,
    "start_time": "2022-10-19T18:53:31.952Z"
   },
   {
    "duration": 37,
    "start_time": "2022-10-19T18:53:31.961Z"
   },
   {
    "duration": 27,
    "start_time": "2022-10-19T18:53:32.000Z"
   },
   {
    "duration": 27,
    "start_time": "2022-10-19T18:53:32.029Z"
   },
   {
    "duration": 307,
    "start_time": "2022-10-19T18:53:32.058Z"
   },
   {
    "duration": 5,
    "start_time": "2022-10-19T18:53:32.366Z"
   },
   {
    "duration": 11,
    "start_time": "2022-10-19T18:53:32.373Z"
   },
   {
    "duration": 35,
    "start_time": "2022-10-19T18:53:32.386Z"
   },
   {
    "duration": 6,
    "start_time": "2022-10-19T18:54:09.920Z"
   },
   {
    "duration": 9,
    "start_time": "2022-10-19T18:54:31.569Z"
   },
   {
    "duration": 75,
    "start_time": "2022-10-19T18:55:01.560Z"
   },
   {
    "duration": 267,
    "start_time": "2022-10-19T18:55:10.117Z"
   },
   {
    "duration": 5,
    "start_time": "2022-10-19T18:55:17.020Z"
   },
   {
    "duration": 4,
    "start_time": "2022-10-19T18:56:15.931Z"
   },
   {
    "duration": 6,
    "start_time": "2022-10-19T18:57:28.600Z"
   },
   {
    "duration": 11,
    "start_time": "2022-10-19T18:59:09.121Z"
   },
   {
    "duration": 798,
    "start_time": "2022-10-19T19:03:35.600Z"
   },
   {
    "duration": 21,
    "start_time": "2022-10-19T19:03:36.400Z"
   },
   {
    "duration": 34,
    "start_time": "2022-10-19T19:03:36.423Z"
   },
   {
    "duration": 2260,
    "start_time": "2022-10-19T19:03:36.459Z"
   },
   {
    "duration": 9,
    "start_time": "2022-10-19T19:03:38.722Z"
   },
   {
    "duration": 34,
    "start_time": "2022-10-19T19:03:38.733Z"
   },
   {
    "duration": 61,
    "start_time": "2022-10-19T19:03:38.769Z"
   },
   {
    "duration": 8,
    "start_time": "2022-10-19T19:03:38.832Z"
   },
   {
    "duration": 25,
    "start_time": "2022-10-19T19:03:38.842Z"
   },
   {
    "duration": 115,
    "start_time": "2022-10-19T19:03:38.869Z"
   },
   {
    "duration": 8,
    "start_time": "2022-10-19T19:03:38.986Z"
   },
   {
    "duration": 51,
    "start_time": "2022-10-19T19:03:38.995Z"
   },
   {
    "duration": 38,
    "start_time": "2022-10-19T19:03:39.048Z"
   },
   {
    "duration": 54,
    "start_time": "2022-10-19T19:03:39.090Z"
   },
   {
    "duration": 22,
    "start_time": "2022-10-19T19:03:39.147Z"
   },
   {
    "duration": 28,
    "start_time": "2022-10-19T19:03:39.171Z"
   },
   {
    "duration": 26,
    "start_time": "2022-10-19T19:03:39.201Z"
   },
   {
    "duration": 32,
    "start_time": "2022-10-19T19:03:39.228Z"
   },
   {
    "duration": 28,
    "start_time": "2022-10-19T19:03:39.262Z"
   },
   {
    "duration": 32,
    "start_time": "2022-10-19T19:03:39.292Z"
   },
   {
    "duration": 27,
    "start_time": "2022-10-19T19:03:39.326Z"
   },
   {
    "duration": 14,
    "start_time": "2022-10-19T19:03:39.355Z"
   },
   {
    "duration": 15,
    "start_time": "2022-10-19T19:03:39.371Z"
   },
   {
    "duration": 41,
    "start_time": "2022-10-19T19:03:39.388Z"
   },
   {
    "duration": 7,
    "start_time": "2022-10-19T19:03:39.431Z"
   },
   {
    "duration": 49,
    "start_time": "2022-10-19T19:03:39.439Z"
   },
   {
    "duration": 33,
    "start_time": "2022-10-19T19:03:39.490Z"
   },
   {
    "duration": 18,
    "start_time": "2022-10-19T19:03:39.524Z"
   },
   {
    "duration": 27,
    "start_time": "2022-10-19T19:03:39.544Z"
   },
   {
    "duration": 22,
    "start_time": "2022-10-19T19:03:39.573Z"
   },
   {
    "duration": 20,
    "start_time": "2022-10-19T19:03:39.596Z"
   },
   {
    "duration": 296,
    "start_time": "2022-10-19T19:03:39.617Z"
   },
   {
    "duration": 8,
    "start_time": "2022-10-19T19:03:39.914Z"
   },
   {
    "duration": 14,
    "start_time": "2022-10-19T19:03:39.923Z"
   },
   {
    "duration": 21,
    "start_time": "2022-10-19T19:03:39.939Z"
   },
   {
    "duration": 5,
    "start_time": "2022-10-19T19:03:39.962Z"
   },
   {
    "duration": 755,
    "start_time": "2022-10-19T19:13:45.390Z"
   },
   {
    "duration": 20,
    "start_time": "2022-10-19T19:13:46.147Z"
   },
   {
    "duration": 36,
    "start_time": "2022-10-19T19:13:46.169Z"
   },
   {
    "duration": 2125,
    "start_time": "2022-10-19T19:13:46.222Z"
   },
   {
    "duration": 10,
    "start_time": "2022-10-19T19:13:48.350Z"
   },
   {
    "duration": 57,
    "start_time": "2022-10-19T19:13:48.362Z"
   },
   {
    "duration": 41,
    "start_time": "2022-10-19T19:13:48.421Z"
   },
   {
    "duration": 9,
    "start_time": "2022-10-19T19:13:48.464Z"
   },
   {
    "duration": 17,
    "start_time": "2022-10-19T19:13:48.475Z"
   },
   {
    "duration": 73,
    "start_time": "2022-10-19T19:13:48.494Z"
   },
   {
    "duration": 5,
    "start_time": "2022-10-19T19:13:48.569Z"
   },
   {
    "duration": 28,
    "start_time": "2022-10-19T19:13:48.576Z"
   },
   {
    "duration": 12,
    "start_time": "2022-10-19T19:13:48.606Z"
   },
   {
    "duration": 36,
    "start_time": "2022-10-19T19:13:48.622Z"
   },
   {
    "duration": 24,
    "start_time": "2022-10-19T19:13:48.659Z"
   },
   {
    "duration": 25,
    "start_time": "2022-10-19T19:13:48.684Z"
   },
   {
    "duration": 21,
    "start_time": "2022-10-19T19:13:48.711Z"
   },
   {
    "duration": 23,
    "start_time": "2022-10-19T19:13:48.734Z"
   },
   {
    "duration": 41,
    "start_time": "2022-10-19T19:13:48.759Z"
   },
   {
    "duration": 31,
    "start_time": "2022-10-19T19:13:48.802Z"
   },
   {
    "duration": 43,
    "start_time": "2022-10-19T19:13:48.835Z"
   },
   {
    "duration": 66,
    "start_time": "2022-10-19T19:13:48.880Z"
   },
   {
    "duration": 27,
    "start_time": "2022-10-19T19:13:48.948Z"
   },
   {
    "duration": 64,
    "start_time": "2022-10-19T19:13:48.978Z"
   },
   {
    "duration": 6,
    "start_time": "2022-10-19T19:13:49.044Z"
   },
   {
    "duration": 58,
    "start_time": "2022-10-19T19:13:49.053Z"
   },
   {
    "duration": 48,
    "start_time": "2022-10-19T19:13:49.113Z"
   },
   {
    "duration": 18,
    "start_time": "2022-10-19T19:13:49.164Z"
   },
   {
    "duration": 29,
    "start_time": "2022-10-19T19:13:49.184Z"
   },
   {
    "duration": 27,
    "start_time": "2022-10-19T19:13:49.217Z"
   },
   {
    "duration": 28,
    "start_time": "2022-10-19T19:13:49.246Z"
   },
   {
    "duration": 291,
    "start_time": "2022-10-19T19:13:49.276Z"
   },
   {
    "duration": 4,
    "start_time": "2022-10-19T19:13:49.569Z"
   },
   {
    "duration": 31,
    "start_time": "2022-10-19T19:13:49.574Z"
   },
   {
    "duration": 46,
    "start_time": "2022-10-19T19:13:49.607Z"
   },
   {
    "duration": 54,
    "start_time": "2022-10-20T06:25:12.767Z"
   },
   {
    "duration": 888,
    "start_time": "2022-10-20T06:25:22.853Z"
   },
   {
    "duration": 18,
    "start_time": "2022-10-20T06:25:23.744Z"
   },
   {
    "duration": 29,
    "start_time": "2022-10-20T06:25:23.763Z"
   },
   {
    "duration": 1939,
    "start_time": "2022-10-20T06:25:23.794Z"
   },
   {
    "duration": 9,
    "start_time": "2022-10-20T06:25:25.735Z"
   },
   {
    "duration": 26,
    "start_time": "2022-10-20T06:25:25.745Z"
   },
   {
    "duration": 37,
    "start_time": "2022-10-20T06:25:25.772Z"
   },
   {
    "duration": 8,
    "start_time": "2022-10-20T06:25:25.810Z"
   },
   {
    "duration": 7,
    "start_time": "2022-10-20T06:25:25.820Z"
   },
   {
    "duration": 52,
    "start_time": "2022-10-20T06:25:25.829Z"
   },
   {
    "duration": 5,
    "start_time": "2022-10-20T06:25:25.883Z"
   },
   {
    "duration": 22,
    "start_time": "2022-10-20T06:25:25.889Z"
   },
   {
    "duration": 10,
    "start_time": "2022-10-20T06:25:25.913Z"
   },
   {
    "duration": 20,
    "start_time": "2022-10-20T06:25:25.926Z"
   },
   {
    "duration": 8,
    "start_time": "2022-10-20T06:25:25.947Z"
   },
   {
    "duration": 4,
    "start_time": "2022-10-20T06:25:25.956Z"
   },
   {
    "duration": 5,
    "start_time": "2022-10-20T06:25:25.962Z"
   },
   {
    "duration": 6,
    "start_time": "2022-10-20T06:25:25.968Z"
   },
   {
    "duration": 35,
    "start_time": "2022-10-20T06:25:25.976Z"
   },
   {
    "duration": 14,
    "start_time": "2022-10-20T06:25:26.013Z"
   },
   {
    "duration": 17,
    "start_time": "2022-10-20T06:25:26.029Z"
   },
   {
    "duration": 12,
    "start_time": "2022-10-20T06:25:26.048Z"
   },
   {
    "duration": 49,
    "start_time": "2022-10-20T06:25:26.061Z"
   },
   {
    "duration": 27,
    "start_time": "2022-10-20T06:25:26.112Z"
   },
   {
    "duration": 6,
    "start_time": "2022-10-20T06:25:26.141Z"
   },
   {
    "duration": 21,
    "start_time": "2022-10-20T06:25:26.149Z"
   },
   {
    "duration": 36,
    "start_time": "2022-10-20T06:25:26.172Z"
   },
   {
    "duration": 5,
    "start_time": "2022-10-20T06:25:26.210Z"
   },
   {
    "duration": 6,
    "start_time": "2022-10-20T06:25:26.217Z"
   },
   {
    "duration": 5,
    "start_time": "2022-10-20T06:25:26.225Z"
   },
   {
    "duration": 5,
    "start_time": "2022-10-20T06:25:26.232Z"
   },
   {
    "duration": 321,
    "start_time": "2022-10-20T06:25:26.239Z"
   },
   {
    "duration": 4,
    "start_time": "2022-10-20T06:25:26.561Z"
   },
   {
    "duration": 8,
    "start_time": "2022-10-20T06:25:26.566Z"
   },
   {
    "duration": 21,
    "start_time": "2022-10-20T06:25:26.576Z"
   },
   {
    "duration": 266,
    "start_time": "2022-10-20T06:25:26.598Z"
   },
   {
    "duration": 336,
    "start_time": "2022-10-20T06:25:26.865Z"
   },
   {
    "duration": 686,
    "start_time": "2022-10-20T06:26:53.123Z"
   },
   {
    "duration": 15,
    "start_time": "2022-10-20T06:26:53.812Z"
   },
   {
    "duration": 27,
    "start_time": "2022-10-20T06:26:53.829Z"
   },
   {
    "duration": 1815,
    "start_time": "2022-10-20T06:26:53.858Z"
   },
   {
    "duration": 8,
    "start_time": "2022-10-20T06:26:55.675Z"
   },
   {
    "duration": 23,
    "start_time": "2022-10-20T06:26:55.685Z"
   },
   {
    "duration": 37,
    "start_time": "2022-10-20T06:26:55.709Z"
   },
   {
    "duration": 7,
    "start_time": "2022-10-20T06:26:55.747Z"
   },
   {
    "duration": 9,
    "start_time": "2022-10-20T06:26:55.755Z"
   },
   {
    "duration": 60,
    "start_time": "2022-10-20T06:26:55.765Z"
   },
   {
    "duration": 4,
    "start_time": "2022-10-20T06:26:55.826Z"
   },
   {
    "duration": 5,
    "start_time": "2022-10-20T06:26:55.832Z"
   },
   {
    "duration": 17,
    "start_time": "2022-10-20T06:26:55.838Z"
   },
   {
    "duration": 22,
    "start_time": "2022-10-20T06:26:55.858Z"
   },
   {
    "duration": 6,
    "start_time": "2022-10-20T06:26:55.881Z"
   },
   {
    "duration": 7,
    "start_time": "2022-10-20T06:26:55.889Z"
   },
   {
    "duration": 7,
    "start_time": "2022-10-20T06:26:55.909Z"
   },
   {
    "duration": 9,
    "start_time": "2022-10-20T06:26:55.917Z"
   },
   {
    "duration": 4,
    "start_time": "2022-10-20T06:26:55.928Z"
   },
   {
    "duration": 14,
    "start_time": "2022-10-20T06:26:55.934Z"
   },
   {
    "duration": 18,
    "start_time": "2022-10-20T06:26:55.949Z"
   },
   {
    "duration": 11,
    "start_time": "2022-10-20T06:26:55.968Z"
   },
   {
    "duration": 29,
    "start_time": "2022-10-20T06:26:55.981Z"
   },
   {
    "duration": 26,
    "start_time": "2022-10-20T06:26:56.011Z"
   },
   {
    "duration": 17,
    "start_time": "2022-10-20T06:26:56.038Z"
   },
   {
    "duration": 21,
    "start_time": "2022-10-20T06:26:56.056Z"
   },
   {
    "duration": 13,
    "start_time": "2022-10-20T06:26:56.079Z"
   },
   {
    "duration": 16,
    "start_time": "2022-10-20T06:26:56.094Z"
   },
   {
    "duration": 14,
    "start_time": "2022-10-20T06:26:56.112Z"
   },
   {
    "duration": 6,
    "start_time": "2022-10-20T06:26:56.127Z"
   },
   {
    "duration": 5,
    "start_time": "2022-10-20T06:26:56.135Z"
   },
   {
    "duration": 312,
    "start_time": "2022-10-20T06:26:56.142Z"
   },
   {
    "duration": 4,
    "start_time": "2022-10-20T06:26:56.456Z"
   },
   {
    "duration": 13,
    "start_time": "2022-10-20T06:26:56.462Z"
   },
   {
    "duration": 17,
    "start_time": "2022-10-20T06:26:56.476Z"
   },
   {
    "duration": 270,
    "start_time": "2022-10-20T06:26:56.494Z"
   },
   {
    "duration": 334,
    "start_time": "2022-10-20T06:26:56.765Z"
   },
   {
    "duration": 174,
    "start_time": "2022-10-20T06:26:57.101Z"
   },
   {
    "duration": 185,
    "start_time": "2022-10-20T06:26:57.276Z"
   },
   {
    "duration": 714,
    "start_time": "2022-10-20T06:35:42.987Z"
   },
   {
    "duration": 14,
    "start_time": "2022-10-20T06:35:43.704Z"
   },
   {
    "duration": 31,
    "start_time": "2022-10-20T06:35:43.720Z"
   },
   {
    "duration": 1865,
    "start_time": "2022-10-20T06:35:43.752Z"
   },
   {
    "duration": 10,
    "start_time": "2022-10-20T06:35:45.619Z"
   },
   {
    "duration": 27,
    "start_time": "2022-10-20T06:35:45.630Z"
   },
   {
    "duration": 36,
    "start_time": "2022-10-20T06:35:45.658Z"
   },
   {
    "duration": 17,
    "start_time": "2022-10-20T06:35:45.696Z"
   },
   {
    "duration": 9,
    "start_time": "2022-10-20T06:35:45.715Z"
   },
   {
    "duration": 56,
    "start_time": "2022-10-20T06:35:45.726Z"
   },
   {
    "duration": 5,
    "start_time": "2022-10-20T06:35:45.783Z"
   },
   {
    "duration": 22,
    "start_time": "2022-10-20T06:35:45.789Z"
   },
   {
    "duration": 6,
    "start_time": "2022-10-20T06:35:45.812Z"
   },
   {
    "duration": 19,
    "start_time": "2022-10-20T06:35:45.820Z"
   },
   {
    "duration": 7,
    "start_time": "2022-10-20T06:35:45.840Z"
   },
   {
    "duration": 4,
    "start_time": "2022-10-20T06:35:45.848Z"
   },
   {
    "duration": 6,
    "start_time": "2022-10-20T06:35:45.854Z"
   },
   {
    "duration": 5,
    "start_time": "2022-10-20T06:35:45.862Z"
   },
   {
    "duration": 42,
    "start_time": "2022-10-20T06:35:45.869Z"
   },
   {
    "duration": 15,
    "start_time": "2022-10-20T06:35:45.913Z"
   },
   {
    "duration": 19,
    "start_time": "2022-10-20T06:35:45.930Z"
   },
   {
    "duration": 10,
    "start_time": "2022-10-20T06:35:45.951Z"
   },
   {
    "duration": 7,
    "start_time": "2022-10-20T06:35:45.962Z"
   },
   {
    "duration": 52,
    "start_time": "2022-10-20T06:35:45.970Z"
   },
   {
    "duration": 3,
    "start_time": "2022-10-20T06:35:46.024Z"
   },
   {
    "duration": 25,
    "start_time": "2022-10-20T06:35:46.029Z"
   },
   {
    "duration": 14,
    "start_time": "2022-10-20T06:35:46.055Z"
   },
   {
    "duration": 4,
    "start_time": "2022-10-20T06:35:46.071Z"
   },
   {
    "duration": 33,
    "start_time": "2022-10-20T06:35:46.076Z"
   },
   {
    "duration": 5,
    "start_time": "2022-10-20T06:35:46.111Z"
   },
   {
    "duration": 5,
    "start_time": "2022-10-20T06:35:46.118Z"
   },
   {
    "duration": 311,
    "start_time": "2022-10-20T06:35:46.125Z"
   },
   {
    "duration": 4,
    "start_time": "2022-10-20T06:35:46.437Z"
   },
   {
    "duration": 13,
    "start_time": "2022-10-20T06:35:46.442Z"
   },
   {
    "duration": 15,
    "start_time": "2022-10-20T06:35:46.456Z"
   },
   {
    "duration": 169,
    "start_time": "2022-10-20T06:35:46.472Z"
   },
   {
    "duration": 303,
    "start_time": "2022-10-20T06:35:46.643Z"
   },
   {
    "duration": 243,
    "start_time": "2022-10-20T06:35:46.948Z"
   },
   {
    "duration": 182,
    "start_time": "2022-10-20T06:35:47.193Z"
   },
   {
    "duration": 698,
    "start_time": "2022-10-20T06:36:07.401Z"
   },
   {
    "duration": 14,
    "start_time": "2022-10-20T06:36:08.101Z"
   },
   {
    "duration": 34,
    "start_time": "2022-10-20T06:36:08.116Z"
   },
   {
    "duration": 1845,
    "start_time": "2022-10-20T06:36:08.152Z"
   },
   {
    "duration": 10,
    "start_time": "2022-10-20T06:36:10.000Z"
   },
   {
    "duration": 38,
    "start_time": "2022-10-20T06:36:10.011Z"
   },
   {
    "duration": 37,
    "start_time": "2022-10-20T06:36:10.051Z"
   },
   {
    "duration": 8,
    "start_time": "2022-10-20T06:36:10.090Z"
   },
   {
    "duration": 18,
    "start_time": "2022-10-20T06:36:10.099Z"
   },
   {
    "duration": 67,
    "start_time": "2022-10-20T06:36:10.118Z"
   },
   {
    "duration": 5,
    "start_time": "2022-10-20T06:36:10.186Z"
   },
   {
    "duration": 7,
    "start_time": "2022-10-20T06:36:10.193Z"
   },
   {
    "duration": 19,
    "start_time": "2022-10-20T06:36:10.201Z"
   },
   {
    "duration": 32,
    "start_time": "2022-10-20T06:36:10.223Z"
   },
   {
    "duration": 7,
    "start_time": "2022-10-20T06:36:10.257Z"
   },
   {
    "duration": 15,
    "start_time": "2022-10-20T06:36:10.265Z"
   },
   {
    "duration": 16,
    "start_time": "2022-10-20T06:36:10.282Z"
   },
   {
    "duration": 13,
    "start_time": "2022-10-20T06:36:10.299Z"
   },
   {
    "duration": 11,
    "start_time": "2022-10-20T06:36:10.314Z"
   },
   {
    "duration": 26,
    "start_time": "2022-10-20T06:36:10.326Z"
   },
   {
    "duration": 20,
    "start_time": "2022-10-20T06:36:10.354Z"
   },
   {
    "duration": 10,
    "start_time": "2022-10-20T06:36:10.376Z"
   },
   {
    "duration": 21,
    "start_time": "2022-10-20T06:36:10.388Z"
   },
   {
    "duration": 27,
    "start_time": "2022-10-20T06:36:10.411Z"
   },
   {
    "duration": 11,
    "start_time": "2022-10-20T06:36:10.439Z"
   },
   {
    "duration": 38,
    "start_time": "2022-10-20T06:36:10.451Z"
   },
   {
    "duration": 21,
    "start_time": "2022-10-20T06:36:10.490Z"
   },
   {
    "duration": 18,
    "start_time": "2022-10-20T06:36:10.513Z"
   },
   {
    "duration": 30,
    "start_time": "2022-10-20T06:36:10.533Z"
   },
   {
    "duration": 13,
    "start_time": "2022-10-20T06:36:10.564Z"
   },
   {
    "duration": 25,
    "start_time": "2022-10-20T06:36:10.578Z"
   },
   {
    "duration": 314,
    "start_time": "2022-10-20T06:36:10.605Z"
   },
   {
    "duration": 4,
    "start_time": "2022-10-20T06:36:10.920Z"
   },
   {
    "duration": 16,
    "start_time": "2022-10-20T06:36:10.926Z"
   },
   {
    "duration": 14,
    "start_time": "2022-10-20T06:36:10.944Z"
   },
   {
    "duration": 263,
    "start_time": "2022-10-20T06:36:10.960Z"
   },
   {
    "duration": 339,
    "start_time": "2022-10-20T06:36:11.225Z"
   },
   {
    "duration": 193,
    "start_time": "2022-10-20T06:36:11.566Z"
   },
   {
    "duration": 188,
    "start_time": "2022-10-20T06:36:11.761Z"
   },
   {
    "duration": 253,
    "start_time": "2022-10-20T06:36:29.137Z"
   },
   {
    "duration": 678,
    "start_time": "2022-10-20T06:37:17.163Z"
   },
   {
    "duration": 16,
    "start_time": "2022-10-20T06:37:17.844Z"
   },
   {
    "duration": 32,
    "start_time": "2022-10-20T06:37:17.862Z"
   },
   {
    "duration": 1930,
    "start_time": "2022-10-20T06:37:17.896Z"
   },
   {
    "duration": 10,
    "start_time": "2022-10-20T06:37:19.829Z"
   },
   {
    "duration": 23,
    "start_time": "2022-10-20T06:37:19.840Z"
   },
   {
    "duration": 37,
    "start_time": "2022-10-20T06:37:19.864Z"
   },
   {
    "duration": 10,
    "start_time": "2022-10-20T06:37:19.919Z"
   },
   {
    "duration": 18,
    "start_time": "2022-10-20T06:37:19.931Z"
   },
   {
    "duration": 56,
    "start_time": "2022-10-20T06:37:19.951Z"
   },
   {
    "duration": 11,
    "start_time": "2022-10-20T06:37:20.008Z"
   },
   {
    "duration": 13,
    "start_time": "2022-10-20T06:37:20.021Z"
   },
   {
    "duration": 10,
    "start_time": "2022-10-20T06:37:20.036Z"
   },
   {
    "duration": 24,
    "start_time": "2022-10-20T06:37:20.049Z"
   },
   {
    "duration": 7,
    "start_time": "2022-10-20T06:37:20.075Z"
   },
   {
    "duration": 18,
    "start_time": "2022-10-20T06:37:20.084Z"
   },
   {
    "duration": 25,
    "start_time": "2022-10-20T06:37:20.104Z"
   },
   {
    "duration": 7,
    "start_time": "2022-10-20T06:37:20.130Z"
   },
   {
    "duration": 8,
    "start_time": "2022-10-20T06:37:20.139Z"
   },
   {
    "duration": 18,
    "start_time": "2022-10-20T06:37:20.149Z"
   },
   {
    "duration": 19,
    "start_time": "2022-10-20T06:37:20.169Z"
   },
   {
    "duration": 10,
    "start_time": "2022-10-20T06:37:20.190Z"
   },
   {
    "duration": 28,
    "start_time": "2022-10-20T06:37:20.202Z"
   },
   {
    "duration": 40,
    "start_time": "2022-10-20T06:37:20.232Z"
   },
   {
    "duration": 5,
    "start_time": "2022-10-20T06:37:20.273Z"
   },
   {
    "duration": 25,
    "start_time": "2022-10-20T06:37:20.279Z"
   },
   {
    "duration": 31,
    "start_time": "2022-10-20T06:37:20.305Z"
   },
   {
    "duration": 12,
    "start_time": "2022-10-20T06:37:20.338Z"
   },
   {
    "duration": 14,
    "start_time": "2022-10-20T06:37:20.352Z"
   },
   {
    "duration": 16,
    "start_time": "2022-10-20T06:37:20.368Z"
   },
   {
    "duration": 11,
    "start_time": "2022-10-20T06:37:20.386Z"
   },
   {
    "duration": 321,
    "start_time": "2022-10-20T06:37:20.399Z"
   },
   {
    "duration": 5,
    "start_time": "2022-10-20T06:37:20.723Z"
   },
   {
    "duration": 26,
    "start_time": "2022-10-20T06:37:20.729Z"
   },
   {
    "duration": 25,
    "start_time": "2022-10-20T06:37:20.757Z"
   },
   {
    "duration": 78,
    "start_time": "2022-10-20T06:37:20.784Z"
   },
   {
    "duration": 0,
    "start_time": "2022-10-20T06:37:20.864Z"
   },
   {
    "duration": 0,
    "start_time": "2022-10-20T06:37:20.865Z"
   },
   {
    "duration": 0,
    "start_time": "2022-10-20T06:37:20.866Z"
   },
   {
    "duration": 724,
    "start_time": "2022-10-20T06:38:03.443Z"
   },
   {
    "duration": 18,
    "start_time": "2022-10-20T06:38:04.170Z"
   },
   {
    "duration": 50,
    "start_time": "2022-10-20T06:38:04.190Z"
   },
   {
    "duration": 1952,
    "start_time": "2022-10-20T06:38:04.241Z"
   },
   {
    "duration": 9,
    "start_time": "2022-10-20T06:38:06.195Z"
   },
   {
    "duration": 45,
    "start_time": "2022-10-20T06:38:06.205Z"
   },
   {
    "duration": 38,
    "start_time": "2022-10-20T06:38:06.251Z"
   },
   {
    "duration": 9,
    "start_time": "2022-10-20T06:38:06.290Z"
   },
   {
    "duration": 15,
    "start_time": "2022-10-20T06:38:06.300Z"
   },
   {
    "duration": 65,
    "start_time": "2022-10-20T06:38:06.317Z"
   },
   {
    "duration": 5,
    "start_time": "2022-10-20T06:38:06.383Z"
   },
   {
    "duration": 33,
    "start_time": "2022-10-20T06:38:06.389Z"
   },
   {
    "duration": 19,
    "start_time": "2022-10-20T06:38:06.424Z"
   },
   {
    "duration": 27,
    "start_time": "2022-10-20T06:38:06.446Z"
   },
   {
    "duration": 20,
    "start_time": "2022-10-20T06:38:06.475Z"
   },
   {
    "duration": 35,
    "start_time": "2022-10-20T06:38:06.497Z"
   },
   {
    "duration": 21,
    "start_time": "2022-10-20T06:38:06.533Z"
   },
   {
    "duration": 26,
    "start_time": "2022-10-20T06:38:06.556Z"
   },
   {
    "duration": 18,
    "start_time": "2022-10-20T06:38:06.584Z"
   },
   {
    "duration": 36,
    "start_time": "2022-10-20T06:38:06.603Z"
   },
   {
    "duration": 24,
    "start_time": "2022-10-20T06:38:06.641Z"
   },
   {
    "duration": 14,
    "start_time": "2022-10-20T06:38:06.666Z"
   },
   {
    "duration": 16,
    "start_time": "2022-10-20T06:38:06.681Z"
   },
   {
    "duration": 35,
    "start_time": "2022-10-20T06:38:06.699Z"
   },
   {
    "duration": 41,
    "start_time": "2022-10-20T06:38:06.736Z"
   },
   {
    "duration": 35,
    "start_time": "2022-10-20T06:38:06.779Z"
   },
   {
    "duration": 27,
    "start_time": "2022-10-20T06:38:06.816Z"
   },
   {
    "duration": 9,
    "start_time": "2022-10-20T06:38:06.845Z"
   },
   {
    "duration": 22,
    "start_time": "2022-10-20T06:38:06.855Z"
   },
   {
    "duration": 14,
    "start_time": "2022-10-20T06:38:06.879Z"
   },
   {
    "duration": 13,
    "start_time": "2022-10-20T06:38:06.894Z"
   },
   {
    "duration": 310,
    "start_time": "2022-10-20T06:38:06.909Z"
   },
   {
    "duration": 4,
    "start_time": "2022-10-20T06:38:07.220Z"
   },
   {
    "duration": 23,
    "start_time": "2022-10-20T06:38:07.226Z"
   },
   {
    "duration": 29,
    "start_time": "2022-10-20T06:38:07.250Z"
   },
   {
    "duration": 303,
    "start_time": "2022-10-20T06:38:07.280Z"
   },
   {
    "duration": 341,
    "start_time": "2022-10-20T06:38:07.586Z"
   },
   {
    "duration": 181,
    "start_time": "2022-10-20T06:38:07.929Z"
   },
   {
    "duration": 197,
    "start_time": "2022-10-20T06:38:08.112Z"
   },
   {
    "duration": 728,
    "start_time": "2022-10-20T06:41:40.166Z"
   },
   {
    "duration": 15,
    "start_time": "2022-10-20T06:41:40.896Z"
   },
   {
    "duration": 41,
    "start_time": "2022-10-20T06:41:40.913Z"
   },
   {
    "duration": 1910,
    "start_time": "2022-10-20T06:41:40.955Z"
   },
   {
    "duration": 12,
    "start_time": "2022-10-20T06:41:42.869Z"
   },
   {
    "duration": 24,
    "start_time": "2022-10-20T06:41:42.883Z"
   },
   {
    "duration": 37,
    "start_time": "2022-10-20T06:41:42.910Z"
   },
   {
    "duration": 9,
    "start_time": "2022-10-20T06:41:42.949Z"
   },
   {
    "duration": 9,
    "start_time": "2022-10-20T06:41:42.959Z"
   },
   {
    "duration": 71,
    "start_time": "2022-10-20T06:41:42.970Z"
   },
   {
    "duration": 6,
    "start_time": "2022-10-20T06:41:43.043Z"
   },
   {
    "duration": 11,
    "start_time": "2022-10-20T06:41:43.050Z"
   },
   {
    "duration": 11,
    "start_time": "2022-10-20T06:41:43.062Z"
   },
   {
    "duration": 33,
    "start_time": "2022-10-20T06:41:43.076Z"
   },
   {
    "duration": 7,
    "start_time": "2022-10-20T06:41:43.111Z"
   },
   {
    "duration": 4,
    "start_time": "2022-10-20T06:41:43.120Z"
   },
   {
    "duration": 8,
    "start_time": "2022-10-20T06:41:43.126Z"
   },
   {
    "duration": 7,
    "start_time": "2022-10-20T06:41:43.136Z"
   },
   {
    "duration": 17,
    "start_time": "2022-10-20T06:41:43.144Z"
   },
   {
    "duration": 20,
    "start_time": "2022-10-20T06:41:43.163Z"
   },
   {
    "duration": 40,
    "start_time": "2022-10-20T06:41:43.184Z"
   },
   {
    "duration": 11,
    "start_time": "2022-10-20T06:41:43.226Z"
   },
   {
    "duration": 11,
    "start_time": "2022-10-20T06:41:43.239Z"
   },
   {
    "duration": 27,
    "start_time": "2022-10-20T06:41:43.252Z"
   },
   {
    "duration": 28,
    "start_time": "2022-10-20T06:41:43.281Z"
   },
   {
    "duration": 24,
    "start_time": "2022-10-20T06:41:43.311Z"
   },
   {
    "duration": 18,
    "start_time": "2022-10-20T06:41:43.337Z"
   },
   {
    "duration": 4,
    "start_time": "2022-10-20T06:41:43.357Z"
   },
   {
    "duration": 6,
    "start_time": "2022-10-20T06:41:43.363Z"
   },
   {
    "duration": 5,
    "start_time": "2022-10-20T06:41:43.370Z"
   },
   {
    "duration": 6,
    "start_time": "2022-10-20T06:41:43.377Z"
   },
   {
    "duration": 339,
    "start_time": "2022-10-20T06:41:43.384Z"
   },
   {
    "duration": 4,
    "start_time": "2022-10-20T06:41:43.725Z"
   },
   {
    "duration": 14,
    "start_time": "2022-10-20T06:41:43.733Z"
   },
   {
    "duration": 17,
    "start_time": "2022-10-20T06:41:43.749Z"
   },
   {
    "duration": 294,
    "start_time": "2022-10-20T06:41:43.767Z"
   },
   {
    "duration": 429,
    "start_time": "2022-10-20T06:41:44.063Z"
   },
   {
    "duration": 0,
    "start_time": "2022-10-20T06:41:44.493Z"
   },
   {
    "duration": 0,
    "start_time": "2022-10-20T06:41:44.494Z"
   },
   {
    "duration": 806,
    "start_time": "2022-10-20T06:42:12.611Z"
   },
   {
    "duration": 15,
    "start_time": "2022-10-20T06:42:13.418Z"
   },
   {
    "duration": 52,
    "start_time": "2022-10-20T06:42:13.435Z"
   },
   {
    "duration": 1864,
    "start_time": "2022-10-20T06:42:13.489Z"
   },
   {
    "duration": 9,
    "start_time": "2022-10-20T06:42:15.356Z"
   },
   {
    "duration": 57,
    "start_time": "2022-10-20T06:42:15.366Z"
   },
   {
    "duration": 40,
    "start_time": "2022-10-20T06:42:15.425Z"
   },
   {
    "duration": 24,
    "start_time": "2022-10-20T06:42:15.467Z"
   },
   {
    "duration": 18,
    "start_time": "2022-10-20T06:42:15.492Z"
   },
   {
    "duration": 86,
    "start_time": "2022-10-20T06:42:15.511Z"
   },
   {
    "duration": 4,
    "start_time": "2022-10-20T06:42:15.599Z"
   },
   {
    "duration": 25,
    "start_time": "2022-10-20T06:42:15.605Z"
   },
   {
    "duration": 34,
    "start_time": "2022-10-20T06:42:15.632Z"
   },
   {
    "duration": 50,
    "start_time": "2022-10-20T06:42:15.670Z"
   },
   {
    "duration": 27,
    "start_time": "2022-10-20T06:42:15.722Z"
   },
   {
    "duration": 37,
    "start_time": "2022-10-20T06:42:15.751Z"
   },
   {
    "duration": 36,
    "start_time": "2022-10-20T06:42:15.789Z"
   },
   {
    "duration": 48,
    "start_time": "2022-10-20T06:42:15.827Z"
   },
   {
    "duration": 15,
    "start_time": "2022-10-20T06:42:15.877Z"
   },
   {
    "duration": 43,
    "start_time": "2022-10-20T06:42:15.894Z"
   },
   {
    "duration": 51,
    "start_time": "2022-10-20T06:42:15.938Z"
   },
   {
    "duration": 30,
    "start_time": "2022-10-20T06:42:15.991Z"
   },
   {
    "duration": 23,
    "start_time": "2022-10-20T06:42:16.023Z"
   },
   {
    "duration": 41,
    "start_time": "2022-10-20T06:42:16.048Z"
   },
   {
    "duration": 18,
    "start_time": "2022-10-20T06:42:16.091Z"
   },
   {
    "duration": 53,
    "start_time": "2022-10-20T06:42:16.111Z"
   },
   {
    "duration": 42,
    "start_time": "2022-10-20T06:42:16.166Z"
   },
   {
    "duration": 4,
    "start_time": "2022-10-20T06:42:16.210Z"
   },
   {
    "duration": 21,
    "start_time": "2022-10-20T06:42:16.216Z"
   },
   {
    "duration": 35,
    "start_time": "2022-10-20T06:42:16.238Z"
   },
   {
    "duration": 19,
    "start_time": "2022-10-20T06:42:16.275Z"
   },
   {
    "duration": 329,
    "start_time": "2022-10-20T06:42:16.296Z"
   },
   {
    "duration": 3,
    "start_time": "2022-10-20T06:42:16.627Z"
   },
   {
    "duration": 24,
    "start_time": "2022-10-20T06:42:16.632Z"
   },
   {
    "duration": 32,
    "start_time": "2022-10-20T06:42:16.657Z"
   },
   {
    "duration": 284,
    "start_time": "2022-10-20T06:42:16.691Z"
   },
   {
    "duration": 345,
    "start_time": "2022-10-20T06:42:16.976Z"
   },
   {
    "duration": 204,
    "start_time": "2022-10-20T06:42:17.323Z"
   },
   {
    "duration": 210,
    "start_time": "2022-10-20T06:42:17.529Z"
   },
   {
    "duration": 271,
    "start_time": "2022-10-20T06:47:07.936Z"
   },
   {
    "duration": 273,
    "start_time": "2022-10-20T06:47:18.194Z"
   },
   {
    "duration": 259,
    "start_time": "2022-10-20T06:47:25.984Z"
   },
   {
    "duration": 287,
    "start_time": "2022-10-20T06:47:47.734Z"
   },
   {
    "duration": 187,
    "start_time": "2022-10-20T06:49:07.636Z"
   },
   {
    "duration": 250,
    "start_time": "2022-10-20T06:59:25.537Z"
   },
   {
    "duration": 267,
    "start_time": "2022-10-20T06:59:40.950Z"
   },
   {
    "duration": 285,
    "start_time": "2022-10-20T06:59:54.587Z"
   },
   {
    "duration": 793,
    "start_time": "2022-10-20T07:00:12.593Z"
   },
   {
    "duration": 15,
    "start_time": "2022-10-20T07:00:13.388Z"
   },
   {
    "duration": 30,
    "start_time": "2022-10-20T07:00:13.405Z"
   },
   {
    "duration": 1921,
    "start_time": "2022-10-20T07:00:13.436Z"
   },
   {
    "duration": 14,
    "start_time": "2022-10-20T07:00:15.360Z"
   },
   {
    "duration": 23,
    "start_time": "2022-10-20T07:00:15.376Z"
   },
   {
    "duration": 41,
    "start_time": "2022-10-20T07:00:15.401Z"
   },
   {
    "duration": 8,
    "start_time": "2022-10-20T07:00:15.443Z"
   },
   {
    "duration": 7,
    "start_time": "2022-10-20T07:00:15.453Z"
   },
   {
    "duration": 69,
    "start_time": "2022-10-20T07:00:15.461Z"
   },
   {
    "duration": 5,
    "start_time": "2022-10-20T07:00:15.532Z"
   },
   {
    "duration": 6,
    "start_time": "2022-10-20T07:00:15.539Z"
   },
   {
    "duration": 10,
    "start_time": "2022-10-20T07:00:15.546Z"
   },
   {
    "duration": 26,
    "start_time": "2022-10-20T07:00:15.559Z"
   },
   {
    "duration": 22,
    "start_time": "2022-10-20T07:00:15.587Z"
   },
   {
    "duration": 12,
    "start_time": "2022-10-20T07:00:15.611Z"
   },
   {
    "duration": 9,
    "start_time": "2022-10-20T07:00:15.624Z"
   },
   {
    "duration": 12,
    "start_time": "2022-10-20T07:00:15.634Z"
   },
   {
    "duration": 6,
    "start_time": "2022-10-20T07:00:15.648Z"
   },
   {
    "duration": 21,
    "start_time": "2022-10-20T07:00:15.656Z"
   },
   {
    "duration": 47,
    "start_time": "2022-10-20T07:00:15.679Z"
   },
   {
    "duration": 14,
    "start_time": "2022-10-20T07:00:15.727Z"
   },
   {
    "duration": 11,
    "start_time": "2022-10-20T07:00:15.742Z"
   },
   {
    "duration": 54,
    "start_time": "2022-10-20T07:00:15.755Z"
   },
   {
    "duration": 5,
    "start_time": "2022-10-20T07:00:15.810Z"
   },
   {
    "duration": 29,
    "start_time": "2022-10-20T07:00:15.817Z"
   },
   {
    "duration": 16,
    "start_time": "2022-10-20T07:00:15.847Z"
   },
   {
    "duration": 5,
    "start_time": "2022-10-20T07:00:15.864Z"
   },
   {
    "duration": 8,
    "start_time": "2022-10-20T07:00:15.871Z"
   },
   {
    "duration": 6,
    "start_time": "2022-10-20T07:00:15.880Z"
   },
   {
    "duration": 6,
    "start_time": "2022-10-20T07:00:15.908Z"
   },
   {
    "duration": 306,
    "start_time": "2022-10-20T07:00:15.916Z"
   },
   {
    "duration": 5,
    "start_time": "2022-10-20T07:00:16.224Z"
   },
   {
    "duration": 10,
    "start_time": "2022-10-20T07:00:16.230Z"
   },
   {
    "duration": 27,
    "start_time": "2022-10-20T07:00:16.242Z"
   },
   {
    "duration": 309,
    "start_time": "2022-10-20T07:00:16.272Z"
   },
   {
    "duration": 393,
    "start_time": "2022-10-20T07:00:16.583Z"
   },
   {
    "duration": 219,
    "start_time": "2022-10-20T07:00:16.978Z"
   },
   {
    "duration": 199,
    "start_time": "2022-10-20T07:00:17.198Z"
   },
   {
    "duration": 673,
    "start_time": "2022-10-20T07:03:46.879Z"
   },
   {
    "duration": 208,
    "start_time": "2022-10-20T07:03:55.837Z"
   },
   {
    "duration": 492,
    "start_time": "2022-10-20T07:04:23.441Z"
   },
   {
    "duration": 170,
    "start_time": "2022-10-20T07:04:56.052Z"
   },
   {
    "duration": 306,
    "start_time": "2022-10-20T07:05:08.357Z"
   },
   {
    "duration": 195,
    "start_time": "2022-10-20T07:05:37.130Z"
   },
   {
    "duration": 209,
    "start_time": "2022-10-20T07:06:03.659Z"
   },
   {
    "duration": 681,
    "start_time": "2022-10-20T07:06:22.926Z"
   },
   {
    "duration": 14,
    "start_time": "2022-10-20T07:06:23.609Z"
   },
   {
    "duration": 25,
    "start_time": "2022-10-20T07:06:23.625Z"
   },
   {
    "duration": 1889,
    "start_time": "2022-10-20T07:06:23.652Z"
   },
   {
    "duration": 8,
    "start_time": "2022-10-20T07:06:25.543Z"
   },
   {
    "duration": 25,
    "start_time": "2022-10-20T07:06:25.553Z"
   },
   {
    "duration": 39,
    "start_time": "2022-10-20T07:06:25.580Z"
   },
   {
    "duration": 8,
    "start_time": "2022-10-20T07:06:25.621Z"
   },
   {
    "duration": 6,
    "start_time": "2022-10-20T07:06:25.631Z"
   },
   {
    "duration": 47,
    "start_time": "2022-10-20T07:06:25.638Z"
   },
   {
    "duration": 24,
    "start_time": "2022-10-20T07:06:25.687Z"
   },
   {
    "duration": 5,
    "start_time": "2022-10-20T07:06:25.713Z"
   },
   {
    "duration": 8,
    "start_time": "2022-10-20T07:06:25.720Z"
   },
   {
    "duration": 18,
    "start_time": "2022-10-20T07:06:25.732Z"
   },
   {
    "duration": 7,
    "start_time": "2022-10-20T07:06:25.752Z"
   },
   {
    "duration": 5,
    "start_time": "2022-10-20T07:06:25.760Z"
   },
   {
    "duration": 43,
    "start_time": "2022-10-20T07:06:25.766Z"
   },
   {
    "duration": 6,
    "start_time": "2022-10-20T07:06:25.811Z"
   },
   {
    "duration": 6,
    "start_time": "2022-10-20T07:06:25.818Z"
   },
   {
    "duration": 14,
    "start_time": "2022-10-20T07:06:25.826Z"
   },
   {
    "duration": 18,
    "start_time": "2022-10-20T07:06:25.842Z"
   },
   {
    "duration": 12,
    "start_time": "2022-10-20T07:06:25.862Z"
   },
   {
    "duration": 10,
    "start_time": "2022-10-20T07:06:25.909Z"
   },
   {
    "duration": 27,
    "start_time": "2022-10-20T07:06:25.921Z"
   },
   {
    "duration": 8,
    "start_time": "2022-10-20T07:06:25.950Z"
   },
   {
    "duration": 20,
    "start_time": "2022-10-20T07:06:25.959Z"
   },
   {
    "duration": 30,
    "start_time": "2022-10-20T07:06:25.981Z"
   },
   {
    "duration": 4,
    "start_time": "2022-10-20T07:06:26.012Z"
   },
   {
    "duration": 9,
    "start_time": "2022-10-20T07:06:26.017Z"
   },
   {
    "duration": 4,
    "start_time": "2022-10-20T07:06:26.028Z"
   },
   {
    "duration": 5,
    "start_time": "2022-10-20T07:06:26.033Z"
   },
   {
    "duration": 315,
    "start_time": "2022-10-20T07:06:26.039Z"
   },
   {
    "duration": 4,
    "start_time": "2022-10-20T07:06:26.355Z"
   },
   {
    "duration": 6,
    "start_time": "2022-10-20T07:06:26.360Z"
   },
   {
    "duration": 15,
    "start_time": "2022-10-20T07:06:26.368Z"
   },
   {
    "duration": 429,
    "start_time": "2022-10-20T07:06:26.384Z"
   },
   {
    "duration": 378,
    "start_time": "2022-10-20T07:06:26.815Z"
   },
   {
    "duration": 203,
    "start_time": "2022-10-20T07:06:27.194Z"
   },
   {
    "duration": 201,
    "start_time": "2022-10-20T07:06:27.398Z"
   },
   {
    "duration": 272,
    "start_time": "2022-10-20T07:14:54.275Z"
   },
   {
    "duration": 298,
    "start_time": "2022-10-20T07:15:02.534Z"
   },
   {
    "duration": 728,
    "start_time": "2022-10-20T07:22:51.407Z"
   },
   {
    "duration": 15,
    "start_time": "2022-10-20T07:22:52.137Z"
   },
   {
    "duration": 27,
    "start_time": "2022-10-20T07:22:52.153Z"
   },
   {
    "duration": 1859,
    "start_time": "2022-10-20T07:22:52.182Z"
   },
   {
    "duration": 11,
    "start_time": "2022-10-20T07:22:54.044Z"
   },
   {
    "duration": 25,
    "start_time": "2022-10-20T07:22:54.056Z"
   },
   {
    "duration": 51,
    "start_time": "2022-10-20T07:22:54.082Z"
   },
   {
    "duration": 8,
    "start_time": "2022-10-20T07:22:54.134Z"
   },
   {
    "duration": 6,
    "start_time": "2022-10-20T07:22:54.144Z"
   },
   {
    "duration": 65,
    "start_time": "2022-10-20T07:22:54.152Z"
   },
   {
    "duration": 5,
    "start_time": "2022-10-20T07:22:54.219Z"
   },
   {
    "duration": 8,
    "start_time": "2022-10-20T07:22:54.225Z"
   },
   {
    "duration": 5,
    "start_time": "2022-10-20T07:22:54.234Z"
   },
   {
    "duration": 19,
    "start_time": "2022-10-20T07:22:54.242Z"
   },
   {
    "duration": 7,
    "start_time": "2022-10-20T07:22:54.263Z"
   },
   {
    "duration": 4,
    "start_time": "2022-10-20T07:22:54.272Z"
   },
   {
    "duration": 33,
    "start_time": "2022-10-20T07:22:54.278Z"
   },
   {
    "duration": 6,
    "start_time": "2022-10-20T07:22:54.313Z"
   },
   {
    "duration": 6,
    "start_time": "2022-10-20T07:22:54.320Z"
   },
   {
    "duration": 17,
    "start_time": "2022-10-20T07:22:54.328Z"
   },
   {
    "duration": 19,
    "start_time": "2022-10-20T07:22:54.347Z"
   },
   {
    "duration": 45,
    "start_time": "2022-10-20T07:22:54.368Z"
   },
   {
    "duration": 8,
    "start_time": "2022-10-20T07:22:54.414Z"
   },
   {
    "duration": 44,
    "start_time": "2022-10-20T07:22:54.424Z"
   },
   {
    "duration": 4,
    "start_time": "2022-10-20T07:22:54.470Z"
   },
   {
    "duration": 41,
    "start_time": "2022-10-20T07:22:54.475Z"
   },
   {
    "duration": 19,
    "start_time": "2022-10-20T07:22:54.518Z"
   },
   {
    "duration": 4,
    "start_time": "2022-10-20T07:22:54.539Z"
   },
   {
    "duration": 8,
    "start_time": "2022-10-20T07:22:54.544Z"
   },
   {
    "duration": 6,
    "start_time": "2022-10-20T07:22:54.553Z"
   },
   {
    "duration": 4,
    "start_time": "2022-10-20T07:22:54.561Z"
   },
   {
    "duration": 324,
    "start_time": "2022-10-20T07:22:54.567Z"
   },
   {
    "duration": 4,
    "start_time": "2022-10-20T07:22:54.892Z"
   },
   {
    "duration": 12,
    "start_time": "2022-10-20T07:22:54.897Z"
   },
   {
    "duration": 13,
    "start_time": "2022-10-20T07:22:54.910Z"
   },
   {
    "duration": 290,
    "start_time": "2022-10-20T07:22:54.924Z"
   },
   {
    "duration": 239,
    "start_time": "2022-10-20T07:22:55.215Z"
   },
   {
    "duration": 308,
    "start_time": "2022-10-20T07:22:55.455Z"
   },
   {
    "duration": 225,
    "start_time": "2022-10-20T07:22:55.765Z"
   },
   {
    "duration": 9,
    "start_time": "2022-10-20T08:27:37.460Z"
   },
   {
    "duration": 4,
    "start_time": "2022-10-20T08:35:37.594Z"
   },
   {
    "duration": 22,
    "start_time": "2022-10-20T08:36:02.435Z"
   },
   {
    "duration": 5,
    "start_time": "2022-10-20T08:36:41.973Z"
   },
   {
    "duration": 6,
    "start_time": "2022-10-20T08:36:48.882Z"
   },
   {
    "duration": 91,
    "start_time": "2022-10-20T08:42:31.743Z"
   },
   {
    "duration": 77,
    "start_time": "2022-10-20T08:42:52.426Z"
   },
   {
    "duration": 559,
    "start_time": "2022-10-20T08:43:21.164Z"
   },
   {
    "duration": 123,
    "start_time": "2022-10-20T08:44:12.429Z"
   },
   {
    "duration": 65,
    "start_time": "2022-10-20T08:44:57.841Z"
   },
   {
    "duration": 1250,
    "start_time": "2022-10-20T08:45:36.034Z"
   },
   {
    "duration": 1390,
    "start_time": "2022-10-20T08:45:53.329Z"
   },
   {
    "duration": 384,
    "start_time": "2022-10-20T08:46:56.324Z"
   },
   {
    "duration": 78,
    "start_time": "2022-10-20T08:49:19.245Z"
   },
   {
    "duration": 8,
    "start_time": "2022-10-20T08:49:47.478Z"
   },
   {
    "duration": 7,
    "start_time": "2022-10-20T08:50:56.557Z"
   },
   {
    "duration": 737,
    "start_time": "2022-10-20T08:51:08.931Z"
   },
   {
    "duration": 17,
    "start_time": "2022-10-20T08:51:09.671Z"
   },
   {
    "duration": 39,
    "start_time": "2022-10-20T08:51:09.689Z"
   },
   {
    "duration": 1970,
    "start_time": "2022-10-20T08:51:09.731Z"
   },
   {
    "duration": 27,
    "start_time": "2022-10-20T08:51:11.703Z"
   },
   {
    "duration": 31,
    "start_time": "2022-10-20T08:51:11.732Z"
   },
   {
    "duration": 65,
    "start_time": "2022-10-20T08:51:11.765Z"
   },
   {
    "duration": 10,
    "start_time": "2022-10-20T08:51:11.833Z"
   },
   {
    "duration": 33,
    "start_time": "2022-10-20T08:51:11.845Z"
   },
   {
    "duration": 59,
    "start_time": "2022-10-20T08:51:11.881Z"
   },
   {
    "duration": 5,
    "start_time": "2022-10-20T08:51:11.943Z"
   },
   {
    "duration": 4,
    "start_time": "2022-10-20T08:51:11.949Z"
   },
   {
    "duration": 6,
    "start_time": "2022-10-20T08:51:11.955Z"
   },
   {
    "duration": 25,
    "start_time": "2022-10-20T08:51:11.962Z"
   },
   {
    "duration": 36,
    "start_time": "2022-10-20T08:51:11.988Z"
   },
   {
    "duration": 13,
    "start_time": "2022-10-20T08:51:12.026Z"
   },
   {
    "duration": 19,
    "start_time": "2022-10-20T08:51:12.042Z"
   },
   {
    "duration": 7,
    "start_time": "2022-10-20T08:51:12.063Z"
   },
   {
    "duration": 10,
    "start_time": "2022-10-20T08:51:12.072Z"
   },
   {
    "duration": 17,
    "start_time": "2022-10-20T08:51:12.083Z"
   },
   {
    "duration": 31,
    "start_time": "2022-10-20T08:51:12.102Z"
   },
   {
    "duration": 13,
    "start_time": "2022-10-20T08:51:12.134Z"
   },
   {
    "duration": 9,
    "start_time": "2022-10-20T08:51:12.149Z"
   },
   {
    "duration": 69,
    "start_time": "2022-10-20T08:51:12.160Z"
   },
   {
    "duration": 5,
    "start_time": "2022-10-20T08:51:12.231Z"
   },
   {
    "duration": 50,
    "start_time": "2022-10-20T08:51:12.238Z"
   },
   {
    "duration": 29,
    "start_time": "2022-10-20T08:51:12.290Z"
   },
   {
    "duration": 13,
    "start_time": "2022-10-20T08:51:12.324Z"
   },
   {
    "duration": 13,
    "start_time": "2022-10-20T08:51:12.339Z"
   },
   {
    "duration": 10,
    "start_time": "2022-10-20T08:51:12.354Z"
   },
   {
    "duration": 13,
    "start_time": "2022-10-20T08:51:12.366Z"
   },
   {
    "duration": 361,
    "start_time": "2022-10-20T08:51:12.381Z"
   },
   {
    "duration": 6,
    "start_time": "2022-10-20T08:51:12.744Z"
   },
   {
    "duration": 7,
    "start_time": "2022-10-20T08:51:12.752Z"
   },
   {
    "duration": 39,
    "start_time": "2022-10-20T08:51:12.761Z"
   },
   {
    "duration": 359,
    "start_time": "2022-10-20T08:51:12.803Z"
   },
   {
    "duration": 281,
    "start_time": "2022-10-20T08:51:13.163Z"
   },
   {
    "duration": 325,
    "start_time": "2022-10-20T08:51:13.447Z"
   },
   {
    "duration": 220,
    "start_time": "2022-10-20T08:51:13.774Z"
   },
   {
    "duration": 29,
    "start_time": "2022-10-20T08:51:13.996Z"
   },
   {
    "duration": 100,
    "start_time": "2022-10-20T08:51:14.027Z"
   },
   {
    "duration": 0,
    "start_time": "2022-10-20T08:51:14.133Z"
   },
   {
    "duration": 20,
    "start_time": "2022-10-20T08:52:13.905Z"
   },
   {
    "duration": 775,
    "start_time": "2022-10-20T08:52:40.853Z"
   },
   {
    "duration": 25,
    "start_time": "2022-10-20T08:52:41.634Z"
   },
   {
    "duration": 47,
    "start_time": "2022-10-20T08:52:41.661Z"
   },
   {
    "duration": 2089,
    "start_time": "2022-10-20T08:52:41.720Z"
   },
   {
    "duration": 15,
    "start_time": "2022-10-20T08:52:43.813Z"
   },
   {
    "duration": 47,
    "start_time": "2022-10-20T08:52:43.830Z"
   },
   {
    "duration": 56,
    "start_time": "2022-10-20T08:52:43.878Z"
   },
   {
    "duration": 9,
    "start_time": "2022-10-20T08:52:43.936Z"
   },
   {
    "duration": 27,
    "start_time": "2022-10-20T08:52:43.947Z"
   },
   {
    "duration": 87,
    "start_time": "2022-10-20T08:52:43.976Z"
   },
   {
    "duration": 6,
    "start_time": "2022-10-20T08:52:44.065Z"
   },
   {
    "duration": 19,
    "start_time": "2022-10-20T08:52:44.073Z"
   },
   {
    "duration": 38,
    "start_time": "2022-10-20T08:52:44.094Z"
   },
   {
    "duration": 40,
    "start_time": "2022-10-20T08:52:44.136Z"
   },
   {
    "duration": 30,
    "start_time": "2022-10-20T08:52:44.178Z"
   },
   {
    "duration": 39,
    "start_time": "2022-10-20T08:52:44.210Z"
   },
   {
    "duration": 16,
    "start_time": "2022-10-20T08:52:44.251Z"
   },
   {
    "duration": 21,
    "start_time": "2022-10-20T08:52:44.269Z"
   },
   {
    "duration": 12,
    "start_time": "2022-10-20T08:52:44.292Z"
   },
   {
    "duration": 50,
    "start_time": "2022-10-20T08:52:44.306Z"
   },
   {
    "duration": 34,
    "start_time": "2022-10-20T08:52:44.358Z"
   },
   {
    "duration": 14,
    "start_time": "2022-10-20T08:52:44.394Z"
   },
   {
    "duration": 12,
    "start_time": "2022-10-20T08:52:44.415Z"
   },
   {
    "duration": 35,
    "start_time": "2022-10-20T08:52:44.430Z"
   },
   {
    "duration": 8,
    "start_time": "2022-10-20T08:52:44.467Z"
   },
   {
    "duration": 52,
    "start_time": "2022-10-20T08:52:44.478Z"
   },
   {
    "duration": 26,
    "start_time": "2022-10-20T08:52:44.532Z"
   },
   {
    "duration": 16,
    "start_time": "2022-10-20T08:52:44.561Z"
   },
   {
    "duration": 28,
    "start_time": "2022-10-20T08:52:44.579Z"
   },
   {
    "duration": 37,
    "start_time": "2022-10-20T08:52:44.611Z"
   },
   {
    "duration": 10,
    "start_time": "2022-10-20T08:52:44.650Z"
   },
   {
    "duration": 374,
    "start_time": "2022-10-20T08:52:44.661Z"
   },
   {
    "duration": 6,
    "start_time": "2022-10-20T08:52:45.037Z"
   },
   {
    "duration": 20,
    "start_time": "2022-10-20T08:52:45.045Z"
   },
   {
    "duration": 35,
    "start_time": "2022-10-20T08:52:45.066Z"
   },
   {
    "duration": 334,
    "start_time": "2022-10-20T08:52:45.103Z"
   },
   {
    "duration": 249,
    "start_time": "2022-10-20T08:52:45.439Z"
   },
   {
    "duration": 293,
    "start_time": "2022-10-20T08:52:45.689Z"
   },
   {
    "duration": 344,
    "start_time": "2022-10-20T08:52:45.984Z"
   },
   {
    "duration": 16,
    "start_time": "2022-10-20T08:52:46.330Z"
   },
   {
    "duration": 886,
    "start_time": "2022-10-20T08:52:46.351Z"
   },
   {
    "duration": 506,
    "start_time": "2022-10-20T08:52:47.239Z"
   },
   {
    "duration": 105,
    "start_time": "2022-10-20T08:53:29.264Z"
   },
   {
    "duration": 724,
    "start_time": "2022-10-20T08:53:37.563Z"
   },
   {
    "duration": 30,
    "start_time": "2022-10-20T08:53:38.289Z"
   },
   {
    "duration": 30,
    "start_time": "2022-10-20T08:53:38.324Z"
   },
   {
    "duration": 2042,
    "start_time": "2022-10-20T08:53:38.355Z"
   },
   {
    "duration": 9,
    "start_time": "2022-10-20T08:53:40.399Z"
   },
   {
    "duration": 39,
    "start_time": "2022-10-20T08:53:40.414Z"
   },
   {
    "duration": 69,
    "start_time": "2022-10-20T08:53:40.455Z"
   },
   {
    "duration": 9,
    "start_time": "2022-10-20T08:53:40.526Z"
   },
   {
    "duration": 9,
    "start_time": "2022-10-20T08:53:40.536Z"
   },
   {
    "duration": 54,
    "start_time": "2022-10-20T08:53:40.546Z"
   },
   {
    "duration": 14,
    "start_time": "2022-10-20T08:53:40.601Z"
   },
   {
    "duration": 21,
    "start_time": "2022-10-20T08:53:40.616Z"
   },
   {
    "duration": 5,
    "start_time": "2022-10-20T08:53:40.639Z"
   },
   {
    "duration": 21,
    "start_time": "2022-10-20T08:53:40.647Z"
   },
   {
    "duration": 10,
    "start_time": "2022-10-20T08:53:40.670Z"
   },
   {
    "duration": 5,
    "start_time": "2022-10-20T08:53:40.681Z"
   },
   {
    "duration": 33,
    "start_time": "2022-10-20T08:53:40.687Z"
   },
   {
    "duration": 9,
    "start_time": "2022-10-20T08:53:40.722Z"
   },
   {
    "duration": 7,
    "start_time": "2022-10-20T08:53:40.733Z"
   },
   {
    "duration": 22,
    "start_time": "2022-10-20T08:53:40.742Z"
   },
   {
    "duration": 22,
    "start_time": "2022-10-20T08:53:40.766Z"
   },
   {
    "duration": 49,
    "start_time": "2022-10-20T08:53:40.790Z"
   },
   {
    "duration": 21,
    "start_time": "2022-10-20T08:53:40.842Z"
   },
   {
    "duration": 34,
    "start_time": "2022-10-20T08:53:40.865Z"
   },
   {
    "duration": 29,
    "start_time": "2022-10-20T08:53:40.901Z"
   },
   {
    "duration": 28,
    "start_time": "2022-10-20T08:53:40.934Z"
   },
   {
    "duration": 15,
    "start_time": "2022-10-20T08:53:40.964Z"
   },
   {
    "duration": 4,
    "start_time": "2022-10-20T08:53:40.981Z"
   },
   {
    "duration": 7,
    "start_time": "2022-10-20T08:53:40.986Z"
   },
   {
    "duration": 7,
    "start_time": "2022-10-20T08:53:40.994Z"
   },
   {
    "duration": 13,
    "start_time": "2022-10-20T08:53:41.003Z"
   },
   {
    "duration": 327,
    "start_time": "2022-10-20T08:53:41.029Z"
   },
   {
    "duration": 4,
    "start_time": "2022-10-20T08:53:41.358Z"
   },
   {
    "duration": 9,
    "start_time": "2022-10-20T08:53:41.364Z"
   },
   {
    "duration": 33,
    "start_time": "2022-10-20T08:53:41.375Z"
   },
   {
    "duration": 349,
    "start_time": "2022-10-20T08:53:41.410Z"
   },
   {
    "duration": 278,
    "start_time": "2022-10-20T08:53:41.762Z"
   },
   {
    "duration": 307,
    "start_time": "2022-10-20T08:53:42.041Z"
   },
   {
    "duration": 220,
    "start_time": "2022-10-20T08:53:42.349Z"
   },
   {
    "duration": 14,
    "start_time": "2022-10-20T08:53:42.571Z"
   },
   {
    "duration": 108,
    "start_time": "2022-10-20T08:53:42.590Z"
   },
   {
    "duration": 927,
    "start_time": "2022-10-20T08:53:42.700Z"
   },
   {
    "duration": 547,
    "start_time": "2022-10-20T08:53:43.629Z"
   },
   {
    "duration": 12,
    "start_time": "2022-10-20T08:54:55.701Z"
   },
   {
    "duration": 10,
    "start_time": "2022-10-20T08:54:56.472Z"
   },
   {
    "duration": 832,
    "start_time": "2022-10-20T08:55:07.943Z"
   },
   {
    "duration": 476,
    "start_time": "2022-10-20T08:55:10.092Z"
   },
   {
    "duration": 231,
    "start_time": "2022-10-20T08:55:36.895Z"
   },
   {
    "duration": 705,
    "start_time": "2022-10-20T08:55:45.549Z"
   },
   {
    "duration": 21,
    "start_time": "2022-10-20T08:56:31.602Z"
   },
   {
    "duration": 9,
    "start_time": "2022-10-20T08:56:32.477Z"
   },
   {
    "duration": 128,
    "start_time": "2022-10-20T08:57:20.818Z"
   },
   {
    "duration": 780,
    "start_time": "2022-10-20T08:57:21.568Z"
   },
   {
    "duration": 382,
    "start_time": "2022-10-20T08:57:23.367Z"
   },
   {
    "duration": 795,
    "start_time": "2022-10-20T09:03:35.455Z"
   },
   {
    "duration": 23,
    "start_time": "2022-10-20T09:03:36.252Z"
   },
   {
    "duration": 37,
    "start_time": "2022-10-20T09:03:36.277Z"
   },
   {
    "duration": 1977,
    "start_time": "2022-10-20T09:03:36.316Z"
   },
   {
    "duration": 11,
    "start_time": "2022-10-20T09:03:38.296Z"
   },
   {
    "duration": 31,
    "start_time": "2022-10-20T09:03:38.309Z"
   },
   {
    "duration": 39,
    "start_time": "2022-10-20T09:03:38.342Z"
   },
   {
    "duration": 9,
    "start_time": "2022-10-20T09:03:38.384Z"
   },
   {
    "duration": 20,
    "start_time": "2022-10-20T09:03:38.394Z"
   },
   {
    "duration": 52,
    "start_time": "2022-10-20T09:03:38.416Z"
   },
   {
    "duration": 6,
    "start_time": "2022-10-20T09:03:38.470Z"
   },
   {
    "duration": 32,
    "start_time": "2022-10-20T09:03:38.478Z"
   },
   {
    "duration": 17,
    "start_time": "2022-10-20T09:03:38.512Z"
   },
   {
    "duration": 21,
    "start_time": "2022-10-20T09:03:38.533Z"
   },
   {
    "duration": 13,
    "start_time": "2022-10-20T09:03:38.556Z"
   },
   {
    "duration": 5,
    "start_time": "2022-10-20T09:03:38.571Z"
   },
   {
    "duration": 8,
    "start_time": "2022-10-20T09:03:38.578Z"
   },
   {
    "duration": 26,
    "start_time": "2022-10-20T09:03:38.587Z"
   },
   {
    "duration": 8,
    "start_time": "2022-10-20T09:03:38.615Z"
   },
   {
    "duration": 18,
    "start_time": "2022-10-20T09:03:38.624Z"
   },
   {
    "duration": 20,
    "start_time": "2022-10-20T09:03:38.644Z"
   },
   {
    "duration": 46,
    "start_time": "2022-10-20T09:03:38.666Z"
   },
   {
    "duration": 9,
    "start_time": "2022-10-20T09:03:38.714Z"
   },
   {
    "duration": 29,
    "start_time": "2022-10-20T09:03:38.725Z"
   },
   {
    "duration": 4,
    "start_time": "2022-10-20T09:03:38.755Z"
   },
   {
    "duration": 29,
    "start_time": "2022-10-20T09:03:38.761Z"
   },
   {
    "duration": 16,
    "start_time": "2022-10-20T09:03:38.809Z"
   },
   {
    "duration": 21,
    "start_time": "2022-10-20T09:03:38.827Z"
   },
   {
    "duration": 12,
    "start_time": "2022-10-20T09:03:38.850Z"
   },
   {
    "duration": 9,
    "start_time": "2022-10-20T09:03:38.864Z"
   },
   {
    "duration": 12,
    "start_time": "2022-10-20T09:03:38.874Z"
   },
   {
    "duration": 307,
    "start_time": "2022-10-20T09:03:38.888Z"
   },
   {
    "duration": 5,
    "start_time": "2022-10-20T09:03:39.197Z"
   },
   {
    "duration": 18,
    "start_time": "2022-10-20T09:03:39.209Z"
   },
   {
    "duration": 24,
    "start_time": "2022-10-20T09:03:39.229Z"
   },
   {
    "duration": 295,
    "start_time": "2022-10-20T09:03:39.254Z"
   },
   {
    "duration": 253,
    "start_time": "2022-10-20T09:03:39.551Z"
   },
   {
    "duration": 320,
    "start_time": "2022-10-20T09:03:39.808Z"
   },
   {
    "duration": 216,
    "start_time": "2022-10-20T09:03:40.130Z"
   },
   {
    "duration": 14,
    "start_time": "2022-10-20T09:03:40.348Z"
   },
   {
    "duration": 13,
    "start_time": "2022-10-20T09:03:40.367Z"
   },
   {
    "duration": 162,
    "start_time": "2022-10-20T09:03:40.382Z"
   },
   {
    "duration": 742,
    "start_time": "2022-10-20T09:03:40.546Z"
   },
   {
    "duration": 511,
    "start_time": "2022-10-20T09:03:41.290Z"
   },
   {
    "duration": 109,
    "start_time": "2022-10-20T09:03:41.805Z"
   },
   {
    "duration": 0,
    "start_time": "2022-10-20T09:03:41.917Z"
   },
   {
    "duration": 9,
    "start_time": "2022-10-20T09:05:58.246Z"
   },
   {
    "duration": 11,
    "start_time": "2022-10-20T09:06:04.345Z"
   },
   {
    "duration": 8,
    "start_time": "2022-10-20T09:06:05.676Z"
   },
   {
    "duration": 1277,
    "start_time": "2022-10-20T09:08:03.612Z"
   },
   {
    "duration": 14,
    "start_time": "2022-10-20T09:08:54.332Z"
   },
   {
    "duration": 16,
    "start_time": "2022-10-20T09:08:55.402Z"
   },
   {
    "duration": 1403,
    "start_time": "2022-10-20T09:08:55.730Z"
   },
   {
    "duration": 13,
    "start_time": "2022-10-20T09:10:38.533Z"
   },
   {
    "duration": 703,
    "start_time": "2022-10-20T09:10:55.624Z"
   },
   {
    "duration": 14,
    "start_time": "2022-10-20T09:10:56.329Z"
   },
   {
    "duration": 37,
    "start_time": "2022-10-20T09:10:56.344Z"
   },
   {
    "duration": 2011,
    "start_time": "2022-10-20T09:10:56.382Z"
   },
   {
    "duration": 9,
    "start_time": "2022-10-20T09:10:58.396Z"
   },
   {
    "duration": 45,
    "start_time": "2022-10-20T09:10:58.407Z"
   },
   {
    "duration": 38,
    "start_time": "2022-10-20T09:10:58.453Z"
   },
   {
    "duration": 8,
    "start_time": "2022-10-20T09:10:58.493Z"
   },
   {
    "duration": 26,
    "start_time": "2022-10-20T09:10:58.502Z"
   },
   {
    "duration": 54,
    "start_time": "2022-10-20T09:10:58.530Z"
   },
   {
    "duration": 5,
    "start_time": "2022-10-20T09:10:58.586Z"
   },
   {
    "duration": 10,
    "start_time": "2022-10-20T09:10:58.593Z"
   },
   {
    "duration": 14,
    "start_time": "2022-10-20T09:10:58.612Z"
   },
   {
    "duration": 31,
    "start_time": "2022-10-20T09:10:58.631Z"
   },
   {
    "duration": 10,
    "start_time": "2022-10-20T09:10:58.664Z"
   },
   {
    "duration": 6,
    "start_time": "2022-10-20T09:10:58.676Z"
   },
   {
    "duration": 12,
    "start_time": "2022-10-20T09:10:58.684Z"
   },
   {
    "duration": 17,
    "start_time": "2022-10-20T09:10:58.698Z"
   },
   {
    "duration": 16,
    "start_time": "2022-10-20T09:10:58.716Z"
   },
   {
    "duration": 18,
    "start_time": "2022-10-20T09:10:58.734Z"
   },
   {
    "duration": 19,
    "start_time": "2022-10-20T09:10:58.754Z"
   },
   {
    "duration": 16,
    "start_time": "2022-10-20T09:10:58.774Z"
   },
   {
    "duration": 36,
    "start_time": "2022-10-20T09:10:58.791Z"
   },
   {
    "duration": 50,
    "start_time": "2022-10-20T09:10:58.843Z"
   },
   {
    "duration": 5,
    "start_time": "2022-10-20T09:10:58.895Z"
   },
   {
    "duration": 48,
    "start_time": "2022-10-20T09:10:58.902Z"
   },
   {
    "duration": 17,
    "start_time": "2022-10-20T09:10:58.952Z"
   },
   {
    "duration": 4,
    "start_time": "2022-10-20T09:10:58.971Z"
   },
   {
    "duration": 12,
    "start_time": "2022-10-20T09:10:58.976Z"
   },
   {
    "duration": 10,
    "start_time": "2022-10-20T09:10:58.990Z"
   },
   {
    "duration": 14,
    "start_time": "2022-10-20T09:10:59.002Z"
   },
   {
    "duration": 325,
    "start_time": "2022-10-20T09:10:59.017Z"
   },
   {
    "duration": 4,
    "start_time": "2022-10-20T09:10:59.343Z"
   },
   {
    "duration": 8,
    "start_time": "2022-10-20T09:10:59.348Z"
   },
   {
    "duration": 16,
    "start_time": "2022-10-20T09:10:59.357Z"
   },
   {
    "duration": 320,
    "start_time": "2022-10-20T09:10:59.375Z"
   },
   {
    "duration": 250,
    "start_time": "2022-10-20T09:10:59.697Z"
   },
   {
    "duration": 302,
    "start_time": "2022-10-20T09:10:59.949Z"
   },
   {
    "duration": 226,
    "start_time": "2022-10-20T09:11:00.253Z"
   },
   {
    "duration": 18,
    "start_time": "2022-10-20T09:11:00.481Z"
   },
   {
    "duration": 41,
    "start_time": "2022-10-20T09:11:00.509Z"
   },
   {
    "duration": 183,
    "start_time": "2022-10-20T09:11:00.552Z"
   },
   {
    "duration": 734,
    "start_time": "2022-10-20T09:11:00.737Z"
   },
   {
    "duration": 498,
    "start_time": "2022-10-20T09:11:01.473Z"
   },
   {
    "duration": 12,
    "start_time": "2022-10-20T09:11:01.973Z"
   },
   {
    "duration": 37,
    "start_time": "2022-10-20T09:11:01.987Z"
   },
   {
    "duration": 1345,
    "start_time": "2022-10-20T09:11:02.026Z"
   },
   {
    "duration": 724,
    "start_time": "2022-10-20T09:14:47.757Z"
   },
   {
    "duration": 22,
    "start_time": "2022-10-20T09:14:48.483Z"
   },
   {
    "duration": 42,
    "start_time": "2022-10-20T09:14:48.508Z"
   },
   {
    "duration": 2016,
    "start_time": "2022-10-20T09:14:48.553Z"
   },
   {
    "duration": 14,
    "start_time": "2022-10-20T09:14:50.571Z"
   },
   {
    "duration": 38,
    "start_time": "2022-10-20T09:14:50.587Z"
   },
   {
    "duration": 41,
    "start_time": "2022-10-20T09:14:50.627Z"
   },
   {
    "duration": 8,
    "start_time": "2022-10-20T09:14:50.669Z"
   },
   {
    "duration": 19,
    "start_time": "2022-10-20T09:14:50.679Z"
   },
   {
    "duration": 66,
    "start_time": "2022-10-20T09:14:50.702Z"
   },
   {
    "duration": 5,
    "start_time": "2022-10-20T09:14:50.770Z"
   },
   {
    "duration": 11,
    "start_time": "2022-10-20T09:14:50.777Z"
   },
   {
    "duration": 7,
    "start_time": "2022-10-20T09:14:50.790Z"
   },
   {
    "duration": 22,
    "start_time": "2022-10-20T09:14:50.808Z"
   },
   {
    "duration": 16,
    "start_time": "2022-10-20T09:14:50.832Z"
   },
   {
    "duration": 15,
    "start_time": "2022-10-20T09:14:50.850Z"
   },
   {
    "duration": 20,
    "start_time": "2022-10-20T09:14:50.866Z"
   },
   {
    "duration": 12,
    "start_time": "2022-10-20T09:14:50.888Z"
   },
   {
    "duration": 26,
    "start_time": "2022-10-20T09:14:50.901Z"
   },
   {
    "duration": 23,
    "start_time": "2022-10-20T09:14:50.929Z"
   },
   {
    "duration": 21,
    "start_time": "2022-10-20T09:14:50.954Z"
   },
   {
    "duration": 27,
    "start_time": "2022-10-20T09:14:50.977Z"
   },
   {
    "duration": 22,
    "start_time": "2022-10-20T09:14:51.005Z"
   },
   {
    "duration": 40,
    "start_time": "2022-10-20T09:14:51.029Z"
   },
   {
    "duration": 15,
    "start_time": "2022-10-20T09:14:51.070Z"
   },
   {
    "duration": 41,
    "start_time": "2022-10-20T09:14:51.087Z"
   },
   {
    "duration": 14,
    "start_time": "2022-10-20T09:14:51.130Z"
   },
   {
    "duration": 5,
    "start_time": "2022-10-20T09:14:51.149Z"
   },
   {
    "duration": 12,
    "start_time": "2022-10-20T09:14:51.155Z"
   },
   {
    "duration": 8,
    "start_time": "2022-10-20T09:14:51.169Z"
   },
   {
    "duration": 12,
    "start_time": "2022-10-20T09:14:51.179Z"
   },
   {
    "duration": 348,
    "start_time": "2022-10-20T09:14:51.193Z"
   },
   {
    "duration": 5,
    "start_time": "2022-10-20T09:14:51.543Z"
   },
   {
    "duration": 11,
    "start_time": "2022-10-20T09:14:51.550Z"
   },
   {
    "duration": 40,
    "start_time": "2022-10-20T09:14:51.563Z"
   },
   {
    "duration": 340,
    "start_time": "2022-10-20T09:14:51.604Z"
   },
   {
    "duration": 259,
    "start_time": "2022-10-20T09:14:51.946Z"
   },
   {
    "duration": 303,
    "start_time": "2022-10-20T09:14:52.208Z"
   },
   {
    "duration": 246,
    "start_time": "2022-10-20T09:14:52.515Z"
   },
   {
    "duration": 17,
    "start_time": "2022-10-20T09:14:52.763Z"
   },
   {
    "duration": 19,
    "start_time": "2022-10-20T09:14:52.782Z"
   },
   {
    "duration": 173,
    "start_time": "2022-10-20T09:14:52.813Z"
   },
   {
    "duration": 812,
    "start_time": "2022-10-20T09:14:52.988Z"
   },
   {
    "duration": 587,
    "start_time": "2022-10-20T09:14:53.803Z"
   },
   {
    "duration": 19,
    "start_time": "2022-10-20T09:14:54.392Z"
   },
   {
    "duration": 21,
    "start_time": "2022-10-20T09:14:54.419Z"
   },
   {
    "duration": 1342,
    "start_time": "2022-10-20T09:14:54.442Z"
   },
   {
    "duration": 10,
    "start_time": "2022-10-20T09:15:04.327Z"
   },
   {
    "duration": 15,
    "start_time": "2022-10-20T09:15:07.004Z"
   },
   {
    "duration": 146,
    "start_time": "2022-10-20T09:15:07.999Z"
   },
   {
    "duration": 1012,
    "start_time": "2022-10-20T09:15:09.426Z"
   },
   {
    "duration": 424,
    "start_time": "2022-10-20T09:15:10.758Z"
   },
   {
    "duration": 13,
    "start_time": "2022-10-20T09:15:14.930Z"
   },
   {
    "duration": 8,
    "start_time": "2022-10-20T09:15:18.427Z"
   },
   {
    "duration": 1532,
    "start_time": "2022-10-20T09:15:21.525Z"
   },
   {
    "duration": 12,
    "start_time": "2022-10-20T09:15:45.766Z"
   },
   {
    "duration": 16,
    "start_time": "2022-10-20T09:15:46.506Z"
   },
   {
    "duration": 1740,
    "start_time": "2022-10-20T09:15:47.928Z"
   },
   {
    "duration": 878,
    "start_time": "2022-10-20T09:16:27.608Z"
   },
   {
    "duration": 63,
    "start_time": "2022-10-20T09:18:38.267Z"
   },
   {
    "duration": 758,
    "start_time": "2022-10-20T09:18:49.710Z"
   },
   {
    "duration": 16,
    "start_time": "2022-10-20T09:18:50.470Z"
   },
   {
    "duration": 37,
    "start_time": "2022-10-20T09:18:50.487Z"
   },
   {
    "duration": 1916,
    "start_time": "2022-10-20T09:18:50.525Z"
   },
   {
    "duration": 9,
    "start_time": "2022-10-20T09:18:52.443Z"
   },
   {
    "duration": 26,
    "start_time": "2022-10-20T09:18:52.454Z"
   },
   {
    "duration": 45,
    "start_time": "2022-10-20T09:18:52.482Z"
   },
   {
    "duration": 12,
    "start_time": "2022-10-20T09:18:52.530Z"
   },
   {
    "duration": 16,
    "start_time": "2022-10-20T09:18:52.544Z"
   },
   {
    "duration": 73,
    "start_time": "2022-10-20T09:18:52.562Z"
   },
   {
    "duration": 7,
    "start_time": "2022-10-20T09:18:52.637Z"
   },
   {
    "duration": 10,
    "start_time": "2022-10-20T09:18:52.646Z"
   },
   {
    "duration": 8,
    "start_time": "2022-10-20T09:18:52.658Z"
   },
   {
    "duration": 46,
    "start_time": "2022-10-20T09:18:52.670Z"
   },
   {
    "duration": 8,
    "start_time": "2022-10-20T09:18:52.719Z"
   },
   {
    "duration": 60,
    "start_time": "2022-10-20T09:18:52.729Z"
   },
   {
    "duration": 31,
    "start_time": "2022-10-20T09:18:52.792Z"
   },
   {
    "duration": 31,
    "start_time": "2022-10-20T09:18:52.825Z"
   },
   {
    "duration": 31,
    "start_time": "2022-10-20T09:18:52.858Z"
   },
   {
    "duration": 32,
    "start_time": "2022-10-20T09:18:52.890Z"
   },
   {
    "duration": 28,
    "start_time": "2022-10-20T09:18:52.924Z"
   },
   {
    "duration": 24,
    "start_time": "2022-10-20T09:18:52.953Z"
   },
   {
    "duration": 20,
    "start_time": "2022-10-20T09:18:52.978Z"
   },
   {
    "duration": 47,
    "start_time": "2022-10-20T09:18:53.000Z"
   },
   {
    "duration": 7,
    "start_time": "2022-10-20T09:18:53.049Z"
   },
   {
    "duration": 53,
    "start_time": "2022-10-20T09:18:53.058Z"
   },
   {
    "duration": 20,
    "start_time": "2022-10-20T09:18:53.113Z"
   },
   {
    "duration": 4,
    "start_time": "2022-10-20T09:18:53.135Z"
   },
   {
    "duration": 11,
    "start_time": "2022-10-20T09:18:53.141Z"
   },
   {
    "duration": 6,
    "start_time": "2022-10-20T09:18:53.154Z"
   },
   {
    "duration": 6,
    "start_time": "2022-10-20T09:18:53.161Z"
   },
   {
    "duration": 362,
    "start_time": "2022-10-20T09:18:53.169Z"
   },
   {
    "duration": 4,
    "start_time": "2022-10-20T09:18:53.533Z"
   },
   {
    "duration": 18,
    "start_time": "2022-10-20T09:18:53.538Z"
   },
   {
    "duration": 19,
    "start_time": "2022-10-20T09:18:53.558Z"
   },
   {
    "duration": 349,
    "start_time": "2022-10-20T09:18:53.578Z"
   },
   {
    "duration": 282,
    "start_time": "2022-10-20T09:18:53.929Z"
   },
   {
    "duration": 290,
    "start_time": "2022-10-20T09:18:54.212Z"
   },
   {
    "duration": 200,
    "start_time": "2022-10-20T09:18:54.504Z"
   },
   {
    "duration": 10,
    "start_time": "2022-10-20T09:18:54.708Z"
   },
   {
    "duration": 8,
    "start_time": "2022-10-20T09:18:54.722Z"
   },
   {
    "duration": 141,
    "start_time": "2022-10-20T09:18:54.732Z"
   },
   {
    "duration": 700,
    "start_time": "2022-10-20T09:18:54.875Z"
   },
   {
    "duration": 491,
    "start_time": "2022-10-20T09:18:55.577Z"
   },
   {
    "duration": 10,
    "start_time": "2022-10-20T09:18:56.070Z"
   },
   {
    "duration": 33,
    "start_time": "2022-10-20T09:18:56.082Z"
   },
   {
    "duration": 815,
    "start_time": "2022-10-20T09:18:56.117Z"
   },
   {
    "duration": 11,
    "start_time": "2022-10-20T09:21:57.835Z"
   },
   {
    "duration": 9,
    "start_time": "2022-10-20T09:21:59.367Z"
   },
   {
    "duration": 808,
    "start_time": "2022-10-20T09:22:00.779Z"
   },
   {
    "duration": 80,
    "start_time": "2022-10-20T09:54:24.597Z"
   },
   {
    "duration": 5,
    "start_time": "2022-10-20T09:54:37.077Z"
   },
   {
    "duration": 253,
    "start_time": "2022-10-20T09:57:19.831Z"
   },
   {
    "duration": 5,
    "start_time": "2022-10-20T10:09:09.162Z"
   },
   {
    "duration": 157,
    "start_time": "2022-10-20T10:09:10.402Z"
   },
   {
    "duration": 721,
    "start_time": "2022-10-20T10:19:11.705Z"
   },
   {
    "duration": 15,
    "start_time": "2022-10-20T10:19:12.428Z"
   },
   {
    "duration": 28,
    "start_time": "2022-10-20T10:19:12.444Z"
   },
   {
    "duration": 1907,
    "start_time": "2022-10-20T10:19:12.474Z"
   },
   {
    "duration": 10,
    "start_time": "2022-10-20T10:19:14.384Z"
   },
   {
    "duration": 24,
    "start_time": "2022-10-20T10:19:14.396Z"
   },
   {
    "duration": 37,
    "start_time": "2022-10-20T10:19:14.421Z"
   },
   {
    "duration": 7,
    "start_time": "2022-10-20T10:19:14.459Z"
   },
   {
    "duration": 11,
    "start_time": "2022-10-20T10:19:14.468Z"
   },
   {
    "duration": 51,
    "start_time": "2022-10-20T10:19:14.480Z"
   },
   {
    "duration": 4,
    "start_time": "2022-10-20T10:19:14.533Z"
   },
   {
    "duration": 4,
    "start_time": "2022-10-20T10:19:14.538Z"
   },
   {
    "duration": 5,
    "start_time": "2022-10-20T10:19:14.544Z"
   },
   {
    "duration": 18,
    "start_time": "2022-10-20T10:19:14.552Z"
   },
   {
    "duration": 37,
    "start_time": "2022-10-20T10:19:14.572Z"
   },
   {
    "duration": 4,
    "start_time": "2022-10-20T10:19:14.610Z"
   },
   {
    "duration": 7,
    "start_time": "2022-10-20T10:19:14.615Z"
   },
   {
    "duration": 11,
    "start_time": "2022-10-20T10:19:14.623Z"
   },
   {
    "duration": 5,
    "start_time": "2022-10-20T10:19:14.636Z"
   },
   {
    "duration": 18,
    "start_time": "2022-10-20T10:19:14.642Z"
   },
   {
    "duration": 19,
    "start_time": "2022-10-20T10:19:14.662Z"
   },
   {
    "duration": 34,
    "start_time": "2022-10-20T10:19:14.683Z"
   },
   {
    "duration": 7,
    "start_time": "2022-10-20T10:19:14.718Z"
   },
   {
    "duration": 30,
    "start_time": "2022-10-20T10:19:14.727Z"
   },
   {
    "duration": 4,
    "start_time": "2022-10-20T10:19:14.759Z"
   },
   {
    "duration": 22,
    "start_time": "2022-10-20T10:19:14.764Z"
   },
   {
    "duration": 12,
    "start_time": "2022-10-20T10:19:14.808Z"
   },
   {
    "duration": 9,
    "start_time": "2022-10-20T10:19:14.822Z"
   },
   {
    "duration": 7,
    "start_time": "2022-10-20T10:19:14.833Z"
   },
   {
    "duration": 6,
    "start_time": "2022-10-20T10:19:14.841Z"
   },
   {
    "duration": 6,
    "start_time": "2022-10-20T10:19:14.848Z"
   },
   {
    "duration": 318,
    "start_time": "2022-10-20T10:19:14.856Z"
   },
   {
    "duration": 3,
    "start_time": "2022-10-20T10:19:15.175Z"
   },
   {
    "duration": 11,
    "start_time": "2022-10-20T10:19:15.180Z"
   },
   {
    "duration": 28,
    "start_time": "2022-10-20T10:19:15.193Z"
   },
   {
    "duration": 278,
    "start_time": "2022-10-20T10:19:15.223Z"
   },
   {
    "duration": 251,
    "start_time": "2022-10-20T10:19:15.503Z"
   },
   {
    "duration": 291,
    "start_time": "2022-10-20T10:19:15.756Z"
   },
   {
    "duration": 201,
    "start_time": "2022-10-20T10:19:16.049Z"
   },
   {
    "duration": 10,
    "start_time": "2022-10-20T10:19:16.252Z"
   },
   {
    "duration": 8,
    "start_time": "2022-10-20T10:19:16.266Z"
   },
   {
    "duration": 144,
    "start_time": "2022-10-20T10:19:16.276Z"
   },
   {
    "duration": 679,
    "start_time": "2022-10-20T10:19:16.422Z"
   },
   {
    "duration": 456,
    "start_time": "2022-10-20T10:19:17.103Z"
   },
   {
    "duration": 9,
    "start_time": "2022-10-20T10:19:17.560Z"
   },
   {
    "duration": 11,
    "start_time": "2022-10-20T10:19:17.570Z"
   },
   {
    "duration": 814,
    "start_time": "2022-10-20T10:19:17.582Z"
   },
   {
    "duration": 14,
    "start_time": "2022-10-20T10:19:18.398Z"
   },
   {
    "duration": 165,
    "start_time": "2022-10-20T10:19:18.414Z"
   },
   {
    "duration": 4,
    "start_time": "2022-10-20T10:19:18.581Z"
   },
   {
    "duration": 174,
    "start_time": "2022-10-20T10:19:18.587Z"
   },
   {
    "duration": 93,
    "start_time": "2022-10-20T10:29:04.958Z"
   },
   {
    "duration": 195,
    "start_time": "2022-10-20T10:29:44.659Z"
   },
   {
    "duration": 328,
    "start_time": "2022-10-20T10:35:11.769Z"
   },
   {
    "duration": 165,
    "start_time": "2022-10-20T10:36:25.775Z"
   },
   {
    "duration": 263,
    "start_time": "2022-10-20T10:37:32.841Z"
   },
   {
    "duration": 155,
    "start_time": "2022-10-20T10:53:19.111Z"
   },
   {
    "duration": 24,
    "start_time": "2022-10-20T11:08:41.077Z"
   },
   {
    "duration": 7,
    "start_time": "2022-10-20T11:10:42.085Z"
   },
   {
    "duration": 681,
    "start_time": "2022-10-20T11:11:26.027Z"
   },
   {
    "duration": 17,
    "start_time": "2022-10-20T11:11:26.710Z"
   },
   {
    "duration": 32,
    "start_time": "2022-10-20T11:11:26.728Z"
   },
   {
    "duration": 1856,
    "start_time": "2022-10-20T11:11:26.761Z"
   },
   {
    "duration": 11,
    "start_time": "2022-10-20T11:11:28.620Z"
   },
   {
    "duration": 24,
    "start_time": "2022-10-20T11:11:28.632Z"
   },
   {
    "duration": 54,
    "start_time": "2022-10-20T11:11:28.658Z"
   },
   {
    "duration": 8,
    "start_time": "2022-10-20T11:11:28.714Z"
   },
   {
    "duration": 8,
    "start_time": "2022-10-20T11:11:28.723Z"
   },
   {
    "duration": 46,
    "start_time": "2022-10-20T11:11:28.732Z"
   },
   {
    "duration": 5,
    "start_time": "2022-10-20T11:11:28.779Z"
   },
   {
    "duration": 4,
    "start_time": "2022-10-20T11:11:28.809Z"
   },
   {
    "duration": 6,
    "start_time": "2022-10-20T11:11:28.814Z"
   },
   {
    "duration": 21,
    "start_time": "2022-10-20T11:11:28.824Z"
   },
   {
    "duration": 12,
    "start_time": "2022-10-20T11:11:28.847Z"
   },
   {
    "duration": 12,
    "start_time": "2022-10-20T11:11:28.860Z"
   },
   {
    "duration": 12,
    "start_time": "2022-10-20T11:11:28.874Z"
   },
   {
    "duration": 7,
    "start_time": "2022-10-20T11:11:28.888Z"
   },
   {
    "duration": 5,
    "start_time": "2022-10-20T11:11:28.909Z"
   },
   {
    "duration": 14,
    "start_time": "2022-10-20T11:11:28.915Z"
   },
   {
    "duration": 18,
    "start_time": "2022-10-20T11:11:28.931Z"
   },
   {
    "duration": 12,
    "start_time": "2022-10-20T11:11:28.950Z"
   },
   {
    "duration": 7,
    "start_time": "2022-10-20T11:11:28.963Z"
   },
   {
    "duration": 58,
    "start_time": "2022-10-20T11:11:28.972Z"
   },
   {
    "duration": 4,
    "start_time": "2022-10-20T11:11:29.032Z"
   },
   {
    "duration": 23,
    "start_time": "2022-10-20T11:11:29.038Z"
   },
   {
    "duration": 14,
    "start_time": "2022-10-20T11:11:29.062Z"
   },
   {
    "duration": 4,
    "start_time": "2022-10-20T11:11:29.078Z"
   },
   {
    "duration": 25,
    "start_time": "2022-10-20T11:11:29.084Z"
   },
   {
    "duration": 6,
    "start_time": "2022-10-20T11:11:29.111Z"
   },
   {
    "duration": 14,
    "start_time": "2022-10-20T11:11:29.119Z"
   },
   {
    "duration": 306,
    "start_time": "2022-10-20T11:11:29.135Z"
   },
   {
    "duration": 3,
    "start_time": "2022-10-20T11:11:29.443Z"
   },
   {
    "duration": 9,
    "start_time": "2022-10-20T11:11:29.447Z"
   },
   {
    "duration": 16,
    "start_time": "2022-10-20T11:11:29.457Z"
   },
   {
    "duration": 290,
    "start_time": "2022-10-20T11:11:29.474Z"
   },
   {
    "duration": 257,
    "start_time": "2022-10-20T11:11:29.765Z"
   },
   {
    "duration": 294,
    "start_time": "2022-10-20T11:11:30.024Z"
   },
   {
    "duration": 202,
    "start_time": "2022-10-20T11:11:30.320Z"
   },
   {
    "duration": 11,
    "start_time": "2022-10-20T11:11:30.523Z"
   },
   {
    "duration": 32,
    "start_time": "2022-10-20T11:11:30.538Z"
   },
   {
    "duration": 138,
    "start_time": "2022-10-20T11:11:30.572Z"
   },
   {
    "duration": 681,
    "start_time": "2022-10-20T11:11:30.712Z"
   },
   {
    "duration": 464,
    "start_time": "2022-10-20T11:11:31.394Z"
   },
   {
    "duration": 10,
    "start_time": "2022-10-20T11:11:31.860Z"
   },
   {
    "duration": 18,
    "start_time": "2022-10-20T11:11:31.871Z"
   },
   {
    "duration": 839,
    "start_time": "2022-10-20T11:11:31.890Z"
   },
   {
    "duration": 8,
    "start_time": "2022-10-20T11:11:32.731Z"
   },
   {
    "duration": 191,
    "start_time": "2022-10-20T11:11:32.741Z"
   },
   {
    "duration": 5,
    "start_time": "2022-10-20T11:11:32.934Z"
   },
   {
    "duration": 187,
    "start_time": "2022-10-20T11:11:32.941Z"
   },
   {
    "duration": 171,
    "start_time": "2022-10-20T11:11:33.130Z"
   },
   {
    "duration": 167,
    "start_time": "2022-10-20T11:11:33.303Z"
   },
   {
    "duration": 153,
    "start_time": "2022-10-20T11:11:33.472Z"
   },
   {
    "duration": 256,
    "start_time": "2022-10-20T11:11:33.627Z"
   },
   {
    "duration": 33,
    "start_time": "2022-10-20T11:11:33.886Z"
   },
   {
    "duration": 7,
    "start_time": "2022-10-20T11:11:33.920Z"
   },
   {
    "duration": 28,
    "start_time": "2022-10-20T11:11:33.928Z"
   },
   {
    "duration": 737,
    "start_time": "2022-10-20T11:12:18.587Z"
   },
   {
    "duration": 14,
    "start_time": "2022-10-20T11:12:19.325Z"
   },
   {
    "duration": 27,
    "start_time": "2022-10-20T11:12:19.341Z"
   },
   {
    "duration": 1843,
    "start_time": "2022-10-20T11:12:19.370Z"
   },
   {
    "duration": 9,
    "start_time": "2022-10-20T11:12:21.214Z"
   },
   {
    "duration": 36,
    "start_time": "2022-10-20T11:12:21.224Z"
   },
   {
    "duration": 38,
    "start_time": "2022-10-20T11:12:21.261Z"
   },
   {
    "duration": 13,
    "start_time": "2022-10-20T11:12:21.300Z"
   },
   {
    "duration": 22,
    "start_time": "2022-10-20T11:12:21.314Z"
   },
   {
    "duration": 57,
    "start_time": "2022-10-20T11:12:21.339Z"
   },
   {
    "duration": 4,
    "start_time": "2022-10-20T11:12:21.398Z"
   },
   {
    "duration": 32,
    "start_time": "2022-10-20T11:12:21.404Z"
   },
   {
    "duration": 32,
    "start_time": "2022-10-20T11:12:21.437Z"
   },
   {
    "duration": 43,
    "start_time": "2022-10-20T11:12:21.470Z"
   },
   {
    "duration": 24,
    "start_time": "2022-10-20T11:12:21.515Z"
   },
   {
    "duration": 38,
    "start_time": "2022-10-20T11:12:21.540Z"
   },
   {
    "duration": 23,
    "start_time": "2022-10-20T11:12:21.579Z"
   },
   {
    "duration": 33,
    "start_time": "2022-10-20T11:12:21.603Z"
   },
   {
    "duration": 25,
    "start_time": "2022-10-20T11:12:21.638Z"
   },
   {
    "duration": 29,
    "start_time": "2022-10-20T11:12:21.665Z"
   },
   {
    "duration": 37,
    "start_time": "2022-10-20T11:12:21.695Z"
   },
   {
    "duration": 13,
    "start_time": "2022-10-20T11:12:21.734Z"
   },
   {
    "duration": 10,
    "start_time": "2022-10-20T11:12:21.749Z"
   },
   {
    "duration": 63,
    "start_time": "2022-10-20T11:12:21.760Z"
   },
   {
    "duration": 33,
    "start_time": "2022-10-20T11:12:21.825Z"
   },
   {
    "duration": 23,
    "start_time": "2022-10-20T11:12:21.860Z"
   },
   {
    "duration": 17,
    "start_time": "2022-10-20T11:12:21.885Z"
   },
   {
    "duration": 5,
    "start_time": "2022-10-20T11:12:21.905Z"
   },
   {
    "duration": 9,
    "start_time": "2022-10-20T11:12:21.911Z"
   },
   {
    "duration": 10,
    "start_time": "2022-10-20T11:12:21.921Z"
   },
   {
    "duration": 8,
    "start_time": "2022-10-20T11:12:21.933Z"
   },
   {
    "duration": 297,
    "start_time": "2022-10-20T11:12:21.942Z"
   },
   {
    "duration": 4,
    "start_time": "2022-10-20T11:12:22.241Z"
   },
   {
    "duration": 10,
    "start_time": "2022-10-20T11:12:22.246Z"
   },
   {
    "duration": 19,
    "start_time": "2022-10-20T11:12:22.257Z"
   },
   {
    "duration": 323,
    "start_time": "2022-10-20T11:12:22.277Z"
   },
   {
    "duration": 307,
    "start_time": "2022-10-20T11:12:22.602Z"
   },
   {
    "duration": 293,
    "start_time": "2022-10-20T11:12:22.910Z"
   },
   {
    "duration": 198,
    "start_time": "2022-10-20T11:12:23.205Z"
   },
   {
    "duration": 11,
    "start_time": "2022-10-20T11:12:23.405Z"
   },
   {
    "duration": 7,
    "start_time": "2022-10-20T11:12:23.418Z"
   },
   {
    "duration": 127,
    "start_time": "2022-10-20T11:12:23.427Z"
   },
   {
    "duration": 754,
    "start_time": "2022-10-20T11:12:23.556Z"
   },
   {
    "duration": 539,
    "start_time": "2022-10-20T11:12:24.312Z"
   },
   {
    "duration": 10,
    "start_time": "2022-10-20T11:12:24.852Z"
   },
   {
    "duration": 9,
    "start_time": "2022-10-20T11:12:24.864Z"
   },
   {
    "duration": 804,
    "start_time": "2022-10-20T11:12:24.874Z"
   },
   {
    "duration": 5,
    "start_time": "2022-10-20T11:12:25.680Z"
   },
   {
    "duration": 174,
    "start_time": "2022-10-20T11:12:25.687Z"
   },
   {
    "duration": 5,
    "start_time": "2022-10-20T11:12:25.863Z"
   },
   {
    "duration": 184,
    "start_time": "2022-10-20T11:12:25.870Z"
   },
   {
    "duration": 175,
    "start_time": "2022-10-20T11:12:26.056Z"
   },
   {
    "duration": 167,
    "start_time": "2022-10-20T11:12:26.233Z"
   },
   {
    "duration": 156,
    "start_time": "2022-10-20T11:12:26.402Z"
   },
   {
    "duration": 272,
    "start_time": "2022-10-20T11:12:26.559Z"
   },
   {
    "duration": 27,
    "start_time": "2022-10-20T11:12:26.833Z"
   },
   {
    "duration": 7,
    "start_time": "2022-10-20T11:12:26.862Z"
   },
   {
    "duration": 10,
    "start_time": "2022-10-20T11:12:26.871Z"
   },
   {
    "duration": 168,
    "start_time": "2022-10-20T11:22:28.667Z"
   },
   {
    "duration": 19,
    "start_time": "2022-10-20T11:33:10.469Z"
   },
   {
    "duration": 142,
    "start_time": "2022-10-20T11:33:23.350Z"
   },
   {
    "duration": 739,
    "start_time": "2022-10-20T11:33:35.675Z"
   },
   {
    "duration": 14,
    "start_time": "2022-10-20T11:33:36.416Z"
   },
   {
    "duration": 27,
    "start_time": "2022-10-20T11:33:36.432Z"
   },
   {
    "duration": 1920,
    "start_time": "2022-10-20T11:33:36.461Z"
   },
   {
    "duration": 10,
    "start_time": "2022-10-20T11:33:38.384Z"
   },
   {
    "duration": 42,
    "start_time": "2022-10-20T11:33:38.396Z"
   },
   {
    "duration": 50,
    "start_time": "2022-10-20T11:33:38.440Z"
   },
   {
    "duration": 8,
    "start_time": "2022-10-20T11:33:38.492Z"
   },
   {
    "duration": 39,
    "start_time": "2022-10-20T11:33:38.501Z"
   },
   {
    "duration": 66,
    "start_time": "2022-10-20T11:33:38.541Z"
   },
   {
    "duration": 6,
    "start_time": "2022-10-20T11:33:38.608Z"
   },
   {
    "duration": 31,
    "start_time": "2022-10-20T11:33:38.615Z"
   },
   {
    "duration": 29,
    "start_time": "2022-10-20T11:33:38.648Z"
   },
   {
    "duration": 38,
    "start_time": "2022-10-20T11:33:38.679Z"
   },
   {
    "duration": 8,
    "start_time": "2022-10-20T11:33:38.718Z"
   },
   {
    "duration": 23,
    "start_time": "2022-10-20T11:33:38.727Z"
   },
   {
    "duration": 29,
    "start_time": "2022-10-20T11:33:38.752Z"
   },
   {
    "duration": 39,
    "start_time": "2022-10-20T11:33:38.783Z"
   },
   {
    "duration": 45,
    "start_time": "2022-10-20T11:33:38.823Z"
   },
   {
    "duration": 37,
    "start_time": "2022-10-20T11:33:38.870Z"
   },
   {
    "duration": 29,
    "start_time": "2022-10-20T11:33:38.909Z"
   },
   {
    "duration": 33,
    "start_time": "2022-10-20T11:33:38.940Z"
   },
   {
    "duration": 26,
    "start_time": "2022-10-20T11:33:38.974Z"
   },
   {
    "duration": 57,
    "start_time": "2022-10-20T11:33:39.002Z"
   },
   {
    "duration": 31,
    "start_time": "2022-10-20T11:33:39.062Z"
   },
   {
    "duration": 54,
    "start_time": "2022-10-20T11:33:39.095Z"
   },
   {
    "duration": 58,
    "start_time": "2022-10-20T11:33:39.150Z"
   },
   {
    "duration": 19,
    "start_time": "2022-10-20T11:33:39.209Z"
   },
   {
    "duration": 36,
    "start_time": "2022-10-20T11:33:39.230Z"
   },
   {
    "duration": 45,
    "start_time": "2022-10-20T11:33:39.267Z"
   },
   {
    "duration": 40,
    "start_time": "2022-10-20T11:33:39.314Z"
   },
   {
    "duration": 325,
    "start_time": "2022-10-20T11:33:39.356Z"
   },
   {
    "duration": 4,
    "start_time": "2022-10-20T11:33:39.682Z"
   },
   {
    "duration": 30,
    "start_time": "2022-10-20T11:33:39.688Z"
   },
   {
    "duration": 52,
    "start_time": "2022-10-20T11:33:39.719Z"
   },
   {
    "duration": 330,
    "start_time": "2022-10-20T11:33:39.773Z"
   },
   {
    "duration": 244,
    "start_time": "2022-10-20T11:33:40.104Z"
   },
   {
    "duration": 279,
    "start_time": "2022-10-20T11:33:40.350Z"
   },
   {
    "duration": 192,
    "start_time": "2022-10-20T11:33:40.631Z"
   },
   {
    "duration": 11,
    "start_time": "2022-10-20T11:33:40.825Z"
   },
   {
    "duration": 30,
    "start_time": "2022-10-20T11:33:40.839Z"
   },
   {
    "duration": 118,
    "start_time": "2022-10-20T11:33:40.871Z"
   },
   {
    "duration": 709,
    "start_time": "2022-10-20T11:33:40.991Z"
   },
   {
    "duration": 519,
    "start_time": "2022-10-20T11:33:41.702Z"
   },
   {
    "duration": 10,
    "start_time": "2022-10-20T11:33:42.222Z"
   },
   {
    "duration": 14,
    "start_time": "2022-10-20T11:33:42.234Z"
   },
   {
    "duration": 877,
    "start_time": "2022-10-20T11:33:42.250Z"
   },
   {
    "duration": 5,
    "start_time": "2022-10-20T11:33:43.129Z"
   },
   {
    "duration": 184,
    "start_time": "2022-10-20T11:33:43.136Z"
   },
   {
    "duration": 5,
    "start_time": "2022-10-20T11:33:43.321Z"
   },
   {
    "duration": 181,
    "start_time": "2022-10-20T11:33:43.328Z"
   },
   {
    "duration": 180,
    "start_time": "2022-10-20T11:33:43.510Z"
   },
   {
    "duration": 177,
    "start_time": "2022-10-20T11:33:43.692Z"
   },
   {
    "duration": 168,
    "start_time": "2022-10-20T11:33:43.870Z"
   },
   {
    "duration": 294,
    "start_time": "2022-10-20T11:33:44.040Z"
   },
   {
    "duration": 23,
    "start_time": "2022-10-20T11:33:44.337Z"
   },
   {
    "duration": 7,
    "start_time": "2022-10-20T11:33:44.362Z"
   },
   {
    "duration": 32,
    "start_time": "2022-10-20T11:33:44.371Z"
   },
   {
    "duration": 22,
    "start_time": "2022-10-20T11:33:44.405Z"
   },
   {
    "duration": 139,
    "start_time": "2022-10-20T11:33:44.428Z"
   },
   {
    "duration": 730,
    "start_time": "2022-10-20T11:43:09.983Z"
   },
   {
    "duration": 15,
    "start_time": "2022-10-20T11:43:10.714Z"
   },
   {
    "duration": 33,
    "start_time": "2022-10-20T11:43:10.730Z"
   },
   {
    "duration": 1881,
    "start_time": "2022-10-20T11:43:10.764Z"
   },
   {
    "duration": 11,
    "start_time": "2022-10-20T11:43:12.647Z"
   },
   {
    "duration": 41,
    "start_time": "2022-10-20T11:43:12.660Z"
   },
   {
    "duration": 50,
    "start_time": "2022-10-20T11:43:12.703Z"
   },
   {
    "duration": 9,
    "start_time": "2022-10-20T11:43:12.756Z"
   },
   {
    "duration": 9,
    "start_time": "2022-10-20T11:43:12.766Z"
   },
   {
    "duration": 64,
    "start_time": "2022-10-20T11:43:12.777Z"
   },
   {
    "duration": 5,
    "start_time": "2022-10-20T11:43:12.843Z"
   },
   {
    "duration": 4,
    "start_time": "2022-10-20T11:43:12.849Z"
   },
   {
    "duration": 7,
    "start_time": "2022-10-20T11:43:12.854Z"
   },
   {
    "duration": 18,
    "start_time": "2022-10-20T11:43:12.864Z"
   },
   {
    "duration": 35,
    "start_time": "2022-10-20T11:43:12.884Z"
   },
   {
    "duration": 7,
    "start_time": "2022-10-20T11:43:12.921Z"
   },
   {
    "duration": 14,
    "start_time": "2022-10-20T11:43:12.929Z"
   },
   {
    "duration": 15,
    "start_time": "2022-10-20T11:43:12.945Z"
   },
   {
    "duration": 12,
    "start_time": "2022-10-20T11:43:12.962Z"
   },
   {
    "duration": 17,
    "start_time": "2022-10-20T11:43:12.975Z"
   },
   {
    "duration": 18,
    "start_time": "2022-10-20T11:43:12.994Z"
   },
   {
    "duration": 11,
    "start_time": "2022-10-20T11:43:13.013Z"
   },
   {
    "duration": 10,
    "start_time": "2022-10-20T11:43:13.026Z"
   },
   {
    "duration": 28,
    "start_time": "2022-10-20T11:43:13.038Z"
   },
   {
    "duration": 4,
    "start_time": "2022-10-20T11:43:13.068Z"
   },
   {
    "duration": 41,
    "start_time": "2022-10-20T11:43:13.074Z"
   },
   {
    "duration": 14,
    "start_time": "2022-10-20T11:43:13.117Z"
   },
   {
    "duration": 4,
    "start_time": "2022-10-20T11:43:13.132Z"
   },
   {
    "duration": 7,
    "start_time": "2022-10-20T11:43:13.137Z"
   },
   {
    "duration": 4,
    "start_time": "2022-10-20T11:43:13.145Z"
   },
   {
    "duration": 6,
    "start_time": "2022-10-20T11:43:13.151Z"
   },
   {
    "duration": 321,
    "start_time": "2022-10-20T11:43:13.158Z"
   },
   {
    "duration": 4,
    "start_time": "2022-10-20T11:43:13.480Z"
   },
   {
    "duration": 8,
    "start_time": "2022-10-20T11:43:13.486Z"
   },
   {
    "duration": 24,
    "start_time": "2022-10-20T11:43:13.495Z"
   },
   {
    "duration": 295,
    "start_time": "2022-10-20T11:43:13.520Z"
   },
   {
    "duration": 278,
    "start_time": "2022-10-20T11:43:13.817Z"
   },
   {
    "duration": 292,
    "start_time": "2022-10-20T11:43:14.097Z"
   },
   {
    "duration": 201,
    "start_time": "2022-10-20T11:43:14.391Z"
   },
   {
    "duration": 16,
    "start_time": "2022-10-20T11:43:14.593Z"
   },
   {
    "duration": 8,
    "start_time": "2022-10-20T11:43:14.612Z"
   },
   {
    "duration": 131,
    "start_time": "2022-10-20T11:43:14.621Z"
   },
   {
    "duration": 688,
    "start_time": "2022-10-20T11:43:14.754Z"
   },
   {
    "duration": 461,
    "start_time": "2022-10-20T11:43:15.443Z"
   },
   {
    "duration": 11,
    "start_time": "2022-10-20T11:43:15.906Z"
   },
   {
    "duration": 9,
    "start_time": "2022-10-20T11:43:15.919Z"
   },
   {
    "duration": 808,
    "start_time": "2022-10-20T11:43:15.929Z"
   },
   {
    "duration": 6,
    "start_time": "2022-10-20T11:43:16.739Z"
   },
   {
    "duration": 182,
    "start_time": "2022-10-20T11:43:16.746Z"
   },
   {
    "duration": 6,
    "start_time": "2022-10-20T11:43:16.930Z"
   },
   {
    "duration": 181,
    "start_time": "2022-10-20T11:43:16.938Z"
   },
   {
    "duration": 169,
    "start_time": "2022-10-20T11:43:17.121Z"
   },
   {
    "duration": 169,
    "start_time": "2022-10-20T11:43:17.292Z"
   },
   {
    "duration": 168,
    "start_time": "2022-10-20T11:43:17.463Z"
   },
   {
    "duration": 257,
    "start_time": "2022-10-20T11:43:17.633Z"
   },
   {
    "duration": 37,
    "start_time": "2022-10-20T11:43:17.892Z"
   },
   {
    "duration": 7,
    "start_time": "2022-10-20T11:43:17.931Z"
   },
   {
    "duration": 10,
    "start_time": "2022-10-20T11:43:17.939Z"
   },
   {
    "duration": 21,
    "start_time": "2022-10-20T11:43:17.950Z"
   },
   {
    "duration": 154,
    "start_time": "2022-10-20T11:43:17.973Z"
   }
  ],
  "kernelspec": {
   "display_name": "Python 3 (ipykernel)",
   "language": "python",
   "name": "python3"
  },
  "language_info": {
   "codemirror_mode": {
    "name": "ipython",
    "version": 3
   },
   "file_extension": ".py",
   "mimetype": "text/x-python",
   "name": "python",
   "nbconvert_exporter": "python",
   "pygments_lexer": "ipython3",
   "version": "3.9.12"
  },
  "toc": {
   "base_numbering": 1,
   "nav_menu": {},
   "number_sections": true,
   "sideBar": true,
   "skip_h1_title": true,
   "title_cell": "Table of Contents",
   "title_sidebar": "Contents",
   "toc_cell": false,
   "toc_position": {},
   "toc_section_display": true,
   "toc_window_display": false
  }
 },
 "nbformat": 4,
 "nbformat_minor": 2
}
