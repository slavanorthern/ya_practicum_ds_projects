{
 "cells": [
  {
   "cell_type": "markdown",
   "metadata": {
    "toc": true
   },
   "source": [
    "<h1>Содержание<span class=\"tocSkip\"></span></h1>\n",
    "<div class=\"toc\"><ul class=\"toc-item\"><li><span><a href=\"#Загрузка-данных\" data-toc-modified-id=\"Загрузка-данных-1\"><span class=\"toc-item-num\">1&nbsp;&nbsp;</span>Загрузка данных</a></span></li><li><span><a href=\"#Умножение-матриц\" data-toc-modified-id=\"Умножение-матриц-2\"><span class=\"toc-item-num\">2&nbsp;&nbsp;</span>Умножение матриц</a></span></li><li><span><a href=\"#Алгоритм-преобразования\" data-toc-modified-id=\"Алгоритм-преобразования-3\"><span class=\"toc-item-num\">3&nbsp;&nbsp;</span>Алгоритм преобразования</a></span></li><li><span><a href=\"#Проверка-алгоритма\" data-toc-modified-id=\"Проверка-алгоритма-4\"><span class=\"toc-item-num\">4&nbsp;&nbsp;</span>Проверка алгоритма</a></span></li><li><span><a href=\"#Общий-вывод\" data-toc-modified-id=\"Общий-вывод-5\"><span class=\"toc-item-num\">5&nbsp;&nbsp;</span>Общий вывод</a></span></li><li><span><a href=\"#Чек-лист-проверки\" data-toc-modified-id=\"Чек-лист-проверки-6\"><span class=\"toc-item-num\">6&nbsp;&nbsp;</span>Чек-лист проверки</a></span></li></ul></div>"
   ]
  },
  {
   "cell_type": "markdown",
   "metadata": {},
   "source": [
    "# Защита персональных данных клиентов"
   ]
  },
  {
   "cell_type": "markdown",
   "metadata": {},
   "source": [
    "Вам нужно защитить данные клиентов страховой компании «Хоть потоп». Разработайте такой метод преобразования данных, чтобы по ним было сложно восстановить персональную информацию. Обоснуйте корректность его работы.\n",
    "\n",
    "Нужно защитить данные, чтобы при преобразовании качество моделей машинного обучения не ухудшилось. Подбирать наилучшую модель не требуется."
   ]
  },
  {
   "cell_type": "markdown",
   "metadata": {},
   "source": [
    "## Загрузка данных"
   ]
  },
  {
   "cell_type": "markdown",
   "metadata": {},
   "source": [
    "Импортируем необходимые библиотеки, модели, метрики:"
   ]
  },
  {
   "cell_type": "code",
   "execution_count": 1,
   "metadata": {},
   "outputs": [],
   "source": [
    "import pandas as pd\n",
    "import numpy as np\n",
    "\n",
    "from sklearn.model_selection import train_test_split\n",
    "from sklearn.preprocessing import StandardScaler\n",
    "from sklearn.linear_model import LinearRegression\n",
    "from sklearn.metrics import r2_score"
   ]
  },
  {
   "cell_type": "markdown",
   "metadata": {},
   "source": [
    "Изучим данные:"
   ]
  },
  {
   "cell_type": "code",
   "execution_count": 2,
   "metadata": {},
   "outputs": [
    {
     "name": "stdout",
     "output_type": "stream",
     "text": [
      "<class 'pandas.core.frame.DataFrame'>\n",
      "RangeIndex: 5000 entries, 0 to 4999\n",
      "Data columns (total 5 columns):\n",
      " #   Column             Non-Null Count  Dtype  \n",
      "---  ------             --------------  -----  \n",
      " 0   Пол                5000 non-null   int64  \n",
      " 1   Возраст            5000 non-null   float64\n",
      " 2   Зарплата           5000 non-null   float64\n",
      " 3   Члены семьи        5000 non-null   int64  \n",
      " 4   Страховые выплаты  5000 non-null   int64  \n",
      "dtypes: float64(2), int64(3)\n",
      "memory usage: 195.4 KB\n"
     ]
    }
   ],
   "source": [
    "data = pd.read_csv('/datasets/insurance.csv')\n",
    "data.info()"
   ]
  },
  {
   "cell_type": "code",
   "execution_count": 3,
   "metadata": {},
   "outputs": [
    {
     "data": {
      "text/html": [
       "<div>\n",
       "<style scoped>\n",
       "    .dataframe tbody tr th:only-of-type {\n",
       "        vertical-align: middle;\n",
       "    }\n",
       "\n",
       "    .dataframe tbody tr th {\n",
       "        vertical-align: top;\n",
       "    }\n",
       "\n",
       "    .dataframe thead th {\n",
       "        text-align: right;\n",
       "    }\n",
       "</style>\n",
       "<table border=\"1\" class=\"dataframe\">\n",
       "  <thead>\n",
       "    <tr style=\"text-align: right;\">\n",
       "      <th></th>\n",
       "      <th>Пол</th>\n",
       "      <th>Возраст</th>\n",
       "      <th>Зарплата</th>\n",
       "      <th>Члены семьи</th>\n",
       "      <th>Страховые выплаты</th>\n",
       "    </tr>\n",
       "  </thead>\n",
       "  <tbody>\n",
       "    <tr>\n",
       "      <th>count</th>\n",
       "      <td>5000.000000</td>\n",
       "      <td>5000.000000</td>\n",
       "      <td>5000.000000</td>\n",
       "      <td>5000.000000</td>\n",
       "      <td>5000.000000</td>\n",
       "    </tr>\n",
       "    <tr>\n",
       "      <th>mean</th>\n",
       "      <td>0.499000</td>\n",
       "      <td>30.952800</td>\n",
       "      <td>39916.360000</td>\n",
       "      <td>1.194200</td>\n",
       "      <td>0.148000</td>\n",
       "    </tr>\n",
       "    <tr>\n",
       "      <th>std</th>\n",
       "      <td>0.500049</td>\n",
       "      <td>8.440807</td>\n",
       "      <td>9900.083569</td>\n",
       "      <td>1.091387</td>\n",
       "      <td>0.463183</td>\n",
       "    </tr>\n",
       "    <tr>\n",
       "      <th>min</th>\n",
       "      <td>0.000000</td>\n",
       "      <td>18.000000</td>\n",
       "      <td>5300.000000</td>\n",
       "      <td>0.000000</td>\n",
       "      <td>0.000000</td>\n",
       "    </tr>\n",
       "    <tr>\n",
       "      <th>25%</th>\n",
       "      <td>0.000000</td>\n",
       "      <td>24.000000</td>\n",
       "      <td>33300.000000</td>\n",
       "      <td>0.000000</td>\n",
       "      <td>0.000000</td>\n",
       "    </tr>\n",
       "    <tr>\n",
       "      <th>50%</th>\n",
       "      <td>0.000000</td>\n",
       "      <td>30.000000</td>\n",
       "      <td>40200.000000</td>\n",
       "      <td>1.000000</td>\n",
       "      <td>0.000000</td>\n",
       "    </tr>\n",
       "    <tr>\n",
       "      <th>75%</th>\n",
       "      <td>1.000000</td>\n",
       "      <td>37.000000</td>\n",
       "      <td>46600.000000</td>\n",
       "      <td>2.000000</td>\n",
       "      <td>0.000000</td>\n",
       "    </tr>\n",
       "    <tr>\n",
       "      <th>max</th>\n",
       "      <td>1.000000</td>\n",
       "      <td>65.000000</td>\n",
       "      <td>79000.000000</td>\n",
       "      <td>6.000000</td>\n",
       "      <td>5.000000</td>\n",
       "    </tr>\n",
       "  </tbody>\n",
       "</table>\n",
       "</div>"
      ],
      "text/plain": [
       "               Пол      Возраст      Зарплата  Члены семьи  Страховые выплаты\n",
       "count  5000.000000  5000.000000   5000.000000  5000.000000        5000.000000\n",
       "mean      0.499000    30.952800  39916.360000     1.194200           0.148000\n",
       "std       0.500049     8.440807   9900.083569     1.091387           0.463183\n",
       "min       0.000000    18.000000   5300.000000     0.000000           0.000000\n",
       "25%       0.000000    24.000000  33300.000000     0.000000           0.000000\n",
       "50%       0.000000    30.000000  40200.000000     1.000000           0.000000\n",
       "75%       1.000000    37.000000  46600.000000     2.000000           0.000000\n",
       "max       1.000000    65.000000  79000.000000     6.000000           5.000000"
      ]
     },
     "execution_count": 3,
     "metadata": {},
     "output_type": "execute_result"
    }
   ],
   "source": [
    "data.describe()"
   ]
  },
  {
   "cell_type": "code",
   "execution_count": 4,
   "metadata": {},
   "outputs": [
    {
     "data": {
      "text/html": [
       "<div>\n",
       "<style scoped>\n",
       "    .dataframe tbody tr th:only-of-type {\n",
       "        vertical-align: middle;\n",
       "    }\n",
       "\n",
       "    .dataframe tbody tr th {\n",
       "        vertical-align: top;\n",
       "    }\n",
       "\n",
       "    .dataframe thead th {\n",
       "        text-align: right;\n",
       "    }\n",
       "</style>\n",
       "<table border=\"1\" class=\"dataframe\">\n",
       "  <thead>\n",
       "    <tr style=\"text-align: right;\">\n",
       "      <th></th>\n",
       "      <th>Пол</th>\n",
       "      <th>Возраст</th>\n",
       "      <th>Зарплата</th>\n",
       "      <th>Члены семьи</th>\n",
       "      <th>Страховые выплаты</th>\n",
       "    </tr>\n",
       "  </thead>\n",
       "  <tbody>\n",
       "    <tr>\n",
       "      <th>0</th>\n",
       "      <td>1</td>\n",
       "      <td>41.0</td>\n",
       "      <td>49600.0</td>\n",
       "      <td>1</td>\n",
       "      <td>0</td>\n",
       "    </tr>\n",
       "    <tr>\n",
       "      <th>1</th>\n",
       "      <td>0</td>\n",
       "      <td>46.0</td>\n",
       "      <td>38000.0</td>\n",
       "      <td>1</td>\n",
       "      <td>1</td>\n",
       "    </tr>\n",
       "    <tr>\n",
       "      <th>2</th>\n",
       "      <td>0</td>\n",
       "      <td>29.0</td>\n",
       "      <td>21000.0</td>\n",
       "      <td>0</td>\n",
       "      <td>0</td>\n",
       "    </tr>\n",
       "    <tr>\n",
       "      <th>3</th>\n",
       "      <td>0</td>\n",
       "      <td>21.0</td>\n",
       "      <td>41700.0</td>\n",
       "      <td>2</td>\n",
       "      <td>0</td>\n",
       "    </tr>\n",
       "    <tr>\n",
       "      <th>4</th>\n",
       "      <td>1</td>\n",
       "      <td>28.0</td>\n",
       "      <td>26100.0</td>\n",
       "      <td>0</td>\n",
       "      <td>0</td>\n",
       "    </tr>\n",
       "  </tbody>\n",
       "</table>\n",
       "</div>"
      ],
      "text/plain": [
       "   Пол  Возраст  Зарплата  Члены семьи  Страховые выплаты\n",
       "0    1     41.0   49600.0            1                  0\n",
       "1    0     46.0   38000.0            1                  1\n",
       "2    0     29.0   21000.0            0                  0\n",
       "3    0     21.0   41700.0            2                  0\n",
       "4    1     28.0   26100.0            0                  0"
      ]
     },
     "execution_count": 4,
     "metadata": {},
     "output_type": "execute_result"
    }
   ],
   "source": [
    "data.head()"
   ]
  },
  {
   "cell_type": "markdown",
   "metadata": {},
   "source": [
    "**Вывод:**\n",
    "Аномалии отсутствуют, данные не требуют дополнительной предобработки."
   ]
  },
  {
   "cell_type": "markdown",
   "metadata": {},
   "source": [
    "<div class=\"alert alert-block alert-success\">\n",
    "<b>Комментарий ревьюера👍:</b> Хорошо\n",
    "</div>"
   ]
  },
  {
   "cell_type": "markdown",
   "metadata": {},
   "source": [
    "## Умножение матриц"
   ]
  },
  {
   "cell_type": "markdown",
   "metadata": {},
   "source": [
    "В этом задании вы можете записывать формулы в *Jupyter Notebook.*\n",
    "\n",
    "Чтобы записать формулу внутри текста, окружите её символами доллара \\\\$; если снаружи —  двойными символами \\\\$\\\\$. Эти формулы записываются на языке вёрстки *LaTeX.* \n",
    "\n",
    "Для примера мы записали формулы линейной регрессии. Можете их скопировать и отредактировать, чтобы решить задачу.\n",
    "\n",
    "Работать в *LaTeX* необязательно."
   ]
  },
  {
   "cell_type": "markdown",
   "metadata": {},
   "source": [
    "Обозначения:\n",
    "\n",
    "- $X$ — матрица признаков (нулевой столбец состоит из единиц)\n",
    "\n",
    "- $y$ — вектор целевого признака\n",
    "\n",
    "- $P$ — матрица, на которую умножаются признаки\n",
    "\n",
    "- $w$ — вектор весов линейной регрессии (нулевой элемент равен сдвигу)"
   ]
  },
  {
   "cell_type": "markdown",
   "metadata": {},
   "source": [
    "Предсказания:\n",
    "\n",
    "$$\n",
    "a = Xw\n",
    "$$\n",
    "\n",
    "Задача обучения:\n",
    "\n",
    "$$\n",
    "w = \\arg\\min_w MSE(Xw, y)\n",
    "$$\n",
    "\n",
    "Формула обучения:\n",
    "\n",
    "$$\n",
    "w = (X^T X)^{-1} X^T y\n",
    "$$"
   ]
  },
  {
   "cell_type": "markdown",
   "metadata": {},
   "source": [
    "**Ответ:** Качество линейной регрессии не изменится при умножении признаков на обратимую матрицу.\n",
    "\n",
    "**Обоснование:** Представим новую матрицу $C$ как произведение матрицы $X$ на $P$ (обратимую матрицу):\n",
    "\n",
    "$$C = XP$$\n",
    "\n"
   ]
  },
  {
   "cell_type": "markdown",
   "metadata": {},
   "source": [
    "Заменим матрицы $X$ на $C$ и вычислим предсказание и векторы весов:\n",
    "\n",
    "$$a_1 = Сw_1$$\n",
    "$$w_1 = (С^T С)^{-1} С^T y$$"
   ]
  },
  {
   "cell_type": "markdown",
   "metadata": {},
   "source": [
    "Подставим в уравнение $w_1$ вместо $C$  произведение $X$ на $P$:\n",
    "\n",
    "\n",
    "$$w_1 = ((XP)^T (XP))^{-1} (XP)^T y$$"
   ]
  },
  {
   "cell_type": "markdown",
   "metadata": {},
   "source": [
    "Также будем использовать следущее свойство обратной матрицы $(AB)^{-1} = B^{-1} A^{-1}$ и транспортированной матрицы $(AB)^{T} = B^{T} A^{T}$:"
   ]
  },
  {
   "cell_type": "markdown",
   "metadata": {},
   "source": [
    "Раскроем скобки в формуле $w_1 $:\n",
    "\n",
    "$$w_1 = ((XP)^T (XP))^{-1} (XP)^T y = (P^T X^T X P)^{-1} P^T X^T y = P^{-1} (X^T X)^{-1} (P^T)^{-1} P^T X^T y$$\n",
    "\n",
    "Поскольку по условию $P$ обратимая, то согласно теории произведение $(P^T)^{-1} P^T = E$ (единичная матрица). Произведение на единичную матрицу ничего не меняет.\n",
    "\n",
    "\n",
    "$$w_1 = P^{-1} (X^T X)^{-1} E X^T y = P^{-1} (X^T X)^{-1} X^T y$$\n",
    "\n",
    "$$w_1 = P^{-1} (X^T X)^{-1} X^T y = P^{-1}w$$\n",
    "\n",
    "\n"
   ]
  },
  {
   "cell_type": "markdown",
   "metadata": {},
   "source": [
    "Подставим получившееся значения в формулу $a_1 = Cw_1$:\n",
    "\n",
    "$$a_1 = XPP^{-1} w$$\n",
    "\n",
    "Произведение $PP^{-1}$ тоже будет равно $E$. Продолжим:\n",
    "\n",
    "$$a_1 = XPP^{-1} w = X E w = X w = a$$\n"
   ]
  },
  {
   "cell_type": "markdown",
   "metadata": {},
   "source": [
    "**Вывод:**\n",
    "Значение предсказания $a$ не меняется, что и следовало доказать."
   ]
  },
  {
   "cell_type": "markdown",
   "metadata": {},
   "source": [
    "## Алгоритм преобразования"
   ]
  },
  {
   "cell_type": "markdown",
   "metadata": {},
   "source": [
    "**Алгоритм**\n",
    "\n",
    "1. Создадим случайную  матрицу, проверим ее на обратимость;\n",
    "3. Умножим признаки на созданную нами матрицу;\n",
    "4. Найдем метрики обученной модели на исходных признаках и на признаках умноженных на нашу матрицу;\n",
    "5. Сравнить показатели качества моделей. Если они будут равны, то поставленная задача выполнена"
   ]
  },
  {
   "cell_type": "markdown",
   "metadata": {},
   "source": [
    "**Обоснование**\n",
    "\n",
    "У созданной обратимой матрицы должна быть необходимая размерность $(nxn)$, в которой $n$ - количество признаков для регрессии, то есть случайная обратимая матрица будет иметь туже размерность, что и матрица признаков $X$."
   ]
  },
  {
   "cell_type": "markdown",
   "metadata": {},
   "source": [
    "## Проверка алгоритма"
   ]
  },
  {
   "cell_type": "markdown",
   "metadata": {},
   "source": [
    "Выделим признаки и целевой признак:"
   ]
  },
  {
   "cell_type": "code",
   "execution_count": 5,
   "metadata": {},
   "outputs": [],
   "source": [
    "features = data.drop('Страховые выплаты',axis=1)\n",
    "target = data['Страховые выплаты']"
   ]
  },
  {
   "cell_type": "markdown",
   "metadata": {},
   "source": [
    "Создадим рандомную матрицу:"
   ]
  },
  {
   "cell_type": "code",
   "execution_count": 6,
   "metadata": {},
   "outputs": [
    {
     "data": {
      "text/plain": [
       "array([[41, 56, 45, 29],\n",
       "       [59, 35, 57, 41],\n",
       "       [92, 46, 39, 95],\n",
       "       [52,  4,  3, 33]])"
      ]
     },
     "execution_count": 6,
     "metadata": {},
     "output_type": "execute_result"
    }
   ],
   "source": [
    "random_matrix = np.random.randint(100,size = (4, 4))\n",
    "random_matrix"
   ]
  },
  {
   "cell_type": "markdown",
   "metadata": {},
   "source": [
    "Проверим на обратимость:"
   ]
  },
  {
   "cell_type": "code",
   "execution_count": 7,
   "metadata": {},
   "outputs": [
    {
     "data": {
      "text/plain": [
       "array([[ 0.01117079,  0.00160241, -0.01839702,  0.04115347],\n",
       "       [ 0.03505333, -0.02778759, -0.00015366,  0.00416188],\n",
       "       [-0.01858433,  0.03460407, -0.00184936, -0.02133733],\n",
       "       [-0.02016187, -0.00230265,  0.02917599, -0.03310958]])"
      ]
     },
     "execution_count": 7,
     "metadata": {},
     "output_type": "execute_result"
    }
   ],
   "source": [
    "inv_matrix = np.linalg.inv(random_matrix)\n",
    "inv_matrix"
   ]
  },
  {
   "cell_type": "markdown",
   "metadata": {},
   "source": [
    "Опираясь на основное свойство обратной матрицы, проверим правильность результата:"
   ]
  },
  {
   "cell_type": "code",
   "execution_count": 8,
   "metadata": {},
   "outputs": [
    {
     "data": {
      "text/plain": [
       "True"
      ]
     },
     "execution_count": 8,
     "metadata": {},
     "output_type": "execute_result"
    }
   ],
   "source": [
    "np.allclose(np.dot(random_matrix, inv_matrix), np.eye(random_matrix.shape[0]))"
   ]
  },
  {
   "cell_type": "code",
   "execution_count": 9,
   "metadata": {},
   "outputs": [
    {
     "data": {
      "text/plain": [
       "True"
      ]
     },
     "execution_count": 9,
     "metadata": {},
     "output_type": "execute_result"
    }
   ],
   "source": [
    "np.allclose(np.dot(inv_matrix, random_matrix), np.eye(random_matrix.shape[0]))"
   ]
  },
  {
   "cell_type": "markdown",
   "metadata": {},
   "source": [
    "Масштабируем признаки:"
   ]
  },
  {
   "cell_type": "code",
   "execution_count": 10,
   "metadata": {},
   "outputs": [],
   "source": [
    "scaler = StandardScaler()\n",
    "scaler.fit(features)\n",
    "features_sc = scaler.transform(features)"
   ]
  },
  {
   "cell_type": "markdown",
   "metadata": {},
   "source": [
    "Создадим модель линейной регрессии для исходных данных и вычислим r2:"
   ]
  },
  {
   "cell_type": "code",
   "execution_count": 11,
   "metadata": {},
   "outputs": [
    {
     "name": "stdout",
     "output_type": "stream",
     "text": [
      "R2 = 0.425\n"
     ]
    }
   ],
   "source": [
    "model = LinearRegression()\n",
    "model.fit(features, target)\n",
    "predictions = model.predict(features)\n",
    "r2 = r2_score(target, predictions)\n",
    "print('R2 =', r2.round(3))"
   ]
  },
  {
   "cell_type": "markdown",
   "metadata": {},
   "source": [
    "Создадим модель линейной регрессии для преобразованных данных с использованием рандомной матрицы  и вычислим r2:"
   ]
  },
  {
   "cell_type": "code",
   "execution_count": 12,
   "metadata": {},
   "outputs": [
    {
     "name": "stdout",
     "output_type": "stream",
     "text": [
      "R2 = 0.425\n"
     ]
    }
   ],
   "source": [
    "features_m = features_sc @ random_matrix\n",
    "model.fit(features_m, target)\n",
    "predictions_m = model.predict(features_m)\n",
    "r2 = r2_score(target, predictions_m)\n",
    "print('R2 =', r2.round(3))"
   ]
  },
  {
   "cell_type": "markdown",
   "metadata": {},
   "source": [
    "Показатели r_2 совпадают, что говорит о правильности работы алгоритма преобразования."
   ]
  },
  {
   "cell_type": "markdown",
   "metadata": {},
   "source": [
    "<div class=\"alert alert-block alert-success\">\n",
    "<b>Комментарий ревьюера👍:</b> Верно, таким образом в случае домножения матрицы признаков на случайную обратимую матрицу можно обеспечить защиту данных, не потеряв в качестве модели. \n",
    "</div>"
   ]
  },
  {
   "cell_type": "markdown",
   "metadata": {},
   "source": [
    "<div class=\"alert alert-block alert-success\">\n",
    "<b>Комментарий ревьюера👍:</b> Дополнительно можно попробовать декодировать данные обратно\n",
    "</div>"
   ]
  },
  {
   "cell_type": "markdown",
   "metadata": {},
   "source": [
    "## Общий вывод\n",
    "1. Загружены и изучены данные, аномалии не были выявлены;\n",
    "2. Обосновано, почему качество линейной регрессии не изменится при умножении признаков на обратимую матрицу;\n",
    "3. Создан алгоритм преобразования и проверена  R2 для исходных и преобразованных данных;\n",
    "4. Данные защищены и сохранены, качество модели не изменилось."
   ]
  },
  {
   "cell_type": "markdown",
   "metadata": {},
   "source": [
    "<div class=\"alert alert-block alert-success\">\n",
    "<b>Комментарий ревьюера V.2👍:</b> Дополнительные материалы:\n",
    "\n",
    "Обзоры по применению криптографии в машинном обучении: https://arxiv.org/pdf/1902.04109.pdf, https://www.researchgate.net/publication/342746786_Some_Applications_of_Machine_Learning_in_Cryptography\n",
    "\n",
    "Небольшой обзор на Шифр Хилла: https://habr.com/ru/post/595281/\n",
    "    \n",
    "Ещё пара статей на эту тему:\n",
    "    \n",
    "-\thttps://medium.com/intuit-engineering/machine-learning-on-encrypted-data-no-longer-a-fantasy-58e37e9f31d7\n",
    "-\thttps://towardsdatascience.com/cryptography-crash-course-for-the-intimidated-892b7889528a\n",
    "-\thttps://towardsdatascience.com/homomorphic-encryption-machine-learning-new-business-models-2ba6a4f185d\n",
    "\n",
    "   \n",
    "Примеры использования линейной алгебры в машинном обучении:\n",
    "https://machinelearningmastery.com/examples-of-linear-algebra-in-machine-learning/\n",
    "    \n",
    "Для чего нужна математика в машинном обучении?\n",
    "https://proglib.io/p/dlya-chego-nuzhen-matematicheskiy-analiz-v-mashinnom-obuchenii-2021-02-15\n",
    "\n",
    "Большая статья по векторам:\n",
    "https://neptune.ai/blog/understanding-vectors-from-a-machine-learning-perspective  \n",
    "\n",
    "Можно ещё дополнительно посмотреть лекции от МФТИ https://www.youtube.com/playlist?list=PLk4h7dmY2eYHHTyfLyrl7HmP-H3mMAW08\n",
    "    \n",
    "Классная серия роликов по линейной алгебре на английском (можно включить автоматические русские субтитры): https://www.youtube.com/playlist?list=PLRDl2inPrWQW1QSWhBU0ki-jq_uElkh2a\n",
    "\n",
    "\n",
    "Удачи в будущих проектах и работе, всё обязательно получится!\n",
    "</div>\n"
   ]
  }
 ],
 "metadata": {
  "ExecuteTimeLog": [
   {
    "duration": 1132,
    "start_time": "2023-01-24T12:57:22.797Z"
   },
   {
    "duration": 155,
    "start_time": "2023-01-24T12:57:23.931Z"
   },
   {
    "duration": 12,
    "start_time": "2023-01-24T12:57:49.983Z"
   },
   {
    "duration": 15,
    "start_time": "2023-01-24T12:58:28.223Z"
   },
   {
    "duration": 25,
    "start_time": "2023-01-24T13:06:19.412Z"
   },
   {
    "duration": 8,
    "start_time": "2023-01-24T13:06:41.468Z"
   },
   {
    "duration": 7,
    "start_time": "2023-01-24T13:06:53.913Z"
   },
   {
    "duration": 51,
    "start_time": "2023-01-24T13:23:21.881Z"
   },
   {
    "duration": 1434,
    "start_time": "2023-01-24T13:23:26.739Z"
   },
   {
    "duration": 57,
    "start_time": "2023-01-24T13:23:28.175Z"
   },
   {
    "duration": 0,
    "start_time": "2023-01-24T13:23:28.234Z"
   },
   {
    "duration": 0,
    "start_time": "2023-01-24T13:23:28.235Z"
   },
   {
    "duration": 0,
    "start_time": "2023-01-24T13:23:28.237Z"
   },
   {
    "duration": 0,
    "start_time": "2023-01-24T13:23:28.238Z"
   },
   {
    "duration": 0,
    "start_time": "2023-01-24T13:23:28.239Z"
   },
   {
    "duration": 1079,
    "start_time": "2023-01-24T13:23:42.884Z"
   },
   {
    "duration": 97,
    "start_time": "2023-01-24T13:23:43.965Z"
   },
   {
    "duration": 28,
    "start_time": "2023-01-24T13:23:44.064Z"
   },
   {
    "duration": 9,
    "start_time": "2023-01-24T13:23:44.094Z"
   },
   {
    "duration": 16,
    "start_time": "2023-01-24T13:23:44.105Z"
   },
   {
    "duration": 319,
    "start_time": "2023-01-24T13:23:44.124Z"
   },
   {
    "duration": 8,
    "start_time": "2023-01-24T13:23:59.970Z"
   },
   {
    "duration": 238,
    "start_time": "2023-01-24T13:24:10.840Z"
   },
   {
    "duration": 10,
    "start_time": "2023-01-24T13:24:22.739Z"
   },
   {
    "duration": 8,
    "start_time": "2023-01-24T13:24:29.358Z"
   },
   {
    "duration": 7,
    "start_time": "2023-01-24T13:24:34.295Z"
   },
   {
    "duration": 8,
    "start_time": "2023-01-24T13:26:02.588Z"
   },
   {
    "duration": 1002,
    "start_time": "2023-01-24T13:26:17.306Z"
   },
   {
    "duration": 38,
    "start_time": "2023-01-24T13:26:18.310Z"
   },
   {
    "duration": 27,
    "start_time": "2023-01-24T13:26:18.349Z"
   },
   {
    "duration": 9,
    "start_time": "2023-01-24T13:26:18.378Z"
   },
   {
    "duration": 12,
    "start_time": "2023-01-24T13:27:37.856Z"
   },
   {
    "duration": 6,
    "start_time": "2023-01-24T13:27:47.806Z"
   },
   {
    "duration": 1142,
    "start_time": "2023-01-24T15:23:57.901Z"
   },
   {
    "duration": 38,
    "start_time": "2023-01-24T15:23:59.045Z"
   },
   {
    "duration": 35,
    "start_time": "2023-01-24T15:23:59.084Z"
   },
   {
    "duration": 12,
    "start_time": "2023-01-24T15:23:59.122Z"
   },
   {
    "duration": 6,
    "start_time": "2023-01-24T15:23:59.136Z"
   },
   {
    "duration": 140,
    "start_time": "2023-01-24T15:23:59.144Z"
   },
   {
    "duration": 1124,
    "start_time": "2023-01-24T15:24:30.733Z"
   },
   {
    "duration": 38,
    "start_time": "2023-01-24T15:24:31.860Z"
   },
   {
    "duration": 32,
    "start_time": "2023-01-24T15:24:31.900Z"
   },
   {
    "duration": 9,
    "start_time": "2023-01-24T15:24:31.935Z"
   },
   {
    "duration": 23,
    "start_time": "2023-01-24T15:24:31.952Z"
   },
   {
    "duration": 9,
    "start_time": "2023-01-24T15:24:31.977Z"
   },
   {
    "duration": 1003,
    "start_time": "2023-01-24T15:29:11.297Z"
   },
   {
    "duration": 37,
    "start_time": "2023-01-24T15:29:12.302Z"
   },
   {
    "duration": 28,
    "start_time": "2023-01-24T15:29:12.341Z"
   },
   {
    "duration": 8,
    "start_time": "2023-01-24T15:29:12.371Z"
   },
   {
    "duration": 9,
    "start_time": "2023-01-24T15:29:12.381Z"
   },
   {
    "duration": 8,
    "start_time": "2023-01-24T15:29:12.392Z"
   },
   {
    "duration": 10,
    "start_time": "2023-01-24T15:29:12.402Z"
   },
   {
    "duration": 10,
    "start_time": "2023-01-24T15:29:38.356Z"
   },
   {
    "duration": 9,
    "start_time": "2023-01-24T15:29:49.857Z"
   },
   {
    "duration": 3,
    "start_time": "2023-01-24T15:38:31.116Z"
   },
   {
    "duration": 4,
    "start_time": "2023-01-24T15:43:10.953Z"
   },
   {
    "duration": 1064,
    "start_time": "2023-01-24T15:43:18.749Z"
   },
   {
    "duration": 37,
    "start_time": "2023-01-24T15:43:19.815Z"
   },
   {
    "duration": 27,
    "start_time": "2023-01-24T15:43:19.853Z"
   },
   {
    "duration": 7,
    "start_time": "2023-01-24T15:43:19.882Z"
   },
   {
    "duration": 7,
    "start_time": "2023-01-24T15:43:19.891Z"
   },
   {
    "duration": 28,
    "start_time": "2023-01-24T15:43:19.900Z"
   },
   {
    "duration": 108,
    "start_time": "2023-01-24T15:43:19.930Z"
   },
   {
    "duration": 104,
    "start_time": "2023-01-24T15:44:44.062Z"
   },
   {
    "duration": 1048,
    "start_time": "2023-01-24T15:54:31.100Z"
   },
   {
    "duration": 37,
    "start_time": "2023-01-24T15:54:32.150Z"
   },
   {
    "duration": 29,
    "start_time": "2023-01-24T15:54:32.188Z"
   },
   {
    "duration": 8,
    "start_time": "2023-01-24T15:54:32.219Z"
   },
   {
    "duration": 8,
    "start_time": "2023-01-24T15:54:32.228Z"
   },
   {
    "duration": 7,
    "start_time": "2023-01-24T15:54:32.237Z"
   },
   {
    "duration": 22,
    "start_time": "2023-01-24T15:54:32.245Z"
   },
   {
    "duration": 15,
    "start_time": "2023-01-24T15:54:32.268Z"
   },
   {
    "duration": 85,
    "start_time": "2023-01-24T15:54:32.285Z"
   },
   {
    "duration": 5,
    "start_time": "2023-01-24T15:54:42.991Z"
   },
   {
    "duration": 7,
    "start_time": "2023-01-24T15:54:44.554Z"
   },
   {
    "duration": 14,
    "start_time": "2023-01-24T15:54:46.254Z"
   },
   {
    "duration": 1102,
    "start_time": "2023-01-24T16:03:58.257Z"
   },
   {
    "duration": 37,
    "start_time": "2023-01-24T16:03:59.361Z"
   },
   {
    "duration": 28,
    "start_time": "2023-01-24T16:03:59.400Z"
   },
   {
    "duration": 9,
    "start_time": "2023-01-24T16:03:59.430Z"
   },
   {
    "duration": 8,
    "start_time": "2023-01-24T16:03:59.440Z"
   },
   {
    "duration": 7,
    "start_time": "2023-01-24T16:03:59.450Z"
   },
   {
    "duration": 15,
    "start_time": "2023-01-24T16:03:59.459Z"
   },
   {
    "duration": 18,
    "start_time": "2023-01-24T16:03:59.476Z"
   },
   {
    "duration": 11,
    "start_time": "2023-01-24T16:03:59.569Z"
   },
   {
    "duration": 10,
    "start_time": "2023-01-24T16:04:44.060Z"
   },
   {
    "duration": 9,
    "start_time": "2023-01-24T16:04:46.287Z"
   },
   {
    "duration": 58,
    "start_time": "2023-01-24T16:04:54.735Z"
   },
   {
    "duration": 10,
    "start_time": "2023-01-24T16:04:59.223Z"
   },
   {
    "duration": 11,
    "start_time": "2023-01-24T16:05:00.325Z"
   },
   {
    "duration": 51,
    "start_time": "2023-01-24T16:06:56.546Z"
   },
   {
    "duration": 1030,
    "start_time": "2023-01-24T16:18:20.404Z"
   },
   {
    "duration": 37,
    "start_time": "2023-01-24T16:18:21.436Z"
   },
   {
    "duration": 130,
    "start_time": "2023-01-24T16:18:21.475Z"
   },
   {
    "duration": 10,
    "start_time": "2023-01-24T16:18:21.607Z"
   },
   {
    "duration": 8,
    "start_time": "2023-01-24T16:18:21.619Z"
   },
   {
    "duration": 8,
    "start_time": "2023-01-24T16:18:21.628Z"
   },
   {
    "duration": 9,
    "start_time": "2023-01-24T16:18:21.638Z"
   },
   {
    "duration": 26,
    "start_time": "2023-01-24T16:18:21.648Z"
   },
   {
    "duration": 202,
    "start_time": "2023-01-24T16:18:21.676Z"
   },
   {
    "duration": 1245,
    "start_time": "2023-01-27T12:54:01.462Z"
   },
   {
    "duration": 96,
    "start_time": "2023-01-27T12:54:02.709Z"
   },
   {
    "duration": 32,
    "start_time": "2023-01-27T12:54:02.807Z"
   },
   {
    "duration": 19,
    "start_time": "2023-01-27T12:54:02.843Z"
   },
   {
    "duration": 24,
    "start_time": "2023-01-27T12:54:02.864Z"
   },
   {
    "duration": 32,
    "start_time": "2023-01-27T12:54:02.890Z"
   },
   {
    "duration": 12,
    "start_time": "2023-01-27T12:54:02.924Z"
   },
   {
    "duration": 14,
    "start_time": "2023-01-27T12:54:02.939Z"
   },
   {
    "duration": 107,
    "start_time": "2023-01-27T12:54:02.983Z"
   },
   {
    "duration": 1144,
    "start_time": "2023-01-27T13:07:10.653Z"
   },
   {
    "duration": 33,
    "start_time": "2023-01-27T13:07:11.799Z"
   },
   {
    "duration": 31,
    "start_time": "2023-01-27T13:07:11.834Z"
   },
   {
    "duration": 9,
    "start_time": "2023-01-27T13:07:11.867Z"
   },
   {
    "duration": 9,
    "start_time": "2023-01-27T13:07:11.878Z"
   },
   {
    "duration": 8,
    "start_time": "2023-01-27T13:07:11.889Z"
   },
   {
    "duration": 14,
    "start_time": "2023-01-27T13:07:11.899Z"
   },
   {
    "duration": 70,
    "start_time": "2023-01-27T13:07:11.915Z"
   },
   {
    "duration": 14,
    "start_time": "2023-01-27T13:07:11.988Z"
   },
   {
    "duration": 108,
    "start_time": "2023-01-27T13:07:12.088Z"
   },
   {
    "duration": 5,
    "start_time": "2023-01-27T13:10:32.702Z"
   },
   {
    "duration": 49,
    "start_time": "2023-01-27T13:12:52.242Z"
   },
   {
    "duration": 1209,
    "start_time": "2023-01-27T13:13:01.750Z"
   },
   {
    "duration": 33,
    "start_time": "2023-01-27T13:13:02.962Z"
   },
   {
    "duration": 33,
    "start_time": "2023-01-27T13:13:02.997Z"
   },
   {
    "duration": 9,
    "start_time": "2023-01-27T13:13:03.033Z"
   },
   {
    "duration": 23,
    "start_time": "2023-01-27T13:13:03.043Z"
   },
   {
    "duration": 26,
    "start_time": "2023-01-27T13:13:03.068Z"
   },
   {
    "duration": 16,
    "start_time": "2023-01-27T13:13:03.095Z"
   },
   {
    "duration": 72,
    "start_time": "2023-01-27T13:13:03.114Z"
   },
   {
    "duration": 0,
    "start_time": "2023-01-27T13:13:03.188Z"
   },
   {
    "duration": 0,
    "start_time": "2023-01-27T13:13:03.195Z"
   },
   {
    "duration": 0,
    "start_time": "2023-01-27T13:13:03.198Z"
   },
   {
    "duration": 1116,
    "start_time": "2023-01-27T13:14:00.519Z"
   },
   {
    "duration": 35,
    "start_time": "2023-01-27T13:14:01.637Z"
   },
   {
    "duration": 52,
    "start_time": "2023-01-27T13:14:01.674Z"
   },
   {
    "duration": 33,
    "start_time": "2023-01-27T13:14:01.728Z"
   },
   {
    "duration": 47,
    "start_time": "2023-01-27T13:14:01.763Z"
   },
   {
    "duration": 47,
    "start_time": "2023-01-27T13:14:01.812Z"
   },
   {
    "duration": 63,
    "start_time": "2023-01-27T13:14:01.861Z"
   },
   {
    "duration": 59,
    "start_time": "2023-01-27T13:14:01.927Z"
   },
   {
    "duration": 104,
    "start_time": "2023-01-27T13:14:01.988Z"
   },
   {
    "duration": 42,
    "start_time": "2023-01-27T13:14:02.094Z"
   },
   {
    "duration": 179,
    "start_time": "2023-01-27T13:14:02.138Z"
   },
   {
    "duration": 5,
    "start_time": "2023-01-27T13:14:51.975Z"
   },
   {
    "duration": 7,
    "start_time": "2023-01-27T13:15:50.161Z"
   },
   {
    "duration": 6,
    "start_time": "2023-01-27T13:16:00.950Z"
   },
   {
    "duration": 5,
    "start_time": "2023-01-27T13:17:14.291Z"
   },
   {
    "duration": 5,
    "start_time": "2023-01-27T13:17:15.057Z"
   },
   {
    "duration": 51,
    "start_time": "2023-01-27T13:18:58.298Z"
   },
   {
    "duration": 1155,
    "start_time": "2023-01-27T13:19:05.983Z"
   },
   {
    "duration": 34,
    "start_time": "2023-01-27T13:19:07.140Z"
   },
   {
    "duration": 35,
    "start_time": "2023-01-27T13:19:07.176Z"
   },
   {
    "duration": 10,
    "start_time": "2023-01-27T13:19:07.214Z"
   },
   {
    "duration": 19,
    "start_time": "2023-01-27T13:19:07.226Z"
   },
   {
    "duration": 14,
    "start_time": "2023-01-27T13:19:07.247Z"
   },
   {
    "duration": 25,
    "start_time": "2023-01-27T13:19:07.263Z"
   },
   {
    "duration": 12,
    "start_time": "2023-01-27T13:19:07.291Z"
   },
   {
    "duration": 8,
    "start_time": "2023-01-27T13:19:07.383Z"
   },
   {
    "duration": 96,
    "start_time": "2023-01-27T13:19:07.395Z"
   },
   {
    "duration": 94,
    "start_time": "2023-01-27T13:19:07.493Z"
   },
   {
    "duration": 105,
    "start_time": "2023-01-27T13:19:07.589Z"
   }
  ],
  "kernelspec": {
   "display_name": "Python 3 (ipykernel)",
   "language": "python",
   "name": "python3"
  },
  "language_info": {
   "codemirror_mode": {
    "name": "ipython",
    "version": 3
   },
   "file_extension": ".py",
   "mimetype": "text/x-python",
   "name": "python",
   "nbconvert_exporter": "python",
   "pygments_lexer": "ipython3",
   "version": "3.9.12"
  },
  "toc": {
   "base_numbering": 1,
   "nav_menu": {},
   "number_sections": true,
   "sideBar": true,
   "skip_h1_title": true,
   "title_cell": "Содержание",
   "title_sidebar": "Contents",
   "toc_cell": true,
   "toc_position": {
    "height": "calc(100% - 180px)",
    "left": "10px",
    "top": "150px",
    "width": "165px"
   },
   "toc_section_display": true,
   "toc_window_display": true
  }
 },
 "nbformat": 4,
 "nbformat_minor": 2
}
