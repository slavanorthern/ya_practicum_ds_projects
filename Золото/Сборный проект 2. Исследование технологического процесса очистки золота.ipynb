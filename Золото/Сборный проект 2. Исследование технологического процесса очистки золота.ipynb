{
 "cells": [
  {
   "cell_type": "markdown",
   "metadata": {},
   "source": [
    "# Восстановление золота из руды"
   ]
  },
  {
   "cell_type": "markdown",
   "metadata": {},
   "source": [
    "Подготовьте прототип модели машинного обучения для «Цифры». Компания разрабатывает решения для эффективной работы промышленных предприятий.\n",
    "\n",
    "Модель должна предсказать коэффициент восстановления золота из золотосодержащей руды. Используйте данные с параметрами добычи и очистки. \n",
    "\n",
    "Модель поможет оптимизировать производство, чтобы не запускать предприятие с убыточными характеристиками.\n",
    "\n",
    "Вам нужно:\n",
    "\n",
    "1. Подготовить данные;\n",
    "2. Провести исследовательский анализ данных;\n",
    "3. Построить и обучить модель.\n",
    "\n",
    "Чтобы выполнить проект, обращайтесь к библиотекам *pandas*, *matplotlib* и *sklearn.* Вам поможет их документация."
   ]
  },
  {
   "cell_type": "markdown",
   "metadata": {},
   "source": [
    "## Подготовка данных"
   ]
  },
  {
   "cell_type": "markdown",
   "metadata": {},
   "source": [
    "Импортируем необходимые библиотеки, модели, метрики и другое, что пригодится в исследовании:"
   ]
  },
  {
   "cell_type": "code",
   "execution_count": 1,
   "metadata": {},
   "outputs": [],
   "source": [
    "import pandas as pd\n",
    "import numpy as np\n",
    "import matplotlib.pyplot as plt\n",
    "import seaborn as sns\n",
    "from tqdm.notebook import tqdm\n",
    "\n",
    "from sklearn.model_selection import train_test_split\n",
    "from sklearn.linear_model import LinearRegression\n",
    "from sklearn.tree import DecisionTreeRegressor\n",
    "from sklearn.ensemble import RandomForestRegressor\n",
    "from sklearn.metrics import mean_squared_error\n",
    "from sklearn.metrics import mean_absolute_error\n",
    "from sklearn.preprocessing import StandardScaler\n",
    "from sklearn.metrics import accuracy_score\n",
    "from sklearn.dummy import DummyRegressor\n",
    "from sklearn.model_selection import cross_val_score\n",
    "from sklearn.metrics import make_scorer\n",
    "from sklearn.metrics import f1_score\n",
    "from sklearn.model_selection import GridSearchCV\n",
    "\n",
    "\n",
    "import warnings\n",
    "warnings.filterwarnings('ignore')\n",
    "state = np.random.RandomState(12345)"
   ]
  },
  {
   "cell_type": "markdown",
   "metadata": {},
   "source": [
    "<div class=\"alert alert-block alert-success\">\n",
    "<b>Успех:</b> Отлично, что все импорты собраны в первой ячейке ноутбука! Если у того, кто будет запускать твой ноутбук будут отсутствовать некоторые библиотеки, то он это увидит сразу, а не в процессе!\n",
    "</div>"
   ]
  },
  {
   "cell_type": "markdown",
   "metadata": {},
   "source": [
    "**Загрузим и изучим данные:**"
   ]
  },
  {
   "cell_type": "code",
   "execution_count": 2,
   "metadata": {},
   "outputs": [],
   "source": [
    "data_train = pd.read_csv('/datasets/gold_recovery_train_new.csv')\n",
    "data_test = pd.read_csv('/datasets/gold_recovery_test_new.csv')\n",
    "data_full = pd.read_csv('/datasets/gold_recovery_full_new.csv')"
   ]
  },
  {
   "cell_type": "markdown",
   "metadata": {},
   "source": [
    "**Общая информация:**"
   ]
  },
  {
   "cell_type": "code",
   "execution_count": 3,
   "metadata": {
    "scrolled": true
   },
   "outputs": [
    {
     "name": "stdout",
     "output_type": "stream",
     "text": [
      "<class 'pandas.core.frame.DataFrame'>\n",
      "RangeIndex: 19439 entries, 0 to 19438\n",
      "Data columns (total 87 columns):\n",
      " #   Column                                              Non-Null Count  Dtype  \n",
      "---  ------                                              --------------  -----  \n",
      " 0   date                                                19439 non-null  object \n",
      " 1   final.output.concentrate_ag                         19438 non-null  float64\n",
      " 2   final.output.concentrate_pb                         19438 non-null  float64\n",
      " 3   final.output.concentrate_sol                        19228 non-null  float64\n",
      " 4   final.output.concentrate_au                         19439 non-null  float64\n",
      " 5   final.output.recovery                               19439 non-null  float64\n",
      " 6   final.output.tail_ag                                19438 non-null  float64\n",
      " 7   final.output.tail_pb                                19338 non-null  float64\n",
      " 8   final.output.tail_sol                               19433 non-null  float64\n",
      " 9   final.output.tail_au                                19439 non-null  float64\n",
      " 10  primary_cleaner.input.sulfate                       19415 non-null  float64\n",
      " 11  primary_cleaner.input.depressant                    19402 non-null  float64\n",
      " 12  primary_cleaner.input.feed_size                     19439 non-null  float64\n",
      " 13  primary_cleaner.input.xanthate                      19335 non-null  float64\n",
      " 14  primary_cleaner.output.concentrate_ag               19439 non-null  float64\n",
      " 15  primary_cleaner.output.concentrate_pb               19323 non-null  float64\n",
      " 16  primary_cleaner.output.concentrate_sol              19069 non-null  float64\n",
      " 17  primary_cleaner.output.concentrate_au               19439 non-null  float64\n",
      " 18  primary_cleaner.output.tail_ag                      19435 non-null  float64\n",
      " 19  primary_cleaner.output.tail_pb                      19418 non-null  float64\n",
      " 20  primary_cleaner.output.tail_sol                     19377 non-null  float64\n",
      " 21  primary_cleaner.output.tail_au                      19439 non-null  float64\n",
      " 22  primary_cleaner.state.floatbank8_a_air              19435 non-null  float64\n",
      " 23  primary_cleaner.state.floatbank8_a_level            19438 non-null  float64\n",
      " 24  primary_cleaner.state.floatbank8_b_air              19435 non-null  float64\n",
      " 25  primary_cleaner.state.floatbank8_b_level            19438 non-null  float64\n",
      " 26  primary_cleaner.state.floatbank8_c_air              19437 non-null  float64\n",
      " 27  primary_cleaner.state.floatbank8_c_level            19438 non-null  float64\n",
      " 28  primary_cleaner.state.floatbank8_d_air              19436 non-null  float64\n",
      " 29  primary_cleaner.state.floatbank8_d_level            19438 non-null  float64\n",
      " 30  rougher.calculation.sulfate_to_au_concentrate       19437 non-null  float64\n",
      " 31  rougher.calculation.floatbank10_sulfate_to_au_feed  19437 non-null  float64\n",
      " 32  rougher.calculation.floatbank11_sulfate_to_au_feed  19437 non-null  float64\n",
      " 33  rougher.calculation.au_pb_ratio                     19439 non-null  float64\n",
      " 34  rougher.input.feed_ag                               19439 non-null  float64\n",
      " 35  rougher.input.feed_pb                               19339 non-null  float64\n",
      " 36  rougher.input.feed_rate                             19428 non-null  float64\n",
      " 37  rougher.input.feed_size                             19294 non-null  float64\n",
      " 38  rougher.input.feed_sol                              19340 non-null  float64\n",
      " 39  rougher.input.feed_au                               19439 non-null  float64\n",
      " 40  rougher.input.floatbank10_sulfate                   19405 non-null  float64\n",
      " 41  rougher.input.floatbank10_xanthate                  19431 non-null  float64\n",
      " 42  rougher.input.floatbank11_sulfate                   19395 non-null  float64\n",
      " 43  rougher.input.floatbank11_xanthate                  18986 non-null  float64\n",
      " 44  rougher.output.concentrate_ag                       19439 non-null  float64\n",
      " 45  rougher.output.concentrate_pb                       19439 non-null  float64\n",
      " 46  rougher.output.concentrate_sol                      19416 non-null  float64\n",
      " 47  rougher.output.concentrate_au                       19439 non-null  float64\n",
      " 48  rougher.output.recovery                             19439 non-null  float64\n",
      " 49  rougher.output.tail_ag                              19438 non-null  float64\n",
      " 50  rougher.output.tail_pb                              19439 non-null  float64\n",
      " 51  rougher.output.tail_sol                             19439 non-null  float64\n",
      " 52  rougher.output.tail_au                              19439 non-null  float64\n",
      " 53  rougher.state.floatbank10_a_air                     19438 non-null  float64\n",
      " 54  rougher.state.floatbank10_a_level                   19438 non-null  float64\n",
      " 55  rougher.state.floatbank10_b_air                     19438 non-null  float64\n",
      " 56  rougher.state.floatbank10_b_level                   19438 non-null  float64\n",
      " 57  rougher.state.floatbank10_c_air                     19438 non-null  float64\n",
      " 58  rougher.state.floatbank10_c_level                   19438 non-null  float64\n",
      " 59  rougher.state.floatbank10_d_air                     19439 non-null  float64\n",
      " 60  rougher.state.floatbank10_d_level                   19439 non-null  float64\n",
      " 61  rougher.state.floatbank10_e_air                     19003 non-null  float64\n",
      " 62  rougher.state.floatbank10_e_level                   19439 non-null  float64\n",
      " 63  rougher.state.floatbank10_f_air                     19439 non-null  float64\n",
      " 64  rougher.state.floatbank10_f_level                   19439 non-null  float64\n",
      " 65  secondary_cleaner.output.tail_ag                    19437 non-null  float64\n",
      " 66  secondary_cleaner.output.tail_pb                    19427 non-null  float64\n",
      " 67  secondary_cleaner.output.tail_sol                   17691 non-null  float64\n",
      " 68  secondary_cleaner.output.tail_au                    19439 non-null  float64\n",
      " 69  secondary_cleaner.state.floatbank2_a_air            19219 non-null  float64\n",
      " 70  secondary_cleaner.state.floatbank2_a_level          19438 non-null  float64\n",
      " 71  secondary_cleaner.state.floatbank2_b_air            19416 non-null  float64\n",
      " 72  secondary_cleaner.state.floatbank2_b_level          19438 non-null  float64\n",
      " 73  secondary_cleaner.state.floatbank3_a_air            19426 non-null  float64\n",
      " 74  secondary_cleaner.state.floatbank3_a_level          19438 non-null  float64\n",
      " 75  secondary_cleaner.state.floatbank3_b_air            19438 non-null  float64\n",
      " 76  secondary_cleaner.state.floatbank3_b_level          19438 non-null  float64\n",
      " 77  secondary_cleaner.state.floatbank4_a_air            19433 non-null  float64\n",
      " 78  secondary_cleaner.state.floatbank4_a_level          19438 non-null  float64\n",
      " 79  secondary_cleaner.state.floatbank4_b_air            19438 non-null  float64\n",
      " 80  secondary_cleaner.state.floatbank4_b_level          19438 non-null  float64\n",
      " 81  secondary_cleaner.state.floatbank5_a_air            19438 non-null  float64\n",
      " 82  secondary_cleaner.state.floatbank5_a_level          19438 non-null  float64\n",
      " 83  secondary_cleaner.state.floatbank5_b_air            19438 non-null  float64\n",
      " 84  secondary_cleaner.state.floatbank5_b_level          19438 non-null  float64\n",
      " 85  secondary_cleaner.state.floatbank6_a_air            19437 non-null  float64\n",
      " 86  secondary_cleaner.state.floatbank6_a_level          19438 non-null  float64\n",
      "dtypes: float64(86), object(1)\n",
      "memory usage: 12.9+ MB\n"
     ]
    }
   ],
   "source": [
    "data_full.info()"
   ]
  },
  {
   "cell_type": "code",
   "execution_count": 4,
   "metadata": {
    "scrolled": true
   },
   "outputs": [
    {
     "name": "stdout",
     "output_type": "stream",
     "text": [
      "<class 'pandas.core.frame.DataFrame'>\n",
      "RangeIndex: 5290 entries, 0 to 5289\n",
      "Data columns (total 53 columns):\n",
      " #   Column                                      Non-Null Count  Dtype  \n",
      "---  ------                                      --------------  -----  \n",
      " 0   date                                        5290 non-null   object \n",
      " 1   primary_cleaner.input.sulfate               5286 non-null   float64\n",
      " 2   primary_cleaner.input.depressant            5285 non-null   float64\n",
      " 3   primary_cleaner.input.feed_size             5290 non-null   float64\n",
      " 4   primary_cleaner.input.xanthate              5286 non-null   float64\n",
      " 5   primary_cleaner.state.floatbank8_a_air      5290 non-null   float64\n",
      " 6   primary_cleaner.state.floatbank8_a_level    5290 non-null   float64\n",
      " 7   primary_cleaner.state.floatbank8_b_air      5290 non-null   float64\n",
      " 8   primary_cleaner.state.floatbank8_b_level    5290 non-null   float64\n",
      " 9   primary_cleaner.state.floatbank8_c_air      5290 non-null   float64\n",
      " 10  primary_cleaner.state.floatbank8_c_level    5290 non-null   float64\n",
      " 11  primary_cleaner.state.floatbank8_d_air      5290 non-null   float64\n",
      " 12  primary_cleaner.state.floatbank8_d_level    5290 non-null   float64\n",
      " 13  rougher.input.feed_ag                       5290 non-null   float64\n",
      " 14  rougher.input.feed_pb                       5290 non-null   float64\n",
      " 15  rougher.input.feed_rate                     5287 non-null   float64\n",
      " 16  rougher.input.feed_size                     5289 non-null   float64\n",
      " 17  rougher.input.feed_sol                      5269 non-null   float64\n",
      " 18  rougher.input.feed_au                       5290 non-null   float64\n",
      " 19  rougher.input.floatbank10_sulfate           5285 non-null   float64\n",
      " 20  rougher.input.floatbank10_xanthate          5290 non-null   float64\n",
      " 21  rougher.input.floatbank11_sulfate           5282 non-null   float64\n",
      " 22  rougher.input.floatbank11_xanthate          5265 non-null   float64\n",
      " 23  rougher.state.floatbank10_a_air             5290 non-null   float64\n",
      " 24  rougher.state.floatbank10_a_level           5290 non-null   float64\n",
      " 25  rougher.state.floatbank10_b_air             5290 non-null   float64\n",
      " 26  rougher.state.floatbank10_b_level           5290 non-null   float64\n",
      " 27  rougher.state.floatbank10_c_air             5290 non-null   float64\n",
      " 28  rougher.state.floatbank10_c_level           5290 non-null   float64\n",
      " 29  rougher.state.floatbank10_d_air             5290 non-null   float64\n",
      " 30  rougher.state.floatbank10_d_level           5290 non-null   float64\n",
      " 31  rougher.state.floatbank10_e_air             5290 non-null   float64\n",
      " 32  rougher.state.floatbank10_e_level           5290 non-null   float64\n",
      " 33  rougher.state.floatbank10_f_air             5290 non-null   float64\n",
      " 34  rougher.state.floatbank10_f_level           5290 non-null   float64\n",
      " 35  secondary_cleaner.state.floatbank2_a_air    5287 non-null   float64\n",
      " 36  secondary_cleaner.state.floatbank2_a_level  5290 non-null   float64\n",
      " 37  secondary_cleaner.state.floatbank2_b_air    5288 non-null   float64\n",
      " 38  secondary_cleaner.state.floatbank2_b_level  5290 non-null   float64\n",
      " 39  secondary_cleaner.state.floatbank3_a_air    5281 non-null   float64\n",
      " 40  secondary_cleaner.state.floatbank3_a_level  5290 non-null   float64\n",
      " 41  secondary_cleaner.state.floatbank3_b_air    5290 non-null   float64\n",
      " 42  secondary_cleaner.state.floatbank3_b_level  5290 non-null   float64\n",
      " 43  secondary_cleaner.state.floatbank4_a_air    5290 non-null   float64\n",
      " 44  secondary_cleaner.state.floatbank4_a_level  5290 non-null   float64\n",
      " 45  secondary_cleaner.state.floatbank4_b_air    5290 non-null   float64\n",
      " 46  secondary_cleaner.state.floatbank4_b_level  5290 non-null   float64\n",
      " 47  secondary_cleaner.state.floatbank5_a_air    5290 non-null   float64\n",
      " 48  secondary_cleaner.state.floatbank5_a_level  5290 non-null   float64\n",
      " 49  secondary_cleaner.state.floatbank5_b_air    5290 non-null   float64\n",
      " 50  secondary_cleaner.state.floatbank5_b_level  5290 non-null   float64\n",
      " 51  secondary_cleaner.state.floatbank6_a_air    5290 non-null   float64\n",
      " 52  secondary_cleaner.state.floatbank6_a_level  5290 non-null   float64\n",
      "dtypes: float64(52), object(1)\n",
      "memory usage: 2.1+ MB\n"
     ]
    }
   ],
   "source": [
    "data_test.info()"
   ]
  },
  {
   "cell_type": "code",
   "execution_count": 5,
   "metadata": {},
   "outputs": [
    {
     "name": "stdout",
     "output_type": "stream",
     "text": [
      "<class 'pandas.core.frame.DataFrame'>\n",
      "RangeIndex: 14149 entries, 0 to 14148\n",
      "Data columns (total 87 columns):\n",
      " #   Column                                              Non-Null Count  Dtype  \n",
      "---  ------                                              --------------  -----  \n",
      " 0   date                                                14149 non-null  object \n",
      " 1   final.output.concentrate_ag                         14148 non-null  float64\n",
      " 2   final.output.concentrate_pb                         14148 non-null  float64\n",
      " 3   final.output.concentrate_sol                        13938 non-null  float64\n",
      " 4   final.output.concentrate_au                         14149 non-null  float64\n",
      " 5   final.output.recovery                               14149 non-null  float64\n",
      " 6   final.output.tail_ag                                14149 non-null  float64\n",
      " 7   final.output.tail_pb                                14049 non-null  float64\n",
      " 8   final.output.tail_sol                               14144 non-null  float64\n",
      " 9   final.output.tail_au                                14149 non-null  float64\n",
      " 10  primary_cleaner.input.sulfate                       14129 non-null  float64\n",
      " 11  primary_cleaner.input.depressant                    14117 non-null  float64\n",
      " 12  primary_cleaner.input.feed_size                     14149 non-null  float64\n",
      " 13  primary_cleaner.input.xanthate                      14049 non-null  float64\n",
      " 14  primary_cleaner.output.concentrate_ag               14149 non-null  float64\n",
      " 15  primary_cleaner.output.concentrate_pb               14063 non-null  float64\n",
      " 16  primary_cleaner.output.concentrate_sol              13863 non-null  float64\n",
      " 17  primary_cleaner.output.concentrate_au               14149 non-null  float64\n",
      " 18  primary_cleaner.output.tail_ag                      14148 non-null  float64\n",
      " 19  primary_cleaner.output.tail_pb                      14134 non-null  float64\n",
      " 20  primary_cleaner.output.tail_sol                     14103 non-null  float64\n",
      " 21  primary_cleaner.output.tail_au                      14149 non-null  float64\n",
      " 22  primary_cleaner.state.floatbank8_a_air              14145 non-null  float64\n",
      " 23  primary_cleaner.state.floatbank8_a_level            14148 non-null  float64\n",
      " 24  primary_cleaner.state.floatbank8_b_air              14145 non-null  float64\n",
      " 25  primary_cleaner.state.floatbank8_b_level            14148 non-null  float64\n",
      " 26  primary_cleaner.state.floatbank8_c_air              14147 non-null  float64\n",
      " 27  primary_cleaner.state.floatbank8_c_level            14148 non-null  float64\n",
      " 28  primary_cleaner.state.floatbank8_d_air              14146 non-null  float64\n",
      " 29  primary_cleaner.state.floatbank8_d_level            14148 non-null  float64\n",
      " 30  rougher.calculation.sulfate_to_au_concentrate       14148 non-null  float64\n",
      " 31  rougher.calculation.floatbank10_sulfate_to_au_feed  14148 non-null  float64\n",
      " 32  rougher.calculation.floatbank11_sulfate_to_au_feed  14148 non-null  float64\n",
      " 33  rougher.calculation.au_pb_ratio                     14149 non-null  float64\n",
      " 34  rougher.input.feed_ag                               14149 non-null  float64\n",
      " 35  rougher.input.feed_pb                               14049 non-null  float64\n",
      " 36  rougher.input.feed_rate                             14141 non-null  float64\n",
      " 37  rougher.input.feed_size                             14005 non-null  float64\n",
      " 38  rougher.input.feed_sol                              14071 non-null  float64\n",
      " 39  rougher.input.feed_au                               14149 non-null  float64\n",
      " 40  rougher.input.floatbank10_sulfate                   14120 non-null  float64\n",
      " 41  rougher.input.floatbank10_xanthate                  14141 non-null  float64\n",
      " 42  rougher.input.floatbank11_sulfate                   14113 non-null  float64\n",
      " 43  rougher.input.floatbank11_xanthate                  13721 non-null  float64\n",
      " 44  rougher.output.concentrate_ag                       14149 non-null  float64\n",
      " 45  rougher.output.concentrate_pb                       14149 non-null  float64\n",
      " 46  rougher.output.concentrate_sol                      14127 non-null  float64\n",
      " 47  rougher.output.concentrate_au                       14149 non-null  float64\n",
      " 48  rougher.output.recovery                             14149 non-null  float64\n",
      " 49  rougher.output.tail_ag                              14148 non-null  float64\n",
      " 50  rougher.output.tail_pb                              14149 non-null  float64\n",
      " 51  rougher.output.tail_sol                             14149 non-null  float64\n",
      " 52  rougher.output.tail_au                              14149 non-null  float64\n",
      " 53  rougher.state.floatbank10_a_air                     14148 non-null  float64\n",
      " 54  rougher.state.floatbank10_a_level                   14148 non-null  float64\n",
      " 55  rougher.state.floatbank10_b_air                     14148 non-null  float64\n",
      " 56  rougher.state.floatbank10_b_level                   14148 non-null  float64\n",
      " 57  rougher.state.floatbank10_c_air                     14148 non-null  float64\n",
      " 58  rougher.state.floatbank10_c_level                   14148 non-null  float64\n",
      " 59  rougher.state.floatbank10_d_air                     14149 non-null  float64\n",
      " 60  rougher.state.floatbank10_d_level                   14149 non-null  float64\n",
      " 61  rougher.state.floatbank10_e_air                     13713 non-null  float64\n",
      " 62  rougher.state.floatbank10_e_level                   14149 non-null  float64\n",
      " 63  rougher.state.floatbank10_f_air                     14149 non-null  float64\n",
      " 64  rougher.state.floatbank10_f_level                   14149 non-null  float64\n",
      " 65  secondary_cleaner.output.tail_ag                    14147 non-null  float64\n",
      " 66  secondary_cleaner.output.tail_pb                    14139 non-null  float64\n",
      " 67  secondary_cleaner.output.tail_sol                   12544 non-null  float64\n",
      " 68  secondary_cleaner.output.tail_au                    14149 non-null  float64\n",
      " 69  secondary_cleaner.state.floatbank2_a_air            13932 non-null  float64\n",
      " 70  secondary_cleaner.state.floatbank2_a_level          14148 non-null  float64\n",
      " 71  secondary_cleaner.state.floatbank2_b_air            14128 non-null  float64\n",
      " 72  secondary_cleaner.state.floatbank2_b_level          14148 non-null  float64\n",
      " 73  secondary_cleaner.state.floatbank3_a_air            14145 non-null  float64\n",
      " 74  secondary_cleaner.state.floatbank3_a_level          14148 non-null  float64\n",
      " 75  secondary_cleaner.state.floatbank3_b_air            14148 non-null  float64\n",
      " 76  secondary_cleaner.state.floatbank3_b_level          14148 non-null  float64\n",
      " 77  secondary_cleaner.state.floatbank4_a_air            14143 non-null  float64\n",
      " 78  secondary_cleaner.state.floatbank4_a_level          14148 non-null  float64\n",
      " 79  secondary_cleaner.state.floatbank4_b_air            14148 non-null  float64\n",
      " 80  secondary_cleaner.state.floatbank4_b_level          14148 non-null  float64\n",
      " 81  secondary_cleaner.state.floatbank5_a_air            14148 non-null  float64\n",
      " 82  secondary_cleaner.state.floatbank5_a_level          14148 non-null  float64\n",
      " 83  secondary_cleaner.state.floatbank5_b_air            14148 non-null  float64\n",
      " 84  secondary_cleaner.state.floatbank5_b_level          14148 non-null  float64\n",
      " 85  secondary_cleaner.state.floatbank6_a_air            14147 non-null  float64\n",
      " 86  secondary_cleaner.state.floatbank6_a_level          14148 non-null  float64\n",
      "dtypes: float64(86), object(1)\n",
      "memory usage: 9.4+ MB\n"
     ]
    }
   ],
   "source": [
    "data_train.info()"
   ]
  },
  {
   "cell_type": "code",
   "execution_count": 6,
   "metadata": {
    "scrolled": true
   },
   "outputs": [
    {
     "data": {
      "text/html": [
       "<div>\n",
       "<style scoped>\n",
       "    .dataframe tbody tr th:only-of-type {\n",
       "        vertical-align: middle;\n",
       "    }\n",
       "\n",
       "    .dataframe tbody tr th {\n",
       "        vertical-align: top;\n",
       "    }\n",
       "\n",
       "    .dataframe thead th {\n",
       "        text-align: right;\n",
       "    }\n",
       "</style>\n",
       "<table border=\"1\" class=\"dataframe\">\n",
       "  <thead>\n",
       "    <tr style=\"text-align: right;\">\n",
       "      <th></th>\n",
       "      <th>date</th>\n",
       "      <th>final.output.concentrate_ag</th>\n",
       "      <th>final.output.concentrate_pb</th>\n",
       "      <th>final.output.concentrate_sol</th>\n",
       "      <th>final.output.concentrate_au</th>\n",
       "      <th>final.output.recovery</th>\n",
       "      <th>final.output.tail_ag</th>\n",
       "      <th>final.output.tail_pb</th>\n",
       "      <th>final.output.tail_sol</th>\n",
       "      <th>final.output.tail_au</th>\n",
       "      <th>...</th>\n",
       "      <th>secondary_cleaner.state.floatbank4_a_air</th>\n",
       "      <th>secondary_cleaner.state.floatbank4_a_level</th>\n",
       "      <th>secondary_cleaner.state.floatbank4_b_air</th>\n",
       "      <th>secondary_cleaner.state.floatbank4_b_level</th>\n",
       "      <th>secondary_cleaner.state.floatbank5_a_air</th>\n",
       "      <th>secondary_cleaner.state.floatbank5_a_level</th>\n",
       "      <th>secondary_cleaner.state.floatbank5_b_air</th>\n",
       "      <th>secondary_cleaner.state.floatbank5_b_level</th>\n",
       "      <th>secondary_cleaner.state.floatbank6_a_air</th>\n",
       "      <th>secondary_cleaner.state.floatbank6_a_level</th>\n",
       "    </tr>\n",
       "  </thead>\n",
       "  <tbody>\n",
       "    <tr>\n",
       "      <th>0</th>\n",
       "      <td>2016-01-15 00:00:00</td>\n",
       "      <td>6.055403</td>\n",
       "      <td>9.889648</td>\n",
       "      <td>5.507324</td>\n",
       "      <td>42.192020</td>\n",
       "      <td>70.541216</td>\n",
       "      <td>10.411962</td>\n",
       "      <td>0.895447</td>\n",
       "      <td>16.904297</td>\n",
       "      <td>2.143149</td>\n",
       "      <td>...</td>\n",
       "      <td>14.016835</td>\n",
       "      <td>-502.488007</td>\n",
       "      <td>12.099931</td>\n",
       "      <td>-504.715942</td>\n",
       "      <td>9.925633</td>\n",
       "      <td>-498.310211</td>\n",
       "      <td>8.079666</td>\n",
       "      <td>-500.470978</td>\n",
       "      <td>14.151341</td>\n",
       "      <td>-605.841980</td>\n",
       "    </tr>\n",
       "    <tr>\n",
       "      <th>1</th>\n",
       "      <td>2016-01-15 01:00:00</td>\n",
       "      <td>6.029369</td>\n",
       "      <td>9.968944</td>\n",
       "      <td>5.257781</td>\n",
       "      <td>42.701629</td>\n",
       "      <td>69.266198</td>\n",
       "      <td>10.462676</td>\n",
       "      <td>0.927452</td>\n",
       "      <td>16.634514</td>\n",
       "      <td>2.224930</td>\n",
       "      <td>...</td>\n",
       "      <td>13.992281</td>\n",
       "      <td>-505.503262</td>\n",
       "      <td>11.950531</td>\n",
       "      <td>-501.331529</td>\n",
       "      <td>10.039245</td>\n",
       "      <td>-500.169983</td>\n",
       "      <td>7.984757</td>\n",
       "      <td>-500.582168</td>\n",
       "      <td>13.998353</td>\n",
       "      <td>-599.787184</td>\n",
       "    </tr>\n",
       "    <tr>\n",
       "      <th>2</th>\n",
       "      <td>2016-01-15 02:00:00</td>\n",
       "      <td>6.055926</td>\n",
       "      <td>10.213995</td>\n",
       "      <td>5.383759</td>\n",
       "      <td>42.657501</td>\n",
       "      <td>68.116445</td>\n",
       "      <td>10.507046</td>\n",
       "      <td>0.953716</td>\n",
       "      <td>16.208849</td>\n",
       "      <td>2.257889</td>\n",
       "      <td>...</td>\n",
       "      <td>14.015015</td>\n",
       "      <td>-502.520901</td>\n",
       "      <td>11.912783</td>\n",
       "      <td>-501.133383</td>\n",
       "      <td>10.070913</td>\n",
       "      <td>-500.129135</td>\n",
       "      <td>8.013877</td>\n",
       "      <td>-500.517572</td>\n",
       "      <td>14.028663</td>\n",
       "      <td>-601.427363</td>\n",
       "    </tr>\n",
       "    <tr>\n",
       "      <th>3</th>\n",
       "      <td>2016-01-15 03:00:00</td>\n",
       "      <td>6.047977</td>\n",
       "      <td>9.977019</td>\n",
       "      <td>4.858634</td>\n",
       "      <td>42.689819</td>\n",
       "      <td>68.347543</td>\n",
       "      <td>10.422762</td>\n",
       "      <td>0.883763</td>\n",
       "      <td>16.532835</td>\n",
       "      <td>2.146849</td>\n",
       "      <td>...</td>\n",
       "      <td>14.036510</td>\n",
       "      <td>-500.857308</td>\n",
       "      <td>11.999550</td>\n",
       "      <td>-501.193686</td>\n",
       "      <td>9.970366</td>\n",
       "      <td>-499.201640</td>\n",
       "      <td>7.977324</td>\n",
       "      <td>-500.255908</td>\n",
       "      <td>14.005551</td>\n",
       "      <td>-599.996129</td>\n",
       "    </tr>\n",
       "    <tr>\n",
       "      <th>4</th>\n",
       "      <td>2016-01-15 04:00:00</td>\n",
       "      <td>6.148599</td>\n",
       "      <td>10.142511</td>\n",
       "      <td>4.939416</td>\n",
       "      <td>42.774141</td>\n",
       "      <td>66.927016</td>\n",
       "      <td>10.360302</td>\n",
       "      <td>0.792826</td>\n",
       "      <td>16.525686</td>\n",
       "      <td>2.055292</td>\n",
       "      <td>...</td>\n",
       "      <td>14.027298</td>\n",
       "      <td>-499.838632</td>\n",
       "      <td>11.953070</td>\n",
       "      <td>-501.053894</td>\n",
       "      <td>9.925709</td>\n",
       "      <td>-501.686727</td>\n",
       "      <td>7.894242</td>\n",
       "      <td>-500.356035</td>\n",
       "      <td>13.996647</td>\n",
       "      <td>-601.496691</td>\n",
       "    </tr>\n",
       "  </tbody>\n",
       "</table>\n",
       "<p>5 rows × 87 columns</p>\n",
       "</div>"
      ],
      "text/plain": [
       "                  date  final.output.concentrate_ag  \\\n",
       "0  2016-01-15 00:00:00                     6.055403   \n",
       "1  2016-01-15 01:00:00                     6.029369   \n",
       "2  2016-01-15 02:00:00                     6.055926   \n",
       "3  2016-01-15 03:00:00                     6.047977   \n",
       "4  2016-01-15 04:00:00                     6.148599   \n",
       "\n",
       "   final.output.concentrate_pb  final.output.concentrate_sol  \\\n",
       "0                     9.889648                      5.507324   \n",
       "1                     9.968944                      5.257781   \n",
       "2                    10.213995                      5.383759   \n",
       "3                     9.977019                      4.858634   \n",
       "4                    10.142511                      4.939416   \n",
       "\n",
       "   final.output.concentrate_au  final.output.recovery  final.output.tail_ag  \\\n",
       "0                    42.192020              70.541216             10.411962   \n",
       "1                    42.701629              69.266198             10.462676   \n",
       "2                    42.657501              68.116445             10.507046   \n",
       "3                    42.689819              68.347543             10.422762   \n",
       "4                    42.774141              66.927016             10.360302   \n",
       "\n",
       "   final.output.tail_pb  final.output.tail_sol  final.output.tail_au  ...  \\\n",
       "0              0.895447              16.904297              2.143149  ...   \n",
       "1              0.927452              16.634514              2.224930  ...   \n",
       "2              0.953716              16.208849              2.257889  ...   \n",
       "3              0.883763              16.532835              2.146849  ...   \n",
       "4              0.792826              16.525686              2.055292  ...   \n",
       "\n",
       "   secondary_cleaner.state.floatbank4_a_air  \\\n",
       "0                                 14.016835   \n",
       "1                                 13.992281   \n",
       "2                                 14.015015   \n",
       "3                                 14.036510   \n",
       "4                                 14.027298   \n",
       "\n",
       "   secondary_cleaner.state.floatbank4_a_level  \\\n",
       "0                                 -502.488007   \n",
       "1                                 -505.503262   \n",
       "2                                 -502.520901   \n",
       "3                                 -500.857308   \n",
       "4                                 -499.838632   \n",
       "\n",
       "   secondary_cleaner.state.floatbank4_b_air  \\\n",
       "0                                 12.099931   \n",
       "1                                 11.950531   \n",
       "2                                 11.912783   \n",
       "3                                 11.999550   \n",
       "4                                 11.953070   \n",
       "\n",
       "   secondary_cleaner.state.floatbank4_b_level  \\\n",
       "0                                 -504.715942   \n",
       "1                                 -501.331529   \n",
       "2                                 -501.133383   \n",
       "3                                 -501.193686   \n",
       "4                                 -501.053894   \n",
       "\n",
       "   secondary_cleaner.state.floatbank5_a_air  \\\n",
       "0                                  9.925633   \n",
       "1                                 10.039245   \n",
       "2                                 10.070913   \n",
       "3                                  9.970366   \n",
       "4                                  9.925709   \n",
       "\n",
       "   secondary_cleaner.state.floatbank5_a_level  \\\n",
       "0                                 -498.310211   \n",
       "1                                 -500.169983   \n",
       "2                                 -500.129135   \n",
       "3                                 -499.201640   \n",
       "4                                 -501.686727   \n",
       "\n",
       "   secondary_cleaner.state.floatbank5_b_air  \\\n",
       "0                                  8.079666   \n",
       "1                                  7.984757   \n",
       "2                                  8.013877   \n",
       "3                                  7.977324   \n",
       "4                                  7.894242   \n",
       "\n",
       "   secondary_cleaner.state.floatbank5_b_level  \\\n",
       "0                                 -500.470978   \n",
       "1                                 -500.582168   \n",
       "2                                 -500.517572   \n",
       "3                                 -500.255908   \n",
       "4                                 -500.356035   \n",
       "\n",
       "   secondary_cleaner.state.floatbank6_a_air  \\\n",
       "0                                 14.151341   \n",
       "1                                 13.998353   \n",
       "2                                 14.028663   \n",
       "3                                 14.005551   \n",
       "4                                 13.996647   \n",
       "\n",
       "   secondary_cleaner.state.floatbank6_a_level  \n",
       "0                                 -605.841980  \n",
       "1                                 -599.787184  \n",
       "2                                 -601.427363  \n",
       "3                                 -599.996129  \n",
       "4                                 -601.496691  \n",
       "\n",
       "[5 rows x 87 columns]"
      ]
     },
     "execution_count": 6,
     "metadata": {},
     "output_type": "execute_result"
    }
   ],
   "source": [
    "data_full.head()"
   ]
  },
  {
   "cell_type": "code",
   "execution_count": 7,
   "metadata": {
    "scrolled": true
   },
   "outputs": [
    {
     "data": {
      "text/html": [
       "<div>\n",
       "<style scoped>\n",
       "    .dataframe tbody tr th:only-of-type {\n",
       "        vertical-align: middle;\n",
       "    }\n",
       "\n",
       "    .dataframe tbody tr th {\n",
       "        vertical-align: top;\n",
       "    }\n",
       "\n",
       "    .dataframe thead th {\n",
       "        text-align: right;\n",
       "    }\n",
       "</style>\n",
       "<table border=\"1\" class=\"dataframe\">\n",
       "  <thead>\n",
       "    <tr style=\"text-align: right;\">\n",
       "      <th></th>\n",
       "      <th>date</th>\n",
       "      <th>primary_cleaner.input.sulfate</th>\n",
       "      <th>primary_cleaner.input.depressant</th>\n",
       "      <th>primary_cleaner.input.feed_size</th>\n",
       "      <th>primary_cleaner.input.xanthate</th>\n",
       "      <th>primary_cleaner.state.floatbank8_a_air</th>\n",
       "      <th>primary_cleaner.state.floatbank8_a_level</th>\n",
       "      <th>primary_cleaner.state.floatbank8_b_air</th>\n",
       "      <th>primary_cleaner.state.floatbank8_b_level</th>\n",
       "      <th>primary_cleaner.state.floatbank8_c_air</th>\n",
       "      <th>...</th>\n",
       "      <th>secondary_cleaner.state.floatbank4_a_air</th>\n",
       "      <th>secondary_cleaner.state.floatbank4_a_level</th>\n",
       "      <th>secondary_cleaner.state.floatbank4_b_air</th>\n",
       "      <th>secondary_cleaner.state.floatbank4_b_level</th>\n",
       "      <th>secondary_cleaner.state.floatbank5_a_air</th>\n",
       "      <th>secondary_cleaner.state.floatbank5_a_level</th>\n",
       "      <th>secondary_cleaner.state.floatbank5_b_air</th>\n",
       "      <th>secondary_cleaner.state.floatbank5_b_level</th>\n",
       "      <th>secondary_cleaner.state.floatbank6_a_air</th>\n",
       "      <th>secondary_cleaner.state.floatbank6_a_level</th>\n",
       "    </tr>\n",
       "  </thead>\n",
       "  <tbody>\n",
       "    <tr>\n",
       "      <th>0</th>\n",
       "      <td>2016-09-01 00:59:59</td>\n",
       "      <td>210.800909</td>\n",
       "      <td>14.993118</td>\n",
       "      <td>8.080000</td>\n",
       "      <td>1.005021</td>\n",
       "      <td>1398.981301</td>\n",
       "      <td>-500.225577</td>\n",
       "      <td>1399.144926</td>\n",
       "      <td>-499.919735</td>\n",
       "      <td>1400.102998</td>\n",
       "      <td>...</td>\n",
       "      <td>12.023554</td>\n",
       "      <td>-497.795834</td>\n",
       "      <td>8.016656</td>\n",
       "      <td>-501.289139</td>\n",
       "      <td>7.946562</td>\n",
       "      <td>-432.317850</td>\n",
       "      <td>4.872511</td>\n",
       "      <td>-500.037437</td>\n",
       "      <td>26.705889</td>\n",
       "      <td>-499.709414</td>\n",
       "    </tr>\n",
       "    <tr>\n",
       "      <th>1</th>\n",
       "      <td>2016-09-01 01:59:59</td>\n",
       "      <td>215.392455</td>\n",
       "      <td>14.987471</td>\n",
       "      <td>8.080000</td>\n",
       "      <td>0.990469</td>\n",
       "      <td>1398.777912</td>\n",
       "      <td>-500.057435</td>\n",
       "      <td>1398.055362</td>\n",
       "      <td>-499.778182</td>\n",
       "      <td>1396.151033</td>\n",
       "      <td>...</td>\n",
       "      <td>12.058140</td>\n",
       "      <td>-498.695773</td>\n",
       "      <td>8.130979</td>\n",
       "      <td>-499.634209</td>\n",
       "      <td>7.958270</td>\n",
       "      <td>-525.839648</td>\n",
       "      <td>4.878850</td>\n",
       "      <td>-500.162375</td>\n",
       "      <td>25.019940</td>\n",
       "      <td>-499.819438</td>\n",
       "    </tr>\n",
       "    <tr>\n",
       "      <th>2</th>\n",
       "      <td>2016-09-01 02:59:59</td>\n",
       "      <td>215.259946</td>\n",
       "      <td>12.884934</td>\n",
       "      <td>7.786667</td>\n",
       "      <td>0.996043</td>\n",
       "      <td>1398.493666</td>\n",
       "      <td>-500.868360</td>\n",
       "      <td>1398.860436</td>\n",
       "      <td>-499.764529</td>\n",
       "      <td>1398.075709</td>\n",
       "      <td>...</td>\n",
       "      <td>11.962366</td>\n",
       "      <td>-498.767484</td>\n",
       "      <td>8.096893</td>\n",
       "      <td>-500.827423</td>\n",
       "      <td>8.071056</td>\n",
       "      <td>-500.801673</td>\n",
       "      <td>4.905125</td>\n",
       "      <td>-499.828510</td>\n",
       "      <td>24.994862</td>\n",
       "      <td>-500.622559</td>\n",
       "    </tr>\n",
       "    <tr>\n",
       "      <th>3</th>\n",
       "      <td>2016-09-01 03:59:59</td>\n",
       "      <td>215.336236</td>\n",
       "      <td>12.006805</td>\n",
       "      <td>7.640000</td>\n",
       "      <td>0.863514</td>\n",
       "      <td>1399.618111</td>\n",
       "      <td>-498.863574</td>\n",
       "      <td>1397.440120</td>\n",
       "      <td>-499.211024</td>\n",
       "      <td>1400.129303</td>\n",
       "      <td>...</td>\n",
       "      <td>12.033091</td>\n",
       "      <td>-498.350935</td>\n",
       "      <td>8.074946</td>\n",
       "      <td>-499.474407</td>\n",
       "      <td>7.897085</td>\n",
       "      <td>-500.868509</td>\n",
       "      <td>4.931400</td>\n",
       "      <td>-499.963623</td>\n",
       "      <td>24.948919</td>\n",
       "      <td>-498.709987</td>\n",
       "    </tr>\n",
       "    <tr>\n",
       "      <th>4</th>\n",
       "      <td>2016-09-01 04:59:59</td>\n",
       "      <td>199.099327</td>\n",
       "      <td>10.682530</td>\n",
       "      <td>7.530000</td>\n",
       "      <td>0.805575</td>\n",
       "      <td>1401.268123</td>\n",
       "      <td>-500.808305</td>\n",
       "      <td>1398.128818</td>\n",
       "      <td>-499.504543</td>\n",
       "      <td>1402.172226</td>\n",
       "      <td>...</td>\n",
       "      <td>12.025367</td>\n",
       "      <td>-500.786497</td>\n",
       "      <td>8.054678</td>\n",
       "      <td>-500.397500</td>\n",
       "      <td>8.107890</td>\n",
       "      <td>-509.526725</td>\n",
       "      <td>4.957674</td>\n",
       "      <td>-500.360026</td>\n",
       "      <td>25.003331</td>\n",
       "      <td>-500.856333</td>\n",
       "    </tr>\n",
       "  </tbody>\n",
       "</table>\n",
       "<p>5 rows × 53 columns</p>\n",
       "</div>"
      ],
      "text/plain": [
       "                  date  primary_cleaner.input.sulfate  \\\n",
       "0  2016-09-01 00:59:59                     210.800909   \n",
       "1  2016-09-01 01:59:59                     215.392455   \n",
       "2  2016-09-01 02:59:59                     215.259946   \n",
       "3  2016-09-01 03:59:59                     215.336236   \n",
       "4  2016-09-01 04:59:59                     199.099327   \n",
       "\n",
       "   primary_cleaner.input.depressant  primary_cleaner.input.feed_size  \\\n",
       "0                         14.993118                         8.080000   \n",
       "1                         14.987471                         8.080000   \n",
       "2                         12.884934                         7.786667   \n",
       "3                         12.006805                         7.640000   \n",
       "4                         10.682530                         7.530000   \n",
       "\n",
       "   primary_cleaner.input.xanthate  primary_cleaner.state.floatbank8_a_air  \\\n",
       "0                        1.005021                             1398.981301   \n",
       "1                        0.990469                             1398.777912   \n",
       "2                        0.996043                             1398.493666   \n",
       "3                        0.863514                             1399.618111   \n",
       "4                        0.805575                             1401.268123   \n",
       "\n",
       "   primary_cleaner.state.floatbank8_a_level  \\\n",
       "0                               -500.225577   \n",
       "1                               -500.057435   \n",
       "2                               -500.868360   \n",
       "3                               -498.863574   \n",
       "4                               -500.808305   \n",
       "\n",
       "   primary_cleaner.state.floatbank8_b_air  \\\n",
       "0                             1399.144926   \n",
       "1                             1398.055362   \n",
       "2                             1398.860436   \n",
       "3                             1397.440120   \n",
       "4                             1398.128818   \n",
       "\n",
       "   primary_cleaner.state.floatbank8_b_level  \\\n",
       "0                               -499.919735   \n",
       "1                               -499.778182   \n",
       "2                               -499.764529   \n",
       "3                               -499.211024   \n",
       "4                               -499.504543   \n",
       "\n",
       "   primary_cleaner.state.floatbank8_c_air  ...  \\\n",
       "0                             1400.102998  ...   \n",
       "1                             1396.151033  ...   \n",
       "2                             1398.075709  ...   \n",
       "3                             1400.129303  ...   \n",
       "4                             1402.172226  ...   \n",
       "\n",
       "   secondary_cleaner.state.floatbank4_a_air  \\\n",
       "0                                 12.023554   \n",
       "1                                 12.058140   \n",
       "2                                 11.962366   \n",
       "3                                 12.033091   \n",
       "4                                 12.025367   \n",
       "\n",
       "   secondary_cleaner.state.floatbank4_a_level  \\\n",
       "0                                 -497.795834   \n",
       "1                                 -498.695773   \n",
       "2                                 -498.767484   \n",
       "3                                 -498.350935   \n",
       "4                                 -500.786497   \n",
       "\n",
       "   secondary_cleaner.state.floatbank4_b_air  \\\n",
       "0                                  8.016656   \n",
       "1                                  8.130979   \n",
       "2                                  8.096893   \n",
       "3                                  8.074946   \n",
       "4                                  8.054678   \n",
       "\n",
       "   secondary_cleaner.state.floatbank4_b_level  \\\n",
       "0                                 -501.289139   \n",
       "1                                 -499.634209   \n",
       "2                                 -500.827423   \n",
       "3                                 -499.474407   \n",
       "4                                 -500.397500   \n",
       "\n",
       "   secondary_cleaner.state.floatbank5_a_air  \\\n",
       "0                                  7.946562   \n",
       "1                                  7.958270   \n",
       "2                                  8.071056   \n",
       "3                                  7.897085   \n",
       "4                                  8.107890   \n",
       "\n",
       "   secondary_cleaner.state.floatbank5_a_level  \\\n",
       "0                                 -432.317850   \n",
       "1                                 -525.839648   \n",
       "2                                 -500.801673   \n",
       "3                                 -500.868509   \n",
       "4                                 -509.526725   \n",
       "\n",
       "   secondary_cleaner.state.floatbank5_b_air  \\\n",
       "0                                  4.872511   \n",
       "1                                  4.878850   \n",
       "2                                  4.905125   \n",
       "3                                  4.931400   \n",
       "4                                  4.957674   \n",
       "\n",
       "   secondary_cleaner.state.floatbank5_b_level  \\\n",
       "0                                 -500.037437   \n",
       "1                                 -500.162375   \n",
       "2                                 -499.828510   \n",
       "3                                 -499.963623   \n",
       "4                                 -500.360026   \n",
       "\n",
       "   secondary_cleaner.state.floatbank6_a_air  \\\n",
       "0                                 26.705889   \n",
       "1                                 25.019940   \n",
       "2                                 24.994862   \n",
       "3                                 24.948919   \n",
       "4                                 25.003331   \n",
       "\n",
       "   secondary_cleaner.state.floatbank6_a_level  \n",
       "0                                 -499.709414  \n",
       "1                                 -499.819438  \n",
       "2                                 -500.622559  \n",
       "3                                 -498.709987  \n",
       "4                                 -500.856333  \n",
       "\n",
       "[5 rows x 53 columns]"
      ]
     },
     "execution_count": 7,
     "metadata": {},
     "output_type": "execute_result"
    }
   ],
   "source": [
    "data_test.head()"
   ]
  },
  {
   "cell_type": "code",
   "execution_count": 8,
   "metadata": {
    "scrolled": true
   },
   "outputs": [
    {
     "data": {
      "text/html": [
       "<div>\n",
       "<style scoped>\n",
       "    .dataframe tbody tr th:only-of-type {\n",
       "        vertical-align: middle;\n",
       "    }\n",
       "\n",
       "    .dataframe tbody tr th {\n",
       "        vertical-align: top;\n",
       "    }\n",
       "\n",
       "    .dataframe thead th {\n",
       "        text-align: right;\n",
       "    }\n",
       "</style>\n",
       "<table border=\"1\" class=\"dataframe\">\n",
       "  <thead>\n",
       "    <tr style=\"text-align: right;\">\n",
       "      <th></th>\n",
       "      <th>date</th>\n",
       "      <th>final.output.concentrate_ag</th>\n",
       "      <th>final.output.concentrate_pb</th>\n",
       "      <th>final.output.concentrate_sol</th>\n",
       "      <th>final.output.concentrate_au</th>\n",
       "      <th>final.output.recovery</th>\n",
       "      <th>final.output.tail_ag</th>\n",
       "      <th>final.output.tail_pb</th>\n",
       "      <th>final.output.tail_sol</th>\n",
       "      <th>final.output.tail_au</th>\n",
       "      <th>...</th>\n",
       "      <th>secondary_cleaner.state.floatbank4_a_air</th>\n",
       "      <th>secondary_cleaner.state.floatbank4_a_level</th>\n",
       "      <th>secondary_cleaner.state.floatbank4_b_air</th>\n",
       "      <th>secondary_cleaner.state.floatbank4_b_level</th>\n",
       "      <th>secondary_cleaner.state.floatbank5_a_air</th>\n",
       "      <th>secondary_cleaner.state.floatbank5_a_level</th>\n",
       "      <th>secondary_cleaner.state.floatbank5_b_air</th>\n",
       "      <th>secondary_cleaner.state.floatbank5_b_level</th>\n",
       "      <th>secondary_cleaner.state.floatbank6_a_air</th>\n",
       "      <th>secondary_cleaner.state.floatbank6_a_level</th>\n",
       "    </tr>\n",
       "  </thead>\n",
       "  <tbody>\n",
       "    <tr>\n",
       "      <th>0</th>\n",
       "      <td>2016-01-15 00:00:00</td>\n",
       "      <td>6.055403</td>\n",
       "      <td>9.889648</td>\n",
       "      <td>5.507324</td>\n",
       "      <td>42.192020</td>\n",
       "      <td>70.541216</td>\n",
       "      <td>10.411962</td>\n",
       "      <td>0.895447</td>\n",
       "      <td>16.904297</td>\n",
       "      <td>2.143149</td>\n",
       "      <td>...</td>\n",
       "      <td>14.016835</td>\n",
       "      <td>-502.488007</td>\n",
       "      <td>12.099931</td>\n",
       "      <td>-504.715942</td>\n",
       "      <td>9.925633</td>\n",
       "      <td>-498.310211</td>\n",
       "      <td>8.079666</td>\n",
       "      <td>-500.470978</td>\n",
       "      <td>14.151341</td>\n",
       "      <td>-605.841980</td>\n",
       "    </tr>\n",
       "    <tr>\n",
       "      <th>1</th>\n",
       "      <td>2016-01-15 01:00:00</td>\n",
       "      <td>6.029369</td>\n",
       "      <td>9.968944</td>\n",
       "      <td>5.257781</td>\n",
       "      <td>42.701629</td>\n",
       "      <td>69.266198</td>\n",
       "      <td>10.462676</td>\n",
       "      <td>0.927452</td>\n",
       "      <td>16.634514</td>\n",
       "      <td>2.224930</td>\n",
       "      <td>...</td>\n",
       "      <td>13.992281</td>\n",
       "      <td>-505.503262</td>\n",
       "      <td>11.950531</td>\n",
       "      <td>-501.331529</td>\n",
       "      <td>10.039245</td>\n",
       "      <td>-500.169983</td>\n",
       "      <td>7.984757</td>\n",
       "      <td>-500.582168</td>\n",
       "      <td>13.998353</td>\n",
       "      <td>-599.787184</td>\n",
       "    </tr>\n",
       "    <tr>\n",
       "      <th>2</th>\n",
       "      <td>2016-01-15 02:00:00</td>\n",
       "      <td>6.055926</td>\n",
       "      <td>10.213995</td>\n",
       "      <td>5.383759</td>\n",
       "      <td>42.657501</td>\n",
       "      <td>68.116445</td>\n",
       "      <td>10.507046</td>\n",
       "      <td>0.953716</td>\n",
       "      <td>16.208849</td>\n",
       "      <td>2.257889</td>\n",
       "      <td>...</td>\n",
       "      <td>14.015015</td>\n",
       "      <td>-502.520901</td>\n",
       "      <td>11.912783</td>\n",
       "      <td>-501.133383</td>\n",
       "      <td>10.070913</td>\n",
       "      <td>-500.129135</td>\n",
       "      <td>8.013877</td>\n",
       "      <td>-500.517572</td>\n",
       "      <td>14.028663</td>\n",
       "      <td>-601.427363</td>\n",
       "    </tr>\n",
       "    <tr>\n",
       "      <th>3</th>\n",
       "      <td>2016-01-15 03:00:00</td>\n",
       "      <td>6.047977</td>\n",
       "      <td>9.977019</td>\n",
       "      <td>4.858634</td>\n",
       "      <td>42.689819</td>\n",
       "      <td>68.347543</td>\n",
       "      <td>10.422762</td>\n",
       "      <td>0.883763</td>\n",
       "      <td>16.532835</td>\n",
       "      <td>2.146849</td>\n",
       "      <td>...</td>\n",
       "      <td>14.036510</td>\n",
       "      <td>-500.857308</td>\n",
       "      <td>11.999550</td>\n",
       "      <td>-501.193686</td>\n",
       "      <td>9.970366</td>\n",
       "      <td>-499.201640</td>\n",
       "      <td>7.977324</td>\n",
       "      <td>-500.255908</td>\n",
       "      <td>14.005551</td>\n",
       "      <td>-599.996129</td>\n",
       "    </tr>\n",
       "    <tr>\n",
       "      <th>4</th>\n",
       "      <td>2016-01-15 04:00:00</td>\n",
       "      <td>6.148599</td>\n",
       "      <td>10.142511</td>\n",
       "      <td>4.939416</td>\n",
       "      <td>42.774141</td>\n",
       "      <td>66.927016</td>\n",
       "      <td>10.360302</td>\n",
       "      <td>0.792826</td>\n",
       "      <td>16.525686</td>\n",
       "      <td>2.055292</td>\n",
       "      <td>...</td>\n",
       "      <td>14.027298</td>\n",
       "      <td>-499.838632</td>\n",
       "      <td>11.953070</td>\n",
       "      <td>-501.053894</td>\n",
       "      <td>9.925709</td>\n",
       "      <td>-501.686727</td>\n",
       "      <td>7.894242</td>\n",
       "      <td>-500.356035</td>\n",
       "      <td>13.996647</td>\n",
       "      <td>-601.496691</td>\n",
       "    </tr>\n",
       "  </tbody>\n",
       "</table>\n",
       "<p>5 rows × 87 columns</p>\n",
       "</div>"
      ],
      "text/plain": [
       "                  date  final.output.concentrate_ag  \\\n",
       "0  2016-01-15 00:00:00                     6.055403   \n",
       "1  2016-01-15 01:00:00                     6.029369   \n",
       "2  2016-01-15 02:00:00                     6.055926   \n",
       "3  2016-01-15 03:00:00                     6.047977   \n",
       "4  2016-01-15 04:00:00                     6.148599   \n",
       "\n",
       "   final.output.concentrate_pb  final.output.concentrate_sol  \\\n",
       "0                     9.889648                      5.507324   \n",
       "1                     9.968944                      5.257781   \n",
       "2                    10.213995                      5.383759   \n",
       "3                     9.977019                      4.858634   \n",
       "4                    10.142511                      4.939416   \n",
       "\n",
       "   final.output.concentrate_au  final.output.recovery  final.output.tail_ag  \\\n",
       "0                    42.192020              70.541216             10.411962   \n",
       "1                    42.701629              69.266198             10.462676   \n",
       "2                    42.657501              68.116445             10.507046   \n",
       "3                    42.689819              68.347543             10.422762   \n",
       "4                    42.774141              66.927016             10.360302   \n",
       "\n",
       "   final.output.tail_pb  final.output.tail_sol  final.output.tail_au  ...  \\\n",
       "0              0.895447              16.904297              2.143149  ...   \n",
       "1              0.927452              16.634514              2.224930  ...   \n",
       "2              0.953716              16.208849              2.257889  ...   \n",
       "3              0.883763              16.532835              2.146849  ...   \n",
       "4              0.792826              16.525686              2.055292  ...   \n",
       "\n",
       "   secondary_cleaner.state.floatbank4_a_air  \\\n",
       "0                                 14.016835   \n",
       "1                                 13.992281   \n",
       "2                                 14.015015   \n",
       "3                                 14.036510   \n",
       "4                                 14.027298   \n",
       "\n",
       "   secondary_cleaner.state.floatbank4_a_level  \\\n",
       "0                                 -502.488007   \n",
       "1                                 -505.503262   \n",
       "2                                 -502.520901   \n",
       "3                                 -500.857308   \n",
       "4                                 -499.838632   \n",
       "\n",
       "   secondary_cleaner.state.floatbank4_b_air  \\\n",
       "0                                 12.099931   \n",
       "1                                 11.950531   \n",
       "2                                 11.912783   \n",
       "3                                 11.999550   \n",
       "4                                 11.953070   \n",
       "\n",
       "   secondary_cleaner.state.floatbank4_b_level  \\\n",
       "0                                 -504.715942   \n",
       "1                                 -501.331529   \n",
       "2                                 -501.133383   \n",
       "3                                 -501.193686   \n",
       "4                                 -501.053894   \n",
       "\n",
       "   secondary_cleaner.state.floatbank5_a_air  \\\n",
       "0                                  9.925633   \n",
       "1                                 10.039245   \n",
       "2                                 10.070913   \n",
       "3                                  9.970366   \n",
       "4                                  9.925709   \n",
       "\n",
       "   secondary_cleaner.state.floatbank5_a_level  \\\n",
       "0                                 -498.310211   \n",
       "1                                 -500.169983   \n",
       "2                                 -500.129135   \n",
       "3                                 -499.201640   \n",
       "4                                 -501.686727   \n",
       "\n",
       "   secondary_cleaner.state.floatbank5_b_air  \\\n",
       "0                                  8.079666   \n",
       "1                                  7.984757   \n",
       "2                                  8.013877   \n",
       "3                                  7.977324   \n",
       "4                                  7.894242   \n",
       "\n",
       "   secondary_cleaner.state.floatbank5_b_level  \\\n",
       "0                                 -500.470978   \n",
       "1                                 -500.582168   \n",
       "2                                 -500.517572   \n",
       "3                                 -500.255908   \n",
       "4                                 -500.356035   \n",
       "\n",
       "   secondary_cleaner.state.floatbank6_a_air  \\\n",
       "0                                 14.151341   \n",
       "1                                 13.998353   \n",
       "2                                 14.028663   \n",
       "3                                 14.005551   \n",
       "4                                 13.996647   \n",
       "\n",
       "   secondary_cleaner.state.floatbank6_a_level  \n",
       "0                                 -605.841980  \n",
       "1                                 -599.787184  \n",
       "2                                 -601.427363  \n",
       "3                                 -599.996129  \n",
       "4                                 -601.496691  \n",
       "\n",
       "[5 rows x 87 columns]"
      ]
     },
     "execution_count": 8,
     "metadata": {},
     "output_type": "execute_result"
    }
   ],
   "source": [
    "data_train.head()"
   ]
  },
  {
   "cell_type": "markdown",
   "metadata": {},
   "source": [
    "Посмотрим на дубликаты:"
   ]
  },
  {
   "cell_type": "code",
   "execution_count": 9,
   "metadata": {},
   "outputs": [
    {
     "data": {
      "text/plain": [
       "0"
      ]
     },
     "execution_count": 9,
     "metadata": {},
     "output_type": "execute_result"
    }
   ],
   "source": [
    "data_test['date'].duplicated().sum()"
   ]
  },
  {
   "cell_type": "code",
   "execution_count": 10,
   "metadata": {},
   "outputs": [
    {
     "data": {
      "text/plain": [
       "0"
      ]
     },
     "execution_count": 10,
     "metadata": {},
     "output_type": "execute_result"
    }
   ],
   "source": [
    "data_train['date'].duplicated().sum()"
   ]
  },
  {
   "cell_type": "code",
   "execution_count": 11,
   "metadata": {},
   "outputs": [
    {
     "data": {
      "text/plain": [
       "0"
      ]
     },
     "execution_count": 11,
     "metadata": {},
     "output_type": "execute_result"
    }
   ],
   "source": [
    "data_full['date'].duplicated().sum()"
   ]
  },
  {
   "cell_type": "markdown",
   "metadata": {},
   "source": [
    "Рассмотрим уникальные значения и пропуски. Создадим функцию:"
   ]
  },
  {
   "cell_type": "code",
   "execution_count": 12,
   "metadata": {},
   "outputs": [],
   "source": [
    "def un_values(data):\n",
    "    for column in data.columns:\n",
    "        print('Уникальные значения столбца: ', column)\n",
    "        print(data[column].unique())\n",
    "    print('Количество пропусков в каждом столбце: ')    \n",
    "    print(data.isna().sum())"
   ]
  },
  {
   "cell_type": "code",
   "execution_count": 13,
   "metadata": {},
   "outputs": [
    {
     "name": "stdout",
     "output_type": "stream",
     "text": [
      "Уникальные значения столбца:  date\n",
      "['2016-01-15 00:00:00' '2016-01-15 01:00:00' '2016-01-15 02:00:00' ...\n",
      " '2018-08-18 08:59:59' '2018-08-18 09:59:59' '2018-08-18 10:59:59']\n",
      "Уникальные значения столбца:  final.output.concentrate_ag\n",
      "[6.05540276 6.02936857 6.05592607 ... 3.10999751 3.36724104 3.59837494]\n",
      "Уникальные значения столбца:  final.output.concentrate_pb\n",
      "[ 9.88964844  9.9689441  10.21399457 ... 11.43436599 11.62558728\n",
      " 11.7378318 ]\n",
      "Уникальные значения столбца:  final.output.concentrate_sol\n",
      "[5.50732422 5.25778148 5.38375877 ... 6.88601311 6.79943261 6.71750947]\n",
      "Уникальные значения столбца:  final.output.concentrate_au\n",
      "[42.19202042 42.70162925 42.65750061 ... 46.79569097 46.40818768\n",
      " 46.29943814]\n",
      "Уникальные значения столбца:  final.output.recovery\n",
      "[70.54121591 69.26619763 68.11644507 ... 67.00218885 65.52324622\n",
      " 70.28145415]\n",
      "Уникальные значения столбца:  final.output.tail_ag\n",
      "[10.41196156 10.46267568 10.50704594 ...  8.52960609  8.77717133\n",
      "  8.40668973]\n",
      "Уникальные значения столбца:  final.output.tail_pb\n",
      "[0.89544678 0.92745213 0.95371573 ... 2.91141836 2.81921445 2.51751799]\n",
      "Уникальные значения столбца:  final.output.tail_sol\n",
      "[16.90429688 16.6345141  16.20884917 ... 11.11514674 10.46384748\n",
      " 10.65219334]\n",
      "Уникальные значения столбца:  final.output.tail_au\n",
      "[2.14314938 2.22493035 2.25788912 ... 1.59661581 1.60287899 1.38943434]\n",
      "Уникальные значения столбца:  primary_cleaner.input.sulfate\n",
      "[127.09200287 125.62923179 123.81980789 ... 105.66611757  98.8805383\n",
      "  95.24842664]\n",
      "Уникальные значения столбца:  primary_cleaner.input.depressant\n",
      "[10.12829494 10.29625065 11.31627982 ...  7.95511136  7.98416354\n",
      "  8.07895679]\n",
      "Уникальные значения столбца:  primary_cleaner.input.feed_size\n",
      "[7.25       7.30316665 7.53999996 ... 6.06666666 6.23999951 6.2833328 ]\n",
      "Уникальные значения столбца:  primary_cleaner.input.xanthate\n",
      "[0.98875904 1.00266309 0.99126547 ... 1.31592569 1.24196858 1.28304487]\n",
      "Уникальные значения столбца:  primary_cleaner.output.concentrate_ag\n",
      "[8.54755116 8.55874319 8.60350485 ... 7.12889611 7.49044444 7.53758431]\n",
      "Уникальные значения столбца:  primary_cleaner.output.concentrate_pb\n",
      "[10.38964844 10.49706908 10.35449431 ... 12.633558   12.0123779\n",
      " 11.6502851 ]\n",
      "Уникальные значения столбца:  primary_cleaner.output.concentrate_sol\n",
      "[19.52929688 19.36914674 19.16757892 ...  7.9418999   6.94297165\n",
      "  6.20355328]\n",
      "Уникальные значения столбца:  primary_cleaner.output.concentrate_au\n",
      "[34.17442703 34.11852552 33.96946437 ... 31.85674228 30.77089201\n",
      " 30.35661802]\n",
      "Уникальные значения столбца:  primary_cleaner.output.tail_ag\n",
      "[14.9365263  16.25051119 16.49182301 ... 22.2981488  22.71465646\n",
      " 22.73592672]\n",
      "Уникальные значения столбца:  primary_cleaner.output.tail_pb\n",
      "[2.53491211 3.04964612 3.12466381 ... 6.27825044 6.25314507 6.08428733]\n",
      "Уникальные значения столбца:  primary_cleaner.output.tail_sol\n",
      "[7.47607422 6.73390727 6.47176848 ... 4.45745699 3.55712066 3.02669909]\n",
      "Уникальные значения столбца:  primary_cleaner.output.tail_au\n",
      "[2.10667944 2.35301686 2.41680033 ... 2.61223104 2.80064849 2.70804646]\n",
      "Уникальные значения столбца:  primary_cleaner.state.floatbank8_a_air\n",
      "[1549.77575684 1576.16667149 1601.55616303 ... 1649.16676102 1646.54776267\n",
      " 1648.75990646]\n",
      "Уникальные значения столбца:  primary_cleaner.state.floatbank8_a_level\n",
      "[-498.91213989 -500.90496496 -499.99779065 ... -399.88863085 -398.97708269\n",
      " -399.86205326]\n",
      "Уникальные значения столбца:  primary_cleaner.state.floatbank8_b_air\n",
      "[1551.4342041  1575.95062568 1600.38668535 ... 1649.19690421 1648.21223972\n",
      " 1650.13539491]\n",
      "Уникальные значения столбца:  primary_cleaner.state.floatbank8_b_level\n",
      "[-516.40344238 -499.86588946 -500.60776243 ... -399.67757077 -400.38326491\n",
      " -399.95732109]\n",
      "Уникальные значения столбца:  primary_cleaner.state.floatbank8_c_air\n",
      "[1549.87390137 1575.99418888 1602.00354199 ... 1647.89699888 1648.91738717\n",
      " 1648.83189046]\n",
      "Уникальные значения столбца:  primary_cleaner.state.floatbank8_c_level\n",
      "[-498.66659546 -499.31510741 -500.87006932 ... -399.98827492 -399.52134386\n",
      " -400.58611561]\n",
      "Уникальные значения столбца:  primary_cleaner.state.floatbank8_d_air\n",
      "[1554.36743164 1574.47925899 1599.54151472 ... 1649.7727139  1651.4985915\n",
      " 1649.46458174]\n",
      "Уникальные значения столбца:  primary_cleaner.state.floatbank8_d_level\n",
      "[-493.4281311  -498.9316652  -499.82744411 ... -399.83190155 -399.7453286\n",
      " -400.67330254]\n",
      "Уникальные значения столбца:  rougher.calculation.sulfate_to_au_concentrate\n",
      "[41885.70703125 42050.86180929 42018.1011843  ... 44585.18133426\n",
      " 44084.73570763 44082.86656477]\n",
      "Уникальные значения столбца:  rougher.calculation.floatbank10_sulfate_to_au_feed\n",
      "[3481.77905273 3498.3709791  3495.34891012 ... 2510.81354487 2507.57249359\n",
      " 2487.4777621 ]\n",
      "Уникальные значения столбца:  rougher.calculation.floatbank11_sulfate_to_au_feed\n",
      "[3520.3371582  3489.98185731 3502.35981942 ... 2510.14243297 2507.7233612\n",
      " 2488.62608025]\n",
      "Уникальные значения столбца:  rougher.calculation.au_pb_ratio\n",
      "[2.83868678 2.85899801 2.9459892  ... 1.12563651 1.11793477 1.12636713]\n",
      "Уникальные значения столбца:  rougher.input.feed_ag\n",
      "[6.10037804 6.16111348 6.1164549  ... 5.97051525 6.04813022 6.15871773]\n",
      "Уникальные значения столбца:  rougher.input.feed_pb\n",
      "[2.28491211 2.26603263 2.15962163 ... 4.02000219 3.90253661 3.87572678]\n",
      "Уникальные значения столбца:  rougher.input.feed_rate\n",
      "[523.54632568 525.2905809  530.02661044 ... 555.68287198 544.73168688\n",
      " 555.82020835]\n",
      "Уникальные значения столбца:  rougher.input.feed_size\n",
      "[ 55.48659897  57.27866586  57.51064892 ... 122.26268985 123.74242952\n",
      "  94.54435803]\n",
      "Уникальные значения столбца:  rougher.input.feed_sol\n",
      "[36.80859375 35.75338487 35.97163007 ... 40.0740256  39.71390632\n",
      " 39.13511856]\n",
      "Уникальные значения столбца:  rougher.input.feed_au\n",
      "[6.48614979 6.47858279 6.36222199 ... 4.52506124 4.36278136 4.36549126]\n",
      "Уникальные значения столбца:  rougher.input.floatbank10_sulfate\n",
      "[11.98661613 11.97119324 11.92060278 ...  6.58602044  6.21011918\n",
      "  6.14698197]\n",
      "Уникальные значения столбца:  rougher.input.floatbank10_xanthate\n",
      "[6.00798988 6.00576591 6.19737694 ... 9.29960607 9.29770949 9.30861213]\n",
      "Уникальные значения столбца:  rougher.input.floatbank11_sulfate\n",
      "[11.83674335 11.99616279 11.9203052  ...  6.58413031  6.20951712\n",
      "  6.16893878]\n",
      "Уникальные значения столбца:  rougher.input.floatbank11_xanthate\n",
      "[6.00581837 6.01259367 6.20463318 ... 9.30013304 9.29719433 9.30985188]\n",
      "Уникальные значения столбца:  rougher.output.concentrate_ag\n",
      "[11.50077057 11.61586517 11.6957533  ...  8.52349701 11.65879854\n",
      " 11.95948557]\n",
      "Уникальные значения столбца:  rougher.output.concentrate_pb\n",
      "[ 7.10107422  7.2788067   7.21683259 ...  8.95513452 10.65537698\n",
      " 10.70214844]\n",
      "Уникальные значения столбца:  rougher.output.concentrate_sol\n",
      "[28.02929688 28.06706333 27.45403684 ... 22.78646719 29.05274175\n",
      " 29.07823461]\n",
      "Уникальные значения столбца:  rougher.output.concentrate_au\n",
      "[19.79380798 20.05097514 19.73717002 ... 15.11123105 17.83477207\n",
      " 17.80413414]\n",
      "Уникальные значения столбца:  rougher.output.recovery\n",
      "[87.10776293 86.84326051 86.84230826 ... 88.89057853 89.858126\n",
      " 89.51495973]\n",
      "Уникальные значения столбца:  rougher.output.tail_ag\n",
      "[5.00801802 4.95537791 4.84345988 ... 4.05001019 3.90249404 3.92547281]\n",
      "Уникальные значения столбца:  rougher.output.tail_pb\n",
      "[0.50872803 0.53668947 0.54641563 ... 0.63609521 0.62560948 0.63867696]\n",
      "Уникальные значения столбца:  rougher.output.tail_sol\n",
      "[19.15429688 18.96523438 18.80853299 ... 18.32308011 19.42374\n",
      " 19.94667303]\n",
      "Уникальные значения столбца:  rougher.output.tail_au\n",
      "[1.17024398 1.18482746 1.16256189 ... 0.68505927 0.56713038 0.58643898]\n",
      "Уникальные значения столбца:  rougher.state.floatbank10_a_air\n",
      "[ 999.70690918 1000.28639767  999.71956517 ... 1204.86663888 1201.90417739\n",
      " 1196.23811223]\n",
      "Уникальные значения столбца:  rougher.state.floatbank10_a_level\n",
      "[-404.06698608 -400.06519557 -400.07402844 ... -299.23567501 -299.90730825\n",
      " -299.86274301]\n",
      "Уникальные значения столбца:  rougher.state.floatbank10_b_air\n",
      "[1603.01135254 1600.75458659 1599.33732987 ... 1149.94290216 1154.08780412\n",
      " 1147.24824118]\n",
      "Уникальные значения столбца:  rougher.state.floatbank10_b_level\n",
      "[-434.71502686 -449.95343451 -450.00853022 ... -501.71790333 -500.03657999\n",
      " -500.3631647 ]\n",
      "Уникальные значения столбца:  rougher.state.floatbank10_c_air\n",
      "[1602.375      1600.47957991 1599.6727973  ... 1049.60439027 1054.00975578\n",
      " 1047.27906544]\n",
      "Уникальные значения столбца:  rougher.state.floatbank10_c_level\n",
      "[-442.20446777 -449.83064631 -449.95449144 ... -500.54905279 -500.23733476\n",
      " -500.35409056]\n",
      "Уникальные значения столбца:  rougher.state.floatbank10_d_air\n",
      "[1598.93725586 1600.52758858 1599.84932514 ...  952.70273231  944.13879272\n",
      "  948.75660844]\n",
      "Уникальные значения столбца:  rougher.state.floatbank10_d_level\n",
      "[-451.29412842 -449.95364917 -449.95418548 ... -502.35229596 -496.866953\n",
      " -498.43941603]\n",
      "Уникальные значения столбца:  rougher.state.floatbank10_e_air\n",
      "[1404.4720459  1399.2270837  1399.18094498 ...  849.01601744  851.58976668\n",
      "  849.44191754]\n",
      "Уникальные значения столбца:  rougher.state.floatbank10_e_level\n",
      "[-455.46298218 -450.86984762 -449.93758816 ... -500.5056773  -499.04046576\n",
      " -499.2555029 ]\n",
      "Уникальные значения столбца:  rougher.state.floatbank10_f_air\n",
      "[1416.35498047 1399.71951394 1400.31668194 ...  850.45563548  851.34560554\n",
      "  850.1122457 ]\n",
      "Уникальные значения столбца:  rougher.state.floatbank10_f_level\n",
      "[-451.93963623 -450.11900131 -450.52714684 ... -506.89796845 -499.12256076\n",
      " -499.4071117 ]\n",
      "Уникальные значения столбца:  secondary_cleaner.output.tail_ag\n",
      "[14.50018406 14.26547351 14.11566201 ... 17.13755562 16.96498398\n",
      "  8.96792307]\n",
      "Уникальные значения столбца:  secondary_cleaner.output.tail_pb\n",
      "[ 4.69482422  4.59254704  4.62477543 ... 12.52731928 12.85695999\n",
      "  7.09398241]\n",
      "Уникальные значения столбца:  secondary_cleaner.output.tail_sol\n",
      "[8.76464844 9.00149429 8.84289576 ... 0.7037185  0.94262078 0.27486187]\n",
      "Уникальные значения столбца:  secondary_cleaner.output.tail_au\n",
      "[2.60618496 2.48824831 2.45818675 ... 3.03130078 3.13033332 1.6156866 ]\n",
      "Уникальные значения столбца:  secondary_cleaner.state.floatbank2_a_air\n",
      "[25.85310936 25.88053867 26.00524491 ... 35.00358616 34.98074164\n",
      " 34.94091896]\n",
      "Уникальные значения столбца:  secondary_cleaner.state.floatbank2_a_level\n",
      "[-498.52648926 -499.98965641 -499.92961595 ... -501.08379358 -498.1310022\n",
      " -500.15050979]\n",
      "Уникальные значения столбца:  secondary_cleaner.state.floatbank2_b_air\n",
      "[23.89365959 23.88952979 23.88665666 ... 29.99053346 29.96845329\n",
      " 30.03186698]\n",
      "Уникальные значения столбца:  secondary_cleaner.state.floatbank2_b_level\n",
      "[-501.40628052 -500.37242843 -499.95192762 ... -611.85589811 -586.01333036\n",
      " -500.32833475]\n",
      "Уникальные значения столбца:  secondary_cleaner.state.floatbank3_a_air\n",
      "[23.96179771 23.97055025 23.91353473 ... 25.94842861 25.97173699\n",
      " 26.03398999]\n",
      "Уникальные значения столбца:  secondary_cleaner.state.floatbank3_a_level\n",
      "[-495.26281738 -500.08547327 -499.44234284 ... -500.06726776 -499.60839245\n",
      " -500.14779215]\n",
      "Уникальные значения столбца:  secondary_cleaner.state.floatbank3_b_air\n",
      "[21.94040871 22.08571374 23.95771654 ... 22.96826762 22.95844822\n",
      " 22.9523062 ]\n",
      "Уникальные значения столбца:  secondary_cleaner.state.floatbank3_b_level\n",
      "[-499.3409729  -499.44689706 -499.90198202 ... -499.83944174 -499.82130767\n",
      " -500.03767788]\n",
      "Уникальные значения столбца:  secondary_cleaner.state.floatbank4_a_air\n",
      "[14.01683521 13.99228103 14.01501546 ... 23.01571849 23.02496288\n",
      " 23.0186224 ]\n",
      "Уникальные значения столбца:  secondary_cleaner.state.floatbank4_a_level\n",
      "[-502.48800659 -505.50326215 -502.5209008  ... -501.71159927 -501.15340926\n",
      " -500.49270228]\n",
      "Уникальные значения столбца:  secondary_cleaner.state.floatbank4_b_air\n",
      "[12.09993076 11.95053085 11.91278306 ... 19.95123119 20.05412154\n",
      " 20.02020485]\n",
      "Уникальные значения столбца:  secondary_cleaner.state.floatbank4_b_level\n",
      "[-504.71594238 -501.33152943 -501.13338307 ... -499.85702705 -500.31471091\n",
      " -500.22029567]\n",
      "Уникальные значения столбца:  secondary_cleaner.state.floatbank5_a_air\n",
      "[ 9.92563343 10.03924535 10.07091323 ... 18.01954335 17.979515\n",
      " 17.96351155]\n",
      "Уникальные значения столбца:  secondary_cleaner.state.floatbank5_a_level\n",
      "[-498.31021118 -500.16998257 -500.12913456 ... -500.45115603 -499.27287133\n",
      " -499.93948991]\n",
      "Уникальные значения столбца:  secondary_cleaner.state.floatbank5_b_air\n",
      "[ 8.07966614  7.9847572   8.01387688 ... 13.02343079 12.99240352\n",
      " 12.99030588]\n",
      "Уникальные значения столбца:  secondary_cleaner.state.floatbank5_b_level\n",
      "[-500.47097778 -500.58216767 -500.51757225 ... -499.91439075 -499.97626781\n",
      " -500.08099337]\n",
      "Уникальные значения столбца:  secondary_cleaner.state.floatbank6_a_air\n",
      "[14.15134144 13.99835264 14.02866312 ... 19.99088509 20.01398578\n",
      " 19.99033553]\n",
      "Уникальные значения столбца:  secondary_cleaner.state.floatbank6_a_level\n",
      "[-605.84197998 -599.78718423 -601.42736323 ... -501.51845197 -500.62547062\n",
      " -499.1915746 ]\n",
      "Количество пропусков в каждом столбце: \n",
      "date                                            0\n",
      "final.output.concentrate_ag                     1\n",
      "final.output.concentrate_pb                     1\n",
      "final.output.concentrate_sol                  211\n",
      "final.output.concentrate_au                     0\n",
      "                                             ... \n",
      "secondary_cleaner.state.floatbank5_a_level      1\n",
      "secondary_cleaner.state.floatbank5_b_air        1\n",
      "secondary_cleaner.state.floatbank5_b_level      1\n",
      "secondary_cleaner.state.floatbank6_a_air        2\n",
      "secondary_cleaner.state.floatbank6_a_level      1\n",
      "Length: 87, dtype: int64\n"
     ]
    }
   ],
   "source": [
    "un_values(data_train)"
   ]
  },
  {
   "cell_type": "code",
   "execution_count": 14,
   "metadata": {},
   "outputs": [
    {
     "name": "stdout",
     "output_type": "stream",
     "text": [
      "Уникальные значения столбца:  date\n",
      "['2016-09-01 00:59:59' '2016-09-01 01:59:59' '2016-09-01 02:59:59' ...\n",
      " '2017-12-31 21:59:59' '2017-12-31 22:59:59' '2017-12-31 23:59:59']\n",
      "Уникальные значения столбца:  primary_cleaner.input.sulfate\n",
      "[210.800909   215.39245478 215.25994647 ... 171.13571781 179.6971576\n",
      " 181.55685577]\n",
      "Уникальные значения столбца:  primary_cleaner.input.depressant\n",
      "[14.99311769 14.9874713  12.8849338  ... 15.99366947 15.43897911\n",
      " 14.99584972]\n",
      "Уникальные значения столбца:  primary_cleaner.input.feed_size\n",
      "[8.07999992 7.78666669 7.63999987 ... 7.88999927 7.57333384 7.96666576]\n",
      "Уникальные значения столбца:  primary_cleaner.input.xanthate\n",
      "[1.00502133 0.99046929 0.99604317 ... 1.16599581 1.50106793 1.62345438]\n",
      "Уникальные значения столбца:  primary_cleaner.state.floatbank8_a_air\n",
      "[1398.98130127 1398.77791158 1398.49366613 ... 1498.83618207 1498.46624268\n",
      " 1498.09630329]\n",
      "Уникальные значения столбца:  primary_cleaner.state.floatbank8_a_level\n",
      "[-500.22557739 -500.05743464 -500.86835986 ... -501.77040305 -500.48398429\n",
      " -499.79692202]\n",
      "Уникальные значения столбца:  primary_cleaner.state.floatbank8_b_air\n",
      "[1399.14492609 1398.05536199 1398.86043626 ... 1499.57235259 1497.98698616\n",
      " 1501.74379053]\n",
      "Уникальные значения столбца:  primary_cleaner.state.floatbank8_b_level\n",
      "[-499.91973462 -499.77818151 -499.76452914 ... -495.51634749 -519.20033952\n",
      " -505.14693105]\n",
      "Уникальные значения столбца:  primary_cleaner.state.floatbank8_c_air\n",
      "[1400.1029981  1396.15103288 1398.07570927 ... 1502.74921291 1496.56904706\n",
      " 1499.53597825]\n",
      "Уникальные значения столбца:  primary_cleaner.state.floatbank8_c_level\n",
      "[-500.70436901 -499.24016758 -502.15150924 ... -520.66744246 -487.4795668\n",
      " -492.42822636]\n",
      "Уникальные значения столбца:  primary_cleaner.state.floatbank8_d_air\n",
      "[1399.00169536 1399.50809089 1399.49708795 ... 1502.58534302 1502.68891843\n",
      " 1499.67433989]\n",
      "Уникальные значения столбца:  primary_cleaner.state.floatbank8_d_level\n",
      "[-499.48514368 -500.41632438 -499.71547881 ... -498.26022538 -501.56972308\n",
      " -499.76671699]\n",
      "Уникальные значения столбца:  rougher.input.feed_ag\n",
      "[13.12856898 13.03627989 13.13841193 ... 11.28590751 11.28970967\n",
      " 10.90464634]\n",
      "Уникальные значения столбца:  rougher.input.feed_pb\n",
      "[5.63671024 5.52606519 5.42656094 ... 4.40532678 4.34348778 4.09059086]\n",
      "Уникальные значения столбца:  rougher.input.feed_rate\n",
      "[489.7936549  490.10453354 489.61796859 ... 546.30686831 547.33140482\n",
      " 564.54037617]\n",
      "Уникальные значения столбца:  rougher.input.feed_size\n",
      "[62.71045237 61.9611631  66.90380666 ... 73.64751289 78.06644593\n",
      " 77.67870004]\n",
      "Уникальные значения столбца:  rougher.input.feed_sol\n",
      "[42.02244004 41.18790338 42.54629365 ... 41.09548544 41.71573993\n",
      " 40.8911212 ]\n",
      "Уникальные значения столбца:  rougher.input.feed_au\n",
      "[12.08410303 11.91897696 12.09133187 ... 10.16909424 10.0711562\n",
      "  9.69725923]\n",
      "Уникальные значения столбца:  rougher.input.floatbank10_sulfate\n",
      "[16.92287678 17.00253236 16.9925201  ... 10.18221863 10.73091518\n",
      " 10.78949314]\n",
      "Уникальные значения столбца:  rougher.input.floatbank10_xanthate\n",
      "[6.15347948 5.99904322 5.85063203 ... 7.19625528 7.20005817 7.19577615]\n",
      "Уникальные значения столбца:  rougher.input.floatbank11_sulfate\n",
      "[16.86751812 16.99606284 16.98209624 ... 10.18546094 10.7263489\n",
      " 10.79288125]\n",
      "Уникальные значения столбца:  rougher.input.floatbank11_xanthate\n",
      "[6.15070908 6.00231462 5.8535936  ... 7.19867616 7.20083409 7.20103722]\n",
      "Уникальные значения столбца:  rougher.state.floatbank10_a_air\n",
      "[1001.84931693  998.69078495  998.51671978 ... 1396.20306959 1403.94228815\n",
      " 1400.61154434]\n",
      "Уникальные значения столбца:  rougher.state.floatbank10_a_level\n",
      "[-350.30126519 -350.4257041  -349.78353797 ... -300.21072161 -300.03011881\n",
      " -299.98940529]\n",
      "Уникальные значения столбца:  rougher.state.floatbank10_b_air\n",
      "[1249.73861187 1248.3954574  1247.44074791 ... 1047.87974166 1049.8022887\n",
      " 1052.78275582]\n",
      "Уникальные значения столбца:  rougher.state.floatbank10_b_level\n",
      "[-399.10753083 -399.94602527 -400.2643304  ... -499.60424753 -499.79557571\n",
      " -499.76296558]\n",
      "Уникальные значения столбца:  rougher.state.floatbank10_c_air\n",
      "[1249.75051952 1249.51445112 1248.20720353 ...  948.96342924  950.76939028\n",
      "  950.79374043]\n",
      "Уникальные значения столбца:  rougher.state.floatbank10_c_level\n",
      "[-399.39672997 -399.63081008 -401.0744048  ... -499.54956737 -500.37464476\n",
      " -499.35716991]\n",
      "Уникальные значения столбца:  rougher.state.floatbank10_d_air\n",
      "[1198.2878551  1200.50645936 1199.77002579 ...  856.32559674  847.64719836\n",
      "  850.63953743]\n",
      "Уникальные значения столбца:  rougher.state.floatbank10_d_level\n",
      "[-399.4885942  -399.94243382 -400.79058233 ... -500.09561552 -499.92033214\n",
      " -500.43378202]\n",
      "Уникальные значения столбца:  rougher.state.floatbank10_e_air\n",
      "[ 999.47225024 1000.00211427  999.92551852 ...  850.61459734  849.41304043\n",
      "  850.37080092]\n",
      "Уникальные значения столбца:  rougher.state.floatbank10_e_level\n",
      "[-399.53096224 -399.49152777 -399.23699933 ... -499.47371293 -500.38052945\n",
      " -500.81935107]\n",
      "Уникальные значения столбца:  rougher.state.floatbank10_f_air\n",
      "[949.56618935 950.20000896 950.32048103 ... 850.27957826 850.07502569\n",
      " 850.68018802]\n",
      "Уникальные значения столбца:  rougher.state.floatbank10_f_level\n",
      "[-398.1808065  -405.78751426 -400.86434014 ... -498.50837372 -500.47824975\n",
      " -498.53919784]\n",
      "Уникальные значения столбца:  secondary_cleaner.state.floatbank2_a_air\n",
      "[24.93820005 24.92346588 24.90873171 ... 29.07594837 29.10318496\n",
      " 29.09811556]\n",
      "Уникальные значения столбца:  secondary_cleaner.state.floatbank2_a_level\n",
      "[-500.49096321 -499.81396286 -500.30403501 ... -500.52840191 -499.69267237\n",
      " -500.4298716 ]\n",
      "Уникальные значения столбца:  secondary_cleaner.state.floatbank2_b_air\n",
      "[14.94760655 14.93087322 14.99651073 ... 26.88800523 27.05174234\n",
      " 26.89240083]\n",
      "Уникальные значения столбца:  secondary_cleaner.state.floatbank2_b_level\n",
      "[-500.01383707 -500.76445185 -500.99382097 ... -500.97579938 -499.85833703\n",
      " -500.08713099]\n",
      "Уникальные значения столбца:  secondary_cleaner.state.floatbank3_a_air\n",
      "[20.01816639 19.98850311 20.03968924 ... 28.00022359 27.98038661\n",
      " 28.02349117]\n",
      "Уникальные значения столбца:  secondary_cleaner.state.floatbank3_a_level\n",
      "[-450.3959952  -450.1140239  -450.26316447 ... -500.56587597 -499.90722485\n",
      " -500.17040634]\n",
      "Уникальные значения столбца:  secondary_cleaner.state.floatbank3_b_air\n",
      "[13.98705832 14.09298057 14.07788129 ... 22.99652762 23.04656243\n",
      " 23.01355945]\n",
      "Уникальные значения столбца:  secondary_cleaner.state.floatbank3_b_level\n",
      "[-449.83151311 -450.05916302 -449.66099667 ... -500.47758266 -499.74491367\n",
      " -500.21880064]\n",
      "Уникальные значения столбца:  secondary_cleaner.state.floatbank4_a_air\n",
      "[12.02355397 12.05814003 11.96236627 ... 19.99413037 19.95875984\n",
      " 20.03471502]\n",
      "Уникальные значения столбца:  secondary_cleaner.state.floatbank4_a_level\n",
      "[-497.79583396 -498.69577254 -498.76748398 ... -499.79131165 -499.95874984\n",
      " -500.72858836]\n",
      "Уникальные значения столбца:  secondary_cleaner.state.floatbank4_b_air\n",
      "[ 8.01665643  8.13097913  8.09689254 ... 15.10142454 15.02685277\n",
      " 14.9141989 ]\n",
      "Уникальные значения столбца:  secondary_cleaner.state.floatbank4_b_level\n",
      "[-501.28913912 -499.63420858 -500.82742318 ... -499.93625187 -499.72314278\n",
      " -499.94851824]\n",
      "Уникальные значения столбца:  secondary_cleaner.state.floatbank5_a_air\n",
      "[ 7.9465617   7.95826984  8.07105556 ... 10.98918086 11.01160663\n",
      " 10.98660699]\n",
      "Уникальные значения столбца:  secondary_cleaner.state.floatbank5_a_level\n",
      "[-432.31784957 -525.83964811 -500.80167311 ... -498.34789767 -499.98504646\n",
      " -500.65802703]\n",
      "Уникальные значения столбца:  secondary_cleaner.state.floatbank5_b_air\n",
      "[4.8725108  4.87885017 4.90512487 ... 9.02094441 9.00978287 8.98949731]\n",
      "Уникальные значения столбца:  secondary_cleaner.state.floatbank5_b_level\n",
      "[-500.03743694 -500.16237519 -499.82850963 ... -500.04044778 -499.93790152\n",
      " -500.33758848]\n",
      "Уникальные значения столбца:  secondary_cleaner.state.floatbank6_a_air\n",
      "[26.70588919 25.01994014 24.99486203 ...  8.98203819  9.01265986\n",
      "  8.98863205]\n",
      "Уникальные значения столбца:  secondary_cleaner.state.floatbank6_a_level\n",
      "[-499.70941356 -499.81943753 -500.62255903 ... -497.78988177 -500.15428409\n",
      " -500.76493726]\n",
      "Количество пропусков в каждом столбце: \n",
      "date                                           0\n",
      "primary_cleaner.input.sulfate                  4\n",
      "primary_cleaner.input.depressant               5\n",
      "primary_cleaner.input.feed_size                0\n",
      "primary_cleaner.input.xanthate                 4\n",
      "primary_cleaner.state.floatbank8_a_air         0\n",
      "primary_cleaner.state.floatbank8_a_level       0\n",
      "primary_cleaner.state.floatbank8_b_air         0\n",
      "primary_cleaner.state.floatbank8_b_level       0\n",
      "primary_cleaner.state.floatbank8_c_air         0\n",
      "primary_cleaner.state.floatbank8_c_level       0\n",
      "primary_cleaner.state.floatbank8_d_air         0\n",
      "primary_cleaner.state.floatbank8_d_level       0\n",
      "rougher.input.feed_ag                          0\n",
      "rougher.input.feed_pb                          0\n",
      "rougher.input.feed_rate                        3\n",
      "rougher.input.feed_size                        1\n",
      "rougher.input.feed_sol                        21\n",
      "rougher.input.feed_au                          0\n",
      "rougher.input.floatbank10_sulfate              5\n",
      "rougher.input.floatbank10_xanthate             0\n",
      "rougher.input.floatbank11_sulfate              8\n",
      "rougher.input.floatbank11_xanthate            25\n",
      "rougher.state.floatbank10_a_air                0\n",
      "rougher.state.floatbank10_a_level              0\n",
      "rougher.state.floatbank10_b_air                0\n",
      "rougher.state.floatbank10_b_level              0\n",
      "rougher.state.floatbank10_c_air                0\n",
      "rougher.state.floatbank10_c_level              0\n",
      "rougher.state.floatbank10_d_air                0\n",
      "rougher.state.floatbank10_d_level              0\n",
      "rougher.state.floatbank10_e_air                0\n",
      "rougher.state.floatbank10_e_level              0\n",
      "rougher.state.floatbank10_f_air                0\n",
      "rougher.state.floatbank10_f_level              0\n",
      "secondary_cleaner.state.floatbank2_a_air       3\n",
      "secondary_cleaner.state.floatbank2_a_level     0\n",
      "secondary_cleaner.state.floatbank2_b_air       2\n",
      "secondary_cleaner.state.floatbank2_b_level     0\n",
      "secondary_cleaner.state.floatbank3_a_air       9\n",
      "secondary_cleaner.state.floatbank3_a_level     0\n",
      "secondary_cleaner.state.floatbank3_b_air       0\n",
      "secondary_cleaner.state.floatbank3_b_level     0\n",
      "secondary_cleaner.state.floatbank4_a_air       0\n",
      "secondary_cleaner.state.floatbank4_a_level     0\n",
      "secondary_cleaner.state.floatbank4_b_air       0\n",
      "secondary_cleaner.state.floatbank4_b_level     0\n",
      "secondary_cleaner.state.floatbank5_a_air       0\n",
      "secondary_cleaner.state.floatbank5_a_level     0\n",
      "secondary_cleaner.state.floatbank5_b_air       0\n",
      "secondary_cleaner.state.floatbank5_b_level     0\n",
      "secondary_cleaner.state.floatbank6_a_air       0\n",
      "secondary_cleaner.state.floatbank6_a_level     0\n",
      "dtype: int64\n"
     ]
    }
   ],
   "source": [
    "un_values(data_test)"
   ]
  },
  {
   "cell_type": "code",
   "execution_count": 15,
   "metadata": {
    "scrolled": true
   },
   "outputs": [
    {
     "name": "stdout",
     "output_type": "stream",
     "text": [
      "Уникальные значения столбца:  date\n",
      "['2016-01-15 00:00:00' '2016-01-15 01:00:00' '2016-01-15 02:00:00' ...\n",
      " '2018-08-18 08:59:59' '2018-08-18 09:59:59' '2018-08-18 10:59:59']\n",
      "Уникальные значения столбца:  final.output.concentrate_ag\n",
      "[6.05540276 6.02936857 6.05592607 ... 3.10999751 3.36724104 3.59837494]\n",
      "Уникальные значения столбца:  final.output.concentrate_pb\n",
      "[ 9.88964844  9.9689441  10.21399457 ... 11.43436599 11.62558728\n",
      " 11.7378318 ]\n",
      "Уникальные значения столбца:  final.output.concentrate_sol\n",
      "[5.50732422 5.25778148 5.38375877 ... 6.88601311 6.79943261 6.71750947]\n",
      "Уникальные значения столбца:  final.output.concentrate_au\n",
      "[42.19202042 42.70162925 42.65750061 ... 46.79569097 46.40818768\n",
      " 46.29943814]\n",
      "Уникальные значения столбца:  final.output.recovery\n",
      "[70.54121591 69.26619763 68.11644507 ... 67.00218885 65.52324622\n",
      " 70.28145415]\n",
      "Уникальные значения столбца:  final.output.tail_ag\n",
      "[10.41196156 10.46267568 10.50704594 ...  8.52960609  8.77717133\n",
      "  8.40668973]\n",
      "Уникальные значения столбца:  final.output.tail_pb\n",
      "[0.89544678 0.92745213 0.95371573 ... 2.91141836 2.81921445 2.51751799]\n",
      "Уникальные значения столбца:  final.output.tail_sol\n",
      "[16.90429688 16.6345141  16.20884917 ... 11.11514674 10.46384748\n",
      " 10.65219334]\n",
      "Уникальные значения столбца:  final.output.tail_au\n",
      "[2.14314938 2.22493035 2.25788912 ... 1.59661581 1.60287899 1.38943434]\n",
      "Уникальные значения столбца:  primary_cleaner.input.sulfate\n",
      "[127.09200287 125.62923179 123.81980789 ... 105.66611757  98.8805383\n",
      "  95.24842664]\n",
      "Уникальные значения столбца:  primary_cleaner.input.depressant\n",
      "[10.12829494 10.29625065 11.31627982 ...  7.95511136  7.98416354\n",
      "  8.07895679]\n",
      "Уникальные значения столбца:  primary_cleaner.input.feed_size\n",
      "[7.25       7.30316665 7.53999996 ... 6.06666666 6.23999951 6.2833328 ]\n",
      "Уникальные значения столбца:  primary_cleaner.input.xanthate\n",
      "[0.98875904 1.00266309 0.99126547 ... 1.31592569 1.24196858 1.28304487]\n",
      "Уникальные значения столбца:  primary_cleaner.output.concentrate_ag\n",
      "[8.54755116 8.55874319 8.60350485 ... 7.12889611 7.49044444 7.53758431]\n",
      "Уникальные значения столбца:  primary_cleaner.output.concentrate_pb\n",
      "[10.38964844 10.49706908 10.35449431 ... 12.633558   12.0123779\n",
      " 11.6502851 ]\n",
      "Уникальные значения столбца:  primary_cleaner.output.concentrate_sol\n",
      "[19.52929688 19.36914674 19.16757892 ...  7.9418999   6.94297165\n",
      "  6.20355328]\n",
      "Уникальные значения столбца:  primary_cleaner.output.concentrate_au\n",
      "[34.17442703 34.11852552 33.96946437 ... 31.85674228 30.77089201\n",
      " 30.35661802]\n",
      "Уникальные значения столбца:  primary_cleaner.output.tail_ag\n",
      "[14.9365263  16.25051119 16.49182301 ... 22.2981488  22.71465646\n",
      " 22.73592672]\n",
      "Уникальные значения столбца:  primary_cleaner.output.tail_pb\n",
      "[2.53491211 3.04964612 3.12466381 ... 6.27825044 6.25314507 6.08428733]\n",
      "Уникальные значения столбца:  primary_cleaner.output.tail_sol\n",
      "[7.47607422 6.73390727 6.47176848 ... 4.45745699 3.55712066 3.02669909]\n",
      "Уникальные значения столбца:  primary_cleaner.output.tail_au\n",
      "[2.10667944 2.35301686 2.41680033 ... 2.61223104 2.80064849 2.70804646]\n",
      "Уникальные значения столбца:  primary_cleaner.state.floatbank8_a_air\n",
      "[1549.77575684 1576.16667149 1601.55616303 ... 1649.16676102 1646.54776267\n",
      " 1648.75990646]\n",
      "Уникальные значения столбца:  primary_cleaner.state.floatbank8_a_level\n",
      "[-498.91213989 -500.90496496 -499.99779065 ... -399.88863085 -398.97708269\n",
      " -399.86205326]\n",
      "Уникальные значения столбца:  primary_cleaner.state.floatbank8_b_air\n",
      "[1551.4342041  1575.95062568 1600.38668535 ... 1649.19690421 1648.21223972\n",
      " 1650.13539491]\n",
      "Уникальные значения столбца:  primary_cleaner.state.floatbank8_b_level\n",
      "[-516.40344238 -499.86588946 -500.60776243 ... -399.67757077 -400.38326491\n",
      " -399.95732109]\n",
      "Уникальные значения столбца:  primary_cleaner.state.floatbank8_c_air\n",
      "[1549.87390137 1575.99418888 1602.00354199 ... 1647.89699888 1648.91738717\n",
      " 1648.83189046]\n",
      "Уникальные значения столбца:  primary_cleaner.state.floatbank8_c_level\n",
      "[-498.66659546 -499.31510741 -500.87006932 ... -399.98827492 -399.52134386\n",
      " -400.58611561]\n",
      "Уникальные значения столбца:  primary_cleaner.state.floatbank8_d_air\n",
      "[1554.36743164 1574.47925899 1599.54151472 ... 1649.7727139  1651.4985915\n",
      " 1649.46458174]\n",
      "Уникальные значения столбца:  primary_cleaner.state.floatbank8_d_level\n",
      "[-493.4281311  -498.9316652  -499.82744411 ... -399.83190155 -399.7453286\n",
      " -400.67330254]\n",
      "Уникальные значения столбца:  rougher.calculation.sulfate_to_au_concentrate\n",
      "[41885.70703125 42050.86180929 42018.1011843  ... 44585.18133426\n",
      " 44084.73570763 44082.86656477]\n",
      "Уникальные значения столбца:  rougher.calculation.floatbank10_sulfate_to_au_feed\n",
      "[3481.77905273 3498.3709791  3495.34891012 ... 2510.81354487 2507.57249359\n",
      " 2487.4777621 ]\n",
      "Уникальные значения столбца:  rougher.calculation.floatbank11_sulfate_to_au_feed\n",
      "[3520.3371582  3489.98185731 3502.35981942 ... 2510.14243297 2507.7233612\n",
      " 2488.62608025]\n",
      "Уникальные значения столбца:  rougher.calculation.au_pb_ratio\n",
      "[2.83868678 2.85899801 2.9459892  ... 1.12563651 1.11793477 1.12636713]\n",
      "Уникальные значения столбца:  rougher.input.feed_ag\n",
      "[6.10037804 6.16111348 6.1164549  ... 5.97051525 6.04813022 6.15871773]\n",
      "Уникальные значения столбца:  rougher.input.feed_pb\n",
      "[2.28491211 2.26603263 2.15962163 ... 4.02000219 3.90253661 3.87572678]\n",
      "Уникальные значения столбца:  rougher.input.feed_rate\n",
      "[523.54632568 525.2905809  530.02661044 ... 555.68287198 544.73168688\n",
      " 555.82020835]\n",
      "Уникальные значения столбца:  rougher.input.feed_size\n",
      "[ 55.48659897  57.27866586  57.51064892 ... 122.26268985 123.74242952\n",
      "  94.54435803]\n",
      "Уникальные значения столбца:  rougher.input.feed_sol\n",
      "[36.80859375 35.75338487 35.97163007 ... 40.0740256  39.71390632\n",
      " 39.13511856]\n",
      "Уникальные значения столбца:  rougher.input.feed_au\n",
      "[6.48614979 6.47858279 6.36222199 ... 4.52506124 4.36278136 4.36549126]\n",
      "Уникальные значения столбца:  rougher.input.floatbank10_sulfate\n",
      "[11.98661613 11.97119324 11.92060278 ...  6.58602044  6.21011918\n",
      "  6.14698197]\n",
      "Уникальные значения столбца:  rougher.input.floatbank10_xanthate\n",
      "[6.00798988 6.00576591 6.19737694 ... 9.29960607 9.29770949 9.30861213]\n",
      "Уникальные значения столбца:  rougher.input.floatbank11_sulfate\n",
      "[11.83674335 11.99616279 11.9203052  ...  6.58413031  6.20951712\n",
      "  6.16893878]\n",
      "Уникальные значения столбца:  rougher.input.floatbank11_xanthate\n",
      "[6.00581837 6.01259367 6.20463318 ... 9.30013304 9.29719433 9.30985188]\n",
      "Уникальные значения столбца:  rougher.output.concentrate_ag\n",
      "[11.50077057 11.61586517 11.6957533  ...  8.52349701 11.65879854\n",
      " 11.95948557]\n",
      "Уникальные значения столбца:  rougher.output.concentrate_pb\n",
      "[ 7.10107422  7.2788067   7.21683259 ...  8.95513452 10.65537698\n",
      " 10.70214844]\n",
      "Уникальные значения столбца:  rougher.output.concentrate_sol\n",
      "[28.02929688 28.06706333 27.45403684 ... 22.78646719 29.05274175\n",
      " 29.07823461]\n",
      "Уникальные значения столбца:  rougher.output.concentrate_au\n",
      "[19.79380798 20.05097514 19.73717002 ... 15.11123105 17.83477207\n",
      " 17.80413414]\n",
      "Уникальные значения столбца:  rougher.output.recovery\n",
      "[87.10776293 86.84326051 86.84230826 ... 88.89057853 89.858126\n",
      " 89.51495973]\n",
      "Уникальные значения столбца:  rougher.output.tail_ag\n",
      "[5.00801802 4.95537791 4.84345988 ... 4.05001019 3.90249404 3.92547281]\n",
      "Уникальные значения столбца:  rougher.output.tail_pb\n",
      "[0.50872803 0.53668947 0.54641563 ... 0.63609521 0.62560948 0.63867696]\n",
      "Уникальные значения столбца:  rougher.output.tail_sol\n",
      "[19.15429688 18.96523438 18.80853299 ... 18.32308011 19.42374\n",
      " 19.94667303]\n",
      "Уникальные значения столбца:  rougher.output.tail_au\n",
      "[1.17024398 1.18482746 1.16256189 ... 0.68505927 0.56713038 0.58643898]\n",
      "Уникальные значения столбца:  rougher.state.floatbank10_a_air\n",
      "[ 999.70690918 1000.28639767  999.71956517 ... 1204.86663888 1201.90417739\n",
      " 1196.23811223]\n",
      "Уникальные значения столбца:  rougher.state.floatbank10_a_level\n",
      "[-404.06698608 -400.06519557 -400.07402844 ... -299.23567501 -299.90730825\n",
      " -299.86274301]\n",
      "Уникальные значения столбца:  rougher.state.floatbank10_b_air\n",
      "[1603.01135254 1600.75458659 1599.33732987 ... 1149.94290216 1154.08780412\n",
      " 1147.24824118]\n",
      "Уникальные значения столбца:  rougher.state.floatbank10_b_level\n",
      "[-434.71502686 -449.95343451 -450.00853022 ... -501.71790333 -500.03657999\n",
      " -500.3631647 ]\n",
      "Уникальные значения столбца:  rougher.state.floatbank10_c_air\n",
      "[1602.375      1600.47957991 1599.6727973  ... 1049.60439027 1054.00975578\n",
      " 1047.27906544]\n",
      "Уникальные значения столбца:  rougher.state.floatbank10_c_level\n",
      "[-442.20446777 -449.83064631 -449.95449144 ... -500.54905279 -500.23733476\n",
      " -500.35409056]\n",
      "Уникальные значения столбца:  rougher.state.floatbank10_d_air\n",
      "[1598.93725586 1600.52758858 1599.84932514 ...  952.70273231  944.13879272\n",
      "  948.75660844]\n",
      "Уникальные значения столбца:  rougher.state.floatbank10_d_level\n",
      "[-451.29412842 -449.95364917 -449.95418548 ... -502.35229596 -496.866953\n",
      " -498.43941603]\n",
      "Уникальные значения столбца:  rougher.state.floatbank10_e_air\n",
      "[1404.4720459  1399.2270837  1399.18094498 ...  849.01601744  851.58976668\n",
      "  849.44191754]\n",
      "Уникальные значения столбца:  rougher.state.floatbank10_e_level\n",
      "[-455.46298218 -450.86984762 -449.93758816 ... -500.5056773  -499.04046576\n",
      " -499.2555029 ]\n",
      "Уникальные значения столбца:  rougher.state.floatbank10_f_air\n",
      "[1416.35498047 1399.71951394 1400.31668194 ...  850.45563548  851.34560554\n",
      "  850.1122457 ]\n",
      "Уникальные значения столбца:  rougher.state.floatbank10_f_level\n",
      "[-451.93963623 -450.11900131 -450.52714684 ... -506.89796845 -499.12256076\n",
      " -499.4071117 ]\n",
      "Уникальные значения столбца:  secondary_cleaner.output.tail_ag\n",
      "[14.50018406 14.26547351 14.11566201 ... 17.13755562 16.96498398\n",
      "  8.96792307]\n",
      "Уникальные значения столбца:  secondary_cleaner.output.tail_pb\n",
      "[ 4.69482422  4.59254704  4.62477543 ... 12.52731928 12.85695999\n",
      "  7.09398241]\n",
      "Уникальные значения столбца:  secondary_cleaner.output.tail_sol\n",
      "[8.76464844 9.00149429 8.84289576 ... 0.7037185  0.94262078 0.27486187]\n",
      "Уникальные значения столбца:  secondary_cleaner.output.tail_au\n",
      "[2.60618496 2.48824831 2.45818675 ... 3.03130078 3.13033332 1.6156866 ]\n",
      "Уникальные значения столбца:  secondary_cleaner.state.floatbank2_a_air\n",
      "[25.85310936 25.88053867 26.00524491 ... 35.00358616 34.98074164\n",
      " 34.94091896]\n",
      "Уникальные значения столбца:  secondary_cleaner.state.floatbank2_a_level\n",
      "[-498.52648926 -499.98965641 -499.92961595 ... -501.08379358 -498.1310022\n",
      " -500.15050979]\n",
      "Уникальные значения столбца:  secondary_cleaner.state.floatbank2_b_air\n",
      "[23.89365959 23.88952979 23.88665666 ... 29.99053346 29.96845329\n",
      " 30.03186698]\n",
      "Уникальные значения столбца:  secondary_cleaner.state.floatbank2_b_level\n",
      "[-501.40628052 -500.37242843 -499.95192762 ... -611.85589811 -586.01333036\n",
      " -500.32833475]\n",
      "Уникальные значения столбца:  secondary_cleaner.state.floatbank3_a_air\n",
      "[23.96179771 23.97055025 23.91353473 ... 25.94842861 25.97173699\n",
      " 26.03398999]\n",
      "Уникальные значения столбца:  secondary_cleaner.state.floatbank3_a_level\n",
      "[-495.26281738 -500.08547327 -499.44234284 ... -500.06726776 -499.60839245\n",
      " -500.14779215]\n",
      "Уникальные значения столбца:  secondary_cleaner.state.floatbank3_b_air\n",
      "[21.94040871 22.08571374 23.95771654 ... 22.96826762 22.95844822\n",
      " 22.9523062 ]\n",
      "Уникальные значения столбца:  secondary_cleaner.state.floatbank3_b_level\n",
      "[-499.3409729  -499.44689706 -499.90198202 ... -499.83944174 -499.82130767\n",
      " -500.03767788]\n",
      "Уникальные значения столбца:  secondary_cleaner.state.floatbank4_a_air\n",
      "[14.01683521 13.99228103 14.01501546 ... 23.01571849 23.02496288\n",
      " 23.0186224 ]\n",
      "Уникальные значения столбца:  secondary_cleaner.state.floatbank4_a_level\n",
      "[-502.48800659 -505.50326215 -502.5209008  ... -501.71159927 -501.15340926\n",
      " -500.49270228]\n",
      "Уникальные значения столбца:  secondary_cleaner.state.floatbank4_b_air\n",
      "[12.09993076 11.95053085 11.91278306 ... 19.95123119 20.05412154\n",
      " 20.02020485]\n",
      "Уникальные значения столбца:  secondary_cleaner.state.floatbank4_b_level\n",
      "[-504.71594238 -501.33152943 -501.13338307 ... -499.85702705 -500.31471091\n",
      " -500.22029567]\n",
      "Уникальные значения столбца:  secondary_cleaner.state.floatbank5_a_air\n",
      "[ 9.92563343 10.03924535 10.07091323 ... 18.01954335 17.979515\n",
      " 17.96351155]\n",
      "Уникальные значения столбца:  secondary_cleaner.state.floatbank5_a_level\n",
      "[-498.31021118 -500.16998257 -500.12913456 ... -500.45115603 -499.27287133\n",
      " -499.93948991]\n",
      "Уникальные значения столбца:  secondary_cleaner.state.floatbank5_b_air\n",
      "[ 8.07966614  7.9847572   8.01387688 ... 13.02343079 12.99240352\n",
      " 12.99030588]\n",
      "Уникальные значения столбца:  secondary_cleaner.state.floatbank5_b_level\n",
      "[-500.47097778 -500.58216767 -500.51757225 ... -499.91439075 -499.97626781\n",
      " -500.08099337]\n",
      "Уникальные значения столбца:  secondary_cleaner.state.floatbank6_a_air\n",
      "[14.15134144 13.99835264 14.02866312 ... 19.99088509 20.01398578\n",
      " 19.99033553]\n",
      "Уникальные значения столбца:  secondary_cleaner.state.floatbank6_a_level\n",
      "[-605.84197998 -599.78718423 -601.42736323 ... -501.51845197 -500.62547062\n",
      " -499.1915746 ]\n",
      "Количество пропусков в каждом столбце: \n",
      "date                                            0\n",
      "final.output.concentrate_ag                     1\n",
      "final.output.concentrate_pb                     1\n",
      "final.output.concentrate_sol                  211\n",
      "final.output.concentrate_au                     0\n",
      "                                             ... \n",
      "secondary_cleaner.state.floatbank5_a_level      1\n",
      "secondary_cleaner.state.floatbank5_b_air        1\n",
      "secondary_cleaner.state.floatbank5_b_level      1\n",
      "secondary_cleaner.state.floatbank6_a_air        2\n",
      "secondary_cleaner.state.floatbank6_a_level      1\n",
      "Length: 87, dtype: int64\n"
     ]
    }
   ],
   "source": [
    "un_values(data_full)"
   ]
  },
  {
   "cell_type": "code",
   "execution_count": 16,
   "metadata": {},
   "outputs": [
    {
     "name": "stdout",
     "output_type": "stream",
     "text": [
      "Количество пропусков в тестовой выборке:  90\n",
      "Количество пропусков в обучающей выборке:  4100\n",
      "Количество пропусков в полной выборке:  4481\n"
     ]
    }
   ],
   "source": [
    "print('Количество пропусков в тестовой выборке: ', data_test.isnull().sum().sum())\n",
    "print('Количество пропусков в обучающей выборке: ', data_train.isnull().sum().sum())\n",
    "print('Количество пропусков в полной выборке: ', data_full.isnull().sum().sum())"
   ]
  },
  {
   "cell_type": "markdown",
   "metadata": {},
   "source": [
    "С данными ознакомились. Дубликатов нет, отдано есть пропуски в каждой выборке. Подробнее с ними разберемся позднее во время предобработки."
   ]
  },
  {
   "cell_type": "markdown",
   "metadata": {},
   "source": [
    "<div class=\"alert alert-block alert-success\">\n",
    "<b>Успех:</b> Данные загружены и осмотрены корректно.\n",
    "</div>"
   ]
  },
  {
   "cell_type": "markdown",
   "metadata": {},
   "source": [
    "Проверим правильность расчета эффективности обогащения. Вычислим её на обучающей выборке для признака rougher.output.recovery. Найдем MAE:"
   ]
  },
  {
   "cell_type": "code",
   "execution_count": 17,
   "metadata": {},
   "outputs": [],
   "source": [
    "data_train['recovery'] = (data_train['rougher.output.concentrate_au']*(data_train['rougher.input.feed_au'] - data_train['rougher.output.tail_au']))/(data_train['rougher.input.feed_au']*(data_train['rougher.output.concentrate_au'] - data_train['rougher.output.tail_au']))*100"
   ]
  },
  {
   "cell_type": "code",
   "execution_count": 18,
   "metadata": {},
   "outputs": [
    {
     "name": "stdout",
     "output_type": "stream",
     "text": [
      "Абсолютная средняя ошибка (MAE):  1.0748911125799084e-14\n"
     ]
    }
   ],
   "source": [
    "c = data_train['rougher.output.concentrate_au']\n",
    "f = data_train['rougher.input.feed_au']\n",
    "t = data_train['rougher.output.tail_au']\n",
    "output_recovery = data_train['rougher.output.recovery']\n",
    "all_recovery = c * (f - t) / f/ (c - t) * 100\n",
    "print('Абсолютная средняя ошибка (MAE): ', mean_absolute_error(output_recovery, all_recovery))"
   ]
  },
  {
   "cell_type": "markdown",
   "metadata": {},
   "source": [
    "Полученное значения МАЕ довольно низкое, то есть  эффективность обогащения рассчитана правильно.\n",
    "\n",
    "<div class=\"alert alert-block alert-success\">\n",
    "<b>Успех:</b> Абсолютно верно!\n",
    "</div>\n",
    "\n",
    "**Проанализируем признаки, недоступные в тестовой выборке.**\n",
    "Создадим копию data_train, чтобы убрать из нее совпадающие поля из data_test"
   ]
  },
  {
   "cell_type": "code",
   "execution_count": 19,
   "metadata": {
    "scrolled": true
   },
   "outputs": [
    {
     "name": "stdout",
     "output_type": "stream",
     "text": [
      "<class 'pandas.core.frame.DataFrame'>\n",
      "RangeIndex: 14149 entries, 0 to 14148\n",
      "Data columns (total 35 columns):\n",
      " #   Column                                              Non-Null Count  Dtype  \n",
      "---  ------                                              --------------  -----  \n",
      " 0   final.output.concentrate_ag                         14148 non-null  float64\n",
      " 1   final.output.concentrate_pb                         14148 non-null  float64\n",
      " 2   final.output.concentrate_sol                        13938 non-null  float64\n",
      " 3   final.output.concentrate_au                         14149 non-null  float64\n",
      " 4   final.output.recovery                               14149 non-null  float64\n",
      " 5   final.output.tail_ag                                14149 non-null  float64\n",
      " 6   final.output.tail_pb                                14049 non-null  float64\n",
      " 7   final.output.tail_sol                               14144 non-null  float64\n",
      " 8   final.output.tail_au                                14149 non-null  float64\n",
      " 9   primary_cleaner.output.concentrate_ag               14149 non-null  float64\n",
      " 10  primary_cleaner.output.concentrate_pb               14063 non-null  float64\n",
      " 11  primary_cleaner.output.concentrate_sol              13863 non-null  float64\n",
      " 12  primary_cleaner.output.concentrate_au               14149 non-null  float64\n",
      " 13  primary_cleaner.output.tail_ag                      14148 non-null  float64\n",
      " 14  primary_cleaner.output.tail_pb                      14134 non-null  float64\n",
      " 15  primary_cleaner.output.tail_sol                     14103 non-null  float64\n",
      " 16  primary_cleaner.output.tail_au                      14149 non-null  float64\n",
      " 17  rougher.calculation.sulfate_to_au_concentrate       14148 non-null  float64\n",
      " 18  rougher.calculation.floatbank10_sulfate_to_au_feed  14148 non-null  float64\n",
      " 19  rougher.calculation.floatbank11_sulfate_to_au_feed  14148 non-null  float64\n",
      " 20  rougher.calculation.au_pb_ratio                     14149 non-null  float64\n",
      " 21  rougher.output.concentrate_ag                       14149 non-null  float64\n",
      " 22  rougher.output.concentrate_pb                       14149 non-null  float64\n",
      " 23  rougher.output.concentrate_sol                      14127 non-null  float64\n",
      " 24  rougher.output.concentrate_au                       14149 non-null  float64\n",
      " 25  rougher.output.recovery                             14149 non-null  float64\n",
      " 26  rougher.output.tail_ag                              14148 non-null  float64\n",
      " 27  rougher.output.tail_pb                              14149 non-null  float64\n",
      " 28  rougher.output.tail_sol                             14149 non-null  float64\n",
      " 29  rougher.output.tail_au                              14149 non-null  float64\n",
      " 30  secondary_cleaner.output.tail_ag                    14147 non-null  float64\n",
      " 31  secondary_cleaner.output.tail_pb                    14139 non-null  float64\n",
      " 32  secondary_cleaner.output.tail_sol                   12544 non-null  float64\n",
      " 33  secondary_cleaner.output.tail_au                    14149 non-null  float64\n",
      " 34  recovery                                            14149 non-null  float64\n",
      "dtypes: float64(35)\n",
      "memory usage: 3.8 MB\n"
     ]
    }
   ],
   "source": [
    "data_train_copy = data_train.copy()\n",
    "data_train_copy = data_train_copy.drop(columns=list(data_test.columns))\n",
    "data_train_copy.info()"
   ]
  },
  {
   "cell_type": "markdown",
   "metadata": {},
   "source": [
    "В тестовой выборке отсутствуют данные, которые получаются на выходе (output) по таким этапам обработки, как  rougher , оба cleaner,  final. Скорее всего это те  данные, которые получаются по факту реальных измерений. Соответственно, мы их добавим в тестовую, но только чтобы модель обучилась для качественного предсказания значений, которые пояаляются на определенном этапе производства.\n",
    "\n",
    "Целевые значения: rougher.output.recovery и final.output.recovery"
   ]
  },
  {
   "cell_type": "markdown",
   "metadata": {},
   "source": [
    "<div class=\"alert alert-block alert-success\">\n",
    "<b>Успех:</b> Верно.\n",
    "</div>"
   ]
  },
  {
   "cell_type": "markdown",
   "metadata": {},
   "source": [
    "**Предобработка данных:**"
   ]
  },
  {
   "cell_type": "markdown",
   "metadata": {},
   "source": [
    "Заполняем пропуски в данных ближайшими значениями, а также в целевых столбцах:"
   ]
  },
  {
   "cell_type": "code",
   "execution_count": 20,
   "metadata": {},
   "outputs": [],
   "source": [
    "data_train=data_train.dropna(subset=['rougher.output.recovery','final.output.recovery'])\n",
    "data_full=data_full.dropna(subset=['rougher.output.recovery','final.output.recovery'])"
   ]
  },
  {
   "cell_type": "code",
   "execution_count": 21,
   "metadata": {},
   "outputs": [],
   "source": [
    "data_test = data_test.fillna(method='bfill')\n",
    "data_train = data_train.fillna(method='bfill')\n",
    "data_full = data_full.fillna(method='bfill')"
   ]
  },
  {
   "cell_type": "markdown",
   "metadata": {},
   "source": [
    "<div class=\"alert alert-block alert-success\">\n",
    "<b>Успех:</b> В данном случае это наиболее подходящий метод для заполнения пропусков.\n",
    "</div>"
   ]
  },
  {
   "cell_type": "markdown",
   "metadata": {},
   "source": [
    "Перенесем  по индексу значения столбцов rougher.output.recovery и final.output.recovery в тестовую выборки:"
   ]
  },
  {
   "cell_type": "code",
   "execution_count": 22,
   "metadata": {},
   "outputs": [],
   "source": [
    "merge_full = data_full[['date','rougher.output.recovery','final.output.recovery']]\n",
    "data_test = data_test.merge(merge_full, on='date', how='left')"
   ]
  },
  {
   "cell_type": "markdown",
   "metadata": {},
   "source": [
    "Также удалим из data_train столбцы, которых нет в тестовой выборке:"
   ]
  },
  {
   "cell_type": "code",
   "execution_count": 23,
   "metadata": {},
   "outputs": [],
   "source": [
    "data_train=data_train[data_test.columns]"
   ]
  },
  {
   "cell_type": "markdown",
   "metadata": {},
   "source": [
    "<div class=\"alert alert-block alert-success\">\n",
    "<b>Успех:</b> Радует, что merge проводился по дате!\n",
    "</div>"
   ]
  },
  {
   "cell_type": "markdown",
   "metadata": {},
   "source": [
    "Еще раз посмотрим на данные:"
   ]
  },
  {
   "cell_type": "code",
   "execution_count": 24,
   "metadata": {},
   "outputs": [
    {
     "name": "stdout",
     "output_type": "stream",
     "text": [
      "(14149, 55)\n",
      "(5290, 55)\n"
     ]
    }
   ],
   "source": [
    "print(data_train.shape)\n",
    "print(data_test.shape)"
   ]
  },
  {
   "cell_type": "code",
   "execution_count": 25,
   "metadata": {},
   "outputs": [
    {
     "name": "stdout",
     "output_type": "stream",
     "text": [
      "Количество пропусков в тестовой выборке:  0\n",
      "Количество пропусков в обучающей выборке:  0\n",
      "Количество пропусков в полной выборке:  0\n"
     ]
    }
   ],
   "source": [
    "print('Количество пропусков в тестовой выборке: ', data_test.isnull().sum().sum())\n",
    "print('Количество пропусков в обучающей выборке: ', data_train.isnull().sum().sum())\n",
    "print('Количество пропусков в полной выборке: ', data_full.isnull().sum().sum())"
   ]
  },
  {
   "cell_type": "markdown",
   "metadata": {},
   "source": [
    "**Вывод:**\n",
    "1. Открыты и изучены данные;\n",
    "2. Проведен расчет эффективности обогащения и получен MAE, сделано вывод, что эффективность обогащения рассчитана правильно;\n",
    "3. Проанализированы данные, отсутствующие в тестовой выборке. Отсутствующие данные касаются значений, которые получаются после проведения операций (output), то есть в реальности они и не могли быть в data_test(модель по прогнозу нужно построить);\n",
    "4. Дубликатов нет, обработаны пропуски;\n",
    "5. Целевые признаки: rougher.output.recovery,final.output.recovery"
   ]
  },
  {
   "cell_type": "markdown",
   "metadata": {},
   "source": [
    "<div class=\"alert alert-block alert-success\">\n",
    "<b>Успех:</b> Этот шаг был сделан хорошо!\n",
    "</div>"
   ]
  },
  {
   "cell_type": "markdown",
   "metadata": {},
   "source": [
    "## Анализ данных"
   ]
  },
  {
   "cell_type": "markdown",
   "metadata": {},
   "source": [
    "**Построим графики концентрации веществ на каждом этапе:**"
   ]
  },
  {
   "cell_type": "code",
   "execution_count": 26,
   "metadata": {},
   "outputs": [
    {
     "data": {
      "image/png": "[encoded data removed]",
      "text/plain": [
       "<Figure size 720x432 with 1 Axes>"
      ]
     },
     "metadata": {
      "needs_background": "light"
     },
     "output_type": "display_data"
    }
   ],
   "source": [
    "plt.figure(figsize=[10,6])\n",
    "    \n",
    "plt.hist(data_full['rougher.input.feed_au'], bins=100, label = 'Сырьё', alpha=.5)\n",
    "plt.hist(data_full['rougher.output.concentrate_au'], bins=100, label = 'Черновой этап', alpha=.5)\n",
    "plt.hist(data_full['primary_cleaner.output.concentrate_au'], bins=100, label = 'Первичный этап',\n",
    "         alpha=.5)\n",
    "plt.hist(data_full['final.output.concentrate_au'], bins=100, label = 'Финальный концентрат', alpha=.5)\n",
    "    \n",
    "    \n",
    "plt.xlim([0, 60])\n",
    "plt.ylim([0, 2000])\n",
    "    \n",
    "plt.xlabel('Концентрация золота на выходе на каждом этапе')\n",
    "plt.ylabel('Количество')\n",
    "    \n",
    "plt.legend(loc='upper left')\n",
    "    \n",
    "plt.title('Распределение концентрации золота', fontsize=15)\n",
    "plt.show()"
   ]
  },
  {
   "cell_type": "markdown",
   "metadata": {},
   "source": [
    "Коцентрация золота с каждым этапом повышается, то есть достигается цель флотации и очисток."
   ]
  },
  {
   "cell_type": "code",
   "execution_count": 27,
   "metadata": {},
   "outputs": [
    {
     "data": {
      "image/png": "[encoded data removed]",
      "text/plain": [
       "<Figure size 720x432 with 1 Axes>"
      ]
     },
     "metadata": {
      "needs_background": "light"
     },
     "output_type": "display_data"
    }
   ],
   "source": [
    "plt.figure(figsize=[10,6])\n",
    "    \n",
    "plt.hist(data_full['rougher.input.feed_ag'], bins=100, label = 'Сырьё', alpha=.5)\n",
    "plt.hist(data_full['rougher.output.concentrate_ag'], bins=100, label = 'Черновой этап', alpha=.5)\n",
    "plt.hist(data_full['primary_cleaner.output.concentrate_ag'], bins=100, label = 'Первичный этап',\n",
    "         alpha=.5)\n",
    "plt.hist(data_full['final.output.concentrate_ag'], bins=100, label = 'Финальный концентрат', alpha=.5)\n",
    "    \n",
    "    \n",
    "plt.xlim([0, 20])\n",
    "plt.ylim([0, 1000])\n",
    "    \n",
    "plt.xlabel('Концентрация серебра на выходе на каждом этапе')\n",
    "plt.ylabel('Количество')\n",
    "    \n",
    "plt.legend(loc='upper left')\n",
    "    \n",
    "plt.title('Распределение концентрации серебра', fontsize=15)\n",
    "plt.show()"
   ]
  },
  {
   "cell_type": "markdown",
   "metadata": {},
   "source": [
    "У серебра, в отличие от золота, концентрация с каждым этапом снижается. Логично, так как основная цель - получение золота, в то время как остальные металлы необходимо отфильтровать."
   ]
  },
  {
   "cell_type": "code",
   "execution_count": 28,
   "metadata": {},
   "outputs": [
    {
     "data": {
      "image/png": "[encoded data removed]",
      "text/plain": [
       "<Figure size 720x432 with 1 Axes>"
      ]
     },
     "metadata": {
      "needs_background": "light"
     },
     "output_type": "display_data"
    }
   ],
   "source": [
    "plt.figure(figsize=[10,6])\n",
    "    \n",
    "plt.hist(data_full['rougher.input.feed_pb'], bins=100, label = 'Сырьё', alpha=.5)\n",
    "plt.hist(data_full['rougher.output.concentrate_pb'], bins=100, label = 'Черновой этап', alpha=.5)\n",
    "plt.hist(data_full['primary_cleaner.output.concentrate_pb'], bins=100, label = 'Первичный этап',\n",
    "         alpha=.5)\n",
    "plt.hist(data_full['final.output.concentrate_pb'], bins=100, label = 'Финальный концентрат', alpha=.5)\n",
    "    \n",
    "    \n",
    "plt.xlim([0, 20])\n",
    "plt.ylim([0, 1000])\n",
    "    \n",
    "plt.xlabel('Концентрация свинца на выходе на каждом этапе')\n",
    "plt.ylabel('Количество ')\n",
    "    \n",
    "plt.legend(loc='upper left')\n",
    "    \n",
    "plt.title('Распределение концентрации свинца')\n",
    "plt.show()"
   ]
  },
  {
   "cell_type": "markdown",
   "metadata": {},
   "source": [
    "Свинец занимает промежуточное положение, уведичивается содержание при первичной обработки. Возможно, это связано с процессом очищения золота на данном этапе, когда используются соединения свинца для химической реакции."
   ]
  },
  {
   "cell_type": "markdown",
   "metadata": {},
   "source": [
    "**Построим графики для каждого этапа:**"
   ]
  },
  {
   "cell_type": "code",
   "execution_count": 29,
   "metadata": {},
   "outputs": [
    {
     "data": {
      "image/png": "[encoded data removed]",
      "text/plain": [
       "<Figure size 720x432 with 1 Axes>"
      ]
     },
     "metadata": {
      "needs_background": "light"
     },
     "output_type": "display_data"
    }
   ],
   "source": [
    "plt.figure(figsize=[10,6])\n",
    "    \n",
    "plt.hist(data_full['rougher.input.feed_au'], bins=100, label = 'Золото', alpha=.5)\n",
    "plt.hist(data_full['rougher.input.feed_ag'], bins=100, label = 'Серебро', alpha=.5)\n",
    "plt.hist(data_full['rougher.input.feed_pb'], bins=100, label = 'Свинец',alpha=.5)\n",
    "\n",
    "    \n",
    "plt.xlim([0, 50])\n",
    "plt.ylim([0, 1000])\n",
    "    \n",
    "plt.xlabel('Концентрация')\n",
    "plt.ylabel('Количество результатов')\n",
    "    \n",
    "plt.legend(loc='upper left')\n",
    "    \n",
    "plt.title('Сырье', fontsize=15)\n",
    "plt.show()"
   ]
  },
  {
   "cell_type": "code",
   "execution_count": 30,
   "metadata": {},
   "outputs": [
    {
     "data": {
      "image/png": "[encoded data removed]",
      "text/plain": [
       "<Figure size 720x432 with 1 Axes>"
      ]
     },
     "metadata": {
      "needs_background": "light"
     },
     "output_type": "display_data"
    }
   ],
   "source": [
    "plt.figure(figsize=[10,6])\n",
    "    \n",
    "plt.hist(data_full['rougher.output.concentrate_ag'], bins=100, label = 'Золото', alpha=.5)\n",
    "plt.hist(data_full['rougher.output.concentrate_au'], bins=100, label = 'Серебро', alpha=.5)\n",
    "plt.hist(data_full['rougher.output.concentrate_pb'], bins=100, label = 'Свинец',\n",
    "         alpha=.5)\n",
    "\n",
    "    \n",
    "plt.xlim([0, 50])\n",
    "plt.ylim([0, 2000])\n",
    "    \n",
    "plt.xlabel('Концентрация')\n",
    "plt.ylabel('Количество результатов')\n",
    "    \n",
    "plt.legend(loc='upper left')\n",
    "    \n",
    "plt.title('Черновой этап', fontsize=15)\n",
    "plt.show()"
   ]
  },
  {
   "cell_type": "code",
   "execution_count": 31,
   "metadata": {},
   "outputs": [
    {
     "data": {
      "image/png": "[encoded data removed]",
      "text/plain": [
       "<Figure size 720x432 with 1 Axes>"
      ]
     },
     "metadata": {
      "needs_background": "light"
     },
     "output_type": "display_data"
    }
   ],
   "source": [
    "plt.figure(figsize=[10,6])\n",
    "    \n",
    "plt.hist(data_full['primary_cleaner.output.concentrate_ag'], bins=100, label = 'Золото', alpha=.5)\n",
    "plt.hist(data_full['primary_cleaner.output.concentrate_au'], bins=100, label = 'Серебро', alpha=.5)\n",
    "plt.hist(data_full['primary_cleaner.output.concentrate_pb'], bins=100, label = 'Свинец', alpha=.5)\n",
    "\n",
    "    \n",
    "plt.xlim([0, 50])\n",
    "plt.ylim([0, 2000])\n",
    "    \n",
    "plt.xlabel('Концентрация')\n",
    "plt.ylabel('Количество результатов')\n",
    "    \n",
    "plt.legend(loc='upper left')\n",
    "    \n",
    "plt.title('Первичный этап', fontsize=15)\n",
    "plt.show()"
   ]
  },
  {
   "cell_type": "code",
   "execution_count": 32,
   "metadata": {},
   "outputs": [
    {
     "data": {
      "image/png": "[encoded data removed]",
      "text/plain": [
       "<Figure size 720x432 with 1 Axes>"
      ]
     },
     "metadata": {
      "needs_background": "light"
     },
     "output_type": "display_data"
    }
   ],
   "source": [
    "plt.figure(figsize=[10,6])\n",
    "    \n",
    "plt.hist(data_full['final.output.concentrate_ag'], bins=100, label = 'Золото', alpha=.5)\n",
    "plt.hist(data_full['final.output.concentrate_au'], bins=100, label = 'Серебро', alpha=.5)\n",
    "plt.hist(data_full['final.output.concentrate_pb'], bins=100, label = 'Свинец', alpha=.5)\n",
    "\n",
    "    \n",
    "plt.xlim([0, 50])\n",
    "plt.ylim([0, 2000])\n",
    "    \n",
    "plt.xlabel('Концентрация')\n",
    "plt.ylabel('Количество результатов')\n",
    "    \n",
    "plt.legend(loc='upper left')\n",
    "    \n",
    "plt.title('Финальный концентрат', fontsize=15)\n",
    "plt.show()"
   ]
  },
  {
   "cell_type": "markdown",
   "metadata": {},
   "source": [
    "В целом, результаты совпадают с гистограммами для веществ по отдельности. Видно увеличение концентрации золота, а также снижение для серебра и свинца."
   ]
  },
  {
   "cell_type": "markdown",
   "metadata": {},
   "source": [
    "<div class=\"alert alert-block alert-success\">\n",
    "<b>Успех:</b> Отличная визуализация!\n",
    "</div>"
   ]
  },
  {
   "cell_type": "markdown",
   "metadata": {},
   "source": [
    "**Рассмотрим распределение размеров гранул сырья на обучающей и тестовой выборках.**"
   ]
  },
  {
   "cell_type": "code",
   "execution_count": 33,
   "metadata": {},
   "outputs": [
    {
     "data": {
      "image/png": "[encoded data removed]",
      "text/plain": [
       "<Figure size 1080x360 with 1 Axes>"
      ]
     },
     "metadata": {
      "needs_background": "light"
     },
     "output_type": "display_data"
    }
   ],
   "source": [
    "plt.figure(figsize=(15, 5))\n",
    "sns.kdeplot(data_train['rougher.input.feed_size'], alpha=0.5, shade=True)\n",
    "sns.kdeplot(data_test['rougher.input.feed_size'], alpha=0.5, shade=True)\n",
    "plt.xlim([0, 150])\n",
    "plt.xlabel('Значения')\n",
    "plt.ylabel('Плотность вероятности непрерывной величины')\n",
    "plt.legend(['Обучающая выборка','Тестовая выборка'], loc='upper left')\n",
    "plt.title('Распределения размеров гранул сырья до флотации', fontsize=15)\n",
    "plt.show()\n"
   ]
  },
  {
   "cell_type": "code",
   "execution_count": 34,
   "metadata": {},
   "outputs": [
    {
     "data": {
      "image/png": "[encoded data removed]",
      "text/plain": [
       "<Figure size 1080x360 with 1 Axes>"
      ]
     },
     "metadata": {
      "needs_background": "light"
     },
     "output_type": "display_data"
    }
   ],
   "source": [
    "plt.figure(figsize=(15, 5))\n",
    "sns.kdeplot(data_train['primary_cleaner.input.feed_size'], alpha=0.5, shade=True)\n",
    "sns.kdeplot(data_test['primary_cleaner.input.feed_size'], alpha=0.5, shade=True)\n",
    "plt.xlim([4, 10])\n",
    "plt.xlabel('Значения')\n",
    "plt.ylabel('Плотность вероятности')\n",
    "plt.legend(['Обучающая выборка','Тестовая выборка'], loc='upper left')\n",
    "plt.title('Распределения размеров гранул сырья перед первичной очисткой', fontsize=15)\n",
    "\n",
    "plt.show()"
   ]
  },
  {
   "cell_type": "markdown",
   "metadata": {},
   "source": [
    "Распределение гранул похоже нормальное и почти совпадают. Прослеживаются выбросы до флотации в размерах гранул свыше 100."
   ]
  },
  {
   "cell_type": "markdown",
   "metadata": {},
   "source": [
    "<div class=\"alert alert-block alert-success\">\n",
    "<b>Успех:</b> Хорошо, что в этом шаге ты перешел к долям!\n",
    "</div>"
   ]
  },
  {
   "cell_type": "markdown",
   "metadata": {},
   "source": [
    "**Исследуем суммарную концентрацию всех веществ на разных стадиях: в сырье, в черновом и финальном концентратах:**"
   ]
  },
  {
   "cell_type": "code",
   "execution_count": 35,
   "metadata": {},
   "outputs": [],
   "source": [
    "def sum_сon(data,concentrat_ag,concentrat_au,concentrat_pb,concentrat_sol):\n",
    "    ag=data[concentrat_ag]\n",
    "    au=data[concentrat_au]\n",
    "    pb=data[concentrat_pb]\n",
    "    sol=data[concentrat_sol]\n",
    "    sum_things =ag+au+pb+sol\n",
    "    \n",
    "    plt.figure(figsize=(14,6))\n",
    "    sum_things.plot.hist(bins=100)\n",
    "    plt.title('Cуммарная концентрация')\n",
    "    plt.xlabel('Значения')\n",
    "    plt.ylabel('Количество')\n",
    "    plt.grid(True)\n",
    "    plt.show()"
   ]
  },
  {
   "cell_type": "markdown",
   "metadata": {},
   "source": [
    "**В сырье:**"
   ]
  },
  {
   "cell_type": "code",
   "execution_count": 36,
   "metadata": {},
   "outputs": [
    {
     "data": {
      "image/png": "[encoded data removed]",
      "text/plain": [
       "<Figure size 1008x432 with 1 Axes>"
      ]
     },
     "metadata": {
      "needs_background": "light"
     },
     "output_type": "display_data"
    }
   ],
   "source": [
    "sum_сon(data_full,'rougher.input.feed_ag','rougher.input.feed_au','rougher.input.feed_pb','rougher.input.feed_sol')"
   ]
  },
  {
   "cell_type": "markdown",
   "metadata": {},
   "source": [
    "**В черновом концентрате:**"
   ]
  },
  {
   "cell_type": "code",
   "execution_count": 37,
   "metadata": {},
   "outputs": [
    {
     "data": {
      "image/png": "[encoded data removed]",
      "text/plain": [
       "<Figure size 1008x432 with 1 Axes>"
      ]
     },
     "metadata": {
      "needs_background": "light"
     },
     "output_type": "display_data"
    }
   ],
   "source": [
    "sum_сon(data_full,'rougher.output.concentrate_ag','rougher.output.concentrate_au','rougher.output.concentrate_pb','rougher.output.concentrate_sol')"
   ]
  },
  {
   "cell_type": "markdown",
   "metadata": {},
   "source": [
    "**В финальном концентрате:**"
   ]
  },
  {
   "cell_type": "code",
   "execution_count": 38,
   "metadata": {},
   "outputs": [
    {
     "data": {
      "image/png": "[encoded data removed]",
      "text/plain": [
       "<Figure size 1008x432 with 1 Axes>"
      ]
     },
     "metadata": {
      "needs_background": "light"
     },
     "output_type": "display_data"
    }
   ],
   "source": [
    "sum_сon(data_full,'final.output.concentrate_ag','final.output.concentrate_au','final.output.concentrate_pb','final.output.concentrate_sol')"
   ]
  },
  {
   "cell_type": "markdown",
   "metadata": {},
   "source": [
    "В целом, суммарная концентраци на этапах обработки имеет нормальное распределение. Однако также присутствуют аномалии в размере 0.\n",
    "\n",
    "Добавим полученные данные в выборки:"
   ]
  },
  {
   "cell_type": "code",
   "execution_count": 39,
   "metadata": {},
   "outputs": [],
   "source": [
    "def sum_plus(data,concentrat_ag,concentrat_au,concentrat_pb,concentrat_sol):\n",
    "    ag=data[concentrat_ag]\n",
    "    au=data[concentrat_au]\n",
    "    pb=data[concentrat_pb]\n",
    "    sol=data[concentrat_sol]\n",
    "    sum_things=ag+au+pb+sol\n",
    "    data = sum_things\n",
    "    return data"
   ]
  },
  {
   "cell_type": "code",
   "execution_count": 40,
   "metadata": {},
   "outputs": [],
   "source": [
    "data_full['sum_concentration'] = sum_plus(data_full,'final.output.concentrate_ag','final.output.concentrate_au','final.output.concentrate_pb','final.output.concentrate_sol')"
   ]
  },
  {
   "cell_type": "code",
   "execution_count": 41,
   "metadata": {},
   "outputs": [],
   "source": [
    "data_merge=data_full[['date','sum_concentration']]\n",
    "data_train = data_train.merge(data_merge, on='date', how='left')\n",
    "data_test = data_test.merge(data_merge, on='date', how='left')"
   ]
  },
  {
   "cell_type": "markdown",
   "metadata": {},
   "source": [
    "Также удалим обнаруженные аномалии. Судя по гистограммам, пороговым значением сделаем 50:"
   ]
  },
  {
   "cell_type": "code",
   "execution_count": 42,
   "metadata": {},
   "outputs": [],
   "source": [
    "def con_clean(data,sum_concentrat,threshold):\n",
    "    data=data[data[sum_concentrat] > threshold]\n",
    "    print(data[sum_concentrat].describe())\n",
    "    return data"
   ]
  },
  {
   "cell_type": "code",
   "execution_count": 43,
   "metadata": {
    "scrolled": true
   },
   "outputs": [
    {
     "name": "stdout",
     "output_type": "stream",
     "text": [
      "count    19033.000000\n",
      "mean        69.557791\n",
      "std          3.293078\n",
      "min         50.098603\n",
      "25%         68.063144\n",
      "50%         69.667046\n",
      "75%         71.408985\n",
      "max         80.210644\n",
      "Name: sum_concentration, dtype: float64\n"
     ]
    }
   ],
   "source": [
    "data_full = con_clean(data_full,'sum_concentration', 50)"
   ]
  },
  {
   "cell_type": "code",
   "execution_count": 44,
   "metadata": {
    "scrolled": true
   },
   "outputs": [
    {
     "name": "stdout",
     "output_type": "stream",
     "text": [
      "count    13896.000000\n",
      "mean        69.171068\n",
      "std          3.335674\n",
      "min         50.098603\n",
      "25%         67.680674\n",
      "50%         69.194361\n",
      "75%         71.020673\n",
      "max         80.210644\n",
      "Name: sum_concentration, dtype: float64\n"
     ]
    }
   ],
   "source": [
    "data_train = con_clean(data_train,'sum_concentration', 50)"
   ]
  },
  {
   "cell_type": "code",
   "execution_count": 45,
   "metadata": {
    "scrolled": true
   },
   "outputs": [
    {
     "name": "stdout",
     "output_type": "stream",
     "text": [
      "count    5137.000000\n",
      "mean       70.603908\n",
      "std         2.929738\n",
      "min        50.337818\n",
      "25%        69.456337\n",
      "50%        70.762467\n",
      "75%        72.110374\n",
      "max        79.977670\n",
      "Name: sum_concentration, dtype: float64\n"
     ]
    }
   ],
   "source": [
    "data_test = con_clean(data_test,'sum_concentration', 50)"
   ]
  },
  {
   "cell_type": "markdown",
   "metadata": {},
   "source": [
    "Также удаляем столбцы из обучающей и тестовой выборок: "
   ]
  },
  {
   "cell_type": "code",
   "execution_count": 46,
   "metadata": {},
   "outputs": [],
   "source": [
    "data_train = data_train.drop(['sum_concentration'], axis=1)\n",
    "data_test = data_test.drop(['sum_concentration'], axis=1)"
   ]
  },
  {
   "cell_type": "markdown",
   "metadata": {},
   "source": [
    "Осталось рассмотреть целевые признаки, удалить аномальные значения:"
   ]
  },
  {
   "cell_type": "code",
   "execution_count": 47,
   "metadata": {},
   "outputs": [
    {
     "data": {
      "image/png": "[encoded data removed]",
      "text/plain": [
       "<Figure size 1080x360 with 1 Axes>"
      ]
     },
     "metadata": {
      "needs_background": "light"
     },
     "output_type": "display_data"
    }
   ],
   "source": [
    "plt.figure(figsize=(15, 5))\n",
    "sns.kdeplot(data_full['final.output.recovery'], alpha=0.5, shade=True)\n",
    "sns.kdeplot(data_test['rougher.output.recovery'], alpha=0.5, shade=True)\n",
    "plt.xlim([20, 150])\n",
    "plt.xlabel('Концентрация')\n",
    "plt.ylabel('Количество')\n",
    "plt.legend(['final.output.recovery','rougher.output.recovery'], loc='upper left')\n",
    "plt.title('Концентрация в целевых признаках', fontsize=15)\n",
    "\n",
    "plt.show()"
   ]
  },
  {
   "cell_type": "markdown",
   "metadata": {},
   "source": [
    "Удалим также аномалии. Установим следующие пороговые концентрации:\n",
    "1. Для rougher.output.recovery 60;\n",
    "2. Для final.output.recovery 40."
   ]
  },
  {
   "cell_type": "code",
   "execution_count": 48,
   "metadata": {},
   "outputs": [
    {
     "name": "stdout",
     "output_type": "stream",
     "text": [
      "count    18516.000000\n",
      "mean        85.479666\n",
      "std          6.601077\n",
      "min         60.044710\n",
      "25%         81.693699\n",
      "50%         86.510312\n",
      "75%         90.173024\n",
      "max        100.000000\n",
      "Name: rougher.output.recovery, dtype: float64\n"
     ]
    }
   ],
   "source": [
    "data_full = con_clean(data_full,'rougher.output.recovery', 60)"
   ]
  },
  {
   "cell_type": "code",
   "execution_count": 49,
   "metadata": {},
   "outputs": [
    {
     "name": "stdout",
     "output_type": "stream",
     "text": [
      "count    18371.000000\n",
      "mean        67.941659\n",
      "std          7.682910\n",
      "min         40.092124\n",
      "25%         63.837525\n",
      "50%         68.398897\n",
      "75%         72.779553\n",
      "max        100.000000\n",
      "Name: final.output.recovery, dtype: float64\n"
     ]
    }
   ],
   "source": [
    "data_full = con_clean(data_full,'final.output.recovery', 40)"
   ]
  },
  {
   "cell_type": "markdown",
   "metadata": {},
   "source": [
    "Аналогичную операцию проделаем для обучающей и тестовой выборок:"
   ]
  },
  {
   "cell_type": "code",
   "execution_count": 50,
   "metadata": {},
   "outputs": [],
   "source": [
    "def con_clean1(data,c1,c2,t1,t2):\n",
    "    data=data[data[c1] > t1]\n",
    "    data=data[data[c2] > t2]\n",
    "    return data"
   ]
  },
  {
   "cell_type": "code",
   "execution_count": 51,
   "metadata": {},
   "outputs": [],
   "source": [
    "data_train = con_clean1(data_train,'rougher.output.recovery','final.output.recovery',60,40)\n",
    "data_test = con_clean1(data_test,'rougher.output.recovery','final.output.recovery',60,40)"
   ]
  },
  {
   "cell_type": "markdown",
   "metadata": {},
   "source": [
    "**Вывод:**\n",
    "1. Были изучены концентрации веществ на разных этапах очистки, размеры гранул и суммарная концентрация, построены для них графики;\n",
    "2. Выяснено, что концентрация золота увеличивается с каждым этапом обработки (кроме отвала); \n",
    "2. Удалены аномалии в данных, подготовлены данные для прогнозирования."
   ]
  },
  {
   "cell_type": "markdown",
   "metadata": {},
   "source": [
    "<div class=\"alert alert-block alert-success\">\n",
    "<b>Успех:</b> Отлично, что аномалии ыбли удалены по суммарной концетрации.\n",
    "</div>\n",
    "\n",
    "<div class=\"alert alert-block alert-info\">\n",
    "<b>Совет: </b> А вот по целевой колонке не стоит удалять аномалии, так как нет доказательства, что это ошибки\n",
    "</div>"
   ]
  },
  {
   "cell_type": "markdown",
   "metadata": {},
   "source": [
    "## Модель"
   ]
  },
  {
   "cell_type": "markdown",
   "metadata": {},
   "source": [
    "Перед обучением моделей выделим целевые признаки, присвоим их переменные для каждой из выборок, а также проведем масштабирование данных для качественного обучения моделей **на обучающей выборке:**"
   ]
  },
  {
   "cell_type": "code",
   "execution_count": 52,
   "metadata": {},
   "outputs": [],
   "source": [
    "data_train=data_train.drop('date',axis=1)\n",
    "train_features = data_train.drop(['rougher.output.recovery','final.output.recovery'], axis=1)\n",
    "train_target_r = data_train['rougher.output.recovery']\n",
    "train_target_f = data_train['final.output.recovery']"
   ]
  },
  {
   "cell_type": "code",
   "execution_count": 53,
   "metadata": {},
   "outputs": [],
   "source": [
    "numeric = train_features.columns\n",
    "scaler_rougher = StandardScaler()\n",
    "scaler_rougher.fit(train_features[numeric]) \n",
    "train_features[numeric] = scaler_rougher.transform(train_features[numeric])"
   ]
  },
  {
   "cell_type": "markdown",
   "metadata": {},
   "source": [
    "Аналогично сделаем с **тестовой выборкой:**"
   ]
  },
  {
   "cell_type": "code",
   "execution_count": 54,
   "metadata": {},
   "outputs": [],
   "source": [
    "data_test=data_test.drop('date',axis=1)\n",
    "test_features = data_test.drop(['rougher.output.recovery','final.output.recovery'], axis=1)\n",
    "test_target_r = data_test['rougher.output.recovery']\n",
    "test_target_f = data_test['final.output.recovery']"
   ]
  },
  {
   "cell_type": "code",
   "execution_count": 55,
   "metadata": {},
   "outputs": [],
   "source": [
    "numeric1 = test_features.columns\n",
    "\n",
    "test_features[numeric] = scaler_rougher.transform(test_features[numeric1])"
   ]
  },
  {
   "cell_type": "markdown",
   "metadata": {},
   "source": [
    "Напишем функцию для вычисления **итоговой sMAPE.**"
   ]
  },
  {
   "cell_type": "code",
   "execution_count": 56,
   "metadata": {},
   "outputs": [],
   "source": [
    "def smape(y_true, y_pred):\n",
    "    smape_score = np.mean(abs(y_true - y_pred)/((abs(y_true)+abs(y_pred))/2))*100*(-1)\n",
    "    return smape_score"
   ]
  },
  {
   "cell_type": "code",
   "execution_count": 57,
   "metadata": {},
   "outputs": [],
   "source": [
    "def final_smape(smape_rougher, smape_final):\n",
    "    return (0.25*smape_rougher + 0.75*smape_final).round(2)"
   ]
  },
  {
   "cell_type": "markdown",
   "metadata": {},
   "source": [
    "Создадим модели для ougher.output.recovery и final.output.recovery, посмотрим на результаты:"
   ]
  },
  {
   "cell_type": "code",
   "execution_count": 58,
   "metadata": {},
   "outputs": [
    {
     "data": {
      "text/plain": [
       "7.25"
      ]
     },
     "execution_count": 58,
     "metadata": {},
     "output_type": "execute_result"
    }
   ],
   "source": [
    "model_const_r=DummyRegressor(strategy=\"median\")\n",
    "model_const_r.fit(train_features,train_target_r)\n",
    "predict_const_model_r=cross_val_score(model_const_r,train_features,train_target_r, cv=5, scoring=make_scorer(smape, greater_is_better=False)).mean()\n",
    "predict_const_model_r.round(2)"
   ]
  },
  {
   "cell_type": "code",
   "execution_count": 59,
   "metadata": {},
   "outputs": [
    {
     "data": {
      "text/plain": [
       "9.24"
      ]
     },
     "execution_count": 59,
     "metadata": {},
     "output_type": "execute_result"
    }
   ],
   "source": [
    "model_const_f=DummyRegressor(strategy=\"median\")\n",
    "model_const_f.fit(train_features,train_target_f)\n",
    "\n",
    "predict_const_model_f =cross_val_score(model_const_f,train_features,train_target_f, cv=5, scoring=make_scorer(smape, greater_is_better=False)).mean()\n",
    "predict_const_model_f.round(2)"
   ]
  },
  {
   "cell_type": "code",
   "execution_count": 60,
   "metadata": {
    "scrolled": true
   },
   "outputs": [
    {
     "name": "stdout",
     "output_type": "stream",
     "text": [
      "Итоговое значение sMAPE:  8.74\n"
     ]
    }
   ],
   "source": [
    "const_model_smape = final_smape(predict_const_model_r,predict_const_model_f)\n",
    "print('Итоговое значение sMAPE: ', const_model_smape)"
   ]
  },
  {
   "cell_type": "markdown",
   "metadata": {},
   "source": [
    "Цель для достижения определена, можно переходить к моделям.\n",
    "\n",
    "\n",
    "\n",
    "**Дерево решений:**"
   ]
  },
  {
   "cell_type": "code",
   "execution_count": 61,
   "metadata": {},
   "outputs": [],
   "source": [
    "def cross_v(model):\n",
    "    score_val = (cross_val_score(model, train_features, train_target_r, cv=5, scoring=make_scorer(smape, greater_is_better=True))).mean() \n",
    "    print('Cреднее значение sMAPE для rougher: ',-1*score_val.round(2))\n",
    "\n",
    "    \n",
    "    score_val_f = (cross_val_score(model, train_features, train_target_f, cv=5, scoring=make_scorer(smape, greater_is_better=True))).mean() \n",
    "    print('Cреднее значение sMAPE для final: ',-1*score_val_f.round(2))\n",
    "\n",
    "    fin_score_smape= final_smape(score_val,score_val_f)\n",
    "    print('Итоговое sMAPE модели на кросс-валидации: ',-1*fin_score_smape.round(2)) "
   ]
  },
  {
   "cell_type": "code",
   "execution_count": 62,
   "metadata": {},
   "outputs": [
    {
     "name": "stdout",
     "output_type": "stream",
     "text": [
      "Cреднее значение sMAPE для rougher:  8.59\n",
      "Cреднее значение sMAPE для final:  13.66\n",
      "Итоговое sMAPE модели на кросс-валидации:  12.39\n",
      "CPU times: user 7.54 s, sys: 0 ns, total: 7.54 s\n",
      "Wall time: 7.56 s\n"
     ]
    }
   ],
   "source": [
    "%%time\n",
    "cross_v(DecisionTreeRegressor(random_state=12345))"
   ]
  },
  {
   "cell_type": "markdown",
   "metadata": {},
   "source": [
    "С помощью цикла подберем оптимальное количество деревьев:\n",
    "\n",
    "Для признака rougher.output.recovery"
   ]
  },
  {
   "cell_type": "code",
   "execution_count": 63,
   "metadata": {
    "scrolled": true
   },
   "outputs": [
    {
     "data": {
      "application/vnd.jupyter.widget-view+json": {
       "model_id": "79a6ee8120bf456587fa264b5d3d1db2",
       "version_major": 2,
       "version_minor": 0
      },
      "text/plain": [
       "  0%|          | 0/14 [00:00<?, ?it/s]"
      ]
     },
     "metadata": {},
     "output_type": "display_data"
    },
    {
     "name": "stdout",
     "output_type": "stream",
     "text": [
      "Значение sMAPE  модели для rougher.output.recovery:  6.81 \n",
      "Количество деревьев: 2\n",
      "CPU times: user 23.6 s, sys: 58.8 ms, total: 23.7 s\n",
      "Wall time: 23.7 s\n"
     ]
    }
   ],
   "source": [
    "%%time\n",
    "best_model = None\n",
    "best_result_r = 100\n",
    "best_depth = 0\n",
    "for depth in tqdm(range(1,15)):\n",
    "    model_dr = DecisionTreeRegressor(random_state=12345, max_depth=depth)\n",
    "    result = cross_val_score(model_dr,train_features,train_target_r, cv=5, scoring=make_scorer(smape, greater_is_better=False)).mean()\n",
    "    if result < best_result_r:\n",
    "        best_model = model_dr\n",
    "        best_result_r = result.round(2)\n",
    "        best_depth = depth\n",
    "\n",
    "print('Значение sMAPE  модели для rougher.output.recovery: ', best_result_r, '\\nКоличество деревьев:', best_depth)"
   ]
  },
  {
   "cell_type": "markdown",
   "metadata": {},
   "source": [
    "Для final.output.recovery:"
   ]
  },
  {
   "cell_type": "code",
   "execution_count": 64,
   "metadata": {},
   "outputs": [
    {
     "data": {
      "application/vnd.jupyter.widget-view+json": {
       "model_id": "61f330625d7b4e4b90036bb820ef94a5",
       "version_major": 2,
       "version_minor": 0
      },
      "text/plain": [
       "  0%|          | 0/14 [00:00<?, ?it/s]"
      ]
     },
     "metadata": {},
     "output_type": "display_data"
    },
    {
     "name": "stdout",
     "output_type": "stream",
     "text": [
      "Значение sMAPE  модели для final.output.recovery:  8.16 \n",
      "Количество деревьев: 4\n",
      "CPU times: user 24 s, sys: 78.4 ms, total: 24.1 s\n",
      "Wall time: 24.2 s\n"
     ]
    }
   ],
   "source": [
    "%%time\n",
    "best_model = None\n",
    "best_result_f = 100\n",
    "best_depth_f = 0\n",
    "for depth in tqdm(range(1, 15)):\n",
    "    model_d = DecisionTreeRegressor(random_state=12345, max_depth=depth)\n",
    "  \n",
    "    result = cross_val_score(model_d, train_features, train_target_f, cv=5, scoring=make_scorer(smape, greater_is_better=False)).mean()\n",
    "    if result < best_result_f:\n",
    "        best_model = model_d\n",
    "        best_result_f = result.round(2)\n",
    "        best_depth_f = depth\n",
    "\n",
    "print('Значение sMAPE  модели для final.output.recovery: ', best_result_f, \"\\nКоличество деревьев:\", best_depth_f)\n"
   ]
  },
  {
   "cell_type": "markdown",
   "metadata": {},
   "source": [
    "Итоговый sMAPE Дерева решений:"
   ]
  },
  {
   "cell_type": "code",
   "execution_count": 65,
   "metadata": {},
   "outputs": [
    {
     "name": "stdout",
     "output_type": "stream",
     "text": [
      "7.82\n"
     ]
    }
   ],
   "source": [
    "fin_score_dtf = final_smape(best_result_r,best_result_f)\n",
    "print(fin_score_dtf)"
   ]
  },
  {
   "cell_type": "markdown",
   "metadata": {},
   "source": [
    "Также подберем параметры для дерева решений с помощью GridSearchCV.\n",
    "\n",
    "Для  rougher.output.recovery:"
   ]
  },
  {
   "cell_type": "code",
   "execution_count": 66,
   "metadata": {},
   "outputs": [
    {
     "name": "stdout",
     "output_type": "stream",
     "text": [
      "Значение sMAPE для rougher.output.recovery: 8.66 \n",
      "Максимальная глубина: 12\n",
      "CPU times: user 24.2 s, sys: 103 ms, total: 24.3 s\n",
      "Wall time: 24.3 s\n"
     ]
    }
   ],
   "source": [
    "%%time\n",
    "parametrs_r = { 'max_depth': range (1,15) }\n",
    "model_d = DecisionTreeRegressor(random_state=12345)  \n",
    "grid_r = GridSearchCV(model_d, parametrs_r, cv=5, scoring=make_scorer(smape, greater_is_better=False))\n",
    "grid_r.fit(train_features, train_target_r)\n",
    "best_score_r = grid_r.best_score_\n",
    "parametrs_r_gs = pd.Series(grid_r.best_params_)[0]\n",
    "print('Значение sMAPE для rougher.output.recovery: {:.2f}'.format(best_score_r), '\\nМаксимальная глубина:',parametrs_r_gs)"
   ]
  },
  {
   "cell_type": "markdown",
   "metadata": {},
   "source": [
    "Для final.output.recovery:"
   ]
  },
  {
   "cell_type": "code",
   "execution_count": 67,
   "metadata": {},
   "outputs": [
    {
     "name": "stdout",
     "output_type": "stream",
     "text": [
      "Значение sMAPE для final.output.recovery: 13.46 \n",
      "Максимальная глубина: 14\n",
      "CPU times: user 25.1 s, sys: 31.5 ms, total: 25.1 s\n",
      "Wall time: 25.3 s\n"
     ]
    }
   ],
   "source": [
    "%%time\n",
    "parametrs_f = {'max_depth': range (1,15)}\n",
    "model_df = DecisionTreeRegressor(random_state=12345)         \n",
    "grid_r = GridSearchCV(model_df, parametrs_f, cv=5, scoring=make_scorer(smape, greater_is_better=False))\n",
    "grid_r.fit(train_features, train_target_f)\n",
    "parametrs_f_gs=pd.Series(grid_r.best_params_)[0]\n",
    "best_score_f = grid_r.best_score_\n",
    "print('Значение sMAPE для final.output.recovery: {:.2f}'.format(best_score_f), '\\nМаксимальная глубина:',parametrs_f_gs)"
   ]
  },
  {
   "cell_type": "markdown",
   "metadata": {},
   "source": [
    "Итоговый sMAPE для дерева решений с помощью GridSearchCV:"
   ]
  },
  {
   "cell_type": "code",
   "execution_count": 68,
   "metadata": {},
   "outputs": [
    {
     "name": "stdout",
     "output_type": "stream",
     "text": [
      "12.26\n"
     ]
    }
   ],
   "source": [
    "fin_score_dt= final_smape(best_score_r,best_score_f)\n",
    "print(fin_score_dt) "
   ]
  },
  {
   "cell_type": "markdown",
   "metadata": {},
   "source": [
    "Перейдем к **Случайному лесу.**\n",
    "\n",
    "\n",
    "Проделаем аналогичную кросс-валидацию, а также подберем параметры с помощью  GridSearchCV."
   ]
  },
  {
   "cell_type": "code",
   "execution_count": 69,
   "metadata": {},
   "outputs": [
    {
     "name": "stdout",
     "output_type": "stream",
     "text": [
      "Cреднее значение sMAPE для rougher:  6.32\n",
      "Cреднее значение sMAPE для final:  8.3\n",
      "Итоговое sMAPE модели на кросс-валидации:  7.8\n"
     ]
    }
   ],
   "source": [
    "cross_v(RandomForestRegressor(random_state=12345))"
   ]
  },
  {
   "cell_type": "markdown",
   "metadata": {},
   "source": [
    "Также подберем параметры с помощью GridSearchCV.\n",
    "\n",
    "Для rougher.output.recovery:"
   ]
  },
  {
   "cell_type": "code",
   "execution_count": 70,
   "metadata": {},
   "outputs": [
    {
     "name": "stdout",
     "output_type": "stream",
     "text": [
      "Значение sMAPE для rougher.output.recovery: -8.35 \n",
      "Максимальная глубина: 9 \n",
      "Количество деревьев: 1\n",
      "CPU times: user 2min 46s, sys: 448 ms, total: 2min 46s\n",
      "Wall time: 2min 47s\n"
     ]
    }
   ],
   "source": [
    "%%time\n",
    "parametrs = { 'n_estimators': range (1, 10, 2),\n",
    "              'max_depth': range (1, 15, 2)}\n",
    "model_rf = RandomForestRegressor(random_state=12345)\n",
    "grid_rf = GridSearchCV(model_rf, parametrs, cv=5, scoring=make_scorer(smape, greater_is_better=False))\n",
    "grid_rf.fit(train_features, train_target_r)\n",
    "\n",
    "best_score_rf = -1*grid_rf.best_score_\n",
    "\n",
    "parametrs_r_gs_d=pd.Series(grid_rf.best_params_)[0]\n",
    "parametrs_r_gs_n=pd.Series(grid_rf.best_params_)[1]\n",
    "print('Значение sMAPE для rougher.output.recovery: {:.2f}'. format(best_score_rf), '\\nМаксимальная глубина:',parametrs_r_gs_d, '\\nКоличество деревьев:',parametrs_r_gs_n)"
   ]
  },
  {
   "cell_type": "markdown",
   "metadata": {},
   "source": [
    "Для final.output.recovery:"
   ]
  },
  {
   "cell_type": "code",
   "execution_count": 71,
   "metadata": {},
   "outputs": [
    {
     "name": "stdout",
     "output_type": "stream",
     "text": [
      "Значение sMAPE для final.output.recovery: 11.86 \n",
      "Максимальная глубина: 13 \n",
      "Количество деревьев: 1\n",
      "CPU times: user 2min 51s, sys: 488 ms, total: 2min 51s\n",
      "Wall time: 2min 52s\n"
     ]
    }
   ],
   "source": [
    "%%time\n",
    "model_rff = RandomForestRegressor(random_state=12345)\n",
    "grid_rff = GridSearchCV(model_rff, parametrs, cv=5, scoring=make_scorer(smape, greater_is_better=False))\n",
    "grid_rff.fit(train_features, train_target_f)\n",
    "result_gs_f= grid_rff.best_score_\n",
    "\n",
    "parametrs_f_gs_d=pd.Series(grid_rff.best_params_)[0]\n",
    "parametrs_f_gs_n=pd.Series(grid_rff.best_params_)[1]\n",
    "print('Значение sMAPE для final.output.recovery: {:.2f}'.format(result_gs_f), '\\nМаксимальная глубина:',parametrs_f_gs_d, '\\nКоличество деревьев:',parametrs_f_gs_n)"
   ]
  },
  {
   "cell_type": "markdown",
   "metadata": {},
   "source": [
    "Итоговый sMAPE для случайного леса с помощью GridSearchCV:"
   ]
  },
  {
   "cell_type": "code",
   "execution_count": 72,
   "metadata": {},
   "outputs": [
    {
     "name": "stdout",
     "output_type": "stream",
     "text": [
      "6.81\n"
     ]
    }
   ],
   "source": [
    "fin_score_rf= final_smape(best_score_rf,result_gs_f)\n",
    "print(fin_score_rf)"
   ]
  },
  {
   "cell_type": "markdown",
   "metadata": {},
   "source": [
    "С помощью цикла подберем параметры для случайного леса.\n",
    "\n",
    "Для rougher.output.recovery:"
   ]
  },
  {
   "cell_type": "code",
   "execution_count": 87,
   "metadata": {
    "scrolled": true
   },
   "outputs": [
    {
     "data": {
      "application/vnd.jupyter.widget-view+json": {
       "model_id": "98834c18d0314ae28e1bcac8354f4b0a",
       "version_major": 2,
       "version_minor": 0
      },
      "text/plain": [
       "  0%|          | 0/5 [00:00<?, ?it/s]"
      ]
     },
     "metadata": {},
     "output_type": "display_data"
    },
    {
     "data": {
      "application/vnd.jupyter.widget-view+json": {
       "model_id": "",
       "version_major": 2,
       "version_minor": 0
      },
      "text/plain": [
       "depth loop:   0%|          | 0/6 [00:00<?, ?it/s]"
      ]
     },
     "metadata": {},
     "output_type": "display_data"
    },
    {
     "data": {
      "application/vnd.jupyter.widget-view+json": {
       "model_id": "",
       "version_major": 2,
       "version_minor": 0
      },
      "text/plain": [
       "depth loop:   0%|          | 0/6 [00:00<?, ?it/s]"
      ]
     },
     "metadata": {},
     "output_type": "display_data"
    },
    {
     "data": {
      "application/vnd.jupyter.widget-view+json": {
       "model_id": "",
       "version_major": 2,
       "version_minor": 0
      },
      "text/plain": [
       "depth loop:   0%|          | 0/6 [00:00<?, ?it/s]"
      ]
     },
     "metadata": {},
     "output_type": "display_data"
    },
    {
     "data": {
      "application/vnd.jupyter.widget-view+json": {
       "model_id": "",
       "version_major": 2,
       "version_minor": 0
      },
      "text/plain": [
       "depth loop:   0%|          | 0/6 [00:00<?, ?it/s]"
      ]
     },
     "metadata": {},
     "output_type": "display_data"
    },
    {
     "data": {
      "application/vnd.jupyter.widget-view+json": {
       "model_id": "",
       "version_major": 2,
       "version_minor": 0
      },
      "text/plain": [
       "depth loop:   0%|          | 0/6 [00:00<?, ?it/s]"
      ]
     },
     "metadata": {},
     "output_type": "display_data"
    },
    {
     "name": "stdout",
     "output_type": "stream",
     "text": [
      "Значение sMAPE для rougher.output.recovery:  6.21 \n",
      "Количество деревьев: 7 \n",
      "Максимальная глубина: 5\n",
      "CPU times: user 2min 9s, sys: 335 ms, total: 2min 9s\n",
      "Wall time: 2min 10s\n"
     ]
    }
   ],
   "source": [
    "%%time\n",
    "best_model = None\n",
    "best_result_r = 100\n",
    "best_est_r = 0\n",
    "best_depth_r = 0\n",
    "for est in tqdm(range(1,10, 2)):\n",
    "    for depth in tqdm(range (1,13,2), desc='depth loop', leave=False):\n",
    "        model_rf = RandomForestRegressor(random_state=12345, n_estimators=est, max_depth=depth)\n",
    "\n",
    "        result_rf = cross_val_score(model_rf, train_features, train_target_r, cv=5, scoring=make_scorer(smape, greater_is_better=False)).mean()\n",
    "     \n",
    "\n",
    "        if result_rf < best_result_r:\n",
    "            best_model = model_rf\n",
    "            best_result_r = result_rf\n",
    "            best_est_r = est\n",
    "            best_depth_r = depth\n",
    "\n",
    "print('Значение sMAPE для rougher.output.recovery: ', best_result_r.round(2), '\\nКоличество деревьев:', best_est_r, '\\nМаксимальная глубина:', best_depth_r)"
   ]
  },
  {
   "cell_type": "markdown",
   "metadata": {},
   "source": [
    "Для final.output.recovery:"
   ]
  },
  {
   "cell_type": "code",
   "execution_count": 88,
   "metadata": {},
   "outputs": [
    {
     "data": {
      "application/vnd.jupyter.widget-view+json": {
       "model_id": "22b43c10e1e54f9c9adddc032d4fbc11",
       "version_major": 2,
       "version_minor": 0
      },
      "text/plain": [
       "  0%|          | 0/5 [00:00<?, ?it/s]"
      ]
     },
     "metadata": {},
     "output_type": "display_data"
    },
    {
     "data": {
      "application/vnd.jupyter.widget-view+json": {
       "model_id": "",
       "version_major": 2,
       "version_minor": 0
      },
      "text/plain": [
       "depth loop:   0%|          | 0/6 [00:00<?, ?it/s]"
      ]
     },
     "metadata": {},
     "output_type": "display_data"
    },
    {
     "data": {
      "application/vnd.jupyter.widget-view+json": {
       "model_id": "",
       "version_major": 2,
       "version_minor": 0
      },
      "text/plain": [
       "depth loop:   0%|          | 0/6 [00:00<?, ?it/s]"
      ]
     },
     "metadata": {},
     "output_type": "display_data"
    },
    {
     "data": {
      "application/vnd.jupyter.widget-view+json": {
       "model_id": "",
       "version_major": 2,
       "version_minor": 0
      },
      "text/plain": [
       "depth loop:   0%|          | 0/6 [00:00<?, ?it/s]"
      ]
     },
     "metadata": {},
     "output_type": "display_data"
    },
    {
     "data": {
      "application/vnd.jupyter.widget-view+json": {
       "model_id": "",
       "version_major": 2,
       "version_minor": 0
      },
      "text/plain": [
       "depth loop:   0%|          | 0/6 [00:00<?, ?it/s]"
      ]
     },
     "metadata": {},
     "output_type": "display_data"
    },
    {
     "data": {
      "application/vnd.jupyter.widget-view+json": {
       "model_id": "",
       "version_major": 2,
       "version_minor": 0
      },
      "text/plain": [
       "depth loop:   0%|          | 0/6 [00:00<?, ?it/s]"
      ]
     },
     "metadata": {},
     "output_type": "display_data"
    },
    {
     "name": "stdout",
     "output_type": "stream",
     "text": [
      "Значение sMAPE для final.output.recovery:  7.81 \n",
      "Количество деревьев: 7 \n",
      "Максимальная глубина: 5\n",
      "CPU times: user 2min 12s, sys: 271 ms, total: 2min 12s\n",
      "Wall time: 2min 12s\n"
     ]
    }
   ],
   "source": [
    "%%time\n",
    "best_model = None\n",
    "best_result_f = 100\n",
    "best_est_f = 0\n",
    "best_depth_f = 0\n",
    "for est in tqdm(range(1,10, 2)):\n",
    "    for depth in tqdm(range (1,13, 2), desc='depth loop', leave=False):\n",
    "        model_rff = RandomForestRegressor(random_state=12345, n_estimators=est, max_depth=depth)\n",
    "    \n",
    "        result_rf = cross_val_score(model_rff,train_features,train_target_f, cv=5, scoring=make_scorer(smape, greater_is_better=False)).mean() \n",
    "        if result_rf < best_result_f:\n",
    "            best_model = model_rff\n",
    "            best_result_f = result_rf\n",
    "            best_est_f = est\n",
    "            best_depth_f = depth\n",
    "\n",
    "print('Значение sMAPE для final.output.recovery: ', best_result_f.round(2), '\\nКоличество деревьев:', best_est_f, '\\nМаксимальная глубина:', best_depth_f)"
   ]
  },
  {
   "cell_type": "markdown",
   "metadata": {},
   "source": [
    "Итоговый sMAPE лучшей модели случайного леса:"
   ]
  },
  {
   "cell_type": "code",
   "execution_count": 89,
   "metadata": {},
   "outputs": [
    {
     "name": "stdout",
     "output_type": "stream",
     "text": [
      "7.41\n"
     ]
    }
   ],
   "source": [
    "fin_score_rff =final_smape(best_result_r,best_result_f)\n",
    "print(fin_score_rff.round(2)) "
   ]
  },
  {
   "cell_type": "markdown",
   "metadata": {},
   "source": [
    "Перейдем к **линейной регрессии:**\n",
    "Проделаем аналогичную кросс-валидацию, а также подберем параметры с помощью GridSearchCV."
   ]
  },
  {
   "cell_type": "code",
   "execution_count": 90,
   "metadata": {},
   "outputs": [
    {
     "name": "stdout",
     "output_type": "stream",
     "text": [
      "Cреднее значение sMAPE для rougher:  6.44\n",
      "Cреднее значение sMAPE для final:  9.45\n",
      "Итоговое sMAPE модели на кросс-валидации:  8.69\n"
     ]
    }
   ],
   "source": [
    "cross_v(LinearRegression())"
   ]
  },
  {
   "cell_type": "markdown",
   "metadata": {},
   "source": [
    "Подберем параметры через GridSearchCV.\n",
    "\n",
    "\n",
    "Для rougher.output.recovery:"
   ]
  },
  {
   "cell_type": "code",
   "execution_count": 91,
   "metadata": {},
   "outputs": [],
   "source": [
    "parametrs = { 'fit_intercept': [True],\n",
    "              'normalize': [True, False]}"
   ]
  },
  {
   "cell_type": "code",
   "execution_count": 92,
   "metadata": {},
   "outputs": [
    {
     "name": "stdout",
     "output_type": "stream",
     "text": [
      "CPU times: user 4 µs, sys: 0 ns, total: 4 µs\n",
      "Wall time: 7.39 µs\n",
      "Значение sMAPE для rougher.output.recovery: -6.44 \n",
      "fit_intercept: True \n",
      "normalize: True\n"
     ]
    }
   ],
   "source": [
    "%time\n",
    "\n",
    "\n",
    "model_lr_r = LinearRegression()\n",
    "grid_lr_r = GridSearchCV(model_lr_r, parametrs, cv=5, scoring=make_scorer(smape))\n",
    "grid_lr_r.fit(train_features, train_target_r)\n",
    "\n",
    "fit_intercept_r=pd.Series(grid_lr_r.best_params_)[0]\n",
    "normalize_r=pd.Series(grid_lr_r.best_params_)[1]\n",
    "\n",
    "result_lr_r = grid_lr_r.best_score_\n",
    "print('Значение sMAPE для rougher.output.recovery: {:.2f}'.format(result_lr_r), '\\nfit_intercept:',fit_intercept_r, '\\nnormalize:',normalize_r)\n"
   ]
  },
  {
   "cell_type": "markdown",
   "metadata": {},
   "source": [
    "Для final.output.recovery:"
   ]
  },
  {
   "cell_type": "code",
   "execution_count": 93,
   "metadata": {},
   "outputs": [
    {
     "name": "stdout",
     "output_type": "stream",
     "text": [
      "CPU times: user 32 µs, sys: 1e+03 ns, total: 33 µs\n",
      "Wall time: 9.06 µs\n",
      "Значение sMAPE для final.output.recovery: -9.45 \n",
      "fit_intercept: True \n",
      "normalize: True\n"
     ]
    }
   ],
   "source": [
    "%time\n",
    "model_lr_f = LinearRegression()\n",
    "grid_lr_f = GridSearchCV(model_lr_f, parametrs, cv=5, scoring=make_scorer(smape,))\n",
    "grid_lr_f.fit(train_features, train_target_f)\n",
    "\n",
    "fit_intercept_f = pd.Series(grid_lr_f.best_params_)[0]\n",
    "normalize_f = pd.Series(grid_lr_f.best_params_)[1]\n",
    "result_lr_f= grid_lr_f.best_score_\n",
    "print('Значение sMAPE для final.output.recovery: {:.2f}'.format(result_lr_f), '\\nfit_intercept:',fit_intercept_f, '\\nnormalize:',normalize_f)"
   ]
  },
  {
   "cell_type": "markdown",
   "metadata": {},
   "source": [
    "Итоговое значение sMAPE:"
   ]
  },
  {
   "cell_type": "code",
   "execution_count": 94,
   "metadata": {},
   "outputs": [
    {
     "name": "stdout",
     "output_type": "stream",
     "text": [
      "Итоговое значение sMAPE модели Линейная регрессия:  -8.69\n"
     ]
    }
   ],
   "source": [
    "fin_score_lr= final_smape(result_lr_r,result_lr_f)\n",
    "print('Итоговое значение sMAPE модели Линейная регрессия: ',fin_score_lr) "
   ]
  },
  {
   "cell_type": "markdown",
   "metadata": {},
   "source": [
    "**Вывод:**\n",
    "Модель случайного леса показала наилучшие показатели при кросс-валидации, подборе гиперпараметров циклом и с помощью метода GridSearchCV. Предсказания и проверку будем строить на ней."
   ]
  },
  {
   "cell_type": "markdown",
   "metadata": {},
   "source": [
    "**Модель Случайный лес**"
   ]
  },
  {
   "cell_type": "markdown",
   "metadata": {},
   "source": [
    "Для rougher.output.recovery:"
   ]
  },
  {
   "cell_type": "code",
   "execution_count": 95,
   "metadata": {},
   "outputs": [
    {
     "data": {
      "text/plain": [
       "3.91"
      ]
     },
     "execution_count": 95,
     "metadata": {},
     "output_type": "execute_result"
    }
   ],
   "source": [
    "model_rf_test_r = RandomForestRegressor(random_state=12345, n_estimators=best_est_r, max_depth=best_depth_r)\n",
    "model_rf_test_r.fit(train_features, train_target_r) \n",
    "predictions_test_rf_r = model_rf_test_r.predict(test_features)\n",
    "result_rf_test_r = -1*smape(test_target_r,predictions_test_rf_r)\n",
    "result_rf_test_r.round(2)"
   ]
  },
  {
   "cell_type": "markdown",
   "metadata": {},
   "source": [
    "Для final.output.recovery:"
   ]
  },
  {
   "cell_type": "code",
   "execution_count": 96,
   "metadata": {},
   "outputs": [
    {
     "data": {
      "text/plain": [
       "7.66"
      ]
     },
     "execution_count": 96,
     "metadata": {},
     "output_type": "execute_result"
    }
   ],
   "source": [
    "model_rf_test_f = RandomForestRegressor(random_state=12345, n_estimators=best_est_f, max_depth=best_depth_f)\n",
    "model_rf_test_f.fit(train_features, train_target_f) \n",
    "predictions_test_rf_f = model_rf_test_f.predict(test_features)\n",
    "result_rf_test_f = -1*smape(test_target_f,predictions_test_rf_f)\n",
    "result_rf_test_f.round(2)"
   ]
  },
  {
   "cell_type": "markdown",
   "metadata": {},
   "source": [
    "Посмотрим на итоговое sMAPE выбранной модели на тестовой выборке:"
   ]
  },
  {
   "cell_type": "code",
   "execution_count": 97,
   "metadata": {},
   "outputs": [
    {
     "name": "stdout",
     "output_type": "stream",
     "text": [
      "6.73\n"
     ]
    }
   ],
   "source": [
    "fin_score_test_rf = final_smape(result_rf_test_r, result_rf_test_f)\n",
    "print(fin_score_test_rf)"
   ]
  },
  {
   "cell_type": "markdown",
   "metadata": {},
   "source": [
    "Проверим результаты на **константной модели:**"
   ]
  },
  {
   "cell_type": "markdown",
   "metadata": {},
   "source": [
    "Для rougher.output.recovery:"
   ]
  },
  {
   "cell_type": "code",
   "execution_count": 98,
   "metadata": {},
   "outputs": [
    {
     "data": {
      "text/plain": [
       "4.349417299254603"
      ]
     },
     "execution_count": 98,
     "metadata": {},
     "output_type": "execute_result"
    }
   ],
   "source": [
    "predict_const_model_rt = model_const_r.predict(test_features)\n",
    "result_lr_const_rt = -1*smape(test_target_r,predict_const_model_rt)\n",
    "result_lr_const_rt"
   ]
  },
  {
   "cell_type": "markdown",
   "metadata": {},
   "source": [
    "Для final.output.recovery:"
   ]
  },
  {
   "cell_type": "code",
   "execution_count": 99,
   "metadata": {},
   "outputs": [
    {
     "data": {
      "text/plain": [
       "7.649911431476047"
      ]
     },
     "execution_count": 99,
     "metadata": {},
     "output_type": "execute_result"
    }
   ],
   "source": [
    "predict_const_model_ft = model_const_f.predict(test_features)\n",
    "result_lr_const_ft = -1*smape(test_target_f,predict_const_model_ft)\n",
    "result_lr_const_ft"
   ]
  },
  {
   "cell_type": "markdown",
   "metadata": {},
   "source": [
    "Также итоговый sMAPE константной модели на тестовой выборке:"
   ]
  },
  {
   "cell_type": "code",
   "execution_count": 100,
   "metadata": {},
   "outputs": [
    {
     "name": "stdout",
     "output_type": "stream",
     "text": [
      "6.82\n"
     ]
    }
   ],
   "source": [
    "const_fin=final_smape(result_lr_const_rt,result_lr_const_ft)\n",
    "print(const_fin) "
   ]
  },
  {
   "cell_type": "markdown",
   "metadata": {},
   "source": [
    "Можно сделать вывод при сравнении показателей модели случайного леса с константной модели, что предсказания модели адектавное. "
   ]
  },
  {
   "cell_type": "markdown",
   "metadata": {},
   "source": [
    "<div class=\"alert alert-block alert-success\">\n",
    "<b>Успех:</b> Молодец, что попробовал разные модели в этом шаге и не забыл про дамми проверку.\n",
    "</div>"
   ]
  },
  {
   "cell_type": "markdown",
   "metadata": {},
   "source": [
    "## Вывод\n",
    "\n",
    "1. Были изучены и скорректированы данные;\n",
    "2. Проведен исследовательский анализ данных;\n",
    "3. Была написана функция для sMAPE. Каждая модель была изучена на качество с помощью методов кросс-валидации, цикла for поиска гиперпараметров GridSearchCV;\n",
    "4. Была отобрана лучшая модель - DecisionTreeRegressor. Ее значение sMAPE самое низкое;\n",
    "5. Модель прошла проверку на адекватность. Итоговая оценка sMAPE константной модели на тестовых данных равна 6.82."
   ]
  }
 ],
 "metadata": {
  "ExecuteTimeLog": [
   {
    "duration": 1566,
    "start_time": "2022-12-28T04:33:34.743Z"
   },
   {
    "duration": 156,
    "start_time": "2022-12-28T04:33:36.311Z"
   },
   {
    "duration": 1379,
    "start_time": "2022-12-28T04:34:34.344Z"
   },
   {
    "duration": 2362,
    "start_time": "2022-12-28T04:34:35.726Z"
   },
   {
    "duration": 38,
    "start_time": "2022-12-28T04:35:51.471Z"
   },
   {
    "duration": 1407,
    "start_time": "2022-12-28T04:36:00.505Z"
   },
   {
    "duration": 712,
    "start_time": "2022-12-28T04:36:01.922Z"
   },
   {
    "duration": 81,
    "start_time": "2022-12-28T04:36:02.639Z"
   },
   {
    "duration": 0,
    "start_time": "2022-12-28T04:36:02.722Z"
   },
   {
    "duration": 1453,
    "start_time": "2022-12-28T04:36:12.540Z"
   },
   {
    "duration": 708,
    "start_time": "2022-12-28T04:36:13.995Z"
   },
   {
    "duration": 56,
    "start_time": "2022-12-28T04:36:14.705Z"
   },
   {
    "duration": 1359,
    "start_time": "2022-12-28T05:05:05.888Z"
   },
   {
    "duration": 654,
    "start_time": "2022-12-28T05:05:07.249Z"
   },
   {
    "duration": 41,
    "start_time": "2022-12-28T05:05:07.905Z"
   },
   {
    "duration": 23,
    "start_time": "2022-12-28T05:05:07.948Z"
   },
   {
    "duration": 20,
    "start_time": "2022-12-28T05:05:07.972Z"
   },
   {
    "duration": 23,
    "start_time": "2022-12-28T05:05:08.013Z"
   },
   {
    "duration": 1344,
    "start_time": "2022-12-28T05:11:24.064Z"
   },
   {
    "duration": 681,
    "start_time": "2022-12-28T05:11:25.412Z"
   },
   {
    "duration": 40,
    "start_time": "2022-12-28T05:11:26.095Z"
   },
   {
    "duration": 23,
    "start_time": "2022-12-28T05:11:26.137Z"
   },
   {
    "duration": 18,
    "start_time": "2022-12-28T05:11:26.161Z"
   },
   {
    "duration": 35,
    "start_time": "2022-12-28T05:11:26.180Z"
   },
   {
    "duration": 10,
    "start_time": "2022-12-28T05:11:26.216Z"
   },
   {
    "duration": 108,
    "start_time": "2022-12-28T05:11:26.228Z"
   },
   {
    "duration": 0,
    "start_time": "2022-12-28T05:11:26.338Z"
   },
   {
    "duration": 0,
    "start_time": "2022-12-28T05:11:26.339Z"
   },
   {
    "duration": 1451,
    "start_time": "2022-12-28T05:12:20.022Z"
   },
   {
    "duration": 585,
    "start_time": "2022-12-28T05:12:21.475Z"
   },
   {
    "duration": 37,
    "start_time": "2022-12-28T05:12:22.062Z"
   },
   {
    "duration": 34,
    "start_time": "2022-12-28T05:12:22.100Z"
   },
   {
    "duration": 19,
    "start_time": "2022-12-28T05:12:22.136Z"
   },
   {
    "duration": 25,
    "start_time": "2022-12-28T05:12:22.156Z"
   },
   {
    "duration": 5,
    "start_time": "2022-12-28T05:12:22.182Z"
   },
   {
    "duration": 164,
    "start_time": "2022-12-28T05:12:22.188Z"
   },
   {
    "duration": 73,
    "start_time": "2022-12-28T05:12:22.354Z"
   },
   {
    "duration": 141,
    "start_time": "2022-12-28T05:12:22.429Z"
   },
   {
    "duration": 5,
    "start_time": "2022-12-28T05:17:09.182Z"
   },
   {
    "duration": 5,
    "start_time": "2022-12-28T05:17:43.371Z"
   },
   {
    "duration": 6,
    "start_time": "2022-12-28T05:17:43.955Z"
   },
   {
    "duration": 7,
    "start_time": "2022-12-28T05:17:44.967Z"
   },
   {
    "duration": 1387,
    "start_time": "2022-12-28T05:25:52.551Z"
   },
   {
    "duration": 739,
    "start_time": "2022-12-28T05:25:53.939Z"
   },
   {
    "duration": 26,
    "start_time": "2022-12-28T05:25:54.680Z"
   },
   {
    "duration": 14,
    "start_time": "2022-12-28T05:25:54.717Z"
   },
   {
    "duration": 22,
    "start_time": "2022-12-28T05:25:54.733Z"
   },
   {
    "duration": 29,
    "start_time": "2022-12-28T05:25:54.757Z"
   },
   {
    "duration": 42,
    "start_time": "2022-12-28T05:25:54.788Z"
   },
   {
    "duration": 22,
    "start_time": "2022-12-28T05:25:54.832Z"
   },
   {
    "duration": 14,
    "start_time": "2022-12-28T05:25:54.857Z"
   },
   {
    "duration": 8,
    "start_time": "2022-12-28T05:25:54.874Z"
   },
   {
    "duration": 36,
    "start_time": "2022-12-28T05:25:54.883Z"
   },
   {
    "duration": 5,
    "start_time": "2022-12-28T05:25:54.921Z"
   },
   {
    "duration": 189,
    "start_time": "2022-12-28T05:25:54.928Z"
   },
   {
    "duration": 54,
    "start_time": "2022-12-28T05:25:55.118Z"
   },
   {
    "duration": 172,
    "start_time": "2022-12-28T05:25:55.174Z"
   },
   {
    "duration": 1438,
    "start_time": "2022-12-28T05:27:05.926Z"
   },
   {
    "duration": 636,
    "start_time": "2022-12-28T05:27:07.366Z"
   },
   {
    "duration": 22,
    "start_time": "2022-12-28T05:27:08.004Z"
   },
   {
    "duration": 14,
    "start_time": "2022-12-28T05:27:08.027Z"
   },
   {
    "duration": 17,
    "start_time": "2022-12-28T05:27:08.042Z"
   },
   {
    "duration": 83,
    "start_time": "2022-12-28T05:27:08.060Z"
   },
   {
    "duration": 38,
    "start_time": "2022-12-28T05:27:08.145Z"
   },
   {
    "duration": 75,
    "start_time": "2022-12-28T05:27:08.184Z"
   },
   {
    "duration": 5,
    "start_time": "2022-12-28T05:27:08.261Z"
   },
   {
    "duration": 9,
    "start_time": "2022-12-28T05:27:08.268Z"
   },
   {
    "duration": 8,
    "start_time": "2022-12-28T05:27:08.278Z"
   },
   {
    "duration": 6,
    "start_time": "2022-12-28T05:27:08.288Z"
   },
   {
    "duration": 156,
    "start_time": "2022-12-28T05:27:08.295Z"
   },
   {
    "duration": 65,
    "start_time": "2022-12-28T05:27:08.452Z"
   },
   {
    "duration": 132,
    "start_time": "2022-12-28T05:27:08.519Z"
   },
   {
    "duration": 1407,
    "start_time": "2022-12-28T05:27:59.478Z"
   },
   {
    "duration": 657,
    "start_time": "2022-12-28T05:28:00.887Z"
   },
   {
    "duration": 19,
    "start_time": "2022-12-28T05:28:01.545Z"
   },
   {
    "duration": 18,
    "start_time": "2022-12-28T05:28:01.566Z"
   },
   {
    "duration": 52,
    "start_time": "2022-12-28T05:28:01.586Z"
   },
   {
    "duration": 29,
    "start_time": "2022-12-28T05:28:01.640Z"
   },
   {
    "duration": 23,
    "start_time": "2022-12-28T05:28:01.671Z"
   },
   {
    "duration": 39,
    "start_time": "2022-12-28T05:28:01.696Z"
   },
   {
    "duration": 16,
    "start_time": "2022-12-28T05:28:01.737Z"
   },
   {
    "duration": 34,
    "start_time": "2022-12-28T05:28:01.755Z"
   },
   {
    "duration": 38,
    "start_time": "2022-12-28T05:28:01.790Z"
   },
   {
    "duration": 21,
    "start_time": "2022-12-28T05:28:01.830Z"
   },
   {
    "duration": 173,
    "start_time": "2022-12-28T05:28:01.853Z"
   },
   {
    "duration": 45,
    "start_time": "2022-12-28T05:28:02.027Z"
   },
   {
    "duration": 153,
    "start_time": "2022-12-28T05:28:02.073Z"
   },
   {
    "duration": 5,
    "start_time": "2022-12-28T05:35:46.802Z"
   },
   {
    "duration": 1399,
    "start_time": "2022-12-28T05:47:24.907Z"
   },
   {
    "duration": 678,
    "start_time": "2022-12-28T05:47:26.308Z"
   },
   {
    "duration": 29,
    "start_time": "2022-12-28T05:47:26.988Z"
   },
   {
    "duration": 15,
    "start_time": "2022-12-28T05:47:27.019Z"
   },
   {
    "duration": 19,
    "start_time": "2022-12-28T05:47:27.037Z"
   },
   {
    "duration": 24,
    "start_time": "2022-12-28T05:47:27.057Z"
   },
   {
    "duration": 47,
    "start_time": "2022-12-28T05:47:27.083Z"
   },
   {
    "duration": 20,
    "start_time": "2022-12-28T05:47:27.132Z"
   },
   {
    "duration": 7,
    "start_time": "2022-12-28T05:47:27.154Z"
   },
   {
    "duration": 9,
    "start_time": "2022-12-28T05:47:27.163Z"
   },
   {
    "duration": 10,
    "start_time": "2022-12-28T05:47:27.173Z"
   },
   {
    "duration": 30,
    "start_time": "2022-12-28T05:47:27.185Z"
   },
   {
    "duration": 171,
    "start_time": "2022-12-28T05:47:27.216Z"
   },
   {
    "duration": 65,
    "start_time": "2022-12-28T05:47:27.390Z"
   },
   {
    "duration": 165,
    "start_time": "2022-12-28T05:47:27.457Z"
   },
   {
    "duration": 8,
    "start_time": "2022-12-28T05:47:27.626Z"
   },
   {
    "duration": 5,
    "start_time": "2022-12-28T05:47:27.635Z"
   },
   {
    "duration": 5,
    "start_time": "2022-12-28T05:47:44.776Z"
   },
   {
    "duration": 5,
    "start_time": "2022-12-28T05:48:56.596Z"
   },
   {
    "duration": 106,
    "start_time": "2022-12-28T05:49:39.726Z"
   },
   {
    "duration": 1456,
    "start_time": "2022-12-28T05:49:46.627Z"
   },
   {
    "duration": 672,
    "start_time": "2022-12-28T05:49:48.085Z"
   },
   {
    "duration": 20,
    "start_time": "2022-12-28T05:49:48.758Z"
   },
   {
    "duration": 13,
    "start_time": "2022-12-28T05:49:48.780Z"
   },
   {
    "duration": 27,
    "start_time": "2022-12-28T05:49:48.815Z"
   },
   {
    "duration": 23,
    "start_time": "2022-12-28T05:49:48.844Z"
   },
   {
    "duration": 20,
    "start_time": "2022-12-28T05:49:48.869Z"
   },
   {
    "duration": 44,
    "start_time": "2022-12-28T05:49:48.891Z"
   },
   {
    "duration": 6,
    "start_time": "2022-12-28T05:49:48.937Z"
   },
   {
    "duration": 15,
    "start_time": "2022-12-28T05:49:48.944Z"
   },
   {
    "duration": 26,
    "start_time": "2022-12-28T05:49:48.960Z"
   },
   {
    "duration": 13,
    "start_time": "2022-12-28T05:49:48.989Z"
   },
   {
    "duration": 217,
    "start_time": "2022-12-28T05:49:49.004Z"
   },
   {
    "duration": 58,
    "start_time": "2022-12-28T05:49:49.228Z"
   },
   {
    "duration": 162,
    "start_time": "2022-12-28T05:49:49.288Z"
   },
   {
    "duration": 5,
    "start_time": "2022-12-28T05:49:49.452Z"
   },
   {
    "duration": 10,
    "start_time": "2022-12-28T05:49:49.459Z"
   },
   {
    "duration": 123,
    "start_time": "2022-12-28T05:49:49.470Z"
   },
   {
    "duration": 16,
    "start_time": "2022-12-28T05:50:25.727Z"
   },
   {
    "duration": 1861,
    "start_time": "2022-12-28T05:51:04.241Z"
   },
   {
    "duration": 727,
    "start_time": "2022-12-28T05:51:06.104Z"
   },
   {
    "duration": 24,
    "start_time": "2022-12-28T05:51:06.833Z"
   },
   {
    "duration": 52,
    "start_time": "2022-12-28T05:51:06.859Z"
   },
   {
    "duration": 113,
    "start_time": "2022-12-28T05:51:06.912Z"
   },
   {
    "duration": 101,
    "start_time": "2022-12-28T05:51:07.027Z"
   },
   {
    "duration": 49,
    "start_time": "2022-12-28T05:51:07.132Z"
   },
   {
    "duration": 101,
    "start_time": "2022-12-28T05:51:07.183Z"
   },
   {
    "duration": 50,
    "start_time": "2022-12-28T05:51:07.287Z"
   },
   {
    "duration": 29,
    "start_time": "2022-12-28T05:51:07.344Z"
   },
   {
    "duration": 37,
    "start_time": "2022-12-28T05:51:07.376Z"
   },
   {
    "duration": 43,
    "start_time": "2022-12-28T05:51:07.416Z"
   },
   {
    "duration": 189,
    "start_time": "2022-12-28T05:51:07.462Z"
   },
   {
    "duration": 71,
    "start_time": "2022-12-28T05:51:07.653Z"
   },
   {
    "duration": 150,
    "start_time": "2022-12-28T05:51:07.726Z"
   },
   {
    "duration": 6,
    "start_time": "2022-12-28T05:51:07.879Z"
   },
   {
    "duration": 32,
    "start_time": "2022-12-28T05:51:07.887Z"
   },
   {
    "duration": 200,
    "start_time": "2022-12-28T05:51:07.921Z"
   },
   {
    "duration": 1382,
    "start_time": "2022-12-28T05:51:52.641Z"
   },
   {
    "duration": 672,
    "start_time": "2022-12-28T05:51:54.031Z"
   },
   {
    "duration": 28,
    "start_time": "2022-12-28T05:51:54.705Z"
   },
   {
    "duration": 23,
    "start_time": "2022-12-28T05:51:54.735Z"
   },
   {
    "duration": 19,
    "start_time": "2022-12-28T05:51:54.761Z"
   },
   {
    "duration": 50,
    "start_time": "2022-12-28T05:51:54.782Z"
   },
   {
    "duration": 33,
    "start_time": "2022-12-28T05:51:54.834Z"
   },
   {
    "duration": 21,
    "start_time": "2022-12-28T05:51:54.869Z"
   },
   {
    "duration": 25,
    "start_time": "2022-12-28T05:51:54.892Z"
   },
   {
    "duration": 15,
    "start_time": "2022-12-28T05:51:54.921Z"
   },
   {
    "duration": 7,
    "start_time": "2022-12-28T05:51:54.940Z"
   },
   {
    "duration": 12,
    "start_time": "2022-12-28T05:51:54.949Z"
   },
   {
    "duration": 168,
    "start_time": "2022-12-28T05:51:54.963Z"
   },
   {
    "duration": 83,
    "start_time": "2022-12-28T05:51:55.135Z"
   },
   {
    "duration": 140,
    "start_time": "2022-12-28T05:51:55.225Z"
   },
   {
    "duration": 8,
    "start_time": "2022-12-28T05:51:55.366Z"
   },
   {
    "duration": 8,
    "start_time": "2022-12-28T05:51:55.375Z"
   },
   {
    "duration": 11,
    "start_time": "2022-12-28T05:51:55.384Z"
   },
   {
    "duration": 1367,
    "start_time": "2022-12-28T05:59:16.935Z"
   },
   {
    "duration": 687,
    "start_time": "2022-12-28T05:59:18.303Z"
   },
   {
    "duration": 26,
    "start_time": "2022-12-28T05:59:18.992Z"
   },
   {
    "duration": 22,
    "start_time": "2022-12-28T05:59:19.031Z"
   },
   {
    "duration": 27,
    "start_time": "2022-12-28T05:59:19.055Z"
   },
   {
    "duration": 42,
    "start_time": "2022-12-28T05:59:19.084Z"
   },
   {
    "duration": 39,
    "start_time": "2022-12-28T05:59:19.127Z"
   },
   {
    "duration": 61,
    "start_time": "2022-12-28T05:59:19.168Z"
   },
   {
    "duration": 10,
    "start_time": "2022-12-28T05:59:19.233Z"
   },
   {
    "duration": 9,
    "start_time": "2022-12-28T05:59:19.246Z"
   },
   {
    "duration": 8,
    "start_time": "2022-12-28T05:59:19.257Z"
   },
   {
    "duration": 5,
    "start_time": "2022-12-28T05:59:19.267Z"
   },
   {
    "duration": 159,
    "start_time": "2022-12-28T05:59:19.273Z"
   },
   {
    "duration": 45,
    "start_time": "2022-12-28T05:59:19.434Z"
   },
   {
    "duration": 159,
    "start_time": "2022-12-28T05:59:19.481Z"
   },
   {
    "duration": 14,
    "start_time": "2022-12-28T05:59:19.642Z"
   },
   {
    "duration": 7,
    "start_time": "2022-12-28T05:59:19.657Z"
   },
   {
    "duration": 17,
    "start_time": "2022-12-28T05:59:31.340Z"
   },
   {
    "duration": 15,
    "start_time": "2022-12-28T05:59:42.830Z"
   },
   {
    "duration": 23,
    "start_time": "2022-12-28T06:00:28.197Z"
   },
   {
    "duration": 20,
    "start_time": "2022-12-28T06:00:39.065Z"
   },
   {
    "duration": 1536,
    "start_time": "2022-12-28T06:03:28.695Z"
   },
   {
    "duration": 730,
    "start_time": "2022-12-28T06:03:30.234Z"
   },
   {
    "duration": 23,
    "start_time": "2022-12-28T06:03:30.966Z"
   },
   {
    "duration": 22,
    "start_time": "2022-12-28T06:03:30.991Z"
   },
   {
    "duration": 31,
    "start_time": "2022-12-28T06:03:31.016Z"
   },
   {
    "duration": 26,
    "start_time": "2022-12-28T06:03:31.049Z"
   },
   {
    "duration": 47,
    "start_time": "2022-12-28T06:03:31.077Z"
   },
   {
    "duration": 40,
    "start_time": "2022-12-28T06:03:31.125Z"
   },
   {
    "duration": 19,
    "start_time": "2022-12-28T06:03:31.166Z"
   },
   {
    "duration": 21,
    "start_time": "2022-12-28T06:03:31.187Z"
   },
   {
    "duration": 33,
    "start_time": "2022-12-28T06:03:31.210Z"
   },
   {
    "duration": 14,
    "start_time": "2022-12-28T06:03:31.245Z"
   },
   {
    "duration": 171,
    "start_time": "2022-12-28T06:03:31.261Z"
   },
   {
    "duration": 58,
    "start_time": "2022-12-28T06:03:31.435Z"
   },
   {
    "duration": 143,
    "start_time": "2022-12-28T06:03:31.494Z"
   },
   {
    "duration": 15,
    "start_time": "2022-12-28T06:03:31.639Z"
   },
   {
    "duration": 9,
    "start_time": "2022-12-28T06:03:31.656Z"
   },
   {
    "duration": 8,
    "start_time": "2022-12-28T06:42:42.674Z"
   },
   {
    "duration": 1568,
    "start_time": "2022-12-28T06:42:48.934Z"
   },
   {
    "duration": 705,
    "start_time": "2022-12-28T06:42:50.504Z"
   },
   {
    "duration": 28,
    "start_time": "2022-12-28T06:42:51.211Z"
   },
   {
    "duration": 33,
    "start_time": "2022-12-28T06:42:51.241Z"
   },
   {
    "duration": 21,
    "start_time": "2022-12-28T06:42:51.276Z"
   },
   {
    "duration": 33,
    "start_time": "2022-12-28T06:42:51.298Z"
   },
   {
    "duration": 24,
    "start_time": "2022-12-28T06:42:51.333Z"
   },
   {
    "duration": 19,
    "start_time": "2022-12-28T06:42:51.359Z"
   },
   {
    "duration": 4,
    "start_time": "2022-12-28T06:42:51.380Z"
   },
   {
    "duration": 7,
    "start_time": "2022-12-28T06:42:51.386Z"
   },
   {
    "duration": 17,
    "start_time": "2022-12-28T06:42:51.394Z"
   },
   {
    "duration": 28,
    "start_time": "2022-12-28T06:42:51.416Z"
   },
   {
    "duration": 144,
    "start_time": "2022-12-28T06:42:51.445Z"
   },
   {
    "duration": 58,
    "start_time": "2022-12-28T06:42:51.592Z"
   },
   {
    "duration": 136,
    "start_time": "2022-12-28T06:42:51.659Z"
   },
   {
    "duration": 28,
    "start_time": "2022-12-28T06:42:51.796Z"
   },
   {
    "duration": 26,
    "start_time": "2022-12-28T06:42:51.827Z"
   },
   {
    "duration": 8,
    "start_time": "2022-12-28T06:43:42.342Z"
   },
   {
    "duration": 1278,
    "start_time": "2022-12-28T07:25:45.562Z"
   },
   {
    "duration": 671,
    "start_time": "2022-12-28T07:25:46.842Z"
   },
   {
    "duration": 19,
    "start_time": "2022-12-28T07:25:47.515Z"
   },
   {
    "duration": 12,
    "start_time": "2022-12-28T07:25:47.536Z"
   },
   {
    "duration": 16,
    "start_time": "2022-12-28T07:25:47.550Z"
   },
   {
    "duration": 48,
    "start_time": "2022-12-28T07:25:47.568Z"
   },
   {
    "duration": 21,
    "start_time": "2022-12-28T07:25:47.617Z"
   },
   {
    "duration": 21,
    "start_time": "2022-12-28T07:25:47.639Z"
   },
   {
    "duration": 8,
    "start_time": "2022-12-28T07:25:47.662Z"
   },
   {
    "duration": 6,
    "start_time": "2022-12-28T07:25:47.672Z"
   },
   {
    "duration": 9,
    "start_time": "2022-12-28T07:25:47.679Z"
   },
   {
    "duration": 3,
    "start_time": "2022-12-28T07:25:47.713Z"
   },
   {
    "duration": 156,
    "start_time": "2022-12-28T07:25:47.718Z"
   },
   {
    "duration": 69,
    "start_time": "2022-12-28T07:25:47.876Z"
   },
   {
    "duration": 135,
    "start_time": "2022-12-28T07:25:47.947Z"
   },
   {
    "duration": 31,
    "start_time": "2022-12-28T07:25:48.084Z"
   },
   {
    "duration": 9,
    "start_time": "2022-12-28T07:25:48.116Z"
   },
   {
    "duration": 1362,
    "start_time": "2022-12-28T07:36:39.028Z"
   },
   {
    "duration": 724,
    "start_time": "2022-12-28T07:36:40.392Z"
   },
   {
    "duration": 24,
    "start_time": "2022-12-28T07:36:41.117Z"
   },
   {
    "duration": 12,
    "start_time": "2022-12-28T07:36:41.144Z"
   },
   {
    "duration": 14,
    "start_time": "2022-12-28T07:36:41.158Z"
   },
   {
    "duration": 52,
    "start_time": "2022-12-28T07:36:41.174Z"
   },
   {
    "duration": 18,
    "start_time": "2022-12-28T07:36:41.228Z"
   },
   {
    "duration": 19,
    "start_time": "2022-12-28T07:36:41.248Z"
   },
   {
    "duration": 6,
    "start_time": "2022-12-28T07:36:41.268Z"
   },
   {
    "duration": 6,
    "start_time": "2022-12-28T07:36:41.276Z"
   },
   {
    "duration": 18,
    "start_time": "2022-12-28T07:36:41.284Z"
   },
   {
    "duration": 15,
    "start_time": "2022-12-28T07:36:41.313Z"
   },
   {
    "duration": 147,
    "start_time": "2022-12-28T07:36:41.329Z"
   },
   {
    "duration": 60,
    "start_time": "2022-12-28T07:36:41.478Z"
   },
   {
    "duration": 141,
    "start_time": "2022-12-28T07:36:41.539Z"
   },
   {
    "duration": 13,
    "start_time": "2022-12-28T07:36:41.681Z"
   },
   {
    "duration": 8,
    "start_time": "2022-12-28T07:36:41.713Z"
   },
   {
    "duration": 123,
    "start_time": "2022-12-28T07:36:41.723Z"
   },
   {
    "duration": 20,
    "start_time": "2022-12-28T07:36:58.306Z"
   },
   {
    "duration": 6,
    "start_time": "2022-12-28T07:42:50.170Z"
   },
   {
    "duration": 20,
    "start_time": "2022-12-28T07:43:09.237Z"
   },
   {
    "duration": 1299,
    "start_time": "2022-12-28T07:49:23.765Z"
   },
   {
    "duration": 649,
    "start_time": "2022-12-28T07:49:25.066Z"
   },
   {
    "duration": 18,
    "start_time": "2022-12-28T07:49:25.717Z"
   },
   {
    "duration": 11,
    "start_time": "2022-12-28T07:49:25.737Z"
   },
   {
    "duration": 15,
    "start_time": "2022-12-28T07:49:25.749Z"
   },
   {
    "duration": 48,
    "start_time": "2022-12-28T07:49:25.765Z"
   },
   {
    "duration": 22,
    "start_time": "2022-12-28T07:49:25.815Z"
   },
   {
    "duration": 24,
    "start_time": "2022-12-28T07:49:25.838Z"
   },
   {
    "duration": 16,
    "start_time": "2022-12-28T07:49:25.863Z"
   },
   {
    "duration": 11,
    "start_time": "2022-12-28T07:49:25.881Z"
   },
   {
    "duration": 20,
    "start_time": "2022-12-28T07:49:25.894Z"
   },
   {
    "duration": 3,
    "start_time": "2022-12-28T07:49:25.915Z"
   },
   {
    "duration": 157,
    "start_time": "2022-12-28T07:49:25.920Z"
   },
   {
    "duration": 65,
    "start_time": "2022-12-28T07:49:26.078Z"
   },
   {
    "duration": 140,
    "start_time": "2022-12-28T07:49:26.145Z"
   },
   {
    "duration": 33,
    "start_time": "2022-12-28T07:49:26.286Z"
   },
   {
    "duration": 11,
    "start_time": "2022-12-28T07:49:26.321Z"
   },
   {
    "duration": 27,
    "start_time": "2022-12-28T07:49:26.333Z"
   },
   {
    "duration": 10,
    "start_time": "2022-12-28T07:49:26.362Z"
   },
   {
    "duration": 43,
    "start_time": "2022-12-28T07:49:26.374Z"
   },
   {
    "duration": 81,
    "start_time": "2022-12-28T08:19:08.271Z"
   },
   {
    "duration": 36,
    "start_time": "2022-12-28T08:21:46.945Z"
   },
   {
    "duration": 15,
    "start_time": "2022-12-28T08:21:47.407Z"
   },
   {
    "duration": 18,
    "start_time": "2022-12-28T08:24:01.400Z"
   },
   {
    "duration": 5,
    "start_time": "2022-12-28T08:25:26.371Z"
   },
   {
    "duration": 7,
    "start_time": "2022-12-28T08:25:39.804Z"
   },
   {
    "duration": 5,
    "start_time": "2022-12-28T08:25:40.263Z"
   },
   {
    "duration": 1452,
    "start_time": "2022-12-28T08:26:47.221Z"
   },
   {
    "duration": 758,
    "start_time": "2022-12-28T08:26:48.675Z"
   },
   {
    "duration": 21,
    "start_time": "2022-12-28T08:26:49.435Z"
   },
   {
    "duration": 13,
    "start_time": "2022-12-28T08:26:49.458Z"
   },
   {
    "duration": 20,
    "start_time": "2022-12-28T08:26:49.473Z"
   },
   {
    "duration": 39,
    "start_time": "2022-12-28T08:26:49.514Z"
   },
   {
    "duration": 34,
    "start_time": "2022-12-28T08:26:49.555Z"
   },
   {
    "duration": 55,
    "start_time": "2022-12-28T08:26:49.591Z"
   },
   {
    "duration": 7,
    "start_time": "2022-12-28T08:26:49.649Z"
   },
   {
    "duration": 15,
    "start_time": "2022-12-28T08:26:49.659Z"
   },
   {
    "duration": 17,
    "start_time": "2022-12-28T08:26:49.676Z"
   },
   {
    "duration": 24,
    "start_time": "2022-12-28T08:26:49.695Z"
   },
   {
    "duration": 210,
    "start_time": "2022-12-28T08:26:49.721Z"
   },
   {
    "duration": 89,
    "start_time": "2022-12-28T08:26:49.933Z"
   },
   {
    "duration": 162,
    "start_time": "2022-12-28T08:26:50.024Z"
   },
   {
    "duration": 35,
    "start_time": "2022-12-28T08:26:50.188Z"
   },
   {
    "duration": 9,
    "start_time": "2022-12-28T08:26:50.225Z"
   },
   {
    "duration": 47,
    "start_time": "2022-12-28T08:26:50.236Z"
   },
   {
    "duration": 12,
    "start_time": "2022-12-28T08:26:50.285Z"
   },
   {
    "duration": 46,
    "start_time": "2022-12-28T08:26:50.312Z"
   },
   {
    "duration": 37,
    "start_time": "2022-12-28T08:26:50.360Z"
   },
   {
    "duration": 31,
    "start_time": "2022-12-28T08:26:50.400Z"
   },
   {
    "duration": 6,
    "start_time": "2022-12-28T08:26:50.433Z"
   },
   {
    "duration": 23,
    "start_time": "2022-12-28T08:26:50.442Z"
   },
   {
    "duration": 1513,
    "start_time": "2022-12-28T10:19:56.625Z"
   },
   {
    "duration": 3028,
    "start_time": "2022-12-28T10:19:58.139Z"
   },
   {
    "duration": 19,
    "start_time": "2022-12-28T10:20:01.168Z"
   },
   {
    "duration": 27,
    "start_time": "2022-12-28T10:20:01.189Z"
   },
   {
    "duration": 35,
    "start_time": "2022-12-28T10:20:01.217Z"
   },
   {
    "duration": 41,
    "start_time": "2022-12-28T10:20:01.254Z"
   },
   {
    "duration": 32,
    "start_time": "2022-12-28T10:20:01.297Z"
   },
   {
    "duration": 49,
    "start_time": "2022-12-28T10:20:01.331Z"
   },
   {
    "duration": 20,
    "start_time": "2022-12-28T10:20:01.382Z"
   },
   {
    "duration": 30,
    "start_time": "2022-12-28T10:20:01.404Z"
   },
   {
    "duration": 49,
    "start_time": "2022-12-28T10:20:01.436Z"
   },
   {
    "duration": 12,
    "start_time": "2022-12-28T10:20:01.486Z"
   },
   {
    "duration": 145,
    "start_time": "2022-12-28T10:20:01.500Z"
   },
   {
    "duration": 70,
    "start_time": "2022-12-28T10:20:01.647Z"
   },
   {
    "duration": 136,
    "start_time": "2022-12-28T10:20:01.718Z"
   },
   {
    "duration": 15,
    "start_time": "2022-12-28T10:20:01.855Z"
   },
   {
    "duration": 31,
    "start_time": "2022-12-28T10:20:01.871Z"
   },
   {
    "duration": 55,
    "start_time": "2022-12-28T10:20:01.903Z"
   },
   {
    "duration": 39,
    "start_time": "2022-12-28T10:20:01.959Z"
   },
   {
    "duration": 54,
    "start_time": "2022-12-28T10:20:02.000Z"
   },
   {
    "duration": 35,
    "start_time": "2022-12-28T10:20:02.056Z"
   },
   {
    "duration": 26,
    "start_time": "2022-12-28T10:20:02.093Z"
   },
   {
    "duration": 15,
    "start_time": "2022-12-28T10:20:02.121Z"
   },
   {
    "duration": 21,
    "start_time": "2022-12-28T10:20:02.138Z"
   },
   {
    "duration": 12,
    "start_time": "2022-12-28T10:21:55.828Z"
   },
   {
    "duration": 1297,
    "start_time": "2022-12-28T10:24:44.902Z"
   },
   {
    "duration": 645,
    "start_time": "2022-12-28T10:24:46.201Z"
   },
   {
    "duration": 18,
    "start_time": "2022-12-28T10:24:46.847Z"
   },
   {
    "duration": 10,
    "start_time": "2022-12-28T10:24:46.867Z"
   },
   {
    "duration": 31,
    "start_time": "2022-12-28T10:24:46.879Z"
   },
   {
    "duration": 21,
    "start_time": "2022-12-28T10:24:46.912Z"
   },
   {
    "duration": 17,
    "start_time": "2022-12-28T10:24:46.934Z"
   },
   {
    "duration": 21,
    "start_time": "2022-12-28T10:24:46.952Z"
   },
   {
    "duration": 23,
    "start_time": "2022-12-28T10:24:46.975Z"
   },
   {
    "duration": 7,
    "start_time": "2022-12-28T10:24:46.999Z"
   },
   {
    "duration": 7,
    "start_time": "2022-12-28T10:24:47.008Z"
   },
   {
    "duration": 7,
    "start_time": "2022-12-28T10:24:47.016Z"
   },
   {
    "duration": 150,
    "start_time": "2022-12-28T10:24:47.024Z"
   },
   {
    "duration": 62,
    "start_time": "2022-12-28T10:24:47.177Z"
   },
   {
    "duration": 131,
    "start_time": "2022-12-28T10:24:47.241Z"
   },
   {
    "duration": 35,
    "start_time": "2022-12-28T10:24:47.373Z"
   },
   {
    "duration": 6,
    "start_time": "2022-12-28T10:24:47.410Z"
   },
   {
    "duration": 19,
    "start_time": "2022-12-28T10:24:47.418Z"
   },
   {
    "duration": 8,
    "start_time": "2022-12-28T10:24:47.439Z"
   },
   {
    "duration": 48,
    "start_time": "2022-12-28T10:24:47.449Z"
   },
   {
    "duration": 24,
    "start_time": "2022-12-28T10:24:47.499Z"
   },
   {
    "duration": 23,
    "start_time": "2022-12-28T10:24:47.525Z"
   },
   {
    "duration": 48,
    "start_time": "2022-12-28T10:24:47.550Z"
   },
   {
    "duration": 4,
    "start_time": "2022-12-28T10:24:47.600Z"
   },
   {
    "duration": 6,
    "start_time": "2022-12-28T10:24:47.606Z"
   },
   {
    "duration": 15,
    "start_time": "2022-12-28T10:24:47.613Z"
   },
   {
    "duration": 14,
    "start_time": "2022-12-28T10:25:02.971Z"
   },
   {
    "duration": 1367,
    "start_time": "2022-12-28T10:26:25.573Z"
   },
   {
    "duration": 644,
    "start_time": "2022-12-28T10:26:26.941Z"
   },
   {
    "duration": 18,
    "start_time": "2022-12-28T10:26:27.596Z"
   },
   {
    "duration": 12,
    "start_time": "2022-12-28T10:26:27.615Z"
   },
   {
    "duration": 18,
    "start_time": "2022-12-28T10:26:27.628Z"
   },
   {
    "duration": 20,
    "start_time": "2022-12-28T10:26:27.647Z"
   },
   {
    "duration": 38,
    "start_time": "2022-12-28T10:26:27.668Z"
   },
   {
    "duration": 17,
    "start_time": "2022-12-28T10:26:27.707Z"
   },
   {
    "duration": 4,
    "start_time": "2022-12-28T10:26:27.726Z"
   },
   {
    "duration": 8,
    "start_time": "2022-12-28T10:26:27.732Z"
   },
   {
    "duration": 6,
    "start_time": "2022-12-28T10:26:27.742Z"
   },
   {
    "duration": 5,
    "start_time": "2022-12-28T10:26:27.750Z"
   },
   {
    "duration": 174,
    "start_time": "2022-12-28T10:26:27.757Z"
   },
   {
    "duration": 65,
    "start_time": "2022-12-28T10:26:27.932Z"
   },
   {
    "duration": 127,
    "start_time": "2022-12-28T10:26:27.999Z"
   },
   {
    "duration": 13,
    "start_time": "2022-12-28T10:26:28.128Z"
   },
   {
    "duration": 7,
    "start_time": "2022-12-28T10:26:28.142Z"
   },
   {
    "duration": 22,
    "start_time": "2022-12-28T10:26:28.150Z"
   },
   {
    "duration": 25,
    "start_time": "2022-12-28T10:26:28.173Z"
   },
   {
    "duration": 25,
    "start_time": "2022-12-28T10:26:28.199Z"
   },
   {
    "duration": 22,
    "start_time": "2022-12-28T10:26:28.226Z"
   },
   {
    "duration": 22,
    "start_time": "2022-12-28T10:26:28.250Z"
   },
   {
    "duration": 32,
    "start_time": "2022-12-28T10:26:28.274Z"
   },
   {
    "duration": 57,
    "start_time": "2022-12-28T10:26:28.307Z"
   },
   {
    "duration": 0,
    "start_time": "2022-12-28T10:26:28.365Z"
   },
   {
    "duration": 0,
    "start_time": "2022-12-28T10:26:28.366Z"
   },
   {
    "duration": 0,
    "start_time": "2022-12-28T10:26:28.367Z"
   },
   {
    "duration": 0,
    "start_time": "2022-12-28T10:26:28.368Z"
   },
   {
    "duration": 1348,
    "start_time": "2022-12-28T10:27:03.078Z"
   },
   {
    "duration": 736,
    "start_time": "2022-12-28T10:27:04.428Z"
   },
   {
    "duration": 18,
    "start_time": "2022-12-28T10:27:05.166Z"
   },
   {
    "duration": 21,
    "start_time": "2022-12-28T10:27:05.186Z"
   },
   {
    "duration": 27,
    "start_time": "2022-12-28T10:27:05.209Z"
   },
   {
    "duration": 35,
    "start_time": "2022-12-28T10:27:05.237Z"
   },
   {
    "duration": 33,
    "start_time": "2022-12-28T10:27:05.274Z"
   },
   {
    "duration": 30,
    "start_time": "2022-12-28T10:27:05.309Z"
   },
   {
    "duration": 8,
    "start_time": "2022-12-28T10:27:05.341Z"
   },
   {
    "duration": 8,
    "start_time": "2022-12-28T10:27:05.352Z"
   },
   {
    "duration": 11,
    "start_time": "2022-12-28T10:27:05.362Z"
   },
   {
    "duration": 20,
    "start_time": "2022-12-28T10:27:05.374Z"
   },
   {
    "duration": 166,
    "start_time": "2022-12-28T10:27:05.397Z"
   },
   {
    "duration": 68,
    "start_time": "2022-12-28T10:27:05.565Z"
   },
   {
    "duration": 164,
    "start_time": "2022-12-28T10:27:05.635Z"
   },
   {
    "duration": 15,
    "start_time": "2022-12-28T10:27:05.801Z"
   },
   {
    "duration": 11,
    "start_time": "2022-12-28T10:27:05.817Z"
   },
   {
    "duration": 40,
    "start_time": "2022-12-28T10:27:05.830Z"
   },
   {
    "duration": 17,
    "start_time": "2022-12-28T10:27:05.872Z"
   },
   {
    "duration": 39,
    "start_time": "2022-12-28T10:27:05.890Z"
   },
   {
    "duration": 23,
    "start_time": "2022-12-28T10:27:05.931Z"
   },
   {
    "duration": 26,
    "start_time": "2022-12-28T10:27:05.956Z"
   },
   {
    "duration": 22,
    "start_time": "2022-12-28T10:27:05.984Z"
   },
   {
    "duration": 5,
    "start_time": "2022-12-28T10:27:06.007Z"
   },
   {
    "duration": 48,
    "start_time": "2022-12-28T10:27:06.013Z"
   },
   {
    "duration": 0,
    "start_time": "2022-12-28T10:27:06.063Z"
   },
   {
    "duration": 0,
    "start_time": "2022-12-28T10:27:06.066Z"
   },
   {
    "duration": 1517,
    "start_time": "2022-12-28T10:27:15.361Z"
   },
   {
    "duration": 694,
    "start_time": "2022-12-28T10:27:16.880Z"
   },
   {
    "duration": 31,
    "start_time": "2022-12-28T10:27:17.576Z"
   },
   {
    "duration": 10,
    "start_time": "2022-12-28T10:27:17.609Z"
   },
   {
    "duration": 14,
    "start_time": "2022-12-28T10:27:17.621Z"
   },
   {
    "duration": 22,
    "start_time": "2022-12-28T10:27:17.636Z"
   },
   {
    "duration": 46,
    "start_time": "2022-12-28T10:27:17.660Z"
   },
   {
    "duration": 32,
    "start_time": "2022-12-28T10:27:17.707Z"
   },
   {
    "duration": 7,
    "start_time": "2022-12-28T10:27:17.741Z"
   },
   {
    "duration": 11,
    "start_time": "2022-12-28T10:27:17.751Z"
   },
   {
    "duration": 8,
    "start_time": "2022-12-28T10:27:17.763Z"
   },
   {
    "duration": 7,
    "start_time": "2022-12-28T10:27:17.773Z"
   },
   {
    "duration": 177,
    "start_time": "2022-12-28T10:27:17.782Z"
   },
   {
    "duration": 69,
    "start_time": "2022-12-28T10:27:17.961Z"
   },
   {
    "duration": 148,
    "start_time": "2022-12-28T10:27:18.032Z"
   },
   {
    "duration": 27,
    "start_time": "2022-12-28T10:27:18.181Z"
   },
   {
    "duration": 21,
    "start_time": "2022-12-28T10:27:18.210Z"
   },
   {
    "duration": 37,
    "start_time": "2022-12-28T10:27:18.233Z"
   },
   {
    "duration": 19,
    "start_time": "2022-12-28T10:27:18.272Z"
   },
   {
    "duration": 76,
    "start_time": "2022-12-28T10:27:18.292Z"
   },
   {
    "duration": 61,
    "start_time": "2022-12-28T10:27:18.369Z"
   },
   {
    "duration": 33,
    "start_time": "2022-12-28T10:27:18.432Z"
   },
   {
    "duration": 23,
    "start_time": "2022-12-28T10:27:18.467Z"
   },
   {
    "duration": 43,
    "start_time": "2022-12-28T10:27:18.492Z"
   },
   {
    "duration": 31,
    "start_time": "2022-12-28T10:27:18.536Z"
   },
   {
    "duration": 50,
    "start_time": "2022-12-28T10:27:18.569Z"
   },
   {
    "duration": 13,
    "start_time": "2022-12-28T10:35:12.975Z"
   },
   {
    "duration": 1312,
    "start_time": "2022-12-28T11:32:07.605Z"
   },
   {
    "duration": 647,
    "start_time": "2022-12-28T11:32:08.919Z"
   },
   {
    "duration": 18,
    "start_time": "2022-12-28T11:32:09.567Z"
   },
   {
    "duration": 21,
    "start_time": "2022-12-28T11:32:09.586Z"
   },
   {
    "duration": 14,
    "start_time": "2022-12-28T11:32:09.609Z"
   },
   {
    "duration": 21,
    "start_time": "2022-12-28T11:32:09.625Z"
   },
   {
    "duration": 18,
    "start_time": "2022-12-28T11:32:09.647Z"
   },
   {
    "duration": 45,
    "start_time": "2022-12-28T11:32:09.667Z"
   },
   {
    "duration": 6,
    "start_time": "2022-12-28T11:32:09.713Z"
   },
   {
    "duration": 9,
    "start_time": "2022-12-28T11:32:09.720Z"
   },
   {
    "duration": 11,
    "start_time": "2022-12-28T11:32:09.730Z"
   },
   {
    "duration": 7,
    "start_time": "2022-12-28T11:32:09.742Z"
   },
   {
    "duration": 164,
    "start_time": "2022-12-28T11:32:09.751Z"
   },
   {
    "duration": 48,
    "start_time": "2022-12-28T11:32:09.918Z"
   },
   {
    "duration": 160,
    "start_time": "2022-12-28T11:32:09.968Z"
   },
   {
    "duration": 14,
    "start_time": "2022-12-28T11:32:10.129Z"
   },
   {
    "duration": 7,
    "start_time": "2022-12-28T11:32:10.144Z"
   },
   {
    "duration": 26,
    "start_time": "2022-12-28T11:32:10.152Z"
   },
   {
    "duration": 6,
    "start_time": "2022-12-28T11:32:10.197Z"
   },
   {
    "duration": 29,
    "start_time": "2022-12-28T11:32:10.205Z"
   },
   {
    "duration": 23,
    "start_time": "2022-12-28T11:32:10.236Z"
   },
   {
    "duration": 42,
    "start_time": "2022-12-28T11:32:10.260Z"
   },
   {
    "duration": 11,
    "start_time": "2022-12-28T11:32:10.303Z"
   },
   {
    "duration": 5,
    "start_time": "2022-12-28T11:32:10.316Z"
   },
   {
    "duration": 7,
    "start_time": "2022-12-28T11:32:10.322Z"
   },
   {
    "duration": 16,
    "start_time": "2022-12-28T11:32:10.330Z"
   },
   {
    "duration": 735,
    "start_time": "2022-12-28T11:53:57.507Z"
   },
   {
    "duration": 535,
    "start_time": "2022-12-28T11:54:48.218Z"
   },
   {
    "duration": 634,
    "start_time": "2022-12-28T11:54:54.416Z"
   },
   {
    "duration": 639,
    "start_time": "2022-12-28T11:55:01.838Z"
   },
   {
    "duration": 514,
    "start_time": "2022-12-28T11:55:08.514Z"
   },
   {
    "duration": 526,
    "start_time": "2022-12-28T11:55:14.006Z"
   },
   {
    "duration": 659,
    "start_time": "2022-12-28T11:55:19.050Z"
   },
   {
    "duration": 507,
    "start_time": "2022-12-28T11:55:26.475Z"
   },
   {
    "duration": 401,
    "start_time": "2022-12-28T11:55:42.021Z"
   },
   {
    "duration": 555,
    "start_time": "2022-12-28T11:55:50.673Z"
   },
   {
    "duration": 407,
    "start_time": "2022-12-28T11:55:59.661Z"
   },
   {
    "duration": 318,
    "start_time": "2022-12-28T11:56:17.031Z"
   },
   {
    "duration": 236,
    "start_time": "2022-12-28T11:56:26.357Z"
   },
   {
    "duration": 699,
    "start_time": "2022-12-28T11:56:35.236Z"
   },
   {
    "duration": 688,
    "start_time": "2022-12-28T11:56:52.651Z"
   },
   {
    "duration": 773,
    "start_time": "2022-12-28T11:57:09.166Z"
   },
   {
    "duration": 679,
    "start_time": "2022-12-28T11:57:16.102Z"
   },
   {
    "duration": 933,
    "start_time": "2022-12-28T11:59:42.403Z"
   },
   {
    "duration": 706,
    "start_time": "2022-12-28T12:01:02.913Z"
   },
   {
    "duration": 600,
    "start_time": "2022-12-28T12:02:47.146Z"
   },
   {
    "duration": 698,
    "start_time": "2022-12-28T12:03:02.323Z"
   },
   {
    "duration": 687,
    "start_time": "2022-12-28T12:03:16.303Z"
   },
   {
    "duration": 804,
    "start_time": "2022-12-28T12:03:22.966Z"
   },
   {
    "duration": 694,
    "start_time": "2022-12-28T12:03:29.626Z"
   },
   {
    "duration": 806,
    "start_time": "2022-12-28T12:03:39.718Z"
   },
   {
    "duration": 653,
    "start_time": "2022-12-28T12:03:47.256Z"
   },
   {
    "duration": 757,
    "start_time": "2022-12-28T12:05:15.311Z"
   },
   {
    "duration": 541,
    "start_time": "2022-12-28T12:28:15.878Z"
   },
   {
    "duration": 723,
    "start_time": "2022-12-28T12:28:23.611Z"
   },
   {
    "duration": 656,
    "start_time": "2022-12-28T12:28:29.913Z"
   },
   {
    "duration": 576,
    "start_time": "2022-12-28T12:29:16.269Z"
   },
   {
    "duration": 727,
    "start_time": "2022-12-28T12:30:47.878Z"
   },
   {
    "duration": 578,
    "start_time": "2022-12-28T12:32:00.351Z"
   },
   {
    "duration": 674,
    "start_time": "2022-12-28T12:32:29.736Z"
   },
   {
    "duration": 501,
    "start_time": "2022-12-28T12:33:04.809Z"
   },
   {
    "duration": 315,
    "start_time": "2022-12-28T12:33:18.068Z"
   },
   {
    "duration": 355,
    "start_time": "2022-12-28T12:33:25.437Z"
   },
   {
    "duration": 655,
    "start_time": "2022-12-28T12:33:48.442Z"
   },
   {
    "duration": 488,
    "start_time": "2022-12-28T12:33:56.229Z"
   },
   {
    "duration": 598,
    "start_time": "2022-12-28T12:34:45.934Z"
   },
   {
    "duration": 469,
    "start_time": "2022-12-28T12:34:50.906Z"
   },
   {
    "duration": 510,
    "start_time": "2022-12-28T12:34:56.137Z"
   },
   {
    "duration": 624,
    "start_time": "2022-12-28T12:35:03.844Z"
   },
   {
    "duration": 489,
    "start_time": "2022-12-28T12:35:12.003Z"
   },
   {
    "duration": 491,
    "start_time": "2022-12-28T12:36:22.216Z"
   },
   {
    "duration": 625,
    "start_time": "2022-12-28T12:38:24.951Z"
   },
   {
    "duration": 1436,
    "start_time": "2022-12-28T12:38:39.809Z"
   },
   {
    "duration": 673,
    "start_time": "2022-12-28T12:38:41.247Z"
   },
   {
    "duration": 20,
    "start_time": "2022-12-28T12:38:41.922Z"
   },
   {
    "duration": 15,
    "start_time": "2022-12-28T12:38:41.943Z"
   },
   {
    "duration": 39,
    "start_time": "2022-12-28T12:38:41.961Z"
   },
   {
    "duration": 23,
    "start_time": "2022-12-28T12:38:42.001Z"
   },
   {
    "duration": 22,
    "start_time": "2022-12-28T12:38:42.026Z"
   },
   {
    "duration": 24,
    "start_time": "2022-12-28T12:38:42.050Z"
   },
   {
    "duration": 42,
    "start_time": "2022-12-28T12:38:42.075Z"
   },
   {
    "duration": 13,
    "start_time": "2022-12-28T12:38:42.118Z"
   },
   {
    "duration": 13,
    "start_time": "2022-12-28T12:38:42.133Z"
   },
   {
    "duration": 10,
    "start_time": "2022-12-28T12:38:42.147Z"
   },
   {
    "duration": 181,
    "start_time": "2022-12-28T12:38:42.159Z"
   },
   {
    "duration": 71,
    "start_time": "2022-12-28T12:38:42.343Z"
   },
   {
    "duration": 142,
    "start_time": "2022-12-28T12:38:42.416Z"
   },
   {
    "duration": 13,
    "start_time": "2022-12-28T12:38:42.560Z"
   },
   {
    "duration": 7,
    "start_time": "2022-12-28T12:38:42.596Z"
   },
   {
    "duration": 20,
    "start_time": "2022-12-28T12:38:42.605Z"
   },
   {
    "duration": 7,
    "start_time": "2022-12-28T12:38:42.627Z"
   },
   {
    "duration": 27,
    "start_time": "2022-12-28T12:38:42.636Z"
   },
   {
    "duration": 47,
    "start_time": "2022-12-28T12:38:42.664Z"
   },
   {
    "duration": 23,
    "start_time": "2022-12-28T12:38:42.713Z"
   },
   {
    "duration": 15,
    "start_time": "2022-12-28T12:38:42.737Z"
   },
   {
    "duration": 5,
    "start_time": "2022-12-28T12:38:42.754Z"
   },
   {
    "duration": 10,
    "start_time": "2022-12-28T12:38:42.760Z"
   },
   {
    "duration": 38,
    "start_time": "2022-12-28T12:38:42.772Z"
   },
   {
    "duration": 701,
    "start_time": "2022-12-28T12:38:42.811Z"
   },
   {
    "duration": 663,
    "start_time": "2022-12-28T12:38:43.514Z"
   },
   {
    "duration": 832,
    "start_time": "2022-12-28T12:38:44.179Z"
   },
   {
    "duration": 536,
    "start_time": "2022-12-28T12:38:45.014Z"
   },
   {
    "duration": 531,
    "start_time": "2022-12-28T12:38:45.551Z"
   },
   {
    "duration": 644,
    "start_time": "2022-12-28T12:38:46.084Z"
   },
   {
    "duration": 556,
    "start_time": "2022-12-28T12:38:46.730Z"
   },
   {
    "duration": 500,
    "start_time": "2022-12-28T12:39:26.510Z"
   },
   {
    "duration": 622,
    "start_time": "2022-12-28T12:39:40.876Z"
   },
   {
    "duration": 3,
    "start_time": "2022-12-28T12:40:50.244Z"
   },
   {
    "duration": 420,
    "start_time": "2022-12-28T12:40:50.675Z"
   },
   {
    "duration": 386,
    "start_time": "2022-12-28T12:41:06.040Z"
   },
   {
    "duration": 1425,
    "start_time": "2022-12-28T12:59:53.510Z"
   },
   {
    "duration": 708,
    "start_time": "2022-12-28T12:59:54.938Z"
   },
   {
    "duration": 20,
    "start_time": "2022-12-28T12:59:55.648Z"
   },
   {
    "duration": 28,
    "start_time": "2022-12-28T12:59:55.670Z"
   },
   {
    "duration": 19,
    "start_time": "2022-12-28T12:59:55.700Z"
   },
   {
    "duration": 31,
    "start_time": "2022-12-28T12:59:55.721Z"
   },
   {
    "duration": 43,
    "start_time": "2022-12-28T12:59:55.754Z"
   },
   {
    "duration": 18,
    "start_time": "2022-12-28T12:59:55.799Z"
   },
   {
    "duration": 14,
    "start_time": "2022-12-28T12:59:55.819Z"
   },
   {
    "duration": 7,
    "start_time": "2022-12-28T12:59:55.835Z"
   },
   {
    "duration": 11,
    "start_time": "2022-12-28T12:59:55.843Z"
   },
   {
    "duration": 9,
    "start_time": "2022-12-28T12:59:55.855Z"
   },
   {
    "duration": 178,
    "start_time": "2022-12-28T12:59:55.865Z"
   },
   {
    "duration": 73,
    "start_time": "2022-12-28T12:59:56.045Z"
   },
   {
    "duration": 134,
    "start_time": "2022-12-28T12:59:56.120Z"
   },
   {
    "duration": 14,
    "start_time": "2022-12-28T12:59:56.255Z"
   },
   {
    "duration": 26,
    "start_time": "2022-12-28T12:59:56.271Z"
   },
   {
    "duration": 23,
    "start_time": "2022-12-28T12:59:56.299Z"
   },
   {
    "duration": 11,
    "start_time": "2022-12-28T12:59:56.324Z"
   },
   {
    "duration": 42,
    "start_time": "2022-12-28T12:59:56.337Z"
   },
   {
    "duration": 35,
    "start_time": "2022-12-28T12:59:56.381Z"
   },
   {
    "duration": 21,
    "start_time": "2022-12-28T12:59:56.418Z"
   },
   {
    "duration": 11,
    "start_time": "2022-12-28T12:59:56.441Z"
   },
   {
    "duration": 4,
    "start_time": "2022-12-28T12:59:56.454Z"
   },
   {
    "duration": 5,
    "start_time": "2022-12-28T12:59:56.460Z"
   },
   {
    "duration": 40,
    "start_time": "2022-12-28T12:59:56.467Z"
   },
   {
    "duration": 723,
    "start_time": "2022-12-28T12:59:56.509Z"
   },
   {
    "duration": 627,
    "start_time": "2022-12-28T12:59:57.235Z"
   },
   {
    "duration": 802,
    "start_time": "2022-12-28T12:59:57.864Z"
   },
   {
    "duration": 484,
    "start_time": "2022-12-28T12:59:58.667Z"
   },
   {
    "duration": 492,
    "start_time": "2022-12-28T12:59:59.153Z"
   },
   {
    "duration": 662,
    "start_time": "2022-12-28T12:59:59.647Z"
   },
   {
    "duration": 503,
    "start_time": "2022-12-28T13:00:00.311Z"
   },
   {
    "duration": 45,
    "start_time": "2022-12-28T15:17:46.866Z"
   },
   {
    "duration": 1515,
    "start_time": "2022-12-28T15:17:52.389Z"
   },
   {
    "duration": 2066,
    "start_time": "2022-12-28T15:17:53.906Z"
   },
   {
    "duration": 20,
    "start_time": "2022-12-28T15:17:55.974Z"
   },
   {
    "duration": 18,
    "start_time": "2022-12-28T15:17:55.997Z"
   },
   {
    "duration": 36,
    "start_time": "2022-12-28T15:17:56.016Z"
   },
   {
    "duration": 30,
    "start_time": "2022-12-28T15:17:56.053Z"
   },
   {
    "duration": 22,
    "start_time": "2022-12-28T15:17:56.085Z"
   },
   {
    "duration": 42,
    "start_time": "2022-12-28T15:17:56.108Z"
   },
   {
    "duration": 6,
    "start_time": "2022-12-28T15:17:56.152Z"
   },
   {
    "duration": 21,
    "start_time": "2022-12-28T15:17:56.161Z"
   },
   {
    "duration": 19,
    "start_time": "2022-12-28T15:17:56.184Z"
   },
   {
    "duration": 16,
    "start_time": "2022-12-28T15:17:56.205Z"
   },
   {
    "duration": 187,
    "start_time": "2022-12-28T15:17:56.223Z"
   },
   {
    "duration": 65,
    "start_time": "2022-12-28T15:17:56.411Z"
   },
   {
    "duration": 136,
    "start_time": "2022-12-28T15:17:56.478Z"
   },
   {
    "duration": 30,
    "start_time": "2022-12-28T15:17:56.616Z"
   },
   {
    "duration": 7,
    "start_time": "2022-12-28T15:17:56.648Z"
   },
   {
    "duration": 57,
    "start_time": "2022-12-28T15:17:56.657Z"
   },
   {
    "duration": 29,
    "start_time": "2022-12-28T15:17:56.715Z"
   },
   {
    "duration": 38,
    "start_time": "2022-12-28T15:17:56.746Z"
   },
   {
    "duration": 24,
    "start_time": "2022-12-28T15:17:56.786Z"
   },
   {
    "duration": 30,
    "start_time": "2022-12-28T15:17:56.812Z"
   },
   {
    "duration": 21,
    "start_time": "2022-12-28T15:17:56.843Z"
   },
   {
    "duration": 6,
    "start_time": "2022-12-28T15:17:56.865Z"
   },
   {
    "duration": 11,
    "start_time": "2022-12-28T15:17:56.873Z"
   },
   {
    "duration": 20,
    "start_time": "2022-12-28T15:17:56.886Z"
   },
   {
    "duration": 852,
    "start_time": "2022-12-28T15:17:56.907Z"
   },
   {
    "duration": 751,
    "start_time": "2022-12-28T15:17:57.762Z"
   },
   {
    "duration": 856,
    "start_time": "2022-12-28T15:17:58.514Z"
   },
   {
    "duration": 547,
    "start_time": "2022-12-28T15:17:59.372Z"
   },
   {
    "duration": 555,
    "start_time": "2022-12-28T15:17:59.921Z"
   },
   {
    "duration": 695,
    "start_time": "2022-12-28T15:18:00.478Z"
   },
   {
    "duration": 604,
    "start_time": "2022-12-28T15:18:01.175Z"
   },
   {
    "duration": 572,
    "start_time": "2022-12-28T15:47:42.208Z"
   },
   {
    "duration": 750,
    "start_time": "2022-12-28T15:47:51.286Z"
   },
   {
    "duration": 85,
    "start_time": "2022-12-28T15:48:03.628Z"
   },
   {
    "duration": 490,
    "start_time": "2022-12-28T15:48:10.066Z"
   },
   {
    "duration": 70,
    "start_time": "2022-12-28T15:53:33.443Z"
   },
   {
    "duration": 1412,
    "start_time": "2022-12-28T15:53:43.181Z"
   },
   {
    "duration": 692,
    "start_time": "2022-12-28T15:53:44.595Z"
   },
   {
    "duration": 18,
    "start_time": "2022-12-28T15:53:45.289Z"
   },
   {
    "duration": 30,
    "start_time": "2022-12-28T15:53:45.309Z"
   },
   {
    "duration": 20,
    "start_time": "2022-12-28T15:53:45.345Z"
   },
   {
    "duration": 30,
    "start_time": "2022-12-28T15:53:45.367Z"
   },
   {
    "duration": 47,
    "start_time": "2022-12-28T15:53:45.399Z"
   },
   {
    "duration": 36,
    "start_time": "2022-12-28T15:53:45.448Z"
   },
   {
    "duration": 6,
    "start_time": "2022-12-28T15:53:45.486Z"
   },
   {
    "duration": 15,
    "start_time": "2022-12-28T15:53:45.494Z"
   },
   {
    "duration": 14,
    "start_time": "2022-12-28T15:53:45.511Z"
   },
   {
    "duration": 32,
    "start_time": "2022-12-28T15:53:45.532Z"
   },
   {
    "duration": 196,
    "start_time": "2022-12-28T15:53:45.568Z"
   },
   {
    "duration": 78,
    "start_time": "2022-12-28T15:53:45.767Z"
   },
   {
    "duration": 136,
    "start_time": "2022-12-28T15:53:45.848Z"
   },
   {
    "duration": 15,
    "start_time": "2022-12-28T15:53:45.985Z"
   },
   {
    "duration": 34,
    "start_time": "2022-12-28T15:53:46.002Z"
   },
   {
    "duration": 34,
    "start_time": "2022-12-28T15:53:46.037Z"
   },
   {
    "duration": 19,
    "start_time": "2022-12-28T15:53:46.073Z"
   },
   {
    "duration": 45,
    "start_time": "2022-12-28T15:53:46.093Z"
   },
   {
    "duration": 31,
    "start_time": "2022-12-28T15:53:46.140Z"
   },
   {
    "duration": 21,
    "start_time": "2022-12-28T15:53:46.173Z"
   },
   {
    "duration": 12,
    "start_time": "2022-12-28T15:53:46.195Z"
   },
   {
    "duration": 15,
    "start_time": "2022-12-28T15:53:46.208Z"
   },
   {
    "duration": 36,
    "start_time": "2022-12-28T15:53:46.225Z"
   },
   {
    "duration": 30,
    "start_time": "2022-12-28T15:53:46.263Z"
   },
   {
    "duration": 763,
    "start_time": "2022-12-28T15:53:46.295Z"
   },
   {
    "duration": 667,
    "start_time": "2022-12-28T15:53:47.061Z"
   },
   {
    "duration": 813,
    "start_time": "2022-12-28T15:53:47.732Z"
   },
   {
    "duration": 534,
    "start_time": "2022-12-28T15:53:48.547Z"
   },
   {
    "duration": 577,
    "start_time": "2022-12-28T15:53:49.083Z"
   },
   {
    "duration": 687,
    "start_time": "2022-12-28T15:53:49.661Z"
   },
   {
    "duration": 543,
    "start_time": "2022-12-28T15:53:50.350Z"
   },
   {
    "duration": 86,
    "start_time": "2022-12-28T15:53:50.895Z"
   },
   {
    "duration": 0,
    "start_time": "2022-12-28T15:53:50.982Z"
   },
   {
    "duration": 483,
    "start_time": "2022-12-28T15:55:05.311Z"
   },
   {
    "duration": 370,
    "start_time": "2022-12-28T15:55:49.342Z"
   },
   {
    "duration": 445,
    "start_time": "2022-12-28T15:55:51.427Z"
   },
   {
    "duration": 483,
    "start_time": "2022-12-28T15:56:01.305Z"
   },
   {
    "duration": 712,
    "start_time": "2022-12-28T15:56:10.890Z"
   },
   {
    "duration": 1535,
    "start_time": "2022-12-28T15:56:44.162Z"
   },
   {
    "duration": 741,
    "start_time": "2022-12-28T15:56:45.700Z"
   },
   {
    "duration": 21,
    "start_time": "2022-12-28T15:56:46.443Z"
   },
   {
    "duration": 13,
    "start_time": "2022-12-28T15:56:46.467Z"
   },
   {
    "duration": 17,
    "start_time": "2022-12-28T15:56:46.481Z"
   },
   {
    "duration": 48,
    "start_time": "2022-12-28T15:56:46.500Z"
   },
   {
    "duration": 22,
    "start_time": "2022-12-28T15:56:46.550Z"
   },
   {
    "duration": 23,
    "start_time": "2022-12-28T15:56:46.573Z"
   },
   {
    "duration": 19,
    "start_time": "2022-12-28T15:56:46.598Z"
   },
   {
    "duration": 31,
    "start_time": "2022-12-28T15:56:46.619Z"
   },
   {
    "duration": 17,
    "start_time": "2022-12-28T15:56:46.652Z"
   },
   {
    "duration": 12,
    "start_time": "2022-12-28T15:56:46.671Z"
   },
   {
    "duration": 160,
    "start_time": "2022-12-28T15:56:46.685Z"
   },
   {
    "duration": 49,
    "start_time": "2022-12-28T15:56:46.847Z"
   },
   {
    "duration": 185,
    "start_time": "2022-12-28T15:56:46.898Z"
   },
   {
    "duration": 16,
    "start_time": "2022-12-28T15:56:47.085Z"
   },
   {
    "duration": 23,
    "start_time": "2022-12-28T15:56:47.103Z"
   },
   {
    "duration": 32,
    "start_time": "2022-12-28T15:56:47.133Z"
   },
   {
    "duration": 12,
    "start_time": "2022-12-28T15:56:47.167Z"
   },
   {
    "duration": 33,
    "start_time": "2022-12-28T15:56:47.181Z"
   },
   {
    "duration": 28,
    "start_time": "2022-12-28T15:56:47.216Z"
   },
   {
    "duration": 25,
    "start_time": "2022-12-28T15:56:47.246Z"
   },
   {
    "duration": 15,
    "start_time": "2022-12-28T15:56:47.273Z"
   },
   {
    "duration": 10,
    "start_time": "2022-12-28T15:56:47.290Z"
   },
   {
    "duration": 16,
    "start_time": "2022-12-28T15:56:47.301Z"
   },
   {
    "duration": 42,
    "start_time": "2022-12-28T15:56:47.320Z"
   },
   {
    "duration": 784,
    "start_time": "2022-12-28T15:56:47.363Z"
   },
   {
    "duration": 654,
    "start_time": "2022-12-28T15:56:48.149Z"
   },
   {
    "duration": 830,
    "start_time": "2022-12-28T15:56:48.805Z"
   },
   {
    "duration": 558,
    "start_time": "2022-12-28T15:56:49.641Z"
   },
   {
    "duration": 532,
    "start_time": "2022-12-28T15:56:50.201Z"
   },
   {
    "duration": 667,
    "start_time": "2022-12-28T15:56:50.734Z"
   },
   {
    "duration": 574,
    "start_time": "2022-12-28T15:56:51.403Z"
   },
   {
    "duration": 437,
    "start_time": "2022-12-28T15:56:51.979Z"
   },
   {
    "duration": 429,
    "start_time": "2022-12-28T15:56:52.417Z"
   },
   {
    "duration": 533,
    "start_time": "2022-12-28T15:59:05.042Z"
   },
   {
    "duration": 449,
    "start_time": "2022-12-28T15:59:10.312Z"
   },
   {
    "duration": 399,
    "start_time": "2022-12-28T15:59:19.470Z"
   },
   {
    "duration": 601,
    "start_time": "2022-12-28T15:59:25.675Z"
   },
   {
    "duration": 479,
    "start_time": "2022-12-28T15:59:31.652Z"
   },
   {
    "duration": 393,
    "start_time": "2022-12-28T15:59:36.980Z"
   },
   {
    "duration": 448,
    "start_time": "2022-12-28T16:02:54.216Z"
   },
   {
    "duration": 1407,
    "start_time": "2022-12-28T16:24:08.265Z"
   },
   {
    "duration": 706,
    "start_time": "2022-12-28T16:24:09.674Z"
   },
   {
    "duration": 18,
    "start_time": "2022-12-28T16:24:10.381Z"
   },
   {
    "duration": 13,
    "start_time": "2022-12-28T16:24:10.401Z"
   },
   {
    "duration": 36,
    "start_time": "2022-12-28T16:24:10.415Z"
   },
   {
    "duration": 23,
    "start_time": "2022-12-28T16:24:10.453Z"
   },
   {
    "duration": 21,
    "start_time": "2022-12-28T16:24:10.478Z"
   },
   {
    "duration": 51,
    "start_time": "2022-12-28T16:24:10.501Z"
   },
   {
    "duration": 8,
    "start_time": "2022-12-28T16:24:10.553Z"
   },
   {
    "duration": 9,
    "start_time": "2022-12-28T16:24:10.563Z"
   },
   {
    "duration": 10,
    "start_time": "2022-12-28T16:24:10.573Z"
   },
   {
    "duration": 5,
    "start_time": "2022-12-28T16:24:10.585Z"
   },
   {
    "duration": 178,
    "start_time": "2022-12-28T16:24:10.591Z"
   },
   {
    "duration": 69,
    "start_time": "2022-12-28T16:24:10.771Z"
   },
   {
    "duration": 148,
    "start_time": "2022-12-28T16:24:10.842Z"
   },
   {
    "duration": 14,
    "start_time": "2022-12-28T16:24:10.992Z"
   },
   {
    "duration": 34,
    "start_time": "2022-12-28T16:24:11.008Z"
   },
   {
    "duration": 26,
    "start_time": "2022-12-28T16:24:11.044Z"
   },
   {
    "duration": 9,
    "start_time": "2022-12-28T16:24:11.071Z"
   },
   {
    "duration": 26,
    "start_time": "2022-12-28T16:24:11.081Z"
   },
   {
    "duration": 41,
    "start_time": "2022-12-28T16:24:11.109Z"
   },
   {
    "duration": 21,
    "start_time": "2022-12-28T16:24:11.152Z"
   },
   {
    "duration": 12,
    "start_time": "2022-12-28T16:24:11.175Z"
   },
   {
    "duration": 14,
    "start_time": "2022-12-28T16:24:11.189Z"
   },
   {
    "duration": 12,
    "start_time": "2022-12-28T16:24:11.204Z"
   },
   {
    "duration": 28,
    "start_time": "2022-12-28T16:24:11.217Z"
   },
   {
    "duration": 795,
    "start_time": "2022-12-28T16:24:11.246Z"
   },
   {
    "duration": 739,
    "start_time": "2022-12-28T16:24:12.046Z"
   },
   {
    "duration": 856,
    "start_time": "2022-12-28T16:24:12.787Z"
   },
   {
    "duration": 557,
    "start_time": "2022-12-28T16:24:13.645Z"
   },
   {
    "duration": 538,
    "start_time": "2022-12-28T16:24:14.204Z"
   },
   {
    "duration": 737,
    "start_time": "2022-12-28T16:24:14.744Z"
   },
   {
    "duration": 674,
    "start_time": "2022-12-28T16:24:15.484Z"
   },
   {
    "duration": 382,
    "start_time": "2022-12-28T16:24:16.159Z"
   },
   {
    "duration": 418,
    "start_time": "2022-12-28T16:24:16.543Z"
   },
   {
    "duration": 4,
    "start_time": "2022-12-28T16:24:16.962Z"
   },
   {
    "duration": 297,
    "start_time": "2022-12-28T16:24:16.968Z"
   },
   {
    "duration": 114,
    "start_time": "2022-12-28T16:24:17.267Z"
   },
   {
    "duration": 0,
    "start_time": "2022-12-28T16:24:17.383Z"
   },
   {
    "duration": 412,
    "start_time": "2022-12-28T16:24:37.216Z"
   },
   {
    "duration": 308,
    "start_time": "2022-12-28T16:24:44.130Z"
   },
   {
    "duration": 3,
    "start_time": "2022-12-28T16:59:17.589Z"
   },
   {
    "duration": 4,
    "start_time": "2022-12-28T16:59:18.374Z"
   },
   {
    "duration": 35,
    "start_time": "2022-12-28T16:59:19.623Z"
   },
   {
    "duration": 9,
    "start_time": "2022-12-28T16:59:38.839Z"
   },
   {
    "duration": 10,
    "start_time": "2022-12-28T16:59:52.473Z"
   },
   {
    "duration": 73,
    "start_time": "2022-12-28T17:00:14.438Z"
   },
   {
    "duration": 1377,
    "start_time": "2022-12-28T17:06:14.220Z"
   },
   {
    "duration": 731,
    "start_time": "2022-12-28T17:06:15.600Z"
   },
   {
    "duration": 19,
    "start_time": "2022-12-28T17:06:16.333Z"
   },
   {
    "duration": 28,
    "start_time": "2022-12-28T17:06:16.354Z"
   },
   {
    "duration": 29,
    "start_time": "2022-12-28T17:06:16.384Z"
   },
   {
    "duration": 53,
    "start_time": "2022-12-28T17:06:16.414Z"
   },
   {
    "duration": 25,
    "start_time": "2022-12-28T17:06:16.468Z"
   },
   {
    "duration": 50,
    "start_time": "2022-12-28T17:06:16.495Z"
   },
   {
    "duration": 16,
    "start_time": "2022-12-28T17:06:16.547Z"
   },
   {
    "duration": 27,
    "start_time": "2022-12-28T17:06:16.566Z"
   },
   {
    "duration": 15,
    "start_time": "2022-12-28T17:06:16.595Z"
   },
   {
    "duration": 26,
    "start_time": "2022-12-28T17:06:16.612Z"
   },
   {
    "duration": 158,
    "start_time": "2022-12-28T17:06:16.640Z"
   },
   {
    "duration": 64,
    "start_time": "2022-12-28T17:06:16.800Z"
   },
   {
    "duration": 131,
    "start_time": "2022-12-28T17:06:16.865Z"
   },
   {
    "duration": 14,
    "start_time": "2022-12-28T17:06:16.998Z"
   },
   {
    "duration": 35,
    "start_time": "2022-12-28T17:06:17.013Z"
   },
   {
    "duration": 27,
    "start_time": "2022-12-28T17:06:17.049Z"
   },
   {
    "duration": 18,
    "start_time": "2022-12-28T17:06:17.078Z"
   },
   {
    "duration": 52,
    "start_time": "2022-12-28T17:06:17.098Z"
   },
   {
    "duration": 25,
    "start_time": "2022-12-28T17:06:17.152Z"
   },
   {
    "duration": 22,
    "start_time": "2022-12-28T17:06:17.179Z"
   },
   {
    "duration": 33,
    "start_time": "2022-12-28T17:06:17.203Z"
   },
   {
    "duration": 6,
    "start_time": "2022-12-28T17:06:17.238Z"
   },
   {
    "duration": 36,
    "start_time": "2022-12-28T17:06:17.245Z"
   },
   {
    "duration": 46,
    "start_time": "2022-12-28T17:06:17.283Z"
   },
   {
    "duration": 746,
    "start_time": "2022-12-28T17:06:17.331Z"
   },
   {
    "duration": 661,
    "start_time": "2022-12-28T17:06:18.080Z"
   },
   {
    "duration": 750,
    "start_time": "2022-12-28T17:06:18.746Z"
   },
   {
    "duration": 503,
    "start_time": "2022-12-28T17:06:19.497Z"
   },
   {
    "duration": 501,
    "start_time": "2022-12-28T17:06:20.002Z"
   },
   {
    "duration": 635,
    "start_time": "2022-12-28T17:06:20.505Z"
   },
   {
    "duration": 547,
    "start_time": "2022-12-28T17:06:21.142Z"
   },
   {
    "duration": 443,
    "start_time": "2022-12-28T17:06:21.691Z"
   },
   {
    "duration": 510,
    "start_time": "2022-12-28T17:06:22.139Z"
   },
   {
    "duration": 4,
    "start_time": "2022-12-28T17:06:22.651Z"
   },
   {
    "duration": 306,
    "start_time": "2022-12-28T17:06:22.657Z"
   },
   {
    "duration": 380,
    "start_time": "2022-12-28T17:06:22.965Z"
   },
   {
    "duration": 291,
    "start_time": "2022-12-28T17:06:23.347Z"
   },
   {
    "duration": 5,
    "start_time": "2022-12-28T17:06:23.640Z"
   },
   {
    "duration": 9,
    "start_time": "2022-12-28T17:06:23.646Z"
   },
   {
    "duration": 46,
    "start_time": "2022-12-28T17:06:23.657Z"
   },
   {
    "duration": 3,
    "start_time": "2022-12-28T17:06:23.705Z"
   },
   {
    "duration": 134,
    "start_time": "2022-12-28T17:06:23.710Z"
   },
   {
    "duration": 0,
    "start_time": "2022-12-28T17:06:23.845Z"
   },
   {
    "duration": 0,
    "start_time": "2022-12-28T17:06:23.846Z"
   },
   {
    "duration": 3,
    "start_time": "2022-12-28T17:06:37.114Z"
   },
   {
    "duration": 16,
    "start_time": "2022-12-28T17:06:37.858Z"
   },
   {
    "duration": 15,
    "start_time": "2022-12-28T17:06:44.110Z"
   },
   {
    "duration": 3,
    "start_time": "2022-12-28T17:06:48.886Z"
   },
   {
    "duration": 15,
    "start_time": "2022-12-28T17:06:49.143Z"
   },
   {
    "duration": 12,
    "start_time": "2022-12-28T17:06:49.854Z"
   },
   {
    "duration": 11,
    "start_time": "2022-12-28T17:06:50.876Z"
   },
   {
    "duration": 32,
    "start_time": "2022-12-28T17:07:47.916Z"
   },
   {
    "duration": 3,
    "start_time": "2022-12-28T17:07:57.545Z"
   },
   {
    "duration": 20,
    "start_time": "2022-12-28T17:07:58.096Z"
   },
   {
    "duration": 1424,
    "start_time": "2022-12-28T17:08:14.799Z"
   },
   {
    "duration": 697,
    "start_time": "2022-12-28T17:08:16.225Z"
   },
   {
    "duration": 31,
    "start_time": "2022-12-28T17:08:16.924Z"
   },
   {
    "duration": 11,
    "start_time": "2022-12-28T17:08:16.957Z"
   },
   {
    "duration": 21,
    "start_time": "2022-12-28T17:08:16.970Z"
   },
   {
    "duration": 24,
    "start_time": "2022-12-28T17:08:16.992Z"
   },
   {
    "duration": 24,
    "start_time": "2022-12-28T17:08:17.032Z"
   },
   {
    "duration": 27,
    "start_time": "2022-12-28T17:08:17.057Z"
   },
   {
    "duration": 7,
    "start_time": "2022-12-28T17:08:17.086Z"
   },
   {
    "duration": 11,
    "start_time": "2022-12-28T17:08:17.095Z"
   },
   {
    "duration": 10,
    "start_time": "2022-12-28T17:08:17.108Z"
   },
   {
    "duration": 4,
    "start_time": "2022-12-28T17:08:17.136Z"
   },
   {
    "duration": 144,
    "start_time": "2022-12-28T17:08:17.142Z"
   },
   {
    "duration": 63,
    "start_time": "2022-12-28T17:08:17.287Z"
   },
   {
    "duration": 131,
    "start_time": "2022-12-28T17:08:17.352Z"
   },
   {
    "duration": 12,
    "start_time": "2022-12-28T17:08:17.485Z"
   },
   {
    "duration": 5,
    "start_time": "2022-12-28T17:08:17.499Z"
   },
   {
    "duration": 45,
    "start_time": "2022-12-28T17:08:17.505Z"
   },
   {
    "duration": 6,
    "start_time": "2022-12-28T17:08:17.552Z"
   },
   {
    "duration": 29,
    "start_time": "2022-12-28T17:08:17.559Z"
   },
   {
    "duration": 23,
    "start_time": "2022-12-28T17:08:17.590Z"
   },
   {
    "duration": 25,
    "start_time": "2022-12-28T17:08:17.637Z"
   },
   {
    "duration": 11,
    "start_time": "2022-12-28T17:08:17.664Z"
   },
   {
    "duration": 5,
    "start_time": "2022-12-28T17:08:17.676Z"
   },
   {
    "duration": 9,
    "start_time": "2022-12-28T17:08:17.682Z"
   },
   {
    "duration": 15,
    "start_time": "2022-12-28T17:08:17.692Z"
   },
   {
    "duration": 808,
    "start_time": "2022-12-28T17:08:17.708Z"
   },
   {
    "duration": 753,
    "start_time": "2022-12-28T17:08:18.519Z"
   },
   {
    "duration": 828,
    "start_time": "2022-12-28T17:08:19.274Z"
   },
   {
    "duration": 540,
    "start_time": "2022-12-28T17:08:20.103Z"
   },
   {
    "duration": 553,
    "start_time": "2022-12-28T17:08:20.645Z"
   },
   {
    "duration": 709,
    "start_time": "2022-12-28T17:08:21.201Z"
   },
   {
    "duration": 509,
    "start_time": "2022-12-28T17:08:21.912Z"
   },
   {
    "duration": 415,
    "start_time": "2022-12-28T17:08:22.422Z"
   },
   {
    "duration": 409,
    "start_time": "2022-12-28T17:08:22.839Z"
   },
   {
    "duration": 6,
    "start_time": "2022-12-28T17:08:23.250Z"
   },
   {
    "duration": 290,
    "start_time": "2022-12-28T17:08:23.258Z"
   },
   {
    "duration": 403,
    "start_time": "2022-12-28T17:08:23.550Z"
   },
   {
    "duration": 289,
    "start_time": "2022-12-28T17:08:23.954Z"
   },
   {
    "duration": 3,
    "start_time": "2022-12-28T17:08:24.245Z"
   },
   {
    "duration": 7,
    "start_time": "2022-12-28T17:08:24.250Z"
   },
   {
    "duration": 45,
    "start_time": "2022-12-28T17:08:24.258Z"
   },
   {
    "duration": 3,
    "start_time": "2022-12-28T17:08:24.304Z"
   },
   {
    "duration": 31,
    "start_time": "2022-12-28T17:08:24.309Z"
   },
   {
    "duration": 14,
    "start_time": "2022-12-28T17:08:24.342Z"
   },
   {
    "duration": 14,
    "start_time": "2022-12-28T17:08:24.357Z"
   },
   {
    "duration": 1347,
    "start_time": "2022-12-28T17:10:21.921Z"
   },
   {
    "duration": 680,
    "start_time": "2022-12-28T17:10:23.270Z"
   },
   {
    "duration": 18,
    "start_time": "2022-12-28T17:10:23.952Z"
   },
   {
    "duration": 13,
    "start_time": "2022-12-28T17:10:23.972Z"
   },
   {
    "duration": 15,
    "start_time": "2022-12-28T17:10:23.987Z"
   },
   {
    "duration": 52,
    "start_time": "2022-12-28T17:10:24.004Z"
   },
   {
    "duration": 21,
    "start_time": "2022-12-28T17:10:24.057Z"
   },
   {
    "duration": 26,
    "start_time": "2022-12-28T17:10:24.080Z"
   },
   {
    "duration": 7,
    "start_time": "2022-12-28T17:10:24.107Z"
   },
   {
    "duration": 11,
    "start_time": "2022-12-28T17:10:24.128Z"
   },
   {
    "duration": 10,
    "start_time": "2022-12-28T17:10:24.141Z"
   },
   {
    "duration": 6,
    "start_time": "2022-12-28T17:10:24.153Z"
   },
   {
    "duration": 154,
    "start_time": "2022-12-28T17:10:24.160Z"
   },
   {
    "duration": 54,
    "start_time": "2022-12-28T17:10:24.316Z"
   },
   {
    "duration": 136,
    "start_time": "2022-12-28T17:10:24.372Z"
   },
   {
    "duration": 30,
    "start_time": "2022-12-28T17:10:24.510Z"
   },
   {
    "duration": 5,
    "start_time": "2022-12-28T17:10:24.542Z"
   },
   {
    "duration": 27,
    "start_time": "2022-12-28T17:10:24.549Z"
   },
   {
    "duration": 7,
    "start_time": "2022-12-28T17:10:24.578Z"
   },
   {
    "duration": 26,
    "start_time": "2022-12-28T17:10:24.586Z"
   },
   {
    "duration": 24,
    "start_time": "2022-12-28T17:10:24.627Z"
   },
   {
    "duration": 21,
    "start_time": "2022-12-28T17:10:24.652Z"
   },
   {
    "duration": 11,
    "start_time": "2022-12-28T17:10:24.675Z"
   },
   {
    "duration": 4,
    "start_time": "2022-12-28T17:10:24.687Z"
   },
   {
    "duration": 13,
    "start_time": "2022-12-28T17:10:24.693Z"
   },
   {
    "duration": 40,
    "start_time": "2022-12-28T17:10:24.707Z"
   },
   {
    "duration": 754,
    "start_time": "2022-12-28T17:10:24.749Z"
   },
   {
    "duration": 724,
    "start_time": "2022-12-28T17:10:25.506Z"
   },
   {
    "duration": 766,
    "start_time": "2022-12-28T17:10:26.237Z"
   },
   {
    "duration": 534,
    "start_time": "2022-12-28T17:10:27.005Z"
   },
   {
    "duration": 502,
    "start_time": "2022-12-28T17:10:27.542Z"
   },
   {
    "duration": 638,
    "start_time": "2022-12-28T17:10:28.046Z"
   },
   {
    "duration": 522,
    "start_time": "2022-12-28T17:10:28.685Z"
   },
   {
    "duration": 434,
    "start_time": "2022-12-28T17:10:29.209Z"
   },
   {
    "duration": 408,
    "start_time": "2022-12-28T17:10:29.645Z"
   },
   {
    "duration": 5,
    "start_time": "2022-12-28T17:10:30.054Z"
   },
   {
    "duration": 303,
    "start_time": "2022-12-28T17:10:30.060Z"
   },
   {
    "duration": 417,
    "start_time": "2022-12-28T17:10:30.365Z"
   },
   {
    "duration": 287,
    "start_time": "2022-12-28T17:10:30.784Z"
   },
   {
    "duration": 3,
    "start_time": "2022-12-28T17:10:31.073Z"
   },
   {
    "duration": 25,
    "start_time": "2022-12-28T17:10:31.078Z"
   },
   {
    "duration": 49,
    "start_time": "2022-12-28T17:10:31.104Z"
   },
   {
    "duration": 3,
    "start_time": "2022-12-28T17:10:31.154Z"
   },
   {
    "duration": 29,
    "start_time": "2022-12-28T17:10:31.159Z"
   },
   {
    "duration": 22,
    "start_time": "2022-12-28T17:10:31.189Z"
   },
   {
    "duration": 25,
    "start_time": "2022-12-28T17:10:31.213Z"
   },
   {
    "duration": 1362,
    "start_time": "2022-12-28T17:11:03.053Z"
   },
   {
    "duration": 693,
    "start_time": "2022-12-28T17:11:04.417Z"
   },
   {
    "duration": 26,
    "start_time": "2022-12-28T17:11:05.111Z"
   },
   {
    "duration": 12,
    "start_time": "2022-12-28T17:11:05.139Z"
   },
   {
    "duration": 15,
    "start_time": "2022-12-28T17:11:05.152Z"
   },
   {
    "duration": 23,
    "start_time": "2022-12-28T17:11:05.168Z"
   },
   {
    "duration": 44,
    "start_time": "2022-12-28T17:11:05.192Z"
   },
   {
    "duration": 20,
    "start_time": "2022-12-28T17:11:05.238Z"
   },
   {
    "duration": 12,
    "start_time": "2022-12-28T17:11:05.259Z"
   },
   {
    "duration": 23,
    "start_time": "2022-12-28T17:11:05.273Z"
   },
   {
    "duration": 9,
    "start_time": "2022-12-28T17:11:05.297Z"
   },
   {
    "duration": 6,
    "start_time": "2022-12-28T17:11:05.307Z"
   },
   {
    "duration": 166,
    "start_time": "2022-12-28T17:11:05.314Z"
   },
   {
    "duration": 81,
    "start_time": "2022-12-28T17:11:05.482Z"
   },
   {
    "duration": 150,
    "start_time": "2022-12-28T17:11:05.564Z"
   },
   {
    "duration": 21,
    "start_time": "2022-12-28T17:11:05.726Z"
   },
   {
    "duration": 8,
    "start_time": "2022-12-28T17:11:05.749Z"
   },
   {
    "duration": 35,
    "start_time": "2022-12-28T17:11:05.758Z"
   },
   {
    "duration": 8,
    "start_time": "2022-12-28T17:11:05.795Z"
   },
   {
    "duration": 55,
    "start_time": "2022-12-28T17:11:05.804Z"
   },
   {
    "duration": 30,
    "start_time": "2022-12-28T17:11:05.863Z"
   },
   {
    "duration": 27,
    "start_time": "2022-12-28T17:11:05.895Z"
   },
   {
    "duration": 22,
    "start_time": "2022-12-28T17:11:05.924Z"
   },
   {
    "duration": 7,
    "start_time": "2022-12-28T17:11:05.948Z"
   },
   {
    "duration": 65,
    "start_time": "2022-12-28T17:11:05.956Z"
   },
   {
    "duration": 33,
    "start_time": "2022-12-28T17:11:06.023Z"
   },
   {
    "duration": 738,
    "start_time": "2022-12-28T17:11:06.058Z"
   },
   {
    "duration": 721,
    "start_time": "2022-12-28T17:11:06.800Z"
   },
   {
    "duration": 791,
    "start_time": "2022-12-28T17:11:07.523Z"
   },
   {
    "duration": 493,
    "start_time": "2022-12-28T17:11:08.316Z"
   },
   {
    "duration": 510,
    "start_time": "2022-12-28T17:11:08.811Z"
   },
   {
    "duration": 675,
    "start_time": "2022-12-28T17:11:09.323Z"
   },
   {
    "duration": 524,
    "start_time": "2022-12-28T17:11:09.999Z"
   },
   {
    "duration": 435,
    "start_time": "2022-12-28T17:11:10.525Z"
   },
   {
    "duration": 489,
    "start_time": "2022-12-28T17:11:10.961Z"
   },
   {
    "duration": 4,
    "start_time": "2022-12-28T17:11:11.452Z"
   },
   {
    "duration": 311,
    "start_time": "2022-12-28T17:11:11.457Z"
   },
   {
    "duration": 397,
    "start_time": "2022-12-28T17:11:11.770Z"
   },
   {
    "duration": 290,
    "start_time": "2022-12-28T17:11:12.168Z"
   },
   {
    "duration": 3,
    "start_time": "2022-12-28T17:11:12.460Z"
   },
   {
    "duration": 7,
    "start_time": "2022-12-28T17:11:12.465Z"
   },
   {
    "duration": 36,
    "start_time": "2022-12-28T17:11:12.474Z"
   },
   {
    "duration": 3,
    "start_time": "2022-12-28T17:11:12.511Z"
   },
   {
    "duration": 16,
    "start_time": "2022-12-28T17:11:12.531Z"
   },
   {
    "duration": 14,
    "start_time": "2022-12-28T17:11:12.549Z"
   },
   {
    "duration": 8,
    "start_time": "2022-12-28T17:11:12.565Z"
   },
   {
    "duration": 1479,
    "start_time": "2022-12-28T17:11:43.841Z"
   },
   {
    "duration": 739,
    "start_time": "2022-12-28T17:11:45.322Z"
   },
   {
    "duration": 19,
    "start_time": "2022-12-28T17:11:46.062Z"
   },
   {
    "duration": 21,
    "start_time": "2022-12-28T17:11:46.083Z"
   },
   {
    "duration": 24,
    "start_time": "2022-12-28T17:11:46.107Z"
   },
   {
    "duration": 29,
    "start_time": "2022-12-28T17:11:46.133Z"
   },
   {
    "duration": 31,
    "start_time": "2022-12-28T17:11:46.166Z"
   },
   {
    "duration": 42,
    "start_time": "2022-12-28T17:11:46.198Z"
   },
   {
    "duration": 26,
    "start_time": "2022-12-28T17:11:46.242Z"
   },
   {
    "duration": 22,
    "start_time": "2022-12-28T17:11:46.270Z"
   },
   {
    "duration": 25,
    "start_time": "2022-12-28T17:11:46.293Z"
   },
   {
    "duration": 31,
    "start_time": "2022-12-28T17:11:46.319Z"
   },
   {
    "duration": 160,
    "start_time": "2022-12-28T17:11:46.352Z"
   },
   {
    "duration": 65,
    "start_time": "2022-12-28T17:11:46.514Z"
   },
   {
    "duration": 155,
    "start_time": "2022-12-28T17:11:46.580Z"
   },
   {
    "duration": 14,
    "start_time": "2022-12-28T17:11:46.736Z"
   },
   {
    "duration": 13,
    "start_time": "2022-12-28T17:11:46.751Z"
   },
   {
    "duration": 56,
    "start_time": "2022-12-28T17:11:46.766Z"
   },
   {
    "duration": 43,
    "start_time": "2022-12-28T17:11:46.824Z"
   },
   {
    "duration": 50,
    "start_time": "2022-12-28T17:11:46.869Z"
   },
   {
    "duration": 29,
    "start_time": "2022-12-28T17:11:46.921Z"
   },
   {
    "duration": 30,
    "start_time": "2022-12-28T17:11:46.952Z"
   },
   {
    "duration": 26,
    "start_time": "2022-12-28T17:11:46.984Z"
   },
   {
    "duration": 28,
    "start_time": "2022-12-28T17:11:47.012Z"
   },
   {
    "duration": 20,
    "start_time": "2022-12-28T17:11:47.042Z"
   },
   {
    "duration": 33,
    "start_time": "2022-12-28T17:11:47.063Z"
   },
   {
    "duration": 757,
    "start_time": "2022-12-28T17:11:47.098Z"
   },
   {
    "duration": 666,
    "start_time": "2022-12-28T17:11:47.857Z"
   },
   {
    "duration": 772,
    "start_time": "2022-12-28T17:11:48.525Z"
   },
   {
    "duration": 487,
    "start_time": "2022-12-28T17:11:49.298Z"
   },
   {
    "duration": 508,
    "start_time": "2022-12-28T17:11:49.786Z"
   },
   {
    "duration": 619,
    "start_time": "2022-12-28T17:11:50.296Z"
   },
   {
    "duration": 494,
    "start_time": "2022-12-28T17:11:50.917Z"
   },
   {
    "duration": 423,
    "start_time": "2022-12-28T17:11:51.412Z"
   },
   {
    "duration": 412,
    "start_time": "2022-12-28T17:11:51.839Z"
   },
   {
    "duration": 3,
    "start_time": "2022-12-28T17:11:52.253Z"
   },
   {
    "duration": 281,
    "start_time": "2022-12-28T17:11:52.258Z"
   },
   {
    "duration": 378,
    "start_time": "2022-12-28T17:11:52.541Z"
   },
   {
    "duration": 272,
    "start_time": "2022-12-28T17:11:52.920Z"
   },
   {
    "duration": 3,
    "start_time": "2022-12-28T17:11:53.193Z"
   },
   {
    "duration": 6,
    "start_time": "2022-12-28T17:11:53.199Z"
   },
   {
    "duration": 44,
    "start_time": "2022-12-28T17:11:53.207Z"
   },
   {
    "duration": 2,
    "start_time": "2022-12-28T17:11:53.253Z"
   },
   {
    "duration": 20,
    "start_time": "2022-12-28T17:11:53.257Z"
   },
   {
    "duration": 15,
    "start_time": "2022-12-28T17:11:53.278Z"
   },
   {
    "duration": 8,
    "start_time": "2022-12-28T17:11:53.294Z"
   },
   {
    "duration": 7,
    "start_time": "2022-12-28T17:13:15.589Z"
   },
   {
    "duration": 117,
    "start_time": "2022-12-28T17:13:26.995Z"
   },
   {
    "duration": 1431,
    "start_time": "2022-12-28T17:13:39.083Z"
   },
   {
    "duration": 650,
    "start_time": "2022-12-28T17:13:40.516Z"
   },
   {
    "duration": 19,
    "start_time": "2022-12-28T17:13:41.168Z"
   },
   {
    "duration": 11,
    "start_time": "2022-12-28T17:13:41.189Z"
   },
   {
    "duration": 42,
    "start_time": "2022-12-28T17:13:41.201Z"
   },
   {
    "duration": 24,
    "start_time": "2022-12-28T17:13:41.245Z"
   },
   {
    "duration": 21,
    "start_time": "2022-12-28T17:13:41.271Z"
   },
   {
    "duration": 37,
    "start_time": "2022-12-28T17:13:41.294Z"
   },
   {
    "duration": 9,
    "start_time": "2022-12-28T17:13:41.334Z"
   },
   {
    "duration": 12,
    "start_time": "2022-12-28T17:13:41.346Z"
   },
   {
    "duration": 8,
    "start_time": "2022-12-28T17:13:41.360Z"
   },
   {
    "duration": 6,
    "start_time": "2022-12-28T17:13:41.370Z"
   },
   {
    "duration": 183,
    "start_time": "2022-12-28T17:13:41.377Z"
   },
   {
    "duration": 83,
    "start_time": "2022-12-28T17:13:41.562Z"
   },
   {
    "duration": 134,
    "start_time": "2022-12-28T17:13:41.653Z"
   },
   {
    "duration": 17,
    "start_time": "2022-12-28T17:13:41.789Z"
   },
   {
    "duration": 31,
    "start_time": "2022-12-28T17:13:41.808Z"
   },
   {
    "duration": 38,
    "start_time": "2022-12-28T17:13:41.844Z"
   },
   {
    "duration": 12,
    "start_time": "2022-12-28T17:13:41.884Z"
   },
   {
    "duration": 41,
    "start_time": "2022-12-28T17:13:41.898Z"
   },
   {
    "duration": 26,
    "start_time": "2022-12-28T17:13:41.941Z"
   },
   {
    "duration": 24,
    "start_time": "2022-12-28T17:13:41.968Z"
   },
   {
    "duration": 12,
    "start_time": "2022-12-28T17:13:41.994Z"
   },
   {
    "duration": 23,
    "start_time": "2022-12-28T17:13:42.008Z"
   },
   {
    "duration": 26,
    "start_time": "2022-12-28T17:13:42.034Z"
   },
   {
    "duration": 29,
    "start_time": "2022-12-28T17:13:42.062Z"
   },
   {
    "duration": 746,
    "start_time": "2022-12-28T17:13:42.093Z"
   },
   {
    "duration": 677,
    "start_time": "2022-12-28T17:13:42.847Z"
   },
   {
    "duration": 773,
    "start_time": "2022-12-28T17:13:43.526Z"
   },
   {
    "duration": 520,
    "start_time": "2022-12-28T17:13:44.300Z"
   },
   {
    "duration": 523,
    "start_time": "2022-12-28T17:13:44.822Z"
   },
   {
    "duration": 732,
    "start_time": "2022-12-28T17:13:45.347Z"
   },
   {
    "duration": 525,
    "start_time": "2022-12-28T17:13:46.081Z"
   },
   {
    "duration": 546,
    "start_time": "2022-12-28T17:13:46.608Z"
   },
   {
    "duration": 379,
    "start_time": "2022-12-28T17:13:47.156Z"
   },
   {
    "duration": 9,
    "start_time": "2022-12-28T17:13:47.538Z"
   },
   {
    "duration": 265,
    "start_time": "2022-12-28T17:13:47.549Z"
   },
   {
    "duration": 398,
    "start_time": "2022-12-28T17:13:47.817Z"
   },
   {
    "duration": 265,
    "start_time": "2022-12-28T17:13:48.217Z"
   },
   {
    "duration": 3,
    "start_time": "2022-12-28T17:13:48.484Z"
   },
   {
    "duration": 17,
    "start_time": "2022-12-28T17:13:48.488Z"
   },
   {
    "duration": 45,
    "start_time": "2022-12-28T17:13:48.506Z"
   },
   {
    "duration": 4,
    "start_time": "2022-12-28T17:13:48.552Z"
   },
   {
    "duration": 22,
    "start_time": "2022-12-28T17:13:48.558Z"
   },
   {
    "duration": 16,
    "start_time": "2022-12-28T17:13:48.582Z"
   },
   {
    "duration": 11,
    "start_time": "2022-12-28T17:13:48.600Z"
   },
   {
    "duration": 9,
    "start_time": "2022-12-28T17:13:48.628Z"
   },
   {
    "duration": 3,
    "start_time": "2022-12-28T17:13:57.780Z"
   },
   {
    "duration": 3,
    "start_time": "2022-12-28T17:14:06.695Z"
   },
   {
    "duration": 71,
    "start_time": "2022-12-28T17:25:29.675Z"
   },
   {
    "duration": 261,
    "start_time": "2022-12-28T17:25:39.449Z"
   },
   {
    "duration": 73,
    "start_time": "2022-12-28T17:26:24.575Z"
   },
   {
    "duration": 437,
    "start_time": "2022-12-28T17:26:29.402Z"
   },
   {
    "duration": 365,
    "start_time": "2022-12-28T17:26:49.472Z"
   },
   {
    "duration": 425,
    "start_time": "2022-12-28T17:27:11.573Z"
   },
   {
    "duration": 436,
    "start_time": "2022-12-28T17:28:51.311Z"
   },
   {
    "duration": 380,
    "start_time": "2022-12-28T17:29:08.444Z"
   },
   {
    "duration": 396,
    "start_time": "2022-12-28T17:29:17.749Z"
   },
   {
    "duration": 538,
    "start_time": "2022-12-28T17:29:37.482Z"
   },
   {
    "duration": 373,
    "start_time": "2022-12-28T17:29:43.556Z"
   },
   {
    "duration": 392,
    "start_time": "2022-12-28T17:29:51.389Z"
   },
   {
    "duration": 424,
    "start_time": "2022-12-28T17:29:56.738Z"
   },
   {
    "duration": 523,
    "start_time": "2022-12-28T17:30:21.841Z"
   },
   {
    "duration": 428,
    "start_time": "2022-12-28T17:30:35.711Z"
   },
   {
    "duration": 399,
    "start_time": "2022-12-28T17:31:34.552Z"
   },
   {
    "duration": 111,
    "start_time": "2022-12-28T17:34:29.188Z"
   },
   {
    "duration": 22,
    "start_time": "2022-12-28T17:34:55.689Z"
   },
   {
    "duration": 11,
    "start_time": "2022-12-28T17:35:08.461Z"
   },
   {
    "duration": 11,
    "start_time": "2022-12-28T17:35:42.838Z"
   },
   {
    "duration": 8,
    "start_time": "2022-12-28T17:42:23.201Z"
   },
   {
    "duration": 1405,
    "start_time": "2022-12-28T17:42:31.239Z"
   },
   {
    "duration": 665,
    "start_time": "2022-12-28T17:42:32.646Z"
   },
   {
    "duration": 24,
    "start_time": "2022-12-28T17:42:33.313Z"
   },
   {
    "duration": 12,
    "start_time": "2022-12-28T17:42:33.339Z"
   },
   {
    "duration": 24,
    "start_time": "2022-12-28T17:42:33.352Z"
   },
   {
    "duration": 24,
    "start_time": "2022-12-28T17:42:33.378Z"
   },
   {
    "duration": 29,
    "start_time": "2022-12-28T17:42:33.403Z"
   },
   {
    "duration": 19,
    "start_time": "2022-12-28T17:42:33.435Z"
   },
   {
    "duration": 4,
    "start_time": "2022-12-28T17:42:33.456Z"
   },
   {
    "duration": 16,
    "start_time": "2022-12-28T17:42:33.462Z"
   },
   {
    "duration": 30,
    "start_time": "2022-12-28T17:42:33.480Z"
   },
   {
    "duration": 13,
    "start_time": "2022-12-28T17:42:33.512Z"
   },
   {
    "duration": 161,
    "start_time": "2022-12-28T17:42:33.526Z"
   },
   {
    "duration": 64,
    "start_time": "2022-12-28T17:42:33.689Z"
   },
   {
    "duration": 147,
    "start_time": "2022-12-28T17:42:33.755Z"
   },
   {
    "duration": 27,
    "start_time": "2022-12-28T17:42:33.903Z"
   },
   {
    "duration": 5,
    "start_time": "2022-12-28T17:42:33.932Z"
   },
   {
    "duration": 43,
    "start_time": "2022-12-28T17:42:33.938Z"
   },
   {
    "duration": 13,
    "start_time": "2022-12-28T17:42:33.982Z"
   },
   {
    "duration": 48,
    "start_time": "2022-12-28T17:42:33.996Z"
   },
   {
    "duration": 23,
    "start_time": "2022-12-28T17:42:34.046Z"
   },
   {
    "duration": 22,
    "start_time": "2022-12-28T17:42:34.071Z"
   },
   {
    "duration": 12,
    "start_time": "2022-12-28T17:42:34.094Z"
   },
   {
    "duration": 20,
    "start_time": "2022-12-28T17:42:34.107Z"
   },
   {
    "duration": 13,
    "start_time": "2022-12-28T17:42:34.128Z"
   },
   {
    "duration": 22,
    "start_time": "2022-12-28T17:42:34.143Z"
   },
   {
    "duration": 722,
    "start_time": "2022-12-28T17:42:34.166Z"
   },
   {
    "duration": 657,
    "start_time": "2022-12-28T17:42:34.890Z"
   },
   {
    "duration": 801,
    "start_time": "2022-12-28T17:42:35.549Z"
   },
   {
    "duration": 491,
    "start_time": "2022-12-28T17:42:36.352Z"
   },
   {
    "duration": 511,
    "start_time": "2022-12-28T17:42:36.845Z"
   },
   {
    "duration": 620,
    "start_time": "2022-12-28T17:42:37.358Z"
   },
   {
    "duration": 524,
    "start_time": "2022-12-28T17:42:37.979Z"
   },
   {
    "duration": 420,
    "start_time": "2022-12-28T17:42:38.505Z"
   },
   {
    "duration": 392,
    "start_time": "2022-12-28T17:42:38.927Z"
   },
   {
    "duration": 16,
    "start_time": "2022-12-28T17:42:39.321Z"
   },
   {
    "duration": 268,
    "start_time": "2022-12-28T17:42:39.339Z"
   },
   {
    "duration": 411,
    "start_time": "2022-12-28T17:42:39.608Z"
   },
   {
    "duration": 293,
    "start_time": "2022-12-28T17:42:40.021Z"
   },
   {
    "duration": 4,
    "start_time": "2022-12-28T17:42:40.316Z"
   },
   {
    "duration": 17,
    "start_time": "2022-12-28T17:42:40.325Z"
   },
   {
    "duration": 36,
    "start_time": "2022-12-28T17:42:40.344Z"
   },
   {
    "duration": 4,
    "start_time": "2022-12-28T17:42:40.381Z"
   },
   {
    "duration": 16,
    "start_time": "2022-12-28T17:42:40.386Z"
   },
   {
    "duration": 14,
    "start_time": "2022-12-28T17:42:40.404Z"
   },
   {
    "duration": 16,
    "start_time": "2022-12-28T17:42:40.419Z"
   },
   {
    "duration": 24,
    "start_time": "2022-12-28T17:42:40.436Z"
   },
   {
    "duration": 469,
    "start_time": "2022-12-28T17:42:40.463Z"
   },
   {
    "duration": 11,
    "start_time": "2022-12-28T17:42:40.937Z"
   },
   {
    "duration": 9,
    "start_time": "2022-12-28T17:42:40.950Z"
   },
   {
    "duration": 78,
    "start_time": "2022-12-28T17:42:40.961Z"
   },
   {
    "duration": 0,
    "start_time": "2022-12-28T17:42:41.041Z"
   },
   {
    "duration": 0,
    "start_time": "2022-12-28T17:42:41.042Z"
   },
   {
    "duration": 3,
    "start_time": "2022-12-28T17:42:51.954Z"
   },
   {
    "duration": 20,
    "start_time": "2022-12-28T17:42:52.549Z"
   },
   {
    "duration": 10,
    "start_time": "2022-12-28T17:43:26.447Z"
   },
   {
    "duration": 14,
    "start_time": "2022-12-28T17:43:35.190Z"
   },
   {
    "duration": 16,
    "start_time": "2022-12-28T17:43:59.538Z"
   },
   {
    "duration": 1628,
    "start_time": "2022-12-29T09:08:56.837Z"
   },
   {
    "duration": 1895,
    "start_time": "2022-12-29T09:08:58.467Z"
   },
   {
    "duration": 22,
    "start_time": "2022-12-29T09:09:00.364Z"
   },
   {
    "duration": 16,
    "start_time": "2022-12-29T09:09:00.389Z"
   },
   {
    "duration": 33,
    "start_time": "2022-12-29T09:09:00.407Z"
   },
   {
    "duration": 36,
    "start_time": "2022-12-29T09:09:00.443Z"
   },
   {
    "duration": 29,
    "start_time": "2022-12-29T09:09:00.481Z"
   },
   {
    "duration": 39,
    "start_time": "2022-12-29T09:09:00.512Z"
   },
   {
    "duration": 21,
    "start_time": "2022-12-29T09:09:00.553Z"
   },
   {
    "duration": 33,
    "start_time": "2022-12-29T09:09:00.576Z"
   },
   {
    "duration": 28,
    "start_time": "2022-12-29T09:09:00.611Z"
   },
   {
    "duration": 31,
    "start_time": "2022-12-29T09:09:00.640Z"
   },
   {
    "duration": 159,
    "start_time": "2022-12-29T09:09:00.673Z"
   },
   {
    "duration": 67,
    "start_time": "2022-12-29T09:09:00.833Z"
   },
   {
    "duration": 147,
    "start_time": "2022-12-29T09:09:00.902Z"
   },
   {
    "duration": 35,
    "start_time": "2022-12-29T09:09:01.051Z"
   },
   {
    "duration": 7,
    "start_time": "2022-12-29T09:09:01.088Z"
   },
   {
    "duration": 42,
    "start_time": "2022-12-29T09:09:01.097Z"
   },
   {
    "duration": 21,
    "start_time": "2022-12-29T09:09:01.141Z"
   },
   {
    "duration": 53,
    "start_time": "2022-12-29T09:09:01.163Z"
   },
   {
    "duration": 25,
    "start_time": "2022-12-29T09:09:01.217Z"
   },
   {
    "duration": 27,
    "start_time": "2022-12-29T09:09:01.244Z"
   },
   {
    "duration": 19,
    "start_time": "2022-12-29T09:09:01.273Z"
   },
   {
    "duration": 12,
    "start_time": "2022-12-29T09:09:01.294Z"
   },
   {
    "duration": 8,
    "start_time": "2022-12-29T09:09:01.308Z"
   },
   {
    "duration": 28,
    "start_time": "2022-12-29T09:09:01.318Z"
   },
   {
    "duration": 712,
    "start_time": "2022-12-29T09:09:01.347Z"
   },
   {
    "duration": 625,
    "start_time": "2022-12-29T09:09:02.063Z"
   },
   {
    "duration": 731,
    "start_time": "2022-12-29T09:09:02.690Z"
   },
   {
    "duration": 534,
    "start_time": "2022-12-29T09:09:03.423Z"
   },
   {
    "duration": 541,
    "start_time": "2022-12-29T09:09:03.959Z"
   },
   {
    "duration": 616,
    "start_time": "2022-12-29T09:09:04.502Z"
   },
   {
    "duration": 527,
    "start_time": "2022-12-29T09:09:05.120Z"
   },
   {
    "duration": 421,
    "start_time": "2022-12-29T09:09:05.649Z"
   },
   {
    "duration": 396,
    "start_time": "2022-12-29T09:09:06.072Z"
   },
   {
    "duration": 10,
    "start_time": "2022-12-29T09:09:06.470Z"
   },
   {
    "duration": 270,
    "start_time": "2022-12-29T09:09:06.482Z"
   },
   {
    "duration": 367,
    "start_time": "2022-12-29T09:09:06.753Z"
   },
   {
    "duration": 258,
    "start_time": "2022-12-29T09:09:07.122Z"
   },
   {
    "duration": 3,
    "start_time": "2022-12-29T09:09:07.382Z"
   },
   {
    "duration": 47,
    "start_time": "2022-12-29T09:09:07.386Z"
   },
   {
    "duration": 36,
    "start_time": "2022-12-29T09:09:07.435Z"
   },
   {
    "duration": 3,
    "start_time": "2022-12-29T09:09:07.473Z"
   },
   {
    "duration": 26,
    "start_time": "2022-12-29T09:09:07.477Z"
   },
   {
    "duration": 16,
    "start_time": "2022-12-29T09:09:07.504Z"
   },
   {
    "duration": 8,
    "start_time": "2022-12-29T09:09:07.521Z"
   },
   {
    "duration": 10,
    "start_time": "2022-12-29T09:09:07.531Z"
   },
   {
    "duration": 428,
    "start_time": "2022-12-29T09:09:07.543Z"
   },
   {
    "duration": 14,
    "start_time": "2022-12-29T09:09:07.973Z"
   },
   {
    "duration": 17,
    "start_time": "2022-12-29T09:09:07.989Z"
   },
   {
    "duration": 3,
    "start_time": "2022-12-29T09:09:08.008Z"
   },
   {
    "duration": 14,
    "start_time": "2022-12-29T09:09:08.012Z"
   },
   {
    "duration": 9,
    "start_time": "2022-12-29T09:09:08.027Z"
   },
   {
    "duration": 108,
    "start_time": "2022-12-29T09:09:50.163Z"
   },
   {
    "duration": 1335,
    "start_time": "2022-12-29T09:10:04.256Z"
   },
   {
    "duration": 623,
    "start_time": "2022-12-29T09:10:05.593Z"
   },
   {
    "duration": 19,
    "start_time": "2022-12-29T09:10:06.217Z"
   },
   {
    "duration": 11,
    "start_time": "2022-12-29T09:10:06.238Z"
   },
   {
    "duration": 30,
    "start_time": "2022-12-29T09:10:06.250Z"
   },
   {
    "duration": 22,
    "start_time": "2022-12-29T09:10:06.281Z"
   },
   {
    "duration": 19,
    "start_time": "2022-12-29T09:10:06.304Z"
   },
   {
    "duration": 28,
    "start_time": "2022-12-29T09:10:06.324Z"
   },
   {
    "duration": 27,
    "start_time": "2022-12-29T09:10:06.354Z"
   },
   {
    "duration": 11,
    "start_time": "2022-12-29T09:10:06.383Z"
   },
   {
    "duration": 11,
    "start_time": "2022-12-29T09:10:06.395Z"
   },
   {
    "duration": 9,
    "start_time": "2022-12-29T09:10:06.408Z"
   },
   {
    "duration": 142,
    "start_time": "2022-12-29T09:10:06.419Z"
   },
   {
    "duration": 61,
    "start_time": "2022-12-29T09:10:06.562Z"
   },
   {
    "duration": 135,
    "start_time": "2022-12-29T09:10:06.624Z"
   },
   {
    "duration": 14,
    "start_time": "2022-12-29T09:10:06.777Z"
   },
   {
    "duration": 7,
    "start_time": "2022-12-29T09:10:06.793Z"
   },
   {
    "duration": 39,
    "start_time": "2022-12-29T09:10:06.802Z"
   },
   {
    "duration": 11,
    "start_time": "2022-12-29T09:10:06.843Z"
   },
   {
    "duration": 31,
    "start_time": "2022-12-29T09:10:06.856Z"
   },
   {
    "duration": 24,
    "start_time": "2022-12-29T09:10:06.888Z"
   },
   {
    "duration": 24,
    "start_time": "2022-12-29T09:10:06.913Z"
   },
   {
    "duration": 25,
    "start_time": "2022-12-29T09:10:06.939Z"
   },
   {
    "duration": 16,
    "start_time": "2022-12-29T09:10:06.966Z"
   },
   {
    "duration": 7,
    "start_time": "2022-12-29T09:10:06.985Z"
   },
   {
    "duration": 17,
    "start_time": "2022-12-29T09:10:06.994Z"
   },
   {
    "duration": 727,
    "start_time": "2022-12-29T09:10:07.013Z"
   },
   {
    "duration": 617,
    "start_time": "2022-12-29T09:10:07.744Z"
   },
   {
    "duration": 738,
    "start_time": "2022-12-29T09:10:08.363Z"
   },
   {
    "duration": 459,
    "start_time": "2022-12-29T09:10:09.103Z"
   },
   {
    "duration": 492,
    "start_time": "2022-12-29T09:10:09.564Z"
   },
   {
    "duration": 625,
    "start_time": "2022-12-29T09:10:10.058Z"
   },
   {
    "duration": 517,
    "start_time": "2022-12-29T09:10:10.685Z"
   },
   {
    "duration": 364,
    "start_time": "2022-12-29T09:10:11.204Z"
   },
   {
    "duration": 399,
    "start_time": "2022-12-29T09:10:11.570Z"
   },
   {
    "duration": 8,
    "start_time": "2022-12-29T09:10:11.970Z"
   },
   {
    "duration": 273,
    "start_time": "2022-12-29T09:10:11.979Z"
   },
   {
    "duration": 363,
    "start_time": "2022-12-29T09:10:12.254Z"
   },
   {
    "duration": 259,
    "start_time": "2022-12-29T09:10:12.619Z"
   },
   {
    "duration": 3,
    "start_time": "2022-12-29T09:10:12.879Z"
   },
   {
    "duration": 30,
    "start_time": "2022-12-29T09:10:12.884Z"
   },
   {
    "duration": 62,
    "start_time": "2022-12-29T09:10:12.915Z"
   },
   {
    "duration": 20,
    "start_time": "2022-12-29T09:10:12.979Z"
   },
   {
    "duration": 36,
    "start_time": "2022-12-29T09:10:13.000Z"
   },
   {
    "duration": 50,
    "start_time": "2022-12-29T09:10:13.038Z"
   },
   {
    "duration": 32,
    "start_time": "2022-12-29T09:10:13.089Z"
   },
   {
    "duration": 28,
    "start_time": "2022-12-29T09:10:13.122Z"
   },
   {
    "duration": 436,
    "start_time": "2022-12-29T09:10:13.152Z"
   },
   {
    "duration": 12,
    "start_time": "2022-12-29T09:10:13.589Z"
   },
   {
    "duration": 26,
    "start_time": "2022-12-29T09:10:13.602Z"
   },
   {
    "duration": 23,
    "start_time": "2022-12-29T09:10:13.630Z"
   },
   {
    "duration": 18,
    "start_time": "2022-12-29T09:10:13.654Z"
   },
   {
    "duration": 14,
    "start_time": "2022-12-29T09:10:13.673Z"
   },
   {
    "duration": 121,
    "start_time": "2022-12-29T09:10:13.689Z"
   },
   {
    "duration": 22,
    "start_time": "2022-12-29T09:11:15.978Z"
   },
   {
    "duration": 9,
    "start_time": "2022-12-29T09:13:04.996Z"
   },
   {
    "duration": 1388,
    "start_time": "2022-12-29T09:13:13.417Z"
   },
   {
    "duration": 672,
    "start_time": "2022-12-29T09:13:14.807Z"
   },
   {
    "duration": 18,
    "start_time": "2022-12-29T09:13:15.480Z"
   },
   {
    "duration": 37,
    "start_time": "2022-12-29T09:13:15.500Z"
   },
   {
    "duration": 36,
    "start_time": "2022-12-29T09:13:15.538Z"
   },
   {
    "duration": 45,
    "start_time": "2022-12-29T09:13:15.576Z"
   },
   {
    "duration": 33,
    "start_time": "2022-12-29T09:13:15.623Z"
   },
   {
    "duration": 65,
    "start_time": "2022-12-29T09:13:15.658Z"
   },
   {
    "duration": 33,
    "start_time": "2022-12-29T09:13:15.727Z"
   },
   {
    "duration": 42,
    "start_time": "2022-12-29T09:13:15.764Z"
   },
   {
    "duration": 37,
    "start_time": "2022-12-29T09:13:15.808Z"
   },
   {
    "duration": 53,
    "start_time": "2022-12-29T09:13:15.846Z"
   },
   {
    "duration": 182,
    "start_time": "2022-12-29T09:13:15.901Z"
   },
   {
    "duration": 52,
    "start_time": "2022-12-29T09:13:16.085Z"
   },
   {
    "duration": 171,
    "start_time": "2022-12-29T09:13:16.139Z"
   },
   {
    "duration": 15,
    "start_time": "2022-12-29T09:13:16.312Z"
   },
   {
    "duration": 35,
    "start_time": "2022-12-29T09:13:16.329Z"
   },
   {
    "duration": 36,
    "start_time": "2022-12-29T09:13:16.366Z"
   },
   {
    "duration": 55,
    "start_time": "2022-12-29T09:13:16.404Z"
   },
   {
    "duration": 35,
    "start_time": "2022-12-29T09:13:16.461Z"
   },
   {
    "duration": 32,
    "start_time": "2022-12-29T09:13:16.498Z"
   },
   {
    "duration": 23,
    "start_time": "2022-12-29T09:13:16.532Z"
   },
   {
    "duration": 21,
    "start_time": "2022-12-29T09:13:16.557Z"
   },
   {
    "duration": 25,
    "start_time": "2022-12-29T09:13:16.579Z"
   },
   {
    "duration": 42,
    "start_time": "2022-12-29T09:13:16.605Z"
   },
   {
    "duration": 49,
    "start_time": "2022-12-29T09:13:16.649Z"
   },
   {
    "duration": 760,
    "start_time": "2022-12-29T09:13:16.700Z"
   },
   {
    "duration": 681,
    "start_time": "2022-12-29T09:13:17.463Z"
   },
   {
    "duration": 882,
    "start_time": "2022-12-29T09:13:18.146Z"
   },
   {
    "duration": 549,
    "start_time": "2022-12-29T09:13:19.030Z"
   },
   {
    "duration": 483,
    "start_time": "2022-12-29T09:13:19.581Z"
   },
   {
    "duration": 642,
    "start_time": "2022-12-29T09:13:20.065Z"
   },
   {
    "duration": 507,
    "start_time": "2022-12-29T09:13:20.708Z"
   },
   {
    "duration": 592,
    "start_time": "2022-12-29T09:13:21.216Z"
   },
   {
    "duration": 488,
    "start_time": "2022-12-29T09:13:21.810Z"
   },
   {
    "duration": 4,
    "start_time": "2022-12-29T09:13:22.300Z"
   },
   {
    "duration": 323,
    "start_time": "2022-12-29T09:13:22.306Z"
   },
   {
    "duration": 388,
    "start_time": "2022-12-29T09:13:22.631Z"
   },
   {
    "duration": 269,
    "start_time": "2022-12-29T09:13:23.020Z"
   },
   {
    "duration": 4,
    "start_time": "2022-12-29T09:13:23.290Z"
   },
   {
    "duration": 24,
    "start_time": "2022-12-29T09:13:23.295Z"
   },
   {
    "duration": 52,
    "start_time": "2022-12-29T09:13:23.321Z"
   },
   {
    "duration": 3,
    "start_time": "2022-12-29T09:13:23.374Z"
   },
   {
    "duration": 21,
    "start_time": "2022-12-29T09:13:23.379Z"
   },
   {
    "duration": 19,
    "start_time": "2022-12-29T09:13:23.402Z"
   },
   {
    "duration": 10,
    "start_time": "2022-12-29T09:13:23.423Z"
   },
   {
    "duration": 15,
    "start_time": "2022-12-29T09:13:23.434Z"
   },
   {
    "duration": 439,
    "start_time": "2022-12-29T09:13:23.451Z"
   },
   {
    "duration": 18,
    "start_time": "2022-12-29T09:13:23.892Z"
   },
   {
    "duration": 15,
    "start_time": "2022-12-29T09:13:23.912Z"
   },
   {
    "duration": 19,
    "start_time": "2022-12-29T09:13:23.928Z"
   },
   {
    "duration": 19,
    "start_time": "2022-12-29T09:13:23.949Z"
   },
   {
    "duration": 14,
    "start_time": "2022-12-29T09:13:23.971Z"
   },
   {
    "duration": 32,
    "start_time": "2022-12-29T09:13:23.987Z"
   },
   {
    "duration": 6,
    "start_time": "2022-12-29T09:13:24.021Z"
   },
   {
    "duration": 166,
    "start_time": "2022-12-29T09:13:24.029Z"
   },
   {
    "duration": 36,
    "start_time": "2022-12-29T09:14:06.803Z"
   },
   {
    "duration": 25,
    "start_time": "2022-12-29T09:14:42.418Z"
   },
   {
    "duration": 1493,
    "start_time": "2022-12-29T09:15:12.800Z"
   },
   {
    "duration": 706,
    "start_time": "2022-12-29T09:15:14.295Z"
   },
   {
    "duration": 19,
    "start_time": "2022-12-29T09:15:15.003Z"
   },
   {
    "duration": 35,
    "start_time": "2022-12-29T09:15:15.024Z"
   },
   {
    "duration": 29,
    "start_time": "2022-12-29T09:15:15.060Z"
   },
   {
    "duration": 25,
    "start_time": "2022-12-29T09:15:15.091Z"
   },
   {
    "duration": 19,
    "start_time": "2022-12-29T09:15:15.117Z"
   },
   {
    "duration": 23,
    "start_time": "2022-12-29T09:15:15.138Z"
   },
   {
    "duration": 10,
    "start_time": "2022-12-29T09:15:15.177Z"
   },
   {
    "duration": 14,
    "start_time": "2022-12-29T09:15:15.190Z"
   },
   {
    "duration": 37,
    "start_time": "2022-12-29T09:15:15.205Z"
   },
   {
    "duration": 14,
    "start_time": "2022-12-29T09:15:15.244Z"
   },
   {
    "duration": 175,
    "start_time": "2022-12-29T09:15:15.260Z"
   },
   {
    "duration": 79,
    "start_time": "2022-12-29T09:15:15.437Z"
   },
   {
    "duration": 172,
    "start_time": "2022-12-29T09:15:15.518Z"
   },
   {
    "duration": 16,
    "start_time": "2022-12-29T09:15:15.692Z"
   },
   {
    "duration": 8,
    "start_time": "2022-12-29T09:15:15.710Z"
   },
   {
    "duration": 56,
    "start_time": "2022-12-29T09:15:15.720Z"
   },
   {
    "duration": 20,
    "start_time": "2022-12-29T09:15:15.778Z"
   },
   {
    "duration": 70,
    "start_time": "2022-12-29T09:15:15.800Z"
   },
   {
    "duration": 26,
    "start_time": "2022-12-29T09:15:15.872Z"
   },
   {
    "duration": 26,
    "start_time": "2022-12-29T09:15:15.901Z"
   },
   {
    "duration": 19,
    "start_time": "2022-12-29T09:15:15.928Z"
   },
   {
    "duration": 37,
    "start_time": "2022-12-29T09:15:15.949Z"
   },
   {
    "duration": 18,
    "start_time": "2022-12-29T09:15:15.988Z"
   },
   {
    "duration": 26,
    "start_time": "2022-12-29T09:15:16.007Z"
   },
   {
    "duration": 821,
    "start_time": "2022-12-29T09:15:16.035Z"
   },
   {
    "duration": 708,
    "start_time": "2022-12-29T09:15:16.861Z"
   },
   {
    "duration": 903,
    "start_time": "2022-12-29T09:15:17.571Z"
   },
   {
    "duration": 516,
    "start_time": "2022-12-29T09:15:18.478Z"
   },
   {
    "duration": 583,
    "start_time": "2022-12-29T09:15:18.996Z"
   },
   {
    "duration": 682,
    "start_time": "2022-12-29T09:15:19.581Z"
   },
   {
    "duration": 551,
    "start_time": "2022-12-29T09:15:20.265Z"
   },
   {
    "duration": 465,
    "start_time": "2022-12-29T09:15:20.818Z"
   },
   {
    "duration": 532,
    "start_time": "2022-12-29T09:15:21.285Z"
   },
   {
    "duration": 4,
    "start_time": "2022-12-29T09:15:21.819Z"
   },
   {
    "duration": 297,
    "start_time": "2022-12-29T09:15:21.825Z"
   },
   {
    "duration": 396,
    "start_time": "2022-12-29T09:15:22.124Z"
   },
   {
    "duration": 297,
    "start_time": "2022-12-29T09:15:22.522Z"
   },
   {
    "duration": 3,
    "start_time": "2022-12-29T09:15:22.821Z"
   },
   {
    "duration": 11,
    "start_time": "2022-12-29T09:15:22.826Z"
   },
   {
    "duration": 51,
    "start_time": "2022-12-29T09:15:22.839Z"
   },
   {
    "duration": 3,
    "start_time": "2022-12-29T09:15:22.892Z"
   },
   {
    "duration": 24,
    "start_time": "2022-12-29T09:15:22.897Z"
   },
   {
    "duration": 18,
    "start_time": "2022-12-29T09:15:22.923Z"
   },
   {
    "duration": 10,
    "start_time": "2022-12-29T09:15:22.943Z"
   },
   {
    "duration": 47,
    "start_time": "2022-12-29T09:15:22.954Z"
   },
   {
    "duration": 484,
    "start_time": "2022-12-29T09:15:23.002Z"
   },
   {
    "duration": 15,
    "start_time": "2022-12-29T09:15:23.488Z"
   },
   {
    "duration": 21,
    "start_time": "2022-12-29T09:15:23.504Z"
   },
   {
    "duration": 3,
    "start_time": "2022-12-29T09:15:23.527Z"
   },
   {
    "duration": 15,
    "start_time": "2022-12-29T09:15:23.532Z"
   },
   {
    "duration": 8,
    "start_time": "2022-12-29T09:15:23.549Z"
   },
   {
    "duration": 46,
    "start_time": "2022-12-29T09:15:23.559Z"
   },
   {
    "duration": 5,
    "start_time": "2022-12-29T09:15:23.607Z"
   },
   {
    "duration": 134,
    "start_time": "2022-12-29T09:15:23.613Z"
   },
   {
    "duration": 25,
    "start_time": "2022-12-29T09:16:08.011Z"
   },
   {
    "duration": 1386,
    "start_time": "2022-12-29T09:16:51.616Z"
   },
   {
    "duration": 691,
    "start_time": "2022-12-29T09:16:53.004Z"
   },
   {
    "duration": 19,
    "start_time": "2022-12-29T09:16:53.697Z"
   },
   {
    "duration": 13,
    "start_time": "2022-12-29T09:16:53.718Z"
   },
   {
    "duration": 17,
    "start_time": "2022-12-29T09:16:53.732Z"
   },
   {
    "duration": 57,
    "start_time": "2022-12-29T09:16:53.751Z"
   },
   {
    "duration": 20,
    "start_time": "2022-12-29T09:16:53.810Z"
   },
   {
    "duration": 19,
    "start_time": "2022-12-29T09:16:53.832Z"
   },
   {
    "duration": 7,
    "start_time": "2022-12-29T09:16:53.853Z"
   },
   {
    "duration": 8,
    "start_time": "2022-12-29T09:16:53.879Z"
   },
   {
    "duration": 34,
    "start_time": "2022-12-29T09:16:53.889Z"
   },
   {
    "duration": 15,
    "start_time": "2022-12-29T09:16:53.925Z"
   },
   {
    "duration": 173,
    "start_time": "2022-12-29T09:16:53.941Z"
   },
   {
    "duration": 74,
    "start_time": "2022-12-29T09:16:54.116Z"
   },
   {
    "duration": 132,
    "start_time": "2022-12-29T09:16:54.192Z"
   },
   {
    "duration": 13,
    "start_time": "2022-12-29T09:16:54.326Z"
   },
   {
    "duration": 6,
    "start_time": "2022-12-29T09:16:54.340Z"
   },
   {
    "duration": 51,
    "start_time": "2022-12-29T09:16:54.348Z"
   },
   {
    "duration": 12,
    "start_time": "2022-12-29T09:16:54.401Z"
   },
   {
    "duration": 28,
    "start_time": "2022-12-29T09:16:54.414Z"
   },
   {
    "duration": 36,
    "start_time": "2022-12-29T09:16:54.443Z"
   },
   {
    "duration": 26,
    "start_time": "2022-12-29T09:16:54.484Z"
   },
   {
    "duration": 12,
    "start_time": "2022-12-29T09:16:54.511Z"
   },
   {
    "duration": 8,
    "start_time": "2022-12-29T09:16:54.525Z"
   },
   {
    "duration": 14,
    "start_time": "2022-12-29T09:16:54.535Z"
   },
   {
    "duration": 29,
    "start_time": "2022-12-29T09:16:54.550Z"
   },
   {
    "duration": 766,
    "start_time": "2022-12-29T09:16:54.580Z"
   },
   {
    "duration": 702,
    "start_time": "2022-12-29T09:16:55.349Z"
   },
   {
    "duration": 839,
    "start_time": "2022-12-29T09:16:56.053Z"
   },
   {
    "duration": 580,
    "start_time": "2022-12-29T09:16:56.894Z"
   },
   {
    "duration": 623,
    "start_time": "2022-12-29T09:16:57.477Z"
   },
   {
    "duration": 747,
    "start_time": "2022-12-29T09:16:58.101Z"
   },
   {
    "duration": 635,
    "start_time": "2022-12-29T09:16:58.850Z"
   },
   {
    "duration": 432,
    "start_time": "2022-12-29T09:16:59.488Z"
   },
   {
    "duration": 496,
    "start_time": "2022-12-29T09:16:59.922Z"
   },
   {
    "duration": 4,
    "start_time": "2022-12-29T09:17:00.420Z"
   },
   {
    "duration": 349,
    "start_time": "2022-12-29T09:17:00.426Z"
   },
   {
    "duration": 451,
    "start_time": "2022-12-29T09:17:00.779Z"
   },
   {
    "duration": 286,
    "start_time": "2022-12-29T09:17:01.231Z"
   },
   {
    "duration": 3,
    "start_time": "2022-12-29T09:17:01.519Z"
   },
   {
    "duration": 32,
    "start_time": "2022-12-29T09:17:01.524Z"
   },
   {
    "duration": 63,
    "start_time": "2022-12-29T09:17:01.558Z"
   },
   {
    "duration": 9,
    "start_time": "2022-12-29T09:17:01.623Z"
   },
   {
    "duration": 35,
    "start_time": "2022-12-29T09:17:01.634Z"
   },
   {
    "duration": 27,
    "start_time": "2022-12-29T09:17:01.671Z"
   },
   {
    "duration": 18,
    "start_time": "2022-12-29T09:17:01.699Z"
   },
   {
    "duration": 26,
    "start_time": "2022-12-29T09:17:01.719Z"
   },
   {
    "duration": 436,
    "start_time": "2022-12-29T09:17:01.747Z"
   },
   {
    "duration": 12,
    "start_time": "2022-12-29T09:17:02.184Z"
   },
   {
    "duration": 35,
    "start_time": "2022-12-29T09:17:02.197Z"
   },
   {
    "duration": 7,
    "start_time": "2022-12-29T09:17:02.234Z"
   },
   {
    "duration": 25,
    "start_time": "2022-12-29T09:17:02.243Z"
   },
   {
    "duration": 19,
    "start_time": "2022-12-29T09:17:02.270Z"
   },
   {
    "duration": 34,
    "start_time": "2022-12-29T09:17:02.291Z"
   },
   {
    "duration": 15,
    "start_time": "2022-12-29T09:17:02.327Z"
   },
   {
    "duration": 33,
    "start_time": "2022-12-29T09:17:02.344Z"
   },
   {
    "duration": 170,
    "start_time": "2022-12-29T09:17:29.487Z"
   },
   {
    "duration": 220,
    "start_time": "2022-12-29T09:17:43.850Z"
   },
   {
    "duration": 3,
    "start_time": "2022-12-29T09:19:50.625Z"
   },
   {
    "duration": 101,
    "start_time": "2022-12-29T09:19:51.201Z"
   },
   {
    "duration": 4,
    "start_time": "2022-12-29T09:26:08.691Z"
   },
   {
    "duration": 9,
    "start_time": "2022-12-29T09:27:00.351Z"
   },
   {
    "duration": 3,
    "start_time": "2022-12-29T09:27:00.993Z"
   },
   {
    "duration": 1530,
    "start_time": "2022-12-29T09:29:23.156Z"
   },
   {
    "duration": 775,
    "start_time": "2022-12-29T09:29:24.689Z"
   },
   {
    "duration": 38,
    "start_time": "2022-12-29T09:29:25.466Z"
   },
   {
    "duration": 14,
    "start_time": "2022-12-29T09:29:25.507Z"
   },
   {
    "duration": 28,
    "start_time": "2022-12-29T09:29:25.523Z"
   },
   {
    "duration": 42,
    "start_time": "2022-12-29T09:29:25.553Z"
   },
   {
    "duration": 25,
    "start_time": "2022-12-29T09:29:25.596Z"
   },
   {
    "duration": 45,
    "start_time": "2022-12-29T09:29:25.623Z"
   },
   {
    "duration": 66,
    "start_time": "2022-12-29T09:29:25.671Z"
   },
   {
    "duration": 56,
    "start_time": "2022-12-29T09:29:25.741Z"
   },
   {
    "duration": 45,
    "start_time": "2022-12-29T09:29:25.799Z"
   },
   {
    "duration": 48,
    "start_time": "2022-12-29T09:29:25.846Z"
   },
   {
    "duration": 211,
    "start_time": "2022-12-29T09:29:25.896Z"
   },
   {
    "duration": 81,
    "start_time": "2022-12-29T09:29:26.109Z"
   },
   {
    "duration": 191,
    "start_time": "2022-12-29T09:29:26.192Z"
   },
   {
    "duration": 17,
    "start_time": "2022-12-29T09:29:26.385Z"
   },
   {
    "duration": 35,
    "start_time": "2022-12-29T09:29:26.404Z"
   },
   {
    "duration": 48,
    "start_time": "2022-12-29T09:29:26.440Z"
   },
   {
    "duration": 33,
    "start_time": "2022-12-29T09:29:26.489Z"
   },
   {
    "duration": 43,
    "start_time": "2022-12-29T09:29:26.524Z"
   },
   {
    "duration": 38,
    "start_time": "2022-12-29T09:29:26.570Z"
   },
   {
    "duration": 51,
    "start_time": "2022-12-29T09:29:26.610Z"
   },
   {
    "duration": 14,
    "start_time": "2022-12-29T09:29:26.663Z"
   },
   {
    "duration": 10,
    "start_time": "2022-12-29T09:29:26.679Z"
   },
   {
    "duration": 29,
    "start_time": "2022-12-29T09:29:26.691Z"
   },
   {
    "duration": 57,
    "start_time": "2022-12-29T09:29:26.722Z"
   },
   {
    "duration": 851,
    "start_time": "2022-12-29T09:29:26.780Z"
   },
   {
    "duration": 688,
    "start_time": "2022-12-29T09:29:27.637Z"
   },
   {
    "duration": 787,
    "start_time": "2022-12-29T09:29:28.327Z"
   },
   {
    "duration": 494,
    "start_time": "2022-12-29T09:29:29.116Z"
   },
   {
    "duration": 503,
    "start_time": "2022-12-29T09:29:29.612Z"
   },
   {
    "duration": 716,
    "start_time": "2022-12-29T09:29:30.117Z"
   },
   {
    "duration": 581,
    "start_time": "2022-12-29T09:29:30.836Z"
   },
   {
    "duration": 577,
    "start_time": "2022-12-29T09:29:31.419Z"
   },
   {
    "duration": 521,
    "start_time": "2022-12-29T09:29:31.998Z"
   },
   {
    "duration": 6,
    "start_time": "2022-12-29T09:29:32.521Z"
   },
   {
    "duration": 336,
    "start_time": "2022-12-29T09:29:32.529Z"
   },
   {
    "duration": 449,
    "start_time": "2022-12-29T09:29:32.867Z"
   },
   {
    "duration": 342,
    "start_time": "2022-12-29T09:29:33.318Z"
   },
   {
    "duration": 4,
    "start_time": "2022-12-29T09:29:33.661Z"
   },
   {
    "duration": 13,
    "start_time": "2022-12-29T09:29:33.666Z"
   },
   {
    "duration": 47,
    "start_time": "2022-12-29T09:29:33.681Z"
   },
   {
    "duration": 3,
    "start_time": "2022-12-29T09:29:33.730Z"
   },
   {
    "duration": 29,
    "start_time": "2022-12-29T09:29:33.735Z"
   },
   {
    "duration": 25,
    "start_time": "2022-12-29T09:29:33.766Z"
   },
   {
    "duration": 9,
    "start_time": "2022-12-29T09:29:33.793Z"
   },
   {
    "duration": 58,
    "start_time": "2022-12-29T09:29:33.804Z"
   },
   {
    "duration": 452,
    "start_time": "2022-12-29T09:29:33.864Z"
   },
   {
    "duration": 13,
    "start_time": "2022-12-29T09:29:34.318Z"
   },
   {
    "duration": 12,
    "start_time": "2022-12-29T09:29:34.332Z"
   },
   {
    "duration": 3,
    "start_time": "2022-12-29T09:29:34.346Z"
   },
   {
    "duration": 33,
    "start_time": "2022-12-29T09:29:34.351Z"
   },
   {
    "duration": 10,
    "start_time": "2022-12-29T09:29:34.386Z"
   },
   {
    "duration": 38,
    "start_time": "2022-12-29T09:29:34.398Z"
   },
   {
    "duration": 6,
    "start_time": "2022-12-29T09:29:34.438Z"
   },
   {
    "duration": 39,
    "start_time": "2022-12-29T09:29:34.446Z"
   },
   {
    "duration": 3,
    "start_time": "2022-12-29T09:29:34.487Z"
   },
   {
    "duration": 8,
    "start_time": "2022-12-29T09:29:34.492Z"
   },
   {
    "duration": 1286,
    "start_time": "2022-12-29T09:29:34.502Z"
   },
   {
    "duration": 0,
    "start_time": "2022-12-29T09:29:35.791Z"
   },
   {
    "duration": 1465,
    "start_time": "2022-12-29T09:29:43.806Z"
   },
   {
    "duration": 708,
    "start_time": "2022-12-29T09:29:45.274Z"
   },
   {
    "duration": 20,
    "start_time": "2022-12-29T09:29:45.984Z"
   },
   {
    "duration": 15,
    "start_time": "2022-12-29T09:29:46.006Z"
   },
   {
    "duration": 21,
    "start_time": "2022-12-29T09:29:46.023Z"
   },
   {
    "duration": 47,
    "start_time": "2022-12-29T09:29:46.045Z"
   },
   {
    "duration": 21,
    "start_time": "2022-12-29T09:29:46.093Z"
   },
   {
    "duration": 22,
    "start_time": "2022-12-29T09:29:46.116Z"
   },
   {
    "duration": 9,
    "start_time": "2022-12-29T09:29:46.140Z"
   },
   {
    "duration": 30,
    "start_time": "2022-12-29T09:29:46.150Z"
   },
   {
    "duration": 8,
    "start_time": "2022-12-29T09:29:46.181Z"
   },
   {
    "duration": 6,
    "start_time": "2022-12-29T09:29:46.191Z"
   },
   {
    "duration": 191,
    "start_time": "2022-12-29T09:29:46.199Z"
   },
   {
    "duration": 51,
    "start_time": "2022-12-29T09:29:46.394Z"
   },
   {
    "duration": 162,
    "start_time": "2022-12-29T09:29:46.446Z"
   },
   {
    "duration": 16,
    "start_time": "2022-12-29T09:29:46.609Z"
   },
   {
    "duration": 8,
    "start_time": "2022-12-29T09:29:46.627Z"
   },
   {
    "duration": 60,
    "start_time": "2022-12-29T09:29:46.637Z"
   },
   {
    "duration": 8,
    "start_time": "2022-12-29T09:29:46.700Z"
   },
   {
    "duration": 32,
    "start_time": "2022-12-29T09:29:46.710Z"
   },
   {
    "duration": 46,
    "start_time": "2022-12-29T09:29:46.744Z"
   },
   {
    "duration": 23,
    "start_time": "2022-12-29T09:29:46.792Z"
   },
   {
    "duration": 15,
    "start_time": "2022-12-29T09:29:46.818Z"
   },
   {
    "duration": 7,
    "start_time": "2022-12-29T09:29:46.834Z"
   },
   {
    "duration": 7,
    "start_time": "2022-12-29T09:29:46.843Z"
   },
   {
    "duration": 43,
    "start_time": "2022-12-29T09:29:46.851Z"
   },
   {
    "duration": 754,
    "start_time": "2022-12-29T09:29:46.896Z"
   },
   {
    "duration": 705,
    "start_time": "2022-12-29T09:29:47.653Z"
   },
   {
    "duration": 819,
    "start_time": "2022-12-29T09:29:48.360Z"
   },
   {
    "duration": 544,
    "start_time": "2022-12-29T09:29:49.180Z"
   },
   {
    "duration": 556,
    "start_time": "2022-12-29T09:29:49.726Z"
   },
   {
    "duration": 654,
    "start_time": "2022-12-29T09:29:50.285Z"
   },
   {
    "duration": 541,
    "start_time": "2022-12-29T09:29:50.941Z"
   },
   {
    "duration": 395,
    "start_time": "2022-12-29T09:29:51.483Z"
   },
   {
    "duration": 404,
    "start_time": "2022-12-29T09:29:51.880Z"
   },
   {
    "duration": 6,
    "start_time": "2022-12-29T09:29:52.286Z"
   },
   {
    "duration": 296,
    "start_time": "2022-12-29T09:29:52.294Z"
   },
   {
    "duration": 396,
    "start_time": "2022-12-29T09:29:52.592Z"
   },
   {
    "duration": 273,
    "start_time": "2022-12-29T09:29:52.990Z"
   },
   {
    "duration": 4,
    "start_time": "2022-12-29T09:29:53.264Z"
   },
   {
    "duration": 7,
    "start_time": "2022-12-29T09:29:53.281Z"
   },
   {
    "duration": 43,
    "start_time": "2022-12-29T09:29:53.290Z"
   },
   {
    "duration": 3,
    "start_time": "2022-12-29T09:29:53.335Z"
   },
   {
    "duration": 26,
    "start_time": "2022-12-29T09:29:53.340Z"
   },
   {
    "duration": 17,
    "start_time": "2022-12-29T09:29:53.377Z"
   },
   {
    "duration": 10,
    "start_time": "2022-12-29T09:29:53.396Z"
   },
   {
    "duration": 23,
    "start_time": "2022-12-29T09:29:53.408Z"
   },
   {
    "duration": 521,
    "start_time": "2022-12-29T09:29:53.433Z"
   },
   {
    "duration": 24,
    "start_time": "2022-12-29T09:29:53.957Z"
   },
   {
    "duration": 33,
    "start_time": "2022-12-29T09:29:53.983Z"
   },
   {
    "duration": 28,
    "start_time": "2022-12-29T09:29:54.017Z"
   },
   {
    "duration": 41,
    "start_time": "2022-12-29T09:29:54.047Z"
   },
   {
    "duration": 32,
    "start_time": "2022-12-29T09:29:54.090Z"
   },
   {
    "duration": 57,
    "start_time": "2022-12-29T09:29:54.124Z"
   },
   {
    "duration": 24,
    "start_time": "2022-12-29T09:29:54.184Z"
   },
   {
    "duration": 35,
    "start_time": "2022-12-29T09:29:54.210Z"
   },
   {
    "duration": 12,
    "start_time": "2022-12-29T09:29:54.248Z"
   },
   {
    "duration": 12,
    "start_time": "2022-12-29T09:29:54.262Z"
   },
   {
    "duration": 109,
    "start_time": "2022-12-29T09:29:54.276Z"
   },
   {
    "duration": 1254,
    "start_time": "2022-12-29T09:30:03.374Z"
   },
   {
    "duration": 21,
    "start_time": "2022-12-29T09:30:41.856Z"
   },
   {
    "duration": 14,
    "start_time": "2022-12-29T09:32:55.117Z"
   },
   {
    "duration": 1434,
    "start_time": "2022-12-29T09:34:57.815Z"
   },
   {
    "duration": 1490,
    "start_time": "2022-12-29T09:35:04.017Z"
   },
   {
    "duration": 769,
    "start_time": "2022-12-29T09:35:05.513Z"
   },
   {
    "duration": 26,
    "start_time": "2022-12-29T09:35:06.286Z"
   },
   {
    "duration": 32,
    "start_time": "2022-12-29T09:35:06.313Z"
   },
   {
    "duration": 19,
    "start_time": "2022-12-29T09:35:06.348Z"
   },
   {
    "duration": 62,
    "start_time": "2022-12-29T09:35:06.369Z"
   },
   {
    "duration": 33,
    "start_time": "2022-12-29T09:35:06.432Z"
   },
   {
    "duration": 85,
    "start_time": "2022-12-29T09:35:06.466Z"
   },
   {
    "duration": 59,
    "start_time": "2022-12-29T09:35:06.552Z"
   },
   {
    "duration": 43,
    "start_time": "2022-12-29T09:35:06.612Z"
   },
   {
    "duration": 65,
    "start_time": "2022-12-29T09:35:06.656Z"
   },
   {
    "duration": 89,
    "start_time": "2022-12-29T09:35:06.723Z"
   },
   {
    "duration": 238,
    "start_time": "2022-12-29T09:35:06.814Z"
   },
   {
    "duration": 67,
    "start_time": "2022-12-29T09:35:07.055Z"
   },
   {
    "duration": 141,
    "start_time": "2022-12-29T09:35:07.124Z"
   },
   {
    "duration": 33,
    "start_time": "2022-12-29T09:35:07.266Z"
   },
   {
    "duration": 48,
    "start_time": "2022-12-29T09:35:07.300Z"
   },
   {
    "duration": 85,
    "start_time": "2022-12-29T09:35:07.350Z"
   },
   {
    "duration": 33,
    "start_time": "2022-12-29T09:35:07.436Z"
   },
   {
    "duration": 53,
    "start_time": "2022-12-29T09:35:07.471Z"
   },
   {
    "duration": 51,
    "start_time": "2022-12-29T09:35:07.525Z"
   },
   {
    "duration": 27,
    "start_time": "2022-12-29T09:35:07.578Z"
   },
   {
    "duration": 80,
    "start_time": "2022-12-29T09:35:07.606Z"
   },
   {
    "duration": 56,
    "start_time": "2022-12-29T09:35:07.688Z"
   },
   {
    "duration": 73,
    "start_time": "2022-12-29T09:35:07.745Z"
   },
   {
    "duration": 33,
    "start_time": "2022-12-29T09:35:07.820Z"
   },
   {
    "duration": 60,
    "start_time": "2022-12-29T09:35:07.854Z"
   },
   {
    "duration": 831,
    "start_time": "2022-12-29T09:35:07.916Z"
   },
   {
    "duration": 721,
    "start_time": "2022-12-29T09:35:08.749Z"
   },
   {
    "duration": 832,
    "start_time": "2022-12-29T09:35:09.472Z"
   },
   {
    "duration": 526,
    "start_time": "2022-12-29T09:35:10.305Z"
   },
   {
    "duration": 561,
    "start_time": "2022-12-29T09:35:10.833Z"
   },
   {
    "duration": 683,
    "start_time": "2022-12-29T09:35:11.396Z"
   },
   {
    "duration": 490,
    "start_time": "2022-12-29T09:35:12.092Z"
   },
   {
    "duration": 421,
    "start_time": "2022-12-29T09:35:12.584Z"
   },
   {
    "duration": 391,
    "start_time": "2022-12-29T09:35:13.007Z"
   },
   {
    "duration": 4,
    "start_time": "2022-12-29T09:35:13.400Z"
   },
   {
    "duration": 314,
    "start_time": "2022-12-29T09:35:13.406Z"
   },
   {
    "duration": 447,
    "start_time": "2022-12-29T09:35:13.722Z"
   },
   {
    "duration": 288,
    "start_time": "2022-12-29T09:35:14.171Z"
   },
   {
    "duration": 3,
    "start_time": "2022-12-29T09:35:14.462Z"
   },
   {
    "duration": 32,
    "start_time": "2022-12-29T09:35:14.467Z"
   },
   {
    "duration": 57,
    "start_time": "2022-12-29T09:35:14.501Z"
   },
   {
    "duration": 3,
    "start_time": "2022-12-29T09:35:14.560Z"
   },
   {
    "duration": 50,
    "start_time": "2022-12-29T09:35:14.564Z"
   },
   {
    "duration": 40,
    "start_time": "2022-12-29T09:35:14.616Z"
   },
   {
    "duration": 10,
    "start_time": "2022-12-29T09:35:14.658Z"
   },
   {
    "duration": 44,
    "start_time": "2022-12-29T09:35:14.670Z"
   },
   {
    "duration": 398,
    "start_time": "2022-12-29T09:35:14.716Z"
   },
   {
    "duration": 12,
    "start_time": "2022-12-29T09:35:15.116Z"
   },
   {
    "duration": 32,
    "start_time": "2022-12-29T09:35:15.130Z"
   },
   {
    "duration": 12,
    "start_time": "2022-12-29T09:35:15.164Z"
   },
   {
    "duration": 53,
    "start_time": "2022-12-29T09:35:15.183Z"
   },
   {
    "duration": 14,
    "start_time": "2022-12-29T09:35:15.238Z"
   },
   {
    "duration": 63,
    "start_time": "2022-12-29T09:35:15.254Z"
   },
   {
    "duration": 8,
    "start_time": "2022-12-29T09:35:15.319Z"
   },
   {
    "duration": 43,
    "start_time": "2022-12-29T09:35:15.329Z"
   },
   {
    "duration": 35,
    "start_time": "2022-12-29T09:35:15.374Z"
   },
   {
    "duration": 15,
    "start_time": "2022-12-29T09:35:15.412Z"
   },
   {
    "duration": 55,
    "start_time": "2022-12-29T09:35:15.429Z"
   },
   {
    "duration": 1358,
    "start_time": "2022-12-29T09:36:32.397Z"
   },
   {
    "duration": 1421,
    "start_time": "2022-12-29T09:36:38.462Z"
   },
   {
    "duration": 748,
    "start_time": "2022-12-29T09:36:39.885Z"
   },
   {
    "duration": 21,
    "start_time": "2022-12-29T09:36:40.634Z"
   },
   {
    "duration": 26,
    "start_time": "2022-12-29T09:36:40.657Z"
   },
   {
    "duration": 24,
    "start_time": "2022-12-29T09:36:40.688Z"
   },
   {
    "duration": 23,
    "start_time": "2022-12-29T09:36:40.714Z"
   },
   {
    "duration": 43,
    "start_time": "2022-12-29T09:36:40.739Z"
   },
   {
    "duration": 44,
    "start_time": "2022-12-29T09:36:40.787Z"
   },
   {
    "duration": 12,
    "start_time": "2022-12-29T09:36:40.833Z"
   },
   {
    "duration": 14,
    "start_time": "2022-12-29T09:36:40.849Z"
   },
   {
    "duration": 12,
    "start_time": "2022-12-29T09:36:40.865Z"
   },
   {
    "duration": 23,
    "start_time": "2022-12-29T09:36:40.878Z"
   },
   {
    "duration": 157,
    "start_time": "2022-12-29T09:36:40.903Z"
   },
   {
    "duration": 60,
    "start_time": "2022-12-29T09:36:41.061Z"
   },
   {
    "duration": 156,
    "start_time": "2022-12-29T09:36:41.123Z"
   },
   {
    "duration": 19,
    "start_time": "2022-12-29T09:36:41.284Z"
   },
   {
    "duration": 1389,
    "start_time": "2022-12-29T09:36:41.304Z"
   },
   {
    "duration": 0,
    "start_time": "2022-12-29T09:36:42.696Z"
   },
   {
    "duration": 0,
    "start_time": "2022-12-29T09:36:42.697Z"
   },
   {
    "duration": 0,
    "start_time": "2022-12-29T09:36:42.698Z"
   },
   {
    "duration": 0,
    "start_time": "2022-12-29T09:36:42.699Z"
   },
   {
    "duration": 0,
    "start_time": "2022-12-29T09:36:42.700Z"
   },
   {
    "duration": 0,
    "start_time": "2022-12-29T09:36:42.701Z"
   },
   {
    "duration": 0,
    "start_time": "2022-12-29T09:36:42.702Z"
   },
   {
    "duration": 0,
    "start_time": "2022-12-29T09:36:42.703Z"
   },
   {
    "duration": 0,
    "start_time": "2022-12-29T09:36:42.704Z"
   },
   {
    "duration": 0,
    "start_time": "2022-12-29T09:36:42.705Z"
   },
   {
    "duration": 0,
    "start_time": "2022-12-29T09:36:42.706Z"
   },
   {
    "duration": 0,
    "start_time": "2022-12-29T09:36:42.707Z"
   },
   {
    "duration": 0,
    "start_time": "2022-12-29T09:36:42.708Z"
   },
   {
    "duration": 0,
    "start_time": "2022-12-29T09:36:42.709Z"
   },
   {
    "duration": 0,
    "start_time": "2022-12-29T09:36:42.710Z"
   },
   {
    "duration": 0,
    "start_time": "2022-12-29T09:36:42.710Z"
   },
   {
    "duration": 0,
    "start_time": "2022-12-29T09:36:42.711Z"
   },
   {
    "duration": 0,
    "start_time": "2022-12-29T09:36:42.712Z"
   },
   {
    "duration": 0,
    "start_time": "2022-12-29T09:36:42.713Z"
   },
   {
    "duration": 0,
    "start_time": "2022-12-29T09:36:42.714Z"
   },
   {
    "duration": 0,
    "start_time": "2022-12-29T09:36:42.715Z"
   },
   {
    "duration": 0,
    "start_time": "2022-12-29T09:36:42.716Z"
   },
   {
    "duration": 0,
    "start_time": "2022-12-29T09:36:42.717Z"
   },
   {
    "duration": 0,
    "start_time": "2022-12-29T09:36:42.718Z"
   },
   {
    "duration": 0,
    "start_time": "2022-12-29T09:36:42.718Z"
   },
   {
    "duration": 0,
    "start_time": "2022-12-29T09:36:42.719Z"
   },
   {
    "duration": 0,
    "start_time": "2022-12-29T09:36:42.720Z"
   },
   {
    "duration": 0,
    "start_time": "2022-12-29T09:36:42.721Z"
   },
   {
    "duration": 0,
    "start_time": "2022-12-29T09:36:42.722Z"
   },
   {
    "duration": 0,
    "start_time": "2022-12-29T09:36:42.723Z"
   },
   {
    "duration": 0,
    "start_time": "2022-12-29T09:36:42.723Z"
   },
   {
    "duration": 0,
    "start_time": "2022-12-29T09:36:42.724Z"
   },
   {
    "duration": 0,
    "start_time": "2022-12-29T09:36:42.725Z"
   },
   {
    "duration": 0,
    "start_time": "2022-12-29T09:36:42.726Z"
   },
   {
    "duration": 0,
    "start_time": "2022-12-29T09:36:42.727Z"
   },
   {
    "duration": 0,
    "start_time": "2022-12-29T09:36:42.728Z"
   },
   {
    "duration": 0,
    "start_time": "2022-12-29T09:36:42.729Z"
   },
   {
    "duration": 0,
    "start_time": "2022-12-29T09:36:42.730Z"
   },
   {
    "duration": 0,
    "start_time": "2022-12-29T09:36:42.731Z"
   },
   {
    "duration": 0,
    "start_time": "2022-12-29T09:36:42.732Z"
   },
   {
    "duration": 0,
    "start_time": "2022-12-29T09:36:42.733Z"
   },
   {
    "duration": 0,
    "start_time": "2022-12-29T09:36:42.780Z"
   },
   {
    "duration": 0,
    "start_time": "2022-12-29T09:36:42.780Z"
   },
   {
    "duration": 0,
    "start_time": "2022-12-29T09:36:42.785Z"
   },
   {
    "duration": 1496,
    "start_time": "2022-12-29T09:36:49.845Z"
   },
   {
    "duration": 1822,
    "start_time": "2022-12-29T09:40:12.541Z"
   },
   {
    "duration": 709,
    "start_time": "2022-12-29T09:40:14.365Z"
   },
   {
    "duration": 26,
    "start_time": "2022-12-29T09:40:15.076Z"
   },
   {
    "duration": 17,
    "start_time": "2022-12-29T09:40:15.104Z"
   },
   {
    "duration": 20,
    "start_time": "2022-12-29T09:40:15.122Z"
   },
   {
    "duration": 35,
    "start_time": "2022-12-29T09:40:15.144Z"
   },
   {
    "duration": 22,
    "start_time": "2022-12-29T09:40:15.185Z"
   },
   {
    "duration": 24,
    "start_time": "2022-12-29T09:40:15.208Z"
   },
   {
    "duration": 16,
    "start_time": "2022-12-29T09:40:15.234Z"
   },
   {
    "duration": 15,
    "start_time": "2022-12-29T09:40:15.252Z"
   },
   {
    "duration": 39,
    "start_time": "2022-12-29T09:40:15.269Z"
   },
   {
    "duration": 20,
    "start_time": "2022-12-29T09:40:15.310Z"
   },
   {
    "duration": 156,
    "start_time": "2022-12-29T09:40:15.332Z"
   },
   {
    "duration": 51,
    "start_time": "2022-12-29T09:40:15.490Z"
   },
   {
    "duration": 173,
    "start_time": "2022-12-29T09:40:15.543Z"
   },
   {
    "duration": 15,
    "start_time": "2022-12-29T09:40:15.717Z"
   },
   {
    "duration": 31,
    "start_time": "2022-12-29T09:40:15.735Z"
   },
   {
    "duration": 49,
    "start_time": "2022-12-29T09:40:15.768Z"
   },
   {
    "duration": 43,
    "start_time": "2022-12-29T09:40:15.819Z"
   },
   {
    "duration": 27,
    "start_time": "2022-12-29T09:40:15.863Z"
   },
   {
    "duration": 29,
    "start_time": "2022-12-29T09:40:15.891Z"
   },
   {
    "duration": 12,
    "start_time": "2022-12-29T09:40:15.921Z"
   },
   {
    "duration": 18,
    "start_time": "2022-12-29T09:40:15.935Z"
   },
   {
    "duration": 20,
    "start_time": "2022-12-29T09:40:15.955Z"
   },
   {
    "duration": 31,
    "start_time": "2022-12-29T09:40:15.977Z"
   },
   {
    "duration": 791,
    "start_time": "2022-12-29T09:40:16.010Z"
   },
   {
    "duration": 664,
    "start_time": "2022-12-29T09:40:16.803Z"
   },
   {
    "duration": 801,
    "start_time": "2022-12-29T09:40:17.471Z"
   },
   {
    "duration": 514,
    "start_time": "2022-12-29T09:40:18.273Z"
   },
   {
    "duration": 574,
    "start_time": "2022-12-29T09:40:18.792Z"
   },
   {
    "duration": 674,
    "start_time": "2022-12-29T09:40:19.368Z"
   },
   {
    "duration": 509,
    "start_time": "2022-12-29T09:40:20.044Z"
   },
   {
    "duration": 433,
    "start_time": "2022-12-29T09:40:20.555Z"
   },
   {
    "duration": 386,
    "start_time": "2022-12-29T09:40:20.994Z"
   },
   {
    "duration": 7,
    "start_time": "2022-12-29T09:40:21.384Z"
   },
   {
    "duration": 325,
    "start_time": "2022-12-29T09:40:21.396Z"
   },
   {
    "duration": 401,
    "start_time": "2022-12-29T09:40:21.723Z"
   },
   {
    "duration": 284,
    "start_time": "2022-12-29T09:40:22.126Z"
   },
   {
    "duration": 3,
    "start_time": "2022-12-29T09:40:22.412Z"
   },
   {
    "duration": 20,
    "start_time": "2022-12-29T09:40:22.416Z"
   },
   {
    "duration": 47,
    "start_time": "2022-12-29T09:40:22.438Z"
   },
   {
    "duration": 6,
    "start_time": "2022-12-29T09:40:22.489Z"
   },
   {
    "duration": 21,
    "start_time": "2022-12-29T09:40:22.497Z"
   },
   {
    "duration": 16,
    "start_time": "2022-12-29T09:40:22.520Z"
   },
   {
    "duration": 10,
    "start_time": "2022-12-29T09:40:22.538Z"
   },
   {
    "duration": 6,
    "start_time": "2022-12-29T09:40:22.550Z"
   },
   {
    "duration": 446,
    "start_time": "2022-12-29T09:40:22.558Z"
   },
   {
    "duration": 15,
    "start_time": "2022-12-29T09:40:23.005Z"
   },
   {
    "duration": 13,
    "start_time": "2022-12-29T09:40:23.022Z"
   },
   {
    "duration": 5,
    "start_time": "2022-12-29T09:40:23.037Z"
   },
   {
    "duration": 42,
    "start_time": "2022-12-29T09:40:23.044Z"
   },
   {
    "duration": 11,
    "start_time": "2022-12-29T09:40:23.087Z"
   },
   {
    "duration": 28,
    "start_time": "2022-12-29T09:40:23.100Z"
   },
   {
    "duration": 7,
    "start_time": "2022-12-29T09:40:23.129Z"
   },
   {
    "duration": 26,
    "start_time": "2022-12-29T09:40:23.137Z"
   },
   {
    "duration": 5,
    "start_time": "2022-12-29T09:40:23.165Z"
   },
   {
    "duration": 26,
    "start_time": "2022-12-29T09:40:23.172Z"
   },
   {
    "duration": 1560,
    "start_time": "2022-12-29T09:44:24.766Z"
   },
   {
    "duration": 759,
    "start_time": "2022-12-29T09:44:26.329Z"
   },
   {
    "duration": 26,
    "start_time": "2022-12-29T09:44:27.090Z"
   },
   {
    "duration": 24,
    "start_time": "2022-12-29T09:44:27.118Z"
   },
   {
    "duration": 51,
    "start_time": "2022-12-29T09:44:27.144Z"
   },
   {
    "duration": 48,
    "start_time": "2022-12-29T09:44:27.197Z"
   },
   {
    "duration": 46,
    "start_time": "2022-12-29T09:44:27.247Z"
   },
   {
    "duration": 48,
    "start_time": "2022-12-29T09:44:27.295Z"
   },
   {
    "duration": 37,
    "start_time": "2022-12-29T09:44:27.346Z"
   },
   {
    "duration": 45,
    "start_time": "2022-12-29T09:44:27.384Z"
   },
   {
    "duration": 39,
    "start_time": "2022-12-29T09:44:27.431Z"
   },
   {
    "duration": 51,
    "start_time": "2022-12-29T09:44:27.471Z"
   },
   {
    "duration": 194,
    "start_time": "2022-12-29T09:44:27.524Z"
   },
   {
    "duration": 70,
    "start_time": "2022-12-29T09:44:27.721Z"
   },
   {
    "duration": 136,
    "start_time": "2022-12-29T09:44:27.794Z"
   },
   {
    "duration": 14,
    "start_time": "2022-12-29T09:44:27.932Z"
   },
   {
    "duration": 6,
    "start_time": "2022-12-29T09:44:27.947Z"
   },
   {
    "duration": 31,
    "start_time": "2022-12-29T09:44:27.955Z"
   },
   {
    "duration": 29,
    "start_time": "2022-12-29T09:44:27.989Z"
   },
   {
    "duration": 25,
    "start_time": "2022-12-29T09:44:28.020Z"
   },
   {
    "duration": 48,
    "start_time": "2022-12-29T09:44:28.046Z"
   },
   {
    "duration": 12,
    "start_time": "2022-12-29T09:44:28.096Z"
   },
   {
    "duration": 18,
    "start_time": "2022-12-29T09:44:28.110Z"
   },
   {
    "duration": 16,
    "start_time": "2022-12-29T09:44:28.129Z"
   },
   {
    "duration": 62,
    "start_time": "2022-12-29T09:44:28.147Z"
   },
   {
    "duration": 836,
    "start_time": "2022-12-29T09:44:28.210Z"
   },
   {
    "duration": 656,
    "start_time": "2022-12-29T09:44:29.048Z"
   },
   {
    "duration": 793,
    "start_time": "2022-12-29T09:44:29.705Z"
   },
   {
    "duration": 595,
    "start_time": "2022-12-29T09:44:30.500Z"
   },
   {
    "duration": 508,
    "start_time": "2022-12-29T09:44:31.097Z"
   },
   {
    "duration": 632,
    "start_time": "2022-12-29T09:44:31.607Z"
   },
   {
    "duration": 506,
    "start_time": "2022-12-29T09:44:32.241Z"
   },
   {
    "duration": 432,
    "start_time": "2022-12-29T09:44:32.749Z"
   },
   {
    "duration": 508,
    "start_time": "2022-12-29T09:44:33.182Z"
   },
   {
    "duration": 3,
    "start_time": "2022-12-29T09:44:33.693Z"
   },
   {
    "duration": 307,
    "start_time": "2022-12-29T09:44:33.698Z"
   },
   {
    "duration": 417,
    "start_time": "2022-12-29T09:44:34.007Z"
   },
   {
    "duration": 313,
    "start_time": "2022-12-29T09:44:34.425Z"
   },
   {
    "duration": 3,
    "start_time": "2022-12-29T09:44:34.740Z"
   },
   {
    "duration": 10,
    "start_time": "2022-12-29T09:44:34.745Z"
   },
   {
    "duration": 54,
    "start_time": "2022-12-29T09:44:34.759Z"
   },
   {
    "duration": 3,
    "start_time": "2022-12-29T09:44:34.814Z"
   },
   {
    "duration": 29,
    "start_time": "2022-12-29T09:44:34.819Z"
   },
   {
    "duration": 25,
    "start_time": "2022-12-29T09:44:34.849Z"
   },
   {
    "duration": 14,
    "start_time": "2022-12-29T09:44:34.876Z"
   },
   {
    "duration": 26,
    "start_time": "2022-12-29T09:44:34.892Z"
   },
   {
    "duration": 470,
    "start_time": "2022-12-29T09:44:34.919Z"
   },
   {
    "duration": 14,
    "start_time": "2022-12-29T09:44:35.391Z"
   },
   {
    "duration": 10,
    "start_time": "2022-12-29T09:44:35.407Z"
   },
   {
    "duration": 11,
    "start_time": "2022-12-29T09:44:35.419Z"
   },
   {
    "duration": 16,
    "start_time": "2022-12-29T09:44:35.431Z"
   },
   {
    "duration": 9,
    "start_time": "2022-12-29T09:44:35.448Z"
   },
   {
    "duration": 32,
    "start_time": "2022-12-29T09:44:35.459Z"
   },
   {
    "duration": 7,
    "start_time": "2022-12-29T09:44:35.493Z"
   },
   {
    "duration": 20,
    "start_time": "2022-12-29T09:44:35.502Z"
   },
   {
    "duration": 3,
    "start_time": "2022-12-29T09:44:35.524Z"
   },
   {
    "duration": 11,
    "start_time": "2022-12-29T09:44:35.529Z"
   },
   {
    "duration": 115,
    "start_time": "2022-12-29T09:44:35.542Z"
   },
   {
    "duration": 163,
    "start_time": "2022-12-29T09:44:43.492Z"
   },
   {
    "duration": 200,
    "start_time": "2022-12-29T09:44:59.383Z"
   },
   {
    "duration": 159,
    "start_time": "2022-12-29T09:45:17.499Z"
   },
   {
    "duration": 157,
    "start_time": "2022-12-29T09:45:31.587Z"
   },
   {
    "duration": 11,
    "start_time": "2022-12-29T09:46:51.281Z"
   },
   {
    "duration": 29,
    "start_time": "2022-12-29T09:46:59.975Z"
   },
   {
    "duration": 10,
    "start_time": "2022-12-29T09:47:40.868Z"
   },
   {
    "duration": 12,
    "start_time": "2022-12-29T09:47:51.106Z"
   },
   {
    "duration": 31,
    "start_time": "2022-12-29T09:47:59.435Z"
   },
   {
    "duration": 3,
    "start_time": "2022-12-29T09:50:10.701Z"
   },
   {
    "duration": 3,
    "start_time": "2022-12-29T09:50:11.273Z"
   },
   {
    "duration": 26,
    "start_time": "2022-12-29T09:50:11.802Z"
   },
   {
    "duration": 24,
    "start_time": "2022-12-29T09:50:12.613Z"
   },
   {
    "duration": 3,
    "start_time": "2022-12-29T09:50:54.282Z"
   },
   {
    "duration": 3,
    "start_time": "2022-12-29T09:50:54.868Z"
   },
   {
    "duration": 24,
    "start_time": "2022-12-29T09:50:55.409Z"
   },
   {
    "duration": 27,
    "start_time": "2022-12-29T09:50:56.049Z"
   },
   {
    "duration": 26,
    "start_time": "2022-12-29T09:52:19.548Z"
   },
   {
    "duration": 27,
    "start_time": "2022-12-29T09:52:20.560Z"
   },
   {
    "duration": 9,
    "start_time": "2022-12-29T09:52:34.827Z"
   },
   {
    "duration": 5,
    "start_time": "2022-12-29T09:52:51.189Z"
   },
   {
    "duration": 3,
    "start_time": "2022-12-29T09:54:31.514Z"
   },
   {
    "duration": 27,
    "start_time": "2022-12-29T09:54:32.391Z"
   },
   {
    "duration": 28,
    "start_time": "2022-12-29T09:54:32.752Z"
   },
   {
    "duration": 3,
    "start_time": "2022-12-29T09:54:33.546Z"
   },
   {
    "duration": 1370,
    "start_time": "2022-12-29T11:09:34.351Z"
   },
   {
    "duration": 682,
    "start_time": "2022-12-29T11:09:35.723Z"
   },
   {
    "duration": 18,
    "start_time": "2022-12-29T11:09:36.407Z"
   },
   {
    "duration": 12,
    "start_time": "2022-12-29T11:09:36.427Z"
   },
   {
    "duration": 28,
    "start_time": "2022-12-29T11:09:36.441Z"
   },
   {
    "duration": 31,
    "start_time": "2022-12-29T11:09:36.471Z"
   },
   {
    "duration": 19,
    "start_time": "2022-12-29T11:09:36.504Z"
   },
   {
    "duration": 48,
    "start_time": "2022-12-29T11:09:36.525Z"
   },
   {
    "duration": 17,
    "start_time": "2022-12-29T11:09:36.575Z"
   },
   {
    "duration": 22,
    "start_time": "2022-12-29T11:09:36.594Z"
   },
   {
    "duration": 42,
    "start_time": "2022-12-29T11:09:36.618Z"
   },
   {
    "duration": 16,
    "start_time": "2022-12-29T11:09:36.661Z"
   },
   {
    "duration": 155,
    "start_time": "2022-12-29T11:09:36.679Z"
   },
   {
    "duration": 62,
    "start_time": "2022-12-29T11:09:36.836Z"
   },
   {
    "duration": 134,
    "start_time": "2022-12-29T11:09:36.900Z"
   },
   {
    "duration": 14,
    "start_time": "2022-12-29T11:09:37.035Z"
   },
   {
    "duration": 28,
    "start_time": "2022-12-29T11:09:37.051Z"
   },
   {
    "duration": 23,
    "start_time": "2022-12-29T11:09:37.081Z"
   },
   {
    "duration": 48,
    "start_time": "2022-12-29T11:09:37.106Z"
   },
   {
    "duration": 26,
    "start_time": "2022-12-29T11:09:37.156Z"
   },
   {
    "duration": 53,
    "start_time": "2022-12-29T11:09:37.184Z"
   },
   {
    "duration": 35,
    "start_time": "2022-12-29T11:09:37.239Z"
   },
   {
    "duration": 24,
    "start_time": "2022-12-29T11:09:37.276Z"
   },
   {
    "duration": 27,
    "start_time": "2022-12-29T11:09:37.301Z"
   },
   {
    "duration": 55,
    "start_time": "2022-12-29T11:09:37.329Z"
   },
   {
    "duration": 764,
    "start_time": "2022-12-29T11:09:37.386Z"
   },
   {
    "duration": 640,
    "start_time": "2022-12-29T11:09:38.152Z"
   },
   {
    "duration": 754,
    "start_time": "2022-12-29T11:09:38.795Z"
   },
   {
    "duration": 492,
    "start_time": "2022-12-29T11:09:39.551Z"
   },
   {
    "duration": 494,
    "start_time": "2022-12-29T11:09:40.045Z"
   },
   {
    "duration": 690,
    "start_time": "2022-12-29T11:09:40.541Z"
   },
   {
    "duration": 509,
    "start_time": "2022-12-29T11:09:41.233Z"
   },
   {
    "duration": 434,
    "start_time": "2022-12-29T11:09:41.744Z"
   },
   {
    "duration": 504,
    "start_time": "2022-12-29T11:09:42.180Z"
   },
   {
    "duration": 4,
    "start_time": "2022-12-29T11:09:42.686Z"
   },
   {
    "duration": 285,
    "start_time": "2022-12-29T11:09:42.692Z"
   },
   {
    "duration": 365,
    "start_time": "2022-12-29T11:09:42.979Z"
   },
   {
    "duration": 298,
    "start_time": "2022-12-29T11:09:43.346Z"
   },
   {
    "duration": 4,
    "start_time": "2022-12-29T11:09:43.646Z"
   },
   {
    "duration": 25,
    "start_time": "2022-12-29T11:09:43.652Z"
   },
   {
    "duration": 44,
    "start_time": "2022-12-29T11:09:43.679Z"
   },
   {
    "duration": 3,
    "start_time": "2022-12-29T11:09:43.725Z"
   },
   {
    "duration": 32,
    "start_time": "2022-12-29T11:09:43.730Z"
   },
   {
    "duration": 18,
    "start_time": "2022-12-29T11:09:43.764Z"
   },
   {
    "duration": 12,
    "start_time": "2022-12-29T11:09:43.784Z"
   },
   {
    "duration": 7,
    "start_time": "2022-12-29T11:09:43.798Z"
   },
   {
    "duration": 523,
    "start_time": "2022-12-29T11:09:43.808Z"
   },
   {
    "duration": 14,
    "start_time": "2022-12-29T11:09:44.333Z"
   },
   {
    "duration": 12,
    "start_time": "2022-12-29T11:09:44.348Z"
   },
   {
    "duration": 19,
    "start_time": "2022-12-29T11:09:44.362Z"
   },
   {
    "duration": 24,
    "start_time": "2022-12-29T11:09:44.383Z"
   },
   {
    "duration": 9,
    "start_time": "2022-12-29T11:09:44.409Z"
   },
   {
    "duration": 32,
    "start_time": "2022-12-29T11:09:44.420Z"
   },
   {
    "duration": 7,
    "start_time": "2022-12-29T11:09:44.453Z"
   },
   {
    "duration": 23,
    "start_time": "2022-12-29T11:09:44.462Z"
   },
   {
    "duration": 4,
    "start_time": "2022-12-29T11:09:44.487Z"
   },
   {
    "duration": 10,
    "start_time": "2022-12-29T11:09:44.492Z"
   },
   {
    "duration": 34,
    "start_time": "2022-12-29T11:09:44.504Z"
   },
   {
    "duration": 51,
    "start_time": "2022-12-29T11:09:44.540Z"
   },
   {
    "duration": 4,
    "start_time": "2022-12-29T11:09:44.593Z"
   },
   {
    "duration": 5,
    "start_time": "2022-12-29T11:22:36.736Z"
   },
   {
    "duration": 1360,
    "start_time": "2022-12-29T11:22:40.661Z"
   },
   {
    "duration": 648,
    "start_time": "2022-12-29T11:22:42.023Z"
   },
   {
    "duration": 18,
    "start_time": "2022-12-29T11:22:42.672Z"
   },
   {
    "duration": 11,
    "start_time": "2022-12-29T11:22:42.692Z"
   },
   {
    "duration": 15,
    "start_time": "2022-12-29T11:22:42.704Z"
   },
   {
    "duration": 22,
    "start_time": "2022-12-29T11:22:42.720Z"
   },
   {
    "duration": 50,
    "start_time": "2022-12-29T11:22:42.743Z"
   },
   {
    "duration": 23,
    "start_time": "2022-12-29T11:22:42.794Z"
   },
   {
    "duration": 8,
    "start_time": "2022-12-29T11:22:42.818Z"
   },
   {
    "duration": 11,
    "start_time": "2022-12-29T11:22:42.829Z"
   },
   {
    "duration": 9,
    "start_time": "2022-12-29T11:22:42.842Z"
   },
   {
    "duration": 7,
    "start_time": "2022-12-29T11:22:42.852Z"
   },
   {
    "duration": 157,
    "start_time": "2022-12-29T11:22:42.878Z"
   },
   {
    "duration": 65,
    "start_time": "2022-12-29T11:22:43.037Z"
   },
   {
    "duration": 134,
    "start_time": "2022-12-29T11:22:43.104Z"
   },
   {
    "duration": 14,
    "start_time": "2022-12-29T11:22:43.240Z"
   },
   {
    "duration": 7,
    "start_time": "2022-12-29T11:22:43.277Z"
   },
   {
    "duration": 8,
    "start_time": "2022-12-29T11:22:43.286Z"
   },
   {
    "duration": 29,
    "start_time": "2022-12-29T11:22:43.295Z"
   },
   {
    "duration": 24,
    "start_time": "2022-12-29T11:22:43.325Z"
   },
   {
    "duration": 45,
    "start_time": "2022-12-29T11:22:43.351Z"
   },
   {
    "duration": 12,
    "start_time": "2022-12-29T11:22:43.397Z"
   },
   {
    "duration": 6,
    "start_time": "2022-12-29T11:22:43.410Z"
   },
   {
    "duration": 7,
    "start_time": "2022-12-29T11:22:43.417Z"
   },
   {
    "duration": 16,
    "start_time": "2022-12-29T11:22:43.425Z"
   },
   {
    "duration": 774,
    "start_time": "2022-12-29T11:22:43.442Z"
   },
   {
    "duration": 599,
    "start_time": "2022-12-29T11:22:44.217Z"
   },
   {
    "duration": 751,
    "start_time": "2022-12-29T11:22:44.820Z"
   },
   {
    "duration": 514,
    "start_time": "2022-12-29T11:22:45.573Z"
   },
   {
    "duration": 474,
    "start_time": "2022-12-29T11:22:46.089Z"
   },
   {
    "duration": 651,
    "start_time": "2022-12-29T11:22:46.565Z"
   },
   {
    "duration": 485,
    "start_time": "2022-12-29T11:22:47.218Z"
   },
   {
    "duration": 368,
    "start_time": "2022-12-29T11:22:47.705Z"
   },
   {
    "duration": 408,
    "start_time": "2022-12-29T11:22:48.075Z"
   },
   {
    "duration": 4,
    "start_time": "2022-12-29T11:22:48.484Z"
   },
   {
    "duration": 274,
    "start_time": "2022-12-29T11:22:48.490Z"
   },
   {
    "duration": 412,
    "start_time": "2022-12-29T11:22:48.766Z"
   },
   {
    "duration": 270,
    "start_time": "2022-12-29T11:22:49.180Z"
   },
   {
    "duration": 4,
    "start_time": "2022-12-29T11:22:49.452Z"
   },
   {
    "duration": 13,
    "start_time": "2022-12-29T11:22:49.457Z"
   },
   {
    "duration": 37,
    "start_time": "2022-12-29T11:22:49.478Z"
   },
   {
    "duration": 3,
    "start_time": "2022-12-29T11:22:49.517Z"
   },
   {
    "duration": 18,
    "start_time": "2022-12-29T11:22:49.521Z"
   },
   {
    "duration": 15,
    "start_time": "2022-12-29T11:22:49.540Z"
   },
   {
    "duration": 27,
    "start_time": "2022-12-29T11:22:49.557Z"
   },
   {
    "duration": 8,
    "start_time": "2022-12-29T11:22:49.586Z"
   },
   {
    "duration": 389,
    "start_time": "2022-12-29T11:22:49.596Z"
   },
   {
    "duration": 11,
    "start_time": "2022-12-29T11:22:49.986Z"
   },
   {
    "duration": 10,
    "start_time": "2022-12-29T11:22:49.999Z"
   },
   {
    "duration": 2,
    "start_time": "2022-12-29T11:22:50.011Z"
   },
   {
    "duration": 19,
    "start_time": "2022-12-29T11:22:50.015Z"
   },
   {
    "duration": 8,
    "start_time": "2022-12-29T11:22:50.036Z"
   },
   {
    "duration": 48,
    "start_time": "2022-12-29T11:22:50.046Z"
   },
   {
    "duration": 6,
    "start_time": "2022-12-29T11:22:50.095Z"
   },
   {
    "duration": 22,
    "start_time": "2022-12-29T11:22:50.102Z"
   },
   {
    "duration": 3,
    "start_time": "2022-12-29T11:22:50.126Z"
   },
   {
    "duration": 6,
    "start_time": "2022-12-29T11:22:50.130Z"
   },
   {
    "duration": 42,
    "start_time": "2022-12-29T11:22:50.137Z"
   },
   {
    "duration": 25,
    "start_time": "2022-12-29T11:22:50.180Z"
   },
   {
    "duration": 3,
    "start_time": "2022-12-29T11:22:50.207Z"
   },
   {
    "duration": 19,
    "start_time": "2022-12-29T11:22:50.211Z"
   },
   {
    "duration": 6823,
    "start_time": "2022-12-29T11:23:31.141Z"
   },
   {
    "duration": 5,
    "start_time": "2022-12-29T11:23:59.027Z"
   },
   {
    "duration": 6997,
    "start_time": "2022-12-29T11:24:00.108Z"
   },
   {
    "duration": 6948,
    "start_time": "2022-12-29T11:24:18.131Z"
   },
   {
    "duration": 112,
    "start_time": "2022-12-29T11:27:24.693Z"
   },
   {
    "duration": 1467,
    "start_time": "2022-12-29T11:27:32.866Z"
   },
   {
    "duration": 697,
    "start_time": "2022-12-29T11:27:34.335Z"
   },
   {
    "duration": 20,
    "start_time": "2022-12-29T11:27:35.033Z"
   },
   {
    "duration": 24,
    "start_time": "2022-12-29T11:27:35.055Z"
   },
   {
    "duration": 25,
    "start_time": "2022-12-29T11:27:35.081Z"
   },
   {
    "duration": 44,
    "start_time": "2022-12-29T11:27:35.108Z"
   },
   {
    "duration": 26,
    "start_time": "2022-12-29T11:27:35.153Z"
   },
   {
    "duration": 49,
    "start_time": "2022-12-29T11:27:35.181Z"
   },
   {
    "duration": 30,
    "start_time": "2022-12-29T11:27:35.232Z"
   },
   {
    "duration": 14,
    "start_time": "2022-12-29T11:27:35.266Z"
   },
   {
    "duration": 31,
    "start_time": "2022-12-29T11:27:35.282Z"
   },
   {
    "duration": 51,
    "start_time": "2022-12-29T11:27:35.315Z"
   },
   {
    "duration": 163,
    "start_time": "2022-12-29T11:27:35.367Z"
   },
   {
    "duration": 69,
    "start_time": "2022-12-29T11:27:35.531Z"
   },
   {
    "duration": 146,
    "start_time": "2022-12-29T11:27:35.601Z"
   },
   {
    "duration": 37,
    "start_time": "2022-12-29T11:27:35.748Z"
   },
   {
    "duration": 9,
    "start_time": "2022-12-29T11:27:35.787Z"
   },
   {
    "duration": 14,
    "start_time": "2022-12-29T11:27:35.798Z"
   },
   {
    "duration": 41,
    "start_time": "2022-12-29T11:27:35.814Z"
   },
   {
    "duration": 39,
    "start_time": "2022-12-29T11:27:35.856Z"
   },
   {
    "duration": 25,
    "start_time": "2022-12-29T11:27:35.897Z"
   },
   {
    "duration": 13,
    "start_time": "2022-12-29T11:27:35.923Z"
   },
   {
    "duration": 6,
    "start_time": "2022-12-29T11:27:35.938Z"
   },
   {
    "duration": 17,
    "start_time": "2022-12-29T11:27:35.946Z"
   },
   {
    "duration": 32,
    "start_time": "2022-12-29T11:27:35.978Z"
   },
   {
    "duration": 793,
    "start_time": "2022-12-29T11:27:36.012Z"
   },
   {
    "duration": 664,
    "start_time": "2022-12-29T11:27:36.807Z"
   },
   {
    "duration": 827,
    "start_time": "2022-12-29T11:27:37.477Z"
   },
   {
    "duration": 496,
    "start_time": "2022-12-29T11:27:38.306Z"
   },
   {
    "duration": 492,
    "start_time": "2022-12-29T11:27:38.804Z"
   },
   {
    "duration": 640,
    "start_time": "2022-12-29T11:27:39.297Z"
   },
   {
    "duration": 511,
    "start_time": "2022-12-29T11:27:39.942Z"
   },
   {
    "duration": 437,
    "start_time": "2022-12-29T11:27:40.455Z"
   },
   {
    "duration": 396,
    "start_time": "2022-12-29T11:27:40.893Z"
   },
   {
    "duration": 3,
    "start_time": "2022-12-29T11:27:41.291Z"
   },
   {
    "duration": 292,
    "start_time": "2022-12-29T11:27:41.296Z"
   },
   {
    "duration": 390,
    "start_time": "2022-12-29T11:27:41.590Z"
   },
   {
    "duration": 258,
    "start_time": "2022-12-29T11:27:41.982Z"
   },
   {
    "duration": 3,
    "start_time": "2022-12-29T11:27:42.242Z"
   },
   {
    "duration": 17,
    "start_time": "2022-12-29T11:27:42.247Z"
   },
   {
    "duration": 44,
    "start_time": "2022-12-29T11:27:42.265Z"
   },
   {
    "duration": 5,
    "start_time": "2022-12-29T11:27:42.311Z"
   },
   {
    "duration": 21,
    "start_time": "2022-12-29T11:27:42.317Z"
   },
   {
    "duration": 16,
    "start_time": "2022-12-29T11:27:42.339Z"
   },
   {
    "duration": 24,
    "start_time": "2022-12-29T11:27:42.357Z"
   },
   {
    "duration": 6,
    "start_time": "2022-12-29T11:27:42.383Z"
   },
   {
    "duration": 390,
    "start_time": "2022-12-29T11:27:42.391Z"
   },
   {
    "duration": 12,
    "start_time": "2022-12-29T11:27:42.783Z"
   },
   {
    "duration": 11,
    "start_time": "2022-12-29T11:27:42.796Z"
   },
   {
    "duration": 13,
    "start_time": "2022-12-29T11:27:42.809Z"
   },
   {
    "duration": 13,
    "start_time": "2022-12-29T11:27:42.824Z"
   },
   {
    "duration": 8,
    "start_time": "2022-12-29T11:27:42.839Z"
   },
   {
    "duration": 39,
    "start_time": "2022-12-29T11:27:42.848Z"
   },
   {
    "duration": 6,
    "start_time": "2022-12-29T11:27:42.889Z"
   },
   {
    "duration": 18,
    "start_time": "2022-12-29T11:27:42.896Z"
   },
   {
    "duration": 3,
    "start_time": "2022-12-29T11:27:42.916Z"
   },
   {
    "duration": 15,
    "start_time": "2022-12-29T11:27:42.921Z"
   },
   {
    "duration": 41,
    "start_time": "2022-12-29T11:27:42.938Z"
   },
   {
    "duration": 28,
    "start_time": "2022-12-29T11:27:42.981Z"
   },
   {
    "duration": 4,
    "start_time": "2022-12-29T11:27:43.010Z"
   },
   {
    "duration": 11,
    "start_time": "2022-12-29T11:27:43.015Z"
   },
   {
    "duration": 7262,
    "start_time": "2022-12-29T11:27:43.028Z"
   },
   {
    "duration": 107,
    "start_time": "2022-12-29T11:27:50.291Z"
   },
   {
    "duration": 1404,
    "start_time": "2022-12-29T11:28:21.934Z"
   },
   {
    "duration": 680,
    "start_time": "2022-12-29T11:28:23.340Z"
   },
   {
    "duration": 24,
    "start_time": "2022-12-29T11:28:24.022Z"
   },
   {
    "duration": 31,
    "start_time": "2022-12-29T11:28:24.049Z"
   },
   {
    "duration": 32,
    "start_time": "2022-12-29T11:28:24.082Z"
   },
   {
    "duration": 28,
    "start_time": "2022-12-29T11:28:24.116Z"
   },
   {
    "duration": 32,
    "start_time": "2022-12-29T11:28:24.146Z"
   },
   {
    "duration": 28,
    "start_time": "2022-12-29T11:28:24.180Z"
   },
   {
    "duration": 11,
    "start_time": "2022-12-29T11:28:24.209Z"
   },
   {
    "duration": 8,
    "start_time": "2022-12-29T11:28:24.223Z"
   },
   {
    "duration": 20,
    "start_time": "2022-12-29T11:28:24.232Z"
   },
   {
    "duration": 5,
    "start_time": "2022-12-29T11:28:24.254Z"
   },
   {
    "duration": 159,
    "start_time": "2022-12-29T11:28:24.260Z"
   },
   {
    "duration": 68,
    "start_time": "2022-12-29T11:28:24.420Z"
   },
   {
    "duration": 137,
    "start_time": "2022-12-29T11:28:24.489Z"
   },
   {
    "duration": 14,
    "start_time": "2022-12-29T11:28:24.628Z"
   },
   {
    "duration": 40,
    "start_time": "2022-12-29T11:28:24.644Z"
   },
   {
    "duration": 21,
    "start_time": "2022-12-29T11:28:24.686Z"
   },
   {
    "duration": 52,
    "start_time": "2022-12-29T11:28:24.709Z"
   },
   {
    "duration": 38,
    "start_time": "2022-12-29T11:28:24.763Z"
   },
   {
    "duration": 27,
    "start_time": "2022-12-29T11:28:24.802Z"
   },
   {
    "duration": 18,
    "start_time": "2022-12-29T11:28:24.830Z"
   },
   {
    "duration": 29,
    "start_time": "2022-12-29T11:28:24.850Z"
   },
   {
    "duration": 25,
    "start_time": "2022-12-29T11:28:24.881Z"
   },
   {
    "duration": 51,
    "start_time": "2022-12-29T11:28:24.908Z"
   },
   {
    "duration": 871,
    "start_time": "2022-12-29T11:28:24.961Z"
   },
   {
    "duration": 755,
    "start_time": "2022-12-29T11:28:25.834Z"
   },
   {
    "duration": 867,
    "start_time": "2022-12-29T11:28:26.594Z"
   },
   {
    "duration": 559,
    "start_time": "2022-12-29T11:28:27.463Z"
   },
   {
    "duration": 471,
    "start_time": "2022-12-29T11:28:28.023Z"
   },
   {
    "duration": 626,
    "start_time": "2022-12-29T11:28:28.496Z"
   },
   {
    "duration": 495,
    "start_time": "2022-12-29T11:28:29.124Z"
   },
   {
    "duration": 450,
    "start_time": "2022-12-29T11:28:29.620Z"
   },
   {
    "duration": 413,
    "start_time": "2022-12-29T11:28:30.078Z"
   },
   {
    "duration": 4,
    "start_time": "2022-12-29T11:28:30.493Z"
   },
   {
    "duration": 298,
    "start_time": "2022-12-29T11:28:30.499Z"
   },
   {
    "duration": 444,
    "start_time": "2022-12-29T11:28:30.799Z"
   },
   {
    "duration": 271,
    "start_time": "2022-12-29T11:28:31.245Z"
   },
   {
    "duration": 4,
    "start_time": "2022-12-29T11:28:31.518Z"
   },
   {
    "duration": 23,
    "start_time": "2022-12-29T11:28:31.523Z"
   },
   {
    "duration": 58,
    "start_time": "2022-12-29T11:28:31.548Z"
   },
   {
    "duration": 3,
    "start_time": "2022-12-29T11:28:31.607Z"
   },
   {
    "duration": 23,
    "start_time": "2022-12-29T11:28:31.611Z"
   },
   {
    "duration": 25,
    "start_time": "2022-12-29T11:28:31.636Z"
   },
   {
    "duration": 16,
    "start_time": "2022-12-29T11:28:31.662Z"
   },
   {
    "duration": 7,
    "start_time": "2022-12-29T11:28:31.680Z"
   },
   {
    "duration": 385,
    "start_time": "2022-12-29T11:28:31.688Z"
   },
   {
    "duration": 12,
    "start_time": "2022-12-29T11:28:32.077Z"
   },
   {
    "duration": 11,
    "start_time": "2022-12-29T11:28:32.090Z"
   },
   {
    "duration": 2,
    "start_time": "2022-12-29T11:28:32.103Z"
   },
   {
    "duration": 16,
    "start_time": "2022-12-29T11:28:32.107Z"
   },
   {
    "duration": 7,
    "start_time": "2022-12-29T11:28:32.124Z"
   },
   {
    "duration": 46,
    "start_time": "2022-12-29T11:28:32.133Z"
   },
   {
    "duration": 5,
    "start_time": "2022-12-29T11:28:32.181Z"
   },
   {
    "duration": 16,
    "start_time": "2022-12-29T11:28:32.188Z"
   },
   {
    "duration": 3,
    "start_time": "2022-12-29T11:28:32.206Z"
   },
   {
    "duration": 6,
    "start_time": "2022-12-29T11:28:32.210Z"
   },
   {
    "duration": 27,
    "start_time": "2022-12-29T11:28:32.218Z"
   },
   {
    "duration": 44,
    "start_time": "2022-12-29T11:28:32.246Z"
   },
   {
    "duration": 3,
    "start_time": "2022-12-29T11:28:32.292Z"
   },
   {
    "duration": 10,
    "start_time": "2022-12-29T11:28:32.296Z"
   },
   {
    "duration": 6945,
    "start_time": "2022-12-29T11:28:32.307Z"
   },
   {
    "duration": 1426,
    "start_time": "2022-12-29T11:29:02.842Z"
   },
   {
    "duration": 663,
    "start_time": "2022-12-29T11:29:04.269Z"
   },
   {
    "duration": 18,
    "start_time": "2022-12-29T11:29:04.934Z"
   },
   {
    "duration": 24,
    "start_time": "2022-12-29T11:29:04.954Z"
   },
   {
    "duration": 16,
    "start_time": "2022-12-29T11:29:04.980Z"
   },
   {
    "duration": 24,
    "start_time": "2022-12-29T11:29:04.997Z"
   },
   {
    "duration": 20,
    "start_time": "2022-12-29T11:29:05.022Z"
   },
   {
    "duration": 47,
    "start_time": "2022-12-29T11:29:05.044Z"
   },
   {
    "duration": 38,
    "start_time": "2022-12-29T11:29:05.092Z"
   },
   {
    "duration": 8,
    "start_time": "2022-12-29T11:29:05.132Z"
   },
   {
    "duration": 16,
    "start_time": "2022-12-29T11:29:05.141Z"
   },
   {
    "duration": 11,
    "start_time": "2022-12-29T11:29:05.159Z"
   },
   {
    "duration": 149,
    "start_time": "2022-12-29T11:29:05.171Z"
   },
   {
    "duration": 64,
    "start_time": "2022-12-29T11:29:05.321Z"
   },
   {
    "duration": 127,
    "start_time": "2022-12-29T11:29:05.386Z"
   },
   {
    "duration": 14,
    "start_time": "2022-12-29T11:29:05.515Z"
   },
   {
    "duration": 7,
    "start_time": "2022-12-29T11:29:05.530Z"
   },
   {
    "duration": 8,
    "start_time": "2022-12-29T11:29:05.538Z"
   },
   {
    "duration": 57,
    "start_time": "2022-12-29T11:29:05.547Z"
   },
   {
    "duration": 26,
    "start_time": "2022-12-29T11:29:05.606Z"
   },
   {
    "duration": 46,
    "start_time": "2022-12-29T11:29:05.634Z"
   },
   {
    "duration": 15,
    "start_time": "2022-12-29T11:29:05.682Z"
   },
   {
    "duration": 8,
    "start_time": "2022-12-29T11:29:05.700Z"
   },
   {
    "duration": 11,
    "start_time": "2022-12-29T11:29:05.710Z"
   },
   {
    "duration": 37,
    "start_time": "2022-12-29T11:29:05.722Z"
   },
   {
    "duration": 710,
    "start_time": "2022-12-29T11:29:05.760Z"
   },
   {
    "duration": 620,
    "start_time": "2022-12-29T11:29:06.472Z"
   },
   {
    "duration": 730,
    "start_time": "2022-12-29T11:29:07.096Z"
   },
   {
    "duration": 484,
    "start_time": "2022-12-29T11:29:07.827Z"
   },
   {
    "duration": 481,
    "start_time": "2022-12-29T11:29:08.312Z"
   },
   {
    "duration": 692,
    "start_time": "2022-12-29T11:29:08.795Z"
   },
   {
    "duration": 480,
    "start_time": "2022-12-29T11:29:09.488Z"
   },
   {
    "duration": 401,
    "start_time": "2022-12-29T11:29:09.970Z"
   },
   {
    "duration": 417,
    "start_time": "2022-12-29T11:29:10.372Z"
   },
   {
    "duration": 4,
    "start_time": "2022-12-29T11:29:10.791Z"
   },
   {
    "duration": 318,
    "start_time": "2022-12-29T11:29:10.797Z"
   },
   {
    "duration": 409,
    "start_time": "2022-12-29T11:29:11.116Z"
   },
   {
    "duration": 307,
    "start_time": "2022-12-29T11:29:11.527Z"
   },
   {
    "duration": 4,
    "start_time": "2022-12-29T11:29:11.837Z"
   },
   {
    "duration": 15,
    "start_time": "2022-12-29T11:29:11.843Z"
   },
   {
    "duration": 42,
    "start_time": "2022-12-29T11:29:11.860Z"
   },
   {
    "duration": 3,
    "start_time": "2022-12-29T11:29:11.904Z"
   },
   {
    "duration": 22,
    "start_time": "2022-12-29T11:29:11.909Z"
   },
   {
    "duration": 17,
    "start_time": "2022-12-29T11:29:11.933Z"
   },
   {
    "duration": 29,
    "start_time": "2022-12-29T11:29:11.951Z"
   },
   {
    "duration": 8,
    "start_time": "2022-12-29T11:29:11.982Z"
   },
   {
    "duration": 390,
    "start_time": "2022-12-29T11:29:11.992Z"
   },
   {
    "duration": 11,
    "start_time": "2022-12-29T11:29:12.384Z"
   },
   {
    "duration": 15,
    "start_time": "2022-12-29T11:29:12.397Z"
   },
   {
    "duration": 7,
    "start_time": "2022-12-29T11:29:12.413Z"
   },
   {
    "duration": 15,
    "start_time": "2022-12-29T11:29:12.421Z"
   },
   {
    "duration": 7,
    "start_time": "2022-12-29T11:29:12.438Z"
   },
   {
    "duration": 42,
    "start_time": "2022-12-29T11:29:12.447Z"
   },
   {
    "duration": 7,
    "start_time": "2022-12-29T11:29:12.503Z"
   },
   {
    "duration": 16,
    "start_time": "2022-12-29T11:29:12.512Z"
   },
   {
    "duration": 3,
    "start_time": "2022-12-29T11:29:12.530Z"
   },
   {
    "duration": 6,
    "start_time": "2022-12-29T11:29:12.535Z"
   },
   {
    "duration": 36,
    "start_time": "2022-12-29T11:29:12.542Z"
   },
   {
    "duration": 26,
    "start_time": "2022-12-29T11:29:12.579Z"
   },
   {
    "duration": 4,
    "start_time": "2022-12-29T11:29:12.606Z"
   },
   {
    "duration": 9,
    "start_time": "2022-12-29T11:29:12.611Z"
   },
   {
    "duration": 7061,
    "start_time": "2022-12-29T11:29:12.621Z"
   },
   {
    "duration": 36179,
    "start_time": "2022-12-29T11:29:19.684Z"
   },
   {
    "duration": 291755,
    "start_time": "2022-12-29T11:30:59.866Z"
   },
   {
    "duration": 1477,
    "start_time": "2022-12-29T11:36:29.973Z"
   },
   {
    "duration": 662,
    "start_time": "2022-12-29T11:36:31.451Z"
   },
   {
    "duration": 18,
    "start_time": "2022-12-29T11:36:32.114Z"
   },
   {
    "duration": 36,
    "start_time": "2022-12-29T11:36:32.134Z"
   },
   {
    "duration": 54,
    "start_time": "2022-12-29T11:36:32.172Z"
   },
   {
    "duration": 40,
    "start_time": "2022-12-29T11:36:32.227Z"
   },
   {
    "duration": 61,
    "start_time": "2022-12-29T11:36:32.268Z"
   },
   {
    "duration": 77,
    "start_time": "2022-12-29T11:36:32.331Z"
   },
   {
    "duration": 37,
    "start_time": "2022-12-29T11:36:32.410Z"
   },
   {
    "duration": 21,
    "start_time": "2022-12-29T11:36:32.449Z"
   },
   {
    "duration": 70,
    "start_time": "2022-12-29T11:36:32.472Z"
   },
   {
    "duration": 60,
    "start_time": "2022-12-29T11:36:32.544Z"
   },
   {
    "duration": 173,
    "start_time": "2022-12-29T11:36:32.605Z"
   },
   {
    "duration": 43,
    "start_time": "2022-12-29T11:36:32.780Z"
   },
   {
    "duration": 135,
    "start_time": "2022-12-29T11:36:32.825Z"
   },
   {
    "duration": 13,
    "start_time": "2022-12-29T11:36:32.978Z"
   },
   {
    "duration": 5,
    "start_time": "2022-12-29T11:36:32.993Z"
   },
   {
    "duration": 10,
    "start_time": "2022-12-29T11:36:33.000Z"
   },
   {
    "duration": 28,
    "start_time": "2022-12-29T11:36:33.011Z"
   },
   {
    "duration": 52,
    "start_time": "2022-12-29T11:36:33.040Z"
   },
   {
    "duration": 23,
    "start_time": "2022-12-29T11:36:33.094Z"
   },
   {
    "duration": 11,
    "start_time": "2022-12-29T11:36:33.119Z"
   },
   {
    "duration": 5,
    "start_time": "2022-12-29T11:36:33.132Z"
   },
   {
    "duration": 10,
    "start_time": "2022-12-29T11:36:33.138Z"
   },
   {
    "duration": 30,
    "start_time": "2022-12-29T11:36:33.149Z"
   },
   {
    "duration": 750,
    "start_time": "2022-12-29T11:36:33.180Z"
   },
   {
    "duration": 674,
    "start_time": "2022-12-29T11:36:33.932Z"
   },
   {
    "duration": 776,
    "start_time": "2022-12-29T11:36:34.610Z"
   },
   {
    "duration": 519,
    "start_time": "2022-12-29T11:36:35.388Z"
   },
   {
    "duration": 487,
    "start_time": "2022-12-29T11:36:35.909Z"
   },
   {
    "duration": 646,
    "start_time": "2022-12-29T11:36:36.397Z"
   },
   {
    "duration": 492,
    "start_time": "2022-12-29T11:36:37.045Z"
   },
   {
    "duration": 433,
    "start_time": "2022-12-29T11:36:37.539Z"
   },
   {
    "duration": 435,
    "start_time": "2022-12-29T11:36:37.977Z"
   },
   {
    "duration": 4,
    "start_time": "2022-12-29T11:36:38.414Z"
   },
   {
    "duration": 293,
    "start_time": "2022-12-29T11:36:38.420Z"
   },
   {
    "duration": 393,
    "start_time": "2022-12-29T11:36:38.715Z"
   },
   {
    "duration": 261,
    "start_time": "2022-12-29T11:36:39.109Z"
   },
   {
    "duration": 6,
    "start_time": "2022-12-29T11:36:39.372Z"
   },
   {
    "duration": 8,
    "start_time": "2022-12-29T11:36:39.379Z"
   },
   {
    "duration": 37,
    "start_time": "2022-12-29T11:36:39.388Z"
   },
   {
    "duration": 4,
    "start_time": "2022-12-29T11:36:39.427Z"
   },
   {
    "duration": 18,
    "start_time": "2022-12-29T11:36:39.433Z"
   },
   {
    "duration": 34,
    "start_time": "2022-12-29T11:36:39.453Z"
   },
   {
    "duration": 9,
    "start_time": "2022-12-29T11:36:39.489Z"
   },
   {
    "duration": 7,
    "start_time": "2022-12-29T11:36:39.499Z"
   },
   {
    "duration": 470,
    "start_time": "2022-12-29T11:36:39.508Z"
   },
   {
    "duration": 12,
    "start_time": "2022-12-29T11:36:39.979Z"
   },
   {
    "duration": 11,
    "start_time": "2022-12-29T11:36:39.992Z"
   },
   {
    "duration": 2,
    "start_time": "2022-12-29T11:36:40.005Z"
   },
   {
    "duration": 17,
    "start_time": "2022-12-29T11:36:40.009Z"
   },
   {
    "duration": 22,
    "start_time": "2022-12-29T11:36:40.027Z"
   },
   {
    "duration": 36,
    "start_time": "2022-12-29T11:36:40.051Z"
   },
   {
    "duration": 6,
    "start_time": "2022-12-29T11:36:40.089Z"
   },
   {
    "duration": 21,
    "start_time": "2022-12-29T11:36:40.096Z"
   },
   {
    "duration": 3,
    "start_time": "2022-12-29T11:36:40.119Z"
   },
   {
    "duration": 10,
    "start_time": "2022-12-29T11:36:40.123Z"
   },
   {
    "duration": 27,
    "start_time": "2022-12-29T11:36:40.135Z"
   },
   {
    "duration": 26,
    "start_time": "2022-12-29T11:36:40.177Z"
   },
   {
    "duration": 3,
    "start_time": "2022-12-29T11:36:40.205Z"
   },
   {
    "duration": 8,
    "start_time": "2022-12-29T11:36:40.209Z"
   },
   {
    "duration": 7048,
    "start_time": "2022-12-29T11:36:40.218Z"
   },
   {
    "duration": 22370,
    "start_time": "2022-12-29T11:36:47.268Z"
   },
   {
    "duration": 22917,
    "start_time": "2022-12-29T11:37:09.639Z"
   },
   {
    "duration": 67,
    "start_time": "2022-12-29T11:38:35.082Z"
   },
   {
    "duration": 3,
    "start_time": "2022-12-29T11:38:35.497Z"
   },
   {
    "duration": 3,
    "start_time": "2022-12-29T11:38:39.570Z"
   },
   {
    "duration": 17152,
    "start_time": "2022-12-29T11:41:43.161Z"
   },
   {
    "duration": 22757,
    "start_time": "2022-12-29T11:43:18.134Z"
   },
   {
    "duration": 169,
    "start_time": "2022-12-29T11:43:53.067Z"
   },
   {
    "duration": 17570,
    "start_time": "2022-12-29T11:44:07.882Z"
   },
   {
    "duration": 1458,
    "start_time": "2022-12-29T11:45:41.074Z"
   },
   {
    "duration": 669,
    "start_time": "2022-12-29T11:45:42.534Z"
   },
   {
    "duration": 20,
    "start_time": "2022-12-29T11:45:43.206Z"
   },
   {
    "duration": 25,
    "start_time": "2022-12-29T11:45:43.229Z"
   },
   {
    "duration": 28,
    "start_time": "2022-12-29T11:45:43.257Z"
   },
   {
    "duration": 39,
    "start_time": "2022-12-29T11:45:43.287Z"
   },
   {
    "duration": 32,
    "start_time": "2022-12-29T11:45:43.328Z"
   },
   {
    "duration": 55,
    "start_time": "2022-12-29T11:45:43.362Z"
   },
   {
    "duration": 38,
    "start_time": "2022-12-29T11:45:43.419Z"
   },
   {
    "duration": 47,
    "start_time": "2022-12-29T11:45:43.459Z"
   },
   {
    "duration": 28,
    "start_time": "2022-12-29T11:45:43.507Z"
   },
   {
    "duration": 20,
    "start_time": "2022-12-29T11:45:43.537Z"
   },
   {
    "duration": 177,
    "start_time": "2022-12-29T11:45:43.559Z"
   },
   {
    "duration": 60,
    "start_time": "2022-12-29T11:45:43.737Z"
   },
   {
    "duration": 154,
    "start_time": "2022-12-29T11:45:43.799Z"
   },
   {
    "duration": 38,
    "start_time": "2022-12-29T11:45:43.955Z"
   },
   {
    "duration": 7,
    "start_time": "2022-12-29T11:45:43.995Z"
   },
   {
    "duration": 13,
    "start_time": "2022-12-29T11:45:44.004Z"
   },
   {
    "duration": 39,
    "start_time": "2022-12-29T11:45:44.019Z"
   },
   {
    "duration": 41,
    "start_time": "2022-12-29T11:45:44.060Z"
   },
   {
    "duration": 27,
    "start_time": "2022-12-29T11:45:44.103Z"
   },
   {
    "duration": 16,
    "start_time": "2022-12-29T11:45:44.133Z"
   },
   {
    "duration": 32,
    "start_time": "2022-12-29T11:45:44.150Z"
   },
   {
    "duration": 6,
    "start_time": "2022-12-29T11:45:44.184Z"
   },
   {
    "duration": 28,
    "start_time": "2022-12-29T11:45:44.191Z"
   },
   {
    "duration": 817,
    "start_time": "2022-12-29T11:45:44.221Z"
   },
   {
    "duration": 720,
    "start_time": "2022-12-29T11:45:45.040Z"
   },
   {
    "duration": 834,
    "start_time": "2022-12-29T11:45:45.765Z"
   },
   {
    "duration": 562,
    "start_time": "2022-12-29T11:45:46.601Z"
   },
   {
    "duration": 554,
    "start_time": "2022-12-29T11:45:47.165Z"
   },
   {
    "duration": 691,
    "start_time": "2022-12-29T11:45:47.720Z"
   },
   {
    "duration": 542,
    "start_time": "2022-12-29T11:45:48.412Z"
   },
   {
    "duration": 563,
    "start_time": "2022-12-29T11:45:48.956Z"
   },
   {
    "duration": 471,
    "start_time": "2022-12-29T11:45:49.521Z"
   },
   {
    "duration": 5,
    "start_time": "2022-12-29T11:45:49.994Z"
   },
   {
    "duration": 315,
    "start_time": "2022-12-29T11:45:50.000Z"
   },
   {
    "duration": 452,
    "start_time": "2022-12-29T11:45:50.317Z"
   },
   {
    "duration": 323,
    "start_time": "2022-12-29T11:45:50.770Z"
   },
   {
    "duration": 3,
    "start_time": "2022-12-29T11:45:51.095Z"
   },
   {
    "duration": 42,
    "start_time": "2022-12-29T11:45:51.100Z"
   },
   {
    "duration": 76,
    "start_time": "2022-12-29T11:45:51.144Z"
   },
   {
    "duration": 18,
    "start_time": "2022-12-29T11:45:51.222Z"
   },
   {
    "duration": 61,
    "start_time": "2022-12-29T11:45:51.243Z"
   },
   {
    "duration": 31,
    "start_time": "2022-12-29T11:45:51.307Z"
   },
   {
    "duration": 41,
    "start_time": "2022-12-29T11:45:51.341Z"
   },
   {
    "duration": 38,
    "start_time": "2022-12-29T11:45:51.383Z"
   },
   {
    "duration": 487,
    "start_time": "2022-12-29T11:45:51.423Z"
   },
   {
    "duration": 14,
    "start_time": "2022-12-29T11:45:51.913Z"
   },
   {
    "duration": 13,
    "start_time": "2022-12-29T11:45:51.929Z"
   },
   {
    "duration": 23,
    "start_time": "2022-12-29T11:45:51.944Z"
   },
   {
    "duration": 24,
    "start_time": "2022-12-29T11:45:51.969Z"
   },
   {
    "duration": 17,
    "start_time": "2022-12-29T11:45:51.995Z"
   },
   {
    "duration": 34,
    "start_time": "2022-12-29T11:45:52.013Z"
   },
   {
    "duration": 7,
    "start_time": "2022-12-29T11:45:52.050Z"
   },
   {
    "duration": 24,
    "start_time": "2022-12-29T11:45:52.059Z"
   },
   {
    "duration": 4,
    "start_time": "2022-12-29T11:45:52.084Z"
   },
   {
    "duration": 9,
    "start_time": "2022-12-29T11:45:52.090Z"
   },
   {
    "duration": 40,
    "start_time": "2022-12-29T11:45:52.101Z"
   },
   {
    "duration": 37,
    "start_time": "2022-12-29T11:45:52.143Z"
   },
   {
    "duration": 4,
    "start_time": "2022-12-29T11:45:52.182Z"
   },
   {
    "duration": 12,
    "start_time": "2022-12-29T11:45:52.188Z"
   },
   {
    "duration": 7514,
    "start_time": "2022-12-29T11:45:52.202Z"
   },
   {
    "duration": 22502,
    "start_time": "2022-12-29T11:45:59.718Z"
   },
   {
    "duration": 23026,
    "start_time": "2022-12-29T11:46:22.222Z"
   },
   {
    "duration": 3,
    "start_time": "2022-12-29T11:46:45.249Z"
   },
   {
    "duration": 22538,
    "start_time": "2022-12-29T11:46:45.253Z"
   },
   {
    "duration": 17294,
    "start_time": "2022-12-29T11:47:07.793Z"
   },
   {
    "duration": 4,
    "start_time": "2022-12-29T11:47:25.089Z"
   },
   {
    "duration": 3,
    "start_time": "2022-12-29T11:47:36.056Z"
   },
   {
    "duration": 3,
    "start_time": "2022-12-29T11:48:00.200Z"
   },
   {
    "duration": 105,
    "start_time": "2022-12-29T11:49:11.844Z"
   },
   {
    "duration": 1438,
    "start_time": "2022-12-29T11:57:02.035Z"
   },
   {
    "duration": 705,
    "start_time": "2022-12-29T11:57:03.475Z"
   },
   {
    "duration": 19,
    "start_time": "2022-12-29T11:57:04.181Z"
   },
   {
    "duration": 13,
    "start_time": "2022-12-29T11:57:04.202Z"
   },
   {
    "duration": 30,
    "start_time": "2022-12-29T11:57:04.218Z"
   },
   {
    "duration": 34,
    "start_time": "2022-12-29T11:57:04.250Z"
   },
   {
    "duration": 20,
    "start_time": "2022-12-29T11:57:04.286Z"
   },
   {
    "duration": 33,
    "start_time": "2022-12-29T11:57:04.308Z"
   },
   {
    "duration": 7,
    "start_time": "2022-12-29T11:57:04.343Z"
   },
   {
    "duration": 34,
    "start_time": "2022-12-29T11:57:04.352Z"
   },
   {
    "duration": 24,
    "start_time": "2022-12-29T11:57:04.388Z"
   },
   {
    "duration": 25,
    "start_time": "2022-12-29T11:57:04.414Z"
   },
   {
    "duration": 165,
    "start_time": "2022-12-29T11:57:04.440Z"
   },
   {
    "duration": 44,
    "start_time": "2022-12-29T11:57:04.609Z"
   },
   {
    "duration": 148,
    "start_time": "2022-12-29T11:57:04.654Z"
   },
   {
    "duration": 15,
    "start_time": "2022-12-29T11:57:04.803Z"
   },
   {
    "duration": 6,
    "start_time": "2022-12-29T11:57:04.820Z"
   },
   {
    "duration": 9,
    "start_time": "2022-12-29T11:57:04.827Z"
   },
   {
    "duration": 62,
    "start_time": "2022-12-29T11:57:04.838Z"
   },
   {
    "duration": 26,
    "start_time": "2022-12-29T11:57:04.902Z"
   },
   {
    "duration": 23,
    "start_time": "2022-12-29T11:57:04.929Z"
   },
   {
    "duration": 27,
    "start_time": "2022-12-29T11:57:04.954Z"
   },
   {
    "duration": 5,
    "start_time": "2022-12-29T11:57:04.983Z"
   },
   {
    "duration": 7,
    "start_time": "2022-12-29T11:57:04.990Z"
   },
   {
    "duration": 21,
    "start_time": "2022-12-29T11:57:04.999Z"
   },
   {
    "duration": 724,
    "start_time": "2022-12-29T11:57:05.021Z"
   },
   {
    "duration": 621,
    "start_time": "2022-12-29T11:57:05.748Z"
   },
   {
    "duration": 764,
    "start_time": "2022-12-29T11:57:06.370Z"
   },
   {
    "duration": 506,
    "start_time": "2022-12-29T11:57:07.136Z"
   },
   {
    "duration": 489,
    "start_time": "2022-12-29T11:57:07.644Z"
   },
   {
    "duration": 637,
    "start_time": "2022-12-29T11:57:08.135Z"
   },
   {
    "duration": 549,
    "start_time": "2022-12-29T11:57:08.774Z"
   },
   {
    "duration": 453,
    "start_time": "2022-12-29T11:57:09.325Z"
   },
   {
    "duration": 401,
    "start_time": "2022-12-29T11:57:09.780Z"
   },
   {
    "duration": 3,
    "start_time": "2022-12-29T11:57:10.183Z"
   },
   {
    "duration": 273,
    "start_time": "2022-12-29T11:57:10.188Z"
   },
   {
    "duration": 391,
    "start_time": "2022-12-29T11:57:10.463Z"
   },
   {
    "duration": 342,
    "start_time": "2022-12-29T11:57:10.857Z"
   },
   {
    "duration": 4,
    "start_time": "2022-12-29T11:57:11.201Z"
   },
   {
    "duration": 28,
    "start_time": "2022-12-29T11:57:11.207Z"
   },
   {
    "duration": 64,
    "start_time": "2022-12-29T11:57:11.241Z"
   },
   {
    "duration": 3,
    "start_time": "2022-12-29T11:57:11.307Z"
   },
   {
    "duration": 40,
    "start_time": "2022-12-29T11:57:11.312Z"
   },
   {
    "duration": 23,
    "start_time": "2022-12-29T11:57:11.354Z"
   },
   {
    "duration": 13,
    "start_time": "2022-12-29T11:57:11.379Z"
   },
   {
    "duration": 26,
    "start_time": "2022-12-29T11:57:11.393Z"
   },
   {
    "duration": 438,
    "start_time": "2022-12-29T11:57:11.420Z"
   },
   {
    "duration": 18,
    "start_time": "2022-12-29T11:57:11.860Z"
   },
   {
    "duration": 11,
    "start_time": "2022-12-29T11:57:11.879Z"
   },
   {
    "duration": 2,
    "start_time": "2022-12-29T11:57:11.892Z"
   },
   {
    "duration": 16,
    "start_time": "2022-12-29T11:57:11.896Z"
   },
   {
    "duration": 8,
    "start_time": "2022-12-29T11:57:11.914Z"
   },
   {
    "duration": 27,
    "start_time": "2022-12-29T11:57:11.924Z"
   },
   {
    "duration": 6,
    "start_time": "2022-12-29T11:57:11.953Z"
   },
   {
    "duration": 13,
    "start_time": "2022-12-29T11:57:11.979Z"
   },
   {
    "duration": 3,
    "start_time": "2022-12-29T11:57:11.993Z"
   },
   {
    "duration": 11,
    "start_time": "2022-12-29T11:57:11.997Z"
   },
   {
    "duration": 29,
    "start_time": "2022-12-29T11:57:12.010Z"
   },
   {
    "duration": 40,
    "start_time": "2022-12-29T11:57:12.041Z"
   },
   {
    "duration": 3,
    "start_time": "2022-12-29T11:57:12.083Z"
   },
   {
    "duration": 6,
    "start_time": "2022-12-29T11:57:12.087Z"
   },
   {
    "duration": 6880,
    "start_time": "2022-12-29T11:57:12.095Z"
   },
   {
    "duration": 21996,
    "start_time": "2022-12-29T11:57:18.977Z"
   },
   {
    "duration": 22902,
    "start_time": "2022-12-29T11:57:40.975Z"
   },
   {
    "duration": 4,
    "start_time": "2022-12-29T11:58:03.879Z"
   },
   {
    "duration": 21986,
    "start_time": "2022-12-29T11:58:03.885Z"
   },
   {
    "duration": 22689,
    "start_time": "2022-12-29T11:58:25.874Z"
   },
   {
    "duration": 4,
    "start_time": "2022-12-29T11:58:48.564Z"
   },
   {
    "duration": 1467,
    "start_time": "2022-12-29T12:08:49.059Z"
   },
   {
    "duration": 666,
    "start_time": "2022-12-29T12:08:50.527Z"
   },
   {
    "duration": 19,
    "start_time": "2022-12-29T12:08:51.195Z"
   },
   {
    "duration": 12,
    "start_time": "2022-12-29T12:08:51.216Z"
   },
   {
    "duration": 16,
    "start_time": "2022-12-29T12:08:51.229Z"
   },
   {
    "duration": 50,
    "start_time": "2022-12-29T12:08:51.246Z"
   },
   {
    "duration": 19,
    "start_time": "2022-12-29T12:08:51.297Z"
   },
   {
    "duration": 25,
    "start_time": "2022-12-29T12:08:51.317Z"
   },
   {
    "duration": 12,
    "start_time": "2022-12-29T12:08:51.344Z"
   },
   {
    "duration": 19,
    "start_time": "2022-12-29T12:08:51.359Z"
   },
   {
    "duration": 7,
    "start_time": "2022-12-29T12:08:51.379Z"
   },
   {
    "duration": 7,
    "start_time": "2022-12-29T12:08:51.387Z"
   },
   {
    "duration": 155,
    "start_time": "2022-12-29T12:08:51.395Z"
   },
   {
    "duration": 60,
    "start_time": "2022-12-29T12:08:51.552Z"
   },
   {
    "duration": 139,
    "start_time": "2022-12-29T12:08:51.613Z"
   },
   {
    "duration": 30,
    "start_time": "2022-12-29T12:08:51.754Z"
   },
   {
    "duration": 6,
    "start_time": "2022-12-29T12:08:51.786Z"
   },
   {
    "duration": 14,
    "start_time": "2022-12-29T12:08:51.794Z"
   },
   {
    "duration": 37,
    "start_time": "2022-12-29T12:08:51.809Z"
   },
   {
    "duration": 32,
    "start_time": "2022-12-29T12:08:51.847Z"
   },
   {
    "duration": 24,
    "start_time": "2022-12-29T12:08:51.881Z"
   },
   {
    "duration": 12,
    "start_time": "2022-12-29T12:08:51.907Z"
   },
   {
    "duration": 10,
    "start_time": "2022-12-29T12:08:51.921Z"
   },
   {
    "duration": 8,
    "start_time": "2022-12-29T12:08:51.932Z"
   },
   {
    "duration": 17,
    "start_time": "2022-12-29T12:08:51.941Z"
   },
   {
    "duration": 762,
    "start_time": "2022-12-29T12:08:51.977Z"
   },
   {
    "duration": 644,
    "start_time": "2022-12-29T12:08:52.740Z"
   },
   {
    "duration": 827,
    "start_time": "2022-12-29T12:08:53.389Z"
   },
   {
    "duration": 493,
    "start_time": "2022-12-29T12:08:54.218Z"
   },
   {
    "duration": 526,
    "start_time": "2022-12-29T12:08:54.713Z"
   },
   {
    "duration": 709,
    "start_time": "2022-12-29T12:08:55.240Z"
   },
   {
    "duration": 517,
    "start_time": "2022-12-29T12:08:55.950Z"
   },
   {
    "duration": 400,
    "start_time": "2022-12-29T12:08:56.468Z"
   },
   {
    "duration": 434,
    "start_time": "2022-12-29T12:08:56.869Z"
   },
   {
    "duration": 4,
    "start_time": "2022-12-29T12:08:57.305Z"
   },
   {
    "duration": 323,
    "start_time": "2022-12-29T12:08:57.311Z"
   },
   {
    "duration": 442,
    "start_time": "2022-12-29T12:08:57.636Z"
   },
   {
    "duration": 315,
    "start_time": "2022-12-29T12:08:58.080Z"
   },
   {
    "duration": 4,
    "start_time": "2022-12-29T12:08:58.396Z"
   },
   {
    "duration": 12,
    "start_time": "2022-12-29T12:08:58.401Z"
   },
   {
    "duration": 43,
    "start_time": "2022-12-29T12:08:58.414Z"
   },
   {
    "duration": 3,
    "start_time": "2022-12-29T12:08:58.459Z"
   },
   {
    "duration": 18,
    "start_time": "2022-12-29T12:08:58.478Z"
   },
   {
    "duration": 18,
    "start_time": "2022-12-29T12:08:58.497Z"
   },
   {
    "duration": 10,
    "start_time": "2022-12-29T12:08:58.516Z"
   },
   {
    "duration": 7,
    "start_time": "2022-12-29T12:08:58.528Z"
   },
   {
    "duration": 484,
    "start_time": "2022-12-29T12:08:58.537Z"
   },
   {
    "duration": 13,
    "start_time": "2022-12-29T12:08:59.023Z"
   },
   {
    "duration": 13,
    "start_time": "2022-12-29T12:08:59.038Z"
   },
   {
    "duration": 3,
    "start_time": "2022-12-29T12:08:59.054Z"
   },
   {
    "duration": 12,
    "start_time": "2022-12-29T12:08:59.078Z"
   },
   {
    "duration": 9,
    "start_time": "2022-12-29T12:08:59.092Z"
   },
   {
    "duration": 35,
    "start_time": "2022-12-29T12:08:59.103Z"
   },
   {
    "duration": 6,
    "start_time": "2022-12-29T12:08:59.140Z"
   },
   {
    "duration": 39,
    "start_time": "2022-12-29T12:08:59.148Z"
   },
   {
    "duration": 4,
    "start_time": "2022-12-29T12:08:59.189Z"
   },
   {
    "duration": 9,
    "start_time": "2022-12-29T12:08:59.194Z"
   },
   {
    "duration": 37,
    "start_time": "2022-12-29T12:08:59.204Z"
   },
   {
    "duration": 45,
    "start_time": "2022-12-29T12:08:59.243Z"
   },
   {
    "duration": 3,
    "start_time": "2022-12-29T12:08:59.290Z"
   },
   {
    "duration": 7,
    "start_time": "2022-12-29T12:08:59.295Z"
   },
   {
    "duration": 7098,
    "start_time": "2022-12-29T12:08:59.304Z"
   },
   {
    "duration": 21826,
    "start_time": "2022-12-29T12:09:06.404Z"
   },
   {
    "duration": 22049,
    "start_time": "2022-12-29T12:09:28.232Z"
   },
   {
    "duration": 4,
    "start_time": "2022-12-29T12:09:50.283Z"
   },
   {
    "duration": 22103,
    "start_time": "2022-12-29T12:09:50.288Z"
   },
   {
    "duration": 22434,
    "start_time": "2022-12-29T12:10:12.393Z"
   },
   {
    "duration": 3,
    "start_time": "2022-12-29T12:10:34.829Z"
   },
   {
    "duration": 1465,
    "start_time": "2022-12-29T12:11:13.585Z"
   },
   {
    "duration": 684,
    "start_time": "2022-12-29T12:11:15.052Z"
   },
   {
    "duration": 27,
    "start_time": "2022-12-29T12:11:15.737Z"
   },
   {
    "duration": 34,
    "start_time": "2022-12-29T12:11:15.767Z"
   },
   {
    "duration": 18,
    "start_time": "2022-12-29T12:11:15.803Z"
   },
   {
    "duration": 31,
    "start_time": "2022-12-29T12:11:15.823Z"
   },
   {
    "duration": 42,
    "start_time": "2022-12-29T12:11:15.856Z"
   },
   {
    "duration": 21,
    "start_time": "2022-12-29T12:11:15.900Z"
   },
   {
    "duration": 10,
    "start_time": "2022-12-29T12:11:15.922Z"
   },
   {
    "duration": 10,
    "start_time": "2022-12-29T12:11:15.935Z"
   },
   {
    "duration": 33,
    "start_time": "2022-12-29T12:11:15.947Z"
   },
   {
    "duration": 8,
    "start_time": "2022-12-29T12:11:15.982Z"
   },
   {
    "duration": 158,
    "start_time": "2022-12-29T12:11:15.991Z"
   },
   {
    "duration": 68,
    "start_time": "2022-12-29T12:11:16.151Z"
   },
   {
    "duration": 134,
    "start_time": "2022-12-29T12:11:16.221Z"
   },
   {
    "duration": 33,
    "start_time": "2022-12-29T12:11:16.357Z"
   },
   {
    "duration": 60,
    "start_time": "2022-12-29T12:11:16.391Z"
   },
   {
    "duration": 62,
    "start_time": "2022-12-29T12:11:16.452Z"
   },
   {
    "duration": 72,
    "start_time": "2022-12-29T12:11:16.515Z"
   },
   {
    "duration": 65,
    "start_time": "2022-12-29T12:11:16.589Z"
   },
   {
    "duration": 53,
    "start_time": "2022-12-29T12:11:16.656Z"
   },
   {
    "duration": 22,
    "start_time": "2022-12-29T12:11:16.711Z"
   },
   {
    "duration": 67,
    "start_time": "2022-12-29T12:11:16.735Z"
   },
   {
    "duration": 43,
    "start_time": "2022-12-29T12:11:16.803Z"
   },
   {
    "duration": 80,
    "start_time": "2022-12-29T12:11:16.847Z"
   },
   {
    "duration": 718,
    "start_time": "2022-12-29T12:11:16.929Z"
   },
   {
    "duration": 666,
    "start_time": "2022-12-29T12:11:17.649Z"
   },
   {
    "duration": 788,
    "start_time": "2022-12-29T12:11:18.319Z"
   },
   {
    "duration": 536,
    "start_time": "2022-12-29T12:11:19.109Z"
   },
   {
    "duration": 495,
    "start_time": "2022-12-29T12:11:19.647Z"
   },
   {
    "duration": 661,
    "start_time": "2022-12-29T12:11:20.144Z"
   },
   {
    "duration": 518,
    "start_time": "2022-12-29T12:11:20.807Z"
   },
   {
    "duration": 442,
    "start_time": "2022-12-29T12:11:21.327Z"
   },
   {
    "duration": 410,
    "start_time": "2022-12-29T12:11:21.770Z"
   },
   {
    "duration": 5,
    "start_time": "2022-12-29T12:11:22.182Z"
   },
   {
    "duration": 334,
    "start_time": "2022-12-29T12:11:22.189Z"
   },
   {
    "duration": 437,
    "start_time": "2022-12-29T12:11:22.525Z"
   },
   {
    "duration": 311,
    "start_time": "2022-12-29T12:11:22.964Z"
   },
   {
    "duration": 4,
    "start_time": "2022-12-29T12:11:23.278Z"
   },
   {
    "duration": 56,
    "start_time": "2022-12-29T12:11:23.283Z"
   },
   {
    "duration": 78,
    "start_time": "2022-12-29T12:11:23.340Z"
   },
   {
    "duration": 11,
    "start_time": "2022-12-29T12:11:23.421Z"
   },
   {
    "duration": 59,
    "start_time": "2022-12-29T12:11:23.433Z"
   },
   {
    "duration": 41,
    "start_time": "2022-12-29T12:11:23.494Z"
   },
   {
    "duration": 28,
    "start_time": "2022-12-29T12:11:23.536Z"
   },
   {
    "duration": 36,
    "start_time": "2022-12-29T12:11:23.565Z"
   },
   {
    "duration": 517,
    "start_time": "2022-12-29T12:11:23.602Z"
   },
   {
    "duration": 15,
    "start_time": "2022-12-29T12:11:24.122Z"
   },
   {
    "duration": 132,
    "start_time": "2022-12-29T12:11:24.138Z"
   },
   {
    "duration": 41,
    "start_time": "2022-12-29T12:11:24.272Z"
   },
   {
    "duration": 64,
    "start_time": "2022-12-29T12:11:24.315Z"
   },
   {
    "duration": 50,
    "start_time": "2022-12-29T12:11:24.381Z"
   },
   {
    "duration": 50,
    "start_time": "2022-12-29T12:11:24.433Z"
   },
   {
    "duration": 15,
    "start_time": "2022-12-29T12:11:24.485Z"
   },
   {
    "duration": 55,
    "start_time": "2022-12-29T12:11:24.502Z"
   },
   {
    "duration": 28,
    "start_time": "2022-12-29T12:11:24.559Z"
   },
   {
    "duration": 24,
    "start_time": "2022-12-29T12:11:24.589Z"
   },
   {
    "duration": 76,
    "start_time": "2022-12-29T12:11:24.615Z"
   },
   {
    "duration": 27,
    "start_time": "2022-12-29T12:11:24.693Z"
   },
   {
    "duration": 17,
    "start_time": "2022-12-29T12:11:24.722Z"
   },
   {
    "duration": 67,
    "start_time": "2022-12-29T12:11:24.740Z"
   },
   {
    "duration": 7293,
    "start_time": "2022-12-29T12:11:24.809Z"
   },
   {
    "duration": 22031,
    "start_time": "2022-12-29T12:11:32.103Z"
   },
   {
    "duration": 23138,
    "start_time": "2022-12-29T12:11:54.136Z"
   },
   {
    "duration": 3,
    "start_time": "2022-12-29T12:12:17.278Z"
   },
   {
    "duration": 22007,
    "start_time": "2022-12-29T12:12:17.283Z"
   },
   {
    "duration": 22836,
    "start_time": "2022-12-29T12:12:39.292Z"
   },
   {
    "duration": 3,
    "start_time": "2022-12-29T12:13:02.129Z"
   },
   {
    "duration": 1359,
    "start_time": "2022-12-29T12:15:11.514Z"
   },
   {
    "duration": 666,
    "start_time": "2022-12-29T12:15:12.875Z"
   },
   {
    "duration": 19,
    "start_time": "2022-12-29T12:15:13.543Z"
   },
   {
    "duration": 34,
    "start_time": "2022-12-29T12:15:13.563Z"
   },
   {
    "duration": 16,
    "start_time": "2022-12-29T12:15:13.599Z"
   },
   {
    "duration": 38,
    "start_time": "2022-12-29T12:15:13.617Z"
   },
   {
    "duration": 30,
    "start_time": "2022-12-29T12:15:13.656Z"
   },
   {
    "duration": 43,
    "start_time": "2022-12-29T12:15:13.687Z"
   },
   {
    "duration": 24,
    "start_time": "2022-12-29T12:15:13.731Z"
   },
   {
    "duration": 24,
    "start_time": "2022-12-29T12:15:13.758Z"
   },
   {
    "duration": 28,
    "start_time": "2022-12-29T12:15:13.783Z"
   },
   {
    "duration": 10,
    "start_time": "2022-12-29T12:15:13.813Z"
   },
   {
    "duration": 196,
    "start_time": "2022-12-29T12:15:13.825Z"
   },
   {
    "duration": 83,
    "start_time": "2022-12-29T12:15:14.023Z"
   },
   {
    "duration": 142,
    "start_time": "2022-12-29T12:15:14.108Z"
   },
   {
    "duration": 35,
    "start_time": "2022-12-29T12:15:14.251Z"
   },
   {
    "duration": 7,
    "start_time": "2022-12-29T12:15:14.287Z"
   },
   {
    "duration": 14,
    "start_time": "2022-12-29T12:15:14.295Z"
   },
   {
    "duration": 44,
    "start_time": "2022-12-29T12:15:14.310Z"
   },
   {
    "duration": 38,
    "start_time": "2022-12-29T12:15:14.356Z"
   },
   {
    "duration": 29,
    "start_time": "2022-12-29T12:15:14.396Z"
   },
   {
    "duration": 12,
    "start_time": "2022-12-29T12:15:14.427Z"
   },
   {
    "duration": 23,
    "start_time": "2022-12-29T12:15:14.441Z"
   },
   {
    "duration": 31,
    "start_time": "2022-12-29T12:15:14.465Z"
   },
   {
    "duration": 60,
    "start_time": "2022-12-29T12:15:14.497Z"
   },
   {
    "duration": 751,
    "start_time": "2022-12-29T12:15:14.559Z"
   },
   {
    "duration": 619,
    "start_time": "2022-12-29T12:15:15.312Z"
   },
   {
    "duration": 739,
    "start_time": "2022-12-29T12:15:15.935Z"
   },
   {
    "duration": 491,
    "start_time": "2022-12-29T12:15:16.678Z"
   },
   {
    "duration": 466,
    "start_time": "2022-12-29T12:15:17.171Z"
   },
   {
    "duration": 619,
    "start_time": "2022-12-29T12:15:17.639Z"
   },
   {
    "duration": 511,
    "start_time": "2022-12-29T12:15:18.260Z"
   },
   {
    "duration": 451,
    "start_time": "2022-12-29T12:15:18.773Z"
   },
   {
    "duration": 455,
    "start_time": "2022-12-29T12:15:19.226Z"
   },
   {
    "duration": 3,
    "start_time": "2022-12-29T12:15:19.683Z"
   },
   {
    "duration": 350,
    "start_time": "2022-12-29T12:15:19.691Z"
   },
   {
    "duration": 444,
    "start_time": "2022-12-29T12:15:20.044Z"
   },
   {
    "duration": 340,
    "start_time": "2022-12-29T12:15:20.489Z"
   },
   {
    "duration": 4,
    "start_time": "2022-12-29T12:15:20.831Z"
   },
   {
    "duration": 12,
    "start_time": "2022-12-29T12:15:20.837Z"
   },
   {
    "duration": 47,
    "start_time": "2022-12-29T12:15:20.851Z"
   },
   {
    "duration": 3,
    "start_time": "2022-12-29T12:15:20.900Z"
   },
   {
    "duration": 29,
    "start_time": "2022-12-29T12:15:20.905Z"
   },
   {
    "duration": 18,
    "start_time": "2022-12-29T12:15:20.936Z"
   },
   {
    "duration": 25,
    "start_time": "2022-12-29T12:15:20.956Z"
   },
   {
    "duration": 8,
    "start_time": "2022-12-29T12:15:20.982Z"
   },
   {
    "duration": 401,
    "start_time": "2022-12-29T12:15:20.992Z"
   },
   {
    "duration": 13,
    "start_time": "2022-12-29T12:15:21.395Z"
   },
   {
    "duration": 19,
    "start_time": "2022-12-29T12:15:21.411Z"
   },
   {
    "duration": 15,
    "start_time": "2022-12-29T12:15:21.432Z"
   },
   {
    "duration": 16,
    "start_time": "2022-12-29T12:15:21.449Z"
   },
   {
    "duration": 15,
    "start_time": "2022-12-29T12:15:21.467Z"
   },
   {
    "duration": 25,
    "start_time": "2022-12-29T12:15:21.484Z"
   },
   {
    "duration": 5,
    "start_time": "2022-12-29T12:15:21.511Z"
   },
   {
    "duration": 18,
    "start_time": "2022-12-29T12:15:21.518Z"
   },
   {
    "duration": 4,
    "start_time": "2022-12-29T12:15:21.538Z"
   },
   {
    "duration": 10,
    "start_time": "2022-12-29T12:15:21.543Z"
   },
   {
    "duration": 45,
    "start_time": "2022-12-29T12:15:21.555Z"
   },
   {
    "duration": 26,
    "start_time": "2022-12-29T12:15:21.601Z"
   },
   {
    "duration": 4,
    "start_time": "2022-12-29T12:15:21.629Z"
   },
   {
    "duration": 12,
    "start_time": "2022-12-29T12:15:21.634Z"
   },
   {
    "duration": 7578,
    "start_time": "2022-12-29T12:15:21.648Z"
   },
   {
    "duration": 22291,
    "start_time": "2022-12-29T12:15:29.229Z"
   },
   {
    "duration": 22966,
    "start_time": "2022-12-29T12:15:51.522Z"
   },
   {
    "duration": 3,
    "start_time": "2022-12-29T12:16:14.489Z"
   },
   {
    "duration": 21949,
    "start_time": "2022-12-29T12:16:14.494Z"
   },
   {
    "duration": 23014,
    "start_time": "2022-12-29T12:16:36.445Z"
   },
   {
    "duration": 4,
    "start_time": "2022-12-29T12:16:59.461Z"
   },
   {
    "duration": 3,
    "start_time": "2022-12-29T12:16:59.477Z"
   },
   {
    "duration": 158487,
    "start_time": "2022-12-29T12:16:59.482Z"
   },
   {
    "duration": 1443,
    "start_time": "2022-12-29T12:21:40.510Z"
   },
   {
    "duration": 655,
    "start_time": "2022-12-29T12:21:41.955Z"
   },
   {
    "duration": 20,
    "start_time": "2022-12-29T12:21:42.612Z"
   },
   {
    "duration": 12,
    "start_time": "2022-12-29T12:21:42.634Z"
   },
   {
    "duration": 36,
    "start_time": "2022-12-29T12:21:42.648Z"
   },
   {
    "duration": 27,
    "start_time": "2022-12-29T12:21:42.685Z"
   },
   {
    "duration": 21,
    "start_time": "2022-12-29T12:21:42.713Z"
   },
   {
    "duration": 28,
    "start_time": "2022-12-29T12:21:42.735Z"
   },
   {
    "duration": 4,
    "start_time": "2022-12-29T12:21:42.778Z"
   },
   {
    "duration": 9,
    "start_time": "2022-12-29T12:21:42.784Z"
   },
   {
    "duration": 23,
    "start_time": "2022-12-29T12:21:42.794Z"
   },
   {
    "duration": 5,
    "start_time": "2022-12-29T12:21:42.819Z"
   },
   {
    "duration": 156,
    "start_time": "2022-12-29T12:21:42.825Z"
   },
   {
    "duration": 45,
    "start_time": "2022-12-29T12:21:42.983Z"
   },
   {
    "duration": 152,
    "start_time": "2022-12-29T12:21:43.029Z"
   },
   {
    "duration": 14,
    "start_time": "2022-12-29T12:21:43.182Z"
   },
   {
    "duration": 6,
    "start_time": "2022-12-29T12:21:43.197Z"
   },
   {
    "duration": 16,
    "start_time": "2022-12-29T12:21:43.204Z"
   },
   {
    "duration": 30,
    "start_time": "2022-12-29T12:21:43.222Z"
   },
   {
    "duration": 44,
    "start_time": "2022-12-29T12:21:43.253Z"
   },
   {
    "duration": 24,
    "start_time": "2022-12-29T12:21:43.298Z"
   },
   {
    "duration": 12,
    "start_time": "2022-12-29T12:21:43.323Z"
   },
   {
    "duration": 7,
    "start_time": "2022-12-29T12:21:43.336Z"
   },
   {
    "duration": 7,
    "start_time": "2022-12-29T12:21:43.344Z"
   },
   {
    "duration": 35,
    "start_time": "2022-12-29T12:21:43.352Z"
   },
   {
    "duration": 789,
    "start_time": "2022-12-29T12:21:43.389Z"
   },
   {
    "duration": 684,
    "start_time": "2022-12-29T12:21:44.180Z"
   },
   {
    "duration": 745,
    "start_time": "2022-12-29T12:21:44.868Z"
   },
   {
    "duration": 492,
    "start_time": "2022-12-29T12:21:45.615Z"
   },
   {
    "duration": 504,
    "start_time": "2022-12-29T12:21:46.108Z"
   },
   {
    "duration": 645,
    "start_time": "2022-12-29T12:21:46.614Z"
   },
   {
    "duration": 497,
    "start_time": "2022-12-29T12:21:47.260Z"
   },
   {
    "duration": 412,
    "start_time": "2022-12-29T12:21:47.759Z"
   },
   {
    "duration": 398,
    "start_time": "2022-12-29T12:21:48.172Z"
   },
   {
    "duration": 7,
    "start_time": "2022-12-29T12:21:48.571Z"
   },
   {
    "duration": 273,
    "start_time": "2022-12-29T12:21:48.580Z"
   },
   {
    "duration": 405,
    "start_time": "2022-12-29T12:21:48.855Z"
   },
   {
    "duration": 276,
    "start_time": "2022-12-29T12:21:49.262Z"
   },
   {
    "duration": 3,
    "start_time": "2022-12-29T12:21:49.539Z"
   },
   {
    "duration": 10,
    "start_time": "2022-12-29T12:21:49.543Z"
   },
   {
    "duration": 45,
    "start_time": "2022-12-29T12:21:49.555Z"
   },
   {
    "duration": 3,
    "start_time": "2022-12-29T12:21:49.601Z"
   },
   {
    "duration": 33,
    "start_time": "2022-12-29T12:21:49.606Z"
   },
   {
    "duration": 37,
    "start_time": "2022-12-29T12:21:49.640Z"
   },
   {
    "duration": 39,
    "start_time": "2022-12-29T12:21:49.678Z"
   },
   {
    "duration": 65,
    "start_time": "2022-12-29T12:21:49.719Z"
   },
   {
    "duration": 394,
    "start_time": "2022-12-29T12:21:49.786Z"
   },
   {
    "duration": 12,
    "start_time": "2022-12-29T12:21:50.181Z"
   },
   {
    "duration": 29,
    "start_time": "2022-12-29T12:21:50.195Z"
   },
   {
    "duration": 24,
    "start_time": "2022-12-29T12:21:50.225Z"
   },
   {
    "duration": 53,
    "start_time": "2022-12-29T12:21:50.251Z"
   },
   {
    "duration": 38,
    "start_time": "2022-12-29T12:21:50.306Z"
   },
   {
    "duration": 52,
    "start_time": "2022-12-29T12:21:50.346Z"
   },
   {
    "duration": 5,
    "start_time": "2022-12-29T12:21:50.400Z"
   },
   {
    "duration": 51,
    "start_time": "2022-12-29T12:21:50.407Z"
   },
   {
    "duration": 27,
    "start_time": "2022-12-29T12:21:50.460Z"
   },
   {
    "duration": 40,
    "start_time": "2022-12-29T12:21:50.488Z"
   },
   {
    "duration": 46,
    "start_time": "2022-12-29T12:21:50.529Z"
   },
   {
    "duration": 37,
    "start_time": "2022-12-29T12:21:50.576Z"
   },
   {
    "duration": 3,
    "start_time": "2022-12-29T12:21:50.614Z"
   },
   {
    "duration": 30,
    "start_time": "2022-12-29T12:21:50.619Z"
   },
   {
    "duration": 7077,
    "start_time": "2022-12-29T12:21:50.650Z"
   },
   {
    "duration": 21896,
    "start_time": "2022-12-29T12:21:57.729Z"
   },
   {
    "duration": 23161,
    "start_time": "2022-12-29T12:22:19.627Z"
   },
   {
    "duration": 3,
    "start_time": "2022-12-29T12:22:42.790Z"
   },
   {
    "duration": 22403,
    "start_time": "2022-12-29T12:22:42.794Z"
   },
   {
    "duration": 22657,
    "start_time": "2022-12-29T12:23:05.198Z"
   },
   {
    "duration": 3,
    "start_time": "2022-12-29T12:23:27.857Z"
   },
   {
    "duration": 408718,
    "start_time": "2022-12-29T12:23:27.861Z"
   },
   {
    "duration": 155646,
    "start_time": "2022-12-29T12:30:16.581Z"
   },
   {
    "duration": 159886,
    "start_time": "2022-12-29T12:32:52.228Z"
   },
   {
    "duration": 3,
    "start_time": "2022-12-29T12:35:32.115Z"
   },
   {
    "duration": 118578,
    "start_time": "2022-12-29T12:35:32.119Z"
   },
   {
    "duration": 120639,
    "start_time": "2022-12-29T12:37:30.700Z"
   },
   {
    "duration": 3,
    "start_time": "2022-12-29T12:39:31.341Z"
   },
   {
    "duration": 112,
    "start_time": "2022-12-29T12:40:45.611Z"
   },
   {
    "duration": 2863,
    "start_time": "2022-12-29T12:40:55.719Z"
   },
   {
    "duration": 2431,
    "start_time": "2022-12-29T12:41:00.356Z"
   },
   {
    "duration": 2589,
    "start_time": "2022-12-29T12:41:02.789Z"
   },
   {
    "duration": 3,
    "start_time": "2022-12-29T12:41:07.857Z"
   },
   {
    "duration": 20,
    "start_time": "2022-12-29T12:51:58.706Z"
   },
   {
    "duration": 18,
    "start_time": "2022-12-29T12:52:26.089Z"
   },
   {
    "duration": 1376,
    "start_time": "2022-12-29T13:14:26.451Z"
   },
   {
    "duration": 1222,
    "start_time": "2022-12-29T13:14:52.009Z"
   },
   {
    "duration": 1267,
    "start_time": "2022-12-29T13:15:03.923Z"
   },
   {
    "duration": 12,
    "start_time": "2022-12-29T13:16:55.727Z"
   },
   {
    "duration": 11,
    "start_time": "2022-12-29T13:17:26.770Z"
   },
   {
    "duration": 1286,
    "start_time": "2022-12-29T13:17:35.452Z"
   },
   {
    "duration": 2,
    "start_time": "2022-12-29T13:17:52.799Z"
   },
   {
    "duration": 3,
    "start_time": "2022-12-29T13:18:44.407Z"
   },
   {
    "duration": 10,
    "start_time": "2022-12-29T13:21:33.770Z"
   },
   {
    "duration": 7,
    "start_time": "2022-12-29T13:21:55.275Z"
   },
   {
    "duration": 7,
    "start_time": "2022-12-29T13:21:57.163Z"
   },
   {
    "duration": 3,
    "start_time": "2022-12-29T13:22:44.553Z"
   },
   {
    "duration": 1474,
    "start_time": "2022-12-30T10:34:58.155Z"
   },
   {
    "duration": 3093,
    "start_time": "2022-12-30T10:34:59.631Z"
   },
   {
    "duration": 19,
    "start_time": "2022-12-30T10:35:02.725Z"
   },
   {
    "duration": 12,
    "start_time": "2022-12-30T10:35:02.746Z"
   },
   {
    "duration": 15,
    "start_time": "2022-12-30T10:35:02.759Z"
   },
   {
    "duration": 42,
    "start_time": "2022-12-30T10:35:02.776Z"
   },
   {
    "duration": 21,
    "start_time": "2022-12-30T10:35:02.820Z"
   },
   {
    "duration": 24,
    "start_time": "2022-12-30T10:35:02.843Z"
   },
   {
    "duration": 4,
    "start_time": "2022-12-30T10:35:02.869Z"
   },
   {
    "duration": 20,
    "start_time": "2022-12-30T10:35:02.877Z"
   },
   {
    "duration": 6,
    "start_time": "2022-12-30T10:35:02.900Z"
   },
   {
    "duration": 19,
    "start_time": "2022-12-30T10:35:02.908Z"
   },
   {
    "duration": 181,
    "start_time": "2022-12-30T10:35:02.929Z"
   },
   {
    "duration": 55,
    "start_time": "2022-12-30T10:35:03.112Z"
   },
   {
    "duration": 167,
    "start_time": "2022-12-30T10:35:03.169Z"
   },
   {
    "duration": 14,
    "start_time": "2022-12-30T10:35:03.338Z"
   },
   {
    "duration": 6,
    "start_time": "2022-12-30T10:35:03.353Z"
   },
   {
    "duration": 19,
    "start_time": "2022-12-30T10:35:03.360Z"
   },
   {
    "duration": 53,
    "start_time": "2022-12-30T10:35:03.381Z"
   },
   {
    "duration": 24,
    "start_time": "2022-12-30T10:35:03.436Z"
   },
   {
    "duration": 23,
    "start_time": "2022-12-30T10:35:03.462Z"
   },
   {
    "duration": 11,
    "start_time": "2022-12-30T10:35:03.497Z"
   },
   {
    "duration": 17,
    "start_time": "2022-12-30T10:35:03.510Z"
   },
   {
    "duration": 20,
    "start_time": "2022-12-30T10:35:03.528Z"
   },
   {
    "duration": 25,
    "start_time": "2022-12-30T10:35:03.550Z"
   },
   {
    "duration": 711,
    "start_time": "2022-12-30T10:35:03.576Z"
   },
   {
    "duration": 722,
    "start_time": "2022-12-30T10:35:04.288Z"
   },
   {
    "duration": 766,
    "start_time": "2022-12-30T10:35:05.014Z"
   },
   {
    "duration": 516,
    "start_time": "2022-12-30T10:35:05.781Z"
   },
   {
    "duration": 502,
    "start_time": "2022-12-30T10:35:06.299Z"
   },
   {
    "duration": 648,
    "start_time": "2022-12-30T10:35:06.803Z"
   },
   {
    "duration": 520,
    "start_time": "2022-12-30T10:35:07.453Z"
   },
   {
    "duration": 431,
    "start_time": "2022-12-30T10:35:07.975Z"
   },
   {
    "duration": 513,
    "start_time": "2022-12-30T10:35:08.408Z"
   },
   {
    "duration": 6,
    "start_time": "2022-12-30T10:35:08.923Z"
   },
   {
    "duration": 288,
    "start_time": "2022-12-30T10:35:08.931Z"
   },
   {
    "duration": 396,
    "start_time": "2022-12-30T10:35:09.221Z"
   },
   {
    "duration": 283,
    "start_time": "2022-12-30T10:35:09.619Z"
   },
   {
    "duration": 3,
    "start_time": "2022-12-30T10:35:09.904Z"
   },
   {
    "duration": 25,
    "start_time": "2022-12-30T10:35:09.908Z"
   },
   {
    "duration": 37,
    "start_time": "2022-12-30T10:35:09.935Z"
   },
   {
    "duration": 3,
    "start_time": "2022-12-30T10:35:09.974Z"
   },
   {
    "duration": 25,
    "start_time": "2022-12-30T10:35:09.979Z"
   },
   {
    "duration": 17,
    "start_time": "2022-12-30T10:35:10.006Z"
   },
   {
    "duration": 11,
    "start_time": "2022-12-30T10:35:10.026Z"
   },
   {
    "duration": 24,
    "start_time": "2022-12-30T10:35:10.039Z"
   },
   {
    "duration": 466,
    "start_time": "2022-12-30T10:35:10.065Z"
   },
   {
    "duration": 12,
    "start_time": "2022-12-30T10:35:10.533Z"
   },
   {
    "duration": 11,
    "start_time": "2022-12-30T10:35:10.547Z"
   },
   {
    "duration": 3,
    "start_time": "2022-12-30T10:35:10.560Z"
   },
   {
    "duration": 34,
    "start_time": "2022-12-30T10:35:10.564Z"
   },
   {
    "duration": 7,
    "start_time": "2022-12-30T10:35:10.600Z"
   },
   {
    "duration": 31,
    "start_time": "2022-12-30T10:35:10.608Z"
   },
   {
    "duration": 7,
    "start_time": "2022-12-30T10:35:10.641Z"
   },
   {
    "duration": 14,
    "start_time": "2022-12-30T10:35:10.649Z"
   },
   {
    "duration": 5,
    "start_time": "2022-12-30T10:35:10.664Z"
   },
   {
    "duration": 6,
    "start_time": "2022-12-30T10:35:10.670Z"
   },
   {
    "duration": 42,
    "start_time": "2022-12-30T10:35:10.677Z"
   },
   {
    "duration": 29,
    "start_time": "2022-12-30T10:35:10.720Z"
   },
   {
    "duration": 4,
    "start_time": "2022-12-30T10:35:10.751Z"
   },
   {
    "duration": 8,
    "start_time": "2022-12-30T10:35:10.757Z"
   },
   {
    "duration": 7836,
    "start_time": "2022-12-30T10:35:10.767Z"
   },
   {
    "duration": 24275,
    "start_time": "2022-12-30T10:35:18.605Z"
   },
   {
    "duration": 24775,
    "start_time": "2022-12-30T10:35:42.882Z"
   },
   {
    "duration": 3,
    "start_time": "2022-12-30T10:36:07.659Z"
   },
   {
    "duration": 23420,
    "start_time": "2022-12-30T10:36:07.664Z"
   },
   {
    "duration": 23944,
    "start_time": "2022-12-30T10:36:31.086Z"
   },
   {
    "duration": 3,
    "start_time": "2022-12-30T10:36:55.032Z"
   },
   {
    "duration": 420545,
    "start_time": "2022-12-30T10:36:55.036Z"
   },
   {
    "duration": 161266,
    "start_time": "2022-12-30T10:43:55.582Z"
   },
   {
    "duration": 170132,
    "start_time": "2022-12-30T10:46:36.849Z"
   },
   {
    "duration": 3,
    "start_time": "2022-12-30T10:49:26.983Z"
   },
   {
    "duration": 1370,
    "start_time": "2022-12-30T10:50:38.760Z"
   },
   {
    "duration": 634,
    "start_time": "2022-12-30T10:50:40.132Z"
   },
   {
    "duration": 19,
    "start_time": "2022-12-30T10:50:40.767Z"
   },
   {
    "duration": 11,
    "start_time": "2022-12-30T10:50:40.797Z"
   },
   {
    "duration": 19,
    "start_time": "2022-12-30T10:50:40.809Z"
   },
   {
    "duration": 23,
    "start_time": "2022-12-30T10:50:40.830Z"
   },
   {
    "duration": 47,
    "start_time": "2022-12-30T10:50:40.855Z"
   },
   {
    "duration": 26,
    "start_time": "2022-12-30T10:50:40.904Z"
   },
   {
    "duration": 11,
    "start_time": "2022-12-30T10:50:40.932Z"
   },
   {
    "duration": 10,
    "start_time": "2022-12-30T10:50:40.946Z"
   },
   {
    "duration": 10,
    "start_time": "2022-12-30T10:50:40.958Z"
   },
   {
    "duration": 17,
    "start_time": "2022-12-30T10:50:40.970Z"
   },
   {
    "duration": 163,
    "start_time": "2022-12-30T10:50:40.988Z"
   },
   {
    "duration": 72,
    "start_time": "2022-12-30T10:50:41.152Z"
   },
   {
    "duration": 142,
    "start_time": "2022-12-30T10:50:41.226Z"
   },
   {
    "duration": 36,
    "start_time": "2022-12-30T10:50:41.370Z"
   },
   {
    "duration": 6,
    "start_time": "2022-12-30T10:50:41.408Z"
   },
   {
    "duration": 24,
    "start_time": "2022-12-30T10:50:41.415Z"
   },
   {
    "duration": 32,
    "start_time": "2022-12-30T10:50:41.440Z"
   },
   {
    "duration": 27,
    "start_time": "2022-12-30T10:50:41.474Z"
   },
   {
    "duration": 24,
    "start_time": "2022-12-30T10:50:41.503Z"
   },
   {
    "duration": 16,
    "start_time": "2022-12-30T10:50:41.529Z"
   },
   {
    "duration": 12,
    "start_time": "2022-12-30T10:50:41.547Z"
   },
   {
    "duration": 7,
    "start_time": "2022-12-30T10:50:41.560Z"
   },
   {
    "duration": 31,
    "start_time": "2022-12-30T10:50:41.569Z"
   },
   {
    "duration": 774,
    "start_time": "2022-12-30T10:50:41.602Z"
   },
   {
    "duration": 644,
    "start_time": "2022-12-30T10:50:42.378Z"
   },
   {
    "duration": 711,
    "start_time": "2022-12-30T10:50:43.025Z"
   },
   {
    "duration": 471,
    "start_time": "2022-12-30T10:50:43.737Z"
   },
   {
    "duration": 560,
    "start_time": "2022-12-30T10:50:44.210Z"
   },
   {
    "duration": 655,
    "start_time": "2022-12-30T10:50:44.772Z"
   },
   {
    "duration": 489,
    "start_time": "2022-12-30T10:50:45.429Z"
   },
   {
    "duration": 467,
    "start_time": "2022-12-30T10:50:45.920Z"
   },
   {
    "duration": 412,
    "start_time": "2022-12-30T10:50:46.389Z"
   },
   {
    "duration": 6,
    "start_time": "2022-12-30T10:50:46.803Z"
   },
   {
    "duration": 262,
    "start_time": "2022-12-30T10:50:46.811Z"
   },
   {
    "duration": 326,
    "start_time": "2022-12-30T10:50:47.074Z"
   },
   {
    "duration": 251,
    "start_time": "2022-12-30T10:50:47.401Z"
   },
   {
    "duration": 3,
    "start_time": "2022-12-30T10:50:47.653Z"
   },
   {
    "duration": 9,
    "start_time": "2022-12-30T10:50:47.657Z"
   },
   {
    "duration": 39,
    "start_time": "2022-12-30T10:50:47.667Z"
   },
   {
    "duration": 3,
    "start_time": "2022-12-30T10:50:47.708Z"
   },
   {
    "duration": 17,
    "start_time": "2022-12-30T10:50:47.712Z"
   },
   {
    "duration": 14,
    "start_time": "2022-12-30T10:50:47.731Z"
   },
   {
    "duration": 8,
    "start_time": "2022-12-30T10:50:47.746Z"
   },
   {
    "duration": 17,
    "start_time": "2022-12-30T10:50:47.755Z"
   },
   {
    "duration": 530,
    "start_time": "2022-12-30T10:50:47.773Z"
   },
   {
    "duration": 13,
    "start_time": "2022-12-30T10:50:48.305Z"
   },
   {
    "duration": 13,
    "start_time": "2022-12-30T10:50:48.320Z"
   },
   {
    "duration": 3,
    "start_time": "2022-12-30T10:50:48.334Z"
   },
   {
    "duration": 18,
    "start_time": "2022-12-30T10:50:48.339Z"
   },
   {
    "duration": 18,
    "start_time": "2022-12-30T10:50:48.359Z"
   },
   {
    "duration": 37,
    "start_time": "2022-12-30T10:50:48.379Z"
   },
   {
    "duration": 5,
    "start_time": "2022-12-30T10:50:48.418Z"
   },
   {
    "duration": 26,
    "start_time": "2022-12-30T10:50:48.425Z"
   },
   {
    "duration": 5,
    "start_time": "2022-12-30T10:50:48.453Z"
   },
   {
    "duration": 29,
    "start_time": "2022-12-30T10:50:48.460Z"
   },
   {
    "duration": 46,
    "start_time": "2022-12-30T10:50:48.491Z"
   },
   {
    "duration": 20,
    "start_time": "2022-12-30T10:50:48.539Z"
   },
   {
    "duration": 3,
    "start_time": "2022-12-30T10:50:48.561Z"
   },
   {
    "duration": 5,
    "start_time": "2022-12-30T10:50:48.566Z"
   },
   {
    "duration": 7510,
    "start_time": "2022-12-30T10:50:48.572Z"
   },
   {
    "duration": 22640,
    "start_time": "2022-12-30T10:50:56.084Z"
   },
   {
    "duration": 23292,
    "start_time": "2022-12-30T10:51:18.726Z"
   },
   {
    "duration": 3,
    "start_time": "2022-12-30T10:51:42.020Z"
   },
   {
    "duration": 22688,
    "start_time": "2022-12-30T10:51:42.024Z"
   },
   {
    "duration": 24095,
    "start_time": "2022-12-30T10:52:04.715Z"
   },
   {
    "duration": 5,
    "start_time": "2022-12-30T10:52:28.812Z"
   },
   {
    "duration": 427487,
    "start_time": "2022-12-30T10:52:28.818Z"
   },
   {
    "duration": 176872,
    "start_time": "2022-12-30T10:59:36.307Z"
   },
   {
    "duration": 78,
    "start_time": "2023-01-07T13:21:04.207Z"
   },
   {
    "duration": 1569,
    "start_time": "2023-01-07T13:24:16.304Z"
   },
   {
    "duration": 3240,
    "start_time": "2023-01-07T13:24:17.875Z"
   },
   {
    "duration": 22,
    "start_time": "2023-01-07T13:24:21.117Z"
   },
   {
    "duration": 12,
    "start_time": "2023-01-07T13:24:21.141Z"
   },
   {
    "duration": 40,
    "start_time": "2023-01-07T13:24:21.155Z"
   },
   {
    "duration": 33,
    "start_time": "2023-01-07T13:24:21.197Z"
   },
   {
    "duration": 26,
    "start_time": "2023-01-07T13:24:21.231Z"
   },
   {
    "duration": 25,
    "start_time": "2023-01-07T13:24:21.258Z"
   },
   {
    "duration": 28,
    "start_time": "2023-01-07T13:24:21.284Z"
   },
   {
    "duration": 13,
    "start_time": "2023-01-07T13:24:21.314Z"
   },
   {
    "duration": 34,
    "start_time": "2023-01-07T13:24:21.328Z"
   },
   {
    "duration": 30,
    "start_time": "2023-01-07T13:24:21.363Z"
   },
   {
    "duration": 163,
    "start_time": "2023-01-07T13:24:21.395Z"
   },
   {
    "duration": 62,
    "start_time": "2023-01-07T13:24:21.560Z"
   },
   {
    "duration": 137,
    "start_time": "2023-01-07T13:24:21.624Z"
   },
   {
    "duration": 27,
    "start_time": "2023-01-07T13:24:21.762Z"
   },
   {
    "duration": 15,
    "start_time": "2023-01-07T13:24:21.791Z"
   },
   {
    "duration": 35,
    "start_time": "2023-01-07T13:24:21.808Z"
   },
   {
    "duration": 48,
    "start_time": "2023-01-07T13:24:21.845Z"
   },
   {
    "duration": 25,
    "start_time": "2023-01-07T13:24:21.895Z"
   },
   {
    "duration": 24,
    "start_time": "2023-01-07T13:24:21.922Z"
   },
   {
    "duration": 30,
    "start_time": "2023-01-07T13:24:21.948Z"
   },
   {
    "duration": 7,
    "start_time": "2023-01-07T13:24:21.980Z"
   },
   {
    "duration": 18,
    "start_time": "2023-01-07T13:24:21.988Z"
   },
   {
    "duration": 33,
    "start_time": "2023-01-07T13:24:22.007Z"
   },
   {
    "duration": 770,
    "start_time": "2023-01-07T13:24:22.042Z"
   },
   {
    "duration": 637,
    "start_time": "2023-01-07T13:24:22.813Z"
   },
   {
    "duration": 820,
    "start_time": "2023-01-07T13:24:23.454Z"
   },
   {
    "duration": 499,
    "start_time": "2023-01-07T13:24:24.276Z"
   },
   {
    "duration": 500,
    "start_time": "2023-01-07T13:24:24.776Z"
   },
   {
    "duration": 678,
    "start_time": "2023-01-07T13:24:25.278Z"
   },
   {
    "duration": 524,
    "start_time": "2023-01-07T13:24:25.957Z"
   },
   {
    "duration": 404,
    "start_time": "2023-01-07T13:24:26.483Z"
   },
   {
    "duration": 400,
    "start_time": "2023-01-07T13:24:26.889Z"
   },
   {
    "duration": 5,
    "start_time": "2023-01-07T13:24:27.291Z"
   },
   {
    "duration": 308,
    "start_time": "2023-01-07T13:24:27.298Z"
   },
   {
    "duration": 392,
    "start_time": "2023-01-07T13:24:27.608Z"
   },
   {
    "duration": 308,
    "start_time": "2023-01-07T13:24:28.002Z"
   },
   {
    "duration": 4,
    "start_time": "2023-01-07T13:24:28.312Z"
   },
   {
    "duration": 23,
    "start_time": "2023-01-07T13:24:28.319Z"
   },
   {
    "duration": 47,
    "start_time": "2023-01-07T13:24:28.344Z"
   },
   {
    "duration": 4,
    "start_time": "2023-01-07T13:24:28.393Z"
   },
   {
    "duration": 29,
    "start_time": "2023-01-07T13:24:28.399Z"
   },
   {
    "duration": 19,
    "start_time": "2023-01-07T13:24:28.431Z"
   },
   {
    "duration": 30,
    "start_time": "2023-01-07T13:24:28.452Z"
   },
   {
    "duration": 9,
    "start_time": "2023-01-07T13:24:28.484Z"
   },
   {
    "duration": 503,
    "start_time": "2023-01-07T13:24:28.496Z"
   },
   {
    "duration": 14,
    "start_time": "2023-01-07T13:24:29.001Z"
   },
   {
    "duration": 12,
    "start_time": "2023-01-07T13:24:29.017Z"
   },
   {
    "duration": 4,
    "start_time": "2023-01-07T13:24:29.031Z"
   },
   {
    "duration": 13,
    "start_time": "2023-01-07T13:24:29.036Z"
   },
   {
    "duration": 8,
    "start_time": "2023-01-07T13:24:29.077Z"
   },
   {
    "duration": 26,
    "start_time": "2023-01-07T13:24:29.087Z"
   },
   {
    "duration": 5,
    "start_time": "2023-01-07T13:24:29.115Z"
   },
   {
    "duration": 12,
    "start_time": "2023-01-07T13:24:29.122Z"
   },
   {
    "duration": 4,
    "start_time": "2023-01-07T13:24:29.136Z"
   },
   {
    "duration": 6,
    "start_time": "2023-01-07T13:24:29.142Z"
   },
   {
    "duration": 51,
    "start_time": "2023-01-07T13:24:29.149Z"
   },
   {
    "duration": 24,
    "start_time": "2023-01-07T13:24:29.202Z"
   },
   {
    "duration": 4,
    "start_time": "2023-01-07T13:24:29.228Z"
   },
   {
    "duration": 5,
    "start_time": "2023-01-07T13:24:29.233Z"
   },
   {
    "duration": 7446,
    "start_time": "2023-01-07T13:24:29.239Z"
   },
   {
    "duration": 23227,
    "start_time": "2023-01-07T13:24:36.687Z"
   },
   {
    "duration": 23939,
    "start_time": "2023-01-07T13:24:59.915Z"
   },
   {
    "duration": 4,
    "start_time": "2023-01-07T13:25:23.855Z"
   },
   {
    "duration": 23804,
    "start_time": "2023-01-07T13:25:23.860Z"
   },
   {
    "duration": 24333,
    "start_time": "2023-01-07T13:25:47.665Z"
   },
   {
    "duration": 4,
    "start_time": "2023-01-07T13:26:12.000Z"
   },
   {
    "duration": 425598,
    "start_time": "2023-01-07T13:26:12.005Z"
   },
   {
    "duration": 163491,
    "start_time": "2023-01-07T13:33:17.605Z"
   },
   {
    "duration": 167954,
    "start_time": "2023-01-07T13:36:01.098Z"
   },
   {
    "duration": 4,
    "start_time": "2023-01-07T13:38:49.054Z"
   },
   {
    "duration": 127477,
    "start_time": "2023-01-07T13:38:49.061Z"
   },
   {
    "duration": 129987,
    "start_time": "2023-01-07T13:40:56.540Z"
   },
   {
    "duration": 5,
    "start_time": "2023-01-07T13:43:06.530Z"
   },
   {
    "duration": 5846,
    "start_time": "2023-01-07T13:43:06.537Z"
   },
   {
    "duration": 91,
    "start_time": "2023-01-07T13:43:12.388Z"
   },
   {
    "duration": 3298,
    "start_time": "2023-01-07T13:43:12.481Z"
   },
   {
    "duration": 3416,
    "start_time": "2023-01-07T13:43:15.781Z"
   },
   {
    "duration": 82,
    "start_time": "2023-01-07T13:43:19.199Z"
   },
   {
    "duration": 406,
    "start_time": "2023-01-07T13:43:19.283Z"
   },
   {
    "duration": 389,
    "start_time": "2023-01-07T13:43:19.694Z"
   },
   {
    "duration": 3,
    "start_time": "2023-01-07T13:43:20.085Z"
   },
   {
    "duration": 11,
    "start_time": "2023-01-07T13:43:20.090Z"
   },
   {
    "duration": 8,
    "start_time": "2023-01-07T13:43:20.102Z"
   },
   {
    "duration": 6,
    "start_time": "2023-01-07T13:43:20.111Z"
   },
   {
    "duration": 1568,
    "start_time": "2023-01-09T06:21:18.721Z"
   },
   {
    "duration": 3071,
    "start_time": "2023-01-09T06:21:20.291Z"
   },
   {
    "duration": 18,
    "start_time": "2023-01-09T06:21:23.364Z"
   },
   {
    "duration": 11,
    "start_time": "2023-01-09T06:21:23.384Z"
   },
   {
    "duration": 19,
    "start_time": "2023-01-09T06:21:23.397Z"
   },
   {
    "duration": 23,
    "start_time": "2023-01-09T06:21:23.418Z"
   },
   {
    "duration": 19,
    "start_time": "2023-01-09T06:21:23.443Z"
   },
   {
    "duration": 22,
    "start_time": "2023-01-09T06:21:23.464Z"
   },
   {
    "duration": 30,
    "start_time": "2023-01-09T06:21:23.488Z"
   },
   {
    "duration": 10,
    "start_time": "2023-01-09T06:21:23.520Z"
   },
   {
    "duration": 12,
    "start_time": "2023-01-09T06:21:23.532Z"
   },
   {
    "duration": 4,
    "start_time": "2023-01-09T06:21:23.545Z"
   },
   {
    "duration": 178,
    "start_time": "2023-01-09T06:21:23.550Z"
   },
   {
    "duration": 44,
    "start_time": "2023-01-09T06:21:23.730Z"
   },
   {
    "duration": 161,
    "start_time": "2023-01-09T06:21:23.775Z"
   },
   {
    "duration": 13,
    "start_time": "2023-01-09T06:21:23.938Z"
   },
   {
    "duration": 6,
    "start_time": "2023-01-09T06:21:23.953Z"
   },
   {
    "duration": 9,
    "start_time": "2023-01-09T06:21:23.960Z"
   },
   {
    "duration": 52,
    "start_time": "2023-01-09T06:21:23.970Z"
   },
   {
    "duration": 27,
    "start_time": "2023-01-09T06:21:24.024Z"
   },
   {
    "duration": 27,
    "start_time": "2023-01-09T06:21:24.054Z"
   },
   {
    "duration": 14,
    "start_time": "2023-01-09T06:21:24.083Z"
   },
   {
    "duration": 5,
    "start_time": "2023-01-09T06:21:24.116Z"
   },
   {
    "duration": 5,
    "start_time": "2023-01-09T06:21:24.123Z"
   },
   {
    "duration": 15,
    "start_time": "2023-01-09T06:21:24.130Z"
   },
   {
    "duration": 755,
    "start_time": "2023-01-09T06:21:24.147Z"
   },
   {
    "duration": 626,
    "start_time": "2023-01-09T06:21:24.904Z"
   },
   {
    "duration": 804,
    "start_time": "2023-01-09T06:21:25.534Z"
   },
   {
    "duration": 515,
    "start_time": "2023-01-09T06:21:26.339Z"
   },
   {
    "duration": 490,
    "start_time": "2023-01-09T06:21:26.855Z"
   },
   {
    "duration": 648,
    "start_time": "2023-01-09T06:21:27.347Z"
   },
   {
    "duration": 516,
    "start_time": "2023-01-09T06:21:27.997Z"
   },
   {
    "duration": 413,
    "start_time": "2023-01-09T06:21:28.515Z"
   },
   {
    "duration": 401,
    "start_time": "2023-01-09T06:21:28.930Z"
   },
   {
    "duration": 4,
    "start_time": "2023-01-09T06:21:29.333Z"
   },
   {
    "duration": 276,
    "start_time": "2023-01-09T06:21:29.339Z"
   },
   {
    "duration": 410,
    "start_time": "2023-01-09T06:21:29.617Z"
   },
   {
    "duration": 364,
    "start_time": "2023-01-09T06:21:30.028Z"
   },
   {
    "duration": 22,
    "start_time": "2023-01-09T06:21:30.394Z"
   },
   {
    "duration": 18,
    "start_time": "2023-01-09T06:21:30.418Z"
   },
   {
    "duration": 64,
    "start_time": "2023-01-09T06:21:30.438Z"
   },
   {
    "duration": 19,
    "start_time": "2023-01-09T06:21:30.515Z"
   },
   {
    "duration": 48,
    "start_time": "2023-01-09T06:21:30.535Z"
   },
   {
    "duration": 23,
    "start_time": "2023-01-09T06:21:30.584Z"
   },
   {
    "duration": 29,
    "start_time": "2023-01-09T06:21:30.609Z"
   },
   {
    "duration": 18,
    "start_time": "2023-01-09T06:21:30.640Z"
   },
   {
    "duration": 461,
    "start_time": "2023-01-09T06:21:30.660Z"
   },
   {
    "duration": 11,
    "start_time": "2023-01-09T06:21:31.122Z"
   },
   {
    "duration": 36,
    "start_time": "2023-01-09T06:21:31.135Z"
   },
   {
    "duration": 22,
    "start_time": "2023-01-09T06:21:31.173Z"
   },
   {
    "duration": 32,
    "start_time": "2023-01-09T06:21:31.197Z"
   },
   {
    "duration": 13,
    "start_time": "2023-01-09T06:21:31.231Z"
   },
   {
    "duration": 57,
    "start_time": "2023-01-09T06:21:31.246Z"
   },
   {
    "duration": 32,
    "start_time": "2023-01-09T06:21:31.305Z"
   },
   {
    "duration": 39,
    "start_time": "2023-01-09T06:21:31.338Z"
   },
   {
    "duration": 13,
    "start_time": "2023-01-09T06:21:31.378Z"
   },
   {
    "duration": 22,
    "start_time": "2023-01-09T06:21:31.393Z"
   },
   {
    "duration": 44,
    "start_time": "2023-01-09T06:21:31.416Z"
   },
   {
    "duration": 24,
    "start_time": "2023-01-09T06:21:31.461Z"
   },
   {
    "duration": 29,
    "start_time": "2023-01-09T06:21:31.487Z"
   },
   {
    "duration": 7,
    "start_time": "2023-01-09T06:21:31.518Z"
   },
   {
    "duration": 7511,
    "start_time": "2023-01-09T06:21:31.527Z"
   },
   {
    "duration": 23650,
    "start_time": "2023-01-09T06:21:39.040Z"
   },
   {
    "duration": 24166,
    "start_time": "2023-01-09T06:22:02.692Z"
   },
   {
    "duration": 3,
    "start_time": "2023-01-09T06:22:26.860Z"
   },
   {
    "duration": 24062,
    "start_time": "2023-01-09T06:22:26.864Z"
   },
   {
    "duration": 24862,
    "start_time": "2023-01-09T06:22:50.929Z"
   },
   {
    "duration": 3,
    "start_time": "2023-01-09T06:23:15.793Z"
   },
   {
    "duration": 429092,
    "start_time": "2023-01-09T06:23:15.798Z"
   },
   {
    "duration": 167486,
    "start_time": "2023-01-09T06:30:24.892Z"
   },
   {
    "duration": 171146,
    "start_time": "2023-01-09T06:33:12.380Z"
   },
   {
    "duration": 2,
    "start_time": "2023-01-09T06:36:03.529Z"
   },
   {
    "duration": 127121,
    "start_time": "2023-01-09T06:36:03.533Z"
   },
   {
    "duration": 129718,
    "start_time": "2023-01-09T06:38:10.655Z"
   },
   {
    "duration": 3,
    "start_time": "2023-01-09T06:40:20.374Z"
   },
   {
    "duration": 2940,
    "start_time": "2023-01-09T06:40:20.379Z"
   },
   {
    "duration": 4,
    "start_time": "2023-01-09T06:40:23.322Z"
   },
   {
    "duration": 3494,
    "start_time": "2023-01-09T06:40:23.328Z"
   },
   {
    "duration": 3292,
    "start_time": "2023-01-09T06:40:26.824Z"
   },
   {
    "duration": 4,
    "start_time": "2023-01-09T06:40:30.119Z"
   },
   {
    "duration": 456,
    "start_time": "2023-01-09T06:40:30.126Z"
   },
   {
    "duration": 393,
    "start_time": "2023-01-09T06:40:30.587Z"
   },
   {
    "duration": 3,
    "start_time": "2023-01-09T06:40:30.981Z"
   },
   {
    "duration": 30,
    "start_time": "2023-01-09T06:40:30.986Z"
   },
   {
    "duration": 22,
    "start_time": "2023-01-09T06:40:31.018Z"
   },
   {
    "duration": 23,
    "start_time": "2023-01-09T06:40:31.042Z"
   },
   {
    "duration": 1507,
    "start_time": "2023-01-09T06:47:37.600Z"
   },
   {
    "duration": 726,
    "start_time": "2023-01-09T06:47:39.109Z"
   },
   {
    "duration": 20,
    "start_time": "2023-01-09T06:47:39.839Z"
   },
   {
    "duration": 14,
    "start_time": "2023-01-09T06:47:39.861Z"
   },
   {
    "duration": 20,
    "start_time": "2023-01-09T06:47:39.876Z"
   },
   {
    "duration": 23,
    "start_time": "2023-01-09T06:47:39.915Z"
   },
   {
    "duration": 23,
    "start_time": "2023-01-09T06:47:39.940Z"
   },
   {
    "duration": 21,
    "start_time": "2023-01-09T06:47:39.964Z"
   },
   {
    "duration": 4,
    "start_time": "2023-01-09T06:47:40.015Z"
   },
   {
    "duration": 10,
    "start_time": "2023-01-09T06:47:40.020Z"
   },
   {
    "duration": 8,
    "start_time": "2023-01-09T06:47:40.032Z"
   },
   {
    "duration": 8,
    "start_time": "2023-01-09T06:47:40.042Z"
   },
   {
    "duration": 173,
    "start_time": "2023-01-09T06:47:40.053Z"
   },
   {
    "duration": 44,
    "start_time": "2023-01-09T06:47:40.227Z"
   },
   {
    "duration": 153,
    "start_time": "2023-01-09T06:47:40.273Z"
   },
   {
    "duration": 16,
    "start_time": "2023-01-09T06:47:40.428Z"
   },
   {
    "duration": 6,
    "start_time": "2023-01-09T06:47:40.445Z"
   },
   {
    "duration": 11,
    "start_time": "2023-01-09T06:47:40.452Z"
   },
   {
    "duration": 30,
    "start_time": "2023-01-09T06:47:40.464Z"
   },
   {
    "duration": 41,
    "start_time": "2023-01-09T06:47:40.495Z"
   },
   {
    "duration": 23,
    "start_time": "2023-01-09T06:47:40.538Z"
   },
   {
    "duration": 12,
    "start_time": "2023-01-09T06:47:40.563Z"
   },
   {
    "duration": 5,
    "start_time": "2023-01-09T06:47:40.577Z"
   },
   {
    "duration": 7,
    "start_time": "2023-01-09T06:47:40.583Z"
   },
   {
    "duration": 38,
    "start_time": "2023-01-09T06:47:40.591Z"
   },
   {
    "duration": 788,
    "start_time": "2023-01-09T06:47:40.630Z"
   },
   {
    "duration": 638,
    "start_time": "2023-01-09T06:47:41.420Z"
   },
   {
    "duration": 808,
    "start_time": "2023-01-09T06:47:42.060Z"
   },
   {
    "duration": 476,
    "start_time": "2023-01-09T06:47:42.869Z"
   },
   {
    "duration": 491,
    "start_time": "2023-01-09T06:47:43.346Z"
   },
   {
    "duration": 647,
    "start_time": "2023-01-09T06:47:43.839Z"
   },
   {
    "duration": 478,
    "start_time": "2023-01-09T06:47:44.488Z"
   },
   {
    "duration": 474,
    "start_time": "2023-01-09T06:47:44.967Z"
   },
   {
    "duration": 384,
    "start_time": "2023-01-09T06:47:45.443Z"
   },
   {
    "duration": 4,
    "start_time": "2023-01-09T06:47:45.830Z"
   },
   {
    "duration": 279,
    "start_time": "2023-01-09T06:47:45.836Z"
   },
   {
    "duration": 424,
    "start_time": "2023-01-09T06:47:46.117Z"
   },
   {
    "duration": 271,
    "start_time": "2023-01-09T06:47:46.543Z"
   },
   {
    "duration": 4,
    "start_time": "2023-01-09T06:47:46.816Z"
   },
   {
    "duration": 13,
    "start_time": "2023-01-09T06:47:46.825Z"
   },
   {
    "duration": 35,
    "start_time": "2023-01-09T06:47:46.840Z"
   },
   {
    "duration": 3,
    "start_time": "2023-01-09T06:47:46.877Z"
   },
   {
    "duration": 33,
    "start_time": "2023-01-09T06:47:46.882Z"
   },
   {
    "duration": 18,
    "start_time": "2023-01-09T06:47:46.917Z"
   },
   {
    "duration": 9,
    "start_time": "2023-01-09T06:47:46.937Z"
   },
   {
    "duration": 6,
    "start_time": "2023-01-09T06:47:46.948Z"
   },
   {
    "duration": 479,
    "start_time": "2023-01-09T06:47:46.955Z"
   },
   {
    "duration": 11,
    "start_time": "2023-01-09T06:47:47.436Z"
   },
   {
    "duration": 16,
    "start_time": "2023-01-09T06:47:47.449Z"
   },
   {
    "duration": 4,
    "start_time": "2023-01-09T06:47:47.466Z"
   },
   {
    "duration": 25,
    "start_time": "2023-01-09T06:47:47.471Z"
   },
   {
    "duration": 10,
    "start_time": "2023-01-09T06:47:47.498Z"
   },
   {
    "duration": 34,
    "start_time": "2023-01-09T06:47:47.509Z"
   },
   {
    "duration": 6,
    "start_time": "2023-01-09T06:47:47.544Z"
   },
   {
    "duration": 12,
    "start_time": "2023-01-09T06:47:47.552Z"
   },
   {
    "duration": 3,
    "start_time": "2023-01-09T06:47:47.566Z"
   },
   {
    "duration": 5,
    "start_time": "2023-01-09T06:47:47.571Z"
   },
   {
    "duration": 43,
    "start_time": "2023-01-09T06:47:47.578Z"
   },
   {
    "duration": 27,
    "start_time": "2023-01-09T06:47:47.623Z"
   },
   {
    "duration": 4,
    "start_time": "2023-01-09T06:47:47.652Z"
   },
   {
    "duration": 7,
    "start_time": "2023-01-09T06:47:47.658Z"
   },
   {
    "duration": 7566,
    "start_time": "2023-01-09T06:47:47.666Z"
   },
   {
    "duration": 23749,
    "start_time": "2023-01-09T06:47:55.234Z"
   },
   {
    "duration": 24206,
    "start_time": "2023-01-09T06:48:18.985Z"
   },
   {
    "duration": 3,
    "start_time": "2023-01-09T06:48:43.192Z"
   },
   {
    "duration": 24288,
    "start_time": "2023-01-09T06:48:43.197Z"
   },
   {
    "duration": 25305,
    "start_time": "2023-01-09T06:49:07.487Z"
   },
   {
    "duration": 3,
    "start_time": "2023-01-09T06:49:32.794Z"
   },
   {
    "duration": 431681,
    "start_time": "2023-01-09T06:49:32.799Z"
   },
   {
    "duration": 167254,
    "start_time": "2023-01-09T06:56:44.482Z"
   },
   {
    "duration": 172031,
    "start_time": "2023-01-09T06:59:31.737Z"
   },
   {
    "duration": 3,
    "start_time": "2023-01-09T07:02:23.769Z"
   },
   {
    "duration": 129044,
    "start_time": "2023-01-09T07:02:23.774Z"
   },
   {
    "duration": 132470,
    "start_time": "2023-01-09T07:04:32.820Z"
   },
   {
    "duration": 3,
    "start_time": "2023-01-09T07:06:45.292Z"
   },
   {
    "duration": 2427,
    "start_time": "2023-01-09T07:06:45.296Z"
   },
   {
    "duration": 92,
    "start_time": "2023-01-09T07:06:47.725Z"
   },
   {
    "duration": 3097,
    "start_time": "2023-01-09T07:06:47.820Z"
   },
   {
    "duration": 3099,
    "start_time": "2023-01-09T07:06:50.919Z"
   },
   {
    "duration": 93,
    "start_time": "2023-01-09T07:06:54.023Z"
   },
   {
    "duration": 359,
    "start_time": "2023-01-09T07:06:54.119Z"
   },
   {
    "duration": 388,
    "start_time": "2023-01-09T07:06:54.480Z"
   },
   {
    "duration": 3,
    "start_time": "2023-01-09T07:06:54.870Z"
   },
   {
    "duration": 7,
    "start_time": "2023-01-09T07:06:54.875Z"
   },
   {
    "duration": 11,
    "start_time": "2023-01-09T07:06:54.883Z"
   },
   {
    "duration": 5,
    "start_time": "2023-01-09T07:06:54.895Z"
   },
   {
    "duration": 130112,
    "start_time": "2023-01-09T07:08:46.759Z"
   },
   {
    "duration": 132833,
    "start_time": "2023-01-09T07:10:56.873Z"
   },
   {
    "duration": 8,
    "start_time": "2023-01-09T07:13:09.708Z"
   },
   {
    "duration": 2703,
    "start_time": "2023-01-09T07:13:09.718Z"
   },
   {
    "duration": 3,
    "start_time": "2023-01-09T07:13:12.423Z"
   },
   {
    "duration": 2891,
    "start_time": "2023-01-09T07:13:12.428Z"
   },
   {
    "duration": 2994,
    "start_time": "2023-01-09T07:13:15.322Z"
   },
   {
    "duration": 5,
    "start_time": "2023-01-09T07:13:18.319Z"
   },
   {
    "duration": 1376,
    "start_time": "2023-01-09T07:13:18.416Z"
   },
   {
    "duration": 1370,
    "start_time": "2023-01-09T07:13:19.794Z"
   },
   {
    "duration": 2,
    "start_time": "2023-01-09T07:13:21.166Z"
   },
   {
    "duration": 14,
    "start_time": "2023-01-09T07:13:21.170Z"
   },
   {
    "duration": 6,
    "start_time": "2023-01-09T07:13:21.186Z"
   },
   {
    "duration": 4,
    "start_time": "2023-01-09T07:13:21.193Z"
   }
  ],
  "kernelspec": {
   "display_name": "Python 3 (ipykernel)",
   "language": "python",
   "name": "python3"
  },
  "language_info": {
   "codemirror_mode": {
    "name": "ipython",
    "version": 3
   },
   "file_extension": ".py",
   "mimetype": "text/x-python",
   "name": "python",
   "nbconvert_exporter": "python",
   "pygments_lexer": "ipython3",
   "version": "3.9.12"
  },
  "toc": {
   "base_numbering": 1,
   "nav_menu": {},
   "number_sections": true,
   "sideBar": true,
   "skip_h1_title": true,
   "title_cell": "Содержание",
   "title_sidebar": "Contents",
   "toc_cell": true,
   "toc_position": {},
   "toc_section_display": true,
   "toc_window_display": false
  }
 },
 "nbformat": 4,
 "nbformat_minor": 2
}
