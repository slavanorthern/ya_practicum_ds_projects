{
 "cells": [
  {
   "cell_type": "markdown",
   "metadata": {},
   "source": [
    "# Выбор локации для скважины"
   ]
  },
  {
   "cell_type": "markdown",
   "metadata": {},
   "source": [
    "Допустим, вы работаете в добывающей компании «ГлавРосГосНефть». Нужно решить, где бурить новую скважину.\n",
    "\n",
    "Вам предоставлены пробы нефти в трёх регионах: в каждом 10 000 месторождений, где измерили качество нефти и объём её запасов. Постройте модель машинного обучения, которая поможет определить регион, где добыча принесёт наибольшую прибыль. Проанализируйте возможную прибыль и риски техникой *Bootstrap.*\n",
    "\n",
    "Шаги для выбора локации:\n",
    "\n",
    "- В избранном регионе ищут месторождения, для каждого определяют значения признаков;\n",
    "- Строят модель и оценивают объём запасов;\n",
    "- Выбирают месторождения с самым высокими оценками значений. Количество месторождений зависит от бюджета компании и стоимости разработки одной скважины;\n",
    "- Прибыль равна суммарной прибыли отобранных месторождений."
   ]
  },
  {
   "cell_type": "markdown",
   "metadata": {},
   "source": [
    "**Описание данных:**\n",
    "1. id — уникальный идентификатор скважины;\n",
    "2. f0, f1, f2 — три признака точек (неважно, что они означают, но сами признаки значимы);\n",
    "3. product — объём запасов в скважине (тыс. баррелей).\n"
   ]
  },
  {
   "cell_type": "markdown",
   "metadata": {},
   "source": [
    "**Условия:**\n",
    "\n",
    "1. Для обучения модели подходит только линейная регрессия;\n",
    "2. При разведке региона исследуют 500 точек, из которых с помощью машинного обучения выбирают 200 лучших для разработки;\n",
    "3. Бюджет на разработку скважин в регионе — 10 млрд рублей;\n",
    "4. При нынешних ценах один баррель сырья приносит 450 рублей дохода. Доход с каждой единицы продукта составляет 450 тыс. рублей, поскольку объём указан в тысячах баррелей;\n",
    "5. После оценки рисков нужно оставить лишь те регионы, в которых вероятность убытков меньше 2.5%. Среди них выбирают регион с наибольшей средней прибылью.\n",
    "   \n",
    "    "
   ]
  },
  {
   "cell_type": "markdown",
   "metadata": {},
   "source": [
    "## Загрузка и подготовка данных"
   ]
  },
  {
   "cell_type": "markdown",
   "metadata": {},
   "source": [
    "Импортируем необходимые библиотеки, модели, метрики и другое, что пригодится в исследовании:"
   ]
  },
  {
   "cell_type": "code",
   "execution_count": 1,
   "metadata": {},
   "outputs": [],
   "source": [
    "import pandas as pd\n",
    "import numpy as np\n",
    "import matplotlib.pyplot as plt\n",
    "import seaborn as sns\n",
    "from scipy import stats as st\n",
    "\n",
    "from sklearn.model_selection import train_test_split\n",
    "from sklearn.linear_model import LinearRegression\n",
    "from sklearn.metrics import mean_squared_error\n",
    "from sklearn.preprocessing import StandardScaler\n",
    "from sklearn.utils import shuffle\n",
    "from tqdm.notebook import tqdm\n",
    "\n",
    "import warnings\n",
    "warnings.filterwarnings('ignore')\n",
    "state = np.random.RandomState(12345)"
   ]
  },
  {
   "cell_type": "markdown",
   "metadata": {},
   "source": [
    "Изучим данные на наличие дубликатов, пропусков, правильность отображения:"
   ]
  },
  {
   "cell_type": "code",
   "execution_count": 2,
   "metadata": {},
   "outputs": [],
   "source": [
    "data_0 = pd.read_csv('/datasets/geo_data_0.csv')\n",
    "data_1 = pd.read_csv('/datasets/geo_data_1.csv')\n",
    "data_2 = pd.read_csv('/datasets/geo_data_2.csv')"
   ]
  },
  {
   "cell_type": "markdown",
   "metadata": {},
   "source": [
    "Рассмотрим каждый из регионов по отдельности.\n",
    "\n",
    "**Первый регион:**"
   ]
  },
  {
   "cell_type": "code",
   "execution_count": 3,
   "metadata": {},
   "outputs": [
    {
     "name": "stdout",
     "output_type": "stream",
     "text": [
      "<class 'pandas.core.frame.DataFrame'>\n",
      "RangeIndex: 100000 entries, 0 to 99999\n",
      "Data columns (total 5 columns):\n",
      " #   Column   Non-Null Count   Dtype  \n",
      "---  ------   --------------   -----  \n",
      " 0   id       100000 non-null  object \n",
      " 1   f0       100000 non-null  float64\n",
      " 2   f1       100000 non-null  float64\n",
      " 3   f2       100000 non-null  float64\n",
      " 4   product  100000 non-null  float64\n",
      "dtypes: float64(4), object(1)\n",
      "memory usage: 3.8+ MB\n"
     ]
    }
   ],
   "source": [
    "data_0.info()"
   ]
  },
  {
   "cell_type": "code",
   "execution_count": 4,
   "metadata": {},
   "outputs": [
    {
     "data": {
      "text/html": [
       "<div>\n",
       "<style scoped>\n",
       "    .dataframe tbody tr th:only-of-type {\n",
       "        vertical-align: middle;\n",
       "    }\n",
       "\n",
       "    .dataframe tbody tr th {\n",
       "        vertical-align: top;\n",
       "    }\n",
       "\n",
       "    .dataframe thead th {\n",
       "        text-align: right;\n",
       "    }\n",
       "</style>\n",
       "<table border=\"1\" class=\"dataframe\">\n",
       "  <thead>\n",
       "    <tr style=\"text-align: right;\">\n",
       "      <th></th>\n",
       "      <th>f0</th>\n",
       "      <th>f1</th>\n",
       "      <th>f2</th>\n",
       "      <th>product</th>\n",
       "    </tr>\n",
       "  </thead>\n",
       "  <tbody>\n",
       "    <tr>\n",
       "      <th>count</th>\n",
       "      <td>100000.000000</td>\n",
       "      <td>100000.000000</td>\n",
       "      <td>100000.000000</td>\n",
       "      <td>100000.000000</td>\n",
       "    </tr>\n",
       "    <tr>\n",
       "      <th>mean</th>\n",
       "      <td>0.500419</td>\n",
       "      <td>0.250143</td>\n",
       "      <td>2.502647</td>\n",
       "      <td>92.500000</td>\n",
       "    </tr>\n",
       "    <tr>\n",
       "      <th>std</th>\n",
       "      <td>0.871832</td>\n",
       "      <td>0.504433</td>\n",
       "      <td>3.248248</td>\n",
       "      <td>44.288691</td>\n",
       "    </tr>\n",
       "    <tr>\n",
       "      <th>min</th>\n",
       "      <td>-1.408605</td>\n",
       "      <td>-0.848218</td>\n",
       "      <td>-12.088328</td>\n",
       "      <td>0.000000</td>\n",
       "    </tr>\n",
       "    <tr>\n",
       "      <th>25%</th>\n",
       "      <td>-0.072580</td>\n",
       "      <td>-0.200881</td>\n",
       "      <td>0.287748</td>\n",
       "      <td>56.497507</td>\n",
       "    </tr>\n",
       "    <tr>\n",
       "      <th>50%</th>\n",
       "      <td>0.502360</td>\n",
       "      <td>0.250252</td>\n",
       "      <td>2.515969</td>\n",
       "      <td>91.849972</td>\n",
       "    </tr>\n",
       "    <tr>\n",
       "      <th>75%</th>\n",
       "      <td>1.073581</td>\n",
       "      <td>0.700646</td>\n",
       "      <td>4.715088</td>\n",
       "      <td>128.564089</td>\n",
       "    </tr>\n",
       "    <tr>\n",
       "      <th>max</th>\n",
       "      <td>2.362331</td>\n",
       "      <td>1.343769</td>\n",
       "      <td>16.003790</td>\n",
       "      <td>185.364347</td>\n",
       "    </tr>\n",
       "  </tbody>\n",
       "</table>\n",
       "</div>"
      ],
      "text/plain": [
       "                  f0             f1             f2        product\n",
       "count  100000.000000  100000.000000  100000.000000  100000.000000\n",
       "mean        0.500419       0.250143       2.502647      92.500000\n",
       "std         0.871832       0.504433       3.248248      44.288691\n",
       "min        -1.408605      -0.848218     -12.088328       0.000000\n",
       "25%        -0.072580      -0.200881       0.287748      56.497507\n",
       "50%         0.502360       0.250252       2.515969      91.849972\n",
       "75%         1.073581       0.700646       4.715088     128.564089\n",
       "max         2.362331       1.343769      16.003790     185.364347"
      ]
     },
     "execution_count": 4,
     "metadata": {},
     "output_type": "execute_result"
    }
   ],
   "source": [
    "data_0.describe()"
   ]
  },
  {
   "cell_type": "code",
   "execution_count": 5,
   "metadata": {
    "scrolled": true
   },
   "outputs": [
    {
     "data": {
      "text/html": [
       "<div>\n",
       "<style scoped>\n",
       "    .dataframe tbody tr th:only-of-type {\n",
       "        vertical-align: middle;\n",
       "    }\n",
       "\n",
       "    .dataframe tbody tr th {\n",
       "        vertical-align: top;\n",
       "    }\n",
       "\n",
       "    .dataframe thead th {\n",
       "        text-align: right;\n",
       "    }\n",
       "</style>\n",
       "<table border=\"1\" class=\"dataframe\">\n",
       "  <thead>\n",
       "    <tr style=\"text-align: right;\">\n",
       "      <th></th>\n",
       "      <th>id</th>\n",
       "      <th>f0</th>\n",
       "      <th>f1</th>\n",
       "      <th>f2</th>\n",
       "      <th>product</th>\n",
       "    </tr>\n",
       "  </thead>\n",
       "  <tbody>\n",
       "    <tr>\n",
       "      <th>0</th>\n",
       "      <td>txEyH</td>\n",
       "      <td>0.705745</td>\n",
       "      <td>-0.497823</td>\n",
       "      <td>1.221170</td>\n",
       "      <td>105.280062</td>\n",
       "    </tr>\n",
       "    <tr>\n",
       "      <th>1</th>\n",
       "      <td>2acmU</td>\n",
       "      <td>1.334711</td>\n",
       "      <td>-0.340164</td>\n",
       "      <td>4.365080</td>\n",
       "      <td>73.037750</td>\n",
       "    </tr>\n",
       "    <tr>\n",
       "      <th>2</th>\n",
       "      <td>409Wp</td>\n",
       "      <td>1.022732</td>\n",
       "      <td>0.151990</td>\n",
       "      <td>1.419926</td>\n",
       "      <td>85.265647</td>\n",
       "    </tr>\n",
       "    <tr>\n",
       "      <th>3</th>\n",
       "      <td>iJLyR</td>\n",
       "      <td>-0.032172</td>\n",
       "      <td>0.139033</td>\n",
       "      <td>2.978566</td>\n",
       "      <td>168.620776</td>\n",
       "    </tr>\n",
       "    <tr>\n",
       "      <th>4</th>\n",
       "      <td>Xdl7t</td>\n",
       "      <td>1.988431</td>\n",
       "      <td>0.155413</td>\n",
       "      <td>4.751769</td>\n",
       "      <td>154.036647</td>\n",
       "    </tr>\n",
       "  </tbody>\n",
       "</table>\n",
       "</div>"
      ],
      "text/plain": [
       "      id        f0        f1        f2     product\n",
       "0  txEyH  0.705745 -0.497823  1.221170  105.280062\n",
       "1  2acmU  1.334711 -0.340164  4.365080   73.037750\n",
       "2  409Wp  1.022732  0.151990  1.419926   85.265647\n",
       "3  iJLyR -0.032172  0.139033  2.978566  168.620776\n",
       "4  Xdl7t  1.988431  0.155413  4.751769  154.036647"
      ]
     },
     "execution_count": 5,
     "metadata": {},
     "output_type": "execute_result"
    }
   ],
   "source": [
    "data_0.head()"
   ]
  },
  {
   "cell_type": "code",
   "execution_count": 6,
   "metadata": {},
   "outputs": [
    {
     "data": {
      "text/plain": [
       "1"
      ]
     },
     "execution_count": 6,
     "metadata": {},
     "output_type": "execute_result"
    }
   ],
   "source": [
    "data_0[data_0['product'] == 0]['product'].count()"
   ]
  },
  {
   "cell_type": "code",
   "execution_count": 7,
   "metadata": {},
   "outputs": [
    {
     "data": {
      "text/plain": [
       "0"
      ]
     },
     "execution_count": 7,
     "metadata": {},
     "output_type": "execute_result"
    }
   ],
   "source": [
    "data_0.duplicated().sum()"
   ]
  },
  {
   "cell_type": "markdown",
   "metadata": {},
   "source": [
    "**Второй регион:**"
   ]
  },
  {
   "cell_type": "code",
   "execution_count": 8,
   "metadata": {},
   "outputs": [
    {
     "name": "stdout",
     "output_type": "stream",
     "text": [
      "<class 'pandas.core.frame.DataFrame'>\n",
      "RangeIndex: 100000 entries, 0 to 99999\n",
      "Data columns (total 5 columns):\n",
      " #   Column   Non-Null Count   Dtype  \n",
      "---  ------   --------------   -----  \n",
      " 0   id       100000 non-null  object \n",
      " 1   f0       100000 non-null  float64\n",
      " 2   f1       100000 non-null  float64\n",
      " 3   f2       100000 non-null  float64\n",
      " 4   product  100000 non-null  float64\n",
      "dtypes: float64(4), object(1)\n",
      "memory usage: 3.8+ MB\n"
     ]
    }
   ],
   "source": [
    "data_1.info()"
   ]
  },
  {
   "cell_type": "code",
   "execution_count": 9,
   "metadata": {},
   "outputs": [
    {
     "data": {
      "text/html": [
       "<div>\n",
       "<style scoped>\n",
       "    .dataframe tbody tr th:only-of-type {\n",
       "        vertical-align: middle;\n",
       "    }\n",
       "\n",
       "    .dataframe tbody tr th {\n",
       "        vertical-align: top;\n",
       "    }\n",
       "\n",
       "    .dataframe thead th {\n",
       "        text-align: right;\n",
       "    }\n",
       "</style>\n",
       "<table border=\"1\" class=\"dataframe\">\n",
       "  <thead>\n",
       "    <tr style=\"text-align: right;\">\n",
       "      <th></th>\n",
       "      <th>f0</th>\n",
       "      <th>f1</th>\n",
       "      <th>f2</th>\n",
       "      <th>product</th>\n",
       "    </tr>\n",
       "  </thead>\n",
       "  <tbody>\n",
       "    <tr>\n",
       "      <th>count</th>\n",
       "      <td>100000.000000</td>\n",
       "      <td>100000.000000</td>\n",
       "      <td>100000.000000</td>\n",
       "      <td>100000.000000</td>\n",
       "    </tr>\n",
       "    <tr>\n",
       "      <th>mean</th>\n",
       "      <td>1.141296</td>\n",
       "      <td>-4.796579</td>\n",
       "      <td>2.494541</td>\n",
       "      <td>68.825000</td>\n",
       "    </tr>\n",
       "    <tr>\n",
       "      <th>std</th>\n",
       "      <td>8.965932</td>\n",
       "      <td>5.119872</td>\n",
       "      <td>1.703572</td>\n",
       "      <td>45.944423</td>\n",
       "    </tr>\n",
       "    <tr>\n",
       "      <th>min</th>\n",
       "      <td>-31.609576</td>\n",
       "      <td>-26.358598</td>\n",
       "      <td>-0.018144</td>\n",
       "      <td>0.000000</td>\n",
       "    </tr>\n",
       "    <tr>\n",
       "      <th>25%</th>\n",
       "      <td>-6.298551</td>\n",
       "      <td>-8.267985</td>\n",
       "      <td>1.000021</td>\n",
       "      <td>26.953261</td>\n",
       "    </tr>\n",
       "    <tr>\n",
       "      <th>50%</th>\n",
       "      <td>1.153055</td>\n",
       "      <td>-4.813172</td>\n",
       "      <td>2.011479</td>\n",
       "      <td>57.085625</td>\n",
       "    </tr>\n",
       "    <tr>\n",
       "      <th>75%</th>\n",
       "      <td>8.621015</td>\n",
       "      <td>-1.332816</td>\n",
       "      <td>3.999904</td>\n",
       "      <td>107.813044</td>\n",
       "    </tr>\n",
       "    <tr>\n",
       "      <th>max</th>\n",
       "      <td>29.421755</td>\n",
       "      <td>18.734063</td>\n",
       "      <td>5.019721</td>\n",
       "      <td>137.945408</td>\n",
       "    </tr>\n",
       "  </tbody>\n",
       "</table>\n",
       "</div>"
      ],
      "text/plain": [
       "                  f0             f1             f2        product\n",
       "count  100000.000000  100000.000000  100000.000000  100000.000000\n",
       "mean        1.141296      -4.796579       2.494541      68.825000\n",
       "std         8.965932       5.119872       1.703572      45.944423\n",
       "min       -31.609576     -26.358598      -0.018144       0.000000\n",
       "25%        -6.298551      -8.267985       1.000021      26.953261\n",
       "50%         1.153055      -4.813172       2.011479      57.085625\n",
       "75%         8.621015      -1.332816       3.999904     107.813044\n",
       "max        29.421755      18.734063       5.019721     137.945408"
      ]
     },
     "execution_count": 9,
     "metadata": {},
     "output_type": "execute_result"
    }
   ],
   "source": [
    "data_1.describe()"
   ]
  },
  {
   "cell_type": "code",
   "execution_count": 10,
   "metadata": {
    "scrolled": true
   },
   "outputs": [
    {
     "data": {
      "text/html": [
       "<div>\n",
       "<style scoped>\n",
       "    .dataframe tbody tr th:only-of-type {\n",
       "        vertical-align: middle;\n",
       "    }\n",
       "\n",
       "    .dataframe tbody tr th {\n",
       "        vertical-align: top;\n",
       "    }\n",
       "\n",
       "    .dataframe thead th {\n",
       "        text-align: right;\n",
       "    }\n",
       "</style>\n",
       "<table border=\"1\" class=\"dataframe\">\n",
       "  <thead>\n",
       "    <tr style=\"text-align: right;\">\n",
       "      <th></th>\n",
       "      <th>id</th>\n",
       "      <th>f0</th>\n",
       "      <th>f1</th>\n",
       "      <th>f2</th>\n",
       "      <th>product</th>\n",
       "    </tr>\n",
       "  </thead>\n",
       "  <tbody>\n",
       "    <tr>\n",
       "      <th>0</th>\n",
       "      <td>kBEdx</td>\n",
       "      <td>-15.001348</td>\n",
       "      <td>-8.276000</td>\n",
       "      <td>-0.005876</td>\n",
       "      <td>3.179103</td>\n",
       "    </tr>\n",
       "    <tr>\n",
       "      <th>1</th>\n",
       "      <td>62mP7</td>\n",
       "      <td>14.272088</td>\n",
       "      <td>-3.475083</td>\n",
       "      <td>0.999183</td>\n",
       "      <td>26.953261</td>\n",
       "    </tr>\n",
       "    <tr>\n",
       "      <th>2</th>\n",
       "      <td>vyE1P</td>\n",
       "      <td>6.263187</td>\n",
       "      <td>-5.948386</td>\n",
       "      <td>5.001160</td>\n",
       "      <td>134.766305</td>\n",
       "    </tr>\n",
       "    <tr>\n",
       "      <th>3</th>\n",
       "      <td>KcrkZ</td>\n",
       "      <td>-13.081196</td>\n",
       "      <td>-11.506057</td>\n",
       "      <td>4.999415</td>\n",
       "      <td>137.945408</td>\n",
       "    </tr>\n",
       "    <tr>\n",
       "      <th>4</th>\n",
       "      <td>AHL4O</td>\n",
       "      <td>12.702195</td>\n",
       "      <td>-8.147433</td>\n",
       "      <td>5.004363</td>\n",
       "      <td>134.766305</td>\n",
       "    </tr>\n",
       "  </tbody>\n",
       "</table>\n",
       "</div>"
      ],
      "text/plain": [
       "      id         f0         f1        f2     product\n",
       "0  kBEdx -15.001348  -8.276000 -0.005876    3.179103\n",
       "1  62mP7  14.272088  -3.475083  0.999183   26.953261\n",
       "2  vyE1P   6.263187  -5.948386  5.001160  134.766305\n",
       "3  KcrkZ -13.081196 -11.506057  4.999415  137.945408\n",
       "4  AHL4O  12.702195  -8.147433  5.004363  134.766305"
      ]
     },
     "execution_count": 10,
     "metadata": {},
     "output_type": "execute_result"
    }
   ],
   "source": [
    "data_1.head()"
   ]
  },
  {
   "cell_type": "code",
   "execution_count": 11,
   "metadata": {},
   "outputs": [
    {
     "data": {
      "text/plain": [
       "8235"
      ]
     },
     "execution_count": 11,
     "metadata": {},
     "output_type": "execute_result"
    }
   ],
   "source": [
    "data_1[data_1['product'] == 0]['product'].count()"
   ]
  },
  {
   "cell_type": "code",
   "execution_count": 12,
   "metadata": {},
   "outputs": [
    {
     "data": {
      "text/plain": [
       "0"
      ]
     },
     "execution_count": 12,
     "metadata": {},
     "output_type": "execute_result"
    }
   ],
   "source": [
    "data_1.duplicated().sum()"
   ]
  },
  {
   "cell_type": "markdown",
   "metadata": {},
   "source": [
    "**Третий регион:**"
   ]
  },
  {
   "cell_type": "code",
   "execution_count": 13,
   "metadata": {},
   "outputs": [
    {
     "name": "stdout",
     "output_type": "stream",
     "text": [
      "<class 'pandas.core.frame.DataFrame'>\n",
      "RangeIndex: 100000 entries, 0 to 99999\n",
      "Data columns (total 5 columns):\n",
      " #   Column   Non-Null Count   Dtype  \n",
      "---  ------   --------------   -----  \n",
      " 0   id       100000 non-null  object \n",
      " 1   f0       100000 non-null  float64\n",
      " 2   f1       100000 non-null  float64\n",
      " 3   f2       100000 non-null  float64\n",
      " 4   product  100000 non-null  float64\n",
      "dtypes: float64(4), object(1)\n",
      "memory usage: 3.8+ MB\n"
     ]
    }
   ],
   "source": [
    "data_2.info()"
   ]
  },
  {
   "cell_type": "code",
   "execution_count": 14,
   "metadata": {},
   "outputs": [
    {
     "data": {
      "text/html": [
       "<div>\n",
       "<style scoped>\n",
       "    .dataframe tbody tr th:only-of-type {\n",
       "        vertical-align: middle;\n",
       "    }\n",
       "\n",
       "    .dataframe tbody tr th {\n",
       "        vertical-align: top;\n",
       "    }\n",
       "\n",
       "    .dataframe thead th {\n",
       "        text-align: right;\n",
       "    }\n",
       "</style>\n",
       "<table border=\"1\" class=\"dataframe\">\n",
       "  <thead>\n",
       "    <tr style=\"text-align: right;\">\n",
       "      <th></th>\n",
       "      <th>f0</th>\n",
       "      <th>f1</th>\n",
       "      <th>f2</th>\n",
       "      <th>product</th>\n",
       "    </tr>\n",
       "  </thead>\n",
       "  <tbody>\n",
       "    <tr>\n",
       "      <th>count</th>\n",
       "      <td>100000.000000</td>\n",
       "      <td>100000.000000</td>\n",
       "      <td>100000.000000</td>\n",
       "      <td>100000.000000</td>\n",
       "    </tr>\n",
       "    <tr>\n",
       "      <th>mean</th>\n",
       "      <td>0.002023</td>\n",
       "      <td>-0.002081</td>\n",
       "      <td>2.495128</td>\n",
       "      <td>95.000000</td>\n",
       "    </tr>\n",
       "    <tr>\n",
       "      <th>std</th>\n",
       "      <td>1.732045</td>\n",
       "      <td>1.730417</td>\n",
       "      <td>3.473445</td>\n",
       "      <td>44.749921</td>\n",
       "    </tr>\n",
       "    <tr>\n",
       "      <th>min</th>\n",
       "      <td>-8.760004</td>\n",
       "      <td>-7.084020</td>\n",
       "      <td>-11.970335</td>\n",
       "      <td>0.000000</td>\n",
       "    </tr>\n",
       "    <tr>\n",
       "      <th>25%</th>\n",
       "      <td>-1.162288</td>\n",
       "      <td>-1.174820</td>\n",
       "      <td>0.130359</td>\n",
       "      <td>59.450441</td>\n",
       "    </tr>\n",
       "    <tr>\n",
       "      <th>50%</th>\n",
       "      <td>0.009424</td>\n",
       "      <td>-0.009482</td>\n",
       "      <td>2.484236</td>\n",
       "      <td>94.925613</td>\n",
       "    </tr>\n",
       "    <tr>\n",
       "      <th>75%</th>\n",
       "      <td>1.158535</td>\n",
       "      <td>1.163678</td>\n",
       "      <td>4.858794</td>\n",
       "      <td>130.595027</td>\n",
       "    </tr>\n",
       "    <tr>\n",
       "      <th>max</th>\n",
       "      <td>7.238262</td>\n",
       "      <td>7.844801</td>\n",
       "      <td>16.739402</td>\n",
       "      <td>190.029838</td>\n",
       "    </tr>\n",
       "  </tbody>\n",
       "</table>\n",
       "</div>"
      ],
      "text/plain": [
       "                  f0             f1             f2        product\n",
       "count  100000.000000  100000.000000  100000.000000  100000.000000\n",
       "mean        0.002023      -0.002081       2.495128      95.000000\n",
       "std         1.732045       1.730417       3.473445      44.749921\n",
       "min        -8.760004      -7.084020     -11.970335       0.000000\n",
       "25%        -1.162288      -1.174820       0.130359      59.450441\n",
       "50%         0.009424      -0.009482       2.484236      94.925613\n",
       "75%         1.158535       1.163678       4.858794     130.595027\n",
       "max         7.238262       7.844801      16.739402     190.029838"
      ]
     },
     "execution_count": 14,
     "metadata": {},
     "output_type": "execute_result"
    }
   ],
   "source": [
    "data_2.describe()"
   ]
  },
  {
   "cell_type": "code",
   "execution_count": 15,
   "metadata": {},
   "outputs": [
    {
     "data": {
      "text/html": [
       "<div>\n",
       "<style scoped>\n",
       "    .dataframe tbody tr th:only-of-type {\n",
       "        vertical-align: middle;\n",
       "    }\n",
       "\n",
       "    .dataframe tbody tr th {\n",
       "        vertical-align: top;\n",
       "    }\n",
       "\n",
       "    .dataframe thead th {\n",
       "        text-align: right;\n",
       "    }\n",
       "</style>\n",
       "<table border=\"1\" class=\"dataframe\">\n",
       "  <thead>\n",
       "    <tr style=\"text-align: right;\">\n",
       "      <th></th>\n",
       "      <th>id</th>\n",
       "      <th>f0</th>\n",
       "      <th>f1</th>\n",
       "      <th>f2</th>\n",
       "      <th>product</th>\n",
       "    </tr>\n",
       "  </thead>\n",
       "  <tbody>\n",
       "    <tr>\n",
       "      <th>0</th>\n",
       "      <td>fwXo0</td>\n",
       "      <td>-1.146987</td>\n",
       "      <td>0.963328</td>\n",
       "      <td>-0.828965</td>\n",
       "      <td>27.758673</td>\n",
       "    </tr>\n",
       "    <tr>\n",
       "      <th>1</th>\n",
       "      <td>WJtFt</td>\n",
       "      <td>0.262778</td>\n",
       "      <td>0.269839</td>\n",
       "      <td>-2.530187</td>\n",
       "      <td>56.069697</td>\n",
       "    </tr>\n",
       "    <tr>\n",
       "      <th>2</th>\n",
       "      <td>ovLUW</td>\n",
       "      <td>0.194587</td>\n",
       "      <td>0.289035</td>\n",
       "      <td>-5.586433</td>\n",
       "      <td>62.871910</td>\n",
       "    </tr>\n",
       "    <tr>\n",
       "      <th>3</th>\n",
       "      <td>q6cA6</td>\n",
       "      <td>2.236060</td>\n",
       "      <td>-0.553760</td>\n",
       "      <td>0.930038</td>\n",
       "      <td>114.572842</td>\n",
       "    </tr>\n",
       "    <tr>\n",
       "      <th>4</th>\n",
       "      <td>WPMUX</td>\n",
       "      <td>-0.515993</td>\n",
       "      <td>1.716266</td>\n",
       "      <td>5.899011</td>\n",
       "      <td>149.600746</td>\n",
       "    </tr>\n",
       "  </tbody>\n",
       "</table>\n",
       "</div>"
      ],
      "text/plain": [
       "      id        f0        f1        f2     product\n",
       "0  fwXo0 -1.146987  0.963328 -0.828965   27.758673\n",
       "1  WJtFt  0.262778  0.269839 -2.530187   56.069697\n",
       "2  ovLUW  0.194587  0.289035 -5.586433   62.871910\n",
       "3  q6cA6  2.236060 -0.553760  0.930038  114.572842\n",
       "4  WPMUX -0.515993  1.716266  5.899011  149.600746"
      ]
     },
     "execution_count": 15,
     "metadata": {},
     "output_type": "execute_result"
    }
   ],
   "source": [
    "data_2.head()"
   ]
  },
  {
   "cell_type": "code",
   "execution_count": 16,
   "metadata": {},
   "outputs": [
    {
     "data": {
      "text/plain": [
       "1"
      ]
     },
     "execution_count": 16,
     "metadata": {},
     "output_type": "execute_result"
    }
   ],
   "source": [
    "data_2[data_2['product'] == 0]['product'].count()"
   ]
  },
  {
   "cell_type": "code",
   "execution_count": 17,
   "metadata": {},
   "outputs": [
    {
     "data": {
      "text/plain": [
       "0"
      ]
     },
     "execution_count": 17,
     "metadata": {},
     "output_type": "execute_result"
    }
   ],
   "source": [
    "data_2.duplicated().sum()"
   ]
  },
  {
   "cell_type": "markdown",
   "metadata": {},
   "source": [
    "В приведенных данных нет пропусков и дубликатов, указаны необходимые типы данных.\n",
    "Необходимо убрать столбец id из-за неинформативности:"
   ]
  },
  {
   "cell_type": "code",
   "execution_count": 18,
   "metadata": {},
   "outputs": [],
   "source": [
    "data_0.drop('id', axis=1, inplace=True)\n",
    "data_1.drop('id', axis=1, inplace=True)\n",
    "data_2.drop('id', axis=1, inplace=True)"
   ]
  },
  {
   "cell_type": "markdown",
   "metadata": {},
   "source": [
    "Также посмотрим также на корреляцию данных:"
   ]
  },
  {
   "cell_type": "code",
   "execution_count": 19,
   "metadata": {},
   "outputs": [
    {
     "data": {
      "image/png": "[encoded data removed]",
      "text/plain": [
       "<Figure size 480x480 with 2 Axes>"
      ]
     },
     "metadata": {
      "needs_background": "light"
     },
     "output_type": "display_data"
    }
   ],
   "source": [
    "plt.figure(figsize=(6,6), dpi= 80)\n",
    "sns.heatmap(data_0.corr(),  cmap='coolwarm', center=0, annot=True)\n",
    "plt.title('Корреляция для первого региона')\n",
    "plt.show()"
   ]
  },
  {
   "cell_type": "markdown",
   "metadata": {},
   "source": [
    "В первом регионе прослеживается средняя отрицательная корреляция между f0 и f1, а также между f1 и целевым признаком (product). Слабо положительно коррелирует f2 с целевым признаком."
   ]
  },
  {
   "cell_type": "code",
   "execution_count": 20,
   "metadata": {},
   "outputs": [
    {
     "data": {
      "image/png": "[encoded data removed]",
      "text/plain": [
       "<Figure size 480x480 with 2 Axes>"
      ]
     },
     "metadata": {
      "needs_background": "light"
     },
     "output_type": "display_data"
    }
   ],
   "source": [
    "plt.figure(figsize=(6,6), dpi= 80)\n",
    "sns.heatmap(data_1.corr(),  cmap='coolwarm', center=0, annot=True)\n",
    "plt.title('Корреляция для второго региона')\n",
    "plt.show()"
   ]
  },
  {
   "cell_type": "markdown",
   "metadata": {},
   "source": [
    "Во втором регионе полностью взаимосвязаны f2 и целевой признак."
   ]
  },
  {
   "cell_type": "code",
   "execution_count": 21,
   "metadata": {},
   "outputs": [
    {
     "data": {
      "image/png": "[encoded data removed]",
      "text/plain": [
       "<Figure size 480x480 with 2 Axes>"
      ]
     },
     "metadata": {
      "needs_background": "light"
     },
     "output_type": "display_data"
    }
   ],
   "source": [
    "plt.figure(figsize=(6,6), dpi= 80)\n",
    "sns.heatmap(data_2.corr(),  cmap='coolwarm', center=0, annot=True)\n",
    "plt.title('Корреляция для третьего региона')\n",
    "plt.show()"
   ]
  },
  {
   "cell_type": "markdown",
   "metadata": {},
   "source": [
    "В третьем регионе прослеживается средняя положительная корреляция между между f2 и целевым признаком.\n",
    "\n",
    "Посмотрим на гистограммы:"
   ]
  },
  {
   "cell_type": "code",
   "execution_count": 22,
   "metadata": {},
   "outputs": [
    {
     "data": {
      "image/png": "[encoded data removed]",
      "text/plain": [
       "<Figure size 864x648 with 4 Axes>"
      ]
     },
     "metadata": {
      "needs_background": "light"
     },
     "output_type": "display_data"
    }
   ],
   "source": [
    "data_0.hist(bins = 50, figsize=[12,9])\n",
    "plt.show()"
   ]
  },
  {
   "cell_type": "code",
   "execution_count": 23,
   "metadata": {},
   "outputs": [
    {
     "data": {
      "image/png": "[encoded data removed]",
      "text/plain": [
       "<Figure size 864x648 with 4 Axes>"
      ]
     },
     "metadata": {
      "needs_background": "light"
     },
     "output_type": "display_data"
    }
   ],
   "source": [
    "data_1.hist(bins = 50, figsize=[12,9])\n",
    "plt.show()"
   ]
  },
  {
   "cell_type": "code",
   "execution_count": 24,
   "metadata": {},
   "outputs": [
    {
     "data": {
      "image/png": "[encoded data removed]",
      "text/plain": [
       "<Figure size 864x648 with 4 Axes>"
      ]
     },
     "metadata": {
      "needs_background": "light"
     },
     "output_type": "display_data"
    }
   ],
   "source": [
    "data_2.hist(bins = 50, figsize=[12,9])\n",
    "plt.show()"
   ]
  },
  {
   "cell_type": "markdown",
   "metadata": {},
   "source": [
    "**Вывод:**\n",
    "1. Были рассмотрены данные, выявлено, что отсутствуют пропуски и дубликаты, тип данных в столбцах указан корректно;\n",
    "2. В таблицах удален столбец id из-за неинформативности;\n",
    "3. В таблицах присутствуют нулевые значения в product, которые либо были утрачены, либо не было изучены данные месторождения на наличие нефти;\n",
    "4. Целевой признак - product;\n",
    "5. Прослеживается положительная корреляция между f2 и product. Для второго региона она равна 1, что может в дальшнейшем сказатьсч на предсказании;\n",
    "6. У первого и третьего региона, согласно гистограммам, распределение скважин близкое к нормальному, в отличие от второго региона. \n",
    "\n",
    "Можно приступать к следующему этапу."
   ]
  },
  {
   "cell_type": "markdown",
   "metadata": {},
   "source": [
    "<div class=\"alert alert-success\">\n",
    "<font size=\"4\"><b>✔️ Комментарий ревьюера</b></font>\n",
    "    <br /> \n",
    "    <font size=\"3\", color = \"black\">\n",
    "<br />    \n",
    "Что мне понравилось:<br>\n",
    "\n",
    "Ты не просто считал данные и разбил на выборки, а сделал базовый их анализ, построил гистограммы и тепловые карты, проверил на повторения id. Супер 👍\n",
    "<br />"
   ]
  },
  {
   "cell_type": "markdown",
   "metadata": {},
   "source": [
    "## Обучение и проверка модели"
   ]
  },
  {
   "cell_type": "markdown",
   "metadata": {},
   "source": [
    "Разобьем наши данные на на обучающую и валидационную выборки в соотношении 75:25 :"
   ]
  },
  {
   "cell_type": "code",
   "execution_count": 25,
   "metadata": {},
   "outputs": [],
   "source": [
    "target_0 = data_0['product']\n",
    "features_0 = data_0.drop('product', axis=1)\n",
    "\n",
    "target_1 = data_1['product']\n",
    "features_1 = data_1.drop('product', axis=1)\n",
    "\n",
    "target_2 = data_2['product']\n",
    "features_2 = data_2.drop('product', axis=1)"
   ]
  },
  {
   "cell_type": "code",
   "execution_count": 26,
   "metadata": {},
   "outputs": [],
   "source": [
    "features_train_0, features_valid_0, target_train_0, target_valid_0 = train_test_split(\n",
    "    features_0, target_0, test_size=0.25, random_state=12345)\n",
    "\n",
    "features_train_1, features_valid_1, target_train_1, target_valid_1 = train_test_split(\n",
    "    features_1, target_1, test_size=0.25, random_state=12345)\n",
    "\n",
    "features_train_2, features_valid_2, target_train_2, target_valid_2 = train_test_split(\n",
    "    features_2, target_2, test_size=0.25, random_state=12345)"
   ]
  },
  {
   "cell_type": "markdown",
   "metadata": {},
   "source": [
    "Обучим модели \"Логическая регрессия\" для каждого региона, сделаем предсказания и оценим качество по RMSE.\n",
    "\n",
    "Начем с **Первого региона:**"
   ]
  },
  {
   "cell_type": "code",
   "execution_count": 27,
   "metadata": {},
   "outputs": [
    {
     "name": "stdout",
     "output_type": "stream",
     "text": [
      "RMSE модели: 37.5794217150813\n",
      "Средний запас предсказанного сырья: 92.59256778438035\n"
     ]
    }
   ],
   "source": [
    "model_0=LinearRegression()\n",
    "model_0.fit(features_train_0,target_train_0)\n",
    "predict_0=model_0.predict(features_valid_0)\n",
    "rmse_0 = mean_squared_error(target_valid_0, predict_0)**0.5\n",
    "print('RMSE модели:', rmse_0)\n",
    "print('Средний запас предсказанного сырья:', predict_0.mean())"
   ]
  },
  {
   "cell_type": "markdown",
   "metadata": {},
   "source": [
    "**Второй регион:**"
   ]
  },
  {
   "cell_type": "code",
   "execution_count": 28,
   "metadata": {},
   "outputs": [
    {
     "name": "stdout",
     "output_type": "stream",
     "text": [
      "RMSE модели: 0.893099286775617\n",
      "Средний запас предсказанного сырья: 68.728546895446\n"
     ]
    }
   ],
   "source": [
    "model_1=LinearRegression()\n",
    "model_1.fit(features_train_1,target_train_1)\n",
    "predict_1=model_1.predict(features_valid_1)\n",
    "rmse_1 = mean_squared_error(target_valid_1, predict_1)**0.5\n",
    "print('RMSE модели:', rmse_1)\n",
    "print('Средний запас предсказанного сырья:', predict_1.mean())"
   ]
  },
  {
   "cell_type": "markdown",
   "metadata": {},
   "source": [
    "**Третий регион:**"
   ]
  },
  {
   "cell_type": "code",
   "execution_count": 29,
   "metadata": {},
   "outputs": [
    {
     "name": "stdout",
     "output_type": "stream",
     "text": [
      "RMSE модели: 40.02970873393434\n",
      "Средний запас предсказанного сырья: 94.96504596800489\n"
     ]
    }
   ],
   "source": [
    "model_2=LinearRegression()\n",
    "model_2.fit(features_train_2,target_train_2)\n",
    "predict_2=model_2.predict(features_valid_2)\n",
    "rmse_2 = mean_squared_error(target_valid_2, predict_2)**0.5\n",
    "print('RMSE модели:', rmse_2)\n",
    "print('Средний запас предсказанного сырья:', predict_2.mean())"
   ]
  },
  {
   "cell_type": "markdown",
   "metadata": {},
   "source": [
    "**Вывод:**\n",
    "1. Наилучший результат RMSE оказался у второго региона, что также можно связать с сильной корреляцией между целевым признаком и признаками точек;\n",
    "2. В первом и втором примерно одинаковый средний запас сырья, который больше, чем у второго региона, однако они уступают второму по RMSE.\n",
    "\n",
    "Переходим к следующему этапу."
   ]
  },
  {
   "cell_type": "markdown",
   "metadata": {},
   "source": [
    "<div class=\"alert alert-success\">\n",
    "<font size=\"4\"><b>✔️ Комментарий ревьюера</b></font>\n",
    "    <br /> \n",
    "    <font size=\"3\", color = \"black\">\n",
    "<br />    \n",
    "Что мне понравилось:<br>\n",
    "\n",
    "Все требования заказчика соблюдены, данные корректно разбиты, модели корректно обучены 👍\n",
    "<br />"
   ]
  },
  {
   "cell_type": "markdown",
   "metadata": {},
   "source": [
    "## Подготовка к расчёту прибыли"
   ]
  },
  {
   "cell_type": "markdown",
   "metadata": {},
   "source": [
    "Укажем ключевые переменные из условий:"
   ]
  },
  {
   "cell_type": "code",
   "execution_count": 30,
   "metadata": {},
   "outputs": [],
   "source": [
    "budget = 10**10 #Бюджет на разработку скважин в регионе\n",
    "income = 450000 #доход \n",
    "income_one = 450\n",
    "risk = 0.025 # допустимый риск\n",
    "chosen_point = 500\n",
    "best_point = 200 #количество вышек для обучения\n",
    "budget_per_point = budget/best_point\n",
    "min_volume = budget/best_point/income #Достаточный объем добычи для безубыточной разработки, тыс.барр\n",
    "\n",
    "#средний запас сырья для каждого региона:\n",
    "product_mean_0 = data_0['product'].mean()\n",
    "product_mean_1 = data_1['product'].mean()\n",
    "product_mean_2 = data_2['product'].mean()"
   ]
  },
  {
   "cell_type": "code",
   "execution_count": 31,
   "metadata": {},
   "outputs": [
    {
     "name": "stdout",
     "output_type": "stream",
     "text": [
      "Достаточный объём сырья для безубыточной разработки новой скважины (тыс. баррелей): 111.11111111111111\n",
      "Средний истинный запас скважины первого региона (тыс. баррелей): 92.50000000000001\n",
      "Средний истинный запас скважины второго региона (тыс. баррелей): 68.82500000000002\n",
      "Средний истинный запас скважины третьего региона (тыс. баррелей): 95.00000000000004\n"
     ]
    }
   ],
   "source": [
    "print('Достаточный объём сырья для безубыточной разработки новой скважины (тыс. баррелей):', min_volume)\n",
    "print('Средний истинный запас скважины первого региона (тыс. баррелей):', product_mean_0)\n",
    "print('Средний истинный запас скважины второго региона (тыс. баррелей):', product_mean_1)\n",
    "print('Средний истинный запас скважины третьего региона (тыс. баррелей):', product_mean_2)"
   ]
  },
  {
   "cell_type": "markdown",
   "metadata": {},
   "source": [
    "**Вывод:**\n",
    "1. Чтобы получать прибыль, нужно будет выбрать скважины с запасами выше 111.11 тыс.баррелей;\n",
    "2. В каждом из регионов средний запас меньше, чем достаточный объём сырья для безубыточной разработки новой скважины."
   ]
  },
  {
   "cell_type": "markdown",
   "metadata": {},
   "source": [
    "<div class=\"alert alert-success\">\n",
    "<font size=\"4\"><b>✔️ Комментарий ревьюера</b></font>\n",
    "    <br /> \n",
    "    <font size=\"3\", color = \"black\">\n",
    "<br />    \n",
    "Расчёт необходимого количества нефти корректен\n",
    "<br />"
   ]
  },
  {
   "cell_type": "markdown",
   "metadata": {},
   "source": [
    "<div class=\"alert alert-info\">\n",
    "<font size=\"4\">🍕<b> Комментарий ревьюера</b></font>\n",
    "    <br /> \n",
    "    <font size=\"3\", color = \"black\">\n",
    "<br /> \n",
    "Вывод стоит дополнить фразой в духе \"именно поэтому мы сейчас применим машинное обучение\" 🙂\n",
    "    </font>\n",
    "\n",
    "</div>"
   ]
  },
  {
   "cell_type": "markdown",
   "metadata": {},
   "source": [
    "## Расчёт прибыли и рисков "
   ]
  },
  {
   "cell_type": "markdown",
   "metadata": {},
   "source": [
    "Напишем **функцию для расчёта прибыли по выбранным скважинам и предсказаниям модели:**"
   ]
  },
  {
   "cell_type": "markdown",
   "metadata": {},
   "source": [
    "Сохраним верные ответы, сбросим индексы:"
   ]
  },
  {
   "cell_type": "code",
   "execution_count": 33,
   "metadata": {},
   "outputs": [],
   "source": [
    "target_0 = target_valid_0.reset_index(drop=True)\n",
    "target_1 = target_valid_1.reset_index(drop=True)\n",
    "target_2 = target_valid_2.reset_index(drop=True)"
   ]
  },
  {
   "cell_type": "markdown",
   "metadata": {},
   "source": [
    "Переведем предсказания в Series:"
   ]
  },
  {
   "cell_type": "code",
   "execution_count": 34,
   "metadata": {},
   "outputs": [],
   "source": [
    "predict_0 = pd.Series(predict_0)\n",
    "predict_1 = pd.Series(predict_1)\n",
    "predict_2 = pd.Series(predict_2)"
   ]
  },
  {
   "cell_type": "markdown",
   "metadata": {},
   "source": [
    "Функция по подсчету прибыли при разработки лучших скважин:"
   ]
  },
  {
   "cell_type": "code",
   "execution_count": 35,
   "metadata": {},
   "outputs": [],
   "source": [
    "def profit_end(target, predict, count):\n",
    "    predict_sorted = predict.sort_values(ascending=False)\n",
    "    selected = target[predict_sorted.index][:count]\n",
    "    return income * selected.sum() - budget"
   ]
  },
  {
   "cell_type": "markdown",
   "metadata": {},
   "source": [
    "Применим к регионам по очередности.\n",
    "Начем с **первого региона:**"
   ]
  },
  {
   "cell_type": "code",
   "execution_count": 36,
   "metadata": {},
   "outputs": [
    {
     "name": "stdout",
     "output_type": "stream",
     "text": [
      "Прибыль первого региона в 200 лучших скважин: 3.321 млрд.рублей\n"
     ]
    }
   ],
   "source": [
    "print('Прибыль первого региона в 200 лучших скважин: {:.3f} млрд.рублей'.format(profit_end(target_0, predict_0, 200) / 10**9))"
   ]
  },
  {
   "cell_type": "markdown",
   "metadata": {},
   "source": [
    "**Второй регион:**"
   ]
  },
  {
   "cell_type": "code",
   "execution_count": 37,
   "metadata": {},
   "outputs": [
    {
     "name": "stdout",
     "output_type": "stream",
     "text": [
      "Прибыль второго региона в 200 лучших скважин: 2.415 млрд.рублей\n"
     ]
    }
   ],
   "source": [
    "print('Прибыль второго региона в 200 лучших скважин: {:.3f} млрд.рублей'.format(profit_end(target_1, predict_1, 200) / 10**9))"
   ]
  },
  {
   "cell_type": "markdown",
   "metadata": {},
   "source": [
    "**Третий регион:**"
   ]
  },
  {
   "cell_type": "code",
   "execution_count": 38,
   "metadata": {},
   "outputs": [
    {
     "name": "stdout",
     "output_type": "stream",
     "text": [
      "Прибыль второго региона в 200 лучших скважин: 2.710 млрд.рублей\n"
     ]
    }
   ],
   "source": [
    "print('Прибыль второго региона в 200 лучших скважин: {:.3f} млрд.рублей'.format(profit_end(target_2, predict_2, 200) / 10**9))"
   ]
  },
  {
   "cell_type": "markdown",
   "metadata": {},
   "source": [
    "Все представленные регионы могут быть прибыльными, поэтому посчитаем риски и прибыль для каждого региона."
   ]
  },
  {
   "cell_type": "code",
   "execution_count": 39,
   "metadata": {},
   "outputs": [],
   "source": [
    "state = np.random.RandomState(12345)"
   ]
  },
  {
   "cell_type": "markdown",
   "metadata": {},
   "source": [
    "Согласно условию необходимо исследовать 500 скважин, а также 200 лучших из них. Напишем функцию, применив технику Bootstrap с 1000 выборок, чтобы найти распределение прибыли. "
   ]
  },
  {
   "cell_type": "code",
   "execution_count": 42,
   "metadata": {},
   "outputs": [],
   "source": [
    "def bootstrap_1000 (target, predictions):\n",
    "    values = []\n",
    "    for i in range(1000):\n",
    "        target_subsample = target.reset_index(drop=True).sample(n=500, replace=True, random_state=state)\n",
    "        pred_subsample = predictions[target_subsample.index]\n",
    "        values.append(profit_end(target_subsample, pred_subsample, 200))\n",
    "    \n",
    "    values = pd.Series(values)\n",
    "    \n",
    "    confidence_interval = st.t.interval(0.95, len(values)-1, values.mean(), values.sem())\n",
    "    mean = values.mean()\n",
    "    lower = values.quantile(0.025)\n",
    "    high = values.quantile(0.975)\n",
    "\n",
    "    print(\"Средняя прибыль региона: {:.3f} млрд.рублей\".format(mean / 10**9))\n",
    "    print(\"2,5%-квантиль: {:.3f} млрд.рублей\".format(lower / 10**9))\n",
    "    print(\"97,5%-квантиль: {:.3f} млрд.рублей\".format(high / 10**9))\n",
    "    print(\"Доверительный интервал: \", confidence_interval)\n",
    "    print(\"Риск убытка:\", (values < 0).mean())"
   ]
  },
  {
   "cell_type": "markdown",
   "metadata": {},
   "source": [
    "**Распределение для первого региона:**"
   ]
  },
  {
   "cell_type": "code",
   "execution_count": 43,
   "metadata": {},
   "outputs": [
    {
     "name": "stdout",
     "output_type": "stream",
     "text": [
      "Средняя прибыль региона: 0.422 млрд.рублей\n",
      "2,5%-квантиль: -0.119 млрд.рублей\n",
      "97,5%-квантиль: 0.947 млрд.рублей\n",
      "Доверительный интервал:  (404166557.9298843, 438960054.4054773)\n",
      "Риск убытка: 0.06\n"
     ]
    }
   ],
   "source": [
    "bootstrap_1000(target_0,predict_0)"
   ]
  },
  {
   "cell_type": "markdown",
   "metadata": {},
   "source": [
    "**Распределение для второго региона:**"
   ]
  },
  {
   "cell_type": "code",
   "execution_count": 44,
   "metadata": {},
   "outputs": [
    {
     "name": "stdout",
     "output_type": "stream",
     "text": [
      "Средняя прибыль региона: 0.507 млрд.рублей\n",
      "2,5%-квантиль: 0.110 млрд.рублей\n",
      "97,5%-квантиль: 0.940 млрд.рублей\n",
      "Доверительный интервал:  (493827802.4884663, 519800775.50942713)\n",
      "Риск убытка: 0.008\n"
     ]
    }
   ],
   "source": [
    "bootstrap_1000(target_1,predict_1)"
   ]
  },
  {
   "cell_type": "markdown",
   "metadata": {},
   "source": [
    "**Распределение для третьего региона:**"
   ]
  },
  {
   "cell_type": "code",
   "execution_count": 45,
   "metadata": {},
   "outputs": [
    {
     "name": "stdout",
     "output_type": "stream",
     "text": [
      "Средняя прибыль региона: 0.424 млрд.рублей\n",
      "2,5%-квантиль: -0.095 млрд.рублей\n",
      "97,5%-квантиль: 0.933 млрд.рублей\n",
      "Доверительный интервал:  (407022304.13358635, 441402672.0647331)\n",
      "Риск убытка: 0.049\n"
     ]
    }
   ],
   "source": [
    "bootstrap_1000(target_2,predict_2)"
   ]
  },
  {
   "cell_type": "markdown",
   "metadata": {},
   "source": [
    "**Вывод:**\n",
    "Согласно распределению среднего прибыли с региона самым прибыльным оказался второй регион. Также он единственный, кто не превысил пороговую вероятностью убытков в 2.5%."
   ]
  },
  {
   "cell_type": "markdown",
   "metadata": {},
   "source": [
    "## Общий вывод\n",
    "\n",
    "\n",
    "1. Были изучены и скорректированы данные;\n",
    "2. Сделана разбивка данных на на обучающую и валидационную выборки;\n",
    "3. Обучены модели и выполнены предсказания с помощью линейной регрессии для каждого массива данных, применена техника bootstrap для каждого региона по 1000 выборок;\n",
    "4. Было выявлено, что лучшим регионом для потенциальной разработки являтся второй, имеющий самую низкую вероятность убытков (0.3%), а также более узкий довериретльный потенциал, то есть более высокую средную прибыль."
   ]
  }
 ],
 "metadata": {
  "ExecuteTimeLog": [
   {
    "duration": 66,
    "start_time": "2022-12-23T12:32:23.596Z"
   },
   {
    "duration": 1721,
    "start_time": "2022-12-23T12:32:31.767Z"
   },
   {
    "duration": 79,
    "start_time": "2022-12-23T12:32:33.490Z"
   },
   {
    "duration": 0,
    "start_time": "2022-12-23T12:32:33.571Z"
   },
   {
    "duration": 1900,
    "start_time": "2022-12-23T12:33:15.787Z"
   },
   {
    "duration": 56,
    "start_time": "2022-12-23T12:52:02.928Z"
   },
   {
    "duration": 42,
    "start_time": "2022-12-23T12:52:28.529Z"
   },
   {
    "duration": 218,
    "start_time": "2022-12-23T12:53:21.674Z"
   },
   {
    "duration": 161,
    "start_time": "2022-12-23T12:53:30.879Z"
   },
   {
    "duration": 105,
    "start_time": "2022-12-23T12:57:27.794Z"
   },
   {
    "duration": 46,
    "start_time": "2022-12-23T12:58:05.570Z"
   },
   {
    "duration": 50,
    "start_time": "2022-12-23T12:58:06.560Z"
   },
   {
    "duration": 38,
    "start_time": "2022-12-23T12:58:10.011Z"
   },
   {
    "duration": 13,
    "start_time": "2022-12-23T12:58:36.174Z"
   },
   {
    "duration": 16,
    "start_time": "2022-12-23T12:58:36.769Z"
   },
   {
    "duration": 17,
    "start_time": "2022-12-23T12:58:37.465Z"
   },
   {
    "duration": 81,
    "start_time": "2022-12-23T13:00:09.988Z"
   },
   {
    "duration": 12,
    "start_time": "2022-12-23T13:00:17.567Z"
   },
   {
    "duration": 1530,
    "start_time": "2022-12-23T13:00:47.287Z"
   },
   {
    "duration": 506,
    "start_time": "2022-12-23T13:00:48.819Z"
   },
   {
    "duration": 67,
    "start_time": "2022-12-23T13:00:49.327Z"
   },
   {
    "duration": 27,
    "start_time": "2022-12-23T13:00:49.398Z"
   },
   {
    "duration": 80,
    "start_time": "2022-12-23T13:00:49.428Z"
   },
   {
    "duration": 12,
    "start_time": "2022-12-23T13:00:49.510Z"
   },
   {
    "duration": 116,
    "start_time": "2022-12-23T13:00:49.525Z"
   },
   {
    "duration": 17,
    "start_time": "2022-12-23T13:00:49.644Z"
   },
   {
    "duration": 85,
    "start_time": "2022-12-23T13:00:49.668Z"
   },
   {
    "duration": 70,
    "start_time": "2022-12-23T13:00:49.756Z"
   },
   {
    "duration": 125,
    "start_time": "2022-12-23T13:04:44.879Z"
   },
   {
    "duration": 24,
    "start_time": "2022-12-23T13:04:55.195Z"
   },
   {
    "duration": 1523,
    "start_time": "2022-12-23T13:05:05.986Z"
   },
   {
    "duration": 440,
    "start_time": "2022-12-23T13:05:07.511Z"
   },
   {
    "duration": 55,
    "start_time": "2022-12-23T13:05:07.953Z"
   },
   {
    "duration": 14,
    "start_time": "2022-12-23T13:05:08.010Z"
   },
   {
    "duration": 69,
    "start_time": "2022-12-23T13:05:08.026Z"
   },
   {
    "duration": 10,
    "start_time": "2022-12-23T13:05:08.097Z"
   },
   {
    "duration": 70,
    "start_time": "2022-12-23T13:05:08.109Z"
   },
   {
    "duration": 10,
    "start_time": "2022-12-23T13:05:08.182Z"
   },
   {
    "duration": 58,
    "start_time": "2022-12-23T13:05:08.194Z"
   },
   {
    "duration": 12,
    "start_time": "2022-12-23T13:05:08.254Z"
   },
   {
    "duration": 125,
    "start_time": "2022-12-23T13:05:52.711Z"
   },
   {
    "duration": 1582,
    "start_time": "2022-12-23T13:05:59.431Z"
   },
   {
    "duration": 455,
    "start_time": "2022-12-23T13:06:01.015Z"
   },
   {
    "duration": 44,
    "start_time": "2022-12-23T13:06:01.472Z"
   },
   {
    "duration": 42,
    "start_time": "2022-12-23T13:06:01.519Z"
   },
   {
    "duration": 70,
    "start_time": "2022-12-23T13:06:01.564Z"
   },
   {
    "duration": 19,
    "start_time": "2022-12-23T13:06:01.636Z"
   },
   {
    "duration": 69,
    "start_time": "2022-12-23T13:06:01.657Z"
   },
   {
    "duration": 10,
    "start_time": "2022-12-23T13:06:01.728Z"
   },
   {
    "duration": 80,
    "start_time": "2022-12-23T13:06:01.740Z"
   },
   {
    "duration": 15,
    "start_time": "2022-12-23T13:06:01.822Z"
   },
   {
    "duration": 136,
    "start_time": "2022-12-23T13:06:31.723Z"
   },
   {
    "duration": 1576,
    "start_time": "2022-12-23T13:06:39.632Z"
   },
   {
    "duration": 455,
    "start_time": "2022-12-23T13:06:41.210Z"
   },
   {
    "duration": 44,
    "start_time": "2022-12-23T13:06:41.668Z"
   },
   {
    "duration": 15,
    "start_time": "2022-12-23T13:06:41.714Z"
   },
   {
    "duration": 92,
    "start_time": "2022-12-23T13:06:41.730Z"
   },
   {
    "duration": 11,
    "start_time": "2022-12-23T13:06:41.824Z"
   },
   {
    "duration": 57,
    "start_time": "2022-12-23T13:06:41.852Z"
   },
   {
    "duration": 10,
    "start_time": "2022-12-23T13:06:41.911Z"
   },
   {
    "duration": 90,
    "start_time": "2022-12-23T13:06:41.923Z"
   },
   {
    "duration": 14,
    "start_time": "2022-12-23T13:06:42.016Z"
   },
   {
    "duration": 153,
    "start_time": "2022-12-23T13:10:29.042Z"
   },
   {
    "duration": 1484,
    "start_time": "2022-12-23T13:10:34.578Z"
   },
   {
    "duration": 463,
    "start_time": "2022-12-23T13:10:36.064Z"
   },
   {
    "duration": 56,
    "start_time": "2022-12-23T13:10:36.529Z"
   },
   {
    "duration": 23,
    "start_time": "2022-12-23T13:10:36.588Z"
   },
   {
    "duration": 74,
    "start_time": "2022-12-23T13:10:36.613Z"
   },
   {
    "duration": 14,
    "start_time": "2022-12-23T13:10:36.689Z"
   },
   {
    "duration": 87,
    "start_time": "2022-12-23T13:10:36.706Z"
   },
   {
    "duration": 10,
    "start_time": "2022-12-23T13:10:36.795Z"
   },
   {
    "duration": 74,
    "start_time": "2022-12-23T13:10:36.807Z"
   },
   {
    "duration": 14,
    "start_time": "2022-12-23T13:10:36.884Z"
   },
   {
    "duration": 131,
    "start_time": "2022-12-23T13:20:17.407Z"
   },
   {
    "duration": 1531,
    "start_time": "2022-12-23T13:20:24.408Z"
   },
   {
    "duration": 502,
    "start_time": "2022-12-23T13:20:25.941Z"
   },
   {
    "duration": 61,
    "start_time": "2022-12-23T13:20:26.446Z"
   },
   {
    "duration": 20,
    "start_time": "2022-12-23T13:20:26.510Z"
   },
   {
    "duration": 94,
    "start_time": "2022-12-23T13:20:26.533Z"
   },
   {
    "duration": 30,
    "start_time": "2022-12-23T13:20:26.629Z"
   },
   {
    "duration": 70,
    "start_time": "2022-12-23T13:20:26.662Z"
   },
   {
    "duration": 28,
    "start_time": "2022-12-23T13:20:26.734Z"
   },
   {
    "duration": 88,
    "start_time": "2022-12-23T13:20:26.765Z"
   },
   {
    "duration": 17,
    "start_time": "2022-12-23T13:20:26.856Z"
   },
   {
    "duration": 1465,
    "start_time": "2022-12-23T13:43:43.968Z"
   },
   {
    "duration": 473,
    "start_time": "2022-12-23T13:43:45.436Z"
   },
   {
    "duration": 16,
    "start_time": "2022-12-23T13:43:45.911Z"
   },
   {
    "duration": 75,
    "start_time": "2022-12-23T13:43:45.929Z"
   },
   {
    "duration": 11,
    "start_time": "2022-12-23T13:43:46.006Z"
   },
   {
    "duration": 77,
    "start_time": "2022-12-23T13:43:46.019Z"
   },
   {
    "duration": 16,
    "start_time": "2022-12-23T13:43:46.098Z"
   },
   {
    "duration": 56,
    "start_time": "2022-12-23T13:43:46.116Z"
   },
   {
    "duration": 12,
    "start_time": "2022-12-23T13:43:46.174Z"
   },
   {
    "duration": 72,
    "start_time": "2022-12-23T13:43:46.189Z"
   },
   {
    "duration": 19,
    "start_time": "2022-12-23T13:43:46.269Z"
   },
   {
    "duration": 46,
    "start_time": "2022-12-23T13:43:46.290Z"
   },
   {
    "duration": 25,
    "start_time": "2022-12-23T13:43:46.338Z"
   },
   {
    "duration": 59,
    "start_time": "2022-12-23T13:43:46.365Z"
   },
   {
    "duration": 36,
    "start_time": "2022-12-23T13:43:46.427Z"
   },
   {
    "duration": 10,
    "start_time": "2022-12-23T13:45:58.288Z"
   },
   {
    "duration": 1446,
    "start_time": "2022-12-23T13:46:42.751Z"
   },
   {
    "duration": 442,
    "start_time": "2022-12-23T13:46:44.199Z"
   },
   {
    "duration": 25,
    "start_time": "2022-12-23T13:46:44.643Z"
   },
   {
    "duration": 65,
    "start_time": "2022-12-23T13:46:44.671Z"
   },
   {
    "duration": 28,
    "start_time": "2022-12-23T13:46:44.738Z"
   },
   {
    "duration": 66,
    "start_time": "2022-12-23T13:46:44.774Z"
   },
   {
    "duration": 26,
    "start_time": "2022-12-23T13:46:44.843Z"
   },
   {
    "duration": 46,
    "start_time": "2022-12-23T13:46:44.872Z"
   },
   {
    "duration": 11,
    "start_time": "2022-12-23T13:46:44.920Z"
   },
   {
    "duration": 80,
    "start_time": "2022-12-23T13:46:44.935Z"
   },
   {
    "duration": 33,
    "start_time": "2022-12-23T13:46:45.018Z"
   },
   {
    "duration": 64,
    "start_time": "2022-12-23T13:46:45.053Z"
   },
   {
    "duration": 10,
    "start_time": "2022-12-23T13:46:45.119Z"
   },
   {
    "duration": 87,
    "start_time": "2022-12-23T13:46:45.131Z"
   },
   {
    "duration": 14,
    "start_time": "2022-12-23T13:46:45.220Z"
   },
   {
    "duration": 1522,
    "start_time": "2022-12-23T14:11:34.213Z"
   },
   {
    "duration": 474,
    "start_time": "2022-12-23T14:11:35.737Z"
   },
   {
    "duration": 24,
    "start_time": "2022-12-23T14:11:36.213Z"
   },
   {
    "duration": 68,
    "start_time": "2022-12-23T14:11:36.239Z"
   },
   {
    "duration": 13,
    "start_time": "2022-12-23T14:11:36.310Z"
   },
   {
    "duration": 105,
    "start_time": "2022-12-23T14:11:36.325Z"
   },
   {
    "duration": 16,
    "start_time": "2022-12-23T14:11:36.432Z"
   },
   {
    "duration": 70,
    "start_time": "2022-12-23T14:11:36.450Z"
   },
   {
    "duration": 13,
    "start_time": "2022-12-23T14:11:36.522Z"
   },
   {
    "duration": 70,
    "start_time": "2022-12-23T14:11:36.537Z"
   },
   {
    "duration": 19,
    "start_time": "2022-12-23T14:11:36.609Z"
   },
   {
    "duration": 81,
    "start_time": "2022-12-23T14:11:36.630Z"
   },
   {
    "duration": 12,
    "start_time": "2022-12-23T14:11:36.713Z"
   },
   {
    "duration": 69,
    "start_time": "2022-12-23T14:11:36.727Z"
   },
   {
    "duration": 14,
    "start_time": "2022-12-23T14:11:36.798Z"
   },
   {
    "duration": 149,
    "start_time": "2022-12-23T14:16:12.212Z"
   },
   {
    "duration": 1599,
    "start_time": "2022-12-23T14:16:16.724Z"
   },
   {
    "duration": 457,
    "start_time": "2022-12-23T14:16:18.327Z"
   },
   {
    "duration": 19,
    "start_time": "2022-12-23T14:16:18.785Z"
   },
   {
    "duration": 67,
    "start_time": "2022-12-23T14:16:18.806Z"
   },
   {
    "duration": 12,
    "start_time": "2022-12-23T14:16:18.875Z"
   },
   {
    "duration": 90,
    "start_time": "2022-12-23T14:16:18.889Z"
   },
   {
    "duration": 29,
    "start_time": "2022-12-23T14:16:18.981Z"
   },
   {
    "duration": 94,
    "start_time": "2022-12-23T14:16:19.012Z"
   },
   {
    "duration": 47,
    "start_time": "2022-12-23T14:16:19.109Z"
   },
   {
    "duration": 107,
    "start_time": "2022-12-23T14:16:19.159Z"
   },
   {
    "duration": 27,
    "start_time": "2022-12-23T14:16:19.268Z"
   },
   {
    "duration": 79,
    "start_time": "2022-12-23T14:16:19.296Z"
   },
   {
    "duration": 20,
    "start_time": "2022-12-23T14:16:19.377Z"
   },
   {
    "duration": 135,
    "start_time": "2022-12-23T14:16:19.400Z"
   },
   {
    "duration": 61,
    "start_time": "2022-12-23T14:16:19.537Z"
   },
   {
    "duration": 122,
    "start_time": "2022-12-23T14:41:31.813Z"
   },
   {
    "duration": 10,
    "start_time": "2022-12-23T14:41:43.795Z"
   },
   {
    "duration": 92,
    "start_time": "2022-12-23T14:42:24.904Z"
   },
   {
    "duration": 1263,
    "start_time": "2022-12-23T14:42:32.507Z"
   },
   {
    "duration": 7,
    "start_time": "2022-12-23T14:42:37.673Z"
   },
   {
    "duration": 4,
    "start_time": "2022-12-23T14:42:42.894Z"
   },
   {
    "duration": 596,
    "start_time": "2022-12-23T14:43:03.051Z"
   },
   {
    "duration": 7,
    "start_time": "2022-12-23T14:43:11.622Z"
   },
   {
    "duration": 9,
    "start_time": "2022-12-23T14:43:30.907Z"
   },
   {
    "duration": 11,
    "start_time": "2022-12-23T14:43:54.207Z"
   },
   {
    "duration": 19,
    "start_time": "2022-12-23T14:45:35.607Z"
   },
   {
    "duration": 1565,
    "start_time": "2022-12-23T14:45:55.776Z"
   },
   {
    "duration": 525,
    "start_time": "2022-12-23T14:45:57.344Z"
   },
   {
    "duration": 23,
    "start_time": "2022-12-23T14:45:57.871Z"
   },
   {
    "duration": 74,
    "start_time": "2022-12-23T14:45:57.898Z"
   },
   {
    "duration": 10,
    "start_time": "2022-12-23T14:45:57.975Z"
   },
   {
    "duration": 11,
    "start_time": "2022-12-23T14:45:57.987Z"
   },
   {
    "duration": 84,
    "start_time": "2022-12-23T14:45:58.000Z"
   },
   {
    "duration": 16,
    "start_time": "2022-12-23T14:45:58.085Z"
   },
   {
    "duration": 73,
    "start_time": "2022-12-23T14:45:58.103Z"
   },
   {
    "duration": 12,
    "start_time": "2022-12-23T14:45:58.178Z"
   },
   {
    "duration": 27,
    "start_time": "2022-12-23T14:45:58.192Z"
   },
   {
    "duration": 63,
    "start_time": "2022-12-23T14:45:58.222Z"
   },
   {
    "duration": 23,
    "start_time": "2022-12-23T14:45:58.287Z"
   },
   {
    "duration": 64,
    "start_time": "2022-12-23T14:45:58.313Z"
   },
   {
    "duration": 10,
    "start_time": "2022-12-23T14:45:58.379Z"
   },
   {
    "duration": 25,
    "start_time": "2022-12-23T14:45:58.391Z"
   },
   {
    "duration": 79,
    "start_time": "2022-12-23T14:45:58.418Z"
   },
   {
    "duration": 12,
    "start_time": "2022-12-23T14:45:58.499Z"
   },
   {
    "duration": 411,
    "start_time": "2022-12-23T14:45:58.513Z"
   },
   {
    "duration": 373,
    "start_time": "2022-12-23T14:47:06.739Z"
   },
   {
    "duration": 361,
    "start_time": "2022-12-23T14:47:10.699Z"
   },
   {
    "duration": 348,
    "start_time": "2022-12-23T14:50:24.471Z"
   },
   {
    "duration": 499,
    "start_time": "2022-12-23T14:53:08.980Z"
   },
   {
    "duration": 1701,
    "start_time": "2022-12-23T14:53:53.695Z"
   },
   {
    "duration": 492,
    "start_time": "2022-12-23T14:53:55.398Z"
   },
   {
    "duration": 18,
    "start_time": "2022-12-23T14:53:55.892Z"
   },
   {
    "duration": 78,
    "start_time": "2022-12-23T14:53:55.912Z"
   },
   {
    "duration": 10,
    "start_time": "2022-12-23T14:53:55.992Z"
   },
   {
    "duration": 26,
    "start_time": "2022-12-23T14:53:56.004Z"
   },
   {
    "duration": 76,
    "start_time": "2022-12-23T14:53:56.032Z"
   },
   {
    "duration": 15,
    "start_time": "2022-12-23T14:53:56.110Z"
   },
   {
    "duration": 73,
    "start_time": "2022-12-23T14:53:56.126Z"
   },
   {
    "duration": 40,
    "start_time": "2022-12-23T14:53:56.200Z"
   },
   {
    "duration": 53,
    "start_time": "2022-12-23T14:53:56.242Z"
   },
   {
    "duration": 87,
    "start_time": "2022-12-23T14:53:56.298Z"
   },
   {
    "duration": 20,
    "start_time": "2022-12-23T14:53:56.387Z"
   },
   {
    "duration": 51,
    "start_time": "2022-12-23T14:53:56.410Z"
   },
   {
    "duration": 13,
    "start_time": "2022-12-23T14:53:56.463Z"
   },
   {
    "duration": 31,
    "start_time": "2022-12-23T14:53:56.478Z"
   },
   {
    "duration": 87,
    "start_time": "2022-12-23T14:53:56.510Z"
   },
   {
    "duration": 16,
    "start_time": "2022-12-23T14:53:56.599Z"
   },
   {
    "duration": 431,
    "start_time": "2022-12-23T14:53:56.617Z"
   },
   {
    "duration": 385,
    "start_time": "2022-12-23T14:53:57.049Z"
   },
   {
    "duration": 388,
    "start_time": "2022-12-23T14:53:57.436Z"
   },
   {
    "duration": 383,
    "start_time": "2022-12-23T14:58:14.696Z"
   },
   {
    "duration": 497,
    "start_time": "2022-12-23T14:58:23.736Z"
   },
   {
    "duration": 451,
    "start_time": "2022-12-23T14:58:29.878Z"
   },
   {
    "duration": 378,
    "start_time": "2022-12-23T15:14:24.535Z"
   },
   {
    "duration": 401,
    "start_time": "2022-12-23T15:14:33.412Z"
   },
   {
    "duration": 134,
    "start_time": "2022-12-23T15:17:17.468Z"
   },
   {
    "duration": 1847,
    "start_time": "2022-12-23T15:17:38.482Z"
   },
   {
    "duration": 579,
    "start_time": "2022-12-23T15:17:40.331Z"
   },
   {
    "duration": 17,
    "start_time": "2022-12-23T15:17:40.912Z"
   },
   {
    "duration": 77,
    "start_time": "2022-12-23T15:17:40.930Z"
   },
   {
    "duration": 13,
    "start_time": "2022-12-23T15:17:41.011Z"
   },
   {
    "duration": 41,
    "start_time": "2022-12-23T15:17:41.026Z"
   },
   {
    "duration": 122,
    "start_time": "2022-12-23T15:17:41.069Z"
   },
   {
    "duration": 17,
    "start_time": "2022-12-23T15:17:41.193Z"
   },
   {
    "duration": 59,
    "start_time": "2022-12-23T15:17:41.212Z"
   },
   {
    "duration": 25,
    "start_time": "2022-12-23T15:17:41.272Z"
   },
   {
    "duration": 24,
    "start_time": "2022-12-23T15:17:41.300Z"
   },
   {
    "duration": 90,
    "start_time": "2022-12-23T15:17:41.326Z"
   },
   {
    "duration": 19,
    "start_time": "2022-12-23T15:17:41.418Z"
   },
   {
    "duration": 60,
    "start_time": "2022-12-23T15:17:41.440Z"
   },
   {
    "duration": 59,
    "start_time": "2022-12-23T15:17:41.501Z"
   },
   {
    "duration": 45,
    "start_time": "2022-12-23T15:17:41.567Z"
   },
   {
    "duration": 84,
    "start_time": "2022-12-23T15:17:41.614Z"
   },
   {
    "duration": 13,
    "start_time": "2022-12-23T15:17:41.701Z"
   },
   {
    "duration": 427,
    "start_time": "2022-12-23T15:17:41.716Z"
   },
   {
    "duration": 366,
    "start_time": "2022-12-23T15:17:42.151Z"
   },
   {
    "duration": 389,
    "start_time": "2022-12-23T15:17:42.519Z"
   },
   {
    "duration": 392,
    "start_time": "2022-12-23T15:17:52.449Z"
   },
   {
    "duration": 435,
    "start_time": "2022-12-23T15:18:00.898Z"
   },
   {
    "duration": 402,
    "start_time": "2022-12-23T15:18:09.121Z"
   },
   {
    "duration": 1860,
    "start_time": "2022-12-24T05:42:57.671Z"
   },
   {
    "duration": 1998,
    "start_time": "2022-12-24T05:42:59.533Z"
   },
   {
    "duration": 27,
    "start_time": "2022-12-24T05:43:01.533Z"
   },
   {
    "duration": 75,
    "start_time": "2022-12-24T05:43:01.562Z"
   },
   {
    "duration": 10,
    "start_time": "2022-12-24T05:43:01.640Z"
   },
   {
    "duration": 34,
    "start_time": "2022-12-24T05:43:01.652Z"
   },
   {
    "duration": 70,
    "start_time": "2022-12-24T05:43:01.687Z"
   },
   {
    "duration": 26,
    "start_time": "2022-12-24T05:43:01.759Z"
   },
   {
    "duration": 39,
    "start_time": "2022-12-24T05:43:01.786Z"
   },
   {
    "duration": 47,
    "start_time": "2022-12-24T05:43:01.827Z"
   },
   {
    "duration": 16,
    "start_time": "2022-12-24T05:43:01.876Z"
   },
   {
    "duration": 56,
    "start_time": "2022-12-24T05:43:01.894Z"
   },
   {
    "duration": 28,
    "start_time": "2022-12-24T05:43:01.960Z"
   },
   {
    "duration": 40,
    "start_time": "2022-12-24T05:43:01.991Z"
   },
   {
    "duration": 25,
    "start_time": "2022-12-24T05:43:02.033Z"
   },
   {
    "duration": 27,
    "start_time": "2022-12-24T05:43:02.060Z"
   },
   {
    "duration": 55,
    "start_time": "2022-12-24T05:43:02.089Z"
   },
   {
    "duration": 22,
    "start_time": "2022-12-24T05:43:02.146Z"
   },
   {
    "duration": 451,
    "start_time": "2022-12-24T05:43:02.171Z"
   },
   {
    "duration": 369,
    "start_time": "2022-12-24T05:43:02.624Z"
   },
   {
    "duration": 346,
    "start_time": "2022-12-24T05:43:02.994Z"
   },
   {
    "duration": 35,
    "start_time": "2022-12-24T05:43:03.342Z"
   },
   {
    "duration": 37,
    "start_time": "2022-12-24T05:43:03.380Z"
   },
   {
    "duration": 9,
    "start_time": "2022-12-24T05:43:49.093Z"
   },
   {
    "duration": 407,
    "start_time": "2022-12-24T05:53:01.813Z"
   },
   {
    "duration": 506,
    "start_time": "2022-12-24T05:53:16.121Z"
   },
   {
    "duration": 1609,
    "start_time": "2022-12-24T05:53:22.052Z"
   },
   {
    "duration": 500,
    "start_time": "2022-12-24T05:53:23.663Z"
   },
   {
    "duration": 24,
    "start_time": "2022-12-24T05:53:24.172Z"
   },
   {
    "duration": 123,
    "start_time": "2022-12-24T05:53:24.199Z"
   },
   {
    "duration": 12,
    "start_time": "2022-12-24T05:53:24.324Z"
   },
   {
    "duration": 56,
    "start_time": "2022-12-24T05:53:24.338Z"
   },
   {
    "duration": 94,
    "start_time": "2022-12-24T05:53:24.396Z"
   },
   {
    "duration": 18,
    "start_time": "2022-12-24T05:53:24.492Z"
   },
   {
    "duration": 89,
    "start_time": "2022-12-24T05:53:24.512Z"
   },
   {
    "duration": 24,
    "start_time": "2022-12-24T05:53:24.603Z"
   },
   {
    "duration": 47,
    "start_time": "2022-12-24T05:53:24.629Z"
   },
   {
    "duration": 118,
    "start_time": "2022-12-24T05:53:24.678Z"
   },
   {
    "duration": 27,
    "start_time": "2022-12-24T05:53:24.798Z"
   },
   {
    "duration": 104,
    "start_time": "2022-12-24T05:53:24.828Z"
   },
   {
    "duration": 13,
    "start_time": "2022-12-24T05:53:24.934Z"
   },
   {
    "duration": 41,
    "start_time": "2022-12-24T05:53:24.950Z"
   },
   {
    "duration": 73,
    "start_time": "2022-12-24T05:53:24.993Z"
   },
   {
    "duration": 14,
    "start_time": "2022-12-24T05:53:25.067Z"
   },
   {
    "duration": 443,
    "start_time": "2022-12-24T05:53:25.084Z"
   },
   {
    "duration": 377,
    "start_time": "2022-12-24T05:53:25.530Z"
   },
   {
    "duration": 415,
    "start_time": "2022-12-24T05:53:25.908Z"
   },
   {
    "duration": 10,
    "start_time": "2022-12-24T05:53:26.325Z"
   },
   {
    "duration": 61,
    "start_time": "2022-12-24T05:53:26.337Z"
   },
   {
    "duration": 173,
    "start_time": "2022-12-24T05:58:21.987Z"
   },
   {
    "duration": 1571,
    "start_time": "2022-12-24T05:59:25.666Z"
   },
   {
    "duration": 487,
    "start_time": "2022-12-24T05:59:27.240Z"
   },
   {
    "duration": 35,
    "start_time": "2022-12-24T05:59:27.729Z"
   },
   {
    "duration": 45,
    "start_time": "2022-12-24T05:59:27.770Z"
   },
   {
    "duration": 11,
    "start_time": "2022-12-24T05:59:27.818Z"
   },
   {
    "duration": 27,
    "start_time": "2022-12-24T05:59:27.831Z"
   },
   {
    "duration": 61,
    "start_time": "2022-12-24T05:59:27.860Z"
   },
   {
    "duration": 16,
    "start_time": "2022-12-24T05:59:27.923Z"
   },
   {
    "duration": 48,
    "start_time": "2022-12-24T05:59:27.952Z"
   },
   {
    "duration": 11,
    "start_time": "2022-12-24T05:59:28.001Z"
   },
   {
    "duration": 8,
    "start_time": "2022-12-24T05:59:28.014Z"
   },
   {
    "duration": 80,
    "start_time": "2022-12-24T05:59:28.024Z"
   },
   {
    "duration": 16,
    "start_time": "2022-12-24T05:59:28.105Z"
   },
   {
    "duration": 83,
    "start_time": "2022-12-24T05:59:28.125Z"
   },
   {
    "duration": 12,
    "start_time": "2022-12-24T05:59:28.209Z"
   },
   {
    "duration": 11,
    "start_time": "2022-12-24T05:59:28.225Z"
   },
   {
    "duration": 73,
    "start_time": "2022-12-24T05:59:28.238Z"
   },
   {
    "duration": 11,
    "start_time": "2022-12-24T05:59:28.313Z"
   },
   {
    "duration": 382,
    "start_time": "2022-12-24T05:59:28.326Z"
   },
   {
    "duration": 379,
    "start_time": "2022-12-24T05:59:28.711Z"
   },
   {
    "duration": 352,
    "start_time": "2022-12-24T05:59:29.092Z"
   },
   {
    "duration": 18,
    "start_time": "2022-12-24T05:59:29.446Z"
   },
   {
    "duration": 54,
    "start_time": "2022-12-24T05:59:29.466Z"
   },
   {
    "duration": 150,
    "start_time": "2022-12-24T05:59:29.522Z"
   },
   {
    "duration": 125,
    "start_time": "2022-12-24T06:01:07.130Z"
   },
   {
    "duration": 47,
    "start_time": "2022-12-24T06:02:06.709Z"
   },
   {
    "duration": 1538,
    "start_time": "2022-12-24T06:05:50.204Z"
   },
   {
    "duration": 493,
    "start_time": "2022-12-24T06:05:51.745Z"
   },
   {
    "duration": 23,
    "start_time": "2022-12-24T06:05:52.242Z"
   },
   {
    "duration": 48,
    "start_time": "2022-12-24T06:05:52.268Z"
   },
   {
    "duration": 10,
    "start_time": "2022-12-24T06:05:52.318Z"
   },
   {
    "duration": 27,
    "start_time": "2022-12-24T06:05:52.330Z"
   },
   {
    "duration": 54,
    "start_time": "2022-12-24T06:05:52.363Z"
   },
   {
    "duration": 34,
    "start_time": "2022-12-24T06:05:52.419Z"
   },
   {
    "duration": 46,
    "start_time": "2022-12-24T06:05:52.456Z"
   },
   {
    "duration": 14,
    "start_time": "2022-12-24T06:05:52.505Z"
   },
   {
    "duration": 37,
    "start_time": "2022-12-24T06:05:52.521Z"
   },
   {
    "duration": 63,
    "start_time": "2022-12-24T06:05:52.560Z"
   },
   {
    "duration": 35,
    "start_time": "2022-12-24T06:05:52.625Z"
   },
   {
    "duration": 53,
    "start_time": "2022-12-24T06:05:52.663Z"
   },
   {
    "duration": 11,
    "start_time": "2022-12-24T06:05:52.719Z"
   },
   {
    "duration": 8,
    "start_time": "2022-12-24T06:05:52.732Z"
   },
   {
    "duration": 71,
    "start_time": "2022-12-24T06:05:52.751Z"
   },
   {
    "duration": 27,
    "start_time": "2022-12-24T06:05:52.824Z"
   },
   {
    "duration": 387,
    "start_time": "2022-12-24T06:05:52.853Z"
   },
   {
    "duration": 366,
    "start_time": "2022-12-24T06:05:53.242Z"
   },
   {
    "duration": 393,
    "start_time": "2022-12-24T06:05:53.610Z"
   },
   {
    "duration": 14,
    "start_time": "2022-12-24T06:05:54.006Z"
   },
   {
    "duration": 62,
    "start_time": "2022-12-24T06:05:54.022Z"
   },
   {
    "duration": 76,
    "start_time": "2022-12-24T06:05:54.086Z"
   },
   {
    "duration": 109,
    "start_time": "2022-12-24T06:05:54.166Z"
   },
   {
    "duration": 95,
    "start_time": "2022-12-24T06:05:54.279Z"
   },
   {
    "duration": 506,
    "start_time": "2022-12-24T06:19:20.313Z"
   },
   {
    "duration": 441,
    "start_time": "2022-12-24T06:19:28.507Z"
   },
   {
    "duration": 507,
    "start_time": "2022-12-24T06:20:58.194Z"
   },
   {
    "duration": 1719,
    "start_time": "2022-12-24T06:21:15.788Z"
   },
   {
    "duration": 517,
    "start_time": "2022-12-24T06:21:17.509Z"
   },
   {
    "duration": 23,
    "start_time": "2022-12-24T06:21:18.028Z"
   },
   {
    "duration": 75,
    "start_time": "2022-12-24T06:21:18.061Z"
   },
   {
    "duration": 22,
    "start_time": "2022-12-24T06:21:18.138Z"
   },
   {
    "duration": 46,
    "start_time": "2022-12-24T06:21:18.163Z"
   },
   {
    "duration": 94,
    "start_time": "2022-12-24T06:21:18.210Z"
   },
   {
    "duration": 16,
    "start_time": "2022-12-24T06:21:18.306Z"
   },
   {
    "duration": 68,
    "start_time": "2022-12-24T06:21:18.324Z"
   },
   {
    "duration": 10,
    "start_time": "2022-12-24T06:21:18.395Z"
   },
   {
    "duration": 25,
    "start_time": "2022-12-24T06:21:18.408Z"
   },
   {
    "duration": 86,
    "start_time": "2022-12-24T06:21:18.435Z"
   },
   {
    "duration": 15,
    "start_time": "2022-12-24T06:21:18.523Z"
   },
   {
    "duration": 74,
    "start_time": "2022-12-24T06:21:18.551Z"
   },
   {
    "duration": 14,
    "start_time": "2022-12-24T06:21:18.627Z"
   },
   {
    "duration": 51,
    "start_time": "2022-12-24T06:21:18.643Z"
   },
   {
    "duration": 103,
    "start_time": "2022-12-24T06:21:18.696Z"
   },
   {
    "duration": 15,
    "start_time": "2022-12-24T06:21:18.800Z"
   },
   {
    "duration": 483,
    "start_time": "2022-12-24T06:21:18.817Z"
   },
   {
    "duration": 438,
    "start_time": "2022-12-24T06:21:19.302Z"
   },
   {
    "duration": 424,
    "start_time": "2022-12-24T06:21:19.742Z"
   },
   {
    "duration": 1103,
    "start_time": "2022-12-24T06:21:20.170Z"
   },
   {
    "duration": 11,
    "start_time": "2022-12-24T06:21:21.283Z"
   },
   {
    "duration": 36,
    "start_time": "2022-12-24T06:21:21.296Z"
   },
   {
    "duration": 122,
    "start_time": "2022-12-24T06:21:21.334Z"
   },
   {
    "duration": 110,
    "start_time": "2022-12-24T06:21:21.458Z"
   },
   {
    "duration": 119,
    "start_time": "2022-12-24T06:21:21.578Z"
   },
   {
    "duration": 432,
    "start_time": "2022-12-24T06:21:34.103Z"
   },
   {
    "duration": 1160,
    "start_time": "2022-12-24T06:21:40.176Z"
   },
   {
    "duration": 445,
    "start_time": "2022-12-24T06:21:49.177Z"
   },
   {
    "duration": 809,
    "start_time": "2022-12-24T06:22:22.634Z"
   },
   {
    "duration": 384,
    "start_time": "2022-12-24T06:23:02.303Z"
   },
   {
    "duration": 555,
    "start_time": "2022-12-24T06:23:03.316Z"
   },
   {
    "duration": 431,
    "start_time": "2022-12-24T06:23:10.111Z"
   },
   {
    "duration": 72,
    "start_time": "2022-12-24T06:23:28.378Z"
   },
   {
    "duration": 95,
    "start_time": "2022-12-24T06:23:39.226Z"
   },
   {
    "duration": 643,
    "start_time": "2022-12-24T06:23:44.791Z"
   },
   {
    "duration": 607,
    "start_time": "2022-12-24T06:23:57.292Z"
   },
   {
    "duration": 769,
    "start_time": "2022-12-24T06:23:59.476Z"
   },
   {
    "duration": 1304,
    "start_time": "2022-12-24T06:24:06.169Z"
   },
   {
    "duration": 555,
    "start_time": "2022-12-24T06:24:11.479Z"
   },
   {
    "duration": 1390,
    "start_time": "2022-12-24T06:24:15.640Z"
   },
   {
    "duration": 800,
    "start_time": "2022-12-24T06:24:22.248Z"
   },
   {
    "duration": 1032,
    "start_time": "2022-12-24T06:24:29.807Z"
   },
   {
    "duration": 808,
    "start_time": "2022-12-24T06:24:36.197Z"
   },
   {
    "duration": 113,
    "start_time": "2022-12-24T07:47:42.340Z"
   },
   {
    "duration": 1564,
    "start_time": "2022-12-24T07:47:47.819Z"
   },
   {
    "duration": 463,
    "start_time": "2022-12-24T07:47:49.385Z"
   },
   {
    "duration": 21,
    "start_time": "2022-12-24T07:47:49.850Z"
   },
   {
    "duration": 45,
    "start_time": "2022-12-24T07:47:49.873Z"
   },
   {
    "duration": 32,
    "start_time": "2022-12-24T07:47:49.920Z"
   },
   {
    "duration": 8,
    "start_time": "2022-12-24T07:47:49.953Z"
   },
   {
    "duration": 55,
    "start_time": "2022-12-24T07:47:49.962Z"
   },
   {
    "duration": 38,
    "start_time": "2022-12-24T07:47:50.019Z"
   },
   {
    "duration": 42,
    "start_time": "2022-12-24T07:47:50.059Z"
   },
   {
    "duration": 10,
    "start_time": "2022-12-24T07:47:50.105Z"
   },
   {
    "duration": 37,
    "start_time": "2022-12-24T07:47:50.117Z"
   },
   {
    "duration": 59,
    "start_time": "2022-12-24T07:47:50.156Z"
   },
   {
    "duration": 36,
    "start_time": "2022-12-24T07:47:50.216Z"
   },
   {
    "duration": 41,
    "start_time": "2022-12-24T07:47:50.254Z"
   },
   {
    "duration": 10,
    "start_time": "2022-12-24T07:47:50.297Z"
   },
   {
    "duration": 13,
    "start_time": "2022-12-24T07:47:50.308Z"
   },
   {
    "duration": 72,
    "start_time": "2022-12-24T07:47:50.323Z"
   },
   {
    "duration": 13,
    "start_time": "2022-12-24T07:47:50.397Z"
   },
   {
    "duration": 389,
    "start_time": "2022-12-24T07:47:50.411Z"
   },
   {
    "duration": 370,
    "start_time": "2022-12-24T07:47:50.802Z"
   },
   {
    "duration": 309,
    "start_time": "2022-12-24T07:47:51.174Z"
   },
   {
    "duration": 842,
    "start_time": "2022-12-24T07:47:51.485Z"
   },
   {
    "duration": 725,
    "start_time": "2022-12-24T07:47:52.329Z"
   },
   {
    "duration": 736,
    "start_time": "2022-12-24T07:47:53.056Z"
   },
   {
    "duration": 12,
    "start_time": "2022-12-24T07:47:53.794Z"
   },
   {
    "duration": 43,
    "start_time": "2022-12-24T07:47:53.808Z"
   },
   {
    "duration": 21,
    "start_time": "2022-12-24T07:47:53.853Z"
   },
   {
    "duration": 107,
    "start_time": "2022-12-24T07:47:53.952Z"
   },
   {
    "duration": 197,
    "start_time": "2022-12-24T07:47:54.061Z"
   },
   {
    "duration": 99,
    "start_time": "2022-12-24T07:47:54.261Z"
   },
   {
    "duration": 6,
    "start_time": "2022-12-24T07:47:54.452Z"
   },
   {
    "duration": 6,
    "start_time": "2022-12-24T07:48:06.503Z"
   },
   {
    "duration": 7,
    "start_time": "2022-12-24T07:48:11.537Z"
   },
   {
    "duration": 4,
    "start_time": "2022-12-24T07:48:12.714Z"
   },
   {
    "duration": 6,
    "start_time": "2022-12-24T07:49:21.716Z"
   },
   {
    "duration": 3,
    "start_time": "2022-12-24T07:49:22.249Z"
   },
   {
    "duration": 82,
    "start_time": "2022-12-24T07:51:24.213Z"
   },
   {
    "duration": 5,
    "start_time": "2022-12-24T07:51:41.089Z"
   },
   {
    "duration": 1498,
    "start_time": "2022-12-24T07:55:01.062Z"
   },
   {
    "duration": 415,
    "start_time": "2022-12-24T07:55:02.562Z"
   },
   {
    "duration": 22,
    "start_time": "2022-12-24T07:55:02.980Z"
   },
   {
    "duration": 63,
    "start_time": "2022-12-24T07:55:03.005Z"
   },
   {
    "duration": 10,
    "start_time": "2022-12-24T07:55:03.070Z"
   },
   {
    "duration": 28,
    "start_time": "2022-12-24T07:55:03.081Z"
   },
   {
    "duration": 76,
    "start_time": "2022-12-24T07:55:03.111Z"
   },
   {
    "duration": 15,
    "start_time": "2022-12-24T07:55:03.189Z"
   },
   {
    "duration": 61,
    "start_time": "2022-12-24T07:55:03.206Z"
   },
   {
    "duration": 11,
    "start_time": "2022-12-24T07:55:03.271Z"
   },
   {
    "duration": 10,
    "start_time": "2022-12-24T07:55:03.284Z"
   },
   {
    "duration": 69,
    "start_time": "2022-12-24T07:55:03.296Z"
   },
   {
    "duration": 15,
    "start_time": "2022-12-24T07:55:03.366Z"
   },
   {
    "duration": 55,
    "start_time": "2022-12-24T07:55:03.383Z"
   },
   {
    "duration": 12,
    "start_time": "2022-12-24T07:55:03.440Z"
   },
   {
    "duration": 56,
    "start_time": "2022-12-24T07:55:03.454Z"
   },
   {
    "duration": 99,
    "start_time": "2022-12-24T07:55:03.512Z"
   },
   {
    "duration": 13,
    "start_time": "2022-12-24T07:55:03.613Z"
   },
   {
    "duration": 361,
    "start_time": "2022-12-24T07:55:03.628Z"
   },
   {
    "duration": 366,
    "start_time": "2022-12-24T07:55:03.991Z"
   },
   {
    "duration": 317,
    "start_time": "2022-12-24T07:55:04.359Z"
   },
   {
    "duration": 837,
    "start_time": "2022-12-24T07:55:04.678Z"
   },
   {
    "duration": 735,
    "start_time": "2022-12-24T07:55:05.517Z"
   },
   {
    "duration": 734,
    "start_time": "2022-12-24T07:55:06.253Z"
   },
   {
    "duration": 11,
    "start_time": "2022-12-24T07:55:06.988Z"
   },
   {
    "duration": 53,
    "start_time": "2022-12-24T07:55:07.001Z"
   },
   {
    "duration": 24,
    "start_time": "2022-12-24T07:55:07.056Z"
   },
   {
    "duration": 114,
    "start_time": "2022-12-24T07:55:07.156Z"
   },
   {
    "duration": 131,
    "start_time": "2022-12-24T07:55:07.352Z"
   },
   {
    "duration": 170,
    "start_time": "2022-12-24T07:55:07.485Z"
   },
   {
    "duration": 21,
    "start_time": "2022-12-24T07:55:07.657Z"
   },
   {
    "duration": 1478,
    "start_time": "2022-12-24T07:56:56.335Z"
   },
   {
    "duration": 397,
    "start_time": "2022-12-24T07:56:57.815Z"
   },
   {
    "duration": 15,
    "start_time": "2022-12-24T07:56:58.214Z"
   },
   {
    "duration": 50,
    "start_time": "2022-12-24T07:56:58.231Z"
   },
   {
    "duration": 10,
    "start_time": "2022-12-24T07:56:58.283Z"
   },
   {
    "duration": 17,
    "start_time": "2022-12-24T07:56:58.295Z"
   },
   {
    "duration": 66,
    "start_time": "2022-12-24T07:56:58.314Z"
   },
   {
    "duration": 16,
    "start_time": "2022-12-24T07:56:58.382Z"
   },
   {
    "duration": 57,
    "start_time": "2022-12-24T07:56:58.400Z"
   },
   {
    "duration": 9,
    "start_time": "2022-12-24T07:56:58.462Z"
   },
   {
    "duration": 9,
    "start_time": "2022-12-24T07:56:58.474Z"
   },
   {
    "duration": 66,
    "start_time": "2022-12-24T07:56:58.485Z"
   },
   {
    "duration": 16,
    "start_time": "2022-12-24T07:56:58.553Z"
   },
   {
    "duration": 38,
    "start_time": "2022-12-24T07:56:58.571Z"
   },
   {
    "duration": 9,
    "start_time": "2022-12-24T07:56:58.611Z"
   },
   {
    "duration": 32,
    "start_time": "2022-12-24T07:56:58.622Z"
   },
   {
    "duration": 63,
    "start_time": "2022-12-24T07:56:58.657Z"
   },
   {
    "duration": 12,
    "start_time": "2022-12-24T07:56:58.722Z"
   },
   {
    "duration": 370,
    "start_time": "2022-12-24T07:56:58.737Z"
   },
   {
    "duration": 344,
    "start_time": "2022-12-24T07:56:59.109Z"
   },
   {
    "duration": 374,
    "start_time": "2022-12-24T07:56:59.455Z"
   },
   {
    "duration": 836,
    "start_time": "2022-12-24T07:56:59.831Z"
   },
   {
    "duration": 731,
    "start_time": "2022-12-24T07:57:00.669Z"
   },
   {
    "duration": 748,
    "start_time": "2022-12-24T07:57:01.402Z"
   },
   {
    "duration": 12,
    "start_time": "2022-12-24T07:57:02.152Z"
   },
   {
    "duration": 82,
    "start_time": "2022-12-24T07:57:02.166Z"
   },
   {
    "duration": 100,
    "start_time": "2022-12-24T07:57:02.250Z"
   },
   {
    "duration": 106,
    "start_time": "2022-12-24T07:57:02.356Z"
   },
   {
    "duration": 192,
    "start_time": "2022-12-24T07:57:02.464Z"
   },
   {
    "duration": 196,
    "start_time": "2022-12-24T07:57:02.658Z"
   },
   {
    "duration": 42,
    "start_time": "2022-12-24T07:57:02.856Z"
   },
   {
    "duration": 1548,
    "start_time": "2022-12-24T09:47:13.359Z"
   },
   {
    "duration": 730,
    "start_time": "2022-12-24T09:47:14.910Z"
   },
   {
    "duration": 16,
    "start_time": "2022-12-24T09:47:15.642Z"
   },
   {
    "duration": 41,
    "start_time": "2022-12-24T09:47:15.660Z"
   },
   {
    "duration": 8,
    "start_time": "2022-12-24T09:47:15.703Z"
   },
   {
    "duration": 8,
    "start_time": "2022-12-24T09:47:15.713Z"
   },
   {
    "duration": 48,
    "start_time": "2022-12-24T09:47:15.722Z"
   },
   {
    "duration": 36,
    "start_time": "2022-12-24T09:47:15.771Z"
   },
   {
    "duration": 34,
    "start_time": "2022-12-24T09:47:15.809Z"
   },
   {
    "duration": 8,
    "start_time": "2022-12-24T09:47:15.846Z"
   },
   {
    "duration": 8,
    "start_time": "2022-12-24T09:47:15.856Z"
   },
   {
    "duration": 77,
    "start_time": "2022-12-24T09:47:15.866Z"
   },
   {
    "duration": 19,
    "start_time": "2022-12-24T09:47:15.944Z"
   },
   {
    "duration": 60,
    "start_time": "2022-12-24T09:47:15.965Z"
   },
   {
    "duration": 9,
    "start_time": "2022-12-24T09:47:16.027Z"
   },
   {
    "duration": 6,
    "start_time": "2022-12-24T09:47:16.038Z"
   },
   {
    "duration": 71,
    "start_time": "2022-12-24T09:47:16.046Z"
   },
   {
    "duration": 12,
    "start_time": "2022-12-24T09:47:16.119Z"
   },
   {
    "duration": 432,
    "start_time": "2022-12-24T09:47:16.133Z"
   },
   {
    "duration": 338,
    "start_time": "2022-12-24T09:47:16.566Z"
   },
   {
    "duration": 324,
    "start_time": "2022-12-24T09:47:16.906Z"
   },
   {
    "duration": 787,
    "start_time": "2022-12-24T09:47:17.232Z"
   },
   {
    "duration": 684,
    "start_time": "2022-12-24T09:47:18.021Z"
   },
   {
    "duration": 730,
    "start_time": "2022-12-24T09:47:18.707Z"
   },
   {
    "duration": 10,
    "start_time": "2022-12-24T09:47:19.439Z"
   },
   {
    "duration": 50,
    "start_time": "2022-12-24T09:47:19.451Z"
   },
   {
    "duration": 17,
    "start_time": "2022-12-24T09:47:19.502Z"
   },
   {
    "duration": 177,
    "start_time": "2022-12-24T09:47:19.523Z"
   },
   {
    "duration": 101,
    "start_time": "2022-12-24T09:47:19.702Z"
   },
   {
    "duration": 102,
    "start_time": "2022-12-24T09:47:19.805Z"
   },
   {
    "duration": 13,
    "start_time": "2022-12-24T09:47:19.997Z"
   },
   {
    "duration": 114,
    "start_time": "2022-12-24T09:50:37.025Z"
   },
   {
    "duration": 9,
    "start_time": "2022-12-24T09:50:47.140Z"
   },
   {
    "duration": 1372,
    "start_time": "2022-12-24T09:50:51.269Z"
   },
   {
    "duration": 466,
    "start_time": "2022-12-24T09:50:52.643Z"
   },
   {
    "duration": 14,
    "start_time": "2022-12-24T09:50:53.111Z"
   },
   {
    "duration": 43,
    "start_time": "2022-12-24T09:50:53.128Z"
   },
   {
    "duration": 26,
    "start_time": "2022-12-24T09:50:53.173Z"
   },
   {
    "duration": 17,
    "start_time": "2022-12-24T09:50:53.201Z"
   },
   {
    "duration": 59,
    "start_time": "2022-12-24T09:50:53.220Z"
   },
   {
    "duration": 23,
    "start_time": "2022-12-24T09:50:53.280Z"
   },
   {
    "duration": 38,
    "start_time": "2022-12-24T09:50:53.305Z"
   },
   {
    "duration": 9,
    "start_time": "2022-12-24T09:50:53.345Z"
   },
   {
    "duration": 32,
    "start_time": "2022-12-24T09:50:53.356Z"
   },
   {
    "duration": 45,
    "start_time": "2022-12-24T09:50:53.390Z"
   },
   {
    "duration": 14,
    "start_time": "2022-12-24T09:50:53.437Z"
   },
   {
    "duration": 60,
    "start_time": "2022-12-24T09:50:53.453Z"
   },
   {
    "duration": 9,
    "start_time": "2022-12-24T09:50:53.514Z"
   },
   {
    "duration": 7,
    "start_time": "2022-12-24T09:50:53.525Z"
   },
   {
    "duration": 64,
    "start_time": "2022-12-24T09:50:53.534Z"
   },
   {
    "duration": 12,
    "start_time": "2022-12-24T09:50:53.599Z"
   },
   {
    "duration": 335,
    "start_time": "2022-12-24T09:50:53.613Z"
   },
   {
    "duration": 346,
    "start_time": "2022-12-24T09:50:53.950Z"
   },
   {
    "duration": 322,
    "start_time": "2022-12-24T09:50:54.298Z"
   },
   {
    "duration": 824,
    "start_time": "2022-12-24T09:50:54.622Z"
   },
   {
    "duration": 739,
    "start_time": "2022-12-24T09:50:55.447Z"
   },
   {
    "duration": 710,
    "start_time": "2022-12-24T09:50:56.187Z"
   },
   {
    "duration": 11,
    "start_time": "2022-12-24T09:50:56.898Z"
   },
   {
    "duration": 32,
    "start_time": "2022-12-24T09:50:56.910Z"
   },
   {
    "duration": 54,
    "start_time": "2022-12-24T09:50:56.945Z"
   },
   {
    "duration": 102,
    "start_time": "2022-12-24T09:50:57.006Z"
   },
   {
    "duration": 191,
    "start_time": "2022-12-24T09:50:57.109Z"
   },
   {
    "duration": 103,
    "start_time": "2022-12-24T09:50:57.302Z"
   },
   {
    "duration": 192,
    "start_time": "2022-12-24T09:50:57.407Z"
   },
   {
    "duration": 5,
    "start_time": "2022-12-24T09:51:09.984Z"
   },
   {
    "duration": 5,
    "start_time": "2022-12-24T11:16:30.187Z"
   },
   {
    "duration": 1368,
    "start_time": "2022-12-24T11:21:01.205Z"
   },
   {
    "duration": 380,
    "start_time": "2022-12-24T11:21:02.577Z"
   },
   {
    "duration": 16,
    "start_time": "2022-12-24T11:21:02.959Z"
   },
   {
    "duration": 56,
    "start_time": "2022-12-24T11:21:02.978Z"
   },
   {
    "duration": 10,
    "start_time": "2022-12-24T11:21:03.036Z"
   },
   {
    "duration": 10,
    "start_time": "2022-12-24T11:21:03.048Z"
   },
   {
    "duration": 76,
    "start_time": "2022-12-24T11:21:03.059Z"
   },
   {
    "duration": 15,
    "start_time": "2022-12-24T11:21:03.136Z"
   },
   {
    "duration": 52,
    "start_time": "2022-12-24T11:21:03.153Z"
   },
   {
    "duration": 10,
    "start_time": "2022-12-24T11:21:03.207Z"
   },
   {
    "duration": 7,
    "start_time": "2022-12-24T11:21:03.218Z"
   },
   {
    "duration": 43,
    "start_time": "2022-12-24T11:21:03.227Z"
   },
   {
    "duration": 14,
    "start_time": "2022-12-24T11:21:03.296Z"
   },
   {
    "duration": 37,
    "start_time": "2022-12-24T11:21:03.312Z"
   },
   {
    "duration": 10,
    "start_time": "2022-12-24T11:21:03.350Z"
   },
   {
    "duration": 5,
    "start_time": "2022-12-24T11:21:03.362Z"
   },
   {
    "duration": 48,
    "start_time": "2022-12-24T11:21:03.397Z"
   },
   {
    "duration": 12,
    "start_time": "2022-12-24T11:21:03.447Z"
   },
   {
    "duration": 375,
    "start_time": "2022-12-24T11:21:03.460Z"
   },
   {
    "duration": 331,
    "start_time": "2022-12-24T11:21:03.837Z"
   },
   {
    "duration": 343,
    "start_time": "2022-12-24T11:21:04.169Z"
   },
   {
    "duration": 814,
    "start_time": "2022-12-24T11:21:04.513Z"
   },
   {
    "duration": 741,
    "start_time": "2022-12-24T11:21:05.329Z"
   },
   {
    "duration": 741,
    "start_time": "2022-12-24T11:21:06.071Z"
   },
   {
    "duration": 10,
    "start_time": "2022-12-24T11:21:06.814Z"
   },
   {
    "duration": 36,
    "start_time": "2022-12-24T11:21:06.825Z"
   },
   {
    "duration": 37,
    "start_time": "2022-12-24T11:21:06.862Z"
   },
   {
    "duration": 193,
    "start_time": "2022-12-24T11:21:06.904Z"
   },
   {
    "duration": 110,
    "start_time": "2022-12-24T11:21:07.101Z"
   },
   {
    "duration": 89,
    "start_time": "2022-12-24T11:21:07.215Z"
   },
   {
    "duration": 96,
    "start_time": "2022-12-24T11:21:07.308Z"
   },
   {
    "duration": 4,
    "start_time": "2022-12-24T11:21:07.406Z"
   },
   {
    "duration": 7,
    "start_time": "2022-12-24T11:22:23.387Z"
   },
   {
    "duration": 4,
    "start_time": "2022-12-24T11:22:55.493Z"
   },
   {
    "duration": 7,
    "start_time": "2022-12-24T11:22:57.619Z"
   },
   {
    "duration": 4,
    "start_time": "2022-12-24T11:23:54.981Z"
   },
   {
    "duration": 7,
    "start_time": "2022-12-24T11:23:56.263Z"
   },
   {
    "duration": 7,
    "start_time": "2022-12-24T11:23:57.163Z"
   },
   {
    "duration": 8,
    "start_time": "2022-12-24T11:23:58.096Z"
   },
   {
    "duration": 3,
    "start_time": "2022-12-24T11:24:51.390Z"
   },
   {
    "duration": 7,
    "start_time": "2022-12-24T11:24:52.282Z"
   },
   {
    "duration": 7,
    "start_time": "2022-12-24T11:24:53.469Z"
   },
   {
    "duration": 7,
    "start_time": "2022-12-24T11:24:54.813Z"
   },
   {
    "duration": 3,
    "start_time": "2022-12-24T11:26:27.118Z"
   },
   {
    "duration": 8,
    "start_time": "2022-12-24T11:26:28.275Z"
   },
   {
    "duration": 7,
    "start_time": "2022-12-24T11:26:34.160Z"
   },
   {
    "duration": 7,
    "start_time": "2022-12-24T11:26:36.556Z"
   },
   {
    "duration": 4,
    "start_time": "2022-12-24T11:26:42.720Z"
   },
   {
    "duration": 7,
    "start_time": "2022-12-24T11:26:43.971Z"
   },
   {
    "duration": 8,
    "start_time": "2022-12-24T11:26:46.019Z"
   },
   {
    "duration": 8,
    "start_time": "2022-12-24T11:26:47.298Z"
   },
   {
    "duration": 4,
    "start_time": "2022-12-24T11:26:59.067Z"
   },
   {
    "duration": 9,
    "start_time": "2022-12-24T11:27:00.058Z"
   },
   {
    "duration": 7,
    "start_time": "2022-12-24T11:27:01.837Z"
   },
   {
    "duration": 7,
    "start_time": "2022-12-24T11:27:06.627Z"
   },
   {
    "duration": 5,
    "start_time": "2022-12-24T11:35:15.328Z"
   },
   {
    "duration": 8,
    "start_time": "2022-12-24T11:35:16.212Z"
   },
   {
    "duration": 7,
    "start_time": "2022-12-24T11:35:17.246Z"
   },
   {
    "duration": 8,
    "start_time": "2022-12-24T11:35:20.282Z"
   },
   {
    "duration": 1480,
    "start_time": "2022-12-24T11:42:48.958Z"
   },
   {
    "duration": 396,
    "start_time": "2022-12-24T11:42:50.440Z"
   },
   {
    "duration": 15,
    "start_time": "2022-12-24T11:42:50.838Z"
   },
   {
    "duration": 69,
    "start_time": "2022-12-24T11:42:50.855Z"
   },
   {
    "duration": 9,
    "start_time": "2022-12-24T11:42:50.926Z"
   },
   {
    "duration": 19,
    "start_time": "2022-12-24T11:42:50.936Z"
   },
   {
    "duration": 59,
    "start_time": "2022-12-24T11:42:50.957Z"
   },
   {
    "duration": 14,
    "start_time": "2022-12-24T11:42:51.019Z"
   },
   {
    "duration": 41,
    "start_time": "2022-12-24T11:42:51.035Z"
   },
   {
    "duration": 28,
    "start_time": "2022-12-24T11:42:51.079Z"
   },
   {
    "duration": 22,
    "start_time": "2022-12-24T11:42:51.111Z"
   },
   {
    "duration": 79,
    "start_time": "2022-12-24T11:42:51.135Z"
   },
   {
    "duration": 14,
    "start_time": "2022-12-24T11:42:51.216Z"
   },
   {
    "duration": 38,
    "start_time": "2022-12-24T11:42:51.232Z"
   },
   {
    "duration": 34,
    "start_time": "2022-12-24T11:42:51.272Z"
   },
   {
    "duration": 5,
    "start_time": "2022-12-24T11:42:51.312Z"
   },
   {
    "duration": 60,
    "start_time": "2022-12-24T11:42:51.319Z"
   },
   {
    "duration": 11,
    "start_time": "2022-12-24T11:42:51.381Z"
   },
   {
    "duration": 343,
    "start_time": "2022-12-24T11:42:51.394Z"
   },
   {
    "duration": 340,
    "start_time": "2022-12-24T11:42:51.739Z"
   },
   {
    "duration": 344,
    "start_time": "2022-12-24T11:42:52.081Z"
   },
   {
    "duration": 838,
    "start_time": "2022-12-24T11:42:52.427Z"
   },
   {
    "duration": 741,
    "start_time": "2022-12-24T11:42:53.267Z"
   },
   {
    "duration": 765,
    "start_time": "2022-12-24T11:42:54.012Z"
   },
   {
    "duration": 11,
    "start_time": "2022-12-24T11:42:54.779Z"
   },
   {
    "duration": 38,
    "start_time": "2022-12-24T11:42:54.796Z"
   },
   {
    "duration": 68,
    "start_time": "2022-12-24T11:42:54.836Z"
   },
   {
    "duration": 91,
    "start_time": "2022-12-24T11:42:54.914Z"
   },
   {
    "duration": 218,
    "start_time": "2022-12-24T11:42:55.007Z"
   },
   {
    "duration": 194,
    "start_time": "2022-12-24T11:42:55.227Z"
   },
   {
    "duration": 9,
    "start_time": "2022-12-24T11:42:55.423Z"
   },
   {
    "duration": 19,
    "start_time": "2022-12-24T11:42:55.433Z"
   },
   {
    "duration": 8,
    "start_time": "2022-12-24T11:42:55.454Z"
   },
   {
    "duration": 8,
    "start_time": "2022-12-24T11:42:55.464Z"
   },
   {
    "duration": 9,
    "start_time": "2022-12-24T11:42:55.473Z"
   },
   {
    "duration": 4,
    "start_time": "2022-12-24T11:42:55.483Z"
   },
   {
    "duration": 6,
    "start_time": "2022-12-24T11:45:06.944Z"
   },
   {
    "duration": 1448,
    "start_time": "2022-12-24T11:45:11.602Z"
   },
   {
    "duration": 387,
    "start_time": "2022-12-24T11:45:13.052Z"
   },
   {
    "duration": 18,
    "start_time": "2022-12-24T11:45:13.440Z"
   },
   {
    "duration": 59,
    "start_time": "2022-12-24T11:45:13.460Z"
   },
   {
    "duration": 11,
    "start_time": "2022-12-24T11:45:13.521Z"
   },
   {
    "duration": 10,
    "start_time": "2022-12-24T11:45:13.534Z"
   },
   {
    "duration": 98,
    "start_time": "2022-12-24T11:45:13.546Z"
   },
   {
    "duration": 13,
    "start_time": "2022-12-24T11:45:13.646Z"
   },
   {
    "duration": 50,
    "start_time": "2022-12-24T11:45:13.661Z"
   },
   {
    "duration": 10,
    "start_time": "2022-12-24T11:45:13.715Z"
   },
   {
    "duration": 9,
    "start_time": "2022-12-24T11:45:13.727Z"
   },
   {
    "duration": 91,
    "start_time": "2022-12-24T11:45:13.739Z"
   },
   {
    "duration": 21,
    "start_time": "2022-12-24T11:45:13.832Z"
   },
   {
    "duration": 75,
    "start_time": "2022-12-24T11:45:13.856Z"
   },
   {
    "duration": 11,
    "start_time": "2022-12-24T11:45:13.935Z"
   },
   {
    "duration": 10,
    "start_time": "2022-12-24T11:45:13.948Z"
   },
   {
    "duration": 70,
    "start_time": "2022-12-24T11:45:13.960Z"
   },
   {
    "duration": 11,
    "start_time": "2022-12-24T11:45:14.032Z"
   },
   {
    "duration": 403,
    "start_time": "2022-12-24T11:45:14.045Z"
   },
   {
    "duration": 349,
    "start_time": "2022-12-24T11:45:14.449Z"
   },
   {
    "duration": 329,
    "start_time": "2022-12-24T11:45:14.800Z"
   },
   {
    "duration": 847,
    "start_time": "2022-12-24T11:45:15.131Z"
   },
   {
    "duration": 812,
    "start_time": "2022-12-24T11:45:15.980Z"
   },
   {
    "duration": 770,
    "start_time": "2022-12-24T11:45:16.800Z"
   },
   {
    "duration": 11,
    "start_time": "2022-12-24T11:45:17.573Z"
   },
   {
    "duration": 38,
    "start_time": "2022-12-24T11:45:17.599Z"
   },
   {
    "duration": 18,
    "start_time": "2022-12-24T11:45:17.640Z"
   },
   {
    "duration": 121,
    "start_time": "2022-12-24T11:45:17.700Z"
   },
   {
    "duration": 202,
    "start_time": "2022-12-24T11:45:17.824Z"
   },
   {
    "duration": 72,
    "start_time": "2022-12-24T11:45:18.027Z"
   },
   {
    "duration": 112,
    "start_time": "2022-12-24T11:45:18.101Z"
   },
   {
    "duration": 8,
    "start_time": "2022-12-24T11:45:18.215Z"
   },
   {
    "duration": 9,
    "start_time": "2022-12-24T11:45:18.225Z"
   },
   {
    "duration": 6,
    "start_time": "2022-12-24T11:45:18.236Z"
   },
   {
    "duration": 6,
    "start_time": "2022-12-24T11:45:18.244Z"
   },
   {
    "duration": 3,
    "start_time": "2022-12-24T11:45:18.252Z"
   },
   {
    "duration": 158,
    "start_time": "2022-12-24T11:45:18.257Z"
   },
   {
    "duration": 1432,
    "start_time": "2022-12-24T11:47:09.363Z"
   },
   {
    "duration": 408,
    "start_time": "2022-12-24T11:47:10.805Z"
   },
   {
    "duration": 17,
    "start_time": "2022-12-24T11:47:11.215Z"
   },
   {
    "duration": 43,
    "start_time": "2022-12-24T11:47:11.234Z"
   },
   {
    "duration": 26,
    "start_time": "2022-12-24T11:47:11.279Z"
   },
   {
    "duration": 14,
    "start_time": "2022-12-24T11:47:11.308Z"
   },
   {
    "duration": 58,
    "start_time": "2022-12-24T11:47:11.324Z"
   },
   {
    "duration": 24,
    "start_time": "2022-12-24T11:47:11.384Z"
   },
   {
    "duration": 42,
    "start_time": "2022-12-24T11:47:11.413Z"
   },
   {
    "duration": 9,
    "start_time": "2022-12-24T11:47:11.458Z"
   },
   {
    "duration": 12,
    "start_time": "2022-12-24T11:47:11.468Z"
   },
   {
    "duration": 66,
    "start_time": "2022-12-24T11:47:11.482Z"
   },
   {
    "duration": 16,
    "start_time": "2022-12-24T11:47:11.551Z"
   },
   {
    "duration": 56,
    "start_time": "2022-12-24T11:47:11.569Z"
   },
   {
    "duration": 11,
    "start_time": "2022-12-24T11:47:11.627Z"
   },
   {
    "duration": 11,
    "start_time": "2022-12-24T11:47:11.640Z"
   },
   {
    "duration": 68,
    "start_time": "2022-12-24T11:47:11.652Z"
   },
   {
    "duration": 13,
    "start_time": "2022-12-24T11:47:11.722Z"
   },
   {
    "duration": 398,
    "start_time": "2022-12-24T11:47:11.737Z"
   },
   {
    "duration": 343,
    "start_time": "2022-12-24T11:47:12.137Z"
   },
   {
    "duration": 342,
    "start_time": "2022-12-24T11:47:12.481Z"
   },
   {
    "duration": 842,
    "start_time": "2022-12-24T11:47:12.825Z"
   },
   {
    "duration": 785,
    "start_time": "2022-12-24T11:47:13.669Z"
   },
   {
    "duration": 798,
    "start_time": "2022-12-24T11:47:14.455Z"
   },
   {
    "duration": 10,
    "start_time": "2022-12-24T11:47:15.255Z"
   },
   {
    "duration": 51,
    "start_time": "2022-12-24T11:47:15.267Z"
   },
   {
    "duration": 87,
    "start_time": "2022-12-24T11:47:15.320Z"
   },
   {
    "duration": 103,
    "start_time": "2022-12-24T11:47:15.412Z"
   },
   {
    "duration": 185,
    "start_time": "2022-12-24T11:47:15.518Z"
   },
   {
    "duration": 92,
    "start_time": "2022-12-24T11:47:15.708Z"
   },
   {
    "duration": 12,
    "start_time": "2022-12-24T11:47:15.806Z"
   },
   {
    "duration": 7,
    "start_time": "2022-12-24T11:47:15.820Z"
   },
   {
    "duration": 10,
    "start_time": "2022-12-24T11:47:15.829Z"
   },
   {
    "duration": 7,
    "start_time": "2022-12-24T11:47:15.841Z"
   },
   {
    "duration": 7,
    "start_time": "2022-12-24T11:47:15.849Z"
   },
   {
    "duration": 3,
    "start_time": "2022-12-24T11:47:15.858Z"
   },
   {
    "duration": 172,
    "start_time": "2022-12-24T11:47:15.863Z"
   },
   {
    "duration": 171,
    "start_time": "2022-12-24T11:47:16.038Z"
   },
   {
    "duration": 0,
    "start_time": "2022-12-24T11:47:16.215Z"
   },
   {
    "duration": 0,
    "start_time": "2022-12-24T11:47:16.217Z"
   },
   {
    "duration": 1594,
    "start_time": "2022-12-24T11:48:05.029Z"
   },
   {
    "duration": 401,
    "start_time": "2022-12-24T11:48:06.625Z"
   },
   {
    "duration": 16,
    "start_time": "2022-12-24T11:48:07.028Z"
   },
   {
    "duration": 69,
    "start_time": "2022-12-24T11:48:07.046Z"
   },
   {
    "duration": 12,
    "start_time": "2022-12-24T11:48:07.118Z"
   },
   {
    "duration": 15,
    "start_time": "2022-12-24T11:48:07.132Z"
   },
   {
    "duration": 69,
    "start_time": "2022-12-24T11:48:07.149Z"
   },
   {
    "duration": 15,
    "start_time": "2022-12-24T11:48:07.220Z"
   },
   {
    "duration": 45,
    "start_time": "2022-12-24T11:48:07.237Z"
   },
   {
    "duration": 15,
    "start_time": "2022-12-24T11:48:07.296Z"
   },
   {
    "duration": 20,
    "start_time": "2022-12-24T11:48:07.314Z"
   },
   {
    "duration": 50,
    "start_time": "2022-12-24T11:48:07.336Z"
   },
   {
    "duration": 35,
    "start_time": "2022-12-24T11:48:07.388Z"
   },
   {
    "duration": 44,
    "start_time": "2022-12-24T11:48:07.425Z"
   },
   {
    "duration": 10,
    "start_time": "2022-12-24T11:48:07.470Z"
   },
   {
    "duration": 32,
    "start_time": "2022-12-24T11:48:07.482Z"
   },
   {
    "duration": 70,
    "start_time": "2022-12-24T11:48:07.515Z"
   },
   {
    "duration": 24,
    "start_time": "2022-12-24T11:48:07.587Z"
   },
   {
    "duration": 356,
    "start_time": "2022-12-24T11:48:07.614Z"
   },
   {
    "duration": 358,
    "start_time": "2022-12-24T11:48:07.973Z"
   },
   {
    "duration": 322,
    "start_time": "2022-12-24T11:48:08.333Z"
   },
   {
    "duration": 836,
    "start_time": "2022-12-24T11:48:08.656Z"
   },
   {
    "duration": 750,
    "start_time": "2022-12-24T11:48:09.496Z"
   },
   {
    "duration": 764,
    "start_time": "2022-12-24T11:48:10.249Z"
   },
   {
    "duration": 11,
    "start_time": "2022-12-24T11:48:11.015Z"
   },
   {
    "duration": 46,
    "start_time": "2022-12-24T11:48:11.028Z"
   },
   {
    "duration": 34,
    "start_time": "2022-12-24T11:48:11.075Z"
   },
   {
    "duration": 91,
    "start_time": "2022-12-24T11:48:11.112Z"
   },
   {
    "duration": 195,
    "start_time": "2022-12-24T11:48:11.205Z"
   },
   {
    "duration": 109,
    "start_time": "2022-12-24T11:48:11.402Z"
   },
   {
    "duration": 6,
    "start_time": "2022-12-24T11:48:11.513Z"
   },
   {
    "duration": 7,
    "start_time": "2022-12-24T11:48:11.521Z"
   },
   {
    "duration": 9,
    "start_time": "2022-12-24T11:48:11.530Z"
   },
   {
    "duration": 6,
    "start_time": "2022-12-24T11:48:11.541Z"
   },
   {
    "duration": 6,
    "start_time": "2022-12-24T11:48:11.549Z"
   },
   {
    "duration": 3,
    "start_time": "2022-12-24T11:48:11.557Z"
   },
   {
    "duration": 154,
    "start_time": "2022-12-24T11:48:11.562Z"
   },
   {
    "duration": 1826,
    "start_time": "2022-12-24T11:48:11.717Z"
   },
   {
    "duration": 0,
    "start_time": "2022-12-24T11:48:13.546Z"
   },
   {
    "duration": 0,
    "start_time": "2022-12-24T11:48:13.547Z"
   },
   {
    "duration": 1490,
    "start_time": "2022-12-24T11:49:23.856Z"
   },
   {
    "duration": 406,
    "start_time": "2022-12-24T11:49:25.348Z"
   },
   {
    "duration": 15,
    "start_time": "2022-12-24T11:49:25.756Z"
   },
   {
    "duration": 58,
    "start_time": "2022-12-24T11:49:25.774Z"
   },
   {
    "duration": 9,
    "start_time": "2022-12-24T11:49:25.834Z"
   },
   {
    "duration": 11,
    "start_time": "2022-12-24T11:49:25.844Z"
   },
   {
    "duration": 85,
    "start_time": "2022-12-24T11:49:25.857Z"
   },
   {
    "duration": 24,
    "start_time": "2022-12-24T11:49:25.945Z"
   },
   {
    "duration": 60,
    "start_time": "2022-12-24T11:49:25.972Z"
   },
   {
    "duration": 10,
    "start_time": "2022-12-24T11:49:26.035Z"
   },
   {
    "duration": 19,
    "start_time": "2022-12-24T11:49:26.047Z"
   },
   {
    "duration": 66,
    "start_time": "2022-12-24T11:49:26.068Z"
   },
   {
    "duration": 18,
    "start_time": "2022-12-24T11:49:26.137Z"
   },
   {
    "duration": 66,
    "start_time": "2022-12-24T11:49:26.157Z"
   },
   {
    "duration": 12,
    "start_time": "2022-12-24T11:49:26.226Z"
   },
   {
    "duration": 24,
    "start_time": "2022-12-24T11:49:26.240Z"
   },
   {
    "duration": 73,
    "start_time": "2022-12-24T11:49:26.266Z"
   },
   {
    "duration": 15,
    "start_time": "2022-12-24T11:49:26.342Z"
   },
   {
    "duration": 387,
    "start_time": "2022-12-24T11:49:26.359Z"
   },
   {
    "duration": 331,
    "start_time": "2022-12-24T11:49:26.748Z"
   },
   {
    "duration": 343,
    "start_time": "2022-12-24T11:49:27.082Z"
   },
   {
    "duration": 838,
    "start_time": "2022-12-24T11:49:27.428Z"
   },
   {
    "duration": 753,
    "start_time": "2022-12-24T11:49:28.267Z"
   },
   {
    "duration": 776,
    "start_time": "2022-12-24T11:49:29.022Z"
   },
   {
    "duration": 12,
    "start_time": "2022-12-24T11:49:29.803Z"
   },
   {
    "duration": 34,
    "start_time": "2022-12-24T11:49:29.817Z"
   },
   {
    "duration": 57,
    "start_time": "2022-12-24T11:49:29.853Z"
   },
   {
    "duration": 26,
    "start_time": "2022-12-24T11:49:29.996Z"
   },
   {
    "duration": 206,
    "start_time": "2022-12-24T11:49:30.024Z"
   },
   {
    "duration": 200,
    "start_time": "2022-12-24T11:49:30.232Z"
   },
   {
    "duration": 12,
    "start_time": "2022-12-24T11:49:30.433Z"
   },
   {
    "duration": 26,
    "start_time": "2022-12-24T11:49:30.447Z"
   },
   {
    "duration": 48,
    "start_time": "2022-12-24T11:49:30.475Z"
   },
   {
    "duration": 33,
    "start_time": "2022-12-24T11:49:30.525Z"
   },
   {
    "duration": 55,
    "start_time": "2022-12-24T11:49:30.560Z"
   },
   {
    "duration": 23,
    "start_time": "2022-12-24T11:49:30.617Z"
   },
   {
    "duration": 137,
    "start_time": "2022-12-24T11:49:30.642Z"
   },
   {
    "duration": 1657,
    "start_time": "2022-12-24T11:49:30.781Z"
   },
   {
    "duration": 1639,
    "start_time": "2022-12-24T11:49:32.440Z"
   },
   {
    "duration": 1688,
    "start_time": "2022-12-24T11:49:34.080Z"
   },
   {
    "duration": 6,
    "start_time": "2022-12-24T11:52:29.965Z"
   },
   {
    "duration": 1773,
    "start_time": "2022-12-24T11:52:31.170Z"
   },
   {
    "duration": 6,
    "start_time": "2022-12-24T11:56:28.032Z"
   },
   {
    "duration": 113,
    "start_time": "2022-12-24T11:56:39.597Z"
   },
   {
    "duration": 1486,
    "start_time": "2022-12-24T11:56:45.879Z"
   },
   {
    "duration": 393,
    "start_time": "2022-12-24T11:56:47.367Z"
   },
   {
    "duration": 15,
    "start_time": "2022-12-24T11:56:47.762Z"
   },
   {
    "duration": 58,
    "start_time": "2022-12-24T11:56:47.780Z"
   },
   {
    "duration": 10,
    "start_time": "2022-12-24T11:56:47.840Z"
   },
   {
    "duration": 8,
    "start_time": "2022-12-24T11:56:47.852Z"
   },
   {
    "duration": 78,
    "start_time": "2022-12-24T11:56:47.862Z"
   },
   {
    "duration": 14,
    "start_time": "2022-12-24T11:56:47.941Z"
   },
   {
    "duration": 68,
    "start_time": "2022-12-24T11:56:47.957Z"
   },
   {
    "duration": 10,
    "start_time": "2022-12-24T11:56:48.027Z"
   },
   {
    "duration": 10,
    "start_time": "2022-12-24T11:56:48.038Z"
   },
   {
    "duration": 60,
    "start_time": "2022-12-24T11:56:48.050Z"
   },
   {
    "duration": 22,
    "start_time": "2022-12-24T11:56:48.112Z"
   },
   {
    "duration": 40,
    "start_time": "2022-12-24T11:56:48.136Z"
   },
   {
    "duration": 30,
    "start_time": "2022-12-24T11:56:48.177Z"
   },
   {
    "duration": 11,
    "start_time": "2022-12-24T11:56:48.209Z"
   },
   {
    "duration": 65,
    "start_time": "2022-12-24T11:56:48.222Z"
   },
   {
    "duration": 21,
    "start_time": "2022-12-24T11:56:48.289Z"
   },
   {
    "duration": 387,
    "start_time": "2022-12-24T11:56:48.314Z"
   },
   {
    "duration": 320,
    "start_time": "2022-12-24T11:56:48.708Z"
   },
   {
    "duration": 348,
    "start_time": "2022-12-24T11:56:49.030Z"
   },
   {
    "duration": 867,
    "start_time": "2022-12-24T11:56:49.380Z"
   },
   {
    "duration": 769,
    "start_time": "2022-12-24T11:56:50.249Z"
   },
   {
    "duration": 795,
    "start_time": "2022-12-24T11:56:51.020Z"
   },
   {
    "duration": 10,
    "start_time": "2022-12-24T11:56:51.817Z"
   },
   {
    "duration": 38,
    "start_time": "2022-12-24T11:56:51.829Z"
   },
   {
    "duration": 127,
    "start_time": "2022-12-24T11:56:51.869Z"
   },
   {
    "duration": 103,
    "start_time": "2022-12-24T11:56:52.001Z"
   },
   {
    "duration": 101,
    "start_time": "2022-12-24T11:56:52.111Z"
   },
   {
    "duration": 183,
    "start_time": "2022-12-24T11:56:52.217Z"
   },
   {
    "duration": 15,
    "start_time": "2022-12-24T11:56:52.404Z"
   },
   {
    "duration": 7,
    "start_time": "2022-12-24T11:56:52.421Z"
   },
   {
    "duration": 12,
    "start_time": "2022-12-24T11:56:52.429Z"
   },
   {
    "duration": 8,
    "start_time": "2022-12-24T11:56:52.443Z"
   },
   {
    "duration": 8,
    "start_time": "2022-12-24T11:56:52.452Z"
   },
   {
    "duration": 4,
    "start_time": "2022-12-24T11:56:52.462Z"
   },
   {
    "duration": 166,
    "start_time": "2022-12-24T11:56:52.468Z"
   },
   {
    "duration": 124,
    "start_time": "2022-12-24T11:56:52.636Z"
   },
   {
    "duration": 0,
    "start_time": "2022-12-24T11:56:52.762Z"
   },
   {
    "duration": 0,
    "start_time": "2022-12-24T11:56:52.764Z"
   },
   {
    "duration": 6,
    "start_time": "2022-12-24T11:57:38.458Z"
   },
   {
    "duration": 18,
    "start_time": "2022-12-24T11:57:39.648Z"
   },
   {
    "duration": 3,
    "start_time": "2022-12-24T11:59:21.048Z"
   },
   {
    "duration": 5,
    "start_time": "2022-12-24T11:59:23.972Z"
   },
   {
    "duration": 35,
    "start_time": "2022-12-24T11:59:25.690Z"
   },
   {
    "duration": 1383,
    "start_time": "2022-12-24T12:02:09.146Z"
   },
   {
    "duration": 380,
    "start_time": "2022-12-24T12:02:10.531Z"
   },
   {
    "duration": 16,
    "start_time": "2022-12-24T12:02:10.913Z"
   },
   {
    "duration": 42,
    "start_time": "2022-12-24T12:02:10.931Z"
   },
   {
    "duration": 28,
    "start_time": "2022-12-24T12:02:10.974Z"
   },
   {
    "duration": 16,
    "start_time": "2022-12-24T12:02:11.005Z"
   },
   {
    "duration": 46,
    "start_time": "2022-12-24T12:02:11.023Z"
   },
   {
    "duration": 14,
    "start_time": "2022-12-24T12:02:11.071Z"
   },
   {
    "duration": 53,
    "start_time": "2022-12-24T12:02:11.086Z"
   },
   {
    "duration": 9,
    "start_time": "2022-12-24T12:02:11.141Z"
   },
   {
    "duration": 7,
    "start_time": "2022-12-24T12:02:11.152Z"
   },
   {
    "duration": 63,
    "start_time": "2022-12-24T12:02:11.161Z"
   },
   {
    "duration": 13,
    "start_time": "2022-12-24T12:02:11.226Z"
   },
   {
    "duration": 35,
    "start_time": "2022-12-24T12:02:11.241Z"
   },
   {
    "duration": 28,
    "start_time": "2022-12-24T12:02:11.278Z"
   },
   {
    "duration": 11,
    "start_time": "2022-12-24T12:02:11.308Z"
   },
   {
    "duration": 47,
    "start_time": "2022-12-24T12:02:11.321Z"
   },
   {
    "duration": 12,
    "start_time": "2022-12-24T12:02:11.369Z"
   },
   {
    "duration": 347,
    "start_time": "2022-12-24T12:02:11.396Z"
   },
   {
    "duration": 356,
    "start_time": "2022-12-24T12:02:11.745Z"
   },
   {
    "duration": 321,
    "start_time": "2022-12-24T12:02:12.102Z"
   },
   {
    "duration": 828,
    "start_time": "2022-12-24T12:02:12.425Z"
   },
   {
    "duration": 731,
    "start_time": "2022-12-24T12:02:13.255Z"
   },
   {
    "duration": 727,
    "start_time": "2022-12-24T12:02:13.995Z"
   },
   {
    "duration": 10,
    "start_time": "2022-12-24T12:02:14.724Z"
   },
   {
    "duration": 34,
    "start_time": "2022-12-24T12:02:14.736Z"
   },
   {
    "duration": 43,
    "start_time": "2022-12-24T12:02:14.772Z"
   },
   {
    "duration": 97,
    "start_time": "2022-12-24T12:02:14.819Z"
   },
   {
    "duration": 207,
    "start_time": "2022-12-24T12:02:14.918Z"
   },
   {
    "duration": 78,
    "start_time": "2022-12-24T12:02:15.127Z"
   },
   {
    "duration": 92,
    "start_time": "2022-12-24T12:02:15.209Z"
   },
   {
    "duration": 17,
    "start_time": "2022-12-24T12:02:15.303Z"
   },
   {
    "duration": 19,
    "start_time": "2022-12-24T12:02:15.322Z"
   },
   {
    "duration": 6,
    "start_time": "2022-12-24T12:02:15.343Z"
   },
   {
    "duration": 10,
    "start_time": "2022-12-24T12:02:15.351Z"
   },
   {
    "duration": 3,
    "start_time": "2022-12-24T12:02:15.363Z"
   },
   {
    "duration": 141,
    "start_time": "2022-12-24T12:02:15.367Z"
   },
   {
    "duration": 163,
    "start_time": "2022-12-24T12:02:15.510Z"
   },
   {
    "duration": 0,
    "start_time": "2022-12-24T12:02:15.674Z"
   },
   {
    "duration": 0,
    "start_time": "2022-12-24T12:02:15.676Z"
   },
   {
    "duration": 6,
    "start_time": "2022-12-24T12:08:02.759Z"
   },
   {
    "duration": 13,
    "start_time": "2022-12-24T12:08:04.167Z"
   },
   {
    "duration": 5,
    "start_time": "2022-12-24T12:09:07.955Z"
   },
   {
    "duration": 21,
    "start_time": "2022-12-24T12:09:09.237Z"
   },
   {
    "duration": 1430,
    "start_time": "2022-12-24T12:10:22.314Z"
   },
   {
    "duration": 404,
    "start_time": "2022-12-24T12:10:23.746Z"
   },
   {
    "duration": 16,
    "start_time": "2022-12-24T12:10:24.151Z"
   },
   {
    "duration": 57,
    "start_time": "2022-12-24T12:10:24.169Z"
   },
   {
    "duration": 10,
    "start_time": "2022-12-24T12:10:24.227Z"
   },
   {
    "duration": 11,
    "start_time": "2022-12-24T12:10:24.238Z"
   },
   {
    "duration": 72,
    "start_time": "2022-12-24T12:10:24.251Z"
   },
   {
    "duration": 15,
    "start_time": "2022-12-24T12:10:24.325Z"
   },
   {
    "duration": 66,
    "start_time": "2022-12-24T12:10:24.342Z"
   },
   {
    "duration": 9,
    "start_time": "2022-12-24T12:10:24.413Z"
   },
   {
    "duration": 10,
    "start_time": "2022-12-24T12:10:24.423Z"
   },
   {
    "duration": 45,
    "start_time": "2022-12-24T12:10:24.434Z"
   },
   {
    "duration": 34,
    "start_time": "2022-12-24T12:10:24.480Z"
   },
   {
    "duration": 43,
    "start_time": "2022-12-24T12:10:24.515Z"
   },
   {
    "duration": 9,
    "start_time": "2022-12-24T12:10:24.559Z"
   },
   {
    "duration": 8,
    "start_time": "2022-12-24T12:10:24.570Z"
   },
   {
    "duration": 51,
    "start_time": "2022-12-24T12:10:24.599Z"
   },
   {
    "duration": 12,
    "start_time": "2022-12-24T12:10:24.652Z"
   },
   {
    "duration": 383,
    "start_time": "2022-12-24T12:10:24.666Z"
   },
   {
    "duration": 361,
    "start_time": "2022-12-24T12:10:25.051Z"
   },
   {
    "duration": 308,
    "start_time": "2022-12-24T12:10:25.414Z"
   },
   {
    "duration": 912,
    "start_time": "2022-12-24T12:10:25.724Z"
   },
   {
    "duration": 747,
    "start_time": "2022-12-24T12:10:26.637Z"
   },
   {
    "duration": 794,
    "start_time": "2022-12-24T12:10:27.386Z"
   },
   {
    "duration": 24,
    "start_time": "2022-12-24T12:10:28.182Z"
   },
   {
    "duration": 35,
    "start_time": "2022-12-24T12:10:28.209Z"
   },
   {
    "duration": 52,
    "start_time": "2022-12-24T12:10:28.245Z"
   },
   {
    "duration": 108,
    "start_time": "2022-12-24T12:10:28.302Z"
   },
   {
    "duration": 206,
    "start_time": "2022-12-24T12:10:28.413Z"
   },
   {
    "duration": 195,
    "start_time": "2022-12-24T12:10:28.621Z"
   },
   {
    "duration": 9,
    "start_time": "2022-12-24T12:10:28.818Z"
   },
   {
    "duration": 13,
    "start_time": "2022-12-24T12:10:28.829Z"
   },
   {
    "duration": 12,
    "start_time": "2022-12-24T12:10:28.843Z"
   },
   {
    "duration": 9,
    "start_time": "2022-12-24T12:10:28.857Z"
   },
   {
    "duration": 7,
    "start_time": "2022-12-24T12:10:28.867Z"
   },
   {
    "duration": 3,
    "start_time": "2022-12-24T12:10:28.876Z"
   },
   {
    "duration": 142,
    "start_time": "2022-12-24T12:10:28.881Z"
   },
   {
    "duration": 143,
    "start_time": "2022-12-24T12:10:29.024Z"
   },
   {
    "duration": 0,
    "start_time": "2022-12-24T12:10:29.169Z"
   },
   {
    "duration": 0,
    "start_time": "2022-12-24T12:10:29.171Z"
   },
   {
    "duration": 4,
    "start_time": "2022-12-24T12:11:32.118Z"
   },
   {
    "duration": 6,
    "start_time": "2022-12-24T12:11:32.936Z"
   },
   {
    "duration": 26,
    "start_time": "2022-12-24T12:11:34.948Z"
   },
   {
    "duration": 49,
    "start_time": "2022-12-24T12:11:52.689Z"
   },
   {
    "duration": 4,
    "start_time": "2022-12-24T12:12:58.942Z"
   },
   {
    "duration": 9,
    "start_time": "2022-12-24T12:12:59.529Z"
   },
   {
    "duration": 21,
    "start_time": "2022-12-24T12:13:02.442Z"
   },
   {
    "duration": 6,
    "start_time": "2022-12-24T12:17:32.097Z"
   },
   {
    "duration": 49,
    "start_time": "2022-12-24T12:17:56.239Z"
   },
   {
    "duration": 53,
    "start_time": "2022-12-24T12:18:03.057Z"
   },
   {
    "duration": 1444,
    "start_time": "2022-12-24T12:19:48.293Z"
   },
   {
    "duration": 407,
    "start_time": "2022-12-24T12:19:49.739Z"
   },
   {
    "duration": 16,
    "start_time": "2022-12-24T12:19:50.147Z"
   },
   {
    "duration": 57,
    "start_time": "2022-12-24T12:19:50.166Z"
   },
   {
    "duration": 9,
    "start_time": "2022-12-24T12:19:50.225Z"
   },
   {
    "duration": 9,
    "start_time": "2022-12-24T12:19:50.236Z"
   },
   {
    "duration": 92,
    "start_time": "2022-12-24T12:19:50.248Z"
   },
   {
    "duration": 20,
    "start_time": "2022-12-24T12:19:50.342Z"
   },
   {
    "duration": 67,
    "start_time": "2022-12-24T12:19:50.364Z"
   },
   {
    "duration": 9,
    "start_time": "2022-12-24T12:19:50.434Z"
   },
   {
    "duration": 16,
    "start_time": "2022-12-24T12:19:50.445Z"
   },
   {
    "duration": 67,
    "start_time": "2022-12-24T12:19:50.463Z"
   },
   {
    "duration": 23,
    "start_time": "2022-12-24T12:19:50.531Z"
   },
   {
    "duration": 64,
    "start_time": "2022-12-24T12:19:50.556Z"
   },
   {
    "duration": 10,
    "start_time": "2022-12-24T12:19:50.621Z"
   },
   {
    "duration": 22,
    "start_time": "2022-12-24T12:19:50.632Z"
   },
   {
    "duration": 58,
    "start_time": "2022-12-24T12:19:50.656Z"
   },
   {
    "duration": 13,
    "start_time": "2022-12-24T12:19:50.715Z"
   },
   {
    "duration": 363,
    "start_time": "2022-12-24T12:19:50.730Z"
   },
   {
    "duration": 328,
    "start_time": "2022-12-24T12:19:51.096Z"
   },
   {
    "duration": 328,
    "start_time": "2022-12-24T12:19:51.426Z"
   },
   {
    "duration": 816,
    "start_time": "2022-12-24T12:19:51.755Z"
   },
   {
    "duration": 778,
    "start_time": "2022-12-24T12:19:52.573Z"
   },
   {
    "duration": 799,
    "start_time": "2022-12-24T12:19:53.353Z"
   },
   {
    "duration": 13,
    "start_time": "2022-12-24T12:19:54.154Z"
   },
   {
    "duration": 67,
    "start_time": "2022-12-24T12:19:54.170Z"
   },
   {
    "duration": 68,
    "start_time": "2022-12-24T12:19:54.239Z"
   },
   {
    "duration": 184,
    "start_time": "2022-12-24T12:19:54.313Z"
   },
   {
    "duration": 133,
    "start_time": "2022-12-24T12:19:54.499Z"
   },
   {
    "duration": 62,
    "start_time": "2022-12-24T12:19:54.638Z"
   },
   {
    "duration": 122,
    "start_time": "2022-12-24T12:19:54.718Z"
   },
   {
    "duration": 9,
    "start_time": "2022-12-24T12:19:54.842Z"
   },
   {
    "duration": 14,
    "start_time": "2022-12-24T12:19:54.852Z"
   },
   {
    "duration": 7,
    "start_time": "2022-12-24T12:19:54.868Z"
   },
   {
    "duration": 9,
    "start_time": "2022-12-24T12:19:54.877Z"
   },
   {
    "duration": 4,
    "start_time": "2022-12-24T12:19:54.887Z"
   },
   {
    "duration": 29,
    "start_time": "2022-12-24T12:19:54.892Z"
   },
   {
    "duration": 207,
    "start_time": "2022-12-24T12:19:54.923Z"
   },
   {
    "duration": 0,
    "start_time": "2022-12-24T12:19:55.132Z"
   },
   {
    "duration": 0,
    "start_time": "2022-12-24T12:19:55.134Z"
   },
   {
    "duration": 0,
    "start_time": "2022-12-24T12:19:55.135Z"
   },
   {
    "duration": 4,
    "start_time": "2022-12-24T12:22:51.859Z"
   },
   {
    "duration": 5,
    "start_time": "2022-12-24T12:22:53.117Z"
   },
   {
    "duration": 58,
    "start_time": "2022-12-24T12:24:42.676Z"
   },
   {
    "duration": 7,
    "start_time": "2022-12-24T12:24:58.379Z"
   },
   {
    "duration": 1833,
    "start_time": "2022-12-24T12:25:00.065Z"
   },
   {
    "duration": 5,
    "start_time": "2022-12-24T12:26:44.637Z"
   },
   {
    "duration": 1744,
    "start_time": "2022-12-24T12:26:45.715Z"
   },
   {
    "duration": 6,
    "start_time": "2022-12-24T12:27:05.347Z"
   },
   {
    "duration": 1643,
    "start_time": "2022-12-24T12:27:06.767Z"
   },
   {
    "duration": 1531,
    "start_time": "2022-12-24T12:27:25.191Z"
   },
   {
    "duration": 403,
    "start_time": "2022-12-24T12:27:26.724Z"
   },
   {
    "duration": 15,
    "start_time": "2022-12-24T12:27:27.129Z"
   },
   {
    "duration": 67,
    "start_time": "2022-12-24T12:27:27.146Z"
   },
   {
    "duration": 10,
    "start_time": "2022-12-24T12:27:27.215Z"
   },
   {
    "duration": 7,
    "start_time": "2022-12-24T12:27:27.227Z"
   },
   {
    "duration": 66,
    "start_time": "2022-12-24T12:27:27.236Z"
   },
   {
    "duration": 16,
    "start_time": "2022-12-24T12:27:27.310Z"
   },
   {
    "duration": 36,
    "start_time": "2022-12-24T12:27:27.327Z"
   },
   {
    "duration": 9,
    "start_time": "2022-12-24T12:27:27.366Z"
   },
   {
    "duration": 32,
    "start_time": "2022-12-24T12:27:27.377Z"
   },
   {
    "duration": 48,
    "start_time": "2022-12-24T12:27:27.412Z"
   },
   {
    "duration": 13,
    "start_time": "2022-12-24T12:27:27.461Z"
   },
   {
    "duration": 53,
    "start_time": "2022-12-24T12:27:27.476Z"
   },
   {
    "duration": 10,
    "start_time": "2022-12-24T12:27:27.530Z"
   },
   {
    "duration": 18,
    "start_time": "2022-12-24T12:27:27.542Z"
   },
   {
    "duration": 58,
    "start_time": "2022-12-24T12:27:27.561Z"
   },
   {
    "duration": 11,
    "start_time": "2022-12-24T12:27:27.620Z"
   },
   {
    "duration": 338,
    "start_time": "2022-12-24T12:27:27.633Z"
   },
   {
    "duration": 342,
    "start_time": "2022-12-24T12:27:27.973Z"
   },
   {
    "duration": 310,
    "start_time": "2022-12-24T12:27:28.317Z"
   },
   {
    "duration": 819,
    "start_time": "2022-12-24T12:27:28.629Z"
   },
   {
    "duration": 752,
    "start_time": "2022-12-24T12:27:29.450Z"
   },
   {
    "duration": 763,
    "start_time": "2022-12-24T12:27:30.210Z"
   },
   {
    "duration": 10,
    "start_time": "2022-12-24T12:27:30.974Z"
   },
   {
    "duration": 75,
    "start_time": "2022-12-24T12:27:30.986Z"
   },
   {
    "duration": 30,
    "start_time": "2022-12-24T12:27:31.063Z"
   },
   {
    "duration": 203,
    "start_time": "2022-12-24T12:27:31.097Z"
   },
   {
    "duration": 121,
    "start_time": "2022-12-24T12:27:31.303Z"
   },
   {
    "duration": 221,
    "start_time": "2022-12-24T12:27:31.426Z"
   },
   {
    "duration": 58,
    "start_time": "2022-12-24T12:27:31.649Z"
   },
   {
    "duration": 37,
    "start_time": "2022-12-24T12:27:31.711Z"
   },
   {
    "duration": 54,
    "start_time": "2022-12-24T12:27:31.750Z"
   },
   {
    "duration": 26,
    "start_time": "2022-12-24T12:27:31.805Z"
   },
   {
    "duration": 9,
    "start_time": "2022-12-24T12:27:31.833Z"
   },
   {
    "duration": 5,
    "start_time": "2022-12-24T12:27:31.844Z"
   },
   {
    "duration": 7,
    "start_time": "2022-12-24T12:27:31.851Z"
   },
   {
    "duration": 145,
    "start_time": "2022-12-24T12:27:31.860Z"
   },
   {
    "duration": 1645,
    "start_time": "2022-12-24T12:27:32.010Z"
   },
   {
    "duration": 123,
    "start_time": "2022-12-24T12:27:33.660Z"
   },
   {
    "duration": 0,
    "start_time": "2022-12-24T12:27:33.784Z"
   },
   {
    "duration": 10,
    "start_time": "2022-12-24T12:28:50.268Z"
   },
   {
    "duration": 1831,
    "start_time": "2022-12-24T12:28:51.512Z"
   },
   {
    "duration": 5,
    "start_time": "2022-12-24T12:37:24.357Z"
   },
   {
    "duration": 8,
    "start_time": "2022-12-24T12:38:54.393Z"
   },
   {
    "duration": 3,
    "start_time": "2022-12-24T12:38:58.423Z"
   },
   {
    "duration": 5,
    "start_time": "2022-12-24T12:39:36.659Z"
   },
   {
    "duration": 14,
    "start_time": "2022-12-24T12:39:42.835Z"
   },
   {
    "duration": 9,
    "start_time": "2022-12-24T12:39:58.910Z"
   },
   {
    "duration": 1482,
    "start_time": "2022-12-24T12:40:00.221Z"
   },
   {
    "duration": 7,
    "start_time": "2022-12-24T12:40:49.918Z"
   },
   {
    "duration": 1612,
    "start_time": "2022-12-24T12:40:51.188Z"
   },
   {
    "duration": 1514,
    "start_time": "2022-12-24T12:42:24.577Z"
   },
   {
    "duration": 444,
    "start_time": "2022-12-24T12:42:26.094Z"
   },
   {
    "duration": 15,
    "start_time": "2022-12-24T12:42:26.540Z"
   },
   {
    "duration": 56,
    "start_time": "2022-12-24T12:42:26.557Z"
   },
   {
    "duration": 8,
    "start_time": "2022-12-24T12:42:26.615Z"
   },
   {
    "duration": 9,
    "start_time": "2022-12-24T12:42:26.625Z"
   },
   {
    "duration": 47,
    "start_time": "2022-12-24T12:42:26.636Z"
   },
   {
    "duration": 31,
    "start_time": "2022-12-24T12:42:26.685Z"
   },
   {
    "duration": 36,
    "start_time": "2022-12-24T12:42:26.718Z"
   },
   {
    "duration": 8,
    "start_time": "2022-12-24T12:42:26.757Z"
   },
   {
    "duration": 39,
    "start_time": "2022-12-24T12:42:26.767Z"
   },
   {
    "duration": 45,
    "start_time": "2022-12-24T12:42:26.808Z"
   },
   {
    "duration": 15,
    "start_time": "2022-12-24T12:42:26.854Z"
   },
   {
    "duration": 56,
    "start_time": "2022-12-24T12:42:26.870Z"
   },
   {
    "duration": 9,
    "start_time": "2022-12-24T12:42:26.928Z"
   },
   {
    "duration": 7,
    "start_time": "2022-12-24T12:42:26.939Z"
   },
   {
    "duration": 80,
    "start_time": "2022-12-24T12:42:26.948Z"
   },
   {
    "duration": 11,
    "start_time": "2022-12-24T12:42:27.030Z"
   },
   {
    "duration": 390,
    "start_time": "2022-12-24T12:42:27.042Z"
   },
   {
    "duration": 318,
    "start_time": "2022-12-24T12:42:27.433Z"
   },
   {
    "duration": 373,
    "start_time": "2022-12-24T12:42:27.752Z"
   },
   {
    "duration": 858,
    "start_time": "2022-12-24T12:42:28.127Z"
   },
   {
    "duration": 757,
    "start_time": "2022-12-24T12:42:28.987Z"
   },
   {
    "duration": 796,
    "start_time": "2022-12-24T12:42:29.746Z"
   },
   {
    "duration": 11,
    "start_time": "2022-12-24T12:42:30.544Z"
   },
   {
    "duration": 75,
    "start_time": "2022-12-24T12:42:30.557Z"
   },
   {
    "duration": 16,
    "start_time": "2022-12-24T12:42:30.634Z"
   },
   {
    "duration": 117,
    "start_time": "2022-12-24T12:42:30.708Z"
   },
   {
    "duration": 211,
    "start_time": "2022-12-24T12:42:30.826Z"
   },
   {
    "duration": 166,
    "start_time": "2022-12-24T12:42:31.039Z"
   },
   {
    "duration": 41,
    "start_time": "2022-12-24T12:42:31.209Z"
   },
   {
    "duration": 26,
    "start_time": "2022-12-24T12:42:31.252Z"
   },
   {
    "duration": 58,
    "start_time": "2022-12-24T12:42:31.279Z"
   },
   {
    "duration": 19,
    "start_time": "2022-12-24T12:42:31.339Z"
   },
   {
    "duration": 19,
    "start_time": "2022-12-24T12:42:31.360Z"
   },
   {
    "duration": 32,
    "start_time": "2022-12-24T12:42:31.381Z"
   },
   {
    "duration": 34,
    "start_time": "2022-12-24T12:42:31.414Z"
   },
   {
    "duration": 134,
    "start_time": "2022-12-24T12:42:31.450Z"
   },
   {
    "duration": 1596,
    "start_time": "2022-12-24T12:42:31.586Z"
   },
   {
    "duration": 146,
    "start_time": "2022-12-24T12:42:33.183Z"
   },
   {
    "duration": 0,
    "start_time": "2022-12-24T12:42:33.331Z"
   },
   {
    "duration": 1403,
    "start_time": "2022-12-24T12:42:41.249Z"
   },
   {
    "duration": 11,
    "start_time": "2022-12-24T12:42:55.339Z"
   },
   {
    "duration": 5,
    "start_time": "2022-12-24T12:43:00.385Z"
   },
   {
    "duration": 3,
    "start_time": "2022-12-24T12:43:00.869Z"
   },
   {
    "duration": 8,
    "start_time": "2022-12-24T12:43:01.489Z"
   },
   {
    "duration": 1543,
    "start_time": "2022-12-24T12:43:02.816Z"
   },
   {
    "duration": 5,
    "start_time": "2022-12-24T12:44:18.552Z"
   },
   {
    "duration": 5,
    "start_time": "2022-12-24T12:44:30.748Z"
   },
   {
    "duration": 19,
    "start_time": "2022-12-24T12:44:32.040Z"
   },
   {
    "duration": 5,
    "start_time": "2022-12-24T12:45:37.777Z"
   },
   {
    "duration": 3,
    "start_time": "2022-12-24T12:45:38.436Z"
   },
   {
    "duration": 5,
    "start_time": "2022-12-24T12:45:39.173Z"
   },
   {
    "duration": 1588,
    "start_time": "2022-12-24T12:45:40.880Z"
   },
   {
    "duration": 3,
    "start_time": "2022-12-24T12:47:11.072Z"
   },
   {
    "duration": 3,
    "start_time": "2022-12-24T12:47:12.175Z"
   },
   {
    "duration": 6,
    "start_time": "2022-12-24T12:47:17.092Z"
   },
   {
    "duration": 1637,
    "start_time": "2022-12-24T12:47:18.921Z"
   },
   {
    "duration": 1646,
    "start_time": "2022-12-24T12:47:35.523Z"
   },
   {
    "duration": 16,
    "start_time": "2022-12-24T12:47:40.345Z"
   },
   {
    "duration": 1613,
    "start_time": "2022-12-24T12:47:51.585Z"
   },
   {
    "duration": 14,
    "start_time": "2022-12-24T12:48:19.316Z"
   },
   {
    "duration": 1799,
    "start_time": "2022-12-24T12:48:24.975Z"
   },
   {
    "duration": 7,
    "start_time": "2022-12-24T12:49:00.321Z"
   },
   {
    "duration": 1604,
    "start_time": "2022-12-24T12:49:01.407Z"
   },
   {
    "duration": 1663,
    "start_time": "2022-12-24T12:49:05.743Z"
   },
   {
    "duration": 1581,
    "start_time": "2022-12-24T12:49:10.458Z"
   },
   {
    "duration": 6,
    "start_time": "2022-12-24T12:51:56.092Z"
   },
   {
    "duration": 3,
    "start_time": "2022-12-24T12:51:57.084Z"
   },
   {
    "duration": 52,
    "start_time": "2022-12-24T12:53:43.842Z"
   },
   {
    "duration": 1457,
    "start_time": "2022-12-24T12:54:34.686Z"
   },
   {
    "duration": 410,
    "start_time": "2022-12-24T12:54:36.146Z"
   },
   {
    "duration": 16,
    "start_time": "2022-12-24T12:54:36.558Z"
   },
   {
    "duration": 48,
    "start_time": "2022-12-24T12:54:36.576Z"
   },
   {
    "duration": 9,
    "start_time": "2022-12-24T12:54:36.625Z"
   },
   {
    "duration": 9,
    "start_time": "2022-12-24T12:54:36.636Z"
   },
   {
    "duration": 92,
    "start_time": "2022-12-24T12:54:36.646Z"
   },
   {
    "duration": 14,
    "start_time": "2022-12-24T12:54:36.740Z"
   },
   {
    "duration": 79,
    "start_time": "2022-12-24T12:54:36.755Z"
   },
   {
    "duration": 10,
    "start_time": "2022-12-24T12:54:36.837Z"
   },
   {
    "duration": 10,
    "start_time": "2022-12-24T12:54:36.898Z"
   },
   {
    "duration": 47,
    "start_time": "2022-12-24T12:54:36.910Z"
   },
   {
    "duration": 15,
    "start_time": "2022-12-24T12:54:36.958Z"
   },
   {
    "duration": 62,
    "start_time": "2022-12-24T12:54:36.974Z"
   },
   {
    "duration": 9,
    "start_time": "2022-12-24T12:54:37.038Z"
   },
   {
    "duration": 7,
    "start_time": "2022-12-24T12:54:37.049Z"
   },
   {
    "duration": 59,
    "start_time": "2022-12-24T12:54:37.058Z"
   },
   {
    "duration": 11,
    "start_time": "2022-12-24T12:54:37.118Z"
   },
   {
    "duration": 397,
    "start_time": "2022-12-24T12:54:37.130Z"
   },
   {
    "duration": 317,
    "start_time": "2022-12-24T12:54:37.529Z"
   },
   {
    "duration": 363,
    "start_time": "2022-12-24T12:54:37.848Z"
   },
   {
    "duration": 824,
    "start_time": "2022-12-24T12:54:38.213Z"
   },
   {
    "duration": 726,
    "start_time": "2022-12-24T12:54:39.039Z"
   },
   {
    "duration": 755,
    "start_time": "2022-12-24T12:54:39.767Z"
   },
   {
    "duration": 11,
    "start_time": "2022-12-24T12:54:40.524Z"
   },
   {
    "duration": 37,
    "start_time": "2022-12-24T12:54:40.537Z"
   },
   {
    "duration": 41,
    "start_time": "2022-12-24T12:54:40.576Z"
   },
   {
    "duration": 183,
    "start_time": "2022-12-24T12:54:40.621Z"
   },
   {
    "duration": 114,
    "start_time": "2022-12-24T12:54:40.812Z"
   },
   {
    "duration": 78,
    "start_time": "2022-12-24T12:54:40.928Z"
   },
   {
    "duration": 7,
    "start_time": "2022-12-24T12:54:41.008Z"
   },
   {
    "duration": 99,
    "start_time": "2022-12-24T12:54:41.018Z"
   },
   {
    "duration": 10,
    "start_time": "2022-12-24T12:54:41.119Z"
   },
   {
    "duration": 6,
    "start_time": "2022-12-24T12:54:41.131Z"
   },
   {
    "duration": 8,
    "start_time": "2022-12-24T12:54:41.139Z"
   },
   {
    "duration": 4,
    "start_time": "2022-12-24T12:54:41.148Z"
   },
   {
    "duration": 7,
    "start_time": "2022-12-24T12:54:41.153Z"
   },
   {
    "duration": 6,
    "start_time": "2022-12-24T12:54:41.162Z"
   },
   {
    "duration": 134,
    "start_time": "2022-12-24T12:54:41.170Z"
   },
   {
    "duration": 1526,
    "start_time": "2022-12-24T12:54:41.306Z"
   },
   {
    "duration": 1524,
    "start_time": "2022-12-24T12:54:42.833Z"
   },
   {
    "duration": 1575,
    "start_time": "2022-12-24T12:54:44.359Z"
   },
   {
    "duration": 9,
    "start_time": "2022-12-24T12:57:08.537Z"
   },
   {
    "duration": 1642,
    "start_time": "2022-12-24T12:57:09.447Z"
   },
   {
    "duration": 1593,
    "start_time": "2022-12-24T12:57:13.980Z"
   },
   {
    "duration": 1609,
    "start_time": "2022-12-24T12:57:22.804Z"
   },
   {
    "duration": 5,
    "start_time": "2022-12-24T12:57:54.372Z"
   },
   {
    "duration": 1654,
    "start_time": "2022-12-24T12:57:55.393Z"
   },
   {
    "duration": 1590,
    "start_time": "2022-12-24T12:58:00.151Z"
   },
   {
    "duration": 1587,
    "start_time": "2022-12-24T12:58:04.258Z"
   },
   {
    "duration": 5,
    "start_time": "2022-12-24T13:00:13.246Z"
   },
   {
    "duration": 1563,
    "start_time": "2022-12-24T13:00:14.187Z"
   },
   {
    "duration": 1551,
    "start_time": "2022-12-24T13:00:21.623Z"
   },
   {
    "duration": 1691,
    "start_time": "2022-12-24T13:00:25.622Z"
   },
   {
    "duration": 1509,
    "start_time": "2022-12-24T13:00:34.670Z"
   },
   {
    "duration": 392,
    "start_time": "2022-12-24T13:00:36.181Z"
   },
   {
    "duration": 26,
    "start_time": "2022-12-24T13:00:36.574Z"
   },
   {
    "duration": 41,
    "start_time": "2022-12-24T13:00:36.602Z"
   },
   {
    "duration": 9,
    "start_time": "2022-12-24T13:00:36.644Z"
   },
   {
    "duration": 8,
    "start_time": "2022-12-24T13:00:36.655Z"
   },
   {
    "duration": 73,
    "start_time": "2022-12-24T13:00:36.665Z"
   },
   {
    "duration": 14,
    "start_time": "2022-12-24T13:00:36.739Z"
   },
   {
    "duration": 58,
    "start_time": "2022-12-24T13:00:36.754Z"
   },
   {
    "duration": 10,
    "start_time": "2022-12-24T13:00:36.814Z"
   },
   {
    "duration": 11,
    "start_time": "2022-12-24T13:00:36.825Z"
   },
   {
    "duration": 42,
    "start_time": "2022-12-24T13:00:36.838Z"
   },
   {
    "duration": 34,
    "start_time": "2022-12-24T13:00:36.881Z"
   },
   {
    "duration": 37,
    "start_time": "2022-12-24T13:00:36.917Z"
   },
   {
    "duration": 9,
    "start_time": "2022-12-24T13:00:36.956Z"
   },
   {
    "duration": 9,
    "start_time": "2022-12-24T13:00:36.967Z"
   },
   {
    "duration": 50,
    "start_time": "2022-12-24T13:00:36.999Z"
   },
   {
    "duration": 12,
    "start_time": "2022-12-24T13:00:37.051Z"
   },
   {
    "duration": 365,
    "start_time": "2022-12-24T13:00:37.065Z"
   },
   {
    "duration": 311,
    "start_time": "2022-12-24T13:00:37.432Z"
   },
   {
    "duration": 367,
    "start_time": "2022-12-24T13:00:37.745Z"
   },
   {
    "duration": 806,
    "start_time": "2022-12-24T13:00:38.113Z"
   },
   {
    "duration": 726,
    "start_time": "2022-12-24T13:00:38.921Z"
   },
   {
    "duration": 800,
    "start_time": "2022-12-24T13:00:39.648Z"
   },
   {
    "duration": 10,
    "start_time": "2022-12-24T13:00:40.450Z"
   },
   {
    "duration": 48,
    "start_time": "2022-12-24T13:00:40.462Z"
   },
   {
    "duration": 88,
    "start_time": "2022-12-24T13:00:40.513Z"
   },
   {
    "duration": 112,
    "start_time": "2022-12-24T13:00:40.604Z"
   },
   {
    "duration": 97,
    "start_time": "2022-12-24T13:00:40.719Z"
   },
   {
    "duration": 194,
    "start_time": "2022-12-24T13:00:40.818Z"
   },
   {
    "duration": 10,
    "start_time": "2022-12-24T13:00:41.014Z"
   },
   {
    "duration": 7,
    "start_time": "2022-12-24T13:00:41.026Z"
   },
   {
    "duration": 9,
    "start_time": "2022-12-24T13:00:41.035Z"
   },
   {
    "duration": 8,
    "start_time": "2022-12-24T13:00:41.045Z"
   },
   {
    "duration": 7,
    "start_time": "2022-12-24T13:00:41.055Z"
   },
   {
    "duration": 3,
    "start_time": "2022-12-24T13:00:41.064Z"
   },
   {
    "duration": 28,
    "start_time": "2022-12-24T13:00:41.069Z"
   },
   {
    "duration": 8,
    "start_time": "2022-12-24T13:00:41.104Z"
   },
   {
    "duration": 129,
    "start_time": "2022-12-24T13:00:41.114Z"
   },
   {
    "duration": 1612,
    "start_time": "2022-12-24T13:00:41.245Z"
   },
   {
    "duration": 1553,
    "start_time": "2022-12-24T13:00:42.859Z"
   },
   {
    "duration": 1564,
    "start_time": "2022-12-24T13:00:44.414Z"
   },
   {
    "duration": 1461,
    "start_time": "2022-12-24T13:21:32.021Z"
   },
   {
    "duration": 407,
    "start_time": "2022-12-24T13:21:33.484Z"
   },
   {
    "duration": 31,
    "start_time": "2022-12-24T13:21:33.892Z"
   },
   {
    "duration": 47,
    "start_time": "2022-12-24T13:21:33.927Z"
   },
   {
    "duration": 9,
    "start_time": "2022-12-24T13:21:33.976Z"
   },
   {
    "duration": 28,
    "start_time": "2022-12-24T13:21:33.987Z"
   },
   {
    "duration": 55,
    "start_time": "2022-12-24T13:21:34.017Z"
   },
   {
    "duration": 14,
    "start_time": "2022-12-24T13:21:34.073Z"
   },
   {
    "duration": 43,
    "start_time": "2022-12-24T13:21:34.100Z"
   },
   {
    "duration": 9,
    "start_time": "2022-12-24T13:21:34.145Z"
   },
   {
    "duration": 10,
    "start_time": "2022-12-24T13:21:34.155Z"
   },
   {
    "duration": 64,
    "start_time": "2022-12-24T13:21:34.166Z"
   },
   {
    "duration": 13,
    "start_time": "2022-12-24T13:21:34.232Z"
   },
   {
    "duration": 35,
    "start_time": "2022-12-24T13:21:34.248Z"
   },
   {
    "duration": 20,
    "start_time": "2022-12-24T13:21:34.284Z"
   },
   {
    "duration": 32,
    "start_time": "2022-12-24T13:21:34.306Z"
   },
   {
    "duration": 49,
    "start_time": "2022-12-24T13:21:34.341Z"
   },
   {
    "duration": 15,
    "start_time": "2022-12-24T13:21:34.391Z"
   },
   {
    "duration": 342,
    "start_time": "2022-12-24T13:21:34.408Z"
   },
   {
    "duration": 366,
    "start_time": "2022-12-24T13:21:34.752Z"
   },
   {
    "duration": 327,
    "start_time": "2022-12-24T13:21:35.120Z"
   },
   {
    "duration": 936,
    "start_time": "2022-12-24T13:21:35.450Z"
   },
   {
    "duration": 764,
    "start_time": "2022-12-24T13:21:36.395Z"
   },
   {
    "duration": 811,
    "start_time": "2022-12-24T13:21:37.162Z"
   },
   {
    "duration": 11,
    "start_time": "2022-12-24T13:21:37.975Z"
   },
   {
    "duration": 44,
    "start_time": "2022-12-24T13:21:37.996Z"
   },
   {
    "duration": 63,
    "start_time": "2022-12-24T13:21:38.042Z"
   },
   {
    "duration": 228,
    "start_time": "2022-12-24T13:21:38.113Z"
   },
   {
    "duration": 109,
    "start_time": "2022-12-24T13:21:38.398Z"
   },
   {
    "duration": 115,
    "start_time": "2022-12-24T13:21:38.511Z"
   },
   {
    "duration": 5,
    "start_time": "2022-12-24T13:21:38.627Z"
   },
   {
    "duration": 3,
    "start_time": "2022-12-24T13:21:38.634Z"
   },
   {
    "duration": 11,
    "start_time": "2022-12-24T13:21:38.639Z"
   },
   {
    "duration": 6,
    "start_time": "2022-12-24T13:21:38.652Z"
   },
   {
    "duration": 7,
    "start_time": "2022-12-24T13:21:38.660Z"
   },
   {
    "duration": 5,
    "start_time": "2022-12-24T13:21:38.669Z"
   },
   {
    "duration": 8,
    "start_time": "2022-12-24T13:21:38.675Z"
   },
   {
    "duration": 13,
    "start_time": "2022-12-24T13:21:38.685Z"
   },
   {
    "duration": 31,
    "start_time": "2022-12-24T13:21:38.701Z"
   },
   {
    "duration": 1691,
    "start_time": "2022-12-24T13:21:38.734Z"
   },
   {
    "duration": 1628,
    "start_time": "2022-12-24T13:21:40.428Z"
   },
   {
    "duration": 1666,
    "start_time": "2022-12-24T13:21:42.058Z"
   },
   {
    "duration": 1718,
    "start_time": "2022-12-24T21:08:00.145Z"
   },
   {
    "duration": 1092,
    "start_time": "2022-12-24T21:08:01.865Z"
   },
   {
    "duration": 18,
    "start_time": "2022-12-24T21:08:02.958Z"
   },
   {
    "duration": 46,
    "start_time": "2022-12-24T21:08:02.979Z"
   },
   {
    "duration": 9,
    "start_time": "2022-12-24T21:08:03.026Z"
   },
   {
    "duration": 9,
    "start_time": "2022-12-24T21:08:03.037Z"
   },
   {
    "duration": 76,
    "start_time": "2022-12-24T21:08:03.047Z"
   },
   {
    "duration": 15,
    "start_time": "2022-12-24T21:08:03.125Z"
   },
   {
    "duration": 57,
    "start_time": "2022-12-24T21:08:03.142Z"
   },
   {
    "duration": 9,
    "start_time": "2022-12-24T21:08:03.201Z"
   },
   {
    "duration": 9,
    "start_time": "2022-12-24T21:08:03.212Z"
   },
   {
    "duration": 66,
    "start_time": "2022-12-24T21:08:03.223Z"
   },
   {
    "duration": 19,
    "start_time": "2022-12-24T21:08:03.292Z"
   },
   {
    "duration": 38,
    "start_time": "2022-12-24T21:08:03.313Z"
   },
   {
    "duration": 35,
    "start_time": "2022-12-24T21:08:03.353Z"
   },
   {
    "duration": 11,
    "start_time": "2022-12-24T21:08:03.390Z"
   },
   {
    "duration": 47,
    "start_time": "2022-12-24T21:08:03.403Z"
   },
   {
    "duration": 29,
    "start_time": "2022-12-24T21:08:03.453Z"
   },
   {
    "duration": 375,
    "start_time": "2022-12-24T21:08:03.484Z"
   },
   {
    "duration": 344,
    "start_time": "2022-12-24T21:08:03.862Z"
   },
   {
    "duration": 322,
    "start_time": "2022-12-24T21:08:04.208Z"
   },
   {
    "duration": 836,
    "start_time": "2022-12-24T21:08:04.531Z"
   },
   {
    "duration": 761,
    "start_time": "2022-12-24T21:08:05.369Z"
   },
   {
    "duration": 728,
    "start_time": "2022-12-24T21:08:06.132Z"
   },
   {
    "duration": 19,
    "start_time": "2022-12-24T21:08:06.862Z"
   },
   {
    "duration": 42,
    "start_time": "2022-12-24T21:08:06.882Z"
   },
   {
    "duration": 17,
    "start_time": "2022-12-24T21:08:06.926Z"
   },
   {
    "duration": 50,
    "start_time": "2022-12-24T21:08:06.946Z"
   },
   {
    "duration": 122,
    "start_time": "2022-12-24T21:08:07.078Z"
   },
   {
    "duration": 76,
    "start_time": "2022-12-24T21:08:07.202Z"
   },
   {
    "duration": 101,
    "start_time": "2022-12-24T21:08:07.281Z"
   },
   {
    "duration": 15,
    "start_time": "2022-12-24T21:08:07.384Z"
   },
   {
    "duration": 10,
    "start_time": "2022-12-24T21:08:07.400Z"
   },
   {
    "duration": 7,
    "start_time": "2022-12-24T21:08:07.413Z"
   },
   {
    "duration": 8,
    "start_time": "2022-12-24T21:08:07.422Z"
   },
   {
    "duration": 3,
    "start_time": "2022-12-24T21:08:07.432Z"
   },
   {
    "duration": 7,
    "start_time": "2022-12-24T21:08:07.437Z"
   },
   {
    "duration": 34,
    "start_time": "2022-12-24T21:08:07.446Z"
   },
   {
    "duration": 136,
    "start_time": "2022-12-24T21:08:07.481Z"
   },
   {
    "duration": 1604,
    "start_time": "2022-12-24T21:08:07.619Z"
   },
   {
    "duration": 1551,
    "start_time": "2022-12-24T21:08:09.224Z"
   },
   {
    "duration": 1572,
    "start_time": "2022-12-24T21:08:10.777Z"
   },
   {
    "duration": 1537,
    "start_time": "2022-12-26T07:23:20.141Z"
   },
   {
    "duration": 1447,
    "start_time": "2022-12-26T07:23:21.680Z"
   },
   {
    "duration": 16,
    "start_time": "2022-12-26T07:23:23.128Z"
   },
   {
    "duration": 41,
    "start_time": "2022-12-26T07:23:23.146Z"
   },
   {
    "duration": 8,
    "start_time": "2022-12-26T07:23:23.189Z"
   },
   {
    "duration": 24,
    "start_time": "2022-12-26T07:23:23.199Z"
   },
   {
    "duration": 45,
    "start_time": "2022-12-26T07:23:23.225Z"
   },
   {
    "duration": 13,
    "start_time": "2022-12-26T07:23:23.272Z"
   },
   {
    "duration": 59,
    "start_time": "2022-12-26T07:23:23.287Z"
   },
   {
    "duration": 9,
    "start_time": "2022-12-26T07:23:23.349Z"
   },
   {
    "duration": 9,
    "start_time": "2022-12-26T07:23:23.360Z"
   },
   {
    "duration": 64,
    "start_time": "2022-12-26T07:23:23.371Z"
   },
   {
    "duration": 15,
    "start_time": "2022-12-26T07:23:23.437Z"
   },
   {
    "duration": 35,
    "start_time": "2022-12-26T07:23:23.454Z"
   },
   {
    "duration": 33,
    "start_time": "2022-12-26T07:23:23.491Z"
   },
   {
    "duration": 7,
    "start_time": "2022-12-26T07:23:23.526Z"
   },
   {
    "duration": 49,
    "start_time": "2022-12-26T07:23:23.535Z"
   },
   {
    "duration": 11,
    "start_time": "2022-12-26T07:23:23.586Z"
   },
   {
    "duration": 385,
    "start_time": "2022-12-26T07:23:23.598Z"
   },
   {
    "duration": 378,
    "start_time": "2022-12-26T07:23:23.984Z"
   },
   {
    "duration": 323,
    "start_time": "2022-12-26T07:23:24.364Z"
   },
   {
    "duration": 773,
    "start_time": "2022-12-26T07:23:24.688Z"
   },
   {
    "duration": 692,
    "start_time": "2022-12-26T07:23:25.462Z"
   },
   {
    "duration": 728,
    "start_time": "2022-12-26T07:23:26.155Z"
   },
   {
    "duration": 10,
    "start_time": "2022-12-26T07:23:26.885Z"
   },
   {
    "duration": 44,
    "start_time": "2022-12-26T07:23:26.896Z"
   },
   {
    "duration": 15,
    "start_time": "2022-12-26T07:23:26.942Z"
   },
   {
    "duration": 103,
    "start_time": "2022-12-26T07:23:27.026Z"
   },
   {
    "duration": 193,
    "start_time": "2022-12-26T07:23:27.130Z"
   },
   {
    "duration": 100,
    "start_time": "2022-12-26T07:23:27.325Z"
   },
   {
    "duration": 9,
    "start_time": "2022-12-26T07:23:27.427Z"
   },
   {
    "duration": 6,
    "start_time": "2022-12-26T07:23:27.438Z"
   },
   {
    "duration": 6,
    "start_time": "2022-12-26T07:23:27.446Z"
   },
   {
    "duration": 120,
    "start_time": "2022-12-26T07:23:27.454Z"
   },
   {
    "duration": 0,
    "start_time": "2022-12-26T07:23:27.576Z"
   },
   {
    "duration": 0,
    "start_time": "2022-12-26T07:23:27.578Z"
   },
   {
    "duration": 0,
    "start_time": "2022-12-26T07:23:27.703Z"
   },
   {
    "duration": 0,
    "start_time": "2022-12-26T07:23:27.704Z"
   },
   {
    "duration": 0,
    "start_time": "2022-12-26T07:23:27.706Z"
   },
   {
    "duration": 0,
    "start_time": "2022-12-26T07:23:27.722Z"
   },
   {
    "duration": 0,
    "start_time": "2022-12-26T07:23:27.723Z"
   },
   {
    "duration": 0,
    "start_time": "2022-12-26T07:23:27.725Z"
   },
   {
    "duration": 1,
    "start_time": "2022-12-26T07:23:27.726Z"
   },
   {
    "duration": 1487,
    "start_time": "2022-12-26T07:28:33.230Z"
   },
   {
    "duration": 367,
    "start_time": "2022-12-26T07:28:34.719Z"
   },
   {
    "duration": 15,
    "start_time": "2022-12-26T07:28:35.087Z"
   },
   {
    "duration": 55,
    "start_time": "2022-12-26T07:28:35.104Z"
   },
   {
    "duration": 9,
    "start_time": "2022-12-26T07:28:35.161Z"
   },
   {
    "duration": 33,
    "start_time": "2022-12-26T07:28:35.171Z"
   },
   {
    "duration": 45,
    "start_time": "2022-12-26T07:28:35.206Z"
   },
   {
    "duration": 14,
    "start_time": "2022-12-26T07:28:35.252Z"
   },
   {
    "duration": 36,
    "start_time": "2022-12-26T07:28:35.267Z"
   },
   {
    "duration": 11,
    "start_time": "2022-12-26T07:28:35.321Z"
   },
   {
    "duration": 20,
    "start_time": "2022-12-26T07:28:35.333Z"
   },
   {
    "duration": 46,
    "start_time": "2022-12-26T07:28:35.354Z"
   },
   {
    "duration": 26,
    "start_time": "2022-12-26T07:28:35.402Z"
   },
   {
    "duration": 36,
    "start_time": "2022-12-26T07:28:35.430Z"
   },
   {
    "duration": 9,
    "start_time": "2022-12-26T07:28:35.468Z"
   },
   {
    "duration": 11,
    "start_time": "2022-12-26T07:28:35.479Z"
   },
   {
    "duration": 69,
    "start_time": "2022-12-26T07:28:35.492Z"
   },
   {
    "duration": 11,
    "start_time": "2022-12-26T07:28:35.563Z"
   },
   {
    "duration": 377,
    "start_time": "2022-12-26T07:28:35.576Z"
   },
   {
    "duration": 326,
    "start_time": "2022-12-26T07:28:35.955Z"
   },
   {
    "duration": 344,
    "start_time": "2022-12-26T07:28:36.283Z"
   },
   {
    "duration": 773,
    "start_time": "2022-12-26T07:28:36.629Z"
   },
   {
    "duration": 679,
    "start_time": "2022-12-26T07:28:37.404Z"
   },
   {
    "duration": 663,
    "start_time": "2022-12-26T07:28:38.086Z"
   },
   {
    "duration": 10,
    "start_time": "2022-12-26T07:28:38.750Z"
   },
   {
    "duration": 41,
    "start_time": "2022-12-26T07:28:38.761Z"
   },
   {
    "duration": 29,
    "start_time": "2022-12-26T07:28:38.804Z"
   },
   {
    "duration": 185,
    "start_time": "2022-12-26T07:28:38.837Z"
   },
   {
    "duration": 101,
    "start_time": "2022-12-26T07:28:39.024Z"
   },
   {
    "duration": 104,
    "start_time": "2022-12-26T07:28:39.127Z"
   },
   {
    "duration": 16,
    "start_time": "2022-12-26T07:28:39.323Z"
   },
   {
    "duration": 5,
    "start_time": "2022-12-26T07:28:39.340Z"
   },
   {
    "duration": 6,
    "start_time": "2022-12-26T07:28:39.347Z"
   },
   {
    "duration": 4,
    "start_time": "2022-12-26T07:28:39.354Z"
   },
   {
    "duration": 7,
    "start_time": "2022-12-26T07:28:39.360Z"
   },
   {
    "duration": 226,
    "start_time": "2022-12-26T07:28:39.369Z"
   },
   {
    "duration": 0,
    "start_time": "2022-12-26T07:28:39.597Z"
   },
   {
    "duration": 0,
    "start_time": "2022-12-26T07:28:39.598Z"
   },
   {
    "duration": 0,
    "start_time": "2022-12-26T07:28:39.599Z"
   },
   {
    "duration": 0,
    "start_time": "2022-12-26T07:28:39.600Z"
   },
   {
    "duration": 0,
    "start_time": "2022-12-26T07:28:39.601Z"
   },
   {
    "duration": 0,
    "start_time": "2022-12-26T07:28:39.602Z"
   },
   {
    "duration": 0,
    "start_time": "2022-12-26T07:28:39.603Z"
   },
   {
    "duration": 0,
    "start_time": "2022-12-26T07:28:39.604Z"
   },
   {
    "duration": 9,
    "start_time": "2022-12-26T07:28:48.803Z"
   },
   {
    "duration": 22,
    "start_time": "2022-12-26T07:28:51.042Z"
   },
   {
    "duration": 9,
    "start_time": "2022-12-26T07:29:24.551Z"
   },
   {
    "duration": 9,
    "start_time": "2022-12-26T07:29:26.398Z"
   },
   {
    "duration": 9,
    "start_time": "2022-12-26T07:29:30.800Z"
   },
   {
    "duration": 9,
    "start_time": "2022-12-26T07:33:41.664Z"
   },
   {
    "duration": 7,
    "start_time": "2022-12-26T07:33:50.598Z"
   },
   {
    "duration": 9,
    "start_time": "2022-12-26T07:34:09.676Z"
   },
   {
    "duration": 10,
    "start_time": "2022-12-26T07:34:19.260Z"
   },
   {
    "duration": 7,
    "start_time": "2022-12-26T07:34:56.017Z"
   },
   {
    "duration": 1360,
    "start_time": "2022-12-26T07:35:00.171Z"
   },
   {
    "duration": 376,
    "start_time": "2022-12-26T07:35:01.533Z"
   },
   {
    "duration": 20,
    "start_time": "2022-12-26T07:35:01.910Z"
   },
   {
    "duration": 43,
    "start_time": "2022-12-26T07:35:01.933Z"
   },
   {
    "duration": 9,
    "start_time": "2022-12-26T07:35:01.977Z"
   },
   {
    "duration": 11,
    "start_time": "2022-12-26T07:35:01.987Z"
   },
   {
    "duration": 71,
    "start_time": "2022-12-26T07:35:01.999Z"
   },
   {
    "duration": 15,
    "start_time": "2022-12-26T07:35:02.072Z"
   },
   {
    "duration": 57,
    "start_time": "2022-12-26T07:35:02.089Z"
   },
   {
    "duration": 9,
    "start_time": "2022-12-26T07:35:02.149Z"
   },
   {
    "duration": 18,
    "start_time": "2022-12-26T07:35:02.160Z"
   },
   {
    "duration": 57,
    "start_time": "2022-12-26T07:35:02.179Z"
   },
   {
    "duration": 13,
    "start_time": "2022-12-26T07:35:02.237Z"
   },
   {
    "duration": 40,
    "start_time": "2022-12-26T07:35:02.252Z"
   },
   {
    "duration": 8,
    "start_time": "2022-12-26T07:35:02.294Z"
   },
   {
    "duration": 6,
    "start_time": "2022-12-26T07:35:02.322Z"
   },
   {
    "duration": 55,
    "start_time": "2022-12-26T07:35:02.329Z"
   },
   {
    "duration": 10,
    "start_time": "2022-12-26T07:35:02.386Z"
   },
   {
    "duration": 356,
    "start_time": "2022-12-26T07:35:02.398Z"
   },
   {
    "duration": 303,
    "start_time": "2022-12-26T07:35:02.755Z"
   },
   {
    "duration": 320,
    "start_time": "2022-12-26T07:35:03.059Z"
   },
   {
    "duration": 794,
    "start_time": "2022-12-26T07:35:03.381Z"
   },
   {
    "duration": 690,
    "start_time": "2022-12-26T07:35:04.177Z"
   },
   {
    "duration": 676,
    "start_time": "2022-12-26T07:35:04.868Z"
   },
   {
    "duration": 10,
    "start_time": "2022-12-26T07:35:05.545Z"
   },
   {
    "duration": 31,
    "start_time": "2022-12-26T07:35:05.557Z"
   },
   {
    "duration": 36,
    "start_time": "2022-12-26T07:35:05.590Z"
   },
   {
    "duration": 111,
    "start_time": "2022-12-26T07:35:05.721Z"
   },
   {
    "duration": 15,
    "start_time": "2022-12-26T07:35:05.923Z"
   },
   {
    "duration": 101,
    "start_time": "2022-12-26T07:35:06.028Z"
   },
   {
    "duration": 23,
    "start_time": "2022-12-26T07:35:06.130Z"
   },
   {
    "duration": 41,
    "start_time": "2022-12-26T07:35:06.155Z"
   },
   {
    "duration": 17,
    "start_time": "2022-12-26T07:35:06.198Z"
   },
   {
    "duration": 18,
    "start_time": "2022-12-26T07:35:06.217Z"
   },
   {
    "duration": 21,
    "start_time": "2022-12-26T07:35:06.237Z"
   },
   {
    "duration": 129,
    "start_time": "2022-12-26T07:35:06.260Z"
   },
   {
    "duration": 7,
    "start_time": "2022-12-26T07:35:06.391Z"
   },
   {
    "duration": 12,
    "start_time": "2022-12-26T07:35:06.400Z"
   },
   {
    "duration": 4,
    "start_time": "2022-12-26T07:35:06.422Z"
   },
   {
    "duration": 41,
    "start_time": "2022-12-26T07:35:06.427Z"
   },
   {
    "duration": 48,
    "start_time": "2022-12-26T07:35:06.469Z"
   },
   {
    "duration": 1540,
    "start_time": "2022-12-26T07:35:06.518Z"
   },
   {
    "duration": 1446,
    "start_time": "2022-12-26T07:35:08.060Z"
   },
   {
    "duration": 1453,
    "start_time": "2022-12-26T07:35:09.507Z"
   },
   {
    "duration": 110,
    "start_time": "2022-12-26T07:35:34.481Z"
   },
   {
    "duration": 9,
    "start_time": "2022-12-26T07:35:46.088Z"
   },
   {
    "duration": 7,
    "start_time": "2022-12-26T07:36:02.055Z"
   },
   {
    "duration": 10,
    "start_time": "2022-12-26T07:36:21.334Z"
   },
   {
    "duration": 1349,
    "start_time": "2022-12-26T07:36:30.822Z"
   },
   {
    "duration": 345,
    "start_time": "2022-12-26T07:36:32.172Z"
   },
   {
    "duration": 15,
    "start_time": "2022-12-26T07:36:32.519Z"
   },
   {
    "duration": 41,
    "start_time": "2022-12-26T07:36:32.536Z"
   },
   {
    "duration": 8,
    "start_time": "2022-12-26T07:36:32.579Z"
   },
   {
    "duration": 9,
    "start_time": "2022-12-26T07:36:32.589Z"
   },
   {
    "duration": 44,
    "start_time": "2022-12-26T07:36:32.623Z"
   },
   {
    "duration": 14,
    "start_time": "2022-12-26T07:36:32.668Z"
   },
   {
    "duration": 56,
    "start_time": "2022-12-26T07:36:32.683Z"
   },
   {
    "duration": 9,
    "start_time": "2022-12-26T07:36:32.741Z"
   },
   {
    "duration": 10,
    "start_time": "2022-12-26T07:36:32.751Z"
   },
   {
    "duration": 50,
    "start_time": "2022-12-26T07:36:32.763Z"
   },
   {
    "duration": 14,
    "start_time": "2022-12-26T07:36:32.821Z"
   },
   {
    "duration": 37,
    "start_time": "2022-12-26T07:36:32.837Z"
   },
   {
    "duration": 8,
    "start_time": "2022-12-26T07:36:32.876Z"
   },
   {
    "duration": 10,
    "start_time": "2022-12-26T07:36:32.885Z"
   },
   {
    "duration": 63,
    "start_time": "2022-12-26T07:36:32.897Z"
   },
   {
    "duration": 10,
    "start_time": "2022-12-26T07:36:32.962Z"
   },
   {
    "duration": 379,
    "start_time": "2022-12-26T07:36:32.974Z"
   },
   {
    "duration": 297,
    "start_time": "2022-12-26T07:36:33.355Z"
   },
   {
    "duration": 317,
    "start_time": "2022-12-26T07:36:33.653Z"
   },
   {
    "duration": 775,
    "start_time": "2022-12-26T07:36:33.971Z"
   },
   {
    "duration": 654,
    "start_time": "2022-12-26T07:36:34.747Z"
   },
   {
    "duration": 683,
    "start_time": "2022-12-26T07:36:35.402Z"
   },
   {
    "duration": 10,
    "start_time": "2022-12-26T07:36:36.087Z"
   },
   {
    "duration": 42,
    "start_time": "2022-12-26T07:36:36.098Z"
   },
   {
    "duration": 83,
    "start_time": "2022-12-26T07:36:36.142Z"
   },
   {
    "duration": 15,
    "start_time": "2022-12-26T07:36:36.321Z"
   },
   {
    "duration": 187,
    "start_time": "2022-12-26T07:36:36.338Z"
   },
   {
    "duration": 107,
    "start_time": "2022-12-26T07:36:36.527Z"
   },
   {
    "duration": 9,
    "start_time": "2022-12-26T07:36:36.636Z"
   },
   {
    "duration": 5,
    "start_time": "2022-12-26T07:36:36.647Z"
   },
   {
    "duration": 7,
    "start_time": "2022-12-26T07:36:36.653Z"
   },
   {
    "duration": 62,
    "start_time": "2022-12-26T07:36:36.662Z"
   },
   {
    "duration": 11,
    "start_time": "2022-12-26T07:36:36.725Z"
   },
   {
    "duration": 122,
    "start_time": "2022-12-26T07:36:36.737Z"
   },
   {
    "duration": 9,
    "start_time": "2022-12-26T07:36:36.861Z"
   },
   {
    "duration": 9,
    "start_time": "2022-12-26T07:36:36.872Z"
   },
   {
    "duration": 4,
    "start_time": "2022-12-26T07:36:36.883Z"
   },
   {
    "duration": 7,
    "start_time": "2022-12-26T07:36:36.889Z"
   },
   {
    "duration": 31,
    "start_time": "2022-12-26T07:36:36.897Z"
   },
   {
    "duration": 1422,
    "start_time": "2022-12-26T07:36:36.930Z"
   },
   {
    "duration": 1395,
    "start_time": "2022-12-26T07:36:38.354Z"
   },
   {
    "duration": 1460,
    "start_time": "2022-12-26T07:36:39.751Z"
   },
   {
    "duration": 12,
    "start_time": "2022-12-26T07:36:51.539Z"
   },
   {
    "duration": 6,
    "start_time": "2022-12-26T07:36:59.948Z"
   },
   {
    "duration": 7,
    "start_time": "2022-12-26T07:37:10.714Z"
   },
   {
    "duration": 9,
    "start_time": "2022-12-26T07:37:27.061Z"
   },
   {
    "duration": 1287,
    "start_time": "2022-12-26T07:37:32.075Z"
   },
   {
    "duration": 347,
    "start_time": "2022-12-26T07:37:33.364Z"
   },
   {
    "duration": 14,
    "start_time": "2022-12-26T07:37:33.713Z"
   },
   {
    "duration": 40,
    "start_time": "2022-12-26T07:37:33.729Z"
   },
   {
    "duration": 9,
    "start_time": "2022-12-26T07:37:33.771Z"
   },
   {
    "duration": 11,
    "start_time": "2022-12-26T07:37:33.781Z"
   },
   {
    "duration": 75,
    "start_time": "2022-12-26T07:37:33.794Z"
   },
   {
    "duration": 17,
    "start_time": "2022-12-26T07:37:33.870Z"
   },
   {
    "duration": 56,
    "start_time": "2022-12-26T07:37:33.888Z"
   },
   {
    "duration": 9,
    "start_time": "2022-12-26T07:37:33.948Z"
   },
   {
    "duration": 7,
    "start_time": "2022-12-26T07:37:33.959Z"
   },
   {
    "duration": 65,
    "start_time": "2022-12-26T07:37:33.967Z"
   },
   {
    "duration": 18,
    "start_time": "2022-12-26T07:37:34.033Z"
   },
   {
    "duration": 51,
    "start_time": "2022-12-26T07:37:34.054Z"
   },
   {
    "duration": 13,
    "start_time": "2022-12-26T07:37:34.122Z"
   },
   {
    "duration": 18,
    "start_time": "2022-12-26T07:37:34.137Z"
   },
   {
    "duration": 73,
    "start_time": "2022-12-26T07:37:34.158Z"
   },
   {
    "duration": 13,
    "start_time": "2022-12-26T07:37:34.233Z"
   },
   {
    "duration": 355,
    "start_time": "2022-12-26T07:37:34.248Z"
   },
   {
    "duration": 326,
    "start_time": "2022-12-26T07:37:34.605Z"
   },
   {
    "duration": 313,
    "start_time": "2022-12-26T07:37:34.932Z"
   },
   {
    "duration": 803,
    "start_time": "2022-12-26T07:37:35.246Z"
   },
   {
    "duration": 696,
    "start_time": "2022-12-26T07:37:36.051Z"
   },
   {
    "duration": 674,
    "start_time": "2022-12-26T07:37:36.749Z"
   },
   {
    "duration": 10,
    "start_time": "2022-12-26T07:37:37.425Z"
   },
   {
    "duration": 32,
    "start_time": "2022-12-26T07:37:37.437Z"
   },
   {
    "duration": 55,
    "start_time": "2022-12-26T07:37:37.471Z"
   },
   {
    "duration": 101,
    "start_time": "2022-12-26T07:37:37.530Z"
   },
   {
    "duration": 192,
    "start_time": "2022-12-26T07:37:37.633Z"
   },
   {
    "duration": 101,
    "start_time": "2022-12-26T07:37:37.827Z"
   },
   {
    "duration": 7,
    "start_time": "2022-12-26T07:37:37.930Z"
   },
   {
    "duration": 6,
    "start_time": "2022-12-26T07:37:37.938Z"
   },
   {
    "duration": 7,
    "start_time": "2022-12-26T07:37:37.946Z"
   },
   {
    "duration": 6,
    "start_time": "2022-12-26T07:37:37.955Z"
   },
   {
    "duration": 8,
    "start_time": "2022-12-26T07:37:37.962Z"
   },
   {
    "duration": 159,
    "start_time": "2022-12-26T07:37:37.972Z"
   },
   {
    "duration": 7,
    "start_time": "2022-12-26T07:37:38.133Z"
   },
   {
    "duration": 9,
    "start_time": "2022-12-26T07:37:38.142Z"
   },
   {
    "duration": 3,
    "start_time": "2022-12-26T07:37:38.153Z"
   },
   {
    "duration": 8,
    "start_time": "2022-12-26T07:37:38.157Z"
   },
   {
    "duration": 6,
    "start_time": "2022-12-26T07:37:38.167Z"
   },
   {
    "duration": 1501,
    "start_time": "2022-12-26T07:37:38.175Z"
   },
   {
    "duration": 1465,
    "start_time": "2022-12-26T07:37:39.677Z"
   },
   {
    "duration": 1471,
    "start_time": "2022-12-26T07:37:41.143Z"
   },
   {
    "duration": 3,
    "start_time": "2022-12-26T07:41:11.548Z"
   },
   {
    "duration": 114,
    "start_time": "2022-12-26T07:41:12.612Z"
   },
   {
    "duration": 3,
    "start_time": "2022-12-26T07:41:36.698Z"
   },
   {
    "duration": 8,
    "start_time": "2022-12-26T07:41:38.162Z"
   },
   {
    "duration": 6,
    "start_time": "2022-12-26T07:41:39.881Z"
   },
   {
    "duration": 7,
    "start_time": "2022-12-26T07:41:43.888Z"
   },
   {
    "duration": 5,
    "start_time": "2022-12-26T07:44:16.785Z"
   },
   {
    "duration": 14,
    "start_time": "2022-12-26T07:44:18.204Z"
   },
   {
    "duration": 3,
    "start_time": "2022-12-26T07:44:47.038Z"
   },
   {
    "duration": 15,
    "start_time": "2022-12-26T07:44:48.107Z"
   },
   {
    "duration": 3,
    "start_time": "2022-12-26T07:45:01.305Z"
   },
   {
    "duration": 9,
    "start_time": "2022-12-26T07:45:02.303Z"
   },
   {
    "duration": 10,
    "start_time": "2022-12-26T07:45:04.094Z"
   },
   {
    "duration": 9,
    "start_time": "2022-12-26T07:45:05.814Z"
   },
   {
    "duration": 1332,
    "start_time": "2022-12-26T07:45:35.927Z"
   },
   {
    "duration": 351,
    "start_time": "2022-12-26T07:45:37.261Z"
   },
   {
    "duration": 18,
    "start_time": "2022-12-26T07:45:37.614Z"
   },
   {
    "duration": 46,
    "start_time": "2022-12-26T07:45:37.634Z"
   },
   {
    "duration": 10,
    "start_time": "2022-12-26T07:45:37.682Z"
   },
   {
    "duration": 8,
    "start_time": "2022-12-26T07:45:37.694Z"
   },
   {
    "duration": 64,
    "start_time": "2022-12-26T07:45:37.703Z"
   },
   {
    "duration": 14,
    "start_time": "2022-12-26T07:45:37.768Z"
   },
   {
    "duration": 53,
    "start_time": "2022-12-26T07:45:37.783Z"
   },
   {
    "duration": 9,
    "start_time": "2022-12-26T07:45:37.838Z"
   },
   {
    "duration": 8,
    "start_time": "2022-12-26T07:45:37.850Z"
   },
   {
    "duration": 66,
    "start_time": "2022-12-26T07:45:37.860Z"
   },
   {
    "duration": 14,
    "start_time": "2022-12-26T07:45:37.928Z"
   },
   {
    "duration": 37,
    "start_time": "2022-12-26T07:45:37.945Z"
   },
   {
    "duration": 8,
    "start_time": "2022-12-26T07:45:37.984Z"
   },
   {
    "duration": 31,
    "start_time": "2022-12-26T07:45:37.994Z"
   },
   {
    "duration": 44,
    "start_time": "2022-12-26T07:45:38.027Z"
   },
   {
    "duration": 11,
    "start_time": "2022-12-26T07:45:38.072Z"
   },
   {
    "duration": 372,
    "start_time": "2022-12-26T07:45:38.084Z"
   },
   {
    "duration": 308,
    "start_time": "2022-12-26T07:45:38.457Z"
   },
   {
    "duration": 353,
    "start_time": "2022-12-26T07:45:38.766Z"
   },
   {
    "duration": 770,
    "start_time": "2022-12-26T07:45:39.121Z"
   },
   {
    "duration": 671,
    "start_time": "2022-12-26T07:45:39.893Z"
   },
   {
    "duration": 673,
    "start_time": "2022-12-26T07:45:40.566Z"
   },
   {
    "duration": 10,
    "start_time": "2022-12-26T07:45:41.240Z"
   },
   {
    "duration": 31,
    "start_time": "2022-12-26T07:45:41.251Z"
   },
   {
    "duration": 39,
    "start_time": "2022-12-26T07:45:41.284Z"
   },
   {
    "duration": 233,
    "start_time": "2022-12-26T07:45:41.324Z"
   },
   {
    "duration": 165,
    "start_time": "2022-12-26T07:45:41.560Z"
   },
   {
    "duration": 102,
    "start_time": "2022-12-26T07:45:41.727Z"
   },
   {
    "duration": 8,
    "start_time": "2022-12-26T07:45:41.830Z"
   },
   {
    "duration": 6,
    "start_time": "2022-12-26T07:45:41.840Z"
   },
   {
    "duration": 7,
    "start_time": "2022-12-26T07:45:41.848Z"
   },
   {
    "duration": 72,
    "start_time": "2022-12-26T07:45:41.857Z"
   },
   {
    "duration": 6,
    "start_time": "2022-12-26T07:45:41.931Z"
   },
   {
    "duration": 11,
    "start_time": "2022-12-26T07:45:41.939Z"
   },
   {
    "duration": 7,
    "start_time": "2022-12-26T07:45:41.951Z"
   },
   {
    "duration": 8,
    "start_time": "2022-12-26T07:45:41.960Z"
   },
   {
    "duration": 3,
    "start_time": "2022-12-26T07:45:41.970Z"
   },
   {
    "duration": 4,
    "start_time": "2022-12-26T07:45:41.975Z"
   },
   {
    "duration": 15,
    "start_time": "2022-12-26T07:45:41.984Z"
   },
   {
    "duration": 1526,
    "start_time": "2022-12-26T07:45:42.001Z"
   },
   {
    "duration": 1532,
    "start_time": "2022-12-26T07:45:43.529Z"
   },
   {
    "duration": 1446,
    "start_time": "2022-12-26T07:45:45.063Z"
   },
   {
    "duration": 1423,
    "start_time": "2022-12-26T07:45:59.265Z"
   },
   {
    "duration": 1455,
    "start_time": "2022-12-26T07:46:02.525Z"
   },
   {
    "duration": 1434,
    "start_time": "2022-12-26T07:46:05.483Z"
   },
   {
    "duration": 1403,
    "start_time": "2022-12-26T07:47:24.787Z"
   },
   {
    "duration": 345,
    "start_time": "2022-12-26T07:47:26.192Z"
   },
   {
    "duration": 15,
    "start_time": "2022-12-26T07:47:26.539Z"
   },
   {
    "duration": 42,
    "start_time": "2022-12-26T07:47:26.556Z"
   },
   {
    "duration": 24,
    "start_time": "2022-12-26T07:47:26.600Z"
   },
   {
    "duration": 7,
    "start_time": "2022-12-26T07:47:26.626Z"
   },
   {
    "duration": 46,
    "start_time": "2022-12-26T07:47:26.635Z"
   },
   {
    "duration": 14,
    "start_time": "2022-12-26T07:47:26.683Z"
   },
   {
    "duration": 35,
    "start_time": "2022-12-26T07:47:26.722Z"
   },
   {
    "duration": 9,
    "start_time": "2022-12-26T07:47:26.760Z"
   },
   {
    "duration": 19,
    "start_time": "2022-12-26T07:47:26.770Z"
   },
   {
    "duration": 58,
    "start_time": "2022-12-26T07:47:26.791Z"
   },
   {
    "duration": 14,
    "start_time": "2022-12-26T07:47:26.850Z"
   },
   {
    "duration": 38,
    "start_time": "2022-12-26T07:47:26.865Z"
   },
   {
    "duration": 10,
    "start_time": "2022-12-26T07:47:26.922Z"
   },
   {
    "duration": 12,
    "start_time": "2022-12-26T07:47:26.933Z"
   },
   {
    "duration": 47,
    "start_time": "2022-12-26T07:47:26.947Z"
   },
   {
    "duration": 10,
    "start_time": "2022-12-26T07:47:26.996Z"
   },
   {
    "duration": 335,
    "start_time": "2022-12-26T07:47:27.021Z"
   },
   {
    "duration": 302,
    "start_time": "2022-12-26T07:47:27.358Z"
   },
   {
    "duration": 317,
    "start_time": "2022-12-26T07:47:27.662Z"
   },
   {
    "duration": 786,
    "start_time": "2022-12-26T07:47:27.981Z"
   },
   {
    "duration": 685,
    "start_time": "2022-12-26T07:47:28.769Z"
   },
   {
    "duration": 693,
    "start_time": "2022-12-26T07:47:29.456Z"
   },
   {
    "duration": 10,
    "start_time": "2022-12-26T07:47:30.151Z"
   },
   {
    "duration": 53,
    "start_time": "2022-12-26T07:47:30.162Z"
   },
   {
    "duration": 17,
    "start_time": "2022-12-26T07:47:30.217Z"
   },
   {
    "duration": 196,
    "start_time": "2022-12-26T07:47:30.238Z"
   },
   {
    "duration": 188,
    "start_time": "2022-12-26T07:47:30.436Z"
   },
   {
    "duration": 98,
    "start_time": "2022-12-26T07:47:30.627Z"
   },
   {
    "duration": 16,
    "start_time": "2022-12-26T07:47:30.727Z"
   },
   {
    "duration": 49,
    "start_time": "2022-12-26T07:47:30.745Z"
   },
   {
    "duration": 21,
    "start_time": "2022-12-26T07:47:30.796Z"
   },
   {
    "duration": 27,
    "start_time": "2022-12-26T07:47:30.819Z"
   },
   {
    "duration": 17,
    "start_time": "2022-12-26T07:47:30.848Z"
   },
   {
    "duration": 237,
    "start_time": "2022-12-26T07:47:30.867Z"
   },
   {
    "duration": 0,
    "start_time": "2022-12-26T07:47:31.106Z"
   },
   {
    "duration": 0,
    "start_time": "2022-12-26T07:47:31.108Z"
   },
   {
    "duration": 0,
    "start_time": "2022-12-26T07:47:31.109Z"
   },
   {
    "duration": 0,
    "start_time": "2022-12-26T07:47:31.111Z"
   },
   {
    "duration": 0,
    "start_time": "2022-12-26T07:47:31.112Z"
   },
   {
    "duration": 0,
    "start_time": "2022-12-26T07:47:31.122Z"
   },
   {
    "duration": 0,
    "start_time": "2022-12-26T07:47:31.123Z"
   },
   {
    "duration": 0,
    "start_time": "2022-12-26T07:47:31.125Z"
   },
   {
    "duration": 1390,
    "start_time": "2022-12-26T07:47:49.206Z"
   },
   {
    "duration": 349,
    "start_time": "2022-12-26T07:47:50.598Z"
   },
   {
    "duration": 15,
    "start_time": "2022-12-26T07:47:50.948Z"
   },
   {
    "duration": 45,
    "start_time": "2022-12-26T07:47:50.965Z"
   },
   {
    "duration": 18,
    "start_time": "2022-12-26T07:47:51.011Z"
   },
   {
    "duration": 6,
    "start_time": "2022-12-26T07:47:51.031Z"
   },
   {
    "duration": 47,
    "start_time": "2022-12-26T07:47:51.039Z"
   },
   {
    "duration": 38,
    "start_time": "2022-12-26T07:47:51.088Z"
   },
   {
    "duration": 35,
    "start_time": "2022-12-26T07:47:51.128Z"
   },
   {
    "duration": 9,
    "start_time": "2022-12-26T07:47:51.166Z"
   },
   {
    "duration": 10,
    "start_time": "2022-12-26T07:47:51.177Z"
   },
   {
    "duration": 69,
    "start_time": "2022-12-26T07:47:51.189Z"
   },
   {
    "duration": 14,
    "start_time": "2022-12-26T07:47:51.259Z"
   },
   {
    "duration": 51,
    "start_time": "2022-12-26T07:47:51.274Z"
   },
   {
    "duration": 8,
    "start_time": "2022-12-26T07:47:51.327Z"
   },
   {
    "duration": 7,
    "start_time": "2022-12-26T07:47:51.337Z"
   },
   {
    "duration": 44,
    "start_time": "2022-12-26T07:47:51.346Z"
   },
   {
    "duration": 9,
    "start_time": "2022-12-26T07:47:51.392Z"
   },
   {
    "duration": 338,
    "start_time": "2022-12-26T07:47:51.422Z"
   },
   {
    "duration": 362,
    "start_time": "2022-12-26T07:47:51.762Z"
   },
   {
    "duration": 319,
    "start_time": "2022-12-26T07:47:52.126Z"
   },
   {
    "duration": 765,
    "start_time": "2022-12-26T07:47:52.446Z"
   },
   {
    "duration": 701,
    "start_time": "2022-12-26T07:47:53.213Z"
   },
   {
    "duration": 757,
    "start_time": "2022-12-26T07:47:53.915Z"
   },
   {
    "duration": 10,
    "start_time": "2022-12-26T07:47:54.673Z"
   },
   {
    "duration": 47,
    "start_time": "2022-12-26T07:47:54.684Z"
   },
   {
    "duration": 21,
    "start_time": "2022-12-26T07:47:54.733Z"
   },
   {
    "duration": 168,
    "start_time": "2022-12-26T07:47:54.757Z"
   },
   {
    "duration": 196,
    "start_time": "2022-12-26T07:47:54.927Z"
   },
   {
    "duration": 102,
    "start_time": "2022-12-26T07:47:55.125Z"
   },
   {
    "duration": 11,
    "start_time": "2022-12-26T07:47:55.229Z"
   },
   {
    "duration": 5,
    "start_time": "2022-12-26T07:47:55.242Z"
   },
   {
    "duration": 6,
    "start_time": "2022-12-26T07:47:55.248Z"
   },
   {
    "duration": 5,
    "start_time": "2022-12-26T07:47:55.256Z"
   },
   {
    "duration": 7,
    "start_time": "2022-12-26T07:47:55.262Z"
   },
   {
    "duration": 138,
    "start_time": "2022-12-26T07:47:55.271Z"
   },
   {
    "duration": 16,
    "start_time": "2022-12-26T07:47:55.411Z"
   },
   {
    "duration": 9,
    "start_time": "2022-12-26T07:47:55.428Z"
   },
   {
    "duration": 3,
    "start_time": "2022-12-26T07:47:55.439Z"
   },
   {
    "duration": 5,
    "start_time": "2022-12-26T07:47:55.443Z"
   },
   {
    "duration": 10,
    "start_time": "2022-12-26T07:47:55.450Z"
   },
   {
    "duration": 1508,
    "start_time": "2022-12-26T07:47:55.461Z"
   },
   {
    "duration": 1479,
    "start_time": "2022-12-26T07:47:56.971Z"
   },
   {
    "duration": 1483,
    "start_time": "2022-12-26T07:47:58.452Z"
   },
   {
    "duration": 1421,
    "start_time": "2022-12-26T07:49:14.372Z"
   },
   {
    "duration": 421,
    "start_time": "2022-12-26T07:49:15.795Z"
   },
   {
    "duration": 15,
    "start_time": "2022-12-26T07:49:16.218Z"
   },
   {
    "duration": 66,
    "start_time": "2022-12-26T07:49:16.235Z"
   },
   {
    "duration": 10,
    "start_time": "2022-12-26T07:49:16.303Z"
   },
   {
    "duration": 40,
    "start_time": "2022-12-26T07:49:16.316Z"
   },
   {
    "duration": 74,
    "start_time": "2022-12-26T07:49:16.357Z"
   },
   {
    "duration": 21,
    "start_time": "2022-12-26T07:49:16.433Z"
   },
   {
    "duration": 69,
    "start_time": "2022-12-26T07:49:16.456Z"
   },
   {
    "duration": 13,
    "start_time": "2022-12-26T07:49:16.529Z"
   },
   {
    "duration": 17,
    "start_time": "2022-12-26T07:49:16.544Z"
   },
   {
    "duration": 74,
    "start_time": "2022-12-26T07:49:16.564Z"
   },
   {
    "duration": 22,
    "start_time": "2022-12-26T07:49:16.640Z"
   },
   {
    "duration": 38,
    "start_time": "2022-12-26T07:49:16.663Z"
   },
   {
    "duration": 26,
    "start_time": "2022-12-26T07:49:16.703Z"
   },
   {
    "duration": 17,
    "start_time": "2022-12-26T07:49:16.731Z"
   },
   {
    "duration": 53,
    "start_time": "2022-12-26T07:49:16.750Z"
   },
   {
    "duration": 18,
    "start_time": "2022-12-26T07:49:16.805Z"
   },
   {
    "duration": 399,
    "start_time": "2022-12-26T07:49:16.825Z"
   },
   {
    "duration": 327,
    "start_time": "2022-12-26T07:49:17.226Z"
   },
   {
    "duration": 338,
    "start_time": "2022-12-26T07:49:17.556Z"
   },
   {
    "duration": 825,
    "start_time": "2022-12-26T07:49:17.897Z"
   },
   {
    "duration": 728,
    "start_time": "2022-12-26T07:49:18.724Z"
   },
   {
    "duration": 728,
    "start_time": "2022-12-26T07:49:19.454Z"
   },
   {
    "duration": 10,
    "start_time": "2022-12-26T07:49:20.184Z"
   },
   {
    "duration": 43,
    "start_time": "2022-12-26T07:49:20.196Z"
   },
   {
    "duration": 83,
    "start_time": "2022-12-26T07:49:20.241Z"
   },
   {
    "duration": 105,
    "start_time": "2022-12-26T07:49:20.328Z"
   },
   {
    "duration": 97,
    "start_time": "2022-12-26T07:49:20.435Z"
   },
   {
    "duration": 99,
    "start_time": "2022-12-26T07:49:20.628Z"
   },
   {
    "duration": 17,
    "start_time": "2022-12-26T07:49:20.729Z"
   },
   {
    "duration": 7,
    "start_time": "2022-12-26T07:49:20.748Z"
   },
   {
    "duration": 7,
    "start_time": "2022-12-26T07:49:20.757Z"
   },
   {
    "duration": 6,
    "start_time": "2022-12-26T07:49:20.766Z"
   },
   {
    "duration": 8,
    "start_time": "2022-12-26T07:49:20.773Z"
   },
   {
    "duration": 143,
    "start_time": "2022-12-26T07:49:20.783Z"
   },
   {
    "duration": 9,
    "start_time": "2022-12-26T07:49:20.928Z"
   },
   {
    "duration": 10,
    "start_time": "2022-12-26T07:49:20.939Z"
   },
   {
    "duration": 3,
    "start_time": "2022-12-26T07:49:20.951Z"
   },
   {
    "duration": 7,
    "start_time": "2022-12-26T07:49:20.956Z"
   },
   {
    "duration": 1551,
    "start_time": "2022-12-26T07:49:20.965Z"
   },
   {
    "duration": 1562,
    "start_time": "2022-12-26T07:49:22.522Z"
   },
   {
    "duration": 1582,
    "start_time": "2022-12-26T07:49:24.086Z"
   },
   {
    "duration": 10,
    "start_time": "2022-12-26T07:51:17.958Z"
   },
   {
    "duration": 1354,
    "start_time": "2022-12-26T07:52:41.009Z"
   },
   {
    "duration": 361,
    "start_time": "2022-12-26T07:52:42.365Z"
   },
   {
    "duration": 13,
    "start_time": "2022-12-26T07:52:42.728Z"
   },
   {
    "duration": 41,
    "start_time": "2022-12-26T07:52:42.743Z"
   },
   {
    "duration": 9,
    "start_time": "2022-12-26T07:52:42.786Z"
   },
   {
    "duration": 29,
    "start_time": "2022-12-26T07:52:42.796Z"
   },
   {
    "duration": 65,
    "start_time": "2022-12-26T07:52:42.827Z"
   },
   {
    "duration": 13,
    "start_time": "2022-12-26T07:52:42.894Z"
   },
   {
    "duration": 39,
    "start_time": "2022-12-26T07:52:42.909Z"
   },
   {
    "duration": 9,
    "start_time": "2022-12-26T07:52:42.950Z"
   },
   {
    "duration": 17,
    "start_time": "2022-12-26T07:52:42.961Z"
   },
   {
    "duration": 74,
    "start_time": "2022-12-26T07:52:42.980Z"
   },
   {
    "duration": 15,
    "start_time": "2022-12-26T07:52:43.056Z"
   },
   {
    "duration": 36,
    "start_time": "2022-12-26T07:52:43.072Z"
   },
   {
    "duration": 9,
    "start_time": "2022-12-26T07:52:43.121Z"
   },
   {
    "duration": 12,
    "start_time": "2022-12-26T07:52:43.132Z"
   },
   {
    "duration": 65,
    "start_time": "2022-12-26T07:52:43.146Z"
   },
   {
    "duration": 10,
    "start_time": "2022-12-26T07:52:43.212Z"
   },
   {
    "duration": 328,
    "start_time": "2022-12-26T07:52:43.224Z"
   },
   {
    "duration": 290,
    "start_time": "2022-12-26T07:52:43.553Z"
   },
   {
    "duration": 327,
    "start_time": "2022-12-26T07:52:43.844Z"
   },
   {
    "duration": 763,
    "start_time": "2022-12-26T07:52:44.173Z"
   },
   {
    "duration": 669,
    "start_time": "2022-12-26T07:52:44.939Z"
   },
   {
    "duration": 695,
    "start_time": "2022-12-26T07:52:45.609Z"
   },
   {
    "duration": 17,
    "start_time": "2022-12-26T07:52:46.305Z"
   },
   {
    "duration": 36,
    "start_time": "2022-12-26T07:52:46.324Z"
   },
   {
    "duration": 16,
    "start_time": "2022-12-26T07:52:46.362Z"
   },
   {
    "duration": 105,
    "start_time": "2022-12-26T07:52:46.426Z"
   },
   {
    "duration": 192,
    "start_time": "2022-12-26T07:52:46.533Z"
   },
   {
    "duration": 100,
    "start_time": "2022-12-26T07:52:46.726Z"
   },
   {
    "duration": 95,
    "start_time": "2022-12-26T07:52:46.828Z"
   },
   {
    "duration": 2,
    "start_time": "2022-12-26T07:52:46.925Z"
   },
   {
    "duration": 7,
    "start_time": "2022-12-26T07:52:46.929Z"
   },
   {
    "duration": 6,
    "start_time": "2022-12-26T07:52:46.937Z"
   },
   {
    "duration": 12,
    "start_time": "2022-12-26T07:52:46.944Z"
   },
   {
    "duration": 133,
    "start_time": "2022-12-26T07:52:46.957Z"
   },
   {
    "duration": 9,
    "start_time": "2022-12-26T07:52:47.091Z"
   },
   {
    "duration": 8,
    "start_time": "2022-12-26T07:52:47.101Z"
   },
   {
    "duration": 3,
    "start_time": "2022-12-26T07:52:47.121Z"
   },
   {
    "duration": 6,
    "start_time": "2022-12-26T07:52:47.126Z"
   },
   {
    "duration": 1484,
    "start_time": "2022-12-26T07:52:47.133Z"
   },
   {
    "duration": 1526,
    "start_time": "2022-12-26T07:52:48.621Z"
   },
   {
    "duration": 1482,
    "start_time": "2022-12-26T07:52:50.149Z"
   },
   {
    "duration": 6,
    "start_time": "2022-12-26T07:58:08.273Z"
   },
   {
    "duration": 117,
    "start_time": "2022-12-26T07:58:10.047Z"
   },
   {
    "duration": 1461,
    "start_time": "2022-12-26T07:58:20.445Z"
   },
   {
    "duration": 383,
    "start_time": "2022-12-26T07:58:21.908Z"
   },
   {
    "duration": 16,
    "start_time": "2022-12-26T07:58:22.292Z"
   },
   {
    "duration": 52,
    "start_time": "2022-12-26T07:58:22.310Z"
   },
   {
    "duration": 10,
    "start_time": "2022-12-26T07:58:22.363Z"
   },
   {
    "duration": 16,
    "start_time": "2022-12-26T07:58:22.375Z"
   },
   {
    "duration": 64,
    "start_time": "2022-12-26T07:58:22.392Z"
   },
   {
    "duration": 13,
    "start_time": "2022-12-26T07:58:22.457Z"
   },
   {
    "duration": 50,
    "start_time": "2022-12-26T07:58:22.472Z"
   },
   {
    "duration": 9,
    "start_time": "2022-12-26T07:58:22.525Z"
   },
   {
    "duration": 20,
    "start_time": "2022-12-26T07:58:22.535Z"
   },
   {
    "duration": 50,
    "start_time": "2022-12-26T07:58:22.556Z"
   },
   {
    "duration": 17,
    "start_time": "2022-12-26T07:58:22.607Z"
   },
   {
    "duration": 37,
    "start_time": "2022-12-26T07:58:22.626Z"
   },
   {
    "duration": 10,
    "start_time": "2022-12-26T07:58:22.665Z"
   },
   {
    "duration": 17,
    "start_time": "2022-12-26T07:58:22.677Z"
   },
   {
    "duration": 62,
    "start_time": "2022-12-26T07:58:22.696Z"
   },
   {
    "duration": 10,
    "start_time": "2022-12-26T07:58:22.760Z"
   },
   {
    "duration": 382,
    "start_time": "2022-12-26T07:58:22.771Z"
   },
   {
    "duration": 324,
    "start_time": "2022-12-26T07:58:23.155Z"
   },
   {
    "duration": 359,
    "start_time": "2022-12-26T07:58:23.481Z"
   },
   {
    "duration": 831,
    "start_time": "2022-12-26T07:58:23.842Z"
   },
   {
    "duration": 696,
    "start_time": "2022-12-26T07:58:24.675Z"
   },
   {
    "duration": 719,
    "start_time": "2022-12-26T07:58:25.373Z"
   },
   {
    "duration": 10,
    "start_time": "2022-12-26T07:58:26.094Z"
   },
   {
    "duration": 59,
    "start_time": "2022-12-26T07:58:26.105Z"
   },
   {
    "duration": 58,
    "start_time": "2022-12-26T07:58:26.166Z"
   },
   {
    "duration": 103,
    "start_time": "2022-12-26T07:58:26.228Z"
   },
   {
    "duration": 189,
    "start_time": "2022-12-26T07:58:26.333Z"
   },
   {
    "duration": 101,
    "start_time": "2022-12-26T07:58:26.524Z"
   },
   {
    "duration": 19,
    "start_time": "2022-12-26T07:58:26.627Z"
   },
   {
    "duration": 17,
    "start_time": "2022-12-26T07:58:26.648Z"
   },
   {
    "duration": 45,
    "start_time": "2022-12-26T07:58:26.667Z"
   },
   {
    "duration": 22,
    "start_time": "2022-12-26T07:58:26.714Z"
   },
   {
    "duration": 31,
    "start_time": "2022-12-26T07:58:26.738Z"
   },
   {
    "duration": 138,
    "start_time": "2022-12-26T07:58:26.771Z"
   },
   {
    "duration": 11,
    "start_time": "2022-12-26T07:58:26.911Z"
   },
   {
    "duration": 27,
    "start_time": "2022-12-26T07:58:26.923Z"
   },
   {
    "duration": 16,
    "start_time": "2022-12-26T07:58:26.952Z"
   },
   {
    "duration": 27,
    "start_time": "2022-12-26T07:58:26.970Z"
   },
   {
    "duration": 155,
    "start_time": "2022-12-26T07:58:26.999Z"
   },
   {
    "duration": 0,
    "start_time": "2022-12-26T07:58:27.156Z"
   },
   {
    "duration": 0,
    "start_time": "2022-12-26T07:58:27.157Z"
   },
   {
    "duration": 5,
    "start_time": "2022-12-26T07:58:41.037Z"
   },
   {
    "duration": 1509,
    "start_time": "2022-12-26T07:58:42.695Z"
   },
   {
    "duration": 1345,
    "start_time": "2022-12-26T07:59:16.646Z"
   },
   {
    "duration": 345,
    "start_time": "2022-12-26T07:59:17.992Z"
   },
   {
    "duration": 14,
    "start_time": "2022-12-26T07:59:18.339Z"
   },
   {
    "duration": 52,
    "start_time": "2022-12-26T07:59:18.355Z"
   },
   {
    "duration": 16,
    "start_time": "2022-12-26T07:59:18.409Z"
   },
   {
    "duration": 16,
    "start_time": "2022-12-26T07:59:18.426Z"
   },
   {
    "duration": 46,
    "start_time": "2022-12-26T07:59:18.443Z"
   },
   {
    "duration": 14,
    "start_time": "2022-12-26T07:59:18.490Z"
   },
   {
    "duration": 48,
    "start_time": "2022-12-26T07:59:18.506Z"
   },
   {
    "duration": 8,
    "start_time": "2022-12-26T07:59:18.558Z"
   },
   {
    "duration": 9,
    "start_time": "2022-12-26T07:59:18.568Z"
   },
   {
    "duration": 64,
    "start_time": "2022-12-26T07:59:18.579Z"
   },
   {
    "duration": 15,
    "start_time": "2022-12-26T07:59:18.645Z"
   },
   {
    "duration": 35,
    "start_time": "2022-12-26T07:59:18.661Z"
   },
   {
    "duration": 28,
    "start_time": "2022-12-26T07:59:18.698Z"
   },
   {
    "duration": 6,
    "start_time": "2022-12-26T07:59:18.728Z"
   },
   {
    "duration": 44,
    "start_time": "2022-12-26T07:59:18.736Z"
   },
   {
    "duration": 10,
    "start_time": "2022-12-26T07:59:18.781Z"
   },
   {
    "duration": 381,
    "start_time": "2022-12-26T07:59:18.793Z"
   },
   {
    "duration": 350,
    "start_time": "2022-12-26T07:59:19.175Z"
   },
   {
    "duration": 311,
    "start_time": "2022-12-26T07:59:19.527Z"
   },
   {
    "duration": 746,
    "start_time": "2022-12-26T07:59:19.840Z"
   },
   {
    "duration": 671,
    "start_time": "2022-12-26T07:59:20.588Z"
   },
   {
    "duration": 703,
    "start_time": "2022-12-26T07:59:21.260Z"
   },
   {
    "duration": 10,
    "start_time": "2022-12-26T07:59:21.965Z"
   },
   {
    "duration": 45,
    "start_time": "2022-12-26T07:59:21.977Z"
   },
   {
    "duration": 98,
    "start_time": "2022-12-26T07:59:22.024Z"
   },
   {
    "duration": 104,
    "start_time": "2022-12-26T07:59:22.126Z"
   },
   {
    "duration": 95,
    "start_time": "2022-12-26T07:59:22.232Z"
   },
   {
    "duration": 96,
    "start_time": "2022-12-26T07:59:22.329Z"
   },
   {
    "duration": 98,
    "start_time": "2022-12-26T07:59:22.427Z"
   },
   {
    "duration": 5,
    "start_time": "2022-12-26T07:59:22.526Z"
   },
   {
    "duration": 6,
    "start_time": "2022-12-26T07:59:22.532Z"
   },
   {
    "duration": 5,
    "start_time": "2022-12-26T07:59:22.540Z"
   },
   {
    "duration": 6,
    "start_time": "2022-12-26T07:59:22.547Z"
   },
   {
    "duration": 127,
    "start_time": "2022-12-26T07:59:22.555Z"
   },
   {
    "duration": 8,
    "start_time": "2022-12-26T07:59:22.684Z"
   },
   {
    "duration": 8,
    "start_time": "2022-12-26T07:59:22.694Z"
   },
   {
    "duration": 19,
    "start_time": "2022-12-26T07:59:22.703Z"
   },
   {
    "duration": 7,
    "start_time": "2022-12-26T07:59:22.724Z"
   },
   {
    "duration": 1666,
    "start_time": "2022-12-26T07:59:22.733Z"
   },
   {
    "duration": 0,
    "start_time": "2022-12-26T07:59:24.401Z"
   },
   {
    "duration": 0,
    "start_time": "2022-12-26T07:59:24.402Z"
   },
   {
    "duration": 6,
    "start_time": "2022-12-26T08:00:55.618Z"
   },
   {
    "duration": 1582,
    "start_time": "2022-12-26T08:00:57.429Z"
   },
   {
    "duration": 1514,
    "start_time": "2022-12-26T08:01:10.208Z"
   },
   {
    "duration": 1582,
    "start_time": "2022-12-26T08:01:13.674Z"
   }
  ],
  "kernelspec": {
   "display_name": "Python 3 (ipykernel)",
   "language": "python",
   "name": "python3"
  },
  "language_info": {
   "codemirror_mode": {
    "name": "ipython",
    "version": 3
   },
   "file_extension": ".py",
   "mimetype": "text/x-python",
   "name": "python",
   "nbconvert_exporter": "python",
   "pygments_lexer": "ipython3",
   "version": "3.9.12"
  },
  "toc": {
   "base_numbering": 1,
   "nav_menu": {},
   "number_sections": true,
   "sideBar": true,
   "skip_h1_title": true,
   "title_cell": "Table of Contents",
   "title_sidebar": "Contents",
   "toc_cell": false,
   "toc_position": {},
   "toc_section_display": true,
   "toc_window_display": false
  }
 },
 "nbformat": 4,
 "nbformat_minor": 2
}
